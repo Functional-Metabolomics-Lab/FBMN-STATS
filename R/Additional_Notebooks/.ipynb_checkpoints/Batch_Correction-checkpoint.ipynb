{
 "cells": [
  {
   "cell_type": "markdown",
   "id": "fa786320-bf20-4965-94ae-b7e5e4b380cf",
   "metadata": {
    "id": "fa786320-bf20-4965-94ae-b7e5e4b380cf"
   },
   "source": [
    "# Understanding and Correcting Batch Effects in Untargeted LC/MS-MS Data\n",
    "\n",
    "**Updated on:** 2023-05-02 13:45:44 CEST\n",
    "\n",
    "In this Jupyter Notebook we perform batch correction of an untargeted metabolomics data set.\n",
    "    \n",
    "**Authors**: Abzer Kelminal (abzer.shah@uni-tuebingen.de), Marcelo Navarro-Diaz(marcelo.navarro-diaz@uni-tuebingen.de), Jan Stanstrup (jst@nexs.ku.dk)<br>\n",
    "**Input file format**: .csv files or .txt files <br>\n",
    "**Outputs**: .csv files, .pdf & .svg images  <br>\n",
    "**Dependencies**: pacman, tidyverse, KODAMA, devtools, bisoreg"
   ]
  },
  {
   "cell_type": "markdown",
   "id": "8a21a340-b9f7-411c-ad05-09cae1007ddb",
   "metadata": {
    "id": "8a21a340-b9f7-411c-ad05-09cae1007ddb"
   },
   "source": [
    "Assuming that users of this notebook have previously worked with the Stats Notebook on \"Performing basic uni- and multivariate statistical analysis of untargeted metabolomics data\" [![Open in Colab](https://colab.research.google.com/assets/colab-badge.svg)](https://colab.research.google.com/github/Functional-Metabolomics-Lab/FBMN-STATS/blob/main/Stats_Untargeted_Metabolomics.ipynb), we'll directly proceed with loading the required files and demonstrating Batch Correction.\n",
    "\n",
    "---"
   ]
  },
  {
   "cell_type": "markdown",
   "id": "a091c0c4-66e6-4318-ab64-63f8cb1c9301",
   "metadata": {
    "id": "a091c0c4-66e6-4318-ab64-63f8cb1c9301"
   },
   "source": [
    "## Introduction on Batch Effects\n",
    "\n",
    "<p style='text-align: justify;'> A 'Batch' is a group of samples processed and analyzed by the same experimental & instrumental conditions in the same short time period. In general, if we have more samples than the tray size, we might measure them as multiple batches or groups. To maintain biological diversity within a batch, it is advised to have QCs, blanks, and controls alongside the samples of interest (Wehrens et al., 2016). Before merging data across batches, it's essential to identify and correct batch-effects, both within and between batches.<b> Prior to performing batch correction, we should evaluate the severity of the batch effect. When it is small, it is best to avoid batch correction as this may result in an incorrect estimation of the biological variance in the data. Instead, we should treat the statistical results with caution (Nygaard et al., 2016). For more details, please read the manuscript </b>.</p>\n",
    "\n",
    "<p style='text-align: justify;'>Now, let's look at how one can perform inter- and intra- batch corrections. Several methods are used for batch corrections and a comprehensive overview is provided in the manuscript. We will demonstrate one such method here in the following sections.</p>\n",
    "\n",
    "<p style='text-align: justify; border: 1px solid black; padding: 10px;'>\n",
    "<b>Disclaimer:</b> This notebook is designed as a supplementary guide to the FBMS-STATS protocol. It offers an introduction to addressing batch correction when batch effects are detected and pooled QCs are present. However, we don't cover all aspects of batch correction, as it extends beyond the scope of our FBMN-STATS project. For a comprehensive understanding, please refer to specialized literature and seek advice from experts in batch correction before implementing these techniques.\n",
    "</p>"
   ]
  },
  {
   "cell_type": "markdown",
   "id": "c191889a-156b-4ed6-9d82-6c0c13e8f607",
   "metadata": {},
   "source": [
    "## Install and load packages"
   ]
  },
  {
   "cell_type": "code",
   "execution_count": 1,
   "id": "798ba461-04b0-4cd3-8eab-3acfe41f5607",
   "metadata": {},
   "outputs": [
    {
     "name": "stderr",
     "output_type": "stream",
     "text": [
      "Loading required package: pacman\n",
      "\n"
     ]
    }
   ],
   "source": [
    "options(install.packages.compile.from.source=\"never\")\n",
    "\n",
    "if (!require(\"pacman\")) install.packages(\"pacman\") #Installing pacman if not present\n",
    "pacman::p_load(\"tidyverse\", \"KODAMA\", \"devtools\") # install and load the necessary packages"
   ]
  },
  {
   "cell_type": "code",
   "execution_count": 2,
   "id": "eb705b2a-8b44-45b3-8f2b-407c5ca5e8d1",
   "metadata": {},
   "outputs": [
    {
     "name": "stderr",
     "output_type": "stream",
     "text": [
      "Downloading GitHub repo cran/bisoreg@HEAD\n",
      "\n"
     ]
    },
    {
     "name": "stdout",
     "output_type": "stream",
     "text": [
      "\n",
      "\u001b[36m--\u001b[39m \u001b[36mR CMD build\u001b[39m \u001b[36m-----------------------------------------------------------------\u001b[39m\n",
      "* checking for file 'C:\\Users\\abzer\\AppData\\Local\\Temp\\RtmpAbr0SN\\remotesa1c29657531\\cran-bisoreg-d612ac2/DESCRIPTION' ... OK\n",
      "* preparing 'bisoreg':\n",
      "* checking DESCRIPTION meta-information ... OK\n",
      "* cleaning src\n",
      "* checking for LF line-endings in source and make files and shell scripts\n",
      "* checking for empty or unneeded directories\n",
      "* looking to see if a 'data/datalist' file should be added\n",
      "* building 'bisoreg_1.5.tar.gz'\n",
      "\n"
     ]
    },
    {
     "name": "stderr",
     "output_type": "stream",
     "text": [
      "Warning message in i.p(...):\n",
      "\"installation of package 'C:/Users/abzer/AppData/Local/Temp/RtmpAbr0SN/filea1c369f626d/bisoreg_1.5.tar.gz' had non-zero exit status\"\n"
     ]
    }
   ],
   "source": [
    "# this 'bisoreg' package installations works well with RStudio instead of Jupyter Notebook\n",
    "devtools::install_github(\"cran/bisoreg\") "
   ]
  },
  {
   "cell_type": "markdown",
   "id": "229c25f6-9029-48ad-a9e2-daf5875984e4",
   "metadata": {
    "id": "229c25f6-9029-48ad-a9e2-daf5875984e4"
   },
   "source": [
    "## Setting a Working Directory\n",
    "To begin the batch correction process, we need to set a working directory and load the input file. In this case, we will load the feature table (ft) merged with metadata (md) table that was generated in the previous notebook (Performing basic uni- and multivariate statistical analsysis of untargeted metabolomics data)."
   ]
  },
  {
   "cell_type": "code",
   "execution_count": 3,
   "id": "1f592527-4be0-43fb-ba8d-cd48fe4b35f5",
   "metadata": {
    "id": "1f592527-4be0-43fb-ba8d-cd48fe4b35f5",
    "outputId": "608b3ea6-fe97-4b78-aafb-b06f90dc17fd"
   },
   "outputs": [
    {
     "name": "stdin",
     "output_type": "stream",
     "text": [
      "Enter the path of the folder with input files on the output box:  D:\\Projects\\Hitchhiker\\Batch_correction\n"
     ]
    }
   ],
   "source": [
    "Directory <- normalizePath(readline(\"Enter the path of the folder with input files on the output box: \"),\"/\",mustWork=FALSE)\n",
    "setwd(Directory)"
   ]
  },
  {
   "cell_type": "markdown",
   "id": "cc0656e1-1170-4bc9-a08d-9ec0dae63600",
   "metadata": {},
   "source": [
    "Here, we will use the ft_md merged file from our GitHub page. It can be found in: 'Functional Metabolomics Lab' GitHub page &rarr; 'FBMN-STATS' Repository &rarr; data &rarr;  'others' folder"
   ]
  },
  {
   "cell_type": "code",
   "execution_count": 141,
   "id": "b6b81f86-31cf-4874-8c03-63f458231fd8",
   "metadata": {},
   "outputs": [],
   "source": [
    "# reading the data from GitHub \n",
    "ft_md_url <- 'https://raw.githubusercontent.com/Functional-Metabolomics-Lab/FBMN-STATS/main/R/outputs_R_Notebook/others/2023-09-07_Ft_md_merged.csv'\n",
    "\n",
    "# Read the merged feature table with metadata\n",
    "# Each row represents a sample with columns being metadata attributes and features\n",
    "ft_merged <-  read.csv(ft_md_url, header = TRUE, check.names = FALSE) "
   ]
  },
  {
   "cell_type": "code",
   "execution_count": 142,
   "id": "483d8cc3-076c-4654-a649-8a385f2f2de4",
   "metadata": {},
   "outputs": [
    {
     "data": {
      "text/html": [
       "<table class=\"dataframe\">\n",
       "<caption>A data.frame: 2 × 11232</caption>\n",
       "<thead>\n",
       "\t<tr><th></th><th scope=col></th><th scope=col>Row.names</th><th scope=col>ATTRIBUTE_Sample_Type</th><th scope=col>ATTRIBUTE_Batch</th><th scope=col>ATTRIBUTE_Month</th><th scope=col>ATTRIBUTE_Year</th><th scope=col>ATTRIBUTE_Sample_Location</th><th scope=col>ATTRIBUTE_Replicate</th><th scope=col>ATTRIBUTE_Spot</th><th scope=col>ATTRIBUTE_Latitude</th><th scope=col>...</th><th scope=col>X92628_241.068_14.313_NA</th><th scope=col>X92636_182.985_14.571_NA;HARMANE CollisionEnergy:102040</th><th scope=col>X92638_208.039_14.764_\"methyl 3-oxo-2-[(3,4,5-trimethoxyphenyl)methylene]benzo[b]furan-5-carboxylate CollisionEnergy:102040\"</th><th scope=col>X92639_167.013_14.697_NA</th><th scope=col>X92640_193.974_14.62_NA</th><th scope=col>X92641_194.117_14.485_NA</th><th scope=col>X92647_158.961_14.747_NA</th><th scope=col>X92648_154.99_14.807_NA</th><th scope=col>X92649_226.951_14.813_NA;TRYPTOPHAN</th><th scope=col>X92651_172.956_14.611_NA;\"6-methoxypurine, oxamethane CollisionEnergy:205060\"</th></tr>\n",
       "\t<tr><th></th><th scope=col>&lt;int&gt;</th><th scope=col>&lt;chr&gt;</th><th scope=col>&lt;chr&gt;</th><th scope=col>&lt;int&gt;</th><th scope=col>&lt;chr&gt;</th><th scope=col>&lt;int&gt;</th><th scope=col>&lt;int&gt;</th><th scope=col>&lt;chr&gt;</th><th scope=col>&lt;int&gt;</th><th scope=col>&lt;dbl&gt;</th><th scope=col>...</th><th scope=col>&lt;dbl&gt;</th><th scope=col>&lt;dbl&gt;</th><th scope=col>&lt;dbl&gt;</th><th scope=col>&lt;dbl&gt;</th><th scope=col>&lt;dbl&gt;</th><th scope=col>&lt;dbl&gt;</th><th scope=col>&lt;dbl&gt;</th><th scope=col>&lt;dbl&gt;</th><th scope=col>&lt;dbl&gt;</th><th scope=col>&lt;dbl&gt;</th></tr>\n",
       "</thead>\n",
       "<tbody>\n",
       "\t<tr><th scope=row>1</th><td>1</td><td>SD_01-2018_1_a.mzXML</td><td>Sample</td><td>2</td><td>Jan</td><td>2018</td><td>1</td><td>a</td><td>1</td><td>32.93365</td><td>...</td><td>36845.35</td><td>109542.0</td><td>68948.27</td><td>302706.5</td><td>42332.20</td><td>843127.0</td><td>22739.38</td><td> 7517.194</td><td>0</td><td>0</td></tr>\n",
       "\t<tr><th scope=row>2</th><td>2</td><td>SD_01-2018_1_b.mzXML</td><td>Sample</td><td>2</td><td>Jan</td><td>2018</td><td>1</td><td>b</td><td>1</td><td>32.93365</td><td>...</td><td>37898.94</td><td>114407.8</td><td>44469.50</td><td>298204.2</td><td>19698.92</td><td>824746.4</td><td> 4960.22</td><td>10084.678</td><td>0</td><td>0</td></tr>\n",
       "</tbody>\n",
       "</table>\n"
      ],
      "text/latex": [
       "A data.frame: 2 × 11232\n",
       "\\begin{tabular}{r|lllllllllllllllllllll}\n",
       "  &  & Row.names & ATTRIBUTE\\_Sample\\_Type & ATTRIBUTE\\_Batch & ATTRIBUTE\\_Month & ATTRIBUTE\\_Year & ATTRIBUTE\\_Sample\\_Location & ATTRIBUTE\\_Replicate & ATTRIBUTE\\_Spot & ATTRIBUTE\\_Latitude & ... & X92628\\_241.068\\_14.313\\_NA & X92636\\_182.985\\_14.571\\_NA;HARMANE CollisionEnergy:102040 & X92638\\_208.039\\_14.764\\_\"methyl 3-oxo-2-{[}(3,4,5-trimethoxyphenyl)methylene{]}benzo{[}b{]}furan-5-carboxylate CollisionEnergy:102040\" & X92639\\_167.013\\_14.697\\_NA & X92640\\_193.974\\_14.62\\_NA & X92641\\_194.117\\_14.485\\_NA & X92647\\_158.961\\_14.747\\_NA & X92648\\_154.99\\_14.807\\_NA & X92649\\_226.951\\_14.813\\_NA;TRYPTOPHAN & X92651\\_172.956\\_14.611\\_NA;\"6-methoxypurine, oxamethane CollisionEnergy:205060\"\\\\\n",
       "  & <int> & <chr> & <chr> & <int> & <chr> & <int> & <int> & <chr> & <int> & <dbl> & ... & <dbl> & <dbl> & <dbl> & <dbl> & <dbl> & <dbl> & <dbl> & <dbl> & <dbl> & <dbl>\\\\\n",
       "\\hline\n",
       "\t1 & 1 & SD\\_01-2018\\_1\\_a.mzXML & Sample & 2 & Jan & 2018 & 1 & a & 1 & 32.93365 & ... & 36845.35 & 109542.0 & 68948.27 & 302706.5 & 42332.20 & 843127.0 & 22739.38 &  7517.194 & 0 & 0\\\\\n",
       "\t2 & 2 & SD\\_01-2018\\_1\\_b.mzXML & Sample & 2 & Jan & 2018 & 1 & b & 1 & 32.93365 & ... & 37898.94 & 114407.8 & 44469.50 & 298204.2 & 19698.92 & 824746.4 &  4960.22 & 10084.678 & 0 & 0\\\\\n",
       "\\end{tabular}\n"
      ],
      "text/markdown": [
       "\n",
       "A data.frame: 2 × 11232\n",
       "\n",
       "| <!--/--> | <!----> &lt;int&gt; | Row.names &lt;chr&gt; | ATTRIBUTE_Sample_Type &lt;chr&gt; | ATTRIBUTE_Batch &lt;int&gt; | ATTRIBUTE_Month &lt;chr&gt; | ATTRIBUTE_Year &lt;int&gt; | ATTRIBUTE_Sample_Location &lt;int&gt; | ATTRIBUTE_Replicate &lt;chr&gt; | ATTRIBUTE_Spot &lt;int&gt; | ATTRIBUTE_Latitude &lt;dbl&gt; | ... ... | X92628_241.068_14.313_NA &lt;dbl&gt; | X92636_182.985_14.571_NA;HARMANE CollisionEnergy:102040 &lt;dbl&gt; | X92638_208.039_14.764_\"methyl 3-oxo-2-[(3,4,5-trimethoxyphenyl)methylene]benzo[b]furan-5-carboxylate CollisionEnergy:102040\" &lt;dbl&gt; | X92639_167.013_14.697_NA &lt;dbl&gt; | X92640_193.974_14.62_NA &lt;dbl&gt; | X92641_194.117_14.485_NA &lt;dbl&gt; | X92647_158.961_14.747_NA &lt;dbl&gt; | X92648_154.99_14.807_NA &lt;dbl&gt; | X92649_226.951_14.813_NA;TRYPTOPHAN &lt;dbl&gt; | X92651_172.956_14.611_NA;\"6-methoxypurine, oxamethane CollisionEnergy:205060\" &lt;dbl&gt; |\n",
       "|---|---|---|---|---|---|---|---|---|---|---|---|---|---|---|---|---|---|---|---|---|---|\n",
       "| 1 | 1 | SD_01-2018_1_a.mzXML | Sample | 2 | Jan | 2018 | 1 | a | 1 | 32.93365 | ... | 36845.35 | 109542.0 | 68948.27 | 302706.5 | 42332.20 | 843127.0 | 22739.38 |  7517.194 | 0 | 0 |\n",
       "| 2 | 2 | SD_01-2018_1_b.mzXML | Sample | 2 | Jan | 2018 | 1 | b | 1 | 32.93365 | ... | 37898.94 | 114407.8 | 44469.50 | 298204.2 | 19698.92 | 824746.4 |  4960.22 | 10084.678 | 0 | 0 |\n",
       "\n"
      ],
      "text/plain": [
       "    Row.names            ATTRIBUTE_Sample_Type ATTRIBUTE_Batch ATTRIBUTE_Month\n",
       "1 1 SD_01-2018_1_a.mzXML Sample                2               Jan            \n",
       "2 2 SD_01-2018_1_b.mzXML Sample                2               Jan            \n",
       "  ATTRIBUTE_Year ATTRIBUTE_Sample_Location ATTRIBUTE_Replicate ATTRIBUTE_Spot\n",
       "1 2018           1                         a                   1             \n",
       "2 2018           1                         b                   1             \n",
       "  ATTRIBUTE_Latitude ... X92628_241.068_14.313_NA\n",
       "1 32.93365           ... 36845.35                \n",
       "2 32.93365           ... 37898.94                \n",
       "  X92636_182.985_14.571_NA;HARMANE CollisionEnergy:102040\n",
       "1 109542.0                                               \n",
       "2 114407.8                                               \n",
       "  X92638_208.039_14.764_\"methyl 3-oxo-2-[(3,4,5-trimethoxyphenyl)methylene]benzo[b]furan-5-carboxylate CollisionEnergy:102040\"\n",
       "1 68948.27                                                                                                                    \n",
       "2 44469.50                                                                                                                    \n",
       "  X92639_167.013_14.697_NA X92640_193.974_14.62_NA X92641_194.117_14.485_NA\n",
       "1 302706.5                 42332.20                843127.0                \n",
       "2 298204.2                 19698.92                824746.4                \n",
       "  X92647_158.961_14.747_NA X92648_154.99_14.807_NA\n",
       "1 22739.38                  7517.194              \n",
       "2  4960.22                 10084.678              \n",
       "  X92649_226.951_14.813_NA;TRYPTOPHAN\n",
       "1 0                                  \n",
       "2 0                                  \n",
       "  X92651_172.956_14.611_NA;\"6-methoxypurine, oxamethane CollisionEnergy:205060\"\n",
       "1 0                                                                            \n",
       "2 0                                                                            "
      ]
     },
     "metadata": {},
     "output_type": "display_data"
    },
    {
     "data": {
      "text/html": [
       "<style>\n",
       ".list-inline {list-style: none; margin:0; padding: 0}\n",
       ".list-inline>li {display: inline-block}\n",
       ".list-inline>li:not(:last-child)::after {content: \"\\00b7\"; padding: 0 .5ex}\n",
       "</style>\n",
       "<ol class=list-inline><li>186</li><li>11232</li></ol>\n"
      ],
      "text/latex": [
       "\\begin{enumerate*}\n",
       "\\item 186\n",
       "\\item 11232\n",
       "\\end{enumerate*}\n"
      ],
      "text/markdown": [
       "1. 186\n",
       "2. 11232\n",
       "\n",
       "\n"
      ],
      "text/plain": [
       "[1]   186 11232"
      ]
     },
     "metadata": {},
     "output_type": "display_data"
    }
   ],
   "source": [
    "head(ft_merged, n=2) #returns the first 2 rows of md\n",
    "dim(ft_merged) #returns the number of rows and columns"
   ]
  },
  {
   "cell_type": "code",
   "execution_count": 143,
   "id": "a1c21b54-1830-4d01-8ce0-fc1d398ef1e4",
   "metadata": {},
   "outputs": [],
   "source": [
    "ft_merged <- ft_merged[,-1] #excluding the 1st column"
   ]
  },
  {
   "cell_type": "markdown",
   "id": "459c0f79-e080-42e9-b360-7e5c84b437c6",
   "metadata": {},
   "source": [
    "The user has to define the column names in their data that contains the filename, batch information, injection order information and the pooled QC information."
   ]
  },
  {
   "cell_type": "code",
   "execution_count": 144,
   "id": "a1f271df-d573-4c75-8886-315a96736583",
   "metadata": {},
   "outputs": [],
   "source": [
    "# Prompting the user for column names\n",
    "filename_col <- 'Row.names'\n",
    "batch_info_col <- 'ATTRIBUTE_Batch'\n",
    "qc_info_col <- 'ATTRIBUTE_Sample_Type'\n",
    "injection_col <- 'ATTRIBUTE_Injection_order'"
   ]
  },
  {
   "cell_type": "markdown",
   "id": "b1adbd6e-ab0b-4e23-9db8-2ad43a85cd4a",
   "metadata": {},
   "source": [
    "---\n",
    "**<font size=3><u>CRITICAL:</u></font>**\n",
    "<p style='text-align: justify;'> The dataset we're using is not an ideal representation of both intra- and inter-batch effects. We have selected it primarily because of its use in the main Stats Notebook, ensuring familiarity for users. While this dataset facilitates easy illustration of batch correction steps, there are some limitations. In the following sections, we'll discuss why this dataset might not be suited for comprehensive batch correction and the prerequisites for a dataset to be fit for this purpose. Our approach will start by addressing any inter-batch effects, as their presence can overshadow intra-batch effects. Once inter-batch issues are resolved, it becomes easier to detect and correct for intra-batch effects.</p>\n",
    "\n",
    "--- "
   ]
  },
  {
   "cell_type": "markdown",
   "id": "2e89a97e-b5c4-4369-9cab-fab7a31e476a",
   "metadata": {
    "id": "2e89a97e-b5c4-4369-9cab-fab7a31e476a"
   },
   "source": [
    "## 1. Inter-batch correction\n",
    "<a name=\"inter_batch\"></a>"
   ]
  },
  {
   "cell_type": "markdown",
   "id": "24147e92-6447-4aac-939f-1e1e1140b332",
   "metadata": {
    "id": "24147e92-6447-4aac-939f-1e1e1140b332"
   },
   "source": [
    "<p style='text-align: justify;'> The test dataset from the Stats Notebook focuses on a study assessing the chemical effects of a significant rain event  in northern San Diego, California (USA) in Winter 2017/2018. While the metadata has a column \"ATTRIBUTE_Batch\" suggesting  three batches, they cannot be considered as traditional batches due to distinct collection conditions for each. This can be easily observed from the \"ATTRIBUTE_time_run\" column, which indicates that the seawater samples were collected and measured at different times during Dec 2017, Jan 2018 (after rainfall), and Oct 2018, respectively.</p>\n",
    "    \n",
    "<p style='text-align: justify;'> For a more appropriate representation of batch effects, all samples should have been stored and then measured at the same time after randomizing their order. Randomization ensures any systematic variation introduced by the measurement process is spread evenly across samples, minimizing biases. Measuring all samples at once would mean they undergo similar instrument conditions, reagent batches, and other external variables, which can introduce batch effects.</p> \n",
    "    \n",
    "<p style='text-align: justify;'>Hence, in our example, seeking inter-batch effects isn't applicable; these are separate groups collected and analyzed at different times. Our use of the dataset is mainly illustrative, aiming to help users visualize potential outputs rather than showcasing genuine batch correction.</p>\n",
    "\n",
    "<font color=\"red\"> If the user is dealing with different batches that were processed and analyzed at the same time, they can perform inter-batch correction using the following steps:</font>\n",
    "    \n",
    "1. Calculate the <b>overall mean</b> of each feature \n",
    "2. Calculate the mean of each feature for each batch referred as &rarr; <b>Batchwise feature-mean</b>\n",
    "3. The feature intensities in each batch are then divided by the <b>batchwise feature-mean</b> and multiplied by the <b>overall mean</b>."
   ]
  },
  {
   "cell_type": "code",
   "execution_count": 146,
   "id": "8feca867-214b-497c-a0aa-a598fab386f9",
   "metadata": {},
   "outputs": [
    {
     "data": {
      "text/html": [
       "<style>\n",
       ".list-inline {list-style: none; margin:0; padding: 0}\n",
       ".list-inline>li {display: inline-block}\n",
       ".list-inline>li:not(:last-child)::after {content: \"\\00b7\"; padding: 0 .5ex}\n",
       "</style>\n",
       "<ol class=list-inline><li>'Row.names'</li><li>'ATTRIBUTE_Sample_Type'</li><li>'ATTRIBUTE_Batch'</li><li>'ATTRIBUTE_Month'</li><li>'ATTRIBUTE_Year'</li><li>'ATTRIBUTE_Sample_Location'</li><li>'ATTRIBUTE_Replicate'</li><li>'ATTRIBUTE_Spot'</li><li>'ATTRIBUTE_Latitude'</li><li>'ATTRIBUTE_Longitude'</li><li>'ATTRIBUTE_Sample_Area'</li><li>'ATTRIBUTE_Spot_Name'</li><li>'ATTRIBUTE_time_run'</li><li>'ATTRIBUTE_Injection_order'</li><li>'X1_391.284_0.3_NA'</li><li>'X2_161.096_0.235_NA;Massbank:LU096701 4-Methylumbelliferone|7-hydroxy-4-methylchromen-2-one'</li><li>'X4_167.154_0.474_NA'</li><li>'X5_158.961_0.477_NA'</li><li>'X11_172.956_0.487_NA;\"6-methoxypurine, oxamethane CollisionEnergy:102040\"'</li><li>'X13_159.065_0.479_NA'</li></ol>\n"
      ],
      "text/latex": [
       "\\begin{enumerate*}\n",
       "\\item 'Row.names'\n",
       "\\item 'ATTRIBUTE\\_Sample\\_Type'\n",
       "\\item 'ATTRIBUTE\\_Batch'\n",
       "\\item 'ATTRIBUTE\\_Month'\n",
       "\\item 'ATTRIBUTE\\_Year'\n",
       "\\item 'ATTRIBUTE\\_Sample\\_Location'\n",
       "\\item 'ATTRIBUTE\\_Replicate'\n",
       "\\item 'ATTRIBUTE\\_Spot'\n",
       "\\item 'ATTRIBUTE\\_Latitude'\n",
       "\\item 'ATTRIBUTE\\_Longitude'\n",
       "\\item 'ATTRIBUTE\\_Sample\\_Area'\n",
       "\\item 'ATTRIBUTE\\_Spot\\_Name'\n",
       "\\item 'ATTRIBUTE\\_time\\_run'\n",
       "\\item 'ATTRIBUTE\\_Injection\\_order'\n",
       "\\item 'X1\\_391.284\\_0.3\\_NA'\n",
       "\\item 'X2\\_161.096\\_0.235\\_NA;Massbank:LU096701 4-Methylumbelliferone\\textbar{}7-hydroxy-4-methylchromen-2-one'\n",
       "\\item 'X4\\_167.154\\_0.474\\_NA'\n",
       "\\item 'X5\\_158.961\\_0.477\\_NA'\n",
       "\\item 'X11\\_172.956\\_0.487\\_NA;\"6-methoxypurine, oxamethane CollisionEnergy:102040\"'\n",
       "\\item 'X13\\_159.065\\_0.479\\_NA'\n",
       "\\end{enumerate*}\n"
      ],
      "text/markdown": [
       "1. 'Row.names'\n",
       "2. 'ATTRIBUTE_Sample_Type'\n",
       "3. 'ATTRIBUTE_Batch'\n",
       "4. 'ATTRIBUTE_Month'\n",
       "5. 'ATTRIBUTE_Year'\n",
       "6. 'ATTRIBUTE_Sample_Location'\n",
       "7. 'ATTRIBUTE_Replicate'\n",
       "8. 'ATTRIBUTE_Spot'\n",
       "9. 'ATTRIBUTE_Latitude'\n",
       "10. 'ATTRIBUTE_Longitude'\n",
       "11. 'ATTRIBUTE_Sample_Area'\n",
       "12. 'ATTRIBUTE_Spot_Name'\n",
       "13. 'ATTRIBUTE_time_run'\n",
       "14. 'ATTRIBUTE_Injection_order'\n",
       "15. 'X1_391.284_0.3_NA'\n",
       "16. 'X2_161.096_0.235_NA;Massbank:LU096701 4-Methylumbelliferone|7-hydroxy-4-methylchromen-2-one'\n",
       "17. 'X4_167.154_0.474_NA'\n",
       "18. 'X5_158.961_0.477_NA'\n",
       "19. 'X11_172.956_0.487_NA;\"6-methoxypurine, oxamethane CollisionEnergy:102040\"'\n",
       "20. 'X13_159.065_0.479_NA'\n",
       "\n",
       "\n"
      ],
      "text/plain": [
       " [1] \"Row.names\"                                                                                  \n",
       " [2] \"ATTRIBUTE_Sample_Type\"                                                                      \n",
       " [3] \"ATTRIBUTE_Batch\"                                                                            \n",
       " [4] \"ATTRIBUTE_Month\"                                                                            \n",
       " [5] \"ATTRIBUTE_Year\"                                                                             \n",
       " [6] \"ATTRIBUTE_Sample_Location\"                                                                  \n",
       " [7] \"ATTRIBUTE_Replicate\"                                                                        \n",
       " [8] \"ATTRIBUTE_Spot\"                                                                             \n",
       " [9] \"ATTRIBUTE_Latitude\"                                                                         \n",
       "[10] \"ATTRIBUTE_Longitude\"                                                                        \n",
       "[11] \"ATTRIBUTE_Sample_Area\"                                                                      \n",
       "[12] \"ATTRIBUTE_Spot_Name\"                                                                        \n",
       "[13] \"ATTRIBUTE_time_run\"                                                                         \n",
       "[14] \"ATTRIBUTE_Injection_order\"                                                                  \n",
       "[15] \"X1_391.284_0.3_NA\"                                                                          \n",
       "[16] \"X2_161.096_0.235_NA;Massbank:LU096701 4-Methylumbelliferone|7-hydroxy-4-methylchromen-2-one\"\n",
       "[17] \"X4_167.154_0.474_NA\"                                                                        \n",
       "[18] \"X5_158.961_0.477_NA\"                                                                        \n",
       "[19] \"X11_172.956_0.487_NA;\\\"6-methoxypurine, oxamethane CollisionEnergy:102040\\\"\"                \n",
       "[20] \"X13_159.065_0.479_NA\"                                                                       "
      ]
     },
     "metadata": {},
     "output_type": "display_data"
    }
   ],
   "source": [
    "colnames(ft_merged)[1:20]"
   ]
  },
  {
   "cell_type": "code",
   "execution_count": 147,
   "id": "903b6eeb-0309-4c07-86c4-af94ba2d57fb",
   "metadata": {},
   "outputs": [],
   "source": [
    "# Renaming columns based on user input\n",
    "ft_merged <- ft_merged %>%\n",
    "  rename(\n",
    "      \"filename\" = !!sym(filename_col),\n",
    "      \"ATTRIBUTE_Batch\" = !!sym(batch_info_col),\n",
    "      \"ATTRIBUTE_QCInfo\" = !!sym(qc_info_col),\n",
    "      \"ATTRIBUTE_Injection_order\" = !!sym(injection_col)\n",
    "  )"
   ]
  },
  {
   "cell_type": "markdown",
   "id": "897b3180-5ae3-47d3-9895-96f60e67432b",
   "metadata": {},
   "source": [
    "Now, regardless of the original column names in the user's dataframe, they are standardized as \"filename\", \"ATTRIBUTE_Batch\", and \"ATTRIBUTE_QCInfo\" in the modified dataframe."
   ]
  },
  {
   "cell_type": "code",
   "execution_count": 148,
   "id": "6312c95c-d6e4-472e-829f-d131d47e4eab",
   "metadata": {},
   "outputs": [
    {
     "data": {
      "text/plain": [
       "\n",
       " Blank Sample \n",
       "     6    180 "
      ]
     },
     "metadata": {},
     "output_type": "display_data"
    }
   ],
   "source": [
    "table(ft_merged$ATTRIBUTE_QCInfo)"
   ]
  },
  {
   "cell_type": "code",
   "execution_count": 149,
   "id": "c8b19f9b-52b4-432d-818c-26d791953d11",
   "metadata": {},
   "outputs": [
    {
     "data": {
      "text/html": [
       "<table class=\"dataframe\">\n",
       "<caption>A data.frame: 2 × 11219</caption>\n",
       "<thead>\n",
       "\t<tr><th></th><th scope=col>filename</th><th scope=col>ATTRIBUTE_Batch</th><th scope=col>X1_391.284_0.3_NA</th><th scope=col>X2_161.096_0.235_NA;Massbank:LU096701 4-Methylumbelliferone|7-hydroxy-4-methylchromen-2-one</th><th scope=col>X4_167.154_0.474_NA</th><th scope=col>X5_158.961_0.477_NA</th><th scope=col>X11_172.956_0.487_NA;\"6-methoxypurine, oxamethane CollisionEnergy:102040\"</th><th scope=col>X13_159.065_0.479_NA</th><th scope=col>X15_289.168_0.501_NA</th><th scope=col>X16_291.165_0.501_NA</th><th scope=col>...</th><th scope=col>X92628_241.068_14.313_NA</th><th scope=col>X92636_182.985_14.571_NA;HARMANE CollisionEnergy:102040</th><th scope=col>X92638_208.039_14.764_\"methyl 3-oxo-2-[(3,4,5-trimethoxyphenyl)methylene]benzo[b]furan-5-carboxylate CollisionEnergy:102040\"</th><th scope=col>X92639_167.013_14.697_NA</th><th scope=col>X92640_193.974_14.62_NA</th><th scope=col>X92641_194.117_14.485_NA</th><th scope=col>X92647_158.961_14.747_NA</th><th scope=col>X92648_154.99_14.807_NA</th><th scope=col>X92649_226.951_14.813_NA;TRYPTOPHAN</th><th scope=col>X92651_172.956_14.611_NA;\"6-methoxypurine, oxamethane CollisionEnergy:205060\"</th></tr>\n",
       "\t<tr><th></th><th scope=col>&lt;chr&gt;</th><th scope=col>&lt;int&gt;</th><th scope=col>&lt;dbl&gt;</th><th scope=col>&lt;dbl&gt;</th><th scope=col>&lt;dbl&gt;</th><th scope=col>&lt;dbl&gt;</th><th scope=col>&lt;dbl&gt;</th><th scope=col>&lt;dbl&gt;</th><th scope=col>&lt;dbl&gt;</th><th scope=col>&lt;dbl&gt;</th><th scope=col>...</th><th scope=col>&lt;dbl&gt;</th><th scope=col>&lt;dbl&gt;</th><th scope=col>&lt;dbl&gt;</th><th scope=col>&lt;dbl&gt;</th><th scope=col>&lt;dbl&gt;</th><th scope=col>&lt;dbl&gt;</th><th scope=col>&lt;dbl&gt;</th><th scope=col>&lt;dbl&gt;</th><th scope=col>&lt;dbl&gt;</th><th scope=col>&lt;dbl&gt;</th></tr>\n",
       "</thead>\n",
       "<tbody>\n",
       "\t<tr><th scope=row>1</th><td>SD_01-2018_1_a.mzXML</td><td>2</td><td>0</td><td>0</td><td>0</td><td>13524.69</td><td>   0.000</td><td>38530.75</td><td>0</td><td>0</td><td>...</td><td>36845.35</td><td>109542.0</td><td>68948.27</td><td>302706.5</td><td>42332.20</td><td>843127.0</td><td>22739.38</td><td> 7517.194</td><td>0</td><td>0</td></tr>\n",
       "\t<tr><th scope=row>2</th><td>SD_01-2018_1_b.mzXML</td><td>2</td><td>0</td><td>0</td><td>0</td><td>22829.42</td><td>3054.348</td><td>10587.78</td><td>0</td><td>0</td><td>...</td><td>37898.94</td><td>114407.8</td><td>44469.50</td><td>298204.2</td><td>19698.92</td><td>824746.4</td><td> 4960.22</td><td>10084.678</td><td>0</td><td>0</td></tr>\n",
       "</tbody>\n",
       "</table>\n"
      ],
      "text/latex": [
       "A data.frame: 2 × 11219\n",
       "\\begin{tabular}{r|lllllllllllllllllllll}\n",
       "  & filename & ATTRIBUTE\\_Batch & X1\\_391.284\\_0.3\\_NA & X2\\_161.096\\_0.235\\_NA;Massbank:LU096701 4-Methylumbelliferone\\textbar{}7-hydroxy-4-methylchromen-2-one & X4\\_167.154\\_0.474\\_NA & X5\\_158.961\\_0.477\\_NA & X11\\_172.956\\_0.487\\_NA;\"6-methoxypurine, oxamethane CollisionEnergy:102040\" & X13\\_159.065\\_0.479\\_NA & X15\\_289.168\\_0.501\\_NA & X16\\_291.165\\_0.501\\_NA & ... & X92628\\_241.068\\_14.313\\_NA & X92636\\_182.985\\_14.571\\_NA;HARMANE CollisionEnergy:102040 & X92638\\_208.039\\_14.764\\_\"methyl 3-oxo-2-{[}(3,4,5-trimethoxyphenyl)methylene{]}benzo{[}b{]}furan-5-carboxylate CollisionEnergy:102040\" & X92639\\_167.013\\_14.697\\_NA & X92640\\_193.974\\_14.62\\_NA & X92641\\_194.117\\_14.485\\_NA & X92647\\_158.961\\_14.747\\_NA & X92648\\_154.99\\_14.807\\_NA & X92649\\_226.951\\_14.813\\_NA;TRYPTOPHAN & X92651\\_172.956\\_14.611\\_NA;\"6-methoxypurine, oxamethane CollisionEnergy:205060\"\\\\\n",
       "  & <chr> & <int> & <dbl> & <dbl> & <dbl> & <dbl> & <dbl> & <dbl> & <dbl> & <dbl> & ... & <dbl> & <dbl> & <dbl> & <dbl> & <dbl> & <dbl> & <dbl> & <dbl> & <dbl> & <dbl>\\\\\n",
       "\\hline\n",
       "\t1 & SD\\_01-2018\\_1\\_a.mzXML & 2 & 0 & 0 & 0 & 13524.69 &    0.000 & 38530.75 & 0 & 0 & ... & 36845.35 & 109542.0 & 68948.27 & 302706.5 & 42332.20 & 843127.0 & 22739.38 &  7517.194 & 0 & 0\\\\\n",
       "\t2 & SD\\_01-2018\\_1\\_b.mzXML & 2 & 0 & 0 & 0 & 22829.42 & 3054.348 & 10587.78 & 0 & 0 & ... & 37898.94 & 114407.8 & 44469.50 & 298204.2 & 19698.92 & 824746.4 &  4960.22 & 10084.678 & 0 & 0\\\\\n",
       "\\end{tabular}\n"
      ],
      "text/markdown": [
       "\n",
       "A data.frame: 2 × 11219\n",
       "\n",
       "| <!--/--> | filename &lt;chr&gt; | ATTRIBUTE_Batch &lt;int&gt; | X1_391.284_0.3_NA &lt;dbl&gt; | X2_161.096_0.235_NA;Massbank:LU096701 4-Methylumbelliferone|7-hydroxy-4-methylchromen-2-one &lt;dbl&gt; | X4_167.154_0.474_NA &lt;dbl&gt; | X5_158.961_0.477_NA &lt;dbl&gt; | X11_172.956_0.487_NA;\"6-methoxypurine, oxamethane CollisionEnergy:102040\" &lt;dbl&gt; | X13_159.065_0.479_NA &lt;dbl&gt; | X15_289.168_0.501_NA &lt;dbl&gt; | X16_291.165_0.501_NA &lt;dbl&gt; | ... ... | X92628_241.068_14.313_NA &lt;dbl&gt; | X92636_182.985_14.571_NA;HARMANE CollisionEnergy:102040 &lt;dbl&gt; | X92638_208.039_14.764_\"methyl 3-oxo-2-[(3,4,5-trimethoxyphenyl)methylene]benzo[b]furan-5-carboxylate CollisionEnergy:102040\" &lt;dbl&gt; | X92639_167.013_14.697_NA &lt;dbl&gt; | X92640_193.974_14.62_NA &lt;dbl&gt; | X92641_194.117_14.485_NA &lt;dbl&gt; | X92647_158.961_14.747_NA &lt;dbl&gt; | X92648_154.99_14.807_NA &lt;dbl&gt; | X92649_226.951_14.813_NA;TRYPTOPHAN &lt;dbl&gt; | X92651_172.956_14.611_NA;\"6-methoxypurine, oxamethane CollisionEnergy:205060\" &lt;dbl&gt; |\n",
       "|---|---|---|---|---|---|---|---|---|---|---|---|---|---|---|---|---|---|---|---|---|---|\n",
       "| 1 | SD_01-2018_1_a.mzXML | 2 | 0 | 0 | 0 | 13524.69 |    0.000 | 38530.75 | 0 | 0 | ... | 36845.35 | 109542.0 | 68948.27 | 302706.5 | 42332.20 | 843127.0 | 22739.38 |  7517.194 | 0 | 0 |\n",
       "| 2 | SD_01-2018_1_b.mzXML | 2 | 0 | 0 | 0 | 22829.42 | 3054.348 | 10587.78 | 0 | 0 | ... | 37898.94 | 114407.8 | 44469.50 | 298204.2 | 19698.92 | 824746.4 |  4960.22 | 10084.678 | 0 | 0 |\n",
       "\n"
      ],
      "text/plain": [
       "  filename             ATTRIBUTE_Batch X1_391.284_0.3_NA\n",
       "1 SD_01-2018_1_a.mzXML 2               0                \n",
       "2 SD_01-2018_1_b.mzXML 2               0                \n",
       "  X2_161.096_0.235_NA;Massbank:LU096701 4-Methylumbelliferone|7-hydroxy-4-methylchromen-2-one\n",
       "1 0                                                                                          \n",
       "2 0                                                                                          \n",
       "  X4_167.154_0.474_NA X5_158.961_0.477_NA\n",
       "1 0                   13524.69           \n",
       "2 0                   22829.42           \n",
       "  X11_172.956_0.487_NA;\"6-methoxypurine, oxamethane CollisionEnergy:102040\"\n",
       "1    0.000                                                                 \n",
       "2 3054.348                                                                 \n",
       "  X13_159.065_0.479_NA X15_289.168_0.501_NA X16_291.165_0.501_NA ...\n",
       "1 38530.75             0                    0                    ...\n",
       "2 10587.78             0                    0                    ...\n",
       "  X92628_241.068_14.313_NA\n",
       "1 36845.35                \n",
       "2 37898.94                \n",
       "  X92636_182.985_14.571_NA;HARMANE CollisionEnergy:102040\n",
       "1 109542.0                                               \n",
       "2 114407.8                                               \n",
       "  X92638_208.039_14.764_\"methyl 3-oxo-2-[(3,4,5-trimethoxyphenyl)methylene]benzo[b]furan-5-carboxylate CollisionEnergy:102040\"\n",
       "1 68948.27                                                                                                                    \n",
       "2 44469.50                                                                                                                    \n",
       "  X92639_167.013_14.697_NA X92640_193.974_14.62_NA X92641_194.117_14.485_NA\n",
       "1 302706.5                 42332.20                843127.0                \n",
       "2 298204.2                 19698.92                824746.4                \n",
       "  X92647_158.961_14.747_NA X92648_154.99_14.807_NA\n",
       "1 22739.38                  7517.194              \n",
       "2  4960.22                 10084.678              \n",
       "  X92649_226.951_14.813_NA;TRYPTOPHAN\n",
       "1 0                                  \n",
       "2 0                                  \n",
       "  X92651_172.956_14.611_NA;\"6-methoxypurine, oxamethane CollisionEnergy:205060\"\n",
       "1 0                                                                            \n",
       "2 0                                                                            "
      ]
     },
     "metadata": {},
     "output_type": "display_data"
    }
   ],
   "source": [
    "# Extract relevant columns: filename, batch information, and feature intensity columns\n",
    "ft_merged2 <- ft_merged %>% \n",
    "              select(`filename`, `ATTRIBUTE_Batch`, starts_with(\"X\")) \n",
    "head(ft_merged2, n=2)"
   ]
  },
  {
   "cell_type": "markdown",
   "id": "aaa4b997-22d9-424a-89af-e6e8cf5bad92",
   "metadata": {
    "id": "aaa4b997-22d9-424a-89af-e6e8cf5bad92"
   },
   "source": [
    "Now, we can continue with the inter-batch correction steps."
   ]
  },
  {
   "cell_type": "code",
   "execution_count": 150,
   "id": "50495d9f-0ece-4ea1-9957-8a6d44af0ce2",
   "metadata": {},
   "outputs": [
    {
     "data": {
      "text/html": [
       "<table class=\"dataframe\">\n",
       "<caption>A matrix: 2 × 3 of type int</caption>\n",
       "<tbody>\n",
       "\t<tr><td>   62</td><td>   62</td><td>   62</td></tr>\n",
       "\t<tr><td>11218</td><td>11218</td><td>11218</td></tr>\n",
       "</tbody>\n",
       "</table>\n"
      ],
      "text/latex": [
       "A matrix: 2 × 3 of type int\n",
       "\\begin{tabular}{lll}\n",
       "\t    62 &    62 &    62\\\\\n",
       "\t 11218 & 11218 & 11218\\\\\n",
       "\\end{tabular}\n"
      ],
      "text/markdown": [
       "\n",
       "A matrix: 2 × 3 of type int\n",
       "\n",
       "|    62 |    62 |    62 |\n",
       "| 11218 | 11218 | 11218 |\n",
       "\n"
      ],
      "text/plain": [
       "     [,1]  [,2]  [,3] \n",
       "[1,]    62    62    62\n",
       "[2,] 11218 11218 11218"
      ]
     },
     "metadata": {},
     "output_type": "display_data"
    }
   ],
   "source": [
    "# Step 1: Calculate the overall mean for each feature\n",
    "# This excludes the first two columns (Row.names, ATTRIBUTE_Batch)\n",
    "feature_means <- colMeans(ft_merged2[, -(1:2)])\n",
    "\n",
    "# Step 2: Calculate batchwise feature means\n",
    "batch_means <- ft_merged2[, -1] %>%  # excluding Row.names column\n",
    "                group_by(`ATTRIBUTE_Batch`) %>%\n",
    "                summarise_all(mean) %>%\n",
    "                column_to_rownames('ATTRIBUTE_Batch') %>%\n",
    "                as.data.frame()\n",
    "\n",
    "# Step 3: Correct for inter-batch effects\n",
    "batch_groups <- ft_merged2 %>%\n",
    "                group_split(`ATTRIBUTE_Batch`) %>%\n",
    "                lapply(function(x) {\n",
    "                    column_to_rownames(x, 'filename')\n",
    "                })\n",
    "\n",
    "# Check the dimensions of each batch group\n",
    "sapply(batch_groups, dim)\n",
    "\n",
    "# List to store corrected data\n",
    "corrected_batches <- list()\n",
    "\n",
    "# Apply correction for each batch group\n",
    "for (i in 1:length(batch_groups)){\n",
    "    corrected_batches[[i]] <- sweep(batch_groups[[i]][,-1], 2, as.numeric(batch_means[i,] + 1), \"/\")\n",
    "    corrected_batches[[i]] <- sweep(corrected_batches[[i]], 2, as.numeric(feature_means + 1), \"*\")\n",
    "}\n",
    "\n",
    "# Combine all corrected batches into a single data frame\n",
    "corrected_data <- bind_rows(corrected_batches)\n",
    "\n",
    "# Now, the dataframe \"corrected_data\" is corrected for inter-batch effects, \n",
    "# making it easier to correct for intra-batch effects in the subsequent steps."
   ]
  },
  {
   "cell_type": "markdown",
   "id": "8d02fb4a-94a8-45ed-947b-23b5f4f82af4",
   "metadata": {},
   "source": [
    "--- \n",
    "- `feature_means`: Represents the overall mean intensity of each feature across all batches.\n",
    "  \n",
    "- `batch_means`: This dataframe has a row for each batch, here each row represents the mean intensity of features for that specific batch. For instance, the first row shows the mean intensities for Batch 1's features.\n",
    "\n",
    "- Step 3 starting with the `group_split` function separates the dataframe `ft_merged2` based on batches, yielding a list (`batch_groups`). Each item in this list is a dataframe specific to a batch. Following this, for each batch-specific dataframe, the feature intensities are adjusted by:\n",
    "    1. Dividing by its corresponding **batch-specific mean** (from `batch_means`).\n",
    "    2. Multiplying by the **overall feature mean** (from `feature_means`).\n",
    "\n",
    "\n",
    "- The final output, `corrected_data`, consolidates the batch-corrected data. After that, it becomes easier to correct for intra-batch effects. \n",
    "\n",
    "---"
   ]
  },
  {
   "cell_type": "markdown",
   "id": "85c69e01-61b1-4499-a3cc-c938405d6749",
   "metadata": {},
   "source": [
    "## 2. Intra-batch Correction\n",
    "<a name=\"intra_batch\"></a>\n",
    "\n",
    "- <p style='text-align: justify;'><b>Key Requirement:</b> Pooled QC samples are important for effective intra-batch effect correction. Ensure a minimum of two QC samples for each batch. It is recommended to inject these QC samples both at the start and end of each batch, ato capture potential drifts and shifts over the run.</p>\n",
    "\n",
    "- <p style='text-align: justify;'><b>Method Demonstrated:</b> This section will show you how to visualize intensity drifts within a batch and correct them using LOESS. This assumes each batch starts and ends with a pooled QC sample.</p>\n",
    "\n",
    "- <p style='text-align: justify;'><b>Lacking Pooled QCs:</b> If you don't have pooled QCs, you can still check for intra-batch effects by observing housekeeping features across the injection sequence. For our current dataset, some housekeeping features as highlighted in the study by <a href=\"https://doi.org/10.1016/j.chemosphere.2020.129450\">Petras et al</a> , include Dibutyl phthalate, pheophorbide A, and tryptophan. We'll focus on the feature 'tryptophan' to identify potential intensity drifts throughout the run time. However, it's crucial to understand that while housekeeping features can aid in visualizing these effects, <b>correction is feasible only with QCs</b>. If QCs aren't available, refrain from correcting and approach the data with added caution during statistical evaluations. It's worth noting that data normalization can inherently contribute to batch correction to some degree, as discussed by <a href=\"https://doi.org/10.1007/s00216-021-03294-8\">(Tokareva, A.O. et al, 2021).</a> </p>\n",
    "\n",
    "- <p style='text-align: justify;'><b>Features Absent in Pooled QCs:</b> This topic is not covered in this notebook. Addressing such situations requires domain-specific expertise and may vary depending on the nature of the experiment and the intended downstream analysis.</p>\n",
    "\n",
    "**Evaluating Success of Batch Correction:**\n",
    "\n",
    "To determine the effectiveness of the batch correction, visually inspect the data, especially focusing on the QC samples. Comparing the \"before\" and \"after\" plots over the injection order can provide a clearer perspective on whether the correction has been successful or if unintended shifts, such as drifts, have been introduced.\n",
    "\n",
    "**Caution**:\n",
    "Batch correction, if not executed with due diligence, can inadvertently introduce errors or \"drifts\" in the data. It's imperative to proceed with caution, ensuring the correction applied genuinely represents and corrects the underlying batch effect without compromising biological variation."
   ]
  },
  {
   "cell_type": "markdown",
   "id": "5263d7b3-59ac-4017-9ec4-ecc9e544817e",
   "metadata": {},
   "source": [
    "### Step 1: Identify the housekeeping feature column\n",
    "Since, we have the annotations combined with our column names. we can look for column names of ft_merged with 'our housekeeping feature, tryptophan'."
   ]
  },
  {
   "cell_type": "code",
   "execution_count": 151,
   "id": "0866bb34-4fff-4e7c-9bcb-30707e066fea",
   "metadata": {},
   "outputs": [],
   "source": [
    "# Users need to specify their housekeeping feature here\n",
    "housekeeping_feature <- \"tryptophan\"  "
   ]
  },
  {
   "cell_type": "code",
   "execution_count": 152,
   "id": "3df4ae00-9feb-4387-9265-5b76f1259eae",
   "metadata": {},
   "outputs": [
    {
     "name": "stdout",
     "output_type": "stream",
     "text": [
      "[1] \"X5234_205.097_2.301_Spectral Match to L-Tryptophan from NIST14\"                        \n",
      "[2] \"X7683_205.097_2.569_Spectral Match to L-Tryptophan from NIST14\"                        \n",
      "[3] \"X76278_622.028_9.907_NA;Tryptophan conjugated cholic acid\"                             \n",
      "[4] \"X85367_271.205_10.926_NA;B13A01 Faulkner library maybe Tryptophan needs ot be verified\"\n",
      "[5] \"X92649_226.951_14.813_NA;TRYPTOPHAN\"                                                   \n"
     ]
    }
   ],
   "source": [
    "feature_col_name <- grep(housekeeping_feature, colnames(ft_merged), ignore.case = TRUE, value = TRUE)\n",
    "print(feature_col_name)"
   ]
  },
  {
   "cell_type": "markdown",
   "id": "cb6d50cc-31fa-4302-b4d0-f0ee2f57ad8a",
   "metadata": {},
   "source": [
    "The molecular weight of tryptophan is 204.22 g/mol. Here, we see tryptophan peaks (~205 m/z) with 2 different RTs. In the column names, we have the libraryID_RT_mz_Annotation. We will choose the feature with higher retention time (row ID 7683) to plot against the injection order."
   ]
  },
  {
   "cell_type": "code",
   "execution_count": 153,
   "id": "330dbd72-7ce2-41fb-a07c-a9a93621e314",
   "metadata": {},
   "outputs": [],
   "source": [
    "# Users need to specify the number of feature_col_name here, that they wish to investigate\n",
    "index <- 2"
   ]
  },
  {
   "cell_type": "code",
   "execution_count": 154,
   "id": "b47be6d6-633b-4264-a8ff-070045d36cdd",
   "metadata": {},
   "outputs": [
    {
     "data": {
      "text/html": [
       "1088"
      ],
      "text/latex": [
       "1088"
      ],
      "text/markdown": [
       "1088"
      ],
      "text/plain": [
       "[1] 1088"
      ]
     },
     "metadata": {},
     "output_type": "display_data"
    }
   ],
   "source": [
    "column_number <- which(colnames(ft_merged) == feature_col_name[index])\n",
    "column_number"
   ]
  },
  {
   "cell_type": "markdown",
   "id": "c4ad7212-51c4-4f1a-ae2e-a65d529167c4",
   "metadata": {},
   "source": [
    "### Step 2: Plot the feature's intensity over the injection order"
   ]
  },
  {
   "cell_type": "code",
   "execution_count": 155,
   "id": "9a049451-cf31-4fab-9c7f-e248ec92c445",
   "metadata": {},
   "outputs": [
    {
     "name": "stderr",
     "output_type": "stream",
     "text": [
      "\u001b[1m\u001b[22m`geom_smooth()` using formula = 'y ~ x'\n"
     ]
    },
    {
     "data": {
      "image/png": "[encoded data removed]",
      "text/plain": [
       "plot without title"
      ]
     },
     "metadata": {
      "image/png": {
       "height": 420,
       "width": 420
      }
     },
     "output_type": "display_data"
    }
   ],
   "source": [
    "ggplot(ft_merged, aes(x = `ATTRIBUTE_Injection_order`, \n",
    "                      y = ft_merged[, column_number])) +\n",
    "  geom_point(size = 2.5, alpha = 0.9, \n",
    "             aes(color = as.factor(`ATTRIBUTE_Batch`), \n",
    "                 shape = `ATTRIBUTE_QCInfo`)) +\n",
    "  geom_smooth(method = 'lm', na.rm = T) +\n",
    "  scale_y_continuous(labels = scales::scientific, \n",
    "                     limits = c(min(ft_merged[, column_number], na.rm=TRUE), \n",
    "                                max(ft_merged[, column_number], na.rm=TRUE)))"
   ]
  },
  {
   "cell_type": "markdown",
   "id": "50093f0c-708b-402a-9800-344af5d87adb",
   "metadata": {},
   "source": [
    "<p style='text-align: justify;'>The intensity drift observed here in the example data may not necessarily be due to batch effects. Since the samples were collected at different times under varying conditions, it is more likely to be a result of the different sample collection periods. However, if you encounter a similar intensity drift in a dataset where multiple batches of samples are collected under the same experimental conditions, you can follow these steps to perform batch correction: </p>\n",
    "\n",
    "- Convert the data from a wide-format to a long-format.\n",
    "- Inspect the intra-batch effects on each batch-wise data by splitting the data batch-wise.\n",
    "- Once the batch effect is observed, we can apply LOESS correction function to perform batch correction. It is important to note that each batch-data starts and ends with a pooled-QC data."
   ]
  },
  {
   "cell_type": "markdown",
   "id": "ae84cfcd-5a25-4cff-b566-b58291670317",
   "metadata": {},
   "source": [
    "### Step 3: Convert the dataset to a long format\n",
    "\n",
    "This step is essential because the long format is more suitable for manipulations and visualizations when we are dealing with multiple features and samples."
   ]
  },
  {
   "cell_type": "code",
   "execution_count": 156,
   "id": "26ff31ef-12f4-4c3d-b711-15eec9b04abc",
   "metadata": {},
   "outputs": [],
   "source": [
    "# Retrieve all feature names that starts with X\n",
    "featureNames <- grep(\"^X\\\\d\", colnames(ft_merged), value = TRUE)\n",
    "\n",
    "# Convert the dataset to long format \n",
    "data_long <- tidyr::gather(ft_merged, \n",
    "                           Feature, \n",
    "                           Intensities, \n",
    "                           all_of(featureNames[1]):all_of(featureNames[length(featureNames)]), \n",
    "                           factor_key = TRUE)\n",
    "\n",
    "data_long <- data_long[, -1]  # Removing the first column for clarity"
   ]
  },
  {
   "cell_type": "code",
   "execution_count": 157,
   "id": "e7068c93-dca0-4bff-b1bb-8eed8ea36c97",
   "metadata": {},
   "outputs": [
    {
     "data": {
      "text/html": [
       "<table class=\"dataframe\">\n",
       "<caption>A data.frame: 3 × 15</caption>\n",
       "<thead>\n",
       "\t<tr><th></th><th scope=col>ATTRIBUTE_QCInfo</th><th scope=col>ATTRIBUTE_Batch</th><th scope=col>ATTRIBUTE_Month</th><th scope=col>ATTRIBUTE_Year</th><th scope=col>ATTRIBUTE_Sample_Location</th><th scope=col>ATTRIBUTE_Replicate</th><th scope=col>ATTRIBUTE_Spot</th><th scope=col>ATTRIBUTE_Latitude</th><th scope=col>ATTRIBUTE_Longitude</th><th scope=col>ATTRIBUTE_Sample_Area</th><th scope=col>ATTRIBUTE_Spot_Name</th><th scope=col>ATTRIBUTE_time_run</th><th scope=col>ATTRIBUTE_Injection_order</th><th scope=col>Feature</th><th scope=col>Intensities</th></tr>\n",
       "\t<tr><th></th><th scope=col>&lt;chr&gt;</th><th scope=col>&lt;int&gt;</th><th scope=col>&lt;chr&gt;</th><th scope=col>&lt;int&gt;</th><th scope=col>&lt;int&gt;</th><th scope=col>&lt;chr&gt;</th><th scope=col>&lt;int&gt;</th><th scope=col>&lt;dbl&gt;</th><th scope=col>&lt;dbl&gt;</th><th scope=col>&lt;chr&gt;</th><th scope=col>&lt;chr&gt;</th><th scope=col>&lt;chr&gt;</th><th scope=col>&lt;int&gt;</th><th scope=col>&lt;fct&gt;</th><th scope=col>&lt;dbl&gt;</th></tr>\n",
       "</thead>\n",
       "<tbody>\n",
       "\t<tr><th scope=row>1</th><td>Sample</td><td>2</td><td>Jan</td><td>2018</td><td> 1</td><td>a</td><td> 1</td><td>32.93365</td><td>-117.2648</td><td>Torrey_Pines       </td><td>Lagoon_Outlet </td><td>16/01/2018 11:36</td><td>65</td><td>X1_391.284_0.3_NA</td><td>0</td></tr>\n",
       "\t<tr><th scope=row>2</th><td>Sample</td><td>2</td><td>Jan</td><td>2018</td><td> 1</td><td>b</td><td> 1</td><td>32.93365</td><td>-117.2648</td><td>Torrey_Pines       </td><td>Lagoon_Outlet </td><td>16/01/2018 11:52</td><td>66</td><td>X1_391.284_0.3_NA</td><td>0</td></tr>\n",
       "\t<tr><th scope=row>3</th><td>Sample</td><td>2</td><td>Jan</td><td>2018</td><td>10</td><td>a</td><td>10</td><td>32.86261</td><td>-117.2604</td><td>SIO_La_Jolla_Shores</td><td>SIO_South_Pier</td><td>16/01/2018 16:23</td><td>83</td><td>X1_391.284_0.3_NA</td><td>0</td></tr>\n",
       "</tbody>\n",
       "</table>\n"
      ],
      "text/latex": [
       "A data.frame: 3 × 15\n",
       "\\begin{tabular}{r|lllllllllllllll}\n",
       "  & ATTRIBUTE\\_QCInfo & ATTRIBUTE\\_Batch & ATTRIBUTE\\_Month & ATTRIBUTE\\_Year & ATTRIBUTE\\_Sample\\_Location & ATTRIBUTE\\_Replicate & ATTRIBUTE\\_Spot & ATTRIBUTE\\_Latitude & ATTRIBUTE\\_Longitude & ATTRIBUTE\\_Sample\\_Area & ATTRIBUTE\\_Spot\\_Name & ATTRIBUTE\\_time\\_run & ATTRIBUTE\\_Injection\\_order & Feature & Intensities\\\\\n",
       "  & <chr> & <int> & <chr> & <int> & <int> & <chr> & <int> & <dbl> & <dbl> & <chr> & <chr> & <chr> & <int> & <fct> & <dbl>\\\\\n",
       "\\hline\n",
       "\t1 & Sample & 2 & Jan & 2018 &  1 & a &  1 & 32.93365 & -117.2648 & Torrey\\_Pines        & Lagoon\\_Outlet  & 16/01/2018 11:36 & 65 & X1\\_391.284\\_0.3\\_NA & 0\\\\\n",
       "\t2 & Sample & 2 & Jan & 2018 &  1 & b &  1 & 32.93365 & -117.2648 & Torrey\\_Pines        & Lagoon\\_Outlet  & 16/01/2018 11:52 & 66 & X1\\_391.284\\_0.3\\_NA & 0\\\\\n",
       "\t3 & Sample & 2 & Jan & 2018 & 10 & a & 10 & 32.86261 & -117.2604 & SIO\\_La\\_Jolla\\_Shores & SIO\\_South\\_Pier & 16/01/2018 16:23 & 83 & X1\\_391.284\\_0.3\\_NA & 0\\\\\n",
       "\\end{tabular}\n"
      ],
      "text/markdown": [
       "\n",
       "A data.frame: 3 × 15\n",
       "\n",
       "| <!--/--> | ATTRIBUTE_QCInfo &lt;chr&gt; | ATTRIBUTE_Batch &lt;int&gt; | ATTRIBUTE_Month &lt;chr&gt; | ATTRIBUTE_Year &lt;int&gt; | ATTRIBUTE_Sample_Location &lt;int&gt; | ATTRIBUTE_Replicate &lt;chr&gt; | ATTRIBUTE_Spot &lt;int&gt; | ATTRIBUTE_Latitude &lt;dbl&gt; | ATTRIBUTE_Longitude &lt;dbl&gt; | ATTRIBUTE_Sample_Area &lt;chr&gt; | ATTRIBUTE_Spot_Name &lt;chr&gt; | ATTRIBUTE_time_run &lt;chr&gt; | ATTRIBUTE_Injection_order &lt;int&gt; | Feature &lt;fct&gt; | Intensities &lt;dbl&gt; |\n",
       "|---|---|---|---|---|---|---|---|---|---|---|---|---|---|---|---|\n",
       "| 1 | Sample | 2 | Jan | 2018 |  1 | a |  1 | 32.93365 | -117.2648 | Torrey_Pines        | Lagoon_Outlet  | 16/01/2018 11:36 | 65 | X1_391.284_0.3_NA | 0 |\n",
       "| 2 | Sample | 2 | Jan | 2018 |  1 | b |  1 | 32.93365 | -117.2648 | Torrey_Pines        | Lagoon_Outlet  | 16/01/2018 11:52 | 66 | X1_391.284_0.3_NA | 0 |\n",
       "| 3 | Sample | 2 | Jan | 2018 | 10 | a | 10 | 32.86261 | -117.2604 | SIO_La_Jolla_Shores | SIO_South_Pier | 16/01/2018 16:23 | 83 | X1_391.284_0.3_NA | 0 |\n",
       "\n"
      ],
      "text/plain": [
       "  ATTRIBUTE_QCInfo ATTRIBUTE_Batch ATTRIBUTE_Month ATTRIBUTE_Year\n",
       "1 Sample           2               Jan             2018          \n",
       "2 Sample           2               Jan             2018          \n",
       "3 Sample           2               Jan             2018          \n",
       "  ATTRIBUTE_Sample_Location ATTRIBUTE_Replicate ATTRIBUTE_Spot\n",
       "1  1                        a                    1            \n",
       "2  1                        b                    1            \n",
       "3 10                        a                   10            \n",
       "  ATTRIBUTE_Latitude ATTRIBUTE_Longitude ATTRIBUTE_Sample_Area\n",
       "1 32.93365           -117.2648           Torrey_Pines         \n",
       "2 32.93365           -117.2648           Torrey_Pines         \n",
       "3 32.86261           -117.2604           SIO_La_Jolla_Shores  \n",
       "  ATTRIBUTE_Spot_Name ATTRIBUTE_time_run ATTRIBUTE_Injection_order\n",
       "1 Lagoon_Outlet       16/01/2018 11:36   65                       \n",
       "2 Lagoon_Outlet       16/01/2018 11:52   66                       \n",
       "3 SIO_South_Pier      16/01/2018 16:23   83                       \n",
       "  Feature           Intensities\n",
       "1 X1_391.284_0.3_NA 0          \n",
       "2 X1_391.284_0.3_NA 0          \n",
       "3 X1_391.284_0.3_NA 0          "
      ]
     },
     "metadata": {},
     "output_type": "display_data"
    }
   ],
   "source": [
    "head(data_long, 3)"
   ]
  },
  {
   "cell_type": "markdown",
   "id": "32cf6316-ab73-4913-9a79-f8de3501370e",
   "metadata": {},
   "source": [
    "### Step 4: Process data by batches"
   ]
  },
  {
   "cell_type": "code",
   "execution_count": 158,
   "id": "fcdd4b74-cebd-41d2-bfeb-fad6b85a42d8",
   "metadata": {},
   "outputs": [],
   "source": [
    "# List of all unique batches\n",
    "batches <- unique(data_long$ATTRIBUTE_Batch)\n",
    "\n",
    "# Splitting the long data by batches\n",
    "batch_data_list <- lapply(batches, function(batch) subset(data_long, ATTRIBUTE_Batch == batch))"
   ]
  },
  {
   "cell_type": "code",
   "execution_count": 159,
   "id": "0d1e9866-b0b6-49f5-b50c-c15994712208",
   "metadata": {},
   "outputs": [
    {
     "data": {
      "text/html": [
       "<table class=\"dataframe\">\n",
       "<caption>A matrix: 2 × 3 of type int</caption>\n",
       "<tbody>\n",
       "\t<tr><td>695454</td><td>695454</td><td>695454</td></tr>\n",
       "\t<tr><td>    15</td><td>    15</td><td>    15</td></tr>\n",
       "</tbody>\n",
       "</table>\n"
      ],
      "text/latex": [
       "A matrix: 2 × 3 of type int\n",
       "\\begin{tabular}{lll}\n",
       "\t 695454 & 695454 & 695454\\\\\n",
       "\t     15 &     15 &     15\\\\\n",
       "\\end{tabular}\n"
      ],
      "text/markdown": [
       "\n",
       "A matrix: 2 × 3 of type int\n",
       "\n",
       "| 695454 | 695454 | 695454 |\n",
       "|     15 |     15 |     15 |\n",
       "\n"
      ],
      "text/plain": [
       "     [,1]   [,2]   [,3]  \n",
       "[1,] 695454 695454 695454\n",
       "[2,]     15     15     15"
      ]
     },
     "metadata": {},
     "output_type": "display_data"
    }
   ],
   "source": [
    "#shows the dimension of each batch element in the 'batch_data_list'\n",
    "sapply(batch_data_list, dim) "
   ]
  },
  {
   "cell_type": "code",
   "execution_count": 160,
   "id": "ae9d6a87-02eb-4548-99de-dab4c7005b2b",
   "metadata": {},
   "outputs": [
    {
     "data": {
      "text/html": [
       "<table class=\"dataframe\">\n",
       "<caption>A data.frame: 3 × 15</caption>\n",
       "<thead>\n",
       "\t<tr><th></th><th scope=col>ATTRIBUTE_QCInfo</th><th scope=col>ATTRIBUTE_Batch</th><th scope=col>ATTRIBUTE_Month</th><th scope=col>ATTRIBUTE_Year</th><th scope=col>ATTRIBUTE_Sample_Location</th><th scope=col>ATTRIBUTE_Replicate</th><th scope=col>ATTRIBUTE_Spot</th><th scope=col>ATTRIBUTE_Latitude</th><th scope=col>ATTRIBUTE_Longitude</th><th scope=col>ATTRIBUTE_Sample_Area</th><th scope=col>ATTRIBUTE_Spot_Name</th><th scope=col>ATTRIBUTE_time_run</th><th scope=col>ATTRIBUTE_Injection_order</th><th scope=col>Feature</th><th scope=col>Intensities</th></tr>\n",
       "\t<tr><th></th><th scope=col>&lt;chr&gt;</th><th scope=col>&lt;int&gt;</th><th scope=col>&lt;chr&gt;</th><th scope=col>&lt;int&gt;</th><th scope=col>&lt;int&gt;</th><th scope=col>&lt;chr&gt;</th><th scope=col>&lt;int&gt;</th><th scope=col>&lt;dbl&gt;</th><th scope=col>&lt;dbl&gt;</th><th scope=col>&lt;chr&gt;</th><th scope=col>&lt;chr&gt;</th><th scope=col>&lt;chr&gt;</th><th scope=col>&lt;int&gt;</th><th scope=col>&lt;fct&gt;</th><th scope=col>&lt;dbl&gt;</th></tr>\n",
       "</thead>\n",
       "<tbody>\n",
       "\t<tr><th scope=row>1</th><td>Sample</td><td>2</td><td>Jan</td><td>2018</td><td> 1</td><td>a</td><td> 1</td><td>32.93365</td><td>-117.2648</td><td>Torrey_Pines       </td><td>Lagoon_Outlet </td><td>16/01/2018 11:36</td><td>65</td><td>X1_391.284_0.3_NA</td><td>0</td></tr>\n",
       "\t<tr><th scope=row>2</th><td>Sample</td><td>2</td><td>Jan</td><td>2018</td><td> 1</td><td>b</td><td> 1</td><td>32.93365</td><td>-117.2648</td><td>Torrey_Pines       </td><td>Lagoon_Outlet </td><td>16/01/2018 11:52</td><td>66</td><td>X1_391.284_0.3_NA</td><td>0</td></tr>\n",
       "\t<tr><th scope=row>3</th><td>Sample</td><td>2</td><td>Jan</td><td>2018</td><td>10</td><td>a</td><td>10</td><td>32.86261</td><td>-117.2604</td><td>SIO_La_Jolla_Shores</td><td>SIO_South_Pier</td><td>16/01/2018 16:23</td><td>83</td><td>X1_391.284_0.3_NA</td><td>0</td></tr>\n",
       "</tbody>\n",
       "</table>\n"
      ],
      "text/latex": [
       "A data.frame: 3 × 15\n",
       "\\begin{tabular}{r|lllllllllllllll}\n",
       "  & ATTRIBUTE\\_QCInfo & ATTRIBUTE\\_Batch & ATTRIBUTE\\_Month & ATTRIBUTE\\_Year & ATTRIBUTE\\_Sample\\_Location & ATTRIBUTE\\_Replicate & ATTRIBUTE\\_Spot & ATTRIBUTE\\_Latitude & ATTRIBUTE\\_Longitude & ATTRIBUTE\\_Sample\\_Area & ATTRIBUTE\\_Spot\\_Name & ATTRIBUTE\\_time\\_run & ATTRIBUTE\\_Injection\\_order & Feature & Intensities\\\\\n",
       "  & <chr> & <int> & <chr> & <int> & <int> & <chr> & <int> & <dbl> & <dbl> & <chr> & <chr> & <chr> & <int> & <fct> & <dbl>\\\\\n",
       "\\hline\n",
       "\t1 & Sample & 2 & Jan & 2018 &  1 & a &  1 & 32.93365 & -117.2648 & Torrey\\_Pines        & Lagoon\\_Outlet  & 16/01/2018 11:36 & 65 & X1\\_391.284\\_0.3\\_NA & 0\\\\\n",
       "\t2 & Sample & 2 & Jan & 2018 &  1 & b &  1 & 32.93365 & -117.2648 & Torrey\\_Pines        & Lagoon\\_Outlet  & 16/01/2018 11:52 & 66 & X1\\_391.284\\_0.3\\_NA & 0\\\\\n",
       "\t3 & Sample & 2 & Jan & 2018 & 10 & a & 10 & 32.86261 & -117.2604 & SIO\\_La\\_Jolla\\_Shores & SIO\\_South\\_Pier & 16/01/2018 16:23 & 83 & X1\\_391.284\\_0.3\\_NA & 0\\\\\n",
       "\\end{tabular}\n"
      ],
      "text/markdown": [
       "\n",
       "A data.frame: 3 × 15\n",
       "\n",
       "| <!--/--> | ATTRIBUTE_QCInfo &lt;chr&gt; | ATTRIBUTE_Batch &lt;int&gt; | ATTRIBUTE_Month &lt;chr&gt; | ATTRIBUTE_Year &lt;int&gt; | ATTRIBUTE_Sample_Location &lt;int&gt; | ATTRIBUTE_Replicate &lt;chr&gt; | ATTRIBUTE_Spot &lt;int&gt; | ATTRIBUTE_Latitude &lt;dbl&gt; | ATTRIBUTE_Longitude &lt;dbl&gt; | ATTRIBUTE_Sample_Area &lt;chr&gt; | ATTRIBUTE_Spot_Name &lt;chr&gt; | ATTRIBUTE_time_run &lt;chr&gt; | ATTRIBUTE_Injection_order &lt;int&gt; | Feature &lt;fct&gt; | Intensities &lt;dbl&gt; |\n",
       "|---|---|---|---|---|---|---|---|---|---|---|---|---|---|---|---|\n",
       "| 1 | Sample | 2 | Jan | 2018 |  1 | a |  1 | 32.93365 | -117.2648 | Torrey_Pines        | Lagoon_Outlet  | 16/01/2018 11:36 | 65 | X1_391.284_0.3_NA | 0 |\n",
       "| 2 | Sample | 2 | Jan | 2018 |  1 | b |  1 | 32.93365 | -117.2648 | Torrey_Pines        | Lagoon_Outlet  | 16/01/2018 11:52 | 66 | X1_391.284_0.3_NA | 0 |\n",
       "| 3 | Sample | 2 | Jan | 2018 | 10 | a | 10 | 32.86261 | -117.2604 | SIO_La_Jolla_Shores | SIO_South_Pier | 16/01/2018 16:23 | 83 | X1_391.284_0.3_NA | 0 |\n",
       "\n"
      ],
      "text/plain": [
       "  ATTRIBUTE_QCInfo ATTRIBUTE_Batch ATTRIBUTE_Month ATTRIBUTE_Year\n",
       "1 Sample           2               Jan             2018          \n",
       "2 Sample           2               Jan             2018          \n",
       "3 Sample           2               Jan             2018          \n",
       "  ATTRIBUTE_Sample_Location ATTRIBUTE_Replicate ATTRIBUTE_Spot\n",
       "1  1                        a                    1            \n",
       "2  1                        b                    1            \n",
       "3 10                        a                   10            \n",
       "  ATTRIBUTE_Latitude ATTRIBUTE_Longitude ATTRIBUTE_Sample_Area\n",
       "1 32.93365           -117.2648           Torrey_Pines         \n",
       "2 32.93365           -117.2648           Torrey_Pines         \n",
       "3 32.86261           -117.2604           SIO_La_Jolla_Shores  \n",
       "  ATTRIBUTE_Spot_Name ATTRIBUTE_time_run ATTRIBUTE_Injection_order\n",
       "1 Lagoon_Outlet       16/01/2018 11:36   65                       \n",
       "2 Lagoon_Outlet       16/01/2018 11:52   66                       \n",
       "3 SIO_South_Pier      16/01/2018 16:23   83                       \n",
       "  Feature           Intensities\n",
       "1 X1_391.284_0.3_NA 0          \n",
       "2 X1_391.284_0.3_NA 0          \n",
       "3 X1_391.284_0.3_NA 0          "
      ]
     },
     "metadata": {},
     "output_type": "display_data"
    }
   ],
   "source": [
    "#looking at just the 1st batch-wise data in the batch_data_list\n",
    "\n",
    "head(batch_data_list[[1]], 3)"
   ]
  },
  {
   "cell_type": "markdown",
   "id": "1cb54f30-aeff-4eb9-8536-fdd7ced2be09",
   "metadata": {},
   "source": [
    "As shown in the above header of 'batch_data_list[[1]]' dataframe, the column 'Feature' contains the feature information as 'Unique Library ID with X prefix_m/z value_Retention time_ Annotated compound name'. In the next step, we define a function to separate this information into separate columns, convert all these columns into numeric types."
   ]
  },
  {
   "cell_type": "code",
   "execution_count": 161,
   "id": "291c51cd-50c5-4c44-b99d-c7bd75548739",
   "metadata": {},
   "outputs": [],
   "source": [
    "# Define a function to process data\n",
    "process_data_by_batch <- function(data_batch) {\n",
    "  data_processed <- separate(data_batch,\n",
    "                             Feature,\n",
    "                             c('FeatureID', 'mz', 'RT', 'Compound_Name'),\n",
    "                             sep = \"_\",\n",
    "                             extra = \"merge\",\n",
    "                             remove = FALSE)\n",
    "  \n",
    "  # Convert mz and RT into numeric types\n",
    "  data_processed$mz <- as.numeric(data_processed$mz)\n",
    "  data_processed$RT <- as.numeric(data_processed$RT)\n",
    "  \n",
    "  # Process the FeatureID column\n",
    "  data_processed$FeatureID <- sub('^X', '', data_processed$FeatureID) \n",
    "  data_processed$FeatureID <- as.numeric(data_processed$FeatureID)\n",
    "  \n",
    "  data_processed <- arrange(data_processed, FeatureID) # Arrange data by FeatureID\n",
    "  \n",
    "  return(data_processed)\n",
    "}"
   ]
  },
  {
   "cell_type": "code",
   "execution_count": 162,
   "id": "90fe53bf-9139-422a-a0d6-ebeb92b24dbb",
   "metadata": {},
   "outputs": [],
   "source": [
    "# Process all batches\n",
    "batch_data_processed_list <- lapply(batch_data_list, process_data_by_batch)"
   ]
  },
  {
   "cell_type": "code",
   "execution_count": 163,
   "id": "638b52bd-4a5d-4ce9-8688-a9036d640249",
   "metadata": {},
   "outputs": [
    {
     "data": {
      "text/html": [
       "<table class=\"dataframe\">\n",
       "<caption>A data.frame: 3 × 19</caption>\n",
       "<thead>\n",
       "\t<tr><th></th><th scope=col>ATTRIBUTE_QCInfo</th><th scope=col>ATTRIBUTE_Batch</th><th scope=col>ATTRIBUTE_Month</th><th scope=col>ATTRIBUTE_Year</th><th scope=col>ATTRIBUTE_Sample_Location</th><th scope=col>ATTRIBUTE_Replicate</th><th scope=col>ATTRIBUTE_Spot</th><th scope=col>ATTRIBUTE_Latitude</th><th scope=col>ATTRIBUTE_Longitude</th><th scope=col>ATTRIBUTE_Sample_Area</th><th scope=col>ATTRIBUTE_Spot_Name</th><th scope=col>ATTRIBUTE_time_run</th><th scope=col>ATTRIBUTE_Injection_order</th><th scope=col>Feature</th><th scope=col>FeatureID</th><th scope=col>mz</th><th scope=col>RT</th><th scope=col>Compound_Name</th><th scope=col>Intensities</th></tr>\n",
       "\t<tr><th></th><th scope=col>&lt;chr&gt;</th><th scope=col>&lt;int&gt;</th><th scope=col>&lt;chr&gt;</th><th scope=col>&lt;int&gt;</th><th scope=col>&lt;int&gt;</th><th scope=col>&lt;chr&gt;</th><th scope=col>&lt;int&gt;</th><th scope=col>&lt;dbl&gt;</th><th scope=col>&lt;dbl&gt;</th><th scope=col>&lt;chr&gt;</th><th scope=col>&lt;chr&gt;</th><th scope=col>&lt;chr&gt;</th><th scope=col>&lt;int&gt;</th><th scope=col>&lt;fct&gt;</th><th scope=col>&lt;dbl&gt;</th><th scope=col>&lt;dbl&gt;</th><th scope=col>&lt;dbl&gt;</th><th scope=col>&lt;chr&gt;</th><th scope=col>&lt;dbl&gt;</th></tr>\n",
       "</thead>\n",
       "<tbody>\n",
       "\t<tr><th scope=row>1</th><td>Sample</td><td>2</td><td>Jan</td><td>2018</td><td> 1</td><td>a</td><td> 1</td><td>32.93365</td><td>-117.2648</td><td>Torrey_Pines       </td><td>Lagoon_Outlet </td><td>16/01/2018 11:36</td><td>65</td><td>X1_391.284_0.3_NA</td><td>1</td><td>391.284</td><td>0.3</td><td>NA</td><td>0</td></tr>\n",
       "\t<tr><th scope=row>2</th><td>Sample</td><td>2</td><td>Jan</td><td>2018</td><td> 1</td><td>b</td><td> 1</td><td>32.93365</td><td>-117.2648</td><td>Torrey_Pines       </td><td>Lagoon_Outlet </td><td>16/01/2018 11:52</td><td>66</td><td>X1_391.284_0.3_NA</td><td>1</td><td>391.284</td><td>0.3</td><td>NA</td><td>0</td></tr>\n",
       "\t<tr><th scope=row>3</th><td>Sample</td><td>2</td><td>Jan</td><td>2018</td><td>10</td><td>a</td><td>10</td><td>32.86261</td><td>-117.2604</td><td>SIO_La_Jolla_Shores</td><td>SIO_South_Pier</td><td>16/01/2018 16:23</td><td>83</td><td>X1_391.284_0.3_NA</td><td>1</td><td>391.284</td><td>0.3</td><td>NA</td><td>0</td></tr>\n",
       "</tbody>\n",
       "</table>\n"
      ],
      "text/latex": [
       "A data.frame: 3 × 19\n",
       "\\begin{tabular}{r|lllllllllllllllllll}\n",
       "  & ATTRIBUTE\\_QCInfo & ATTRIBUTE\\_Batch & ATTRIBUTE\\_Month & ATTRIBUTE\\_Year & ATTRIBUTE\\_Sample\\_Location & ATTRIBUTE\\_Replicate & ATTRIBUTE\\_Spot & ATTRIBUTE\\_Latitude & ATTRIBUTE\\_Longitude & ATTRIBUTE\\_Sample\\_Area & ATTRIBUTE\\_Spot\\_Name & ATTRIBUTE\\_time\\_run & ATTRIBUTE\\_Injection\\_order & Feature & FeatureID & mz & RT & Compound\\_Name & Intensities\\\\\n",
       "  & <chr> & <int> & <chr> & <int> & <int> & <chr> & <int> & <dbl> & <dbl> & <chr> & <chr> & <chr> & <int> & <fct> & <dbl> & <dbl> & <dbl> & <chr> & <dbl>\\\\\n",
       "\\hline\n",
       "\t1 & Sample & 2 & Jan & 2018 &  1 & a &  1 & 32.93365 & -117.2648 & Torrey\\_Pines        & Lagoon\\_Outlet  & 16/01/2018 11:36 & 65 & X1\\_391.284\\_0.3\\_NA & 1 & 391.284 & 0.3 & NA & 0\\\\\n",
       "\t2 & Sample & 2 & Jan & 2018 &  1 & b &  1 & 32.93365 & -117.2648 & Torrey\\_Pines        & Lagoon\\_Outlet  & 16/01/2018 11:52 & 66 & X1\\_391.284\\_0.3\\_NA & 1 & 391.284 & 0.3 & NA & 0\\\\\n",
       "\t3 & Sample & 2 & Jan & 2018 & 10 & a & 10 & 32.86261 & -117.2604 & SIO\\_La\\_Jolla\\_Shores & SIO\\_South\\_Pier & 16/01/2018 16:23 & 83 & X1\\_391.284\\_0.3\\_NA & 1 & 391.284 & 0.3 & NA & 0\\\\\n",
       "\\end{tabular}\n"
      ],
      "text/markdown": [
       "\n",
       "A data.frame: 3 × 19\n",
       "\n",
       "| <!--/--> | ATTRIBUTE_QCInfo &lt;chr&gt; | ATTRIBUTE_Batch &lt;int&gt; | ATTRIBUTE_Month &lt;chr&gt; | ATTRIBUTE_Year &lt;int&gt; | ATTRIBUTE_Sample_Location &lt;int&gt; | ATTRIBUTE_Replicate &lt;chr&gt; | ATTRIBUTE_Spot &lt;int&gt; | ATTRIBUTE_Latitude &lt;dbl&gt; | ATTRIBUTE_Longitude &lt;dbl&gt; | ATTRIBUTE_Sample_Area &lt;chr&gt; | ATTRIBUTE_Spot_Name &lt;chr&gt; | ATTRIBUTE_time_run &lt;chr&gt; | ATTRIBUTE_Injection_order &lt;int&gt; | Feature &lt;fct&gt; | FeatureID &lt;dbl&gt; | mz &lt;dbl&gt; | RT &lt;dbl&gt; | Compound_Name &lt;chr&gt; | Intensities &lt;dbl&gt; |\n",
       "|---|---|---|---|---|---|---|---|---|---|---|---|---|---|---|---|---|---|---|---|\n",
       "| 1 | Sample | 2 | Jan | 2018 |  1 | a |  1 | 32.93365 | -117.2648 | Torrey_Pines        | Lagoon_Outlet  | 16/01/2018 11:36 | 65 | X1_391.284_0.3_NA | 1 | 391.284 | 0.3 | NA | 0 |\n",
       "| 2 | Sample | 2 | Jan | 2018 |  1 | b |  1 | 32.93365 | -117.2648 | Torrey_Pines        | Lagoon_Outlet  | 16/01/2018 11:52 | 66 | X1_391.284_0.3_NA | 1 | 391.284 | 0.3 | NA | 0 |\n",
       "| 3 | Sample | 2 | Jan | 2018 | 10 | a | 10 | 32.86261 | -117.2604 | SIO_La_Jolla_Shores | SIO_South_Pier | 16/01/2018 16:23 | 83 | X1_391.284_0.3_NA | 1 | 391.284 | 0.3 | NA | 0 |\n",
       "\n"
      ],
      "text/plain": [
       "  ATTRIBUTE_QCInfo ATTRIBUTE_Batch ATTRIBUTE_Month ATTRIBUTE_Year\n",
       "1 Sample           2               Jan             2018          \n",
       "2 Sample           2               Jan             2018          \n",
       "3 Sample           2               Jan             2018          \n",
       "  ATTRIBUTE_Sample_Location ATTRIBUTE_Replicate ATTRIBUTE_Spot\n",
       "1  1                        a                    1            \n",
       "2  1                        b                    1            \n",
       "3 10                        a                   10            \n",
       "  ATTRIBUTE_Latitude ATTRIBUTE_Longitude ATTRIBUTE_Sample_Area\n",
       "1 32.93365           -117.2648           Torrey_Pines         \n",
       "2 32.93365           -117.2648           Torrey_Pines         \n",
       "3 32.86261           -117.2604           SIO_La_Jolla_Shores  \n",
       "  ATTRIBUTE_Spot_Name ATTRIBUTE_time_run ATTRIBUTE_Injection_order\n",
       "1 Lagoon_Outlet       16/01/2018 11:36   65                       \n",
       "2 Lagoon_Outlet       16/01/2018 11:52   66                       \n",
       "3 SIO_South_Pier      16/01/2018 16:23   83                       \n",
       "  Feature           FeatureID mz      RT  Compound_Name Intensities\n",
       "1 X1_391.284_0.3_NA 1         391.284 0.3 NA            0          \n",
       "2 X1_391.284_0.3_NA 1         391.284 0.3 NA            0          \n",
       "3 X1_391.284_0.3_NA 1         391.284 0.3 NA            0          "
      ]
     },
     "metadata": {},
     "output_type": "display_data"
    }
   ],
   "source": [
    "# Example: Inspecting just the processed data for the 1st batch\n",
    "head(batch_data_processed_list[[1]], 3) # Display first 3 rows of the processed 1st batch data"
   ]
  },
  {
   "cell_type": "markdown",
   "id": "dd208735-ed33-413a-bfae-fffc03cfa0f7",
   "metadata": {},
   "source": [
    "### Step 5: Process and plot the housekeeping feature for a chosen batch (e.g., the 1st batch)\n",
    "\n",
    "Let's have a look at tryptophan to see if there is a drift within th batch 1 data. As a first step, we extract the feature that belongs to the monoisotopic ion of tryptophan. <br>\n",
    "Monoisotopic mass of Tryptophan:   204.08987 Da  \n",
    "Monoisotopic mass of Hydrogen ion: 1.0073 Da"
   ]
  },
  {
   "cell_type": "code",
   "execution_count": 164,
   "id": "1e2bc837-e4a5-47a1-8108-56f376c0a8ec",
   "metadata": {},
   "outputs": [],
   "source": [
    "tryptophan <- batch_data_processed_list[[1]] %>% filter(abs(mz-(204.08987+1.0073))<0.01)"
   ]
  },
  {
   "cell_type": "code",
   "execution_count": 165,
   "id": "2eec9d23-acfe-4719-9557-ed8535d822bc",
   "metadata": {},
   "outputs": [
    {
     "data": {
      "text/html": [
       "<table class=\"dataframe\">\n",
       "<caption>A data.frame: 2 × 19</caption>\n",
       "<thead>\n",
       "\t<tr><th></th><th scope=col>ATTRIBUTE_QCInfo</th><th scope=col>ATTRIBUTE_Batch</th><th scope=col>ATTRIBUTE_Month</th><th scope=col>ATTRIBUTE_Year</th><th scope=col>ATTRIBUTE_Sample_Location</th><th scope=col>ATTRIBUTE_Replicate</th><th scope=col>ATTRIBUTE_Spot</th><th scope=col>ATTRIBUTE_Latitude</th><th scope=col>ATTRIBUTE_Longitude</th><th scope=col>ATTRIBUTE_Sample_Area</th><th scope=col>ATTRIBUTE_Spot_Name</th><th scope=col>ATTRIBUTE_time_run</th><th scope=col>ATTRIBUTE_Injection_order</th><th scope=col>Feature</th><th scope=col>FeatureID</th><th scope=col>mz</th><th scope=col>RT</th><th scope=col>Compound_Name</th><th scope=col>Intensities</th></tr>\n",
       "\t<tr><th></th><th scope=col>&lt;chr&gt;</th><th scope=col>&lt;int&gt;</th><th scope=col>&lt;chr&gt;</th><th scope=col>&lt;int&gt;</th><th scope=col>&lt;int&gt;</th><th scope=col>&lt;chr&gt;</th><th scope=col>&lt;int&gt;</th><th scope=col>&lt;dbl&gt;</th><th scope=col>&lt;dbl&gt;</th><th scope=col>&lt;chr&gt;</th><th scope=col>&lt;chr&gt;</th><th scope=col>&lt;chr&gt;</th><th scope=col>&lt;int&gt;</th><th scope=col>&lt;fct&gt;</th><th scope=col>&lt;dbl&gt;</th><th scope=col>&lt;dbl&gt;</th><th scope=col>&lt;dbl&gt;</th><th scope=col>&lt;chr&gt;</th><th scope=col>&lt;dbl&gt;</th></tr>\n",
       "</thead>\n",
       "<tbody>\n",
       "\t<tr><th scope=row>1</th><td>Sample</td><td>2</td><td>Jan</td><td>2018</td><td>1</td><td>a</td><td>1</td><td>32.93365</td><td>-117.2648</td><td>Torrey_Pines</td><td>Lagoon_Outlet</td><td>16/01/2018 11:36</td><td>65</td><td>X5234_205.097_2.301_Spectral Match to L-Tryptophan from NIST14</td><td>5234</td><td>205.097</td><td>2.301</td><td>Spectral Match to L-Tryptophan from NIST14</td><td>135022.53</td></tr>\n",
       "\t<tr><th scope=row>2</th><td>Sample</td><td>2</td><td>Jan</td><td>2018</td><td>1</td><td>b</td><td>1</td><td>32.93365</td><td>-117.2648</td><td>Torrey_Pines</td><td>Lagoon_Outlet</td><td>16/01/2018 11:52</td><td>66</td><td>X5234_205.097_2.301_Spectral Match to L-Tryptophan from NIST14</td><td>5234</td><td>205.097</td><td>2.301</td><td>Spectral Match to L-Tryptophan from NIST14</td><td> 63649.65</td></tr>\n",
       "</tbody>\n",
       "</table>\n"
      ],
      "text/latex": [
       "A data.frame: 2 × 19\n",
       "\\begin{tabular}{r|lllllllllllllllllll}\n",
       "  & ATTRIBUTE\\_QCInfo & ATTRIBUTE\\_Batch & ATTRIBUTE\\_Month & ATTRIBUTE\\_Year & ATTRIBUTE\\_Sample\\_Location & ATTRIBUTE\\_Replicate & ATTRIBUTE\\_Spot & ATTRIBUTE\\_Latitude & ATTRIBUTE\\_Longitude & ATTRIBUTE\\_Sample\\_Area & ATTRIBUTE\\_Spot\\_Name & ATTRIBUTE\\_time\\_run & ATTRIBUTE\\_Injection\\_order & Feature & FeatureID & mz & RT & Compound\\_Name & Intensities\\\\\n",
       "  & <chr> & <int> & <chr> & <int> & <int> & <chr> & <int> & <dbl> & <dbl> & <chr> & <chr> & <chr> & <int> & <fct> & <dbl> & <dbl> & <dbl> & <chr> & <dbl>\\\\\n",
       "\\hline\n",
       "\t1 & Sample & 2 & Jan & 2018 & 1 & a & 1 & 32.93365 & -117.2648 & Torrey\\_Pines & Lagoon\\_Outlet & 16/01/2018 11:36 & 65 & X5234\\_205.097\\_2.301\\_Spectral Match to L-Tryptophan from NIST14 & 5234 & 205.097 & 2.301 & Spectral Match to L-Tryptophan from NIST14 & 135022.53\\\\\n",
       "\t2 & Sample & 2 & Jan & 2018 & 1 & b & 1 & 32.93365 & -117.2648 & Torrey\\_Pines & Lagoon\\_Outlet & 16/01/2018 11:52 & 66 & X5234\\_205.097\\_2.301\\_Spectral Match to L-Tryptophan from NIST14 & 5234 & 205.097 & 2.301 & Spectral Match to L-Tryptophan from NIST14 &  63649.65\\\\\n",
       "\\end{tabular}\n"
      ],
      "text/markdown": [
       "\n",
       "A data.frame: 2 × 19\n",
       "\n",
       "| <!--/--> | ATTRIBUTE_QCInfo &lt;chr&gt; | ATTRIBUTE_Batch &lt;int&gt; | ATTRIBUTE_Month &lt;chr&gt; | ATTRIBUTE_Year &lt;int&gt; | ATTRIBUTE_Sample_Location &lt;int&gt; | ATTRIBUTE_Replicate &lt;chr&gt; | ATTRIBUTE_Spot &lt;int&gt; | ATTRIBUTE_Latitude &lt;dbl&gt; | ATTRIBUTE_Longitude &lt;dbl&gt; | ATTRIBUTE_Sample_Area &lt;chr&gt; | ATTRIBUTE_Spot_Name &lt;chr&gt; | ATTRIBUTE_time_run &lt;chr&gt; | ATTRIBUTE_Injection_order &lt;int&gt; | Feature &lt;fct&gt; | FeatureID &lt;dbl&gt; | mz &lt;dbl&gt; | RT &lt;dbl&gt; | Compound_Name &lt;chr&gt; | Intensities &lt;dbl&gt; |\n",
       "|---|---|---|---|---|---|---|---|---|---|---|---|---|---|---|---|---|---|---|---|\n",
       "| 1 | Sample | 2 | Jan | 2018 | 1 | a | 1 | 32.93365 | -117.2648 | Torrey_Pines | Lagoon_Outlet | 16/01/2018 11:36 | 65 | X5234_205.097_2.301_Spectral Match to L-Tryptophan from NIST14 | 5234 | 205.097 | 2.301 | Spectral Match to L-Tryptophan from NIST14 | 135022.53 |\n",
       "| 2 | Sample | 2 | Jan | 2018 | 1 | b | 1 | 32.93365 | -117.2648 | Torrey_Pines | Lagoon_Outlet | 16/01/2018 11:52 | 66 | X5234_205.097_2.301_Spectral Match to L-Tryptophan from NIST14 | 5234 | 205.097 | 2.301 | Spectral Match to L-Tryptophan from NIST14 |  63649.65 |\n",
       "\n"
      ],
      "text/plain": [
       "  ATTRIBUTE_QCInfo ATTRIBUTE_Batch ATTRIBUTE_Month ATTRIBUTE_Year\n",
       "1 Sample           2               Jan             2018          \n",
       "2 Sample           2               Jan             2018          \n",
       "  ATTRIBUTE_Sample_Location ATTRIBUTE_Replicate ATTRIBUTE_Spot\n",
       "1 1                         a                   1             \n",
       "2 1                         b                   1             \n",
       "  ATTRIBUTE_Latitude ATTRIBUTE_Longitude ATTRIBUTE_Sample_Area\n",
       "1 32.93365           -117.2648           Torrey_Pines         \n",
       "2 32.93365           -117.2648           Torrey_Pines         \n",
       "  ATTRIBUTE_Spot_Name ATTRIBUTE_time_run ATTRIBUTE_Injection_order\n",
       "1 Lagoon_Outlet       16/01/2018 11:36   65                       \n",
       "2 Lagoon_Outlet       16/01/2018 11:52   66                       \n",
       "  Feature                                                        FeatureID\n",
       "1 X5234_205.097_2.301_Spectral Match to L-Tryptophan from NIST14 5234     \n",
       "2 X5234_205.097_2.301_Spectral Match to L-Tryptophan from NIST14 5234     \n",
       "  mz      RT    Compound_Name                              Intensities\n",
       "1 205.097 2.301 Spectral Match to L-Tryptophan from NIST14 135022.53  \n",
       "2 205.097 2.301 Spectral Match to L-Tryptophan from NIST14  63649.65  "
      ]
     },
     "metadata": {},
     "output_type": "display_data"
    },
    {
     "data": {
      "text/html": [
       "<style>\n",
       ".list-inline {list-style: none; margin:0; padding: 0}\n",
       ".list-inline>li {display: inline-block}\n",
       ".list-inline>li:not(:last-child)::after {content: \"\\00b7\"; padding: 0 .5ex}\n",
       "</style>\n",
       "<ol class=list-inline><li>186</li><li>19</li></ol>\n"
      ],
      "text/latex": [
       "\\begin{enumerate*}\n",
       "\\item 186\n",
       "\\item 19\n",
       "\\end{enumerate*}\n"
      ],
      "text/markdown": [
       "1. 186\n",
       "2. 19\n",
       "\n",
       "\n"
      ],
      "text/plain": [
       "[1] 186  19"
      ]
     },
     "metadata": {},
     "output_type": "display_data"
    }
   ],
   "source": [
    "head(tryptophan,2)\n",
    "dim(tryptophan)"
   ]
  },
  {
   "cell_type": "code",
   "execution_count": 168,
   "id": "e31de499-71b4-4f93-a5a3-64e6ba52a4cb",
   "metadata": {},
   "outputs": [
    {
     "data": {
      "text/html": [
       "<style>\n",
       ".list-inline {list-style: none; margin:0; padding: 0}\n",
       ".list-inline>li {display: inline-block}\n",
       ".list-inline>li:not(:last-child)::after {content: \"\\00b7\"; padding: 0 .5ex}\n",
       "</style>\n",
       "<ol class=list-inline><li>'ATTRIBUTE_QCInfo'</li><li>'ATTRIBUTE_Batch'</li><li>'ATTRIBUTE_Month'</li><li>'ATTRIBUTE_Year'</li><li>'ATTRIBUTE_Sample_Location'</li><li>'ATTRIBUTE_Replicate'</li><li>'ATTRIBUTE_Spot'</li><li>'ATTRIBUTE_Latitude'</li><li>'ATTRIBUTE_Longitude'</li><li>'ATTRIBUTE_Sample_Area'</li><li>'ATTRIBUTE_Spot_Name'</li><li>'ATTRIBUTE_time_run'</li><li>'ATTRIBUTE_Injection_order'</li><li>'Feature'</li><li>'FeatureID'</li><li>'mz'</li><li>'RT'</li><li>'Compound_Name'</li><li>'Intensities'</li></ol>\n"
      ],
      "text/latex": [
       "\\begin{enumerate*}\n",
       "\\item 'ATTRIBUTE\\_QCInfo'\n",
       "\\item 'ATTRIBUTE\\_Batch'\n",
       "\\item 'ATTRIBUTE\\_Month'\n",
       "\\item 'ATTRIBUTE\\_Year'\n",
       "\\item 'ATTRIBUTE\\_Sample\\_Location'\n",
       "\\item 'ATTRIBUTE\\_Replicate'\n",
       "\\item 'ATTRIBUTE\\_Spot'\n",
       "\\item 'ATTRIBUTE\\_Latitude'\n",
       "\\item 'ATTRIBUTE\\_Longitude'\n",
       "\\item 'ATTRIBUTE\\_Sample\\_Area'\n",
       "\\item 'ATTRIBUTE\\_Spot\\_Name'\n",
       "\\item 'ATTRIBUTE\\_time\\_run'\n",
       "\\item 'ATTRIBUTE\\_Injection\\_order'\n",
       "\\item 'Feature'\n",
       "\\item 'FeatureID'\n",
       "\\item 'mz'\n",
       "\\item 'RT'\n",
       "\\item 'Compound\\_Name'\n",
       "\\item 'Intensities'\n",
       "\\end{enumerate*}\n"
      ],
      "text/markdown": [
       "1. 'ATTRIBUTE_QCInfo'\n",
       "2. 'ATTRIBUTE_Batch'\n",
       "3. 'ATTRIBUTE_Month'\n",
       "4. 'ATTRIBUTE_Year'\n",
       "5. 'ATTRIBUTE_Sample_Location'\n",
       "6. 'ATTRIBUTE_Replicate'\n",
       "7. 'ATTRIBUTE_Spot'\n",
       "8. 'ATTRIBUTE_Latitude'\n",
       "9. 'ATTRIBUTE_Longitude'\n",
       "10. 'ATTRIBUTE_Sample_Area'\n",
       "11. 'ATTRIBUTE_Spot_Name'\n",
       "12. 'ATTRIBUTE_time_run'\n",
       "13. 'ATTRIBUTE_Injection_order'\n",
       "14. 'Feature'\n",
       "15. 'FeatureID'\n",
       "16. 'mz'\n",
       "17. 'RT'\n",
       "18. 'Compound_Name'\n",
       "19. 'Intensities'\n",
       "\n",
       "\n"
      ],
      "text/plain": [
       " [1] \"ATTRIBUTE_QCInfo\"          \"ATTRIBUTE_Batch\"          \n",
       " [3] \"ATTRIBUTE_Month\"           \"ATTRIBUTE_Year\"           \n",
       " [5] \"ATTRIBUTE_Sample_Location\" \"ATTRIBUTE_Replicate\"      \n",
       " [7] \"ATTRIBUTE_Spot\"            \"ATTRIBUTE_Latitude\"       \n",
       " [9] \"ATTRIBUTE_Longitude\"       \"ATTRIBUTE_Sample_Area\"    \n",
       "[11] \"ATTRIBUTE_Spot_Name\"       \"ATTRIBUTE_time_run\"       \n",
       "[13] \"ATTRIBUTE_Injection_order\" \"Feature\"                  \n",
       "[15] \"FeatureID\"                 \"mz\"                       \n",
       "[17] \"RT\"                        \"Compound_Name\"            \n",
       "[19] \"Intensities\"              "
      ]
     },
     "metadata": {},
     "output_type": "display_data"
    }
   ],
   "source": [
    "colnames(tryptophan)"
   ]
  },
  {
   "cell_type": "code",
   "execution_count": 50,
   "id": "0faf3731-9411-43c2-ac46-a43d8847c2fe",
   "metadata": {},
   "outputs": [
    {
     "data": {
      "text/html": [
       "<style>\n",
       ".list-inline {list-style: none; margin:0; padding: 0}\n",
       ".list-inline>li {display: inline-block}\n",
       ".list-inline>li:not(:last-child)::after {content: \"\\00b7\"; padding: 0 .5ex}\n",
       "</style>\n",
       "<ol class=list-inline><li>5234</li><li>7683</li><li>12548</li></ol>\n"
      ],
      "text/latex": [
       "\\begin{enumerate*}\n",
       "\\item 5234\n",
       "\\item 7683\n",
       "\\item 12548\n",
       "\\end{enumerate*}\n"
      ],
      "text/markdown": [
       "1. 5234\n",
       "2. 7683\n",
       "3. 12548\n",
       "\n",
       "\n"
      ],
      "text/plain": [
       "[1]  5234  7683 12548"
      ]
     },
     "metadata": {},
     "output_type": "display_data"
    },
    {
     "data": {
      "text/html": [
       "<style>\n",
       ".list-inline {list-style: none; margin:0; padding: 0}\n",
       ".list-inline>li {display: inline-block}\n",
       ".list-inline>li:not(:last-child)::after {content: \"\\00b7\"; padding: 0 .5ex}\n",
       "</style>\n",
       "<ol class=list-inline><li>'Spectral Match to L-Tryptophan from NIST14'</li><li>'NA'</li></ol>\n"
      ],
      "text/latex": [
       "\\begin{enumerate*}\n",
       "\\item 'Spectral Match to L-Tryptophan from NIST14'\n",
       "\\item 'NA'\n",
       "\\end{enumerate*}\n"
      ],
      "text/markdown": [
       "1. 'Spectral Match to L-Tryptophan from NIST14'\n",
       "2. 'NA'\n",
       "\n",
       "\n"
      ],
      "text/plain": [
       "[1] \"Spectral Match to L-Tryptophan from NIST14\"\n",
       "[2] \"NA\"                                        "
      ]
     },
     "metadata": {},
     "output_type": "display_data"
    }
   ],
   "source": [
    "unique(tryptophan$FeatureID)\n",
    "unique(tryptophan$Compound_Name)"
   ]
  },
  {
   "cell_type": "code",
   "execution_count": 167,
   "id": "0324e7bf-087c-4802-ac11-5c02a18050db",
   "metadata": {},
   "outputs": [
    {
     "data": {
      "image/png": "[encoded data removed]",
      "text/plain": [
       "plot without title"
      ]
     },
     "metadata": {
      "image/png": {
       "height": 420,
       "width": 420
      }
     },
     "output_type": "display_data"
    }
   ],
   "source": [
    "tryptophan %>% \n",
    "  ggplot(aes(ATTRIBUTE_Injection_order, Intensities, color=ATTRIBUTE_QCInfo, group=ATTRIBUTE_QCInfo)) +\n",
    "  geom_point() +\n",
    "  geom_line() +\n",
    "  theme_classic()"
   ]
  },
  {
   "cell_type": "markdown",
   "id": "cf2b8f94-5f4d-4fb5-925f-4a7f4927df8b",
   "metadata": {},
   "source": [
    "Users can repeat Step 5 for different batches by changing the index in `batch_data_list`."
   ]
  },
  {
   "cell_type": "markdown",
   "id": "3a055e24-9160-4cc8-867a-026a0b3493bb",
   "metadata": {},
   "source": [
    "Then, we look at the observed intensity of tryptophan ('Intensities') during the analytical run. Hence, we order the intensity by the injection order ('ATTRIBUTE_Injection_Order')."
   ]
  },
  {
   "cell_type": "markdown",
   "id": "e6e535b1",
   "metadata": {},
   "source": [
    "### LOESS correction"
   ]
  },
  {
   "cell_type": "markdown",
   "id": "e017f291",
   "metadata": {},
   "source": [
    "We need a helper function to run the loess correction. The inputs for the function are: the intensity values, a logical vector saying if it is a QC sample or not and the injection order of the samples."
   ]
  },
  {
   "cell_type": "markdown",
   "id": "c9bce619-7dfd-464b-ad1c-eb07d68f9a7b",
   "metadata": {},
   "source": [
    "<p style='text-align: justify;'> The function <code>drift_correct_with_LOESS_on_QCs_vec</code> performs LOESS (Locally Estimated Scatterplot Smoothing) correction on the input data for the features that are Quality Control (QC) samples. LOESS is a non-parametric regression method that estimates a smooth curve through scatter plot data by locally fitting a polynomial to the data. The function first extracts the training data by selecting only the QC samples from the input data and their corresponding running order. It then cross-validates the LOESS model for each feature and predicts the observations for the feature using the optimal model. The function then corrects the observations that have a non-missing prediction by subtracting the predicted technical signal from the observations for the feature. Finally, the function computes the coefficient of determination (R<sup>2</sup>) for all observations.</p>\n",
    "\n",
    "<p style='text-align: justify;'> The <code>purrr::possibly</code> function is used to handle errors that may occur in the `drift_correct_with_LOESS_on_QCs_vec` function, by returning a value instead of an error message. The returned value is a list that contains the corrected, predicted, and original values of the input data, and the coefficient of determination for all observations. </p>"
   ]
  },
  {
   "cell_type": "code",
   "execution_count": 68,
   "id": "99a3a6cb-5402-42b5-8398-cf15fc61ffa8",
   "metadata": {},
   "outputs": [],
   "source": [
    "# Drift correction function using LOESS regression on QC samples\n",
    "# Args:\n",
    "#   data.input: A numeric vector representing feature intensities.\n",
    "#   is.QC: A logical vector indicating which samples are quality controls.\n",
    "#   running.order: Numeric vector indicating the sample run order.\n",
    "#   loess.span.vals: Optional numeric vector of span values for LOESS fitting.\n",
    "#   loess.cv.folds: Optional integer specifying the number of cross-validation folds.\n",
    "# Returns:\n",
    "#   A list with the original data, predicted values using LOESS, drift-corrected values, and R squared value.\n",
    "\n",
    "drift_correct_with_LOESS_on_QCs_vec <- function(data.input, is.QC, running.order, \n",
    "                                               loess.span.vals = seq(0.25, 1, by = 0.05), \n",
    "                                               loess.cv.folds = 5) {\n",
    "  \n",
    "  # Load necessary packages\n",
    "  library(bisoreg)\n",
    "  library(caret)\n",
    "  \n",
    "  # Extract training data\n",
    "  data.training <- data.input[is.QC]\n",
    "  running.order.training <- running.order[is.QC]\n",
    "  \n",
    "  # Cross-validate the LOESS model to find the optimal model\n",
    "  model <- bisoreg::loess.wrapper(x = running.order.training, \n",
    "                                  y = data.training, \n",
    "                                  span.vals = loess.span.vals, \n",
    "                                  folds = loess.cv.folds)\n",
    "  \n",
    "  # Get predictions based on the LOESS model\n",
    "  predictions <- predict(model, newdata = running.order)\n",
    "  valid_predictions <- !is.na(predictions)\n",
    "  \n",
    "  # Calculate the drift-corrected values\n",
    "  corrected_values <- ifelse(valid_predictions, \n",
    "                             data.input - predictions + mean(data.input, na.rm = TRUE), \n",
    "                             NA)\n",
    "  \n",
    "  # Calculate R squared value\n",
    "  R_sq_value <- ifelse(valid_predictions, \n",
    "                       caret::R2(pred = predictions[valid_predictions], \n",
    "                                 obs = data.input[valid_predictions]), \n",
    "                       NA)\n",
    "  \n",
    "  # Compile the output\n",
    "  output <- list(\n",
    "    x.original = data.input,\n",
    "    x.predicted = predictions,\n",
    "    x.corrected = corrected_values,\n",
    "    R.sq = R_sq_value\n",
    "  )\n",
    "  \n",
    "  return(output)\n",
    "}\n",
    "\n",
    "# Function to perform drift correction using LOESS regression on QC samples\n",
    "drift_correct_with_LOESS_on_QCs_vec_p <- purrr::possibly(drift_correct_with_LOESS_on_QCs_vec, list(x.corrected=NA))"
   ]
  },
  {
   "cell_type": "markdown",
   "id": "97fa42d5-72c8-409b-91f1-72c99e0befee",
   "metadata": {},
   "source": [
    "**Apply drift correction to the first batch of processed data:**\n",
    "<a id = 'drift_correction'></a>\n",
    "\n",
    "Here, users need to specify the label for QC-Samples within their metadata attribute. For instance, it might be labeled as 'Pooled_Samples'."
   ]
  },
  {
   "cell_type": "code",
   "execution_count": null,
   "id": "73b1e5e7-cc54-47d8-932b-8701bc527f86",
   "metadata": {},
   "outputs": [],
   "source": [
    "data_long_1_corrected <- batch_data_processed_list[[1]] %>%\n",
    "  mutate(is_QC = (ATTRIBUTE_QCInfo == \"Pooled_Samples\")) %>%\n",
    "  group_nest(mz, RT, FeatureID) %>%\n",
    "  mutate(data_corrected = map(data, \n",
    "                              ~ suppressMessages(mutate(..1, \n",
    "                                                        drift_corrected_intensities = drift_correct_with_LOESS_on_QCs_vec_p(Intensities, \n",
    "                                                                                                                              is_QC, \n",
    "                                                                                                                              ATTRIBUTE_Injection_Order)$x.corrected)))) %>%\n",
    "  unnest(cols = c(data_corrected))\n",
    "\n",
    "# The result is stored in `data_long_1_corrected`"
   ]
  },
  {
   "cell_type": "code",
   "execution_count": null,
   "id": "9b17d78d-0a34-4907-91f3-3e77b4b56c05",
   "metadata": {},
   "outputs": [],
   "source": [
    "head(data_long_1_corrected)"
   ]
  },
  {
   "cell_type": "markdown",
   "id": "9c068a5f-f247-4ed3-877f-29ab63e11fa6",
   "metadata": {},
   "source": [
    "Here's what each line is doing:\n",
    "\n",
    "1. Add a new column 'is_QC' which is TRUE if the value in the 'ATTRIBUTE_QCInfo' column is 'Pooled_Samples', and FALSE otherwise.\n",
    "\n",
    "2. Group the data by 'mz', 'RT', 'FeatureID', and create nested data frames for each group.\n",
    "\n",
    "3. For each nested data frame, apply the 'drift_correct_with_LOESS_on_QCs_vec_p' function to correct for drift. This function takes the 'Intensities' column as input, along with the 'is_QC' and 'ATTRIBTE_Injection_Order' columns, and returns the corrected values in a column called 'x.corrected'. The 'drift_correct_with_LOESS_on_QCs_vec_p' function is wrapped in 'suppressMessages' to prevent any warning messages from being displayed.\n",
    "\n",
    "4. Unnest the nested data frames to create a single table, with the new 'data_corrected' column containing the drift-corrected intensitie\n",
    "\n",
    "Overall, this code is performing a complex data processing pipeline that involves grouping, nested data frames, and applying a function to correct for drift in the mass spectrometry data. The resulting data frame contains the original data along with the corrected intensities in a new column."
   ]
  },
  {
   "cell_type": "code",
   "execution_count": null,
   "id": "cdce5f8e-cb0d-4dc3-978c-291e8509d808",
   "metadata": {},
   "outputs": [],
   "source": [
    "# Visualising the drift-corrected intensities:\n",
    "tryptophan %>% \n",
    "  ggplot(aes(ATTRIBUTE_Injection_order, drift_corrected_intensities, color = ATTRIBUTE_QCInfo, group = ATTRIBUTE_QCInfo)) +\n",
    "  geom_point() +\n",
    "  geom_line() +\n",
    "  theme_classic()"
   ]
  },
  {
   "cell_type": "markdown",
   "id": "3dd5f936-a41a-47f0-a95b-e12bf27f21fb",
   "metadata": {},
   "source": [
    "Repeat the process for the other batches similar to Batch 1 data following the [above steps](#drift_correction). Then simply combine the batch_corrected data from all the batches such as:"
   ]
  },
  {
   "cell_type": "code",
   "execution_count": null,
   "id": "87514a60-2b1e-407b-90e6-fa634243938d",
   "metadata": {},
   "outputs": [],
   "source": [
    "#combining all the batch corrected data\n",
    "batch_corrected <- rbind(data_long_1_corrected, data_long_2_corrected, data_long_3_corrected)\n",
    "\n",
    "#removing unwanted columns\n",
    "batch_corrected <- batch_corrected %>%\n",
    "  select(-c('FeatureID', 'mz', 'RT', 'Compound_Name', 'Intensities'))"
   ]
  },
  {
   "cell_type": "code",
   "execution_count": null,
   "id": "93781770-4264-4ed5-912b-eedc3ae5e25a",
   "metadata": {},
   "outputs": [],
   "source": [
    "#converting to wide format data again. Here, we are taking the drift corrected intensties\n",
    "data_wide <- tidyr::spread(data_long, Feature, drift_corrected_intensities)\n",
    "\n",
    "head(data_wide)\n",
    "dim(data_wide)"
   ]
  },
  {
   "cell_type": "code",
   "execution_count": null,
   "id": "e23bd5f2-abdf-45a3-af9e-e6c83befd796",
   "metadata": {},
   "outputs": [],
   "source": [
    "#write.csv(data_wide, \"Batch-corrected-dataframe.csv\")"
   ]
  },
  {
   "cell_type": "markdown",
   "id": "a953919d-40e0-48cd-9eca-b615997b0d46",
   "metadata": {},
   "source": [
    "This batch-corrected data can be taken again to the main Stats Notebook to continue with the downstream analysis."
   ]
  }
 ],
 "metadata": {
  "colab": {
   "provenance": []
  },
  "kernelspec": {
   "display_name": "R",
   "language": "R",
   "name": "ir"
  },
  "language_info": {
   "codemirror_mode": "r",
   "file_extension": ".r",
   "mimetype": "text/x-r-source",
   "name": "R",
   "pygments_lexer": "r",
   "version": "4.1.3"
  }
 },
 "nbformat": 4,
 "nbformat_minor": 5
}
