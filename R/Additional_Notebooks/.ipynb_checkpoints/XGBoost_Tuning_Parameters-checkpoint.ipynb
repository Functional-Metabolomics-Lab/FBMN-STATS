{
 "cells": [
  {
   "cell_type": "markdown",
   "id": "92d85679-0473-4a7c-9197-86c9cd1c5f87",
   "metadata": {},
   "source": [
    "# Supervised learning with XGBoost"
   ]
  },
  {
   "cell_type": "markdown",
   "id": "5032fe1e-e111-4451-ad12-30a2949f4bdf",
   "metadata": {},
   "source": [
    "**Updated on:** 2023-03-22 16:43:43 CET\n",
    "\n",
    "In this Jupyter Notebook we perform supervised learning with xgboost.\n",
    "\n",
    "**Authors**: Francesco Russo (russof85@gmail.com), Abzer Kelminal (abzer.shah@uni-tuebingen.de)<br>\n",
    "**Input file format**: .csv files or .txt files <br>\n",
    "**Outputs**: .csv files, .pdf & .svg images  <br>\n",
    "**Dependencies**: pacman, tidyverse, svglite, xgboost, caret, doParallel\n",
    "\n",
    "The session info at the end of this notebook gives info about the versions of all the packages used here.\n",
    "\n",
    "---"
   ]
  },
  {
   "cell_type": "markdown",
   "id": "f60d3f76-9867-4031-a7bb-3a2181eb765d",
   "metadata": {},
   "source": [
    "Assuming the user for this notebook has already used the Stats Notebook (Performing basic uni- and multivariate statistical analsysis of untargeted metabolomics data) [![Open in Colab](https://colab.research.google.com/assets/colab-badge.svg)](https://colab.research.google.com/github/Functional-Metabolomics-Lab/FBMN-STATS/blob/main/R/Stats_Untargeted_Metabolomics.ipynb) , we will proceed with loading in necessary files and perform XGBoost"
   ]
  },
  {
   "cell_type": "markdown",
   "id": "b48430ae-27d8-42a1-bceb-e6285c6e163d",
   "metadata": {},
   "source": [
    "<b> Introduction to the Dataset:</b> <br>\n",
    "\n",
    "<p style='text-align: justify;'> The example files used in this tutorial are part of a study published by <a href=\"https://doi.org/10.1016/j.chemosphere.2020.129450\">Petras and coworkers (2021)</a>. Here, the authors investigated the coastal environments in northern San Diego, USA, after a major rainfall event in winter 2017/2018 to observe the seawater chemotype. The dataset contains surface seawater samples collected (−10 cm) at 30 sites spaced approximately 300 meters apart and 50–100 meters offshore along the San Diego coastline from Torrey Pines State Beach to Mission Bay (Torrey Pines, La Jolla Shores, La Jolla Reefs, Pacific and Mission Beach) at 3 different time points: Dec 2017, Jan 2018 (After a major rainfall, resulting in decreased salinity of water) and Oct 2018. As a result of the study, a huge shift was observed in the seawater's organic matter chemotype after the rainfall. The original article does not contain the data of seawater samples collected during October 2018, but are added to this tutorial to have an increased sample size. The datasets used here can be found in the MassIVE repository: <a href=\"https://massive.ucsd.edu/ProteoSAFe/dataset.jsp?task=8a8139d9248b43e0b0fda17495387756\">MSV000082312</a> and <a href=\"https://massive.ucsd.edu/ProteoSAFe/dataset.jsp?task=c8411b76f30a4f4ca5d3e42ec13998dc\">MSV000085786</a>. The .mzml files were preprocessed using <a href=\"http://mzmine.github.io/\">MZmine3</a> and the <a href=\"https://gnps.ucsd.edu/ProteoSAFe/status.jsp?task=cf6e14abf5604f47b28b467a513d3532\">feature-based molecular networking workflow in GNPS</a>.</p>\n",
    "\n",
    "\n",
    "\n",
    "<b> Packages used:</b><br>\n",
    "- pacman - p_load function from this package can install and load the packages simultaneously thus reducing the installation time\n",
    "- tidyverse - used for data science. The eight core packages inside this library are: ggplot2 (data visualisation), dplyr (data manipulation), tidyr, readr, purrr, tibble, stringr, and forcats\n",
    "- svglite - to save plots in .svg format: although 'ggsave' function is provided in ggplot2 to save as .svg, for plots that are not ggplots, such as heatmaps, 'ggsave' will not work. Hence, we use svglite\n",
    "- xgboost - for supervised learning\n",
    "- caret - for tuning parameters during supervised learning and for performance evaluation\n",
    "- doParallel - for performing parallel computation during supervised learning\n",
    "\n",
    "---"
   ]
  },
  {
   "cell_type": "markdown",
   "id": "6a9873be-2ca4-47f7-838f-36268e77a727",
   "metadata": {},
   "source": [
    "In this notebook, we are going to use the eXtreme Gradient Boosting (XGBoost) algorithm to predict the samples according to their sample site.\n",
    "More information about supervised analysis can be found here:\n",
    "<a href=\"https://xgboost.readthedocs.io/en/stable/R-package/xgboostPresentation.html\">R package for training an XGBoost model</a>, <a href=\"https://topepo.github.io/caret/\">R package 'Caret' for training different machine learning models</a>"
   ]
  },
  {
   "cell_type": "code",
   "execution_count": 238,
   "id": "d20d6b0c-720f-4947-9f1c-6b2fe21658b3",
   "metadata": {},
   "outputs": [],
   "source": [
    "#installing the necessary package\n",
    "options(install.packages.compile.from.source=\"never\")\n",
    "if (!require(\"pacman\")) install.packages(\"pacman\") #Installing pacman if not present\n",
    "\n",
    "#calling all libraries\n",
    "pacman::p_load(\"tidyverse\",\"svglite\",\"xgboost\",\"caret\",\"doParallel\")"
   ]
  },
  {
   "cell_type": "code",
   "execution_count": 4,
   "id": "f2cb879d-0a4a-4907-acbd-126ab73c184c",
   "metadata": {},
   "outputs": [
    {
     "data": {
      "text/plain": [
       "R version 4.1.3 (2022-03-10)\n",
       "Platform: x86_64-w64-mingw32/x64 (64-bit)\n",
       "Running under: Windows 10 x64 (build 22621)\n",
       "\n",
       "Matrix products: default\n",
       "\n",
       "locale:\n",
       "[1] LC_COLLATE=English_United Kingdom.1252 \n",
       "[2] LC_CTYPE=English_United Kingdom.1252   \n",
       "[3] LC_MONETARY=English_United Kingdom.1252\n",
       "[4] LC_NUMERIC=C                           \n",
       "[5] LC_TIME=English_United Kingdom.1252    \n",
       "\n",
       "attached base packages:\n",
       "[1] parallel  stats     graphics  grDevices utils     datasets  methods  \n",
       "[8] base     \n",
       "\n",
       "other attached packages:\n",
       " [1] doParallel_1.0.17 iterators_1.0.14  foreach_1.5.2     caret_6.0-93     \n",
       " [5] lattice_0.20-45   xgboost_1.6.0.1   svglite_2.1.1     lubridate_1.9.2  \n",
       " [9] forcats_1.0.0     stringr_1.5.0     dplyr_1.1.0       purrr_1.0.1      \n",
       "[13] readr_2.1.4       tidyr_1.3.0       tibble_3.1.8      ggplot2_3.4.1    \n",
       "[17] tidyverse_2.0.0   pacman_0.5.1     \n",
       "\n",
       "loaded via a namespace (and not attached):\n",
       " [1] jsonlite_1.8.4       splines_4.1.3        prodlim_2019.11.13  \n",
       " [4] stats4_4.1.3         globals_0.16.2       ipred_0.9-13        \n",
       " [7] pillar_1.8.1         glue_1.6.2           pROC_1.18.0         \n",
       "[10] uuid_1.1-0           digest_0.6.31        hardhat_1.2.0       \n",
       "[13] colorspace_2.1-0     recipes_1.0.5        htmltools_0.5.4     \n",
       "[16] Matrix_1.5-3         plyr_1.8.8           timeDate_4022.108   \n",
       "[19] pkgconfig_2.0.3      listenv_0.9.0        scales_1.2.1        \n",
       "[22] gower_1.0.1          lava_1.7.2.1         tzdb_0.3.0          \n",
       "[25] timechange_0.2.0     generics_0.1.3       ellipsis_0.3.2      \n",
       "[28] withr_2.5.0          repr_1.1.6           nnet_7.3-18         \n",
       "[31] cli_3.6.0            survival_3.5-3       magrittr_2.0.3      \n",
       "[34] crayon_1.5.2         evaluate_0.20        fansi_1.0.4         \n",
       "[37] future_1.32.0        parallelly_1.34.0    nlme_3.1-162        \n",
       "[40] MASS_7.3-58.3        class_7.3-21         tools_4.1.3         \n",
       "[43] data.table_1.14.8    hms_1.1.2            lifecycle_1.0.3     \n",
       "[46] munsell_0.5.0        compiler_4.1.3       systemfonts_1.0.4   \n",
       "[49] rlang_1.0.6          grid_4.1.3           pbdZMQ_0.3-9        \n",
       "[52] IRkernel_1.3.2       base64enc_0.1-3      ModelMetrics_1.2.2.2\n",
       "[55] gtable_0.3.1         codetools_0.2-19     reshape2_1.4.4      \n",
       "[58] R6_2.5.1             fastmap_1.1.1        future.apply_1.10.0 \n",
       "[61] utf8_1.2.3           stringi_1.7.12       IRdisplay_1.1       \n",
       "[64] Rcpp_1.0.10          vctrs_0.5.2          rpart_4.1.19        \n",
       "[67] tidyselect_1.2.0    "
      ]
     },
     "metadata": {},
     "output_type": "display_data"
    }
   ],
   "source": [
    "sessionInfo()"
   ]
  },
  {
   "cell_type": "markdown",
   "id": "c058c909-9f6a-4c7c-b1f0-8759011747be",
   "metadata": {},
   "source": [
    "- <b>\"attached base packages\"</b> are the packages that come with R and we do not need to install them. \n",
    "- <b>\"other attached packages\"</b>  are the packages we installed and loaded by library(). We can call all the functions belonging to the attached packages by just specifying the function name.\n",
    "- <b>\"loaded via a namespace (and not attached)\"</b> are the packages that are downloaded as dependencies to the installed packages. We can call them by namespace \"::\" such as data.table::fread() which refers to fread() from data.table\n",
    "\n",
    "---"
   ]
  },
  {
   "cell_type": "markdown",
   "id": "c99db22c-10f5-44ac-9116-c7c759d056b1",
   "metadata": {},
   "source": [
    "# Load in the cleaned up table and metadata:"
   ]
  },
  {
   "cell_type": "markdown",
   "id": "abffb635-fc88-4654-b11a-eee0b92fbeb7",
   "metadata": {},
   "source": [
    "When you run the next cell, it outputs a tab. Enter the path of the folder containing input files in the output tab."
   ]
  },
  {
   "cell_type": "code",
   "execution_count": null,
   "id": "c00fccc6-4552-4b58-9a3a-aa54f2c0049e",
   "metadata": {},
   "outputs": [],
   "source": [
    "#setting a working directory\n",
    "Directory <- normalizePath(readline(\"Enter the path for working directory in the output tab: \"),\"/\",mustWork=FALSE)\n",
    "setwd(Directory)"
   ]
  },
  {
   "cell_type": "code",
   "execution_count": 70,
   "id": "e10153d7-34c6-4435-8fee-b7da551ac0a7",
   "metadata": {},
   "outputs": [
    {
     "name": "stdout",
     "output_type": "stream",
     "text": [
      "[1] \"2023-03-22_cleaned_Imp_s_metadata_merged.csv\"\n",
      "[2] \"2023-03-22_Ft_md_merged.csv\"                 \n",
      "[3] \"2023-03-22_normTIC_metadata_merged.csv\"      \n"
     ]
    }
   ],
   "source": [
    "file_list <- print(list.files('.'))"
   ]
  },
  {
   "cell_type": "markdown",
   "id": "2d0c059c-d0a3-4791-b7c1-1aca47fbb601",
   "metadata": {},
   "source": [
    "Lets load the feature table **\"cleaned_Imp_s_metadata_merged\"** as **Data**. This is after data-cleanup (Blank removal and Imputation, scaling) merged with metadata (metadata without Blanks). We are going to use this object 'Data' to achieve our supervised classification task."
   ]
  },
  {
   "cell_type": "code",
   "execution_count": 71,
   "id": "b7f80f20-db95-45c4-9bc6-820812fcd756",
   "metadata": {},
   "outputs": [],
   "source": [
    "Data <- data.table::fread(file_list[1]) "
   ]
  },
  {
   "cell_type": "code",
   "execution_count": 72,
   "id": "8c049967-9bca-45e6-ba3a-9f0359507ca9",
   "metadata": {},
   "outputs": [
    {
     "data": {
      "text/html": [
       "<table class=\"dataframe\">\n",
       "<caption>A data.table: 6 × 9107</caption>\n",
       "<thead>\n",
       "\t<tr><th scope=col>V1</th><th scope=col>filename</th><th scope=col>ATTRIBUTE_Sample.Type</th><th scope=col>ATTRIBUTE_Batch</th><th scope=col>ATTRIBUTE_Month</th><th scope=col>ATTRIBUTE_Year</th><th scope=col>ATTRIBUTE_Sample_Location</th><th scope=col>ATTRIBUTE_Replicate</th><th scope=col>ATTRIBUTE_Spot</th><th scope=col>ATTRIBUTE_Latitude</th><th scope=col>...</th><th scope=col>X9833_268.175_2.821_NA</th><th scope=col>X9860_240.144_2.824_NA</th><th scope=col>X9876_414.139_2.761_NA</th><th scope=col>X9884_190.05_2.832_NA</th><th scope=col>X9897_333.144_2.881_NA</th><th scope=col>X9909_400.16_2.813_NA</th><th scope=col>X9918_252.123_2.833_NA</th><th scope=col>X9957_402.139_3.01_NA</th><th scope=col>X9972_323.123_2.716_NA</th><th scope=col>X9995_276.159_2.805_NA</th></tr>\n",
       "\t<tr><th scope=col>&lt;int&gt;</th><th scope=col>&lt;chr&gt;</th><th scope=col>&lt;chr&gt;</th><th scope=col>&lt;int&gt;</th><th scope=col>&lt;chr&gt;</th><th scope=col>&lt;int&gt;</th><th scope=col>&lt;int&gt;</th><th scope=col>&lt;chr&gt;</th><th scope=col>&lt;int&gt;</th><th scope=col>&lt;dbl&gt;</th><th scope=col>...</th><th scope=col>&lt;dbl&gt;</th><th scope=col>&lt;dbl&gt;</th><th scope=col>&lt;dbl&gt;</th><th scope=col>&lt;dbl&gt;</th><th scope=col>&lt;dbl&gt;</th><th scope=col>&lt;dbl&gt;</th><th scope=col>&lt;dbl&gt;</th><th scope=col>&lt;dbl&gt;</th><th scope=col>&lt;dbl&gt;</th><th scope=col>&lt;dbl&gt;</th></tr>\n",
       "</thead>\n",
       "<tbody>\n",
       "\t<tr><td>1</td><td>SD_01-2018_1_a.mzXML </td><td>Sample</td><td>2</td><td>Jan</td><td>2018</td><td> 1</td><td>a</td><td> 1</td><td>32.93365</td><td>...</td><td> 0.50953425</td><td> 0.3411530</td><td>-0.9690079</td><td>-0.2136334</td><td>-1.0317304</td><td>-0.3097998</td><td>-0.177995</td><td> 1.1679223</td><td>-0.9536029</td><td>-0.720846274</td></tr>\n",
       "\t<tr><td>2</td><td>SD_01-2018_1_b.mzXML </td><td>Sample</td><td>2</td><td>Jan</td><td>2018</td><td> 1</td><td>b</td><td> 1</td><td>32.93365</td><td>...</td><td> 0.09238905</td><td> 0.5326194</td><td> 1.0516269</td><td>-0.3038794</td><td>-0.1930184</td><td>-0.7478181</td><td> 1.252001</td><td> 0.9551530</td><td>-0.9361819</td><td>-0.008639177</td></tr>\n",
       "\t<tr><td>3</td><td>SD_01-2018_10_a.mzXML</td><td>Sample</td><td>2</td><td>Jan</td><td>2018</td><td>10</td><td>a</td><td>10</td><td>32.86261</td><td>...</td><td>-0.24639335</td><td>-0.2865859</td><td> 4.3836879</td><td>-0.6676765</td><td>-0.4632050</td><td> 4.5197644</td><td> 2.438135</td><td>-0.7384554</td><td> 1.9221174</td><td> 0.486389335</td></tr>\n",
       "\t<tr><td>4</td><td>SD_01-2018_10_b.mzXML</td><td>Sample</td><td>2</td><td>Jan</td><td>2018</td><td>10</td><td>b</td><td>10</td><td>32.86261</td><td>...</td><td>-0.25192058</td><td>-0.2285435</td><td> 0.4843269</td><td>-0.5684610</td><td> 1.5535042</td><td>-0.8303057</td><td> 1.434401</td><td> 4.0595393</td><td> 0.6681850</td><td> 0.985037345</td></tr>\n",
       "\t<tr><td>5</td><td>SD_01-2018_11_a.mzXML</td><td>Sample</td><td>2</td><td>Jan</td><td>2018</td><td>11</td><td>a</td><td>11</td><td>32.85601</td><td>...</td><td>-0.28563018</td><td>-0.2476378</td><td> 1.5809568</td><td>-0.6620708</td><td> 0.3906509</td><td>-0.6962297</td><td> 2.185162</td><td>-0.5521619</td><td> 0.4461508</td><td> 1.021271440</td></tr>\n",
       "\t<tr><td>6</td><td>SD_01-2018_11_b.mzXML</td><td>Sample</td><td>2</td><td>Jan</td><td>2018</td><td>11</td><td>b</td><td>11</td><td>32.85601</td><td>...</td><td>-0.24677023</td><td>-0.2403817</td><td> 0.3811471</td><td>-0.6653472</td><td>-1.1098859</td><td> 3.4050080</td><td> 1.824056</td><td>-0.6258216</td><td>-0.7639999</td><td>-0.815254939</td></tr>\n",
       "</tbody>\n",
       "</table>\n"
      ],
      "text/latex": [
       "A data.table: 6 × 9107\n",
       "\\begin{tabular}{lllllllllllllllllllll}\n",
       " V1 & filename & ATTRIBUTE\\_Sample.Type & ATTRIBUTE\\_Batch & ATTRIBUTE\\_Month & ATTRIBUTE\\_Year & ATTRIBUTE\\_Sample\\_Location & ATTRIBUTE\\_Replicate & ATTRIBUTE\\_Spot & ATTRIBUTE\\_Latitude & ... & X9833\\_268.175\\_2.821\\_NA & X9860\\_240.144\\_2.824\\_NA & X9876\\_414.139\\_2.761\\_NA & X9884\\_190.05\\_2.832\\_NA & X9897\\_333.144\\_2.881\\_NA & X9909\\_400.16\\_2.813\\_NA & X9918\\_252.123\\_2.833\\_NA & X9957\\_402.139\\_3.01\\_NA & X9972\\_323.123\\_2.716\\_NA & X9995\\_276.159\\_2.805\\_NA\\\\\n",
       " <int> & <chr> & <chr> & <int> & <chr> & <int> & <int> & <chr> & <int> & <dbl> & ... & <dbl> & <dbl> & <dbl> & <dbl> & <dbl> & <dbl> & <dbl> & <dbl> & <dbl> & <dbl>\\\\\n",
       "\\hline\n",
       "\t 1 & SD\\_01-2018\\_1\\_a.mzXML  & Sample & 2 & Jan & 2018 &  1 & a &  1 & 32.93365 & ... &  0.50953425 &  0.3411530 & -0.9690079 & -0.2136334 & -1.0317304 & -0.3097998 & -0.177995 &  1.1679223 & -0.9536029 & -0.720846274\\\\\n",
       "\t 2 & SD\\_01-2018\\_1\\_b.mzXML  & Sample & 2 & Jan & 2018 &  1 & b &  1 & 32.93365 & ... &  0.09238905 &  0.5326194 &  1.0516269 & -0.3038794 & -0.1930184 & -0.7478181 &  1.252001 &  0.9551530 & -0.9361819 & -0.008639177\\\\\n",
       "\t 3 & SD\\_01-2018\\_10\\_a.mzXML & Sample & 2 & Jan & 2018 & 10 & a & 10 & 32.86261 & ... & -0.24639335 & -0.2865859 &  4.3836879 & -0.6676765 & -0.4632050 &  4.5197644 &  2.438135 & -0.7384554 &  1.9221174 &  0.486389335\\\\\n",
       "\t 4 & SD\\_01-2018\\_10\\_b.mzXML & Sample & 2 & Jan & 2018 & 10 & b & 10 & 32.86261 & ... & -0.25192058 & -0.2285435 &  0.4843269 & -0.5684610 &  1.5535042 & -0.8303057 &  1.434401 &  4.0595393 &  0.6681850 &  0.985037345\\\\\n",
       "\t 5 & SD\\_01-2018\\_11\\_a.mzXML & Sample & 2 & Jan & 2018 & 11 & a & 11 & 32.85601 & ... & -0.28563018 & -0.2476378 &  1.5809568 & -0.6620708 &  0.3906509 & -0.6962297 &  2.185162 & -0.5521619 &  0.4461508 &  1.021271440\\\\\n",
       "\t 6 & SD\\_01-2018\\_11\\_b.mzXML & Sample & 2 & Jan & 2018 & 11 & b & 11 & 32.85601 & ... & -0.24677023 & -0.2403817 &  0.3811471 & -0.6653472 & -1.1098859 &  3.4050080 &  1.824056 & -0.6258216 & -0.7639999 & -0.815254939\\\\\n",
       "\\end{tabular}\n"
      ],
      "text/markdown": [
       "\n",
       "A data.table: 6 × 9107\n",
       "\n",
       "| V1 &lt;int&gt; | filename &lt;chr&gt; | ATTRIBUTE_Sample.Type &lt;chr&gt; | ATTRIBUTE_Batch &lt;int&gt; | ATTRIBUTE_Month &lt;chr&gt; | ATTRIBUTE_Year &lt;int&gt; | ATTRIBUTE_Sample_Location &lt;int&gt; | ATTRIBUTE_Replicate &lt;chr&gt; | ATTRIBUTE_Spot &lt;int&gt; | ATTRIBUTE_Latitude &lt;dbl&gt; | ... ... | X9833_268.175_2.821_NA &lt;dbl&gt; | X9860_240.144_2.824_NA &lt;dbl&gt; | X9876_414.139_2.761_NA &lt;dbl&gt; | X9884_190.05_2.832_NA &lt;dbl&gt; | X9897_333.144_2.881_NA &lt;dbl&gt; | X9909_400.16_2.813_NA &lt;dbl&gt; | X9918_252.123_2.833_NA &lt;dbl&gt; | X9957_402.139_3.01_NA &lt;dbl&gt; | X9972_323.123_2.716_NA &lt;dbl&gt; | X9995_276.159_2.805_NA &lt;dbl&gt; |\n",
       "|---|---|---|---|---|---|---|---|---|---|---|---|---|---|---|---|---|---|---|---|---|\n",
       "| 1 | SD_01-2018_1_a.mzXML  | Sample | 2 | Jan | 2018 |  1 | a |  1 | 32.93365 | ... |  0.50953425 |  0.3411530 | -0.9690079 | -0.2136334 | -1.0317304 | -0.3097998 | -0.177995 |  1.1679223 | -0.9536029 | -0.720846274 |\n",
       "| 2 | SD_01-2018_1_b.mzXML  | Sample | 2 | Jan | 2018 |  1 | b |  1 | 32.93365 | ... |  0.09238905 |  0.5326194 |  1.0516269 | -0.3038794 | -0.1930184 | -0.7478181 |  1.252001 |  0.9551530 | -0.9361819 | -0.008639177 |\n",
       "| 3 | SD_01-2018_10_a.mzXML | Sample | 2 | Jan | 2018 | 10 | a | 10 | 32.86261 | ... | -0.24639335 | -0.2865859 |  4.3836879 | -0.6676765 | -0.4632050 |  4.5197644 |  2.438135 | -0.7384554 |  1.9221174 |  0.486389335 |\n",
       "| 4 | SD_01-2018_10_b.mzXML | Sample | 2 | Jan | 2018 | 10 | b | 10 | 32.86261 | ... | -0.25192058 | -0.2285435 |  0.4843269 | -0.5684610 |  1.5535042 | -0.8303057 |  1.434401 |  4.0595393 |  0.6681850 |  0.985037345 |\n",
       "| 5 | SD_01-2018_11_a.mzXML | Sample | 2 | Jan | 2018 | 11 | a | 11 | 32.85601 | ... | -0.28563018 | -0.2476378 |  1.5809568 | -0.6620708 |  0.3906509 | -0.6962297 |  2.185162 | -0.5521619 |  0.4461508 |  1.021271440 |\n",
       "| 6 | SD_01-2018_11_b.mzXML | Sample | 2 | Jan | 2018 | 11 | b | 11 | 32.85601 | ... | -0.24677023 | -0.2403817 |  0.3811471 | -0.6653472 | -1.1098859 |  3.4050080 |  1.824056 | -0.6258216 | -0.7639999 | -0.815254939 |\n",
       "\n"
      ],
      "text/plain": [
       "  V1 filename              ATTRIBUTE_Sample.Type ATTRIBUTE_Batch\n",
       "1 1  SD_01-2018_1_a.mzXML  Sample                2              \n",
       "2 2  SD_01-2018_1_b.mzXML  Sample                2              \n",
       "3 3  SD_01-2018_10_a.mzXML Sample                2              \n",
       "4 4  SD_01-2018_10_b.mzXML Sample                2              \n",
       "5 5  SD_01-2018_11_a.mzXML Sample                2              \n",
       "6 6  SD_01-2018_11_b.mzXML Sample                2              \n",
       "  ATTRIBUTE_Month ATTRIBUTE_Year ATTRIBUTE_Sample_Location ATTRIBUTE_Replicate\n",
       "1 Jan             2018            1                        a                  \n",
       "2 Jan             2018            1                        b                  \n",
       "3 Jan             2018           10                        a                  \n",
       "4 Jan             2018           10                        b                  \n",
       "5 Jan             2018           11                        a                  \n",
       "6 Jan             2018           11                        b                  \n",
       "  ATTRIBUTE_Spot ATTRIBUTE_Latitude ... X9833_268.175_2.821_NA\n",
       "1  1             32.93365           ...  0.50953425           \n",
       "2  1             32.93365           ...  0.09238905           \n",
       "3 10             32.86261           ... -0.24639335           \n",
       "4 10             32.86261           ... -0.25192058           \n",
       "5 11             32.85601           ... -0.28563018           \n",
       "6 11             32.85601           ... -0.24677023           \n",
       "  X9860_240.144_2.824_NA X9876_414.139_2.761_NA X9884_190.05_2.832_NA\n",
       "1  0.3411530             -0.9690079             -0.2136334           \n",
       "2  0.5326194              1.0516269             -0.3038794           \n",
       "3 -0.2865859              4.3836879             -0.6676765           \n",
       "4 -0.2285435              0.4843269             -0.5684610           \n",
       "5 -0.2476378              1.5809568             -0.6620708           \n",
       "6 -0.2403817              0.3811471             -0.6653472           \n",
       "  X9897_333.144_2.881_NA X9909_400.16_2.813_NA X9918_252.123_2.833_NA\n",
       "1 -1.0317304             -0.3097998            -0.177995             \n",
       "2 -0.1930184             -0.7478181             1.252001             \n",
       "3 -0.4632050              4.5197644             2.438135             \n",
       "4  1.5535042             -0.8303057             1.434401             \n",
       "5  0.3906509             -0.6962297             2.185162             \n",
       "6 -1.1098859              3.4050080             1.824056             \n",
       "  X9957_402.139_3.01_NA X9972_323.123_2.716_NA X9995_276.159_2.805_NA\n",
       "1  1.1679223            -0.9536029             -0.720846274          \n",
       "2  0.9551530            -0.9361819             -0.008639177          \n",
       "3 -0.7384554             1.9221174              0.486389335          \n",
       "4  4.0595393             0.6681850              0.985037345          \n",
       "5 -0.5521619             0.4461508              1.021271440          \n",
       "6 -0.6258216            -0.7639999             -0.815254939          "
      ]
     },
     "metadata": {},
     "output_type": "display_data"
    }
   ],
   "source": [
    "head(Data)"
   ]
  },
  {
   "cell_type": "code",
   "execution_count": 73,
   "id": "efebb471-c283-43f1-9314-fad7542af290",
   "metadata": {},
   "outputs": [],
   "source": [
    "Data <- Data[,-1] #removing the 1st column with row numbers"
   ]
  },
  {
   "cell_type": "code",
   "execution_count": 74,
   "id": "d5af2839-0635-4f17-817a-9ae2358f9b29",
   "metadata": {},
   "outputs": [
    {
     "name": "stdout",
     "output_type": "stream",
     "text": [
      " [1] \"filename\"                  \"ATTRIBUTE_Sample.Type\"    \n",
      " [3] \"ATTRIBUTE_Batch\"           \"ATTRIBUTE_Month\"          \n",
      " [5] \"ATTRIBUTE_Year\"            \"ATTRIBUTE_Sample_Location\"\n",
      " [7] \"ATTRIBUTE_Replicate\"       \"ATTRIBUTE_Spot\"           \n",
      " [9] \"ATTRIBUTE_Latitude\"        \"ATTRIBUTE_Longitude\"      \n",
      "[11] \"ATTRIBUTE_Sample_Area\"     \"ATTRIBUTE_Spot_Name\"      \n",
      "[13] \"ATTRIBUTE_time_run\"        \"ATTRIBUTE_Injection_order\"\n",
      "[15] \"X10015_282.169_2.763_NA\"   \"X10035_325.139_2.817_NA\"  \n",
      "[17] \"X10037_216.123_2.847_NA\"   \"X10047_338.159_2.845_NA\"  \n",
      "[19] \"X10058_280.117_2.961_NA\"   \"X10059_414.175_2.851_NA\"  \n"
     ]
    }
   ],
   "source": [
    "print(colnames(Data)[1:20]) #looking at the first 20 column names to see if ATTRIBUTE_rainfall is added. By using print() we get the index number"
   ]
  },
  {
   "cell_type": "code",
   "execution_count": 75,
   "id": "fbb48cee-1306-4339-9de6-02c5ccd2e0e5",
   "metadata": {},
   "outputs": [
    {
     "data": {
      "text/plain": [
       "\n",
       "     La_Jolla Reefs       La_Jolla_Cove         Mission_Bay       Mission_Beach \n",
       "                 36                  12                  36                  18 \n",
       "      Pacific_Beach SIO_La_Jolla_Shores        Torrey_Pines \n",
       "                 12                  18                  48 "
      ]
     },
     "metadata": {},
     "output_type": "display_data"
    }
   ],
   "source": [
    "# Distribution of our desired attribute:\n",
    "table(Data$ATTRIBUTE_Sample_Area) #table() tabulates the different categories in the column"
   ]
  },
  {
   "cell_type": "code",
   "execution_count": 76,
   "id": "384f0485-248c-48fc-9073-9a6e9105f181",
   "metadata": {},
   "outputs": [
    {
     "data": {
      "text/html": [
       "<table class=\"dataframe\">\n",
       "<caption>A data.table: 3 × 14</caption>\n",
       "<thead>\n",
       "\t<tr><th scope=col>filename</th><th scope=col>ATTRIBUTE_Sample.Type</th><th scope=col>ATTRIBUTE_Batch</th><th scope=col>ATTRIBUTE_Month</th><th scope=col>ATTRIBUTE_Year</th><th scope=col>ATTRIBUTE_Sample_Location</th><th scope=col>ATTRIBUTE_Replicate</th><th scope=col>ATTRIBUTE_Spot</th><th scope=col>ATTRIBUTE_Latitude</th><th scope=col>ATTRIBUTE_Longitude</th><th scope=col>ATTRIBUTE_Sample_Area</th><th scope=col>ATTRIBUTE_Spot_Name</th><th scope=col>ATTRIBUTE_time_run</th><th scope=col>ATTRIBUTE_Injection_order</th></tr>\n",
       "\t<tr><th scope=col>&lt;chr&gt;</th><th scope=col>&lt;chr&gt;</th><th scope=col>&lt;int&gt;</th><th scope=col>&lt;chr&gt;</th><th scope=col>&lt;int&gt;</th><th scope=col>&lt;int&gt;</th><th scope=col>&lt;chr&gt;</th><th scope=col>&lt;int&gt;</th><th scope=col>&lt;dbl&gt;</th><th scope=col>&lt;dbl&gt;</th><th scope=col>&lt;chr&gt;</th><th scope=col>&lt;chr&gt;</th><th scope=col>&lt;chr&gt;</th><th scope=col>&lt;int&gt;</th></tr>\n",
       "</thead>\n",
       "<tbody>\n",
       "\t<tr><td>SD_01-2018_1_a.mzXML </td><td>Sample</td><td>2</td><td>Jan</td><td>2018</td><td> 1</td><td>a</td><td> 1</td><td>32.93365</td><td>-117.2648</td><td>Torrey_Pines       </td><td>Lagoon_Outlet </td><td>16/01/2018 11:36</td><td>65</td></tr>\n",
       "\t<tr><td>SD_01-2018_1_b.mzXML </td><td>Sample</td><td>2</td><td>Jan</td><td>2018</td><td> 1</td><td>b</td><td> 1</td><td>32.93365</td><td>-117.2648</td><td>Torrey_Pines       </td><td>Lagoon_Outlet </td><td>16/01/2018 11:52</td><td>66</td></tr>\n",
       "\t<tr><td>SD_01-2018_10_a.mzXML</td><td>Sample</td><td>2</td><td>Jan</td><td>2018</td><td>10</td><td>a</td><td>10</td><td>32.86261</td><td>-117.2604</td><td>SIO_La_Jolla_Shores</td><td>SIO_South_Pier</td><td>16/01/2018 16:23</td><td>83</td></tr>\n",
       "</tbody>\n",
       "</table>\n"
      ],
      "text/latex": [
       "A data.table: 3 × 14\n",
       "\\begin{tabular}{llllllllllllll}\n",
       " filename & ATTRIBUTE\\_Sample.Type & ATTRIBUTE\\_Batch & ATTRIBUTE\\_Month & ATTRIBUTE\\_Year & ATTRIBUTE\\_Sample\\_Location & ATTRIBUTE\\_Replicate & ATTRIBUTE\\_Spot & ATTRIBUTE\\_Latitude & ATTRIBUTE\\_Longitude & ATTRIBUTE\\_Sample\\_Area & ATTRIBUTE\\_Spot\\_Name & ATTRIBUTE\\_time\\_run & ATTRIBUTE\\_Injection\\_order\\\\\n",
       " <chr> & <chr> & <int> & <chr> & <int> & <int> & <chr> & <int> & <dbl> & <dbl> & <chr> & <chr> & <chr> & <int>\\\\\n",
       "\\hline\n",
       "\t SD\\_01-2018\\_1\\_a.mzXML  & Sample & 2 & Jan & 2018 &  1 & a &  1 & 32.93365 & -117.2648 & Torrey\\_Pines        & Lagoon\\_Outlet  & 16/01/2018 11:36 & 65\\\\\n",
       "\t SD\\_01-2018\\_1\\_b.mzXML  & Sample & 2 & Jan & 2018 &  1 & b &  1 & 32.93365 & -117.2648 & Torrey\\_Pines        & Lagoon\\_Outlet  & 16/01/2018 11:52 & 66\\\\\n",
       "\t SD\\_01-2018\\_10\\_a.mzXML & Sample & 2 & Jan & 2018 & 10 & a & 10 & 32.86261 & -117.2604 & SIO\\_La\\_Jolla\\_Shores & SIO\\_South\\_Pier & 16/01/2018 16:23 & 83\\\\\n",
       "\\end{tabular}\n"
      ],
      "text/markdown": [
       "\n",
       "A data.table: 3 × 14\n",
       "\n",
       "| filename &lt;chr&gt; | ATTRIBUTE_Sample.Type &lt;chr&gt; | ATTRIBUTE_Batch &lt;int&gt; | ATTRIBUTE_Month &lt;chr&gt; | ATTRIBUTE_Year &lt;int&gt; | ATTRIBUTE_Sample_Location &lt;int&gt; | ATTRIBUTE_Replicate &lt;chr&gt; | ATTRIBUTE_Spot &lt;int&gt; | ATTRIBUTE_Latitude &lt;dbl&gt; | ATTRIBUTE_Longitude &lt;dbl&gt; | ATTRIBUTE_Sample_Area &lt;chr&gt; | ATTRIBUTE_Spot_Name &lt;chr&gt; | ATTRIBUTE_time_run &lt;chr&gt; | ATTRIBUTE_Injection_order &lt;int&gt; |\n",
       "|---|---|---|---|---|---|---|---|---|---|---|---|---|---|\n",
       "| SD_01-2018_1_a.mzXML  | Sample | 2 | Jan | 2018 |  1 | a |  1 | 32.93365 | -117.2648 | Torrey_Pines        | Lagoon_Outlet  | 16/01/2018 11:36 | 65 |\n",
       "| SD_01-2018_1_b.mzXML  | Sample | 2 | Jan | 2018 |  1 | b |  1 | 32.93365 | -117.2648 | Torrey_Pines        | Lagoon_Outlet  | 16/01/2018 11:52 | 66 |\n",
       "| SD_01-2018_10_a.mzXML | Sample | 2 | Jan | 2018 | 10 | a | 10 | 32.86261 | -117.2604 | SIO_La_Jolla_Shores | SIO_South_Pier | 16/01/2018 16:23 | 83 |\n",
       "\n"
      ],
      "text/plain": [
       "  filename              ATTRIBUTE_Sample.Type ATTRIBUTE_Batch ATTRIBUTE_Month\n",
       "1 SD_01-2018_1_a.mzXML  Sample                2               Jan            \n",
       "2 SD_01-2018_1_b.mzXML  Sample                2               Jan            \n",
       "3 SD_01-2018_10_a.mzXML Sample                2               Jan            \n",
       "  ATTRIBUTE_Year ATTRIBUTE_Sample_Location ATTRIBUTE_Replicate ATTRIBUTE_Spot\n",
       "1 2018            1                        a                    1            \n",
       "2 2018            1                        b                    1            \n",
       "3 2018           10                        a                   10            \n",
       "  ATTRIBUTE_Latitude ATTRIBUTE_Longitude ATTRIBUTE_Sample_Area\n",
       "1 32.93365           -117.2648           Torrey_Pines         \n",
       "2 32.93365           -117.2648           Torrey_Pines         \n",
       "3 32.86261           -117.2604           SIO_La_Jolla_Shores  \n",
       "  ATTRIBUTE_Spot_Name ATTRIBUTE_time_run ATTRIBUTE_Injection_order\n",
       "1 Lagoon_Outlet       16/01/2018 11:36   65                       \n",
       "2 Lagoon_Outlet       16/01/2018 11:52   66                       \n",
       "3 SIO_South_Pier      16/01/2018 16:23   83                       "
      ]
     },
     "metadata": {},
     "output_type": "display_data"
    }
   ],
   "source": [
    "# metadata\n",
    "head(Data[,1:14], n=3) #Looking at the first 14 columns of Data; n=3 shows the first 3 rows"
   ]
  },
  {
   "cell_type": "code",
   "execution_count": 77,
   "id": "cfbb8770-82e6-4cd5-b63d-6eefadbe9b9f",
   "metadata": {},
   "outputs": [
    {
     "data": {
      "text/html": [
       "<table class=\"dataframe\">\n",
       "<caption>A data.table: 3 × 9092</caption>\n",
       "<thead>\n",
       "\t<tr><th scope=col>X10015_282.169_2.763_NA</th><th scope=col>X10035_325.139_2.817_NA</th><th scope=col>X10037_216.123_2.847_NA</th><th scope=col>X10047_338.159_2.845_NA</th><th scope=col>X10058_280.117_2.961_NA</th><th scope=col>X10059_414.175_2.851_NA</th><th scope=col>X10072_305.157_2.851_NA</th><th scope=col>X10074_283.175_2.851_Spectral Match to Hexaethylene glycol from NIST14</th><th scope=col>X10078_300.201_2.851_Spectral Match to Hexaethylene glycol from NIST14</th><th scope=col>X10082_309.144_2.886_NA</th><th scope=col>...</th><th scope=col>X9833_268.175_2.821_NA</th><th scope=col>X9860_240.144_2.824_NA</th><th scope=col>X9876_414.139_2.761_NA</th><th scope=col>X9884_190.05_2.832_NA</th><th scope=col>X9897_333.144_2.881_NA</th><th scope=col>X9909_400.16_2.813_NA</th><th scope=col>X9918_252.123_2.833_NA</th><th scope=col>X9957_402.139_3.01_NA</th><th scope=col>X9972_323.123_2.716_NA</th><th scope=col>X9995_276.159_2.805_NA</th></tr>\n",
       "\t<tr><th scope=col>&lt;dbl&gt;</th><th scope=col>&lt;dbl&gt;</th><th scope=col>&lt;dbl&gt;</th><th scope=col>&lt;dbl&gt;</th><th scope=col>&lt;dbl&gt;</th><th scope=col>&lt;dbl&gt;</th><th scope=col>&lt;dbl&gt;</th><th scope=col>&lt;dbl&gt;</th><th scope=col>&lt;dbl&gt;</th><th scope=col>&lt;dbl&gt;</th><th scope=col>...</th><th scope=col>&lt;dbl&gt;</th><th scope=col>&lt;dbl&gt;</th><th scope=col>&lt;dbl&gt;</th><th scope=col>&lt;dbl&gt;</th><th scope=col>&lt;dbl&gt;</th><th scope=col>&lt;dbl&gt;</th><th scope=col>&lt;dbl&gt;</th><th scope=col>&lt;dbl&gt;</th><th scope=col>&lt;dbl&gt;</th><th scope=col>&lt;dbl&gt;</th></tr>\n",
       "</thead>\n",
       "<tbody>\n",
       "\t<tr><td>-1.1304738</td><td>-0.2996871</td><td>-0.1117275</td><td>2.2186171</td><td>-1.452146</td><td>-0.17593037</td><td>-0.3434611</td><td>-0.1778404</td><td>-0.1933466</td><td>-0.98676658</td><td>...</td><td> 0.50953425</td><td> 0.3411530</td><td>-0.9690079</td><td>-0.2136334</td><td>-1.0317304</td><td>-0.3097998</td><td>-0.177995</td><td> 1.1679223</td><td>-0.9536029</td><td>-0.720846274</td></tr>\n",
       "\t<tr><td>-1.1265155</td><td>-0.6037355</td><td> 1.9885898</td><td>0.2986375</td><td>-1.028317</td><td> 0.38485813</td><td>-0.3749450</td><td>-0.1894778</td><td>-0.1876122</td><td> 0.01064504</td><td>...</td><td> 0.09238905</td><td> 0.5326194</td><td> 1.0516269</td><td>-0.3038794</td><td>-0.1930184</td><td>-0.7478181</td><td> 1.252001</td><td> 0.9551530</td><td>-0.9361819</td><td>-0.008639177</td></tr>\n",
       "\t<tr><td>-0.6995949</td><td>-0.4612301</td><td>-0.3618842</td><td>1.2580121</td><td> 0.747262</td><td>-0.05869551</td><td>-0.4289946</td><td>-0.2615139</td><td>-0.2501572</td><td>-0.56453788</td><td>...</td><td>-0.24639335</td><td>-0.2865859</td><td> 4.3836879</td><td>-0.6676765</td><td>-0.4632050</td><td> 4.5197644</td><td> 2.438135</td><td>-0.7384554</td><td> 1.9221174</td><td> 0.486389335</td></tr>\n",
       "</tbody>\n",
       "</table>\n"
      ],
      "text/latex": [
       "A data.table: 3 × 9092\n",
       "\\begin{tabular}{lllllllllllllllllllll}\n",
       " X10015\\_282.169\\_2.763\\_NA & X10035\\_325.139\\_2.817\\_NA & X10037\\_216.123\\_2.847\\_NA & X10047\\_338.159\\_2.845\\_NA & X10058\\_280.117\\_2.961\\_NA & X10059\\_414.175\\_2.851\\_NA & X10072\\_305.157\\_2.851\\_NA & X10074\\_283.175\\_2.851\\_Spectral Match to Hexaethylene glycol from NIST14 & X10078\\_300.201\\_2.851\\_Spectral Match to Hexaethylene glycol from NIST14 & X10082\\_309.144\\_2.886\\_NA & ... & X9833\\_268.175\\_2.821\\_NA & X9860\\_240.144\\_2.824\\_NA & X9876\\_414.139\\_2.761\\_NA & X9884\\_190.05\\_2.832\\_NA & X9897\\_333.144\\_2.881\\_NA & X9909\\_400.16\\_2.813\\_NA & X9918\\_252.123\\_2.833\\_NA & X9957\\_402.139\\_3.01\\_NA & X9972\\_323.123\\_2.716\\_NA & X9995\\_276.159\\_2.805\\_NA\\\\\n",
       " <dbl> & <dbl> & <dbl> & <dbl> & <dbl> & <dbl> & <dbl> & <dbl> & <dbl> & <dbl> & ... & <dbl> & <dbl> & <dbl> & <dbl> & <dbl> & <dbl> & <dbl> & <dbl> & <dbl> & <dbl>\\\\\n",
       "\\hline\n",
       "\t -1.1304738 & -0.2996871 & -0.1117275 & 2.2186171 & -1.452146 & -0.17593037 & -0.3434611 & -0.1778404 & -0.1933466 & -0.98676658 & ... &  0.50953425 &  0.3411530 & -0.9690079 & -0.2136334 & -1.0317304 & -0.3097998 & -0.177995 &  1.1679223 & -0.9536029 & -0.720846274\\\\\n",
       "\t -1.1265155 & -0.6037355 &  1.9885898 & 0.2986375 & -1.028317 &  0.38485813 & -0.3749450 & -0.1894778 & -0.1876122 &  0.01064504 & ... &  0.09238905 &  0.5326194 &  1.0516269 & -0.3038794 & -0.1930184 & -0.7478181 &  1.252001 &  0.9551530 & -0.9361819 & -0.008639177\\\\\n",
       "\t -0.6995949 & -0.4612301 & -0.3618842 & 1.2580121 &  0.747262 & -0.05869551 & -0.4289946 & -0.2615139 & -0.2501572 & -0.56453788 & ... & -0.24639335 & -0.2865859 &  4.3836879 & -0.6676765 & -0.4632050 &  4.5197644 &  2.438135 & -0.7384554 &  1.9221174 &  0.486389335\\\\\n",
       "\\end{tabular}\n"
      ],
      "text/markdown": [
       "\n",
       "A data.table: 3 × 9092\n",
       "\n",
       "| X10015_282.169_2.763_NA &lt;dbl&gt; | X10035_325.139_2.817_NA &lt;dbl&gt; | X10037_216.123_2.847_NA &lt;dbl&gt; | X10047_338.159_2.845_NA &lt;dbl&gt; | X10058_280.117_2.961_NA &lt;dbl&gt; | X10059_414.175_2.851_NA &lt;dbl&gt; | X10072_305.157_2.851_NA &lt;dbl&gt; | X10074_283.175_2.851_Spectral Match to Hexaethylene glycol from NIST14 &lt;dbl&gt; | X10078_300.201_2.851_Spectral Match to Hexaethylene glycol from NIST14 &lt;dbl&gt; | X10082_309.144_2.886_NA &lt;dbl&gt; | ... ... | X9833_268.175_2.821_NA &lt;dbl&gt; | X9860_240.144_2.824_NA &lt;dbl&gt; | X9876_414.139_2.761_NA &lt;dbl&gt; | X9884_190.05_2.832_NA &lt;dbl&gt; | X9897_333.144_2.881_NA &lt;dbl&gt; | X9909_400.16_2.813_NA &lt;dbl&gt; | X9918_252.123_2.833_NA &lt;dbl&gt; | X9957_402.139_3.01_NA &lt;dbl&gt; | X9972_323.123_2.716_NA &lt;dbl&gt; | X9995_276.159_2.805_NA &lt;dbl&gt; |\n",
       "|---|---|---|---|---|---|---|---|---|---|---|---|---|---|---|---|---|---|---|---|---|\n",
       "| -1.1304738 | -0.2996871 | -0.1117275 | 2.2186171 | -1.452146 | -0.17593037 | -0.3434611 | -0.1778404 | -0.1933466 | -0.98676658 | ... |  0.50953425 |  0.3411530 | -0.9690079 | -0.2136334 | -1.0317304 | -0.3097998 | -0.177995 |  1.1679223 | -0.9536029 | -0.720846274 |\n",
       "| -1.1265155 | -0.6037355 |  1.9885898 | 0.2986375 | -1.028317 |  0.38485813 | -0.3749450 | -0.1894778 | -0.1876122 |  0.01064504 | ... |  0.09238905 |  0.5326194 |  1.0516269 | -0.3038794 | -0.1930184 | -0.7478181 |  1.252001 |  0.9551530 | -0.9361819 | -0.008639177 |\n",
       "| -0.6995949 | -0.4612301 | -0.3618842 | 1.2580121 |  0.747262 | -0.05869551 | -0.4289946 | -0.2615139 | -0.2501572 | -0.56453788 | ... | -0.24639335 | -0.2865859 |  4.3836879 | -0.6676765 | -0.4632050 |  4.5197644 |  2.438135 | -0.7384554 |  1.9221174 |  0.486389335 |\n",
       "\n"
      ],
      "text/plain": [
       "  X10015_282.169_2.763_NA X10035_325.139_2.817_NA X10037_216.123_2.847_NA\n",
       "1 -1.1304738              -0.2996871              -0.1117275             \n",
       "2 -1.1265155              -0.6037355               1.9885898             \n",
       "3 -0.6995949              -0.4612301              -0.3618842             \n",
       "  X10047_338.159_2.845_NA X10058_280.117_2.961_NA X10059_414.175_2.851_NA\n",
       "1 2.2186171               -1.452146               -0.17593037            \n",
       "2 0.2986375               -1.028317                0.38485813            \n",
       "3 1.2580121                0.747262               -0.05869551            \n",
       "  X10072_305.157_2.851_NA\n",
       "1 -0.3434611             \n",
       "2 -0.3749450             \n",
       "3 -0.4289946             \n",
       "  X10074_283.175_2.851_Spectral Match to Hexaethylene glycol from NIST14\n",
       "1 -0.1778404                                                            \n",
       "2 -0.1894778                                                            \n",
       "3 -0.2615139                                                            \n",
       "  X10078_300.201_2.851_Spectral Match to Hexaethylene glycol from NIST14\n",
       "1 -0.1933466                                                            \n",
       "2 -0.1876122                                                            \n",
       "3 -0.2501572                                                            \n",
       "  X10082_309.144_2.886_NA ... X9833_268.175_2.821_NA X9860_240.144_2.824_NA\n",
       "1 -0.98676658             ...  0.50953425             0.3411530            \n",
       "2  0.01064504             ...  0.09238905             0.5326194            \n",
       "3 -0.56453788             ... -0.24639335            -0.2865859            \n",
       "  X9876_414.139_2.761_NA X9884_190.05_2.832_NA X9897_333.144_2.881_NA\n",
       "1 -0.9690079             -0.2136334            -1.0317304            \n",
       "2  1.0516269             -0.3038794            -0.1930184            \n",
       "3  4.3836879             -0.6676765            -0.4632050            \n",
       "  X9909_400.16_2.813_NA X9918_252.123_2.833_NA X9957_402.139_3.01_NA\n",
       "1 -0.3097998            -0.177995               1.1679223           \n",
       "2 -0.7478181             1.252001               0.9551530           \n",
       "3  4.5197644             2.438135              -0.7384554           \n",
       "  X9972_323.123_2.716_NA X9995_276.159_2.805_NA\n",
       "1 -0.9536029             -0.720846274          \n",
       "2 -0.9361819             -0.008639177          \n",
       "3  1.9221174              0.486389335          "
      ]
     },
     "metadata": {},
     "output_type": "display_data"
    }
   ],
   "source": [
    "# metabolomics data\n",
    "head(Data[,15:ncol(Data)], n=3)"
   ]
  },
  {
   "cell_type": "markdown",
   "id": "1713f1ce-23ce-4c7f-b864-7efee8584675",
   "metadata": {
    "tags": []
   },
   "source": [
    "# Prepare input data: split train and test sets\n",
    "<a id=\"train_test\"></a>"
   ]
  },
  {
   "cell_type": "markdown",
   "id": "aa25c405-01c4-4f46-a6d1-fcf8927c4794",
   "metadata": {},
   "source": [
    "We divide the feature table (metabolomics data) into training and test sets. According to the sample size, we can split the data to obtain 80% for the train and 20% for the test sets. In our case, we have a relatively small sample size, therefore we will use 70% of the data for the train and 30% for the test set to have enough samples in each class."
   ]
  },
  {
   "cell_type": "markdown",
   "id": "6fffec6f-737e-48cf-99d3-097ad008ad9a",
   "metadata": {},
   "source": [
    "Then, we will use the eXtreme Gradient Boosting (XGBoost) algorithm to predict the sample_area variable."
   ]
  },
  {
   "cell_type": "markdown",
   "id": "a1f4e217-b37a-4145-b5fe-1370b1684cb7",
   "metadata": {},
   "source": [
    "<b> Critical</b>: When our class of interest is binary and unbalanced, we need to be mindful of it while training our XGBoost model. In such cases, we can use the parameter <a href=\"https://xgboost.readthedocs.io/en/latest/parameter.html\">scale_pos_weight</a>, where a typical value to consider is sum(negative instances) / sum(positive instances)."
   ]
  },
  {
   "cell_type": "code",
   "execution_count": 78,
   "id": "492cc813-f781-4104-8d2d-6e009948a2cd",
   "metadata": {},
   "outputs": [],
   "source": [
    "set.seed(1234) # Set random seed to make results reproducible\n",
    "trainIndex <- caret::createDataPartition(Data$ATTRIBUTE_Sample_Area, \n",
    "                                         p = 0.7, #percentage of data to train\n",
    "                                         list = FALSE, # indicating that the results do not need to be in a list\n",
    "                                         times = 1) # the number of partitions to create\n",
    "\n",
    "ftTrain <- Data[trainIndex,] #all the rows from Data based on the trainIndex will be taken as train\n",
    "ftTest  <- Data[-trainIndex,] #the remaining rows from Data will be taken as test set"
   ]
  },
  {
   "cell_type": "code",
   "execution_count": 79,
   "id": "d3789020-1047-4f15-8d8a-f30cb0f35998",
   "metadata": {},
   "outputs": [
    {
     "data": {
      "text/html": [
       "<table class=\"dataframe\">\n",
       "<caption>A data.table: 2 × 9106</caption>\n",
       "<thead>\n",
       "\t<tr><th scope=col>filename</th><th scope=col>ATTRIBUTE_Sample.Type</th><th scope=col>ATTRIBUTE_Batch</th><th scope=col>ATTRIBUTE_Month</th><th scope=col>ATTRIBUTE_Year</th><th scope=col>ATTRIBUTE_Sample_Location</th><th scope=col>ATTRIBUTE_Replicate</th><th scope=col>ATTRIBUTE_Spot</th><th scope=col>ATTRIBUTE_Latitude</th><th scope=col>ATTRIBUTE_Longitude</th><th scope=col>...</th><th scope=col>X9833_268.175_2.821_NA</th><th scope=col>X9860_240.144_2.824_NA</th><th scope=col>X9876_414.139_2.761_NA</th><th scope=col>X9884_190.05_2.832_NA</th><th scope=col>X9897_333.144_2.881_NA</th><th scope=col>X9909_400.16_2.813_NA</th><th scope=col>X9918_252.123_2.833_NA</th><th scope=col>X9957_402.139_3.01_NA</th><th scope=col>X9972_323.123_2.716_NA</th><th scope=col>X9995_276.159_2.805_NA</th></tr>\n",
       "\t<tr><th scope=col>&lt;chr&gt;</th><th scope=col>&lt;chr&gt;</th><th scope=col>&lt;int&gt;</th><th scope=col>&lt;chr&gt;</th><th scope=col>&lt;int&gt;</th><th scope=col>&lt;int&gt;</th><th scope=col>&lt;chr&gt;</th><th scope=col>&lt;int&gt;</th><th scope=col>&lt;dbl&gt;</th><th scope=col>&lt;dbl&gt;</th><th scope=col>...</th><th scope=col>&lt;dbl&gt;</th><th scope=col>&lt;dbl&gt;</th><th scope=col>&lt;dbl&gt;</th><th scope=col>&lt;dbl&gt;</th><th scope=col>&lt;dbl&gt;</th><th scope=col>&lt;dbl&gt;</th><th scope=col>&lt;dbl&gt;</th><th scope=col>&lt;dbl&gt;</th><th scope=col>&lt;dbl&gt;</th><th scope=col>&lt;dbl&gt;</th></tr>\n",
       "</thead>\n",
       "<tbody>\n",
       "\t<tr><td>SD_01-2018_1_b.mzXML </td><td>Sample</td><td>2</td><td>Jan</td><td>2018</td><td> 1</td><td>b</td><td> 1</td><td>32.93365</td><td>-117.2648</td><td>...</td><td> 0.09238905</td><td> 0.5326194</td><td>1.051627</td><td>-0.3038794</td><td>-0.1930184</td><td>-0.7478181</td><td>1.252001</td><td> 0.9551530</td><td>-0.9361819</td><td>-0.008639177</td></tr>\n",
       "\t<tr><td>SD_01-2018_10_a.mzXML</td><td>Sample</td><td>2</td><td>Jan</td><td>2018</td><td>10</td><td>a</td><td>10</td><td>32.86261</td><td>-117.2604</td><td>...</td><td>-0.24639335</td><td>-0.2865859</td><td>4.383688</td><td>-0.6676765</td><td>-0.4632050</td><td> 4.5197644</td><td>2.438135</td><td>-0.7384554</td><td> 1.9221174</td><td> 0.486389335</td></tr>\n",
       "</tbody>\n",
       "</table>\n"
      ],
      "text/latex": [
       "A data.table: 2 × 9106\n",
       "\\begin{tabular}{lllllllllllllllllllll}\n",
       " filename & ATTRIBUTE\\_Sample.Type & ATTRIBUTE\\_Batch & ATTRIBUTE\\_Month & ATTRIBUTE\\_Year & ATTRIBUTE\\_Sample\\_Location & ATTRIBUTE\\_Replicate & ATTRIBUTE\\_Spot & ATTRIBUTE\\_Latitude & ATTRIBUTE\\_Longitude & ... & X9833\\_268.175\\_2.821\\_NA & X9860\\_240.144\\_2.824\\_NA & X9876\\_414.139\\_2.761\\_NA & X9884\\_190.05\\_2.832\\_NA & X9897\\_333.144\\_2.881\\_NA & X9909\\_400.16\\_2.813\\_NA & X9918\\_252.123\\_2.833\\_NA & X9957\\_402.139\\_3.01\\_NA & X9972\\_323.123\\_2.716\\_NA & X9995\\_276.159\\_2.805\\_NA\\\\\n",
       " <chr> & <chr> & <int> & <chr> & <int> & <int> & <chr> & <int> & <dbl> & <dbl> & ... & <dbl> & <dbl> & <dbl> & <dbl> & <dbl> & <dbl> & <dbl> & <dbl> & <dbl> & <dbl>\\\\\n",
       "\\hline\n",
       "\t SD\\_01-2018\\_1\\_b.mzXML  & Sample & 2 & Jan & 2018 &  1 & b &  1 & 32.93365 & -117.2648 & ... &  0.09238905 &  0.5326194 & 1.051627 & -0.3038794 & -0.1930184 & -0.7478181 & 1.252001 &  0.9551530 & -0.9361819 & -0.008639177\\\\\n",
       "\t SD\\_01-2018\\_10\\_a.mzXML & Sample & 2 & Jan & 2018 & 10 & a & 10 & 32.86261 & -117.2604 & ... & -0.24639335 & -0.2865859 & 4.383688 & -0.6676765 & -0.4632050 &  4.5197644 & 2.438135 & -0.7384554 &  1.9221174 &  0.486389335\\\\\n",
       "\\end{tabular}\n"
      ],
      "text/markdown": [
       "\n",
       "A data.table: 2 × 9106\n",
       "\n",
       "| filename &lt;chr&gt; | ATTRIBUTE_Sample.Type &lt;chr&gt; | ATTRIBUTE_Batch &lt;int&gt; | ATTRIBUTE_Month &lt;chr&gt; | ATTRIBUTE_Year &lt;int&gt; | ATTRIBUTE_Sample_Location &lt;int&gt; | ATTRIBUTE_Replicate &lt;chr&gt; | ATTRIBUTE_Spot &lt;int&gt; | ATTRIBUTE_Latitude &lt;dbl&gt; | ATTRIBUTE_Longitude &lt;dbl&gt; | ... ... | X9833_268.175_2.821_NA &lt;dbl&gt; | X9860_240.144_2.824_NA &lt;dbl&gt; | X9876_414.139_2.761_NA &lt;dbl&gt; | X9884_190.05_2.832_NA &lt;dbl&gt; | X9897_333.144_2.881_NA &lt;dbl&gt; | X9909_400.16_2.813_NA &lt;dbl&gt; | X9918_252.123_2.833_NA &lt;dbl&gt; | X9957_402.139_3.01_NA &lt;dbl&gt; | X9972_323.123_2.716_NA &lt;dbl&gt; | X9995_276.159_2.805_NA &lt;dbl&gt; |\n",
       "|---|---|---|---|---|---|---|---|---|---|---|---|---|---|---|---|---|---|---|---|---|\n",
       "| SD_01-2018_1_b.mzXML  | Sample | 2 | Jan | 2018 |  1 | b |  1 | 32.93365 | -117.2648 | ... |  0.09238905 |  0.5326194 | 1.051627 | -0.3038794 | -0.1930184 | -0.7478181 | 1.252001 |  0.9551530 | -0.9361819 | -0.008639177 |\n",
       "| SD_01-2018_10_a.mzXML | Sample | 2 | Jan | 2018 | 10 | a | 10 | 32.86261 | -117.2604 | ... | -0.24639335 | -0.2865859 | 4.383688 | -0.6676765 | -0.4632050 |  4.5197644 | 2.438135 | -0.7384554 |  1.9221174 |  0.486389335 |\n",
       "\n"
      ],
      "text/plain": [
       "  filename              ATTRIBUTE_Sample.Type ATTRIBUTE_Batch ATTRIBUTE_Month\n",
       "1 SD_01-2018_1_b.mzXML  Sample                2               Jan            \n",
       "2 SD_01-2018_10_a.mzXML Sample                2               Jan            \n",
       "  ATTRIBUTE_Year ATTRIBUTE_Sample_Location ATTRIBUTE_Replicate ATTRIBUTE_Spot\n",
       "1 2018            1                        b                    1            \n",
       "2 2018           10                        a                   10            \n",
       "  ATTRIBUTE_Latitude ATTRIBUTE_Longitude ... X9833_268.175_2.821_NA\n",
       "1 32.93365           -117.2648           ...  0.09238905           \n",
       "2 32.86261           -117.2604           ... -0.24639335           \n",
       "  X9860_240.144_2.824_NA X9876_414.139_2.761_NA X9884_190.05_2.832_NA\n",
       "1  0.5326194             1.051627               -0.3038794           \n",
       "2 -0.2865859             4.383688               -0.6676765           \n",
       "  X9897_333.144_2.881_NA X9909_400.16_2.813_NA X9918_252.123_2.833_NA\n",
       "1 -0.1930184             -0.7478181            1.252001              \n",
       "2 -0.4632050              4.5197644            2.438135              \n",
       "  X9957_402.139_3.01_NA X9972_323.123_2.716_NA X9995_276.159_2.805_NA\n",
       "1  0.9551530            -0.9361819             -0.008639177          \n",
       "2 -0.7384554             1.9221174              0.486389335          "
      ]
     },
     "metadata": {},
     "output_type": "display_data"
    },
    {
     "data": {
      "text/html": [
       "<table class=\"dataframe\">\n",
       "<caption>A data.table: 2 × 9106</caption>\n",
       "<thead>\n",
       "\t<tr><th scope=col>filename</th><th scope=col>ATTRIBUTE_Sample.Type</th><th scope=col>ATTRIBUTE_Batch</th><th scope=col>ATTRIBUTE_Month</th><th scope=col>ATTRIBUTE_Year</th><th scope=col>ATTRIBUTE_Sample_Location</th><th scope=col>ATTRIBUTE_Replicate</th><th scope=col>ATTRIBUTE_Spot</th><th scope=col>ATTRIBUTE_Latitude</th><th scope=col>ATTRIBUTE_Longitude</th><th scope=col>...</th><th scope=col>X9833_268.175_2.821_NA</th><th scope=col>X9860_240.144_2.824_NA</th><th scope=col>X9876_414.139_2.761_NA</th><th scope=col>X9884_190.05_2.832_NA</th><th scope=col>X9897_333.144_2.881_NA</th><th scope=col>X9909_400.16_2.813_NA</th><th scope=col>X9918_252.123_2.833_NA</th><th scope=col>X9957_402.139_3.01_NA</th><th scope=col>X9972_323.123_2.716_NA</th><th scope=col>X9995_276.159_2.805_NA</th></tr>\n",
       "\t<tr><th scope=col>&lt;chr&gt;</th><th scope=col>&lt;chr&gt;</th><th scope=col>&lt;int&gt;</th><th scope=col>&lt;chr&gt;</th><th scope=col>&lt;int&gt;</th><th scope=col>&lt;int&gt;</th><th scope=col>&lt;chr&gt;</th><th scope=col>&lt;int&gt;</th><th scope=col>&lt;dbl&gt;</th><th scope=col>&lt;dbl&gt;</th><th scope=col>...</th><th scope=col>&lt;dbl&gt;</th><th scope=col>&lt;dbl&gt;</th><th scope=col>&lt;dbl&gt;</th><th scope=col>&lt;dbl&gt;</th><th scope=col>&lt;dbl&gt;</th><th scope=col>&lt;dbl&gt;</th><th scope=col>&lt;dbl&gt;</th><th scope=col>&lt;dbl&gt;</th><th scope=col>&lt;dbl&gt;</th><th scope=col>&lt;dbl&gt;</th></tr>\n",
       "</thead>\n",
       "<tbody>\n",
       "\t<tr><td>SD_01-2018_1_a.mzXML </td><td>Sample</td><td>2</td><td>Jan</td><td>2018</td><td> 1</td><td>a</td><td> 1</td><td>32.93365</td><td>-117.2648</td><td>...</td><td> 0.5095343</td><td> 0.341153</td><td>-0.9690079</td><td>-0.2136334</td><td>-1.0317304</td><td>-0.3097998</td><td>-0.177995</td><td>1.167922</td><td>-0.9536029</td><td>-0.7208463</td></tr>\n",
       "\t<tr><td>SD_01-2018_12_b.mzXML</td><td>Sample</td><td>2</td><td>Jan</td><td>2018</td><td>12</td><td>b</td><td>12</td><td>32.85161</td><td>-117.2696</td><td>...</td><td>-0.2436331</td><td>-0.242753</td><td> 1.8453228</td><td>-0.5062281</td><td>-0.5210866</td><td>-0.7371961</td><td> 1.232944</td><td>2.883112</td><td>-0.7343786</td><td>-0.4035639</td></tr>\n",
       "</tbody>\n",
       "</table>\n"
      ],
      "text/latex": [
       "A data.table: 2 × 9106\n",
       "\\begin{tabular}{lllllllllllllllllllll}\n",
       " filename & ATTRIBUTE\\_Sample.Type & ATTRIBUTE\\_Batch & ATTRIBUTE\\_Month & ATTRIBUTE\\_Year & ATTRIBUTE\\_Sample\\_Location & ATTRIBUTE\\_Replicate & ATTRIBUTE\\_Spot & ATTRIBUTE\\_Latitude & ATTRIBUTE\\_Longitude & ... & X9833\\_268.175\\_2.821\\_NA & X9860\\_240.144\\_2.824\\_NA & X9876\\_414.139\\_2.761\\_NA & X9884\\_190.05\\_2.832\\_NA & X9897\\_333.144\\_2.881\\_NA & X9909\\_400.16\\_2.813\\_NA & X9918\\_252.123\\_2.833\\_NA & X9957\\_402.139\\_3.01\\_NA & X9972\\_323.123\\_2.716\\_NA & X9995\\_276.159\\_2.805\\_NA\\\\\n",
       " <chr> & <chr> & <int> & <chr> & <int> & <int> & <chr> & <int> & <dbl> & <dbl> & ... & <dbl> & <dbl> & <dbl> & <dbl> & <dbl> & <dbl> & <dbl> & <dbl> & <dbl> & <dbl>\\\\\n",
       "\\hline\n",
       "\t SD\\_01-2018\\_1\\_a.mzXML  & Sample & 2 & Jan & 2018 &  1 & a &  1 & 32.93365 & -117.2648 & ... &  0.5095343 &  0.341153 & -0.9690079 & -0.2136334 & -1.0317304 & -0.3097998 & -0.177995 & 1.167922 & -0.9536029 & -0.7208463\\\\\n",
       "\t SD\\_01-2018\\_12\\_b.mzXML & Sample & 2 & Jan & 2018 & 12 & b & 12 & 32.85161 & -117.2696 & ... & -0.2436331 & -0.242753 &  1.8453228 & -0.5062281 & -0.5210866 & -0.7371961 &  1.232944 & 2.883112 & -0.7343786 & -0.4035639\\\\\n",
       "\\end{tabular}\n"
      ],
      "text/markdown": [
       "\n",
       "A data.table: 2 × 9106\n",
       "\n",
       "| filename &lt;chr&gt; | ATTRIBUTE_Sample.Type &lt;chr&gt; | ATTRIBUTE_Batch &lt;int&gt; | ATTRIBUTE_Month &lt;chr&gt; | ATTRIBUTE_Year &lt;int&gt; | ATTRIBUTE_Sample_Location &lt;int&gt; | ATTRIBUTE_Replicate &lt;chr&gt; | ATTRIBUTE_Spot &lt;int&gt; | ATTRIBUTE_Latitude &lt;dbl&gt; | ATTRIBUTE_Longitude &lt;dbl&gt; | ... ... | X9833_268.175_2.821_NA &lt;dbl&gt; | X9860_240.144_2.824_NA &lt;dbl&gt; | X9876_414.139_2.761_NA &lt;dbl&gt; | X9884_190.05_2.832_NA &lt;dbl&gt; | X9897_333.144_2.881_NA &lt;dbl&gt; | X9909_400.16_2.813_NA &lt;dbl&gt; | X9918_252.123_2.833_NA &lt;dbl&gt; | X9957_402.139_3.01_NA &lt;dbl&gt; | X9972_323.123_2.716_NA &lt;dbl&gt; | X9995_276.159_2.805_NA &lt;dbl&gt; |\n",
       "|---|---|---|---|---|---|---|---|---|---|---|---|---|---|---|---|---|---|---|---|---|\n",
       "| SD_01-2018_1_a.mzXML  | Sample | 2 | Jan | 2018 |  1 | a |  1 | 32.93365 | -117.2648 | ... |  0.5095343 |  0.341153 | -0.9690079 | -0.2136334 | -1.0317304 | -0.3097998 | -0.177995 | 1.167922 | -0.9536029 | -0.7208463 |\n",
       "| SD_01-2018_12_b.mzXML | Sample | 2 | Jan | 2018 | 12 | b | 12 | 32.85161 | -117.2696 | ... | -0.2436331 | -0.242753 |  1.8453228 | -0.5062281 | -0.5210866 | -0.7371961 |  1.232944 | 2.883112 | -0.7343786 | -0.4035639 |\n",
       "\n"
      ],
      "text/plain": [
       "  filename              ATTRIBUTE_Sample.Type ATTRIBUTE_Batch ATTRIBUTE_Month\n",
       "1 SD_01-2018_1_a.mzXML  Sample                2               Jan            \n",
       "2 SD_01-2018_12_b.mzXML Sample                2               Jan            \n",
       "  ATTRIBUTE_Year ATTRIBUTE_Sample_Location ATTRIBUTE_Replicate ATTRIBUTE_Spot\n",
       "1 2018            1                        a                    1            \n",
       "2 2018           12                        b                   12            \n",
       "  ATTRIBUTE_Latitude ATTRIBUTE_Longitude ... X9833_268.175_2.821_NA\n",
       "1 32.93365           -117.2648           ...  0.5095343            \n",
       "2 32.85161           -117.2696           ... -0.2436331            \n",
       "  X9860_240.144_2.824_NA X9876_414.139_2.761_NA X9884_190.05_2.832_NA\n",
       "1  0.341153              -0.9690079             -0.2136334           \n",
       "2 -0.242753               1.8453228             -0.5062281           \n",
       "  X9897_333.144_2.881_NA X9909_400.16_2.813_NA X9918_252.123_2.833_NA\n",
       "1 -1.0317304             -0.3097998            -0.177995             \n",
       "2 -0.5210866             -0.7371961             1.232944             \n",
       "  X9957_402.139_3.01_NA X9972_323.123_2.716_NA X9995_276.159_2.805_NA\n",
       "1 1.167922              -0.9536029             -0.7208463            \n",
       "2 2.883112              -0.7343786             -0.4035639            "
      ]
     },
     "metadata": {},
     "output_type": "display_data"
    }
   ],
   "source": [
    "head(ftTrain, n=2)\n",
    "head(ftTest, n=2)"
   ]
  },
  {
   "cell_type": "markdown",
   "id": "bfff0c1e-b494-4c3b-87ac-40a00e55e5c3",
   "metadata": {},
   "source": [
    "Looking at the dimension of the test and train sets: dim() gives the number of rows and columns in a dataframe."
   ]
  },
  {
   "cell_type": "code",
   "execution_count": 80,
   "id": "9e1dda15-d8cd-455e-9eac-a336a8a170c4",
   "metadata": {},
   "outputs": [
    {
     "data": {
      "text/html": [
       "<style>\n",
       ".list-inline {list-style: none; margin:0; padding: 0}\n",
       ".list-inline>li {display: inline-block}\n",
       ".list-inline>li:not(:last-child)::after {content: \"\\00b7\"; padding: 0 .5ex}\n",
       "</style>\n",
       "<ol class=list-inline><li>130</li><li>9106</li></ol>\n"
      ],
      "text/latex": [
       "\\begin{enumerate*}\n",
       "\\item 130\n",
       "\\item 9106\n",
       "\\end{enumerate*}\n"
      ],
      "text/markdown": [
       "1. 130\n",
       "2. 9106\n",
       "\n",
       "\n"
      ],
      "text/plain": [
       "[1]  130 9106"
      ]
     },
     "metadata": {},
     "output_type": "display_data"
    },
    {
     "data": {
      "text/html": [
       "<style>\n",
       ".list-inline {list-style: none; margin:0; padding: 0}\n",
       ".list-inline>li {display: inline-block}\n",
       ".list-inline>li:not(:last-child)::after {content: \"\\00b7\"; padding: 0 .5ex}\n",
       "</style>\n",
       "<ol class=list-inline><li>50</li><li>9106</li></ol>\n"
      ],
      "text/latex": [
       "\\begin{enumerate*}\n",
       "\\item 50\n",
       "\\item 9106\n",
       "\\end{enumerate*}\n"
      ],
      "text/markdown": [
       "1. 50\n",
       "2. 9106\n",
       "\n",
       "\n"
      ],
      "text/plain": [
       "[1]   50 9106"
      ]
     },
     "metadata": {},
     "output_type": "display_data"
    }
   ],
   "source": [
    "dim(ftTrain) # 130 rows or files as train data\n",
    "dim(ftTest) # 50 rows or files as test data"
   ]
  },
  {
   "cell_type": "markdown",
   "id": "cc4b1958-0ac5-476a-9569-068c05152f7e",
   "metadata": {},
   "source": [
    "Lets have a look at the class distribution of these train and test sets to see if the data is distributed among all categories."
   ]
  },
  {
   "cell_type": "code",
   "execution_count": 81,
   "id": "bfc43fcb-dc9a-4d93-a800-39dcd824f7f3",
   "metadata": {},
   "outputs": [
    {
     "data": {
      "text/plain": [
       "\n",
       "     La_Jolla Reefs       La_Jolla_Cove         Mission_Bay       Mission_Beach \n",
       "                 26                   9                  26                  13 \n",
       "      Pacific_Beach SIO_La_Jolla_Shores        Torrey_Pines \n",
       "                  9                  13                  34 "
      ]
     },
     "metadata": {},
     "output_type": "display_data"
    }
   ],
   "source": [
    "table(ftTrain$ATTRIBUTE_Sample_Area) #class distribution for train"
   ]
  },
  {
   "cell_type": "code",
   "execution_count": 82,
   "id": "487f2c56-8948-4054-ad01-e9045be3f099",
   "metadata": {},
   "outputs": [
    {
     "data": {
      "text/plain": [
       "\n",
       "     La_Jolla Reefs       La_Jolla_Cove         Mission_Bay       Mission_Beach \n",
       "                 10                   3                  10                   5 \n",
       "      Pacific_Beach SIO_La_Jolla_Shores        Torrey_Pines \n",
       "                  3                   5                  14 "
      ]
     },
     "metadata": {},
     "output_type": "display_data"
    }
   ],
   "source": [
    "table(ftTest$ATTRIBUTE_Sample_Area) #class distribution for test"
   ]
  },
  {
   "cell_type": "code",
   "execution_count": 83,
   "id": "1fdf8a86-82c3-40af-957f-d8324af864dd",
   "metadata": {},
   "outputs": [],
   "source": [
    "# prepare input data (feature table and binary class) for XGBoost:\n",
    "train_x <- ftTrain[,16:ncol(ftTrain)] # metabolomics data\n",
    "train_y <- as.factor(ftTrain$ATTRIBUTE_Sample_Area) # variable of interest\n",
    "\n",
    "test_x <- ftTest[,16:ncol(ftTest)] # metabolomics data\n",
    "test_y <- as.factor(ftTest$ATTRIBUTE_Sample_Area) # variable of interest"
   ]
  },
  {
   "cell_type": "code",
   "execution_count": 84,
   "id": "1112665d-33db-4a24-864d-cf86571432f7",
   "metadata": {},
   "outputs": [
    {
     "data": {
      "text/html": [
       "<style>\n",
       ".list-inline {list-style: none; margin:0; padding: 0}\n",
       ".list-inline>li {display: inline-block}\n",
       ".list-inline>li:not(:last-child)::after {content: \"\\00b7\"; padding: 0 .5ex}\n",
       "</style>\n",
       "<ol class=list-inline><li>130</li><li>9091</li></ol>\n"
      ],
      "text/latex": [
       "\\begin{enumerate*}\n",
       "\\item 130\n",
       "\\item 9091\n",
       "\\end{enumerate*}\n"
      ],
      "text/markdown": [
       "1. 130\n",
       "2. 9091\n",
       "\n",
       "\n"
      ],
      "text/plain": [
       "[1]  130 9091"
      ]
     },
     "metadata": {},
     "output_type": "display_data"
    },
    {
     "data": {
      "text/plain": [
       "train_y\n",
       "     La_Jolla Reefs       La_Jolla_Cove         Mission_Bay       Mission_Beach \n",
       "                 26                   9                  26                  13 \n",
       "      Pacific_Beach SIO_La_Jolla_Shores        Torrey_Pines \n",
       "                  9                  13                  34 "
      ]
     },
     "metadata": {},
     "output_type": "display_data"
    },
    {
     "data": {
      "text/html": [
       "<style>\n",
       ".list-inline {list-style: none; margin:0; padding: 0}\n",
       ".list-inline>li {display: inline-block}\n",
       ".list-inline>li:not(:last-child)::after {content: \"\\00b7\"; padding: 0 .5ex}\n",
       "</style>\n",
       "<ol class=list-inline><li>50</li><li>9091</li></ol>\n"
      ],
      "text/latex": [
       "\\begin{enumerate*}\n",
       "\\item 50\n",
       "\\item 9091\n",
       "\\end{enumerate*}\n"
      ],
      "text/markdown": [
       "1. 50\n",
       "2. 9091\n",
       "\n",
       "\n"
      ],
      "text/plain": [
       "[1]   50 9091"
      ]
     },
     "metadata": {},
     "output_type": "display_data"
    },
    {
     "data": {
      "text/plain": [
       "test_y\n",
       "     La_Jolla Reefs       La_Jolla_Cove         Mission_Bay       Mission_Beach \n",
       "                 10                   3                  10                   5 \n",
       "      Pacific_Beach SIO_La_Jolla_Shores        Torrey_Pines \n",
       "                  3                   5                  14 "
      ]
     },
     "metadata": {},
     "output_type": "display_data"
    }
   ],
   "source": [
    "dim(train_x)\n",
    "table(train_y)\n",
    "\n",
    "dim(test_x)\n",
    "table(test_y)"
   ]
  },
  {
   "cell_type": "markdown",
   "id": "48dd704d-752d-4d7c-b6df-9c7ec5fb8d25",
   "metadata": {},
   "source": [
    "# XGBoost model with default parameters\n",
    "<a id=\"xgboost_def\"></a>\n",
    "First, we perform the analysis without tuning the [parameters](https://xgboost.readthedocs.io/en/stable/parameter.html#parameters-for-tree-booster), by using default/recommended parameters to see how our basic XGBoost model performs."
   ]
  },
  {
   "cell_type": "code",
   "execution_count": 85,
   "id": "f044b0f3-dc21-4cf9-b416-8334e8e66481",
   "metadata": {},
   "outputs": [],
   "source": [
    "# register eight cores on the same machine for parallel computing --> to increase the speed of R to perform XGBoost\n",
    "n_threads <- 8 # this parameter is used by XGBoost\n",
    "cl <- parallel::makePSOCKcluster(n_threads)\n",
    "registerDoParallel(cl)"
   ]
  },
  {
   "cell_type": "code",
   "execution_count": 86,
   "id": "0d5c6afd-cd7c-4ea5-852f-c5cd1556f0c6",
   "metadata": {},
   "outputs": [],
   "source": [
    "# All the parameters are defined with their default values:\n",
    "grid_default <- expand.grid(\n",
    "    nrounds = 500, #no.of iterations\n",
    "    max_depth = 6, #maximum depth of a decision tree\n",
    "    eta = 0.3, #learning rate\n",
    "    gamma = 0, # regularization parameter (0=no regularization): Increasing the gamma will make the algorithm mre conservative\n",
    "    subsample = 1, # sampling ratio for training. XGBoost would randomly sample all the training data before growing trees to prevent overfitting\n",
    "    colsample_bytree = 1, #subsample ratio of columns when constructing a tree\n",
    "    min_child_weight = 1 #minimum sum of hessian weights needed in a child\n",
    ")"
   ]
  },
  {
   "cell_type": "code",
   "execution_count": 87,
   "id": "e6e1c386-cbad-4a54-8517-c1609c5464b8",
   "metadata": {},
   "outputs": [
    {
     "data": {
      "text/html": [
       "<table class=\"dataframe\">\n",
       "<caption>A data.frame: 1 × 7</caption>\n",
       "<thead>\n",
       "\t<tr><th scope=col>nrounds</th><th scope=col>max_depth</th><th scope=col>eta</th><th scope=col>gamma</th><th scope=col>subsample</th><th scope=col>colsample_bytree</th><th scope=col>min_child_weight</th></tr>\n",
       "\t<tr><th scope=col>&lt;dbl&gt;</th><th scope=col>&lt;dbl&gt;</th><th scope=col>&lt;dbl&gt;</th><th scope=col>&lt;dbl&gt;</th><th scope=col>&lt;dbl&gt;</th><th scope=col>&lt;dbl&gt;</th><th scope=col>&lt;dbl&gt;</th></tr>\n",
       "</thead>\n",
       "<tbody>\n",
       "\t<tr><td>500</td><td>6</td><td>0.3</td><td>0</td><td>1</td><td>1</td><td>1</td></tr>\n",
       "</tbody>\n",
       "</table>\n"
      ],
      "text/latex": [
       "A data.frame: 1 × 7\n",
       "\\begin{tabular}{lllllll}\n",
       " nrounds & max\\_depth & eta & gamma & subsample & colsample\\_bytree & min\\_child\\_weight\\\\\n",
       " <dbl> & <dbl> & <dbl> & <dbl> & <dbl> & <dbl> & <dbl>\\\\\n",
       "\\hline\n",
       "\t 500 & 6 & 0.3 & 0 & 1 & 1 & 1\\\\\n",
       "\\end{tabular}\n"
      ],
      "text/markdown": [
       "\n",
       "A data.frame: 1 × 7\n",
       "\n",
       "| nrounds &lt;dbl&gt; | max_depth &lt;dbl&gt; | eta &lt;dbl&gt; | gamma &lt;dbl&gt; | subsample &lt;dbl&gt; | colsample_bytree &lt;dbl&gt; | min_child_weight &lt;dbl&gt; |\n",
       "|---|---|---|---|---|---|---|\n",
       "| 500 | 6 | 0.3 | 0 | 1 | 1 | 1 |\n",
       "\n"
      ],
      "text/plain": [
       "  nrounds max_depth eta gamma subsample colsample_bytree min_child_weight\n",
       "1 500     6         0.3 0     1         1                1               "
      ]
     },
     "metadata": {},
     "output_type": "display_data"
    }
   ],
   "source": [
    "grid_default"
   ]
  },
  {
   "cell_type": "code",
   "execution_count": 88,
   "id": "3c7774e6-ee20-45b8-834a-b54d6afb128c",
   "metadata": {},
   "outputs": [],
   "source": [
    "train_control <- caret::trainControl(\n",
    "    method = \"none\", #here we can specify the resampling model; \"None\" only fits one model to the entire training set\n",
    "    verboseIter = FALSE, #by FALSE, we don't print the output of training log, which keeps track of successes while training.\n",
    "    allowParallel = TRUE #if a parallel (computing) backend is available, consider it\n",
    ")"
   ]
  },
  {
   "cell_type": "code",
   "execution_count": 89,
   "id": "b4190b94-4c71-4b82-8999-62f877a7a49f",
   "metadata": {},
   "outputs": [],
   "source": [
    "set.seed(1234)\n",
    "xgb_base <- caret::train(\n",
    "    x = train_x,  # metabolomics data\n",
    "    y = train_y,  # variable of interest: ATTRIBUTE_Sample_Area in our case\n",
    "    trControl = train_control, # a list of values defining how the function should act\n",
    "    tuneGrid = grid_default, # using the default parameters for tuning\n",
    "    method = \"xgbTree\", # specify which classification or regression model to train\n",
    "    verbose = TRUE, # to see the progress of training process\n",
    "    #scale_pos_weight = scalePosWeight,\n",
    "    nthread = n_threads # for parallel computing; it indicates the number of threads\n",
    ")"
   ]
  },
  {
   "cell_type": "code",
   "execution_count": 90,
   "id": "8900fbc0-0628-49e8-bed4-60b710553ba5",
   "metadata": {},
   "outputs": [
    {
     "data": {
      "text/html": [
       "<table class=\"dataframe\">\n",
       "<caption>A matrix: 2 × 6 of type dbl</caption>\n",
       "<thead>\n",
       "\t<tr><th></th><th scope=col>used</th><th scope=col>(Mb)</th><th scope=col>gc trigger</th><th scope=col>(Mb)</th><th scope=col>max used</th><th scope=col>(Mb)</th></tr>\n",
       "</thead>\n",
       "<tbody>\n",
       "\t<tr><th scope=row>Ncells</th><td> 2774013</td><td>148.2</td><td> 4676592</td><td>249.8</td><td> 4676592</td><td>249.8</td></tr>\n",
       "\t<tr><th scope=row>Vcells</th><td>18728801</td><td>142.9</td><td>30341820</td><td>231.5</td><td>28762123</td><td>219.5</td></tr>\n",
       "</tbody>\n",
       "</table>\n"
      ],
      "text/latex": [
       "A matrix: 2 × 6 of type dbl\n",
       "\\begin{tabular}{r|llllll}\n",
       "  & used & (Mb) & gc trigger & (Mb) & max used & (Mb)\\\\\n",
       "\\hline\n",
       "\tNcells &  2774013 & 148.2 &  4676592 & 249.8 &  4676592 & 249.8\\\\\n",
       "\tVcells & 18728801 & 142.9 & 30341820 & 231.5 & 28762123 & 219.5\\\\\n",
       "\\end{tabular}\n"
      ],
      "text/markdown": [
       "\n",
       "A matrix: 2 × 6 of type dbl\n",
       "\n",
       "| <!--/--> | used | (Mb) | gc trigger | (Mb) | max used | (Mb) |\n",
       "|---|---|---|---|---|---|---|\n",
       "| Ncells |  2774013 | 148.2 |  4676592 | 249.8 |  4676592 | 249.8 |\n",
       "| Vcells | 18728801 | 142.9 | 30341820 | 231.5 | 28762123 | 219.5 |\n",
       "\n"
      ],
      "text/plain": [
       "       used     (Mb)  gc trigger (Mb)  max used (Mb) \n",
       "Ncells  2774013 148.2  4676592   249.8  4676592 249.8\n",
       "Vcells 18728801 142.9 30341820   231.5 28762123 219.5"
      ]
     },
     "metadata": {},
     "output_type": "display_data"
    },
    {
     "data": {
      "text/plain": [
       "eXtreme Gradient Boosting \n",
       "\n",
       " 130 samples\n",
       "9091 predictors\n",
       "   7 classes: 'La_Jolla Reefs', 'La_Jolla_Cove', 'Mission_Bay', 'Mission_Beach', 'Pacific_Beach', 'SIO_La_Jolla_Shores', 'Torrey_Pines' \n",
       "\n",
       "No pre-processing\n",
       "Resampling: None "
      ]
     },
     "metadata": {},
     "output_type": "display_data"
    }
   ],
   "source": [
    "gc() # free memory\n",
    "xgb_base"
   ]
  },
  {
   "cell_type": "markdown",
   "id": "20da5da0-5dc2-4df4-87e4-823f3bd35ba1",
   "metadata": {},
   "source": [
    "Now, we are going to use this model to predict the test set and show the performance in a 'confusion matrix'. More information about the statistics can be found at https://rdrr.io/cran/caret/man/confusionMatrix.html."
   ]
  },
  {
   "cell_type": "code",
   "execution_count": 91,
   "id": "27d6c492-102e-4b3d-8f12-e231f33c06bf",
   "metadata": {},
   "outputs": [
    {
     "data": {
      "text/plain": [
       "Confusion Matrix and Statistics\n",
       "\n",
       "                     Reference\n",
       "Prediction            La_Jolla Reefs La_Jolla_Cove Mission_Bay Mission_Beach\n",
       "  La_Jolla Reefs                   8             0           0             1\n",
       "  La_Jolla_Cove                    0             2           0             0\n",
       "  Mission_Bay                      0             0          10             0\n",
       "  Mission_Beach                    0             0           0             4\n",
       "  Pacific_Beach                    2             0           0             0\n",
       "  SIO_La_Jolla_Shores              0             1           0             0\n",
       "  Torrey_Pines                     0             0           0             0\n",
       "                     Reference\n",
       "Prediction            Pacific_Beach SIO_La_Jolla_Shores Torrey_Pines\n",
       "  La_Jolla Reefs                  2                   1            0\n",
       "  La_Jolla_Cove                   0                   0            0\n",
       "  Mission_Bay                     1                   0            0\n",
       "  Mission_Beach                   0                   0            0\n",
       "  Pacific_Beach                   0                   0            0\n",
       "  SIO_La_Jolla_Shores             0                   2            1\n",
       "  Torrey_Pines                    0                   2           13\n",
       "\n",
       "Overall Statistics\n",
       "                                          \n",
       "               Accuracy : 0.78            \n",
       "                 95% CI : (0.6404, 0.8847)\n",
       "    No Information Rate : 0.28            \n",
       "    P-Value [Acc > NIR] : 3.095e-13       \n",
       "                                          \n",
       "                  Kappa : 0.7261          \n",
       "                                          \n",
       " Mcnemar's Test P-Value : NA              \n",
       "\n",
       "Statistics by Class:\n",
       "\n",
       "                     Class: La_Jolla Reefs Class: La_Jolla_Cove\n",
       "Sensitivity                         0.8000               0.6667\n",
       "Specificity                         0.9000               1.0000\n",
       "Pos Pred Value                      0.6667               1.0000\n",
       "Neg Pred Value                      0.9474               0.9792\n",
       "Precision                           0.6667               1.0000\n",
       "Recall                              0.8000               0.6667\n",
       "F1                                  0.7273               0.8000\n",
       "Prevalence                          0.2000               0.0600\n",
       "Detection Rate                      0.1600               0.0400\n",
       "Detection Prevalence                0.2400               0.0400\n",
       "Balanced Accuracy                   0.8500               0.8333\n",
       "                     Class: Mission_Bay Class: Mission_Beach\n",
       "Sensitivity                      1.0000               0.8000\n",
       "Specificity                      0.9750               1.0000\n",
       "Pos Pred Value                   0.9091               1.0000\n",
       "Neg Pred Value                   1.0000               0.9783\n",
       "Precision                        0.9091               1.0000\n",
       "Recall                           1.0000               0.8000\n",
       "F1                               0.9524               0.8889\n",
       "Prevalence                       0.2000               0.1000\n",
       "Detection Rate                   0.2000               0.0800\n",
       "Detection Prevalence             0.2200               0.0800\n",
       "Balanced Accuracy                0.9875               0.9000\n",
       "                     Class: Pacific_Beach Class: SIO_La_Jolla_Shores\n",
       "Sensitivity                        0.0000                     0.4000\n",
       "Specificity                        0.9574                     0.9556\n",
       "Pos Pred Value                     0.0000                     0.5000\n",
       "Neg Pred Value                     0.9375                     0.9348\n",
       "Precision                          0.0000                     0.5000\n",
       "Recall                             0.0000                     0.4000\n",
       "F1                                    NaN                     0.4444\n",
       "Prevalence                         0.0600                     0.1000\n",
       "Detection Rate                     0.0000                     0.0400\n",
       "Detection Prevalence               0.0400                     0.0800\n",
       "Balanced Accuracy                  0.4787                     0.6778\n",
       "                     Class: Torrey_Pines\n",
       "Sensitivity                       0.9286\n",
       "Specificity                       0.9444\n",
       "Pos Pred Value                    0.8667\n",
       "Neg Pred Value                    0.9714\n",
       "Precision                         0.8667\n",
       "Recall                            0.9286\n",
       "F1                                0.8966\n",
       "Prevalence                        0.2800\n",
       "Detection Rate                    0.2600\n",
       "Detection Prevalence              0.3000\n",
       "Balanced Accuracy                 0.9365"
      ]
     },
     "metadata": {},
     "output_type": "display_data"
    }
   ],
   "source": [
    "# predict on test data\n",
    "predicted_base <- predict(xgb_base, test_x)\n",
    "# performance\n",
    "confusionMatrix(data = predicted_base,  #the predicted results\n",
    "                reference = test_y, #predictions are compared with the test_y (metadata info)\n",
    "                positive = '1',\n",
    "                mode = 'everything')"
   ]
  },
  {
   "cell_type": "markdown",
   "id": "b38868c1-ff43-4ea3-a789-2b0b6a0d66fa",
   "metadata": {},
   "source": [
    "Let's look at the probability matrix. It shows the probability of a sample belonging to a particular sampling area"
   ]
  },
  {
   "cell_type": "code",
   "execution_count": 92,
   "id": "c8df7835-e1b6-44d0-ad25-bfc679fca987",
   "metadata": {},
   "outputs": [
    {
     "data": {
      "text/html": [
       "<table class=\"dataframe\">\n",
       "<caption>A data.frame: 6 × 7</caption>\n",
       "<thead>\n",
       "\t<tr><th></th><th scope=col>La_Jolla Reefs</th><th scope=col>La_Jolla_Cove</th><th scope=col>Mission_Bay</th><th scope=col>Mission_Beach</th><th scope=col>Pacific_Beach</th><th scope=col>SIO_La_Jolla_Shores</th><th scope=col>Torrey_Pines</th></tr>\n",
       "\t<tr><th></th><th scope=col>&lt;dbl&gt;</th><th scope=col>&lt;dbl&gt;</th><th scope=col>&lt;dbl&gt;</th><th scope=col>&lt;dbl&gt;</th><th scope=col>&lt;dbl&gt;</th><th scope=col>&lt;dbl&gt;</th><th scope=col>&lt;dbl&gt;</th></tr>\n",
       "</thead>\n",
       "<tbody>\n",
       "\t<tr><th scope=row>1</th><td>0.002816019</td><td>0.010469288</td><td>0.010882870</td><td>0.002248183</td><td>0.002224831</td><td>0.022698116</td><td>0.948660672</td></tr>\n",
       "\t<tr><th scope=row>2</th><td>0.024940107</td><td>0.311066955</td><td>0.067972638</td><td>0.072179526</td><td>0.066280693</td><td>0.434757501</td><td>0.022802584</td></tr>\n",
       "\t<tr><th scope=row>3</th><td>0.866500616</td><td>0.006904064</td><td>0.010814933</td><td>0.011312496</td><td>0.026965285</td><td>0.071044371</td><td>0.006458289</td></tr>\n",
       "\t<tr><th scope=row>4</th><td>0.154058352</td><td>0.005878229</td><td>0.016802182</td><td>0.011559119</td><td>0.799326360</td><td>0.005308335</td><td>0.007067390</td></tr>\n",
       "\t<tr><th scope=row>5</th><td>0.085019320</td><td>0.006862144</td><td>0.009835101</td><td>0.038245726</td><td>0.843701720</td><td>0.008085635</td><td>0.008250350</td></tr>\n",
       "\t<tr><th scope=row>6</th><td>0.004916876</td><td>0.019751199</td><td>0.027876595</td><td>0.009412915</td><td>0.005044760</td><td>0.020380303</td><td>0.912617326</td></tr>\n",
       "</tbody>\n",
       "</table>\n"
      ],
      "text/latex": [
       "A data.frame: 6 × 7\n",
       "\\begin{tabular}{r|lllllll}\n",
       "  & La\\_Jolla Reefs & La\\_Jolla\\_Cove & Mission\\_Bay & Mission\\_Beach & Pacific\\_Beach & SIO\\_La\\_Jolla\\_Shores & Torrey\\_Pines\\\\\n",
       "  & <dbl> & <dbl> & <dbl> & <dbl> & <dbl> & <dbl> & <dbl>\\\\\n",
       "\\hline\n",
       "\t1 & 0.002816019 & 0.010469288 & 0.010882870 & 0.002248183 & 0.002224831 & 0.022698116 & 0.948660672\\\\\n",
       "\t2 & 0.024940107 & 0.311066955 & 0.067972638 & 0.072179526 & 0.066280693 & 0.434757501 & 0.022802584\\\\\n",
       "\t3 & 0.866500616 & 0.006904064 & 0.010814933 & 0.011312496 & 0.026965285 & 0.071044371 & 0.006458289\\\\\n",
       "\t4 & 0.154058352 & 0.005878229 & 0.016802182 & 0.011559119 & 0.799326360 & 0.005308335 & 0.007067390\\\\\n",
       "\t5 & 0.085019320 & 0.006862144 & 0.009835101 & 0.038245726 & 0.843701720 & 0.008085635 & 0.008250350\\\\\n",
       "\t6 & 0.004916876 & 0.019751199 & 0.027876595 & 0.009412915 & 0.005044760 & 0.020380303 & 0.912617326\\\\\n",
       "\\end{tabular}\n"
      ],
      "text/markdown": [
       "\n",
       "A data.frame: 6 × 7\n",
       "\n",
       "| <!--/--> | La_Jolla Reefs &lt;dbl&gt; | La_Jolla_Cove &lt;dbl&gt; | Mission_Bay &lt;dbl&gt; | Mission_Beach &lt;dbl&gt; | Pacific_Beach &lt;dbl&gt; | SIO_La_Jolla_Shores &lt;dbl&gt; | Torrey_Pines &lt;dbl&gt; |\n",
       "|---|---|---|---|---|---|---|---|\n",
       "| 1 | 0.002816019 | 0.010469288 | 0.010882870 | 0.002248183 | 0.002224831 | 0.022698116 | 0.948660672 |\n",
       "| 2 | 0.024940107 | 0.311066955 | 0.067972638 | 0.072179526 | 0.066280693 | 0.434757501 | 0.022802584 |\n",
       "| 3 | 0.866500616 | 0.006904064 | 0.010814933 | 0.011312496 | 0.026965285 | 0.071044371 | 0.006458289 |\n",
       "| 4 | 0.154058352 | 0.005878229 | 0.016802182 | 0.011559119 | 0.799326360 | 0.005308335 | 0.007067390 |\n",
       "| 5 | 0.085019320 | 0.006862144 | 0.009835101 | 0.038245726 | 0.843701720 | 0.008085635 | 0.008250350 |\n",
       "| 6 | 0.004916876 | 0.019751199 | 0.027876595 | 0.009412915 | 0.005044760 | 0.020380303 | 0.912617326 |\n",
       "\n"
      ],
      "text/plain": [
       "  La_Jolla Reefs La_Jolla_Cove Mission_Bay Mission_Beach Pacific_Beach\n",
       "1 0.002816019    0.010469288   0.010882870 0.002248183   0.002224831  \n",
       "2 0.024940107    0.311066955   0.067972638 0.072179526   0.066280693  \n",
       "3 0.866500616    0.006904064   0.010814933 0.011312496   0.026965285  \n",
       "4 0.154058352    0.005878229   0.016802182 0.011559119   0.799326360  \n",
       "5 0.085019320    0.006862144   0.009835101 0.038245726   0.843701720  \n",
       "6 0.004916876    0.019751199   0.027876595 0.009412915   0.005044760  \n",
       "  SIO_La_Jolla_Shores Torrey_Pines\n",
       "1 0.022698116         0.948660672 \n",
       "2 0.434757501         0.022802584 \n",
       "3 0.071044371         0.006458289 \n",
       "4 0.005308335         0.007067390 \n",
       "5 0.008085635         0.008250350 \n",
       "6 0.020380303         0.912617326 "
      ]
     },
     "metadata": {},
     "output_type": "display_data"
    }
   ],
   "source": [
    "prediction_probs_base <- predict(xgb_base, test_x, type = \"prob\") # predict the probability matrix for each sampling area\n",
    "head(prediction_probs_base)"
   ]
  },
  {
   "cell_type": "code",
   "execution_count": 93,
   "id": "ff10c702-a5a6-4b2f-a912-4a5bbdf03670",
   "metadata": {},
   "outputs": [
    {
     "data": {
      "text/html": [
       "0.90421768707483"
      ],
      "text/latex": [
       "0.90421768707483"
      ],
      "text/markdown": [
       "0.90421768707483"
      ],
      "text/plain": [
       "Multi-class area under the curve: 0.9042"
      ]
     },
     "metadata": {},
     "output_type": "display_data"
    }
   ],
   "source": [
    "#to build multiple ROC curve to compute the multi-class AUC \n",
    "ROC_base <- pROC::multiclass.roc(test_y, prediction_probs_base) \n",
    "ROC_base$auc # AUC"
   ]
  },
  {
   "cell_type": "markdown",
   "id": "0f34a1f5-b193-426b-8d0e-5fc5508b1bb9",
   "metadata": {},
   "source": [
    "From the previous result, we can see that the multi-class AUC is 0.904. This result is quite good, but of course, we should be careful with conclusions since our dataset is not very large. Predictive tasks require consideration of sample size. When building these predictive models, particular attention should be paid to avoid issues such as overfitting and underfitting. <br>\n",
    "We can improve the model performance by tuning important hyperparameters and at the same time, using cross-validation to avoid potential overfitting. There are different ways of tuning parameters."
   ]
  },
  {
   "cell_type": "code",
   "execution_count": 94,
   "id": "be998804-6caa-4724-8c99-8bc19c8a9937",
   "metadata": {},
   "outputs": [
    {
     "data": {
      "text/html": [
       "<table class=\"dataframe\">\n",
       "<caption>A matrix: 2 × 6 of type dbl</caption>\n",
       "<thead>\n",
       "\t<tr><th></th><th scope=col>used</th><th scope=col>(Mb)</th><th scope=col>gc trigger</th><th scope=col>(Mb)</th><th scope=col>max used</th><th scope=col>(Mb)</th></tr>\n",
       "</thead>\n",
       "<tbody>\n",
       "\t<tr><th scope=row>Ncells</th><td> 2773478</td><td>148.2</td><td> 4676592</td><td>249.8</td><td> 4676592</td><td>249.8</td></tr>\n",
       "\t<tr><th scope=row>Vcells</th><td>18658540</td><td>142.4</td><td>30341820</td><td>231.5</td><td>28762123</td><td>219.5</td></tr>\n",
       "</tbody>\n",
       "</table>\n"
      ],
      "text/latex": [
       "A matrix: 2 × 6 of type dbl\n",
       "\\begin{tabular}{r|llllll}\n",
       "  & used & (Mb) & gc trigger & (Mb) & max used & (Mb)\\\\\n",
       "\\hline\n",
       "\tNcells &  2773478 & 148.2 &  4676592 & 249.8 &  4676592 & 249.8\\\\\n",
       "\tVcells & 18658540 & 142.4 & 30341820 & 231.5 & 28762123 & 219.5\\\\\n",
       "\\end{tabular}\n"
      ],
      "text/markdown": [
       "\n",
       "A matrix: 2 × 6 of type dbl\n",
       "\n",
       "| <!--/--> | used | (Mb) | gc trigger | (Mb) | max used | (Mb) |\n",
       "|---|---|---|---|---|---|---|\n",
       "| Ncells |  2773478 | 148.2 |  4676592 | 249.8 |  4676592 | 249.8 |\n",
       "| Vcells | 18658540 | 142.4 | 30341820 | 231.5 | 28762123 | 219.5 |\n",
       "\n"
      ],
      "text/plain": [
       "       used     (Mb)  gc trigger (Mb)  max used (Mb) \n",
       "Ncells  2773478 148.2  4676592   249.8  4676592 249.8\n",
       "Vcells 18658540 142.4 30341820   231.5 28762123 219.5"
      ]
     },
     "metadata": {},
     "output_type": "display_data"
    }
   ],
   "source": [
    "gc() #free memory"
   ]
  },
  {
   "cell_type": "markdown",
   "id": "2dcb24f0-551e-4a6c-868e-1bfa2fddba9c",
   "metadata": {
    "tags": []
   },
   "source": [
    "---\n",
    "\n",
    "# Tuning parameters in XGBoost\n",
    "<a id=\"xgboost_tune\"></a>"
   ]
  },
  {
   "cell_type": "markdown",
   "id": "59c35a2f-d4ee-45b0-a32c-11c96100a110",
   "metadata": {},
   "source": [
    "## 1. Tuning Number of Iterations and the Learning Rate\n",
    "A high number of iterations (nrounds) makes the algorithm slower but at the same time we need a good number of iterations for testing several combinations of parameters. The number of folds in the cross-validation can also slow down the computation. Just to show how this works, here we set nrounds=500 and number of folds = 5. You can also try increasing these numbers to nrounds=1000 and number of folds = 10."
   ]
  },
  {
   "cell_type": "code",
   "execution_count": 95,
   "id": "bde7bddb-a638-40ab-80af-f699eb2deb28",
   "metadata": {},
   "outputs": [],
   "source": [
    "nrounds <- 500 #no.of iterations"
   ]
  },
  {
   "cell_type": "code",
   "execution_count": 96,
   "id": "97e92246-9e41-46d1-91d6-daec42ca96f6",
   "metadata": {},
   "outputs": [],
   "source": [
    "tune_grid <- expand.grid(\n",
    "  nrounds = seq(from = 100, to = nrounds, by = 10), #sequence of values from 100 to 500 increased by 10\n",
    "  eta = c(0.025, 0.05, 0.1, 0.3), #learning rate\n",
    "  max_depth = seq(from = 2, to = 10, by = 2), #max depth of a decision tree\n",
    "  #max_depth = 6,\n",
    "  gamma = 0, #default value\n",
    "  colsample_bytree = 1, #default value\n",
    "  min_child_weight = 1, #default value\n",
    "  subsample = 1 #default value\n",
    ")"
   ]
  },
  {
   "cell_type": "code",
   "execution_count": 43,
   "id": "dc72a591-e79c-4cd5-85c6-7debe6217b3e",
   "metadata": {},
   "outputs": [
    {
     "data": {
      "text/html": [
       "<table class=\"dataframe\">\n",
       "<caption>A data.frame: 6 × 7</caption>\n",
       "<thead>\n",
       "\t<tr><th></th><th scope=col>nrounds</th><th scope=col>eta</th><th scope=col>max_depth</th><th scope=col>gamma</th><th scope=col>colsample_bytree</th><th scope=col>min_child_weight</th><th scope=col>subsample</th></tr>\n",
       "\t<tr><th></th><th scope=col>&lt;dbl&gt;</th><th scope=col>&lt;dbl&gt;</th><th scope=col>&lt;dbl&gt;</th><th scope=col>&lt;dbl&gt;</th><th scope=col>&lt;dbl&gt;</th><th scope=col>&lt;dbl&gt;</th><th scope=col>&lt;dbl&gt;</th></tr>\n",
       "</thead>\n",
       "<tbody>\n",
       "\t<tr><th scope=row>1</th><td>100</td><td>0.025</td><td>2</td><td>0</td><td>1</td><td>1</td><td>1</td></tr>\n",
       "\t<tr><th scope=row>2</th><td>110</td><td>0.025</td><td>2</td><td>0</td><td>1</td><td>1</td><td>1</td></tr>\n",
       "\t<tr><th scope=row>3</th><td>120</td><td>0.025</td><td>2</td><td>0</td><td>1</td><td>1</td><td>1</td></tr>\n",
       "\t<tr><th scope=row>4</th><td>130</td><td>0.025</td><td>2</td><td>0</td><td>1</td><td>1</td><td>1</td></tr>\n",
       "\t<tr><th scope=row>5</th><td>140</td><td>0.025</td><td>2</td><td>0</td><td>1</td><td>1</td><td>1</td></tr>\n",
       "\t<tr><th scope=row>6</th><td>150</td><td>0.025</td><td>2</td><td>0</td><td>1</td><td>1</td><td>1</td></tr>\n",
       "</tbody>\n",
       "</table>\n"
      ],
      "text/latex": [
       "A data.frame: 6 × 7\n",
       "\\begin{tabular}{r|lllllll}\n",
       "  & nrounds & eta & max\\_depth & gamma & colsample\\_bytree & min\\_child\\_weight & subsample\\\\\n",
       "  & <dbl> & <dbl> & <dbl> & <dbl> & <dbl> & <dbl> & <dbl>\\\\\n",
       "\\hline\n",
       "\t1 & 100 & 0.025 & 2 & 0 & 1 & 1 & 1\\\\\n",
       "\t2 & 110 & 0.025 & 2 & 0 & 1 & 1 & 1\\\\\n",
       "\t3 & 120 & 0.025 & 2 & 0 & 1 & 1 & 1\\\\\n",
       "\t4 & 130 & 0.025 & 2 & 0 & 1 & 1 & 1\\\\\n",
       "\t5 & 140 & 0.025 & 2 & 0 & 1 & 1 & 1\\\\\n",
       "\t6 & 150 & 0.025 & 2 & 0 & 1 & 1 & 1\\\\\n",
       "\\end{tabular}\n"
      ],
      "text/markdown": [
       "\n",
       "A data.frame: 6 × 7\n",
       "\n",
       "| <!--/--> | nrounds &lt;dbl&gt; | eta &lt;dbl&gt; | max_depth &lt;dbl&gt; | gamma &lt;dbl&gt; | colsample_bytree &lt;dbl&gt; | min_child_weight &lt;dbl&gt; | subsample &lt;dbl&gt; |\n",
       "|---|---|---|---|---|---|---|---|\n",
       "| 1 | 100 | 0.025 | 2 | 0 | 1 | 1 | 1 |\n",
       "| 2 | 110 | 0.025 | 2 | 0 | 1 | 1 | 1 |\n",
       "| 3 | 120 | 0.025 | 2 | 0 | 1 | 1 | 1 |\n",
       "| 4 | 130 | 0.025 | 2 | 0 | 1 | 1 | 1 |\n",
       "| 5 | 140 | 0.025 | 2 | 0 | 1 | 1 | 1 |\n",
       "| 6 | 150 | 0.025 | 2 | 0 | 1 | 1 | 1 |\n",
       "\n"
      ],
      "text/plain": [
       "  nrounds eta   max_depth gamma colsample_bytree min_child_weight subsample\n",
       "1 100     0.025 2         0     1                1                1        \n",
       "2 110     0.025 2         0     1                1                1        \n",
       "3 120     0.025 2         0     1                1                1        \n",
       "4 130     0.025 2         0     1                1                1        \n",
       "5 140     0.025 2         0     1                1                1        \n",
       "6 150     0.025 2         0     1                1                1        "
      ]
     },
     "metadata": {},
     "output_type": "display_data"
    }
   ],
   "source": [
    "head(tune_grid)"
   ]
  },
  {
   "cell_type": "code",
   "execution_count": 44,
   "id": "4e7acec2-6b5a-4fcf-a70e-e226a6718ae5",
   "metadata": {},
   "outputs": [
    {
     "data": {
      "text/html": [
       "<table class=\"dataframe\">\n",
       "<caption>A data.frame: 6 × 7</caption>\n",
       "<thead>\n",
       "\t<tr><th></th><th scope=col>nrounds</th><th scope=col>eta</th><th scope=col>max_depth</th><th scope=col>gamma</th><th scope=col>colsample_bytree</th><th scope=col>min_child_weight</th><th scope=col>subsample</th></tr>\n",
       "\t<tr><th></th><th scope=col>&lt;dbl&gt;</th><th scope=col>&lt;dbl&gt;</th><th scope=col>&lt;dbl&gt;</th><th scope=col>&lt;dbl&gt;</th><th scope=col>&lt;dbl&gt;</th><th scope=col>&lt;dbl&gt;</th><th scope=col>&lt;dbl&gt;</th></tr>\n",
       "</thead>\n",
       "<tbody>\n",
       "\t<tr><th scope=row>815</th><td>450</td><td>0.3</td><td>10</td><td>0</td><td>1</td><td>1</td><td>1</td></tr>\n",
       "\t<tr><th scope=row>816</th><td>460</td><td>0.3</td><td>10</td><td>0</td><td>1</td><td>1</td><td>1</td></tr>\n",
       "\t<tr><th scope=row>817</th><td>470</td><td>0.3</td><td>10</td><td>0</td><td>1</td><td>1</td><td>1</td></tr>\n",
       "\t<tr><th scope=row>818</th><td>480</td><td>0.3</td><td>10</td><td>0</td><td>1</td><td>1</td><td>1</td></tr>\n",
       "\t<tr><th scope=row>819</th><td>490</td><td>0.3</td><td>10</td><td>0</td><td>1</td><td>1</td><td>1</td></tr>\n",
       "\t<tr><th scope=row>820</th><td>500</td><td>0.3</td><td>10</td><td>0</td><td>1</td><td>1</td><td>1</td></tr>\n",
       "</tbody>\n",
       "</table>\n"
      ],
      "text/latex": [
       "A data.frame: 6 × 7\n",
       "\\begin{tabular}{r|lllllll}\n",
       "  & nrounds & eta & max\\_depth & gamma & colsample\\_bytree & min\\_child\\_weight & subsample\\\\\n",
       "  & <dbl> & <dbl> & <dbl> & <dbl> & <dbl> & <dbl> & <dbl>\\\\\n",
       "\\hline\n",
       "\t815 & 450 & 0.3 & 10 & 0 & 1 & 1 & 1\\\\\n",
       "\t816 & 460 & 0.3 & 10 & 0 & 1 & 1 & 1\\\\\n",
       "\t817 & 470 & 0.3 & 10 & 0 & 1 & 1 & 1\\\\\n",
       "\t818 & 480 & 0.3 & 10 & 0 & 1 & 1 & 1\\\\\n",
       "\t819 & 490 & 0.3 & 10 & 0 & 1 & 1 & 1\\\\\n",
       "\t820 & 500 & 0.3 & 10 & 0 & 1 & 1 & 1\\\\\n",
       "\\end{tabular}\n"
      ],
      "text/markdown": [
       "\n",
       "A data.frame: 6 × 7\n",
       "\n",
       "| <!--/--> | nrounds &lt;dbl&gt; | eta &lt;dbl&gt; | max_depth &lt;dbl&gt; | gamma &lt;dbl&gt; | colsample_bytree &lt;dbl&gt; | min_child_weight &lt;dbl&gt; | subsample &lt;dbl&gt; |\n",
       "|---|---|---|---|---|---|---|---|\n",
       "| 815 | 450 | 0.3 | 10 | 0 | 1 | 1 | 1 |\n",
       "| 816 | 460 | 0.3 | 10 | 0 | 1 | 1 | 1 |\n",
       "| 817 | 470 | 0.3 | 10 | 0 | 1 | 1 | 1 |\n",
       "| 818 | 480 | 0.3 | 10 | 0 | 1 | 1 | 1 |\n",
       "| 819 | 490 | 0.3 | 10 | 0 | 1 | 1 | 1 |\n",
       "| 820 | 500 | 0.3 | 10 | 0 | 1 | 1 | 1 |\n",
       "\n"
      ],
      "text/plain": [
       "    nrounds eta max_depth gamma colsample_bytree min_child_weight subsample\n",
       "815 450     0.3 10        0     1                1                1        \n",
       "816 460     0.3 10        0     1                1                1        \n",
       "817 470     0.3 10        0     1                1                1        \n",
       "818 480     0.3 10        0     1                1                1        \n",
       "819 490     0.3 10        0     1                1                1        \n",
       "820 500     0.3 10        0     1                1                1        "
      ]
     },
     "metadata": {},
     "output_type": "display_data"
    }
   ],
   "source": [
    "tail(tune_grid) #last 6 values of the dataframe. As you can see, eta and max_depth range are changing as well"
   ]
  },
  {
   "cell_type": "code",
   "execution_count": 45,
   "id": "96225427-6cdd-4fe8-9587-2035425d2480",
   "metadata": {},
   "outputs": [],
   "source": [
    "tune_control <- caret::trainControl(\n",
    "  method = \"cv\", # cross-validation\n",
    "  number = 5, # number of folds\n",
    "  repeats = NA,\n",
    "  verboseIter = FALSE,\n",
    "  allowParallel = TRUE\n",
    ")"
   ]
  },
  {
   "cell_type": "markdown",
   "id": "61d2ea53-e60f-4095-98bf-407631c705b9",
   "metadata": {},
   "source": [
    "<font color=\"red\"><b>Critical:</b> It will take about 16-20 mins to run the next cell.</font>"
   ]
  },
  {
   "cell_type": "code",
   "execution_count": 46,
   "id": "b56d41a7-dbc7-471a-a9d2-743e263561b8",
   "metadata": {},
   "outputs": [],
   "source": [
    "set.seed(1234)\n",
    "xgb_tune <- caret::train(\n",
    "  x = train_x, y = train_y,\n",
    "  trControl = tune_control, #here tune_control with 5-fold cross validation is used to define the trainControl\n",
    "  tuneGrid = tune_grid, #using the tune_grid dataframe for tuning\n",
    "  method = \"xgbTree\",\n",
    "  verbose = TRUE,\n",
    "  nthread = n_threads # for parallel computing; it indicates the number of threads\n",
    ")"
   ]
  },
  {
   "cell_type": "code",
   "execution_count": 53,
   "id": "51c9f048-8cc0-4cb0-954e-5a74598d7e42",
   "metadata": {},
   "outputs": [
    {
     "data": {
      "text/html": [
       "<table class=\"dataframe\">\n",
       "<caption>A matrix: 2 × 6 of type dbl</caption>\n",
       "<thead>\n",
       "\t<tr><th></th><th scope=col>used</th><th scope=col>(Mb)</th><th scope=col>gc trigger</th><th scope=col>(Mb)</th><th scope=col>max used</th><th scope=col>(Mb)</th></tr>\n",
       "</thead>\n",
       "<tbody>\n",
       "\t<tr><th scope=row>Ncells</th><td> 2665765</td><td>142.4</td><td> 4676592</td><td>249.8</td><td> 4676592</td><td>249.8</td></tr>\n",
       "\t<tr><th scope=row>Vcells</th><td>12547838</td><td> 95.8</td><td>20948487</td><td>159.9</td><td>18504094</td><td>141.2</td></tr>\n",
       "</tbody>\n",
       "</table>\n"
      ],
      "text/latex": [
       "A matrix: 2 × 6 of type dbl\n",
       "\\begin{tabular}{r|llllll}\n",
       "  & used & (Mb) & gc trigger & (Mb) & max used & (Mb)\\\\\n",
       "\\hline\n",
       "\tNcells &  2665765 & 142.4 &  4676592 & 249.8 &  4676592 & 249.8\\\\\n",
       "\tVcells & 12547838 &  95.8 & 20948487 & 159.9 & 18504094 & 141.2\\\\\n",
       "\\end{tabular}\n"
      ],
      "text/markdown": [
       "\n",
       "A matrix: 2 × 6 of type dbl\n",
       "\n",
       "| <!--/--> | used | (Mb) | gc trigger | (Mb) | max used | (Mb) |\n",
       "|---|---|---|---|---|---|---|\n",
       "| Ncells |  2665765 | 142.4 |  4676592 | 249.8 |  4676592 | 249.8 |\n",
       "| Vcells | 12547838 |  95.8 | 20948487 | 159.9 | 18504094 | 141.2 |\n",
       "\n"
      ],
      "text/plain": [
       "       used     (Mb)  gc trigger (Mb)  max used (Mb) \n",
       "Ncells  2665765 142.4  4676592   249.8  4676592 249.8\n",
       "Vcells 12547838  95.8 20948487   159.9 18504094 141.2"
      ]
     },
     "metadata": {},
     "output_type": "display_data"
    }
   ],
   "source": [
    "gc() #freeing RAM memory"
   ]
  },
  {
   "cell_type": "markdown",
   "id": "d63b9b96-34bf-4108-b05f-77d6fdee693e",
   "metadata": {},
   "source": [
    "## 2. Tuning Maximum Depth and Minimum Child Weight"
   ]
  },
  {
   "cell_type": "code",
   "execution_count": 54,
   "id": "0d401b17-be11-4143-a19f-907e0cb8168f",
   "metadata": {},
   "outputs": [
    {
     "data": {
      "text/html": [
       "<table class=\"dataframe\">\n",
       "<caption>A data.frame: 1 × 7</caption>\n",
       "<thead>\n",
       "\t<tr><th></th><th scope=col>nrounds</th><th scope=col>max_depth</th><th scope=col>eta</th><th scope=col>gamma</th><th scope=col>colsample_bytree</th><th scope=col>min_child_weight</th><th scope=col>subsample</th></tr>\n",
       "\t<tr><th></th><th scope=col>&lt;dbl&gt;</th><th scope=col>&lt;dbl&gt;</th><th scope=col>&lt;dbl&gt;</th><th scope=col>&lt;dbl&gt;</th><th scope=col>&lt;dbl&gt;</th><th scope=col>&lt;dbl&gt;</th><th scope=col>&lt;dbl&gt;</th></tr>\n",
       "</thead>\n",
       "<tbody>\n",
       "\t<tr><th scope=row>4</th><td>130</td><td>2</td><td>0.025</td><td>0</td><td>1</td><td>1</td><td>1</td></tr>\n",
       "</tbody>\n",
       "</table>\n"
      ],
      "text/latex": [
       "A data.frame: 1 × 7\n",
       "\\begin{tabular}{r|lllllll}\n",
       "  & nrounds & max\\_depth & eta & gamma & colsample\\_bytree & min\\_child\\_weight & subsample\\\\\n",
       "  & <dbl> & <dbl> & <dbl> & <dbl> & <dbl> & <dbl> & <dbl>\\\\\n",
       "\\hline\n",
       "\t4 & 130 & 2 & 0.025 & 0 & 1 & 1 & 1\\\\\n",
       "\\end{tabular}\n"
      ],
      "text/markdown": [
       "\n",
       "A data.frame: 1 × 7\n",
       "\n",
       "| <!--/--> | nrounds &lt;dbl&gt; | max_depth &lt;dbl&gt; | eta &lt;dbl&gt; | gamma &lt;dbl&gt; | colsample_bytree &lt;dbl&gt; | min_child_weight &lt;dbl&gt; | subsample &lt;dbl&gt; |\n",
       "|---|---|---|---|---|---|---|---|\n",
       "| 4 | 130 | 2 | 0.025 | 0 | 1 | 1 | 1 |\n",
       "\n"
      ],
      "text/plain": [
       "  nrounds max_depth eta   gamma colsample_bytree min_child_weight subsample\n",
       "4 130     2         0.025 0     1                1                1        "
      ]
     },
     "metadata": {},
     "output_type": "display_data"
    }
   ],
   "source": [
    "xgb_tune$bestTune #getting the best tuning parameter from the previous tuned model"
   ]
  },
  {
   "cell_type": "code",
   "execution_count": 55,
   "id": "f7e954a0-7ea2-4708-af56-81752ded7631",
   "metadata": {},
   "outputs": [],
   "source": [
    "tune_grid2 <- expand.grid(\n",
    "  nrounds = seq(from = 100, to = nrounds, by = 10),\n",
    "  eta = xgb_tune$bestTune$eta, #choosing the best-tuned learning rate\n",
    "  max_depth = ifelse(xgb_tune$bestTune$max_depth == 2, #test if the best-tuned max_depth value is 2\n",
    "                     c(xgb_tune$bestTune$max_depth:10), #if yes, then consider max_depth range from 2 to 10\n",
    "                     (xgb_tune$bestTune$max_depth - 1):(xgb_tune$bestTune$max_depth + 1)), #if not, consider max_depth range from 1 value below best_tuned max_depth until 1 value above. \n",
    "  gamma = 0, #default\n",
    "  colsample_bytree = 1, #default value\n",
    "  min_child_weight = c(1, 2, 3), #range of 1 to 3\n",
    "  subsample = 1 #default value\n",
    ")"
   ]
  },
  {
   "cell_type": "markdown",
   "id": "eabafd6d-c45e-42c9-9af6-e68153331841",
   "metadata": {},
   "source": [
    "<font color=\"red\"><b>Critical:</b> It will take about 10 mins to run the next cell.</font>"
   ]
  },
  {
   "cell_type": "code",
   "execution_count": 56,
   "id": "3a9d3771-83f4-46f2-9172-46badf51614e",
   "metadata": {},
   "outputs": [],
   "source": [
    "set.seed(1234)\n",
    "xgb_tune2 <- caret::train( #training anotehr model with these tuned parameters\n",
    "  x = train_x, y = train_y,\n",
    "  trControl = tune_control,\n",
    "  tuneGrid = tune_grid2,\n",
    "  method = \"xgbTree\",\n",
    "  verbose = TRUE,\n",
    "  nthread = n_threads # for parallel computing; it indicates the number of threads\n",
    ")"
   ]
  },
  {
   "cell_type": "markdown",
   "id": "3f04daba-5cbd-493b-8b62-5e7dc3b1b766",
   "metadata": {},
   "source": [
    "## 3. Tuning Column and Row Sampling"
   ]
  },
  {
   "cell_type": "markdown",
   "id": "b3ee65ae-4a51-4e9e-b632-120d590adde7",
   "metadata": {},
   "source": [
    "Getting the best parameters from the previous tuning:"
   ]
  },
  {
   "cell_type": "code",
   "execution_count": 57,
   "id": "225fdf18-1b19-4604-89c5-78ad9e33ef4e",
   "metadata": {},
   "outputs": [
    {
     "data": {
      "text/html": [
       "<table class=\"dataframe\">\n",
       "<caption>A data.frame: 1 × 7</caption>\n",
       "<thead>\n",
       "\t<tr><th></th><th scope=col>nrounds</th><th scope=col>max_depth</th><th scope=col>eta</th><th scope=col>gamma</th><th scope=col>colsample_bytree</th><th scope=col>min_child_weight</th><th scope=col>subsample</th></tr>\n",
       "\t<tr><th></th><th scope=col>&lt;dbl&gt;</th><th scope=col>&lt;int&gt;</th><th scope=col>&lt;dbl&gt;</th><th scope=col>&lt;dbl&gt;</th><th scope=col>&lt;dbl&gt;</th><th scope=col>&lt;dbl&gt;</th><th scope=col>&lt;dbl&gt;</th></tr>\n",
       "</thead>\n",
       "<tbody>\n",
       "\t<tr><th scope=row>4</th><td>130</td><td>2</td><td>0.025</td><td>0</td><td>1</td><td>1</td><td>1</td></tr>\n",
       "</tbody>\n",
       "</table>\n"
      ],
      "text/latex": [
       "A data.frame: 1 × 7\n",
       "\\begin{tabular}{r|lllllll}\n",
       "  & nrounds & max\\_depth & eta & gamma & colsample\\_bytree & min\\_child\\_weight & subsample\\\\\n",
       "  & <dbl> & <int> & <dbl> & <dbl> & <dbl> & <dbl> & <dbl>\\\\\n",
       "\\hline\n",
       "\t4 & 130 & 2 & 0.025 & 0 & 1 & 1 & 1\\\\\n",
       "\\end{tabular}\n"
      ],
      "text/markdown": [
       "\n",
       "A data.frame: 1 × 7\n",
       "\n",
       "| <!--/--> | nrounds &lt;dbl&gt; | max_depth &lt;int&gt; | eta &lt;dbl&gt; | gamma &lt;dbl&gt; | colsample_bytree &lt;dbl&gt; | min_child_weight &lt;dbl&gt; | subsample &lt;dbl&gt; |\n",
       "|---|---|---|---|---|---|---|---|\n",
       "| 4 | 130 | 2 | 0.025 | 0 | 1 | 1 | 1 |\n",
       "\n"
      ],
      "text/plain": [
       "  nrounds max_depth eta   gamma colsample_bytree min_child_weight subsample\n",
       "4 130     2         0.025 0     1                1                1        "
      ]
     },
     "metadata": {},
     "output_type": "display_data"
    }
   ],
   "source": [
    "xgb_tune2$bestTune"
   ]
  },
  {
   "cell_type": "markdown",
   "id": "9c5a47dc-1d69-4f8a-96e1-e19f54cd4736",
   "metadata": {},
   "source": [
    "- So far, in the first xgb model, we tried to tune the Tuning Number of Iterations(nrounds) and Learning Rate(eta). \n",
    "- We used the best eta from 1st model and tuned the second model(xgb_tune2) for different values of Maximum Depth and Minimum Child Weight.\n",
    "- For the next model xgb_tune3, we choose best_eta from xgb_tune and best values of <b>max_depth</b> and <b>min_child_weight</b> from xgb_tune2. Using these parameters, we are tuning <b>colsample_bytree</b> and <b>subsample.</b>\n",
    "\n",
    "<b>subsample</b> is defined as the sampling ratio for training. If it is 0.5, then XGBoost would randomly sample half of the training data before growing trees to prevent overfitting. <br>\n",
    "<b>colsample_bytree</b> is the subsample ratio of columns when constructing a decision tree."
   ]
  },
  {
   "cell_type": "code",
   "execution_count": 58,
   "id": "d67fcbad-412a-4b01-aadc-9993751af3eb",
   "metadata": {},
   "outputs": [],
   "source": [
    "tune_grid3 <- expand.grid(\n",
    "  nrounds = seq(from = 100, to = nrounds, by = 10),\n",
    "  eta = xgb_tune$bestTune$eta,\n",
    "  max_depth = xgb_tune2$bestTune$max_depth,\n",
    "  gamma = 0,\n",
    "  colsample_bytree = c(0.4, 0.6, 0.8, 1.0),\n",
    "  min_child_weight = xgb_tune2$bestTune$min_child_weight,\n",
    "  subsample = c(0.5, 0.75, 1.0)\n",
    ")"
   ]
  },
  {
   "cell_type": "markdown",
   "id": "76f14d80-8b8c-4e39-97ef-85c3845711b9",
   "metadata": {},
   "source": [
    "<font color=\"red\"><b>Critical:</b> It will take about 4-5 mins to run the next cell.</font>"
   ]
  },
  {
   "cell_type": "code",
   "execution_count": 59,
   "id": "62838918-ea16-4195-9d6e-b977947f8ee3",
   "metadata": {},
   "outputs": [],
   "source": [
    "set.seed(1234)\n",
    "xgb_tune3 <- caret::train(\n",
    "  x = train_x, y = train_y,\n",
    "  trControl = tune_control,\n",
    "  tuneGrid = tune_grid3,\n",
    "  method = \"xgbTree\",\n",
    "  verbose = TRUE,\n",
    "  nthread = n_threads # for parallel computing; it indicates the number of threads\n",
    ")"
   ]
  },
  {
   "cell_type": "code",
   "execution_count": 60,
   "id": "de49de96-d0c0-478e-995d-491169a43e7c",
   "metadata": {},
   "outputs": [
    {
     "data": {
      "text/html": [
       "<table class=\"dataframe\">\n",
       "<caption>A matrix: 2 × 6 of type dbl</caption>\n",
       "<thead>\n",
       "\t<tr><th></th><th scope=col>used</th><th scope=col>(Mb)</th><th scope=col>gc trigger</th><th scope=col>(Mb)</th><th scope=col>max used</th><th scope=col>(Mb)</th></tr>\n",
       "</thead>\n",
       "<tbody>\n",
       "\t<tr><th scope=row>Ncells</th><td> 2706130</td><td>144.6</td><td> 4676592</td><td>249.8</td><td> 4676592</td><td>249.8</td></tr>\n",
       "\t<tr><th scope=row>Vcells</th><td>15350961</td><td>117.2</td><td>25218184</td><td>192.4</td><td>18504094</td><td>141.2</td></tr>\n",
       "</tbody>\n",
       "</table>\n"
      ],
      "text/latex": [
       "A matrix: 2 × 6 of type dbl\n",
       "\\begin{tabular}{r|llllll}\n",
       "  & used & (Mb) & gc trigger & (Mb) & max used & (Mb)\\\\\n",
       "\\hline\n",
       "\tNcells &  2706130 & 144.6 &  4676592 & 249.8 &  4676592 & 249.8\\\\\n",
       "\tVcells & 15350961 & 117.2 & 25218184 & 192.4 & 18504094 & 141.2\\\\\n",
       "\\end{tabular}\n"
      ],
      "text/markdown": [
       "\n",
       "A matrix: 2 × 6 of type dbl\n",
       "\n",
       "| <!--/--> | used | (Mb) | gc trigger | (Mb) | max used | (Mb) |\n",
       "|---|---|---|---|---|---|---|\n",
       "| Ncells |  2706130 | 144.6 |  4676592 | 249.8 |  4676592 | 249.8 |\n",
       "| Vcells | 15350961 | 117.2 | 25218184 | 192.4 | 18504094 | 141.2 |\n",
       "\n"
      ],
      "text/plain": [
       "       used     (Mb)  gc trigger (Mb)  max used (Mb) \n",
       "Ncells  2706130 144.6  4676592   249.8  4676592 249.8\n",
       "Vcells 15350961 117.2 25218184   192.4 18504094 141.2"
      ]
     },
     "metadata": {},
     "output_type": "display_data"
    }
   ],
   "source": [
    "gc()"
   ]
  },
  {
   "cell_type": "markdown",
   "id": "d61c20f7-e438-4862-ae32-67fa73ef0459",
   "metadata": {},
   "source": [
    "## 4. Tuning Gamma"
   ]
  },
  {
   "cell_type": "markdown",
   "id": "99786367-41ff-4672-a9bb-96a895309bdc",
   "metadata": {},
   "source": [
    "Gamma is a regularization parameter (0=no regularization). Increasing the gamma will make the algorithm more conservative"
   ]
  },
  {
   "cell_type": "code",
   "execution_count": 61,
   "id": "b4f1e23d-dfab-4012-987a-33a62ed87707",
   "metadata": {},
   "outputs": [
    {
     "data": {
      "text/html": [
       "<table class=\"dataframe\">\n",
       "<caption>A data.frame: 1 × 7</caption>\n",
       "<thead>\n",
       "\t<tr><th></th><th scope=col>nrounds</th><th scope=col>max_depth</th><th scope=col>eta</th><th scope=col>gamma</th><th scope=col>colsample_bytree</th><th scope=col>min_child_weight</th><th scope=col>subsample</th></tr>\n",
       "\t<tr><th></th><th scope=col>&lt;dbl&gt;</th><th scope=col>&lt;int&gt;</th><th scope=col>&lt;dbl&gt;</th><th scope=col>&lt;dbl&gt;</th><th scope=col>&lt;dbl&gt;</th><th scope=col>&lt;dbl&gt;</th><th scope=col>&lt;dbl&gt;</th></tr>\n",
       "</thead>\n",
       "<tbody>\n",
       "\t<tr><th scope=row>86</th><td>130</td><td>2</td><td>0.025</td><td>0</td><td>0.4</td><td>1</td><td>1</td></tr>\n",
       "</tbody>\n",
       "</table>\n"
      ],
      "text/latex": [
       "A data.frame: 1 × 7\n",
       "\\begin{tabular}{r|lllllll}\n",
       "  & nrounds & max\\_depth & eta & gamma & colsample\\_bytree & min\\_child\\_weight & subsample\\\\\n",
       "  & <dbl> & <int> & <dbl> & <dbl> & <dbl> & <dbl> & <dbl>\\\\\n",
       "\\hline\n",
       "\t86 & 130 & 2 & 0.025 & 0 & 0.4 & 1 & 1\\\\\n",
       "\\end{tabular}\n"
      ],
      "text/markdown": [
       "\n",
       "A data.frame: 1 × 7\n",
       "\n",
       "| <!--/--> | nrounds &lt;dbl&gt; | max_depth &lt;int&gt; | eta &lt;dbl&gt; | gamma &lt;dbl&gt; | colsample_bytree &lt;dbl&gt; | min_child_weight &lt;dbl&gt; | subsample &lt;dbl&gt; |\n",
       "|---|---|---|---|---|---|---|---|\n",
       "| 86 | 130 | 2 | 0.025 | 0 | 0.4 | 1 | 1 |\n",
       "\n"
      ],
      "text/plain": [
       "   nrounds max_depth eta   gamma colsample_bytree min_child_weight subsample\n",
       "86 130     2         0.025 0     0.4              1                1        "
      ]
     },
     "metadata": {},
     "output_type": "display_data"
    }
   ],
   "source": [
    "xgb_tune3$bestTune"
   ]
  },
  {
   "cell_type": "code",
   "execution_count": 62,
   "id": "bfce5286-1cfc-430d-b5e3-213ad29b52d7",
   "metadata": {},
   "outputs": [],
   "source": [
    "tune_grid4 <- expand.grid(\n",
    "  nrounds = seq(from = 100, to = nrounds, by = 10),\n",
    "  eta = xgb_tune$bestTune$eta,\n",
    "  max_depth = xgb_tune2$bestTune$max_depth,\n",
    "  gamma = c(0, 0.05, 0.1, 0.5, 0.7, 0.9, 1.0), #defining a range of gamma values\n",
    "  colsample_bytree = xgb_tune3$bestTune$colsample_bytree,\n",
    "  min_child_weight = xgb_tune2$bestTune$min_child_weight,\n",
    "  subsample = xgb_tune3$bestTune$subsample\n",
    ")"
   ]
  },
  {
   "cell_type": "markdown",
   "id": "12dafcc8-1d78-4994-9f5d-7cf9271ad314",
   "metadata": {},
   "source": [
    "<font color=\"red\"><b>Critical:</b> It will take about 5-10 mins to run the next cell.</font>"
   ]
  },
  {
   "cell_type": "code",
   "execution_count": 63,
   "id": "ef38c204-b6a6-4d6f-9e6f-095a898ddba7",
   "metadata": {},
   "outputs": [],
   "source": [
    "set.seed(1234)\n",
    "xgb_tune4 <- caret::train(\n",
    "  x = train_x, y = train_y,\n",
    "  trControl = tune_control,\n",
    "  tuneGrid = tune_grid4,\n",
    "  method = \"xgbTree\",\n",
    "  verbose = TRUE,\n",
    "  nthread = n_threads # for parallel computing; it indicates the number of threads\n",
    ")"
   ]
  },
  {
   "cell_type": "code",
   "execution_count": 64,
   "id": "3344b089-78ab-4b14-b7a4-d2174992ba54",
   "metadata": {},
   "outputs": [
    {
     "data": {
      "text/html": [
       "<table class=\"dataframe\">\n",
       "<caption>A matrix: 2 × 6 of type dbl</caption>\n",
       "<thead>\n",
       "\t<tr><th></th><th scope=col>used</th><th scope=col>(Mb)</th><th scope=col>gc trigger</th><th scope=col>(Mb)</th><th scope=col>max used</th><th scope=col>(Mb)</th></tr>\n",
       "</thead>\n",
       "<tbody>\n",
       "\t<tr><th scope=row>Ncells</th><td> 2726345</td><td>145.7</td><td> 4676592</td><td>249.8</td><td> 4676592</td><td>249.8</td></tr>\n",
       "\t<tr><th scope=row>Vcells</th><td>16743416</td><td>127.8</td><td>30341820</td><td>231.5</td><td>19552645</td><td>149.2</td></tr>\n",
       "</tbody>\n",
       "</table>\n"
      ],
      "text/latex": [
       "A matrix: 2 × 6 of type dbl\n",
       "\\begin{tabular}{r|llllll}\n",
       "  & used & (Mb) & gc trigger & (Mb) & max used & (Mb)\\\\\n",
       "\\hline\n",
       "\tNcells &  2726345 & 145.7 &  4676592 & 249.8 &  4676592 & 249.8\\\\\n",
       "\tVcells & 16743416 & 127.8 & 30341820 & 231.5 & 19552645 & 149.2\\\\\n",
       "\\end{tabular}\n"
      ],
      "text/markdown": [
       "\n",
       "A matrix: 2 × 6 of type dbl\n",
       "\n",
       "| <!--/--> | used | (Mb) | gc trigger | (Mb) | max used | (Mb) |\n",
       "|---|---|---|---|---|---|---|\n",
       "| Ncells |  2726345 | 145.7 |  4676592 | 249.8 |  4676592 | 249.8 |\n",
       "| Vcells | 16743416 | 127.8 | 30341820 | 231.5 | 19552645 | 149.2 |\n",
       "\n"
      ],
      "text/plain": [
       "       used     (Mb)  gc trigger (Mb)  max used (Mb) \n",
       "Ncells  2726345 145.7  4676592   249.8  4676592 249.8\n",
       "Vcells 16743416 127.8 30341820   231.5 19552645 149.2"
      ]
     },
     "metadata": {},
     "output_type": "display_data"
    }
   ],
   "source": [
    "gc()"
   ]
  },
  {
   "cell_type": "markdown",
   "id": "c772d572-9e72-49b7-b437-69c0fa65a778",
   "metadata": {},
   "source": [
    "## 5. Reducing the Learning Rate"
   ]
  },
  {
   "cell_type": "code",
   "execution_count": 65,
   "id": "c7c151a2-a72e-4cb5-bb0a-f0a8f85ba801",
   "metadata": {},
   "outputs": [
    {
     "data": {
      "text/html": [
       "<table class=\"dataframe\">\n",
       "<caption>A data.frame: 1 × 7</caption>\n",
       "<thead>\n",
       "\t<tr><th></th><th scope=col>nrounds</th><th scope=col>max_depth</th><th scope=col>eta</th><th scope=col>gamma</th><th scope=col>colsample_bytree</th><th scope=col>min_child_weight</th><th scope=col>subsample</th></tr>\n",
       "\t<tr><th></th><th scope=col>&lt;dbl&gt;</th><th scope=col>&lt;int&gt;</th><th scope=col>&lt;dbl&gt;</th><th scope=col>&lt;dbl&gt;</th><th scope=col>&lt;dbl&gt;</th><th scope=col>&lt;dbl&gt;</th><th scope=col>&lt;dbl&gt;</th></tr>\n",
       "</thead>\n",
       "<tbody>\n",
       "\t<tr><th scope=row>83</th><td>100</td><td>2</td><td>0.025</td><td>0.1</td><td>0.4</td><td>1</td><td>1</td></tr>\n",
       "</tbody>\n",
       "</table>\n"
      ],
      "text/latex": [
       "A data.frame: 1 × 7\n",
       "\\begin{tabular}{r|lllllll}\n",
       "  & nrounds & max\\_depth & eta & gamma & colsample\\_bytree & min\\_child\\_weight & subsample\\\\\n",
       "  & <dbl> & <int> & <dbl> & <dbl> & <dbl> & <dbl> & <dbl>\\\\\n",
       "\\hline\n",
       "\t83 & 100 & 2 & 0.025 & 0.1 & 0.4 & 1 & 1\\\\\n",
       "\\end{tabular}\n"
      ],
      "text/markdown": [
       "\n",
       "A data.frame: 1 × 7\n",
       "\n",
       "| <!--/--> | nrounds &lt;dbl&gt; | max_depth &lt;int&gt; | eta &lt;dbl&gt; | gamma &lt;dbl&gt; | colsample_bytree &lt;dbl&gt; | min_child_weight &lt;dbl&gt; | subsample &lt;dbl&gt; |\n",
       "|---|---|---|---|---|---|---|---|\n",
       "| 83 | 100 | 2 | 0.025 | 0.1 | 0.4 | 1 | 1 |\n",
       "\n"
      ],
      "text/plain": [
       "   nrounds max_depth eta   gamma colsample_bytree min_child_weight subsample\n",
       "83 100     2         0.025 0.1   0.4              1                1        "
      ]
     },
     "metadata": {},
     "output_type": "display_data"
    }
   ],
   "source": [
    "xgb_tune4$bestTune"
   ]
  },
  {
   "cell_type": "markdown",
   "id": "f1d4aebb-8baa-4910-b784-c33c0419a166",
   "metadata": {},
   "source": [
    "Recap: <br>\n",
    "- xgb_tune: Tuned nrounds and eta\n",
    "- xgb_tune2: Tuned max_depth and min_child_weight\n",
    "- xgb_tune3: Tuned colsample_bytree and subsample\n",
    "- xgb_tune4: Tuned gamma"
   ]
  },
  {
   "cell_type": "code",
   "execution_count": 66,
   "id": "c568f06a-a31d-4e03-9fbf-59f74b08f59d",
   "metadata": {},
   "outputs": [],
   "source": [
    "tune_grid5 <- expand.grid(\n",
    "  nrounds = seq(from = 100, to = 1000, by = 100), #nrounds from 100 to 1000 incremented by 100\n",
    "  eta = c(0.01, 0.015, 0.025, 0.05, 0.1), #range of values for learning rate\n",
    "  max_depth = xgb_tune2$bestTune$max_depth, \n",
    "  gamma = xgb_tune4$bestTune$gamma, \n",
    "  colsample_bytree = xgb_tune3$bestTune$colsample_bytree,  \n",
    "  min_child_weight = xgb_tune2$bestTune$min_child_weight,  \n",
    "  subsample = xgb_tune3$bestTune$subsample \n",
    ")"
   ]
  },
  {
   "cell_type": "markdown",
   "id": "0f93fb64-b2f9-4b7c-a0dc-fc1af6c0bd18",
   "metadata": {},
   "source": [
    "<font color=\"red\"><b>Critical:</b> It will take about 5-10 mins to run the next cell.</font>"
   ]
  },
  {
   "cell_type": "code",
   "execution_count": 67,
   "id": "a0a730a1-39fd-47b9-a1cd-34e1b3147e07",
   "metadata": {},
   "outputs": [],
   "source": [
    "set.seed(1234)\n",
    "xgb_tune5 <- caret::train(\n",
    "    x = train_x, y = train_y,\n",
    "  trControl = tune_control,\n",
    "  tuneGrid = tune_grid5,\n",
    "  method = \"xgbTree\",\n",
    "  verbose = TRUE,\n",
    "  nthread = n_threads # for parallel computing; it indicates the number of threads\n",
    ")"
   ]
  },
  {
   "cell_type": "code",
   "execution_count": 68,
   "id": "47934c56-c5ed-40f0-b792-bb552805638e",
   "metadata": {},
   "outputs": [
    {
     "data": {
      "text/html": [
       "<table class=\"dataframe\">\n",
       "<caption>A matrix: 2 × 6 of type dbl</caption>\n",
       "<thead>\n",
       "\t<tr><th></th><th scope=col>used</th><th scope=col>(Mb)</th><th scope=col>gc trigger</th><th scope=col>(Mb)</th><th scope=col>max used</th><th scope=col>(Mb)</th></tr>\n",
       "</thead>\n",
       "<tbody>\n",
       "\t<tr><th scope=row>Ncells</th><td> 2745954</td><td>146.7</td><td> 4676592</td><td>249.8</td><td> 4676592</td><td>249.8</td></tr>\n",
       "\t<tr><th scope=row>Vcells</th><td>18573289</td><td>141.8</td><td>30341820</td><td>231.5</td><td>21394586</td><td>163.3</td></tr>\n",
       "</tbody>\n",
       "</table>\n"
      ],
      "text/latex": [
       "A matrix: 2 × 6 of type dbl\n",
       "\\begin{tabular}{r|llllll}\n",
       "  & used & (Mb) & gc trigger & (Mb) & max used & (Mb)\\\\\n",
       "\\hline\n",
       "\tNcells &  2745954 & 146.7 &  4676592 & 249.8 &  4676592 & 249.8\\\\\n",
       "\tVcells & 18573289 & 141.8 & 30341820 & 231.5 & 21394586 & 163.3\\\\\n",
       "\\end{tabular}\n"
      ],
      "text/markdown": [
       "\n",
       "A matrix: 2 × 6 of type dbl\n",
       "\n",
       "| <!--/--> | used | (Mb) | gc trigger | (Mb) | max used | (Mb) |\n",
       "|---|---|---|---|---|---|---|\n",
       "| Ncells |  2745954 | 146.7 |  4676592 | 249.8 |  4676592 | 249.8 |\n",
       "| Vcells | 18573289 | 141.8 | 30341820 | 231.5 | 21394586 | 163.3 |\n",
       "\n"
      ],
      "text/plain": [
       "       used     (Mb)  gc trigger (Mb)  max used (Mb) \n",
       "Ncells  2745954 146.7  4676592   249.8  4676592 249.8\n",
       "Vcells 18573289 141.8 30341820   231.5 21394586 163.3"
      ]
     },
     "metadata": {},
     "output_type": "display_data"
    }
   ],
   "source": [
    "gc()"
   ]
  },
  {
   "cell_type": "markdown",
   "id": "feb720a2-04df-4437-9791-23f534ce26c4",
   "metadata": {},
   "source": [
    "## 6. Fitting the final model using the best parameters from the previous step"
   ]
  },
  {
   "cell_type": "markdown",
   "id": "a28c2334-e310-42c5-b4df-69d9ba19b984",
   "metadata": {},
   "source": [
    "Since xgb_tune5 used all the best parameters from the previous 4 tuning models, we will use the best paramaters of xgb_tune5 to fit the final model."
   ]
  },
  {
   "cell_type": "code",
   "execution_count": 99,
   "id": "35cc5ae1-d11b-41c9-adb1-0206dcc5afb1",
   "metadata": {},
   "outputs": [
    {
     "data": {
      "text/html": [
       "<table class=\"dataframe\">\n",
       "<caption>A data.frame: 1 × 7</caption>\n",
       "<thead>\n",
       "\t<tr><th></th><th scope=col>nrounds</th><th scope=col>max_depth</th><th scope=col>eta</th><th scope=col>gamma</th><th scope=col>colsample_bytree</th><th scope=col>min_child_weight</th><th scope=col>subsample</th></tr>\n",
       "\t<tr><th></th><th scope=col>&lt;dbl&gt;</th><th scope=col>&lt;int&gt;</th><th scope=col>&lt;dbl&gt;</th><th scope=col>&lt;dbl&gt;</th><th scope=col>&lt;dbl&gt;</th><th scope=col>&lt;dbl&gt;</th><th scope=col>&lt;dbl&gt;</th></tr>\n",
       "</thead>\n",
       "<tbody>\n",
       "\t<tr><th scope=row>8</th><td>800</td><td>2</td><td>0.01</td><td>0.1</td><td>0.4</td><td>1</td><td>1</td></tr>\n",
       "</tbody>\n",
       "</table>\n"
      ],
      "text/latex": [
       "A data.frame: 1 × 7\n",
       "\\begin{tabular}{r|lllllll}\n",
       "  & nrounds & max\\_depth & eta & gamma & colsample\\_bytree & min\\_child\\_weight & subsample\\\\\n",
       "  & <dbl> & <int> & <dbl> & <dbl> & <dbl> & <dbl> & <dbl>\\\\\n",
       "\\hline\n",
       "\t8 & 800 & 2 & 0.01 & 0.1 & 0.4 & 1 & 1\\\\\n",
       "\\end{tabular}\n"
      ],
      "text/markdown": [
       "\n",
       "A data.frame: 1 × 7\n",
       "\n",
       "| <!--/--> | nrounds &lt;dbl&gt; | max_depth &lt;int&gt; | eta &lt;dbl&gt; | gamma &lt;dbl&gt; | colsample_bytree &lt;dbl&gt; | min_child_weight &lt;dbl&gt; | subsample &lt;dbl&gt; |\n",
       "|---|---|---|---|---|---|---|---|\n",
       "| 8 | 800 | 2 | 0.01 | 0.1 | 0.4 | 1 | 1 |\n",
       "\n"
      ],
      "text/plain": [
       "  nrounds max_depth eta  gamma colsample_bytree min_child_weight subsample\n",
       "8 800     2         0.01 0.1   0.4              1                1        "
      ]
     },
     "metadata": {},
     "output_type": "display_data"
    }
   ],
   "source": [
    "xgb_tune5$bestTune"
   ]
  },
  {
   "cell_type": "code",
   "execution_count": 100,
   "id": "4f8033f5-dc32-434c-8699-de329cb2a1a8",
   "metadata": {},
   "outputs": [],
   "source": [
    "final_grid <- expand.grid(\n",
    "  nrounds = xgb_tune5$bestTune$nrounds,\n",
    "  eta = xgb_tune5$bestTune$eta,\n",
    "  max_depth = xgb_tune5$bestTune$max_depth,\n",
    "  gamma = xgb_tune5$bestTune$gamma,\n",
    "  colsample_bytree = xgb_tune5$bestTune$colsample_bytree,\n",
    "  min_child_weight = xgb_tune5$bestTune$min_child_weight,\n",
    "  subsample = xgb_tune5$bestTune$subsample\n",
    ")"
   ]
  },
  {
   "cell_type": "code",
   "execution_count": 101,
   "id": "f18c8903-6a1e-45f1-9c98-758c2b4d8b58",
   "metadata": {},
   "outputs": [],
   "source": [
    "set.seed(1234)\n",
    "xgb_model_final <- caret::train(\n",
    "  x = train_x, y = train_y,\n",
    "  trControl = train_control,\n",
    "  tuneGrid = final_grid,\n",
    "  method = \"xgbTree\",\n",
    "  verbose = TRUE,\n",
    "  nthread = n_threads # for parallel computing; it indicates the number of threads\n",
    ")"
   ]
  },
  {
   "cell_type": "code",
   "execution_count": 102,
   "id": "061d34d7-1f99-4e53-9940-17917f5540d0",
   "metadata": {},
   "outputs": [
    {
     "data": {
      "text/plain": [
       "Confusion Matrix and Statistics\n",
       "\n",
       "                     Reference\n",
       "Prediction            La_Jolla Reefs La_Jolla_Cove Mission_Bay Mission_Beach\n",
       "  La_Jolla Reefs                   8             0           0             0\n",
       "  La_Jolla_Cove                    0             3           0             0\n",
       "  Mission_Bay                      0             0           9             1\n",
       "  Mission_Beach                    0             0           1             4\n",
       "  Pacific_Beach                    2             0           0             0\n",
       "  SIO_La_Jolla_Shores              0             0           0             0\n",
       "  Torrey_Pines                     0             0           0             0\n",
       "                     Reference\n",
       "Prediction            Pacific_Beach SIO_La_Jolla_Shores Torrey_Pines\n",
       "  La_Jolla Reefs                  3                   0            0\n",
       "  La_Jolla_Cove                   0                   0            0\n",
       "  Mission_Bay                     0                   0            0\n",
       "  Mission_Beach                   0                   0            0\n",
       "  Pacific_Beach                   0                   0            0\n",
       "  SIO_La_Jolla_Shores             0                   3            0\n",
       "  Torrey_Pines                    0                   2           14\n",
       "\n",
       "Overall Statistics\n",
       "                                          \n",
       "               Accuracy : 0.82            \n",
       "                 95% CI : (0.6856, 0.9142)\n",
       "    No Information Rate : 0.28            \n",
       "    P-Value [Acc > NIR] : 3.06e-15        \n",
       "                                          \n",
       "                  Kappa : 0.7762          \n",
       "                                          \n",
       " Mcnemar's Test P-Value : NA              \n",
       "\n",
       "Statistics by Class:\n",
       "\n",
       "                     Class: La_Jolla Reefs Class: La_Jolla_Cove\n",
       "Sensitivity                         0.8000                 1.00\n",
       "Specificity                         0.9250                 1.00\n",
       "Pos Pred Value                      0.7273                 1.00\n",
       "Neg Pred Value                      0.9487                 1.00\n",
       "Prevalence                          0.2000                 0.06\n",
       "Detection Rate                      0.1600                 0.06\n",
       "Detection Prevalence                0.2200                 0.06\n",
       "Balanced Accuracy                   0.8625                 1.00\n",
       "                     Class: Mission_Bay Class: Mission_Beach\n",
       "Sensitivity                      0.9000               0.8000\n",
       "Specificity                      0.9750               0.9778\n",
       "Pos Pred Value                   0.9000               0.8000\n",
       "Neg Pred Value                   0.9750               0.9778\n",
       "Prevalence                       0.2000               0.1000\n",
       "Detection Rate                   0.1800               0.0800\n",
       "Detection Prevalence             0.2000               0.1000\n",
       "Balanced Accuracy                0.9375               0.8889\n",
       "                     Class: Pacific_Beach Class: SIO_La_Jolla_Shores\n",
       "Sensitivity                        0.0000                     0.6000\n",
       "Specificity                        0.9574                     1.0000\n",
       "Pos Pred Value                     0.0000                     1.0000\n",
       "Neg Pred Value                     0.9375                     0.9574\n",
       "Prevalence                         0.0600                     0.1000\n",
       "Detection Rate                     0.0000                     0.0600\n",
       "Detection Prevalence               0.0400                     0.0600\n",
       "Balanced Accuracy                  0.4787                     0.8000\n",
       "                     Class: Torrey_Pines\n",
       "Sensitivity                       1.0000\n",
       "Specificity                       0.9444\n",
       "Pos Pred Value                    0.8750\n",
       "Neg Pred Value                    1.0000\n",
       "Prevalence                        0.2800\n",
       "Detection Rate                    0.2800\n",
       "Detection Prevalence              0.3200\n",
       "Balanced Accuracy                 0.9722"
      ]
     },
     "metadata": {},
     "output_type": "display_data"
    }
   ],
   "source": [
    "predicted_final <- predict(xgb_model_final, test_x) # predict on test data\n",
    "confusionMatrix(data = predicted_final, reference = test_y) #getting the confusion matrix"
   ]
  },
  {
   "cell_type": "code",
   "execution_count": 103,
   "id": "59d24573-4d13-4ddc-907f-b7a712717871",
   "metadata": {},
   "outputs": [],
   "source": [
    "prediction_probs_tuned <- predict(xgb_model_final, test_x, type = \"prob\") # get the probability matrix"
   ]
  },
  {
   "cell_type": "code",
   "execution_count": 104,
   "id": "26d98e0e-1b4f-4a17-8c00-8f61367d2758",
   "metadata": {},
   "outputs": [
    {
     "data": {
      "text/html": [
       "<table class=\"dataframe\">\n",
       "<caption>A data.frame: 3 × 7</caption>\n",
       "<thead>\n",
       "\t<tr><th></th><th scope=col>La_Jolla Reefs</th><th scope=col>La_Jolla_Cove</th><th scope=col>Mission_Bay</th><th scope=col>Mission_Beach</th><th scope=col>Pacific_Beach</th><th scope=col>SIO_La_Jolla_Shores</th><th scope=col>Torrey_Pines</th></tr>\n",
       "\t<tr><th></th><th scope=col>&lt;dbl&gt;</th><th scope=col>&lt;dbl&gt;</th><th scope=col>&lt;dbl&gt;</th><th scope=col>&lt;dbl&gt;</th><th scope=col>&lt;dbl&gt;</th><th scope=col>&lt;dbl&gt;</th><th scope=col>&lt;dbl&gt;</th></tr>\n",
       "</thead>\n",
       "<tbody>\n",
       "\t<tr><th scope=row>1</th><td>0.002148557</td><td>0.011532424</td><td>0.01161700</td><td>0.002558772</td><td>0.001713699</td><td>0.007628608</td><td>0.962800920</td></tr>\n",
       "\t<tr><th scope=row>2</th><td>0.040931281</td><td>0.651952982</td><td>0.03360173</td><td>0.035143048</td><td>0.029650396</td><td>0.186053827</td><td>0.022666732</td></tr>\n",
       "\t<tr><th scope=row>3</th><td>0.877291799</td><td>0.006649088</td><td>0.01010367</td><td>0.012591048</td><td>0.015929120</td><td>0.071557596</td><td>0.005877631</td></tr>\n",
       "</tbody>\n",
       "</table>\n"
      ],
      "text/latex": [
       "A data.frame: 3 × 7\n",
       "\\begin{tabular}{r|lllllll}\n",
       "  & La\\_Jolla Reefs & La\\_Jolla\\_Cove & Mission\\_Bay & Mission\\_Beach & Pacific\\_Beach & SIO\\_La\\_Jolla\\_Shores & Torrey\\_Pines\\\\\n",
       "  & <dbl> & <dbl> & <dbl> & <dbl> & <dbl> & <dbl> & <dbl>\\\\\n",
       "\\hline\n",
       "\t1 & 0.002148557 & 0.011532424 & 0.01161700 & 0.002558772 & 0.001713699 & 0.007628608 & 0.962800920\\\\\n",
       "\t2 & 0.040931281 & 0.651952982 & 0.03360173 & 0.035143048 & 0.029650396 & 0.186053827 & 0.022666732\\\\\n",
       "\t3 & 0.877291799 & 0.006649088 & 0.01010367 & 0.012591048 & 0.015929120 & 0.071557596 & 0.005877631\\\\\n",
       "\\end{tabular}\n"
      ],
      "text/markdown": [
       "\n",
       "A data.frame: 3 × 7\n",
       "\n",
       "| <!--/--> | La_Jolla Reefs &lt;dbl&gt; | La_Jolla_Cove &lt;dbl&gt; | Mission_Bay &lt;dbl&gt; | Mission_Beach &lt;dbl&gt; | Pacific_Beach &lt;dbl&gt; | SIO_La_Jolla_Shores &lt;dbl&gt; | Torrey_Pines &lt;dbl&gt; |\n",
       "|---|---|---|---|---|---|---|---|\n",
       "| 1 | 0.002148557 | 0.011532424 | 0.01161700 | 0.002558772 | 0.001713699 | 0.007628608 | 0.962800920 |\n",
       "| 2 | 0.040931281 | 0.651952982 | 0.03360173 | 0.035143048 | 0.029650396 | 0.186053827 | 0.022666732 |\n",
       "| 3 | 0.877291799 | 0.006649088 | 0.01010367 | 0.012591048 | 0.015929120 | 0.071557596 | 0.005877631 |\n",
       "\n"
      ],
      "text/plain": [
       "  La_Jolla Reefs La_Jolla_Cove Mission_Bay Mission_Beach Pacific_Beach\n",
       "1 0.002148557    0.011532424   0.01161700  0.002558772   0.001713699  \n",
       "2 0.040931281    0.651952982   0.03360173  0.035143048   0.029650396  \n",
       "3 0.877291799    0.006649088   0.01010367  0.012591048   0.015929120  \n",
       "  SIO_La_Jolla_Shores Torrey_Pines\n",
       "1 0.007628608         0.962800920 \n",
       "2 0.186053827         0.022666732 \n",
       "3 0.071557596         0.005877631 "
      ]
     },
     "metadata": {},
     "output_type": "display_data"
    },
    {
     "data": {
      "text/html": [
       "<style>\n",
       ".list-inline {list-style: none; margin:0; padding: 0}\n",
       ".list-inline>li {display: inline-block}\n",
       ".list-inline>li:not(:last-child)::after {content: \"\\00b7\"; padding: 0 .5ex}\n",
       "</style>\n",
       "<ol class=list-inline><li>50</li><li>7</li></ol>\n"
      ],
      "text/latex": [
       "\\begin{enumerate*}\n",
       "\\item 50\n",
       "\\item 7\n",
       "\\end{enumerate*}\n"
      ],
      "text/markdown": [
       "1. 50\n",
       "2. 7\n",
       "\n",
       "\n"
      ],
      "text/plain": [
       "[1] 50  7"
      ]
     },
     "metadata": {},
     "output_type": "display_data"
    }
   ],
   "source": [
    "head(prediction_probs_tuned,3)\n",
    "dim(prediction_probs_tuned)"
   ]
  },
  {
   "cell_type": "code",
   "execution_count": 105,
   "id": "e4acda16-2caf-4696-830e-d031ec384057",
   "metadata": {},
   "outputs": [
    {
     "data": {
      "text/html": [
       "0.933673469387755"
      ],
      "text/latex": [
       "0.933673469387755"
      ],
      "text/markdown": [
       "0.933673469387755"
      ],
      "text/plain": [
       "Multi-class area under the curve: 0.9337"
      ]
     },
     "metadata": {},
     "output_type": "display_data"
    }
   ],
   "source": [
    "ROC_tuned <- pROC::multiclass.roc(test_y, prediction_probs_tuned) #ROC\n",
    "ROC_tuned$auc #AUC"
   ]
  },
  {
   "cell_type": "code",
   "execution_count": 106,
   "id": "6775fb57-ab61-4dcf-9cb0-80eb10a9e146",
   "metadata": {},
   "outputs": [
    {
     "data": {
      "text/html": [
       "<table class=\"dataframe\">\n",
       "<caption>A matrix: 2 × 6 of type dbl</caption>\n",
       "<thead>\n",
       "\t<tr><th></th><th scope=col>used</th><th scope=col>(Mb)</th><th scope=col>gc trigger</th><th scope=col>(Mb)</th><th scope=col>max used</th><th scope=col>(Mb)</th></tr>\n",
       "</thead>\n",
       "<tbody>\n",
       "\t<tr><th scope=row>Ncells</th><td> 2793756</td><td>149.3</td><td> 4676592</td><td>249.8</td><td> 4676592</td><td>249.8</td></tr>\n",
       "\t<tr><th scope=row>Vcells</th><td>20479286</td><td>156.3</td><td>36490184</td><td>278.4</td><td>28762123</td><td>219.5</td></tr>\n",
       "</tbody>\n",
       "</table>\n"
      ],
      "text/latex": [
       "A matrix: 2 × 6 of type dbl\n",
       "\\begin{tabular}{r|llllll}\n",
       "  & used & (Mb) & gc trigger & (Mb) & max used & (Mb)\\\\\n",
       "\\hline\n",
       "\tNcells &  2793756 & 149.3 &  4676592 & 249.8 &  4676592 & 249.8\\\\\n",
       "\tVcells & 20479286 & 156.3 & 36490184 & 278.4 & 28762123 & 219.5\\\\\n",
       "\\end{tabular}\n"
      ],
      "text/markdown": [
       "\n",
       "A matrix: 2 × 6 of type dbl\n",
       "\n",
       "| <!--/--> | used | (Mb) | gc trigger | (Mb) | max used | (Mb) |\n",
       "|---|---|---|---|---|---|---|\n",
       "| Ncells |  2793756 | 149.3 |  4676592 | 249.8 |  4676592 | 249.8 |\n",
       "| Vcells | 20479286 | 156.3 | 36490184 | 278.4 | 28762123 | 219.5 |\n",
       "\n"
      ],
      "text/plain": [
       "       used     (Mb)  gc trigger (Mb)  max used (Mb) \n",
       "Ncells  2793756 149.3  4676592   249.8  4676592 249.8\n",
       "Vcells 20479286 156.3 36490184   278.4 28762123 219.5"
      ]
     },
     "metadata": {},
     "output_type": "display_data"
    }
   ],
   "source": [
    "gc() # free memory"
   ]
  },
  {
   "cell_type": "code",
   "execution_count": 163,
   "id": "384ef398-cc0a-44dc-b12d-339b4a0f00c7",
   "metadata": {},
   "outputs": [],
   "source": [
    "stopCluster(cl) # stop cluster"
   ]
  },
  {
   "cell_type": "markdown",
   "id": "f88561d4-ccfd-4575-8988-4db4fc0d784c",
   "metadata": {},
   "source": [
    "From tuning parameters in 5-fold cross-validation, we obtained an improvement in performance and the final AUC is 0.93 and Accuracy is 0.82. Again, remember that our sample size is not very large and it needs to be considered in any predictive task. The code here is intended to provide you a guide for building an XGBoost model and tuning important parameters but a particular attention is needed when building these models to avoid issues such as overfitting/underfitting and reaching wrong conclusions. "
   ]
  },
  {
   "cell_type": "markdown",
   "id": "979dd6c0-b7a2-43c9-a9b3-e89d2cf87b7c",
   "metadata": {},
   "source": [
    "# Ranking features by importance\n",
    "<a id=\"xgboost_rank\"></a>\n",
    "We can also rank the features by importance. The top features had a larger impact on determining the prediction of sampling area. Note that the R package caret estimates feature importance from the final model fitted, and not from the cross-validations. This is automatically given to the caret function varImp."
   ]
  },
  {
   "cell_type": "markdown",
   "id": "c1956811-da27-4e2a-9bfd-c86ff00fc7ef",
   "metadata": {},
   "source": [
    "## 1. Base Model"
   ]
  },
  {
   "cell_type": "code",
   "execution_count": 107,
   "id": "0787b57f-b30a-47e9-87ef-9806aef60a5e",
   "metadata": {},
   "outputs": [
    {
     "data": {
      "text/plain": [
       "xgbTree variable importance\n",
       "\n",
       "  only 20 most important variables shown (out of 9091)\n",
       "\n",
       "                                                                                                                                                                                                                                                                                                                                                                                    Overall\n",
       "X92112_906.258_12.941_(3S,4R)-7-hydroxy-3-[(3S,4R)-7-hydroxy-4-(4-hydroxyphenyl)-2-oxo-5-[(2S,3R,4S,5S,6R)-3,4,5-trihydroxy-6-(hydroxymethyl)oxan-2-yl]oxy-3,4-dihydrochromen-3-yl]-4-(4-hydroxyphenyl)-5-[(2S,3R,4S,5S,6R)-3,4,5-trihydroxy-6-(hydroxymethyl)oxan-2-yl]oxy-3,4-dihydrochromen-2-one                                                                                 100.00\n",
       "X91372_906.258_12.697_(3S,4R)-7-hydroxy-3-[(3S,4R)-7-hydroxy-4-(4-hydroxyphenyl)-2-oxo-5-[(2S,3R,4S,5S,6R)-3,4,5-trihydroxy-6-(hydroxymethyl)oxan-2-yl]oxy-3,4-dihydrochromen-3-yl]-4-(4-hydroxyphenyl)-5-[(2S,3R,4S,5S,6R)-3,4,5-trihydroxy-6-(hydroxymethyl)oxan-2-yl]oxy-3,4-dihydrochromen-2-one                                                                                  87.13\n",
       "X21870_246.18_3.969_NA                                                                                                                                                                                                                                                                                                                                                                60.34\n",
       "X54129_381.808_6.99_NA                                                                                                                                                                                                                                                                                                                                                                57.86\n",
       "X91699_932.629_12.77_SQDG(16:0/18:3); [M+NH4]+ C43H80N1O12S1                                                                                                                                                                                                                                                                                                                          50.74\n",
       "X86594_755.487_11.127_NA                                                                                                                                                                                                                                                                                                                                                              32.81\n",
       "X59188_312.231_7.625_NA                                                                                                                                                                                                                                                                                                                                                               31.62\n",
       "X89388_908.258_12.002_[3,4,5-trihydroxy-6-(hydroxymethyl)oxan-2-yl] 9-(hydroxymethyl)-2,2,6a,6b,9,12a-hexamethyl-10-[3,4,5-trihydroxy-6-[(3,4,5-trihydroxy-6-methyloxan-2-yl)oxymethyl]oxan-2-yl]oxy-1,3,4,5,6,6a,7,8,8a,10,11,12,13,14b-tetradecahydropicene-4a-carboxylate                                                                                                          29.47\n",
       "X57492_331.081_7.416_NA                                                                                                                                                                                                                                                                                                                                                               29.16\n",
       "X89535_1223.342_12.013_(2S,3S,4S,5R,6R)-6-[[(3S,4S,6aR,6bS,8R,8aR,9R,10R,12aS,14bR)-8a-(acetyloxymethyl)-8,9-dihydroxy-4-(hydroxymethyl)-4,6a,6b,11,11,14b-hexamethyl-10-[(E)-2-methylbut-2-enoyl]oxy-1,2,3,4a,5,6,7,8,9,10,12,12a,14,14a-tetradecahydropicen-3-yl]oxy]-4-hydroxy-3,5-bis[[(2S,3R,4S,5S,6R)-3,4,5-trihydroxy-6-(hydroxymethyl)oxan-2-yl]oxy]oxane-2-carboxylic acid   27.28\n",
       "X54623_486.363_7.052_NA                                                                                                                                                                                                                                                                                                                                                               23.87\n",
       "X89481_856.607_11.931_NA                                                                                                                                                                                                                                                                                                                                                              19.79\n",
       "X46443_363.165_6.106_NA                                                                                                                                                                                                                                                                                                                                                               19.68\n",
       "X79387_209.153_10.22_(.+/-.)-trans-Nerolidol - 40.0 eV                                                                                                                                                                                                                                                                                                                                19.20\n",
       "X83607_480.549_10.728_NA                                                                                                                                                                                                                                                                                                                                                              18.66\n",
       "X1891_246.097_0.884_NA                                                                                                                                                                                                                                                                                                                                                                16.87\n",
       "X91788_705.5_12.816_NA                                                                                                                                                                                                                                                                                                                                                                16.52\n",
       "X10485_193.119_2.895_NA                                                                                                                                                                                                                                                                                                                                                               16.39\n",
       "X80527_460.363_10.217_NA                                                                                                                                                                                                                                                                                                                                                              15.62\n",
       "X64444_402.3_8.2_NA                                                                                                                                                                                                                                                                                                                                                                   13.19"
      ]
     },
     "metadata": {},
     "output_type": "display_data"
    }
   ],
   "source": [
    "varImp(xgb_base, scale = T)"
   ]
  },
  {
   "cell_type": "markdown",
   "id": "e3b00231-b6fb-4e6e-af70-a564ed042f42",
   "metadata": {},
   "source": [
    "---\n",
    "**Write down the 'gain' or importance score for all features.** For that, we will use the \"xgb.importance\" function from xgboost package."
   ]
  },
  {
   "cell_type": "code",
   "execution_count": 108,
   "id": "c1b090a0-4cfc-42fe-9d7f-48e71a39cb80",
   "metadata": {},
   "outputs": [
    {
     "data": {
      "text/html": [
       "<table class=\"dataframe\">\n",
       "<caption>A data.table: 6 × 4</caption>\n",
       "<thead>\n",
       "\t<tr><th scope=col>Feature</th><th scope=col>Gain</th><th scope=col>Cover</th><th scope=col>Frequency</th></tr>\n",
       "\t<tr><th scope=col>&lt;chr&gt;</th><th scope=col>&lt;dbl&gt;</th><th scope=col>&lt;dbl&gt;</th><th scope=col>&lt;dbl&gt;</th></tr>\n",
       "</thead>\n",
       "<tbody>\n",
       "\t<tr><td>X92112_906.258_12.941_(3S,4R)-7-hydroxy-3-[(3S,4R)-7-hydroxy-4-(4-hydroxyphenyl)-2-oxo-5-[(2S,3R,4S,5S,6R)-3,4,5-trihydroxy-6-(hydroxymethyl)oxan-2-yl]oxy-3,4-dihydrochromen-3-yl]-4-(4-hydroxyphenyl)-5-[(2S,3R,4S,5S,6R)-3,4,5-trihydroxy-6-(hydroxymethyl)oxan-2-yl]oxy-3,4-dihydrochromen-2-one</td><td>0.09222637</td><td>0.05701922</td><td>0.029279279</td></tr>\n",
       "\t<tr><td>X91372_906.258_12.697_(3S,4R)-7-hydroxy-3-[(3S,4R)-7-hydroxy-4-(4-hydroxyphenyl)-2-oxo-5-[(2S,3R,4S,5S,6R)-3,4,5-trihydroxy-6-(hydroxymethyl)oxan-2-yl]oxy-3,4-dihydrochromen-3-yl]-4-(4-hydroxyphenyl)-5-[(2S,3R,4S,5S,6R)-3,4,5-trihydroxy-6-(hydroxymethyl)oxan-2-yl]oxy-3,4-dihydrochromen-2-one</td><td>0.08035933</td><td>0.02310417</td><td>0.013513514</td></tr>\n",
       "\t<tr><td>X21870_246.18_3.969_NA                                                                                                                                                                                                                                                                              </td><td>0.05565139</td><td>0.00778725</td><td>0.002252252</td></tr>\n",
       "\t<tr><td>X54129_381.808_6.99_NA                                                                                                                                                                                                                                                                              </td><td>0.05336317</td><td>0.03310119</td><td>0.024774775</td></tr>\n",
       "\t<tr><td>X91699_932.629_12.77_SQDG(16:0/18:3); [M+NH4]+ C43H80N1O12S1                                                                                                                                                                                                                                        </td><td>0.04679992</td><td>0.03056681</td><td>0.018018018</td></tr>\n",
       "\t<tr><td>X86594_755.487_11.127_NA                                                                                                                                                                                                                                                                            </td><td>0.03025603</td><td>0.04001547</td><td>0.029279279</td></tr>\n",
       "</tbody>\n",
       "</table>\n"
      ],
      "text/latex": [
       "A data.table: 6 × 4\n",
       "\\begin{tabular}{llll}\n",
       " Feature & Gain & Cover & Frequency\\\\\n",
       " <chr> & <dbl> & <dbl> & <dbl>\\\\\n",
       "\\hline\n",
       "\t X92112\\_906.258\\_12.941\\_(3S,4R)-7-hydroxy-3-{[}(3S,4R)-7-hydroxy-4-(4-hydroxyphenyl)-2-oxo-5-{[}(2S,3R,4S,5S,6R)-3,4,5-trihydroxy-6-(hydroxymethyl)oxan-2-yl{]}oxy-3,4-dihydrochromen-3-yl{]}-4-(4-hydroxyphenyl)-5-{[}(2S,3R,4S,5S,6R)-3,4,5-trihydroxy-6-(hydroxymethyl)oxan-2-yl{]}oxy-3,4-dihydrochromen-2-one & 0.09222637 & 0.05701922 & 0.029279279\\\\\n",
       "\t X91372\\_906.258\\_12.697\\_(3S,4R)-7-hydroxy-3-{[}(3S,4R)-7-hydroxy-4-(4-hydroxyphenyl)-2-oxo-5-{[}(2S,3R,4S,5S,6R)-3,4,5-trihydroxy-6-(hydroxymethyl)oxan-2-yl{]}oxy-3,4-dihydrochromen-3-yl{]}-4-(4-hydroxyphenyl)-5-{[}(2S,3R,4S,5S,6R)-3,4,5-trihydroxy-6-(hydroxymethyl)oxan-2-yl{]}oxy-3,4-dihydrochromen-2-one & 0.08035933 & 0.02310417 & 0.013513514\\\\\n",
       "\t X21870\\_246.18\\_3.969\\_NA                                                                                                                                                                                                                                                                               & 0.05565139 & 0.00778725 & 0.002252252\\\\\n",
       "\t X54129\\_381.808\\_6.99\\_NA                                                                                                                                                                                                                                                                               & 0.05336317 & 0.03310119 & 0.024774775\\\\\n",
       "\t X91699\\_932.629\\_12.77\\_SQDG(16:0/18:3); {[}M+NH4{]}+ C43H80N1O12S1                                                                                                                                                                                                                                         & 0.04679992 & 0.03056681 & 0.018018018\\\\\n",
       "\t X86594\\_755.487\\_11.127\\_NA                                                                                                                                                                                                                                                                             & 0.03025603 & 0.04001547 & 0.029279279\\\\\n",
       "\\end{tabular}\n"
      ],
      "text/markdown": [
       "\n",
       "A data.table: 6 × 4\n",
       "\n",
       "| Feature &lt;chr&gt; | Gain &lt;dbl&gt; | Cover &lt;dbl&gt; | Frequency &lt;dbl&gt; |\n",
       "|---|---|---|---|\n",
       "| X92112_906.258_12.941_(3S,4R)-7-hydroxy-3-[(3S,4R)-7-hydroxy-4-(4-hydroxyphenyl)-2-oxo-5-[(2S,3R,4S,5S,6R)-3,4,5-trihydroxy-6-(hydroxymethyl)oxan-2-yl]oxy-3,4-dihydrochromen-3-yl]-4-(4-hydroxyphenyl)-5-[(2S,3R,4S,5S,6R)-3,4,5-trihydroxy-6-(hydroxymethyl)oxan-2-yl]oxy-3,4-dihydrochromen-2-one | 0.09222637 | 0.05701922 | 0.029279279 |\n",
       "| X91372_906.258_12.697_(3S,4R)-7-hydroxy-3-[(3S,4R)-7-hydroxy-4-(4-hydroxyphenyl)-2-oxo-5-[(2S,3R,4S,5S,6R)-3,4,5-trihydroxy-6-(hydroxymethyl)oxan-2-yl]oxy-3,4-dihydrochromen-3-yl]-4-(4-hydroxyphenyl)-5-[(2S,3R,4S,5S,6R)-3,4,5-trihydroxy-6-(hydroxymethyl)oxan-2-yl]oxy-3,4-dihydrochromen-2-one | 0.08035933 | 0.02310417 | 0.013513514 |\n",
       "| X21870_246.18_3.969_NA                                                                                                                                                                                                                                                                               | 0.05565139 | 0.00778725 | 0.002252252 |\n",
       "| X54129_381.808_6.99_NA                                                                                                                                                                                                                                                                               | 0.05336317 | 0.03310119 | 0.024774775 |\n",
       "| X91699_932.629_12.77_SQDG(16:0/18:3); [M+NH4]+ C43H80N1O12S1                                                                                                                                                                                                                                         | 0.04679992 | 0.03056681 | 0.018018018 |\n",
       "| X86594_755.487_11.127_NA                                                                                                                                                                                                                                                                             | 0.03025603 | 0.04001547 | 0.029279279 |\n",
       "\n"
      ],
      "text/plain": [
       "  Feature                                                                                                                                                                                                                                                                                             \n",
       "1 X92112_906.258_12.941_(3S,4R)-7-hydroxy-3-[(3S,4R)-7-hydroxy-4-(4-hydroxyphenyl)-2-oxo-5-[(2S,3R,4S,5S,6R)-3,4,5-trihydroxy-6-(hydroxymethyl)oxan-2-yl]oxy-3,4-dihydrochromen-3-yl]-4-(4-hydroxyphenyl)-5-[(2S,3R,4S,5S,6R)-3,4,5-trihydroxy-6-(hydroxymethyl)oxan-2-yl]oxy-3,4-dihydrochromen-2-one\n",
       "2 X91372_906.258_12.697_(3S,4R)-7-hydroxy-3-[(3S,4R)-7-hydroxy-4-(4-hydroxyphenyl)-2-oxo-5-[(2S,3R,4S,5S,6R)-3,4,5-trihydroxy-6-(hydroxymethyl)oxan-2-yl]oxy-3,4-dihydrochromen-3-yl]-4-(4-hydroxyphenyl)-5-[(2S,3R,4S,5S,6R)-3,4,5-trihydroxy-6-(hydroxymethyl)oxan-2-yl]oxy-3,4-dihydrochromen-2-one\n",
       "3 X21870_246.18_3.969_NA                                                                                                                                                                                                                                                                              \n",
       "4 X54129_381.808_6.99_NA                                                                                                                                                                                                                                                                              \n",
       "5 X91699_932.629_12.77_SQDG(16:0/18:3); [M+NH4]+ C43H80N1O12S1                                                                                                                                                                                                                                        \n",
       "6 X86594_755.487_11.127_NA                                                                                                                                                                                                                                                                            \n",
       "  Gain       Cover      Frequency  \n",
       "1 0.09222637 0.05701922 0.029279279\n",
       "2 0.08035933 0.02310417 0.013513514\n",
       "3 0.05565139 0.00778725 0.002252252\n",
       "4 0.05336317 0.03310119 0.024774775\n",
       "5 0.04679992 0.03056681 0.018018018\n",
       "6 0.03025603 0.04001547 0.029279279"
      ]
     },
     "metadata": {},
     "output_type": "display_data"
    }
   ],
   "source": [
    "var_imp_base <- xgboost::xgb.importance(xgb_base$finalModel$feature_names,model=xgb_base$finalModel)\n",
    "head(var_imp_base)"
   ]
  },
  {
   "cell_type": "code",
   "execution_count": null,
   "id": "88f38f1d-c6e9-415a-a884-d7d123d26b02",
   "metadata": {},
   "outputs": [],
   "source": [
    "write.csv(var_imp_base, \"Importance_features_xgboost_base_model.csv\")"
   ]
  },
  {
   "cell_type": "markdown",
   "id": "c8f2fa62-444e-4879-8b52-0fe17a3444c9",
   "metadata": {},
   "source": [
    "We can also plot the top 20 features. Change the 'top' parameter for plotting more features. The feature importance is based on the 'Gain' calculation. For more details https://xgboost.readthedocs.io/en/latest/tutorials/model.html"
   ]
  },
  {
   "cell_type": "code",
   "execution_count": 172,
   "id": "f98cc2fa-b50a-4ac5-9882-718222ae1c0d",
   "metadata": {},
   "outputs": [
    {
     "data": {
      "image/png": "[encoded data removed]",
      "text/plain": [
       "plot without title"
      ]
     },
     "metadata": {
      "image/png": {
       "height": 420,
       "width": 420
      }
     },
     "output_type": "display_data"
    }
   ],
   "source": [
    "plot(varImp(xgb_base, scale = T), top=20)"
   ]
  },
  {
   "cell_type": "markdown",
   "id": "b4150c96-cb8b-4a3e-91ba-01c9e0535425",
   "metadata": {},
   "source": [
    "Each feature name is given as **\"Feature ID_m/z value_Retention time_Compound Annotation\"**. Due to the long annotation names, the plot is not visible. Hence, we remove the annotation names from the features of xgb_base and plot it again."
   ]
  },
  {
   "cell_type": "code",
   "execution_count": 232,
   "id": "be35248f-da19-4290-956e-ed5952461c3c",
   "metadata": {},
   "outputs": [
    {
     "name": "stderr",
     "output_type": "stream",
     "text": [
      "Warning message:\n",
      "\"\u001b[1m\u001b[22mExpected 4 pieces. Additional pieces discarded in 94 rows [45, 151, 415, 996,\n",
      "1153, 1246, 1688, 1739, 1829, 1962, 2053, 2092, 2291, 2511, 2721, 3057, 3162,\n",
      "3351, 3512, 3520, ...].\"\n"
     ]
    }
   ],
   "source": [
    "Varimp_base <- varImp(xgb_base, scale = T) #storing the info to 'Varimp_base'\n",
    "trial <- Varimp_base$importance #getting the 'Importance' element into 'trial'\n",
    "trial$id <- rownames(trial) #getting the rownames as a column 'id'\n",
    "\n",
    "Varimp_base$importance <- trial %>% #getting the trial dataframe\n",
    "  separate(col = \"id\", into = c('Row_ID', 'Row_mz', 'Row_RT', NA), sep = '_') %>% #seperating the rownames and remove the annotation names\n",
    "  unite(\"id\",'Row_ID':'Row_RT', remove = TRUE) %>% #unite only row ID, mz and RT values (without annotation names) into a column named 'id'\n",
    "  distinct(id, .keep_all = TRUE)  %>% #keeping only unique rows (excluding duplicate rows)\n",
    "  magrittr::set_rownames(.$id) %>% # set 'id' as the rownames\n",
    "  select(.,1) #selecting only the 1st column (=Overall), thus excluding the 'id column'"
   ]
  },
  {
   "cell_type": "markdown",
   "id": "2aa3b403-b335-4f55-a13e-96a0614bec24",
   "metadata": {},
   "source": [
    "Ignore the warning message and let's plot the Varimp_base."
   ]
  },
  {
   "cell_type": "code",
   "execution_count": 216,
   "id": "e64e79a1-f0d0-4545-b908-1235284c4fea",
   "metadata": {},
   "outputs": [
    {
     "data": {
      "image/png": "[encoded data removed]",
      "text/plain": [
       "plot without title"
      ]
     },
     "metadata": {
      "image/png": {
       "height": 420,
       "width": 420
      }
     },
     "output_type": "display_data"
    }
   ],
   "source": [
    "plot(Varimp_base, top = 20)"
   ]
  },
  {
   "cell_type": "markdown",
   "id": "9b83d322-6f42-444a-af58-9b5e7e468283",
   "metadata": {},
   "source": [
    "Saving the plot as svg:"
   ]
  },
  {
   "cell_type": "code",
   "execution_count": null,
   "id": "72921892-e503-42d1-bcf0-cef5f90efb8e",
   "metadata": {},
   "outputs": [],
   "source": [
    "svglite('top20_important_features_xgboost_base.svg', width=10, height=15, bg='white') #to save as svg plot\n",
    "plot(Varimp_base, top = 10)\n",
    "dev.off()"
   ]
  },
  {
   "cell_type": "markdown",
   "id": "5e899d63-bc97-4eec-94e1-a4b7869f5e3d",
   "metadata": {},
   "source": [
    "## 2. Tuned Model\n",
    "Similarly, we can look at the important variables of the tuned final model and see the difference."
   ]
  },
  {
   "cell_type": "code",
   "execution_count": 175,
   "id": "042e2dc8-6f47-4201-b080-76ad3f5f922e",
   "metadata": {},
   "outputs": [
    {
     "data": {
      "text/plain": [
       "xgbTree variable importance\n",
       "\n",
       "  only 20 most important variables shown (out of 9093)\n",
       "\n",
       "                                                                                                                                                                                                                                                                                                                                                                                    Overall\n",
       "X92112_906.258_12.941_(3S,4R)-7-hydroxy-3-[(3S,4R)-7-hydroxy-4-(4-hydroxyphenyl)-2-oxo-5-[(2S,3R,4S,5S,6R)-3,4,5-trihydroxy-6-(hydroxymethyl)oxan-2-yl]oxy-3,4-dihydrochromen-3-yl]-4-(4-hydroxyphenyl)-5-[(2S,3R,4S,5S,6R)-3,4,5-trihydroxy-6-(hydroxymethyl)oxan-2-yl]oxy-3,4-dihydrochromen-2-one                                                                                 100.00\n",
       "X54129_381.808_6.99_NA                                                                                                                                                                                                                                                                                                                                                                72.32\n",
       "X91372_906.258_12.697_(3S,4R)-7-hydroxy-3-[(3S,4R)-7-hydroxy-4-(4-hydroxyphenyl)-2-oxo-5-[(2S,3R,4S,5S,6R)-3,4,5-trihydroxy-6-(hydroxymethyl)oxan-2-yl]oxy-3,4-dihydrochromen-3-yl]-4-(4-hydroxyphenyl)-5-[(2S,3R,4S,5S,6R)-3,4,5-trihydroxy-6-(hydroxymethyl)oxan-2-yl]oxy-3,4-dihydrochromen-2-one                                                                                  62.94\n",
       "X53617_424.868_6.93_NA                                                                                                                                                                                                                                                                                                                                                                36.64\n",
       "X59188_312.231_7.625_NA                                                                                                                                                                                                                                                                                                                                                               35.59\n",
       "X86594_755.487_11.127_NA                                                                                                                                                                                                                                                                                                                                                              28.08\n",
       "X91699_932.629_12.77_SQDG(16:0/18:3); [M+NH4]+ C43H80N1O12S1                                                                                                                                                                                                                                                                                                                          27.42\n",
       "X91133_907.259_12.628_THEAFLAVIN DIGALLATE                                                                                                                                                                                                                                                                                                                                            26.88\n",
       "X89535_1223.342_12.013_(2S,3S,4S,5R,6R)-6-[[(3S,4S,6aR,6bS,8R,8aR,9R,10R,12aS,14bR)-8a-(acetyloxymethyl)-8,9-dihydroxy-4-(hydroxymethyl)-4,6a,6b,11,11,14b-hexamethyl-10-[(E)-2-methylbut-2-enoyl]oxy-1,2,3,4a,5,6,7,8,9,10,12,12a,14,14a-tetradecahydropicen-3-yl]oxy]-4-hydroxy-3,5-bis[[(2S,3R,4S,5S,6R)-3,4,5-trihydroxy-6-(hydroxymethyl)oxan-2-yl]oxy]oxane-2-carboxylic acid   24.40\n",
       "X89388_908.258_12.002_[3,4,5-trihydroxy-6-(hydroxymethyl)oxan-2-yl] 9-(hydroxymethyl)-2,2,6a,6b,9,12a-hexamethyl-10-[3,4,5-trihydroxy-6-[(3,4,5-trihydroxy-6-methyloxan-2-yl)oxymethyl]oxan-2-yl]oxy-1,3,4,5,6,6a,7,8,8a,10,11,12,13,14b-tetradecahydropicene-4a-carboxylate                                                                                                          23.59\n",
       "X57492_331.081_7.416_NA                                                                                                                                                                                                                                                                                                                                                               21.01\n",
       "X89481_856.607_11.931_NA                                                                                                                                                                                                                                                                                                                                                              20.22\n",
       "X79387_209.153_10.22_(.+/-.)-trans-Nerolidol - 40.0 eV                                                                                                                                                                                                                                                                                                                                18.33\n",
       "X282_261.108_0.615_NA                                                                                                                                                                                                                                                                                                                                                                 17.24\n",
       "X64017_522.186_8.273_NA                                                                                                                                                                                                                                                                                                                                                               16.97\n",
       "X21870_246.18_3.969_NA                                                                                                                                                                                                                                                                                                                                                                16.95\n",
       "X82651_261.242_10.62_NA                                                                                                                                                                                                                                                                                                                                                               15.31\n",
       "X1891_246.097_0.884_NA                                                                                                                                                                                                                                                                                                                                                                13.48\n",
       "X54623_486.363_7.052_NA                                                                                                                                                                                                                                                                                                                                                               13.10\n",
       "X56013_325.164_7.221_NA                                                                                                                                                                                                                                                                                                                                                               12.52"
      ]
     },
     "metadata": {},
     "output_type": "display_data"
    }
   ],
   "source": [
    "varImp(xgb_model_final, scale = T)"
   ]
  },
  {
   "cell_type": "markdown",
   "id": "3ffa71f7-568a-4749-9f5f-c2d36b1316da",
   "metadata": {},
   "source": [
    "To write down the 'gain' or importance score for all features, we will use the xgb.importance function from xgboost package."
   ]
  },
  {
   "cell_type": "code",
   "execution_count": 176,
   "id": "d4c2b8cc-8105-4407-b5a2-bdeb2cf9327e",
   "metadata": {},
   "outputs": [
    {
     "data": {
      "text/html": [
       "<table class=\"dataframe\">\n",
       "<caption>A data.table: 6 × 4</caption>\n",
       "<thead>\n",
       "\t<tr><th scope=col>Feature</th><th scope=col>Gain</th><th scope=col>Cover</th><th scope=col>Frequency</th></tr>\n",
       "\t<tr><th scope=col>&lt;chr&gt;</th><th scope=col>&lt;dbl&gt;</th><th scope=col>&lt;dbl&gt;</th><th scope=col>&lt;dbl&gt;</th></tr>\n",
       "</thead>\n",
       "<tbody>\n",
       "\t<tr><td>X92112_906.258_12.941_(3S,4R)-7-hydroxy-3-[(3S,4R)-7-hydroxy-4-(4-hydroxyphenyl)-2-oxo-5-[(2S,3R,4S,5S,6R)-3,4,5-trihydroxy-6-(hydroxymethyl)oxan-2-yl]oxy-3,4-dihydrochromen-3-yl]-4-(4-hydroxyphenyl)-5-[(2S,3R,4S,5S,6R)-3,4,5-trihydroxy-6-(hydroxymethyl)oxan-2-yl]oxy-3,4-dihydrochromen-2-one</td><td>0.07436946</td><td>0.03960790</td><td>0.023257943</td></tr>\n",
       "\t<tr><td>X54129_381.808_6.99_NA                                                                                                                                                                                                                                                                              </td><td>0.05378345</td><td>0.02995149</td><td>0.023166377</td></tr>\n",
       "\t<tr><td>X91372_906.258_12.697_(3S,4R)-7-hydroxy-3-[(3S,4R)-7-hydroxy-4-(4-hydroxyphenyl)-2-oxo-5-[(2S,3R,4S,5S,6R)-3,4,5-trihydroxy-6-(hydroxymethyl)oxan-2-yl]oxy-3,4-dihydrochromen-3-yl]-4-(4-hydroxyphenyl)-5-[(2S,3R,4S,5S,6R)-3,4,5-trihydroxy-6-(hydroxymethyl)oxan-2-yl]oxy-3,4-dihydrochromen-2-one</td><td>0.04680953</td><td>0.02668846</td><td>0.012361505</td></tr>\n",
       "\t<tr><td>X53617_424.868_6.93_NA                                                                                                                                                                                                                                                                              </td><td>0.02724782</td><td>0.01273373</td><td>0.006775936</td></tr>\n",
       "\t<tr><td>X59188_312.231_7.625_NA                                                                                                                                                                                                                                                                             </td><td>0.02646860</td><td>0.02005724</td><td>0.015200073</td></tr>\n",
       "\t<tr><td>X86594_755.487_11.127_NA                                                                                                                                                                                                                                                                            </td><td>0.02088388</td><td>0.02495021</td><td>0.022891677</td></tr>\n",
       "</tbody>\n",
       "</table>\n"
      ],
      "text/latex": [
       "A data.table: 6 × 4\n",
       "\\begin{tabular}{llll}\n",
       " Feature & Gain & Cover & Frequency\\\\\n",
       " <chr> & <dbl> & <dbl> & <dbl>\\\\\n",
       "\\hline\n",
       "\t X92112\\_906.258\\_12.941\\_(3S,4R)-7-hydroxy-3-{[}(3S,4R)-7-hydroxy-4-(4-hydroxyphenyl)-2-oxo-5-{[}(2S,3R,4S,5S,6R)-3,4,5-trihydroxy-6-(hydroxymethyl)oxan-2-yl{]}oxy-3,4-dihydrochromen-3-yl{]}-4-(4-hydroxyphenyl)-5-{[}(2S,3R,4S,5S,6R)-3,4,5-trihydroxy-6-(hydroxymethyl)oxan-2-yl{]}oxy-3,4-dihydrochromen-2-one & 0.07436946 & 0.03960790 & 0.023257943\\\\\n",
       "\t X54129\\_381.808\\_6.99\\_NA                                                                                                                                                                                                                                                                               & 0.05378345 & 0.02995149 & 0.023166377\\\\\n",
       "\t X91372\\_906.258\\_12.697\\_(3S,4R)-7-hydroxy-3-{[}(3S,4R)-7-hydroxy-4-(4-hydroxyphenyl)-2-oxo-5-{[}(2S,3R,4S,5S,6R)-3,4,5-trihydroxy-6-(hydroxymethyl)oxan-2-yl{]}oxy-3,4-dihydrochromen-3-yl{]}-4-(4-hydroxyphenyl)-5-{[}(2S,3R,4S,5S,6R)-3,4,5-trihydroxy-6-(hydroxymethyl)oxan-2-yl{]}oxy-3,4-dihydrochromen-2-one & 0.04680953 & 0.02668846 & 0.012361505\\\\\n",
       "\t X53617\\_424.868\\_6.93\\_NA                                                                                                                                                                                                                                                                               & 0.02724782 & 0.01273373 & 0.006775936\\\\\n",
       "\t X59188\\_312.231\\_7.625\\_NA                                                                                                                                                                                                                                                                              & 0.02646860 & 0.02005724 & 0.015200073\\\\\n",
       "\t X86594\\_755.487\\_11.127\\_NA                                                                                                                                                                                                                                                                             & 0.02088388 & 0.02495021 & 0.022891677\\\\\n",
       "\\end{tabular}\n"
      ],
      "text/markdown": [
       "\n",
       "A data.table: 6 × 4\n",
       "\n",
       "| Feature &lt;chr&gt; | Gain &lt;dbl&gt; | Cover &lt;dbl&gt; | Frequency &lt;dbl&gt; |\n",
       "|---|---|---|---|\n",
       "| X92112_906.258_12.941_(3S,4R)-7-hydroxy-3-[(3S,4R)-7-hydroxy-4-(4-hydroxyphenyl)-2-oxo-5-[(2S,3R,4S,5S,6R)-3,4,5-trihydroxy-6-(hydroxymethyl)oxan-2-yl]oxy-3,4-dihydrochromen-3-yl]-4-(4-hydroxyphenyl)-5-[(2S,3R,4S,5S,6R)-3,4,5-trihydroxy-6-(hydroxymethyl)oxan-2-yl]oxy-3,4-dihydrochromen-2-one | 0.07436946 | 0.03960790 | 0.023257943 |\n",
       "| X54129_381.808_6.99_NA                                                                                                                                                                                                                                                                               | 0.05378345 | 0.02995149 | 0.023166377 |\n",
       "| X91372_906.258_12.697_(3S,4R)-7-hydroxy-3-[(3S,4R)-7-hydroxy-4-(4-hydroxyphenyl)-2-oxo-5-[(2S,3R,4S,5S,6R)-3,4,5-trihydroxy-6-(hydroxymethyl)oxan-2-yl]oxy-3,4-dihydrochromen-3-yl]-4-(4-hydroxyphenyl)-5-[(2S,3R,4S,5S,6R)-3,4,5-trihydroxy-6-(hydroxymethyl)oxan-2-yl]oxy-3,4-dihydrochromen-2-one | 0.04680953 | 0.02668846 | 0.012361505 |\n",
       "| X53617_424.868_6.93_NA                                                                                                                                                                                                                                                                               | 0.02724782 | 0.01273373 | 0.006775936 |\n",
       "| X59188_312.231_7.625_NA                                                                                                                                                                                                                                                                              | 0.02646860 | 0.02005724 | 0.015200073 |\n",
       "| X86594_755.487_11.127_NA                                                                                                                                                                                                                                                                             | 0.02088388 | 0.02495021 | 0.022891677 |\n",
       "\n"
      ],
      "text/plain": [
       "  Feature                                                                                                                                                                                                                                                                                             \n",
       "1 X92112_906.258_12.941_(3S,4R)-7-hydroxy-3-[(3S,4R)-7-hydroxy-4-(4-hydroxyphenyl)-2-oxo-5-[(2S,3R,4S,5S,6R)-3,4,5-trihydroxy-6-(hydroxymethyl)oxan-2-yl]oxy-3,4-dihydrochromen-3-yl]-4-(4-hydroxyphenyl)-5-[(2S,3R,4S,5S,6R)-3,4,5-trihydroxy-6-(hydroxymethyl)oxan-2-yl]oxy-3,4-dihydrochromen-2-one\n",
       "2 X54129_381.808_6.99_NA                                                                                                                                                                                                                                                                              \n",
       "3 X91372_906.258_12.697_(3S,4R)-7-hydroxy-3-[(3S,4R)-7-hydroxy-4-(4-hydroxyphenyl)-2-oxo-5-[(2S,3R,4S,5S,6R)-3,4,5-trihydroxy-6-(hydroxymethyl)oxan-2-yl]oxy-3,4-dihydrochromen-3-yl]-4-(4-hydroxyphenyl)-5-[(2S,3R,4S,5S,6R)-3,4,5-trihydroxy-6-(hydroxymethyl)oxan-2-yl]oxy-3,4-dihydrochromen-2-one\n",
       "4 X53617_424.868_6.93_NA                                                                                                                                                                                                                                                                              \n",
       "5 X59188_312.231_7.625_NA                                                                                                                                                                                                                                                                             \n",
       "6 X86594_755.487_11.127_NA                                                                                                                                                                                                                                                                            \n",
       "  Gain       Cover      Frequency  \n",
       "1 0.07436946 0.03960790 0.023257943\n",
       "2 0.05378345 0.02995149 0.023166377\n",
       "3 0.04680953 0.02668846 0.012361505\n",
       "4 0.02724782 0.01273373 0.006775936\n",
       "5 0.02646860 0.02005724 0.015200073\n",
       "6 0.02088388 0.02495021 0.022891677"
      ]
     },
     "metadata": {},
     "output_type": "display_data"
    }
   ],
   "source": [
    "var_imp_tuned <- xgboost::xgb.importance(xgb_model_final$finalModel$feature_names,model=xgb_model_final$finalModel)\n",
    "head(var_imp_tuned)"
   ]
  },
  {
   "cell_type": "code",
   "execution_count": 180,
   "id": "23576933-ab27-4d22-8373-969ac5c88108",
   "metadata": {},
   "outputs": [],
   "source": [
    "write.csv(var_imp, \"Importance_features_xgboost_tuned.csv\")"
   ]
  },
  {
   "cell_type": "markdown",
   "id": "9a4ee832-e320-426c-9c92-0ed9bde632b2",
   "metadata": {},
   "source": [
    "When you have long annotation names combined with the feature information, it would make it difficult to visualise the plot. hence we remove the annotation names while plotting the important features."
   ]
  },
  {
   "cell_type": "code",
   "execution_count": 233,
   "id": "b7922658-55ff-4264-88fc-09714d9227af",
   "metadata": {},
   "outputs": [
    {
     "name": "stderr",
     "output_type": "stream",
     "text": [
      "Warning message:\n",
      "\"\u001b[1m\u001b[22mExpected 4 pieces. Additional pieces discarded in 94 rows [50, 158, 211, 233,\n",
      "451, 536, 784, 972, 1067, 1084, 1091, 1232, 1289, 1484, 1989, 2123, 2204, 2598,\n",
      "2643, 2724, ...].\"\n"
     ]
    }
   ],
   "source": [
    "Varimp_tuned <- varImp(xgb_model_final, scale = T) #storing the info to 'Varimp_tuned'\n",
    "temp <- Varimp_tuned$importance #getting the 'Importance' element into 'temp'\n",
    "temp$id <- rownames(temp) #getting the rownames as a column 'id'\n",
    "\n",
    "Varimp_tuned$importance <- temp %>% #getting the temporary dataframe\n",
    "  separate(col = \"id\", into = c('Row_ID', 'Row_mz', 'Row_RT', NA), sep = '_') %>% #seperating the rownames and remove the annotation names\n",
    "  unite(\"id\",'Row_ID':'Row_RT', remove = TRUE) %>% #unite only row ID, mz and RT values (without annotation names) into a column named 'id'\n",
    "  distinct(id, .keep_all = TRUE)  %>% #keeping only unique rows (excluding duplicate rows)\n",
    "  magrittr::set_rownames(.$id) %>% # set 'id' as the rownames\n",
    "  select(.,1) #selecting only the 1st column (=Overall), thus excluding the 'id column'"
   ]
  },
  {
   "cell_type": "code",
   "execution_count": 234,
   "id": "a5a8fcdb-e625-40f5-9b86-a76c3cea98ee",
   "metadata": {},
   "outputs": [
    {
     "data": {
      "image/png": "[encoded data removed]",
      "text/plain": [
       "plot without title"
      ]
     },
     "metadata": {
      "image/png": {
       "height": 420,
       "width": 420
      }
     },
     "output_type": "display_data"
    }
   ],
   "source": [
    "plot(Varimp_tuned, top = 20)"
   ]
  },
  {
   "cell_type": "code",
   "execution_count": null,
   "id": "b8c9f85e-7296-4e40-a2da-809928517ab9",
   "metadata": {},
   "outputs": [],
   "source": [
    "svglite('top20_important_features_xgboost_tuned.svg', width=10, height=15, bg='white') #to save as svg plot\n",
    "plot(Varimp_tuned, top = 20)\n",
    "dev.off()"
   ]
  },
  {
   "cell_type": "markdown",
   "id": "e88dbf9f-68f1-43ec-82c6-3d5661fd687f",
   "metadata": {},
   "source": [
    "Thus, using supervised analysis, we get to see which variables were considered important by the predictive model to classify among the different groups. Among the sea of variables (or features) in a feature table, one can give more importance to these features to drive their research analysis further.\n",
    "\n",
    "---"
   ]
  },
  {
   "cell_type": "code",
   "execution_count": 225,
   "id": "59e6d5a8-1cf7-4905-aeb2-98c985f09f75",
   "metadata": {},
   "outputs": [
    {
     "data": {
      "text/plain": [
       "R version 4.1.3 (2022-03-10)\n",
       "Platform: x86_64-w64-mingw32/x64 (64-bit)\n",
       "Running under: Windows 10 x64 (build 22621)\n",
       "\n",
       "Matrix products: default\n",
       "\n",
       "locale:\n",
       "[1] LC_COLLATE=English_United Kingdom.1252 \n",
       "[2] LC_CTYPE=English_United Kingdom.1252   \n",
       "[3] LC_MONETARY=English_United Kingdom.1252\n",
       "[4] LC_NUMERIC=C                           \n",
       "[5] LC_TIME=English_United Kingdom.1252    \n",
       "\n",
       "attached base packages:\n",
       "[1] parallel  stats     graphics  grDevices utils     datasets  methods  \n",
       "[8] base     \n",
       "\n",
       "other attached packages:\n",
       " [1] doParallel_1.0.17 iterators_1.0.14  foreach_1.5.2     caret_6.0-93     \n",
       " [5] lattice_0.20-45   xgboost_1.6.0.1   svglite_2.1.1     lubridate_1.9.2  \n",
       " [9] forcats_1.0.0     stringr_1.5.0     dplyr_1.1.0       purrr_1.0.1      \n",
       "[13] readr_2.1.4       tidyr_1.3.0       tibble_3.1.8      ggplot2_3.4.1    \n",
       "[17] tidyverse_2.0.0   pacman_0.5.1     \n",
       "\n",
       "loaded via a namespace (and not attached):\n",
       " [1] jsonlite_1.8.4       splines_4.1.3        prodlim_2019.11.13  \n",
       " [4] stats4_4.1.3         globals_0.16.2       ipred_0.9-13        \n",
       " [7] pillar_1.8.1         glue_1.6.2           pROC_1.18.0         \n",
       "[10] uuid_1.1-0           digest_0.6.31        hardhat_1.2.0       \n",
       "[13] colorspace_2.1-0     recipes_1.0.5        htmltools_0.5.4     \n",
       "[16] Matrix_1.5-3         plyr_1.8.8           timeDate_4022.108   \n",
       "[19] pkgconfig_2.0.3      listenv_0.9.0        scales_1.2.1        \n",
       "[22] gower_1.0.1          lava_1.7.2.1         tzdb_0.3.0          \n",
       "[25] proxy_0.4-27         timechange_0.2.0     generics_0.1.3      \n",
       "[28] ellipsis_0.3.2       withr_2.5.0          repr_1.1.6          \n",
       "[31] nnet_7.3-18          cli_3.6.0            survival_3.5-3      \n",
       "[34] magrittr_2.0.3       crayon_1.5.2         evaluate_0.20       \n",
       "[37] fansi_1.0.4          future_1.32.0        parallelly_1.34.0   \n",
       "[40] nlme_3.1-162         MASS_7.3-58.3        class_7.3-21        \n",
       "[43] tools_4.1.3          data.table_1.14.8    hms_1.1.2           \n",
       "[46] lifecycle_1.0.3      munsell_0.5.0        e1071_1.7-13        \n",
       "[49] compiler_4.1.3       systemfonts_1.0.4    rlang_1.0.6         \n",
       "[52] grid_4.1.3           pbdZMQ_0.3-9         IRkernel_1.3.2      \n",
       "[55] base64enc_0.1-3      ModelMetrics_1.2.2.2 gtable_0.3.1        \n",
       "[58] codetools_0.2-19     reshape2_1.4.4       R6_2.5.1            \n",
       "[61] fastmap_1.1.1        future.apply_1.10.0  utf8_1.2.3          \n",
       "[64] stringi_1.7.12       IRdisplay_1.1        Rcpp_1.0.10         \n",
       "[67] vctrs_0.5.2          rpart_4.1.19         tidyselect_1.2.0    "
      ]
     },
     "metadata": {},
     "output_type": "display_data"
    }
   ],
   "source": [
    "sessionInfo()"
   ]
  }
 ],
 "metadata": {
  "kernelspec": {
   "display_name": "R",
   "language": "R",
   "name": "ir"
  },
  "language_info": {
   "codemirror_mode": "r",
   "file_extension": ".r",
   "mimetype": "text/x-r-source",
   "name": "R",
   "pygments_lexer": "r",
   "version": "4.1.3"
  }
 },
 "nbformat": 4,
 "nbformat_minor": 5
}
