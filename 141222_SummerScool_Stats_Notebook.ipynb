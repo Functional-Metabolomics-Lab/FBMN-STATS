{
 "cells": [
  {
   "cell_type": "markdown",
   "id": "55766981",
   "metadata": {
    "id": "55766981"
   },
   "source": [
    "**Updated on:** 2022-10-23 23:10:05 CEST\n",
    "\n",
    "This Notebook is used for cleaning the feature table, an output of metabolomics experiment, then performing some preliminary univariate and multivariate statistics analyses.\n",
    "\n",
    "**Authors**: Abzer Kelminal (abzer.shah@uni-tuebingen.de), Francesco Russo (frru@ssi.dk), Filip Ottosson (faot@ssi.dk), Jan Stanstrup (jst@nexs.ku.dk), Madaleine Ernst (maet@ssi.dk) <br>\n",
    "**Input file format**: .csv files or .txt files <br>\n",
    "**Outputs**: .csv files, .pdf & .svg images  <br>\n",
    "**Dependencies**: tidyverse, vegan, IRdisplay, svglite, factoextra, ggrepel, ggsci, matrixStats, ComplexHeatmap, dendextend, NbClust\n",
    "\n",
    "---\n",
    "This Notebook can be run with both Jupyter Notebook & Google Colab. To know more about how to get the Jupyter Notebook running with R code, please have a look at these documents: [Installing via Anaconda](https://github.com/Functional-Metabolomics-Lab/Jupyter-Notebook-Installation/blob/main/Anaconda%20with%20R%20kernel%20installation.pdf), [Installation of R Jupyter Notebook through command terminal](https://developers.refinitiv.com/en/article-catalog/article/setup-jupyter-notebook-r)\n",
    "\n",
    "---\n",
    "**Before starting to run this notebook with your own data, remember to save a copy of this notebook in your own Google Drive! Do so by clicking on File --> Save a copy in Drive. You can give whatever meaningful name to your notebook.** This file should be located in a new folder of your Google Drive named 'Colab Notebooks'. You can also download this notebook: File --> Download --> Download .ipynb.<br>\n",
    "\n",
    "---\n",
    "<b><font size=3> SPECIAL NOTE: Please read the comments before proceeding with the code and let us know if you run into any errors and if you think it could be commented better. We would highly appreciate your suggestions and comments!!</font> </b>\n",
    "\n",
    "---"
   ]
  },
  {
   "cell_type": "markdown",
   "id": "8zlElKRwhzja",
   "metadata": {
    "id": "8zlElKRwhzja"
   },
   "source": [
    "# **About the Data**\n",
    "(*To be edited*) The files used in this tutorial are part of the study published by Petras <i>et al, </i> https://doi.org/10.1016/j.chemosphere.2020.129450. Here, they investigated the coastal environments in northern San Diego, USA, after a major rainfall event in winter 2017/2018 to observe the seawater chemotype. Our dataset contains surface seawater samples collected (−10 cm) at 30 sites spaced approximately 300 meters apart and 50–100 m offshore along the San Diego coastline from Torrey Pines State Beach to Mission Bay (Torrey Pines, La Jolla Shores, La Jolla Reefs, Pacific and Mission Beach) at 3 different times:\n",
    "- Dec 2017\n",
    "- Jan 2018 – After a major rainfall -> resulting in decreased salinity of water\n",
    "- Oct 2018 <br>\n",
    "\n",
    "The resulting data consists of 4384 LC-MS/MS features and they observed a huge shift in the seawater's organic matter chemotype after the rainfall. This tutorial contains additional data (seawater samples collected at Oct 2018) which are not published in the original article.<br>\n",
    "\n",
    "Data files were subsequently preprocessed using [MZmine3](http://mzmine.github.io/) and the [feature-based molecular networking workflow in GNPS](https://gnps.ucsd.edu/ProteoSAFe/status.jsp?task=cf6e14abf5604f47b28b467a513d3532)."
   ]
  },
  {
   "cell_type": "markdown",
   "id": "YhJRIil_cVcQ",
   "metadata": {
    "id": "YhJRIil_cVcQ"
   },
   "source": [
    "# **About the different sections in the Notebook:**\n",
    "### **1. Data-cleaning**\n",
    "\n",
    "It involves cleaning the feature table, which contains all the features (metabolites, in our case) with their corresponding intensities. The data cleanup steps involved are: 1) Batch Correction 2) Blank removal 3) Imputation 4) Normalisation 5) Scaling. Each step would be discussed in detail later. Once the data is cleaned, we can then use it for further statistical analyses.\n",
    "\n",
    "### **2. Univariate statistical analysis**\n",
    "\n",
    "Here, we will use univariate statistical methods, such as ANOVA, to investigate whether there are differences in the levels of individual features between different time points in the dataset.\n",
    "\n",
    "### **3. Unsupervised multivariate analyses:**\n",
    "#### **i. PCoA and PERMANOVA**\n",
    "Here, we will perform a Principal Coordinate Analysis (PCoA), also known as metric or classical Multidimensional Scaling (metric MDS) to explore and visualize patterns in an untargeted mass spectromtery-based metabolomics dataset. We will then assess statistical significance of the patterns and dispersion of different sample types using permutational multivariate analysis of variance (PERMANOVA).\n",
    "\n",
    "#### **ii. Cluster Analyses and Heatmaps**\n",
    "We will also perform different cluster analyses to explore patterns in the data. This will help us to discover subgroups of samples or features that share a certain level of similarity. Clustering is an example of unsupervised learning where no labels are given to the learning algorithm which will try to find patterns/structures in the input data on its own. The goal of clustering is to find these hidden patterns.<br>\n",
    "\n",
    "Some types of cluster analyses (e.g. hierarchical clustering) are often associated with heatmaps. Heatmaps are a visual representation of the data where columns are usually samples and rows are features (in our case, different metabolic features). The color scale of heatmaps indicates higher or lower intensity (for instance, blue is lower and red is higher intensity).<br>\n",
    "\n",
    "There are a lot of good videos and resources out there explaining very well the principle behind clustering. Some good ones are the following:<br>\n",
    "- Hierarchical clustering and heatmaps: https://www.youtube.com/watch?v=7xHsRkOdVwo<br>\n",
    "- K-means clustering: https://www.youtube.com/watch?v=4b5d3muPQmA\n",
    "- ComplexHeatmap R package: https://jokergoo.github.io/ComplexHeatmap-reference/book/ \n",
    "\n",
    "### **4. Supervised multivariate analyses:**\n",
    "we will perform a supervised analysis using XGBoost ....\n",
    "\n",
    "---"
   ]
  },
  {
   "cell_type": "markdown",
   "id": "J4MfRygybbT_",
   "metadata": {
    "id": "J4MfRygybbT_"
   },
   "source": [
    "# **Questions to be asked in the Statistical analysis sections**: </br>\n",
    "\n",
    "<font color = 'red'>(**To be edited according to this data**)</font>  \n",
    "<br>\n",
    "**Univariate Statistical analysis:**\n",
    "*   Are metabolite levels dependent on the dilution?\n",
    "*   How does the affected metabolite change throughout the dilution series?\n",
    "*   How large are the differences?\n",
    "---\n",
    "**MULTIVARIATE ANALYSES:**\n",
    "**Exploratory analyses: PCoA & PERMANOVA**\n",
    "*   Can we monitor algal bloom by looking at metabolomic profiles of marine dissolved organic matter?\n",
    "---\n",
    "**Cluster analysis and Heatmaps**\n",
    "- Can we monitor algal bloom by looking at metabolomic profiles of marine dissolved organic matter?\n",
    "- Are we able to group/cluster together samples derived from different concentrations of algae extracts using metabolic profiles? <br>\n",
    "- Which samples are the most similar? <br>\n",
    "- Are there any patterns defining the groups/clusters? That is, which features cluster together?\n",
    "---\n",
    "**Supervised analysis: XGBoost**\n",
    "- sfsdfsdf\n",
    "---"
   ]
  },
  {
   "cell_type": "markdown",
   "id": "a4705b9a",
   "metadata": {
    "id": "a4705b9a"
   },
   "source": [
    "# **Package installation:**\n",
    "Since we are running the notebook via Colab environment which runs completely in cloud, we need to install the packages every time we run the notebook.This might take some time to install all these packages. In case you are running the notebook directly via Jupyter Notebook IDE, you need to install the packages only once."
   ]
  },
  {
   "cell_type": "code",
   "execution_count": null,
   "id": "Z4eG3cNzmX-x",
   "metadata": {
    "colab": {
     "base_uri": "https://localhost:8080/"
    },
    "executionInfo": {
     "elapsed": 625237,
     "status": "ok",
     "timestamp": 1666543763232,
     "user": {
      "displayName": "Abzer Kelminal.P M",
      "userId": "16537922509430952288"
     },
     "user_tz": -120
    },
    "id": "Z4eG3cNzmX-x",
    "outputId": "7fd94928-0d86-4988-e17e-a1bfbe663b6e"
   },
   "outputs": [],
   "source": [
    "#It might take some time to install these packages: (8-10 mins)\n",
    "install.packages(c(\"tidyverse\",\"vegan\",\"IRdisplay\",\"svglite\",\"factoextra\",\"ggrepel\",\"KODAMA\")) #for data-cleanup and multivariate stats"
   ]
  },
  {
   "cell_type": "code",
   "execution_count": null,
   "id": "bwpPL2-G1MZ0",
   "metadata": {
    "colab": {
     "base_uri": "https://localhost:8080/"
    },
    "executionInfo": {
     "elapsed": 21295,
     "status": "ok",
     "timestamp": 1666543828075,
     "user": {
      "displayName": "Abzer Kelminal.P M",
      "userId": "16537922509430952288"
     },
     "user_tz": -120
    },
    "id": "bwpPL2-G1MZ0",
    "outputId": "48dd5ece-df39-4ea9-ce64-a94c320e561a"
   },
   "outputs": [],
   "source": [
    "install.packages(c(\"ggsci\",\"matrixStats\")) #univariate stats"
   ]
  },
  {
   "cell_type": "code",
   "execution_count": null,
   "id": "6Zv2EFSpAoqg",
   "metadata": {
    "colab": {
     "base_uri": "https://localhost:8080/"
    },
    "executionInfo": {
     "elapsed": 179336,
     "status": "ok",
     "timestamp": 1666544010039,
     "user": {
      "displayName": "Abzer Kelminal.P M",
      "userId": "16537922509430952288"
     },
     "user_tz": -120
    },
    "id": "6Zv2EFSpAoqg",
    "outputId": "2b9f232e-099a-40e7-8c78-042362f492d3"
   },
   "outputs": [],
   "source": [
    "#It might take some time to install these packages (2-3 mins). These are used for Clustering & Heatmaps\n",
    "install.packages(\"BiocManager\")\n",
    "BiocManager::install(\"ComplexHeatmap\")\n",
    "install.packages(c(\"dendextend\",\"NbClust\"))"
   ]
  },
  {
   "cell_type": "code",
   "execution_count": 1,
   "id": "KVTb4xZuiP-o",
   "metadata": {
    "colab": {
     "base_uri": "https://localhost:8080/"
    },
    "executionInfo": {
     "elapsed": 6965,
     "status": "ok",
     "timestamp": 1666545492172,
     "user": {
      "displayName": "Abzer Kelminal.P M",
      "userId": "16537922509430952288"
     },
     "user_tz": -120
    },
    "id": "KVTb4xZuiP-o",
    "outputId": "7f6b6442-984f-40ed-cba2-b42518b3a1ef"
   },
   "outputs": [],
   "source": [
    "# Calling the local libraries:\n",
    "suppressPackageStartupMessages({\n",
    "  library(tidyverse) #used for data science. The eight core packages inside this library are: ggplot2 (data visualisation), dplyr (data manipulation), tidyr, readr, purrr, tibble, stringr, and forcats\n",
    "  library(KODAMA) # to use the normalisation function\n",
    "  library(ggrepel) #mainly used to repel overlapping text labels in ggplots\n",
    "  library(vegan) #popular library for analysing ecological diversity and for multivariate analysis of community data. Here, we use it for PCoA\n",
    "  library(IRdisplay) #better display of output cells in Jupyter Notebooks running iwth IRKernel. Library not needed when running the script in RStudio\n",
    "  library(svglite) #to save the plots in support vector graphics (svg) format\n",
    "  library(factoextra) #for extracting and visualizing outputs of multivariate analyses such as PCA, k-means\n",
    "  library(ggsci) #provides color palettes for ggplot2 that can be used for scientific journals\n",
    "  library(matrixStats) #contains highly optimized functions to perform statistics on matrix data\n",
    "  library(ComplexHeatmap) #for visualising heatmaps\n",
    "  library(dendextend) # for getting dendograms\n",
    "  library(NbClust) # for finding the optimum no.of clusters to be used for a clustering method\n",
    "})"
   ]
  },
  {
   "cell_type": "code",
   "execution_count": 4,
   "id": "2cdbe42b-a042-4416-b754-096abd19273f",
   "metadata": {
    "executionInfo": {
     "elapsed": 240,
     "status": "ok",
     "timestamp": 1666552760209,
     "user": {
      "displayName": "Abzer Kelminal.P M",
      "userId": "16537922509430952288"
     },
     "user_tz": -120
    },
    "id": "2cdbe42b-a042-4416-b754-096abd19273f"
   },
   "outputs": [],
   "source": [
    "#Global settings for plot size in the output cell:\n",
    "options(repr.plot.width=8, repr.plot.height=8,res=600) # the parameters: width, height & resolution can be changed"
   ]
  },
  {
   "cell_type": "markdown",
   "id": "863a44d4",
   "metadata": {
    "id": "863a44d4"
   },
   "source": [
    "# **Setting a local working directory:**\n",
    "### For Google Colab Users:\n",
    "<p style='text-align: justify;'> <font color='red'>For Google Colab, it is not possible to access the files from your local computer as it is hosted on Google's cloud server. An easier workaround is to upload the necessary files into the Google colab session using the 'Files' icon on the left as shown in the image. The code in the next cell creates a new folder 'My_TestData' in the Colab space and sets the folder as working directory. Following the steps in the image, you can check in your Colab to see if the folder has been created. Once you see it, simply upload the files from your local PC to the folder 'My_TestData' and then continue running the rest of the script.</font> </p>\n",
    "\n",
    "<p style='text-align: justify;'><b>SPECIAL NOTE: All the files uploaded to Google Colab would generally disappear after 12 hours. Similarly, all the outputs would be saved only in the Colab, so we need to download them into our local system at the end of our session.</b></p> \n",
    "\n",
    "[Go to section: Getting outputs from Colab](#colab_output) "
   ]
  },
  {
   "cell_type": "code",
   "execution_count": null,
   "id": "-AHDHHY6TEbI",
   "metadata": {
    "executionInfo": {
     "elapsed": 239,
     "status": "ok",
     "timestamp": 1666545503061,
     "user": {
      "displayName": "Abzer Kelminal.P M",
      "userId": "16537922509430952288"
     },
     "user_tz": -120
    },
    "id": "-AHDHHY6TEbI"
   },
   "outputs": [],
   "source": [
    "#Setting a working directory in Google Colab:\n",
    "dir.create(\"/content/My_TestData\", showWarnings = TRUE, recursive = FALSE, mode = \"0777\") #creating a folder\n",
    "setwd(\"/content/My_TestData\")"
   ]
  },
  {
   "cell_type": "code",
   "execution_count": null,
   "id": "9twcr2MgTEKp",
   "metadata": {
    "executionInfo": {
     "elapsed": 216,
     "status": "ok",
     "timestamp": 1666545530113,
     "user": {
      "displayName": "Abzer Kelminal.P M",
      "userId": "16537922509430952288"
     },
     "user_tz": -120
    },
    "id": "9twcr2MgTEKp"
   },
   "outputs": [],
   "source": [
    "# Creating a Result folder\n",
    "dir.create(path=paste(getwd(), \"_Workflow_Results\", sep=\"\"), showWarnings = TRUE)\n",
    "fName <-paste(getwd(), \"_Workflow_Results\", sep=\"\")"
   ]
  },
  {
   "cell_type": "code",
   "execution_count": null,
   "id": "e0436b28",
   "metadata": {
    "colab": {
     "base_uri": "https://localhost:8080/",
     "height": 34
    },
    "executionInfo": {
     "elapsed": 256,
     "status": "ok",
     "timestamp": 1666545531735,
     "user": {
      "displayName": "Abzer Kelminal.P M",
      "userId": "16537922509430952288"
     },
     "user_tz": -120
    },
    "id": "e0436b28",
    "outputId": "0bca2fc0-68dd-4a9d-a5f1-d22837bd8768"
   },
   "outputs": [],
   "source": [
    "getwd() #to see the working directory "
   ]
  },
  {
   "cell_type": "markdown",
   "id": "RtmlfVBTVeT-",
   "metadata": {
    "id": "RtmlfVBTVeT-"
   },
   "source": [
    "**Importing files into Google Colab environment:**\n",
    "![Google-Colab Files Upload](https://github.com/abzer005/Images-for-Jupyter-Notebooks/blob/main/StepsAll.png?raw=true)"
   ]
  },
  {
   "cell_type": "markdown",
   "id": "6zqeJcBh-dOD",
   "metadata": {
    "id": "6zqeJcBh-dOD"
   },
   "source": [
    "**For users running the script directly in Jupyter Notebook instead through Google Colab**, please make sure to include all the input files in one folder before running the script. Then for setting the working directory, use the below code on a new cell. When you run the cell, it will display an output box where you can simply enter the path of the folder containing all your input files in your local computer. It will be set as your working directory and you can access all the files within it. <br> For ex: D:\\User\\Project\\Test_Data\n",
    "```\n",
    "Directory <- normalizePath(readline(\"Enter the path of the folder with input files: \"),\"/\",mustWork=FALSE)\n",
    "setwd(Directory)\n",
    "```"
   ]
  },
  {
   "cell_type": "code",
   "execution_count": 3,
   "id": "07c54ead",
   "metadata": {},
   "outputs": [
    {
     "name": "stdout",
     "output_type": "stream",
     "text": [
      "Enter the path of the folder with input files: D:\\Projects\\Hitchhiker\\SDBeach_Data\\MZmine3\n"
     ]
    }
   ],
   "source": [
    "Directory <- normalizePath(readline(\"Enter the path of the folder with input files: \"),\"/\",mustWork=FALSE)\n",
    "setwd(Directory)"
   ]
  },
  {
   "cell_type": "markdown",
   "id": "e9546ef5-73f8-4623-877d-9c4daf3c18b9",
   "metadata": {
    "id": "e9546ef5-73f8-4623-877d-9c4daf3c18b9"
   },
   "source": [
    "# **Input files needed for the Notebook:**\n",
    "1) <b>Feature table:</b> An output of metabolomics experiment, containing all the features or peaks (LC-MS/MS peaks here) with their corresponding intensities. The feature table used in the test data is obtained by MZmine3. (Filetype: .csv file) </br> \n",
    "2) <b>Metadata:</b> An Excel file created by the user explaining about the files used obtaining the feature table (It can be a csv/txt/tsv file). The columns in a metadata should be created with the following format: filename (1st column having all the filenames in the same order as the columns in feature table), all the other columns with column name such as: ATTRIBUTE_yourDesiredAttribute. </br>\n",
    "\n",
    "Please have a look at the metadata used here for reference. Creating a metadata in the above-mentioned format is necessary for uploading the files in GNPS and to obtain a molecular network."
   ]
  },
  {
   "cell_type": "markdown",
   "id": "3a31eafc",
   "metadata": {
    "id": "3a31eafc"
   },
   "source": [
    "## Reading the input data using URL:\n",
    "Here, we can directly pull the data files from our Functional Metabolomics GitHub page:"
   ]
  },
  {
   "cell_type": "code",
   "execution_count": 5,
   "id": "7988ffd6",
   "metadata": {
    "executionInfo": {
     "elapsed": 195,
     "status": "ok",
     "timestamp": 1666253484675,
     "user": {
      "displayName": "Abzer Kelminal.P M",
      "userId": "16537922509430952288"
     },
     "user_tz": -120
    },
    "id": "7988ffd6"
   },
   "outputs": [],
   "source": [
    "#Reading the input data using URL \n",
    "ft_url <- 'https://raw.githubusercontent.com/Functional-Metabolomics-Lab/Statistical-analysis-of-non-targeted-LC-MSMS-data/main/data/SD_BeachSurvey_GapFilled_quant.csv'\n",
    "md_url <- 'https://raw.githubusercontent.com/Functional-Metabolomics-Lab/Statistical-analysis-of-non-targeted-LC-MSMS-data/main/data/20221125_Metadata_SD_Beaches_with_injection_order.txt'"
   ]
  },
  {
   "cell_type": "markdown",
   "id": "4mIS9hHcCtna",
   "metadata": {
    "id": "4mIS9hHcCtna"
   },
   "source": [
    "Or in Google Colab, you can simply right-click on the files you uploaded into 'My_TestData' folder,copy the file path and paste in the cell below:"
   ]
  },
  {
   "cell_type": "code",
   "execution_count": null,
   "id": "WzfZCMvQ9eW8",
   "metadata": {
    "executionInfo": {
     "elapsed": 225,
     "status": "ok",
     "timestamp": 1666545537215,
     "user": {
      "displayName": "Abzer Kelminal.P M",
      "userId": "16537922509430952288"
     },
     "user_tz": -120
    },
    "id": "WzfZCMvQ9eW8"
   },
   "outputs": [],
   "source": [
    "ft_url <-\"/content/My_TestData/SD_BeachSurvey_GapFilled_quant.csv.csv\"\n",
    "md_url <- \"/content/My_TestData/20221125_Metadata_SD_Beaches_with_injection_order.txt\""
   ]
  },
  {
   "cell_type": "code",
   "execution_count": 6,
   "id": "3ad9e910",
   "metadata": {
    "executionInfo": {
     "elapsed": 216,
     "status": "ok",
     "timestamp": 1666545539066,
     "user": {
      "displayName": "Abzer Kelminal.P M",
      "userId": "16537922509430952288"
     },
     "user_tz": -120
    },
    "id": "3ad9e910"
   },
   "outputs": [],
   "source": [
    "ft <- read.csv(ft_url, header = T, check.names = F)\n",
    "md <- read.csv(md_url, header = T, check.names = F, sep = ',')"
   ]
  },
  {
   "cell_type": "markdown",
   "id": "4f12e24c",
   "metadata": {
    "id": "4f12e24c"
   },
   "source": [
    "Lets check if the data has been read correclty!!"
   ]
  },
  {
   "cell_type": "code",
   "execution_count": 7,
   "id": "429ff705",
   "metadata": {
    "colab": {
     "base_uri": "https://localhost:8080/",
     "height": 358
    },
    "executionInfo": {
     "elapsed": 229,
     "status": "ok",
     "timestamp": 1666545542284,
     "user": {
      "displayName": "Abzer Kelminal.P M",
      "userId": "16537922509430952288"
     },
     "user_tz": -120
    },
    "id": "429ff705",
    "outputId": "3a45e867-30c4-4e8d-d85e-f58bf0f4825c"
   },
   "outputs": [
    {
     "data": {
      "text/html": [
       "<table class=\"dataframe\">\n",
       "<caption>A data.frame: 6 × 200</caption>\n",
       "<thead>\n",
       "\t<tr><th></th><th scope=col>row ID</th><th scope=col>row m/z</th><th scope=col>row retention time</th><th scope=col>row ion mobility</th><th scope=col>row ion mobility unit</th><th scope=col>row CCS</th><th scope=col>correlation group ID</th><th scope=col>annotation network number</th><th scope=col>best ion</th><th scope=col>auto MS2 verify</th><th scope=col>⋯</th><th scope=col>SD_12-2017_15_b.mzXML Peak area</th><th scope=col>SD_12-2017_15_a.mzXML Peak area</th><th scope=col>SD_12-2017_27_a.mzXML Peak area</th><th scope=col>SD_12-2017_29_b.mzXML Peak area</th><th scope=col>SD_12-2017_21_a.mzXML Peak area</th><th scope=col>SD_12-2017_30_a.mzXML Peak area</th><th scope=col>SD_12-2017_28_b.mzXML Peak area</th><th scope=col>SD_12-2017_29_a.mzXML Peak area</th><th scope=col>SD_12-2017_28_a.mzXML Peak area</th><th scope=col></th></tr>\n",
       "\t<tr><th></th><th scope=col>&lt;int&gt;</th><th scope=col>&lt;dbl&gt;</th><th scope=col>&lt;dbl&gt;</th><th scope=col>&lt;lgl&gt;</th><th scope=col>&lt;lgl&gt;</th><th scope=col>&lt;lgl&gt;</th><th scope=col>&lt;int&gt;</th><th scope=col>&lt;int&gt;</th><th scope=col>&lt;chr&gt;</th><th scope=col>&lt;lgl&gt;</th><th scope=col>⋯</th><th scope=col>&lt;dbl&gt;</th><th scope=col>&lt;dbl&gt;</th><th scope=col>&lt;dbl&gt;</th><th scope=col>&lt;dbl&gt;</th><th scope=col>&lt;dbl&gt;</th><th scope=col>&lt;dbl&gt;</th><th scope=col>&lt;dbl&gt;</th><th scope=col>&lt;dbl&gt;</th><th scope=col>&lt;dbl&gt;</th><th scope=col>&lt;lgl&gt;</th></tr>\n",
       "</thead>\n",
       "<tbody>\n",
       "\t<tr><th scope=row>1</th><td>92572</td><td>151.0351</td><td>13.3636720</td><td>NA</td><td>NA</td><td>NA</td><td> NA</td><td>NA</td><td></td><td>NA</td><td>⋯</td><td>      0</td><td>      0</td><td>  21385.48</td><td>   1138.271</td><td>  1144.812</td><td>  12139.16</td><td>   5394.689</td><td>   5270.766</td><td>   1007.839</td><td>NA</td></tr>\n",
       "\t<tr><th scope=row>2</th><td> 2513</td><td>151.0351</td><td> 1.1299012</td><td>NA</td><td>NA</td><td>NA</td><td> NA</td><td>NA</td><td></td><td>NA</td><td>⋯</td><td>      0</td><td>      0</td><td>  27123.89</td><td>      0.000</td><td>     0.000</td><td>      0.00</td><td>      0.000</td><td>      0.000</td><td>      0.000</td><td>NA</td></tr>\n",
       "\t<tr><th scope=row>3</th><td>   42</td><td>151.0351</td><td> 0.5507245</td><td>NA</td><td>NA</td><td>NA</td><td>212</td><td>NA</td><td></td><td>NA</td><td>⋯</td><td>1150350</td><td>1103478</td><td>2638109.20</td><td>1446266.600</td><td>595216.500</td><td>1225695.20</td><td>1424855.000</td><td>1557217.400</td><td>1797692.500</td><td>NA</td></tr>\n",
       "\t<tr><th scope=row>4</th><td> 1870</td><td>151.0352</td><td> 0.8867797</td><td>NA</td><td>NA</td><td>NA</td><td> NA</td><td>NA</td><td></td><td>NA</td><td>⋯</td><td>      0</td><td>      0</td><td> 314371.84</td><td>      0.000</td><td>     0.000</td><td>      0.00</td><td>      0.000</td><td>      0.000</td><td>      0.000</td><td>NA</td></tr>\n",
       "\t<tr><th scope=row>5</th><td> 2127</td><td>151.0964</td><td> 0.9860167</td><td>NA</td><td>NA</td><td>NA</td><td> NA</td><td>NA</td><td></td><td>NA</td><td>⋯</td><td>      0</td><td>      0</td><td>      0.00</td><td>      0.000</td><td>     0.000</td><td>      0.00</td><td>      0.000</td><td>      0.000</td><td>      0.000</td><td>NA</td></tr>\n",
       "\t<tr><th scope=row>6</th><td>86368</td><td>151.0976</td><td>11.0962260</td><td>NA</td><td>NA</td><td>NA</td><td> NA</td><td>NA</td><td></td><td>NA</td><td>⋯</td><td>      0</td><td>      0</td><td>      0.00</td><td>      0.000</td><td>     0.000</td><td>      0.00</td><td>      0.000</td><td>      0.000</td><td>      0.000</td><td>NA</td></tr>\n",
       "</tbody>\n",
       "</table>\n"
      ],
      "text/latex": [
       "A data.frame: 6 × 200\n",
       "\\begin{tabular}{r|lllllllllllllllllllll}\n",
       "  & row ID & row m/z & row retention time & row ion mobility & row ion mobility unit & row CCS & correlation group ID & annotation network number & best ion & auto MS2 verify & ⋯ & SD\\_12-2017\\_15\\_b.mzXML Peak area & SD\\_12-2017\\_15\\_a.mzXML Peak area & SD\\_12-2017\\_27\\_a.mzXML Peak area & SD\\_12-2017\\_29\\_b.mzXML Peak area & SD\\_12-2017\\_21\\_a.mzXML Peak area & SD\\_12-2017\\_30\\_a.mzXML Peak area & SD\\_12-2017\\_28\\_b.mzXML Peak area & SD\\_12-2017\\_29\\_a.mzXML Peak area & SD\\_12-2017\\_28\\_a.mzXML Peak area & \\\\\n",
       "  & <int> & <dbl> & <dbl> & <lgl> & <lgl> & <lgl> & <int> & <int> & <chr> & <lgl> & ⋯ & <dbl> & <dbl> & <dbl> & <dbl> & <dbl> & <dbl> & <dbl> & <dbl> & <dbl> & <lgl>\\\\\n",
       "\\hline\n",
       "\t1 & 92572 & 151.0351 & 13.3636720 & NA & NA & NA &  NA & NA &  & NA & ⋯ &       0 &       0 &   21385.48 &    1138.271 &   1144.812 &   12139.16 &    5394.689 &    5270.766 &    1007.839 & NA\\\\\n",
       "\t2 &  2513 & 151.0351 &  1.1299012 & NA & NA & NA &  NA & NA &  & NA & ⋯ &       0 &       0 &   27123.89 &       0.000 &      0.000 &       0.00 &       0.000 &       0.000 &       0.000 & NA\\\\\n",
       "\t3 &    42 & 151.0351 &  0.5507245 & NA & NA & NA & 212 & NA &  & NA & ⋯ & 1150350 & 1103478 & 2638109.20 & 1446266.600 & 595216.500 & 1225695.20 & 1424855.000 & 1557217.400 & 1797692.500 & NA\\\\\n",
       "\t4 &  1870 & 151.0352 &  0.8867797 & NA & NA & NA &  NA & NA &  & NA & ⋯ &       0 &       0 &  314371.84 &       0.000 &      0.000 &       0.00 &       0.000 &       0.000 &       0.000 & NA\\\\\n",
       "\t5 &  2127 & 151.0964 &  0.9860167 & NA & NA & NA &  NA & NA &  & NA & ⋯ &       0 &       0 &       0.00 &       0.000 &      0.000 &       0.00 &       0.000 &       0.000 &       0.000 & NA\\\\\n",
       "\t6 & 86368 & 151.0976 & 11.0962260 & NA & NA & NA &  NA & NA &  & NA & ⋯ &       0 &       0 &       0.00 &       0.000 &      0.000 &       0.00 &       0.000 &       0.000 &       0.000 & NA\\\\\n",
       "\\end{tabular}\n"
      ],
      "text/markdown": [
       "\n",
       "A data.frame: 6 × 200\n",
       "\n",
       "| <!--/--> | row ID &lt;int&gt; | row m/z &lt;dbl&gt; | row retention time &lt;dbl&gt; | row ion mobility &lt;lgl&gt; | row ion mobility unit &lt;lgl&gt; | row CCS &lt;lgl&gt; | correlation group ID &lt;int&gt; | annotation network number &lt;int&gt; | best ion &lt;chr&gt; | auto MS2 verify &lt;lgl&gt; | ⋯ ⋯ | SD_12-2017_15_b.mzXML Peak area &lt;dbl&gt; | SD_12-2017_15_a.mzXML Peak area &lt;dbl&gt; | SD_12-2017_27_a.mzXML Peak area &lt;dbl&gt; | SD_12-2017_29_b.mzXML Peak area &lt;dbl&gt; | SD_12-2017_21_a.mzXML Peak area &lt;dbl&gt; | SD_12-2017_30_a.mzXML Peak area &lt;dbl&gt; | SD_12-2017_28_b.mzXML Peak area &lt;dbl&gt; | SD_12-2017_29_a.mzXML Peak area &lt;dbl&gt; | SD_12-2017_28_a.mzXML Peak area &lt;dbl&gt; | <!----> &lt;lgl&gt; |\n",
       "|---|---|---|---|---|---|---|---|---|---|---|---|---|---|---|---|---|---|---|---|---|---|\n",
       "| 1 | 92572 | 151.0351 | 13.3636720 | NA | NA | NA |  NA | NA | <!----> | NA | ⋯ |       0 |       0 |   21385.48 |    1138.271 |   1144.812 |   12139.16 |    5394.689 |    5270.766 |    1007.839 | NA |\n",
       "| 2 |  2513 | 151.0351 |  1.1299012 | NA | NA | NA |  NA | NA | <!----> | NA | ⋯ |       0 |       0 |   27123.89 |       0.000 |      0.000 |       0.00 |       0.000 |       0.000 |       0.000 | NA |\n",
       "| 3 |    42 | 151.0351 |  0.5507245 | NA | NA | NA | 212 | NA | <!----> | NA | ⋯ | 1150350 | 1103478 | 2638109.20 | 1446266.600 | 595216.500 | 1225695.20 | 1424855.000 | 1557217.400 | 1797692.500 | NA |\n",
       "| 4 |  1870 | 151.0352 |  0.8867797 | NA | NA | NA |  NA | NA | <!----> | NA | ⋯ |       0 |       0 |  314371.84 |       0.000 |      0.000 |       0.00 |       0.000 |       0.000 |       0.000 | NA |\n",
       "| 5 |  2127 | 151.0964 |  0.9860167 | NA | NA | NA |  NA | NA | <!----> | NA | ⋯ |       0 |       0 |       0.00 |       0.000 |      0.000 |       0.00 |       0.000 |       0.000 |       0.000 | NA |\n",
       "| 6 | 86368 | 151.0976 | 11.0962260 | NA | NA | NA |  NA | NA | <!----> | NA | ⋯ |       0 |       0 |       0.00 |       0.000 |      0.000 |       0.00 |       0.000 |       0.000 |       0.000 | NA |\n",
       "\n"
      ],
      "text/plain": [
       "  row ID row m/z  row retention time row ion mobility row ion mobility unit\n",
       "1 92572  151.0351 13.3636720         NA               NA                   \n",
       "2  2513  151.0351  1.1299012         NA               NA                   \n",
       "3    42  151.0351  0.5507245         NA               NA                   \n",
       "4  1870  151.0352  0.8867797         NA               NA                   \n",
       "5  2127  151.0964  0.9860167         NA               NA                   \n",
       "6 86368  151.0976 11.0962260         NA               NA                   \n",
       "  row CCS correlation group ID annotation network number best ion\n",
       "1 NA       NA                  NA                                \n",
       "2 NA       NA                  NA                                \n",
       "3 NA      212                  NA                                \n",
       "4 NA       NA                  NA                                \n",
       "5 NA       NA                  NA                                \n",
       "6 NA       NA                  NA                                \n",
       "  auto MS2 verify ⋯ SD_12-2017_15_b.mzXML Peak area\n",
       "1 NA              ⋯       0                        \n",
       "2 NA              ⋯       0                        \n",
       "3 NA              ⋯ 1150350                        \n",
       "4 NA              ⋯       0                        \n",
       "5 NA              ⋯       0                        \n",
       "6 NA              ⋯       0                        \n",
       "  SD_12-2017_15_a.mzXML Peak area SD_12-2017_27_a.mzXML Peak area\n",
       "1       0                           21385.48                     \n",
       "2       0                           27123.89                     \n",
       "3 1103478                         2638109.20                     \n",
       "4       0                          314371.84                     \n",
       "5       0                               0.00                     \n",
       "6       0                               0.00                     \n",
       "  SD_12-2017_29_b.mzXML Peak area SD_12-2017_21_a.mzXML Peak area\n",
       "1    1138.271                       1144.812                     \n",
       "2       0.000                          0.000                     \n",
       "3 1446266.600                     595216.500                     \n",
       "4       0.000                          0.000                     \n",
       "5       0.000                          0.000                     \n",
       "6       0.000                          0.000                     \n",
       "  SD_12-2017_30_a.mzXML Peak area SD_12-2017_28_b.mzXML Peak area\n",
       "1   12139.16                         5394.689                    \n",
       "2       0.00                            0.000                    \n",
       "3 1225695.20                      1424855.000                    \n",
       "4       0.00                            0.000                    \n",
       "5       0.00                            0.000                    \n",
       "6       0.00                            0.000                    \n",
       "  SD_12-2017_29_a.mzXML Peak area SD_12-2017_28_a.mzXML Peak area   \n",
       "1    5270.766                        1007.839                     NA\n",
       "2       0.000                           0.000                     NA\n",
       "3 1557217.400                     1797692.500                     NA\n",
       "4       0.000                           0.000                     NA\n",
       "5       0.000                           0.000                     NA\n",
       "6       0.000                           0.000                     NA"
      ]
     },
     "metadata": {},
     "output_type": "display_data"
    },
    {
     "data": {
      "text/html": [
       "<style>\n",
       ".list-inline {list-style: none; margin:0; padding: 0}\n",
       ".list-inline>li {display: inline-block}\n",
       ".list-inline>li:not(:last-child)::after {content: \"\\00b7\"; padding: 0 .5ex}\n",
       "</style>\n",
       "<ol class=list-inline><li>11217</li><li>200</li></ol>\n"
      ],
      "text/latex": [
       "\\begin{enumerate*}\n",
       "\\item 11217\n",
       "\\item 200\n",
       "\\end{enumerate*}\n"
      ],
      "text/markdown": [
       "1. 11217\n",
       "2. 200\n",
       "\n",
       "\n"
      ],
      "text/plain": [
       "[1] 11217   200"
      ]
     },
     "metadata": {},
     "output_type": "display_data"
    }
   ],
   "source": [
    "head(ft) # gets the first 6 rows of ft\n",
    "dim(ft) #gets the dimension (number of rows and columns) of ft"
   ]
  },
  {
   "cell_type": "code",
   "execution_count": 8,
   "id": "a7bf0865",
   "metadata": {
    "colab": {
     "base_uri": "https://localhost:8080/",
     "height": 303
    },
    "executionInfo": {
     "elapsed": 210,
     "status": "ok",
     "timestamp": 1666545545142,
     "user": {
      "displayName": "Abzer Kelminal.P M",
      "userId": "16537922509430952288"
     },
     "user_tz": -120
    },
    "id": "a7bf0865",
    "outputId": "8f3466c8-1d8a-4b52-ed8f-dd78179dbb37"
   },
   "outputs": [
    {
     "data": {
      "text/html": [
       "<table class=\"dataframe\">\n",
       "<caption>A data.frame: 6 × 14</caption>\n",
       "<thead>\n",
       "\t<tr><th></th><th scope=col>filename</th><th scope=col>ATTRIBUTE_Sample.Type</th><th scope=col>ATTRIBUTE_Batch</th><th scope=col>ATTRIBUTE_Month</th><th scope=col>ATTRIBUTE_Year</th><th scope=col>ATTRIBUTE_Sample_Location</th><th scope=col>ATTRIBUTE_Replicate</th><th scope=col>ATTRIBUTE_Spot</th><th scope=col>ATTRIBUTE_Latitude</th><th scope=col>ATTRIBUTE_Longitude</th><th scope=col>ATTRIBUTE_Sample_Area</th><th scope=col>ATTRIBUTE_Spot_Name</th><th scope=col>time_run</th><th scope=col>Injection_order</th></tr>\n",
       "\t<tr><th></th><th scope=col>&lt;chr&gt;</th><th scope=col>&lt;chr&gt;</th><th scope=col>&lt;int&gt;</th><th scope=col>&lt;chr&gt;</th><th scope=col>&lt;int&gt;</th><th scope=col>&lt;int&gt;</th><th scope=col>&lt;chr&gt;</th><th scope=col>&lt;int&gt;</th><th scope=col>&lt;dbl&gt;</th><th scope=col>&lt;dbl&gt;</th><th scope=col>&lt;chr&gt;</th><th scope=col>&lt;chr&gt;</th><th scope=col>&lt;chr&gt;</th><th scope=col>&lt;int&gt;</th></tr>\n",
       "</thead>\n",
       "<tbody>\n",
       "\t<tr><th scope=row>1</th><td>SD_10_2018_10_a.mzXML</td><td>Sample</td><td>3</td><td>Oct</td><td>2018</td><td>10</td><td>a</td><td>10</td><td>32.86261</td><td>-117.2604</td><td>SIO_La_Jolla_Shores</td><td>SIO_South_Pier </td><td>18/07/2020 18:19</td><td>145</td></tr>\n",
       "\t<tr><th scope=row>2</th><td>SD_10_2018_10_b.mzXML</td><td>Sample</td><td>3</td><td>Oct</td><td>2018</td><td>10</td><td>b</td><td>10</td><td>32.86261</td><td>-117.2604</td><td>SIO_La_Jolla_Shores</td><td>SIO_South_Pier </td><td>18/07/2020 18:35</td><td>146</td></tr>\n",
       "\t<tr><th scope=row>3</th><td>SD_10_2018_11_a.mzXML</td><td>Sample</td><td>3</td><td>Oct</td><td>2018</td><td>11</td><td>a</td><td>11</td><td>32.85601</td><td>-117.2625</td><td>SIO_La_Jolla_Shores</td><td>La_Jolla_Shores</td><td>18/07/2020 18:51</td><td>147</td></tr>\n",
       "\t<tr><th scope=row>4</th><td>SD_10_2018_11_b.mzXML</td><td>Sample</td><td>3</td><td>Oct</td><td>2018</td><td>11</td><td>b</td><td>11</td><td>32.85601</td><td>-117.2625</td><td>SIO_La_Jolla_Shores</td><td>La_Jolla_Shores</td><td>18/07/2020 19:07</td><td>148</td></tr>\n",
       "\t<tr><th scope=row>5</th><td>SD_10_2018_12_a.mzXML</td><td>Sample</td><td>3</td><td>Oct</td><td>2018</td><td>12</td><td>a</td><td>12</td><td>32.85161</td><td>-117.2696</td><td>La_Jolla_Cove      </td><td>Cove           </td><td>18/07/2020 19:23</td><td>149</td></tr>\n",
       "\t<tr><th scope=row>6</th><td>SD_10_2018_12_b.mzXML</td><td>Sample</td><td>3</td><td>Oct</td><td>2018</td><td>12</td><td>b</td><td>12</td><td>32.85161</td><td>-117.2696</td><td>La_Jolla_Cove      </td><td>Cove           </td><td>18/07/2020 19:39</td><td>150</td></tr>\n",
       "</tbody>\n",
       "</table>\n"
      ],
      "text/latex": [
       "A data.frame: 6 × 14\n",
       "\\begin{tabular}{r|llllllllllllll}\n",
       "  & filename & ATTRIBUTE\\_Sample.Type & ATTRIBUTE\\_Batch & ATTRIBUTE\\_Month & ATTRIBUTE\\_Year & ATTRIBUTE\\_Sample\\_Location & ATTRIBUTE\\_Replicate & ATTRIBUTE\\_Spot & ATTRIBUTE\\_Latitude & ATTRIBUTE\\_Longitude & ATTRIBUTE\\_Sample\\_Area & ATTRIBUTE\\_Spot\\_Name & time\\_run & Injection\\_order\\\\\n",
       "  & <chr> & <chr> & <int> & <chr> & <int> & <int> & <chr> & <int> & <dbl> & <dbl> & <chr> & <chr> & <chr> & <int>\\\\\n",
       "\\hline\n",
       "\t1 & SD\\_10\\_2018\\_10\\_a.mzXML & Sample & 3 & Oct & 2018 & 10 & a & 10 & 32.86261 & -117.2604 & SIO\\_La\\_Jolla\\_Shores & SIO\\_South\\_Pier  & 18/07/2020 18:19 & 145\\\\\n",
       "\t2 & SD\\_10\\_2018\\_10\\_b.mzXML & Sample & 3 & Oct & 2018 & 10 & b & 10 & 32.86261 & -117.2604 & SIO\\_La\\_Jolla\\_Shores & SIO\\_South\\_Pier  & 18/07/2020 18:35 & 146\\\\\n",
       "\t3 & SD\\_10\\_2018\\_11\\_a.mzXML & Sample & 3 & Oct & 2018 & 11 & a & 11 & 32.85601 & -117.2625 & SIO\\_La\\_Jolla\\_Shores & La\\_Jolla\\_Shores & 18/07/2020 18:51 & 147\\\\\n",
       "\t4 & SD\\_10\\_2018\\_11\\_b.mzXML & Sample & 3 & Oct & 2018 & 11 & b & 11 & 32.85601 & -117.2625 & SIO\\_La\\_Jolla\\_Shores & La\\_Jolla\\_Shores & 18/07/2020 19:07 & 148\\\\\n",
       "\t5 & SD\\_10\\_2018\\_12\\_a.mzXML & Sample & 3 & Oct & 2018 & 12 & a & 12 & 32.85161 & -117.2696 & La\\_Jolla\\_Cove       & Cove            & 18/07/2020 19:23 & 149\\\\\n",
       "\t6 & SD\\_10\\_2018\\_12\\_b.mzXML & Sample & 3 & Oct & 2018 & 12 & b & 12 & 32.85161 & -117.2696 & La\\_Jolla\\_Cove       & Cove            & 18/07/2020 19:39 & 150\\\\\n",
       "\\end{tabular}\n"
      ],
      "text/markdown": [
       "\n",
       "A data.frame: 6 × 14\n",
       "\n",
       "| <!--/--> | filename &lt;chr&gt; | ATTRIBUTE_Sample.Type &lt;chr&gt; | ATTRIBUTE_Batch &lt;int&gt; | ATTRIBUTE_Month &lt;chr&gt; | ATTRIBUTE_Year &lt;int&gt; | ATTRIBUTE_Sample_Location &lt;int&gt; | ATTRIBUTE_Replicate &lt;chr&gt; | ATTRIBUTE_Spot &lt;int&gt; | ATTRIBUTE_Latitude &lt;dbl&gt; | ATTRIBUTE_Longitude &lt;dbl&gt; | ATTRIBUTE_Sample_Area &lt;chr&gt; | ATTRIBUTE_Spot_Name &lt;chr&gt; | time_run &lt;chr&gt; | Injection_order &lt;int&gt; |\n",
       "|---|---|---|---|---|---|---|---|---|---|---|---|---|---|---|\n",
       "| 1 | SD_10_2018_10_a.mzXML | Sample | 3 | Oct | 2018 | 10 | a | 10 | 32.86261 | -117.2604 | SIO_La_Jolla_Shores | SIO_South_Pier  | 18/07/2020 18:19 | 145 |\n",
       "| 2 | SD_10_2018_10_b.mzXML | Sample | 3 | Oct | 2018 | 10 | b | 10 | 32.86261 | -117.2604 | SIO_La_Jolla_Shores | SIO_South_Pier  | 18/07/2020 18:35 | 146 |\n",
       "| 3 | SD_10_2018_11_a.mzXML | Sample | 3 | Oct | 2018 | 11 | a | 11 | 32.85601 | -117.2625 | SIO_La_Jolla_Shores | La_Jolla_Shores | 18/07/2020 18:51 | 147 |\n",
       "| 4 | SD_10_2018_11_b.mzXML | Sample | 3 | Oct | 2018 | 11 | b | 11 | 32.85601 | -117.2625 | SIO_La_Jolla_Shores | La_Jolla_Shores | 18/07/2020 19:07 | 148 |\n",
       "| 5 | SD_10_2018_12_a.mzXML | Sample | 3 | Oct | 2018 | 12 | a | 12 | 32.85161 | -117.2696 | La_Jolla_Cove       | Cove            | 18/07/2020 19:23 | 149 |\n",
       "| 6 | SD_10_2018_12_b.mzXML | Sample | 3 | Oct | 2018 | 12 | b | 12 | 32.85161 | -117.2696 | La_Jolla_Cove       | Cove            | 18/07/2020 19:39 | 150 |\n",
       "\n"
      ],
      "text/plain": [
       "  filename              ATTRIBUTE_Sample.Type ATTRIBUTE_Batch ATTRIBUTE_Month\n",
       "1 SD_10_2018_10_a.mzXML Sample                3               Oct            \n",
       "2 SD_10_2018_10_b.mzXML Sample                3               Oct            \n",
       "3 SD_10_2018_11_a.mzXML Sample                3               Oct            \n",
       "4 SD_10_2018_11_b.mzXML Sample                3               Oct            \n",
       "5 SD_10_2018_12_a.mzXML Sample                3               Oct            \n",
       "6 SD_10_2018_12_b.mzXML Sample                3               Oct            \n",
       "  ATTRIBUTE_Year ATTRIBUTE_Sample_Location ATTRIBUTE_Replicate ATTRIBUTE_Spot\n",
       "1 2018           10                        a                   10            \n",
       "2 2018           10                        b                   10            \n",
       "3 2018           11                        a                   11            \n",
       "4 2018           11                        b                   11            \n",
       "5 2018           12                        a                   12            \n",
       "6 2018           12                        b                   12            \n",
       "  ATTRIBUTE_Latitude ATTRIBUTE_Longitude ATTRIBUTE_Sample_Area\n",
       "1 32.86261           -117.2604           SIO_La_Jolla_Shores  \n",
       "2 32.86261           -117.2604           SIO_La_Jolla_Shores  \n",
       "3 32.85601           -117.2625           SIO_La_Jolla_Shores  \n",
       "4 32.85601           -117.2625           SIO_La_Jolla_Shores  \n",
       "5 32.85161           -117.2696           La_Jolla_Cove        \n",
       "6 32.85161           -117.2696           La_Jolla_Cove        \n",
       "  ATTRIBUTE_Spot_Name time_run         Injection_order\n",
       "1 SIO_South_Pier      18/07/2020 18:19 145            \n",
       "2 SIO_South_Pier      18/07/2020 18:35 146            \n",
       "3 La_Jolla_Shores     18/07/2020 18:51 147            \n",
       "4 La_Jolla_Shores     18/07/2020 19:07 148            \n",
       "5 Cove                18/07/2020 19:23 149            \n",
       "6 Cove                18/07/2020 19:39 150            "
      ]
     },
     "metadata": {},
     "output_type": "display_data"
    },
    {
     "data": {
      "text/html": [
       "<style>\n",
       ".list-inline {list-style: none; margin:0; padding: 0}\n",
       ".list-inline>li {display: inline-block}\n",
       ".list-inline>li:not(:last-child)::after {content: \"\\00b7\"; padding: 0 .5ex}\n",
       "</style>\n",
       "<ol class=list-inline><li>186</li><li>14</li></ol>\n"
      ],
      "text/latex": [
       "\\begin{enumerate*}\n",
       "\\item 186\n",
       "\\item 14\n",
       "\\end{enumerate*}\n"
      ],
      "text/markdown": [
       "1. 186\n",
       "2. 14\n",
       "\n",
       "\n"
      ],
      "text/plain": [
       "[1] 186  14"
      ]
     },
     "metadata": {},
     "output_type": "display_data"
    }
   ],
   "source": [
    "head(md)\n",
    "dim(md)"
   ]
  },
  {
   "cell_type": "markdown",
   "id": "7da5af06-1073-414a-b306-c9f5f6bae852",
   "metadata": {
    "id": "7da5af06-1073-414a-b306-c9f5f6bae852"
   },
   "source": [
    "## **Creating a Function:**\n",
    "<p style='text-align: justify;'> Before getting into the Data cleanup steps, we have created a function that can be used later for data summarization. By creating functions, we don't have to write these big codes multiple times. Instead, we just use the function name. <font color=\"red\">The following cell in this section will not produce any outputs here. </font> The outputs will be produced when we give input variables to the function in the later sections. </p>\n",
    "\n",
    "<p style='text-align: justify;'> Using this function InsideLevels, we get an idea of the multiple levels in each of the metioned attributes in the metadata as well as the datatype of each attribute.  <font color =\"blue\"> This function takes metadata table as its input. </font></p>"
   ]
  },
  {
   "cell_type": "code",
   "execution_count": 9,
   "id": "0c12929c-154a-45ef-82d7-64deca1613ba",
   "metadata": {
    "executionInfo": {
     "elapsed": 231,
     "status": "ok",
     "timestamp": 1666547292043,
     "user": {
      "displayName": "Abzer Kelminal.P M",
      "userId": "16537922509430952288"
     },
     "user_tz": -120
    },
    "id": "0c12929c-154a-45ef-82d7-64deca1613ba"
   },
   "outputs": [],
   "source": [
    "#Function: InsideLevels\n",
    " InsideLevels <- function(metatable){\n",
    "    LEVELS <- c()\n",
    "    typ<-c()\n",
    "    COUNT <- c()\n",
    "    for(i in 1:ncol(metatable)){\n",
    "      temp <- as.data.frame(table(metatable[,i]))\n",
    "      x <- temp$Var1 #getting the name of each level in every column\n",
    "      if(is.double(metatable[,i])==T){x=round(as.double(x),2)}\n",
    "      LEVELS <- rbind(LEVELS,toString(x))\n",
    "      COUNT <- rbind(COUNT,toString(temp$Freq)) # getting the frequency of each level in every column\n",
    "      typ <- rbind(typ,class(metatable[,i])) # getting the class of each column\n",
    "    }\n",
    "    out <- data.frame(INDEX=c(1:ncol(metatable)),ATTRIBUTES=colnames(metatable),LEVELS,COUNT,'ATTRIBUTE_CLASS'=typ,row.names=NULL)\n",
    "    return(out)\n",
    "  }"
   ]
  },
  {
   "cell_type": "markdown",
   "id": "8dc4502e-3f83-4c02-b5d1-cd661ee1fec1",
   "metadata": {
    "id": "8dc4502e-3f83-4c02-b5d1-cd661ee1fec1"
   },
   "source": [
    "First, let's have a look at the different conditions within each attribute of our metadata."
   ]
  },
  {
   "cell_type": "code",
   "execution_count": 10,
   "id": "535d67d6-3e74-4eec-885c-06c434381110",
   "metadata": {
    "colab": {
     "base_uri": "https://localhost:8080/",
     "height": 192
    },
    "executionInfo": {
     "elapsed": 795,
     "status": "ok",
     "timestamp": 1666552171065,
     "user": {
      "displayName": "Abzer Kelminal.P M",
      "userId": "16537922509430952288"
     },
     "user_tz": -120
    },
    "id": "535d67d6-3e74-4eec-885c-06c434381110",
    "outputId": "bc6bdfc6-c336-4eef-e475-388253aedbbb"
   },
   "outputs": [
    {
     "data": {
      "text/html": [
       "<table class=\"dataframe\">\n",
       "<caption>A data.frame: 11 × 5</caption>\n",
       "<thead>\n",
       "\t<tr><th scope=col>INDEX</th><th scope=col>ATTRIBUTES</th><th scope=col>LEVELS</th><th scope=col>COUNT</th><th scope=col>ATTRIBUTE_CLASS</th></tr>\n",
       "\t<tr><th scope=col>&lt;int&gt;</th><th scope=col>&lt;chr&gt;</th><th scope=col>&lt;chr&gt;</th><th scope=col>&lt;chr&gt;</th><th scope=col>&lt;chr&gt;</th></tr>\n",
       "</thead>\n",
       "<tbody>\n",
       "\t<tr><td> 1</td><td>ATTRIBUTE_Sample.Type    </td><td>Blank, Sample                                                                                                                                                                                                                                                                                             </td><td>6, 180                                                                                     </td><td>character</td></tr>\n",
       "\t<tr><td> 2</td><td>ATTRIBUTE_Batch          </td><td>1, 2, 3                                                                                                                                                                                                                                                                                                   </td><td>62, 62, 62                                                                                 </td><td>integer  </td></tr>\n",
       "\t<tr><td> 3</td><td>ATTRIBUTE_Month          </td><td>Dec, Jan, Oct                                                                                                                                                                                                                                                                                             </td><td>62, 62, 62                                                                                 </td><td>character</td></tr>\n",
       "\t<tr><td> 4</td><td>ATTRIBUTE_Year           </td><td>2017, 2018                                                                                                                                                                                                                                                                                                </td><td>62, 124                                                                                    </td><td>integer  </td></tr>\n",
       "\t<tr><td> 5</td><td>ATTRIBUTE_Sample_Location</td><td>0, 1, 2, 3, 4, 5, 6, 7, 8, 9, 10, 11, 12, 13, 14, 15, 16, 17, 18, 19, 20, 21, 22, 23, 24, 25, 26, 27, 28, 29, 30                                                                                                                                                                                          </td><td>6, 6, 6, 6, 6, 6, 6, 6, 6, 6, 6, 6, 6, 6, 6, 6, 6, 6, 6, 6, 6, 6, 6, 6, 6, 6, 6, 6, 6, 6, 6</td><td>integer  </td></tr>\n",
       "\t<tr><td> 6</td><td>ATTRIBUTE_Replicate      </td><td>a, b                                                                                                                                                                                                                                                                                                      </td><td>93, 93                                                                                     </td><td>character</td></tr>\n",
       "\t<tr><td> 7</td><td>ATTRIBUTE_Spot           </td><td>0, 1, 2, 3, 4, 5, 6, 7, 8, 9, 10, 11, 12, 13, 14, 15, 16, 17, 18, 19, 20, 21, 22, 23, 24, 25, 26, 27, 28, 29, 30                                                                                                                                                                                          </td><td>6, 6, 6, 6, 6, 6, 6, 6, 6, 6, 6, 6, 6, 6, 6, 6, 6, 6, 6, 6, 6, 6, 6, 6, 6, 6, 6, 6, 6, 6, 6</td><td>integer  </td></tr>\n",
       "\t<tr><td> 8</td><td>ATTRIBUTE_Latitude       </td><td>1, 2, 3, 4, 5, 6, 7, 8, 9, 10, 11, 12, 13, 14, 15, 16, 17, 18, 19, 20, 21, 22, 23, 24, 25, 26, 27, 28, 29, 30, 31                                                                                                                                                                                         </td><td>6, 6, 6, 6, 6, 6, 6, 6, 6, 6, 6, 6, 6, 6, 6, 6, 6, 6, 6, 6, 6, 6, 6, 6, 6, 6, 6, 6, 6, 6, 6</td><td>numeric  </td></tr>\n",
       "\t<tr><td> 9</td><td>ATTRIBUTE_Longitude      </td><td>1, 2, 3, 4, 5, 6, 7, 8, 9, 10, 11, 12, 13, 14, 15, 16, 17, 18, 19, 20, 21, 22, 23, 24, 25, 26, 27, 28, 29, 30, 31                                                                                                                                                                                         </td><td>6, 6, 6, 6, 6, 6, 6, 6, 6, 6, 6, 6, 6, 6, 6, 6, 6, 6, 6, 6, 6, 6, 6, 6, 6, 6, 6, 6, 6, 6, 6</td><td>numeric  </td></tr>\n",
       "\t<tr><td>10</td><td>ATTRIBUTE_Sample_Area    </td><td>Blank, La_Jolla Reefs, La_Jolla_Cove, Mission_Bay, Mission_Beach, Pacific_Beach, SIO_La_Jolla_Shores, Torrey_Pines                                                                                                                                                                                        </td><td>6, 36, 12, 36, 18, 12, 18, 48                                                              </td><td>character</td></tr>\n",
       "\t<tr><td>11</td><td>ATTRIBUTE_Spot_Name      </td><td>Big_Rock, Blacks_North_Peak, Blacks_South_Peaks, Blank, Cove, Horseshoe, Hospitals, La_Jolla_Shores, Lagoon_Outlet, Little_Point, Mariners_Basin, Mission_Bay_Canal, Mission_Beach, Mission_Jetty, North_Bird, PB_Pier, PB_Point, Quivira_Marina, SIO_North_Pier, SIO_South_Pier, South_Bird, Torrey_Pines</td><td>6, 6, 6, 6, 12, 6, 6, 6, 6, 6, 6, 12, 18, 6, 6, 6, 6, 12, 6, 6, 6, 30                      </td><td>character</td></tr>\n",
       "</tbody>\n",
       "</table>\n"
      ],
      "text/latex": [
       "A data.frame: 11 × 5\n",
       "\\begin{tabular}{lllll}\n",
       " INDEX & ATTRIBUTES & LEVELS & COUNT & ATTRIBUTE\\_CLASS\\\\\n",
       " <int> & <chr> & <chr> & <chr> & <chr>\\\\\n",
       "\\hline\n",
       "\t  1 & ATTRIBUTE\\_Sample.Type     & Blank, Sample                                                                                                                                                                                                                                                                                              & 6, 180                                                                                      & character\\\\\n",
       "\t  2 & ATTRIBUTE\\_Batch           & 1, 2, 3                                                                                                                                                                                                                                                                                                    & 62, 62, 62                                                                                  & integer  \\\\\n",
       "\t  3 & ATTRIBUTE\\_Month           & Dec, Jan, Oct                                                                                                                                                                                                                                                                                              & 62, 62, 62                                                                                  & character\\\\\n",
       "\t  4 & ATTRIBUTE\\_Year            & 2017, 2018                                                                                                                                                                                                                                                                                                 & 62, 124                                                                                     & integer  \\\\\n",
       "\t  5 & ATTRIBUTE\\_Sample\\_Location & 0, 1, 2, 3, 4, 5, 6, 7, 8, 9, 10, 11, 12, 13, 14, 15, 16, 17, 18, 19, 20, 21, 22, 23, 24, 25, 26, 27, 28, 29, 30                                                                                                                                                                                           & 6, 6, 6, 6, 6, 6, 6, 6, 6, 6, 6, 6, 6, 6, 6, 6, 6, 6, 6, 6, 6, 6, 6, 6, 6, 6, 6, 6, 6, 6, 6 & integer  \\\\\n",
       "\t  6 & ATTRIBUTE\\_Replicate       & a, b                                                                                                                                                                                                                                                                                                       & 93, 93                                                                                      & character\\\\\n",
       "\t  7 & ATTRIBUTE\\_Spot            & 0, 1, 2, 3, 4, 5, 6, 7, 8, 9, 10, 11, 12, 13, 14, 15, 16, 17, 18, 19, 20, 21, 22, 23, 24, 25, 26, 27, 28, 29, 30                                                                                                                                                                                           & 6, 6, 6, 6, 6, 6, 6, 6, 6, 6, 6, 6, 6, 6, 6, 6, 6, 6, 6, 6, 6, 6, 6, 6, 6, 6, 6, 6, 6, 6, 6 & integer  \\\\\n",
       "\t  8 & ATTRIBUTE\\_Latitude        & 1, 2, 3, 4, 5, 6, 7, 8, 9, 10, 11, 12, 13, 14, 15, 16, 17, 18, 19, 20, 21, 22, 23, 24, 25, 26, 27, 28, 29, 30, 31                                                                                                                                                                                          & 6, 6, 6, 6, 6, 6, 6, 6, 6, 6, 6, 6, 6, 6, 6, 6, 6, 6, 6, 6, 6, 6, 6, 6, 6, 6, 6, 6, 6, 6, 6 & numeric  \\\\\n",
       "\t  9 & ATTRIBUTE\\_Longitude       & 1, 2, 3, 4, 5, 6, 7, 8, 9, 10, 11, 12, 13, 14, 15, 16, 17, 18, 19, 20, 21, 22, 23, 24, 25, 26, 27, 28, 29, 30, 31                                                                                                                                                                                          & 6, 6, 6, 6, 6, 6, 6, 6, 6, 6, 6, 6, 6, 6, 6, 6, 6, 6, 6, 6, 6, 6, 6, 6, 6, 6, 6, 6, 6, 6, 6 & numeric  \\\\\n",
       "\t 10 & ATTRIBUTE\\_Sample\\_Area     & Blank, La\\_Jolla Reefs, La\\_Jolla\\_Cove, Mission\\_Bay, Mission\\_Beach, Pacific\\_Beach, SIO\\_La\\_Jolla\\_Shores, Torrey\\_Pines                                                                                                                                                                                         & 6, 36, 12, 36, 18, 12, 18, 48                                                               & character\\\\\n",
       "\t 11 & ATTRIBUTE\\_Spot\\_Name       & Big\\_Rock, Blacks\\_North\\_Peak, Blacks\\_South\\_Peaks, Blank, Cove, Horseshoe, Hospitals, La\\_Jolla\\_Shores, Lagoon\\_Outlet, Little\\_Point, Mariners\\_Basin, Mission\\_Bay\\_Canal, Mission\\_Beach, Mission\\_Jetty, North\\_Bird, PB\\_Pier, PB\\_Point, Quivira\\_Marina, SIO\\_North\\_Pier, SIO\\_South\\_Pier, South\\_Bird, Torrey\\_Pines & 6, 6, 6, 6, 12, 6, 6, 6, 6, 6, 6, 12, 18, 6, 6, 6, 6, 12, 6, 6, 6, 30                       & character\\\\\n",
       "\\end{tabular}\n"
      ],
      "text/markdown": [
       "\n",
       "A data.frame: 11 × 5\n",
       "\n",
       "| INDEX &lt;int&gt; | ATTRIBUTES &lt;chr&gt; | LEVELS &lt;chr&gt; | COUNT &lt;chr&gt; | ATTRIBUTE_CLASS &lt;chr&gt; |\n",
       "|---|---|---|---|---|\n",
       "|  1 | ATTRIBUTE_Sample.Type     | Blank, Sample                                                                                                                                                                                                                                                                                              | 6, 180                                                                                      | character |\n",
       "|  2 | ATTRIBUTE_Batch           | 1, 2, 3                                                                                                                                                                                                                                                                                                    | 62, 62, 62                                                                                  | integer   |\n",
       "|  3 | ATTRIBUTE_Month           | Dec, Jan, Oct                                                                                                                                                                                                                                                                                              | 62, 62, 62                                                                                  | character |\n",
       "|  4 | ATTRIBUTE_Year            | 2017, 2018                                                                                                                                                                                                                                                                                                 | 62, 124                                                                                     | integer   |\n",
       "|  5 | ATTRIBUTE_Sample_Location | 0, 1, 2, 3, 4, 5, 6, 7, 8, 9, 10, 11, 12, 13, 14, 15, 16, 17, 18, 19, 20, 21, 22, 23, 24, 25, 26, 27, 28, 29, 30                                                                                                                                                                                           | 6, 6, 6, 6, 6, 6, 6, 6, 6, 6, 6, 6, 6, 6, 6, 6, 6, 6, 6, 6, 6, 6, 6, 6, 6, 6, 6, 6, 6, 6, 6 | integer   |\n",
       "|  6 | ATTRIBUTE_Replicate       | a, b                                                                                                                                                                                                                                                                                                       | 93, 93                                                                                      | character |\n",
       "|  7 | ATTRIBUTE_Spot            | 0, 1, 2, 3, 4, 5, 6, 7, 8, 9, 10, 11, 12, 13, 14, 15, 16, 17, 18, 19, 20, 21, 22, 23, 24, 25, 26, 27, 28, 29, 30                                                                                                                                                                                           | 6, 6, 6, 6, 6, 6, 6, 6, 6, 6, 6, 6, 6, 6, 6, 6, 6, 6, 6, 6, 6, 6, 6, 6, 6, 6, 6, 6, 6, 6, 6 | integer   |\n",
       "|  8 | ATTRIBUTE_Latitude        | 1, 2, 3, 4, 5, 6, 7, 8, 9, 10, 11, 12, 13, 14, 15, 16, 17, 18, 19, 20, 21, 22, 23, 24, 25, 26, 27, 28, 29, 30, 31                                                                                                                                                                                          | 6, 6, 6, 6, 6, 6, 6, 6, 6, 6, 6, 6, 6, 6, 6, 6, 6, 6, 6, 6, 6, 6, 6, 6, 6, 6, 6, 6, 6, 6, 6 | numeric   |\n",
       "|  9 | ATTRIBUTE_Longitude       | 1, 2, 3, 4, 5, 6, 7, 8, 9, 10, 11, 12, 13, 14, 15, 16, 17, 18, 19, 20, 21, 22, 23, 24, 25, 26, 27, 28, 29, 30, 31                                                                                                                                                                                          | 6, 6, 6, 6, 6, 6, 6, 6, 6, 6, 6, 6, 6, 6, 6, 6, 6, 6, 6, 6, 6, 6, 6, 6, 6, 6, 6, 6, 6, 6, 6 | numeric   |\n",
       "| 10 | ATTRIBUTE_Sample_Area     | Blank, La_Jolla Reefs, La_Jolla_Cove, Mission_Bay, Mission_Beach, Pacific_Beach, SIO_La_Jolla_Shores, Torrey_Pines                                                                                                                                                                                         | 6, 36, 12, 36, 18, 12, 18, 48                                                               | character |\n",
       "| 11 | ATTRIBUTE_Spot_Name       | Big_Rock, Blacks_North_Peak, Blacks_South_Peaks, Blank, Cove, Horseshoe, Hospitals, La_Jolla_Shores, Lagoon_Outlet, Little_Point, Mariners_Basin, Mission_Bay_Canal, Mission_Beach, Mission_Jetty, North_Bird, PB_Pier, PB_Point, Quivira_Marina, SIO_North_Pier, SIO_South_Pier, South_Bird, Torrey_Pines | 6, 6, 6, 6, 12, 6, 6, 6, 6, 6, 6, 12, 18, 6, 6, 6, 6, 12, 6, 6, 6, 30                       | character |\n",
       "\n"
      ],
      "text/plain": [
       "   INDEX ATTRIBUTES               \n",
       "1   1    ATTRIBUTE_Sample.Type    \n",
       "2   2    ATTRIBUTE_Batch          \n",
       "3   3    ATTRIBUTE_Month          \n",
       "4   4    ATTRIBUTE_Year           \n",
       "5   5    ATTRIBUTE_Sample_Location\n",
       "6   6    ATTRIBUTE_Replicate      \n",
       "7   7    ATTRIBUTE_Spot           \n",
       "8   8    ATTRIBUTE_Latitude       \n",
       "9   9    ATTRIBUTE_Longitude      \n",
       "10 10    ATTRIBUTE_Sample_Area    \n",
       "11 11    ATTRIBUTE_Spot_Name      \n",
       "   LEVELS                                                                                                                                                                                                                                                                                                    \n",
       "1  Blank, Sample                                                                                                                                                                                                                                                                                             \n",
       "2  1, 2, 3                                                                                                                                                                                                                                                                                                   \n",
       "3  Dec, Jan, Oct                                                                                                                                                                                                                                                                                             \n",
       "4  2017, 2018                                                                                                                                                                                                                                                                                                \n",
       "5  0, 1, 2, 3, 4, 5, 6, 7, 8, 9, 10, 11, 12, 13, 14, 15, 16, 17, 18, 19, 20, 21, 22, 23, 24, 25, 26, 27, 28, 29, 30                                                                                                                                                                                          \n",
       "6  a, b                                                                                                                                                                                                                                                                                                      \n",
       "7  0, 1, 2, 3, 4, 5, 6, 7, 8, 9, 10, 11, 12, 13, 14, 15, 16, 17, 18, 19, 20, 21, 22, 23, 24, 25, 26, 27, 28, 29, 30                                                                                                                                                                                          \n",
       "8  1, 2, 3, 4, 5, 6, 7, 8, 9, 10, 11, 12, 13, 14, 15, 16, 17, 18, 19, 20, 21, 22, 23, 24, 25, 26, 27, 28, 29, 30, 31                                                                                                                                                                                         \n",
       "9  1, 2, 3, 4, 5, 6, 7, 8, 9, 10, 11, 12, 13, 14, 15, 16, 17, 18, 19, 20, 21, 22, 23, 24, 25, 26, 27, 28, 29, 30, 31                                                                                                                                                                                         \n",
       "10 Blank, La_Jolla Reefs, La_Jolla_Cove, Mission_Bay, Mission_Beach, Pacific_Beach, SIO_La_Jolla_Shores, Torrey_Pines                                                                                                                                                                                        \n",
       "11 Big_Rock, Blacks_North_Peak, Blacks_South_Peaks, Blank, Cove, Horseshoe, Hospitals, La_Jolla_Shores, Lagoon_Outlet, Little_Point, Mariners_Basin, Mission_Bay_Canal, Mission_Beach, Mission_Jetty, North_Bird, PB_Pier, PB_Point, Quivira_Marina, SIO_North_Pier, SIO_South_Pier, South_Bird, Torrey_Pines\n",
       "   COUNT                                                                                      \n",
       "1  6, 180                                                                                     \n",
       "2  62, 62, 62                                                                                 \n",
       "3  62, 62, 62                                                                                 \n",
       "4  62, 124                                                                                    \n",
       "5  6, 6, 6, 6, 6, 6, 6, 6, 6, 6, 6, 6, 6, 6, 6, 6, 6, 6, 6, 6, 6, 6, 6, 6, 6, 6, 6, 6, 6, 6, 6\n",
       "6  93, 93                                                                                     \n",
       "7  6, 6, 6, 6, 6, 6, 6, 6, 6, 6, 6, 6, 6, 6, 6, 6, 6, 6, 6, 6, 6, 6, 6, 6, 6, 6, 6, 6, 6, 6, 6\n",
       "8  6, 6, 6, 6, 6, 6, 6, 6, 6, 6, 6, 6, 6, 6, 6, 6, 6, 6, 6, 6, 6, 6, 6, 6, 6, 6, 6, 6, 6, 6, 6\n",
       "9  6, 6, 6, 6, 6, 6, 6, 6, 6, 6, 6, 6, 6, 6, 6, 6, 6, 6, 6, 6, 6, 6, 6, 6, 6, 6, 6, 6, 6, 6, 6\n",
       "10 6, 36, 12, 36, 18, 12, 18, 48                                                              \n",
       "11 6, 6, 6, 6, 12, 6, 6, 6, 6, 6, 6, 12, 18, 6, 6, 6, 6, 12, 6, 6, 6, 30                      \n",
       "   ATTRIBUTE_CLASS\n",
       "1  character      \n",
       "2  integer        \n",
       "3  character      \n",
       "4  integer        \n",
       "5  integer        \n",
       "6  character      \n",
       "7  integer        \n",
       "8  numeric        \n",
       "9  numeric        \n",
       "10 character      \n",
       "11 character      "
      ]
     },
     "metadata": {},
     "output_type": "display_data"
    }
   ],
   "source": [
    "InsideLevels(md[,2:12]) #excluding columns: filename, timerun, injection order"
   ]
  },
  {
   "cell_type": "markdown",
   "id": "3rHvKfUD9kAw",
   "metadata": {
    "id": "3rHvKfUD9kAw"
   },
   "source": [
    "The above table is a summary of our metadata tabel. For example, the 1st row says that there are 2 different types of sample under 'ATTRIBUTE_Sample-Type' category namely \"Blank\" and \"Sample\". The number of files corresponding to each of these categories is given in the COUNT column. <br> For ex: 6 files belonging to \"Blank\" and 180 files for \"Sample\""
   ]
  },
  {
   "cell_type": "markdown",
   "id": "0ebcf409-e945-480d-9501-a70da21454c9",
   "metadata": {
    "id": "0ebcf409-e945-480d-9501-a70da21454c9"
   },
   "source": [
    "# **Arranging metadata and feature table in the same order:**"
   ]
  },
  {
   "cell_type": "markdown",
   "id": "f19073e0",
   "metadata": {
    "id": "f19073e0"
   },
   "source": [
    "<p style='text-align: justify;'> In the next cell, we are trying to bring the feature table and metadata in the correct format such as <font color =\"green\"> the rownames of metadata and column names of feature table are the same. </font> They both are the file names and they need to be the same, as from now on, we will call the columns in our feature table based on our metadata information. Thus, using the metadata, the user can filter their data easily. You can also directly deal with your feature table without metadata by getting your hands dirty with some coding!! But having a metadata improves the user-experience greatly. </p>"
   ]
  },
  {
   "cell_type": "code",
   "execution_count": 11,
   "id": "fc354329",
   "metadata": {},
   "outputs": [],
   "source": [
    "new_ft <- ft #storing the files under different names to preserve the original files\n",
    "new_md <- md"
   ]
  },
  {
   "cell_type": "code",
   "execution_count": 12,
   "id": "05305858",
   "metadata": {},
   "outputs": [
    {
     "data": {
      "text/html": [
       "<table class=\"dataframe\">\n",
       "<caption>A data.frame: 2 × 195</caption>\n",
       "<thead>\n",
       "\t<tr><th></th><th scope=col>row ID</th><th scope=col>row m/z</th><th scope=col>row retention time</th><th scope=col>correlation group ID</th><th scope=col>annotation network number</th><th scope=col>best ion</th><th scope=col>identified by n=</th><th scope=col>partners</th><th scope=col>neutral M mass</th><th scope=col>SD_01-2018_5_b.mzXML</th><th scope=col>⋯</th><th scope=col>SD_12-2017_23_b.mzXML</th><th scope=col>SD_12-2017_15_b.mzXML</th><th scope=col>SD_12-2017_15_a.mzXML</th><th scope=col>SD_12-2017_27_a.mzXML</th><th scope=col>SD_12-2017_29_b.mzXML</th><th scope=col>SD_12-2017_21_a.mzXML</th><th scope=col>SD_12-2017_30_a.mzXML</th><th scope=col>SD_12-2017_28_b.mzXML</th><th scope=col>SD_12-2017_29_a.mzXML</th><th scope=col>SD_12-2017_28_a.mzXML</th></tr>\n",
       "\t<tr><th></th><th scope=col>&lt;int&gt;</th><th scope=col>&lt;dbl&gt;</th><th scope=col>&lt;dbl&gt;</th><th scope=col>&lt;int&gt;</th><th scope=col>&lt;int&gt;</th><th scope=col>&lt;chr&gt;</th><th scope=col>&lt;int&gt;</th><th scope=col>&lt;chr&gt;</th><th scope=col>&lt;dbl&gt;</th><th scope=col>&lt;dbl&gt;</th><th scope=col>⋯</th><th scope=col>&lt;dbl&gt;</th><th scope=col>&lt;dbl&gt;</th><th scope=col>&lt;dbl&gt;</th><th scope=col>&lt;dbl&gt;</th><th scope=col>&lt;dbl&gt;</th><th scope=col>&lt;dbl&gt;</th><th scope=col>&lt;dbl&gt;</th><th scope=col>&lt;dbl&gt;</th><th scope=col>&lt;dbl&gt;</th><th scope=col>&lt;dbl&gt;</th></tr>\n",
       "</thead>\n",
       "<tbody>\n",
       "\t<tr><th scope=row>1</th><td>92572</td><td>151.0351</td><td>13.363672</td><td>NA</td><td>NA</td><td></td><td>NA</td><td></td><td>NA</td><td>    0.00</td><td>⋯</td><td>0</td><td>0</td><td>0</td><td>21385.48</td><td>1138.271</td><td>1144.812</td><td>12139.16</td><td>5394.689</td><td>5270.766</td><td>1007.839</td></tr>\n",
       "\t<tr><th scope=row>2</th><td> 2513</td><td>151.0351</td><td> 1.129901</td><td>NA</td><td>NA</td><td></td><td>NA</td><td></td><td>NA</td><td>14900.48</td><td>⋯</td><td>0</td><td>0</td><td>0</td><td>27123.89</td><td>   0.000</td><td>   0.000</td><td>    0.00</td><td>   0.000</td><td>   0.000</td><td>   0.000</td></tr>\n",
       "</tbody>\n",
       "</table>\n"
      ],
      "text/latex": [
       "A data.frame: 2 × 195\n",
       "\\begin{tabular}{r|lllllllllllllllllllll}\n",
       "  & row ID & row m/z & row retention time & correlation group ID & annotation network number & best ion & identified by n= & partners & neutral M mass & SD\\_01-2018\\_5\\_b.mzXML & ⋯ & SD\\_12-2017\\_23\\_b.mzXML & SD\\_12-2017\\_15\\_b.mzXML & SD\\_12-2017\\_15\\_a.mzXML & SD\\_12-2017\\_27\\_a.mzXML & SD\\_12-2017\\_29\\_b.mzXML & SD\\_12-2017\\_21\\_a.mzXML & SD\\_12-2017\\_30\\_a.mzXML & SD\\_12-2017\\_28\\_b.mzXML & SD\\_12-2017\\_29\\_a.mzXML & SD\\_12-2017\\_28\\_a.mzXML\\\\\n",
       "  & <int> & <dbl> & <dbl> & <int> & <int> & <chr> & <int> & <chr> & <dbl> & <dbl> & ⋯ & <dbl> & <dbl> & <dbl> & <dbl> & <dbl> & <dbl> & <dbl> & <dbl> & <dbl> & <dbl>\\\\\n",
       "\\hline\n",
       "\t1 & 92572 & 151.0351 & 13.363672 & NA & NA &  & NA &  & NA &     0.00 & ⋯ & 0 & 0 & 0 & 21385.48 & 1138.271 & 1144.812 & 12139.16 & 5394.689 & 5270.766 & 1007.839\\\\\n",
       "\t2 &  2513 & 151.0351 &  1.129901 & NA & NA &  & NA &  & NA & 14900.48 & ⋯ & 0 & 0 & 0 & 27123.89 &    0.000 &    0.000 &     0.00 &    0.000 &    0.000 &    0.000\\\\\n",
       "\\end{tabular}\n"
      ],
      "text/markdown": [
       "\n",
       "A data.frame: 2 × 195\n",
       "\n",
       "| <!--/--> | row ID &lt;int&gt; | row m/z &lt;dbl&gt; | row retention time &lt;dbl&gt; | correlation group ID &lt;int&gt; | annotation network number &lt;int&gt; | best ion &lt;chr&gt; | identified by n= &lt;int&gt; | partners &lt;chr&gt; | neutral M mass &lt;dbl&gt; | SD_01-2018_5_b.mzXML &lt;dbl&gt; | ⋯ ⋯ | SD_12-2017_23_b.mzXML &lt;dbl&gt; | SD_12-2017_15_b.mzXML &lt;dbl&gt; | SD_12-2017_15_a.mzXML &lt;dbl&gt; | SD_12-2017_27_a.mzXML &lt;dbl&gt; | SD_12-2017_29_b.mzXML &lt;dbl&gt; | SD_12-2017_21_a.mzXML &lt;dbl&gt; | SD_12-2017_30_a.mzXML &lt;dbl&gt; | SD_12-2017_28_b.mzXML &lt;dbl&gt; | SD_12-2017_29_a.mzXML &lt;dbl&gt; | SD_12-2017_28_a.mzXML &lt;dbl&gt; |\n",
       "|---|---|---|---|---|---|---|---|---|---|---|---|---|---|---|---|---|---|---|---|---|---|\n",
       "| 1 | 92572 | 151.0351 | 13.363672 | NA | NA | <!----> | NA | <!----> | NA |     0.00 | ⋯ | 0 | 0 | 0 | 21385.48 | 1138.271 | 1144.812 | 12139.16 | 5394.689 | 5270.766 | 1007.839 |\n",
       "| 2 |  2513 | 151.0351 |  1.129901 | NA | NA | <!----> | NA | <!----> | NA | 14900.48 | ⋯ | 0 | 0 | 0 | 27123.89 |    0.000 |    0.000 |     0.00 |    0.000 |    0.000 |    0.000 |\n",
       "\n"
      ],
      "text/plain": [
       "  row ID row m/z  row retention time correlation group ID\n",
       "1 92572  151.0351 13.363672          NA                  \n",
       "2  2513  151.0351  1.129901          NA                  \n",
       "  annotation network number best ion identified by n= partners neutral M mass\n",
       "1 NA                                 NA                        NA            \n",
       "2 NA                                 NA                        NA            \n",
       "  SD_01-2018_5_b.mzXML ⋯ SD_12-2017_23_b.mzXML SD_12-2017_15_b.mzXML\n",
       "1     0.00             ⋯ 0                     0                    \n",
       "2 14900.48             ⋯ 0                     0                    \n",
       "  SD_12-2017_15_a.mzXML SD_12-2017_27_a.mzXML SD_12-2017_29_b.mzXML\n",
       "1 0                     21385.48              1138.271             \n",
       "2 0                     27123.89                 0.000             \n",
       "  SD_12-2017_21_a.mzXML SD_12-2017_30_a.mzXML SD_12-2017_28_b.mzXML\n",
       "1 1144.812              12139.16              5394.689             \n",
       "2    0.000                  0.00                 0.000             \n",
       "  SD_12-2017_29_a.mzXML SD_12-2017_28_a.mzXML\n",
       "1 5270.766              1007.839             \n",
       "2    0.000                 0.000             "
      ]
     },
     "metadata": {},
     "output_type": "display_data"
    },
    {
     "data": {
      "text/html": [
       "<table class=\"dataframe\">\n",
       "<caption>A data.frame: 2 × 14</caption>\n",
       "<thead>\n",
       "\t<tr><th></th><th scope=col>filename</th><th scope=col>ATTRIBUTE_Sample.Type</th><th scope=col>ATTRIBUTE_Batch</th><th scope=col>ATTRIBUTE_Month</th><th scope=col>ATTRIBUTE_Year</th><th scope=col>ATTRIBUTE_Sample_Location</th><th scope=col>ATTRIBUTE_Replicate</th><th scope=col>ATTRIBUTE_Spot</th><th scope=col>ATTRIBUTE_Latitude</th><th scope=col>ATTRIBUTE_Longitude</th><th scope=col>ATTRIBUTE_Sample_Area</th><th scope=col>ATTRIBUTE_Spot_Name</th><th scope=col>time_run</th><th scope=col>Injection_order</th></tr>\n",
       "\t<tr><th></th><th scope=col>&lt;chr&gt;</th><th scope=col>&lt;chr&gt;</th><th scope=col>&lt;int&gt;</th><th scope=col>&lt;chr&gt;</th><th scope=col>&lt;int&gt;</th><th scope=col>&lt;int&gt;</th><th scope=col>&lt;chr&gt;</th><th scope=col>&lt;int&gt;</th><th scope=col>&lt;dbl&gt;</th><th scope=col>&lt;dbl&gt;</th><th scope=col>&lt;chr&gt;</th><th scope=col>&lt;chr&gt;</th><th scope=col>&lt;chr&gt;</th><th scope=col>&lt;int&gt;</th></tr>\n",
       "</thead>\n",
       "<tbody>\n",
       "\t<tr><th scope=row>1</th><td>SD_10_2018_10_a.mzXML</td><td>Sample</td><td>3</td><td>Oct</td><td>2018</td><td>10</td><td>a</td><td>10</td><td>32.86261</td><td>-117.2604</td><td>SIO_La_Jolla_Shores</td><td>SIO_South_Pier</td><td>18/07/2020 18:19</td><td>145</td></tr>\n",
       "\t<tr><th scope=row>2</th><td>SD_10_2018_10_b.mzXML</td><td>Sample</td><td>3</td><td>Oct</td><td>2018</td><td>10</td><td>b</td><td>10</td><td>32.86261</td><td>-117.2604</td><td>SIO_La_Jolla_Shores</td><td>SIO_South_Pier</td><td>18/07/2020 18:35</td><td>146</td></tr>\n",
       "</tbody>\n",
       "</table>\n"
      ],
      "text/latex": [
       "A data.frame: 2 × 14\n",
       "\\begin{tabular}{r|llllllllllllll}\n",
       "  & filename & ATTRIBUTE\\_Sample.Type & ATTRIBUTE\\_Batch & ATTRIBUTE\\_Month & ATTRIBUTE\\_Year & ATTRIBUTE\\_Sample\\_Location & ATTRIBUTE\\_Replicate & ATTRIBUTE\\_Spot & ATTRIBUTE\\_Latitude & ATTRIBUTE\\_Longitude & ATTRIBUTE\\_Sample\\_Area & ATTRIBUTE\\_Spot\\_Name & time\\_run & Injection\\_order\\\\\n",
       "  & <chr> & <chr> & <int> & <chr> & <int> & <int> & <chr> & <int> & <dbl> & <dbl> & <chr> & <chr> & <chr> & <int>\\\\\n",
       "\\hline\n",
       "\t1 & SD\\_10\\_2018\\_10\\_a.mzXML & Sample & 3 & Oct & 2018 & 10 & a & 10 & 32.86261 & -117.2604 & SIO\\_La\\_Jolla\\_Shores & SIO\\_South\\_Pier & 18/07/2020 18:19 & 145\\\\\n",
       "\t2 & SD\\_10\\_2018\\_10\\_b.mzXML & Sample & 3 & Oct & 2018 & 10 & b & 10 & 32.86261 & -117.2604 & SIO\\_La\\_Jolla\\_Shores & SIO\\_South\\_Pier & 18/07/2020 18:35 & 146\\\\\n",
       "\\end{tabular}\n"
      ],
      "text/markdown": [
       "\n",
       "A data.frame: 2 × 14\n",
       "\n",
       "| <!--/--> | filename &lt;chr&gt; | ATTRIBUTE_Sample.Type &lt;chr&gt; | ATTRIBUTE_Batch &lt;int&gt; | ATTRIBUTE_Month &lt;chr&gt; | ATTRIBUTE_Year &lt;int&gt; | ATTRIBUTE_Sample_Location &lt;int&gt; | ATTRIBUTE_Replicate &lt;chr&gt; | ATTRIBUTE_Spot &lt;int&gt; | ATTRIBUTE_Latitude &lt;dbl&gt; | ATTRIBUTE_Longitude &lt;dbl&gt; | ATTRIBUTE_Sample_Area &lt;chr&gt; | ATTRIBUTE_Spot_Name &lt;chr&gt; | time_run &lt;chr&gt; | Injection_order &lt;int&gt; |\n",
       "|---|---|---|---|---|---|---|---|---|---|---|---|---|---|---|\n",
       "| 1 | SD_10_2018_10_a.mzXML | Sample | 3 | Oct | 2018 | 10 | a | 10 | 32.86261 | -117.2604 | SIO_La_Jolla_Shores | SIO_South_Pier | 18/07/2020 18:19 | 145 |\n",
       "| 2 | SD_10_2018_10_b.mzXML | Sample | 3 | Oct | 2018 | 10 | b | 10 | 32.86261 | -117.2604 | SIO_La_Jolla_Shores | SIO_South_Pier | 18/07/2020 18:35 | 146 |\n",
       "\n"
      ],
      "text/plain": [
       "  filename              ATTRIBUTE_Sample.Type ATTRIBUTE_Batch ATTRIBUTE_Month\n",
       "1 SD_10_2018_10_a.mzXML Sample                3               Oct            \n",
       "2 SD_10_2018_10_b.mzXML Sample                3               Oct            \n",
       "  ATTRIBUTE_Year ATTRIBUTE_Sample_Location ATTRIBUTE_Replicate ATTRIBUTE_Spot\n",
       "1 2018           10                        a                   10            \n",
       "2 2018           10                        b                   10            \n",
       "  ATTRIBUTE_Latitude ATTRIBUTE_Longitude ATTRIBUTE_Sample_Area\n",
       "1 32.86261           -117.2604           SIO_La_Jolla_Shores  \n",
       "2 32.86261           -117.2604           SIO_La_Jolla_Shores  \n",
       "  ATTRIBUTE_Spot_Name time_run         Injection_order\n",
       "1 SIO_South_Pier      18/07/2020 18:19 145            \n",
       "2 SIO_South_Pier      18/07/2020 18:35 146            "
      ]
     },
     "metadata": {},
     "output_type": "display_data"
    }
   ],
   "source": [
    "colnames(new_ft) <- gsub(' Peak area','',colnames(new_ft)) #Removing Peak area extensions from the column names of ft\n",
    "\n",
    "new_ft <- new_ft[,colSums(is.na(new_ft))<nrow(new_ft)] #Removing if any NA columns present in the ft file\n",
    "new_md <- new_md[,colSums(is.na(new_md))<nrow(new_md)] #Removing if any NA columns present in the md file\n",
    "\n",
    "head(new_ft,2) #returns the first 2 rows of ft\n",
    "head(new_md,2) #returns the first 2 rows of md"
   ]
  },
  {
   "cell_type": "code",
   "execution_count": 13,
   "id": "7fe193e8",
   "metadata": {},
   "outputs": [],
   "source": [
    "#remove the (front & tail) spaces, if any present, from the filenames of md:\n",
    "new_md$filename <- trimws(new_md$filename, which = c(\"both\")) \n",
    "#Changing the row names of the files into the combined name as \"ID_mz_RT\":\n",
    "rownames(new_ft) <- paste(new_ft$'row ID',round(new_ft$'row m/z',digits = 3),round(new_ft$'row retention time',digits = 3), sep = '_') "
   ]
  },
  {
   "cell_type": "code",
   "execution_count": 14,
   "id": "c40db3be",
   "metadata": {},
   "outputs": [],
   "source": [
    "new_ft <- new_ft[,grep('.mzXML',colnames(new_ft))] #Picking only the files with column names containing 'mzXML'"
   ]
  },
  {
   "cell_type": "code",
   "execution_count": 12,
   "id": "c36558bb",
   "metadata": {},
   "outputs": [
    {
     "data": {
      "text/html": [
       "<table class=\"dataframe\">\n",
       "<caption>A data.frame: 2 × 186</caption>\n",
       "<thead>\n",
       "\t<tr><th></th><th scope=col>SD_01-2018_5_b.mzXML</th><th scope=col>SD_01-2018_7_b.mzXML</th><th scope=col>SD_01-2018_7_a.mzXML</th><th scope=col>SD_01-2018_3_b.mzXML</th><th scope=col>SD_01-2018_6_a.mzXML</th><th scope=col>SD_01-2018_8_a.mzXML</th><th scope=col>SD_01-2018_1_a.mzXML</th><th scope=col>SD_01-2018_2_b.mzXML</th><th scope=col>SD_01-2018_4_b.mzXML</th><th scope=col>SD_01-2018_2_a.mzXML</th><th scope=col>⋯</th><th scope=col>SD_12-2017_23_b.mzXML</th><th scope=col>SD_12-2017_15_b.mzXML</th><th scope=col>SD_12-2017_15_a.mzXML</th><th scope=col>SD_12-2017_27_a.mzXML</th><th scope=col>SD_12-2017_29_b.mzXML</th><th scope=col>SD_12-2017_21_a.mzXML</th><th scope=col>SD_12-2017_30_a.mzXML</th><th scope=col>SD_12-2017_28_b.mzXML</th><th scope=col>SD_12-2017_29_a.mzXML</th><th scope=col>SD_12-2017_28_a.mzXML</th></tr>\n",
       "\t<tr><th></th><th scope=col>&lt;dbl&gt;</th><th scope=col>&lt;dbl&gt;</th><th scope=col>&lt;dbl&gt;</th><th scope=col>&lt;dbl&gt;</th><th scope=col>&lt;dbl&gt;</th><th scope=col>&lt;dbl&gt;</th><th scope=col>&lt;dbl&gt;</th><th scope=col>&lt;dbl&gt;</th><th scope=col>&lt;dbl&gt;</th><th scope=col>&lt;dbl&gt;</th><th scope=col>⋯</th><th scope=col>&lt;dbl&gt;</th><th scope=col>&lt;dbl&gt;</th><th scope=col>&lt;dbl&gt;</th><th scope=col>&lt;dbl&gt;</th><th scope=col>&lt;dbl&gt;</th><th scope=col>&lt;dbl&gt;</th><th scope=col>&lt;dbl&gt;</th><th scope=col>&lt;dbl&gt;</th><th scope=col>&lt;dbl&gt;</th><th scope=col>&lt;dbl&gt;</th></tr>\n",
       "</thead>\n",
       "<tbody>\n",
       "\t<tr><th scope=row>92572_151.035_13.364</th><td>    0.00</td><td>   0.000</td><td>0</td><td>0</td><td>0</td><td>0</td><td>0</td><td>0</td><td>0</td><td>0</td><td>⋯</td><td>0</td><td>0</td><td>0</td><td>21385.48</td><td>1138.271</td><td>1144.812</td><td>12139.16</td><td>5394.689</td><td>5270.766</td><td>1007.839</td></tr>\n",
       "\t<tr><th scope=row>2513_151.035_1.13</th><td>14900.48</td><td>4685.837</td><td>0</td><td>0</td><td>0</td><td>0</td><td>0</td><td>0</td><td>0</td><td>0</td><td>⋯</td><td>0</td><td>0</td><td>0</td><td>27123.89</td><td>   0.000</td><td>   0.000</td><td>    0.00</td><td>   0.000</td><td>   0.000</td><td>   0.000</td></tr>\n",
       "</tbody>\n",
       "</table>\n"
      ],
      "text/latex": [
       "A data.frame: 2 × 186\n",
       "\\begin{tabular}{r|lllllllllllllllllllll}\n",
       "  & SD\\_01-2018\\_5\\_b.mzXML & SD\\_01-2018\\_7\\_b.mzXML & SD\\_01-2018\\_7\\_a.mzXML & SD\\_01-2018\\_3\\_b.mzXML & SD\\_01-2018\\_6\\_a.mzXML & SD\\_01-2018\\_8\\_a.mzXML & SD\\_01-2018\\_1\\_a.mzXML & SD\\_01-2018\\_2\\_b.mzXML & SD\\_01-2018\\_4\\_b.mzXML & SD\\_01-2018\\_2\\_a.mzXML & ⋯ & SD\\_12-2017\\_23\\_b.mzXML & SD\\_12-2017\\_15\\_b.mzXML & SD\\_12-2017\\_15\\_a.mzXML & SD\\_12-2017\\_27\\_a.mzXML & SD\\_12-2017\\_29\\_b.mzXML & SD\\_12-2017\\_21\\_a.mzXML & SD\\_12-2017\\_30\\_a.mzXML & SD\\_12-2017\\_28\\_b.mzXML & SD\\_12-2017\\_29\\_a.mzXML & SD\\_12-2017\\_28\\_a.mzXML\\\\\n",
       "  & <dbl> & <dbl> & <dbl> & <dbl> & <dbl> & <dbl> & <dbl> & <dbl> & <dbl> & <dbl> & ⋯ & <dbl> & <dbl> & <dbl> & <dbl> & <dbl> & <dbl> & <dbl> & <dbl> & <dbl> & <dbl>\\\\\n",
       "\\hline\n",
       "\t92572\\_151.035\\_13.364 &     0.00 &    0.000 & 0 & 0 & 0 & 0 & 0 & 0 & 0 & 0 & ⋯ & 0 & 0 & 0 & 21385.48 & 1138.271 & 1144.812 & 12139.16 & 5394.689 & 5270.766 & 1007.839\\\\\n",
       "\t2513\\_151.035\\_1.13 & 14900.48 & 4685.837 & 0 & 0 & 0 & 0 & 0 & 0 & 0 & 0 & ⋯ & 0 & 0 & 0 & 27123.89 &    0.000 &    0.000 &     0.00 &    0.000 &    0.000 &    0.000\\\\\n",
       "\\end{tabular}\n"
      ],
      "text/markdown": [
       "\n",
       "A data.frame: 2 × 186\n",
       "\n",
       "| <!--/--> | SD_01-2018_5_b.mzXML &lt;dbl&gt; | SD_01-2018_7_b.mzXML &lt;dbl&gt; | SD_01-2018_7_a.mzXML &lt;dbl&gt; | SD_01-2018_3_b.mzXML &lt;dbl&gt; | SD_01-2018_6_a.mzXML &lt;dbl&gt; | SD_01-2018_8_a.mzXML &lt;dbl&gt; | SD_01-2018_1_a.mzXML &lt;dbl&gt; | SD_01-2018_2_b.mzXML &lt;dbl&gt; | SD_01-2018_4_b.mzXML &lt;dbl&gt; | SD_01-2018_2_a.mzXML &lt;dbl&gt; | ⋯ ⋯ | SD_12-2017_23_b.mzXML &lt;dbl&gt; | SD_12-2017_15_b.mzXML &lt;dbl&gt; | SD_12-2017_15_a.mzXML &lt;dbl&gt; | SD_12-2017_27_a.mzXML &lt;dbl&gt; | SD_12-2017_29_b.mzXML &lt;dbl&gt; | SD_12-2017_21_a.mzXML &lt;dbl&gt; | SD_12-2017_30_a.mzXML &lt;dbl&gt; | SD_12-2017_28_b.mzXML &lt;dbl&gt; | SD_12-2017_29_a.mzXML &lt;dbl&gt; | SD_12-2017_28_a.mzXML &lt;dbl&gt; |\n",
       "|---|---|---|---|---|---|---|---|---|---|---|---|---|---|---|---|---|---|---|---|---|---|\n",
       "| 92572_151.035_13.364 |     0.00 |    0.000 | 0 | 0 | 0 | 0 | 0 | 0 | 0 | 0 | ⋯ | 0 | 0 | 0 | 21385.48 | 1138.271 | 1144.812 | 12139.16 | 5394.689 | 5270.766 | 1007.839 |\n",
       "| 2513_151.035_1.13 | 14900.48 | 4685.837 | 0 | 0 | 0 | 0 | 0 | 0 | 0 | 0 | ⋯ | 0 | 0 | 0 | 27123.89 |    0.000 |    0.000 |     0.00 |    0.000 |    0.000 |    0.000 |\n",
       "\n"
      ],
      "text/plain": [
       "                     SD_01-2018_5_b.mzXML SD_01-2018_7_b.mzXML\n",
       "92572_151.035_13.364     0.00                0.000            \n",
       "2513_151.035_1.13    14900.48             4685.837            \n",
       "                     SD_01-2018_7_a.mzXML SD_01-2018_3_b.mzXML\n",
       "92572_151.035_13.364 0                    0                   \n",
       "2513_151.035_1.13    0                    0                   \n",
       "                     SD_01-2018_6_a.mzXML SD_01-2018_8_a.mzXML\n",
       "92572_151.035_13.364 0                    0                   \n",
       "2513_151.035_1.13    0                    0                   \n",
       "                     SD_01-2018_1_a.mzXML SD_01-2018_2_b.mzXML\n",
       "92572_151.035_13.364 0                    0                   \n",
       "2513_151.035_1.13    0                    0                   \n",
       "                     SD_01-2018_4_b.mzXML SD_01-2018_2_a.mzXML ⋯\n",
       "92572_151.035_13.364 0                    0                    ⋯\n",
       "2513_151.035_1.13    0                    0                    ⋯\n",
       "                     SD_12-2017_23_b.mzXML SD_12-2017_15_b.mzXML\n",
       "92572_151.035_13.364 0                     0                    \n",
       "2513_151.035_1.13    0                     0                    \n",
       "                     SD_12-2017_15_a.mzXML SD_12-2017_27_a.mzXML\n",
       "92572_151.035_13.364 0                     21385.48             \n",
       "2513_151.035_1.13    0                     27123.89             \n",
       "                     SD_12-2017_29_b.mzXML SD_12-2017_21_a.mzXML\n",
       "92572_151.035_13.364 1138.271              1144.812             \n",
       "2513_151.035_1.13       0.000                 0.000             \n",
       "                     SD_12-2017_30_a.mzXML SD_12-2017_28_b.mzXML\n",
       "92572_151.035_13.364 12139.16              5394.689             \n",
       "2513_151.035_1.13        0.00                 0.000             \n",
       "                     SD_12-2017_29_a.mzXML SD_12-2017_28_a.mzXML\n",
       "92572_151.035_13.364 5270.766              1007.839             \n",
       "2513_151.035_1.13       0.000                 0.000             "
      ]
     },
     "metadata": {},
     "output_type": "display_data"
    },
    {
     "data": {
      "text/html": [
       "<table class=\"dataframe\">\n",
       "<caption>A data.frame: 2 × 14</caption>\n",
       "<thead>\n",
       "\t<tr><th></th><th scope=col>filename</th><th scope=col>ATTRIBUTE_Sample.Type</th><th scope=col>ATTRIBUTE_Batch</th><th scope=col>ATTRIBUTE_Month</th><th scope=col>ATTRIBUTE_Year</th><th scope=col>ATTRIBUTE_Sample_Location</th><th scope=col>ATTRIBUTE_Replicate</th><th scope=col>ATTRIBUTE_Spot</th><th scope=col>ATTRIBUTE_Latitude</th><th scope=col>ATTRIBUTE_Longitude</th><th scope=col>ATTRIBUTE_Sample_Area</th><th scope=col>ATTRIBUTE_Spot_Name</th><th scope=col>time_run</th><th scope=col>Injection_order</th></tr>\n",
       "\t<tr><th></th><th scope=col>&lt;chr&gt;</th><th scope=col>&lt;chr&gt;</th><th scope=col>&lt;int&gt;</th><th scope=col>&lt;chr&gt;</th><th scope=col>&lt;int&gt;</th><th scope=col>&lt;int&gt;</th><th scope=col>&lt;chr&gt;</th><th scope=col>&lt;int&gt;</th><th scope=col>&lt;dbl&gt;</th><th scope=col>&lt;dbl&gt;</th><th scope=col>&lt;chr&gt;</th><th scope=col>&lt;chr&gt;</th><th scope=col>&lt;chr&gt;</th><th scope=col>&lt;int&gt;</th></tr>\n",
       "</thead>\n",
       "<tbody>\n",
       "\t<tr><th scope=row>1</th><td>SD_10_2018_10_a.mzXML</td><td>Sample</td><td>3</td><td>Oct</td><td>2018</td><td>10</td><td>a</td><td>10</td><td>32.86261</td><td>-117.2604</td><td>SIO_La_Jolla_Shores</td><td>SIO_South_Pier</td><td>18/07/2020 18:19</td><td>145</td></tr>\n",
       "\t<tr><th scope=row>2</th><td>SD_10_2018_10_b.mzXML</td><td>Sample</td><td>3</td><td>Oct</td><td>2018</td><td>10</td><td>b</td><td>10</td><td>32.86261</td><td>-117.2604</td><td>SIO_La_Jolla_Shores</td><td>SIO_South_Pier</td><td>18/07/2020 18:35</td><td>146</td></tr>\n",
       "</tbody>\n",
       "</table>\n"
      ],
      "text/latex": [
       "A data.frame: 2 × 14\n",
       "\\begin{tabular}{r|llllllllllllll}\n",
       "  & filename & ATTRIBUTE\\_Sample.Type & ATTRIBUTE\\_Batch & ATTRIBUTE\\_Month & ATTRIBUTE\\_Year & ATTRIBUTE\\_Sample\\_Location & ATTRIBUTE\\_Replicate & ATTRIBUTE\\_Spot & ATTRIBUTE\\_Latitude & ATTRIBUTE\\_Longitude & ATTRIBUTE\\_Sample\\_Area & ATTRIBUTE\\_Spot\\_Name & time\\_run & Injection\\_order\\\\\n",
       "  & <chr> & <chr> & <int> & <chr> & <int> & <int> & <chr> & <int> & <dbl> & <dbl> & <chr> & <chr> & <chr> & <int>\\\\\n",
       "\\hline\n",
       "\t1 & SD\\_10\\_2018\\_10\\_a.mzXML & Sample & 3 & Oct & 2018 & 10 & a & 10 & 32.86261 & -117.2604 & SIO\\_La\\_Jolla\\_Shores & SIO\\_South\\_Pier & 18/07/2020 18:19 & 145\\\\\n",
       "\t2 & SD\\_10\\_2018\\_10\\_b.mzXML & Sample & 3 & Oct & 2018 & 10 & b & 10 & 32.86261 & -117.2604 & SIO\\_La\\_Jolla\\_Shores & SIO\\_South\\_Pier & 18/07/2020 18:35 & 146\\\\\n",
       "\\end{tabular}\n"
      ],
      "text/markdown": [
       "\n",
       "A data.frame: 2 × 14\n",
       "\n",
       "| <!--/--> | filename &lt;chr&gt; | ATTRIBUTE_Sample.Type &lt;chr&gt; | ATTRIBUTE_Batch &lt;int&gt; | ATTRIBUTE_Month &lt;chr&gt; | ATTRIBUTE_Year &lt;int&gt; | ATTRIBUTE_Sample_Location &lt;int&gt; | ATTRIBUTE_Replicate &lt;chr&gt; | ATTRIBUTE_Spot &lt;int&gt; | ATTRIBUTE_Latitude &lt;dbl&gt; | ATTRIBUTE_Longitude &lt;dbl&gt; | ATTRIBUTE_Sample_Area &lt;chr&gt; | ATTRIBUTE_Spot_Name &lt;chr&gt; | time_run &lt;chr&gt; | Injection_order &lt;int&gt; |\n",
       "|---|---|---|---|---|---|---|---|---|---|---|---|---|---|---|\n",
       "| 1 | SD_10_2018_10_a.mzXML | Sample | 3 | Oct | 2018 | 10 | a | 10 | 32.86261 | -117.2604 | SIO_La_Jolla_Shores | SIO_South_Pier | 18/07/2020 18:19 | 145 |\n",
       "| 2 | SD_10_2018_10_b.mzXML | Sample | 3 | Oct | 2018 | 10 | b | 10 | 32.86261 | -117.2604 | SIO_La_Jolla_Shores | SIO_South_Pier | 18/07/2020 18:35 | 146 |\n",
       "\n"
      ],
      "text/plain": [
       "  filename              ATTRIBUTE_Sample.Type ATTRIBUTE_Batch ATTRIBUTE_Month\n",
       "1 SD_10_2018_10_a.mzXML Sample                3               Oct            \n",
       "2 SD_10_2018_10_b.mzXML Sample                3               Oct            \n",
       "  ATTRIBUTE_Year ATTRIBUTE_Sample_Location ATTRIBUTE_Replicate ATTRIBUTE_Spot\n",
       "1 2018           10                        a                   10            \n",
       "2 2018           10                        b                   10            \n",
       "  ATTRIBUTE_Latitude ATTRIBUTE_Longitude ATTRIBUTE_Sample_Area\n",
       "1 32.86261           -117.2604           SIO_La_Jolla_Shores  \n",
       "2 32.86261           -117.2604           SIO_La_Jolla_Shores  \n",
       "  ATTRIBUTE_Spot_Name time_run         Injection_order\n",
       "1 SIO_South_Pier      18/07/2020 18:19 145            \n",
       "2 SIO_South_Pier      18/07/2020 18:35 146            "
      ]
     },
     "metadata": {},
     "output_type": "display_data"
    }
   ],
   "source": [
    "head(new_ft,2)\n",
    "head(new_md,2)"
   ]
  },
  {
   "cell_type": "code",
   "execution_count": 15,
   "id": "EJgWmXMUJ-JG",
   "metadata": {
    "executionInfo": {
     "elapsed": 239,
     "status": "ok",
     "timestamp": 1666552179877,
     "user": {
      "displayName": "Abzer Kelminal.P M",
      "userId": "16537922509430952288"
     },
     "user_tz": -120
    },
    "id": "EJgWmXMUJ-JG"
   },
   "outputs": [],
   "source": [
    "new_ft <- new_ft[,order(colnames(new_ft)),drop=F] #ordering the ft by its column names\n",
    "new_md <- new_md[order(new_md$filename),,drop=F] #ordering the md by the 1st column filename"
   ]
  },
  {
   "cell_type": "code",
   "execution_count": 16,
   "id": "yU8dVGu-J5i8",
   "metadata": {
    "colab": {
     "base_uri": "https://localhost:8080/",
     "height": 72
    },
    "executionInfo": {
     "elapsed": 636,
     "status": "ok",
     "timestamp": 1666552182735,
     "user": {
      "displayName": "Abzer Kelminal.P M",
      "userId": "16537922509430952288"
     },
     "user_tz": -120
    },
    "id": "yU8dVGu-J5i8",
    "outputId": "7b0f3dc8-0c89-42d8-c01b-21b1a70acc9e"
   },
   "outputs": [
    {
     "data": {
      "text/plain": [
       "\n",
       "TRUE \n",
       " 186 "
      ]
     },
     "metadata": {},
     "output_type": "display_data"
    }
   ],
   "source": [
    "# how many files in the metadata are also present in the feature table\n",
    "table(new_md$filename %in% colnames(new_ft))"
   ]
  },
  {
   "cell_type": "markdown",
   "id": "lkTQXYJieKfY",
   "metadata": {
    "id": "lkTQXYJieKfY"
   },
   "source": [
    "The output says that all 186 files are present in both new_md & new_ft. If the above line returns FALSE, it means few files are missing and we can get the names of the missing files by running the next cell. However, in our case, the next cell would return nothing. "
   ]
  },
  {
   "cell_type": "code",
   "execution_count": 17,
   "id": "fEgGpAZRJ81T",
   "metadata": {
    "colab": {
     "base_uri": "https://localhost:8080/",
     "height": 17
    },
    "executionInfo": {
     "elapsed": 275,
     "status": "ok",
     "timestamp": 1666529735494,
     "user": {
      "displayName": "Abzer Kelminal.P M",
      "userId": "16537922509430952288"
     },
     "user_tz": -120
    },
    "id": "fEgGpAZRJ81T",
    "outputId": "4dfbdf49-1a15-48a9-df79-bd2237c46c5b"
   },
   "outputs": [
    {
     "data": {
      "text/html": [],
      "text/latex": [],
      "text/markdown": [],
      "text/plain": [
       "character(0)"
      ]
     },
     "metadata": {},
     "output_type": "display_data"
    }
   ],
   "source": [
    "# which file names in the metadata are not in the feature table?\n",
    "setdiff(new_md$filename,colnames(new_ft))"
   ]
  },
  {
   "cell_type": "code",
   "execution_count": null,
   "id": "GebTWXXiKa8W",
   "metadata": {
    "executionInfo": {
     "elapsed": 235,
     "status": "ok",
     "timestamp": 1666529736940,
     "user": {
      "displayName": "Abzer Kelminal.P M",
      "userId": "16537922509430952288"
     },
     "user_tz": -120
    },
    "id": "GebTWXXiKa8W"
   },
   "outputs": [],
   "source": [
    "#To pick only the matching data:\n",
    "\n",
    "#new_md <- new_md[new_md$filename %in% colnames(new_ft),,drop=F] # picking only the rows in new_md that are present in the column names of new_ft\n",
    "#new_ft <- new_ft[,colnames(new_ft) %in% new_md$filename,drop=F] # picking only the columns in new_ft that are the same as the filenames in new_md"
   ]
  },
  {
   "cell_type": "code",
   "execution_count": 22,
   "id": "881877f6",
   "metadata": {
    "colab": {
     "base_uri": "https://localhost:8080/"
    },
    "executionInfo": {
     "elapsed": 207,
     "status": "ok",
     "timestamp": 1666529767629,
     "user": {
      "displayName": "Abzer Kelminal.P M",
      "userId": "16537922509430952288"
     },
     "user_tz": -120
    },
    "id": "881877f6",
    "outputId": "6cddc24b-bd37-484e-94b8-e5e7d8493c3f"
   },
   "outputs": [
    {
     "name": "stdout",
     "output_type": "stream",
     "text": [
      "The number of rows and columns in our original ft is: 11217 200 \n",
      "The number of rows and columns in our new ft is: 11217 186 \n",
      "The number of rows and columns in our new md is: 186 14"
     ]
    }
   ],
   "source": [
    "#checking the dimensions of our new ft and md:\n",
    "cat(\"The number of rows and columns in our original ft is:\",dim(ft),\"\\n\")\n",
    "cat(\"The number of rows and columns in our new ft is:\",dim(new_ft),\"\\n\")\n",
    "cat(\"The number of rows and columns in our new md is:\",dim(new_md))"
   ]
  },
  {
   "cell_type": "markdown",
   "id": "ed594448",
   "metadata": {
    "id": "ed594448"
   },
   "source": [
    "Notice that the number of columns of feature table is same as the number of rows in our metadata. Now, we have both our feature table and metadata in the same order."
   ]
  },
  {
   "cell_type": "markdown",
   "id": "e927cf45",
   "metadata": {
    "id": "e927cf45"
   },
   "source": [
    "Lets check the files once again!!"
   ]
  },
  {
   "cell_type": "code",
   "execution_count": 23,
   "id": "499d8a48",
   "metadata": {
    "colab": {
     "base_uri": "https://localhost:8080/",
     "height": 341
    },
    "executionInfo": {
     "elapsed": 236,
     "status": "ok",
     "timestamp": 1666552305138,
     "user": {
      "displayName": "Abzer Kelminal.P M",
      "userId": "16537922509430952288"
     },
     "user_tz": -120
    },
    "id": "499d8a48",
    "outputId": "1750d209-c3af-4e32-f4e3-745c177f9fc1"
   },
   "outputs": [
    {
     "data": {
      "text/html": [
       "<table class=\"dataframe\">\n",
       "<caption>A data.frame: 3 × 186</caption>\n",
       "<thead>\n",
       "\t<tr><th></th><th scope=col>SD_01-2018_1_a.mzXML</th><th scope=col>SD_01-2018_1_b.mzXML</th><th scope=col>SD_01-2018_10_a.mzXML</th><th scope=col>SD_01-2018_10_b.mzXML</th><th scope=col>SD_01-2018_11_a.mzXML</th><th scope=col>SD_01-2018_11_b.mzXML</th><th scope=col>SD_01-2018_12_a.mzXML</th><th scope=col>SD_01-2018_12_b.mzXML</th><th scope=col>SD_01-2018_13_a.mzXML</th><th scope=col>SD_01-2018_13_b.mzXML</th><th scope=col>⋯</th><th scope=col>SD_12-2017_6_a.mzXML</th><th scope=col>SD_12-2017_6_b.mzXML</th><th scope=col>SD_12-2017_7_a.mzXML</th><th scope=col>SD_12-2017_7_b.mzXML</th><th scope=col>SD_12-2017_8_a.mzXML</th><th scope=col>SD_12-2017_8_b.mzXML</th><th scope=col>SD_12-2017_9_a.mzXML</th><th scope=col>SD_12-2017_9_b.mzXML</th><th scope=col>SD_12-2017_PPL_Bl_1.mzXML</th><th scope=col>SD_12-2017_PPL_Bl_2.mzXML</th></tr>\n",
       "\t<tr><th></th><th scope=col>&lt;dbl&gt;</th><th scope=col>&lt;dbl&gt;</th><th scope=col>&lt;dbl&gt;</th><th scope=col>&lt;dbl&gt;</th><th scope=col>&lt;dbl&gt;</th><th scope=col>&lt;dbl&gt;</th><th scope=col>&lt;dbl&gt;</th><th scope=col>&lt;dbl&gt;</th><th scope=col>&lt;dbl&gt;</th><th scope=col>&lt;dbl&gt;</th><th scope=col>⋯</th><th scope=col>&lt;dbl&gt;</th><th scope=col>&lt;dbl&gt;</th><th scope=col>&lt;dbl&gt;</th><th scope=col>&lt;dbl&gt;</th><th scope=col>&lt;dbl&gt;</th><th scope=col>&lt;dbl&gt;</th><th scope=col>&lt;dbl&gt;</th><th scope=col>&lt;dbl&gt;</th><th scope=col>&lt;dbl&gt;</th><th scope=col>&lt;dbl&gt;</th></tr>\n",
       "</thead>\n",
       "<tbody>\n",
       "\t<tr><th scope=row>92572_151.035_13.364</th><td>      0</td><td>      0</td><td>      0</td><td>      0.0</td><td>      0</td><td>      0</td><td>      0</td><td>      0</td><td>      0.0</td><td>      0</td><td>⋯</td><td>      0</td><td>      0</td><td>      0</td><td>   1560.679</td><td>      0</td><td>      0</td><td>   3939.107</td><td>      0</td><td>   0.000</td><td>   0.000</td></tr>\n",
       "\t<tr><th scope=row>2513_151.035_1.13</th><td>      0</td><td>      0</td><td>      0</td><td> 156590.5</td><td>      0</td><td>      0</td><td>      0</td><td>      0</td><td>  22862.7</td><td>      0</td><td>⋯</td><td>      0</td><td>      0</td><td>      0</td><td>  11498.991</td><td>      0</td><td>      0</td><td>      0.000</td><td>      0</td><td>   0.000</td><td>   0.000</td></tr>\n",
       "\t<tr><th scope=row>42_151.035_0.551</th><td>2827136</td><td>3066569</td><td>2863941</td><td>3687233.2</td><td>2810288</td><td>2321774</td><td>3195918</td><td>2765739</td><td>4439634.5</td><td>3591493</td><td>⋯</td><td>1856002</td><td>1766485</td><td>1287449</td><td>1491507.400</td><td>1728245</td><td>1547097</td><td>1262372.800</td><td>1280963</td><td>4432.968</td><td>6813.541</td></tr>\n",
       "</tbody>\n",
       "</table>\n"
      ],
      "text/latex": [
       "A data.frame: 3 × 186\n",
       "\\begin{tabular}{r|lllllllllllllllllllll}\n",
       "  & SD\\_01-2018\\_1\\_a.mzXML & SD\\_01-2018\\_1\\_b.mzXML & SD\\_01-2018\\_10\\_a.mzXML & SD\\_01-2018\\_10\\_b.mzXML & SD\\_01-2018\\_11\\_a.mzXML & SD\\_01-2018\\_11\\_b.mzXML & SD\\_01-2018\\_12\\_a.mzXML & SD\\_01-2018\\_12\\_b.mzXML & SD\\_01-2018\\_13\\_a.mzXML & SD\\_01-2018\\_13\\_b.mzXML & ⋯ & SD\\_12-2017\\_6\\_a.mzXML & SD\\_12-2017\\_6\\_b.mzXML & SD\\_12-2017\\_7\\_a.mzXML & SD\\_12-2017\\_7\\_b.mzXML & SD\\_12-2017\\_8\\_a.mzXML & SD\\_12-2017\\_8\\_b.mzXML & SD\\_12-2017\\_9\\_a.mzXML & SD\\_12-2017\\_9\\_b.mzXML & SD\\_12-2017\\_PPL\\_Bl\\_1.mzXML & SD\\_12-2017\\_PPL\\_Bl\\_2.mzXML\\\\\n",
       "  & <dbl> & <dbl> & <dbl> & <dbl> & <dbl> & <dbl> & <dbl> & <dbl> & <dbl> & <dbl> & ⋯ & <dbl> & <dbl> & <dbl> & <dbl> & <dbl> & <dbl> & <dbl> & <dbl> & <dbl> & <dbl>\\\\\n",
       "\\hline\n",
       "\t92572\\_151.035\\_13.364 &       0 &       0 &       0 &       0.0 &       0 &       0 &       0 &       0 &       0.0 &       0 & ⋯ &       0 &       0 &       0 &    1560.679 &       0 &       0 &    3939.107 &       0 &    0.000 &    0.000\\\\\n",
       "\t2513\\_151.035\\_1.13 &       0 &       0 &       0 &  156590.5 &       0 &       0 &       0 &       0 &   22862.7 &       0 & ⋯ &       0 &       0 &       0 &   11498.991 &       0 &       0 &       0.000 &       0 &    0.000 &    0.000\\\\\n",
       "\t42\\_151.035\\_0.551 & 2827136 & 3066569 & 2863941 & 3687233.2 & 2810288 & 2321774 & 3195918 & 2765739 & 4439634.5 & 3591493 & ⋯ & 1856002 & 1766485 & 1287449 & 1491507.400 & 1728245 & 1547097 & 1262372.800 & 1280963 & 4432.968 & 6813.541\\\\\n",
       "\\end{tabular}\n"
      ],
      "text/markdown": [
       "\n",
       "A data.frame: 3 × 186\n",
       "\n",
       "| <!--/--> | SD_01-2018_1_a.mzXML &lt;dbl&gt; | SD_01-2018_1_b.mzXML &lt;dbl&gt; | SD_01-2018_10_a.mzXML &lt;dbl&gt; | SD_01-2018_10_b.mzXML &lt;dbl&gt; | SD_01-2018_11_a.mzXML &lt;dbl&gt; | SD_01-2018_11_b.mzXML &lt;dbl&gt; | SD_01-2018_12_a.mzXML &lt;dbl&gt; | SD_01-2018_12_b.mzXML &lt;dbl&gt; | SD_01-2018_13_a.mzXML &lt;dbl&gt; | SD_01-2018_13_b.mzXML &lt;dbl&gt; | ⋯ ⋯ | SD_12-2017_6_a.mzXML &lt;dbl&gt; | SD_12-2017_6_b.mzXML &lt;dbl&gt; | SD_12-2017_7_a.mzXML &lt;dbl&gt; | SD_12-2017_7_b.mzXML &lt;dbl&gt; | SD_12-2017_8_a.mzXML &lt;dbl&gt; | SD_12-2017_8_b.mzXML &lt;dbl&gt; | SD_12-2017_9_a.mzXML &lt;dbl&gt; | SD_12-2017_9_b.mzXML &lt;dbl&gt; | SD_12-2017_PPL_Bl_1.mzXML &lt;dbl&gt; | SD_12-2017_PPL_Bl_2.mzXML &lt;dbl&gt; |\n",
       "|---|---|---|---|---|---|---|---|---|---|---|---|---|---|---|---|---|---|---|---|---|---|\n",
       "| 92572_151.035_13.364 |       0 |       0 |       0 |       0.0 |       0 |       0 |       0 |       0 |       0.0 |       0 | ⋯ |       0 |       0 |       0 |    1560.679 |       0 |       0 |    3939.107 |       0 |    0.000 |    0.000 |\n",
       "| 2513_151.035_1.13 |       0 |       0 |       0 |  156590.5 |       0 |       0 |       0 |       0 |   22862.7 |       0 | ⋯ |       0 |       0 |       0 |   11498.991 |       0 |       0 |       0.000 |       0 |    0.000 |    0.000 |\n",
       "| 42_151.035_0.551 | 2827136 | 3066569 | 2863941 | 3687233.2 | 2810288 | 2321774 | 3195918 | 2765739 | 4439634.5 | 3591493 | ⋯ | 1856002 | 1766485 | 1287449 | 1491507.400 | 1728245 | 1547097 | 1262372.800 | 1280963 | 4432.968 | 6813.541 |\n",
       "\n"
      ],
      "text/plain": [
       "                     SD_01-2018_1_a.mzXML SD_01-2018_1_b.mzXML\n",
       "92572_151.035_13.364       0                    0             \n",
       "2513_151.035_1.13          0                    0             \n",
       "42_151.035_0.551     2827136              3066569             \n",
       "                     SD_01-2018_10_a.mzXML SD_01-2018_10_b.mzXML\n",
       "92572_151.035_13.364       0                     0.0            \n",
       "2513_151.035_1.13          0                156590.5            \n",
       "42_151.035_0.551     2863941               3687233.2            \n",
       "                     SD_01-2018_11_a.mzXML SD_01-2018_11_b.mzXML\n",
       "92572_151.035_13.364       0                     0              \n",
       "2513_151.035_1.13          0                     0              \n",
       "42_151.035_0.551     2810288               2321774              \n",
       "                     SD_01-2018_12_a.mzXML SD_01-2018_12_b.mzXML\n",
       "92572_151.035_13.364       0                     0              \n",
       "2513_151.035_1.13          0                     0              \n",
       "42_151.035_0.551     3195918               2765739              \n",
       "                     SD_01-2018_13_a.mzXML SD_01-2018_13_b.mzXML ⋯\n",
       "92572_151.035_13.364       0.0                   0               ⋯\n",
       "2513_151.035_1.13      22862.7                   0               ⋯\n",
       "42_151.035_0.551     4439634.5             3591493               ⋯\n",
       "                     SD_12-2017_6_a.mzXML SD_12-2017_6_b.mzXML\n",
       "92572_151.035_13.364       0                    0             \n",
       "2513_151.035_1.13          0                    0             \n",
       "42_151.035_0.551     1856002              1766485             \n",
       "                     SD_12-2017_7_a.mzXML SD_12-2017_7_b.mzXML\n",
       "92572_151.035_13.364       0                 1560.679         \n",
       "2513_151.035_1.13          0                11498.991         \n",
       "42_151.035_0.551     1287449              1491507.400         \n",
       "                     SD_12-2017_8_a.mzXML SD_12-2017_8_b.mzXML\n",
       "92572_151.035_13.364       0                    0             \n",
       "2513_151.035_1.13          0                    0             \n",
       "42_151.035_0.551     1728245              1547097             \n",
       "                     SD_12-2017_9_a.mzXML SD_12-2017_9_b.mzXML\n",
       "92572_151.035_13.364    3939.107                0             \n",
       "2513_151.035_1.13          0.000                0             \n",
       "42_151.035_0.551     1262372.800          1280963             \n",
       "                     SD_12-2017_PPL_Bl_1.mzXML SD_12-2017_PPL_Bl_2.mzXML\n",
       "92572_151.035_13.364    0.000                     0.000                 \n",
       "2513_151.035_1.13       0.000                     0.000                 \n",
       "42_151.035_0.551     4432.968                  6813.541                 "
      ]
     },
     "metadata": {},
     "output_type": "display_data"
    },
    {
     "data": {
      "text/html": [
       "<style>\n",
       ".list-inline {list-style: none; margin:0; padding: 0}\n",
       ".list-inline>li {display: inline-block}\n",
       ".list-inline>li:not(:last-child)::after {content: \"\\00b7\"; padding: 0 .5ex}\n",
       "</style>\n",
       "<ol class=list-inline><li>11217</li><li>186</li></ol>\n"
      ],
      "text/latex": [
       "\\begin{enumerate*}\n",
       "\\item 11217\n",
       "\\item 186\n",
       "\\end{enumerate*}\n"
      ],
      "text/markdown": [
       "1. 11217\n",
       "2. 186\n",
       "\n",
       "\n"
      ],
      "text/plain": [
       "[1] 11217   186"
      ]
     },
     "metadata": {},
     "output_type": "display_data"
    }
   ],
   "source": [
    "head(new_ft,3)\n",
    "dim(new_ft)"
   ]
  },
  {
   "cell_type": "code",
   "execution_count": 24,
   "id": "6027aea7",
   "metadata": {
    "colab": {
     "base_uri": "https://localhost:8080/",
     "height": 303
    },
    "executionInfo": {
     "elapsed": 241,
     "status": "ok",
     "timestamp": 1666552307141,
     "user": {
      "displayName": "Abzer Kelminal.P M",
      "userId": "16537922509430952288"
     },
     "user_tz": -120
    },
    "id": "6027aea7",
    "outputId": "f1cff8c6-61ed-438a-9927-2a9d702ad46b"
   },
   "outputs": [
    {
     "data": {
      "text/html": [
       "<table class=\"dataframe\">\n",
       "<caption>A data.frame: 3 × 14</caption>\n",
       "<thead>\n",
       "\t<tr><th></th><th scope=col>filename</th><th scope=col>ATTRIBUTE_Sample.Type</th><th scope=col>ATTRIBUTE_Batch</th><th scope=col>ATTRIBUTE_Month</th><th scope=col>ATTRIBUTE_Year</th><th scope=col>ATTRIBUTE_Sample_Location</th><th scope=col>ATTRIBUTE_Replicate</th><th scope=col>ATTRIBUTE_Spot</th><th scope=col>ATTRIBUTE_Latitude</th><th scope=col>ATTRIBUTE_Longitude</th><th scope=col>ATTRIBUTE_Sample_Area</th><th scope=col>ATTRIBUTE_Spot_Name</th><th scope=col>time_run</th><th scope=col>Injection_order</th></tr>\n",
       "\t<tr><th></th><th scope=col>&lt;chr&gt;</th><th scope=col>&lt;chr&gt;</th><th scope=col>&lt;int&gt;</th><th scope=col>&lt;chr&gt;</th><th scope=col>&lt;int&gt;</th><th scope=col>&lt;int&gt;</th><th scope=col>&lt;chr&gt;</th><th scope=col>&lt;int&gt;</th><th scope=col>&lt;dbl&gt;</th><th scope=col>&lt;dbl&gt;</th><th scope=col>&lt;chr&gt;</th><th scope=col>&lt;chr&gt;</th><th scope=col>&lt;chr&gt;</th><th scope=col>&lt;int&gt;</th></tr>\n",
       "</thead>\n",
       "<tbody>\n",
       "\t<tr><th scope=row>147</th><td>SD_01-2018_1_a.mzXML </td><td>Sample</td><td>2</td><td>Jan</td><td>2018</td><td> 1</td><td>a</td><td> 1</td><td>32.93365</td><td>-117.2648</td><td>Torrey_Pines       </td><td>Lagoon_Outlet </td><td>16/01/2018 11:36</td><td>65</td></tr>\n",
       "\t<tr><th scope=row>148</th><td>SD_01-2018_1_b.mzXML </td><td>Sample</td><td>2</td><td>Jan</td><td>2018</td><td> 1</td><td>b</td><td> 1</td><td>32.93365</td><td>-117.2648</td><td>Torrey_Pines       </td><td>Lagoon_Outlet </td><td>16/01/2018 11:52</td><td>66</td></tr>\n",
       "\t<tr><th scope=row>127</th><td>SD_01-2018_10_a.mzXML</td><td>Sample</td><td>2</td><td>Jan</td><td>2018</td><td>10</td><td>a</td><td>10</td><td>32.86261</td><td>-117.2604</td><td>SIO_La_Jolla_Shores</td><td>SIO_South_Pier</td><td>16/01/2018 16:23</td><td>83</td></tr>\n",
       "</tbody>\n",
       "</table>\n"
      ],
      "text/latex": [
       "A data.frame: 3 × 14\n",
       "\\begin{tabular}{r|llllllllllllll}\n",
       "  & filename & ATTRIBUTE\\_Sample.Type & ATTRIBUTE\\_Batch & ATTRIBUTE\\_Month & ATTRIBUTE\\_Year & ATTRIBUTE\\_Sample\\_Location & ATTRIBUTE\\_Replicate & ATTRIBUTE\\_Spot & ATTRIBUTE\\_Latitude & ATTRIBUTE\\_Longitude & ATTRIBUTE\\_Sample\\_Area & ATTRIBUTE\\_Spot\\_Name & time\\_run & Injection\\_order\\\\\n",
       "  & <chr> & <chr> & <int> & <chr> & <int> & <int> & <chr> & <int> & <dbl> & <dbl> & <chr> & <chr> & <chr> & <int>\\\\\n",
       "\\hline\n",
       "\t147 & SD\\_01-2018\\_1\\_a.mzXML  & Sample & 2 & Jan & 2018 &  1 & a &  1 & 32.93365 & -117.2648 & Torrey\\_Pines        & Lagoon\\_Outlet  & 16/01/2018 11:36 & 65\\\\\n",
       "\t148 & SD\\_01-2018\\_1\\_b.mzXML  & Sample & 2 & Jan & 2018 &  1 & b &  1 & 32.93365 & -117.2648 & Torrey\\_Pines        & Lagoon\\_Outlet  & 16/01/2018 11:52 & 66\\\\\n",
       "\t127 & SD\\_01-2018\\_10\\_a.mzXML & Sample & 2 & Jan & 2018 & 10 & a & 10 & 32.86261 & -117.2604 & SIO\\_La\\_Jolla\\_Shores & SIO\\_South\\_Pier & 16/01/2018 16:23 & 83\\\\\n",
       "\\end{tabular}\n"
      ],
      "text/markdown": [
       "\n",
       "A data.frame: 3 × 14\n",
       "\n",
       "| <!--/--> | filename &lt;chr&gt; | ATTRIBUTE_Sample.Type &lt;chr&gt; | ATTRIBUTE_Batch &lt;int&gt; | ATTRIBUTE_Month &lt;chr&gt; | ATTRIBUTE_Year &lt;int&gt; | ATTRIBUTE_Sample_Location &lt;int&gt; | ATTRIBUTE_Replicate &lt;chr&gt; | ATTRIBUTE_Spot &lt;int&gt; | ATTRIBUTE_Latitude &lt;dbl&gt; | ATTRIBUTE_Longitude &lt;dbl&gt; | ATTRIBUTE_Sample_Area &lt;chr&gt; | ATTRIBUTE_Spot_Name &lt;chr&gt; | time_run &lt;chr&gt; | Injection_order &lt;int&gt; |\n",
       "|---|---|---|---|---|---|---|---|---|---|---|---|---|---|---|\n",
       "| 147 | SD_01-2018_1_a.mzXML  | Sample | 2 | Jan | 2018 |  1 | a |  1 | 32.93365 | -117.2648 | Torrey_Pines        | Lagoon_Outlet  | 16/01/2018 11:36 | 65 |\n",
       "| 148 | SD_01-2018_1_b.mzXML  | Sample | 2 | Jan | 2018 |  1 | b |  1 | 32.93365 | -117.2648 | Torrey_Pines        | Lagoon_Outlet  | 16/01/2018 11:52 | 66 |\n",
       "| 127 | SD_01-2018_10_a.mzXML | Sample | 2 | Jan | 2018 | 10 | a | 10 | 32.86261 | -117.2604 | SIO_La_Jolla_Shores | SIO_South_Pier | 16/01/2018 16:23 | 83 |\n",
       "\n"
      ],
      "text/plain": [
       "    filename              ATTRIBUTE_Sample.Type ATTRIBUTE_Batch ATTRIBUTE_Month\n",
       "147 SD_01-2018_1_a.mzXML  Sample                2               Jan            \n",
       "148 SD_01-2018_1_b.mzXML  Sample                2               Jan            \n",
       "127 SD_01-2018_10_a.mzXML Sample                2               Jan            \n",
       "    ATTRIBUTE_Year ATTRIBUTE_Sample_Location ATTRIBUTE_Replicate ATTRIBUTE_Spot\n",
       "147 2018            1                        a                    1            \n",
       "148 2018            1                        b                    1            \n",
       "127 2018           10                        a                   10            \n",
       "    ATTRIBUTE_Latitude ATTRIBUTE_Longitude ATTRIBUTE_Sample_Area\n",
       "147 32.93365           -117.2648           Torrey_Pines         \n",
       "148 32.93365           -117.2648           Torrey_Pines         \n",
       "127 32.86261           -117.2604           SIO_La_Jolla_Shores  \n",
       "    ATTRIBUTE_Spot_Name time_run         Injection_order\n",
       "147 Lagoon_Outlet       16/01/2018 11:36 65             \n",
       "148 Lagoon_Outlet       16/01/2018 11:52 66             \n",
       "127 SIO_South_Pier      16/01/2018 16:23 83             "
      ]
     },
     "metadata": {},
     "output_type": "display_data"
    },
    {
     "data": {
      "text/html": [
       "<style>\n",
       ".list-inline {list-style: none; margin:0; padding: 0}\n",
       ".list-inline>li {display: inline-block}\n",
       ".list-inline>li:not(:last-child)::after {content: \"\\00b7\"; padding: 0 .5ex}\n",
       "</style>\n",
       "<ol class=list-inline><li>186</li><li>14</li></ol>\n"
      ],
      "text/latex": [
       "\\begin{enumerate*}\n",
       "\\item 186\n",
       "\\item 14\n",
       "\\end{enumerate*}\n"
      ],
      "text/markdown": [
       "1. 186\n",
       "2. 14\n",
       "\n",
       "\n"
      ],
      "text/plain": [
       "[1] 186  14"
      ]
     },
     "metadata": {},
     "output_type": "display_data"
    }
   ],
   "source": [
    "head(new_md,3)\n",
    "dim(new_md)"
   ]
  },
  {
   "cell_type": "markdown",
   "id": "3702b86a",
   "metadata": {},
   "source": [
    "# Batch Correction:\n",
    "To be edited:\n",
    "Both the batch corrections is not valid for our provided dataset. \n",
    "\n",
    "With this dataset, Petras et al., assessed the chemical impacts of a major rain event in northern San Diego, California (USA) in Winter 2017/2018.\n",
    "\n",
    "1. Inter-batch Correction\n",
    "2. Intra-batch Correction"
   ]
  },
  {
   "cell_type": "markdown",
   "id": "b4687350",
   "metadata": {},
   "source": [
    "### I. Steps involved in inter-batch correction:\n",
    "1. Calculate the <b>overall mean</b> of each feature \n",
    "2. Calculate the mean of each feature for each batch &rarr; <b>Batch Mean</b>\n",
    "3. The feature intensities in each batch are then divided by the <b>batch mean</b> and multiplied by the <b>overall mean</b>.\n",
    "\n",
    "### II. Steps involved in intra-batch correction:\n"
   ]
  },
  {
   "cell_type": "markdown",
   "id": "790b6693",
   "metadata": {},
   "source": [
    "Note that for our samples inter-batch correction is not necessary. "
   ]
  },
  {
   "cell_type": "code",
   "execution_count": 31,
   "id": "8436b5ae",
   "metadata": {},
   "outputs": [],
   "source": [
    "ft_t <- as.data.frame(t(new_ft)) # transposing the new ft so that the rownames of ft_t and rownames of new_md will be the same\n",
    "ft_t <- ft_t %>%\n",
    "        mutate_all(as.numeric)  #converting all values to numeric\n",
    "        #mutate(filename=rownames(ft_t)) %>% #adding a column filename with the rownames of ft_t\n",
    "        #select(filename, everything()) #positioning filename as 1st column"
   ]
  },
  {
   "cell_type": "code",
   "execution_count": 33,
   "id": "73ee5ab7",
   "metadata": {},
   "outputs": [
    {
     "data": {
      "text/html": [
       "<table class=\"dataframe\">\n",
       "<caption>A data.frame: 3 × 11217</caption>\n",
       "<thead>\n",
       "\t<tr><th></th><th scope=col>92572_151.035_13.364</th><th scope=col>2513_151.035_1.13</th><th scope=col>42_151.035_0.551</th><th scope=col>1870_151.035_0.887</th><th scope=col>2127_151.096_0.986</th><th scope=col>86368_151.098_11.096</th><th scope=col>90458_151.098_12.344</th><th scope=col>88889_151.098_11.826</th><th scope=col>87841_151.098_11.55</th><th scope=col>1653_152.057_0.847</th><th scope=col>⋯</th><th scope=col>88116_1444.398_11.482</th><th scope=col>89487_1444.398_12.017</th><th scope=col>86967_1444.398_11.216</th><th scope=col>90591_1444.399_12.387</th><th scope=col>91218_1444.399_12.614</th><th scope=col>92162_1444.399_12.973</th><th scope=col>88518_1444.399_11.718</th><th scope=col>88057_1445.398_11.541</th><th scope=col>89348_1445.398_11.988</th><th scope=col>91876_1445.399_12.863</th></tr>\n",
       "\t<tr><th></th><th scope=col>&lt;dbl&gt;</th><th scope=col>&lt;dbl&gt;</th><th scope=col>&lt;dbl&gt;</th><th scope=col>&lt;dbl&gt;</th><th scope=col>&lt;dbl&gt;</th><th scope=col>&lt;dbl&gt;</th><th scope=col>&lt;dbl&gt;</th><th scope=col>&lt;dbl&gt;</th><th scope=col>&lt;dbl&gt;</th><th scope=col>&lt;dbl&gt;</th><th scope=col>⋯</th><th scope=col>&lt;dbl&gt;</th><th scope=col>&lt;dbl&gt;</th><th scope=col>&lt;dbl&gt;</th><th scope=col>&lt;dbl&gt;</th><th scope=col>&lt;dbl&gt;</th><th scope=col>&lt;dbl&gt;</th><th scope=col>&lt;dbl&gt;</th><th scope=col>&lt;dbl&gt;</th><th scope=col>&lt;dbl&gt;</th><th scope=col>&lt;dbl&gt;</th></tr>\n",
       "</thead>\n",
       "<tbody>\n",
       "\t<tr><th scope=row>SD_01-2018_1_a.mzXML</th><td>0</td><td>0</td><td>2827136</td><td> 64247.68</td><td>   0.000</td><td>0</td><td>0</td><td>0</td><td>0</td><td>   0.000</td><td>⋯</td><td> 22355.824</td><td>  81129.42</td><td> 9451.771</td><td> 57114.74</td><td> 33504.23</td><td>   0.000</td><td> 20393.60</td><td> 12523.67</td><td> 21131.930</td><td>  4865.259</td></tr>\n",
       "\t<tr><th scope=row>SD_01-2018_1_b.mzXML</th><td>0</td><td>0</td><td>3066569</td><td> 67403.99</td><td>5057.914</td><td>0</td><td>0</td><td>0</td><td>0</td><td>   0.000</td><td>⋯</td><td>  5870.526</td><td>  24207.17</td><td>    0.000</td><td> 29632.88</td><td> 28452.48</td><td>5834.431</td><td> 13967.27</td><td> 11848.81</td><td>  8412.412</td><td>  3065.691</td></tr>\n",
       "\t<tr><th scope=row>SD_01-2018_10_a.mzXML</th><td>0</td><td>0</td><td>2863941</td><td>201483.19</td><td>4317.684</td><td>0</td><td>0</td><td>0</td><td>0</td><td>5206.803</td><td>⋯</td><td>317439.000</td><td>1123902.40</td><td>74504.555</td><td>134384.03</td><td>762986.30</td><td>   0.000</td><td>157763.02</td><td>130236.70</td><td>124595.060</td><td>138897.280</td></tr>\n",
       "</tbody>\n",
       "</table>\n"
      ],
      "text/latex": [
       "A data.frame: 3 × 11217\n",
       "\\begin{tabular}{r|lllllllllllllllllllll}\n",
       "  & 92572\\_151.035\\_13.364 & 2513\\_151.035\\_1.13 & 42\\_151.035\\_0.551 & 1870\\_151.035\\_0.887 & 2127\\_151.096\\_0.986 & 86368\\_151.098\\_11.096 & 90458\\_151.098\\_12.344 & 88889\\_151.098\\_11.826 & 87841\\_151.098\\_11.55 & 1653\\_152.057\\_0.847 & ⋯ & 88116\\_1444.398\\_11.482 & 89487\\_1444.398\\_12.017 & 86967\\_1444.398\\_11.216 & 90591\\_1444.399\\_12.387 & 91218\\_1444.399\\_12.614 & 92162\\_1444.399\\_12.973 & 88518\\_1444.399\\_11.718 & 88057\\_1445.398\\_11.541 & 89348\\_1445.398\\_11.988 & 91876\\_1445.399\\_12.863\\\\\n",
       "  & <dbl> & <dbl> & <dbl> & <dbl> & <dbl> & <dbl> & <dbl> & <dbl> & <dbl> & <dbl> & ⋯ & <dbl> & <dbl> & <dbl> & <dbl> & <dbl> & <dbl> & <dbl> & <dbl> & <dbl> & <dbl>\\\\\n",
       "\\hline\n",
       "\tSD\\_01-2018\\_1\\_a.mzXML & 0 & 0 & 2827136 &  64247.68 &    0.000 & 0 & 0 & 0 & 0 &    0.000 & ⋯ &  22355.824 &   81129.42 &  9451.771 &  57114.74 &  33504.23 &    0.000 &  20393.60 &  12523.67 &  21131.930 &   4865.259\\\\\n",
       "\tSD\\_01-2018\\_1\\_b.mzXML & 0 & 0 & 3066569 &  67403.99 & 5057.914 & 0 & 0 & 0 & 0 &    0.000 & ⋯ &   5870.526 &   24207.17 &     0.000 &  29632.88 &  28452.48 & 5834.431 &  13967.27 &  11848.81 &   8412.412 &   3065.691\\\\\n",
       "\tSD\\_01-2018\\_10\\_a.mzXML & 0 & 0 & 2863941 & 201483.19 & 4317.684 & 0 & 0 & 0 & 0 & 5206.803 & ⋯ & 317439.000 & 1123902.40 & 74504.555 & 134384.03 & 762986.30 &    0.000 & 157763.02 & 130236.70 & 124595.060 & 138897.280\\\\\n",
       "\\end{tabular}\n"
      ],
      "text/markdown": [
       "\n",
       "A data.frame: 3 × 11217\n",
       "\n",
       "| <!--/--> | 92572_151.035_13.364 &lt;dbl&gt; | 2513_151.035_1.13 &lt;dbl&gt; | 42_151.035_0.551 &lt;dbl&gt; | 1870_151.035_0.887 &lt;dbl&gt; | 2127_151.096_0.986 &lt;dbl&gt; | 86368_151.098_11.096 &lt;dbl&gt; | 90458_151.098_12.344 &lt;dbl&gt; | 88889_151.098_11.826 &lt;dbl&gt; | 87841_151.098_11.55 &lt;dbl&gt; | 1653_152.057_0.847 &lt;dbl&gt; | ⋯ ⋯ | 88116_1444.398_11.482 &lt;dbl&gt; | 89487_1444.398_12.017 &lt;dbl&gt; | 86967_1444.398_11.216 &lt;dbl&gt; | 90591_1444.399_12.387 &lt;dbl&gt; | 91218_1444.399_12.614 &lt;dbl&gt; | 92162_1444.399_12.973 &lt;dbl&gt; | 88518_1444.399_11.718 &lt;dbl&gt; | 88057_1445.398_11.541 &lt;dbl&gt; | 89348_1445.398_11.988 &lt;dbl&gt; | 91876_1445.399_12.863 &lt;dbl&gt; |\n",
       "|---|---|---|---|---|---|---|---|---|---|---|---|---|---|---|---|---|---|---|---|---|---|\n",
       "| SD_01-2018_1_a.mzXML | 0 | 0 | 2827136 |  64247.68 |    0.000 | 0 | 0 | 0 | 0 |    0.000 | ⋯ |  22355.824 |   81129.42 |  9451.771 |  57114.74 |  33504.23 |    0.000 |  20393.60 |  12523.67 |  21131.930 |   4865.259 |\n",
       "| SD_01-2018_1_b.mzXML | 0 | 0 | 3066569 |  67403.99 | 5057.914 | 0 | 0 | 0 | 0 |    0.000 | ⋯ |   5870.526 |   24207.17 |     0.000 |  29632.88 |  28452.48 | 5834.431 |  13967.27 |  11848.81 |   8412.412 |   3065.691 |\n",
       "| SD_01-2018_10_a.mzXML | 0 | 0 | 2863941 | 201483.19 | 4317.684 | 0 | 0 | 0 | 0 | 5206.803 | ⋯ | 317439.000 | 1123902.40 | 74504.555 | 134384.03 | 762986.30 |    0.000 | 157763.02 | 130236.70 | 124595.060 | 138897.280 |\n",
       "\n"
      ],
      "text/plain": [
       "                      92572_151.035_13.364 2513_151.035_1.13 42_151.035_0.551\n",
       "SD_01-2018_1_a.mzXML  0                    0                 2827136         \n",
       "SD_01-2018_1_b.mzXML  0                    0                 3066569         \n",
       "SD_01-2018_10_a.mzXML 0                    0                 2863941         \n",
       "                      1870_151.035_0.887 2127_151.096_0.986\n",
       "SD_01-2018_1_a.mzXML   64247.68             0.000          \n",
       "SD_01-2018_1_b.mzXML   67403.99          5057.914          \n",
       "SD_01-2018_10_a.mzXML 201483.19          4317.684          \n",
       "                      86368_151.098_11.096 90458_151.098_12.344\n",
       "SD_01-2018_1_a.mzXML  0                    0                   \n",
       "SD_01-2018_1_b.mzXML  0                    0                   \n",
       "SD_01-2018_10_a.mzXML 0                    0                   \n",
       "                      88889_151.098_11.826 87841_151.098_11.55\n",
       "SD_01-2018_1_a.mzXML  0                    0                  \n",
       "SD_01-2018_1_b.mzXML  0                    0                  \n",
       "SD_01-2018_10_a.mzXML 0                    0                  \n",
       "                      1653_152.057_0.847 ⋯ 88116_1444.398_11.482\n",
       "SD_01-2018_1_a.mzXML     0.000           ⋯  22355.824           \n",
       "SD_01-2018_1_b.mzXML     0.000           ⋯   5870.526           \n",
       "SD_01-2018_10_a.mzXML 5206.803           ⋯ 317439.000           \n",
       "                      89487_1444.398_12.017 86967_1444.398_11.216\n",
       "SD_01-2018_1_a.mzXML    81129.42             9451.771            \n",
       "SD_01-2018_1_b.mzXML    24207.17                0.000            \n",
       "SD_01-2018_10_a.mzXML 1123902.40            74504.555            \n",
       "                      90591_1444.399_12.387 91218_1444.399_12.614\n",
       "SD_01-2018_1_a.mzXML   57114.74              33504.23            \n",
       "SD_01-2018_1_b.mzXML   29632.88              28452.48            \n",
       "SD_01-2018_10_a.mzXML 134384.03             762986.30            \n",
       "                      92162_1444.399_12.973 88518_1444.399_11.718\n",
       "SD_01-2018_1_a.mzXML     0.000               20393.60            \n",
       "SD_01-2018_1_b.mzXML  5834.431               13967.27            \n",
       "SD_01-2018_10_a.mzXML    0.000              157763.02            \n",
       "                      88057_1445.398_11.541 89348_1445.398_11.988\n",
       "SD_01-2018_1_a.mzXML   12523.67              21131.930           \n",
       "SD_01-2018_1_b.mzXML   11848.81               8412.412           \n",
       "SD_01-2018_10_a.mzXML 130236.70             124595.060           \n",
       "                      91876_1445.399_12.863\n",
       "SD_01-2018_1_a.mzXML    4865.259           \n",
       "SD_01-2018_1_b.mzXML    3065.691           \n",
       "SD_01-2018_10_a.mzXML 138897.280           "
      ]
     },
     "metadata": {},
     "output_type": "display_data"
    },
    {
     "data": {
      "text/html": [
       "TRUE"
      ],
      "text/latex": [
       "TRUE"
      ],
      "text/markdown": [
       "TRUE"
      ],
      "text/plain": [
       "[1] TRUE"
      ]
     },
     "metadata": {},
     "output_type": "display_data"
    }
   ],
   "source": [
    "head(ft_t, n=3)\n",
    "identical(new_md$filename,rownames(ft_t)) #should return TRUE now"
   ]
  },
  {
   "cell_type": "markdown",
   "id": "4f45b589",
   "metadata": {
    "id": "4f45b589"
   },
   "source": [
    "# Splitting the data into Blanks and Samples using Metadata:\n",
    "<a id=\"data_split\"></a>\n",
    "\n",
    "For the first step: Blank removal, we need to split the data as spectra obtained from blanks and samples respectively using the metadata. More about Blank removal in the next section."
   ]
  },
  {
   "cell_type": "code",
   "execution_count": 25,
   "id": "bad9deff-ec2d-4ea6-a60d-079364afbfb9",
   "metadata": {
    "colab": {
     "base_uri": "https://localhost:8080/",
     "height": 192
    },
    "executionInfo": {
     "elapsed": 210,
     "status": "ok",
     "timestamp": 1666552329242,
     "user": {
      "displayName": "Abzer Kelminal.P M",
      "userId": "16537922509430952288"
     },
     "user_tz": -120
    },
    "id": "bad9deff-ec2d-4ea6-a60d-079364afbfb9",
    "outputId": "3c2646f0-f47f-4ec3-d65d-e3bf05657c07"
   },
   "outputs": [
    {
     "data": {
      "text/html": [
       "<table class=\"dataframe\">\n",
       "<caption>A data.frame: 11 × 5</caption>\n",
       "<thead>\n",
       "\t<tr><th scope=col>INDEX</th><th scope=col>ATTRIBUTES</th><th scope=col>LEVELS</th><th scope=col>COUNT</th><th scope=col>ATTRIBUTE_CLASS</th></tr>\n",
       "\t<tr><th scope=col>&lt;int&gt;</th><th scope=col>&lt;chr&gt;</th><th scope=col>&lt;chr&gt;</th><th scope=col>&lt;chr&gt;</th><th scope=col>&lt;chr&gt;</th></tr>\n",
       "</thead>\n",
       "<tbody>\n",
       "\t<tr><td> 1</td><td>ATTRIBUTE_Sample.Type    </td><td>Blank, Sample                                                                                                                                                                                                                                                                                             </td><td>6, 180                                                                                     </td><td>character</td></tr>\n",
       "\t<tr><td> 2</td><td>ATTRIBUTE_Batch          </td><td>1, 2, 3                                                                                                                                                                                                                                                                                                   </td><td>62, 62, 62                                                                                 </td><td>integer  </td></tr>\n",
       "\t<tr><td> 3</td><td>ATTRIBUTE_Month          </td><td>Dec, Jan, Oct                                                                                                                                                                                                                                                                                             </td><td>62, 62, 62                                                                                 </td><td>character</td></tr>\n",
       "\t<tr><td> 4</td><td>ATTRIBUTE_Year           </td><td>2017, 2018                                                                                                                                                                                                                                                                                                </td><td>62, 124                                                                                    </td><td>integer  </td></tr>\n",
       "\t<tr><td> 5</td><td>ATTRIBUTE_Sample_Location</td><td>0, 1, 2, 3, 4, 5, 6, 7, 8, 9, 10, 11, 12, 13, 14, 15, 16, 17, 18, 19, 20, 21, 22, 23, 24, 25, 26, 27, 28, 29, 30                                                                                                                                                                                          </td><td>6, 6, 6, 6, 6, 6, 6, 6, 6, 6, 6, 6, 6, 6, 6, 6, 6, 6, 6, 6, 6, 6, 6, 6, 6, 6, 6, 6, 6, 6, 6</td><td>integer  </td></tr>\n",
       "\t<tr><td> 6</td><td>ATTRIBUTE_Replicate      </td><td>a, b                                                                                                                                                                                                                                                                                                      </td><td>93, 93                                                                                     </td><td>character</td></tr>\n",
       "\t<tr><td> 7</td><td>ATTRIBUTE_Spot           </td><td>0, 1, 2, 3, 4, 5, 6, 7, 8, 9, 10, 11, 12, 13, 14, 15, 16, 17, 18, 19, 20, 21, 22, 23, 24, 25, 26, 27, 28, 29, 30                                                                                                                                                                                          </td><td>6, 6, 6, 6, 6, 6, 6, 6, 6, 6, 6, 6, 6, 6, 6, 6, 6, 6, 6, 6, 6, 6, 6, 6, 6, 6, 6, 6, 6, 6, 6</td><td>integer  </td></tr>\n",
       "\t<tr><td> 8</td><td>ATTRIBUTE_Latitude       </td><td>1, 2, 3, 4, 5, 6, 7, 8, 9, 10, 11, 12, 13, 14, 15, 16, 17, 18, 19, 20, 21, 22, 23, 24, 25, 26, 27, 28, 29, 30, 31                                                                                                                                                                                         </td><td>6, 6, 6, 6, 6, 6, 6, 6, 6, 6, 6, 6, 6, 6, 6, 6, 6, 6, 6, 6, 6, 6, 6, 6, 6, 6, 6, 6, 6, 6, 6</td><td>numeric  </td></tr>\n",
       "\t<tr><td> 9</td><td>ATTRIBUTE_Longitude      </td><td>1, 2, 3, 4, 5, 6, 7, 8, 9, 10, 11, 12, 13, 14, 15, 16, 17, 18, 19, 20, 21, 22, 23, 24, 25, 26, 27, 28, 29, 30, 31                                                                                                                                                                                         </td><td>6, 6, 6, 6, 6, 6, 6, 6, 6, 6, 6, 6, 6, 6, 6, 6, 6, 6, 6, 6, 6, 6, 6, 6, 6, 6, 6, 6, 6, 6, 6</td><td>numeric  </td></tr>\n",
       "\t<tr><td>10</td><td>ATTRIBUTE_Sample_Area    </td><td>Blank, La_Jolla Reefs, La_Jolla_Cove, Mission_Bay, Mission_Beach, Pacific_Beach, SIO_La_Jolla_Shores, Torrey_Pines                                                                                                                                                                                        </td><td>6, 36, 12, 36, 18, 12, 18, 48                                                              </td><td>character</td></tr>\n",
       "\t<tr><td>11</td><td>ATTRIBUTE_Spot_Name      </td><td>Big_Rock, Blacks_North_Peak, Blacks_South_Peaks, Blank, Cove, Horseshoe, Hospitals, La_Jolla_Shores, Lagoon_Outlet, Little_Point, Mariners_Basin, Mission_Bay_Canal, Mission_Beach, Mission_Jetty, North_Bird, PB_Pier, PB_Point, Quivira_Marina, SIO_North_Pier, SIO_South_Pier, South_Bird, Torrey_Pines</td><td>6, 6, 6, 6, 12, 6, 6, 6, 6, 6, 6, 12, 18, 6, 6, 6, 6, 12, 6, 6, 6, 30                      </td><td>character</td></tr>\n",
       "</tbody>\n",
       "</table>\n"
      ],
      "text/latex": [
       "A data.frame: 11 × 5\n",
       "\\begin{tabular}{lllll}\n",
       " INDEX & ATTRIBUTES & LEVELS & COUNT & ATTRIBUTE\\_CLASS\\\\\n",
       " <int> & <chr> & <chr> & <chr> & <chr>\\\\\n",
       "\\hline\n",
       "\t  1 & ATTRIBUTE\\_Sample.Type     & Blank, Sample                                                                                                                                                                                                                                                                                              & 6, 180                                                                                      & character\\\\\n",
       "\t  2 & ATTRIBUTE\\_Batch           & 1, 2, 3                                                                                                                                                                                                                                                                                                    & 62, 62, 62                                                                                  & integer  \\\\\n",
       "\t  3 & ATTRIBUTE\\_Month           & Dec, Jan, Oct                                                                                                                                                                                                                                                                                              & 62, 62, 62                                                                                  & character\\\\\n",
       "\t  4 & ATTRIBUTE\\_Year            & 2017, 2018                                                                                                                                                                                                                                                                                                 & 62, 124                                                                                     & integer  \\\\\n",
       "\t  5 & ATTRIBUTE\\_Sample\\_Location & 0, 1, 2, 3, 4, 5, 6, 7, 8, 9, 10, 11, 12, 13, 14, 15, 16, 17, 18, 19, 20, 21, 22, 23, 24, 25, 26, 27, 28, 29, 30                                                                                                                                                                                           & 6, 6, 6, 6, 6, 6, 6, 6, 6, 6, 6, 6, 6, 6, 6, 6, 6, 6, 6, 6, 6, 6, 6, 6, 6, 6, 6, 6, 6, 6, 6 & integer  \\\\\n",
       "\t  6 & ATTRIBUTE\\_Replicate       & a, b                                                                                                                                                                                                                                                                                                       & 93, 93                                                                                      & character\\\\\n",
       "\t  7 & ATTRIBUTE\\_Spot            & 0, 1, 2, 3, 4, 5, 6, 7, 8, 9, 10, 11, 12, 13, 14, 15, 16, 17, 18, 19, 20, 21, 22, 23, 24, 25, 26, 27, 28, 29, 30                                                                                                                                                                                           & 6, 6, 6, 6, 6, 6, 6, 6, 6, 6, 6, 6, 6, 6, 6, 6, 6, 6, 6, 6, 6, 6, 6, 6, 6, 6, 6, 6, 6, 6, 6 & integer  \\\\\n",
       "\t  8 & ATTRIBUTE\\_Latitude        & 1, 2, 3, 4, 5, 6, 7, 8, 9, 10, 11, 12, 13, 14, 15, 16, 17, 18, 19, 20, 21, 22, 23, 24, 25, 26, 27, 28, 29, 30, 31                                                                                                                                                                                          & 6, 6, 6, 6, 6, 6, 6, 6, 6, 6, 6, 6, 6, 6, 6, 6, 6, 6, 6, 6, 6, 6, 6, 6, 6, 6, 6, 6, 6, 6, 6 & numeric  \\\\\n",
       "\t  9 & ATTRIBUTE\\_Longitude       & 1, 2, 3, 4, 5, 6, 7, 8, 9, 10, 11, 12, 13, 14, 15, 16, 17, 18, 19, 20, 21, 22, 23, 24, 25, 26, 27, 28, 29, 30, 31                                                                                                                                                                                          & 6, 6, 6, 6, 6, 6, 6, 6, 6, 6, 6, 6, 6, 6, 6, 6, 6, 6, 6, 6, 6, 6, 6, 6, 6, 6, 6, 6, 6, 6, 6 & numeric  \\\\\n",
       "\t 10 & ATTRIBUTE\\_Sample\\_Area     & Blank, La\\_Jolla Reefs, La\\_Jolla\\_Cove, Mission\\_Bay, Mission\\_Beach, Pacific\\_Beach, SIO\\_La\\_Jolla\\_Shores, Torrey\\_Pines                                                                                                                                                                                         & 6, 36, 12, 36, 18, 12, 18, 48                                                               & character\\\\\n",
       "\t 11 & ATTRIBUTE\\_Spot\\_Name       & Big\\_Rock, Blacks\\_North\\_Peak, Blacks\\_South\\_Peaks, Blank, Cove, Horseshoe, Hospitals, La\\_Jolla\\_Shores, Lagoon\\_Outlet, Little\\_Point, Mariners\\_Basin, Mission\\_Bay\\_Canal, Mission\\_Beach, Mission\\_Jetty, North\\_Bird, PB\\_Pier, PB\\_Point, Quivira\\_Marina, SIO\\_North\\_Pier, SIO\\_South\\_Pier, South\\_Bird, Torrey\\_Pines & 6, 6, 6, 6, 12, 6, 6, 6, 6, 6, 6, 12, 18, 6, 6, 6, 6, 12, 6, 6, 6, 30                       & character\\\\\n",
       "\\end{tabular}\n"
      ],
      "text/markdown": [
       "\n",
       "A data.frame: 11 × 5\n",
       "\n",
       "| INDEX &lt;int&gt; | ATTRIBUTES &lt;chr&gt; | LEVELS &lt;chr&gt; | COUNT &lt;chr&gt; | ATTRIBUTE_CLASS &lt;chr&gt; |\n",
       "|---|---|---|---|---|\n",
       "|  1 | ATTRIBUTE_Sample.Type     | Blank, Sample                                                                                                                                                                                                                                                                                              | 6, 180                                                                                      | character |\n",
       "|  2 | ATTRIBUTE_Batch           | 1, 2, 3                                                                                                                                                                                                                                                                                                    | 62, 62, 62                                                                                  | integer   |\n",
       "|  3 | ATTRIBUTE_Month           | Dec, Jan, Oct                                                                                                                                                                                                                                                                                              | 62, 62, 62                                                                                  | character |\n",
       "|  4 | ATTRIBUTE_Year            | 2017, 2018                                                                                                                                                                                                                                                                                                 | 62, 124                                                                                     | integer   |\n",
       "|  5 | ATTRIBUTE_Sample_Location | 0, 1, 2, 3, 4, 5, 6, 7, 8, 9, 10, 11, 12, 13, 14, 15, 16, 17, 18, 19, 20, 21, 22, 23, 24, 25, 26, 27, 28, 29, 30                                                                                                                                                                                           | 6, 6, 6, 6, 6, 6, 6, 6, 6, 6, 6, 6, 6, 6, 6, 6, 6, 6, 6, 6, 6, 6, 6, 6, 6, 6, 6, 6, 6, 6, 6 | integer   |\n",
       "|  6 | ATTRIBUTE_Replicate       | a, b                                                                                                                                                                                                                                                                                                       | 93, 93                                                                                      | character |\n",
       "|  7 | ATTRIBUTE_Spot            | 0, 1, 2, 3, 4, 5, 6, 7, 8, 9, 10, 11, 12, 13, 14, 15, 16, 17, 18, 19, 20, 21, 22, 23, 24, 25, 26, 27, 28, 29, 30                                                                                                                                                                                           | 6, 6, 6, 6, 6, 6, 6, 6, 6, 6, 6, 6, 6, 6, 6, 6, 6, 6, 6, 6, 6, 6, 6, 6, 6, 6, 6, 6, 6, 6, 6 | integer   |\n",
       "|  8 | ATTRIBUTE_Latitude        | 1, 2, 3, 4, 5, 6, 7, 8, 9, 10, 11, 12, 13, 14, 15, 16, 17, 18, 19, 20, 21, 22, 23, 24, 25, 26, 27, 28, 29, 30, 31                                                                                                                                                                                          | 6, 6, 6, 6, 6, 6, 6, 6, 6, 6, 6, 6, 6, 6, 6, 6, 6, 6, 6, 6, 6, 6, 6, 6, 6, 6, 6, 6, 6, 6, 6 | numeric   |\n",
       "|  9 | ATTRIBUTE_Longitude       | 1, 2, 3, 4, 5, 6, 7, 8, 9, 10, 11, 12, 13, 14, 15, 16, 17, 18, 19, 20, 21, 22, 23, 24, 25, 26, 27, 28, 29, 30, 31                                                                                                                                                                                          | 6, 6, 6, 6, 6, 6, 6, 6, 6, 6, 6, 6, 6, 6, 6, 6, 6, 6, 6, 6, 6, 6, 6, 6, 6, 6, 6, 6, 6, 6, 6 | numeric   |\n",
       "| 10 | ATTRIBUTE_Sample_Area     | Blank, La_Jolla Reefs, La_Jolla_Cove, Mission_Bay, Mission_Beach, Pacific_Beach, SIO_La_Jolla_Shores, Torrey_Pines                                                                                                                                                                                         | 6, 36, 12, 36, 18, 12, 18, 48                                                               | character |\n",
       "| 11 | ATTRIBUTE_Spot_Name       | Big_Rock, Blacks_North_Peak, Blacks_South_Peaks, Blank, Cove, Horseshoe, Hospitals, La_Jolla_Shores, Lagoon_Outlet, Little_Point, Mariners_Basin, Mission_Bay_Canal, Mission_Beach, Mission_Jetty, North_Bird, PB_Pier, PB_Point, Quivira_Marina, SIO_North_Pier, SIO_South_Pier, South_Bird, Torrey_Pines | 6, 6, 6, 6, 12, 6, 6, 6, 6, 6, 6, 12, 18, 6, 6, 6, 6, 12, 6, 6, 6, 30                       | character |\n",
       "\n"
      ],
      "text/plain": [
       "   INDEX ATTRIBUTES               \n",
       "1   1    ATTRIBUTE_Sample.Type    \n",
       "2   2    ATTRIBUTE_Batch          \n",
       "3   3    ATTRIBUTE_Month          \n",
       "4   4    ATTRIBUTE_Year           \n",
       "5   5    ATTRIBUTE_Sample_Location\n",
       "6   6    ATTRIBUTE_Replicate      \n",
       "7   7    ATTRIBUTE_Spot           \n",
       "8   8    ATTRIBUTE_Latitude       \n",
       "9   9    ATTRIBUTE_Longitude      \n",
       "10 10    ATTRIBUTE_Sample_Area    \n",
       "11 11    ATTRIBUTE_Spot_Name      \n",
       "   LEVELS                                                                                                                                                                                                                                                                                                    \n",
       "1  Blank, Sample                                                                                                                                                                                                                                                                                             \n",
       "2  1, 2, 3                                                                                                                                                                                                                                                                                                   \n",
       "3  Dec, Jan, Oct                                                                                                                                                                                                                                                                                             \n",
       "4  2017, 2018                                                                                                                                                                                                                                                                                                \n",
       "5  0, 1, 2, 3, 4, 5, 6, 7, 8, 9, 10, 11, 12, 13, 14, 15, 16, 17, 18, 19, 20, 21, 22, 23, 24, 25, 26, 27, 28, 29, 30                                                                                                                                                                                          \n",
       "6  a, b                                                                                                                                                                                                                                                                                                      \n",
       "7  0, 1, 2, 3, 4, 5, 6, 7, 8, 9, 10, 11, 12, 13, 14, 15, 16, 17, 18, 19, 20, 21, 22, 23, 24, 25, 26, 27, 28, 29, 30                                                                                                                                                                                          \n",
       "8  1, 2, 3, 4, 5, 6, 7, 8, 9, 10, 11, 12, 13, 14, 15, 16, 17, 18, 19, 20, 21, 22, 23, 24, 25, 26, 27, 28, 29, 30, 31                                                                                                                                                                                         \n",
       "9  1, 2, 3, 4, 5, 6, 7, 8, 9, 10, 11, 12, 13, 14, 15, 16, 17, 18, 19, 20, 21, 22, 23, 24, 25, 26, 27, 28, 29, 30, 31                                                                                                                                                                                         \n",
       "10 Blank, La_Jolla Reefs, La_Jolla_Cove, Mission_Bay, Mission_Beach, Pacific_Beach, SIO_La_Jolla_Shores, Torrey_Pines                                                                                                                                                                                        \n",
       "11 Big_Rock, Blacks_North_Peak, Blacks_South_Peaks, Blank, Cove, Horseshoe, Hospitals, La_Jolla_Shores, Lagoon_Outlet, Little_Point, Mariners_Basin, Mission_Bay_Canal, Mission_Beach, Mission_Jetty, North_Bird, PB_Pier, PB_Point, Quivira_Marina, SIO_North_Pier, SIO_South_Pier, South_Bird, Torrey_Pines\n",
       "   COUNT                                                                                      \n",
       "1  6, 180                                                                                     \n",
       "2  62, 62, 62                                                                                 \n",
       "3  62, 62, 62                                                                                 \n",
       "4  62, 124                                                                                    \n",
       "5  6, 6, 6, 6, 6, 6, 6, 6, 6, 6, 6, 6, 6, 6, 6, 6, 6, 6, 6, 6, 6, 6, 6, 6, 6, 6, 6, 6, 6, 6, 6\n",
       "6  93, 93                                                                                     \n",
       "7  6, 6, 6, 6, 6, 6, 6, 6, 6, 6, 6, 6, 6, 6, 6, 6, 6, 6, 6, 6, 6, 6, 6, 6, 6, 6, 6, 6, 6, 6, 6\n",
       "8  6, 6, 6, 6, 6, 6, 6, 6, 6, 6, 6, 6, 6, 6, 6, 6, 6, 6, 6, 6, 6, 6, 6, 6, 6, 6, 6, 6, 6, 6, 6\n",
       "9  6, 6, 6, 6, 6, 6, 6, 6, 6, 6, 6, 6, 6, 6, 6, 6, 6, 6, 6, 6, 6, 6, 6, 6, 6, 6, 6, 6, 6, 6, 6\n",
       "10 6, 36, 12, 36, 18, 12, 18, 48                                                              \n",
       "11 6, 6, 6, 6, 12, 6, 6, 6, 6, 6, 6, 12, 18, 6, 6, 6, 6, 12, 6, 6, 6, 30                      \n",
       "   ATTRIBUTE_CLASS\n",
       "1  character      \n",
       "2  integer        \n",
       "3  character      \n",
       "4  integer        \n",
       "5  integer        \n",
       "6  character      \n",
       "7  integer        \n",
       "8  numeric        \n",
       "9  numeric        \n",
       "10 character      \n",
       "11 character      "
      ]
     },
     "metadata": {},
     "output_type": "display_data"
    }
   ],
   "source": [
    "InsideLevels(new_md[2:12])"
   ]
  },
  {
   "cell_type": "code",
   "execution_count": 34,
   "id": "7PTytNicLk2Q",
   "metadata": {
    "colab": {
     "base_uri": "https://localhost:8080/",
     "height": 209
    },
    "executionInfo": {
     "elapsed": 313,
     "status": "ok",
     "timestamp": 1666552368461,
     "user": {
      "displayName": "Abzer Kelminal.P M",
      "userId": "16537922509430952288"
     },
     "user_tz": -120
    },
    "id": "7PTytNicLk2Q",
    "outputId": "c33e6b3a-6eda-4cfa-c2b5-fc6ec052992f"
   },
   "outputs": [
    {
     "data": {
      "text/html": [
       "<table class=\"dataframe\">\n",
       "<caption>A data.frame: 6 × 11217</caption>\n",
       "<thead>\n",
       "\t<tr><th></th><th scope=col>92572_151.035_13.364</th><th scope=col>2513_151.035_1.13</th><th scope=col>42_151.035_0.551</th><th scope=col>1870_151.035_0.887</th><th scope=col>2127_151.096_0.986</th><th scope=col>86368_151.098_11.096</th><th scope=col>90458_151.098_12.344</th><th scope=col>88889_151.098_11.826</th><th scope=col>87841_151.098_11.55</th><th scope=col>1653_152.057_0.847</th><th scope=col>⋯</th><th scope=col>88116_1444.398_11.482</th><th scope=col>89487_1444.398_12.017</th><th scope=col>86967_1444.398_11.216</th><th scope=col>90591_1444.399_12.387</th><th scope=col>91218_1444.399_12.614</th><th scope=col>92162_1444.399_12.973</th><th scope=col>88518_1444.399_11.718</th><th scope=col>88057_1445.398_11.541</th><th scope=col>89348_1445.398_11.988</th><th scope=col>91876_1445.399_12.863</th></tr>\n",
       "\t<tr><th></th><th scope=col>&lt;dbl&gt;</th><th scope=col>&lt;dbl&gt;</th><th scope=col>&lt;dbl&gt;</th><th scope=col>&lt;dbl&gt;</th><th scope=col>&lt;dbl&gt;</th><th scope=col>&lt;dbl&gt;</th><th scope=col>&lt;dbl&gt;</th><th scope=col>&lt;dbl&gt;</th><th scope=col>&lt;dbl&gt;</th><th scope=col>&lt;dbl&gt;</th><th scope=col>⋯</th><th scope=col>&lt;dbl&gt;</th><th scope=col>&lt;dbl&gt;</th><th scope=col>&lt;dbl&gt;</th><th scope=col>&lt;dbl&gt;</th><th scope=col>&lt;dbl&gt;</th><th scope=col>&lt;dbl&gt;</th><th scope=col>&lt;dbl&gt;</th><th scope=col>&lt;dbl&gt;</th><th scope=col>&lt;dbl&gt;</th><th scope=col>&lt;dbl&gt;</th></tr>\n",
       "</thead>\n",
       "<tbody>\n",
       "\t<tr><th scope=row>SD_01-2018_PPL_Bl_1.mzXML</th><td>0</td><td>0</td><td> 80114.620</td><td>0</td><td> 23387.72</td><td>     0.00</td><td>     0.00</td><td>     0.0</td><td>     0.00</td><td>0</td><td>⋯</td><td>97086.41</td><td>150529.2</td><td>105396.63</td><td>64037.152</td><td>112919.62</td><td>26315.72</td><td> 52188.0</td><td>39243.56</td><td>61705.28</td><td>28096.68</td></tr>\n",
       "\t<tr><th scope=row>SD_01-2018_PPL_Bl_2.mzXML</th><td>0</td><td>0</td><td> 21310.246</td><td>0</td><td> 21032.02</td><td>     0.00</td><td>     0.00</td><td>     0.0</td><td>     0.00</td><td>0</td><td>⋯</td><td>39701.70</td><td>107531.1</td><td> 82760.02</td><td>78997.610</td><td> 97719.95</td><td>24918.46</td><td>208566.6</td><td>    0.00</td><td>    0.00</td><td>20651.02</td></tr>\n",
       "\t<tr><th scope=row>SD_10_2018_PPL_Blank_1.mzXML</th><td>0</td><td>0</td><td> 74143.170</td><td>0</td><td>     0.00</td><td>229800.60</td><td>107550.44</td><td>165857.5</td><td> 67758.91</td><td>0</td><td>⋯</td><td>    0.00</td><td>     0.0</td><td>     0.00</td><td> 7669.985</td><td>     0.00</td><td>    0.00</td><td>     0.0</td><td>    0.00</td><td>    0.00</td><td>    0.00</td></tr>\n",
       "\t<tr><th scope=row>SD_10_2018_PPL_Blank_2.mzXML</th><td>0</td><td>0</td><td>105766.586</td><td>0</td><td>115959.33</td><td> 18853.69</td><td> 49843.91</td><td>101073.4</td><td>172785.38</td><td>0</td><td>⋯</td><td>    0.00</td><td>     0.0</td><td>     0.00</td><td> 4412.909</td><td>     0.00</td><td>    0.00</td><td>     0.0</td><td>    0.00</td><td>    0.00</td><td>    0.00</td></tr>\n",
       "\t<tr><th scope=row>SD_12-2017_PPL_Bl_1.mzXML</th><td>0</td><td>0</td><td>  4432.968</td><td>0</td><td>     0.00</td><td>     0.00</td><td>     0.00</td><td>     0.0</td><td>     0.00</td><td>0</td><td>⋯</td><td>    0.00</td><td>     0.0</td><td>     0.00</td><td>    0.000</td><td>     0.00</td><td>    0.00</td><td>     0.0</td><td>    0.00</td><td>    0.00</td><td>    0.00</td></tr>\n",
       "\t<tr><th scope=row>SD_12-2017_PPL_Bl_2.mzXML</th><td>0</td><td>0</td><td>  6813.541</td><td>0</td><td>     0.00</td><td>     0.00</td><td>     0.00</td><td>     0.0</td><td>     0.00</td><td>0</td><td>⋯</td><td>    0.00</td><td>     0.0</td><td>     0.00</td><td>    0.000</td><td>     0.00</td><td>    0.00</td><td>     0.0</td><td>    0.00</td><td>    0.00</td><td>    0.00</td></tr>\n",
       "</tbody>\n",
       "</table>\n"
      ],
      "text/latex": [
       "A data.frame: 6 × 11217\n",
       "\\begin{tabular}{r|lllllllllllllllllllll}\n",
       "  & 92572\\_151.035\\_13.364 & 2513\\_151.035\\_1.13 & 42\\_151.035\\_0.551 & 1870\\_151.035\\_0.887 & 2127\\_151.096\\_0.986 & 86368\\_151.098\\_11.096 & 90458\\_151.098\\_12.344 & 88889\\_151.098\\_11.826 & 87841\\_151.098\\_11.55 & 1653\\_152.057\\_0.847 & ⋯ & 88116\\_1444.398\\_11.482 & 89487\\_1444.398\\_12.017 & 86967\\_1444.398\\_11.216 & 90591\\_1444.399\\_12.387 & 91218\\_1444.399\\_12.614 & 92162\\_1444.399\\_12.973 & 88518\\_1444.399\\_11.718 & 88057\\_1445.398\\_11.541 & 89348\\_1445.398\\_11.988 & 91876\\_1445.399\\_12.863\\\\\n",
       "  & <dbl> & <dbl> & <dbl> & <dbl> & <dbl> & <dbl> & <dbl> & <dbl> & <dbl> & <dbl> & ⋯ & <dbl> & <dbl> & <dbl> & <dbl> & <dbl> & <dbl> & <dbl> & <dbl> & <dbl> & <dbl>\\\\\n",
       "\\hline\n",
       "\tSD\\_01-2018\\_PPL\\_Bl\\_1.mzXML & 0 & 0 &  80114.620 & 0 &  23387.72 &      0.00 &      0.00 &      0.0 &      0.00 & 0 & ⋯ & 97086.41 & 150529.2 & 105396.63 & 64037.152 & 112919.62 & 26315.72 &  52188.0 & 39243.56 & 61705.28 & 28096.68\\\\\n",
       "\tSD\\_01-2018\\_PPL\\_Bl\\_2.mzXML & 0 & 0 &  21310.246 & 0 &  21032.02 &      0.00 &      0.00 &      0.0 &      0.00 & 0 & ⋯ & 39701.70 & 107531.1 &  82760.02 & 78997.610 &  97719.95 & 24918.46 & 208566.6 &     0.00 &     0.00 & 20651.02\\\\\n",
       "\tSD\\_10\\_2018\\_PPL\\_Blank\\_1.mzXML & 0 & 0 &  74143.170 & 0 &      0.00 & 229800.60 & 107550.44 & 165857.5 &  67758.91 & 0 & ⋯ &     0.00 &      0.0 &      0.00 &  7669.985 &      0.00 &     0.00 &      0.0 &     0.00 &     0.00 &     0.00\\\\\n",
       "\tSD\\_10\\_2018\\_PPL\\_Blank\\_2.mzXML & 0 & 0 & 105766.586 & 0 & 115959.33 &  18853.69 &  49843.91 & 101073.4 & 172785.38 & 0 & ⋯ &     0.00 &      0.0 &      0.00 &  4412.909 &      0.00 &     0.00 &      0.0 &     0.00 &     0.00 &     0.00\\\\\n",
       "\tSD\\_12-2017\\_PPL\\_Bl\\_1.mzXML & 0 & 0 &   4432.968 & 0 &      0.00 &      0.00 &      0.00 &      0.0 &      0.00 & 0 & ⋯ &     0.00 &      0.0 &      0.00 &     0.000 &      0.00 &     0.00 &      0.0 &     0.00 &     0.00 &     0.00\\\\\n",
       "\tSD\\_12-2017\\_PPL\\_Bl\\_2.mzXML & 0 & 0 &   6813.541 & 0 &      0.00 &      0.00 &      0.00 &      0.0 &      0.00 & 0 & ⋯ &     0.00 &      0.0 &      0.00 &     0.000 &      0.00 &     0.00 &      0.0 &     0.00 &     0.00 &     0.00\\\\\n",
       "\\end{tabular}\n"
      ],
      "text/markdown": [
       "\n",
       "A data.frame: 6 × 11217\n",
       "\n",
       "| <!--/--> | 92572_151.035_13.364 &lt;dbl&gt; | 2513_151.035_1.13 &lt;dbl&gt; | 42_151.035_0.551 &lt;dbl&gt; | 1870_151.035_0.887 &lt;dbl&gt; | 2127_151.096_0.986 &lt;dbl&gt; | 86368_151.098_11.096 &lt;dbl&gt; | 90458_151.098_12.344 &lt;dbl&gt; | 88889_151.098_11.826 &lt;dbl&gt; | 87841_151.098_11.55 &lt;dbl&gt; | 1653_152.057_0.847 &lt;dbl&gt; | ⋯ ⋯ | 88116_1444.398_11.482 &lt;dbl&gt; | 89487_1444.398_12.017 &lt;dbl&gt; | 86967_1444.398_11.216 &lt;dbl&gt; | 90591_1444.399_12.387 &lt;dbl&gt; | 91218_1444.399_12.614 &lt;dbl&gt; | 92162_1444.399_12.973 &lt;dbl&gt; | 88518_1444.399_11.718 &lt;dbl&gt; | 88057_1445.398_11.541 &lt;dbl&gt; | 89348_1445.398_11.988 &lt;dbl&gt; | 91876_1445.399_12.863 &lt;dbl&gt; |\n",
       "|---|---|---|---|---|---|---|---|---|---|---|---|---|---|---|---|---|---|---|---|---|---|\n",
       "| SD_01-2018_PPL_Bl_1.mzXML | 0 | 0 |  80114.620 | 0 |  23387.72 |      0.00 |      0.00 |      0.0 |      0.00 | 0 | ⋯ | 97086.41 | 150529.2 | 105396.63 | 64037.152 | 112919.62 | 26315.72 |  52188.0 | 39243.56 | 61705.28 | 28096.68 |\n",
       "| SD_01-2018_PPL_Bl_2.mzXML | 0 | 0 |  21310.246 | 0 |  21032.02 |      0.00 |      0.00 |      0.0 |      0.00 | 0 | ⋯ | 39701.70 | 107531.1 |  82760.02 | 78997.610 |  97719.95 | 24918.46 | 208566.6 |     0.00 |     0.00 | 20651.02 |\n",
       "| SD_10_2018_PPL_Blank_1.mzXML | 0 | 0 |  74143.170 | 0 |      0.00 | 229800.60 | 107550.44 | 165857.5 |  67758.91 | 0 | ⋯ |     0.00 |      0.0 |      0.00 |  7669.985 |      0.00 |     0.00 |      0.0 |     0.00 |     0.00 |     0.00 |\n",
       "| SD_10_2018_PPL_Blank_2.mzXML | 0 | 0 | 105766.586 | 0 | 115959.33 |  18853.69 |  49843.91 | 101073.4 | 172785.38 | 0 | ⋯ |     0.00 |      0.0 |      0.00 |  4412.909 |      0.00 |     0.00 |      0.0 |     0.00 |     0.00 |     0.00 |\n",
       "| SD_12-2017_PPL_Bl_1.mzXML | 0 | 0 |   4432.968 | 0 |      0.00 |      0.00 |      0.00 |      0.0 |      0.00 | 0 | ⋯ |     0.00 |      0.0 |      0.00 |     0.000 |      0.00 |     0.00 |      0.0 |     0.00 |     0.00 |     0.00 |\n",
       "| SD_12-2017_PPL_Bl_2.mzXML | 0 | 0 |   6813.541 | 0 |      0.00 |      0.00 |      0.00 |      0.0 |      0.00 | 0 | ⋯ |     0.00 |      0.0 |      0.00 |     0.000 |      0.00 |     0.00 |      0.0 |     0.00 |     0.00 |     0.00 |\n",
       "\n"
      ],
      "text/plain": [
       "                             92572_151.035_13.364 2513_151.035_1.13\n",
       "SD_01-2018_PPL_Bl_1.mzXML    0                    0                \n",
       "SD_01-2018_PPL_Bl_2.mzXML    0                    0                \n",
       "SD_10_2018_PPL_Blank_1.mzXML 0                    0                \n",
       "SD_10_2018_PPL_Blank_2.mzXML 0                    0                \n",
       "SD_12-2017_PPL_Bl_1.mzXML    0                    0                \n",
       "SD_12-2017_PPL_Bl_2.mzXML    0                    0                \n",
       "                             42_151.035_0.551 1870_151.035_0.887\n",
       "SD_01-2018_PPL_Bl_1.mzXML     80114.620       0                 \n",
       "SD_01-2018_PPL_Bl_2.mzXML     21310.246       0                 \n",
       "SD_10_2018_PPL_Blank_1.mzXML  74143.170       0                 \n",
       "SD_10_2018_PPL_Blank_2.mzXML 105766.586       0                 \n",
       "SD_12-2017_PPL_Bl_1.mzXML      4432.968       0                 \n",
       "SD_12-2017_PPL_Bl_2.mzXML      6813.541       0                 \n",
       "                             2127_151.096_0.986 86368_151.098_11.096\n",
       "SD_01-2018_PPL_Bl_1.mzXML     23387.72               0.00           \n",
       "SD_01-2018_PPL_Bl_2.mzXML     21032.02               0.00           \n",
       "SD_10_2018_PPL_Blank_1.mzXML      0.00          229800.60           \n",
       "SD_10_2018_PPL_Blank_2.mzXML 115959.33           18853.69           \n",
       "SD_12-2017_PPL_Bl_1.mzXML         0.00               0.00           \n",
       "SD_12-2017_PPL_Bl_2.mzXML         0.00               0.00           \n",
       "                             90458_151.098_12.344 88889_151.098_11.826\n",
       "SD_01-2018_PPL_Bl_1.mzXML         0.00                 0.0            \n",
       "SD_01-2018_PPL_Bl_2.mzXML         0.00                 0.0            \n",
       "SD_10_2018_PPL_Blank_1.mzXML 107550.44            165857.5            \n",
       "SD_10_2018_PPL_Blank_2.mzXML  49843.91            101073.4            \n",
       "SD_12-2017_PPL_Bl_1.mzXML         0.00                 0.0            \n",
       "SD_12-2017_PPL_Bl_2.mzXML         0.00                 0.0            \n",
       "                             87841_151.098_11.55 1653_152.057_0.847 ⋯\n",
       "SD_01-2018_PPL_Bl_1.mzXML         0.00           0                  ⋯\n",
       "SD_01-2018_PPL_Bl_2.mzXML         0.00           0                  ⋯\n",
       "SD_10_2018_PPL_Blank_1.mzXML  67758.91           0                  ⋯\n",
       "SD_10_2018_PPL_Blank_2.mzXML 172785.38           0                  ⋯\n",
       "SD_12-2017_PPL_Bl_1.mzXML         0.00           0                  ⋯\n",
       "SD_12-2017_PPL_Bl_2.mzXML         0.00           0                  ⋯\n",
       "                             88116_1444.398_11.482 89487_1444.398_12.017\n",
       "SD_01-2018_PPL_Bl_1.mzXML    97086.41              150529.2             \n",
       "SD_01-2018_PPL_Bl_2.mzXML    39701.70              107531.1             \n",
       "SD_10_2018_PPL_Blank_1.mzXML     0.00                   0.0             \n",
       "SD_10_2018_PPL_Blank_2.mzXML     0.00                   0.0             \n",
       "SD_12-2017_PPL_Bl_1.mzXML        0.00                   0.0             \n",
       "SD_12-2017_PPL_Bl_2.mzXML        0.00                   0.0             \n",
       "                             86967_1444.398_11.216 90591_1444.399_12.387\n",
       "SD_01-2018_PPL_Bl_1.mzXML    105396.63             64037.152            \n",
       "SD_01-2018_PPL_Bl_2.mzXML     82760.02             78997.610            \n",
       "SD_10_2018_PPL_Blank_1.mzXML      0.00              7669.985            \n",
       "SD_10_2018_PPL_Blank_2.mzXML      0.00              4412.909            \n",
       "SD_12-2017_PPL_Bl_1.mzXML         0.00                 0.000            \n",
       "SD_12-2017_PPL_Bl_2.mzXML         0.00                 0.000            \n",
       "                             91218_1444.399_12.614 92162_1444.399_12.973\n",
       "SD_01-2018_PPL_Bl_1.mzXML    112919.62             26315.72             \n",
       "SD_01-2018_PPL_Bl_2.mzXML     97719.95             24918.46             \n",
       "SD_10_2018_PPL_Blank_1.mzXML      0.00                 0.00             \n",
       "SD_10_2018_PPL_Blank_2.mzXML      0.00                 0.00             \n",
       "SD_12-2017_PPL_Bl_1.mzXML         0.00                 0.00             \n",
       "SD_12-2017_PPL_Bl_2.mzXML         0.00                 0.00             \n",
       "                             88518_1444.399_11.718 88057_1445.398_11.541\n",
       "SD_01-2018_PPL_Bl_1.mzXML     52188.0              39243.56             \n",
       "SD_01-2018_PPL_Bl_2.mzXML    208566.6                  0.00             \n",
       "SD_10_2018_PPL_Blank_1.mzXML      0.0                  0.00             \n",
       "SD_10_2018_PPL_Blank_2.mzXML      0.0                  0.00             \n",
       "SD_12-2017_PPL_Bl_1.mzXML         0.0                  0.00             \n",
       "SD_12-2017_PPL_Bl_2.mzXML         0.0                  0.00             \n",
       "                             89348_1445.398_11.988 91876_1445.399_12.863\n",
       "SD_01-2018_PPL_Bl_1.mzXML    61705.28              28096.68             \n",
       "SD_01-2018_PPL_Bl_2.mzXML        0.00              20651.02             \n",
       "SD_10_2018_PPL_Blank_1.mzXML     0.00                  0.00             \n",
       "SD_10_2018_PPL_Blank_2.mzXML     0.00                  0.00             \n",
       "SD_12-2017_PPL_Bl_1.mzXML        0.00                  0.00             \n",
       "SD_12-2017_PPL_Bl_2.mzXML        0.00                  0.00             "
      ]
     },
     "metadata": {},
     "output_type": "display_data"
    },
    {
     "data": {
      "text/html": [
       "<style>\n",
       ".list-inline {list-style: none; margin:0; padding: 0}\n",
       ".list-inline>li {display: inline-block}\n",
       ".list-inline>li:not(:last-child)::after {content: \"\\00b7\"; padding: 0 .5ex}\n",
       "</style>\n",
       "<ol class=list-inline><li>6</li><li>11217</li></ol>\n"
      ],
      "text/latex": [
       "\\begin{enumerate*}\n",
       "\\item 6\n",
       "\\item 11217\n",
       "\\end{enumerate*}\n"
      ],
      "text/markdown": [
       "1. 6\n",
       "2. 11217\n",
       "\n",
       "\n"
      ],
      "text/plain": [
       "[1]     6 11217"
      ]
     },
     "metadata": {},
     "output_type": "display_data"
    }
   ],
   "source": [
    "#Getting the blank based on the metadata\n",
    "md_Blank <- new_md %>% filter(`ATTRIBUTE_Sample.Type` == \"Blank\") #filtering the rows from metadata with the condition = blank\n",
    "Blank <- ft_t[which(rownames(ft_t) %in% (md_Blank$`filename`)),,drop=F] #getting the corresponding rows from ft\n",
    "\n",
    "head(Blank)\n",
    "dim(Blank)"
   ]
  },
  {
   "cell_type": "code",
   "execution_count": 36,
   "id": "FOxnCjr2LSJl",
   "metadata": {
    "colab": {
     "base_uri": "https://localhost:8080/",
     "height": 247
    },
    "executionInfo": {
     "elapsed": 244,
     "status": "ok",
     "timestamp": 1666552371618,
     "user": {
      "displayName": "Abzer Kelminal.P M",
      "userId": "16537922509430952288"
     },
     "user_tz": -120
    },
    "id": "FOxnCjr2LSJl",
    "outputId": "2fb23aa1-d86e-48db-8f18-6fce4ec0dfda"
   },
   "outputs": [
    {
     "data": {
      "text/html": [
       "<table class=\"dataframe\">\n",
       "<caption>A data.frame: 3 × 11217</caption>\n",
       "<thead>\n",
       "\t<tr><th></th><th scope=col>92572_151.035_13.364</th><th scope=col>2513_151.035_1.13</th><th scope=col>42_151.035_0.551</th><th scope=col>1870_151.035_0.887</th><th scope=col>2127_151.096_0.986</th><th scope=col>86368_151.098_11.096</th><th scope=col>90458_151.098_12.344</th><th scope=col>88889_151.098_11.826</th><th scope=col>87841_151.098_11.55</th><th scope=col>1653_152.057_0.847</th><th scope=col>⋯</th><th scope=col>88116_1444.398_11.482</th><th scope=col>89487_1444.398_12.017</th><th scope=col>86967_1444.398_11.216</th><th scope=col>90591_1444.399_12.387</th><th scope=col>91218_1444.399_12.614</th><th scope=col>92162_1444.399_12.973</th><th scope=col>88518_1444.399_11.718</th><th scope=col>88057_1445.398_11.541</th><th scope=col>89348_1445.398_11.988</th><th scope=col>91876_1445.399_12.863</th></tr>\n",
       "\t<tr><th></th><th scope=col>&lt;dbl&gt;</th><th scope=col>&lt;dbl&gt;</th><th scope=col>&lt;dbl&gt;</th><th scope=col>&lt;dbl&gt;</th><th scope=col>&lt;dbl&gt;</th><th scope=col>&lt;dbl&gt;</th><th scope=col>&lt;dbl&gt;</th><th scope=col>&lt;dbl&gt;</th><th scope=col>&lt;dbl&gt;</th><th scope=col>&lt;dbl&gt;</th><th scope=col>⋯</th><th scope=col>&lt;dbl&gt;</th><th scope=col>&lt;dbl&gt;</th><th scope=col>&lt;dbl&gt;</th><th scope=col>&lt;dbl&gt;</th><th scope=col>&lt;dbl&gt;</th><th scope=col>&lt;dbl&gt;</th><th scope=col>&lt;dbl&gt;</th><th scope=col>&lt;dbl&gt;</th><th scope=col>&lt;dbl&gt;</th><th scope=col>&lt;dbl&gt;</th></tr>\n",
       "</thead>\n",
       "<tbody>\n",
       "\t<tr><th scope=row>SD_01-2018_1_a.mzXML</th><td>0</td><td>0</td><td>2827136</td><td> 64247.68</td><td>   0.000</td><td>0</td><td>0</td><td>0</td><td>0</td><td>   0.000</td><td>⋯</td><td> 22355.824</td><td>  81129.42</td><td> 9451.771</td><td> 57114.74</td><td> 33504.23</td><td>   0.000</td><td> 20393.60</td><td> 12523.67</td><td> 21131.930</td><td>  4865.259</td></tr>\n",
       "\t<tr><th scope=row>SD_01-2018_1_b.mzXML</th><td>0</td><td>0</td><td>3066569</td><td> 67403.99</td><td>5057.914</td><td>0</td><td>0</td><td>0</td><td>0</td><td>   0.000</td><td>⋯</td><td>  5870.526</td><td>  24207.17</td><td>    0.000</td><td> 29632.88</td><td> 28452.48</td><td>5834.431</td><td> 13967.27</td><td> 11848.81</td><td>  8412.412</td><td>  3065.691</td></tr>\n",
       "\t<tr><th scope=row>SD_01-2018_10_a.mzXML</th><td>0</td><td>0</td><td>2863941</td><td>201483.19</td><td>4317.684</td><td>0</td><td>0</td><td>0</td><td>0</td><td>5206.803</td><td>⋯</td><td>317439.000</td><td>1123902.40</td><td>74504.555</td><td>134384.03</td><td>762986.30</td><td>   0.000</td><td>157763.02</td><td>130236.70</td><td>124595.060</td><td>138897.280</td></tr>\n",
       "</tbody>\n",
       "</table>\n"
      ],
      "text/latex": [
       "A data.frame: 3 × 11217\n",
       "\\begin{tabular}{r|lllllllllllllllllllll}\n",
       "  & 92572\\_151.035\\_13.364 & 2513\\_151.035\\_1.13 & 42\\_151.035\\_0.551 & 1870\\_151.035\\_0.887 & 2127\\_151.096\\_0.986 & 86368\\_151.098\\_11.096 & 90458\\_151.098\\_12.344 & 88889\\_151.098\\_11.826 & 87841\\_151.098\\_11.55 & 1653\\_152.057\\_0.847 & ⋯ & 88116\\_1444.398\\_11.482 & 89487\\_1444.398\\_12.017 & 86967\\_1444.398\\_11.216 & 90591\\_1444.399\\_12.387 & 91218\\_1444.399\\_12.614 & 92162\\_1444.399\\_12.973 & 88518\\_1444.399\\_11.718 & 88057\\_1445.398\\_11.541 & 89348\\_1445.398\\_11.988 & 91876\\_1445.399\\_12.863\\\\\n",
       "  & <dbl> & <dbl> & <dbl> & <dbl> & <dbl> & <dbl> & <dbl> & <dbl> & <dbl> & <dbl> & ⋯ & <dbl> & <dbl> & <dbl> & <dbl> & <dbl> & <dbl> & <dbl> & <dbl> & <dbl> & <dbl>\\\\\n",
       "\\hline\n",
       "\tSD\\_01-2018\\_1\\_a.mzXML & 0 & 0 & 2827136 &  64247.68 &    0.000 & 0 & 0 & 0 & 0 &    0.000 & ⋯ &  22355.824 &   81129.42 &  9451.771 &  57114.74 &  33504.23 &    0.000 &  20393.60 &  12523.67 &  21131.930 &   4865.259\\\\\n",
       "\tSD\\_01-2018\\_1\\_b.mzXML & 0 & 0 & 3066569 &  67403.99 & 5057.914 & 0 & 0 & 0 & 0 &    0.000 & ⋯ &   5870.526 &   24207.17 &     0.000 &  29632.88 &  28452.48 & 5834.431 &  13967.27 &  11848.81 &   8412.412 &   3065.691\\\\\n",
       "\tSD\\_01-2018\\_10\\_a.mzXML & 0 & 0 & 2863941 & 201483.19 & 4317.684 & 0 & 0 & 0 & 0 & 5206.803 & ⋯ & 317439.000 & 1123902.40 & 74504.555 & 134384.03 & 762986.30 &    0.000 & 157763.02 & 130236.70 & 124595.060 & 138897.280\\\\\n",
       "\\end{tabular}\n"
      ],
      "text/markdown": [
       "\n",
       "A data.frame: 3 × 11217\n",
       "\n",
       "| <!--/--> | 92572_151.035_13.364 &lt;dbl&gt; | 2513_151.035_1.13 &lt;dbl&gt; | 42_151.035_0.551 &lt;dbl&gt; | 1870_151.035_0.887 &lt;dbl&gt; | 2127_151.096_0.986 &lt;dbl&gt; | 86368_151.098_11.096 &lt;dbl&gt; | 90458_151.098_12.344 &lt;dbl&gt; | 88889_151.098_11.826 &lt;dbl&gt; | 87841_151.098_11.55 &lt;dbl&gt; | 1653_152.057_0.847 &lt;dbl&gt; | ⋯ ⋯ | 88116_1444.398_11.482 &lt;dbl&gt; | 89487_1444.398_12.017 &lt;dbl&gt; | 86967_1444.398_11.216 &lt;dbl&gt; | 90591_1444.399_12.387 &lt;dbl&gt; | 91218_1444.399_12.614 &lt;dbl&gt; | 92162_1444.399_12.973 &lt;dbl&gt; | 88518_1444.399_11.718 &lt;dbl&gt; | 88057_1445.398_11.541 &lt;dbl&gt; | 89348_1445.398_11.988 &lt;dbl&gt; | 91876_1445.399_12.863 &lt;dbl&gt; |\n",
       "|---|---|---|---|---|---|---|---|---|---|---|---|---|---|---|---|---|---|---|---|---|---|\n",
       "| SD_01-2018_1_a.mzXML | 0 | 0 | 2827136 |  64247.68 |    0.000 | 0 | 0 | 0 | 0 |    0.000 | ⋯ |  22355.824 |   81129.42 |  9451.771 |  57114.74 |  33504.23 |    0.000 |  20393.60 |  12523.67 |  21131.930 |   4865.259 |\n",
       "| SD_01-2018_1_b.mzXML | 0 | 0 | 3066569 |  67403.99 | 5057.914 | 0 | 0 | 0 | 0 |    0.000 | ⋯ |   5870.526 |   24207.17 |     0.000 |  29632.88 |  28452.48 | 5834.431 |  13967.27 |  11848.81 |   8412.412 |   3065.691 |\n",
       "| SD_01-2018_10_a.mzXML | 0 | 0 | 2863941 | 201483.19 | 4317.684 | 0 | 0 | 0 | 0 | 5206.803 | ⋯ | 317439.000 | 1123902.40 | 74504.555 | 134384.03 | 762986.30 |    0.000 | 157763.02 | 130236.70 | 124595.060 | 138897.280 |\n",
       "\n"
      ],
      "text/plain": [
       "                      92572_151.035_13.364 2513_151.035_1.13 42_151.035_0.551\n",
       "SD_01-2018_1_a.mzXML  0                    0                 2827136         \n",
       "SD_01-2018_1_b.mzXML  0                    0                 3066569         \n",
       "SD_01-2018_10_a.mzXML 0                    0                 2863941         \n",
       "                      1870_151.035_0.887 2127_151.096_0.986\n",
       "SD_01-2018_1_a.mzXML   64247.68             0.000          \n",
       "SD_01-2018_1_b.mzXML   67403.99          5057.914          \n",
       "SD_01-2018_10_a.mzXML 201483.19          4317.684          \n",
       "                      86368_151.098_11.096 90458_151.098_12.344\n",
       "SD_01-2018_1_a.mzXML  0                    0                   \n",
       "SD_01-2018_1_b.mzXML  0                    0                   \n",
       "SD_01-2018_10_a.mzXML 0                    0                   \n",
       "                      88889_151.098_11.826 87841_151.098_11.55\n",
       "SD_01-2018_1_a.mzXML  0                    0                  \n",
       "SD_01-2018_1_b.mzXML  0                    0                  \n",
       "SD_01-2018_10_a.mzXML 0                    0                  \n",
       "                      1653_152.057_0.847 ⋯ 88116_1444.398_11.482\n",
       "SD_01-2018_1_a.mzXML     0.000           ⋯  22355.824           \n",
       "SD_01-2018_1_b.mzXML     0.000           ⋯   5870.526           \n",
       "SD_01-2018_10_a.mzXML 5206.803           ⋯ 317439.000           \n",
       "                      89487_1444.398_12.017 86967_1444.398_11.216\n",
       "SD_01-2018_1_a.mzXML    81129.42             9451.771            \n",
       "SD_01-2018_1_b.mzXML    24207.17                0.000            \n",
       "SD_01-2018_10_a.mzXML 1123902.40            74504.555            \n",
       "                      90591_1444.399_12.387 91218_1444.399_12.614\n",
       "SD_01-2018_1_a.mzXML   57114.74              33504.23            \n",
       "SD_01-2018_1_b.mzXML   29632.88              28452.48            \n",
       "SD_01-2018_10_a.mzXML 134384.03             762986.30            \n",
       "                      92162_1444.399_12.973 88518_1444.399_11.718\n",
       "SD_01-2018_1_a.mzXML     0.000               20393.60            \n",
       "SD_01-2018_1_b.mzXML  5834.431               13967.27            \n",
       "SD_01-2018_10_a.mzXML    0.000              157763.02            \n",
       "                      88057_1445.398_11.541 89348_1445.398_11.988\n",
       "SD_01-2018_1_a.mzXML   12523.67              21131.930           \n",
       "SD_01-2018_1_b.mzXML   11848.81               8412.412           \n",
       "SD_01-2018_10_a.mzXML 130236.70             124595.060           \n",
       "                      91876_1445.399_12.863\n",
       "SD_01-2018_1_a.mzXML    4865.259           \n",
       "SD_01-2018_1_b.mzXML    3065.691           \n",
       "SD_01-2018_10_a.mzXML 138897.280           "
      ]
     },
     "metadata": {},
     "output_type": "display_data"
    },
    {
     "data": {
      "text/html": [
       "<style>\n",
       ".list-inline {list-style: none; margin:0; padding: 0}\n",
       ".list-inline>li {display: inline-block}\n",
       ".list-inline>li:not(:last-child)::after {content: \"\\00b7\"; padding: 0 .5ex}\n",
       "</style>\n",
       "<ol class=list-inline><li>180</li><li>11217</li></ol>\n"
      ],
      "text/latex": [
       "\\begin{enumerate*}\n",
       "\\item 180\n",
       "\\item 11217\n",
       "\\end{enumerate*}\n"
      ],
      "text/markdown": [
       "1. 180\n",
       "2. 11217\n",
       "\n",
       "\n"
      ],
      "text/plain": [
       "[1]   180 11217"
      ]
     },
     "metadata": {},
     "output_type": "display_data"
    }
   ],
   "source": [
    "#Getting the samples based on the metadata \n",
    "md_Samples <- new_md %>% filter(`ATTRIBUTE_Sample.Type` == \"Sample\")\n",
    "Samples <- ft_t[which(rownames(ft_t) %in% (md_Samples$`filename`)),,drop=F]\n",
    "\n",
    "head(Samples, n=3)\n",
    "dim(Samples)"
   ]
  },
  {
   "cell_type": "markdown",
   "id": "105ce796",
   "metadata": {
    "id": "105ce796"
   },
   "source": [
    "**Now that we have our data ready, we can start with the cleanup steps!!**"
   ]
  },
  {
   "cell_type": "markdown",
   "id": "43099574",
   "metadata": {
    "id": "43099574",
    "toc-hr-collapsed": true
   },
   "source": [
    "# Step 2: Blank Removal\n",
    "\n",
    "<p style='text-align: justify;'> In LC-MS/MS, we use solvents called Blanks which are usually injected time-to-time to prevent carryover of the sample. The features coming from these Blanks would also be detected by LC-MS/MS instrument. Our goal here is to remove these features from our samples. The other blanks that can be removed are: Signals coming from growth media alone in terms of microbial growth experiment, signals from the solvent used for extraction methods and so on. Therefore, it is best practice to measure mass spectra of these blanks as well in addition to your sample spectra. </p>\n",
    "\n",
    "**How do we remove these blank features?** </br> \n",
    "<p style='text-align: justify;'> Since we have the feature table split into Control blanks and Sample groups now, we can compare blanks to the sample to identify the background features coming from blanks. A common filtering method is to use a cutoff to remove features that are not present sufficient enough in our biological samples. </p>\n",
    "\n",
    "The steps followed in the next few cells are:\n",
    "1. <p style='text-align: justify;'> We find an average for all the feature intensities in your blank set and sample set. Therefore, we average each feature intensity across all samples and blanks. </p>\n",
    "2. <p style='text-align: justify;'> Next, we get a ratio of this average_feature_blanks vs average_feature_sample. This ratio Blank/sample tells us how much of that particular feature of a sample gets its contribution from blanks. If it is more than 30% (or Cutoff as 0.3), we consider the feature as noise. </p>\n",
    "3. <p style='text-align: justify;'> The resultant information (if ratio > Cutoff or not) is stored in a bin such as 1 = Noise or background signal, 0 = Feature Signal</p>\n",
    "4. <p style='text-align: justify;'> We count the no.of features in the bin that satisfies the condition ratio > cutoff, and consider those features as 'noise or background features' and remove them. </p>"
   ]
  },
  {
   "cell_type": "markdown",
   "id": "74eaf47e",
   "metadata": {
    "id": "74eaf47e"
   },
   "source": [
    "**<font color='red'> The Cutoff used is 0.3 </font>**"
   ]
  },
  {
   "cell_type": "code",
   "execution_count": 74,
   "id": "b25ea36a",
   "metadata": {
    "colab": {
     "base_uri": "https://localhost:8080/"
    },
    "executionInfo": {
     "elapsed": 3118,
     "status": "ok",
     "timestamp": 1666552378679,
     "user": {
      "displayName": "Abzer Kelminal.P M",
      "userId": "16537922509430952288"
     },
     "user_tz": -120
    },
    "id": "b25ea36a",
    "outputId": "805eb969-d3e8-479b-dbe3-c6bdbaa83aca"
   },
   "outputs": [
    {
     "name": "stdout",
     "output_type": "stream",
     "text": [
      "Enter Cutoff value between 0.1 & 1:0.3\n"
     ]
    },
    {
     "data": {
      "text/html": [
       "<table class=\"dataframe\">\n",
       "<caption>A data.frame: 4 × 1</caption>\n",
       "<thead>\n",
       "\t<tr><th></th><th scope=col>NA_count</th></tr>\n",
       "\t<tr><th></th><th scope=col>&lt;int&gt;</th></tr>\n",
       "</thead>\n",
       "<tbody>\n",
       "\t<tr><th scope=row>Avg_blank</th><td>0</td></tr>\n",
       "\t<tr><th scope=row>Avg_samples</th><td>0</td></tr>\n",
       "\t<tr><th scope=row>Ratio_blank_Sample</th><td>0</td></tr>\n",
       "\t<tr><th scope=row>Bg_bin</th><td>0</td></tr>\n",
       "</tbody>\n",
       "</table>\n"
      ],
      "text/latex": [
       "A data.frame: 4 × 1\n",
       "\\begin{tabular}{r|l}\n",
       "  & NA\\_count\\\\\n",
       "  & <int>\\\\\n",
       "\\hline\n",
       "\tAvg\\_blank & 0\\\\\n",
       "\tAvg\\_samples & 0\\\\\n",
       "\tRatio\\_blank\\_Sample & 0\\\\\n",
       "\tBg\\_bin & 0\\\\\n",
       "\\end{tabular}\n"
      ],
      "text/markdown": [
       "\n",
       "A data.frame: 4 × 1\n",
       "\n",
       "| <!--/--> | NA_count &lt;int&gt; |\n",
       "|---|---|\n",
       "| Avg_blank | 0 |\n",
       "| Avg_samples | 0 |\n",
       "| Ratio_blank_Sample | 0 |\n",
       "| Bg_bin | 0 |\n",
       "\n"
      ],
      "text/plain": [
       "                   NA_count\n",
       "Avg_blank          0       \n",
       "Avg_samples        0       \n",
       "Ratio_blank_Sample 0       \n",
       "Bg_bin             0       "
      ]
     },
     "metadata": {},
     "output_type": "display_data"
    },
    {
     "name": "stdout",
     "output_type": "stream",
     "text": [
      "[1] \"Total no.of features: 11217\"\n",
      "[1] \"No.of Background or noise features: 2125\"\n",
      "[1] \"No.of features after excluding noise: 9092\"\n"
     ]
    }
   ],
   "source": [
    "#When cutoff is low, more noise (or background) detected; With higher cutoff, less background detected, thus more features observed\n",
    "Cutoff <- as.numeric(readline('Enter Cutoff value between 0.1 & 1:')) # (i.e. 10% - 100%). Ideal cutoff range: 0.1-0.3\n",
    "    \n",
    "#Getting mean for every feature in blank and Samples\n",
    "Avg_ft <- data.frame(Avg_blank=colMeans(Blank, na.rm= F)) # set na.rm = F to check if there are NA values. When set as T, NA values are changed to 0\n",
    "Avg_ft$Avg_samples <- colMeans(Samples, na.rm= F)\n",
    "    \n",
    "#Getting the ratio of blank vs Sample\n",
    "Avg_ft$Ratio_blank_Sample <- (Avg_ft$Avg_blank+1)/(Avg_ft$Avg_samples+1)\n",
    "    \n",
    "# Creating a bin with 1s when the ratio>Cutoff, else put 0s\n",
    "Avg_ft$Bg_bin <- ifelse(Avg_ft$Ratio_blank_Sample > Cutoff, 1, 0 )\n",
    "\n",
    "# Checking if there are any NA values present. Having NA values in the 4 variables will affect the final dataset to be created\n",
    "IRdisplay::display(data.frame(NA_count=sapply(Avg_ft, function(x) sum(is.na(x)))))\n",
    "\n",
    "#Calculating the number of background features and features present\n",
    "print(paste(\"Total no.of features:\",nrow(Avg_ft)))\n",
    "print(paste(\"No.of Background or noise features:\",sum(Avg_ft$Bg_bin ==1,na.rm = T)))\n",
    "print(paste(\"No.of features after excluding noise:\",(ncol(Samples) - sum(Avg_ft$Bg_bin ==1,na.rm = T))))\n",
    "                                \n",
    "Blank_removal <- merge(as.data.frame(t(Samples)), Avg_ft, by=0) %>%\n",
    "                    filter(Bg_bin == 0) %>% #picking only the features\n",
    "                    select(-c(Avg_blank,Avg_samples,Ratio_blank_Sample,Bg_bin)) %>% #removing the last 4 columns\n",
    "                    column_to_rownames(var=\"Row.names\")"
   ]
  },
  {
   "cell_type": "code",
   "execution_count": 75,
   "id": "81cbd3f6",
   "metadata": {
    "colab": {
     "base_uri": "https://localhost:8080/",
     "height": 309
    },
    "executionInfo": {
     "elapsed": 338,
     "status": "ok",
     "timestamp": 1666529817447,
     "user": {
      "displayName": "Abzer Kelminal.P M",
      "userId": "16537922509430952288"
     },
     "user_tz": -120
    },
    "id": "81cbd3f6",
    "outputId": "f695fc30-4e08-4b8b-f1a8-c479e27e70fa"
   },
   "outputs": [
    {
     "data": {
      "text/html": [
       "<table class=\"dataframe\">\n",
       "<caption>A data.frame: 3 × 180</caption>\n",
       "<thead>\n",
       "\t<tr><th></th><th scope=col>SD_01-2018_1_a.mzXML</th><th scope=col>SD_01-2018_1_b.mzXML</th><th scope=col>SD_01-2018_10_a.mzXML</th><th scope=col>SD_01-2018_10_b.mzXML</th><th scope=col>SD_01-2018_11_a.mzXML</th><th scope=col>SD_01-2018_11_b.mzXML</th><th scope=col>SD_01-2018_12_a.mzXML</th><th scope=col>SD_01-2018_12_b.mzXML</th><th scope=col>SD_01-2018_13_a.mzXML</th><th scope=col>SD_01-2018_13_b.mzXML</th><th scope=col>⋯</th><th scope=col>SD_12-2017_5_a.mzXML</th><th scope=col>SD_12-2017_5_b.mzXML</th><th scope=col>SD_12-2017_6_a.mzXML</th><th scope=col>SD_12-2017_6_b.mzXML</th><th scope=col>SD_12-2017_7_a.mzXML</th><th scope=col>SD_12-2017_7_b.mzXML</th><th scope=col>SD_12-2017_8_a.mzXML</th><th scope=col>SD_12-2017_8_b.mzXML</th><th scope=col>SD_12-2017_9_a.mzXML</th><th scope=col>SD_12-2017_9_b.mzXML</th></tr>\n",
       "\t<tr><th></th><th scope=col>&lt;dbl&gt;</th><th scope=col>&lt;dbl&gt;</th><th scope=col>&lt;dbl&gt;</th><th scope=col>&lt;dbl&gt;</th><th scope=col>&lt;dbl&gt;</th><th scope=col>&lt;dbl&gt;</th><th scope=col>&lt;dbl&gt;</th><th scope=col>&lt;dbl&gt;</th><th scope=col>&lt;dbl&gt;</th><th scope=col>&lt;dbl&gt;</th><th scope=col>⋯</th><th scope=col>&lt;dbl&gt;</th><th scope=col>&lt;dbl&gt;</th><th scope=col>&lt;dbl&gt;</th><th scope=col>&lt;dbl&gt;</th><th scope=col>&lt;dbl&gt;</th><th scope=col>&lt;dbl&gt;</th><th scope=col>&lt;dbl&gt;</th><th scope=col>&lt;dbl&gt;</th><th scope=col>&lt;dbl&gt;</th><th scope=col>&lt;dbl&gt;</th></tr>\n",
       "</thead>\n",
       "<tbody>\n",
       "\t<tr><th scope=row>10015_282.169_2.763</th><td> 50907.97</td><td> 51443.73</td><td>109227.84</td><td>176375.7</td><td>104468.73</td><td>107860.7</td><td>416643.34</td><td>100000.83</td><td>113347.2</td><td>229451.5</td><td>⋯</td><td> 81368.72</td><td>110551.6</td><td> 86917.61</td><td> 73583.30</td><td>135812.39</td><td>142495.92</td><td>172251.69</td><td>259688.52</td><td>205187.22</td><td>139750.70</td></tr>\n",
       "\t<tr><th scope=row>10035_325.139_2.817</th><td>196008.38</td><td> 99569.05</td><td>144769.50</td><td>133548.6</td><td>508455.56</td><td> 99449.2</td><td>450726.62</td><td>161512.50</td><td>151758.7</td><td>146276.4</td><td>⋯</td><td>106263.34</td><td>308457.9</td><td>207960.67</td><td>227622.08</td><td>115274.43</td><td>534276.94</td><td>113054.56</td><td>114660.29</td><td>729054.10</td><td> 80493.73</td></tr>\n",
       "\t<tr><th scope=row>10037_216.123_2.847</th><td> 90480.91</td><td>411595.38</td><td> 52234.81</td><td> 65790.7</td><td> 86723.45</td><td>151315.9</td><td> 43235.33</td><td> 74290.67</td><td>150423.6</td><td>153153.6</td><td>⋯</td><td> 22688.39</td><td>     0.0</td><td> 22162.11</td><td> 85534.48</td><td> 41371.13</td><td> 64968.08</td><td> 82838.27</td><td> 47383.38</td><td> 82120.17</td><td> 57830.04</td></tr>\n",
       "</tbody>\n",
       "</table>\n"
      ],
      "text/latex": [
       "A data.frame: 3 × 180\n",
       "\\begin{tabular}{r|lllllllllllllllllllll}\n",
       "  & SD\\_01-2018\\_1\\_a.mzXML & SD\\_01-2018\\_1\\_b.mzXML & SD\\_01-2018\\_10\\_a.mzXML & SD\\_01-2018\\_10\\_b.mzXML & SD\\_01-2018\\_11\\_a.mzXML & SD\\_01-2018\\_11\\_b.mzXML & SD\\_01-2018\\_12\\_a.mzXML & SD\\_01-2018\\_12\\_b.mzXML & SD\\_01-2018\\_13\\_a.mzXML & SD\\_01-2018\\_13\\_b.mzXML & ⋯ & SD\\_12-2017\\_5\\_a.mzXML & SD\\_12-2017\\_5\\_b.mzXML & SD\\_12-2017\\_6\\_a.mzXML & SD\\_12-2017\\_6\\_b.mzXML & SD\\_12-2017\\_7\\_a.mzXML & SD\\_12-2017\\_7\\_b.mzXML & SD\\_12-2017\\_8\\_a.mzXML & SD\\_12-2017\\_8\\_b.mzXML & SD\\_12-2017\\_9\\_a.mzXML & SD\\_12-2017\\_9\\_b.mzXML\\\\\n",
       "  & <dbl> & <dbl> & <dbl> & <dbl> & <dbl> & <dbl> & <dbl> & <dbl> & <dbl> & <dbl> & ⋯ & <dbl> & <dbl> & <dbl> & <dbl> & <dbl> & <dbl> & <dbl> & <dbl> & <dbl> & <dbl>\\\\\n",
       "\\hline\n",
       "\t10015\\_282.169\\_2.763 &  50907.97 &  51443.73 & 109227.84 & 176375.7 & 104468.73 & 107860.7 & 416643.34 & 100000.83 & 113347.2 & 229451.5 & ⋯ &  81368.72 & 110551.6 &  86917.61 &  73583.30 & 135812.39 & 142495.92 & 172251.69 & 259688.52 & 205187.22 & 139750.70\\\\\n",
       "\t10035\\_325.139\\_2.817 & 196008.38 &  99569.05 & 144769.50 & 133548.6 & 508455.56 &  99449.2 & 450726.62 & 161512.50 & 151758.7 & 146276.4 & ⋯ & 106263.34 & 308457.9 & 207960.67 & 227622.08 & 115274.43 & 534276.94 & 113054.56 & 114660.29 & 729054.10 &  80493.73\\\\\n",
       "\t10037\\_216.123\\_2.847 &  90480.91 & 411595.38 &  52234.81 &  65790.7 &  86723.45 & 151315.9 &  43235.33 &  74290.67 & 150423.6 & 153153.6 & ⋯ &  22688.39 &      0.0 &  22162.11 &  85534.48 &  41371.13 &  64968.08 &  82838.27 &  47383.38 &  82120.17 &  57830.04\\\\\n",
       "\\end{tabular}\n"
      ],
      "text/markdown": [
       "\n",
       "A data.frame: 3 × 180\n",
       "\n",
       "| <!--/--> | SD_01-2018_1_a.mzXML &lt;dbl&gt; | SD_01-2018_1_b.mzXML &lt;dbl&gt; | SD_01-2018_10_a.mzXML &lt;dbl&gt; | SD_01-2018_10_b.mzXML &lt;dbl&gt; | SD_01-2018_11_a.mzXML &lt;dbl&gt; | SD_01-2018_11_b.mzXML &lt;dbl&gt; | SD_01-2018_12_a.mzXML &lt;dbl&gt; | SD_01-2018_12_b.mzXML &lt;dbl&gt; | SD_01-2018_13_a.mzXML &lt;dbl&gt; | SD_01-2018_13_b.mzXML &lt;dbl&gt; | ⋯ ⋯ | SD_12-2017_5_a.mzXML &lt;dbl&gt; | SD_12-2017_5_b.mzXML &lt;dbl&gt; | SD_12-2017_6_a.mzXML &lt;dbl&gt; | SD_12-2017_6_b.mzXML &lt;dbl&gt; | SD_12-2017_7_a.mzXML &lt;dbl&gt; | SD_12-2017_7_b.mzXML &lt;dbl&gt; | SD_12-2017_8_a.mzXML &lt;dbl&gt; | SD_12-2017_8_b.mzXML &lt;dbl&gt; | SD_12-2017_9_a.mzXML &lt;dbl&gt; | SD_12-2017_9_b.mzXML &lt;dbl&gt; |\n",
       "|---|---|---|---|---|---|---|---|---|---|---|---|---|---|---|---|---|---|---|---|---|---|\n",
       "| 10015_282.169_2.763 |  50907.97 |  51443.73 | 109227.84 | 176375.7 | 104468.73 | 107860.7 | 416643.34 | 100000.83 | 113347.2 | 229451.5 | ⋯ |  81368.72 | 110551.6 |  86917.61 |  73583.30 | 135812.39 | 142495.92 | 172251.69 | 259688.52 | 205187.22 | 139750.70 |\n",
       "| 10035_325.139_2.817 | 196008.38 |  99569.05 | 144769.50 | 133548.6 | 508455.56 |  99449.2 | 450726.62 | 161512.50 | 151758.7 | 146276.4 | ⋯ | 106263.34 | 308457.9 | 207960.67 | 227622.08 | 115274.43 | 534276.94 | 113054.56 | 114660.29 | 729054.10 |  80493.73 |\n",
       "| 10037_216.123_2.847 |  90480.91 | 411595.38 |  52234.81 |  65790.7 |  86723.45 | 151315.9 |  43235.33 |  74290.67 | 150423.6 | 153153.6 | ⋯ |  22688.39 |      0.0 |  22162.11 |  85534.48 |  41371.13 |  64968.08 |  82838.27 |  47383.38 |  82120.17 |  57830.04 |\n",
       "\n"
      ],
      "text/plain": [
       "                    SD_01-2018_1_a.mzXML SD_01-2018_1_b.mzXML\n",
       "10015_282.169_2.763  50907.97             51443.73           \n",
       "10035_325.139_2.817 196008.38             99569.05           \n",
       "10037_216.123_2.847  90480.91            411595.38           \n",
       "                    SD_01-2018_10_a.mzXML SD_01-2018_10_b.mzXML\n",
       "10015_282.169_2.763 109227.84             176375.7             \n",
       "10035_325.139_2.817 144769.50             133548.6             \n",
       "10037_216.123_2.847  52234.81              65790.7             \n",
       "                    SD_01-2018_11_a.mzXML SD_01-2018_11_b.mzXML\n",
       "10015_282.169_2.763 104468.73             107860.7             \n",
       "10035_325.139_2.817 508455.56              99449.2             \n",
       "10037_216.123_2.847  86723.45             151315.9             \n",
       "                    SD_01-2018_12_a.mzXML SD_01-2018_12_b.mzXML\n",
       "10015_282.169_2.763 416643.34             100000.83            \n",
       "10035_325.139_2.817 450726.62             161512.50            \n",
       "10037_216.123_2.847  43235.33              74290.67            \n",
       "                    SD_01-2018_13_a.mzXML SD_01-2018_13_b.mzXML ⋯\n",
       "10015_282.169_2.763 113347.2              229451.5              ⋯\n",
       "10035_325.139_2.817 151758.7              146276.4              ⋯\n",
       "10037_216.123_2.847 150423.6              153153.6              ⋯\n",
       "                    SD_12-2017_5_a.mzXML SD_12-2017_5_b.mzXML\n",
       "10015_282.169_2.763  81368.72            110551.6            \n",
       "10035_325.139_2.817 106263.34            308457.9            \n",
       "10037_216.123_2.847  22688.39                 0.0            \n",
       "                    SD_12-2017_6_a.mzXML SD_12-2017_6_b.mzXML\n",
       "10015_282.169_2.763  86917.61             73583.30           \n",
       "10035_325.139_2.817 207960.67            227622.08           \n",
       "10037_216.123_2.847  22162.11             85534.48           \n",
       "                    SD_12-2017_7_a.mzXML SD_12-2017_7_b.mzXML\n",
       "10015_282.169_2.763 135812.39            142495.92           \n",
       "10035_325.139_2.817 115274.43            534276.94           \n",
       "10037_216.123_2.847  41371.13             64968.08           \n",
       "                    SD_12-2017_8_a.mzXML SD_12-2017_8_b.mzXML\n",
       "10015_282.169_2.763 172251.69            259688.52           \n",
       "10035_325.139_2.817 113054.56            114660.29           \n",
       "10037_216.123_2.847  82838.27             47383.38           \n",
       "                    SD_12-2017_9_a.mzXML SD_12-2017_9_b.mzXML\n",
       "10015_282.169_2.763 205187.22            139750.70           \n",
       "10035_325.139_2.817 729054.10             80493.73           \n",
       "10037_216.123_2.847  82120.17             57830.04           "
      ]
     },
     "metadata": {},
     "output_type": "display_data"
    },
    {
     "data": {
      "text/html": [
       "<style>\n",
       ".list-inline {list-style: none; margin:0; padding: 0}\n",
       ".list-inline>li {display: inline-block}\n",
       ".list-inline>li:not(:last-child)::after {content: \"\\00b7\"; padding: 0 .5ex}\n",
       "</style>\n",
       "<ol class=list-inline><li>9092</li><li>180</li></ol>\n"
      ],
      "text/latex": [
       "\\begin{enumerate*}\n",
       "\\item 9092\n",
       "\\item 180\n",
       "\\end{enumerate*}\n"
      ],
      "text/markdown": [
       "1. 9092\n",
       "2. 180\n",
       "\n",
       "\n"
      ],
      "text/plain": [
       "[1] 9092  180"
      ]
     },
     "metadata": {},
     "output_type": "display_data"
    }
   ],
   "source": [
    "head(Blank_removal, 3)\n",
    "dim(Blank_removal)"
   ]
  },
  {
   "cell_type": "code",
   "execution_count": 76,
   "id": "c2f8fa32",
   "metadata": {
    "scrolled": true
   },
   "outputs": [
    {
     "data": {
      "text/html": [
       "<table class=\"dataframe\">\n",
       "<caption>A data.frame: 3 × 14</caption>\n",
       "<thead>\n",
       "\t<tr><th></th><th scope=col>filename</th><th scope=col>ATTRIBUTE_Sample.Type</th><th scope=col>ATTRIBUTE_Batch</th><th scope=col>ATTRIBUTE_Month</th><th scope=col>ATTRIBUTE_Year</th><th scope=col>ATTRIBUTE_Sample_Location</th><th scope=col>ATTRIBUTE_Replicate</th><th scope=col>ATTRIBUTE_Spot</th><th scope=col>ATTRIBUTE_Latitude</th><th scope=col>ATTRIBUTE_Longitude</th><th scope=col>ATTRIBUTE_Sample_Area</th><th scope=col>ATTRIBUTE_Spot_Name</th><th scope=col>time_run</th><th scope=col>Injection_order</th></tr>\n",
       "\t<tr><th></th><th scope=col>&lt;chr&gt;</th><th scope=col>&lt;chr&gt;</th><th scope=col>&lt;int&gt;</th><th scope=col>&lt;chr&gt;</th><th scope=col>&lt;int&gt;</th><th scope=col>&lt;int&gt;</th><th scope=col>&lt;chr&gt;</th><th scope=col>&lt;int&gt;</th><th scope=col>&lt;dbl&gt;</th><th scope=col>&lt;dbl&gt;</th><th scope=col>&lt;chr&gt;</th><th scope=col>&lt;chr&gt;</th><th scope=col>&lt;chr&gt;</th><th scope=col>&lt;int&gt;</th></tr>\n",
       "</thead>\n",
       "<tbody>\n",
       "\t<tr><th scope=row>1</th><td>SD_01-2018_1_a.mzXML </td><td>Sample</td><td>2</td><td>Jan</td><td>2018</td><td> 1</td><td>a</td><td> 1</td><td>32.93365</td><td>-117.2648</td><td>Torrey_Pines       </td><td>Lagoon_Outlet </td><td>16/01/2018 11:36</td><td>65</td></tr>\n",
       "\t<tr><th scope=row>2</th><td>SD_01-2018_1_b.mzXML </td><td>Sample</td><td>2</td><td>Jan</td><td>2018</td><td> 1</td><td>b</td><td> 1</td><td>32.93365</td><td>-117.2648</td><td>Torrey_Pines       </td><td>Lagoon_Outlet </td><td>16/01/2018 11:52</td><td>66</td></tr>\n",
       "\t<tr><th scope=row>3</th><td>SD_01-2018_10_a.mzXML</td><td>Sample</td><td>2</td><td>Jan</td><td>2018</td><td>10</td><td>a</td><td>10</td><td>32.86261</td><td>-117.2604</td><td>SIO_La_Jolla_Shores</td><td>SIO_South_Pier</td><td>16/01/2018 16:23</td><td>83</td></tr>\n",
       "</tbody>\n",
       "</table>\n"
      ],
      "text/latex": [
       "A data.frame: 3 × 14\n",
       "\\begin{tabular}{r|llllllllllllll}\n",
       "  & filename & ATTRIBUTE\\_Sample.Type & ATTRIBUTE\\_Batch & ATTRIBUTE\\_Month & ATTRIBUTE\\_Year & ATTRIBUTE\\_Sample\\_Location & ATTRIBUTE\\_Replicate & ATTRIBUTE\\_Spot & ATTRIBUTE\\_Latitude & ATTRIBUTE\\_Longitude & ATTRIBUTE\\_Sample\\_Area & ATTRIBUTE\\_Spot\\_Name & time\\_run & Injection\\_order\\\\\n",
       "  & <chr> & <chr> & <int> & <chr> & <int> & <int> & <chr> & <int> & <dbl> & <dbl> & <chr> & <chr> & <chr> & <int>\\\\\n",
       "\\hline\n",
       "\t1 & SD\\_01-2018\\_1\\_a.mzXML  & Sample & 2 & Jan & 2018 &  1 & a &  1 & 32.93365 & -117.2648 & Torrey\\_Pines        & Lagoon\\_Outlet  & 16/01/2018 11:36 & 65\\\\\n",
       "\t2 & SD\\_01-2018\\_1\\_b.mzXML  & Sample & 2 & Jan & 2018 &  1 & b &  1 & 32.93365 & -117.2648 & Torrey\\_Pines        & Lagoon\\_Outlet  & 16/01/2018 11:52 & 66\\\\\n",
       "\t3 & SD\\_01-2018\\_10\\_a.mzXML & Sample & 2 & Jan & 2018 & 10 & a & 10 & 32.86261 & -117.2604 & SIO\\_La\\_Jolla\\_Shores & SIO\\_South\\_Pier & 16/01/2018 16:23 & 83\\\\\n",
       "\\end{tabular}\n"
      ],
      "text/markdown": [
       "\n",
       "A data.frame: 3 × 14\n",
       "\n",
       "| <!--/--> | filename &lt;chr&gt; | ATTRIBUTE_Sample.Type &lt;chr&gt; | ATTRIBUTE_Batch &lt;int&gt; | ATTRIBUTE_Month &lt;chr&gt; | ATTRIBUTE_Year &lt;int&gt; | ATTRIBUTE_Sample_Location &lt;int&gt; | ATTRIBUTE_Replicate &lt;chr&gt; | ATTRIBUTE_Spot &lt;int&gt; | ATTRIBUTE_Latitude &lt;dbl&gt; | ATTRIBUTE_Longitude &lt;dbl&gt; | ATTRIBUTE_Sample_Area &lt;chr&gt; | ATTRIBUTE_Spot_Name &lt;chr&gt; | time_run &lt;chr&gt; | Injection_order &lt;int&gt; |\n",
       "|---|---|---|---|---|---|---|---|---|---|---|---|---|---|---|\n",
       "| 1 | SD_01-2018_1_a.mzXML  | Sample | 2 | Jan | 2018 |  1 | a |  1 | 32.93365 | -117.2648 | Torrey_Pines        | Lagoon_Outlet  | 16/01/2018 11:36 | 65 |\n",
       "| 2 | SD_01-2018_1_b.mzXML  | Sample | 2 | Jan | 2018 |  1 | b |  1 | 32.93365 | -117.2648 | Torrey_Pines        | Lagoon_Outlet  | 16/01/2018 11:52 | 66 |\n",
       "| 3 | SD_01-2018_10_a.mzXML | Sample | 2 | Jan | 2018 | 10 | a | 10 | 32.86261 | -117.2604 | SIO_La_Jolla_Shores | SIO_South_Pier | 16/01/2018 16:23 | 83 |\n",
       "\n"
      ],
      "text/plain": [
       "  filename              ATTRIBUTE_Sample.Type ATTRIBUTE_Batch ATTRIBUTE_Month\n",
       "1 SD_01-2018_1_a.mzXML  Sample                2               Jan            \n",
       "2 SD_01-2018_1_b.mzXML  Sample                2               Jan            \n",
       "3 SD_01-2018_10_a.mzXML Sample                2               Jan            \n",
       "  ATTRIBUTE_Year ATTRIBUTE_Sample_Location ATTRIBUTE_Replicate ATTRIBUTE_Spot\n",
       "1 2018            1                        a                    1            \n",
       "2 2018            1                        b                    1            \n",
       "3 2018           10                        a                   10            \n",
       "  ATTRIBUTE_Latitude ATTRIBUTE_Longitude ATTRIBUTE_Sample_Area\n",
       "1 32.93365           -117.2648           Torrey_Pines         \n",
       "2 32.93365           -117.2648           Torrey_Pines         \n",
       "3 32.86261           -117.2604           SIO_La_Jolla_Shores  \n",
       "  ATTRIBUTE_Spot_Name time_run         Injection_order\n",
       "1 Lagoon_Outlet       16/01/2018 11:36 65             \n",
       "2 Lagoon_Outlet       16/01/2018 11:52 66             \n",
       "3 SIO_South_Pier      16/01/2018 16:23 83             "
      ]
     },
     "metadata": {},
     "output_type": "display_data"
    },
    {
     "data": {
      "text/html": [
       "<style>\n",
       ".list-inline {list-style: none; margin:0; padding: 0}\n",
       ".list-inline>li {display: inline-block}\n",
       ".list-inline>li:not(:last-child)::after {content: \"\\00b7\"; padding: 0 .5ex}\n",
       "</style>\n",
       "<ol class=list-inline><li>180</li><li>14</li></ol>\n"
      ],
      "text/latex": [
       "\\begin{enumerate*}\n",
       "\\item 180\n",
       "\\item 14\n",
       "\\end{enumerate*}\n"
      ],
      "text/markdown": [
       "1. 180\n",
       "2. 14\n",
       "\n",
       "\n"
      ],
      "text/plain": [
       "[1] 180  14"
      ]
     },
     "metadata": {},
     "output_type": "display_data"
    }
   ],
   "source": [
    "head(md_Samples, 3)\n",
    "dim(md_Samples)"
   ]
  },
  {
   "cell_type": "code",
   "execution_count": 41,
   "id": "80ac7878",
   "metadata": {
    "executionInfo": {
     "elapsed": 556,
     "status": "ok",
     "timestamp": 1666182449347,
     "user": {
      "displayName": "Abzer Kelminal.P M",
      "userId": "16537922509430952288"
     },
     "user_tz": -120
    },
    "id": "80ac7878"
   },
   "outputs": [],
   "source": [
    "write.csv(Blank_removal,paste0('141222_Blanks_Removed_CutOff_Used_',Cutoff,'.csv'),row.names =TRUE)"
   ]
  },
  {
   "cell_type": "markdown",
   "id": "b4210007",
   "metadata": {
    "id": "b4210007",
    "toc-hr-collapsed": true
   },
   "source": [
    "# Step 3: Imputation\n",
    "\n",
    "<p style='text-align: justify;'> For several reasons, real world datasets might have some missing values in it, in the form of NA, NANs or 0s. Eventhough the gapfilling step of MZmine fills the missing values, we still end up with some missing values or 0s in our feature table. This could be problematic for statistical analysis. </p> \n",
    "<p style='text-align: justify;'> In order to have a better dataset, we cannot simply discard those rows or columns with missing values as we will lose a chunk of our valuable data. Instead we can try imputing those missing values. Imputation involves replacing the missing values in the data with a meaningful, reasonable guess. There are several methods, such as: </p> \n",
    "  \n",
    "1) Mean imputation (replacing the missing values in a column with the mean or average of the column)  \n",
    "2) Replacing it with the most frequent value  \n",
    "3) Several other machine learning imputation methods such as k-nearest neighbors algorithm(k-NN), Hidden Markov Model(HMM)\n",
    "\n",
    "Here, we use the blank-removed table and see the frquency distribution of its features with the ggplot function. It shows where the features are present in higher number. Then we create random values between 0 and the minimum value in our blank-removed table and randomly replace all 0s with these random values. "
   ]
  },
  {
   "cell_type": "code",
   "execution_count": 77,
   "id": "3283cf75-38ec-46fb-b321-7ba6c69c6d64",
   "metadata": {
    "colab": {
     "base_uri": "https://localhost:8080/",
     "height": 935
    },
    "executionInfo": {
     "elapsed": 1123,
     "status": "ok",
     "timestamp": 1666552384295,
     "user": {
      "displayName": "Abzer Kelminal.P M",
      "userId": "16537922509430952288"
     },
     "user_tz": -120
    },
    "id": "3283cf75-38ec-46fb-b321-7ba6c69c6d64",
    "outputId": "f896524a-3e4e-444d-ec79-28ba0d3dd393"
   },
   "outputs": [
    {
     "name": "stdout",
     "output_type": "stream",
     "text": [
      "[1] \"The minimum value greater than 0 in gap-filled table: 892\"\n"
     ]
    },
    {
     "data": {
      "image/png": "[encoded data removed]",
      "text/plain": [
       "plot without title"
      ]
     },
     "metadata": {
      "image/png": {
       "height": 480,
       "width": 480
      }
     },
     "output_type": "display_data"
    }
   ],
   "source": [
    "#creating bins from -1 to 10^10 using sequence function seq()\n",
    "bins <- c(-1,0,(1 * 10^(seq(0,10,1)))) \n",
    "\n",
    "#cut function cuts the give table into its appropriate bins\n",
    "scores_gapfilled <- cut(as.matrix(Blank_removal),bins, labels = c('0','1',paste(\"1E\",1:10,sep=\"\")))\n",
    "\n",
    "#transform function convert the tables into a column format: easy for visualization\n",
    "FreqTable <- transform(table(scores_gapfilled)) #contains 2 columns: \"scores_x1\", \"Freq\"\n",
    "FreqTable$Log_Freq <- log(FreqTable$Freq+1) #Log scaling the frequency values\n",
    "colnames(FreqTable)[1] <- 'Range_Bins' #changing the 1st colname to 'Range Bins'\n",
    "\n",
    "## GGPLOT2\n",
    "ggplot(FreqTable, aes(x=Range_Bins, y=Log_Freq))+ \n",
    "    geom_bar(stat=\"identity\",position = \"dodge\", width=0.3) + \n",
    "    ggtitle(label=\"Frequency plot - Gap Filled\") +\n",
    "    xlab(\"Range\") + ylab(\"(Log)Frequency\") + \n",
    "    theme(plot.title = element_text(hjust = 0.5))\n",
    "\n",
    "Cutoff_LOD <- round(min(Blank_removal[Blank_removal!=min(Blank_removal)]))\n",
    "print(paste0(\"The minimum value greater than 0 in gap-filled table: \",Cutoff_LOD)) "
   ]
  },
  {
   "cell_type": "markdown",
   "id": "ecf06fcf",
   "metadata": {},
   "source": [
    "The above histogram shows that, in our, blank_removal dataframe, there are many zeros present. And no values in the range between 0-100s. The minimum value greater than 0 in our dataframe is in between 1e2 & 1e3 (and that value is 892)"
   ]
  },
  {
   "cell_type": "code",
   "execution_count": 78,
   "id": "20d6fb61",
   "metadata": {},
   "outputs": [
    {
     "data": {
      "text/html": [
       "<style>\n",
       ".list-inline {list-style: none; margin:0; padding: 0}\n",
       ".list-inline>li {display: inline-block}\n",
       ".list-inline>li:not(:last-child)::after {content: \"\\00b7\"; padding: 0 .5ex}\n",
       "</style>\n",
       "<ol class=list-inline><li>772.3</li><li>183.1</li><li>252.2</li><li>202.9</li><li>131.9</li><li>113.8</li><li>521.3</li><li>813.3</li><li>800.5</li><li>208.5</li><li>173.7</li><li>283.4</li><li>722.4</li><li>610.1</li><li>666.7</li><li>51.6</li><li>580.2</li><li>397.2</li><li>760</li><li>669.9</li><li>595.1</li><li>235.3</li><li>491.9</li><li>159.7</li><li>402.8</li><li>72.9</li><li>452.5</li><li>778.8</li><li>682.3</li><li>271</li><li>475.6</li><li>218.7</li><li>702.6</li><li>367.5</li><li>778.3</li><li>93.4</li><li>499.9</li><li>722</li><li>149.8</li><li>889.5</li><li>87.2</li><li>884.6</li><li>509.1</li><li>142.3</li><li>437.5</li><li>809.2</li><li>50.1</li><li>858.1</li><li>405.1</li><li>813.4</li><li>54.1</li><li>570.9</li><li>567.4</li><li>313.3</li><li>289.2</li><li>345.2</li><li>454.2</li><li>118.5</li><li>213.3</li><li>371</li><li>370</li><li>88.6</li><li>96.8</li><li>575.8</li><li>109.5</li><li>599.6</li><li>76.5</li><li>552.7</li><li>23.4</li><li>453.9</li><li>24.3</li><li>481</li><li>140.1</li><li>443.4</li><li>327.8</li><li>761.3</li><li>296.4</li><li>152.5</li><li>135.4</li><li>515</li><li>638.4</li><li>603.3</li><li>547.6</li><li>876.5</li><li>470.7</li><li>220.4</li><li>120.5</li><li>261.7</li><li>568.2</li><li>805.8</li><li>622.9</li><li>694.7</li><li>354.8</li><li>596.9</li><li>884.6</li><li>39.6</li><li>35.2</li><li>651.4</li><li>527.1</li><li>821</li><li>714.8</li><li>320.9</li><li>405.8</li><li>72.6</li><li>579.3</li><li>254.2</li><li>123.3</li><li>23.7</li><li>169.8</li><li>470.1</li><li>588.2</li><li>12.6</li><li>579.7</li><li>74.4</li><li>233.2</li><li>430.7</li><li>699.1</li><li>846.3</li><li>138.2</li><li>391.1</li><li>3.3</li><li>621.8</li><li>262.9</li><li>237.3</li><li>438.3</li><li>878.5</li><li>410.4</li><li>253.3</li><li>736.5</li><li>189.5</li><li>814.3</li><li>206.5</li><li>466.1</li><li>87.8</li><li>814.4</li><li>333.3</li><li>224.3</li><li>470.3</li><li>122.8</li><li>532.4</li><li>159.7</li><li>192.2</li><li>698.6</li><li>884.7</li><li>320.8</li><li>167.6</li><li>640.9</li><li>344</li><li>58.6</li><li>350.8</li><li>606.8</li><li>520.9</li><li>720.5</li><li>426.5</li><li>243.4</li><li>216.7</li><li>868.6</li><li>821.9</li><li>382.6</li><li>89.3</li><li>88.7</li><li>389.2</li><li>48.6</li><li>146.1</li><li>287.5</li><li>630.8</li><li>300.7</li><li>633.8</li><li>316.7</li><li>320.5</li><li>713.2</li><li>548.1</li><li>524.6</li><li>365.8</li><li>90.4</li><li>449.1</li><li>401</li><li>375.9</li><li>613.4</li><li>290.4</li></ol>\n"
      ],
      "text/latex": [
       "\\begin{enumerate*}\n",
       "\\item 772.3\n",
       "\\item 183.1\n",
       "\\item 252.2\n",
       "\\item 202.9\n",
       "\\item 131.9\n",
       "\\item 113.8\n",
       "\\item 521.3\n",
       "\\item 813.3\n",
       "\\item 800.5\n",
       "\\item 208.5\n",
       "\\item 173.7\n",
       "\\item 283.4\n",
       "\\item 722.4\n",
       "\\item 610.1\n",
       "\\item 666.7\n",
       "\\item 51.6\n",
       "\\item 580.2\n",
       "\\item 397.2\n",
       "\\item 760\n",
       "\\item 669.9\n",
       "\\item 595.1\n",
       "\\item 235.3\n",
       "\\item 491.9\n",
       "\\item 159.7\n",
       "\\item 402.8\n",
       "\\item 72.9\n",
       "\\item 452.5\n",
       "\\item 778.8\n",
       "\\item 682.3\n",
       "\\item 271\n",
       "\\item 475.6\n",
       "\\item 218.7\n",
       "\\item 702.6\n",
       "\\item 367.5\n",
       "\\item 778.3\n",
       "\\item 93.4\n",
       "\\item 499.9\n",
       "\\item 722\n",
       "\\item 149.8\n",
       "\\item 889.5\n",
       "\\item 87.2\n",
       "\\item 884.6\n",
       "\\item 509.1\n",
       "\\item 142.3\n",
       "\\item 437.5\n",
       "\\item 809.2\n",
       "\\item 50.1\n",
       "\\item 858.1\n",
       "\\item 405.1\n",
       "\\item 813.4\n",
       "\\item 54.1\n",
       "\\item 570.9\n",
       "\\item 567.4\n",
       "\\item 313.3\n",
       "\\item 289.2\n",
       "\\item 345.2\n",
       "\\item 454.2\n",
       "\\item 118.5\n",
       "\\item 213.3\n",
       "\\item 371\n",
       "\\item 370\n",
       "\\item 88.6\n",
       "\\item 96.8\n",
       "\\item 575.8\n",
       "\\item 109.5\n",
       "\\item 599.6\n",
       "\\item 76.5\n",
       "\\item 552.7\n",
       "\\item 23.4\n",
       "\\item 453.9\n",
       "\\item 24.3\n",
       "\\item 481\n",
       "\\item 140.1\n",
       "\\item 443.4\n",
       "\\item 327.8\n",
       "\\item 761.3\n",
       "\\item 296.4\n",
       "\\item 152.5\n",
       "\\item 135.4\n",
       "\\item 515\n",
       "\\item 638.4\n",
       "\\item 603.3\n",
       "\\item 547.6\n",
       "\\item 876.5\n",
       "\\item 470.7\n",
       "\\item 220.4\n",
       "\\item 120.5\n",
       "\\item 261.7\n",
       "\\item 568.2\n",
       "\\item 805.8\n",
       "\\item 622.9\n",
       "\\item 694.7\n",
       "\\item 354.8\n",
       "\\item 596.9\n",
       "\\item 884.6\n",
       "\\item 39.6\n",
       "\\item 35.2\n",
       "\\item 651.4\n",
       "\\item 527.1\n",
       "\\item 821\n",
       "\\item 714.8\n",
       "\\item 320.9\n",
       "\\item 405.8\n",
       "\\item 72.6\n",
       "\\item 579.3\n",
       "\\item 254.2\n",
       "\\item 123.3\n",
       "\\item 23.7\n",
       "\\item 169.8\n",
       "\\item 470.1\n",
       "\\item 588.2\n",
       "\\item 12.6\n",
       "\\item 579.7\n",
       "\\item 74.4\n",
       "\\item 233.2\n",
       "\\item 430.7\n",
       "\\item 699.1\n",
       "\\item 846.3\n",
       "\\item 138.2\n",
       "\\item 391.1\n",
       "\\item 3.3\n",
       "\\item 621.8\n",
       "\\item 262.9\n",
       "\\item 237.3\n",
       "\\item 438.3\n",
       "\\item 878.5\n",
       "\\item 410.4\n",
       "\\item 253.3\n",
       "\\item 736.5\n",
       "\\item 189.5\n",
       "\\item 814.3\n",
       "\\item 206.5\n",
       "\\item 466.1\n",
       "\\item 87.8\n",
       "\\item 814.4\n",
       "\\item 333.3\n",
       "\\item 224.3\n",
       "\\item 470.3\n",
       "\\item 122.8\n",
       "\\item 532.4\n",
       "\\item 159.7\n",
       "\\item 192.2\n",
       "\\item 698.6\n",
       "\\item 884.7\n",
       "\\item 320.8\n",
       "\\item 167.6\n",
       "\\item 640.9\n",
       "\\item 344\n",
       "\\item 58.6\n",
       "\\item 350.8\n",
       "\\item 606.8\n",
       "\\item 520.9\n",
       "\\item 720.5\n",
       "\\item 426.5\n",
       "\\item 243.4\n",
       "\\item 216.7\n",
       "\\item 868.6\n",
       "\\item 821.9\n",
       "\\item 382.6\n",
       "\\item 89.3\n",
       "\\item 88.7\n",
       "\\item 389.2\n",
       "\\item 48.6\n",
       "\\item 146.1\n",
       "\\item 287.5\n",
       "\\item 630.8\n",
       "\\item 300.7\n",
       "\\item 633.8\n",
       "\\item 316.7\n",
       "\\item 320.5\n",
       "\\item 713.2\n",
       "\\item 548.1\n",
       "\\item 524.6\n",
       "\\item 365.8\n",
       "\\item 90.4\n",
       "\\item 449.1\n",
       "\\item 401\n",
       "\\item 375.9\n",
       "\\item 613.4\n",
       "\\item 290.4\n",
       "\\end{enumerate*}\n"
      ],
      "text/markdown": [
       "1. 772.3\n",
       "2. 183.1\n",
       "3. 252.2\n",
       "4. 202.9\n",
       "5. 131.9\n",
       "6. 113.8\n",
       "7. 521.3\n",
       "8. 813.3\n",
       "9. 800.5\n",
       "10. 208.5\n",
       "11. 173.7\n",
       "12. 283.4\n",
       "13. 722.4\n",
       "14. 610.1\n",
       "15. 666.7\n",
       "16. 51.6\n",
       "17. 580.2\n",
       "18. 397.2\n",
       "19. 760\n",
       "20. 669.9\n",
       "21. 595.1\n",
       "22. 235.3\n",
       "23. 491.9\n",
       "24. 159.7\n",
       "25. 402.8\n",
       "26. 72.9\n",
       "27. 452.5\n",
       "28. 778.8\n",
       "29. 682.3\n",
       "30. 271\n",
       "31. 475.6\n",
       "32. 218.7\n",
       "33. 702.6\n",
       "34. 367.5\n",
       "35. 778.3\n",
       "36. 93.4\n",
       "37. 499.9\n",
       "38. 722\n",
       "39. 149.8\n",
       "40. 889.5\n",
       "41. 87.2\n",
       "42. 884.6\n",
       "43. 509.1\n",
       "44. 142.3\n",
       "45. 437.5\n",
       "46. 809.2\n",
       "47. 50.1\n",
       "48. 858.1\n",
       "49. 405.1\n",
       "50. 813.4\n",
       "51. 54.1\n",
       "52. 570.9\n",
       "53. 567.4\n",
       "54. 313.3\n",
       "55. 289.2\n",
       "56. 345.2\n",
       "57. 454.2\n",
       "58. 118.5\n",
       "59. 213.3\n",
       "60. 371\n",
       "61. 370\n",
       "62. 88.6\n",
       "63. 96.8\n",
       "64. 575.8\n",
       "65. 109.5\n",
       "66. 599.6\n",
       "67. 76.5\n",
       "68. 552.7\n",
       "69. 23.4\n",
       "70. 453.9\n",
       "71. 24.3\n",
       "72. 481\n",
       "73. 140.1\n",
       "74. 443.4\n",
       "75. 327.8\n",
       "76. 761.3\n",
       "77. 296.4\n",
       "78. 152.5\n",
       "79. 135.4\n",
       "80. 515\n",
       "81. 638.4\n",
       "82. 603.3\n",
       "83. 547.6\n",
       "84. 876.5\n",
       "85. 470.7\n",
       "86. 220.4\n",
       "87. 120.5\n",
       "88. 261.7\n",
       "89. 568.2\n",
       "90. 805.8\n",
       "91. 622.9\n",
       "92. 694.7\n",
       "93. 354.8\n",
       "94. 596.9\n",
       "95. 884.6\n",
       "96. 39.6\n",
       "97. 35.2\n",
       "98. 651.4\n",
       "99. 527.1\n",
       "100. 821\n",
       "101. 714.8\n",
       "102. 320.9\n",
       "103. 405.8\n",
       "104. 72.6\n",
       "105. 579.3\n",
       "106. 254.2\n",
       "107. 123.3\n",
       "108. 23.7\n",
       "109. 169.8\n",
       "110. 470.1\n",
       "111. 588.2\n",
       "112. 12.6\n",
       "113. 579.7\n",
       "114. 74.4\n",
       "115. 233.2\n",
       "116. 430.7\n",
       "117. 699.1\n",
       "118. 846.3\n",
       "119. 138.2\n",
       "120. 391.1\n",
       "121. 3.3\n",
       "122. 621.8\n",
       "123. 262.9\n",
       "124. 237.3\n",
       "125. 438.3\n",
       "126. 878.5\n",
       "127. 410.4\n",
       "128. 253.3\n",
       "129. 736.5\n",
       "130. 189.5\n",
       "131. 814.3\n",
       "132. 206.5\n",
       "133. 466.1\n",
       "134. 87.8\n",
       "135. 814.4\n",
       "136. 333.3\n",
       "137. 224.3\n",
       "138. 470.3\n",
       "139. 122.8\n",
       "140. 532.4\n",
       "141. 159.7\n",
       "142. 192.2\n",
       "143. 698.6\n",
       "144. 884.7\n",
       "145. 320.8\n",
       "146. 167.6\n",
       "147. 640.9\n",
       "148. 344\n",
       "149. 58.6\n",
       "150. 350.8\n",
       "151. 606.8\n",
       "152. 520.9\n",
       "153. 720.5\n",
       "154. 426.5\n",
       "155. 243.4\n",
       "156. 216.7\n",
       "157. 868.6\n",
       "158. 821.9\n",
       "159. 382.6\n",
       "160. 89.3\n",
       "161. 88.7\n",
       "162. 389.2\n",
       "163. 48.6\n",
       "164. 146.1\n",
       "165. 287.5\n",
       "166. 630.8\n",
       "167. 300.7\n",
       "168. 633.8\n",
       "169. 316.7\n",
       "170. 320.5\n",
       "171. 713.2\n",
       "172. 548.1\n",
       "173. 524.6\n",
       "174. 365.8\n",
       "175. 90.4\n",
       "176. 449.1\n",
       "177. 401\n",
       "178. 375.9\n",
       "179. 613.4\n",
       "180. 290.4\n",
       "\n",
       "\n"
      ],
      "text/plain": [
       "  [1] 772.3 183.1 252.2 202.9 131.9 113.8 521.3 813.3 800.5 208.5 173.7 283.4\n",
       " [13] 722.4 610.1 666.7  51.6 580.2 397.2 760.0 669.9 595.1 235.3 491.9 159.7\n",
       " [25] 402.8  72.9 452.5 778.8 682.3 271.0 475.6 218.7 702.6 367.5 778.3  93.4\n",
       " [37] 499.9 722.0 149.8 889.5  87.2 884.6 509.1 142.3 437.5 809.2  50.1 858.1\n",
       " [49] 405.1 813.4  54.1 570.9 567.4 313.3 289.2 345.2 454.2 118.5 213.3 371.0\n",
       " [61] 370.0  88.6  96.8 575.8 109.5 599.6  76.5 552.7  23.4 453.9  24.3 481.0\n",
       " [73] 140.1 443.4 327.8 761.3 296.4 152.5 135.4 515.0 638.4 603.3 547.6 876.5\n",
       " [85] 470.7 220.4 120.5 261.7 568.2 805.8 622.9 694.7 354.8 596.9 884.6  39.6\n",
       " [97]  35.2 651.4 527.1 821.0 714.8 320.9 405.8  72.6 579.3 254.2 123.3  23.7\n",
       "[109] 169.8 470.1 588.2  12.6 579.7  74.4 233.2 430.7 699.1 846.3 138.2 391.1\n",
       "[121]   3.3 621.8 262.9 237.3 438.3 878.5 410.4 253.3 736.5 189.5 814.3 206.5\n",
       "[133] 466.1  87.8 814.4 333.3 224.3 470.3 122.8 532.4 159.7 192.2 698.6 884.7\n",
       "[145] 320.8 167.6 640.9 344.0  58.6 350.8 606.8 520.9 720.5 426.5 243.4 216.7\n",
       "[157] 868.6 821.9 382.6  89.3  88.7 389.2  48.6 146.1 287.5 630.8 300.7 633.8\n",
       "[169] 316.7 320.5 713.2 548.1 524.6 365.8  90.4 449.1 401.0 375.9 613.4 290.4"
      ]
     },
     "metadata": {},
     "output_type": "display_data"
    }
   ],
   "source": [
    "# Creating random variables (between 0 and Cutoff_LOD) to replace all zeros\n",
    "set.seed(141222)\n",
    "ran_values <-round(runif(length(Blank_removal),0,Cutoff_LOD),digits=1)\n",
    "ran_values"
   ]
  },
  {
   "cell_type": "code",
   "execution_count": 79,
   "id": "50d77b94",
   "metadata": {},
   "outputs": [],
   "source": [
    "Imputed <- Blank_removal  %>%\n",
    "            mutate(across(everything(), ~replace(., . == 0 , sample(ran_values, size=1))))"
   ]
  },
  {
   "cell_type": "code",
   "execution_count": 80,
   "id": "fc6333a8",
   "metadata": {},
   "outputs": [
    {
     "data": {
      "text/html": [
       "<table class=\"dataframe\">\n",
       "<caption>A data.frame: 6 × 180</caption>\n",
       "<thead>\n",
       "\t<tr><th></th><th scope=col>SD_01-2018_1_a.mzXML</th><th scope=col>SD_01-2018_1_b.mzXML</th><th scope=col>SD_01-2018_10_a.mzXML</th><th scope=col>SD_01-2018_10_b.mzXML</th><th scope=col>SD_01-2018_11_a.mzXML</th><th scope=col>SD_01-2018_11_b.mzXML</th><th scope=col>SD_01-2018_12_a.mzXML</th><th scope=col>SD_01-2018_12_b.mzXML</th><th scope=col>SD_01-2018_13_a.mzXML</th><th scope=col>SD_01-2018_13_b.mzXML</th><th scope=col>⋯</th><th scope=col>SD_12-2017_5_a.mzXML</th><th scope=col>SD_12-2017_5_b.mzXML</th><th scope=col>SD_12-2017_6_a.mzXML</th><th scope=col>SD_12-2017_6_b.mzXML</th><th scope=col>SD_12-2017_7_a.mzXML</th><th scope=col>SD_12-2017_7_b.mzXML</th><th scope=col>SD_12-2017_8_a.mzXML</th><th scope=col>SD_12-2017_8_b.mzXML</th><th scope=col>SD_12-2017_9_a.mzXML</th><th scope=col>SD_12-2017_9_b.mzXML</th></tr>\n",
       "\t<tr><th></th><th scope=col>&lt;dbl&gt;</th><th scope=col>&lt;dbl&gt;</th><th scope=col>&lt;dbl&gt;</th><th scope=col>&lt;dbl&gt;</th><th scope=col>&lt;dbl&gt;</th><th scope=col>&lt;dbl&gt;</th><th scope=col>&lt;dbl&gt;</th><th scope=col>&lt;dbl&gt;</th><th scope=col>&lt;dbl&gt;</th><th scope=col>&lt;dbl&gt;</th><th scope=col>⋯</th><th scope=col>&lt;dbl&gt;</th><th scope=col>&lt;dbl&gt;</th><th scope=col>&lt;dbl&gt;</th><th scope=col>&lt;dbl&gt;</th><th scope=col>&lt;dbl&gt;</th><th scope=col>&lt;dbl&gt;</th><th scope=col>&lt;dbl&gt;</th><th scope=col>&lt;dbl&gt;</th><th scope=col>&lt;dbl&gt;</th><th scope=col>&lt;dbl&gt;</th></tr>\n",
       "</thead>\n",
       "<tbody>\n",
       "\t<tr><th scope=row>10015_282.169_2.763</th><td> 50907.97</td><td> 51443.73</td><td>109227.84</td><td>176375.7</td><td>104468.73</td><td>107860.7</td><td>416643.34</td><td>100000.83</td><td>113347.2</td><td>229451.5</td><td>⋯</td><td> 81368.72</td><td>110551.56</td><td> 86917.61</td><td> 73583.30</td><td>135812.39</td><td>142495.92</td><td>172251.69</td><td>259688.52</td><td>205187.22</td><td>139750.70</td></tr>\n",
       "\t<tr><th scope=row>10035_325.139_2.817</th><td>196008.38</td><td> 99569.05</td><td>144769.50</td><td>133548.6</td><td>508455.56</td><td> 99449.2</td><td>450726.62</td><td>161512.50</td><td>151758.7</td><td>146276.4</td><td>⋯</td><td>106263.34</td><td>308457.94</td><td>207960.67</td><td>227622.08</td><td>115274.43</td><td>534276.94</td><td>113054.56</td><td>114660.29</td><td>729054.10</td><td> 80493.73</td></tr>\n",
       "\t<tr><th scope=row>10037_216.123_2.847</th><td> 90480.91</td><td>411595.38</td><td> 52234.81</td><td> 65790.7</td><td> 86723.45</td><td>151315.9</td><td> 43235.33</td><td> 74290.67</td><td>150423.6</td><td>153153.6</td><td>⋯</td><td> 22688.39</td><td>   778.30</td><td> 22162.11</td><td> 85534.48</td><td> 41371.13</td><td> 64968.08</td><td> 82838.27</td><td> 47383.38</td><td> 82120.17</td><td> 57830.04</td></tr>\n",
       "\t<tr><th scope=row>10047_338.159_2.845</th><td>446560.70</td><td>239021.97</td><td>342724.84</td><td>353313.2</td><td>521227.88</td><td>332560.0</td><td>346388.06</td><td>273638.16</td><td>305627.2</td><td>389490.4</td><td>⋯</td><td>208418.17</td><td>125679.05</td><td>308052.75</td><td>111927.20</td><td>286369.12</td><td>197076.14</td><td> 92500.69</td><td>188610.12</td><td>118005.11</td><td> 65923.90</td></tr>\n",
       "\t<tr><th scope=row>10058_280.117_2.961</th><td>182757.80</td><td>274146.03</td><td>657006.10</td><td>195791.4</td><td>510705.34</td><td>635679.6</td><td>673892.60</td><td>380135.94</td><td>600647.0</td><td>195535.0</td><td>⋯</td><td>233442.28</td><td>279472.40</td><td>379879.38</td><td>329682.70</td><td>397069.06</td><td>260427.12</td><td>350335.88</td><td>415309.03</td><td>498892.88</td><td>312734.10</td></tr>\n",
       "\t<tr><th scope=row>10059_414.175_2.851</th><td>121197.44</td><td>201966.10</td><td>138082.42</td><td>105518.8</td><td>   622.90</td><td>120000.0</td><td>475107.25</td><td>336686.12</td><td> 99081.2</td><td>   760.0</td><td>⋯</td><td>215587.89</td><td> 58109.17</td><td>   805.80</td><td>206988.38</td><td>156651.17</td><td> 59568.41</td><td> 59445.21</td><td>202858.06</td><td>224752.27</td><td>150956.19</td></tr>\n",
       "</tbody>\n",
       "</table>\n"
      ],
      "text/latex": [
       "A data.frame: 6 × 180\n",
       "\\begin{tabular}{r|lllllllllllllllllllll}\n",
       "  & SD\\_01-2018\\_1\\_a.mzXML & SD\\_01-2018\\_1\\_b.mzXML & SD\\_01-2018\\_10\\_a.mzXML & SD\\_01-2018\\_10\\_b.mzXML & SD\\_01-2018\\_11\\_a.mzXML & SD\\_01-2018\\_11\\_b.mzXML & SD\\_01-2018\\_12\\_a.mzXML & SD\\_01-2018\\_12\\_b.mzXML & SD\\_01-2018\\_13\\_a.mzXML & SD\\_01-2018\\_13\\_b.mzXML & ⋯ & SD\\_12-2017\\_5\\_a.mzXML & SD\\_12-2017\\_5\\_b.mzXML & SD\\_12-2017\\_6\\_a.mzXML & SD\\_12-2017\\_6\\_b.mzXML & SD\\_12-2017\\_7\\_a.mzXML & SD\\_12-2017\\_7\\_b.mzXML & SD\\_12-2017\\_8\\_a.mzXML & SD\\_12-2017\\_8\\_b.mzXML & SD\\_12-2017\\_9\\_a.mzXML & SD\\_12-2017\\_9\\_b.mzXML\\\\\n",
       "  & <dbl> & <dbl> & <dbl> & <dbl> & <dbl> & <dbl> & <dbl> & <dbl> & <dbl> & <dbl> & ⋯ & <dbl> & <dbl> & <dbl> & <dbl> & <dbl> & <dbl> & <dbl> & <dbl> & <dbl> & <dbl>\\\\\n",
       "\\hline\n",
       "\t10015\\_282.169\\_2.763 &  50907.97 &  51443.73 & 109227.84 & 176375.7 & 104468.73 & 107860.7 & 416643.34 & 100000.83 & 113347.2 & 229451.5 & ⋯ &  81368.72 & 110551.56 &  86917.61 &  73583.30 & 135812.39 & 142495.92 & 172251.69 & 259688.52 & 205187.22 & 139750.70\\\\\n",
       "\t10035\\_325.139\\_2.817 & 196008.38 &  99569.05 & 144769.50 & 133548.6 & 508455.56 &  99449.2 & 450726.62 & 161512.50 & 151758.7 & 146276.4 & ⋯ & 106263.34 & 308457.94 & 207960.67 & 227622.08 & 115274.43 & 534276.94 & 113054.56 & 114660.29 & 729054.10 &  80493.73\\\\\n",
       "\t10037\\_216.123\\_2.847 &  90480.91 & 411595.38 &  52234.81 &  65790.7 &  86723.45 & 151315.9 &  43235.33 &  74290.67 & 150423.6 & 153153.6 & ⋯ &  22688.39 &    778.30 &  22162.11 &  85534.48 &  41371.13 &  64968.08 &  82838.27 &  47383.38 &  82120.17 &  57830.04\\\\\n",
       "\t10047\\_338.159\\_2.845 & 446560.70 & 239021.97 & 342724.84 & 353313.2 & 521227.88 & 332560.0 & 346388.06 & 273638.16 & 305627.2 & 389490.4 & ⋯ & 208418.17 & 125679.05 & 308052.75 & 111927.20 & 286369.12 & 197076.14 &  92500.69 & 188610.12 & 118005.11 &  65923.90\\\\\n",
       "\t10058\\_280.117\\_2.961 & 182757.80 & 274146.03 & 657006.10 & 195791.4 & 510705.34 & 635679.6 & 673892.60 & 380135.94 & 600647.0 & 195535.0 & ⋯ & 233442.28 & 279472.40 & 379879.38 & 329682.70 & 397069.06 & 260427.12 & 350335.88 & 415309.03 & 498892.88 & 312734.10\\\\\n",
       "\t10059\\_414.175\\_2.851 & 121197.44 & 201966.10 & 138082.42 & 105518.8 &    622.90 & 120000.0 & 475107.25 & 336686.12 &  99081.2 &    760.0 & ⋯ & 215587.89 &  58109.17 &    805.80 & 206988.38 & 156651.17 &  59568.41 &  59445.21 & 202858.06 & 224752.27 & 150956.19\\\\\n",
       "\\end{tabular}\n"
      ],
      "text/markdown": [
       "\n",
       "A data.frame: 6 × 180\n",
       "\n",
       "| <!--/--> | SD_01-2018_1_a.mzXML &lt;dbl&gt; | SD_01-2018_1_b.mzXML &lt;dbl&gt; | SD_01-2018_10_a.mzXML &lt;dbl&gt; | SD_01-2018_10_b.mzXML &lt;dbl&gt; | SD_01-2018_11_a.mzXML &lt;dbl&gt; | SD_01-2018_11_b.mzXML &lt;dbl&gt; | SD_01-2018_12_a.mzXML &lt;dbl&gt; | SD_01-2018_12_b.mzXML &lt;dbl&gt; | SD_01-2018_13_a.mzXML &lt;dbl&gt; | SD_01-2018_13_b.mzXML &lt;dbl&gt; | ⋯ ⋯ | SD_12-2017_5_a.mzXML &lt;dbl&gt; | SD_12-2017_5_b.mzXML &lt;dbl&gt; | SD_12-2017_6_a.mzXML &lt;dbl&gt; | SD_12-2017_6_b.mzXML &lt;dbl&gt; | SD_12-2017_7_a.mzXML &lt;dbl&gt; | SD_12-2017_7_b.mzXML &lt;dbl&gt; | SD_12-2017_8_a.mzXML &lt;dbl&gt; | SD_12-2017_8_b.mzXML &lt;dbl&gt; | SD_12-2017_9_a.mzXML &lt;dbl&gt; | SD_12-2017_9_b.mzXML &lt;dbl&gt; |\n",
       "|---|---|---|---|---|---|---|---|---|---|---|---|---|---|---|---|---|---|---|---|---|---|\n",
       "| 10015_282.169_2.763 |  50907.97 |  51443.73 | 109227.84 | 176375.7 | 104468.73 | 107860.7 | 416643.34 | 100000.83 | 113347.2 | 229451.5 | ⋯ |  81368.72 | 110551.56 |  86917.61 |  73583.30 | 135812.39 | 142495.92 | 172251.69 | 259688.52 | 205187.22 | 139750.70 |\n",
       "| 10035_325.139_2.817 | 196008.38 |  99569.05 | 144769.50 | 133548.6 | 508455.56 |  99449.2 | 450726.62 | 161512.50 | 151758.7 | 146276.4 | ⋯ | 106263.34 | 308457.94 | 207960.67 | 227622.08 | 115274.43 | 534276.94 | 113054.56 | 114660.29 | 729054.10 |  80493.73 |\n",
       "| 10037_216.123_2.847 |  90480.91 | 411595.38 |  52234.81 |  65790.7 |  86723.45 | 151315.9 |  43235.33 |  74290.67 | 150423.6 | 153153.6 | ⋯ |  22688.39 |    778.30 |  22162.11 |  85534.48 |  41371.13 |  64968.08 |  82838.27 |  47383.38 |  82120.17 |  57830.04 |\n",
       "| 10047_338.159_2.845 | 446560.70 | 239021.97 | 342724.84 | 353313.2 | 521227.88 | 332560.0 | 346388.06 | 273638.16 | 305627.2 | 389490.4 | ⋯ | 208418.17 | 125679.05 | 308052.75 | 111927.20 | 286369.12 | 197076.14 |  92500.69 | 188610.12 | 118005.11 |  65923.90 |\n",
       "| 10058_280.117_2.961 | 182757.80 | 274146.03 | 657006.10 | 195791.4 | 510705.34 | 635679.6 | 673892.60 | 380135.94 | 600647.0 | 195535.0 | ⋯ | 233442.28 | 279472.40 | 379879.38 | 329682.70 | 397069.06 | 260427.12 | 350335.88 | 415309.03 | 498892.88 | 312734.10 |\n",
       "| 10059_414.175_2.851 | 121197.44 | 201966.10 | 138082.42 | 105518.8 |    622.90 | 120000.0 | 475107.25 | 336686.12 |  99081.2 |    760.0 | ⋯ | 215587.89 |  58109.17 |    805.80 | 206988.38 | 156651.17 |  59568.41 |  59445.21 | 202858.06 | 224752.27 | 150956.19 |\n",
       "\n"
      ],
      "text/plain": [
       "                    SD_01-2018_1_a.mzXML SD_01-2018_1_b.mzXML\n",
       "10015_282.169_2.763  50907.97             51443.73           \n",
       "10035_325.139_2.817 196008.38             99569.05           \n",
       "10037_216.123_2.847  90480.91            411595.38           \n",
       "10047_338.159_2.845 446560.70            239021.97           \n",
       "10058_280.117_2.961 182757.80            274146.03           \n",
       "10059_414.175_2.851 121197.44            201966.10           \n",
       "                    SD_01-2018_10_a.mzXML SD_01-2018_10_b.mzXML\n",
       "10015_282.169_2.763 109227.84             176375.7             \n",
       "10035_325.139_2.817 144769.50             133548.6             \n",
       "10037_216.123_2.847  52234.81              65790.7             \n",
       "10047_338.159_2.845 342724.84             353313.2             \n",
       "10058_280.117_2.961 657006.10             195791.4             \n",
       "10059_414.175_2.851 138082.42             105518.8             \n",
       "                    SD_01-2018_11_a.mzXML SD_01-2018_11_b.mzXML\n",
       "10015_282.169_2.763 104468.73             107860.7             \n",
       "10035_325.139_2.817 508455.56              99449.2             \n",
       "10037_216.123_2.847  86723.45             151315.9             \n",
       "10047_338.159_2.845 521227.88             332560.0             \n",
       "10058_280.117_2.961 510705.34             635679.6             \n",
       "10059_414.175_2.851    622.90             120000.0             \n",
       "                    SD_01-2018_12_a.mzXML SD_01-2018_12_b.mzXML\n",
       "10015_282.169_2.763 416643.34             100000.83            \n",
       "10035_325.139_2.817 450726.62             161512.50            \n",
       "10037_216.123_2.847  43235.33              74290.67            \n",
       "10047_338.159_2.845 346388.06             273638.16            \n",
       "10058_280.117_2.961 673892.60             380135.94            \n",
       "10059_414.175_2.851 475107.25             336686.12            \n",
       "                    SD_01-2018_13_a.mzXML SD_01-2018_13_b.mzXML ⋯\n",
       "10015_282.169_2.763 113347.2              229451.5              ⋯\n",
       "10035_325.139_2.817 151758.7              146276.4              ⋯\n",
       "10037_216.123_2.847 150423.6              153153.6              ⋯\n",
       "10047_338.159_2.845 305627.2              389490.4              ⋯\n",
       "10058_280.117_2.961 600647.0              195535.0              ⋯\n",
       "10059_414.175_2.851  99081.2                 760.0              ⋯\n",
       "                    SD_12-2017_5_a.mzXML SD_12-2017_5_b.mzXML\n",
       "10015_282.169_2.763  81368.72            110551.56           \n",
       "10035_325.139_2.817 106263.34            308457.94           \n",
       "10037_216.123_2.847  22688.39               778.30           \n",
       "10047_338.159_2.845 208418.17            125679.05           \n",
       "10058_280.117_2.961 233442.28            279472.40           \n",
       "10059_414.175_2.851 215587.89             58109.17           \n",
       "                    SD_12-2017_6_a.mzXML SD_12-2017_6_b.mzXML\n",
       "10015_282.169_2.763  86917.61             73583.30           \n",
       "10035_325.139_2.817 207960.67            227622.08           \n",
       "10037_216.123_2.847  22162.11             85534.48           \n",
       "10047_338.159_2.845 308052.75            111927.20           \n",
       "10058_280.117_2.961 379879.38            329682.70           \n",
       "10059_414.175_2.851    805.80            206988.38           \n",
       "                    SD_12-2017_7_a.mzXML SD_12-2017_7_b.mzXML\n",
       "10015_282.169_2.763 135812.39            142495.92           \n",
       "10035_325.139_2.817 115274.43            534276.94           \n",
       "10037_216.123_2.847  41371.13             64968.08           \n",
       "10047_338.159_2.845 286369.12            197076.14           \n",
       "10058_280.117_2.961 397069.06            260427.12           \n",
       "10059_414.175_2.851 156651.17             59568.41           \n",
       "                    SD_12-2017_8_a.mzXML SD_12-2017_8_b.mzXML\n",
       "10015_282.169_2.763 172251.69            259688.52           \n",
       "10035_325.139_2.817 113054.56            114660.29           \n",
       "10037_216.123_2.847  82838.27             47383.38           \n",
       "10047_338.159_2.845  92500.69            188610.12           \n",
       "10058_280.117_2.961 350335.88            415309.03           \n",
       "10059_414.175_2.851  59445.21            202858.06           \n",
       "                    SD_12-2017_9_a.mzXML SD_12-2017_9_b.mzXML\n",
       "10015_282.169_2.763 205187.22            139750.70           \n",
       "10035_325.139_2.817 729054.10             80493.73           \n",
       "10037_216.123_2.847  82120.17             57830.04           \n",
       "10047_338.159_2.845 118005.11             65923.90           \n",
       "10058_280.117_2.961 498892.88            312734.10           \n",
       "10059_414.175_2.851 224752.27            150956.19           "
      ]
     },
     "metadata": {},
     "output_type": "display_data"
    }
   ],
   "source": [
    "head(Imputed)"
   ]
  },
  {
   "cell_type": "code",
   "execution_count": 69,
   "id": "acd45acb",
   "metadata": {},
   "outputs": [
    {
     "data": {
      "text/html": [
       "0"
      ],
      "text/latex": [
       "0"
      ],
      "text/markdown": [
       "0"
      ],
      "text/plain": [
       "[1] 0"
      ]
     },
     "metadata": {},
     "output_type": "display_data"
    }
   ],
   "source": [
    "sum(Imputed==0) # checking if there are any zeros in our imputed table "
   ]
  },
  {
   "cell_type": "code",
   "execution_count": 49,
   "id": "ed071fa7",
   "metadata": {
    "executionInfo": {
     "elapsed": 411,
     "status": "ok",
     "timestamp": 1666182505275,
     "user": {
      "displayName": "Abzer Kelminal.P M",
      "userId": "16537922509430952288"
     },
     "user_tz": -120
    },
    "id": "ed071fa7"
   },
   "outputs": [],
   "source": [
    "write.csv(Imputed,'141222_Imputed_QuantTable.csv',row.names =T)"
   ]
  },
  {
   "cell_type": "markdown",
   "id": "f06a2dd7",
   "metadata": {
    "id": "f06a2dd7"
   },
   "source": [
    "# Step 4:Normalization\n",
    "\n",
    "To be edited... Here, we present 2 types of normalization. TIC or PQN. Choose according to your data."
   ]
  },
  {
   "cell_type": "markdown",
   "id": "cd0d3561",
   "metadata": {},
   "source": [
    "## 1) Total Ion Count (TIC) or Sample-centric Normalization:\n",
    "The following code performs sample-centric (column-wise) normalisation. Here, we divide each element (feature) of a particular column(sample) with its column-sum"
   ]
  },
  {
   "cell_type": "code",
   "execution_count": 81,
   "id": "13777a5d",
   "metadata": {},
   "outputs": [
    {
     "data": {
      "text/html": [
       "<table class=\"dataframe\">\n",
       "<caption>A matrix: 3 × 180 of type dbl</caption>\n",
       "<thead>\n",
       "\t<tr><th></th><th scope=col>SD_01-2018_1_a.mzXML</th><th scope=col>SD_01-2018_1_b.mzXML</th><th scope=col>SD_01-2018_10_a.mzXML</th><th scope=col>SD_01-2018_10_b.mzXML</th><th scope=col>SD_01-2018_11_a.mzXML</th><th scope=col>SD_01-2018_11_b.mzXML</th><th scope=col>SD_01-2018_12_a.mzXML</th><th scope=col>SD_01-2018_12_b.mzXML</th><th scope=col>SD_01-2018_13_a.mzXML</th><th scope=col>SD_01-2018_13_b.mzXML</th><th scope=col>⋯</th><th scope=col>SD_12-2017_5_a.mzXML</th><th scope=col>SD_12-2017_5_b.mzXML</th><th scope=col>SD_12-2017_6_a.mzXML</th><th scope=col>SD_12-2017_6_b.mzXML</th><th scope=col>SD_12-2017_7_a.mzXML</th><th scope=col>SD_12-2017_7_b.mzXML</th><th scope=col>SD_12-2017_8_a.mzXML</th><th scope=col>SD_12-2017_8_b.mzXML</th><th scope=col>SD_12-2017_9_a.mzXML</th><th scope=col>SD_12-2017_9_b.mzXML</th></tr>\n",
       "</thead>\n",
       "<tbody>\n",
       "\t<tr><th scope=row>10015_282.169_2.763</th><td>2.977175e-05</td><td>2.999528e-05</td><td>7.230727e-05</td><td>1.328148e-04</td><td>7.489287e-05</td><td>7.469619e-05</td><td>2.662925e-04</td><td>6.390917e-05</td><td>7.486779e-05</td><td>1.481398e-04</td><td>⋯</td><td>1.172983e-04</td><td>1.586839e-04</td><td>1.134921e-04</td><td>0.0000957115</td><td>1.578179e-04</td><td>1.528850e-04</td><td>1.724326e-04</td><td>2.600404e-04</td><td>2.198192e-04</td><td>1.511484e-04</td></tr>\n",
       "\t<tr><th scope=row>10035_325.139_2.817</th><td>1.146287e-04</td><td>5.805570e-05</td><td>9.583535e-05</td><td>1.005651e-04</td><td>3.645081e-04</td><td>6.887101e-05</td><td>2.880764e-04</td><td>1.032204e-04</td><td>1.002393e-04</td><td>9.443975e-05</td><td>⋯</td><td>1.531855e-04</td><td>4.427554e-04</td><td>2.715433e-04</td><td>0.0002960733</td><td>1.339522e-04</td><td>5.732299e-04</td><td>1.131733e-04</td><td>1.148156e-04</td><td>7.810432e-04</td><td>8.705858e-05</td></tr>\n",
       "\t<tr><th scope=row>10037_216.123_2.847</th><td>5.291461e-05</td><td>2.399888e-04</td><td>3.457870e-05</td><td>4.954185e-05</td><td>6.217140e-05</td><td>1.047900e-04</td><td>2.763333e-05</td><td>4.747816e-05</td><td>9.935738e-05</td><td>9.887989e-05</td><td>⋯</td><td>3.270679e-05</td><td>1.117159e-06</td><td>2.893803e-05</td><td>0.0001112567</td><td>4.807443e-05</td><td>6.970476e-05</td><td>8.292529e-05</td><td>4.744758e-05</td><td>8.797619e-05</td><td>6.254650e-05</td></tr>\n",
       "</tbody>\n",
       "</table>\n"
      ],
      "text/latex": [
       "A matrix: 3 × 180 of type dbl\n",
       "\\begin{tabular}{r|lllllllllllllllllllll}\n",
       "  & SD\\_01-2018\\_1\\_a.mzXML & SD\\_01-2018\\_1\\_b.mzXML & SD\\_01-2018\\_10\\_a.mzXML & SD\\_01-2018\\_10\\_b.mzXML & SD\\_01-2018\\_11\\_a.mzXML & SD\\_01-2018\\_11\\_b.mzXML & SD\\_01-2018\\_12\\_a.mzXML & SD\\_01-2018\\_12\\_b.mzXML & SD\\_01-2018\\_13\\_a.mzXML & SD\\_01-2018\\_13\\_b.mzXML & ⋯ & SD\\_12-2017\\_5\\_a.mzXML & SD\\_12-2017\\_5\\_b.mzXML & SD\\_12-2017\\_6\\_a.mzXML & SD\\_12-2017\\_6\\_b.mzXML & SD\\_12-2017\\_7\\_a.mzXML & SD\\_12-2017\\_7\\_b.mzXML & SD\\_12-2017\\_8\\_a.mzXML & SD\\_12-2017\\_8\\_b.mzXML & SD\\_12-2017\\_9\\_a.mzXML & SD\\_12-2017\\_9\\_b.mzXML\\\\\n",
       "\\hline\n",
       "\t10015\\_282.169\\_2.763 & 2.977175e-05 & 2.999528e-05 & 7.230727e-05 & 1.328148e-04 & 7.489287e-05 & 7.469619e-05 & 2.662925e-04 & 6.390917e-05 & 7.486779e-05 & 1.481398e-04 & ⋯ & 1.172983e-04 & 1.586839e-04 & 1.134921e-04 & 0.0000957115 & 1.578179e-04 & 1.528850e-04 & 1.724326e-04 & 2.600404e-04 & 2.198192e-04 & 1.511484e-04\\\\\n",
       "\t10035\\_325.139\\_2.817 & 1.146287e-04 & 5.805570e-05 & 9.583535e-05 & 1.005651e-04 & 3.645081e-04 & 6.887101e-05 & 2.880764e-04 & 1.032204e-04 & 1.002393e-04 & 9.443975e-05 & ⋯ & 1.531855e-04 & 4.427554e-04 & 2.715433e-04 & 0.0002960733 & 1.339522e-04 & 5.732299e-04 & 1.131733e-04 & 1.148156e-04 & 7.810432e-04 & 8.705858e-05\\\\\n",
       "\t10037\\_216.123\\_2.847 & 5.291461e-05 & 2.399888e-04 & 3.457870e-05 & 4.954185e-05 & 6.217140e-05 & 1.047900e-04 & 2.763333e-05 & 4.747816e-05 & 9.935738e-05 & 9.887989e-05 & ⋯ & 3.270679e-05 & 1.117159e-06 & 2.893803e-05 & 0.0001112567 & 4.807443e-05 & 6.970476e-05 & 8.292529e-05 & 4.744758e-05 & 8.797619e-05 & 6.254650e-05\\\\\n",
       "\\end{tabular}\n"
      ],
      "text/markdown": [
       "\n",
       "A matrix: 3 × 180 of type dbl\n",
       "\n",
       "| <!--/--> | SD_01-2018_1_a.mzXML | SD_01-2018_1_b.mzXML | SD_01-2018_10_a.mzXML | SD_01-2018_10_b.mzXML | SD_01-2018_11_a.mzXML | SD_01-2018_11_b.mzXML | SD_01-2018_12_a.mzXML | SD_01-2018_12_b.mzXML | SD_01-2018_13_a.mzXML | SD_01-2018_13_b.mzXML | ⋯ | SD_12-2017_5_a.mzXML | SD_12-2017_5_b.mzXML | SD_12-2017_6_a.mzXML | SD_12-2017_6_b.mzXML | SD_12-2017_7_a.mzXML | SD_12-2017_7_b.mzXML | SD_12-2017_8_a.mzXML | SD_12-2017_8_b.mzXML | SD_12-2017_9_a.mzXML | SD_12-2017_9_b.mzXML |\n",
       "|---|---|---|---|---|---|---|---|---|---|---|---|---|---|---|---|---|---|---|---|---|---|\n",
       "| 10015_282.169_2.763 | 2.977175e-05 | 2.999528e-05 | 7.230727e-05 | 1.328148e-04 | 7.489287e-05 | 7.469619e-05 | 2.662925e-04 | 6.390917e-05 | 7.486779e-05 | 1.481398e-04 | ⋯ | 1.172983e-04 | 1.586839e-04 | 1.134921e-04 | 0.0000957115 | 1.578179e-04 | 1.528850e-04 | 1.724326e-04 | 2.600404e-04 | 2.198192e-04 | 1.511484e-04 |\n",
       "| 10035_325.139_2.817 | 1.146287e-04 | 5.805570e-05 | 9.583535e-05 | 1.005651e-04 | 3.645081e-04 | 6.887101e-05 | 2.880764e-04 | 1.032204e-04 | 1.002393e-04 | 9.443975e-05 | ⋯ | 1.531855e-04 | 4.427554e-04 | 2.715433e-04 | 0.0002960733 | 1.339522e-04 | 5.732299e-04 | 1.131733e-04 | 1.148156e-04 | 7.810432e-04 | 8.705858e-05 |\n",
       "| 10037_216.123_2.847 | 5.291461e-05 | 2.399888e-04 | 3.457870e-05 | 4.954185e-05 | 6.217140e-05 | 1.047900e-04 | 2.763333e-05 | 4.747816e-05 | 9.935738e-05 | 9.887989e-05 | ⋯ | 3.270679e-05 | 1.117159e-06 | 2.893803e-05 | 0.0001112567 | 4.807443e-05 | 6.970476e-05 | 8.292529e-05 | 4.744758e-05 | 8.797619e-05 | 6.254650e-05 |\n",
       "\n"
      ],
      "text/plain": [
       "                    SD_01-2018_1_a.mzXML SD_01-2018_1_b.mzXML\n",
       "10015_282.169_2.763 2.977175e-05         2.999528e-05        \n",
       "10035_325.139_2.817 1.146287e-04         5.805570e-05        \n",
       "10037_216.123_2.847 5.291461e-05         2.399888e-04        \n",
       "                    SD_01-2018_10_a.mzXML SD_01-2018_10_b.mzXML\n",
       "10015_282.169_2.763 7.230727e-05          1.328148e-04         \n",
       "10035_325.139_2.817 9.583535e-05          1.005651e-04         \n",
       "10037_216.123_2.847 3.457870e-05          4.954185e-05         \n",
       "                    SD_01-2018_11_a.mzXML SD_01-2018_11_b.mzXML\n",
       "10015_282.169_2.763 7.489287e-05          7.469619e-05         \n",
       "10035_325.139_2.817 3.645081e-04          6.887101e-05         \n",
       "10037_216.123_2.847 6.217140e-05          1.047900e-04         \n",
       "                    SD_01-2018_12_a.mzXML SD_01-2018_12_b.mzXML\n",
       "10015_282.169_2.763 2.662925e-04          6.390917e-05         \n",
       "10035_325.139_2.817 2.880764e-04          1.032204e-04         \n",
       "10037_216.123_2.847 2.763333e-05          4.747816e-05         \n",
       "                    SD_01-2018_13_a.mzXML SD_01-2018_13_b.mzXML ⋯\n",
       "10015_282.169_2.763 7.486779e-05          1.481398e-04          ⋯\n",
       "10035_325.139_2.817 1.002393e-04          9.443975e-05          ⋯\n",
       "10037_216.123_2.847 9.935738e-05          9.887989e-05          ⋯\n",
       "                    SD_12-2017_5_a.mzXML SD_12-2017_5_b.mzXML\n",
       "10015_282.169_2.763 1.172983e-04         1.586839e-04        \n",
       "10035_325.139_2.817 1.531855e-04         4.427554e-04        \n",
       "10037_216.123_2.847 3.270679e-05         1.117159e-06        \n",
       "                    SD_12-2017_6_a.mzXML SD_12-2017_6_b.mzXML\n",
       "10015_282.169_2.763 1.134921e-04         0.0000957115        \n",
       "10035_325.139_2.817 2.715433e-04         0.0002960733        \n",
       "10037_216.123_2.847 2.893803e-05         0.0001112567        \n",
       "                    SD_12-2017_7_a.mzXML SD_12-2017_7_b.mzXML\n",
       "10015_282.169_2.763 1.578179e-04         1.528850e-04        \n",
       "10035_325.139_2.817 1.339522e-04         5.732299e-04        \n",
       "10037_216.123_2.847 4.807443e-05         6.970476e-05        \n",
       "                    SD_12-2017_8_a.mzXML SD_12-2017_8_b.mzXML\n",
       "10015_282.169_2.763 1.724326e-04         2.600404e-04        \n",
       "10035_325.139_2.817 1.131733e-04         1.148156e-04        \n",
       "10037_216.123_2.847 8.292529e-05         4.744758e-05        \n",
       "                    SD_12-2017_9_a.mzXML SD_12-2017_9_b.mzXML\n",
       "10015_282.169_2.763 2.198192e-04         1.511484e-04        \n",
       "10035_325.139_2.817 7.810432e-04         8.705858e-05        \n",
       "10037_216.123_2.847 8.797619e-05         6.254650e-05        "
      ]
     },
     "metadata": {},
     "output_type": "display_data"
    },
    {
     "data": {
      "text/html": [
       "<style>\n",
       ".list-inline {list-style: none; margin:0; padding: 0}\n",
       ".list-inline>li {display: inline-block}\n",
       ".list-inline>li:not(:last-child)::after {content: \"\\00b7\"; padding: 0 .5ex}\n",
       "</style>\n",
       "<ol class=list-inline><li>9092</li><li>180</li></ol>\n"
      ],
      "text/latex": [
       "\\begin{enumerate*}\n",
       "\\item 9092\n",
       "\\item 180\n",
       "\\end{enumerate*}\n"
      ],
      "text/markdown": [
       "1. 9092\n",
       "2. 180\n",
       "\n",
       "\n"
      ],
      "text/plain": [
       "[1] 9092  180"
      ]
     },
     "metadata": {},
     "output_type": "display_data"
    },
    {
     "name": "stdout",
     "output_type": "stream",
     "text": [
      "[1] \"No.of NA values in Normalized data: 0\"\n"
     ]
    }
   ],
   "source": [
    "Normalized_data_TIC <- t(normalization(t(Imputed), method = \"sum\")$newXtrain) \n",
    "head(Normalized_data_TIC,n=3)\n",
    "dim(Normalized_data_TIC)\n",
    "print(paste('No.of NA values in Normalized data:',sum(is.na(Normalized_data_TIC)== T)))"
   ]
  },
  {
   "cell_type": "code",
   "execution_count": 51,
   "id": "631760ca",
   "metadata": {},
   "outputs": [],
   "source": [
    "write.csv(Normalized_data_TIC,'141222_TIC_Normalised_Quant_table.csv',row.names =T)"
   ]
  },
  {
   "cell_type": "markdown",
   "id": "51790f90",
   "metadata": {},
   "source": [
    "## 2) PQN (Probabilistic Quotient Normalization)"
   ]
  },
  {
   "cell_type": "code",
   "execution_count": 82,
   "id": "856368aa",
   "metadata": {},
   "outputs": [
    {
     "data": {
      "text/html": [
       "<table class=\"dataframe\">\n",
       "<caption>A matrix: 3 × 180 of type dbl</caption>\n",
       "<thead>\n",
       "\t<tr><th></th><th scope=col>SD_01-2018_1_a.mzXML</th><th scope=col>SD_01-2018_1_b.mzXML</th><th scope=col>SD_01-2018_10_a.mzXML</th><th scope=col>SD_01-2018_10_b.mzXML</th><th scope=col>SD_01-2018_11_a.mzXML</th><th scope=col>SD_01-2018_11_b.mzXML</th><th scope=col>SD_01-2018_12_a.mzXML</th><th scope=col>SD_01-2018_12_b.mzXML</th><th scope=col>SD_01-2018_13_a.mzXML</th><th scope=col>SD_01-2018_13_b.mzXML</th><th scope=col>⋯</th><th scope=col>SD_12-2017_5_a.mzXML</th><th scope=col>SD_12-2017_5_b.mzXML</th><th scope=col>SD_12-2017_6_a.mzXML</th><th scope=col>SD_12-2017_6_b.mzXML</th><th scope=col>SD_12-2017_7_a.mzXML</th><th scope=col>SD_12-2017_7_b.mzXML</th><th scope=col>SD_12-2017_8_a.mzXML</th><th scope=col>SD_12-2017_8_b.mzXML</th><th scope=col>SD_12-2017_9_a.mzXML</th><th scope=col>SD_12-2017_9_b.mzXML</th></tr>\n",
       "</thead>\n",
       "<tbody>\n",
       "\t<tr><th scope=row>10015_282.169_2.763</th><td>3.540018e-05</td><td>3.017861e-05</td><td>5.255678e-05</td><td>1.068633e-04</td><td>6.356057e-05</td><td>9.757233e-05</td><td>0.0002231066</td><td>7.298662e-05</td><td>5.541492e-05</td><td>1.189655e-04</td><td>⋯</td><td>0.0001028529</td><td>9.632791e-05</td><td>6.755138e-05</td><td>0.0001836754</td><td>1.122295e-04</td><td>1.400207e-04</td><td>1.449955e-04</td><td>2.741661e-04</td><td>1.882258e-04</td><td>1.713079e-04</td></tr>\n",
       "\t<tr><th scope=row>10035_325.139_2.817</th><td>1.362995e-04</td><td>5.841053e-05</td><td>6.965824e-05</td><td>8.091504e-05</td><td>3.093531e-04</td><td>8.996315e-05</td><td>0.0002413577</td><td>1.178815e-04</td><td>7.419413e-05</td><td>7.584102e-05</td><td>⋯</td><td>0.0001343205</td><td>2.687715e-04</td><td>1.616247e-04</td><td>0.0005681803</td><td>9.525785e-05</td><td>5.249965e-04</td><td>9.516542e-05</td><td>1.210526e-04</td><td>6.687881e-04</td><td>9.867006e-05</td></tr>\n",
       "\t<tr><th scope=row>10037_216.123_2.847</th><td>6.291825e-05</td><td>2.414556e-04</td><td>2.513364e-05</td><td>3.986156e-05</td><td>5.276403e-05</td><td>1.368825e-04</td><td>0.0000231519</td><td>5.422180e-05</td><td>7.354139e-05</td><td>7.940673e-05</td><td>⋯</td><td>0.0000286789</td><td>6.781633e-07</td><td>1.722414e-05</td><td>0.0002135074</td><td>3.418733e-05</td><td>6.383958e-05</td><td>6.973039e-05</td><td>5.002499e-05</td><td>7.533185e-05</td><td>7.088867e-05</td></tr>\n",
       "</tbody>\n",
       "</table>\n"
      ],
      "text/latex": [
       "A matrix: 3 × 180 of type dbl\n",
       "\\begin{tabular}{r|lllllllllllllllllllll}\n",
       "  & SD\\_01-2018\\_1\\_a.mzXML & SD\\_01-2018\\_1\\_b.mzXML & SD\\_01-2018\\_10\\_a.mzXML & SD\\_01-2018\\_10\\_b.mzXML & SD\\_01-2018\\_11\\_a.mzXML & SD\\_01-2018\\_11\\_b.mzXML & SD\\_01-2018\\_12\\_a.mzXML & SD\\_01-2018\\_12\\_b.mzXML & SD\\_01-2018\\_13\\_a.mzXML & SD\\_01-2018\\_13\\_b.mzXML & ⋯ & SD\\_12-2017\\_5\\_a.mzXML & SD\\_12-2017\\_5\\_b.mzXML & SD\\_12-2017\\_6\\_a.mzXML & SD\\_12-2017\\_6\\_b.mzXML & SD\\_12-2017\\_7\\_a.mzXML & SD\\_12-2017\\_7\\_b.mzXML & SD\\_12-2017\\_8\\_a.mzXML & SD\\_12-2017\\_8\\_b.mzXML & SD\\_12-2017\\_9\\_a.mzXML & SD\\_12-2017\\_9\\_b.mzXML\\\\\n",
       "\\hline\n",
       "\t10015\\_282.169\\_2.763 & 3.540018e-05 & 3.017861e-05 & 5.255678e-05 & 1.068633e-04 & 6.356057e-05 & 9.757233e-05 & 0.0002231066 & 7.298662e-05 & 5.541492e-05 & 1.189655e-04 & ⋯ & 0.0001028529 & 9.632791e-05 & 6.755138e-05 & 0.0001836754 & 1.122295e-04 & 1.400207e-04 & 1.449955e-04 & 2.741661e-04 & 1.882258e-04 & 1.713079e-04\\\\\n",
       "\t10035\\_325.139\\_2.817 & 1.362995e-04 & 5.841053e-05 & 6.965824e-05 & 8.091504e-05 & 3.093531e-04 & 8.996315e-05 & 0.0002413577 & 1.178815e-04 & 7.419413e-05 & 7.584102e-05 & ⋯ & 0.0001343205 & 2.687715e-04 & 1.616247e-04 & 0.0005681803 & 9.525785e-05 & 5.249965e-04 & 9.516542e-05 & 1.210526e-04 & 6.687881e-04 & 9.867006e-05\\\\\n",
       "\t10037\\_216.123\\_2.847 & 6.291825e-05 & 2.414556e-04 & 2.513364e-05 & 3.986156e-05 & 5.276403e-05 & 1.368825e-04 & 0.0000231519 & 5.422180e-05 & 7.354139e-05 & 7.940673e-05 & ⋯ & 0.0000286789 & 6.781633e-07 & 1.722414e-05 & 0.0002135074 & 3.418733e-05 & 6.383958e-05 & 6.973039e-05 & 5.002499e-05 & 7.533185e-05 & 7.088867e-05\\\\\n",
       "\\end{tabular}\n"
      ],
      "text/markdown": [
       "\n",
       "A matrix: 3 × 180 of type dbl\n",
       "\n",
       "| <!--/--> | SD_01-2018_1_a.mzXML | SD_01-2018_1_b.mzXML | SD_01-2018_10_a.mzXML | SD_01-2018_10_b.mzXML | SD_01-2018_11_a.mzXML | SD_01-2018_11_b.mzXML | SD_01-2018_12_a.mzXML | SD_01-2018_12_b.mzXML | SD_01-2018_13_a.mzXML | SD_01-2018_13_b.mzXML | ⋯ | SD_12-2017_5_a.mzXML | SD_12-2017_5_b.mzXML | SD_12-2017_6_a.mzXML | SD_12-2017_6_b.mzXML | SD_12-2017_7_a.mzXML | SD_12-2017_7_b.mzXML | SD_12-2017_8_a.mzXML | SD_12-2017_8_b.mzXML | SD_12-2017_9_a.mzXML | SD_12-2017_9_b.mzXML |\n",
       "|---|---|---|---|---|---|---|---|---|---|---|---|---|---|---|---|---|---|---|---|---|---|\n",
       "| 10015_282.169_2.763 | 3.540018e-05 | 3.017861e-05 | 5.255678e-05 | 1.068633e-04 | 6.356057e-05 | 9.757233e-05 | 0.0002231066 | 7.298662e-05 | 5.541492e-05 | 1.189655e-04 | ⋯ | 0.0001028529 | 9.632791e-05 | 6.755138e-05 | 0.0001836754 | 1.122295e-04 | 1.400207e-04 | 1.449955e-04 | 2.741661e-04 | 1.882258e-04 | 1.713079e-04 |\n",
       "| 10035_325.139_2.817 | 1.362995e-04 | 5.841053e-05 | 6.965824e-05 | 8.091504e-05 | 3.093531e-04 | 8.996315e-05 | 0.0002413577 | 1.178815e-04 | 7.419413e-05 | 7.584102e-05 | ⋯ | 0.0001343205 | 2.687715e-04 | 1.616247e-04 | 0.0005681803 | 9.525785e-05 | 5.249965e-04 | 9.516542e-05 | 1.210526e-04 | 6.687881e-04 | 9.867006e-05 |\n",
       "| 10037_216.123_2.847 | 6.291825e-05 | 2.414556e-04 | 2.513364e-05 | 3.986156e-05 | 5.276403e-05 | 1.368825e-04 | 0.0000231519 | 5.422180e-05 | 7.354139e-05 | 7.940673e-05 | ⋯ | 0.0000286789 | 6.781633e-07 | 1.722414e-05 | 0.0002135074 | 3.418733e-05 | 6.383958e-05 | 6.973039e-05 | 5.002499e-05 | 7.533185e-05 | 7.088867e-05 |\n",
       "\n"
      ],
      "text/plain": [
       "                    SD_01-2018_1_a.mzXML SD_01-2018_1_b.mzXML\n",
       "10015_282.169_2.763 3.540018e-05         3.017861e-05        \n",
       "10035_325.139_2.817 1.362995e-04         5.841053e-05        \n",
       "10037_216.123_2.847 6.291825e-05         2.414556e-04        \n",
       "                    SD_01-2018_10_a.mzXML SD_01-2018_10_b.mzXML\n",
       "10015_282.169_2.763 5.255678e-05          1.068633e-04         \n",
       "10035_325.139_2.817 6.965824e-05          8.091504e-05         \n",
       "10037_216.123_2.847 2.513364e-05          3.986156e-05         \n",
       "                    SD_01-2018_11_a.mzXML SD_01-2018_11_b.mzXML\n",
       "10015_282.169_2.763 6.356057e-05          9.757233e-05         \n",
       "10035_325.139_2.817 3.093531e-04          8.996315e-05         \n",
       "10037_216.123_2.847 5.276403e-05          1.368825e-04         \n",
       "                    SD_01-2018_12_a.mzXML SD_01-2018_12_b.mzXML\n",
       "10015_282.169_2.763 0.0002231066          7.298662e-05         \n",
       "10035_325.139_2.817 0.0002413577          1.178815e-04         \n",
       "10037_216.123_2.847 0.0000231519          5.422180e-05         \n",
       "                    SD_01-2018_13_a.mzXML SD_01-2018_13_b.mzXML ⋯\n",
       "10015_282.169_2.763 5.541492e-05          1.189655e-04          ⋯\n",
       "10035_325.139_2.817 7.419413e-05          7.584102e-05          ⋯\n",
       "10037_216.123_2.847 7.354139e-05          7.940673e-05          ⋯\n",
       "                    SD_12-2017_5_a.mzXML SD_12-2017_5_b.mzXML\n",
       "10015_282.169_2.763 0.0001028529         9.632791e-05        \n",
       "10035_325.139_2.817 0.0001343205         2.687715e-04        \n",
       "10037_216.123_2.847 0.0000286789         6.781633e-07        \n",
       "                    SD_12-2017_6_a.mzXML SD_12-2017_6_b.mzXML\n",
       "10015_282.169_2.763 6.755138e-05         0.0001836754        \n",
       "10035_325.139_2.817 1.616247e-04         0.0005681803        \n",
       "10037_216.123_2.847 1.722414e-05         0.0002135074        \n",
       "                    SD_12-2017_7_a.mzXML SD_12-2017_7_b.mzXML\n",
       "10015_282.169_2.763 1.122295e-04         1.400207e-04        \n",
       "10035_325.139_2.817 9.525785e-05         5.249965e-04        \n",
       "10037_216.123_2.847 3.418733e-05         6.383958e-05        \n",
       "                    SD_12-2017_8_a.mzXML SD_12-2017_8_b.mzXML\n",
       "10015_282.169_2.763 1.449955e-04         2.741661e-04        \n",
       "10035_325.139_2.817 9.516542e-05         1.210526e-04        \n",
       "10037_216.123_2.847 6.973039e-05         5.002499e-05        \n",
       "                    SD_12-2017_9_a.mzXML SD_12-2017_9_b.mzXML\n",
       "10015_282.169_2.763 1.882258e-04         1.713079e-04        \n",
       "10035_325.139_2.817 6.687881e-04         9.867006e-05        \n",
       "10037_216.123_2.847 7.533185e-05         7.088867e-05        "
      ]
     },
     "metadata": {},
     "output_type": "display_data"
    },
    {
     "data": {
      "text/html": [
       "<style>\n",
       ".list-inline {list-style: none; margin:0; padding: 0}\n",
       ".list-inline>li {display: inline-block}\n",
       ".list-inline>li:not(:last-child)::after {content: \"\\00b7\"; padding: 0 .5ex}\n",
       "</style>\n",
       "<ol class=list-inline><li>9092</li><li>180</li></ol>\n"
      ],
      "text/latex": [
       "\\begin{enumerate*}\n",
       "\\item 9092\n",
       "\\item 180\n",
       "\\end{enumerate*}\n"
      ],
      "text/markdown": [
       "1. 9092\n",
       "2. 180\n",
       "\n",
       "\n"
      ],
      "text/plain": [
       "[1] 9092  180"
      ]
     },
     "metadata": {},
     "output_type": "display_data"
    },
    {
     "name": "stdout",
     "output_type": "stream",
     "text": [
      "[1] \"No.of NA values in Normalized data: 0\"\n"
     ]
    }
   ],
   "source": [
    "Normalized_data_pqn <- t(normalization(t(Imputed), method = \"pqn\")$newXtrain)\n",
    "head(Normalized_data_pqn,n=3)\n",
    "dim(Normalized_data_pqn)\n",
    "print(paste('No.of NA values in Normalized data:',sum(is.na(Normalized_data_pqn)== T)))"
   ]
  },
  {
   "cell_type": "code",
   "execution_count": 53,
   "id": "58fc407e",
   "metadata": {
    "executionInfo": {
     "elapsed": 245,
     "status": "ok",
     "timestamp": 1666559746729,
     "user": {
      "displayName": "Abzer Kelminal.P M",
      "userId": "16537922509430952288"
     },
     "user_tz": -120
    },
    "id": "58fc407e"
   },
   "outputs": [],
   "source": [
    "write.csv(Normalized_data_pqn,'141222_PQN_Normalised_Quant_table.csv',row.names =T)"
   ]
  },
  {
   "cell_type": "markdown",
   "id": "01ed9937-3a7f-45e0-b21f-a05ae54dee34",
   "metadata": {
    "id": "01ed9937-3a7f-45e0-b21f-a05ae54dee34"
   },
   "source": [
    "All the result files would be available in the 'Result' folder within your working directory (i.e the folder path you mentioned in the beginning of the script)."
   ]
  },
  {
   "cell_type": "markdown",
   "id": "w7rYinojzPVx",
   "metadata": {
    "id": "w7rYinojzPVx"
   },
   "source": [
    "# Step 5: Scaling:"
   ]
  },
  {
   "cell_type": "code",
   "execution_count": 83,
   "id": "8f704124",
   "metadata": {},
   "outputs": [
    {
     "data": {
      "text/html": [
       "<table class=\"dataframe\">\n",
       "<caption>A data.frame: 3 × 180</caption>\n",
       "<thead>\n",
       "\t<tr><th></th><th scope=col>SD_01-2018_1_a.mzXML</th><th scope=col>SD_01-2018_1_b.mzXML</th><th scope=col>SD_01-2018_10_a.mzXML</th><th scope=col>SD_01-2018_10_b.mzXML</th><th scope=col>SD_01-2018_11_a.mzXML</th><th scope=col>SD_01-2018_11_b.mzXML</th><th scope=col>SD_01-2018_12_a.mzXML</th><th scope=col>SD_01-2018_12_b.mzXML</th><th scope=col>SD_01-2018_13_a.mzXML</th><th scope=col>SD_01-2018_13_b.mzXML</th><th scope=col>⋯</th><th scope=col>SD_12-2017_5_a.mzXML</th><th scope=col>SD_12-2017_5_b.mzXML</th><th scope=col>SD_12-2017_6_a.mzXML</th><th scope=col>SD_12-2017_6_b.mzXML</th><th scope=col>SD_12-2017_7_a.mzXML</th><th scope=col>SD_12-2017_7_b.mzXML</th><th scope=col>SD_12-2017_8_a.mzXML</th><th scope=col>SD_12-2017_8_b.mzXML</th><th scope=col>SD_12-2017_9_a.mzXML</th><th scope=col>SD_12-2017_9_b.mzXML</th></tr>\n",
       "\t<tr><th></th><th scope=col>&lt;dbl&gt;</th><th scope=col>&lt;dbl&gt;</th><th scope=col>&lt;dbl&gt;</th><th scope=col>&lt;dbl&gt;</th><th scope=col>&lt;dbl&gt;</th><th scope=col>&lt;dbl&gt;</th><th scope=col>&lt;dbl&gt;</th><th scope=col>&lt;dbl&gt;</th><th scope=col>&lt;dbl&gt;</th><th scope=col>&lt;dbl&gt;</th><th scope=col>⋯</th><th scope=col>&lt;dbl&gt;</th><th scope=col>&lt;dbl&gt;</th><th scope=col>&lt;dbl&gt;</th><th scope=col>&lt;dbl&gt;</th><th scope=col>&lt;dbl&gt;</th><th scope=col>&lt;dbl&gt;</th><th scope=col>&lt;dbl&gt;</th><th scope=col>&lt;dbl&gt;</th><th scope=col>&lt;dbl&gt;</th><th scope=col>&lt;dbl&gt;</th></tr>\n",
       "</thead>\n",
       "<tbody>\n",
       "\t<tr><th scope=row>10015_282.169_2.763</th><td> 50907.97</td><td> 51443.73</td><td>109227.84</td><td>176375.7</td><td>104468.73</td><td>107860.7</td><td>416643.34</td><td>100000.83</td><td>113347.2</td><td>229451.5</td><td>⋯</td><td> 81368.72</td><td>110551.6</td><td> 86917.61</td><td> 73583.30</td><td>135812.39</td><td>142495.92</td><td>172251.69</td><td>259688.52</td><td>205187.22</td><td>139750.70</td></tr>\n",
       "\t<tr><th scope=row>10035_325.139_2.817</th><td>196008.38</td><td> 99569.05</td><td>144769.50</td><td>133548.6</td><td>508455.56</td><td> 99449.2</td><td>450726.62</td><td>161512.50</td><td>151758.7</td><td>146276.4</td><td>⋯</td><td>106263.34</td><td>308457.9</td><td>207960.67</td><td>227622.08</td><td>115274.43</td><td>534276.94</td><td>113054.56</td><td>114660.29</td><td>729054.10</td><td> 80493.73</td></tr>\n",
       "\t<tr><th scope=row>10037_216.123_2.847</th><td> 90480.91</td><td>411595.38</td><td> 52234.81</td><td> 65790.7</td><td> 86723.45</td><td>151315.9</td><td> 43235.33</td><td> 74290.67</td><td>150423.6</td><td>153153.6</td><td>⋯</td><td> 22688.39</td><td>   778.3</td><td> 22162.11</td><td> 85534.48</td><td> 41371.13</td><td> 64968.08</td><td> 82838.27</td><td> 47383.38</td><td> 82120.17</td><td> 57830.04</td></tr>\n",
       "</tbody>\n",
       "</table>\n"
      ],
      "text/latex": [
       "A data.frame: 3 × 180\n",
       "\\begin{tabular}{r|lllllllllllllllllllll}\n",
       "  & SD\\_01-2018\\_1\\_a.mzXML & SD\\_01-2018\\_1\\_b.mzXML & SD\\_01-2018\\_10\\_a.mzXML & SD\\_01-2018\\_10\\_b.mzXML & SD\\_01-2018\\_11\\_a.mzXML & SD\\_01-2018\\_11\\_b.mzXML & SD\\_01-2018\\_12\\_a.mzXML & SD\\_01-2018\\_12\\_b.mzXML & SD\\_01-2018\\_13\\_a.mzXML & SD\\_01-2018\\_13\\_b.mzXML & ⋯ & SD\\_12-2017\\_5\\_a.mzXML & SD\\_12-2017\\_5\\_b.mzXML & SD\\_12-2017\\_6\\_a.mzXML & SD\\_12-2017\\_6\\_b.mzXML & SD\\_12-2017\\_7\\_a.mzXML & SD\\_12-2017\\_7\\_b.mzXML & SD\\_12-2017\\_8\\_a.mzXML & SD\\_12-2017\\_8\\_b.mzXML & SD\\_12-2017\\_9\\_a.mzXML & SD\\_12-2017\\_9\\_b.mzXML\\\\\n",
       "  & <dbl> & <dbl> & <dbl> & <dbl> & <dbl> & <dbl> & <dbl> & <dbl> & <dbl> & <dbl> & ⋯ & <dbl> & <dbl> & <dbl> & <dbl> & <dbl> & <dbl> & <dbl> & <dbl> & <dbl> & <dbl>\\\\\n",
       "\\hline\n",
       "\t10015\\_282.169\\_2.763 &  50907.97 &  51443.73 & 109227.84 & 176375.7 & 104468.73 & 107860.7 & 416643.34 & 100000.83 & 113347.2 & 229451.5 & ⋯ &  81368.72 & 110551.6 &  86917.61 &  73583.30 & 135812.39 & 142495.92 & 172251.69 & 259688.52 & 205187.22 & 139750.70\\\\\n",
       "\t10035\\_325.139\\_2.817 & 196008.38 &  99569.05 & 144769.50 & 133548.6 & 508455.56 &  99449.2 & 450726.62 & 161512.50 & 151758.7 & 146276.4 & ⋯ & 106263.34 & 308457.9 & 207960.67 & 227622.08 & 115274.43 & 534276.94 & 113054.56 & 114660.29 & 729054.10 &  80493.73\\\\\n",
       "\t10037\\_216.123\\_2.847 &  90480.91 & 411595.38 &  52234.81 &  65790.7 &  86723.45 & 151315.9 &  43235.33 &  74290.67 & 150423.6 & 153153.6 & ⋯ &  22688.39 &    778.3 &  22162.11 &  85534.48 &  41371.13 &  64968.08 &  82838.27 &  47383.38 &  82120.17 &  57830.04\\\\\n",
       "\\end{tabular}\n"
      ],
      "text/markdown": [
       "\n",
       "A data.frame: 3 × 180\n",
       "\n",
       "| <!--/--> | SD_01-2018_1_a.mzXML &lt;dbl&gt; | SD_01-2018_1_b.mzXML &lt;dbl&gt; | SD_01-2018_10_a.mzXML &lt;dbl&gt; | SD_01-2018_10_b.mzXML &lt;dbl&gt; | SD_01-2018_11_a.mzXML &lt;dbl&gt; | SD_01-2018_11_b.mzXML &lt;dbl&gt; | SD_01-2018_12_a.mzXML &lt;dbl&gt; | SD_01-2018_12_b.mzXML &lt;dbl&gt; | SD_01-2018_13_a.mzXML &lt;dbl&gt; | SD_01-2018_13_b.mzXML &lt;dbl&gt; | ⋯ ⋯ | SD_12-2017_5_a.mzXML &lt;dbl&gt; | SD_12-2017_5_b.mzXML &lt;dbl&gt; | SD_12-2017_6_a.mzXML &lt;dbl&gt; | SD_12-2017_6_b.mzXML &lt;dbl&gt; | SD_12-2017_7_a.mzXML &lt;dbl&gt; | SD_12-2017_7_b.mzXML &lt;dbl&gt; | SD_12-2017_8_a.mzXML &lt;dbl&gt; | SD_12-2017_8_b.mzXML &lt;dbl&gt; | SD_12-2017_9_a.mzXML &lt;dbl&gt; | SD_12-2017_9_b.mzXML &lt;dbl&gt; |\n",
       "|---|---|---|---|---|---|---|---|---|---|---|---|---|---|---|---|---|---|---|---|---|---|\n",
       "| 10015_282.169_2.763 |  50907.97 |  51443.73 | 109227.84 | 176375.7 | 104468.73 | 107860.7 | 416643.34 | 100000.83 | 113347.2 | 229451.5 | ⋯ |  81368.72 | 110551.6 |  86917.61 |  73583.30 | 135812.39 | 142495.92 | 172251.69 | 259688.52 | 205187.22 | 139750.70 |\n",
       "| 10035_325.139_2.817 | 196008.38 |  99569.05 | 144769.50 | 133548.6 | 508455.56 |  99449.2 | 450726.62 | 161512.50 | 151758.7 | 146276.4 | ⋯ | 106263.34 | 308457.9 | 207960.67 | 227622.08 | 115274.43 | 534276.94 | 113054.56 | 114660.29 | 729054.10 |  80493.73 |\n",
       "| 10037_216.123_2.847 |  90480.91 | 411595.38 |  52234.81 |  65790.7 |  86723.45 | 151315.9 |  43235.33 |  74290.67 | 150423.6 | 153153.6 | ⋯ |  22688.39 |    778.3 |  22162.11 |  85534.48 |  41371.13 |  64968.08 |  82838.27 |  47383.38 |  82120.17 |  57830.04 |\n",
       "\n"
      ],
      "text/plain": [
       "                    SD_01-2018_1_a.mzXML SD_01-2018_1_b.mzXML\n",
       "10015_282.169_2.763  50907.97             51443.73           \n",
       "10035_325.139_2.817 196008.38             99569.05           \n",
       "10037_216.123_2.847  90480.91            411595.38           \n",
       "                    SD_01-2018_10_a.mzXML SD_01-2018_10_b.mzXML\n",
       "10015_282.169_2.763 109227.84             176375.7             \n",
       "10035_325.139_2.817 144769.50             133548.6             \n",
       "10037_216.123_2.847  52234.81              65790.7             \n",
       "                    SD_01-2018_11_a.mzXML SD_01-2018_11_b.mzXML\n",
       "10015_282.169_2.763 104468.73             107860.7             \n",
       "10035_325.139_2.817 508455.56              99449.2             \n",
       "10037_216.123_2.847  86723.45             151315.9             \n",
       "                    SD_01-2018_12_a.mzXML SD_01-2018_12_b.mzXML\n",
       "10015_282.169_2.763 416643.34             100000.83            \n",
       "10035_325.139_2.817 450726.62             161512.50            \n",
       "10037_216.123_2.847  43235.33              74290.67            \n",
       "                    SD_01-2018_13_a.mzXML SD_01-2018_13_b.mzXML ⋯\n",
       "10015_282.169_2.763 113347.2              229451.5              ⋯\n",
       "10035_325.139_2.817 151758.7              146276.4              ⋯\n",
       "10037_216.123_2.847 150423.6              153153.6              ⋯\n",
       "                    SD_12-2017_5_a.mzXML SD_12-2017_5_b.mzXML\n",
       "10015_282.169_2.763  81368.72            110551.6            \n",
       "10035_325.139_2.817 106263.34            308457.9            \n",
       "10037_216.123_2.847  22688.39               778.3            \n",
       "                    SD_12-2017_6_a.mzXML SD_12-2017_6_b.mzXML\n",
       "10015_282.169_2.763  86917.61             73583.30           \n",
       "10035_325.139_2.817 207960.67            227622.08           \n",
       "10037_216.123_2.847  22162.11             85534.48           \n",
       "                    SD_12-2017_7_a.mzXML SD_12-2017_7_b.mzXML\n",
       "10015_282.169_2.763 135812.39            142495.92           \n",
       "10035_325.139_2.817 115274.43            534276.94           \n",
       "10037_216.123_2.847  41371.13             64968.08           \n",
       "                    SD_12-2017_8_a.mzXML SD_12-2017_8_b.mzXML\n",
       "10015_282.169_2.763 172251.69            259688.52           \n",
       "10035_325.139_2.817 113054.56            114660.29           \n",
       "10037_216.123_2.847  82838.27             47383.38           \n",
       "                    SD_12-2017_9_a.mzXML SD_12-2017_9_b.mzXML\n",
       "10015_282.169_2.763 205187.22            139750.70           \n",
       "10035_325.139_2.817 729054.10             80493.73           \n",
       "10037_216.123_2.847  82120.17             57830.04           "
      ]
     },
     "metadata": {},
     "output_type": "display_data"
    }
   ],
   "source": [
    "head(Imputed, 3)"
   ]
  },
  {
   "cell_type": "code",
   "execution_count": 84,
   "id": "il-MRXsvdUzg",
   "metadata": {
    "colab": {
     "base_uri": "https://localhost:8080/",
     "height": 233
    },
    "executionInfo": {
     "elapsed": 203,
     "status": "ok",
     "timestamp": 1666552434678,
     "user": {
      "displayName": "Abzer Kelminal.P M",
      "userId": "16537922509430952288"
     },
     "user_tz": -120
    },
    "id": "il-MRXsvdUzg",
    "outputId": "2fee209e-3f24-4555-a329-4cc2d0e17612"
   },
   "outputs": [
    {
     "data": {
      "text/html": [
       "<table class=\"dataframe\">\n",
       "<caption>A data.frame: 3 × 9092</caption>\n",
       "<thead>\n",
       "\t<tr><th></th><th scope=col>10015_282.169_2.763</th><th scope=col>10035_325.139_2.817</th><th scope=col>10037_216.123_2.847</th><th scope=col>10047_338.159_2.845</th><th scope=col>10058_280.117_2.961</th><th scope=col>10059_414.175_2.851</th><th scope=col>10072_305.157_2.851</th><th scope=col>10074_283.175_2.851</th><th scope=col>10078_300.201_2.851</th><th scope=col>10082_309.144_2.886</th><th scope=col>⋯</th><th scope=col>9833_268.175_2.821</th><th scope=col>9860_240.144_2.824</th><th scope=col>9876_414.139_2.761</th><th scope=col>9884_190.05_2.832</th><th scope=col>9897_333.144_2.881</th><th scope=col>9909_400.16_2.813</th><th scope=col>9918_252.123_2.833</th><th scope=col>9957_402.139_3.01</th><th scope=col>9972_323.123_2.716</th><th scope=col>9995_276.159_2.805</th></tr>\n",
       "\t<tr><th></th><th scope=col>&lt;dbl&gt;</th><th scope=col>&lt;dbl&gt;</th><th scope=col>&lt;dbl&gt;</th><th scope=col>&lt;dbl&gt;</th><th scope=col>&lt;dbl&gt;</th><th scope=col>&lt;dbl&gt;</th><th scope=col>&lt;dbl&gt;</th><th scope=col>&lt;dbl&gt;</th><th scope=col>&lt;dbl&gt;</th><th scope=col>&lt;dbl&gt;</th><th scope=col>⋯</th><th scope=col>&lt;dbl&gt;</th><th scope=col>&lt;dbl&gt;</th><th scope=col>&lt;dbl&gt;</th><th scope=col>&lt;dbl&gt;</th><th scope=col>&lt;dbl&gt;</th><th scope=col>&lt;dbl&gt;</th><th scope=col>&lt;dbl&gt;</th><th scope=col>&lt;dbl&gt;</th><th scope=col>&lt;dbl&gt;</th><th scope=col>&lt;dbl&gt;</th></tr>\n",
       "</thead>\n",
       "<tbody>\n",
       "\t<tr><th scope=row>SD_01-2018_1_a.mzXML</th><td> 50907.97</td><td>196008.38</td><td> 90480.91</td><td>446560.7</td><td>182757.8</td><td>121197.4</td><td>615145.0</td><td>2004980</td><td>2698188</td><td>   206.5</td><td>⋯</td><td>108854.26</td><td>437011.9</td><td>  90982.97</td><td>114156.20</td><td> 73891.54</td><td> 245935.5</td><td> 447505.8</td><td>862014.4</td><td>199116.2</td><td>127721.8</td></tr>\n",
       "\t<tr><th scope=row>SD_01-2018_1_b.mzXML</th><td> 51443.73</td><td> 99569.05</td><td>411595.38</td><td>239022.0</td><td>274146.0</td><td>201966.1</td><td>527106.5</td><td>1937671</td><td>2750867</td><td>455468.0</td><td>⋯</td><td> 52075.82</td><td>570035.0</td><td> 519301.53</td><td> 99533.95</td><td>139784.78</td><td> 144992.2</td><td> 807991.6</td><td>777378.6</td><td>203698.4</td><td>279187.2</td></tr>\n",
       "\t<tr><th scope=row>SD_01-2018_10_a.mzXML</th><td>109227.84</td><td>144769.50</td><td> 52234.81</td><td>342724.8</td><td>657006.1</td><td>138082.4</td><td>375967.5</td><td>1521027</td><td>2176299</td><td>192929.8</td><td>⋯</td><td>  5963.50</td><td>   884.7</td><td>1225606.10</td><td> 40589.14</td><td>118557.62</td><td>1358931.0</td><td>1107002.5</td><td>103690.9</td><td>955499.7</td><td>384465.1</td></tr>\n",
       "</tbody>\n",
       "</table>\n"
      ],
      "text/latex": [
       "A data.frame: 3 × 9092\n",
       "\\begin{tabular}{r|lllllllllllllllllllll}\n",
       "  & 10015\\_282.169\\_2.763 & 10035\\_325.139\\_2.817 & 10037\\_216.123\\_2.847 & 10047\\_338.159\\_2.845 & 10058\\_280.117\\_2.961 & 10059\\_414.175\\_2.851 & 10072\\_305.157\\_2.851 & 10074\\_283.175\\_2.851 & 10078\\_300.201\\_2.851 & 10082\\_309.144\\_2.886 & ⋯ & 9833\\_268.175\\_2.821 & 9860\\_240.144\\_2.824 & 9876\\_414.139\\_2.761 & 9884\\_190.05\\_2.832 & 9897\\_333.144\\_2.881 & 9909\\_400.16\\_2.813 & 9918\\_252.123\\_2.833 & 9957\\_402.139\\_3.01 & 9972\\_323.123\\_2.716 & 9995\\_276.159\\_2.805\\\\\n",
       "  & <dbl> & <dbl> & <dbl> & <dbl> & <dbl> & <dbl> & <dbl> & <dbl> & <dbl> & <dbl> & ⋯ & <dbl> & <dbl> & <dbl> & <dbl> & <dbl> & <dbl> & <dbl> & <dbl> & <dbl> & <dbl>\\\\\n",
       "\\hline\n",
       "\tSD\\_01-2018\\_1\\_a.mzXML &  50907.97 & 196008.38 &  90480.91 & 446560.7 & 182757.8 & 121197.4 & 615145.0 & 2004980 & 2698188 &    206.5 & ⋯ & 108854.26 & 437011.9 &   90982.97 & 114156.20 &  73891.54 &  245935.5 &  447505.8 & 862014.4 & 199116.2 & 127721.8\\\\\n",
       "\tSD\\_01-2018\\_1\\_b.mzXML &  51443.73 &  99569.05 & 411595.38 & 239022.0 & 274146.0 & 201966.1 & 527106.5 & 1937671 & 2750867 & 455468.0 & ⋯ &  52075.82 & 570035.0 &  519301.53 &  99533.95 & 139784.78 &  144992.2 &  807991.6 & 777378.6 & 203698.4 & 279187.2\\\\\n",
       "\tSD\\_01-2018\\_10\\_a.mzXML & 109227.84 & 144769.50 &  52234.81 & 342724.8 & 657006.1 & 138082.4 & 375967.5 & 1521027 & 2176299 & 192929.8 & ⋯ &   5963.50 &    884.7 & 1225606.10 &  40589.14 & 118557.62 & 1358931.0 & 1107002.5 & 103690.9 & 955499.7 & 384465.1\\\\\n",
       "\\end{tabular}\n"
      ],
      "text/markdown": [
       "\n",
       "A data.frame: 3 × 9092\n",
       "\n",
       "| <!--/--> | 10015_282.169_2.763 &lt;dbl&gt; | 10035_325.139_2.817 &lt;dbl&gt; | 10037_216.123_2.847 &lt;dbl&gt; | 10047_338.159_2.845 &lt;dbl&gt; | 10058_280.117_2.961 &lt;dbl&gt; | 10059_414.175_2.851 &lt;dbl&gt; | 10072_305.157_2.851 &lt;dbl&gt; | 10074_283.175_2.851 &lt;dbl&gt; | 10078_300.201_2.851 &lt;dbl&gt; | 10082_309.144_2.886 &lt;dbl&gt; | ⋯ ⋯ | 9833_268.175_2.821 &lt;dbl&gt; | 9860_240.144_2.824 &lt;dbl&gt; | 9876_414.139_2.761 &lt;dbl&gt; | 9884_190.05_2.832 &lt;dbl&gt; | 9897_333.144_2.881 &lt;dbl&gt; | 9909_400.16_2.813 &lt;dbl&gt; | 9918_252.123_2.833 &lt;dbl&gt; | 9957_402.139_3.01 &lt;dbl&gt; | 9972_323.123_2.716 &lt;dbl&gt; | 9995_276.159_2.805 &lt;dbl&gt; |\n",
       "|---|---|---|---|---|---|---|---|---|---|---|---|---|---|---|---|---|---|---|---|---|---|\n",
       "| SD_01-2018_1_a.mzXML |  50907.97 | 196008.38 |  90480.91 | 446560.7 | 182757.8 | 121197.4 | 615145.0 | 2004980 | 2698188 |    206.5 | ⋯ | 108854.26 | 437011.9 |   90982.97 | 114156.20 |  73891.54 |  245935.5 |  447505.8 | 862014.4 | 199116.2 | 127721.8 |\n",
       "| SD_01-2018_1_b.mzXML |  51443.73 |  99569.05 | 411595.38 | 239022.0 | 274146.0 | 201966.1 | 527106.5 | 1937671 | 2750867 | 455468.0 | ⋯ |  52075.82 | 570035.0 |  519301.53 |  99533.95 | 139784.78 |  144992.2 |  807991.6 | 777378.6 | 203698.4 | 279187.2 |\n",
       "| SD_01-2018_10_a.mzXML | 109227.84 | 144769.50 |  52234.81 | 342724.8 | 657006.1 | 138082.4 | 375967.5 | 1521027 | 2176299 | 192929.8 | ⋯ |   5963.50 |    884.7 | 1225606.10 |  40589.14 | 118557.62 | 1358931.0 | 1107002.5 | 103690.9 | 955499.7 | 384465.1 |\n",
       "\n"
      ],
      "text/plain": [
       "                      10015_282.169_2.763 10035_325.139_2.817\n",
       "SD_01-2018_1_a.mzXML   50907.97           196008.38          \n",
       "SD_01-2018_1_b.mzXML   51443.73            99569.05          \n",
       "SD_01-2018_10_a.mzXML 109227.84           144769.50          \n",
       "                      10037_216.123_2.847 10047_338.159_2.845\n",
       "SD_01-2018_1_a.mzXML   90480.91           446560.7           \n",
       "SD_01-2018_1_b.mzXML  411595.38           239022.0           \n",
       "SD_01-2018_10_a.mzXML  52234.81           342724.8           \n",
       "                      10058_280.117_2.961 10059_414.175_2.851\n",
       "SD_01-2018_1_a.mzXML  182757.8            121197.4           \n",
       "SD_01-2018_1_b.mzXML  274146.0            201966.1           \n",
       "SD_01-2018_10_a.mzXML 657006.1            138082.4           \n",
       "                      10072_305.157_2.851 10074_283.175_2.851\n",
       "SD_01-2018_1_a.mzXML  615145.0            2004980            \n",
       "SD_01-2018_1_b.mzXML  527106.5            1937671            \n",
       "SD_01-2018_10_a.mzXML 375967.5            1521027            \n",
       "                      10078_300.201_2.851 10082_309.144_2.886 ⋯\n",
       "SD_01-2018_1_a.mzXML  2698188                206.5            ⋯\n",
       "SD_01-2018_1_b.mzXML  2750867             455468.0            ⋯\n",
       "SD_01-2018_10_a.mzXML 2176299             192929.8            ⋯\n",
       "                      9833_268.175_2.821 9860_240.144_2.824 9876_414.139_2.761\n",
       "SD_01-2018_1_a.mzXML  108854.26          437011.9             90982.97        \n",
       "SD_01-2018_1_b.mzXML   52075.82          570035.0            519301.53        \n",
       "SD_01-2018_10_a.mzXML   5963.50             884.7           1225606.10        \n",
       "                      9884_190.05_2.832 9897_333.144_2.881 9909_400.16_2.813\n",
       "SD_01-2018_1_a.mzXML  114156.20          73891.54           245935.5        \n",
       "SD_01-2018_1_b.mzXML   99533.95         139784.78           144992.2        \n",
       "SD_01-2018_10_a.mzXML  40589.14         118557.62          1358931.0        \n",
       "                      9918_252.123_2.833 9957_402.139_3.01 9972_323.123_2.716\n",
       "SD_01-2018_1_a.mzXML   447505.8          862014.4          199116.2          \n",
       "SD_01-2018_1_b.mzXML   807991.6          777378.6          203698.4          \n",
       "SD_01-2018_10_a.mzXML 1107002.5          103690.9          955499.7          \n",
       "                      9995_276.159_2.805\n",
       "SD_01-2018_1_a.mzXML  127721.8          \n",
       "SD_01-2018_1_b.mzXML  279187.2          \n",
       "SD_01-2018_10_a.mzXML 384465.1          "
      ]
     },
     "metadata": {},
     "output_type": "display_data"
    }
   ],
   "source": [
    "Imp_t <- as.data.frame(t(Imputed)) #transposing the imputed table\n",
    "head(Imp_t, n=3)"
   ]
  },
  {
   "cell_type": "code",
   "execution_count": 85,
   "id": "TK_pfDQ6Aoav",
   "metadata": {
    "colab": {
     "base_uri": "https://localhost:8080/",
     "height": 52
    },
    "executionInfo": {
     "elapsed": 204,
     "status": "ok",
     "timestamp": 1666552445286,
     "user": {
      "displayName": "Abzer Kelminal.P M",
      "userId": "16537922509430952288"
     },
     "user_tz": -120
    },
    "id": "TK_pfDQ6Aoav",
    "outputId": "19ef3501-d73d-4003-9eb7-fc001d4b60d7"
   },
   "outputs": [
    {
     "data": {
      "text/html": [
       "TRUE"
      ],
      "text/latex": [
       "TRUE"
      ],
      "text/markdown": [
       "TRUE"
      ],
      "text/plain": [
       "[1] TRUE"
      ]
     },
     "metadata": {},
     "output_type": "display_data"
    }
   ],
   "source": [
    "# put the rows in the feature table and metadata in the same order\n",
    "#Imp_t <- Imp_t[match(md_Samples$filename,rownames(Imp_t)),]\n",
    "identical(rownames(Imp_t),md_Samples$filename) #should return TRUE"
   ]
  },
  {
   "cell_type": "code",
   "execution_count": 95,
   "id": "xhmUsvEddvfA",
   "metadata": {
    "colab": {
     "base_uri": "https://localhost:8080/",
     "height": 233
    },
    "executionInfo": {
     "elapsed": 325,
     "status": "ok",
     "timestamp": 1666552475625,
     "user": {
      "displayName": "Abzer Kelminal.P M",
      "userId": "16537922509430952288"
     },
     "user_tz": -120
    },
    "id": "xhmUsvEddvfA",
    "outputId": "b086cfc0-5d43-4894-e86c-8fbfd8e27e38"
   },
   "outputs": [
    {
     "data": {
      "text/html": [
       "<table class=\"dataframe\">\n",
       "<caption>A matrix: 3 × 9092 of type dbl</caption>\n",
       "<thead>\n",
       "\t<tr><th></th><th scope=col>10015_282.169_2.763</th><th scope=col>10035_325.139_2.817</th><th scope=col>10037_216.123_2.847</th><th scope=col>10047_338.159_2.845</th><th scope=col>10058_280.117_2.961</th><th scope=col>10059_414.175_2.851</th><th scope=col>10072_305.157_2.851</th><th scope=col>10074_283.175_2.851</th><th scope=col>10078_300.201_2.851</th><th scope=col>10082_309.144_2.886</th><th scope=col>⋯</th><th scope=col>9833_268.175_2.821</th><th scope=col>9860_240.144_2.824</th><th scope=col>9876_414.139_2.761</th><th scope=col>9884_190.05_2.832</th><th scope=col>9897_333.144_2.881</th><th scope=col>9909_400.16_2.813</th><th scope=col>9918_252.123_2.833</th><th scope=col>9957_402.139_3.01</th><th scope=col>9972_323.123_2.716</th><th scope=col>9995_276.159_2.805</th></tr>\n",
       "</thead>\n",
       "<tbody>\n",
       "\t<tr><th scope=row>SD_01-2018_1_a.mzXML</th><td>-1.1304738</td><td>-0.2996871</td><td>-0.1117275</td><td>2.2186171</td><td>-1.452146</td><td>-0.17593037</td><td>-0.3434611</td><td>-0.1778404</td><td>-0.1933466</td><td>-0.98676658</td><td>⋯</td><td> 0.50953425</td><td> 0.3411530</td><td>-0.9690079</td><td>-0.2136334</td><td>-1.0317304</td><td>-0.3097998</td><td>-0.177995</td><td> 1.1679223</td><td>-0.9536029</td><td>-0.720846274</td></tr>\n",
       "\t<tr><th scope=row>SD_01-2018_1_b.mzXML</th><td>-1.1265155</td><td>-0.6037355</td><td> 1.9885898</td><td>0.2986375</td><td>-1.028317</td><td> 0.38485813</td><td>-0.3749450</td><td>-0.1894778</td><td>-0.1876122</td><td> 0.01064504</td><td>⋯</td><td> 0.09238905</td><td> 0.5326194</td><td> 1.0516269</td><td>-0.3038794</td><td>-0.1930184</td><td>-0.7478181</td><td> 1.252001</td><td> 0.9551530</td><td>-0.9361819</td><td>-0.008639177</td></tr>\n",
       "\t<tr><th scope=row>SD_01-2018_10_a.mzXML</th><td>-0.6995949</td><td>-0.4612301</td><td>-0.3618842</td><td>1.2580121</td><td> 0.747262</td><td>-0.05869551</td><td>-0.4289946</td><td>-0.2615139</td><td>-0.2501572</td><td>-0.56453788</td><td>⋯</td><td>-0.24639335</td><td>-0.2865859</td><td> 4.3836879</td><td>-0.6676765</td><td>-0.4632050</td><td> 4.5197644</td><td> 2.438135</td><td>-0.7384554</td><td> 1.9221174</td><td> 0.486389335</td></tr>\n",
       "</tbody>\n",
       "</table>\n"
      ],
      "text/latex": [
       "A matrix: 3 × 9092 of type dbl\n",
       "\\begin{tabular}{r|lllllllllllllllllllll}\n",
       "  & 10015\\_282.169\\_2.763 & 10035\\_325.139\\_2.817 & 10037\\_216.123\\_2.847 & 10047\\_338.159\\_2.845 & 10058\\_280.117\\_2.961 & 10059\\_414.175\\_2.851 & 10072\\_305.157\\_2.851 & 10074\\_283.175\\_2.851 & 10078\\_300.201\\_2.851 & 10082\\_309.144\\_2.886 & ⋯ & 9833\\_268.175\\_2.821 & 9860\\_240.144\\_2.824 & 9876\\_414.139\\_2.761 & 9884\\_190.05\\_2.832 & 9897\\_333.144\\_2.881 & 9909\\_400.16\\_2.813 & 9918\\_252.123\\_2.833 & 9957\\_402.139\\_3.01 & 9972\\_323.123\\_2.716 & 9995\\_276.159\\_2.805\\\\\n",
       "\\hline\n",
       "\tSD\\_01-2018\\_1\\_a.mzXML & -1.1304738 & -0.2996871 & -0.1117275 & 2.2186171 & -1.452146 & -0.17593037 & -0.3434611 & -0.1778404 & -0.1933466 & -0.98676658 & ⋯ &  0.50953425 &  0.3411530 & -0.9690079 & -0.2136334 & -1.0317304 & -0.3097998 & -0.177995 &  1.1679223 & -0.9536029 & -0.720846274\\\\\n",
       "\tSD\\_01-2018\\_1\\_b.mzXML & -1.1265155 & -0.6037355 &  1.9885898 & 0.2986375 & -1.028317 &  0.38485813 & -0.3749450 & -0.1894778 & -0.1876122 &  0.01064504 & ⋯ &  0.09238905 &  0.5326194 &  1.0516269 & -0.3038794 & -0.1930184 & -0.7478181 &  1.252001 &  0.9551530 & -0.9361819 & -0.008639177\\\\\n",
       "\tSD\\_01-2018\\_10\\_a.mzXML & -0.6995949 & -0.4612301 & -0.3618842 & 1.2580121 &  0.747262 & -0.05869551 & -0.4289946 & -0.2615139 & -0.2501572 & -0.56453788 & ⋯ & -0.24639335 & -0.2865859 &  4.3836879 & -0.6676765 & -0.4632050 &  4.5197644 &  2.438135 & -0.7384554 &  1.9221174 &  0.486389335\\\\\n",
       "\\end{tabular}\n"
      ],
      "text/markdown": [
       "\n",
       "A matrix: 3 × 9092 of type dbl\n",
       "\n",
       "| <!--/--> | 10015_282.169_2.763 | 10035_325.139_2.817 | 10037_216.123_2.847 | 10047_338.159_2.845 | 10058_280.117_2.961 | 10059_414.175_2.851 | 10072_305.157_2.851 | 10074_283.175_2.851 | 10078_300.201_2.851 | 10082_309.144_2.886 | ⋯ | 9833_268.175_2.821 | 9860_240.144_2.824 | 9876_414.139_2.761 | 9884_190.05_2.832 | 9897_333.144_2.881 | 9909_400.16_2.813 | 9918_252.123_2.833 | 9957_402.139_3.01 | 9972_323.123_2.716 | 9995_276.159_2.805 |\n",
       "|---|---|---|---|---|---|---|---|---|---|---|---|---|---|---|---|---|---|---|---|---|---|\n",
       "| SD_01-2018_1_a.mzXML | -1.1304738 | -0.2996871 | -0.1117275 | 2.2186171 | -1.452146 | -0.17593037 | -0.3434611 | -0.1778404 | -0.1933466 | -0.98676658 | ⋯ |  0.50953425 |  0.3411530 | -0.9690079 | -0.2136334 | -1.0317304 | -0.3097998 | -0.177995 |  1.1679223 | -0.9536029 | -0.720846274 |\n",
       "| SD_01-2018_1_b.mzXML | -1.1265155 | -0.6037355 |  1.9885898 | 0.2986375 | -1.028317 |  0.38485813 | -0.3749450 | -0.1894778 | -0.1876122 |  0.01064504 | ⋯ |  0.09238905 |  0.5326194 |  1.0516269 | -0.3038794 | -0.1930184 | -0.7478181 |  1.252001 |  0.9551530 | -0.9361819 | -0.008639177 |\n",
       "| SD_01-2018_10_a.mzXML | -0.6995949 | -0.4612301 | -0.3618842 | 1.2580121 |  0.747262 | -0.05869551 | -0.4289946 | -0.2615139 | -0.2501572 | -0.56453788 | ⋯ | -0.24639335 | -0.2865859 |  4.3836879 | -0.6676765 | -0.4632050 |  4.5197644 |  2.438135 | -0.7384554 |  1.9221174 |  0.486389335 |\n",
       "\n"
      ],
      "text/plain": [
       "                      10015_282.169_2.763 10035_325.139_2.817\n",
       "SD_01-2018_1_a.mzXML  -1.1304738          -0.2996871         \n",
       "SD_01-2018_1_b.mzXML  -1.1265155          -0.6037355         \n",
       "SD_01-2018_10_a.mzXML -0.6995949          -0.4612301         \n",
       "                      10037_216.123_2.847 10047_338.159_2.845\n",
       "SD_01-2018_1_a.mzXML  -0.1117275          2.2186171          \n",
       "SD_01-2018_1_b.mzXML   1.9885898          0.2986375          \n",
       "SD_01-2018_10_a.mzXML -0.3618842          1.2580121          \n",
       "                      10058_280.117_2.961 10059_414.175_2.851\n",
       "SD_01-2018_1_a.mzXML  -1.452146           -0.17593037        \n",
       "SD_01-2018_1_b.mzXML  -1.028317            0.38485813        \n",
       "SD_01-2018_10_a.mzXML  0.747262           -0.05869551        \n",
       "                      10072_305.157_2.851 10074_283.175_2.851\n",
       "SD_01-2018_1_a.mzXML  -0.3434611          -0.1778404         \n",
       "SD_01-2018_1_b.mzXML  -0.3749450          -0.1894778         \n",
       "SD_01-2018_10_a.mzXML -0.4289946          -0.2615139         \n",
       "                      10078_300.201_2.851 10082_309.144_2.886 ⋯\n",
       "SD_01-2018_1_a.mzXML  -0.1933466          -0.98676658         ⋯\n",
       "SD_01-2018_1_b.mzXML  -0.1876122           0.01064504         ⋯\n",
       "SD_01-2018_10_a.mzXML -0.2501572          -0.56453788         ⋯\n",
       "                      9833_268.175_2.821 9860_240.144_2.824 9876_414.139_2.761\n",
       "SD_01-2018_1_a.mzXML   0.50953425         0.3411530         -0.9690079        \n",
       "SD_01-2018_1_b.mzXML   0.09238905         0.5326194          1.0516269        \n",
       "SD_01-2018_10_a.mzXML -0.24639335        -0.2865859          4.3836879        \n",
       "                      9884_190.05_2.832 9897_333.144_2.881 9909_400.16_2.813\n",
       "SD_01-2018_1_a.mzXML  -0.2136334        -1.0317304         -0.3097998       \n",
       "SD_01-2018_1_b.mzXML  -0.3038794        -0.1930184         -0.7478181       \n",
       "SD_01-2018_10_a.mzXML -0.6676765        -0.4632050          4.5197644       \n",
       "                      9918_252.123_2.833 9957_402.139_3.01 9972_323.123_2.716\n",
       "SD_01-2018_1_a.mzXML  -0.177995           1.1679223        -0.9536029        \n",
       "SD_01-2018_1_b.mzXML   1.252001           0.9551530        -0.9361819        \n",
       "SD_01-2018_10_a.mzXML  2.438135          -0.7384554         1.9221174        \n",
       "                      9995_276.159_2.805\n",
       "SD_01-2018_1_a.mzXML  -0.720846274      \n",
       "SD_01-2018_1_b.mzXML  -0.008639177      \n",
       "SD_01-2018_10_a.mzXML  0.486389335      "
      ]
     },
     "metadata": {},
     "output_type": "display_data"
    }
   ],
   "source": [
    "# center and scale data\n",
    "Imp_s <- scale(Imp_t, center = T, scale = T)\n",
    "head(Imp_s, n=3)"
   ]
  },
  {
   "cell_type": "code",
   "execution_count": 89,
   "id": "5de82a5c",
   "metadata": {},
   "outputs": [],
   "source": [
    "write.csv(Imp_s,'141222_scaled_table.csv',row.names =T)"
   ]
  },
  {
   "cell_type": "markdown",
   "id": "DRHowqAkApBe",
   "metadata": {
    "id": "DRHowqAkApBe"
   },
   "source": [
    "# Univariate Analysis:"
   ]
  },
  {
   "cell_type": "markdown",
   "id": "tnSOkAjHArKs",
   "metadata": {
    "id": "tnSOkAjHArKs"
   },
   "source": [
    "Too many missing values is problematic for statistical analyses. Here we calculate the proportion of missing values and display the proportions in a histogram"
   ]
  },
  {
   "cell_type": "code",
   "execution_count": null,
   "id": "QmE6gAhYAqdJ",
   "metadata": {
    "colab": {
     "base_uri": "https://localhost:8080/",
     "height": 497
    },
    "executionInfo": {
     "elapsed": 240,
     "status": "ok",
     "timestamp": 1666552767406,
     "user": {
      "displayName": "Abzer Kelminal.P M",
      "userId": "16537922509430952288"
     },
     "user_tz": -120
    },
    "id": "QmE6gAhYAqdJ",
    "outputId": "9a26c62d-5dbd-4b46-c849-c9ed65dd9be0"
   },
   "outputs": [],
   "source": [
    "#calculating the proportion of missing values (Imputed values):\n",
    "n_zeroes <- sapply(1:ncol(Imp_t),function(n){sum(Imp_t[,n]==0)/10}) #getting proption of zero for each feature\n",
    "hist(n_zeroes)"
   ]
  },
  {
   "cell_type": "code",
   "execution_count": null,
   "id": "pz8-SDeQBh27",
   "metadata": {
    "colab": {
     "base_uri": "https://localhost:8080/",
     "height": 34
    },
    "executionInfo": {
     "elapsed": 305,
     "status": "ok",
     "timestamp": 1666552786077,
     "user": {
      "displayName": "Abzer Kelminal.P M",
      "userId": "16537922509430952288"
     },
     "user_tz": -120
    },
    "id": "pz8-SDeQBh27",
    "outputId": "4ea7d591-6b4a-4993-83e7-1b92541fae3b"
   },
   "outputs": [],
   "source": [
    "sum(Imp_t==299)/(nrow(Imp_t)*ncol(Imp_t)) #sparsity calculation"
   ]
  },
  {
   "cell_type": "markdown",
   "id": "wqLUipTLS4G1",
   "metadata": {
    "id": "wqLUipTLS4G1"
   },
   "source": [
    "Deselect metabolites with more than 50 % missing values. This helps to get rid of features that are present in too few samples to conduct proper statistical tests"
   ]
  },
  {
   "cell_type": "code",
   "execution_count": null,
   "id": "0T05ZKX2CBy7",
   "metadata": {
    "colab": {
     "base_uri": "https://localhost:8080/",
     "height": 34
    },
    "executionInfo": {
     "elapsed": 228,
     "status": "ok",
     "timestamp": 1666559152286,
     "user": {
      "displayName": "Abzer Kelminal.P M",
      "userId": "16537922509430952288"
     },
     "user_tz": -120
    },
    "id": "0T05ZKX2CBy7",
    "outputId": "b25bd849-6bfd-4edc-b1be-89d523fcab79"
   },
   "outputs": [],
   "source": [
    "#Calculate the the no.of metabolites having measurements (non-Imputed) in at least 50 % of the samples:\n",
    "dim(Imp_t[,n_zeroes<0.5])\n",
    " \n",
    "new_imp <- Imp_t[,n_zeroes<0.5] #Select metabolites with less than 50 % missing values.\n",
    "Data <- cbind.data.frame(md_Samples,new_imp) #Combining metadata and the feature table"
   ]
  },
  {
   "cell_type": "code",
   "execution_count": null,
   "id": "NJeeaqSSqHA-",
   "metadata": {
    "colab": {
     "base_uri": "https://localhost:8080/",
     "height": 428
    },
    "executionInfo": {
     "elapsed": 458,
     "status": "ok",
     "timestamp": 1666559157382,
     "user": {
      "displayName": "Abzer Kelminal.P M",
      "userId": "16537922509430952288"
     },
     "user_tz": -120
    },
    "id": "NJeeaqSSqHA-",
    "outputId": "e63fc940-8a00-4f74-fc49-8ec09c268705"
   },
   "outputs": [],
   "source": [
    "head(Data)"
   ]
  },
  {
   "cell_type": "markdown",
   "id": "LKPTigNdTGyN",
   "metadata": {
    "id": "LKPTigNdTGyN"
   },
   "source": [
    "**Run ANOVA** <br>\n",
    "\n",
    "We now use the function aov to run the ANOVA. Since one ANOVA is being run for each metabolite feature, we run the analyses in a loop and save the output for each feature in a list called anova_out.<br>\n",
    "\n",
    "The vector a indicates which columns in the dataset are features (i.e. from column 5 to the last column of the data frame). <br>\n",
    "\n",
    "We can run a for loop to pass each feature column into the first argument of the aov function, while the second argument, time point, is constant."
   ]
  },
  {
   "cell_type": "code",
   "execution_count": null,
   "id": "sUgcAj5nDKfJ",
   "metadata": {
    "colab": {
     "base_uri": "https://localhost:8080/",
     "height": 72
    },
    "executionInfo": {
     "elapsed": 5770,
     "status": "ok",
     "timestamp": 1666559170283,
     "user": {
      "displayName": "Abzer Kelminal.P M",
      "userId": "16537922509430952288"
     },
     "user_tz": -120
    },
    "id": "sUgcAj5nDKfJ",
    "outputId": "3d51e291-806e-460a-9b1c-dcfeedff0081"
   },
   "outputs": [],
   "source": [
    "anova_out=NULL\n",
    "a <- 4:ncol(Data)\n",
    "for (i in 1:length(a)){\n",
    "  anova_out[[i]] <- aov(scale(Data[,a[i]])~as.factor(Data$'ATTRIBUTE_Time-Point'))\n",
    "}\n",
    "\n",
    "summary(anova_out[[1]]) #show the first entry in the list"
   ]
  },
  {
   "cell_type": "markdown",
   "id": "OKKiBVxxTndL",
   "metadata": {
    "id": "OKKiBVxxTndL"
   },
   "source": [
    "Extract p- and F-values from anova output list: <br>\n",
    "Lists of ANOVA results are not convenient when summarizing our findings. We extract the desired data from the list and summarize this in a dataframe called output_anova. <br>\n",
    "\n",
    "The following is of interest:\n",
    "*   Feature ID\n",
    "*   p-value for ANOVA\n",
    "*   p-value after taking multiple tests into consideration\n",
    "*   F-value"
   ]
  },
  {
   "cell_type": "code",
   "execution_count": null,
   "id": "jVkWtnI2Dv0l",
   "metadata": {
    "executionInfo": {
     "elapsed": 2521,
     "status": "ok",
     "timestamp": 1666559180421,
     "user": {
      "displayName": "Abzer Kelminal.P M",
      "userId": "16537922509430952288"
     },
     "user_tz": -120
    },
    "id": "jVkWtnI2Dv0l"
   },
   "outputs": [],
   "source": [
    "#extract p- and F-values from ANOVA output list\n",
    "output_anova <- data.frame(colnames(Data[4:ncol(Data)]))\n",
    "colnames(output_anova)[1] <- \"Metabolites\"\n",
    "output_anova[\"p\"] <- sapply(1:length(a),function(n){summary(anova_out[[n]])[[1]][1,5]})\n",
    "output_anova[\"p_bonferroni\"] <- p.adjust(output_anova$p,method=\"bonferroni\")\n",
    "output_anova[\"significant\"] <- ifelse(output_anova$p_bonferroni<0.05,\"Significant\",\"Nonsignificant\")\n",
    "output_anova[\"F\"] <- sapply(1:length(a),function(n){summary(anova_out[[n]])[[1]][1,4]})"
   ]
  },
  {
   "cell_type": "markdown",
   "id": "plfex2lVVfEC",
   "metadata": {
    "id": "plfex2lVVfEC"
   },
   "source": [
    "Now we have created a dataframe with desired results from the ANOVA. We can sort the results after the p value, using arrange, and select the top N rows using slice_head. These can be run as a sequence of operations using pipes (%>%). Are there any significant findings?"
   ]
  },
  {
   "cell_type": "code",
   "execution_count": null,
   "id": "Ul7R8232VjbR",
   "metadata": {
    "colab": {
     "base_uri": "https://localhost:8080/",
     "height": 725
    },
    "executionInfo": {
     "elapsed": 232,
     "status": "ok",
     "timestamp": 1666559185773,
     "user": {
      "displayName": "Abzer Kelminal.P M",
      "userId": "16537922509430952288"
     },
     "user_tz": -120
    },
    "id": "Ul7R8232VjbR",
    "outputId": "8d6388d4-1f64-45ba-a10a-997ddbbc9ff5"
   },
   "outputs": [],
   "source": [
    "#Arrange the output anova list by top 20 p-values\n",
    "output_anova %>% arrange (p) %>% slice_head(n=20)"
   ]
  },
  {
   "cell_type": "markdown",
   "id": "P9OMCkdmVrNY",
   "metadata": {
    "id": "P9OMCkdmVrNY"
   },
   "source": [
    "**Plot ANOVA results**\n",
    "\n",
    "We will use ggplot to visualize results from the ANOVA, with log(F-values) on the x-axis and -log(p) on the y-axis. Features are colored after statistical significance after multiple test correction. Since there are large differences in the F- and P-values, it is easier to plot their log.\n",
    "\n",
    "We can also display the names of some of the top features in the plot. This easily gets very cluttered if we decide to display too many names, so starting at the top 5 could be a good idea. We can select these similarly to the cell above (pipes with arrange and slice_head). Using geom_text_repel, you can make sure the labels are not overlapping)"
   ]
  },
  {
   "cell_type": "code",
   "execution_count": null,
   "id": "gQuJwlX-ElK9",
   "metadata": {
    "colab": {
     "base_uri": "https://localhost:8080/",
     "height": 497
    },
    "executionInfo": {
     "elapsed": 935,
     "status": "ok",
     "timestamp": 1666555811435,
     "user": {
      "displayName": "Abzer Kelminal.P M",
      "userId": "16537922509430952288"
     },
     "user_tz": -120
    },
    "id": "gQuJwlX-ElK9",
    "outputId": "dcc4169a-dc90-456e-cf29-d3a447479030"
   },
   "outputs": [],
   "source": [
    "#plot ANOVA results\n",
    "plot_anova <- ggplot(output_anova,aes(x=log(F,base=10),y=-log(p,base=10),color=significant))+ \n",
    "geom_point()+ theme_classic()+ scale_color_jama()+ ylab(\"-log(p)\")+ xlab(\"log(F)\")+\n",
    "geom_text_repel(data=output_anova %>% arrange(p) %>% slice_head(n=5),\n",
    "                  aes(label=Metabolites),size=3,show.legend = FALSE,max.overlaps = 100)+\n",
    "theme(legend.title = element_blank())\n",
    "\n",
    "plot_anova"
   ]
  },
  {
   "cell_type": "markdown",
   "id": "HJNcLDT3WC2d",
   "metadata": {
    "id": "HJNcLDT3WC2d"
   },
   "source": [
    "If you want, you can also export the plots to a pdf"
   ]
  },
  {
   "cell_type": "code",
   "execution_count": null,
   "id": "zTi_jP4EV-xf",
   "metadata": {
    "id": "zTi_jP4EV-xf"
   },
   "outputs": [],
   "source": [
    "pdf(\"plot_ANOVA.pdf\")\n",
    "plot_anova\n",
    "dev.off()"
   ]
  },
  {
   "cell_type": "code",
   "execution_count": null,
   "id": "sG1-Oy1Ady82",
   "metadata": {
    "id": "sG1-Oy1Ady82"
   },
   "outputs": [],
   "source": [
    "write.csv(output_anova,\"ANOVA_results.csv\")"
   ]
  },
  {
   "cell_type": "markdown",
   "id": "ys5sMm7HWE8k",
   "metadata": {
    "id": "ys5sMm7HWE8k"
   },
   "source": [
    "**Calculate change from baseline and plot dilution series:**\n",
    "\n",
    "Since ANOVA only investigates the difference in variance between and within groups, additional tests are needed to test for differences between individual time points. By selecting features that were significant in the ANOVA, we can plot the temporal trends and select individual time points that we are interested in comparing.\n",
    "\n",
    "To simplify, we calculate the median value for each significant feature at each time point. By using group_by we group the rows by timepoint and summarize_all will calculate the median for each feature and timepoint\n",
    "\n",
    "At this time we are interested in the features that actually change significantly with time. For this purpose we select features with \"Significant\" in the significant column in anova_out. This can be done using %in% and subset.\n",
    "\n",
    "We also can divide the table according to the direction of the time trend for the features."
   ]
  },
  {
   "cell_type": "code",
   "execution_count": null,
   "id": "pc0VaEmlK90g",
   "metadata": {
    "executionInfo": {
     "elapsed": 2832,
     "status": "ok",
     "timestamp": 1666559224540,
     "user": {
      "displayName": "Abzer Kelminal.P M",
      "userId": "16537922509430952288"
     },
     "user_tz": -120
    },
    "id": "pc0VaEmlK90g"
   },
   "outputs": [],
   "source": [
    "# Calculate medians for each year\n",
    "timecourse_data <- Data[,4:ncol(Data)] %>% group_by(Data$'ATTRIBUTE_Time-Point') %>% summarize_all(.funs = median) \n",
    "# select only metabolites that were significant according to ANOVA\n",
    "timecourse_data <- timecourse_data[,names(timecourse_data) %in% subset(output_anova,significant==\"Significant\")$Metabolites]"
   ]
  },
  {
   "cell_type": "code",
   "execution_count": null,
   "id": "KliRsOFPK90h",
   "metadata": {
    "executionInfo": {
     "elapsed": 461,
     "status": "ok",
     "timestamp": 1666559244961,
     "user": {
      "displayName": "Abzer Kelminal.P M",
      "userId": "16537922509430952288"
     },
     "user_tz": -120
    },
    "id": "KliRsOFPK90h"
   },
   "outputs": [],
   "source": [
    "# Classify metabolites as increasing or decreasing with time\n",
    "direction_pos <- sapply(1:ncol(timecourse_data),function(n){ifelse(timecourse_data[1,n]-timecourse_data[4,n]<0,T,F)})\n",
    "timecourse_pos <- scale(timecourse_data[direction_pos])\n",
    "timecourse_neg <- scale(timecourse_data[!direction_pos])"
   ]
  },
  {
   "cell_type": "markdown",
   "id": "2CcTmDQieQPw",
   "metadata": {
    "id": "2CcTmDQieQPw"
   },
   "source": [
    "Calculate the average for each feature and time point, in order to be able to plot the trends. Error bars can be visualized by calculating the standard deviation at each time point. By subtracting time=0 from each average, we get the change in feature level."
   ]
  },
  {
   "cell_type": "code",
   "execution_count": null,
   "id": "dnYgrTijysyC",
   "metadata": {
    "executionInfo": {
     "elapsed": 214,
     "status": "ok",
     "timestamp": 1666559247717,
     "user": {
      "displayName": "Abzer Kelminal.P M",
      "userId": "16537922509430952288"
     },
     "user_tz": -120
    },
    "id": "dnYgrTijysyC"
   },
   "outputs": [],
   "source": [
    "#Calculate the average for each feature and time point to plot the trends\n",
    "timecourse_pos_summary <- cbind.data.frame(rep(c(0,5,15,45)),\n",
    "                                          rowMeans(timecourse_pos)-rowMeans(timecourse_pos)[1],\n",
    "                                          rowMeans(timecourse_pos)-rowMeans(timecourse_pos)[1]+rowSds(as.matrix(timecourse_pos)),\n",
    "                                          rowMeans(timecourse_pos)-rowMeans(timecourse_pos)[1]-rowSds(as.matrix(timecourse_pos)),\n",
    "                                          rep(\"pos\",nrow(timecourse_pos)))\n",
    "colnames(timecourse_pos_summary) <- c(\"time\",\"median\",\"high\",\"low\",\"direction\")\n",
    "\n",
    "timecourse_neg_summary <- cbind.data.frame(rep(c(0,5,15,45)),\n",
    "                                          rowMeans(timecourse_neg)-rowMeans(timecourse_neg)[1],\n",
    "                                          rowMeans(timecourse_neg)-rowMeans(timecourse_neg)[1]+rowSds(as.matrix(timecourse_neg)),\n",
    "                                          rowMeans(timecourse_neg)-rowMeans(timecourse_neg)[1]-rowSds(as.matrix(timecourse_neg)),\n",
    "                                          rep(\"neg\",nrow(timecourse_neg)))\n",
    "colnames(timecourse_neg_summary) <- c(\"time\",\"median\",\"high\",\"low\",\"direction\")\n",
    "\n",
    "# Combine increasing and decreasing features to dataframe for plotting\n",
    "timecourse_summary <- rbind(timecourse_pos_summary,timecourse_neg_summary)"
   ]
  },
  {
   "cell_type": "markdown",
   "id": "4isEFoSmeat8",
   "metadata": {
    "id": "4isEFoSmeat8"
   },
   "source": [
    "Plot temporal trends in ggplot:"
   ]
  },
  {
   "cell_type": "code",
   "execution_count": null,
   "id": "zufJRHi31vs6",
   "metadata": {
    "colab": {
     "base_uri": "https://localhost:8080/",
     "height": 497
    },
    "executionInfo": {
     "elapsed": 617,
     "status": "ok",
     "timestamp": 1666559255506,
     "user": {
      "displayName": "Abzer Kelminal.P M",
      "userId": "16537922509430952288"
     },
     "user_tz": -120
    },
    "id": "zufJRHi31vs6",
    "outputId": "76a00a3f-3d0f-4c9a-dea8-b71bfa3998ec"
   },
   "outputs": [],
   "source": [
    "timecourse_plot <- ggplot(timecourse_summary,aes(x=time,y=median,max=high,min=low,color=direction,fill=direction))+\n",
    "  geom_line()+ geom_pointrange(position=position_dodge(0.1))+ theme_minimal()+\n",
    "  theme(legend.title = element_blank())+ geom_hline(aes(yintercept=0))+\n",
    "  scale_color_jama()+scale_fill_jama()+ scale_x_continuous(breaks=c(0,5,15,45))+\n",
    "  xlab(\"time\")+ theme(legend.text=element_text(size=12))\n",
    "\n",
    "timecourse_plot"
   ]
  },
  {
   "cell_type": "markdown",
   "id": "y6E_i2aqeevQ",
   "metadata": {
    "id": "y6E_i2aqeevQ"
   },
   "source": [
    "**Tukey's post hoc test:**\n",
    "\n",
    "Features with both positive and negative time trends exist, but differences appear to the largest between timepoint 0 and 45. Tukey's post hoc test can be used to calculate which features show statistically significant differences between these two timepoints.\n",
    "\n",
    "The function TukeyHSD is used, which calculate these differences from the ANOVA output list previously generated. Results are stored in a new list called tukey_out"
   ]
  },
  {
   "cell_type": "code",
   "execution_count": null,
   "id": "qdFyHQTwS1I1",
   "metadata": {
    "colab": {
     "base_uri": "https://localhost:8080/",
     "height": 255
    },
    "executionInfo": {
     "elapsed": 49356,
     "status": "ok",
     "timestamp": 1666556090471,
     "user": {
      "displayName": "Abzer Kelminal.P M",
      "userId": "16537922509430952288"
     },
     "user_tz": -120
    },
    "id": "qdFyHQTwS1I1",
    "outputId": "4c9bc838-cc0c-443b-9b50-d00d376e628a"
   },
   "outputs": [],
   "source": [
    "#Tukey_output:\n",
    "tukey_out=NULL\n",
    "for (i in 1:length(a)){\n",
    "tukey_out[[i]] <- TukeyHSD(anova_out[[i]])\n",
    "}\n",
    "\n",
    "tukey_out[[1]]$`as.factor(Data$\"ATTRIBUTE_Time-Point\")` #shows the first entry of the list to show that all group wise differences are calculated."
   ]
  },
  {
   "cell_type": "markdown",
   "id": "7MAZmD0Ve2LJ",
   "metadata": {
    "id": "7MAZmD0Ve2LJ"
   },
   "source": [
    "We extract the information we are interested in from tukey_out.(For ex: The differences between timepoint 0 and 45)\n",
    "\n",
    "- diff - Difference in average levels between timepoint 0 and 45.\n",
    "- p - p-value for group-wise difference after taking multiple group-wise comparisons into account.\n",
    "- p_bonferroni - adjusted p-value after taking multiple tests (N number of features) into account\n",
    "- significant - Whether the corrected p-value is below 0.05"
   ]
  },
  {
   "cell_type": "code",
   "execution_count": null,
   "id": "NIep3u1DS6qV",
   "metadata": {
    "executionInfo": {
     "elapsed": 221,
     "status": "ok",
     "timestamp": 1666559269249,
     "user": {
      "displayName": "Abzer Kelminal.P M",
      "userId": "16537922509430952288"
     },
     "user_tz": -120
    },
    "id": "NIep3u1DS6qV"
   },
   "outputs": [],
   "source": [
    "#Extracting info for the tukey plot:\n",
    "output_tukey <- data.frame(colnames(Data[4:ncol(Data)]))\n",
    "colnames(output_tukey)[1] <- \"Metabolites\"\n",
    "output_tukey$ID <- as.numeric(as.character(lapply(strsplit(colnames(new_imp), \"_\"), function(l) l[[1]])))\n",
    "output_tukey[\"diff\"] <- sapply(1:length(a),function(n){tukey_out[[n]]$`as.factor(Data$\"ATTRIBUTE_Time-Point\")`[3,1]})\n",
    "output_tukey[\"p\"] <- sapply(1:length(a),function(n){tukey_out[[n]]$`as.factor(Data$\"ATTRIBUTE_Time-Point\")`[3,4]})\n",
    "output_tukey[\"p_bonferroni\"] <- p.adjust(output_tukey$p,method=\"bonferroni\")\n",
    "output_tukey[\"significant\"] <- ifelse(output_tukey$p_bonferroni<0.05,\"Significant\",\"Nonsignificant\")\n",
    "colnames(output_tukey) <- paste0(\"stats_\",colnames(output_tukey))"
   ]
  },
  {
   "cell_type": "code",
   "execution_count": null,
   "id": "qSJp2Q7Nf1N3",
   "metadata": {
    "id": "qSJp2Q7Nf1N3"
   },
   "outputs": [],
   "source": [
    "write.csv(output_tukey,\"TukeyHSD_output.csv\")"
   ]
  },
  {
   "cell_type": "markdown",
   "id": "b_8fU1VxfcT6",
   "metadata": {
    "id": "b_8fU1VxfcT6"
   },
   "source": [
    "Display the top results. Any significant hits? Other impressions?"
   ]
  },
  {
   "cell_type": "code",
   "execution_count": null,
   "id": "e2OGKEKpfaxE",
   "metadata": {
    "colab": {
     "base_uri": "https://localhost:8080/",
     "height": 725
    },
    "executionInfo": {
     "elapsed": 240,
     "status": "ok",
     "timestamp": 1666559275581,
     "user": {
      "displayName": "Abzer Kelminal.P M",
      "userId": "16537922509430952288"
     },
     "user_tz": -120
    },
    "id": "e2OGKEKpfaxE",
    "outputId": "b437afae-bb31-4155-c782-af8fc316ffac"
   },
   "outputs": [],
   "source": [
    "output_tukey %>% arrange(stats_p) %>% slice_head(n=20)"
   ]
  },
  {
   "cell_type": "markdown",
   "id": "CFYymstHflaO",
   "metadata": {
    "id": "CFYymstHflaO"
   },
   "source": [
    "Create a volcano plot that displays -log(p) on the y-axis and group-difference on the x-axis. Again, display names of top findings in the plot"
   ]
  },
  {
   "cell_type": "code",
   "execution_count": null,
   "id": "i6uWEoGWS_bH",
   "metadata": {
    "colab": {
     "base_uri": "https://localhost:8080/",
     "height": 497
    },
    "executionInfo": {
     "elapsed": 1275,
     "status": "ok",
     "timestamp": 1666556238214,
     "user": {
      "displayName": "Abzer Kelminal.P M",
      "userId": "16537922509430952288"
     },
     "user_tz": -120
    },
    "id": "i6uWEoGWS_bH",
    "outputId": "d0a1228f-66e8-4b0f-e758-0196ed39f77d"
   },
   "outputs": [],
   "source": [
    "plot_tukey <- ggplot(output_tukey,aes(x=stats_diff,y=-log(stats_p,base=10),color=stats_significant))+ \n",
    "              geom_point()+ theme_minimal()+ scale_color_jama()+ ylab(\"-log(p)\") +\n",
    "              geom_text_repel(data=output_tukey %>% arrange(stats_p) %>% slice_head(n=5),\n",
    "                aes(label=stats_Metabolites),size=3,show.legend = FALSE,max.overlaps = 100) +\n",
    "              theme(legend.title = element_blank())\n",
    "\n",
    "plot_tukey"
   ]
  },
  {
   "cell_type": "code",
   "execution_count": null,
   "id": "IHghj-S6ft8U",
   "metadata": {
    "id": "IHghj-S6ft8U"
   },
   "outputs": [],
   "source": [
    "pdf(\"TukeyHSD_group0vsgroup45.pdf\")\n",
    "plot_tukey\n",
    "dev.off()"
   ]
  },
  {
   "cell_type": "markdown",
   "id": "NghlJ7Tif7ml",
   "metadata": {
    "id": "NghlJ7Tif7ml"
   },
   "source": [
    "As a sanity check we can check a few of the top metabolites by plotting them in a boxplot. Just change the input argument for y to match a name in the result list above."
   ]
  },
  {
   "cell_type": "code",
   "execution_count": null,
   "id": "PtUUyGejf5Te",
   "metadata": {
    "colab": {
     "base_uri": "https://localhost:8080/",
     "height": 716
    },
    "executionInfo": {
     "elapsed": 923,
     "status": "ok",
     "timestamp": 1666556492867,
     "user": {
      "displayName": "Abzer Kelminal.P M",
      "userId": "16537922509430952288"
     },
     "user_tz": -120
    },
    "id": "PtUUyGejf5Te",
    "outputId": "eb2d2896-c69e-4759-ac76-b6d82e7f3744"
   },
   "outputs": [],
   "source": [
    "ggplot(Data,aes(x=as.factor(Data$'ATTRIBUTE_Time-Point'),y=Data$'9299_191.143_6.686',fill=as.factor(Data$'ATTRIBUTE_Time-Point')))+\n",
    "geom_boxplot()+\n",
    "geom_jitter(width=0.25, alpha=0.5)+\n",
    "theme_minimal()+\n",
    "scale_fill_jama()+\n",
    "theme(legend.title = element_blank())+\n",
    "xlab(\"Time points\")+\n",
    "ylab(\"11281_260.186_7.04\")"
   ]
  },
  {
   "cell_type": "markdown",
   "id": "DlmsH5pz7Ez0",
   "metadata": {
    "id": "DlmsH5pz7Ez0"
   },
   "source": [
    "# PCoA PermANOVA:"
   ]
  },
  {
   "cell_type": "markdown",
   "id": "fDIj3G4ugpxA",
   "metadata": {
    "id": "fDIj3G4ugpxA"
   },
   "source": [
    "Principal coordinates analysis (PCoA)\n",
    "\n",
    "Principal coordinates analysis (PCoA) is a metric multidimensional scaling (MDS) method that attempts to represent sample dissimilarities in a low-dimensional space. It converts a distance matrix consisting of pair-wise distances (dissimilarities) across samples into a 2- or 3-D graph (Gower, 2005). Different distance metrics can be used to calculate dissimilarities among samples (e.g. Euclidean, Canberra, Minkowski). Performing a principal coordinates analysis using the Euclidean distance metric is the same as performing a principal components analysis (PCA). The selection of the most appropriate metric depends on the nature of your data and assumptions made by the metric.\n",
    "\n",
    "Within the metabolomics field the Euclidean, Bray-Curtis, Jaccard or Canberra distances are most commonly used. The Jaccard distance is an unweighted metric (presence/absence) whereas Euclidean, Bray-Curtis and Canberra distances take into account relative abundances (weighted). Some metrics may be better suited for very sparse data (with many zeroes) than others. For example, the Euclidean distance metric is not recommended to be used for highly sparse data.\n",
    "\n",
    "This video tutorial by StatQuest summarizes nicely the basic principles of PCoA: https://www.youtube.com/watch?v=GEn-_dAyYME\n",
    "\n",
    "In order to perform a PCoA as described below, it is important that the filenames in our metadata are identical as well as in the same order as the filenames in our feature table. Let's make sure this is true, using the below code (this should return TRUE)."
   ]
  },
  {
   "cell_type": "markdown",
   "id": "WXR0TCkEgv9g",
   "metadata": {
    "id": "WXR0TCkEgv9g"
   },
   "source": [
    "Next, we will calculate pairwise distances across all samples in our centered data using the Euclidean distance metric"
   ]
  },
  {
   "cell_type": "code",
   "execution_count": null,
   "id": "B_8UgKy09ytW",
   "metadata": {
    "executionInfo": {
     "elapsed": 227,
     "status": "ok",
     "timestamp": 1666556615508,
     "user": {
      "displayName": "Abzer Kelminal.P M",
      "userId": "16537922509430952288"
     },
     "user_tz": -120
    },
    "id": "B_8UgKy09ytW"
   },
   "outputs": [],
   "source": [
    "distm <- dist(Imp_s, method = \"euclidean\")# compute distance"
   ]
  },
  {
   "cell_type": "markdown",
   "id": "8lq8K1ceg5La",
   "metadata": {
    "id": "8lq8K1ceg5La"
   },
   "source": [
    "All pairwise Euclidean distances are now stored within our distance (dissimilarity) matrix (distm). The distance matrix is then used as input for the PCoA. At first, we here color samples according to the sample types (ATTRIBUTE_Sample within our metadata)"
   ]
  },
  {
   "cell_type": "code",
   "execution_count": null,
   "id": "YOXOXm_57ETM",
   "metadata": {
    "colab": {
     "base_uri": "https://localhost:8080/",
     "height": 286
    },
    "executionInfo": {
     "elapsed": 291,
     "status": "ok",
     "timestamp": 1666556616659,
     "user": {
      "displayName": "Abzer Kelminal.P M",
      "userId": "16537922509430952288"
     },
     "user_tz": -120
    },
    "id": "YOXOXm_57ETM",
    "outputId": "496840e1-e5ad-4f31-c3c0-f40c7e5dd0f0"
   },
   "outputs": [],
   "source": [
    "PcoA <- cmdscale(distm, k = 2, eig = T, add = T)\n",
    "PcoA_points <- as.data.frame(PcoA$points)\n",
    "variance <- round(PcoA$eig*100/sum(PcoA$eig),1)\n",
    "names(PcoA_points)[1:2] <- c('PCoA1', 'PCoA2')\n",
    "\n",
    "head(PcoA_points)"
   ]
  },
  {
   "cell_type": "code",
   "execution_count": null,
   "id": "cIk88hEL9Zic",
   "metadata": {
    "colab": {
     "base_uri": "https://localhost:8080/",
     "height": 34
    },
    "executionInfo": {
     "elapsed": 238,
     "status": "ok",
     "timestamp": 1666556619482,
     "user": {
      "displayName": "Abzer Kelminal.P M",
      "userId": "16537922509430952288"
     },
     "user_tz": -120
    },
    "id": "cIk88hEL9Zic",
    "outputId": "c1b08701-8ff6-4c45-9ea2-b7cfaa586126"
   },
   "outputs": [],
   "source": [
    "identical(rownames(PcoA_points), rownames(md_Samples))"
   ]
  },
  {
   "cell_type": "markdown",
   "id": "s71CqJMnhCd9",
   "metadata": {
    "id": "s71CqJMnhCd9"
   },
   "source": [
    "Using the ggplot2 library, we can plot our PCoA using the Euclidean distance (=PCA)."
   ]
  },
  {
   "cell_type": "code",
   "execution_count": null,
   "id": "A9Aav4pC9b1l",
   "metadata": {
    "colab": {
     "base_uri": "https://localhost:8080/",
     "height": 497
    },
    "executionInfo": {
     "elapsed": 595,
     "status": "ok",
     "timestamp": 1666556639405,
     "user": {
      "displayName": "Abzer Kelminal.P M",
      "userId": "16537922509430952288"
     },
     "user_tz": -120
    },
    "id": "A9Aav4pC9b1l",
    "outputId": "1c360ba9-d36b-40e5-c5d2-fc4729e37b71"
   },
   "outputs": [],
   "source": [
    "ggplot(PcoA_points, aes(x = PCoA1, y = PCoA2, colour = md_Samples$ATTRIBUTE_Sample, label = row.names(PcoA))) +\n",
    " geom_point(size=2.5) +\n",
    " scale_colour_manual(values = c('orange','darkgreen','red','blue','black')) +\n",
    " xlab(paste('PCoA1',variance[1],'%', sep = ' ')) +\n",
    " ylab(paste('PCoA2',variance[2],'%', sep = ' ')) +\n",
    " theme(legend.title=element_blank())"
   ]
  },
  {
   "cell_type": "markdown",
   "id": "D2nSoPFEhGat",
   "metadata": {
    "id": "D2nSoPFEhGat"
   },
   "source": [
    "It looks like there is a strong separation between the different dilutions of the algae extract (A45, A15, A5, and M). But is the separation significant? Let's perform a permutational multivariate analysis of variance (PERMANOVA) to find out!\n",
    "\n",
    "**Permutational multivariate analysis of variance (PERMANOVA)**\n",
    "\n",
    "Permutational multivariate analysis of variance (PERMANOVA) is a non-parametric method for multivariate analysis of variance, where P-values are obtained using permutations. The metric was originally developed within the field of ecology (Anderson, 2008) but is today widely used in other fields, including the microbiome and metabolomics field. PERMANOVA is used to compare groups of samples and tests whether the centroid and/or the spread of the samples is different between the groups.\n",
    "\n",
    "The adonis2() function in the vegan package can be used to perform a PERMANOVA. The input is any dissimilarity matrix and the test-statistic retrieved is a multivariate analogue to Fisher's F-ratio as well as an R2 value (Adonis R2)."
   ]
  },
  {
   "cell_type": "code",
   "execution_count": null,
   "id": "oCIBLTAo9eac",
   "metadata": {
    "colab": {
     "base_uri": "https://localhost:8080/",
     "height": 192
    },
    "executionInfo": {
     "elapsed": 250,
     "status": "ok",
     "timestamp": 1666556692211,
     "user": {
      "displayName": "Abzer Kelminal.P M",
      "userId": "16537922509430952288"
     },
     "user_tz": -120
    },
    "id": "oCIBLTAo9eac",
    "outputId": "e1b82a2e-6c59-4c39-afbf-4c592101cc03"
   },
   "outputs": [],
   "source": [
    "adonres <- adonis2(distm ~ md_Samples[,colnames(md_Samples) == 'ATTRIBUTE_Sample'])\n",
    "adonres"
   ]
  },
  {
   "cell_type": "markdown",
   "id": "m1OgAym4hXWJ",
   "metadata": {
    "id": "m1OgAym4hXWJ"
   },
   "source": [
    "The PERMANOVA test result tells us that there is a significant difference in the metabolomic profiles of different dilutions of algae extract (PERMANOVA, P < 0.05, Adonis R2 = 0.6437) and that app. 64% of the variation in our data can be explained by algae concentration. That means that algal blooms could possibly be monitored using untargeted metabolomics"
   ]
  },
  {
   "cell_type": "markdown",
   "id": "rwb6za0Rhpvz",
   "metadata": {
    "id": "rwb6za0Rhpvz"
   },
   "source": [
    "Perform PCoA and assess separation using PERMANOVA\n",
    "\n",
    "To speed up the analysis and so we don't have to rewrite the entire code when testing different parameters, we can define a function, which will perform a principal coordinates analysis (PCoA) using a distance metric of choice, calculate a PERMANOVA and plot results in a 2-D graph:"
   ]
  },
  {
   "cell_type": "code",
   "execution_count": null,
   "id": "Vh_KSsThhqvx",
   "metadata": {
    "executionInfo": {
     "elapsed": 295,
     "status": "ok",
     "timestamp": 1666556812759,
     "user": {
      "displayName": "Abzer Kelminal.P M",
      "userId": "16537922509430952288"
     },
     "user_tz": -120
    },
    "id": "Vh_KSsThhqvx"
   },
   "outputs": [],
   "source": [
    "plotPCoA <- function(ft, md, distmetric = c(\"euclidean\", \"maximum\", \"manhattan\", \"canberra\", \"binary\", \n",
    "                                                  \"minkowski\"), collow = \"#810f7c\", colhigh =\"#f7fcb9\", \n",
    "                      catper = \"plate\", catcols = \"plate\", mdtype = 'categorical', \n",
    "                      cols = c('grey','black','orange','pink','darkgreen','darkred','brown','blue','skyblue3','green'),\n",
    "                      title = 'Principal coordinates plot'){\n",
    "    \n",
    "    catper <<- catper\n",
    "    distm <- dist(ft, method = distmetric)\n",
    "    d <- as.matrix(distm)\n",
    "\n",
    "    if (length(which(is.na(md[,colnames(md) == catper]))) !=0){\n",
    "          red <- as.dist(as.matrix(distm)[-which(is.na(md[,colnames(md) == catper])),-which(is.na(md[,colnames(md) == catper]))])\n",
    "          adonres <- adonis2(red ~ na.omit(md[,colnames(md) == catper]))\n",
    "          Rsq <- adonres$R2[1]\n",
    "          pval <- adonres$'Pr(>F)'[1]\n",
    "        } else {\n",
    "          adonres <- adonis2(distm ~ md[,colnames(md) == catper])\n",
    "          Rsq <- adonres$R2[1]\n",
    "          pval <- adonres$'Pr(>F)'[1]\n",
    "        }\n",
    "\n",
    "    PcoA <- cmdscale(distm, k =2, eig = T, add = T)\n",
    "    PcoA_points <- as.data.frame(PcoA$points)\n",
    "    variance <- round(PcoA$eig*100/sum(PcoA$eig),1)\n",
    "    names(PcoA_points)[1:2] <- c('PCoA1', 'PCoA2')\n",
    "    PcoA_points <- as.data.frame(PcoA_points)\n",
    "    PcoA_points$Group <- md[,colnames(md) == catcols][match(rownames(PcoA_points),rownames(md))]\n",
    "    names(PcoA_points)[1:2] <- c('PCoA1', 'PCoA2')\n",
    "    \n",
    "    # plot\n",
    "    cbPalette <- cols\n",
    "\n",
    "    if (mdtype == 'continuous'){\n",
    "          Tr_PcoA <- ggplot(PcoA_points, aes(x = PCoA1, y = PCoA2, colour = Group, label = row.names(PcoA))) + geom_point(size=2.5) +\n",
    "            scale_colour_gradient(low = collow, high = colhigh,space = \"Lab\", na.value = \"grey50\", guide = \"colourbar\",aesthetics = \"colour\")+\n",
    "            theme(legend.title=element_blank()) +\n",
    "            xlab(paste('PCoA1',variance[1],'%', sep = ' ')) +\n",
    "            ylab(paste('PCoA2',variance[2],'%', sep = ' ')) +\n",
    "            ggtitle(paste(title,paste0(\"(p=\",round(pval,4),\",\"),paste0(\"adonis-R2=\",round(Rsq,4),\")\"),sep=\" \"))\n",
    "\n",
    "        } else {\n",
    "\n",
    "          Tr_PcoA <- ggplot(PcoA_points, aes(x = PCoA1, y = PCoA2, colour = Group, label = row.names(PcoA))) + geom_point(size=2.5) +\n",
    "            scale_colour_manual(values = cbPalette) +\n",
    "            theme(legend.title=element_blank()) +\n",
    "            xlab(paste('PCoA1',variance[1],'%', sep = ' ')) +\n",
    "            ylab(paste('PCoA2',variance[2],'%', sep = ' ')) +\n",
    "            ggtitle(paste(title,paste0(\"(p=\",round(pval,4),\",\"),paste0(\"adonis-R2=\",round(Rsq,4),\")\"),sep=\" \"))\n",
    "        }\n",
    "    \n",
    "    print(Tr_PcoA)\n",
    "}"
   ]
  },
  {
   "cell_type": "markdown",
   "id": "6M4lxNyRhx6B",
   "metadata": {
    "id": "6M4lxNyRhx6B"
   },
   "source": [
    "By defining different parameters within the plotPCoA function:\n",
    "\n",
    "- **distmetric:** A distance metric of your choice, including \"euclidean\", \"maximum\", \"manhattan\", \"canberra\", \"binary\" or \"minkowski\".\n",
    "- **catper:** How should the samples be grouped for PERMANOVA, this can be any column name of your metadata.\n",
    "- **catcols:** According to what groups should the samples be colored on the PCoA, this can be any column name of your metadata.\n",
    "mdtype: Either 'categorical' or 'continuous', this value defines whether a continuous or categorical color scale should be used for the PCoA.\n",
    "- **cols:** Colors used for plotting the groups in the PCoA. The length of this object should be equal to the number of groups plotted.\n",
    "- **title:** Any title of your choice you want to give the plot.<br>\n",
    "\n",
    "we can quickly draw the same PCoA plot as above and retrieve PERMANOVA test results at the same time."
   ]
  },
  {
   "cell_type": "code",
   "execution_count": null,
   "id": "Nhoaxu5iiDbw",
   "metadata": {
    "colab": {
     "base_uri": "https://localhost:8080/",
     "height": 497
    },
    "executionInfo": {
     "elapsed": 738,
     "status": "ok",
     "timestamp": 1666556943370,
     "user": {
      "displayName": "Abzer Kelminal.P M",
      "userId": "16537922509430952288"
     },
     "user_tz": -120
    },
    "id": "Nhoaxu5iiDbw",
    "outputId": "ffdd3bd0-8dec-4181-cf65-fad285f11d51"
   },
   "outputs": [],
   "source": [
    "plotPCoA(Imp_s, md_Samples, distmetric = \"euclidean\", catper = \"ATTRIBUTE_Sample\", catcols = \"ATTRIBUTE_Sample\", mdtype = 'categorical', \n",
    "                      cols = c('orange','darkgreen','red','blue','black'),\n",
    "                      title = 'Principal coordinates plot')"
   ]
  },
  {
   "cell_type": "markdown",
   "id": "ni1JosCqiYd9",
   "metadata": {
    "id": "ni1JosCqiYd9"
   },
   "source": [
    "By changing input variables of the function we just created, we can now also quickly investigate what happens if we, for example treat algae concentration as continuous data?"
   ]
  },
  {
   "cell_type": "code",
   "execution_count": null,
   "id": "xxN6RhIGiaNH",
   "metadata": {
    "colab": {
     "base_uri": "https://localhost:8080/",
     "height": 497
    },
    "executionInfo": {
     "elapsed": 583,
     "status": "ok",
     "timestamp": 1666557019118,
     "user": {
      "displayName": "Abzer Kelminal.P M",
      "userId": "16537922509430952288"
     },
     "user_tz": -120
    },
    "id": "xxN6RhIGiaNH",
    "outputId": "b5bbfe06-81aa-44f7-9960-13dbf70460f7"
   },
   "outputs": [],
   "source": [
    "plotPCoA(Imp_s, md_Samples, distmetric = \"euclidean\", catper = \"ATTRIBUTE_Time-Point\", catcols = \"ATTRIBUTE_Time-Point\", mdtype = 'continuous', \n",
    "                      title = 'Principal coordinates plot')"
   ]
  },
  {
   "cell_type": "markdown",
   "id": "BoX4OwpuikPy",
   "metadata": {
    "id": "BoX4OwpuikPy"
   },
   "source": [
    "The PCoA plot looks the same, the only difference is that we can now visualize the pseudo temporal trend (algae concentration) using a color gradient. The PERMANOVA result slightly changes if we treat algae concentration as continuous rather than categorical variable. Metabolomic profiles of different algae dilutions are still significantly different but the variation in the data that can be explained by algae concentration is a lot lower, 36% (PERMANOVA, P < 0.05, Adonis R2 = 0.366).\n",
    "\n",
    "- We can also test a different distance metric and look at the separation of samples. During data cleanup we replaced all zero values with the minimum value found in our feature table. We might want to opt not to impute any values but instead use a distance metric that can deal better with missing values (e.g. Canberra).\n",
    "\n",
    "First, we replace all imputed values in the feature table with NA"
   ]
  },
  {
   "cell_type": "code",
   "execution_count": null,
   "id": "dejPRcvIjpss",
   "metadata": {
    "colab": {
     "base_uri": "https://localhost:8080/",
     "height": 34
    },
    "executionInfo": {
     "elapsed": 230,
     "status": "ok",
     "timestamp": 1666557449371,
     "user": {
      "displayName": "Abzer Kelminal.P M",
      "userId": "16537922509430952288"
     },
     "user_tz": -120
    },
    "id": "dejPRcvIjpss",
    "outputId": "0d557665-40fc-4e8d-9699-aadd3c9f4031"
   },
   "outputs": [],
   "source": [
    "ft_nonimp <- Imp_t\n",
    "ft_nonimp[ft_nonimp == min(ft_nonimp)] <- NA #replacing the imputed values to NA\n",
    "fts_nonimp <- scale(ft_nonimp, scale = TRUE, center = TRUE) #scaling and centering\n",
    "(sum(is.na(ft_nonimp))*100)/(dim(ft)[1]*dim(ft)[2]) # shows the amount of missing values in percentage"
   ]
  },
  {
   "cell_type": "code",
   "execution_count": null,
   "id": "vd-Hkl8Jkh8m",
   "metadata": {
    "colab": {
     "base_uri": "https://localhost:8080/",
     "height": 497
    },
    "executionInfo": {
     "elapsed": 848,
     "status": "ok",
     "timestamp": 1666557558302,
     "user": {
      "displayName": "Abzer Kelminal.P M",
      "userId": "16537922509430952288"
     },
     "user_tz": -120
    },
    "id": "vd-Hkl8Jkh8m",
    "outputId": "445a3080-ea09-4978-b2f9-1c82559937c0"
   },
   "outputs": [],
   "source": [
    "plotPCoA(fts_nonimp, md_Samples, distmetric = \"canberra\", catper = \"ATTRIBUTE_Sample\", catcols = \"ATTRIBUTE_Sample\", mdtype = 'categorical', \n",
    "                      cols = c('orange','darkgreen','red','blue','black'),\n",
    "                      title = 'Principal coordinates plot')"
   ]
  },
  {
   "cell_type": "code",
   "execution_count": null,
   "id": "F4g1e-UmkoLM",
   "metadata": {
    "colab": {
     "base_uri": "https://localhost:8080/",
     "height": 497
    },
    "executionInfo": {
     "elapsed": 769,
     "status": "ok",
     "timestamp": 1666557587061,
     "user": {
      "displayName": "Abzer Kelminal.P M",
      "userId": "16537922509430952288"
     },
     "user_tz": -120
    },
    "id": "F4g1e-UmkoLM",
    "outputId": "d8ae0f24-fd44-44bd-95d8-a788ac88276c"
   },
   "outputs": [],
   "source": [
    "plotPCoA(fts_nonimp, md_Samples, distmetric = \"canberra\", catper = \"ATTRIBUTE_Time-Point\", catcols = \"ATTRIBUTE_Time-Point\", mdtype = 'continuous', \n",
    "                      title = 'Principal coordinates plot')"
   ]
  },
  {
   "cell_type": "markdown",
   "id": "GXOmo9GXkuDh",
   "metadata": {
    "id": "GXOmo9GXkuDh"
   },
   "source": [
    "Using the Canberra distance metric, we also see a significant difference in the metabolomic profiles of different algae dilutions (PERMANOVA, P < 0.05, Adonis R2 = 0.6697 and 0.3389 respectively) with app. 67% and 34% of the variation in our data explained by algae concentration.\n",
    "\n",
    "Lastly, let's also test a binary metric, the Jaccard metric. When we apply the Jaccard metric we need to work with the non-imputed, non-scaled feature table, where all missing values need to be converted to 0s. A positive value will be interpreted as 1 (present) and missing values as 0 (absent)."
   ]
  },
  {
   "cell_type": "code",
   "execution_count": null,
   "id": "z7wN-GY_lSPp",
   "metadata": {
    "executionInfo": {
     "elapsed": 241,
     "status": "ok",
     "timestamp": 1666557798393,
     "user": {
      "displayName": "Abzer Kelminal.P M",
      "userId": "16537922509430952288"
     },
     "user_tz": -120
    },
    "id": "z7wN-GY_lSPp"
   },
   "outputs": [],
   "source": [
    "ft_nonimp_0 <- ft_nonimp\n",
    "ft_nonimp_0[is.na(ft_nonimp_0)] <- 0"
   ]
  },
  {
   "cell_type": "code",
   "execution_count": null,
   "id": "izEFJWR9ldrZ",
   "metadata": {
    "colab": {
     "base_uri": "https://localhost:8080/",
     "height": 497
    },
    "executionInfo": {
     "elapsed": 691,
     "status": "ok",
     "timestamp": 1666557804173,
     "user": {
      "displayName": "Abzer Kelminal.P M",
      "userId": "16537922509430952288"
     },
     "user_tz": -120
    },
    "id": "izEFJWR9ldrZ",
    "outputId": "76aafb06-a6f4-4d84-e3ac-f77e12cbf26f"
   },
   "outputs": [],
   "source": [
    "plotPCoA(ft_nonimp_0, md_Samples, distmetric = \"binary\", catper = \"ATTRIBUTE_Sample\", catcols = \"ATTRIBUTE_Sample\", mdtype = 'categorical', \n",
    "                      cols = c('orange','darkgreen','red','blue','black'),\n",
    "                      title = 'Principal coordinates plot')"
   ]
  },
  {
   "cell_type": "code",
   "execution_count": null,
   "id": "Hvcxw6PUljzK",
   "metadata": {
    "colab": {
     "base_uri": "https://localhost:8080/",
     "height": 497
    },
    "executionInfo": {
     "elapsed": 543,
     "status": "ok",
     "timestamp": 1666557827248,
     "user": {
      "displayName": "Abzer Kelminal.P M",
      "userId": "16537922509430952288"
     },
     "user_tz": -120
    },
    "id": "Hvcxw6PUljzK",
    "outputId": "b6b4f493-bcdd-4af0-870c-e83f8e68894c"
   },
   "outputs": [],
   "source": [
    "plotPCoA(ft_nonimp_0, md_Samples, distmetric = \"binary\", catper = \"ATTRIBUTE_Time-Point\", catcols = \"ATTRIBUTE_Time-Point\", mdtype = 'continuous', \n",
    "                      title = 'Principal coordinates plot')"
   ]
  },
  {
   "cell_type": "markdown",
   "id": "y7Pha6xLlt1P",
   "metadata": {
    "id": "y7Pha6xLlt1P"
   },
   "source": [
    "Using the Jaccard distance metric, we also see a significant difference in the metabolomic profiles algae dilutions (PERMANOVA, P < 0.05, Adonis R2 = 0.8484 and 0.2868 respectively) with app. 85% and 29% of the variation in our data explained by algae concentration."
   ]
  },
  {
   "cell_type": "markdown",
   "id": "ISNCFUC1fgF_",
   "metadata": {
    "id": "ISNCFUC1fgF_"
   },
   "source": [
    "# Hierarchial Clustering Algorithm:"
   ]
  },
  {
   "cell_type": "markdown",
   "id": "R0_hXyshmGaZ",
   "metadata": {
    "id": "R0_hXyshmGaZ"
   },
   "source": [
    "We are now ready to perform a cluter analysis. The concept behind hierarchical clustering is to repeatedly combine the two nearest clusters into a larger cluster.\n",
    "\n",
    "The first step consists of calculating the distance between every pair of observation points and stores it in a matrix;\n",
    "1. It puts every point in its own cluster;\n",
    "2. It merges the closest pairs of points according to their distances;\n",
    "3. It recomputes the distance between the new cluster and the old ones and stores them in a new distance matrix;\n",
    "4. It repeats steps 2 and 3 until all the clusters are merged into one single cluster. <br>\n",
    "\n",
    "Next, we perform the hierarchical clustering. As you can see in the following code we need to specify the 'method' argument. This argument tells the algorithm how to measure the distance between clusters and it's usually referred as 'Linkage Method'. There are several and you can explore different options here https://www.rdocumentation.org/packages/stats/versions/3.6.2/topics/hclust. Usually, you will try different ones and plot the result.\n",
    "\n",
    "Here, we use the default 'complete' (i.e. complete-linkage), which calculates the maximum distance between clusters before merging."
   ]
  },
  {
   "cell_type": "code",
   "execution_count": null,
   "id": "G14QfDa6fkJD",
   "metadata": {
    "colab": {
     "base_uri": "https://localhost:8080/",
     "height": 497
    },
    "executionInfo": {
     "elapsed": 332,
     "status": "ok",
     "timestamp": 1666558068951,
     "user": {
      "displayName": "Abzer Kelminal.P M",
      "userId": "16537922509430952288"
     },
     "user_tz": -120
    },
    "id": "G14QfDa6fkJD",
    "outputId": "1ad67a18-3a07-4865-e61b-9db2a2f6761e"
   },
   "outputs": [],
   "source": [
    "set.seed(1234) # Setting a seed for reproducing the same result\n",
    "hclust_res <- hclust(distm, method = 'complete')\n",
    "plot(hclust_res) #visualize the cluster relationships in a tree-like diagram called dendrogram"
   ]
  },
  {
   "cell_type": "markdown",
   "id": "UySh440Vms7h",
   "metadata": {
    "id": "UySh440Vms7h"
   },
   "source": [
    "In the above dendogram, the distance of split or merge is given as the y axis 'height'. You can also cut the dendrogram to create the desired number of clusters. In this case, it seems we have 3 main 'splits', further divided into a total of 4 clusters. We are going to use the cutree() function for this https://www.rdocumentation.org/packages/stats/versions/3.6.2/topics/cutree."
   ]
  },
  {
   "cell_type": "code",
   "execution_count": null,
   "id": "3ViFG_MbfkGC",
   "metadata": {
    "colab": {
     "base_uri": "https://localhost:8080/",
     "height": 474
    },
    "executionInfo": {
     "elapsed": 231,
     "status": "ok",
     "timestamp": 1666558254923,
     "user": {
      "displayName": "Abzer Kelminal.P M",
      "userId": "16537922509430952288"
     },
     "user_tz": -120
    },
    "id": "3ViFG_MbfkGC",
    "outputId": "a02b0a9a-4c47-44ec-93ef-70f1b78333c3"
   },
   "outputs": [],
   "source": [
    "cut_res <- cutree(hclust_res, k = 3) # where k indicates the number of clusters we want\n",
    "# the cluster assignment\n",
    "data.frame(cut_res)"
   ]
  },
  {
   "cell_type": "code",
   "execution_count": null,
   "id": "_QS4Ufk6fkC9",
   "metadata": {
    "colab": {
     "base_uri": "https://localhost:8080/",
     "height": 72
    },
    "executionInfo": {
     "elapsed": 288,
     "status": "ok",
     "timestamp": 1666558270577,
     "user": {
      "displayName": "Abzer Kelminal.P M",
      "userId": "16537922509430952288"
     },
     "user_tz": -120
    },
    "id": "_QS4Ufk6fkC9",
    "outputId": "57a2e442-5fbe-47b6-aa02-65e283bfb727"
   },
   "outputs": [],
   "source": [
    "# counting the number of samples present in each cluster\n",
    "table(data.frame(cut_res))"
   ]
  },
  {
   "cell_type": "code",
   "execution_count": null,
   "id": "p9SzYKGAf446",
   "metadata": {
    "colab": {
     "base_uri": "https://localhost:8080/",
     "height": 497
    },
    "executionInfo": {
     "elapsed": 488,
     "status": "ok",
     "timestamp": 1666558273020,
     "user": {
      "displayName": "Abzer Kelminal.P M",
      "userId": "16537922509430952288"
     },
     "user_tz": -120
    },
    "id": "p9SzYKGAf446",
    "outputId": "ca008610-d996-4b91-e5ba-0448e2cc6c35"
   },
   "outputs": [],
   "source": [
    "# highlight the clusters in the dendrogram by coloring their borders.\n",
    "plot(hclust_res)\n",
    "rect.hclust(hclust_res, k = 3, border = 1:3)"
   ]
  },
  {
   "cell_type": "code",
   "execution_count": null,
   "id": "HoQnbGqvf9UT",
   "metadata": {
    "colab": {
     "base_uri": "https://localhost:8080/",
     "height": 497
    },
    "executionInfo": {
     "elapsed": 262,
     "status": "ok",
     "timestamp": 1666558277917,
     "user": {
      "displayName": "Abzer Kelminal.P M",
      "userId": "16537922509430952288"
     },
     "user_tz": -120
    },
    "id": "HoQnbGqvf9UT",
    "outputId": "095b115e-ac61-4277-a88c-7ad20764f07e"
   },
   "outputs": [],
   "source": [
    "# Coloring the entire clusters with different colors\n",
    "dend_obj <- as.dendrogram(hclust_res)\n",
    "col_dend <- color_branches(dend_obj, k = 3)\n",
    "plot(col_dend)"
   ]
  },
  {
   "cell_type": "markdown",
   "id": "AXEvNODDnYSW",
   "metadata": {
    "id": "AXEvNODDnYSW"
   },
   "source": [
    "**Can we define the number of clusters using a simple approach? We are going to use the NbClust and factoextra packages for this purpose.**\n",
    "\n",
    "We start with the Elbow approach. The Elbow method looks at the total within-cluster sum of square (WSS) as a function of the number of clusters. WSS: sum of distances between the points and the corresponding centroids for each cluster."
   ]
  },
  {
   "cell_type": "code",
   "execution_count": null,
   "id": "r1L1AGmxhlO3",
   "metadata": {
    "colab": {
     "base_uri": "https://localhost:8080/",
     "height": 497
    },
    "executionInfo": {
     "elapsed": 674,
     "status": "ok",
     "timestamp": 1666558396798,
     "user": {
      "displayName": "Abzer Kelminal.P M",
      "userId": "16537922509430952288"
     },
     "user_tz": -120
    },
    "id": "r1L1AGmxhlO3",
    "outputId": "e554eea7-6e93-4bb5-bf3e-2e70d50b0d90"
   },
   "outputs": [],
   "source": [
    "# Elbow method. Here we use 'hcut' which computes the hierarchical clustering and cut the tree.\n",
    "fviz_nbclust(Imp_s, hcut, method = \"wss\") +\n",
    "  geom_vline(xintercept = 4, linetype = 2) + # add line indicating what you think is the optimal number of clusters\n",
    "  labs(subtitle = \"Elbow method\") # add subtitle"
   ]
  },
  {
   "cell_type": "markdown",
   "id": "Gp15AWWnnzc-",
   "metadata": {
    "id": "Gp15AWWnnzc-"
   },
   "source": [
    "The location of a 'elbow' in the plot is usually considered as an indicator of the appropriate number of clusters because it means that adding another cluster does not improve the grouping. This method seems to suggest 4 clusters. However, the Elbow method is sometimes ambiguous. As we can see from the plot above, the 'elbow' could be located at 3 or 4 clusters.\n",
    "An alternative is the average silhouette method. The Silhouette method measures the quality of a clustering and determines how well each point lies within its cluster."
   ]
  },
  {
   "cell_type": "code",
   "execution_count": null,
   "id": "CCBdX8Etn9s0",
   "metadata": {
    "colab": {
     "base_uri": "https://localhost:8080/",
     "height": 497
    },
    "executionInfo": {
     "elapsed": 632,
     "status": "ok",
     "timestamp": 1666558467015,
     "user": {
      "displayName": "Abzer Kelminal.P M",
      "userId": "16537922509430952288"
     },
     "user_tz": -120
    },
    "id": "CCBdX8Etn9s0",
    "outputId": "a59f9ebe-0bbc-41a8-91c8-201939ed8b66"
   },
   "outputs": [],
   "source": [
    "# Silhouette method\n",
    "fviz_nbclust(Imp_s, hcut, method = \"silhouette\") + labs(subtitle = \"Silhouette method\")"
   ]
  },
  {
   "cell_type": "markdown",
   "id": "xZBLPXn7oFLt",
   "metadata": {
    "id": "xZBLPXn7oFLt"
   },
   "source": [
    "In this case, the silouette method seems to find 2 main clusters. There are several other methods to discover the optimal number of clusters and sometimes they do not fully agree. Often, you will need to bring your own knowledge about the specific field to decide whether the number of clusters makes sense.\n",
    "\n",
    "As you can see, no matter which approach we use for finding the optimal number of clusters, the hierarchical clustering was able to identify meaningful clusters. However, based on the parameters that we have selected it seems that sample types 'M' and 'A5M' cluster together. Is this meaningful?\n",
    "\n",
    "Sometimes, you may get unexpected results that are not only related to the selection of parameters but also to the input data. For instance, noisy data will lead to different clusters and interpretation of the results. For example, you could consider to remove features having zero-variance or zero Median Absolute Deviation prior to perform any further downstream analysis (remember that we usually impute quite a lot of data in metabolomics and this could create this zero-variance issue)."
   ]
  },
  {
   "cell_type": "code",
   "execution_count": null,
   "id": "SXcHNN44kaKG",
   "metadata": {
    "executionInfo": {
     "elapsed": 231,
     "status": "ok",
     "timestamp": 1666558532793,
     "user": {
      "displayName": "Abzer Kelminal.P M",
      "userId": "16537922509430952288"
     },
     "user_tz": -120
    },
    "id": "SXcHNN44kaKG"
   },
   "outputs": [],
   "source": [
    "# To remove features having zero Median Absolute Deviation:use the following function \n",
    "#(just replace 'mad' with 'var' for the variance)\n",
    "removeZeroMad <- function(df){\n",
    "  df[, sapply(df, mad) != 0]\n",
    "}"
   ]
  },
  {
   "cell_type": "code",
   "execution_count": null,
   "id": "nPk6g3DBkcyb",
   "metadata": {
    "colab": {
     "base_uri": "https://localhost:8080/",
     "height": 52
    },
    "executionInfo": {
     "elapsed": 455,
     "status": "ok",
     "timestamp": 1666558596395,
     "user": {
      "displayName": "Abzer Kelminal.P M",
      "userId": "16537922509430952288"
     },
     "user_tz": -120
    },
    "id": "nPk6g3DBkcyb",
    "outputId": "7ec052a4-8993-439e-f087-f42feb434d30"
   },
   "outputs": [],
   "source": [
    "# we apply the function to the input data before scaling\n",
    "Imp_noZeroMad <- removeZeroMad(as.data.frame(Imp_t))\n",
    "dim(Imp_t)\n",
    "dim(Imp_noZeroMad)"
   ]
  },
  {
   "cell_type": "markdown",
   "id": "c1kX1mFoojWU",
   "metadata": {
    "id": "c1kX1mFoojWU"
   },
   "source": [
    "As you can see, some features were removed after this filtering step. What happens if we perform clustering again?"
   ]
  },
  {
   "cell_type": "code",
   "execution_count": null,
   "id": "X6kMibEOkh8O",
   "metadata": {
    "colab": {
     "base_uri": "https://localhost:8080/",
     "height": 497
    },
    "executionInfo": {
     "elapsed": 316,
     "status": "ok",
     "timestamp": 1666558637994,
     "user": {
      "displayName": "Abzer Kelminal.P M",
      "userId": "16537922509430952288"
     },
     "user_tz": -120
    },
    "id": "X6kMibEOkh8O",
    "outputId": "1ee44c20-62b4-4b5b-8600-ad70be8a8441"
   },
   "outputs": [],
   "source": [
    "# first, we scale the matrix\n",
    "Imp_noZeroMad_s <- scale(Imp_noZeroMad, scale = T, center = T)\n",
    "# then we calculate the distance matrix\n",
    "distm_noZeroMad <- dist(Imp_noZeroMad_s, method = \"euclidean\")\n",
    "# then we perform clustering\n",
    "set.seed(1234)\n",
    "hclust_noZeroMad <- hclust(distm_noZeroMad, method = 'complete')\n",
    "# finally, we plot the result\n",
    "plot(hclust_noZeroMad)"
   ]
  },
  {
   "cell_type": "markdown",
   "id": "Z5i8QZoTo3BK",
   "metadata": {
    "id": "Z5i8QZoTo3BK"
   },
   "source": [
    "In this case, the result is not affected and 'M' and 'A5M' samples still cluster together. This is also a nice proof that the noisy features that we have removed might not contribute much to the clustering and the interpretation of the result is still the same. Therefore, 'M' and 'A5M' samples share clear metabolic similarities. (*About one of the A5M samples clustering separate?*)"
   ]
  },
  {
   "cell_type": "markdown",
   "id": "ShRldCDNnsZu",
   "metadata": {
    "id": "ShRldCDNnsZu"
   },
   "source": [
    "# Heatmaps:\n",
    "In the next section we will add an additional layer in our visualization by plotting a heatmap together with the hierarchical clustering.\n",
    "\n",
    "First, we prepare the 'decoration' for our heatmap. We want to show the 'ATTRIBUTE_Sample' and 'ATTRIBUTE_Time-Point' colored in a distinctive way. It is much easier to read the heatmap in this way.\n",
    "\n",
    "We are going to use the ComplexHeatmap package https://jokergoo.github.io/ComplexHeatmap/reference/Heatmap.html"
   ]
  },
  {
   "cell_type": "code",
   "execution_count": null,
   "id": "-shyrQKgnrvw",
   "metadata": {
    "colab": {
     "base_uri": "https://localhost:8080/",
     "height": 192
    },
    "executionInfo": {
     "elapsed": 250,
     "status": "ok",
     "timestamp": 1666559333627,
     "user": {
      "displayName": "Abzer Kelminal.P M",
      "userId": "16537922509430952288"
     },
     "user_tz": -120
    },
    "id": "-shyrQKgnrvw",
    "outputId": "3f144dfc-54b7-4735-c20b-e846b2f9fac8"
   },
   "outputs": [],
   "source": [
    "# metadata of interests are ATTRIBUTE: Timepoint and Samples\n",
    "InsideLevels(md_Samples)"
   ]
  },
  {
   "cell_type": "code",
   "execution_count": null,
   "id": "b4D6P4T8or2k",
   "metadata": {
    "executionInfo": {
     "elapsed": 234,
     "status": "ok",
     "timestamp": 1666559370486,
     "user": {
      "displayName": "Abzer Kelminal.P M",
      "userId": "16537922509430952288"
     },
     "user_tz": -120
    },
    "id": "b4D6P4T8or2k"
   },
   "outputs": [],
   "source": [
    "# create a dataframe with just the metadata of interest\n",
    "ann <- data.frame(md_Samples$`ATTRIBUTE_Sample`, md_Samples$`ATTRIBUTE_Time-Point`)\n",
    "# assign better column names to the dataframe\n",
    "colnames(ann) <- c('Sample', 'Time_point')\n",
    "# select some colors of your choice. Explore more colors using the RColorBrewer package or by simply check for the hex code https://www.color-hex.com/\n",
    "colours <- list('Sample' = c('M' = 'grey', 'A5M' = 'darkorange', 'A15M' = 'darkred', 'A45M' = 'darkgreen'),\n",
    "  'Time_point' = c('0' = 'grey', '5' = 'darkorange', '15' = 'darkred', '45' = 'darkgreen'))\n",
    "  \n",
    "# the function in ComplexHeatmap for preparing the annotation object \n",
    "colAnn <- HeatmapAnnotation(df = ann,col = colours,annotation_width = unit(c(1, 4), 'cm'),gap = unit(1, 'mm'))"
   ]
  },
  {
   "cell_type": "markdown",
   "id": "-l5NbITCrgfl",
   "metadata": {
    "id": "-l5NbITCrgfl"
   },
   "source": [
    "ComplexHeatmap gives you a flexible function and it is easy to change parameters. You can take a look at the options here https://jokergoo.github.io/ComplexHeatmap/reference/Heatmap.html\n",
    "\n",
    "In the following, we will perform hierarchical clustering based on Euclidean distance. ComplexHeatmap uses the R package hclust for this purpose, that we already saw in the previous section. As we said, Euclidean distance is just an example that fits well continuous numerical values in your dataset but there are several distance measures such as Manhattan, Minkowski, Canberra etc.\n",
    "If you have binary data, you may consider to use Jaccard distance."
   ]
  },
  {
   "cell_type": "code",
   "execution_count": null,
   "id": "KQhn7vc6owuY",
   "metadata": {
    "colab": {
     "base_uri": "https://localhost:8080/"
    },
    "executionInfo": {
     "elapsed": 231,
     "status": "ok",
     "timestamp": 1666559388323,
     "user": {
      "displayName": "Abzer Kelminal.P M",
      "userId": "16537922509430952288"
     },
     "user_tz": -120
    },
    "id": "KQhn7vc6owuY",
    "outputId": "b680853b-e48a-4b62-a08c-f7ba85c80204"
   },
   "outputs": [],
   "source": [
    "# set the parameters for the type of clustering to perform. You can play with different options\n",
    "set.seed(1234)\n",
    "hmap <- Heatmap(\n",
    "  t(Imp_s),\n",
    "  heatmap_legend_param = list(title = \"Scaled/centered\\nintensity\"), \n",
    "  col = c(\"blue\",\"white\",\"darkred\"),\n",
    "  show_row_names = FALSE,show_column_names = FALSE,\n",
    "  cluster_rows = TRUE,cluster_columns = TRUE,\n",
    "  show_column_dend = TRUE,show_row_dend = TRUE,\n",
    "  row_dend_reorder = TRUE,column_dend_reorder = TRUE,\n",
    "  clustering_distance_rows = \"euclidean\",clustering_distance_columns = \"euclidean\",\n",
    "  clustering_method_rows = \"complete\",clustering_method_columns = \"complete\",\n",
    "  width = unit(100, \"mm\"),\n",
    "  top_annotation = colAnn)"
   ]
  },
  {
   "cell_type": "code",
   "execution_count": null,
   "id": "kKmXzvvpo8ln",
   "metadata": {
    "colab": {
     "base_uri": "https://localhost:8080/",
     "height": 497
    },
    "executionInfo": {
     "elapsed": 16201,
     "status": "ok",
     "timestamp": 1666559418877,
     "user": {
      "displayName": "Abzer Kelminal.P M",
      "userId": "16537922509430952288"
     },
     "user_tz": -120
    },
    "id": "kKmXzvvpo8ln",
    "outputId": "0a4450be-16ea-4ce3-ee1e-f9800b6801aa"
   },
   "outputs": [],
   "source": [
    "# draw heatmap. It can take some time if your input data is quite large\n",
    "draw(hmap, heatmap_legend_side=\"right\", annotation_legend_side=\"right\")"
   ]
  },
  {
   "cell_type": "markdown",
   "id": "o5c89LKNrp0c",
   "metadata": {
    "id": "o5c89LKNrp0c"
   },
   "source": [
    "As we can see, by using this type of visualization we can clearly observe the similarities between samples and features, in particular we can see again that sample types 'M' and 'A5M' are quite similar. We can also apply a method for dividing the heatmap according to a cluster assignment, similarly to the cutree() step, for generating better visualizations that can help the interpretation of the results.\n",
    "\n",
    "ComplexHeatmap contains a function to find clusters by using another clustering algorithm called k-means."
   ]
  },
  {
   "cell_type": "code",
   "execution_count": null,
   "id": "u-MyKCStpN-Q",
   "metadata": {
    "colab": {
     "base_uri": "https://localhost:8080/",
     "height": 679
    },
    "executionInfo": {
     "elapsed": 13993,
     "status": "ok",
     "timestamp": 1666559483399,
     "user": {
      "displayName": "Abzer Kelminal.P M",
      "userId": "16537922509430952288"
     },
     "user_tz": -120
    },
    "id": "u-MyKCStpN-Q",
    "outputId": "a613079f-ee27-4afc-fdfb-f2833b211182"
   },
   "outputs": [],
   "source": [
    "# set the parameters for the type of clustering to perform. You can play with different options\n",
    "set.seed(1234)\n",
    "hmap_km <- Heatmap(\n",
    "  t(Imp_s),\n",
    "  heatmap_legend_param = list(title = \"Scaled/centered\\nintensity\"), \n",
    "  col = c(\"blue\",\"white\",\"darkred\"),\n",
    "  show_row_names = FALSE,show_column_names = FALSE,\n",
    "  cluster_rows = TRUE,cluster_columns = TRUE,\n",
    "  show_row_dend = TRUE,show_column_dend = TRUE,\n",
    "  row_dend_reorder = TRUE,column_dend_reorder = TRUE,\n",
    "  clustering_distance_rows = \"euclidean\",clustering_distance_columns = \"euclidean\",\n",
    "  clustering_method_rows = \"complete\",clustering_method_columns = \"complete\",\n",
    "  width = unit(100, \"mm\"),\n",
    "  top_annotation = colAnn,\n",
    "  # Parameters to perform k-means clustering:  \n",
    "  row_km = 3, row_km_repeats = 100, #row_km indicates the no.of clusters you want in the rows\n",
    "  column_km = 3, column_km_repeats = 100) #column_km refers to the no.of clusters you want in the columns\n",
    "\n",
    "# draw heatmap. It can take some time if your input data is quite large\n",
    "draw(hmap_km, heatmap_legend_side=\"right\", annotation_legend_side=\"right\")"
   ]
  },
  {
   "cell_type": "markdown",
   "id": "42tJYJSer8jj",
   "metadata": {
    "id": "42tJYJSer8jj"
   },
   "source": [
    "In the next step, we extract the features belonging to the clusters for future use."
   ]
  },
  {
   "cell_type": "code",
   "execution_count": null,
   "id": "RxxeLy5LvtWr",
   "metadata": {
    "colab": {
     "base_uri": "https://localhost:8080/",
     "height": 497
    },
    "executionInfo": {
     "elapsed": 9722,
     "status": "ok",
     "timestamp": 1666559514129,
     "user": {
      "displayName": "Abzer Kelminal.P M",
      "userId": "16537922509430952288"
     },
     "user_tz": -120
    },
    "id": "RxxeLy5LvtWr",
    "outputId": "93b2096f-604e-4b74-e8a0-164b5dd1fdc6"
   },
   "outputs": [],
   "source": [
    "row_order_res <- row_order(draw(hmap_km, heatmap_legend_side=\"right\", annotation_legend_side=\"right\"))  "
   ]
  },
  {
   "cell_type": "code",
   "execution_count": null,
   "id": "WmSWKaSSv6aL",
   "metadata": {
    "colab": {
     "base_uri": "https://localhost:8080/",
     "height": 149
    },
    "executionInfo": {
     "elapsed": 219,
     "status": "ok",
     "timestamp": 1666559517546,
     "user": {
      "displayName": "Abzer Kelminal.P M",
      "userId": "16537922509430952288"
     },
     "user_tz": -120
    },
    "id": "WmSWKaSSv6aL",
    "outputId": "02e7b33c-5577-44d5-c271-5f614c0e3acc"
   },
   "outputs": [],
   "source": [
    "# check/confirm size of clusters\n",
    "lapply(row_order_res, function(x) length(x))"
   ]
  },
  {
   "cell_type": "code",
   "execution_count": null,
   "id": "_bI2Goimv8x2",
   "metadata": {
    "colab": {
     "base_uri": "https://localhost:8080/",
     "height": 395
    },
    "executionInfo": {
     "elapsed": 234,
     "status": "ok",
     "timestamp": 1666559815107,
     "user": {
      "displayName": "Abzer Kelminal.P M",
      "userId": "16537922509430952288"
     },
     "user_tz": -120
    },
    "id": "_bI2Goimv8x2",
    "outputId": "02953620-6639-49c7-e16a-c13ef17aa4ba"
   },
   "outputs": [],
   "source": [
    "# loop to extract features for each cluster\n",
    "out_res <- NULL\n",
    "for (i in seq_along(row_order_res)){\n",
    "out_res[[i]] <- cbind(colnames(Imp_s[,row_order_res[[i]]]), paste(\"cluster\", i, sep=\"\"))  \n",
    "}\n",
    "\n",
    "out_res <- as.data.frame(do.call(rbind, out_res)) #getting the list elements into a dataframe\n",
    "colnames(out_res) <- c('feature','cluster')\n",
    "dim(out_res) # dimension of the object\n",
    "table(out_res$cluster) # number of features in each cluster\n",
    "head(out_res)\n",
    "\n",
    "# save the data frame with cluster information\n",
    "write.csv(out_res, file.path(fName,'feature_clusters.csv'),row.names =F, sep='\\t')"
   ]
  },
  {
   "cell_type": "code",
   "execution_count": null,
   "id": "JavloDcEwRDH",
   "metadata": {
    "colab": {
     "base_uri": "https://localhost:8080/",
     "height": 34
    },
    "executionInfo": {
     "elapsed": 8471,
     "status": "ok",
     "timestamp": 1666559908266,
     "user": {
      "displayName": "Abzer Kelminal.P M",
      "userId": "16537922509430952288"
     },
     "user_tz": -120
    },
    "id": "JavloDcEwRDH",
    "outputId": "78dfa899-a747-48a0-f8f8-1a995e12c050"
   },
   "outputs": [],
   "source": [
    "# save the heatmap in svg format.The plot can be imported & modified  in Illustrator or similar program.\n",
    "svglite(filename=paste0(fName,'/heatmap.svg'), width=10, height=8, bg='white')\n",
    "draw(hmap_km, heatmap_legend_side=\"right\", annotation_legend_side=\"right\")\n",
    "dev.off()"
   ]
  },
  {
   "cell_type": "markdown",
   "id": "43c0497d-af17-4c90-bb2f-54ad0aef75bd",
   "metadata": {
    "id": "43c0497d-af17-4c90-bb2f-54ad0aef75bd"
   },
   "source": [
    "## Getting output files from Google Colab:\n",
    "<a id=\"colab_output\"></a>\n",
    "For Google Collab users, we can zip the result folder which contains all the output files using the next cell and download the zip file directly from the folder \"/content/My_TestData\" into the local system."
   ]
  },
  {
   "cell_type": "code",
   "execution_count": null,
   "id": "8ef4a687-bded-4fd9-90b0-8e5838bd40af",
   "metadata": {
    "id": "8ef4a687-bded-4fd9-90b0-8e5838bd40af"
   },
   "outputs": [],
   "source": [
    "#Only for Google Colab\n",
    "#utils::zip(zipfile = 'TestData_Workflow_Results', files = \"/content/My_TestData_Workflow_Results/\")"
   ]
  }
 ],
 "metadata": {
  "colab": {
   "collapsed_sections": [],
   "provenance": [
    {
     "file_id": "14dFtH7TFbct99PfnnhLprjLYr4xBHDN7",
     "timestamp": 1665403674628
    },
    {
     "file_id": "https://github.com/Functional-Metabolomics-Lab/Metabolomics_SummerSchool_2022/blob/main/notebooks/dom/cleanup/data_cleanUp_SummerSchool_22_18082022.ipynb",
     "timestamp": 1665043361426
    }
   ]
  },
  "kernelspec": {
   "display_name": "R",
   "language": "R",
   "name": "ir"
  },
  "language_info": {
   "codemirror_mode": "r",
   "file_extension": ".r",
   "mimetype": "text/x-r-source",
   "name": "R",
   "pygments_lexer": "r",
   "version": "4.2.2"
  }
 },
 "nbformat": 4,
 "nbformat_minor": 5
}
