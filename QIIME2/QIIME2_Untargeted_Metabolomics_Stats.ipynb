{
 "cells": [
  {
   "cell_type": "markdown",
   "metadata": {},
   "source": [
    "# Introduction\n",
    "\n",
    "To easily find the parameters on the jupyter notebook on the header bar select view -> cell toolbar -> tags. all the paramters will have the tag \"parameter\"."
   ]
  },
  {
   "cell_type": "markdown",
   "metadata": {},
   "source": [
    "# Download GNPS Data"
   ]
  },
  {
   "cell_type": "code",
   "execution_count": null,
   "metadata": {},
   "outputs": [],
   "source": [
    "# importing necessary modules\n",
    "import networkx as nx\n",
    "from gnpsdata import taskresult\n",
    "import os\n",
    "import csv\n",
    "import pandas as pd\n",
    "import pandas as pd\n",
    "import numpy as np\n",
    "import os\n",
    "import itertools\n",
    "import plotly.express as px\n",
    "import plotly.graph_objects as go\n",
    "import plotly.figure_factory as ff\n",
    "from plotly.subplots import make_subplots\n",
    "from scipy.cluster.hierarchy import dendrogram, linkage\n",
    "from sklearn.preprocessing import StandardScaler\n",
    "from scipy.spatial import distance\n",
    "from sklearn.decomposition import PCA\n",
    "import scipy.stats as stats\n",
    "import pingouin as pg\n",
    "import skbio # Don't import on Windows!!\n",
    "from ipyfilechooser import FileChooser\n",
    "from ipywidgets import interact\n",
    "from pynmranalysis.normalization import PQN_normalization\n",
    "import warnings\n",
    "\n",
    "from qiime2 import Visualization\n",
    "\n",
    "from gnpsdata import workflow_fbmn"
   ]
  },
  {
   "cell_type": "code",
   "execution_count": null,
   "metadata": {
    "tags": [
     "parameters"
    ]
   },
   "outputs": [],
   "source": [
    "# GNPS1 task id\n",
    "task = \"cf6e14abf5604f47b28b467a513d3532\""
   ]
  },
  {
   "cell_type": "code",
   "execution_count": null,
   "metadata": {},
   "outputs": [],
   "source": [
    "# Download quantification\n",
    "os.makedirs(\"./QIIME2/output_QIIME2_Notebook\", exist_ok=True)\n",
    "workflow_fbmn.download_quantification(task, \"./QIIME2/output_QIIME2_Notebook/quant.csv\", gnps2=False)\n",
    "\n",
    "# Downloading metadata\n",
    "workflow_fbmn.download_metadata(task, \"./QIIME2/output_QIIME2_Notebook/unprocessed_metadata.tsv\", gnps2=False)\n",
    "\n",
    "# Downloading the qiime artifact\n",
    "workflow_fbmn.download_qiime2(task, \"./QIIME2/output_QIIME2_Notebook/qiime_table.qza\")"
   ]
  },
  {
   "cell_type": "code",
   "execution_count": null,
   "metadata": {},
   "outputs": [],
   "source": [
    "# GNPS2 task id\n",
    "task = \"eb59f7b4ffe04267acec3dad7c51a655\""
   ]
  },
  {
   "cell_type": "code",
   "execution_count": null,
   "metadata": {},
   "outputs": [],
   "source": [
    "# Download quantification\n",
    "os.makedirs(\"./QIIME2/output_QIIME2_Notebook\", exist_ok=True)\n",
    "workflow_fbmn.download_quantification(task, \"./QIIME2/output_QIIME2_Notebook/quant.csv\", gnps2=True)\n",
    "\n",
    "# Downloading metadata\n",
    "workflow_fbmn.download_metadata(task, \"./QIIME2/output_QIIME2_Notebook/unprocessed_metadata.tsv\", gnps2=True)\n",
    "\n",
    "# Creating the Qiime2 artifact\n",
    "\n",
    "# Replace the following file names with your own\n",
    "input_file = './QIIME2/output_QIIME2_Notebook/quant.csv'\n",
    "output_file = './QIIME2/output_QIIME2_Notebook/biom_quant.tsv'\n",
    "\n",
    "# Open the input CSV file\n",
    "with open(input_file, 'r') as csv_file:\n",
    "    reader = csv.reader(csv_file)\n",
    "    header = next(reader)  # Get the header row\n",
    "    \n",
    "    # Get the indexes of the first three columns\n",
    "    indexes = [0, 1, 2]\n",
    "    \n",
    "    # Get the indexes of columns with \"Peak area\" in the header\n",
    "    peak_area_indexes = [i for i in range(len(header)) if 'Peak area' in header[i]]\n",
    "    \n",
    "    # Open the output TSV file\n",
    "    with open(output_file, 'w', newline='') as tsv_file:\n",
    "        writer = csv.writer(tsv_file, delimiter='\\t')\n",
    "        \n",
    "        # Write the header row with updated column names\n",
    "        new_header = ['#OTU ID'] + [header[i].replace('Peak area', '') for i in peak_area_indexes]\n",
    "        writer.writerow(new_header)\n",
    "        \n",
    "        # Loop through the remaining rows of the input CSV file\n",
    "        for row in reader:\n",
    "            # Extract the values from the first three columns\n",
    "            otu_id = row[0]\n",
    "            \n",
    "            # Extract the values from columns with \"Peak area\" in the header\n",
    "            peak_area_values = [row[i].replace('Peak area', '') for i in peak_area_indexes]\n",
    "            \n",
    "            # Write a row to the output TSV file\n",
    "            new_row = [otu_id] + peak_area_values\n",
    "            writer.writerow(new_row)\n",
    "\n",
    "! biom convert \\\n",
    "  -i ./QIIME2/output_QIIME2_Notebook/biom_quant.tsv \\\n",
    "  -o ./QIIME2/output_QIIME2_Notebook/quant.biom --to-hdf5\n",
    "\n",
    "! qiime tools import \\\n",
    "  --input-path ./QIIME2/output_QIIME2_Notebook/quant.biom \\\n",
    "  --type 'FeatureTable[Frequency]' \\\n",
    "  --input-format BIOMV210Format \\\n",
    "  --output-path ./QIIME2/output_QIIME2_Notebook/qiime_table.qza"
   ]
  },
  {
   "cell_type": "markdown",
   "metadata": {},
   "source": [
    "# Changing Metadata and Manifest Column name"
   ]
  },
  {
   "cell_type": "code",
   "execution_count": null,
   "metadata": {
    "tags": []
   },
   "outputs": [],
   "source": [
    "#read metadata file\n",
    "metadata = pd.read_csv(\"./QIIME2/output_QIIME2_Notebook/unprocessed_metadata.tsv\", sep = \"\\t\", index_col=False)\n",
    "#rename 1st column to \"#sample id\n",
    "metadata = metadata.rename(columns={\"filename\":\"sample id\"})\n",
    "#convert back to .tsv\n",
    "metadata.to_csv('./QIIME2/output_QIIME2_Notebook/metadata.tsv', sep=\"\\t\", index=False)"
   ]
  },
  {
   "cell_type": "code",
   "execution_count": null,
   "metadata": {},
   "outputs": [],
   "source": [
    "# Disable warnings for cleaner output, comment out for debugging\n",
    "warnings.filterwarnings('ignore')"
   ]
  },
  {
   "cell_type": "markdown",
   "metadata": {},
   "source": [
    "# Blank Removal"
   ]
  },
  {
   "cell_type": "code",
   "execution_count": null,
   "metadata": {},
   "outputs": [],
   "source": [
    "# Doing this via Qiime Plugin\n",
    "\n",
    "! qiime blankremoval-plugin blankremoval-function \\\n",
    "--i-input-artifact ./QIIME2/output_QIIME2_Notebook/qiime_table.qza \\\n",
    "--p-metadatafile ./QIIME2/output_QIIME2_Notebook/unprocessed_metadata.tsv \\\n",
    "--o-output-artifact ./QIIME2/output_QIIME2_Notebook/qiime_table_blanksremoved.qza"
   ]
  },
  {
   "cell_type": "markdown",
   "metadata": {},
   "source": [
    "# Imputation"
   ]
  },
  {
   "cell_type": "code",
   "execution_count": null,
   "metadata": {},
   "outputs": [],
   "source": [
    "! qiime imputation-plugin imputation-function \\\n",
    "--i-input-artifact ./QIIME2/output_QIIME2_Notebook/qiime_table_blanksremoved.qza \\\n",
    "--o-output-artifact ./QIIME2/output_QIIME2_Notebook/qiime_table_blanksremoved_imputed.qza"
   ]
  },
  {
   "cell_type": "markdown",
   "metadata": {},
   "source": [
    "# Normalization"
   ]
  },
  {
   "cell_type": "code",
   "execution_count": null,
   "metadata": {},
   "outputs": [],
   "source": [
    "! qiime normalization-plugin normalize-function \\\n",
    "--i-input-artifact ./QIIME2/output_QIIME2_Notebook/qiime_table_blanksremoved_imputed.qza \\\n",
    "--o-output-artifact-frequency ./QIIME2/output_QIIME2_Notebook/qiime_table_blanksremoved_imputed_normalization.qza \\\n",
    "--o-output-artifact-relative ./QIIME2/output_QIIME2_Notebook/qiime_table_blanksremoved_imputed_normalization_relative.qza"
   ]
  },
  {
   "cell_type": "markdown",
   "metadata": {},
   "source": [
    "# Distance Matrix"
   ]
  },
  {
   "cell_type": "code",
   "execution_count": null,
   "metadata": {
    "tags": [
     "parameters"
    ]
   },
   "outputs": [],
   "source": [
    "p_metric = 'canberra_adkins'"
   ]
  },
  {
   "cell_type": "code",
   "execution_count": null,
   "metadata": {},
   "outputs": [],
   "source": [
    "! qiime diversity beta \\\n",
    "  --i-table ./QIIME2/output_QIIME2_Notebook/qiime_table_blanksremoved_imputed_normalization.qza \\\n",
    "  --p-metric $p_metric \\\n",
    "  --o-distance-matrix ./QIIME2/output_QIIME2_Notebook/distance_matrix.qza"
   ]
  },
  {
   "cell_type": "markdown",
   "metadata": {},
   "source": [
    "# Principal Coordinate Analysis (PCoA)"
   ]
  },
  {
   "cell_type": "code",
   "execution_count": null,
   "metadata": {},
   "outputs": [],
   "source": [
    "! qiime diversity pcoa \\\n",
    "  --i-distance-matrix ./QIIME2/output_QIIME2_Notebook/distance_matrix.qza \\\n",
    "  --o-pcoa ./QIIME2/output_QIIME2_Notebook/pcoa.qza"
   ]
  },
  {
   "cell_type": "markdown",
   "metadata": {},
   "source": [
    "# Emperor plot"
   ]
  },
  {
   "cell_type": "code",
   "execution_count": null,
   "metadata": {},
   "outputs": [],
   "source": [
    "! qiime emperor plot \\\n",
    "  --i-pcoa ./QIIME2/output_QIIME2_Notebook/pcoa.qza \\\n",
    "  --m-metadata-file ./QIIME2/output_QIIME2_Notebook/metadata.tsv \\\n",
    "  --o-visualization ./QIIME2/output_QIIME2_Notebook/emperor_plot \n"
   ]
  },
  {
   "cell_type": "markdown",
   "metadata": {},
   "source": [
    "# Visualization"
   ]
  },
  {
   "cell_type": "code",
   "execution_count": null,
   "metadata": {},
   "outputs": [],
   "source": [
    "Visualization.load('./QIIME2/output_QIIME2_Notebook/emperor_plot.qzv')"
   ]
  },
  {
   "cell_type": "markdown",
   "metadata": {},
   "source": [
    "# Classifier Data/Heat Map"
   ]
  },
  {
   "cell_type": "code",
   "execution_count": null,
   "metadata": {
    "tags": [
     "parameters"
    ]
   },
   "outputs": [],
   "source": [
    "metadata_column = 'ATTRIBUTE_Sample_Area'\n",
    "estimator = 'RandomForestClassifier'\n",
    "n_estimators = 500\n",
    "random_state = 123\n"
   ]
  },
  {
   "cell_type": "code",
   "execution_count": null,
   "metadata": {},
   "outputs": [],
   "source": [
    "! qiime sample-classifier classify-samples \\\n",
    "  --i-table ./QIIME2/output_QIIME2_Notebook/qiime_table.qza \\\n",
    "  --m-metadata-file ./QIIME2/output_QIIME2_Notebook/metadata.tsv \\\n",
    "  --m-metadata-column $metadata_column \\\n",
    "  --p-optimize-feature-selection \\\n",
    "  --p-parameter-tuning \\\n",
    "  --p-estimator $estimator \\\n",
    "  --p-n-estimators $n_estimators \\\n",
    "  --p-random-state $random_state \\\n",
    "  --o-accuracy-results ./QIIME2/output_QIIME2_Notebook/accuracy_results.qzv \\\n",
    "  --o-feature-importance ./QIIME2/output_QIIME2_Notebook/feature_importance.qza \\\n",
    "  --o-heatmap ./QIIME2/output_QIIME2_Notebook/heatmap.qzv \\\n",
    "  --o-model-summary ./QIIME2/output_QIIME2_Notebook/model_summary.qzv \\\n",
    "  --o-predictions ./QIIME2/output_QIIME2_Notebook/predictions.qza \\\n",
    "  --o-probabilities ./QIIME2/output_QIIME2_Notebook/probabilities.qza \\\n",
    "  --o-sample-estimator ./QIIME2/output_QIIME2_Notebook/sample_estimator.qza \\\n",
    "  --o-test-targets ./QIIME2/output_QIIME2_Notebook/test_targets.qza \\\n",
    "  --o-training-targets ./QIIME2/output_QIIME2_Notebook/training_targets.qza \n"
   ]
  },
  {
   "cell_type": "markdown",
   "metadata": {},
   "source": [
    "# Visualization"
   ]
  },
  {
   "cell_type": "code",
   "execution_count": null,
   "metadata": {},
   "outputs": [],
   "source": [
    "Visualization.load('./QIIME2/output_QIIME2_Notebook/heatmap.qzv')"
   ]
  },
  {
   "cell_type": "markdown",
   "metadata": {},
   "source": [
    "# PermANOVA"
   ]
  },
  {
   "cell_type": "code",
   "execution_count": null,
   "metadata": {
    "tags": [
     "parameters"
    ]
   },
   "outputs": [],
   "source": [
    "metadata_column_permanova = 'ATTRIBUTE_Sample_Area'"
   ]
  },
  {
   "cell_type": "code",
   "execution_count": null,
   "metadata": {},
   "outputs": [],
   "source": [
    "! qiime diversity beta-group-significance \\\n",
    "  --i-distance-matrix ./QIIME2/output_QIIME2_Notebook/distance_matrix.qza \\\n",
    "  --m-metadata-file ./QIIME2/output_QIIME2_Notebook/metadata.tsv \\\n",
    "  --m-metadata-column $metadata_column_permanova \\\n",
    "  --o-visualization ./QIIME2/output_QIIME2_Notebook/permanova.qzv"
   ]
  },
  {
   "cell_type": "markdown",
   "metadata": {},
   "source": [
    "# Visualization"
   ]
  },
  {
   "cell_type": "code",
   "execution_count": null,
   "metadata": {},
   "outputs": [],
   "source": [
    "Visualization.load('./QIIME2/output_QIIME2_Notebook/permanova.qzv')"
   ]
  }
 ],
 "metadata": {
  "celltoolbar": "Tags",
  "kernelspec": {
   "display_name": "Python 3 (ipykernel)",
   "language": "python",
   "name": "python3"
  },
  "language_info": {
   "codemirror_mode": {
    "name": "ipython",
    "version": 3
   },
   "file_extension": ".py",
   "mimetype": "text/x-python",
   "name": "python",
   "nbconvert_exporter": "python",
   "pygments_lexer": "ipython3",
   "version": "3.8.15"
  },
  "toc-autonumbering": true,
  "toc-showcode": false,
  "toc-showmarkdowntxt": true
 },
 "nbformat": 4,
 "nbformat_minor": 4
}
