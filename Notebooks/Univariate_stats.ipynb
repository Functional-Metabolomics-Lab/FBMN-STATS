{
 "cells": [
  {
   "cell_type": "markdown",
   "metadata": {
    "id": "0-wpLE9SFva6"
   },
   "source": [
    "### **Univariate statistical analysis**\n",
    "\n",
    "Author: Filip Ottosson, \n",
    "faot@ssi.dk\n",
    "\n",
    "We will use univariate statistical methods, such as ANOVA, to investigate whether there are differences in the levels of individual features between different time points in the dataset.\n",
    "\n",
    "**Data**\n",
    "\n",
    "The files used in this tutorial are part of an interlab comparison study, where different laboratories around the world analysed same environmental samples on their respective LC-MS/MS equipments. To simulate algal bloom, standardized algae extracts (A) in marine dissovled organic matter (M) at different concentrations were prepared (450 (A45M); 150 (A15M); and 50 (A5M) ppm A). Samples were then shipped to different laboratories for untargeted LC-MS/MS metabolomics analysis.\n",
    "\n",
    "**Task**\n",
    "\n",
    "\n",
    "*   Are metabolite levels dependent on the diltuion?\n",
    "*   How does the affected metabolite change throughout the dilution series?\n",
    "*   How large are the differences? \n",
    "\n"
   ]
  },
  {
   "cell_type": "markdown",
   "metadata": {
    "id": "JBzTmRCyFqID"
   },
   "source": [
    "##**Install and import R packages**\n"
   ]
  },
  {
   "cell_type": "code",
   "execution_count": 131,
   "metadata": {
    "colab": {
     "base_uri": "https://localhost:8080/"
    },
    "id": "KVTb4xZuiP-o",
    "outputId": "a6f1ac13-6427-441c-a3a9-113eced6c156"
   },
   "outputs": [
    {
     "name": "stderr",
     "output_type": "stream",
     "text": [
      "Installing package into ‘/home/tmh331/R/x86_64-pc-linux-gnu-library/4.2’\n",
      "(as ‘lib’ is unspecified)\n",
      "\n",
      "Installing package into ‘/home/tmh331/R/x86_64-pc-linux-gnu-library/4.2’\n",
      "(as ‘lib’ is unspecified)\n",
      "\n",
      "Installing package into ‘/home/tmh331/R/x86_64-pc-linux-gnu-library/4.2’\n",
      "(as ‘lib’ is unspecified)\n",
      "\n",
      "Installing package into ‘/home/tmh331/R/x86_64-pc-linux-gnu-library/4.2’\n",
      "(as ‘lib’ is unspecified)\n",
      "\n",
      "Installing package into ‘/home/tmh331/R/x86_64-pc-linux-gnu-library/4.2’\n",
      "(as ‘lib’ is unspecified)\n",
      "\n"
     ]
    }
   ],
   "source": [
    "install.packages(\"ggsci\")\n",
    "install.packages(\"matrixStats\")\n",
    "install.packages(\"ggrepel\")\n",
    "install.packages(\"tidyverse\")\n",
    "install.packages(\"broom\")"
   ]
  },
  {
   "cell_type": "code",
   "execution_count": 132,
   "metadata": {
    "id": "11eDXxd89OPT"
   },
   "outputs": [],
   "source": [
    "suppressPackageStartupMessages({\n",
    "library(tidyverse)\n",
    "library(ggsci)\n",
    "library(matrixStats)\n",
    "library(ggrepel)\n",
    "library(broom)\n",
    "})"
   ]
  },
  {
   "cell_type": "markdown",
   "metadata": {
    "id": "lPU6xQkdDFJ9"
   },
   "source": [
    "##**Import metabolite feature table and meta data**"
   ]
  },
  {
   "cell_type": "code",
   "execution_count": 99,
   "metadata": {
    "id": "9XZuOw1snyvf"
   },
   "outputs": [],
   "source": [
    "## feature table\n",
    "ft_url <- 'https://raw.githubusercontent.com/Functional-Metabolomics-Lab/Metabolomics_SummerSchool_2022/main/data/dom/processed/Imputed_QuantTable_filled_with_1267_CutOff_Used_0.3.csv'\n",
    "## metadata\n",
    "md_url <- 'https://raw.githubusercontent.com/Functional-Metabolomics-Lab/Metabolomics_SummerSchool_2022/main/data/dom/metadata_lab15.txt'"
   ]
  },
  {
   "cell_type": "code",
   "execution_count": 100,
   "metadata": {
    "id": "cDDoiaOOn3Dl"
   },
   "outputs": [],
   "source": [
    "ft <- read.csv(ft_url, header = T, check.names = F, row.names = 1)\n",
    "md <- read.csv(md_url, header = T, check.names = F, sep = '\\t')"
   ]
  },
  {
   "cell_type": "code",
   "execution_count": 101,
   "metadata": {
    "colab": {
     "base_uri": "https://localhost:8080/",
     "height": 0
    },
    "id": "VoOn0zxsn5A2",
    "outputId": "8a48f2b6-5c00-4703-9f23-18f4792e0704"
   },
   "outputs": [
    {
     "data": {
      "text/html": [
       "<style>\n",
       ".list-inline {list-style: none; margin:0; padding: 0}\n",
       ".list-inline>li {display: inline-block}\n",
       ".list-inline>li:not(:last-child)::after {content: \"\\00b7\"; padding: 0 .5ex}\n",
       "</style>\n",
       "<ol class=list-inline><li>2395</li><li>12</li></ol>\n"
      ],
      "text/latex": [
       "\\begin{enumerate*}\n",
       "\\item 2395\n",
       "\\item 12\n",
       "\\end{enumerate*}\n"
      ],
      "text/markdown": [
       "1. 2395\n",
       "2. 12\n",
       "\n",
       "\n"
      ],
      "text/plain": [
       "[1] 2395   12"
      ]
     },
     "metadata": {},
     "output_type": "display_data"
    },
    {
     "data": {
      "text/html": [
       "<style>\n",
       ".list-inline {list-style: none; margin:0; padding: 0}\n",
       ".list-inline>li {display: inline-block}\n",
       ".list-inline>li:not(:last-child)::after {content: \"\\00b7\"; padding: 0 .5ex}\n",
       "</style>\n",
       "<ol class=list-inline><li>13</li><li>4</li></ol>\n"
      ],
      "text/latex": [
       "\\begin{enumerate*}\n",
       "\\item 13\n",
       "\\item 4\n",
       "\\end{enumerate*}\n"
      ],
      "text/markdown": [
       "1. 13\n",
       "2. 4\n",
       "\n",
       "\n"
      ],
      "text/plain": [
       "[1] 13  4"
      ]
     },
     "metadata": {},
     "output_type": "display_data"
    }
   ],
   "source": [
    "dim(ft)\n",
    "dim(md)"
   ]
  },
  {
   "cell_type": "code",
   "execution_count": 102,
   "metadata": {
    "colab": {
     "base_uri": "https://localhost:8080/",
     "height": 0
    },
    "id": "0BHq6jJUn7R9",
    "outputId": "de91ea27-510e-4c88-cd34-b0cb35030037"
   },
   "outputs": [
    {
     "data": {
      "text/html": [
       "<table class=\"dataframe\">\n",
       "<caption>A data.frame: 2 × 12</caption>\n",
       "<thead>\n",
       "\t<tr><th></th><th scope=col>DOM_Interlab-LCMS_Lab15_A15M_Pos_MS2_rep1.mzML</th><th scope=col>DOM_Interlab-LCMS_Lab15_A15M_Pos_MS2_rep2.mzML</th><th scope=col>DOM_Interlab-LCMS_Lab15_A15M_Pos_MS2_rep3.mzML</th><th scope=col>DOM_Interlab-LCMS_Lab15_A45M_Pos_MS2_rep1.mzML</th><th scope=col>DOM_Interlab-LCMS_Lab15_A45M_Pos_MS2_rep2.mzML</th><th scope=col>DOM_Interlab-LCMS_Lab15_A45M_Pos_MS2_rep3.mzML</th><th scope=col>DOM_Interlab-LCMS_Lab15_A5M_Pos_MS2_rep1.mzML</th><th scope=col>DOM_Interlab-LCMS_Lab15_A5M_Pos_MS2_rep2.mzML</th><th scope=col>DOM_Interlab-LCMS_Lab15_A5M_Pos_MS2_rep3.mzML</th><th scope=col>DOM_Interlab-LCMS_Lab15_M_Pos_MS2_rep1.mzML</th><th scope=col>DOM_Interlab-LCMS_Lab15_M_Pos_MS2_rep2.mzML</th><th scope=col>DOM_Interlab-LCMS_Lab15_M_Pos_MS2_rep3.mzML</th></tr>\n",
       "\t<tr><th></th><th scope=col>&lt;dbl&gt;</th><th scope=col>&lt;dbl&gt;</th><th scope=col>&lt;dbl&gt;</th><th scope=col>&lt;dbl&gt;</th><th scope=col>&lt;dbl&gt;</th><th scope=col>&lt;dbl&gt;</th><th scope=col>&lt;dbl&gt;</th><th scope=col>&lt;dbl&gt;</th><th scope=col>&lt;dbl&gt;</th><th scope=col>&lt;dbl&gt;</th><th scope=col>&lt;dbl&gt;</th><th scope=col>&lt;dbl&gt;</th></tr>\n",
       "</thead>\n",
       "<tbody>\n",
       "\t<tr><th scope=row>3488_151.112_9.684</th><td> 92659.64</td><td>107936.6</td><td> 90535.35</td><td> 84885.34</td><td> 95607.41</td><td> 92654.02</td><td> 88818.61</td><td> 91449.84</td><td> 72474.91</td><td> 72892.23</td><td> 86713.87</td><td>123999.6</td></tr>\n",
       "\t<tr><th scope=row>3026_153.091_8.525</th><td>226318.05</td><td>234986.2</td><td>238839.39</td><td>139233.22</td><td>145115.98</td><td>171750.98</td><td>194286.90</td><td>189326.75</td><td>215591.77</td><td>201655.44</td><td>221566.31</td><td>235400.4</td></tr>\n",
       "</tbody>\n",
       "</table>\n"
      ],
      "text/latex": [
       "A data.frame: 2 × 12\n",
       "\\begin{tabular}{r|llllllllllll}\n",
       "  & DOM\\_Interlab-LCMS\\_Lab15\\_A15M\\_Pos\\_MS2\\_rep1.mzML & DOM\\_Interlab-LCMS\\_Lab15\\_A15M\\_Pos\\_MS2\\_rep2.mzML & DOM\\_Interlab-LCMS\\_Lab15\\_A15M\\_Pos\\_MS2\\_rep3.mzML & DOM\\_Interlab-LCMS\\_Lab15\\_A45M\\_Pos\\_MS2\\_rep1.mzML & DOM\\_Interlab-LCMS\\_Lab15\\_A45M\\_Pos\\_MS2\\_rep2.mzML & DOM\\_Interlab-LCMS\\_Lab15\\_A45M\\_Pos\\_MS2\\_rep3.mzML & DOM\\_Interlab-LCMS\\_Lab15\\_A5M\\_Pos\\_MS2\\_rep1.mzML & DOM\\_Interlab-LCMS\\_Lab15\\_A5M\\_Pos\\_MS2\\_rep2.mzML & DOM\\_Interlab-LCMS\\_Lab15\\_A5M\\_Pos\\_MS2\\_rep3.mzML & DOM\\_Interlab-LCMS\\_Lab15\\_M\\_Pos\\_MS2\\_rep1.mzML & DOM\\_Interlab-LCMS\\_Lab15\\_M\\_Pos\\_MS2\\_rep2.mzML & DOM\\_Interlab-LCMS\\_Lab15\\_M\\_Pos\\_MS2\\_rep3.mzML\\\\\n",
       "  & <dbl> & <dbl> & <dbl> & <dbl> & <dbl> & <dbl> & <dbl> & <dbl> & <dbl> & <dbl> & <dbl> & <dbl>\\\\\n",
       "\\hline\n",
       "\t3488\\_151.112\\_9.684 &  92659.64 & 107936.6 &  90535.35 &  84885.34 &  95607.41 &  92654.02 &  88818.61 &  91449.84 &  72474.91 &  72892.23 &  86713.87 & 123999.6\\\\\n",
       "\t3026\\_153.091\\_8.525 & 226318.05 & 234986.2 & 238839.39 & 139233.22 & 145115.98 & 171750.98 & 194286.90 & 189326.75 & 215591.77 & 201655.44 & 221566.31 & 235400.4\\\\\n",
       "\\end{tabular}\n"
      ],
      "text/markdown": [
       "\n",
       "A data.frame: 2 × 12\n",
       "\n",
       "| <!--/--> | DOM_Interlab-LCMS_Lab15_A15M_Pos_MS2_rep1.mzML &lt;dbl&gt; | DOM_Interlab-LCMS_Lab15_A15M_Pos_MS2_rep2.mzML &lt;dbl&gt; | DOM_Interlab-LCMS_Lab15_A15M_Pos_MS2_rep3.mzML &lt;dbl&gt; | DOM_Interlab-LCMS_Lab15_A45M_Pos_MS2_rep1.mzML &lt;dbl&gt; | DOM_Interlab-LCMS_Lab15_A45M_Pos_MS2_rep2.mzML &lt;dbl&gt; | DOM_Interlab-LCMS_Lab15_A45M_Pos_MS2_rep3.mzML &lt;dbl&gt; | DOM_Interlab-LCMS_Lab15_A5M_Pos_MS2_rep1.mzML &lt;dbl&gt; | DOM_Interlab-LCMS_Lab15_A5M_Pos_MS2_rep2.mzML &lt;dbl&gt; | DOM_Interlab-LCMS_Lab15_A5M_Pos_MS2_rep3.mzML &lt;dbl&gt; | DOM_Interlab-LCMS_Lab15_M_Pos_MS2_rep1.mzML &lt;dbl&gt; | DOM_Interlab-LCMS_Lab15_M_Pos_MS2_rep2.mzML &lt;dbl&gt; | DOM_Interlab-LCMS_Lab15_M_Pos_MS2_rep3.mzML &lt;dbl&gt; |\n",
       "|---|---|---|---|---|---|---|---|---|---|---|---|---|\n",
       "| 3488_151.112_9.684 |  92659.64 | 107936.6 |  90535.35 |  84885.34 |  95607.41 |  92654.02 |  88818.61 |  91449.84 |  72474.91 |  72892.23 |  86713.87 | 123999.6 |\n",
       "| 3026_153.091_8.525 | 226318.05 | 234986.2 | 238839.39 | 139233.22 | 145115.98 | 171750.98 | 194286.90 | 189326.75 | 215591.77 | 201655.44 | 221566.31 | 235400.4 |\n",
       "\n"
      ],
      "text/plain": [
       "                   DOM_Interlab-LCMS_Lab15_A15M_Pos_MS2_rep1.mzML\n",
       "3488_151.112_9.684  92659.64                                     \n",
       "3026_153.091_8.525 226318.05                                     \n",
       "                   DOM_Interlab-LCMS_Lab15_A15M_Pos_MS2_rep2.mzML\n",
       "3488_151.112_9.684 107936.6                                      \n",
       "3026_153.091_8.525 234986.2                                      \n",
       "                   DOM_Interlab-LCMS_Lab15_A15M_Pos_MS2_rep3.mzML\n",
       "3488_151.112_9.684  90535.35                                     \n",
       "3026_153.091_8.525 238839.39                                     \n",
       "                   DOM_Interlab-LCMS_Lab15_A45M_Pos_MS2_rep1.mzML\n",
       "3488_151.112_9.684  84885.34                                     \n",
       "3026_153.091_8.525 139233.22                                     \n",
       "                   DOM_Interlab-LCMS_Lab15_A45M_Pos_MS2_rep2.mzML\n",
       "3488_151.112_9.684  95607.41                                     \n",
       "3026_153.091_8.525 145115.98                                     \n",
       "                   DOM_Interlab-LCMS_Lab15_A45M_Pos_MS2_rep3.mzML\n",
       "3488_151.112_9.684  92654.02                                     \n",
       "3026_153.091_8.525 171750.98                                     \n",
       "                   DOM_Interlab-LCMS_Lab15_A5M_Pos_MS2_rep1.mzML\n",
       "3488_151.112_9.684  88818.61                                    \n",
       "3026_153.091_8.525 194286.90                                    \n",
       "                   DOM_Interlab-LCMS_Lab15_A5M_Pos_MS2_rep2.mzML\n",
       "3488_151.112_9.684  91449.84                                    \n",
       "3026_153.091_8.525 189326.75                                    \n",
       "                   DOM_Interlab-LCMS_Lab15_A5M_Pos_MS2_rep3.mzML\n",
       "3488_151.112_9.684  72474.91                                    \n",
       "3026_153.091_8.525 215591.77                                    \n",
       "                   DOM_Interlab-LCMS_Lab15_M_Pos_MS2_rep1.mzML\n",
       "3488_151.112_9.684  72892.23                                  \n",
       "3026_153.091_8.525 201655.44                                  \n",
       "                   DOM_Interlab-LCMS_Lab15_M_Pos_MS2_rep2.mzML\n",
       "3488_151.112_9.684  86713.87                                  \n",
       "3026_153.091_8.525 221566.31                                  \n",
       "                   DOM_Interlab-LCMS_Lab15_M_Pos_MS2_rep3.mzML\n",
       "3488_151.112_9.684 123999.6                                   \n",
       "3026_153.091_8.525 235400.4                                   "
      ]
     },
     "metadata": {},
     "output_type": "display_data"
    }
   ],
   "source": [
    "head(ft, n=2)"
   ]
  },
  {
   "cell_type": "code",
   "execution_count": 260,
   "metadata": {
    "colab": {
     "base_uri": "https://localhost:8080/",
     "height": 0
    },
    "id": "jG86bFPen-k8",
    "outputId": "82ebccdf-17f4-4c00-ba30-900f45f50d04"
   },
   "outputs": [
    {
     "data": {
      "text/html": [
       "<table class=\"dataframe\">\n",
       "<caption>A data.frame: 2 × 4</caption>\n",
       "<thead>\n",
       "\t<tr><th></th><th scope=col>filename</th><th scope=col>ATTRIBUTE_Sample</th><th scope=col>ATTRIBUTE_Sample_Type</th><th scope=col>ATTRIBUTE_Time-Point</th></tr>\n",
       "\t<tr><th></th><th scope=col>&lt;chr&gt;</th><th scope=col>&lt;chr&gt;</th><th scope=col>&lt;chr&gt;</th><th scope=col>&lt;int&gt;</th></tr>\n",
       "</thead>\n",
       "<tbody>\n",
       "\t<tr><th scope=row>DOM_Interlab-LCMS_Lab15_A15M_Pos_MS2_rep1.mzML</th><td>DOM_Interlab-LCMS_Lab15_A15M_Pos_MS2_rep1.mzML</td><td>A15M</td><td>Sample</td><td>15</td></tr>\n",
       "\t<tr><th scope=row>DOM_Interlab-LCMS_Lab15_A15M_Pos_MS2_rep2.mzML</th><td>DOM_Interlab-LCMS_Lab15_A15M_Pos_MS2_rep2.mzML</td><td>A15M</td><td>Sample</td><td>15</td></tr>\n",
       "</tbody>\n",
       "</table>\n"
      ],
      "text/latex": [
       "A data.frame: 2 × 4\n",
       "\\begin{tabular}{r|llll}\n",
       "  & filename & ATTRIBUTE\\_Sample & ATTRIBUTE\\_Sample\\_Type & ATTRIBUTE\\_Time-Point\\\\\n",
       "  & <chr> & <chr> & <chr> & <int>\\\\\n",
       "\\hline\n",
       "\tDOM\\_Interlab-LCMS\\_Lab15\\_A15M\\_Pos\\_MS2\\_rep1.mzML & DOM\\_Interlab-LCMS\\_Lab15\\_A15M\\_Pos\\_MS2\\_rep1.mzML & A15M & Sample & 15\\\\\n",
       "\tDOM\\_Interlab-LCMS\\_Lab15\\_A15M\\_Pos\\_MS2\\_rep2.mzML & DOM\\_Interlab-LCMS\\_Lab15\\_A15M\\_Pos\\_MS2\\_rep2.mzML & A15M & Sample & 15\\\\\n",
       "\\end{tabular}\n"
      ],
      "text/markdown": [
       "\n",
       "A data.frame: 2 × 4\n",
       "\n",
       "| <!--/--> | filename &lt;chr&gt; | ATTRIBUTE_Sample &lt;chr&gt; | ATTRIBUTE_Sample_Type &lt;chr&gt; | ATTRIBUTE_Time-Point &lt;int&gt; |\n",
       "|---|---|---|---|---|\n",
       "| DOM_Interlab-LCMS_Lab15_A15M_Pos_MS2_rep1.mzML | DOM_Interlab-LCMS_Lab15_A15M_Pos_MS2_rep1.mzML | A15M | Sample | 15 |\n",
       "| DOM_Interlab-LCMS_Lab15_A15M_Pos_MS2_rep2.mzML | DOM_Interlab-LCMS_Lab15_A15M_Pos_MS2_rep2.mzML | A15M | Sample | 15 |\n",
       "\n"
      ],
      "text/plain": [
       "                                               filename                                      \n",
       "DOM_Interlab-LCMS_Lab15_A15M_Pos_MS2_rep1.mzML DOM_Interlab-LCMS_Lab15_A15M_Pos_MS2_rep1.mzML\n",
       "DOM_Interlab-LCMS_Lab15_A15M_Pos_MS2_rep2.mzML DOM_Interlab-LCMS_Lab15_A15M_Pos_MS2_rep2.mzML\n",
       "                                               ATTRIBUTE_Sample\n",
       "DOM_Interlab-LCMS_Lab15_A15M_Pos_MS2_rep1.mzML A15M            \n",
       "DOM_Interlab-LCMS_Lab15_A15M_Pos_MS2_rep2.mzML A15M            \n",
       "                                               ATTRIBUTE_Sample_Type\n",
       "DOM_Interlab-LCMS_Lab15_A15M_Pos_MS2_rep1.mzML Sample               \n",
       "DOM_Interlab-LCMS_Lab15_A15M_Pos_MS2_rep2.mzML Sample               \n",
       "                                               ATTRIBUTE_Time-Point\n",
       "DOM_Interlab-LCMS_Lab15_A15M_Pos_MS2_rep1.mzML 15                  \n",
       "DOM_Interlab-LCMS_Lab15_A15M_Pos_MS2_rep2.mzML 15                  "
      ]
     },
     "metadata": {},
     "output_type": "display_data"
    }
   ],
   "source": [
    "head(md, n=2)"
   ]
  },
  {
   "cell_type": "code",
   "execution_count": 104,
   "metadata": {
    "id": "_QIBGJUAoQSX"
   },
   "outputs": [],
   "source": [
    "# name rows in metadata after filenames\n",
    "rownames(md) <- md$filename"
   ]
  },
  {
   "cell_type": "code",
   "execution_count": 105,
   "metadata": {
    "colab": {
     "base_uri": "https://localhost:8080/",
     "height": 0
    },
    "id": "DntBWbVYoRbA",
    "outputId": "6a602cd6-1f75-4402-912a-5cb988b9cd77"
   },
   "outputs": [
    {
     "data": {
      "text/plain": [
       "\n",
       "FALSE  TRUE \n",
       "    1    12 "
      ]
     },
     "metadata": {},
     "output_type": "display_data"
    }
   ],
   "source": [
    "# how many files in the metadata are also present in the feature table\n",
    "table(rownames(md) %in% colnames(ft))"
   ]
  },
  {
   "cell_type": "code",
   "execution_count": 106,
   "metadata": {
    "colab": {
     "base_uri": "https://localhost:8080/",
     "height": 0
    },
    "id": "ni-y1TiQoTCm",
    "outputId": "a05b0286-9044-4a1a-ca43-3dfa134461a1"
   },
   "outputs": [
    {
     "data": {
      "text/html": [
       "'DOM_Interlab-LCMS_Lab15_PPL_Pos_MS2.mzML'"
      ],
      "text/latex": [
       "'DOM\\_Interlab-LCMS\\_Lab15\\_PPL\\_Pos\\_MS2.mzML'"
      ],
      "text/markdown": [
       "'DOM_Interlab-LCMS_Lab15_PPL_Pos_MS2.mzML'"
      ],
      "text/plain": [
       "[1] \"DOM_Interlab-LCMS_Lab15_PPL_Pos_MS2.mzML\""
      ]
     },
     "metadata": {},
     "output_type": "display_data"
    }
   ],
   "source": [
    "# which file names in the metadata are not in the feature table?\n",
    "setdiff(rownames(md),colnames(ft))"
   ]
  },
  {
   "cell_type": "code",
   "execution_count": 107,
   "metadata": {
    "id": "Zjo7OrNaoUcu"
   },
   "outputs": [],
   "source": [
    "md <- md[rownames(md) %in% colnames(ft),]"
   ]
  },
  {
   "cell_type": "code",
   "execution_count": 108,
   "metadata": {
    "colab": {
     "base_uri": "https://localhost:8080/",
     "height": 0
    },
    "id": "5l5U81HCoYoP",
    "outputId": "4adf6675-3797-4c22-c58d-7dc029ffb601"
   },
   "outputs": [
    {
     "data": {
      "text/html": [
       "<style>\n",
       ".list-inline {list-style: none; margin:0; padding: 0}\n",
       ".list-inline>li {display: inline-block}\n",
       ".list-inline>li:not(:last-child)::after {content: \"\\00b7\"; padding: 0 .5ex}\n",
       "</style>\n",
       "<ol class=list-inline><li>12</li><li>4</li></ol>\n"
      ],
      "text/latex": [
       "\\begin{enumerate*}\n",
       "\\item 12\n",
       "\\item 4\n",
       "\\end{enumerate*}\n"
      ],
      "text/markdown": [
       "1. 12\n",
       "2. 4\n",
       "\n",
       "\n"
      ],
      "text/plain": [
       "[1] 12  4"
      ]
     },
     "metadata": {},
     "output_type": "display_data"
    }
   ],
   "source": [
    "dim(md)"
   ]
  },
  {
   "cell_type": "code",
   "execution_count": 109,
   "metadata": {
    "id": "z2G1pIwwoZKV"
   },
   "outputs": [],
   "source": [
    "# transpose ft\n",
    "ft <- t(ft)"
   ]
  },
  {
   "cell_type": "code",
   "execution_count": 110,
   "metadata": {
    "colab": {
     "base_uri": "https://localhost:8080/",
     "height": 0
    },
    "id": "XBSaPlrcobCM",
    "outputId": "2d258d2b-5902-4947-e5df-1e770dcdcfa8"
   },
   "outputs": [
    {
     "data": {
      "text/html": [
       "<style>\n",
       ".list-inline {list-style: none; margin:0; padding: 0}\n",
       ".list-inline>li {display: inline-block}\n",
       ".list-inline>li:not(:last-child)::after {content: \"\\00b7\"; padding: 0 .5ex}\n",
       "</style>\n",
       "<ol class=list-inline><li>12</li><li>2395</li></ol>\n"
      ],
      "text/latex": [
       "\\begin{enumerate*}\n",
       "\\item 12\n",
       "\\item 2395\n",
       "\\end{enumerate*}\n"
      ],
      "text/markdown": [
       "1. 12\n",
       "2. 2395\n",
       "\n",
       "\n"
      ],
      "text/plain": [
       "[1]   12 2395"
      ]
     },
     "metadata": {},
     "output_type": "display_data"
    }
   ],
   "source": [
    "dim(ft)"
   ]
  },
  {
   "cell_type": "code",
   "execution_count": 111,
   "metadata": {
    "colab": {
     "base_uri": "https://localhost:8080/",
     "height": 0
    },
    "id": "n310SHDeoyau",
    "outputId": "e6eca3c9-b859-4f94-9195-50ef220936a7"
   },
   "outputs": [
    {
     "data": {
      "text/html": [
       "TRUE"
      ],
      "text/latex": [
       "TRUE"
      ],
      "text/markdown": [
       "TRUE"
      ],
      "text/plain": [
       "[1] TRUE"
      ]
     },
     "metadata": {},
     "output_type": "display_data"
    },
    {
     "data": {
      "text/html": [
       "TRUE"
      ],
      "text/latex": [
       "TRUE"
      ],
      "text/markdown": [
       "TRUE"
      ],
      "text/plain": [
       "[1] TRUE"
      ]
     },
     "metadata": {},
     "output_type": "display_data"
    }
   ],
   "source": [
    "identical(rownames(ft),rownames(md))\n",
    "# put the rows in the feature table and metadata in the same order\n",
    "ft <- ft[match(rownames(md),rownames(ft)),]\n",
    "identical(rownames(ft),rownames(md))"
   ]
  },
  {
   "cell_type": "markdown",
   "metadata": {
    "id": "bIYX5ocQDitP"
   },
   "source": [
    "Too many missing values is problematic for statistical analyses. Here we calculate the proportion of missing values (coded as 1267) and display the proportions in a histogram"
   ]
  },
  {
   "cell_type": "code",
   "execution_count": 112,
   "metadata": {
    "id": "gnnkmdCg8_tE"
   },
   "outputs": [],
   "source": [
    "n_zeroes <- sapply(1:ncol(ft),function(n){sum(ft[,n]==1267)/15})"
   ]
  },
  {
   "cell_type": "code",
   "execution_count": 113,
   "metadata": {
    "colab": {
     "base_uri": "https://localhost:8080/",
     "height": 0
    },
    "id": "VvK8C4WSGi8w",
    "outputId": "65654eea-ca95-4d3a-c277-9cf3b88c509e"
   },
   "outputs": [
    {
     "data": {
      "image/png": "[encoded data removed]",
      "text/plain": [
       "Plot with title “Histogram of n_zeroes”"
      ]
     },
     "metadata": {
      "image/png": {
       "height": 420,
       "width": 420
      }
     },
     "output_type": "display_data"
    }
   ],
   "source": [
    "hist(n_zeroes)"
   ]
  },
  {
   "cell_type": "markdown",
   "metadata": {
    "id": "9Jzlm7yEEML4"
   },
   "source": [
    "Calculate the sparsity of the dataset (i.e how large proportion of the dataset that consist of missing values)"
   ]
  },
  {
   "cell_type": "code",
   "execution_count": 114,
   "metadata": {
    "colab": {
     "base_uri": "https://localhost:8080/",
     "height": 0
    },
    "id": "KgHiQdaHGr9w",
    "outputId": "999f1d68-1598-4bbd-e5ed-e0fc1dc6fa07"
   },
   "outputs": [
    {
     "data": {
      "text/html": [
       "0.0779053583855254"
      ],
      "text/latex": [
       "0.0779053583855254"
      ],
      "text/markdown": [
       "0.0779053583855254"
      ],
      "text/plain": [
       "[1] 0.07790536"
      ]
     },
     "metadata": {},
     "output_type": "display_data"
    }
   ],
   "source": [
    "sum(ft==1267)/(nrow(ft)*ncol(ft))"
   ]
  },
  {
   "cell_type": "markdown",
   "metadata": {
    "id": "NDkPJZeAEf96"
   },
   "source": [
    "Calculate how many metabolites have measurements (non 1267) in at least 50 % of the samples"
   ]
  },
  {
   "cell_type": "code",
   "execution_count": 115,
   "metadata": {
    "colab": {
     "base_uri": "https://localhost:8080/",
     "height": 0
    },
    "id": "qoOx6k-EbY3y",
    "outputId": "93a18045-c683-4b28-e732-0181ebe52673"
   },
   "outputs": [
    {
     "data": {
      "text/html": [
       "<style>\n",
       ".list-inline {list-style: none; margin:0; padding: 0}\n",
       ".list-inline>li {display: inline-block}\n",
       ".list-inline>li:not(:last-child)::after {content: \"\\00b7\"; padding: 0 .5ex}\n",
       "</style>\n",
       "<ol class=list-inline><li>12</li><li>2349</li></ol>\n"
      ],
      "text/latex": [
       "\\begin{enumerate*}\n",
       "\\item 12\n",
       "\\item 2349\n",
       "\\end{enumerate*}\n"
      ],
      "text/markdown": [
       "1. 12\n",
       "2. 2349\n",
       "\n",
       "\n"
      ],
      "text/plain": [
       "[1]   12 2349"
      ]
     },
     "metadata": {},
     "output_type": "display_data"
    }
   ],
   "source": [
    "dim(ft[,n_zeroes<0.5])"
   ]
  },
  {
   "cell_type": "markdown",
   "metadata": {
    "id": "-xMG6sAVExVj"
   },
   "source": [
    "Deselect metabolites with more than 50 % missing values. This helps to get rid of features that are present in too few samples to conduct proper statistical tests"
   ]
  },
  {
   "cell_type": "code",
   "execution_count": 116,
   "metadata": {
    "id": "ikbIN_v95IwA"
   },
   "outputs": [],
   "source": [
    "ft <- ft[,n_zeroes<0.5]"
   ]
  },
  {
   "cell_type": "markdown",
   "metadata": {
    "id": "oKFB2xx9o42W"
   },
   "source": [
    "Merge feature table and metadata to one dataframe"
   ]
  },
  {
   "cell_type": "code",
   "execution_count": 117,
   "metadata": {
    "id": "qzhC52Ryo2gy"
   },
   "outputs": [],
   "source": [
    "Data <- cbind.data.frame(md,ft)"
   ]
  },
  {
   "cell_type": "code",
   "execution_count": 118,
   "metadata": {
    "colab": {
     "base_uri": "https://localhost:8080/",
     "height": 0
    },
    "id": "oFjeHcBrrQKq",
    "outputId": "d3707ae4-ad71-4fce-a6a0-720afef979ac"
   },
   "outputs": [
    {
     "data": {
      "text/html": [
       "<style>\n",
       ".list-inline {list-style: none; margin:0; padding: 0}\n",
       ".list-inline>li {display: inline-block}\n",
       ".list-inline>li:not(:last-child)::after {content: \"\\00b7\"; padding: 0 .5ex}\n",
       "</style>\n",
       "<ol class=list-inline><li>12</li><li>2353</li></ol>\n"
      ],
      "text/latex": [
       "\\begin{enumerate*}\n",
       "\\item 12\n",
       "\\item 2353\n",
       "\\end{enumerate*}\n"
      ],
      "text/markdown": [
       "1. 12\n",
       "2. 2353\n",
       "\n",
       "\n"
      ],
      "text/plain": [
       "[1]   12 2353"
      ]
     },
     "metadata": {},
     "output_type": "display_data"
    }
   ],
   "source": [
    "dim(Data)"
   ]
  },
  {
   "cell_type": "markdown",
   "metadata": {
    "id": "9ev5r8pNzCl5"
   },
   "source": [
    "## **Statistical Analysis**"
   ]
  },
  {
   "cell_type": "markdown",
   "metadata": {
    "id": "uG8y3gWGGs2H"
   },
   "source": [
    "**Run ANOVA**\n",
    "\n",
    "We now use the function [aov](https://www.rdocumentation.org/packages/stats/versions/3.6.2/topics/aov) to run the ANOVA. Since one ANOVA is being run for each metabolite feature, we run the analyses in a loop and save the output for each feature in a list called *anova_out*.\n",
    "\n",
    "The vector *a* indicates which columns in the dataset are features (i.e. from column 5 to the last column of the data frame).\n",
    "\n",
    "We can run a *for loop* to pass each feature column into the first argument of the *aov* function, while the second argument, *time point*, is constant."
   ]
  },
  {
   "cell_type": "code",
   "execution_count": 174,
   "metadata": {
    "id": "bcOtz1jNcczS"
   },
   "outputs": [],
   "source": [
    "anova_out=NULL\n",
    "a <- 5:ncol(Data)\n",
    "for (i in 1:length(a)){\n",
    "  anova_out[[i]] <- aov(scale(Data[,a[i]])~as.factor(Data$'ATTRIBUTE_Time-Point'))\n",
    "}"
   ]
  },
  {
   "cell_type": "markdown",
   "metadata": {
    "id": "NJET9YCpJJJd"
   },
   "source": [
    "Visualize the first entry in the list - corresponding to the first feature in the table. Is there a statistically significant difference between the time points?"
   ]
  },
  {
   "cell_type": "code",
   "execution_count": 136,
   "metadata": {
    "colab": {
     "base_uri": "https://localhost:8080/",
     "height": 69
    },
    "id": "7yfQCdL2JNXw",
    "outputId": "3242f70f-e6c8-46b6-873c-d96397cf28f4"
   },
   "outputs": [
    {
     "data": {
      "text/plain": [
       "                                       Df Sum Sq Mean Sq F value Pr(>F)\n",
       "as.factor(Data$\"ATTRIBUTE_Time-Point\")  3  1.435  0.4783     0.4  0.757\n",
       "Residuals                               8  9.565  1.1956               "
      ]
     },
     "metadata": {},
     "output_type": "display_data"
    }
   ],
   "source": [
    "summary(anova_out[[1]])"
   ]
  },
  {
   "cell_type": "markdown",
   "metadata": {
    "id": "--B1gU-1h3AU"
   },
   "source": [
    "**Extract p- and F-values from anova output list**\n",
    "\n",
    "Lists of ANOVA results are not convenient when summarizing our findings. We extract the desired data from the list and summarize this in a dataframe called *output_anova*\n",
    "\n",
    "The following is of interest:\n",
    "\n",
    "*Feature ID*\n",
    "\n",
    "*p-value* for ANOVA\n",
    "\n",
    "*p-value* after taking multiple tests into consideration\n",
    "\n",
    "*F-value*"
   ]
  },
  {
   "cell_type": "code",
   "execution_count": 175,
   "metadata": {
    "id": "RoOmuRh_hR5T"
   },
   "outputs": [],
   "source": [
    "output_anova <- data.frame(colnames(Data[5:ncol(Data)]))\n",
    "colnames(output_anova)[1] <- \"Metabolites\"\n",
    "output_anova[\"p\"] <- sapply(1:length(a),function(n){summary(anova_out[[n]])[[1]][1,5]})\n",
    "output_anova[\"p_bonferroni\"] <- p.adjust(output_anova$p,method=\"bonferroni\")\n",
    "output_anova[\"significant\"] <- ifelse(output_anova$p_bonferroni<0.05,\"Significant\",\"Nonsignificant\")\n",
    "output_anova[\"F\"] <- sapply(1:length(a),function(n){summary(anova_out[[n]])[[1]][1,4]})"
   ]
  },
  {
   "cell_type": "markdown",
   "metadata": {
    "id": "nsvTbysNl6p9"
   },
   "source": [
    "Now we have created a dataframe with desired results from the ANOVA. We can sort the results after the p value, using [arrange](https://dplyr.tidyverse.org/reference/arrange.html), and select the top N rows using [slice_head](https://dplyr.tidyverse.org/reference/slice.html). These can be run as a sequence of operations using *pipes* (%>%). Are there any significant findings?"
   ]
  },
  {
   "cell_type": "code",
   "execution_count": 138,
   "metadata": {
    "colab": {
     "base_uri": "https://localhost:8080/",
     "height": 725
    },
    "id": "LnJ7VgEejcLg",
    "outputId": "abcc5ce0-1ca7-4a8e-f442-5051a0025b4a"
   },
   "outputs": [
    {
     "data": {
      "text/html": [
       "<table class=\"dataframe\">\n",
       "<caption>A data.frame: 20 × 5</caption>\n",
       "<thead>\n",
       "\t<tr><th scope=col>Metabolites</th><th scope=col>p</th><th scope=col>p_bonferroni</th><th scope=col>significant</th><th scope=col>F</th></tr>\n",
       "\t<tr><th scope=col>&lt;chr&gt;</th><th scope=col>&lt;dbl&gt;</th><th scope=col>&lt;dbl&gt;</th><th scope=col>&lt;chr&gt;</th><th scope=col>&lt;dbl&gt;</th></tr>\n",
       "</thead>\n",
       "<tbody>\n",
       "\t<tr><td>4413_492.353_11.345</td><td>4.794067e-17</td><td>1.126126e-13</td><td>Significant</td><td>40136.187</td></tr>\n",
       "\t<tr><td>4364_434.294_11.262</td><td>1.324286e-15</td><td>3.110747e-12</td><td>Significant</td><td>17505.547</td></tr>\n",
       "\t<tr><td>2090_260.186_7.042 </td><td>2.645506e-15</td><td>6.214294e-12</td><td>Significant</td><td>14724.148</td></tr>\n",
       "\t<tr><td>4131_497.159_10.949</td><td>1.090293e-14</td><td>2.561098e-11</td><td>Significant</td><td>10333.199</td></tr>\n",
       "\t<tr><td>5098_277.216_12.219</td><td>1.141232e-14</td><td>2.680755e-11</td><td>Significant</td><td>10215.877</td></tr>\n",
       "\t<tr><td>1304_224.151_6.196 </td><td>1.153093e-14</td><td>2.708615e-11</td><td>Significant</td><td>10189.499</td></tr>\n",
       "\t<tr><td>361_290.124_3.607  </td><td>1.162673e-14</td><td>2.731120e-11</td><td>Significant</td><td>10168.436</td></tr>\n",
       "\t<tr><td>5711_391.287_12.789</td><td>2.451517e-14</td><td>5.758614e-11</td><td>Significant</td><td> 8437.897</td></tr>\n",
       "\t<tr><td>348_273.145_3.244  </td><td>2.925455e-14</td><td>6.871893e-11</td><td>Significant</td><td> 8073.052</td></tr>\n",
       "\t<tr><td>2038_276.134_7     </td><td>3.218997e-14</td><td>7.561424e-11</td><td>Significant</td><td> 7882.285</td></tr>\n",
       "\t<tr><td>319_338.181_2.132  </td><td>3.554413e-14</td><td>8.349316e-11</td><td>Significant</td><td> 7689.290</td></tr>\n",
       "\t<tr><td>354_515.185_3.426  </td><td>4.725521e-14</td><td>1.110025e-10</td><td>Significant</td><td> 7160.669</td></tr>\n",
       "\t<tr><td>4238_532.348_11.094</td><td>5.497287e-14</td><td>1.291313e-10</td><td>Significant</td><td> 6894.806</td></tr>\n",
       "\t<tr><td>5877_358.295_12.931</td><td>7.813823e-14</td><td>1.835467e-10</td><td>Significant</td><td> 6314.315</td></tr>\n",
       "\t<tr><td>5508_307.227_12.587</td><td>9.456910e-14</td><td>2.221428e-10</td><td>Significant</td><td> 6019.979</td></tr>\n",
       "\t<tr><td>4098_478.338_10.89 </td><td>1.084903e-13</td><td>2.548436e-10</td><td>Significant</td><td> 5816.708</td></tr>\n",
       "\t<tr><td>5218_319.191_12.346</td><td>1.244622e-13</td><td>2.923618e-10</td><td>Significant</td><td> 5620.279</td></tr>\n",
       "\t<tr><td>4552_369.275_11.559</td><td>1.274585e-13</td><td>2.994000e-10</td><td>Significant</td><td> 5586.936</td></tr>\n",
       "\t<tr><td>4478_381.262_11.446</td><td>1.334784e-13</td><td>3.135409e-10</td><td>Significant</td><td> 5522.815</td></tr>\n",
       "\t<tr><td>3381_360.275_9.43  </td><td>1.990232e-13</td><td>4.675055e-10</td><td>Significant</td><td> 4997.619</td></tr>\n",
       "</tbody>\n",
       "</table>\n"
      ],
      "text/latex": [
       "A data.frame: 20 × 5\n",
       "\\begin{tabular}{lllll}\n",
       " Metabolites & p & p\\_bonferroni & significant & F\\\\\n",
       " <chr> & <dbl> & <dbl> & <chr> & <dbl>\\\\\n",
       "\\hline\n",
       "\t 4413\\_492.353\\_11.345 & 4.794067e-17 & 1.126126e-13 & Significant & 40136.187\\\\\n",
       "\t 4364\\_434.294\\_11.262 & 1.324286e-15 & 3.110747e-12 & Significant & 17505.547\\\\\n",
       "\t 2090\\_260.186\\_7.042  & 2.645506e-15 & 6.214294e-12 & Significant & 14724.148\\\\\n",
       "\t 4131\\_497.159\\_10.949 & 1.090293e-14 & 2.561098e-11 & Significant & 10333.199\\\\\n",
       "\t 5098\\_277.216\\_12.219 & 1.141232e-14 & 2.680755e-11 & Significant & 10215.877\\\\\n",
       "\t 1304\\_224.151\\_6.196  & 1.153093e-14 & 2.708615e-11 & Significant & 10189.499\\\\\n",
       "\t 361\\_290.124\\_3.607   & 1.162673e-14 & 2.731120e-11 & Significant & 10168.436\\\\\n",
       "\t 5711\\_391.287\\_12.789 & 2.451517e-14 & 5.758614e-11 & Significant &  8437.897\\\\\n",
       "\t 348\\_273.145\\_3.244   & 2.925455e-14 & 6.871893e-11 & Significant &  8073.052\\\\\n",
       "\t 2038\\_276.134\\_7      & 3.218997e-14 & 7.561424e-11 & Significant &  7882.285\\\\\n",
       "\t 319\\_338.181\\_2.132   & 3.554413e-14 & 8.349316e-11 & Significant &  7689.290\\\\\n",
       "\t 354\\_515.185\\_3.426   & 4.725521e-14 & 1.110025e-10 & Significant &  7160.669\\\\\n",
       "\t 4238\\_532.348\\_11.094 & 5.497287e-14 & 1.291313e-10 & Significant &  6894.806\\\\\n",
       "\t 5877\\_358.295\\_12.931 & 7.813823e-14 & 1.835467e-10 & Significant &  6314.315\\\\\n",
       "\t 5508\\_307.227\\_12.587 & 9.456910e-14 & 2.221428e-10 & Significant &  6019.979\\\\\n",
       "\t 4098\\_478.338\\_10.89  & 1.084903e-13 & 2.548436e-10 & Significant &  5816.708\\\\\n",
       "\t 5218\\_319.191\\_12.346 & 1.244622e-13 & 2.923618e-10 & Significant &  5620.279\\\\\n",
       "\t 4552\\_369.275\\_11.559 & 1.274585e-13 & 2.994000e-10 & Significant &  5586.936\\\\\n",
       "\t 4478\\_381.262\\_11.446 & 1.334784e-13 & 3.135409e-10 & Significant &  5522.815\\\\\n",
       "\t 3381\\_360.275\\_9.43   & 1.990232e-13 & 4.675055e-10 & Significant &  4997.619\\\\\n",
       "\\end{tabular}\n"
      ],
      "text/markdown": [
       "\n",
       "A data.frame: 20 × 5\n",
       "\n",
       "| Metabolites &lt;chr&gt; | p &lt;dbl&gt; | p_bonferroni &lt;dbl&gt; | significant &lt;chr&gt; | F &lt;dbl&gt; |\n",
       "|---|---|---|---|---|\n",
       "| 4413_492.353_11.345 | 4.794067e-17 | 1.126126e-13 | Significant | 40136.187 |\n",
       "| 4364_434.294_11.262 | 1.324286e-15 | 3.110747e-12 | Significant | 17505.547 |\n",
       "| 2090_260.186_7.042  | 2.645506e-15 | 6.214294e-12 | Significant | 14724.148 |\n",
       "| 4131_497.159_10.949 | 1.090293e-14 | 2.561098e-11 | Significant | 10333.199 |\n",
       "| 5098_277.216_12.219 | 1.141232e-14 | 2.680755e-11 | Significant | 10215.877 |\n",
       "| 1304_224.151_6.196  | 1.153093e-14 | 2.708615e-11 | Significant | 10189.499 |\n",
       "| 361_290.124_3.607   | 1.162673e-14 | 2.731120e-11 | Significant | 10168.436 |\n",
       "| 5711_391.287_12.789 | 2.451517e-14 | 5.758614e-11 | Significant |  8437.897 |\n",
       "| 348_273.145_3.244   | 2.925455e-14 | 6.871893e-11 | Significant |  8073.052 |\n",
       "| 2038_276.134_7      | 3.218997e-14 | 7.561424e-11 | Significant |  7882.285 |\n",
       "| 319_338.181_2.132   | 3.554413e-14 | 8.349316e-11 | Significant |  7689.290 |\n",
       "| 354_515.185_3.426   | 4.725521e-14 | 1.110025e-10 | Significant |  7160.669 |\n",
       "| 4238_532.348_11.094 | 5.497287e-14 | 1.291313e-10 | Significant |  6894.806 |\n",
       "| 5877_358.295_12.931 | 7.813823e-14 | 1.835467e-10 | Significant |  6314.315 |\n",
       "| 5508_307.227_12.587 | 9.456910e-14 | 2.221428e-10 | Significant |  6019.979 |\n",
       "| 4098_478.338_10.89  | 1.084903e-13 | 2.548436e-10 | Significant |  5816.708 |\n",
       "| 5218_319.191_12.346 | 1.244622e-13 | 2.923618e-10 | Significant |  5620.279 |\n",
       "| 4552_369.275_11.559 | 1.274585e-13 | 2.994000e-10 | Significant |  5586.936 |\n",
       "| 4478_381.262_11.446 | 1.334784e-13 | 3.135409e-10 | Significant |  5522.815 |\n",
       "| 3381_360.275_9.43   | 1.990232e-13 | 4.675055e-10 | Significant |  4997.619 |\n",
       "\n"
      ],
      "text/plain": [
       "   Metabolites         p            p_bonferroni significant F        \n",
       "1  4413_492.353_11.345 4.794067e-17 1.126126e-13 Significant 40136.187\n",
       "2  4364_434.294_11.262 1.324286e-15 3.110747e-12 Significant 17505.547\n",
       "3  2090_260.186_7.042  2.645506e-15 6.214294e-12 Significant 14724.148\n",
       "4  4131_497.159_10.949 1.090293e-14 2.561098e-11 Significant 10333.199\n",
       "5  5098_277.216_12.219 1.141232e-14 2.680755e-11 Significant 10215.877\n",
       "6  1304_224.151_6.196  1.153093e-14 2.708615e-11 Significant 10189.499\n",
       "7  361_290.124_3.607   1.162673e-14 2.731120e-11 Significant 10168.436\n",
       "8  5711_391.287_12.789 2.451517e-14 5.758614e-11 Significant  8437.897\n",
       "9  348_273.145_3.244   2.925455e-14 6.871893e-11 Significant  8073.052\n",
       "10 2038_276.134_7      3.218997e-14 7.561424e-11 Significant  7882.285\n",
       "11 319_338.181_2.132   3.554413e-14 8.349316e-11 Significant  7689.290\n",
       "12 354_515.185_3.426   4.725521e-14 1.110025e-10 Significant  7160.669\n",
       "13 4238_532.348_11.094 5.497287e-14 1.291313e-10 Significant  6894.806\n",
       "14 5877_358.295_12.931 7.813823e-14 1.835467e-10 Significant  6314.315\n",
       "15 5508_307.227_12.587 9.456910e-14 2.221428e-10 Significant  6019.979\n",
       "16 4098_478.338_10.89  1.084903e-13 2.548436e-10 Significant  5816.708\n",
       "17 5218_319.191_12.346 1.244622e-13 2.923618e-10 Significant  5620.279\n",
       "18 4552_369.275_11.559 1.274585e-13 2.994000e-10 Significant  5586.936\n",
       "19 4478_381.262_11.446 1.334784e-13 3.135409e-10 Significant  5522.815\n",
       "20 3381_360.275_9.43   1.990232e-13 4.675055e-10 Significant  4997.619"
      ]
     },
     "metadata": {},
     "output_type": "display_data"
    }
   ],
   "source": [
    "output_anova %>% arrange (p) %>% slice_head(n=20)"
   ]
  },
  {
   "cell_type": "markdown",
   "metadata": {},
   "source": [
    "**Alternative workflow with tidy functions**"
   ]
  },
  {
   "cell_type": "code",
   "execution_count": 255,
   "metadata": {},
   "outputs": [],
   "source": [
    "anova_out2 <- Data %>% \n",
    "                rename(ATTRIBUTE_Time_Point = `ATTRIBUTE_Time-Point`) %>% \n",
    "                pivot_longer(cols = -c(filename, ATTRIBUTE_Sample, ATTRIBUTE_Sample_Type, ATTRIBUTE_Time_Point), names_to = \"Metabolites\", values_to = \"intensity\") %>% \n",
    "                mutate(ATTRIBUTE_Time_Point = as.factor(ATTRIBUTE_Time_Point)) %>% \n",
    "                group_by(Metabolites) %>% \n",
    "                group_nest() %>% \n",
    "                mutate(anova = map(data, ~ aov(scale(intensity) ~ ATTRIBUTE_Time_Point, data = ..1))) %>% \n",
    "                mutate(anova_tidy = map(anova, tidy))\n"
   ]
  },
  {
   "cell_type": "code",
   "execution_count": 256,
   "metadata": {},
   "outputs": [
    {
     "data": {
      "text/html": [
       "<table class=\"dataframe\">\n",
       "<caption>A tibble: 20 × 5</caption>\n",
       "<thead>\n",
       "\t<tr><th scope=col>Metabolites</th><th scope=col>p.value</th><th scope=col>p_bonferroni</th><th scope=col>significant</th><th scope=col>F</th></tr>\n",
       "\t<tr><th scope=col>&lt;chr&gt;</th><th scope=col>&lt;dbl&gt;</th><th scope=col>&lt;dbl&gt;</th><th scope=col>&lt;chr&gt;</th><th scope=col>&lt;dbl&gt;</th></tr>\n",
       "</thead>\n",
       "<tbody>\n",
       "\t<tr><td>4413_492.353_11.345</td><td>4.794067e-17</td><td>1.126126e-13</td><td>Significant</td><td>40136.187</td></tr>\n",
       "\t<tr><td>4364_434.294_11.262</td><td>1.324286e-15</td><td>3.110747e-12</td><td>Significant</td><td>17505.547</td></tr>\n",
       "\t<tr><td>2090_260.186_7.042 </td><td>2.645506e-15</td><td>6.214294e-12</td><td>Significant</td><td>14724.148</td></tr>\n",
       "\t<tr><td>4131_497.159_10.949</td><td>1.090293e-14</td><td>2.561098e-11</td><td>Significant</td><td>10333.199</td></tr>\n",
       "\t<tr><td>5098_277.216_12.219</td><td>1.141232e-14</td><td>2.680755e-11</td><td>Significant</td><td>10215.877</td></tr>\n",
       "\t<tr><td>1304_224.151_6.196 </td><td>1.153093e-14</td><td>2.708615e-11</td><td>Significant</td><td>10189.499</td></tr>\n",
       "\t<tr><td>361_290.124_3.607  </td><td>1.162673e-14</td><td>2.731120e-11</td><td>Significant</td><td>10168.436</td></tr>\n",
       "\t<tr><td>5711_391.287_12.789</td><td>2.451517e-14</td><td>5.758614e-11</td><td>Significant</td><td> 8437.897</td></tr>\n",
       "\t<tr><td>348_273.145_3.244  </td><td>2.925455e-14</td><td>6.871893e-11</td><td>Significant</td><td> 8073.052</td></tr>\n",
       "\t<tr><td>2038_276.134_7     </td><td>3.218997e-14</td><td>7.561424e-11</td><td>Significant</td><td> 7882.285</td></tr>\n",
       "\t<tr><td>319_338.181_2.132  </td><td>3.554413e-14</td><td>8.349316e-11</td><td>Significant</td><td> 7689.290</td></tr>\n",
       "\t<tr><td>354_515.185_3.426  </td><td>4.725521e-14</td><td>1.110025e-10</td><td>Significant</td><td> 7160.669</td></tr>\n",
       "\t<tr><td>4238_532.348_11.094</td><td>5.497287e-14</td><td>1.291313e-10</td><td>Significant</td><td> 6894.806</td></tr>\n",
       "\t<tr><td>5877_358.295_12.931</td><td>7.813823e-14</td><td>1.835467e-10</td><td>Significant</td><td> 6314.315</td></tr>\n",
       "\t<tr><td>5508_307.227_12.587</td><td>9.456910e-14</td><td>2.221428e-10</td><td>Significant</td><td> 6019.979</td></tr>\n",
       "\t<tr><td>4098_478.338_10.89 </td><td>1.084903e-13</td><td>2.548436e-10</td><td>Significant</td><td> 5816.708</td></tr>\n",
       "\t<tr><td>5218_319.191_12.346</td><td>1.244622e-13</td><td>2.923618e-10</td><td>Significant</td><td> 5620.279</td></tr>\n",
       "\t<tr><td>4552_369.275_11.559</td><td>1.274585e-13</td><td>2.994000e-10</td><td>Significant</td><td> 5586.936</td></tr>\n",
       "\t<tr><td>4478_381.262_11.446</td><td>1.334784e-13</td><td>3.135409e-10</td><td>Significant</td><td> 5522.815</td></tr>\n",
       "\t<tr><td>3381_360.275_9.43  </td><td>1.990232e-13</td><td>4.675055e-10</td><td>Significant</td><td> 4997.619</td></tr>\n",
       "</tbody>\n",
       "</table>\n"
      ],
      "text/latex": [
       "A tibble: 20 × 5\n",
       "\\begin{tabular}{lllll}\n",
       " Metabolites & p.value & p\\_bonferroni & significant & F\\\\\n",
       " <chr> & <dbl> & <dbl> & <chr> & <dbl>\\\\\n",
       "\\hline\n",
       "\t 4413\\_492.353\\_11.345 & 4.794067e-17 & 1.126126e-13 & Significant & 40136.187\\\\\n",
       "\t 4364\\_434.294\\_11.262 & 1.324286e-15 & 3.110747e-12 & Significant & 17505.547\\\\\n",
       "\t 2090\\_260.186\\_7.042  & 2.645506e-15 & 6.214294e-12 & Significant & 14724.148\\\\\n",
       "\t 4131\\_497.159\\_10.949 & 1.090293e-14 & 2.561098e-11 & Significant & 10333.199\\\\\n",
       "\t 5098\\_277.216\\_12.219 & 1.141232e-14 & 2.680755e-11 & Significant & 10215.877\\\\\n",
       "\t 1304\\_224.151\\_6.196  & 1.153093e-14 & 2.708615e-11 & Significant & 10189.499\\\\\n",
       "\t 361\\_290.124\\_3.607   & 1.162673e-14 & 2.731120e-11 & Significant & 10168.436\\\\\n",
       "\t 5711\\_391.287\\_12.789 & 2.451517e-14 & 5.758614e-11 & Significant &  8437.897\\\\\n",
       "\t 348\\_273.145\\_3.244   & 2.925455e-14 & 6.871893e-11 & Significant &  8073.052\\\\\n",
       "\t 2038\\_276.134\\_7      & 3.218997e-14 & 7.561424e-11 & Significant &  7882.285\\\\\n",
       "\t 319\\_338.181\\_2.132   & 3.554413e-14 & 8.349316e-11 & Significant &  7689.290\\\\\n",
       "\t 354\\_515.185\\_3.426   & 4.725521e-14 & 1.110025e-10 & Significant &  7160.669\\\\\n",
       "\t 4238\\_532.348\\_11.094 & 5.497287e-14 & 1.291313e-10 & Significant &  6894.806\\\\\n",
       "\t 5877\\_358.295\\_12.931 & 7.813823e-14 & 1.835467e-10 & Significant &  6314.315\\\\\n",
       "\t 5508\\_307.227\\_12.587 & 9.456910e-14 & 2.221428e-10 & Significant &  6019.979\\\\\n",
       "\t 4098\\_478.338\\_10.89  & 1.084903e-13 & 2.548436e-10 & Significant &  5816.708\\\\\n",
       "\t 5218\\_319.191\\_12.346 & 1.244622e-13 & 2.923618e-10 & Significant &  5620.279\\\\\n",
       "\t 4552\\_369.275\\_11.559 & 1.274585e-13 & 2.994000e-10 & Significant &  5586.936\\\\\n",
       "\t 4478\\_381.262\\_11.446 & 1.334784e-13 & 3.135409e-10 & Significant &  5522.815\\\\\n",
       "\t 3381\\_360.275\\_9.43   & 1.990232e-13 & 4.675055e-10 & Significant &  4997.619\\\\\n",
       "\\end{tabular}\n"
      ],
      "text/markdown": [
       "\n",
       "A tibble: 20 × 5\n",
       "\n",
       "| Metabolites &lt;chr&gt; | p.value &lt;dbl&gt; | p_bonferroni &lt;dbl&gt; | significant &lt;chr&gt; | F &lt;dbl&gt; |\n",
       "|---|---|---|---|---|\n",
       "| 4413_492.353_11.345 | 4.794067e-17 | 1.126126e-13 | Significant | 40136.187 |\n",
       "| 4364_434.294_11.262 | 1.324286e-15 | 3.110747e-12 | Significant | 17505.547 |\n",
       "| 2090_260.186_7.042  | 2.645506e-15 | 6.214294e-12 | Significant | 14724.148 |\n",
       "| 4131_497.159_10.949 | 1.090293e-14 | 2.561098e-11 | Significant | 10333.199 |\n",
       "| 5098_277.216_12.219 | 1.141232e-14 | 2.680755e-11 | Significant | 10215.877 |\n",
       "| 1304_224.151_6.196  | 1.153093e-14 | 2.708615e-11 | Significant | 10189.499 |\n",
       "| 361_290.124_3.607   | 1.162673e-14 | 2.731120e-11 | Significant | 10168.436 |\n",
       "| 5711_391.287_12.789 | 2.451517e-14 | 5.758614e-11 | Significant |  8437.897 |\n",
       "| 348_273.145_3.244   | 2.925455e-14 | 6.871893e-11 | Significant |  8073.052 |\n",
       "| 2038_276.134_7      | 3.218997e-14 | 7.561424e-11 | Significant |  7882.285 |\n",
       "| 319_338.181_2.132   | 3.554413e-14 | 8.349316e-11 | Significant |  7689.290 |\n",
       "| 354_515.185_3.426   | 4.725521e-14 | 1.110025e-10 | Significant |  7160.669 |\n",
       "| 4238_532.348_11.094 | 5.497287e-14 | 1.291313e-10 | Significant |  6894.806 |\n",
       "| 5877_358.295_12.931 | 7.813823e-14 | 1.835467e-10 | Significant |  6314.315 |\n",
       "| 5508_307.227_12.587 | 9.456910e-14 | 2.221428e-10 | Significant |  6019.979 |\n",
       "| 4098_478.338_10.89  | 1.084903e-13 | 2.548436e-10 | Significant |  5816.708 |\n",
       "| 5218_319.191_12.346 | 1.244622e-13 | 2.923618e-10 | Significant |  5620.279 |\n",
       "| 4552_369.275_11.559 | 1.274585e-13 | 2.994000e-10 | Significant |  5586.936 |\n",
       "| 4478_381.262_11.446 | 1.334784e-13 | 3.135409e-10 | Significant |  5522.815 |\n",
       "| 3381_360.275_9.43   | 1.990232e-13 | 4.675055e-10 | Significant |  4997.619 |\n",
       "\n"
      ],
      "text/plain": [
       "   Metabolites         p.value      p_bonferroni significant F        \n",
       "1  4413_492.353_11.345 4.794067e-17 1.126126e-13 Significant 40136.187\n",
       "2  4364_434.294_11.262 1.324286e-15 3.110747e-12 Significant 17505.547\n",
       "3  2090_260.186_7.042  2.645506e-15 6.214294e-12 Significant 14724.148\n",
       "4  4131_497.159_10.949 1.090293e-14 2.561098e-11 Significant 10333.199\n",
       "5  5098_277.216_12.219 1.141232e-14 2.680755e-11 Significant 10215.877\n",
       "6  1304_224.151_6.196  1.153093e-14 2.708615e-11 Significant 10189.499\n",
       "7  361_290.124_3.607   1.162673e-14 2.731120e-11 Significant 10168.436\n",
       "8  5711_391.287_12.789 2.451517e-14 5.758614e-11 Significant  8437.897\n",
       "9  348_273.145_3.244   2.925455e-14 6.871893e-11 Significant  8073.052\n",
       "10 2038_276.134_7      3.218997e-14 7.561424e-11 Significant  7882.285\n",
       "11 319_338.181_2.132   3.554413e-14 8.349316e-11 Significant  7689.290\n",
       "12 354_515.185_3.426   4.725521e-14 1.110025e-10 Significant  7160.669\n",
       "13 4238_532.348_11.094 5.497287e-14 1.291313e-10 Significant  6894.806\n",
       "14 5877_358.295_12.931 7.813823e-14 1.835467e-10 Significant  6314.315\n",
       "15 5508_307.227_12.587 9.456910e-14 2.221428e-10 Significant  6019.979\n",
       "16 4098_478.338_10.89  1.084903e-13 2.548436e-10 Significant  5816.708\n",
       "17 5218_319.191_12.346 1.244622e-13 2.923618e-10 Significant  5620.279\n",
       "18 4552_369.275_11.559 1.274585e-13 2.994000e-10 Significant  5586.936\n",
       "19 4478_381.262_11.446 1.334784e-13 3.135409e-10 Significant  5522.815\n",
       "20 3381_360.275_9.43   1.990232e-13 4.675055e-10 Significant  4997.619"
      ]
     },
     "metadata": {},
     "output_type": "display_data"
    }
   ],
   "source": [
    "anova_sum <- anova_out2 %>% \n",
    "                select(-data, -anova) %>% \n",
    "                unnest(anova_tidy) %>% \n",
    "                filter(term == \"ATTRIBUTE_Time_Point\") %>% \n",
    "                mutate(p_bonferroni = p.adjust(p.value, method=\"bonferroni\")) %>% \n",
    "                mutate(significant = ifelse(p_bonferroni<0.05,\"Significant\",\"Nonsignificant\")) %>% \n",
    "                select(Metabolites, p.value, p_bonferroni, significant, F = statistic)\n",
    "\n",
    "\n",
    "anova_sum %>% arrange(p.value) %>% slice_head(n=20)"
   ]
  },
  {
   "cell_type": "markdown",
   "metadata": {
    "id": "dabHhMewhN8l"
   },
   "source": [
    "**Plot ANOVA results**\n",
    "\n",
    "We will use [ggplot](https://ggplot2.tidyverse.org/) to visualize results from the ANOVA, with log(F-values) on the x-axis and -log(p) on the y-axis. Features are colored after statistical significance after multiple test correction. Since there are large differences in the F- and P-values, it is easier to plot their log. \n",
    "\n",
    "We can also display the names of some of the top features in the plot. This easily gets very cluttered if we decide to display too many names, so starting at the top 5 could be a good idea. We can select these similarly to the cell above (pipes with *arrange* and *slice_head*). Using [geom_text_repel](https://rdrr.io/cran/ggrepel/man/geom_text_repel.html#:~:text=geom_text_repel%20adds%20text%20directly%20to,away%20from%20the%20data%20points.), you can make sure the labels are not overlapping)"
   ]
  },
  {
   "cell_type": "code",
   "execution_count": 69,
   "metadata": {
    "colab": {
     "base_uri": "https://localhost:8080/",
     "height": 437
    },
    "id": "O6hL_1tbjkhW",
    "outputId": "fc87adef-0d19-400b-ec1c-1e9d604e858d"
   },
   "outputs": [
    {
     "data": {
      "image/png": "[encoded data removed]",
      "text/plain": [
       "plot without title"
      ]
     },
     "metadata": {
      "image/png": {
       "height": 420,
       "width": 420
      }
     },
     "output_type": "display_data"
    }
   ],
   "source": [
    "plot_anova <- ggplot(output_anova,aes(x=log(F,base=10),y=-log(p,base=10),color=significant))+ \n",
    "geom_point()+\n",
    "theme_classic()+\n",
    "scale_color_jama()+\n",
    "ylab(\"-log(p)\")+\n",
    "xlab(\"log(F)\")+\n",
    "geom_text_repel(data=output_anova %>% arrange(p) %>% slice_head(n=5),\n",
    "                  aes(label=Metabolites),size=3,show.legend = FALSE,max.overlaps = 100)+\n",
    "theme(legend.title = element_blank())\n",
    "\n",
    "plot_anova"
   ]
  },
  {
   "cell_type": "markdown",
   "metadata": {
    "id": "bZXzl7aoIx6W"
   },
   "source": [
    "If you want, you can also export the plots to a pdf"
   ]
  },
  {
   "cell_type": "code",
   "execution_count": 70,
   "metadata": {
    "colab": {
     "base_uri": "https://localhost:8080/",
     "height": 34
    },
    "id": "04jrSH6vIxIg",
    "outputId": "b6879e35-516c-4d39-efa3-19d9c025b77d"
   },
   "outputs": [
    {
     "data": {
      "text/html": [
       "<strong>png:</strong> 2"
      ],
      "text/latex": [
       "\\textbf{png:} 2"
      ],
      "text/markdown": [
       "**png:** 2"
      ],
      "text/plain": [
       "png \n",
       "  2 "
      ]
     },
     "metadata": {},
     "output_type": "display_data"
    }
   ],
   "source": [
    "pdf(\"plot_ANOVA.pdf\")\n",
    "plot_anova\n",
    "dev.off()"
   ]
  },
  {
   "cell_type": "markdown",
   "metadata": {
    "id": "T1Wj3Rky0jec"
   },
   "source": [
    "Or maybe you want to export your results as a csv file"
   ]
  },
  {
   "cell_type": "code",
   "execution_count": 71,
   "metadata": {
    "id": "KUdqT2G1XI-x"
   },
   "outputs": [],
   "source": [
    "write.csv(output_anova,\"ANOVA_results.csv\")"
   ]
  },
  {
   "cell_type": "markdown",
   "metadata": {
    "id": "JN6aUite5nCd"
   },
   "source": [
    "**Calculate change from baseline and plot dilution series**\n",
    "\n",
    "Since ANOVA only investigates the difference in variance between and within groups, additional tests are needed to test for differences between individual time points. By selecting features that were significant in the ANOVA, we can plot the temporal trends and select individual time points that we are interested in comparing. \n",
    "\n",
    "To simplify, we calculate the median value for each significant feature at each time point. By using [group_by](https://dplyr.tidyverse.org/reference/group_by.html) we group the rows by *timepoint* and [summarize_all](https://dplyr.tidyverse.org/reference/summarise_all.html) will calculate the median for each *feature* and *timepoint*\n",
    "\n",
    "At this time we are interested in the features that actually change significantly with time. For this purpose we select features with \"Significant\" in the *significant* column in *anova_out*. This can be done using *%in%* and [subset](https://www.rdocumentation.org/packages/base/versions/3.6.2/topics/subset).\n",
    "\n",
    "We also can divide the table according to the direction of the time trend for the features."
   ]
  },
  {
   "cell_type": "code",
   "execution_count": 72,
   "metadata": {
    "id": "3V-u8VWIEfi5"
   },
   "outputs": [],
   "source": [
    "# Calculate medians for each year\n",
    "timecourse_data <- Data[,5:ncol(Data)] %>% group_by(Data$'ATTRIBUTE_Time-Point') %>% summarize_all(.funs = median) \n",
    "# select only metabolites that were significant according to ANOVA\n",
    "timecourse_data <- timecourse_data[,names(timecourse_data) %in% subset(output_anova,significant==\"Significant\")$Metabolites]"
   ]
  },
  {
   "cell_type": "code",
   "execution_count": 73,
   "metadata": {
    "id": "if9BBSP-wT9d"
   },
   "outputs": [],
   "source": [
    "# Classify metabolites as increasing or decreasing with time\n",
    "direction_pos <- sapply(1:ncol(timecourse_data),function(n){ifelse(timecourse_data[1,n]-timecourse_data[4,n]<0,TRUE,FALSE)})\n",
    "timecourse_pos <- scale(timecourse_data[direction_pos])\n",
    "timecourse_neg <- scale(timecourse_data[!direction_pos])"
   ]
  },
  {
   "cell_type": "code",
   "execution_count": 74,
   "metadata": {
    "colab": {
     "base_uri": "https://localhost:8080/",
     "height": 402
    },
    "id": "M4cxt1sBHN60",
    "outputId": "efa9f608-a56e-4328-a3f3-2bf80e29a592"
   },
   "outputs": [
    {
     "data": {
      "text/html": [
       "<table class=\"dataframe\">\n",
       "<caption>A matrix: 4 × 4 of type dbl</caption>\n",
       "<thead>\n",
       "\t<tr><th scope=col>3501_158.154_9.708</th><th scope=col>2986_163.039_8.423</th><th scope=col>3869_163.148_10.547</th><th scope=col>3867_172.17_10.548</th></tr>\n",
       "</thead>\n",
       "<tbody>\n",
       "\t<tr><td> 0.1879197</td><td>-0.4459272</td><td> 0.3205472</td><td> 0.2839697</td></tr>\n",
       "\t<tr><td> 0.2817336</td><td>-0.1708353</td><td> 0.2490997</td><td> 0.4627250</td></tr>\n",
       "\t<tr><td> 0.9431006</td><td> 1.4445516</td><td> 0.8712367</td><td> 0.7281222</td></tr>\n",
       "\t<tr><td>-1.4127539</td><td>-0.8277892</td><td>-1.4408836</td><td>-1.4748169</td></tr>\n",
       "</tbody>\n",
       "</table>\n"
      ],
      "text/latex": [
       "A matrix: 4 × 4 of type dbl\n",
       "\\begin{tabular}{llll}\n",
       " 3501\\_158.154\\_9.708 & 2986\\_163.039\\_8.423 & 3869\\_163.148\\_10.547 & 3867\\_172.17\\_10.548\\\\\n",
       "\\hline\n",
       "\t  0.1879197 & -0.4459272 &  0.3205472 &  0.2839697\\\\\n",
       "\t  0.2817336 & -0.1708353 &  0.2490997 &  0.4627250\\\\\n",
       "\t  0.9431006 &  1.4445516 &  0.8712367 &  0.7281222\\\\\n",
       "\t -1.4127539 & -0.8277892 & -1.4408836 & -1.4748169\\\\\n",
       "\\end{tabular}\n"
      ],
      "text/markdown": [
       "\n",
       "A matrix: 4 × 4 of type dbl\n",
       "\n",
       "| 3501_158.154_9.708 | 2986_163.039_8.423 | 3869_163.148_10.547 | 3867_172.17_10.548 |\n",
       "|---|---|---|---|\n",
       "|  0.1879197 | -0.4459272 |  0.3205472 |  0.2839697 |\n",
       "|  0.2817336 | -0.1708353 |  0.2490997 |  0.4627250 |\n",
       "|  0.9431006 |  1.4445516 |  0.8712367 |  0.7281222 |\n",
       "| -1.4127539 | -0.8277892 | -1.4408836 | -1.4748169 |\n",
       "\n"
      ],
      "text/plain": [
       "     3501_158.154_9.708 2986_163.039_8.423 3869_163.148_10.547\n",
       "[1,]  0.1879197         -0.4459272          0.3205472         \n",
       "[2,]  0.2817336         -0.1708353          0.2490997         \n",
       "[3,]  0.9431006          1.4445516          0.8712367         \n",
       "[4,] -1.4127539         -0.8277892         -1.4408836         \n",
       "     3867_172.17_10.548\n",
       "[1,]  0.2839697        \n",
       "[2,]  0.4627250        \n",
       "[3,]  0.7281222        \n",
       "[4,] -1.4748169        "
      ]
     },
     "metadata": {},
     "output_type": "display_data"
    },
    {
     "data": {
      "text/html": [
       "<style>\n",
       ".list-inline {list-style: none; margin:0; padding: 0}\n",
       ".list-inline>li {display: inline-block}\n",
       ".list-inline>li:not(:last-child)::after {content: \"\\00b7\"; padding: 0 .5ex}\n",
       "</style>\n",
       "<ol class=list-inline><li>4</li><li>177</li></ol>\n"
      ],
      "text/latex": [
       "\\begin{enumerate*}\n",
       "\\item 4\n",
       "\\item 177\n",
       "\\end{enumerate*}\n"
      ],
      "text/markdown": [
       "1. 4\n",
       "2. 177\n",
       "\n",
       "\n"
      ],
      "text/plain": [
       "[1]   4 177"
      ]
     },
     "metadata": {},
     "output_type": "display_data"
    },
    {
     "data": {
      "text/html": [
       "<table class=\"dataframe\">\n",
       "<caption>A matrix: 4 × 4 of type dbl</caption>\n",
       "<thead>\n",
       "\t<tr><th scope=col>685_153.139_5.391</th><th scope=col>1532_162.055_6.418</th><th scope=col>5594_163.039_12.677</th><th scope=col>4362_163.039_11.261</th></tr>\n",
       "</thead>\n",
       "<tbody>\n",
       "\t<tr><td>-0.73382368</td><td>-0.6815077</td><td>-0.6139200</td><td>-0.4915074</td></tr>\n",
       "\t<tr><td>-0.61318259</td><td>-0.5406600</td><td>-0.5775488</td><td>-0.5800252</td></tr>\n",
       "\t<tr><td>-0.09405694</td><td>-0.2538980</td><td>-0.2930120</td><td>-0.4254569</td></tr>\n",
       "\t<tr><td> 1.44106322</td><td> 1.4760657</td><td> 1.4844809</td><td> 1.4969895</td></tr>\n",
       "</tbody>\n",
       "</table>\n"
      ],
      "text/latex": [
       "A matrix: 4 × 4 of type dbl\n",
       "\\begin{tabular}{llll}\n",
       " 685\\_153.139\\_5.391 & 1532\\_162.055\\_6.418 & 5594\\_163.039\\_12.677 & 4362\\_163.039\\_11.261\\\\\n",
       "\\hline\n",
       "\t -0.73382368 & -0.6815077 & -0.6139200 & -0.4915074\\\\\n",
       "\t -0.61318259 & -0.5406600 & -0.5775488 & -0.5800252\\\\\n",
       "\t -0.09405694 & -0.2538980 & -0.2930120 & -0.4254569\\\\\n",
       "\t  1.44106322 &  1.4760657 &  1.4844809 &  1.4969895\\\\\n",
       "\\end{tabular}\n"
      ],
      "text/markdown": [
       "\n",
       "A matrix: 4 × 4 of type dbl\n",
       "\n",
       "| 685_153.139_5.391 | 1532_162.055_6.418 | 5594_163.039_12.677 | 4362_163.039_11.261 |\n",
       "|---|---|---|---|\n",
       "| -0.73382368 | -0.6815077 | -0.6139200 | -0.4915074 |\n",
       "| -0.61318259 | -0.5406600 | -0.5775488 | -0.5800252 |\n",
       "| -0.09405694 | -0.2538980 | -0.2930120 | -0.4254569 |\n",
       "|  1.44106322 |  1.4760657 |  1.4844809 |  1.4969895 |\n",
       "\n"
      ],
      "text/plain": [
       "     685_153.139_5.391 1532_162.055_6.418 5594_163.039_12.677\n",
       "[1,] -0.73382368       -0.6815077         -0.6139200         \n",
       "[2,] -0.61318259       -0.5406600         -0.5775488         \n",
       "[3,] -0.09405694       -0.2538980         -0.2930120         \n",
       "[4,]  1.44106322        1.4760657          1.4844809         \n",
       "     4362_163.039_11.261\n",
       "[1,] -0.4915074         \n",
       "[2,] -0.5800252         \n",
       "[3,] -0.4254569         \n",
       "[4,]  1.4969895         "
      ]
     },
     "metadata": {},
     "output_type": "display_data"
    },
    {
     "data": {
      "text/html": [
       "<style>\n",
       ".list-inline {list-style: none; margin:0; padding: 0}\n",
       ".list-inline>li {display: inline-block}\n",
       ".list-inline>li:not(:last-child)::after {content: \"\\00b7\"; padding: 0 .5ex}\n",
       "</style>\n",
       "<ol class=list-inline><li>4</li><li>704</li></ol>\n"
      ],
      "text/latex": [
       "\\begin{enumerate*}\n",
       "\\item 4\n",
       "\\item 704\n",
       "\\end{enumerate*}\n"
      ],
      "text/markdown": [
       "1. 4\n",
       "2. 704\n",
       "\n",
       "\n"
      ],
      "text/plain": [
       "[1]   4 704"
      ]
     },
     "metadata": {},
     "output_type": "display_data"
    }
   ],
   "source": [
    "timecourse_neg[1:4,1:4]\n",
    "dim(timecourse_neg)\n",
    "timecourse_pos[1:4,1:4]\n",
    "dim(timecourse_pos)"
   ]
  },
  {
   "cell_type": "markdown",
   "metadata": {
    "id": "0uI3WKrPoKUk"
   },
   "source": [
    "Calculate the average for each feature and time point, in order to be able to plot the trends. Error bars can be visualized by calculating the standard deviation at each time point. By subtracting time=0 from each average, we get the change in feature level. "
   ]
  },
  {
   "cell_type": "code",
   "execution_count": 75,
   "metadata": {
    "id": "dnYgrTijysyC"
   },
   "outputs": [],
   "source": [
    "timecourse_pos_summary <- cbind.data.frame(rep(c(0,5,15,45)),rowMeans(timecourse_pos)-rowMeans(timecourse_pos)[1],\n",
    "                                   rowMeans(timecourse_pos)-rowMeans(timecourse_pos)[1]+rowSds(as.matrix(timecourse_pos)),\n",
    "                                   rowMeans(timecourse_pos)-rowMeans(timecourse_pos)[1]-rowSds(as.matrix(timecourse_pos)),\n",
    "                                   rep(\"pos\",nrow(timecourse_pos)))\n",
    "colnames(timecourse_pos_summary) <- c(\"time\",\"median\",\"high\",\"low\",\"direction\")\n",
    "\n",
    "timecourse_neg_summary <- cbind.data.frame(rep(c(0,5,15,45)),rowMeans(timecourse_neg)-rowMeans(timecourse_neg)[1],\n",
    "                                   rowMeans(timecourse_neg)-rowMeans(timecourse_neg)[1]+rowSds(as.matrix(timecourse_neg)),\n",
    "                                   rowMeans(timecourse_neg)-rowMeans(timecourse_neg)[1]-rowSds(as.matrix(timecourse_neg)),\n",
    "                                   rep(\"neg\",nrow(timecourse_neg)))\n",
    "colnames(timecourse_neg_summary) <- c(\"time\",\"median\",\"high\",\"low\",\"direction\")\n",
    "# Combine increasing and decreasing features to dataframe for plotting\n",
    "timecourse_summary <- rbind(timecourse_pos_summary,timecourse_neg_summary)"
   ]
  },
  {
   "cell_type": "markdown",
   "metadata": {
    "id": "6ID9lkV6oezi"
   },
   "source": [
    "Plot temporal trends in ggplot"
   ]
  },
  {
   "cell_type": "code",
   "execution_count": 76,
   "metadata": {
    "colab": {
     "base_uri": "https://localhost:8080/",
     "height": 437
    },
    "id": "zufJRHi31vs6",
    "outputId": "d7f581f6-b04a-4c5a-9873-458edb46fc80"
   },
   "outputs": [
    {
     "data": {
      "image/png": "[encoded data removed]",
      "text/plain": [
       "plot without title"
      ]
     },
     "metadata": {
      "image/png": {
       "height": 420,
       "width": 420
      }
     },
     "output_type": "display_data"
    }
   ],
   "source": [
    "timecourse_plot <- ggplot(timecourse_summary,aes(x=time,y=median,max=high,min=low,color=direction,fill=direction))+\n",
    "  geom_line()+\n",
    "  geom_pointrange(position=position_dodge(0.1))+\n",
    "  theme_minimal()+\n",
    "  theme(legend.title = element_blank())+\n",
    "  geom_hline(aes(yintercept=0))+\n",
    "  scale_color_jama()+\n",
    "  scale_fill_jama()+\n",
    "  scale_x_continuous(breaks=c(0,5,15,45))+\n",
    "  xlab(\"time\")+\n",
    "  theme(legend.text=element_text(size=12))\n",
    "\n",
    "timecourse_plot"
   ]
  },
  {
   "cell_type": "markdown",
   "metadata": {
    "id": "nh6J-eXt6I2M"
   },
   "source": [
    "**Tukey's post hoc test**\n",
    "\n",
    "Features with both positive and negative time trends exist, but differences appear to the largest between timepoint 0 and 45. Tukey's post hoc test can be used to calculate which features show statistically significant differences between these two timepoints. \n",
    "\n",
    "The function [TukeyHSD](https://www.rdocumentation.org/packages/stats/versions/3.6.2/topics/TukeyHSD) is used, which calculate these differences from the ANOVA output list previously generated. Results are stored in a new list called *tukey_out*"
   ]
  },
  {
   "cell_type": "code",
   "execution_count": 227,
   "metadata": {
    "id": "L3iijX5S6H-C"
   },
   "outputs": [],
   "source": [
    "tukey_out=NULL\n",
    "for (i in 1:length(a)){\n",
    "tukey_out[[i]] <- TukeyHSD(anova_out[[i]])\n",
    "}"
   ]
  },
  {
   "cell_type": "markdown",
   "metadata": {
    "id": "0B9b61Lcs6ES"
   },
   "source": [
    "Display first entry of the list to show that all group wise differences are calculated. We are interested in the differences between timepoint 0 and 45."
   ]
  },
  {
   "cell_type": "code",
   "execution_count": 178,
   "metadata": {
    "colab": {
     "base_uri": "https://localhost:8080/",
     "height": 255
    },
    "id": "GaI1Mi53zLWf",
    "outputId": "144b7928-5bba-4cb4-dbdb-094493a21692"
   },
   "outputs": [
    {
     "data": {
      "text/html": [
       "<table class=\"dataframe\">\n",
       "<caption>A matrix: 6 × 4 of type dbl</caption>\n",
       "<thead>\n",
       "\t<tr><th></th><th scope=col>diff</th><th scope=col>lwr</th><th scope=col>upr</th><th scope=col>p adj</th></tr>\n",
       "</thead>\n",
       "<tbody>\n",
       "\t<tr><th scope=row>5-0</th><td>-0.7395758</td><td>-3.598614</td><td>2.119462</td><td>0.8397465</td></tr>\n",
       "\t<tr><th scope=row>15-0</th><td> 0.1803498</td><td>-2.678688</td><td>3.039388</td><td>0.9968383</td></tr>\n",
       "\t<tr><th scope=row>45-0</th><td>-0.2506343</td><td>-3.109673</td><td>2.608404</td><td>0.9916767</td></tr>\n",
       "\t<tr><th scope=row>15-5</th><td> 0.9199257</td><td>-1.939113</td><td>3.778964</td><td>0.7375446</td></tr>\n",
       "\t<tr><th scope=row>45-5</th><td> 0.4889415</td><td>-2.370097</td><td>3.347980</td><td>0.9446074</td></tr>\n",
       "\t<tr><th scope=row>45-15</th><td>-0.4309841</td><td>-3.290022</td><td>2.428054</td><td>0.9608084</td></tr>\n",
       "</tbody>\n",
       "</table>\n"
      ],
      "text/latex": [
       "A matrix: 6 × 4 of type dbl\n",
       "\\begin{tabular}{r|llll}\n",
       "  & diff & lwr & upr & p adj\\\\\n",
       "\\hline\n",
       "\t5-0 & -0.7395758 & -3.598614 & 2.119462 & 0.8397465\\\\\n",
       "\t15-0 &  0.1803498 & -2.678688 & 3.039388 & 0.9968383\\\\\n",
       "\t45-0 & -0.2506343 & -3.109673 & 2.608404 & 0.9916767\\\\\n",
       "\t15-5 &  0.9199257 & -1.939113 & 3.778964 & 0.7375446\\\\\n",
       "\t45-5 &  0.4889415 & -2.370097 & 3.347980 & 0.9446074\\\\\n",
       "\t45-15 & -0.4309841 & -3.290022 & 2.428054 & 0.9608084\\\\\n",
       "\\end{tabular}\n"
      ],
      "text/markdown": [
       "\n",
       "A matrix: 6 × 4 of type dbl\n",
       "\n",
       "| <!--/--> | diff | lwr | upr | p adj |\n",
       "|---|---|---|---|---|\n",
       "| 5-0 | -0.7395758 | -3.598614 | 2.119462 | 0.8397465 |\n",
       "| 15-0 |  0.1803498 | -2.678688 | 3.039388 | 0.9968383 |\n",
       "| 45-0 | -0.2506343 | -3.109673 | 2.608404 | 0.9916767 |\n",
       "| 15-5 |  0.9199257 | -1.939113 | 3.778964 | 0.7375446 |\n",
       "| 45-5 |  0.4889415 | -2.370097 | 3.347980 | 0.9446074 |\n",
       "| 45-15 | -0.4309841 | -3.290022 | 2.428054 | 0.9608084 |\n",
       "\n"
      ],
      "text/plain": [
       "      diff       lwr       upr      p adj    \n",
       "5-0   -0.7395758 -3.598614 2.119462 0.8397465\n",
       "15-0   0.1803498 -2.678688 3.039388 0.9968383\n",
       "45-0  -0.2506343 -3.109673 2.608404 0.9916767\n",
       "15-5   0.9199257 -1.939113 3.778964 0.7375446\n",
       "45-5   0.4889415 -2.370097 3.347980 0.9446074\n",
       "45-15 -0.4309841 -3.290022 2.428054 0.9608084"
      ]
     },
     "metadata": {},
     "output_type": "display_data"
    }
   ],
   "source": [
    "tukey_out[[1]]$`as.factor(Data$\"ATTRIBUTE_Time-Point\")`"
   ]
  },
  {
   "cell_type": "markdown",
   "metadata": {
    "id": "3hpYAYSSZL90"
   },
   "source": [
    "We extract the information we are interested in from *tukey_out*. \n",
    "\n",
    "* diff - Difference in average levels between *timepoint* 0 and 45.\n",
    "\n",
    "* p - p-value for group-wise difference after taking multiple group-wise comparisons into account.\n",
    "\n",
    "* p_bonferroni - adjusted p-value after taking multiple tests (N number of features) into account\n",
    "\n",
    "* significant - Whether the corrected p-value is below 0.05"
   ]
  },
  {
   "cell_type": "code",
   "execution_count": 257,
   "metadata": {},
   "outputs": [
    {
     "data": {
      "text/html": [
       "<table class=\"dataframe\">\n",
       "<caption>A tibble: 20 × 7</caption>\n",
       "<thead>\n",
       "\t<tr><th scope=col>Metabolites</th><th scope=col>estimate</th><th scope=col>conf.low</th><th scope=col>conf.high</th><th scope=col>adj.p.value</th><th scope=col>p_bonferroni</th><th scope=col>significant</th></tr>\n",
       "\t<tr><th scope=col>&lt;chr&gt;</th><th scope=col>&lt;dbl&gt;</th><th scope=col>&lt;dbl&gt;</th><th scope=col>&lt;dbl&gt;</th><th scope=col>&lt;dbl&gt;</th><th scope=col>&lt;dbl&gt;</th><th scope=col>&lt;chr&gt;</th></tr>\n",
       "</thead>\n",
       "<tbody>\n",
       "\t<tr><td>1304_224.151_6.196 </td><td>2.239982</td><td>2.190388</td><td>2.289575</td><td>5.162537e-14</td><td>1.21268e-10</td><td>Significant</td></tr>\n",
       "\t<tr><td>2038_276.134_7     </td><td>2.225034</td><td>2.168650</td><td>2.281419</td><td>5.162537e-14</td><td>1.21268e-10</td><td>Significant</td></tr>\n",
       "\t<tr><td>2090_260.186_7.042 </td><td>2.367443</td><td>2.326185</td><td>2.408700</td><td>5.162537e-14</td><td>1.21268e-10</td><td>Significant</td></tr>\n",
       "\t<tr><td>2943_360.274_8.348 </td><td>2.261041</td><td>2.187062</td><td>2.335020</td><td>5.162537e-14</td><td>1.21268e-10</td><td>Significant</td></tr>\n",
       "\t<tr><td>319_338.181_2.132  </td><td>2.213534</td><td>2.156447</td><td>2.270622</td><td>5.162537e-14</td><td>1.21268e-10</td><td>Significant</td></tr>\n",
       "\t<tr><td>3381_360.275_9.43  </td><td>2.246924</td><td>2.176119</td><td>2.317729</td><td>5.162537e-14</td><td>1.21268e-10</td><td>Significant</td></tr>\n",
       "\t<tr><td>348_273.145_3.244  </td><td>2.354191</td><td>2.298476</td><td>2.409905</td><td>5.162537e-14</td><td>1.21268e-10</td><td>Significant</td></tr>\n",
       "\t<tr><td>354_515.185_3.426  </td><td>2.327266</td><td>2.268110</td><td>2.386422</td><td>5.162537e-14</td><td>1.21268e-10</td><td>Significant</td></tr>\n",
       "\t<tr><td>361_290.124_3.607  </td><td>2.374715</td><td>2.325070</td><td>2.424360</td><td>5.162537e-14</td><td>1.21268e-10</td><td>Significant</td></tr>\n",
       "\t<tr><td>365_319.15_3.788   </td><td>2.220778</td><td>2.144343</td><td>2.297213</td><td>5.162537e-14</td><td>1.21268e-10</td><td>Significant</td></tr>\n",
       "\t<tr><td>3843_325.164_10.535</td><td>2.292635</td><td>2.215366</td><td>2.369905</td><td>5.162537e-14</td><td>1.21268e-10</td><td>Significant</td></tr>\n",
       "\t<tr><td>3870_485.158_10.546</td><td>2.467734</td><td>2.389959</td><td>2.545509</td><td>5.162537e-14</td><td>1.21268e-10</td><td>Significant</td></tr>\n",
       "\t<tr><td>3990_485.158_10.732</td><td>2.629914</td><td>2.551943</td><td>2.707885</td><td>5.162537e-14</td><td>1.21268e-10</td><td>Significant</td></tr>\n",
       "\t<tr><td>4098_478.338_10.89 </td><td>2.304881</td><td>2.239249</td><td>2.370514</td><td>5.162537e-14</td><td>1.21268e-10</td><td>Significant</td></tr>\n",
       "\t<tr><td>4131_497.159_10.949</td><td>2.414462</td><td>2.365214</td><td>2.463709</td><td>5.162537e-14</td><td>1.21268e-10</td><td>Significant</td></tr>\n",
       "\t<tr><td>4238_532.348_11.094</td><td>2.288130</td><td>2.227844</td><td>2.348415</td><td>5.162537e-14</td><td>1.21268e-10</td><td>Significant</td></tr>\n",
       "\t<tr><td>4249_376.288_11.124</td><td>2.309530</td><td>2.234630</td><td>2.384429</td><td>5.162537e-14</td><td>1.21268e-10</td><td>Significant</td></tr>\n",
       "\t<tr><td>4310_499.174_11.197</td><td>2.479632</td><td>2.406634</td><td>2.552630</td><td>5.162537e-14</td><td>1.21268e-10</td><td>Significant</td></tr>\n",
       "\t<tr><td>4364_434.294_11.262</td><td>2.404058</td><td>2.366219</td><td>2.441897</td><td>5.162537e-14</td><td>1.21268e-10</td><td>Significant</td></tr>\n",
       "\t<tr><td>4413_492.353_11.345</td><td>2.265764</td><td>2.240773</td><td>2.290754</td><td>5.162537e-14</td><td>1.21268e-10</td><td>Significant</td></tr>\n",
       "</tbody>\n",
       "</table>\n"
      ],
      "text/latex": [
       "A tibble: 20 × 7\n",
       "\\begin{tabular}{lllllll}\n",
       " Metabolites & estimate & conf.low & conf.high & adj.p.value & p\\_bonferroni & significant\\\\\n",
       " <chr> & <dbl> & <dbl> & <dbl> & <dbl> & <dbl> & <chr>\\\\\n",
       "\\hline\n",
       "\t 1304\\_224.151\\_6.196  & 2.239982 & 2.190388 & 2.289575 & 5.162537e-14 & 1.21268e-10 & Significant\\\\\n",
       "\t 2038\\_276.134\\_7      & 2.225034 & 2.168650 & 2.281419 & 5.162537e-14 & 1.21268e-10 & Significant\\\\\n",
       "\t 2090\\_260.186\\_7.042  & 2.367443 & 2.326185 & 2.408700 & 5.162537e-14 & 1.21268e-10 & Significant\\\\\n",
       "\t 2943\\_360.274\\_8.348  & 2.261041 & 2.187062 & 2.335020 & 5.162537e-14 & 1.21268e-10 & Significant\\\\\n",
       "\t 319\\_338.181\\_2.132   & 2.213534 & 2.156447 & 2.270622 & 5.162537e-14 & 1.21268e-10 & Significant\\\\\n",
       "\t 3381\\_360.275\\_9.43   & 2.246924 & 2.176119 & 2.317729 & 5.162537e-14 & 1.21268e-10 & Significant\\\\\n",
       "\t 348\\_273.145\\_3.244   & 2.354191 & 2.298476 & 2.409905 & 5.162537e-14 & 1.21268e-10 & Significant\\\\\n",
       "\t 354\\_515.185\\_3.426   & 2.327266 & 2.268110 & 2.386422 & 5.162537e-14 & 1.21268e-10 & Significant\\\\\n",
       "\t 361\\_290.124\\_3.607   & 2.374715 & 2.325070 & 2.424360 & 5.162537e-14 & 1.21268e-10 & Significant\\\\\n",
       "\t 365\\_319.15\\_3.788    & 2.220778 & 2.144343 & 2.297213 & 5.162537e-14 & 1.21268e-10 & Significant\\\\\n",
       "\t 3843\\_325.164\\_10.535 & 2.292635 & 2.215366 & 2.369905 & 5.162537e-14 & 1.21268e-10 & Significant\\\\\n",
       "\t 3870\\_485.158\\_10.546 & 2.467734 & 2.389959 & 2.545509 & 5.162537e-14 & 1.21268e-10 & Significant\\\\\n",
       "\t 3990\\_485.158\\_10.732 & 2.629914 & 2.551943 & 2.707885 & 5.162537e-14 & 1.21268e-10 & Significant\\\\\n",
       "\t 4098\\_478.338\\_10.89  & 2.304881 & 2.239249 & 2.370514 & 5.162537e-14 & 1.21268e-10 & Significant\\\\\n",
       "\t 4131\\_497.159\\_10.949 & 2.414462 & 2.365214 & 2.463709 & 5.162537e-14 & 1.21268e-10 & Significant\\\\\n",
       "\t 4238\\_532.348\\_11.094 & 2.288130 & 2.227844 & 2.348415 & 5.162537e-14 & 1.21268e-10 & Significant\\\\\n",
       "\t 4249\\_376.288\\_11.124 & 2.309530 & 2.234630 & 2.384429 & 5.162537e-14 & 1.21268e-10 & Significant\\\\\n",
       "\t 4310\\_499.174\\_11.197 & 2.479632 & 2.406634 & 2.552630 & 5.162537e-14 & 1.21268e-10 & Significant\\\\\n",
       "\t 4364\\_434.294\\_11.262 & 2.404058 & 2.366219 & 2.441897 & 5.162537e-14 & 1.21268e-10 & Significant\\\\\n",
       "\t 4413\\_492.353\\_11.345 & 2.265764 & 2.240773 & 2.290754 & 5.162537e-14 & 1.21268e-10 & Significant\\\\\n",
       "\\end{tabular}\n"
      ],
      "text/markdown": [
       "\n",
       "A tibble: 20 × 7\n",
       "\n",
       "| Metabolites &lt;chr&gt; | estimate &lt;dbl&gt; | conf.low &lt;dbl&gt; | conf.high &lt;dbl&gt; | adj.p.value &lt;dbl&gt; | p_bonferroni &lt;dbl&gt; | significant &lt;chr&gt; |\n",
       "|---|---|---|---|---|---|---|\n",
       "| 1304_224.151_6.196  | 2.239982 | 2.190388 | 2.289575 | 5.162537e-14 | 1.21268e-10 | Significant |\n",
       "| 2038_276.134_7      | 2.225034 | 2.168650 | 2.281419 | 5.162537e-14 | 1.21268e-10 | Significant |\n",
       "| 2090_260.186_7.042  | 2.367443 | 2.326185 | 2.408700 | 5.162537e-14 | 1.21268e-10 | Significant |\n",
       "| 2943_360.274_8.348  | 2.261041 | 2.187062 | 2.335020 | 5.162537e-14 | 1.21268e-10 | Significant |\n",
       "| 319_338.181_2.132   | 2.213534 | 2.156447 | 2.270622 | 5.162537e-14 | 1.21268e-10 | Significant |\n",
       "| 3381_360.275_9.43   | 2.246924 | 2.176119 | 2.317729 | 5.162537e-14 | 1.21268e-10 | Significant |\n",
       "| 348_273.145_3.244   | 2.354191 | 2.298476 | 2.409905 | 5.162537e-14 | 1.21268e-10 | Significant |\n",
       "| 354_515.185_3.426   | 2.327266 | 2.268110 | 2.386422 | 5.162537e-14 | 1.21268e-10 | Significant |\n",
       "| 361_290.124_3.607   | 2.374715 | 2.325070 | 2.424360 | 5.162537e-14 | 1.21268e-10 | Significant |\n",
       "| 365_319.15_3.788    | 2.220778 | 2.144343 | 2.297213 | 5.162537e-14 | 1.21268e-10 | Significant |\n",
       "| 3843_325.164_10.535 | 2.292635 | 2.215366 | 2.369905 | 5.162537e-14 | 1.21268e-10 | Significant |\n",
       "| 3870_485.158_10.546 | 2.467734 | 2.389959 | 2.545509 | 5.162537e-14 | 1.21268e-10 | Significant |\n",
       "| 3990_485.158_10.732 | 2.629914 | 2.551943 | 2.707885 | 5.162537e-14 | 1.21268e-10 | Significant |\n",
       "| 4098_478.338_10.89  | 2.304881 | 2.239249 | 2.370514 | 5.162537e-14 | 1.21268e-10 | Significant |\n",
       "| 4131_497.159_10.949 | 2.414462 | 2.365214 | 2.463709 | 5.162537e-14 | 1.21268e-10 | Significant |\n",
       "| 4238_532.348_11.094 | 2.288130 | 2.227844 | 2.348415 | 5.162537e-14 | 1.21268e-10 | Significant |\n",
       "| 4249_376.288_11.124 | 2.309530 | 2.234630 | 2.384429 | 5.162537e-14 | 1.21268e-10 | Significant |\n",
       "| 4310_499.174_11.197 | 2.479632 | 2.406634 | 2.552630 | 5.162537e-14 | 1.21268e-10 | Significant |\n",
       "| 4364_434.294_11.262 | 2.404058 | 2.366219 | 2.441897 | 5.162537e-14 | 1.21268e-10 | Significant |\n",
       "| 4413_492.353_11.345 | 2.265764 | 2.240773 | 2.290754 | 5.162537e-14 | 1.21268e-10 | Significant |\n",
       "\n"
      ],
      "text/plain": [
       "   Metabolites         estimate conf.low conf.high adj.p.value  p_bonferroni\n",
       "1  1304_224.151_6.196  2.239982 2.190388 2.289575  5.162537e-14 1.21268e-10 \n",
       "2  2038_276.134_7      2.225034 2.168650 2.281419  5.162537e-14 1.21268e-10 \n",
       "3  2090_260.186_7.042  2.367443 2.326185 2.408700  5.162537e-14 1.21268e-10 \n",
       "4  2943_360.274_8.348  2.261041 2.187062 2.335020  5.162537e-14 1.21268e-10 \n",
       "5  319_338.181_2.132   2.213534 2.156447 2.270622  5.162537e-14 1.21268e-10 \n",
       "6  3381_360.275_9.43   2.246924 2.176119 2.317729  5.162537e-14 1.21268e-10 \n",
       "7  348_273.145_3.244   2.354191 2.298476 2.409905  5.162537e-14 1.21268e-10 \n",
       "8  354_515.185_3.426   2.327266 2.268110 2.386422  5.162537e-14 1.21268e-10 \n",
       "9  361_290.124_3.607   2.374715 2.325070 2.424360  5.162537e-14 1.21268e-10 \n",
       "10 365_319.15_3.788    2.220778 2.144343 2.297213  5.162537e-14 1.21268e-10 \n",
       "11 3843_325.164_10.535 2.292635 2.215366 2.369905  5.162537e-14 1.21268e-10 \n",
       "12 3870_485.158_10.546 2.467734 2.389959 2.545509  5.162537e-14 1.21268e-10 \n",
       "13 3990_485.158_10.732 2.629914 2.551943 2.707885  5.162537e-14 1.21268e-10 \n",
       "14 4098_478.338_10.89  2.304881 2.239249 2.370514  5.162537e-14 1.21268e-10 \n",
       "15 4131_497.159_10.949 2.414462 2.365214 2.463709  5.162537e-14 1.21268e-10 \n",
       "16 4238_532.348_11.094 2.288130 2.227844 2.348415  5.162537e-14 1.21268e-10 \n",
       "17 4249_376.288_11.124 2.309530 2.234630 2.384429  5.162537e-14 1.21268e-10 \n",
       "18 4310_499.174_11.197 2.479632 2.406634 2.552630  5.162537e-14 1.21268e-10 \n",
       "19 4364_434.294_11.262 2.404058 2.366219 2.441897  5.162537e-14 1.21268e-10 \n",
       "20 4413_492.353_11.345 2.265764 2.240773 2.290754  5.162537e-14 1.21268e-10 \n",
       "   significant\n",
       "1  Significant\n",
       "2  Significant\n",
       "3  Significant\n",
       "4  Significant\n",
       "5  Significant\n",
       "6  Significant\n",
       "7  Significant\n",
       "8  Significant\n",
       "9  Significant\n",
       "10 Significant\n",
       "11 Significant\n",
       "12 Significant\n",
       "13 Significant\n",
       "14 Significant\n",
       "15 Significant\n",
       "16 Significant\n",
       "17 Significant\n",
       "18 Significant\n",
       "19 Significant\n",
       "20 Significant"
      ]
     },
     "metadata": {},
     "output_type": "display_data"
    }
   ],
   "source": [
    "# Alternative tidy way to code it\n",
    "\n",
    "tukey_out2 <- anova_out2 %>% \n",
    "                mutate(Tukey = map(anova, TukeyHSD)) %>% \n",
    "                mutate(Tukey_tidy = map(Tukey, tidy)) %>% \n",
    "                select(Metabolites, Tukey_tidy) %>% \n",
    "                unnest(Tukey_tidy) %>% \n",
    "                filter(contrast == \"45-0\") %>% \n",
    "                select(Metabolites, estimate, conf.low, conf.high, adj.p.value) %>% \n",
    "                mutate(p_bonferroni =  p.adjust(adj.p.value, method=\"bonferroni\")) %>% \n",
    "                mutate(\"significant\" = ifelse(p_bonferroni<0.05,\"Significant\",\"Nonsignificant\"))\n",
    "\n",
    "\n",
    "tukey_out2 %>% arrange(adj.p.value) %>% slice_head(n=20)\n"
   ]
  },
  {
   "cell_type": "code",
   "execution_count": 79,
   "metadata": {
    "id": "UGANPbZIznto"
   },
   "outputs": [],
   "source": [
    "output_tukey <- data.frame(colnames(Data[5:ncol(Data)]))\n",
    "colnames(output_tukey)[1] <- \"Metabolites\"\n",
    "output_tukey$ID <- as.numeric(as.character(lapply(strsplit(colnames(ft), \"_\"), function(l) l[[1]])))\n",
    "output_tukey[\"diff\"] <- sapply(1:length(a),function(n){tukey_out[[n]]$`as.factor(Data$\"ATTRIBUTE_Time-Point\")`[3,1]})\n",
    "output_tukey[\"p\"] <- sapply(1:length(a),function(n){tukey_out[[n]]$`as.factor(Data$\"ATTRIBUTE_Time-Point\")`[3,4]})\n",
    "output_tukey[\"p_bonferroni\"] <- p.adjust(output_tukey$p,method=\"bonferroni\")\n",
    "output_tukey[\"significant\"] <- ifelse(output_tukey$p_bonferroni<0.05,\"Significant\",\"Nonsignificant\")\n",
    "colnames(output_tukey) <- paste0(\"stats_\",colnames(output_tukey))"
   ]
  },
  {
   "cell_type": "markdown",
   "metadata": {
    "id": "CITp5_wbZ6ok"
   },
   "source": [
    "Display the top results. Any significant hits? Other impressions?"
   ]
  },
  {
   "cell_type": "code",
   "execution_count": 228,
   "metadata": {
    "colab": {
     "base_uri": "https://localhost:8080/",
     "height": 725
    },
    "id": "XtHzvL-t1VMj",
    "outputId": "7dc543ac-0c05-403f-81ab-c09e49c4ebfa"
   },
   "outputs": [
    {
     "data": {
      "text/html": [
       "<table class=\"dataframe\">\n",
       "<caption>A data.frame: 20 × 6</caption>\n",
       "<thead>\n",
       "\t<tr><th scope=col>stats_Metabolites</th><th scope=col>stats_ID</th><th scope=col>stats_diff</th><th scope=col>stats_p</th><th scope=col>stats_p_bonferroni</th><th scope=col>stats_significant</th></tr>\n",
       "\t<tr><th scope=col>&lt;chr&gt;</th><th scope=col>&lt;dbl&gt;</th><th scope=col>&lt;dbl&gt;</th><th scope=col>&lt;dbl&gt;</th><th scope=col>&lt;dbl&gt;</th><th scope=col>&lt;chr&gt;</th></tr>\n",
       "</thead>\n",
       "<tbody>\n",
       "\t<tr><td>1304_224.151_6.196 </td><td>1304</td><td>2.239982</td><td>5.162537e-14</td><td>1.21268e-10</td><td>Significant</td></tr>\n",
       "\t<tr><td>2090_260.186_7.042 </td><td>2090</td><td>2.367443</td><td>5.162537e-14</td><td>1.21268e-10</td><td>Significant</td></tr>\n",
       "\t<tr><td>348_273.145_3.244  </td><td> 348</td><td>2.354191</td><td>5.162537e-14</td><td>1.21268e-10</td><td>Significant</td></tr>\n",
       "\t<tr><td>2038_276.134_7     </td><td>2038</td><td>2.225034</td><td>5.162537e-14</td><td>1.21268e-10</td><td>Significant</td></tr>\n",
       "\t<tr><td>361_290.124_3.607  </td><td> 361</td><td>2.374715</td><td>5.162537e-14</td><td>1.21268e-10</td><td>Significant</td></tr>\n",
       "\t<tr><td>5508_307.227_12.587</td><td>5508</td><td>2.369146</td><td>5.162537e-14</td><td>1.21268e-10</td><td>Significant</td></tr>\n",
       "\t<tr><td>365_319.15_3.788   </td><td> 365</td><td>2.220778</td><td>5.162537e-14</td><td>1.21268e-10</td><td>Significant</td></tr>\n",
       "\t<tr><td>5218_319.191_12.346</td><td>5218</td><td>2.337166</td><td>5.162537e-14</td><td>1.21268e-10</td><td>Significant</td></tr>\n",
       "\t<tr><td>3843_325.164_10.535</td><td>3843</td><td>2.292635</td><td>5.162537e-14</td><td>1.21268e-10</td><td>Significant</td></tr>\n",
       "\t<tr><td>319_338.181_2.132  </td><td> 319</td><td>2.213534</td><td>5.162537e-14</td><td>1.21268e-10</td><td>Significant</td></tr>\n",
       "\t<tr><td>5877_358.295_12.931</td><td>5877</td><td>2.328610</td><td>5.162537e-14</td><td>1.21268e-10</td><td>Significant</td></tr>\n",
       "\t<tr><td>2943_360.274_8.348 </td><td>2943</td><td>2.261041</td><td>5.162537e-14</td><td>1.21268e-10</td><td>Significant</td></tr>\n",
       "\t<tr><td>3381_360.275_9.43  </td><td>3381</td><td>2.246924</td><td>5.162537e-14</td><td>1.21268e-10</td><td>Significant</td></tr>\n",
       "\t<tr><td>4552_369.275_11.559</td><td>4552</td><td>2.340778</td><td>5.162537e-14</td><td>1.21268e-10</td><td>Significant</td></tr>\n",
       "\t<tr><td>4249_376.288_11.124</td><td>4249</td><td>2.309530</td><td>5.162537e-14</td><td>1.21268e-10</td><td>Significant</td></tr>\n",
       "\t<tr><td>4478_381.262_11.446</td><td>4478</td><td>2.322094</td><td>5.162537e-14</td><td>1.21268e-10</td><td>Significant</td></tr>\n",
       "\t<tr><td>5711_391.287_12.789</td><td>5711</td><td>2.327654</td><td>5.162537e-14</td><td>1.21268e-10</td><td>Significant</td></tr>\n",
       "\t<tr><td>4364_434.294_11.262</td><td>4364</td><td>2.404058</td><td>5.162537e-14</td><td>1.21268e-10</td><td>Significant</td></tr>\n",
       "\t<tr><td>4098_478.338_10.89 </td><td>4098</td><td>2.304881</td><td>5.162537e-14</td><td>1.21268e-10</td><td>Significant</td></tr>\n",
       "\t<tr><td>3990_485.158_10.732</td><td>3990</td><td>2.629914</td><td>5.162537e-14</td><td>1.21268e-10</td><td>Significant</td></tr>\n",
       "</tbody>\n",
       "</table>\n"
      ],
      "text/latex": [
       "A data.frame: 20 × 6\n",
       "\\begin{tabular}{llllll}\n",
       " stats\\_Metabolites & stats\\_ID & stats\\_diff & stats\\_p & stats\\_p\\_bonferroni & stats\\_significant\\\\\n",
       " <chr> & <dbl> & <dbl> & <dbl> & <dbl> & <chr>\\\\\n",
       "\\hline\n",
       "\t 1304\\_224.151\\_6.196  & 1304 & 2.239982 & 5.162537e-14 & 1.21268e-10 & Significant\\\\\n",
       "\t 2090\\_260.186\\_7.042  & 2090 & 2.367443 & 5.162537e-14 & 1.21268e-10 & Significant\\\\\n",
       "\t 348\\_273.145\\_3.244   &  348 & 2.354191 & 5.162537e-14 & 1.21268e-10 & Significant\\\\\n",
       "\t 2038\\_276.134\\_7      & 2038 & 2.225034 & 5.162537e-14 & 1.21268e-10 & Significant\\\\\n",
       "\t 361\\_290.124\\_3.607   &  361 & 2.374715 & 5.162537e-14 & 1.21268e-10 & Significant\\\\\n",
       "\t 5508\\_307.227\\_12.587 & 5508 & 2.369146 & 5.162537e-14 & 1.21268e-10 & Significant\\\\\n",
       "\t 365\\_319.15\\_3.788    &  365 & 2.220778 & 5.162537e-14 & 1.21268e-10 & Significant\\\\\n",
       "\t 5218\\_319.191\\_12.346 & 5218 & 2.337166 & 5.162537e-14 & 1.21268e-10 & Significant\\\\\n",
       "\t 3843\\_325.164\\_10.535 & 3843 & 2.292635 & 5.162537e-14 & 1.21268e-10 & Significant\\\\\n",
       "\t 319\\_338.181\\_2.132   &  319 & 2.213534 & 5.162537e-14 & 1.21268e-10 & Significant\\\\\n",
       "\t 5877\\_358.295\\_12.931 & 5877 & 2.328610 & 5.162537e-14 & 1.21268e-10 & Significant\\\\\n",
       "\t 2943\\_360.274\\_8.348  & 2943 & 2.261041 & 5.162537e-14 & 1.21268e-10 & Significant\\\\\n",
       "\t 3381\\_360.275\\_9.43   & 3381 & 2.246924 & 5.162537e-14 & 1.21268e-10 & Significant\\\\\n",
       "\t 4552\\_369.275\\_11.559 & 4552 & 2.340778 & 5.162537e-14 & 1.21268e-10 & Significant\\\\\n",
       "\t 4249\\_376.288\\_11.124 & 4249 & 2.309530 & 5.162537e-14 & 1.21268e-10 & Significant\\\\\n",
       "\t 4478\\_381.262\\_11.446 & 4478 & 2.322094 & 5.162537e-14 & 1.21268e-10 & Significant\\\\\n",
       "\t 5711\\_391.287\\_12.789 & 5711 & 2.327654 & 5.162537e-14 & 1.21268e-10 & Significant\\\\\n",
       "\t 4364\\_434.294\\_11.262 & 4364 & 2.404058 & 5.162537e-14 & 1.21268e-10 & Significant\\\\\n",
       "\t 4098\\_478.338\\_10.89  & 4098 & 2.304881 & 5.162537e-14 & 1.21268e-10 & Significant\\\\\n",
       "\t 3990\\_485.158\\_10.732 & 3990 & 2.629914 & 5.162537e-14 & 1.21268e-10 & Significant\\\\\n",
       "\\end{tabular}\n"
      ],
      "text/markdown": [
       "\n",
       "A data.frame: 20 × 6\n",
       "\n",
       "| stats_Metabolites &lt;chr&gt; | stats_ID &lt;dbl&gt; | stats_diff &lt;dbl&gt; | stats_p &lt;dbl&gt; | stats_p_bonferroni &lt;dbl&gt; | stats_significant &lt;chr&gt; |\n",
       "|---|---|---|---|---|---|\n",
       "| 1304_224.151_6.196  | 1304 | 2.239982 | 5.162537e-14 | 1.21268e-10 | Significant |\n",
       "| 2090_260.186_7.042  | 2090 | 2.367443 | 5.162537e-14 | 1.21268e-10 | Significant |\n",
       "| 348_273.145_3.244   |  348 | 2.354191 | 5.162537e-14 | 1.21268e-10 | Significant |\n",
       "| 2038_276.134_7      | 2038 | 2.225034 | 5.162537e-14 | 1.21268e-10 | Significant |\n",
       "| 361_290.124_3.607   |  361 | 2.374715 | 5.162537e-14 | 1.21268e-10 | Significant |\n",
       "| 5508_307.227_12.587 | 5508 | 2.369146 | 5.162537e-14 | 1.21268e-10 | Significant |\n",
       "| 365_319.15_3.788    |  365 | 2.220778 | 5.162537e-14 | 1.21268e-10 | Significant |\n",
       "| 5218_319.191_12.346 | 5218 | 2.337166 | 5.162537e-14 | 1.21268e-10 | Significant |\n",
       "| 3843_325.164_10.535 | 3843 | 2.292635 | 5.162537e-14 | 1.21268e-10 | Significant |\n",
       "| 319_338.181_2.132   |  319 | 2.213534 | 5.162537e-14 | 1.21268e-10 | Significant |\n",
       "| 5877_358.295_12.931 | 5877 | 2.328610 | 5.162537e-14 | 1.21268e-10 | Significant |\n",
       "| 2943_360.274_8.348  | 2943 | 2.261041 | 5.162537e-14 | 1.21268e-10 | Significant |\n",
       "| 3381_360.275_9.43   | 3381 | 2.246924 | 5.162537e-14 | 1.21268e-10 | Significant |\n",
       "| 4552_369.275_11.559 | 4552 | 2.340778 | 5.162537e-14 | 1.21268e-10 | Significant |\n",
       "| 4249_376.288_11.124 | 4249 | 2.309530 | 5.162537e-14 | 1.21268e-10 | Significant |\n",
       "| 4478_381.262_11.446 | 4478 | 2.322094 | 5.162537e-14 | 1.21268e-10 | Significant |\n",
       "| 5711_391.287_12.789 | 5711 | 2.327654 | 5.162537e-14 | 1.21268e-10 | Significant |\n",
       "| 4364_434.294_11.262 | 4364 | 2.404058 | 5.162537e-14 | 1.21268e-10 | Significant |\n",
       "| 4098_478.338_10.89  | 4098 | 2.304881 | 5.162537e-14 | 1.21268e-10 | Significant |\n",
       "| 3990_485.158_10.732 | 3990 | 2.629914 | 5.162537e-14 | 1.21268e-10 | Significant |\n",
       "\n"
      ],
      "text/plain": [
       "   stats_Metabolites   stats_ID stats_diff stats_p      stats_p_bonferroni\n",
       "1  1304_224.151_6.196  1304     2.239982   5.162537e-14 1.21268e-10       \n",
       "2  2090_260.186_7.042  2090     2.367443   5.162537e-14 1.21268e-10       \n",
       "3  348_273.145_3.244    348     2.354191   5.162537e-14 1.21268e-10       \n",
       "4  2038_276.134_7      2038     2.225034   5.162537e-14 1.21268e-10       \n",
       "5  361_290.124_3.607    361     2.374715   5.162537e-14 1.21268e-10       \n",
       "6  5508_307.227_12.587 5508     2.369146   5.162537e-14 1.21268e-10       \n",
       "7  365_319.15_3.788     365     2.220778   5.162537e-14 1.21268e-10       \n",
       "8  5218_319.191_12.346 5218     2.337166   5.162537e-14 1.21268e-10       \n",
       "9  3843_325.164_10.535 3843     2.292635   5.162537e-14 1.21268e-10       \n",
       "10 319_338.181_2.132    319     2.213534   5.162537e-14 1.21268e-10       \n",
       "11 5877_358.295_12.931 5877     2.328610   5.162537e-14 1.21268e-10       \n",
       "12 2943_360.274_8.348  2943     2.261041   5.162537e-14 1.21268e-10       \n",
       "13 3381_360.275_9.43   3381     2.246924   5.162537e-14 1.21268e-10       \n",
       "14 4552_369.275_11.559 4552     2.340778   5.162537e-14 1.21268e-10       \n",
       "15 4249_376.288_11.124 4249     2.309530   5.162537e-14 1.21268e-10       \n",
       "16 4478_381.262_11.446 4478     2.322094   5.162537e-14 1.21268e-10       \n",
       "17 5711_391.287_12.789 5711     2.327654   5.162537e-14 1.21268e-10       \n",
       "18 4364_434.294_11.262 4364     2.404058   5.162537e-14 1.21268e-10       \n",
       "19 4098_478.338_10.89  4098     2.304881   5.162537e-14 1.21268e-10       \n",
       "20 3990_485.158_10.732 3990     2.629914   5.162537e-14 1.21268e-10       \n",
       "   stats_significant\n",
       "1  Significant      \n",
       "2  Significant      \n",
       "3  Significant      \n",
       "4  Significant      \n",
       "5  Significant      \n",
       "6  Significant      \n",
       "7  Significant      \n",
       "8  Significant      \n",
       "9  Significant      \n",
       "10 Significant      \n",
       "11 Significant      \n",
       "12 Significant      \n",
       "13 Significant      \n",
       "14 Significant      \n",
       "15 Significant      \n",
       "16 Significant      \n",
       "17 Significant      \n",
       "18 Significant      \n",
       "19 Significant      \n",
       "20 Significant      "
      ]
     },
     "metadata": {},
     "output_type": "display_data"
    }
   ],
   "source": [
    "output_tukey %>% arrange(stats_p) %>% slice_head(n=20)"
   ]
  },
  {
   "cell_type": "markdown",
   "metadata": {
    "id": "CZXYtBwkaEeH"
   },
   "source": [
    "Create a *volcano plot* that displays -log(p) on the y-axis and group-difference on the x-axis. Again, display names of top findings in the plot"
   ]
  },
  {
   "cell_type": "code",
   "execution_count": 81,
   "metadata": {
    "id": "1lYg7CDQe7mB"
   },
   "outputs": [],
   "source": [
    "plot_tukey <- ggplot(output_tukey,aes(x=stats_diff,y=-log(stats_p,base=10),color=stats_significant))+ \n",
    "geom_point()+\n",
    "theme_minimal()+\n",
    "scale_color_jama()+\n",
    "ylab(\"-log(p)\")+\n",
    "geom_text_repel(data=output_tukey %>% arrange(stats_p) %>% slice_head(n=5),\n",
    "                  aes(label=stats_Metabolites),size=3,show.legend = FALSE,max.overlaps = 100)+\n",
    "theme(legend.title = element_blank())\n"
   ]
  },
  {
   "cell_type": "code",
   "execution_count": 82,
   "metadata": {
    "colab": {
     "base_uri": "https://localhost:8080/",
     "height": 437
    },
    "id": "uQ1D2wjmzG2X",
    "outputId": "76c626ac-afb3-42a3-85ea-33cd360ad9b9"
   },
   "outputs": [
    {
     "data": {
      "image/png": "[encoded data removed]",
      "text/plain": [
       "plot without title"
      ]
     },
     "metadata": {
      "image/png": {
       "height": 420,
       "width": 420
      }
     },
     "output_type": "display_data"
    }
   ],
   "source": [
    "plot_tukey"
   ]
  },
  {
   "cell_type": "markdown",
   "metadata": {
    "id": "kDA0dW4hadIA"
   },
   "source": [
    "Export plot as pdf"
   ]
  },
  {
   "cell_type": "code",
   "execution_count": 261,
   "metadata": {
    "colab": {
     "base_uri": "https://localhost:8080/",
     "height": 34
    },
    "id": "RYVFAIZR3AQX",
    "outputId": "c8832c05-b1df-4e43-c021-7d21edb45a47"
   },
   "outputs": [
    {
     "name": "stderr",
     "output_type": "stream",
     "text": [
      "\u001b[1m\u001b[22mSaving 6.67 x 6.67 in image\n"
     ]
    }
   ],
   "source": [
    "ggsave(plot = plot_tukey, filename=\"TukeyHSD_group0vsgroup45.pdf\")\n",
    "\n"
   ]
  },
  {
   "cell_type": "markdown",
   "metadata": {
    "id": "gn19Y7_0_z_e"
   },
   "source": [
    "Export results as csv"
   ]
  },
  {
   "cell_type": "code",
   "execution_count": 84,
   "metadata": {
    "id": "BGvDJRyB_3W_"
   },
   "outputs": [],
   "source": [
    "write.csv(output_tukey,\"TukeyHSD_output.csv\")"
   ]
  },
  {
   "cell_type": "markdown",
   "metadata": {
    "id": "Z0FivoWbK71o"
   },
   "source": [
    "As a sanity check we can check a few of the top metabolites by plotting them in a boxplot. Just change the input argument for *y* to match a name in the result list above."
   ]
  },
  {
   "cell_type": "code",
   "execution_count": 85,
   "metadata": {
    "colab": {
     "base_uri": "https://localhost:8080/",
     "height": 645
    },
    "id": "mmKoLsZBGJ-g",
    "outputId": "d39b85f7-b73d-4dbc-da24-80bac986845e"
   },
   "outputs": [
    {
     "data": {
      "image/png": "[encoded data removed]",
      "text/plain": [
       "plot without title"
      ]
     },
     "metadata": {
      "image/png": {
       "height": 420,
       "width": 420
      }
     },
     "output_type": "display_data"
    }
   ],
   "source": [
    "ggplot(Data,aes(x=as.factor(Data$'ATTRIBUTE_Time-Point'),y=Data$'1304_224.151_6.196',fill=as.factor(Data$'ATTRIBUTE_Time-Point')))+\n",
    "geom_boxplot()+\n",
    "geom_jitter(width=0.25, alpha=0.5)+\n",
    "theme_minimal()+\n",
    "scale_fill_jama()+\n",
    "theme(legend.title = element_blank())+\n",
    "xlab(\"Time points\")+\n",
    "ylab(\"11281_260.186_7.04\")"
   ]
  },
  {
   "cell_type": "code",
   "execution_count": 86,
   "metadata": {
    "colab": {
     "base_uri": "https://localhost:8080/",
     "height": 798
    },
    "id": "IouL3PPrR7CM",
    "outputId": "117c8c2a-1df1-44d0-89b1-ff10af47d863"
   },
   "outputs": [
    {
     "data": {
      "text/plain": [
       "R version 4.2.2 Patched (2022-11-10 r83330)\n",
       "Platform: x86_64-pc-linux-gnu (64-bit)\n",
       "Running under: Ubuntu 20.04.5 LTS\n",
       "\n",
       "Matrix products: default\n",
       "BLAS:   /usr/lib/x86_64-linux-gnu/blas/libblas.so.3.9.0\n",
       "LAPACK: /usr/lib/x86_64-linux-gnu/lapack/liblapack.so.3.9.0\n",
       "\n",
       "locale:\n",
       " [1] LC_CTYPE=C.UTF-8       LC_NUMERIC=C           LC_TIME=C.UTF-8       \n",
       " [4] LC_COLLATE=C.UTF-8     LC_MONETARY=C.UTF-8    LC_MESSAGES=C.UTF-8   \n",
       " [7] LC_PAPER=C.UTF-8       LC_NAME=C              LC_ADDRESS=C          \n",
       "[10] LC_TELEPHONE=C         LC_MEASUREMENT=C.UTF-8 LC_IDENTIFICATION=C   \n",
       "\n",
       "attached base packages:\n",
       "[1] stats     graphics  grDevices utils     datasets  methods   base     \n",
       "\n",
       "other attached packages:\n",
       " [1] ggrepel_0.9.2      matrixStats_0.63.0 ggsci_2.9          forcats_0.5.2     \n",
       " [5] stringr_1.4.1      dplyr_1.0.10       purrr_0.3.5        readr_2.1.3       \n",
       " [9] tidyr_1.2.1        tibble_3.1.8       ggplot2_3.4.0      tidyverse_1.3.2   \n",
       "\n",
       "loaded via a namespace (and not attached):\n",
       " [1] Rcpp_1.0.9          lubridate_1.9.0     assertthat_0.2.1   \n",
       " [4] digest_0.6.30       utf8_1.2.2          IRdisplay_1.1      \n",
       " [7] R6_2.5.1            cellranger_1.1.0    repr_1.1.4         \n",
       "[10] backports_1.4.1     reprex_2.0.2        evaluate_0.18      \n",
       "[13] httr_1.4.4          pillar_1.8.1        rlang_1.0.6        \n",
       "[16] googlesheets4_1.0.1 uuid_1.1-0          readxl_1.4.1       \n",
       "[19] labeling_0.4.2      googledrive_2.0.0   munsell_0.5.0      \n",
       "[22] broom_1.0.1         compiler_4.2.2      modelr_0.1.10      \n",
       "[25] pkgconfig_2.0.3     base64enc_0.1-3     htmltools_0.5.3    \n",
       "[28] tidyselect_1.2.0    fansi_1.0.3         crayon_1.5.2       \n",
       "[31] tzdb_0.3.0          dbplyr_2.2.1        withr_2.5.0        \n",
       "[34] grid_4.2.2          jsonlite_1.8.3      gtable_0.3.1       \n",
       "[37] lifecycle_1.0.3     DBI_1.1.3           magrittr_2.0.3     \n",
       "[40] scales_1.2.1        cli_3.4.1           stringi_1.7.8      \n",
       "[43] farver_2.1.1        fs_1.5.2            xml2_1.3.3         \n",
       "[46] ellipsis_0.3.2      generics_0.1.3      vctrs_0.5.1        \n",
       "[49] IRkernel_1.3.1      tools_4.2.2         glue_1.6.2         \n",
       "[52] hms_1.1.2           fastmap_1.1.0       timechange_0.1.1   \n",
       "[55] colorspace_2.0-3    gargle_1.2.1        rvest_1.0.3        \n",
       "[58] pbdZMQ_0.3-8        haven_2.5.1        "
      ]
     },
     "metadata": {},
     "output_type": "display_data"
    }
   ],
   "source": [
    "sessionInfo()"
   ]
  }
 ],
 "metadata": {
  "colab": {
   "collapsed_sections": [
    "JBzTmRCyFqID",
    "lPU6xQkdDFJ9"
   ],
   "name": "Univariate_stats.ipynb",
   "provenance": []
  },
  "gpuClass": "standard",
  "kernelspec": {
   "display_name": "R",
   "language": "R",
   "name": "ir"
  },
  "language_info": {
   "codemirror_mode": "r",
   "file_extension": ".r",
   "mimetype": "text/x-r-source",
   "name": "R",
   "pygments_lexer": "r",
   "version": "4.2.2"
  }
 },
 "nbformat": 4,
 "nbformat_minor": 1
}
