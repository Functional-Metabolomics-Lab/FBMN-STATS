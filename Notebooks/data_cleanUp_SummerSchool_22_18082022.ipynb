{
 "cells": [
  {
   "cell_type": "markdown",
   "id": "55766981",
   "metadata": {},
   "source": [
    "# Data Clean up\n",
    "Updated on: 2022-08-18 16:54:01 CEST\n",
    "\n",
    "Authors: Abzer Kelminal (abzer.shah@uni-tuebingen.de) <br>\n",
    "Input file format: .csv files or .txt files <br>\n",
    "Outputs: .csv files  <br>\n",
    "Dependencies: ggplot2, dplyr, IRdisplay\n",
    "\n",
    "This Notebook is used for cleaning the feature table, an output of metabolomics experiment, containing all the features with their corresponding intensities. The data cleanup steps involved are: 1) Blank removal 2) Imputation 3) Normalisation. Each step would be discussed in detail later."
   ]
  },
  {
   "cell_type": "markdown",
   "id": "df5aebdb",
   "metadata": {},
   "source": [
    "\n",
    "    \n",
    "This Notebook can be run with both Jupyter Notebook & Google Colab. To know more about how to get the Jupyter Notebook running with R code, please have a look at this document: [GitHub Link](https://github.com/Functional-Metabolomics-Lab/Jupyter-Notebook-Installation/blob/main/Anaconda%20with%20R%20kernel%20installation.pdf)\n",
    "    \n",
    "<div class=\"alert alert-block alert-warning\">   \n",
    "<b><font size=3> SPECIAL NOTE: Please read the comments before proceeding with the code and let us know if you run into any errors and if you think it could be commented better. We would highly appreciate your suggestions and comments!!</font> </b> </div>"
   ]
  },
  {
   "cell_type": "markdown",
   "id": "f7f59af0-e3d3-41cf-a6d0-e5656c501d8a",
   "metadata": {},
   "source": [
    "# About the Test data:\n",
    "<p style='text-align: justify;'>     \n",
    "The files used in this tutorial are part of an interlab comparison study, where different laboratories around the world analysed the same environmental samples on their respective LC-MS/MS equipments. To simulate algal bloom, standardized algae extracts (A) in marine dissovled organic matter (M) at different concentrations were prepared (450 (A45M), 150 (A15M), and 50 (A5M) ppm A). Samples were then shipped to different laboratories for untargeted LC-MS/MS metabolomics analysis. In this tutorial we are working with one of the datasets, which was acquired on a UHPLC system coupled to a Thermo Scientific Q Exactive HF Orbitrap LC-MS/MS mass spectrometer. MS/MS data were acquired in data-dependent acquisition (DDA) with fragmentation of the five most abundant ions in the spectrum per precursor scan. Data files were subsequently preprocessed using MZmine3 and the feature-based molecular networking workflow in GNPS.\n",
    "</p>\n"
   ]
  },
  {
   "cell_type": "markdown",
   "id": "a4705b9a",
   "metadata": {},
   "source": [
    "# Package installation:"
   ]
  },
  {
   "cell_type": "code",
   "execution_count": 20,
   "id": "f8048c07",
   "metadata": {},
   "outputs": [],
   "source": [
    "#installing and calling the necessary packages:\n",
    "if (!require(\"ggplot2\")) install.packages(\"ggplot2\")\n",
    "if (!require(\"dplyr\")) install.packages(\"dplyr\")\n",
    "if (!require(\"IRdisplay\")) install.packages(\"IRdisplay\")\n",
    "\n",
    "library(ggplot2)\n",
    "library(dplyr)\n",
    "library(IRdisplay)"
   ]
  },
  {
   "cell_type": "markdown",
   "id": "a7690cd9-8fe6-46a0-9730-e8c770db3f51",
   "metadata": {},
   "source": [
    "**Global settings for plot size in the output cell:** </br>\n",
    "Uncomment the line in the cell below according to the environment you use, Jupyter Notebook or Google Colab."
   ]
  },
  {
   "cell_type": "code",
   "execution_count": 21,
   "id": "2cdbe42b-a042-4416-b754-096abd19273f",
   "metadata": {},
   "outputs": [],
   "source": [
    "#options(repr.plot.width=10, repr.plot.height=8,res=600) #For google collab\n",
    "options(repr.plot.width=5, repr.plot.height=3) #For Jupyter Notebook"
   ]
  },
  {
   "cell_type": "markdown",
   "id": "e9546ef5-73f8-4623-877d-9c4daf3c18b9",
   "metadata": {},
   "source": [
    "# Input files needed for the Notebook:\n",
    "1) <b>Feature table:</b> An output of metabolomics experiment, containing all the features or peaks (LC-MS/MS peaks here) with their corresponding intensities. The feature table used in the test data is obtained by MZmine. (Filetype: .csv file) </br> \n",
    "2) <b>Metadata:</b> Created by the user about the files used obtaining the feature table (It can be a csv/txt/tsv file). The columns in a metadata should be created with the following format: filename (1st column having all the filenames in the same order as the columns in feature table), all the other columns with column name such as: ATTRIBUTE_yourDesiredAttribute. </br>\n",
    "\n",
    "Please have a look at the metadata used here for reference. Creating a metadata in the above-mentioned format is necessary for uploading the files in GNPS and to obtain a molecular network."
   ]
  },
  {
   "cell_type": "markdown",
   "id": "4557e9d6",
   "metadata": {},
   "source": [
    "# Getting the input files:"
   ]
  },
  {
   "cell_type": "markdown",
   "id": "3a31eafc",
   "metadata": {},
   "source": [
    "## 1) Reading the input data using URL (from GitHub):\n",
    "Here, we can directly pull the data files from our Functional Metabolomics Github page:"
   ]
  },
  {
   "cell_type": "code",
   "execution_count": null,
   "id": "7988ffd6",
   "metadata": {},
   "outputs": [],
   "source": [
    "ft_url <- 'https://raw.githubusercontent.com/Functional-Metabolomics-Lab/Metabolomics_SummerSchool_2022/main/data/dom/MZmine/DOM_interlab_15_gnps_iimn_quant.csv'\n",
    "md_url <- 'https://raw.githubusercontent.com/Functional-Metabolomics-Lab/Metabolomics_SummerSchool_2022/main/data/dom/MZmine/metadata_lab15.txt'"
   ]
  },
  {
   "cell_type": "code",
   "execution_count": null,
   "id": "3ad9e910",
   "metadata": {},
   "outputs": [],
   "source": [
    "ft <- read.csv(ft_url, header = T, check.names = F)\n",
    "md <- read.csv(md_url, header = T, check.names = F, sep = '\\t',row.names = 1)"
   ]
  },
  {
   "cell_type": "markdown",
   "id": "863a44d4",
   "metadata": {},
   "source": [
    "## 2) Setting a local working directory:"
   ]
  },
  {
   "cell_type": "markdown",
   "id": "60c7b90e-7586-4c46-b965-16fcac28b48f",
   "metadata": {},
   "source": [
    "### 2.1 For direct Jupyter Notebook Users:\n",
    "<p style='text-align: justify;'> <font color='green'> <b> Please make sure to include all the input files in one folder before running the script.</b> You can then simply copy the path of the folder containing all your input files in your local computer and paste it into the output line of the next cell. It will be set as your working directory (or working folder)  </font></p> \n",
    "For ex: D:\\User\\Project\\Test_Data <br>"
   ]
  },
  {
   "cell_type": "code",
   "execution_count": 22,
   "id": "4734f4b6",
   "metadata": {},
   "outputs": [
    {
     "name": "stdin",
     "output_type": "stream",
     "text": [
      "Enter the path of the folder with input files:  D:\\Projects\\Metabolomics_SummerSchool_2022-main\\data\\dom\\MZmine\n"
     ]
    }
   ],
   "source": [
    "# setting the current directory as the working directory\n",
    "Directory <- normalizePath(readline(\"Enter the path of the folder with input files: \"),\"/\",mustWork=FALSE)\n",
    "setwd(Directory)"
   ]
  },
  {
   "cell_type": "code",
   "execution_count": 23,
   "id": "e0436b28",
   "metadata": {},
   "outputs": [
    {
     "data": {
      "text/html": [
       "'D:/Projects/Metabolomics_SummerSchool_2022-main/data/dom/MZmine'"
      ],
      "text/latex": [
       "'D:/Projects/Metabolomics\\_SummerSchool\\_2022-main/data/dom/MZmine'"
      ],
      "text/markdown": [
       "'D:/Projects/Metabolomics_SummerSchool_2022-main/data/dom/MZmine'"
      ],
      "text/plain": [
       "[1] \"D:/Projects/Metabolomics_SummerSchool_2022-main/data/dom/MZmine\""
      ]
     },
     "metadata": {},
     "output_type": "display_data"
    }
   ],
   "source": [
    "getwd() #to get the working directory "
   ]
  },
  {
   "cell_type": "markdown",
   "id": "6d1dbf1f-428c-45db-8aac-71b1f9895701",
   "metadata": {},
   "source": [
    "### 2.2 For Google Colab Users:\n",
    "<p style='text-align: justify;'> <font color='red'>For Google Colab, it is not possible to access the files from your local computer as it is hosted on Google's cloud server. An easier workaround is to upload the necessary files into the Google colab session using the 'Files' icon on the left as shown in the image. The code in the next cell creates a new folder 'My_TestData' in the Colab space and sets the folder as working directory. Following the steps in the image, you can check in your Colab to see if the folder has been created. Once you see it, simply upload the files from your local PC to the folder 'My_TestData' and then continue running the rest of the script.</font> </p>\n",
    "\n",
    "<p style='text-align: justify;'>SPECIAL NOTE: All the files uploaded to Google Colab would generally disappear after 12 hours. Similarly, all the outputs would be saved only in the Colab, so we need to download them into our local system at the end of our session.</p> \n",
    "\n",
    "[Go to section: Getting outputs from Colab](#colab_output) "
   ]
  },
  {
   "cell_type": "code",
   "execution_count": null,
   "id": "0ca144ac-b007-41b7-8549-68d349cfa515",
   "metadata": {},
   "outputs": [],
   "source": [
    "#Only for Google Colab:\n",
    "dir.create(\"/content/My_TestData\", showWarnings = TRUE, recursive = FALSE, mode = \"0777\")\n",
    "setwd(\"/content/My_TestData\")"
   ]
  },
  {
   "cell_type": "markdown",
   "id": "abc777ff",
   "metadata": {},
   "source": [
    "![Google-Colab Files Upload](https://github.com/abzer005/Images-for-Jupyter-Notebooks/blob/main/StepsAll.png?raw=true)"
   ]
  },
  {
   "cell_type": "markdown",
   "id": "ee3b3371-1b04-4fc1-b342-eaee7b622b9e",
   "metadata": {},
   "source": [
    "## 3) Creating an automatic result directory:"
   ]
  },
  {
   "cell_type": "code",
   "execution_count": 24,
   "id": "dd010938",
   "metadata": {},
   "outputs": [
    {
     "data": {
      "text/html": [
       "<table>\n",
       "<thead><tr><th scope=col>INDEX</th><th scope=col>Filename</th></tr></thead>\n",
       "<tbody>\n",
       "\t<tr><td>1                                               </td><td>DOM_interlab_15_gnps_iimn_edges_msannotation.csv</td></tr>\n",
       "\t<tr><td>2                                               </td><td>DOM_interlab_15_gnps_iimn_quant.csv             </td></tr>\n",
       "\t<tr><td>3                                               </td><td>DOM_interlab_15_gnps_stats                      </td></tr>\n",
       "\t<tr><td>4                                               </td><td>DOM_interlab_15_sirius.mgf                      </td></tr>\n",
       "\t<tr><td>5                                               </td><td>metadata_lab15.txt                              </td></tr>\n",
       "</tbody>\n",
       "</table>\n"
      ],
      "text/latex": [
       "\\begin{tabular}{r|ll}\n",
       " INDEX & Filename\\\\\n",
       "\\hline\n",
       "\t 1                                                            & DOM\\_interlab\\_15\\_gnps\\_iimn\\_edges\\_msannotation.csv\\\\\n",
       "\t 2                                                          & DOM\\_interlab\\_15\\_gnps\\_iimn\\_quant.csv             \\\\\n",
       "\t 3                                                        & DOM\\_interlab\\_15\\_gnps\\_stats                      \\\\\n",
       "\t 4                                                      & DOM\\_interlab\\_15\\_sirius.mgf                      \\\\\n",
       "\t 5                                                  & metadata\\_lab15.txt                              \\\\\n",
       "\\end{tabular}\n"
      ],
      "text/markdown": [
       "\n",
       "| INDEX | Filename |\n",
       "|---|---|\n",
       "| 1                                                | DOM_interlab_15_gnps_iimn_edges_msannotation.csv |\n",
       "| 2                                                | DOM_interlab_15_gnps_iimn_quant.csv              |\n",
       "| 3                                                | DOM_interlab_15_gnps_stats                       |\n",
       "| 4                                                | DOM_interlab_15_sirius.mgf                       |\n",
       "| 5                                                | metadata_lab15.txt                               |\n",
       "\n"
      ],
      "text/plain": [
       "  INDEX Filename                                        \n",
       "1 1     DOM_interlab_15_gnps_iimn_edges_msannotation.csv\n",
       "2 2     DOM_interlab_15_gnps_iimn_quant.csv             \n",
       "3 3     DOM_interlab_15_gnps_stats                      \n",
       "4 4     DOM_interlab_15_sirius.mgf                      \n",
       "5 5     metadata_lab15.txt                              "
      ]
     },
     "metadata": {},
     "output_type": "display_data"
    }
   ],
   "source": [
    "# Getting all the files in the folder\n",
    "dirs <- dir(path=paste(getwd(), sep=\"\"), full.names=TRUE, recursive=TRUE)\n",
    "folders <- unique(dirname(dirs))\n",
    "files <- list.files(folders, full.names=TRUE)\n",
    "files_1 <- basename((files))\n",
    "files_2 <- dirname((files))\n",
    "# Creating a Result folder\n",
    "dir.create(path=paste(files_2[[1]], \"_DataCleanup_Results\", sep=\"\"), showWarnings = TRUE)\n",
    "fName <-paste(files_2[[1]], \"_DataCleanup_Results\", sep=\"\")\n",
    "\n",
    "IRdisplay::display(data.frame(INDEX=c(1:length(files_1)),Filename=files_1))"
   ]
  },
  {
   "cell_type": "markdown",
   "id": "55ab1133",
   "metadata": {},
   "source": [
    "In the following line, enter the required file index numbers separated by commas. For example as: 1,2,3. The accepted file formats are csv,txt and tsv."
   ]
  },
  {
   "cell_type": "code",
   "execution_count": 25,
   "id": "45d07e82",
   "metadata": {},
   "outputs": [
    {
     "name": "stdin",
     "output_type": "stream",
     "text": [
      "Specify the file index of gapfilled feature-file, metadata separated by commas: 2,5\n"
     ]
    }
   ],
   "source": [
    "input <- as.double(unlist(strsplit(readline(\"Specify the file index of gapfilled feature-file, metadata separated by commas:\"), split=\",\")))\n",
    "\n",
    "#Gets the extension of each file. Ex:csv\n",
    "pattern <- c()\n",
    "for (i in files_1){\n",
    "  sep_file <- substr(i, nchar(i)-2,nchar(i))\n",
    "  pattern <- rbind(pattern,sep_file)\n",
    "}\n",
    "#pattern\n",
    "\n",
    "ft <- read.csv(files_1[input[1]],sep = ifelse(pattern[input[1]]!=\"csv\",\"\\t\",\",\"), header=TRUE,check.names = FALSE) # By applying 'row.names = 1', the 1st column 'ID' becomes the row names\n",
    "md <-read.csv(files_1[input[2]], sep = ifelse(pattern[input[2]]!=\"csv\",\"\\t\",\",\"), header=TRUE,check.names = FALSE,row.names=1)"
   ]
  },
  {
   "cell_type": "markdown",
   "id": "4f12e24c",
   "metadata": {},
   "source": [
    "Lets check if the data has been read correclty!!"
   ]
  },
  {
   "cell_type": "code",
   "execution_count": 26,
   "id": "429ff705",
   "metadata": {},
   "outputs": [
    {
     "data": {
      "text/html": [
       "<table>\n",
       "<thead><tr><th scope=col>row ID</th><th scope=col>row m/z</th><th scope=col>row retention time</th><th scope=col>row ion mobility</th><th scope=col>row ion mobility unit</th><th scope=col>row CCS</th><th scope=col>correlation group ID</th><th scope=col>annotation network number</th><th scope=col>best ion</th><th scope=col>auto MS2 verify</th><th scope=col>...</th><th scope=col>DOM_Interlab-LCMS_Lab15_M_Pos_MS2_rep3.mzML Peak area</th><th scope=col>DOM_Interlab-LCMS_Lab15_A5M_Pos_MS2_rep3.mzML Peak area</th><th scope=col>DOM_Interlab-LCMS_Lab15_M_Pos_MS2_rep2.mzML Peak area</th><th scope=col>DOM_Interlab-LCMS_Lab15_A15M_Pos_MS2_rep1.mzML Peak area</th><th scope=col>DOM_Interlab-LCMS_Lab15_A15M_Pos_MS2_rep3.mzML Peak area</th><th scope=col>DOM_Interlab-LCMS_Lab15_A15M_Pos_MS2_rep2.mzML Peak area</th><th scope=col>DOM_Interlab-LCMS_Lab15_A45M_Pos_MS2_rep2.mzML Peak area</th><th scope=col>DOM_Interlab-LCMS_Lab15_A45M_Pos_MS2_rep1.mzML Peak area</th><th scope=col>DOM_Interlab-LCMS_Lab15_A45M_Pos_MS2_rep3.mzML Peak area</th><th scope=col></th></tr></thead>\n",
       "<tbody>\n",
       "\t<tr><td>6619        </td><td>150.1277    </td><td>15.915251   </td><td>NA          </td><td>NA          </td><td>NA          </td><td> 11         </td><td>NA          </td><td>            </td><td>NA          </td><td>...         </td><td>298495.20   </td><td>280151.500  </td><td>314194.56   </td><td>310458.94   </td><td>280326.80   </td><td>301103.28   </td><td>316294.78   </td><td>298293.44   </td><td>275336.47   </td><td>NA          </td></tr>\n",
       "\t<tr><td>3488        </td><td>151.1118    </td><td> 9.684117   </td><td>NA          </td><td>NA          </td><td>NA          </td><td>129         </td><td>54          </td><td>[M-H2O+NH4]+</td><td>NA          </td><td>...         </td><td>123999.58   </td><td> 72474.910  </td><td> 86713.87   </td><td> 92659.64   </td><td> 90535.35   </td><td>107936.65   </td><td> 95607.41   </td><td> 84885.34   </td><td> 92654.02   </td><td>NA          </td></tr>\n",
       "\t<tr><td>3026        </td><td>153.0910    </td><td> 8.525325   </td><td>NA          </td><td>NA          </td><td>NA          </td><td> NA         </td><td>NA          </td><td>            </td><td>NA          </td><td>...         </td><td>235400.44   </td><td>215591.770  </td><td>221566.31   </td><td>226318.05   </td><td>238839.39   </td><td>234986.17   </td><td>145115.98   </td><td>139233.22   </td><td>171750.98   </td><td>NA          </td></tr>\n",
       "\t<tr><td>6614        </td><td>153.1386    </td><td>15.877424   </td><td>NA          </td><td>NA          </td><td>NA          </td><td> NA         </td><td>NA          </td><td>            </td><td>NA          </td><td>...         </td><td>476375.20   </td><td>431051.750  </td><td>471374.84   </td><td>448385.28   </td><td>412374.70   </td><td>429941.70   </td><td>474717.10   </td><td>452052.40   </td><td>408503.22   </td><td>NA          </td></tr>\n",
       "\t<tr><td> 685        </td><td>153.1387    </td><td> 5.390586   </td><td>NA          </td><td>NA          </td><td>NA          </td><td>229         </td><td>NA          </td><td>            </td><td>NA          </td><td>...         </td><td>     0.00   </td><td>  9102.462  </td><td>     0.00   </td><td> 22815.65   </td><td> 40643.11   </td><td> 47993.26   </td><td>135856.67   </td><td>134512.40   </td><td>135126.06   </td><td>NA          </td></tr>\n",
       "\t<tr><td>6634        </td><td>153.9935    </td><td>16.073584   </td><td>NA          </td><td>NA          </td><td>NA          </td><td>276         </td><td>NA          </td><td>            </td><td>NA          </td><td>...         </td><td> 63905.38   </td><td> 64783.707  </td><td> 69387.54   </td><td> 44475.41   </td><td> 37034.16   </td><td> 33474.95   </td><td> 79056.39   </td><td> 48701.67   </td><td> 37967.32   </td><td>NA          </td></tr>\n",
       "</tbody>\n",
       "</table>\n"
      ],
      "text/latex": [
       "\\begin{tabular}{r|lllllllllllllllllllllllllll}\n",
       " row ID & row m/z & row retention time & row ion mobility & row ion mobility unit & row CCS & correlation group ID & annotation network number & best ion & auto MS2 verify & ... & DOM\\_Interlab-LCMS\\_Lab15\\_M\\_Pos\\_MS2\\_rep3.mzML Peak area & DOM\\_Interlab-LCMS\\_Lab15\\_A5M\\_Pos\\_MS2\\_rep3.mzML Peak area & DOM\\_Interlab-LCMS\\_Lab15\\_M\\_Pos\\_MS2\\_rep2.mzML Peak area & DOM\\_Interlab-LCMS\\_Lab15\\_A15M\\_Pos\\_MS2\\_rep1.mzML Peak area & DOM\\_Interlab-LCMS\\_Lab15\\_A15M\\_Pos\\_MS2\\_rep3.mzML Peak area & DOM\\_Interlab-LCMS\\_Lab15\\_A15M\\_Pos\\_MS2\\_rep2.mzML Peak area & DOM\\_Interlab-LCMS\\_Lab15\\_A45M\\_Pos\\_MS2\\_rep2.mzML Peak area & DOM\\_Interlab-LCMS\\_Lab15\\_A45M\\_Pos\\_MS2\\_rep1.mzML Peak area & DOM\\_Interlab-LCMS\\_Lab15\\_A45M\\_Pos\\_MS2\\_rep3.mzML Peak area & \\\\\n",
       "\\hline\n",
       "\t 6619         & 150.1277     & 15.915251    & NA           & NA           & NA           &  11          & NA           &              & NA           & ...          & 298495.20    & 280151.500   & 314194.56    & 310458.94    & 280326.80    & 301103.28    & 316294.78    & 298293.44    & 275336.47    & NA          \\\\\n",
       "\t 3488             & 151.1118         &  9.684117        & NA               & NA               & NA               & 129              & 54               & {[}M-H2O+NH4{]}+ & NA               & ...              & 123999.58        &  72474.910       &  86713.87        &  92659.64        &  90535.35        & 107936.65        &  95607.41        &  84885.34        &  92654.02        & NA              \\\\\n",
       "\t 3026         & 153.0910     &  8.525325    & NA           & NA           & NA           &  NA          & NA           &              & NA           & ...          & 235400.44    & 215591.770   & 221566.31    & 226318.05    & 238839.39    & 234986.17    & 145115.98    & 139233.22    & 171750.98    & NA          \\\\\n",
       "\t 6614         & 153.1386     & 15.877424    & NA           & NA           & NA           &  NA          & NA           &              & NA           & ...          & 476375.20    & 431051.750   & 471374.84    & 448385.28    & 412374.70    & 429941.70    & 474717.10    & 452052.40    & 408503.22    & NA          \\\\\n",
       "\t  685         & 153.1387     &  5.390586    & NA           & NA           & NA           & 229          & NA           &              & NA           & ...          &      0.00    &   9102.462   &      0.00    &  22815.65    &  40643.11    &  47993.26    & 135856.67    & 134512.40    & 135126.06    & NA          \\\\\n",
       "\t 6634         & 153.9935     & 16.073584    & NA           & NA           & NA           & 276          & NA           &              & NA           & ...          &  63905.38    &  64783.707   &  69387.54    &  44475.41    &  37034.16    &  33474.95    &  79056.39    &  48701.67    &  37967.32    & NA          \\\\\n",
       "\\end{tabular}\n"
      ],
      "text/markdown": [
       "\n",
       "| row ID | row m/z | row retention time | row ion mobility | row ion mobility unit | row CCS | correlation group ID | annotation network number | best ion | auto MS2 verify | ... | DOM_Interlab-LCMS_Lab15_M_Pos_MS2_rep3.mzML Peak area | DOM_Interlab-LCMS_Lab15_A5M_Pos_MS2_rep3.mzML Peak area | DOM_Interlab-LCMS_Lab15_M_Pos_MS2_rep2.mzML Peak area | DOM_Interlab-LCMS_Lab15_A15M_Pos_MS2_rep1.mzML Peak area | DOM_Interlab-LCMS_Lab15_A15M_Pos_MS2_rep3.mzML Peak area | DOM_Interlab-LCMS_Lab15_A15M_Pos_MS2_rep2.mzML Peak area | DOM_Interlab-LCMS_Lab15_A45M_Pos_MS2_rep2.mzML Peak area | DOM_Interlab-LCMS_Lab15_A45M_Pos_MS2_rep1.mzML Peak area | DOM_Interlab-LCMS_Lab15_A45M_Pos_MS2_rep3.mzML Peak area |  |\n",
       "|---|---|---|---|---|---|---|---|---|---|---|---|---|---|---|---|---|---|---|---|---|\n",
       "| 6619         | 150.1277     | 15.915251    | NA           | NA           | NA           |  11          | NA           |              | NA           | ...          | 298495.20    | 280151.500   | 314194.56    | 310458.94    | 280326.80    | 301103.28    | 316294.78    | 298293.44    | 275336.47    | NA           |\n",
       "| 3488         | 151.1118     |  9.684117    | NA           | NA           | NA           | 129          | 54           | [M-H2O+NH4]+ | NA           | ...          | 123999.58    |  72474.910   |  86713.87    |  92659.64    |  90535.35    | 107936.65    |  95607.41    |  84885.34    |  92654.02    | NA           |\n",
       "| 3026         | 153.0910     |  8.525325    | NA           | NA           | NA           |  NA          | NA           |              | NA           | ...          | 235400.44    | 215591.770   | 221566.31    | 226318.05    | 238839.39    | 234986.17    | 145115.98    | 139233.22    | 171750.98    | NA           |\n",
       "| 6614         | 153.1386     | 15.877424    | NA           | NA           | NA           |  NA          | NA           |              | NA           | ...          | 476375.20    | 431051.750   | 471374.84    | 448385.28    | 412374.70    | 429941.70    | 474717.10    | 452052.40    | 408503.22    | NA           |\n",
       "|  685         | 153.1387     |  5.390586    | NA           | NA           | NA           | 229          | NA           |              | NA           | ...          |      0.00    |   9102.462   |      0.00    |  22815.65    |  40643.11    |  47993.26    | 135856.67    | 134512.40    | 135126.06    | NA           |\n",
       "| 6634         | 153.9935     | 16.073584    | NA           | NA           | NA           | 276          | NA           |              | NA           | ...          |  63905.38    |  64783.707   |  69387.54    |  44475.41    |  37034.16    |  33474.95    |  79056.39    |  48701.67    |  37967.32    | NA           |\n",
       "\n"
      ],
      "text/plain": [
       "  row ID row m/z  row retention time row ion mobility row ion mobility unit\n",
       "1 6619   150.1277 15.915251          NA               NA                   \n",
       "2 3488   151.1118  9.684117          NA               NA                   \n",
       "3 3026   153.0910  8.525325          NA               NA                   \n",
       "4 6614   153.1386 15.877424          NA               NA                   \n",
       "5  685   153.1387  5.390586          NA               NA                   \n",
       "6 6634   153.9935 16.073584          NA               NA                   \n",
       "  row CCS correlation group ID annotation network number best ion    \n",
       "1 NA       11                  NA                                    \n",
       "2 NA      129                  54                        [M-H2O+NH4]+\n",
       "3 NA       NA                  NA                                    \n",
       "4 NA       NA                  NA                                    \n",
       "5 NA      229                  NA                                    \n",
       "6 NA      276                  NA                                    \n",
       "  auto MS2 verify ... DOM_Interlab-LCMS_Lab15_M_Pos_MS2_rep3.mzML Peak area\n",
       "1 NA              ... 298495.20                                            \n",
       "2 NA              ... 123999.58                                            \n",
       "3 NA              ... 235400.44                                            \n",
       "4 NA              ... 476375.20                                            \n",
       "5 NA              ...      0.00                                            \n",
       "6 NA              ...  63905.38                                            \n",
       "  DOM_Interlab-LCMS_Lab15_A5M_Pos_MS2_rep3.mzML Peak area\n",
       "1 280151.500                                             \n",
       "2  72474.910                                             \n",
       "3 215591.770                                             \n",
       "4 431051.750                                             \n",
       "5   9102.462                                             \n",
       "6  64783.707                                             \n",
       "  DOM_Interlab-LCMS_Lab15_M_Pos_MS2_rep2.mzML Peak area\n",
       "1 314194.56                                            \n",
       "2  86713.87                                            \n",
       "3 221566.31                                            \n",
       "4 471374.84                                            \n",
       "5      0.00                                            \n",
       "6  69387.54                                            \n",
       "  DOM_Interlab-LCMS_Lab15_A15M_Pos_MS2_rep1.mzML Peak area\n",
       "1 310458.94                                               \n",
       "2  92659.64                                               \n",
       "3 226318.05                                               \n",
       "4 448385.28                                               \n",
       "5  22815.65                                               \n",
       "6  44475.41                                               \n",
       "  DOM_Interlab-LCMS_Lab15_A15M_Pos_MS2_rep3.mzML Peak area\n",
       "1 280326.80                                               \n",
       "2  90535.35                                               \n",
       "3 238839.39                                               \n",
       "4 412374.70                                               \n",
       "5  40643.11                                               \n",
       "6  37034.16                                               \n",
       "  DOM_Interlab-LCMS_Lab15_A15M_Pos_MS2_rep2.mzML Peak area\n",
       "1 301103.28                                               \n",
       "2 107936.65                                               \n",
       "3 234986.17                                               \n",
       "4 429941.70                                               \n",
       "5  47993.26                                               \n",
       "6  33474.95                                               \n",
       "  DOM_Interlab-LCMS_Lab15_A45M_Pos_MS2_rep2.mzML Peak area\n",
       "1 316294.78                                               \n",
       "2  95607.41                                               \n",
       "3 145115.98                                               \n",
       "4 474717.10                                               \n",
       "5 135856.67                                               \n",
       "6  79056.39                                               \n",
       "  DOM_Interlab-LCMS_Lab15_A45M_Pos_MS2_rep1.mzML Peak area\n",
       "1 298293.44                                               \n",
       "2  84885.34                                               \n",
       "3 139233.22                                               \n",
       "4 452052.40                                               \n",
       "5 134512.40                                               \n",
       "6  48701.67                                               \n",
       "  DOM_Interlab-LCMS_Lab15_A45M_Pos_MS2_rep3.mzML Peak area   \n",
       "1 275336.47                                                NA\n",
       "2  92654.02                                                NA\n",
       "3 171750.98                                                NA\n",
       "4 408503.22                                                NA\n",
       "5 135126.06                                                NA\n",
       "6  37967.32                                                NA"
      ]
     },
     "metadata": {},
     "output_type": "display_data"
    },
    {
     "data": {
      "text/html": [
       "<ol class=list-inline>\n",
       "\t<li>2594</li>\n",
       "\t<li>27</li>\n",
       "</ol>\n"
      ],
      "text/latex": [
       "\\begin{enumerate*}\n",
       "\\item 2594\n",
       "\\item 27\n",
       "\\end{enumerate*}\n"
      ],
      "text/markdown": [
       "1. 2594\n",
       "2. 27\n",
       "\n",
       "\n"
      ],
      "text/plain": [
       "[1] 2594   27"
      ]
     },
     "metadata": {},
     "output_type": "display_data"
    }
   ],
   "source": [
    "head(ft)\n",
    "dim(ft)"
   ]
  },
  {
   "cell_type": "code",
   "execution_count": 27,
   "id": "a7bf0865",
   "metadata": {},
   "outputs": [
    {
     "data": {
      "text/html": [
       "<table>\n",
       "<thead><tr><th></th><th scope=col>ATTRIBUTE_Sample</th><th scope=col>ATTRIBUTE_Sample_Type</th><th scope=col>ATTRIBUTE_Time-Point</th></tr></thead>\n",
       "<tbody>\n",
       "\t<tr><th scope=row>DOM_Interlab-LCMS_Lab15_A15M_Pos_MS2_rep1.mzML</th><td>A15M  </td><td>Sample</td><td>15    </td></tr>\n",
       "\t<tr><th scope=row>DOM_Interlab-LCMS_Lab15_A15M_Pos_MS2_rep2.mzML</th><td>A15M  </td><td>Sample</td><td>15    </td></tr>\n",
       "\t<tr><th scope=row>DOM_Interlab-LCMS_Lab15_A15M_Pos_MS2_rep3.mzML</th><td>A15M  </td><td>Sample</td><td>15    </td></tr>\n",
       "\t<tr><th scope=row>DOM_Interlab-LCMS_Lab15_A45M_Pos_MS2_rep1.mzML</th><td>A45M  </td><td>Sample</td><td>45    </td></tr>\n",
       "\t<tr><th scope=row>DOM_Interlab-LCMS_Lab15_A45M_Pos_MS2_rep2.mzML</th><td>A45M  </td><td>Sample</td><td>45    </td></tr>\n",
       "\t<tr><th scope=row>DOM_Interlab-LCMS_Lab15_A45M_Pos_MS2_rep3.mzML</th><td>A45M  </td><td>Sample</td><td>45    </td></tr>\n",
       "</tbody>\n",
       "</table>\n"
      ],
      "text/latex": [
       "\\begin{tabular}{r|lll}\n",
       "  & ATTRIBUTE\\_Sample & ATTRIBUTE\\_Sample\\_Type & ATTRIBUTE\\_Time-Point\\\\\n",
       "\\hline\n",
       "\tDOM\\_Interlab-LCMS\\_Lab15\\_A15M\\_Pos\\_MS2\\_rep1.mzML & A15M   & Sample & 15    \\\\\n",
       "\tDOM\\_Interlab-LCMS\\_Lab15\\_A15M\\_Pos\\_MS2\\_rep2.mzML & A15M   & Sample & 15    \\\\\n",
       "\tDOM\\_Interlab-LCMS\\_Lab15\\_A15M\\_Pos\\_MS2\\_rep3.mzML & A15M   & Sample & 15    \\\\\n",
       "\tDOM\\_Interlab-LCMS\\_Lab15\\_A45M\\_Pos\\_MS2\\_rep1.mzML & A45M   & Sample & 45    \\\\\n",
       "\tDOM\\_Interlab-LCMS\\_Lab15\\_A45M\\_Pos\\_MS2\\_rep2.mzML & A45M   & Sample & 45    \\\\\n",
       "\tDOM\\_Interlab-LCMS\\_Lab15\\_A45M\\_Pos\\_MS2\\_rep3.mzML & A45M   & Sample & 45    \\\\\n",
       "\\end{tabular}\n"
      ],
      "text/markdown": [
       "\n",
       "| <!--/--> | ATTRIBUTE_Sample | ATTRIBUTE_Sample_Type | ATTRIBUTE_Time-Point |\n",
       "|---|---|---|---|\n",
       "| DOM_Interlab-LCMS_Lab15_A15M_Pos_MS2_rep1.mzML | A15M   | Sample | 15     |\n",
       "| DOM_Interlab-LCMS_Lab15_A15M_Pos_MS2_rep2.mzML | A15M   | Sample | 15     |\n",
       "| DOM_Interlab-LCMS_Lab15_A15M_Pos_MS2_rep3.mzML | A15M   | Sample | 15     |\n",
       "| DOM_Interlab-LCMS_Lab15_A45M_Pos_MS2_rep1.mzML | A45M   | Sample | 45     |\n",
       "| DOM_Interlab-LCMS_Lab15_A45M_Pos_MS2_rep2.mzML | A45M   | Sample | 45     |\n",
       "| DOM_Interlab-LCMS_Lab15_A45M_Pos_MS2_rep3.mzML | A45M   | Sample | 45     |\n",
       "\n"
      ],
      "text/plain": [
       "                                               ATTRIBUTE_Sample\n",
       "DOM_Interlab-LCMS_Lab15_A15M_Pos_MS2_rep1.mzML A15M            \n",
       "DOM_Interlab-LCMS_Lab15_A15M_Pos_MS2_rep2.mzML A15M            \n",
       "DOM_Interlab-LCMS_Lab15_A15M_Pos_MS2_rep3.mzML A15M            \n",
       "DOM_Interlab-LCMS_Lab15_A45M_Pos_MS2_rep1.mzML A45M            \n",
       "DOM_Interlab-LCMS_Lab15_A45M_Pos_MS2_rep2.mzML A45M            \n",
       "DOM_Interlab-LCMS_Lab15_A45M_Pos_MS2_rep3.mzML A45M            \n",
       "                                               ATTRIBUTE_Sample_Type\n",
       "DOM_Interlab-LCMS_Lab15_A15M_Pos_MS2_rep1.mzML Sample               \n",
       "DOM_Interlab-LCMS_Lab15_A15M_Pos_MS2_rep2.mzML Sample               \n",
       "DOM_Interlab-LCMS_Lab15_A15M_Pos_MS2_rep3.mzML Sample               \n",
       "DOM_Interlab-LCMS_Lab15_A45M_Pos_MS2_rep1.mzML Sample               \n",
       "DOM_Interlab-LCMS_Lab15_A45M_Pos_MS2_rep2.mzML Sample               \n",
       "DOM_Interlab-LCMS_Lab15_A45M_Pos_MS2_rep3.mzML Sample               \n",
       "                                               ATTRIBUTE_Time-Point\n",
       "DOM_Interlab-LCMS_Lab15_A15M_Pos_MS2_rep1.mzML 15                  \n",
       "DOM_Interlab-LCMS_Lab15_A15M_Pos_MS2_rep2.mzML 15                  \n",
       "DOM_Interlab-LCMS_Lab15_A15M_Pos_MS2_rep3.mzML 15                  \n",
       "DOM_Interlab-LCMS_Lab15_A45M_Pos_MS2_rep1.mzML 45                  \n",
       "DOM_Interlab-LCMS_Lab15_A45M_Pos_MS2_rep2.mzML 45                  \n",
       "DOM_Interlab-LCMS_Lab15_A45M_Pos_MS2_rep3.mzML 45                  "
      ]
     },
     "metadata": {},
     "output_type": "display_data"
    },
    {
     "data": {
      "text/html": [
       "<ol class=list-inline>\n",
       "\t<li>13</li>\n",
       "\t<li>3</li>\n",
       "</ol>\n"
      ],
      "text/latex": [
       "\\begin{enumerate*}\n",
       "\\item 13\n",
       "\\item 3\n",
       "\\end{enumerate*}\n"
      ],
      "text/markdown": [
       "1. 13\n",
       "2. 3\n",
       "\n",
       "\n"
      ],
      "text/plain": [
       "[1] 13  3"
      ]
     },
     "metadata": {},
     "output_type": "display_data"
    }
   ],
   "source": [
    "head(md)\n",
    "dim(md)"
   ]
  },
  {
   "cell_type": "markdown",
   "id": "7da5af06-1073-414a-b306-c9f5f6bae852",
   "metadata": {},
   "source": [
    "## Creating Functions:\n",
    "<p style='text-align: justify;'> Before getting into the Data cleanup steps, we have created a function that can be used later for data summarization. By creating functions, we don't have to write these big codes multiple times. Instead, we just use the function name. <font color=\"red\">The following cells in this section will not produce any outputs here. </font> The outputs will be produced when we give input variables to these functions in the later sections. </p>\n",
    "\n",
    "<p style='text-align: justify;'> Using this function, we get an idea of the multiple levels in each of the metioned attributes in the metadata as well as the datatype of each attribute.  <font color =\"blue\"> This function takes metadata table as its input. </font></p>"
   ]
  },
  {
   "cell_type": "code",
   "execution_count": 28,
   "id": "0c12929c-154a-45ef-82d7-64deca1613ba",
   "metadata": {},
   "outputs": [],
   "source": [
    "#Function: InsideLevels\n",
    " InsideLevels <- function(metatable){\n",
    "    lev <- c()\n",
    "    typ<-c()\n",
    "    for(i in 1:ncol(metatable)){\n",
    "      x <- levels(droplevels(as.factor(metatable[,i])))\n",
    "      if(is.double(metatable[,i])==T){x=round(as.double(x),2)}\n",
    "      x <-toString(x)\n",
    "      lev <- rbind(lev,x)\n",
    "      \n",
    "      y <- class(metatable[,i])\n",
    "      typ <- rbind(typ,y)\n",
    "    }\n",
    "    out <- data.frame(INDEX=c(1:ncol(metatable)),ATTRIBUTES=colnames(metatable),LEVELS=lev,TYPE=typ,row.names=NULL)\n",
    "    return(out)\n",
    "  }"
   ]
  },
  {
   "cell_type": "markdown",
   "id": "0ebcf409-e945-480d-9501-a70da21454c9",
   "metadata": {},
   "source": [
    "#### Arranging metadata and feature table in the same order:"
   ]
  },
  {
   "cell_type": "markdown",
   "id": "8dc4502e-3f83-4c02-b5d1-cd661ee1fec1",
   "metadata": {},
   "source": [
    "First, let's have a look at the different conditions within each attribute of our metadata."
   ]
  },
  {
   "cell_type": "code",
   "execution_count": 29,
   "id": "535d67d6-3e74-4eec-885c-06c434381110",
   "metadata": {},
   "outputs": [
    {
     "data": {
      "text/html": [
       "<table>\n",
       "<thead><tr><th scope=col>INDEX</th><th scope=col>ATTRIBUTES</th><th scope=col>LEVELS</th><th scope=col>TYPE</th></tr></thead>\n",
       "<tbody>\n",
       "\t<tr><td>1                      </td><td>ATTRIBUTE_Sample       </td><td>A15M, A45M, A5M, M, PPL</td><td>factor                 </td></tr>\n",
       "\t<tr><td>2                      </td><td>ATTRIBUTE_Sample_Type  </td><td>Process_Blank, Sample  </td><td>factor                 </td></tr>\n",
       "\t<tr><td>3                      </td><td>ATTRIBUTE_Time-Point   </td><td>0, 5, 15, 45           </td><td>integer                </td></tr>\n",
       "</tbody>\n",
       "</table>\n"
      ],
      "text/latex": [
       "\\begin{tabular}{r|llll}\n",
       " INDEX & ATTRIBUTES & LEVELS & TYPE\\\\\n",
       "\\hline\n",
       "\t 1                       & ATTRIBUTE\\_Sample      & A15M, A45M, A5M, M, PPL & factor                 \\\\\n",
       "\t 2                         & ATTRIBUTE\\_Sample\\_Type & Process\\_Blank, Sample   & factor                   \\\\\n",
       "\t 3                       & ATTRIBUTE\\_Time-Point  & 0, 5, 15, 45            & integer                \\\\\n",
       "\\end{tabular}\n"
      ],
      "text/markdown": [
       "\n",
       "| INDEX | ATTRIBUTES | LEVELS | TYPE |\n",
       "|---|---|---|---|\n",
       "| 1                       | ATTRIBUTE_Sample        | A15M, A45M, A5M, M, PPL | factor                  |\n",
       "| 2                       | ATTRIBUTE_Sample_Type   | Process_Blank, Sample   | factor                  |\n",
       "| 3                       | ATTRIBUTE_Time-Point    | 0, 5, 15, 45            | integer                 |\n",
       "\n"
      ],
      "text/plain": [
       "  INDEX ATTRIBUTES            LEVELS                  TYPE   \n",
       "1 1     ATTRIBUTE_Sample      A15M, A45M, A5M, M, PPL factor \n",
       "2 2     ATTRIBUTE_Sample_Type Process_Blank, Sample   factor \n",
       "3 3     ATTRIBUTE_Time-Point  0, 5, 15, 45            integer"
      ]
     },
     "metadata": {},
     "output_type": "display_data"
    }
   ],
   "source": [
    "InsideLevels(md)"
   ]
  },
  {
   "cell_type": "markdown",
   "id": "f19073e0",
   "metadata": {},
   "source": [
    "<p style='text-align: justify;'> In the next cell, we are trying to bring the feature table and metadata in the correct format such as <font color =\"green\"> the rownames of metadata and column names of feature table are the same. </font> They both are the file names and they need to be the same, as from now on, we will call the columns in our feature table based on our metadata information. Thus, using the metadata, the user can filter their data easily. You can also directly deal with your feature table without metadata by getting your hands dirty with some coding!! But having a metadata improves the user-experience greatly. </p>"
   ]
  },
  {
   "cell_type": "code",
   "execution_count": 30,
   "id": "25ffd93c",
   "metadata": {},
   "outputs": [],
   "source": [
    "new_ft <- ft\n",
    "new_md <- md\n",
    "\n",
    "#Removing Peak area extensions\n",
    "colnames(new_ft) <- gsub(' Peak area','',colnames(new_ft))\n",
    "rownames(new_md) <- gsub(' Peak area','',rownames(new_md))\n",
    "\n",
    "new_md <- new_md[,colSums(is.na(new_md))<nrow(new_md)] #Removing if any NA columns present in the md file\n",
    "rownames(new_md) <- trimws(rownames(new_md), which = c(\"both\")) #remove the (front & tail) spaces, if any present, from the rownames of md\n",
    "\n",
    "#Removing the spaces (if any) from each column of md and converting them all to UPPERCASE\n",
    "for(i in 1:ncol(new_md)){\n",
    "    if(is.factor(new_md[,i]) | is.character(new_md[,i]) == T){\n",
    "        new_md[,i] <- trimws(new_md[,i], which = c(\"both\")) #First remove spaces in the front and end of each column of md\n",
    "        new_md[,i] <- gsub(' ','_', new_md[,i]) # Replace the spaces (in the middle) to underscore\n",
    "        new_md[,i] <- factor(casefold(new_md[,i], upper=T)) #convert all to UPPERCASE\n",
    "    } else if (is.numeric(new_md[,i]) | is.integer(new_md[,i]) | is.double(new_md[,i]) == T){\n",
    "        new_md[,i] <- new_md[,i]\n",
    "    }\n",
    "}\n",
    "\n",
    "#Changing the row names of the files\n",
    "rownames(new_ft) <- paste(new_ft$'row ID',round(new_ft$'row m/z',digits = 3),round(new_ft$'row retention time',digits = 3), sep = '_')\n",
    "\n",
    "#Picking only the files with column names containing 'mzML'\n",
    "new_ft <- new_ft[,grep('mzML',colnames(new_ft))]"
   ]
  },
  {
   "cell_type": "code",
   "execution_count": 31,
   "id": "3120ede3-351f-4b92-bf9c-276465ec41af",
   "metadata": {},
   "outputs": [
    {
     "data": {
      "text/html": [
       "<table>\n",
       "<thead><tr><th scope=col>INDEX</th><th scope=col>ATTRIBUTES</th><th scope=col>LEVELS</th><th scope=col>TYPE</th></tr></thead>\n",
       "<tbody>\n",
       "\t<tr><td>1                      </td><td>ATTRIBUTE_Sample       </td><td>A15M, A45M, A5M, M, PPL</td><td>factor                 </td></tr>\n",
       "\t<tr><td>2                      </td><td>ATTRIBUTE_Sample_Type  </td><td>PROCESS_BLANK, SAMPLE  </td><td>factor                 </td></tr>\n",
       "\t<tr><td>3                      </td><td>ATTRIBUTE_Time-Point   </td><td>0, 5, 15, 45           </td><td>integer                </td></tr>\n",
       "</tbody>\n",
       "</table>\n"
      ],
      "text/latex": [
       "\\begin{tabular}{r|llll}\n",
       " INDEX & ATTRIBUTES & LEVELS & TYPE\\\\\n",
       "\\hline\n",
       "\t 1                       & ATTRIBUTE\\_Sample      & A15M, A45M, A5M, M, PPL & factor                 \\\\\n",
       "\t 2                         & ATTRIBUTE\\_Sample\\_Type & PROCESS\\_BLANK, SAMPLE   & factor                   \\\\\n",
       "\t 3                       & ATTRIBUTE\\_Time-Point  & 0, 5, 15, 45            & integer                \\\\\n",
       "\\end{tabular}\n"
      ],
      "text/markdown": [
       "\n",
       "| INDEX | ATTRIBUTES | LEVELS | TYPE |\n",
       "|---|---|---|---|\n",
       "| 1                       | ATTRIBUTE_Sample        | A15M, A45M, A5M, M, PPL | factor                  |\n",
       "| 2                       | ATTRIBUTE_Sample_Type   | PROCESS_BLANK, SAMPLE   | factor                  |\n",
       "| 3                       | ATTRIBUTE_Time-Point    | 0, 5, 15, 45            | integer                 |\n",
       "\n"
      ],
      "text/plain": [
       "  INDEX ATTRIBUTES            LEVELS                  TYPE   \n",
       "1 1     ATTRIBUTE_Sample      A15M, A45M, A5M, M, PPL factor \n",
       "2 2     ATTRIBUTE_Sample_Type PROCESS_BLANK, SAMPLE   factor \n",
       "3 3     ATTRIBUTE_Time-Point  0, 5, 15, 45            integer"
      ]
     },
     "metadata": {},
     "output_type": "display_data"
    }
   ],
   "source": [
    "InsideLevels(new_md)"
   ]
  },
  {
   "cell_type": "code",
   "execution_count": 32,
   "id": "c82159eb",
   "metadata": {},
   "outputs": [
    {
     "name": "stdout",
     "output_type": "stream",
     "text": [
      "These 0 columns of feature table are not present in metadata:"
     ]
    },
    {
     "data": {
      "text/html": [],
      "text/latex": [],
      "text/markdown": [],
      "text/plain": [
       "     [,1] [,2]"
      ]
     },
     "metadata": {},
     "output_type": "display_data"
    },
    {
     "name": "stdout",
     "output_type": "stream",
     "text": [
      "These 0 rows of metadata are not present in feature table:"
     ]
    },
    {
     "data": {
      "text/html": [],
      "text/latex": [],
      "text/markdown": [],
      "text/plain": [
       "     [,1] [,2]"
      ]
     },
     "metadata": {},
     "output_type": "display_data"
    }
   ],
   "source": [
    "new_ft<- new_ft[,order(colnames(new_ft))] #ordering the ft by its column names\n",
    "new_md <-new_md[order(rownames(new_md)),] #ordering the md by its row names\n",
    "\n",
    "#lists the colnames(ft) which are not present in md\n",
    "unmatched_ft <- colnames(new_ft)[which(is.na(match(colnames(new_ft),rownames(new_md))))] \n",
    "cat(\"These\", length(unmatched_ft),\"columns of feature table are not present in metadata:\")\n",
    "if((length(unmatched_ft) %% 2) ==0)\n",
    "{matrix(data=unmatched_ft,nrow=length(unmatched_ft)/2,ncol=2)}else\n",
    "{matrix(data=unmatched_ft,nrow=(length(unmatched_ft)+1)/2,ncol=2)}\n",
    "\n",
    "flush.console()\n",
    "Sys.sleep(0.2)\n",
    "\n",
    "#lists the rownames of md which are not present in ft\n",
    "unmatched_md <- rownames(new_md)[which(is.na(match(rownames(new_md),colnames(new_ft))))] \n",
    "cat(\"These\", length(unmatched_md),\"rows of metadata are not present in feature table:\")\n",
    "if((length(unmatched_md) %% 2) ==0)\n",
    "{matrix(data=unmatched_md,nrow=length(unmatched_md)/2,ncol=2)}else\n",
    "{matrix(data=unmatched_md,nrow=(length(unmatched_md)+1)/2,ncol=2)}\n",
    "\n",
    "#Removing those unmatching columns and rows:\n",
    "if(length(unmatched_ft)!=0){new_ft <- subset(ft, select = -c(which(is.na(match(colnames(ft),rownames(md))))) )}\n",
    "if(length(unmatched_md)!=0){new_md <- md[-c(which(is.na(match(rownames(md),colnames(ft))))),]}"
   ]
  },
  {
   "cell_type": "code",
   "execution_count": 33,
   "id": "881877f6",
   "metadata": {},
   "outputs": [
    {
     "name": "stdout",
     "output_type": "stream",
     "text": [
      "The number of rows and columns in our original ft is: 2594 27 \n",
      "The number of rows and columns in our new ft is: 2594 13 \n",
      "The number of rows and columns in our new md is: 13 3"
     ]
    }
   ],
   "source": [
    "#checking the dimensions of our new ft and md:\n",
    "cat(\"The number of rows and columns in our original ft is:\",dim(ft),\"\\n\")\n",
    "cat(\"The number of rows and columns in our new ft is:\",dim(new_ft),\"\\n\")\n",
    "cat(\"The number of rows and columns in our new md is:\",dim(new_md))"
   ]
  },
  {
   "cell_type": "markdown",
   "id": "ed594448",
   "metadata": {},
   "source": [
    "Notice that the number of columns of feature table is same as the number of rows in our metadata. Now, we have both our feature table and metadata in the same order."
   ]
  },
  {
   "cell_type": "code",
   "execution_count": 34,
   "id": "01979e55",
   "metadata": {},
   "outputs": [
    {
     "name": "stdout",
     "output_type": "stream",
     "text": [
      "[1] \"The column names of ft and rownames of md are the same\"\n"
     ]
    }
   ],
   "source": [
    "#checking if they are the same\n",
    "if(identical(colnames(new_ft),rownames(new_md))==T){\n",
    "    print(\"The column names of ft and rownames of md are the same\")}else{print(\"The column names of ft and rownames of md are not the same\")}"
   ]
  },
  {
   "cell_type": "markdown",
   "id": "e927cf45",
   "metadata": {},
   "source": [
    "Lets check the files once again!!"
   ]
  },
  {
   "cell_type": "code",
   "execution_count": 35,
   "id": "499d8a48",
   "metadata": {},
   "outputs": [
    {
     "data": {
      "text/html": [
       "<table>\n",
       "<thead><tr><th></th><th scope=col>DOM_Interlab-LCMS_Lab15_A15M_Pos_MS2_rep1.mzML</th><th scope=col>DOM_Interlab-LCMS_Lab15_A15M_Pos_MS2_rep2.mzML</th><th scope=col>DOM_Interlab-LCMS_Lab15_A15M_Pos_MS2_rep3.mzML</th><th scope=col>DOM_Interlab-LCMS_Lab15_A45M_Pos_MS2_rep1.mzML</th><th scope=col>DOM_Interlab-LCMS_Lab15_A45M_Pos_MS2_rep2.mzML</th><th scope=col>DOM_Interlab-LCMS_Lab15_A45M_Pos_MS2_rep3.mzML</th><th scope=col>DOM_Interlab-LCMS_Lab15_A5M_Pos_MS2_rep1.mzML</th><th scope=col>DOM_Interlab-LCMS_Lab15_A5M_Pos_MS2_rep2.mzML</th><th scope=col>DOM_Interlab-LCMS_Lab15_A5M_Pos_MS2_rep3.mzML</th><th scope=col>DOM_Interlab-LCMS_Lab15_M_Pos_MS2_rep1.mzML</th><th scope=col>DOM_Interlab-LCMS_Lab15_M_Pos_MS2_rep2.mzML</th><th scope=col>DOM_Interlab-LCMS_Lab15_M_Pos_MS2_rep3.mzML</th><th scope=col>DOM_Interlab-LCMS_Lab15_PPL_Pos_MS2.mzML</th></tr></thead>\n",
       "<tbody>\n",
       "\t<tr><th scope=row>6619_150.128_15.915</th><td>310458.94 </td><td>301103.28 </td><td>280326.80 </td><td>298293.44 </td><td>316294.78 </td><td>275336.47 </td><td>309871.200</td><td>297437.120</td><td>280151.500</td><td>316066.56 </td><td>314194.56 </td><td>298495.20 </td><td>322782.0  </td></tr>\n",
       "\t<tr><th scope=row>3488_151.112_9.684</th><td> 92659.64 </td><td>107936.65 </td><td> 90535.35 </td><td> 84885.34 </td><td> 95607.41 </td><td> 92654.02 </td><td> 88818.610</td><td> 91449.840</td><td> 72474.910</td><td> 72892.23 </td><td> 86713.87 </td><td>123999.58 </td><td>     0.0  </td></tr>\n",
       "\t<tr><th scope=row>3026_153.091_8.525</th><td>226318.05 </td><td>234986.17 </td><td>238839.39 </td><td>139233.22 </td><td>145115.98 </td><td>171750.98 </td><td>194286.900</td><td>189326.750</td><td>215591.770</td><td>201655.44 </td><td>221566.31 </td><td>235400.44 </td><td>     0.0  </td></tr>\n",
       "\t<tr><th scope=row>6614_153.139_15.877</th><td>448385.28 </td><td>429941.70 </td><td>412374.70 </td><td>452052.40 </td><td>474717.10 </td><td>408503.22 </td><td>524913.560</td><td>483516.840</td><td>431051.750</td><td>504660.10 </td><td>471374.84 </td><td>476375.20 </td><td>630689.8  </td></tr>\n",
       "\t<tr><th scope=row>685_153.139_5.391</th><td> 22815.65 </td><td> 47993.26 </td><td> 40643.11 </td><td>134512.40 </td><td>135856.67 </td><td>135126.06 </td><td>  8692.169</td><td>  8439.676</td><td>  9102.462</td><td>     0.00 </td><td>     0.00 </td><td>     0.00 </td><td>     0.0  </td></tr>\n",
       "\t<tr><th scope=row>6634_153.993_16.074</th><td> 44475.41 </td><td> 33474.95 </td><td> 37034.16 </td><td> 48701.67 </td><td> 79056.39 </td><td> 37967.32 </td><td> 92928.555</td><td> 71734.195</td><td> 64783.707</td><td> 85841.34 </td><td> 69387.54 </td><td> 63905.38 </td><td>135725.9  </td></tr>\n",
       "</tbody>\n",
       "</table>\n"
      ],
      "text/latex": [
       "\\begin{tabular}{r|lllllllllllll}\n",
       "  & DOM\\_Interlab-LCMS\\_Lab15\\_A15M\\_Pos\\_MS2\\_rep1.mzML & DOM\\_Interlab-LCMS\\_Lab15\\_A15M\\_Pos\\_MS2\\_rep2.mzML & DOM\\_Interlab-LCMS\\_Lab15\\_A15M\\_Pos\\_MS2\\_rep3.mzML & DOM\\_Interlab-LCMS\\_Lab15\\_A45M\\_Pos\\_MS2\\_rep1.mzML & DOM\\_Interlab-LCMS\\_Lab15\\_A45M\\_Pos\\_MS2\\_rep2.mzML & DOM\\_Interlab-LCMS\\_Lab15\\_A45M\\_Pos\\_MS2\\_rep3.mzML & DOM\\_Interlab-LCMS\\_Lab15\\_A5M\\_Pos\\_MS2\\_rep1.mzML & DOM\\_Interlab-LCMS\\_Lab15\\_A5M\\_Pos\\_MS2\\_rep2.mzML & DOM\\_Interlab-LCMS\\_Lab15\\_A5M\\_Pos\\_MS2\\_rep3.mzML & DOM\\_Interlab-LCMS\\_Lab15\\_M\\_Pos\\_MS2\\_rep1.mzML & DOM\\_Interlab-LCMS\\_Lab15\\_M\\_Pos\\_MS2\\_rep2.mzML & DOM\\_Interlab-LCMS\\_Lab15\\_M\\_Pos\\_MS2\\_rep3.mzML & DOM\\_Interlab-LCMS\\_Lab15\\_PPL\\_Pos\\_MS2.mzML\\\\\n",
       "\\hline\n",
       "\t6619\\_150.128\\_15.915 & 310458.94  & 301103.28  & 280326.80  & 298293.44  & 316294.78  & 275336.47  & 309871.200 & 297437.120 & 280151.500 & 316066.56  & 314194.56  & 298495.20  & 322782.0  \\\\\n",
       "\t3488\\_151.112\\_9.684 &  92659.64  & 107936.65  &  90535.35  &  84885.34  &  95607.41  &  92654.02  &  88818.610 &  91449.840 &  72474.910 &  72892.23  &  86713.87  & 123999.58  &      0.0  \\\\\n",
       "\t3026\\_153.091\\_8.525 & 226318.05  & 234986.17  & 238839.39  & 139233.22  & 145115.98  & 171750.98  & 194286.900 & 189326.750 & 215591.770 & 201655.44  & 221566.31  & 235400.44  &      0.0  \\\\\n",
       "\t6614\\_153.139\\_15.877 & 448385.28  & 429941.70  & 412374.70  & 452052.40  & 474717.10  & 408503.22  & 524913.560 & 483516.840 & 431051.750 & 504660.10  & 471374.84  & 476375.20  & 630689.8  \\\\\n",
       "\t685\\_153.139\\_5.391 &  22815.65  &  47993.26  &  40643.11  & 134512.40  & 135856.67  & 135126.06  &   8692.169 &   8439.676 &   9102.462 &      0.00  &      0.00  &      0.00  &      0.0  \\\\\n",
       "\t6634\\_153.993\\_16.074 &  44475.41  &  33474.95  &  37034.16  &  48701.67  &  79056.39  &  37967.32  &  92928.555 &  71734.195 &  64783.707 &  85841.34  &  69387.54  &  63905.38  & 135725.9  \\\\\n",
       "\\end{tabular}\n"
      ],
      "text/markdown": [
       "\n",
       "| <!--/--> | DOM_Interlab-LCMS_Lab15_A15M_Pos_MS2_rep1.mzML | DOM_Interlab-LCMS_Lab15_A15M_Pos_MS2_rep2.mzML | DOM_Interlab-LCMS_Lab15_A15M_Pos_MS2_rep3.mzML | DOM_Interlab-LCMS_Lab15_A45M_Pos_MS2_rep1.mzML | DOM_Interlab-LCMS_Lab15_A45M_Pos_MS2_rep2.mzML | DOM_Interlab-LCMS_Lab15_A45M_Pos_MS2_rep3.mzML | DOM_Interlab-LCMS_Lab15_A5M_Pos_MS2_rep1.mzML | DOM_Interlab-LCMS_Lab15_A5M_Pos_MS2_rep2.mzML | DOM_Interlab-LCMS_Lab15_A5M_Pos_MS2_rep3.mzML | DOM_Interlab-LCMS_Lab15_M_Pos_MS2_rep1.mzML | DOM_Interlab-LCMS_Lab15_M_Pos_MS2_rep2.mzML | DOM_Interlab-LCMS_Lab15_M_Pos_MS2_rep3.mzML | DOM_Interlab-LCMS_Lab15_PPL_Pos_MS2.mzML |\n",
       "|---|---|---|---|---|---|---|---|---|---|---|---|---|---|\n",
       "| 6619_150.128_15.915 | 310458.94  | 301103.28  | 280326.80  | 298293.44  | 316294.78  | 275336.47  | 309871.200 | 297437.120 | 280151.500 | 316066.56  | 314194.56  | 298495.20  | 322782.0   |\n",
       "| 3488_151.112_9.684 |  92659.64  | 107936.65  |  90535.35  |  84885.34  |  95607.41  |  92654.02  |  88818.610 |  91449.840 |  72474.910 |  72892.23  |  86713.87  | 123999.58  |      0.0   |\n",
       "| 3026_153.091_8.525 | 226318.05  | 234986.17  | 238839.39  | 139233.22  | 145115.98  | 171750.98  | 194286.900 | 189326.750 | 215591.770 | 201655.44  | 221566.31  | 235400.44  |      0.0   |\n",
       "| 6614_153.139_15.877 | 448385.28  | 429941.70  | 412374.70  | 452052.40  | 474717.10  | 408503.22  | 524913.560 | 483516.840 | 431051.750 | 504660.10  | 471374.84  | 476375.20  | 630689.8   |\n",
       "| 685_153.139_5.391 |  22815.65  |  47993.26  |  40643.11  | 134512.40  | 135856.67  | 135126.06  |   8692.169 |   8439.676 |   9102.462 |      0.00  |      0.00  |      0.00  |      0.0   |\n",
       "| 6634_153.993_16.074 |  44475.41  |  33474.95  |  37034.16  |  48701.67  |  79056.39  |  37967.32  |  92928.555 |  71734.195 |  64783.707 |  85841.34  |  69387.54  |  63905.38  | 135725.9   |\n",
       "\n"
      ],
      "text/plain": [
       "                    DOM_Interlab-LCMS_Lab15_A15M_Pos_MS2_rep1.mzML\n",
       "6619_150.128_15.915 310458.94                                     \n",
       "3488_151.112_9.684   92659.64                                     \n",
       "3026_153.091_8.525  226318.05                                     \n",
       "6614_153.139_15.877 448385.28                                     \n",
       "685_153.139_5.391    22815.65                                     \n",
       "6634_153.993_16.074  44475.41                                     \n",
       "                    DOM_Interlab-LCMS_Lab15_A15M_Pos_MS2_rep2.mzML\n",
       "6619_150.128_15.915 301103.28                                     \n",
       "3488_151.112_9.684  107936.65                                     \n",
       "3026_153.091_8.525  234986.17                                     \n",
       "6614_153.139_15.877 429941.70                                     \n",
       "685_153.139_5.391    47993.26                                     \n",
       "6634_153.993_16.074  33474.95                                     \n",
       "                    DOM_Interlab-LCMS_Lab15_A15M_Pos_MS2_rep3.mzML\n",
       "6619_150.128_15.915 280326.80                                     \n",
       "3488_151.112_9.684   90535.35                                     \n",
       "3026_153.091_8.525  238839.39                                     \n",
       "6614_153.139_15.877 412374.70                                     \n",
       "685_153.139_5.391    40643.11                                     \n",
       "6634_153.993_16.074  37034.16                                     \n",
       "                    DOM_Interlab-LCMS_Lab15_A45M_Pos_MS2_rep1.mzML\n",
       "6619_150.128_15.915 298293.44                                     \n",
       "3488_151.112_9.684   84885.34                                     \n",
       "3026_153.091_8.525  139233.22                                     \n",
       "6614_153.139_15.877 452052.40                                     \n",
       "685_153.139_5.391   134512.40                                     \n",
       "6634_153.993_16.074  48701.67                                     \n",
       "                    DOM_Interlab-LCMS_Lab15_A45M_Pos_MS2_rep2.mzML\n",
       "6619_150.128_15.915 316294.78                                     \n",
       "3488_151.112_9.684   95607.41                                     \n",
       "3026_153.091_8.525  145115.98                                     \n",
       "6614_153.139_15.877 474717.10                                     \n",
       "685_153.139_5.391   135856.67                                     \n",
       "6634_153.993_16.074  79056.39                                     \n",
       "                    DOM_Interlab-LCMS_Lab15_A45M_Pos_MS2_rep3.mzML\n",
       "6619_150.128_15.915 275336.47                                     \n",
       "3488_151.112_9.684   92654.02                                     \n",
       "3026_153.091_8.525  171750.98                                     \n",
       "6614_153.139_15.877 408503.22                                     \n",
       "685_153.139_5.391   135126.06                                     \n",
       "6634_153.993_16.074  37967.32                                     \n",
       "                    DOM_Interlab-LCMS_Lab15_A5M_Pos_MS2_rep1.mzML\n",
       "6619_150.128_15.915 309871.200                                   \n",
       "3488_151.112_9.684   88818.610                                   \n",
       "3026_153.091_8.525  194286.900                                   \n",
       "6614_153.139_15.877 524913.560                                   \n",
       "685_153.139_5.391     8692.169                                   \n",
       "6634_153.993_16.074  92928.555                                   \n",
       "                    DOM_Interlab-LCMS_Lab15_A5M_Pos_MS2_rep2.mzML\n",
       "6619_150.128_15.915 297437.120                                   \n",
       "3488_151.112_9.684   91449.840                                   \n",
       "3026_153.091_8.525  189326.750                                   \n",
       "6614_153.139_15.877 483516.840                                   \n",
       "685_153.139_5.391     8439.676                                   \n",
       "6634_153.993_16.074  71734.195                                   \n",
       "                    DOM_Interlab-LCMS_Lab15_A5M_Pos_MS2_rep3.mzML\n",
       "6619_150.128_15.915 280151.500                                   \n",
       "3488_151.112_9.684   72474.910                                   \n",
       "3026_153.091_8.525  215591.770                                   \n",
       "6614_153.139_15.877 431051.750                                   \n",
       "685_153.139_5.391     9102.462                                   \n",
       "6634_153.993_16.074  64783.707                                   \n",
       "                    DOM_Interlab-LCMS_Lab15_M_Pos_MS2_rep1.mzML\n",
       "6619_150.128_15.915 316066.56                                  \n",
       "3488_151.112_9.684   72892.23                                  \n",
       "3026_153.091_8.525  201655.44                                  \n",
       "6614_153.139_15.877 504660.10                                  \n",
       "685_153.139_5.391        0.00                                  \n",
       "6634_153.993_16.074  85841.34                                  \n",
       "                    DOM_Interlab-LCMS_Lab15_M_Pos_MS2_rep2.mzML\n",
       "6619_150.128_15.915 314194.56                                  \n",
       "3488_151.112_9.684   86713.87                                  \n",
       "3026_153.091_8.525  221566.31                                  \n",
       "6614_153.139_15.877 471374.84                                  \n",
       "685_153.139_5.391        0.00                                  \n",
       "6634_153.993_16.074  69387.54                                  \n",
       "                    DOM_Interlab-LCMS_Lab15_M_Pos_MS2_rep3.mzML\n",
       "6619_150.128_15.915 298495.20                                  \n",
       "3488_151.112_9.684  123999.58                                  \n",
       "3026_153.091_8.525  235400.44                                  \n",
       "6614_153.139_15.877 476375.20                                  \n",
       "685_153.139_5.391        0.00                                  \n",
       "6634_153.993_16.074  63905.38                                  \n",
       "                    DOM_Interlab-LCMS_Lab15_PPL_Pos_MS2.mzML\n",
       "6619_150.128_15.915 322782.0                                \n",
       "3488_151.112_9.684       0.0                                \n",
       "3026_153.091_8.525       0.0                                \n",
       "6614_153.139_15.877 630689.8                                \n",
       "685_153.139_5.391        0.0                                \n",
       "6634_153.993_16.074 135725.9                                "
      ]
     },
     "metadata": {},
     "output_type": "display_data"
    },
    {
     "data": {
      "text/html": [
       "<ol class=list-inline>\n",
       "\t<li>2594</li>\n",
       "\t<li>13</li>\n",
       "</ol>\n"
      ],
      "text/latex": [
       "\\begin{enumerate*}\n",
       "\\item 2594\n",
       "\\item 13\n",
       "\\end{enumerate*}\n"
      ],
      "text/markdown": [
       "1. 2594\n",
       "2. 13\n",
       "\n",
       "\n"
      ],
      "text/plain": [
       "[1] 2594   13"
      ]
     },
     "metadata": {},
     "output_type": "display_data"
    }
   ],
   "source": [
    "head(new_ft)\n",
    "dim(new_ft)"
   ]
  },
  {
   "cell_type": "code",
   "execution_count": 36,
   "id": "6027aea7",
   "metadata": {},
   "outputs": [
    {
     "data": {
      "text/html": [
       "<table>\n",
       "<thead><tr><th></th><th scope=col>ATTRIBUTE_Sample</th><th scope=col>ATTRIBUTE_Sample_Type</th><th scope=col>ATTRIBUTE_Time-Point</th></tr></thead>\n",
       "<tbody>\n",
       "\t<tr><th scope=row>DOM_Interlab-LCMS_Lab15_A15M_Pos_MS2_rep1.mzML</th><td>A15M  </td><td>SAMPLE</td><td>15    </td></tr>\n",
       "\t<tr><th scope=row>DOM_Interlab-LCMS_Lab15_A15M_Pos_MS2_rep2.mzML</th><td>A15M  </td><td>SAMPLE</td><td>15    </td></tr>\n",
       "\t<tr><th scope=row>DOM_Interlab-LCMS_Lab15_A15M_Pos_MS2_rep3.mzML</th><td>A15M  </td><td>SAMPLE</td><td>15    </td></tr>\n",
       "\t<tr><th scope=row>DOM_Interlab-LCMS_Lab15_A45M_Pos_MS2_rep1.mzML</th><td>A45M  </td><td>SAMPLE</td><td>45    </td></tr>\n",
       "\t<tr><th scope=row>DOM_Interlab-LCMS_Lab15_A45M_Pos_MS2_rep2.mzML</th><td>A45M  </td><td>SAMPLE</td><td>45    </td></tr>\n",
       "\t<tr><th scope=row>DOM_Interlab-LCMS_Lab15_A45M_Pos_MS2_rep3.mzML</th><td>A45M  </td><td>SAMPLE</td><td>45    </td></tr>\n",
       "</tbody>\n",
       "</table>\n"
      ],
      "text/latex": [
       "\\begin{tabular}{r|lll}\n",
       "  & ATTRIBUTE\\_Sample & ATTRIBUTE\\_Sample\\_Type & ATTRIBUTE\\_Time-Point\\\\\n",
       "\\hline\n",
       "\tDOM\\_Interlab-LCMS\\_Lab15\\_A15M\\_Pos\\_MS2\\_rep1.mzML & A15M   & SAMPLE & 15    \\\\\n",
       "\tDOM\\_Interlab-LCMS\\_Lab15\\_A15M\\_Pos\\_MS2\\_rep2.mzML & A15M   & SAMPLE & 15    \\\\\n",
       "\tDOM\\_Interlab-LCMS\\_Lab15\\_A15M\\_Pos\\_MS2\\_rep3.mzML & A15M   & SAMPLE & 15    \\\\\n",
       "\tDOM\\_Interlab-LCMS\\_Lab15\\_A45M\\_Pos\\_MS2\\_rep1.mzML & A45M   & SAMPLE & 45    \\\\\n",
       "\tDOM\\_Interlab-LCMS\\_Lab15\\_A45M\\_Pos\\_MS2\\_rep2.mzML & A45M   & SAMPLE & 45    \\\\\n",
       "\tDOM\\_Interlab-LCMS\\_Lab15\\_A45M\\_Pos\\_MS2\\_rep3.mzML & A45M   & SAMPLE & 45    \\\\\n",
       "\\end{tabular}\n"
      ],
      "text/markdown": [
       "\n",
       "| <!--/--> | ATTRIBUTE_Sample | ATTRIBUTE_Sample_Type | ATTRIBUTE_Time-Point |\n",
       "|---|---|---|---|\n",
       "| DOM_Interlab-LCMS_Lab15_A15M_Pos_MS2_rep1.mzML | A15M   | SAMPLE | 15     |\n",
       "| DOM_Interlab-LCMS_Lab15_A15M_Pos_MS2_rep2.mzML | A15M   | SAMPLE | 15     |\n",
       "| DOM_Interlab-LCMS_Lab15_A15M_Pos_MS2_rep3.mzML | A15M   | SAMPLE | 15     |\n",
       "| DOM_Interlab-LCMS_Lab15_A45M_Pos_MS2_rep1.mzML | A45M   | SAMPLE | 45     |\n",
       "| DOM_Interlab-LCMS_Lab15_A45M_Pos_MS2_rep2.mzML | A45M   | SAMPLE | 45     |\n",
       "| DOM_Interlab-LCMS_Lab15_A45M_Pos_MS2_rep3.mzML | A45M   | SAMPLE | 45     |\n",
       "\n"
      ],
      "text/plain": [
       "                                               ATTRIBUTE_Sample\n",
       "DOM_Interlab-LCMS_Lab15_A15M_Pos_MS2_rep1.mzML A15M            \n",
       "DOM_Interlab-LCMS_Lab15_A15M_Pos_MS2_rep2.mzML A15M            \n",
       "DOM_Interlab-LCMS_Lab15_A15M_Pos_MS2_rep3.mzML A15M            \n",
       "DOM_Interlab-LCMS_Lab15_A45M_Pos_MS2_rep1.mzML A45M            \n",
       "DOM_Interlab-LCMS_Lab15_A45M_Pos_MS2_rep2.mzML A45M            \n",
       "DOM_Interlab-LCMS_Lab15_A45M_Pos_MS2_rep3.mzML A45M            \n",
       "                                               ATTRIBUTE_Sample_Type\n",
       "DOM_Interlab-LCMS_Lab15_A15M_Pos_MS2_rep1.mzML SAMPLE               \n",
       "DOM_Interlab-LCMS_Lab15_A15M_Pos_MS2_rep2.mzML SAMPLE               \n",
       "DOM_Interlab-LCMS_Lab15_A15M_Pos_MS2_rep3.mzML SAMPLE               \n",
       "DOM_Interlab-LCMS_Lab15_A45M_Pos_MS2_rep1.mzML SAMPLE               \n",
       "DOM_Interlab-LCMS_Lab15_A45M_Pos_MS2_rep2.mzML SAMPLE               \n",
       "DOM_Interlab-LCMS_Lab15_A45M_Pos_MS2_rep3.mzML SAMPLE               \n",
       "                                               ATTRIBUTE_Time-Point\n",
       "DOM_Interlab-LCMS_Lab15_A15M_Pos_MS2_rep1.mzML 15                  \n",
       "DOM_Interlab-LCMS_Lab15_A15M_Pos_MS2_rep2.mzML 15                  \n",
       "DOM_Interlab-LCMS_Lab15_A15M_Pos_MS2_rep3.mzML 15                  \n",
       "DOM_Interlab-LCMS_Lab15_A45M_Pos_MS2_rep1.mzML 45                  \n",
       "DOM_Interlab-LCMS_Lab15_A45M_Pos_MS2_rep2.mzML 45                  \n",
       "DOM_Interlab-LCMS_Lab15_A45M_Pos_MS2_rep3.mzML 45                  "
      ]
     },
     "metadata": {},
     "output_type": "display_data"
    },
    {
     "data": {
      "text/html": [
       "<ol class=list-inline>\n",
       "\t<li>13</li>\n",
       "\t<li>3</li>\n",
       "</ol>\n"
      ],
      "text/latex": [
       "\\begin{enumerate*}\n",
       "\\item 13\n",
       "\\item 3\n",
       "\\end{enumerate*}\n"
      ],
      "text/markdown": [
       "1. 13\n",
       "2. 3\n",
       "\n",
       "\n"
      ],
      "text/plain": [
       "[1] 13  3"
      ]
     },
     "metadata": {},
     "output_type": "display_data"
    }
   ],
   "source": [
    "head(new_md)\n",
    "dim(new_md)"
   ]
  },
  {
   "cell_type": "markdown",
   "id": "4f45b589",
   "metadata": {},
   "source": [
    "# Splitting the data into Blanks and Samples using Metadata:\n",
    "<a id=\"data_split\"></a>\n",
    "\n",
    "For the first step: Blank removal, we need to split the data as spectra obtained from blanks and samples respectively using the metadata. More about Blank removal in the next section."
   ]
  },
  {
   "cell_type": "code",
   "execution_count": 37,
   "id": "bad9deff-ec2d-4ea6-a60d-079364afbfb9",
   "metadata": {},
   "outputs": [
    {
     "data": {
      "text/html": [
       "<table>\n",
       "<thead><tr><th scope=col>INDEX</th><th scope=col>ATTRIBUTES</th><th scope=col>LEVELS</th><th scope=col>TYPE</th></tr></thead>\n",
       "<tbody>\n",
       "\t<tr><td>1                      </td><td>ATTRIBUTE_Sample       </td><td>A15M, A45M, A5M, M, PPL</td><td>factor                 </td></tr>\n",
       "\t<tr><td>2                      </td><td>ATTRIBUTE_Sample_Type  </td><td>PROCESS_BLANK, SAMPLE  </td><td>factor                 </td></tr>\n",
       "\t<tr><td>3                      </td><td>ATTRIBUTE_Time-Point   </td><td>0, 5, 15, 45           </td><td>integer                </td></tr>\n",
       "</tbody>\n",
       "</table>\n"
      ],
      "text/latex": [
       "\\begin{tabular}{r|llll}\n",
       " INDEX & ATTRIBUTES & LEVELS & TYPE\\\\\n",
       "\\hline\n",
       "\t 1                       & ATTRIBUTE\\_Sample      & A15M, A45M, A5M, M, PPL & factor                 \\\\\n",
       "\t 2                         & ATTRIBUTE\\_Sample\\_Type & PROCESS\\_BLANK, SAMPLE   & factor                   \\\\\n",
       "\t 3                       & ATTRIBUTE\\_Time-Point  & 0, 5, 15, 45            & integer                \\\\\n",
       "\\end{tabular}\n"
      ],
      "text/markdown": [
       "\n",
       "| INDEX | ATTRIBUTES | LEVELS | TYPE |\n",
       "|---|---|---|---|\n",
       "| 1                       | ATTRIBUTE_Sample        | A15M, A45M, A5M, M, PPL | factor                  |\n",
       "| 2                       | ATTRIBUTE_Sample_Type   | PROCESS_BLANK, SAMPLE   | factor                  |\n",
       "| 3                       | ATTRIBUTE_Time-Point    | 0, 5, 15, 45            | integer                 |\n",
       "\n"
      ],
      "text/plain": [
       "  INDEX ATTRIBUTES            LEVELS                  TYPE   \n",
       "1 1     ATTRIBUTE_Sample      A15M, A45M, A5M, M, PPL factor \n",
       "2 2     ATTRIBUTE_Sample_Type PROCESS_BLANK, SAMPLE   factor \n",
       "3 3     ATTRIBUTE_Time-Point  0, 5, 15, 45            integer"
      ]
     },
     "metadata": {},
     "output_type": "display_data"
    }
   ],
   "source": [
    "InsideLevels(new_md)"
   ]
  },
  {
   "cell_type": "markdown",
   "id": "f51e5128-1077-4413-9c7f-eb044d2e4993",
   "metadata": {},
   "source": [
    "In case of having several groups in our data, for ex: different species like B.sub and E.coli, we can subset the data accordingly using the next cell and then proceed with data-cleanup steps. In our case, we are not subsetting the data"
   ]
  },
  {
   "cell_type": "code",
   "execution_count": 38,
   "id": "b9f1f538-90cd-4bf0-92e2-31e6b2ca5ac4",
   "metadata": {},
   "outputs": [],
   "source": [
    "#subset_data <- new_md %>% filter(ATTRIBUTE_Sample != 'M')\n",
    "#InsideLevels(subset_data)\n",
    "#dim(subset_data)"
   ]
  },
  {
   "cell_type": "markdown",
   "id": "68fe2ef5",
   "metadata": {},
   "source": [
    "Once we subset the data according to a group, we can further proceed to split the blanks from the sample in the cell below. If no subsetting is involved, you can simply split your metadata into blank and sample."
   ]
  },
  {
   "cell_type": "code",
   "execution_count": 39,
   "id": "d65378ea-585c-42c5-9bd0-77e09ba04552",
   "metadata": {},
   "outputs": [
    {
     "data": {
      "text/html": [
       "<table>\n",
       "<thead><tr><th scope=col>INDEX</th><th scope=col>ATTRIBUTES</th><th scope=col>LEVELS</th><th scope=col>TYPE</th></tr></thead>\n",
       "<tbody>\n",
       "\t<tr><td>1                      </td><td>ATTRIBUTE_Sample       </td><td>A15M, A45M, A5M, M, PPL</td><td>factor                 </td></tr>\n",
       "\t<tr><td>2                      </td><td>ATTRIBUTE_Sample_Type  </td><td>PROCESS_BLANK, SAMPLE  </td><td>factor                 </td></tr>\n",
       "\t<tr><td>3                      </td><td>ATTRIBUTE_Time-Point   </td><td>0, 5, 15, 45           </td><td>integer                </td></tr>\n",
       "</tbody>\n",
       "</table>\n"
      ],
      "text/latex": [
       "\\begin{tabular}{r|llll}\n",
       " INDEX & ATTRIBUTES & LEVELS & TYPE\\\\\n",
       "\\hline\n",
       "\t 1                       & ATTRIBUTE\\_Sample      & A15M, A45M, A5M, M, PPL & factor                 \\\\\n",
       "\t 2                         & ATTRIBUTE\\_Sample\\_Type & PROCESS\\_BLANK, SAMPLE   & factor                   \\\\\n",
       "\t 3                       & ATTRIBUTE\\_Time-Point  & 0, 5, 15, 45            & integer                \\\\\n",
       "\\end{tabular}\n"
      ],
      "text/markdown": [
       "\n",
       "| INDEX | ATTRIBUTES | LEVELS | TYPE |\n",
       "|---|---|---|---|\n",
       "| 1                       | ATTRIBUTE_Sample        | A15M, A45M, A5M, M, PPL | factor                  |\n",
       "| 2                       | ATTRIBUTE_Sample_Type   | PROCESS_BLANK, SAMPLE   | factor                  |\n",
       "| 3                       | ATTRIBUTE_Time-Point    | 0, 5, 15, 45            | integer                 |\n",
       "\n"
      ],
      "text/plain": [
       "  INDEX ATTRIBUTES            LEVELS                  TYPE   \n",
       "1 1     ATTRIBUTE_Sample      A15M, A45M, A5M, M, PPL factor \n",
       "2 2     ATTRIBUTE_Sample_Type PROCESS_BLANK, SAMPLE   factor \n",
       "3 3     ATTRIBUTE_Time-Point  0, 5, 15, 45            integer"
      ]
     },
     "metadata": {},
     "output_type": "display_data"
    },
    {
     "name": "stdin",
     "output_type": "stream",
     "text": [
      "Enter the index number of the attribute to split sample and blank: 2\n"
     ]
    },
    {
     "data": {
      "text/html": [
       "<table>\n",
       "<thead><tr><th scope=col>INDEX</th><th scope=col>LEVELS</th></tr></thead>\n",
       "<tbody>\n",
       "\t<tr><td>1            </td><td>PROCESS_BLANK</td></tr>\n",
       "\t<tr><td>2            </td><td>SAMPLE       </td></tr>\n",
       "</tbody>\n",
       "</table>\n"
      ],
      "text/latex": [
       "\\begin{tabular}{r|ll}\n",
       " INDEX & LEVELS\\\\\n",
       "\\hline\n",
       "\t 1               & PROCESS\\_BLANK\\\\\n",
       "\t 2             & SAMPLE       \\\\\n",
       "\\end{tabular}\n"
      ],
      "text/markdown": [
       "\n",
       "| INDEX | LEVELS |\n",
       "|---|---|\n",
       "| 1             | PROCESS_BLANK |\n",
       "| 2             | SAMPLE        |\n",
       "\n"
      ],
      "text/plain": [
       "  INDEX LEVELS       \n",
       "1 1     PROCESS_BLANK\n",
       "2 2     SAMPLE       "
      ]
     },
     "metadata": {},
     "output_type": "display_data"
    },
    {
     "name": "stdin",
     "output_type": "stream",
     "text": [
      "Enter the index number of your BLANK: 1\n"
     ]
    },
    {
     "data": {
      "text/html": [
       "'You chosen blank is:PROCESS_BLANK'"
      ],
      "text/latex": [
       "'You chosen blank is:PROCESS\\_BLANK'"
      ],
      "text/markdown": [
       "'You chosen blank is:PROCESS_BLANK'"
      ],
      "text/plain": [
       "[1] \"You chosen blank is:PROCESS_BLANK\""
      ]
     },
     "metadata": {},
     "output_type": "display_data"
    }
   ],
   "source": [
    "#If subset_data exists, it will take it as \"data\", else take new_md as \"data\"\n",
    "if(exists(\"subset_data\")==T){data <-subset_data}else{data <-new_md}\n",
    "InsideLevels(data)\n",
    "\n",
    "Condition <- as.double(unlist(readline(\"Enter the index number of the attribute to split sample and blank:\")))\n",
    "Levels_Cdtn <- levels(droplevels(as.factor(data[,Condition[1]])))\n",
    "IRdisplay::display(data.frame(INDEX=c(1:length(Levels_Cdtn)),LEVELS=Levels_Cdtn))\n",
    " \n",
    "#Among the shown levels of an attribute, select the ones to keep\n",
    "Blk_id <- as.double(unlist(readline(\"Enter the index number of your BLANK:\")))\n",
    "paste0('You chosen blank is:',Levels_Cdtn[Blk_id])\n",
    "  \n",
    "#Splitting the data into blanks and samples based on the metadata\n",
    "md_Blank <- data[(data[,Condition] == Levels_Cdtn[Blk_id]),]\n",
    "Blank <- new_ft[,which(colnames(new_ft)%in%rownames(md_Blank)),drop=F] \n",
    "md_Samples <- data[(data[,Condition] != Levels_Cdtn[Blk_id]),]\n",
    "Samples <- new_ft[,which(colnames(new_ft)%in%rownames(md_Samples)),drop=F] "
   ]
  },
  {
   "cell_type": "code",
   "execution_count": 40,
   "id": "aed01148",
   "metadata": {},
   "outputs": [
    {
     "data": {
      "text/html": [
       "<table>\n",
       "<thead><tr><th></th><th scope=col>DOM_Interlab-LCMS_Lab15_PPL_Pos_MS2.mzML</th></tr></thead>\n",
       "<tbody>\n",
       "\t<tr><th scope=row>6619_150.128_15.915</th><td>322782.0</td></tr>\n",
       "\t<tr><th scope=row>3488_151.112_9.684</th><td>     0.0</td></tr>\n",
       "\t<tr><th scope=row>3026_153.091_8.525</th><td>     0.0</td></tr>\n",
       "\t<tr><th scope=row>6614_153.139_15.877</th><td>630689.8</td></tr>\n",
       "\t<tr><th scope=row>685_153.139_5.391</th><td>     0.0</td></tr>\n",
       "\t<tr><th scope=row>6634_153.993_16.074</th><td>135725.9</td></tr>\n",
       "</tbody>\n",
       "</table>\n"
      ],
      "text/latex": [
       "\\begin{tabular}{r|l}\n",
       "  & DOM\\_Interlab-LCMS\\_Lab15\\_PPL\\_Pos\\_MS2.mzML\\\\\n",
       "\\hline\n",
       "\t6619\\_150.128\\_15.915 & 322782.0\\\\\n",
       "\t3488\\_151.112\\_9.684 &      0.0\\\\\n",
       "\t3026\\_153.091\\_8.525 &      0.0\\\\\n",
       "\t6614\\_153.139\\_15.877 & 630689.8\\\\\n",
       "\t685\\_153.139\\_5.391 &      0.0\\\\\n",
       "\t6634\\_153.993\\_16.074 & 135725.9\\\\\n",
       "\\end{tabular}\n"
      ],
      "text/markdown": [
       "\n",
       "| <!--/--> | DOM_Interlab-LCMS_Lab15_PPL_Pos_MS2.mzML |\n",
       "|---|---|\n",
       "| 6619_150.128_15.915 | 322782.0 |\n",
       "| 3488_151.112_9.684 |      0.0 |\n",
       "| 3026_153.091_8.525 |      0.0 |\n",
       "| 6614_153.139_15.877 | 630689.8 |\n",
       "| 685_153.139_5.391 |      0.0 |\n",
       "| 6634_153.993_16.074 | 135725.9 |\n",
       "\n"
      ],
      "text/plain": [
       "                    DOM_Interlab-LCMS_Lab15_PPL_Pos_MS2.mzML\n",
       "6619_150.128_15.915 322782.0                                \n",
       "3488_151.112_9.684       0.0                                \n",
       "3026_153.091_8.525       0.0                                \n",
       "6614_153.139_15.877 630689.8                                \n",
       "685_153.139_5.391        0.0                                \n",
       "6634_153.993_16.074 135725.9                                "
      ]
     },
     "metadata": {},
     "output_type": "display_data"
    },
    {
     "data": {
      "text/html": [
       "<ol class=list-inline>\n",
       "\t<li>2594</li>\n",
       "\t<li>1</li>\n",
       "</ol>\n"
      ],
      "text/latex": [
       "\\begin{enumerate*}\n",
       "\\item 2594\n",
       "\\item 1\n",
       "\\end{enumerate*}\n"
      ],
      "text/markdown": [
       "1. 2594\n",
       "2. 1\n",
       "\n",
       "\n"
      ],
      "text/plain": [
       "[1] 2594    1"
      ]
     },
     "metadata": {},
     "output_type": "display_data"
    }
   ],
   "source": [
    "head(Blank)\n",
    "dim(Blank)"
   ]
  },
  {
   "cell_type": "code",
   "execution_count": 41,
   "id": "37531ef9",
   "metadata": {},
   "outputs": [
    {
     "data": {
      "text/html": [
       "<table>\n",
       "<thead><tr><th></th><th scope=col>DOM_Interlab-LCMS_Lab15_A15M_Pos_MS2_rep1.mzML</th><th scope=col>DOM_Interlab-LCMS_Lab15_A15M_Pos_MS2_rep2.mzML</th><th scope=col>DOM_Interlab-LCMS_Lab15_A15M_Pos_MS2_rep3.mzML</th><th scope=col>DOM_Interlab-LCMS_Lab15_A45M_Pos_MS2_rep1.mzML</th><th scope=col>DOM_Interlab-LCMS_Lab15_A45M_Pos_MS2_rep2.mzML</th><th scope=col>DOM_Interlab-LCMS_Lab15_A45M_Pos_MS2_rep3.mzML</th><th scope=col>DOM_Interlab-LCMS_Lab15_A5M_Pos_MS2_rep1.mzML</th><th scope=col>DOM_Interlab-LCMS_Lab15_A5M_Pos_MS2_rep2.mzML</th><th scope=col>DOM_Interlab-LCMS_Lab15_A5M_Pos_MS2_rep3.mzML</th><th scope=col>DOM_Interlab-LCMS_Lab15_M_Pos_MS2_rep1.mzML</th><th scope=col>DOM_Interlab-LCMS_Lab15_M_Pos_MS2_rep2.mzML</th><th scope=col>DOM_Interlab-LCMS_Lab15_M_Pos_MS2_rep3.mzML</th></tr></thead>\n",
       "<tbody>\n",
       "\t<tr><th scope=row>6619_150.128_15.915</th><td>310458.94 </td><td>301103.28 </td><td>280326.80 </td><td>298293.44 </td><td>316294.78 </td><td>275336.47 </td><td>309871.200</td><td>297437.120</td><td>280151.500</td><td>316066.56 </td><td>314194.56 </td><td>298495.20 </td></tr>\n",
       "\t<tr><th scope=row>3488_151.112_9.684</th><td> 92659.64 </td><td>107936.65 </td><td> 90535.35 </td><td> 84885.34 </td><td> 95607.41 </td><td> 92654.02 </td><td> 88818.610</td><td> 91449.840</td><td> 72474.910</td><td> 72892.23 </td><td> 86713.87 </td><td>123999.58 </td></tr>\n",
       "\t<tr><th scope=row>3026_153.091_8.525</th><td>226318.05 </td><td>234986.17 </td><td>238839.39 </td><td>139233.22 </td><td>145115.98 </td><td>171750.98 </td><td>194286.900</td><td>189326.750</td><td>215591.770</td><td>201655.44 </td><td>221566.31 </td><td>235400.44 </td></tr>\n",
       "\t<tr><th scope=row>6614_153.139_15.877</th><td>448385.28 </td><td>429941.70 </td><td>412374.70 </td><td>452052.40 </td><td>474717.10 </td><td>408503.22 </td><td>524913.560</td><td>483516.840</td><td>431051.750</td><td>504660.10 </td><td>471374.84 </td><td>476375.20 </td></tr>\n",
       "\t<tr><th scope=row>685_153.139_5.391</th><td> 22815.65 </td><td> 47993.26 </td><td> 40643.11 </td><td>134512.40 </td><td>135856.67 </td><td>135126.06 </td><td>  8692.169</td><td>  8439.676</td><td>  9102.462</td><td>     0.00 </td><td>     0.00 </td><td>     0.00 </td></tr>\n",
       "\t<tr><th scope=row>6634_153.993_16.074</th><td> 44475.41 </td><td> 33474.95 </td><td> 37034.16 </td><td> 48701.67 </td><td> 79056.39 </td><td> 37967.32 </td><td> 92928.555</td><td> 71734.195</td><td> 64783.707</td><td> 85841.34 </td><td> 69387.54 </td><td> 63905.38 </td></tr>\n",
       "</tbody>\n",
       "</table>\n"
      ],
      "text/latex": [
       "\\begin{tabular}{r|llllllllllll}\n",
       "  & DOM\\_Interlab-LCMS\\_Lab15\\_A15M\\_Pos\\_MS2\\_rep1.mzML & DOM\\_Interlab-LCMS\\_Lab15\\_A15M\\_Pos\\_MS2\\_rep2.mzML & DOM\\_Interlab-LCMS\\_Lab15\\_A15M\\_Pos\\_MS2\\_rep3.mzML & DOM\\_Interlab-LCMS\\_Lab15\\_A45M\\_Pos\\_MS2\\_rep1.mzML & DOM\\_Interlab-LCMS\\_Lab15\\_A45M\\_Pos\\_MS2\\_rep2.mzML & DOM\\_Interlab-LCMS\\_Lab15\\_A45M\\_Pos\\_MS2\\_rep3.mzML & DOM\\_Interlab-LCMS\\_Lab15\\_A5M\\_Pos\\_MS2\\_rep1.mzML & DOM\\_Interlab-LCMS\\_Lab15\\_A5M\\_Pos\\_MS2\\_rep2.mzML & DOM\\_Interlab-LCMS\\_Lab15\\_A5M\\_Pos\\_MS2\\_rep3.mzML & DOM\\_Interlab-LCMS\\_Lab15\\_M\\_Pos\\_MS2\\_rep1.mzML & DOM\\_Interlab-LCMS\\_Lab15\\_M\\_Pos\\_MS2\\_rep2.mzML & DOM\\_Interlab-LCMS\\_Lab15\\_M\\_Pos\\_MS2\\_rep3.mzML\\\\\n",
       "\\hline\n",
       "\t6619\\_150.128\\_15.915 & 310458.94  & 301103.28  & 280326.80  & 298293.44  & 316294.78  & 275336.47  & 309871.200 & 297437.120 & 280151.500 & 316066.56  & 314194.56  & 298495.20 \\\\\n",
       "\t3488\\_151.112\\_9.684 &  92659.64  & 107936.65  &  90535.35  &  84885.34  &  95607.41  &  92654.02  &  88818.610 &  91449.840 &  72474.910 &  72892.23  &  86713.87  & 123999.58 \\\\\n",
       "\t3026\\_153.091\\_8.525 & 226318.05  & 234986.17  & 238839.39  & 139233.22  & 145115.98  & 171750.98  & 194286.900 & 189326.750 & 215591.770 & 201655.44  & 221566.31  & 235400.44 \\\\\n",
       "\t6614\\_153.139\\_15.877 & 448385.28  & 429941.70  & 412374.70  & 452052.40  & 474717.10  & 408503.22  & 524913.560 & 483516.840 & 431051.750 & 504660.10  & 471374.84  & 476375.20 \\\\\n",
       "\t685\\_153.139\\_5.391 &  22815.65  &  47993.26  &  40643.11  & 134512.40  & 135856.67  & 135126.06  &   8692.169 &   8439.676 &   9102.462 &      0.00  &      0.00  &      0.00 \\\\\n",
       "\t6634\\_153.993\\_16.074 &  44475.41  &  33474.95  &  37034.16  &  48701.67  &  79056.39  &  37967.32  &  92928.555 &  71734.195 &  64783.707 &  85841.34  &  69387.54  &  63905.38 \\\\\n",
       "\\end{tabular}\n"
      ],
      "text/markdown": [
       "\n",
       "| <!--/--> | DOM_Interlab-LCMS_Lab15_A15M_Pos_MS2_rep1.mzML | DOM_Interlab-LCMS_Lab15_A15M_Pos_MS2_rep2.mzML | DOM_Interlab-LCMS_Lab15_A15M_Pos_MS2_rep3.mzML | DOM_Interlab-LCMS_Lab15_A45M_Pos_MS2_rep1.mzML | DOM_Interlab-LCMS_Lab15_A45M_Pos_MS2_rep2.mzML | DOM_Interlab-LCMS_Lab15_A45M_Pos_MS2_rep3.mzML | DOM_Interlab-LCMS_Lab15_A5M_Pos_MS2_rep1.mzML | DOM_Interlab-LCMS_Lab15_A5M_Pos_MS2_rep2.mzML | DOM_Interlab-LCMS_Lab15_A5M_Pos_MS2_rep3.mzML | DOM_Interlab-LCMS_Lab15_M_Pos_MS2_rep1.mzML | DOM_Interlab-LCMS_Lab15_M_Pos_MS2_rep2.mzML | DOM_Interlab-LCMS_Lab15_M_Pos_MS2_rep3.mzML |\n",
       "|---|---|---|---|---|---|---|---|---|---|---|---|---|\n",
       "| 6619_150.128_15.915 | 310458.94  | 301103.28  | 280326.80  | 298293.44  | 316294.78  | 275336.47  | 309871.200 | 297437.120 | 280151.500 | 316066.56  | 314194.56  | 298495.20  |\n",
       "| 3488_151.112_9.684 |  92659.64  | 107936.65  |  90535.35  |  84885.34  |  95607.41  |  92654.02  |  88818.610 |  91449.840 |  72474.910 |  72892.23  |  86713.87  | 123999.58  |\n",
       "| 3026_153.091_8.525 | 226318.05  | 234986.17  | 238839.39  | 139233.22  | 145115.98  | 171750.98  | 194286.900 | 189326.750 | 215591.770 | 201655.44  | 221566.31  | 235400.44  |\n",
       "| 6614_153.139_15.877 | 448385.28  | 429941.70  | 412374.70  | 452052.40  | 474717.10  | 408503.22  | 524913.560 | 483516.840 | 431051.750 | 504660.10  | 471374.84  | 476375.20  |\n",
       "| 685_153.139_5.391 |  22815.65  |  47993.26  |  40643.11  | 134512.40  | 135856.67  | 135126.06  |   8692.169 |   8439.676 |   9102.462 |      0.00  |      0.00  |      0.00  |\n",
       "| 6634_153.993_16.074 |  44475.41  |  33474.95  |  37034.16  |  48701.67  |  79056.39  |  37967.32  |  92928.555 |  71734.195 |  64783.707 |  85841.34  |  69387.54  |  63905.38  |\n",
       "\n"
      ],
      "text/plain": [
       "                    DOM_Interlab-LCMS_Lab15_A15M_Pos_MS2_rep1.mzML\n",
       "6619_150.128_15.915 310458.94                                     \n",
       "3488_151.112_9.684   92659.64                                     \n",
       "3026_153.091_8.525  226318.05                                     \n",
       "6614_153.139_15.877 448385.28                                     \n",
       "685_153.139_5.391    22815.65                                     \n",
       "6634_153.993_16.074  44475.41                                     \n",
       "                    DOM_Interlab-LCMS_Lab15_A15M_Pos_MS2_rep2.mzML\n",
       "6619_150.128_15.915 301103.28                                     \n",
       "3488_151.112_9.684  107936.65                                     \n",
       "3026_153.091_8.525  234986.17                                     \n",
       "6614_153.139_15.877 429941.70                                     \n",
       "685_153.139_5.391    47993.26                                     \n",
       "6634_153.993_16.074  33474.95                                     \n",
       "                    DOM_Interlab-LCMS_Lab15_A15M_Pos_MS2_rep3.mzML\n",
       "6619_150.128_15.915 280326.80                                     \n",
       "3488_151.112_9.684   90535.35                                     \n",
       "3026_153.091_8.525  238839.39                                     \n",
       "6614_153.139_15.877 412374.70                                     \n",
       "685_153.139_5.391    40643.11                                     \n",
       "6634_153.993_16.074  37034.16                                     \n",
       "                    DOM_Interlab-LCMS_Lab15_A45M_Pos_MS2_rep1.mzML\n",
       "6619_150.128_15.915 298293.44                                     \n",
       "3488_151.112_9.684   84885.34                                     \n",
       "3026_153.091_8.525  139233.22                                     \n",
       "6614_153.139_15.877 452052.40                                     \n",
       "685_153.139_5.391   134512.40                                     \n",
       "6634_153.993_16.074  48701.67                                     \n",
       "                    DOM_Interlab-LCMS_Lab15_A45M_Pos_MS2_rep2.mzML\n",
       "6619_150.128_15.915 316294.78                                     \n",
       "3488_151.112_9.684   95607.41                                     \n",
       "3026_153.091_8.525  145115.98                                     \n",
       "6614_153.139_15.877 474717.10                                     \n",
       "685_153.139_5.391   135856.67                                     \n",
       "6634_153.993_16.074  79056.39                                     \n",
       "                    DOM_Interlab-LCMS_Lab15_A45M_Pos_MS2_rep3.mzML\n",
       "6619_150.128_15.915 275336.47                                     \n",
       "3488_151.112_9.684   92654.02                                     \n",
       "3026_153.091_8.525  171750.98                                     \n",
       "6614_153.139_15.877 408503.22                                     \n",
       "685_153.139_5.391   135126.06                                     \n",
       "6634_153.993_16.074  37967.32                                     \n",
       "                    DOM_Interlab-LCMS_Lab15_A5M_Pos_MS2_rep1.mzML\n",
       "6619_150.128_15.915 309871.200                                   \n",
       "3488_151.112_9.684   88818.610                                   \n",
       "3026_153.091_8.525  194286.900                                   \n",
       "6614_153.139_15.877 524913.560                                   \n",
       "685_153.139_5.391     8692.169                                   \n",
       "6634_153.993_16.074  92928.555                                   \n",
       "                    DOM_Interlab-LCMS_Lab15_A5M_Pos_MS2_rep2.mzML\n",
       "6619_150.128_15.915 297437.120                                   \n",
       "3488_151.112_9.684   91449.840                                   \n",
       "3026_153.091_8.525  189326.750                                   \n",
       "6614_153.139_15.877 483516.840                                   \n",
       "685_153.139_5.391     8439.676                                   \n",
       "6634_153.993_16.074  71734.195                                   \n",
       "                    DOM_Interlab-LCMS_Lab15_A5M_Pos_MS2_rep3.mzML\n",
       "6619_150.128_15.915 280151.500                                   \n",
       "3488_151.112_9.684   72474.910                                   \n",
       "3026_153.091_8.525  215591.770                                   \n",
       "6614_153.139_15.877 431051.750                                   \n",
       "685_153.139_5.391     9102.462                                   \n",
       "6634_153.993_16.074  64783.707                                   \n",
       "                    DOM_Interlab-LCMS_Lab15_M_Pos_MS2_rep1.mzML\n",
       "6619_150.128_15.915 316066.56                                  \n",
       "3488_151.112_9.684   72892.23                                  \n",
       "3026_153.091_8.525  201655.44                                  \n",
       "6614_153.139_15.877 504660.10                                  \n",
       "685_153.139_5.391        0.00                                  \n",
       "6634_153.993_16.074  85841.34                                  \n",
       "                    DOM_Interlab-LCMS_Lab15_M_Pos_MS2_rep2.mzML\n",
       "6619_150.128_15.915 314194.56                                  \n",
       "3488_151.112_9.684   86713.87                                  \n",
       "3026_153.091_8.525  221566.31                                  \n",
       "6614_153.139_15.877 471374.84                                  \n",
       "685_153.139_5.391        0.00                                  \n",
       "6634_153.993_16.074  69387.54                                  \n",
       "                    DOM_Interlab-LCMS_Lab15_M_Pos_MS2_rep3.mzML\n",
       "6619_150.128_15.915 298495.20                                  \n",
       "3488_151.112_9.684  123999.58                                  \n",
       "3026_153.091_8.525  235400.44                                  \n",
       "6614_153.139_15.877 476375.20                                  \n",
       "685_153.139_5.391        0.00                                  \n",
       "6634_153.993_16.074  63905.38                                  "
      ]
     },
     "metadata": {},
     "output_type": "display_data"
    },
    {
     "data": {
      "text/html": [
       "<ol class=list-inline>\n",
       "\t<li>2594</li>\n",
       "\t<li>12</li>\n",
       "</ol>\n"
      ],
      "text/latex": [
       "\\begin{enumerate*}\n",
       "\\item 2594\n",
       "\\item 12\n",
       "\\end{enumerate*}\n"
      ],
      "text/markdown": [
       "1. 2594\n",
       "2. 12\n",
       "\n",
       "\n"
      ],
      "text/plain": [
       "[1] 2594   12"
      ]
     },
     "metadata": {},
     "output_type": "display_data"
    }
   ],
   "source": [
    "head(Samples)\n",
    "dim(Samples)"
   ]
  },
  {
   "cell_type": "markdown",
   "id": "105ce796",
   "metadata": {},
   "source": [
    "**Now that we have our data ready, we can start with the cleanup steps!!**"
   ]
  },
  {
   "cell_type": "markdown",
   "id": "43099574",
   "metadata": {
    "toc-hr-collapsed": true
   },
   "source": [
    "# Step1: Blank Removal\n",
    "\n",
    "<p style='text-align: justify;'> In LC-MS/MS, we use solvents called Blanks which are usually injected time-to-time to prevent carryover of the sample. The features coming from these Blanks would also be detected by LC-MS/MS instrument. Our goal here is to remove these features from our samples. The other blanks that can be removed are: Signals coming from growth media alone in terms of microbial growth experiment, signals from the solvent used for extraction methods and so on. Therefore, it is best practice to measure mass spectra of these blanks as well in addition to your sample spectra. </p>\n",
    "\n",
    "**How do we remove these blank features?** </br> \n",
    "<p style='text-align: justify;'> Since we have the feature table split into Control blanks and Sample groups now, we can compare blanks to the sample to identify the background features coming from blanks. A common filtering method is to use a cutoff to remove features that are not present sufficient enough in our biological samples. </p>\n",
    "\n",
    "The steps followed in the next few cells are:\n",
    "1. <p style='text-align: justify;'> We find an average for all the feature intensities in your blank set and sample set. Therefore, for n no.of features in a blank or sample set, we get n no.of averaged features. </p>\n",
    "2. <p style='text-align: justify;'> Next, we get a ratio of this average_blanks vs average_sample. This ratio Blank/sample tells us how much of that particular feature of a sample gets its contribution from blanks. If it is more than 30% (or Cutoff as 0.3), we consider the feature as noise. </p>\n",
    "3. <p style='text-align: justify;'> The resultant information (if ratio > Cutoff or not) is stored in a bin such as 1 = Noise or background signal, 0 = Feature Signal</p>\n",
    "4. <p style='text-align: justify;'> We count the no.of features in the bin that satisfies the condition ratio > cutoff, and consider those features as 'noise or background features' and remove them. </p>\n",
    "\n",
    "For a dataset containing several batches or groups, the filtering steps are performed group-wise as in the previous section [Subsetting the dataset](#data_split)"
   ]
  },
  {
   "cell_type": "markdown",
   "id": "74eaf47e",
   "metadata": {},
   "source": [
    "**<font color='red'> The Cutoff used to obtain the all the files in MZmine Results folder is 0.3 </font>**"
   ]
  },
  {
   "cell_type": "code",
   "execution_count": 42,
   "id": "b25ea36a",
   "metadata": {},
   "outputs": [
    {
     "name": "stdin",
     "output_type": "stream",
     "text": [
      "Do you want to perform Blank Removal- Y/N: y\n",
      "Enter Cutoff value between 0.1 & 1: 0.3\n"
     ]
    },
    {
     "name": "stdout",
     "output_type": "stream",
     "text": [
      "[1] \"No of NA values in the following columns:\"\n",
      "         Avg_blank        Avg_samples Ratio_blank_Sample             Bg_bin \n",
      "                 0                  0                  0                  0 \n",
      "[1] \"No.of Background or noise features: 199\"\n",
      "[1] \"No.of features after excluding noise: 2395\"\n"
     ]
    }
   ],
   "source": [
    "if(casefold(readline('Do you want to perform Blank Removal- Y/N:'),upper=T)=='Y'){\n",
    "    \n",
    "    #When cutoff is low, more noise (or background) detected; With higher cutoff, less background detected, thus more features observed\n",
    "    Cutoff <- as.numeric(readline('Enter Cutoff value between 0.1 & 1:')) # (i.e. 10% - 100%). Ideal cutoff range: 0.1-0.3\n",
    "    \n",
    "    #Getting mean for every feature in blank and Samples\n",
    "    Avg_blank <- rowMeans(Blank, na.rm= FALSE, dims = 1) # set na.rm = FALSE to check if there are NA values. When set as TRUE, NA values are changed to 0\n",
    "    Avg_samples <- rowMeans(Samples, na.rm= FALSE, dims = 1)\n",
    "    \n",
    "    #Getting the ratio of blank vs Sample\n",
    "    Ratio_blank_Sample <- (Avg_blank+1)/(Avg_samples+1)\n",
    "    \n",
    "    # Creating a bin with 1s when the ratio>Cutoff, else put 0s\n",
    "    Bg_bin <- ifelse(Ratio_blank_Sample > Cutoff, 1, 0 )\n",
    "    Blank_removal <- cbind(Samples,Bg_bin)\n",
    "\n",
    "    # Checking if there are any NA values present. Having NA values in the 4 variables will affect the final dataset to be created\n",
    "    temp_NA_Count <-cbind(Avg_blank ,Avg_samples,Ratio_blank_Sample,Bg_bin)\n",
    "    \n",
    "    print('No of NA values in the following columns:')\n",
    "    print(colSums(is.na(temp_NA_Count)))\n",
    "\n",
    "     #Calculating the number of background features and features present\n",
    "    print(paste(\"No.of Background or noise features:\",sum(Bg_bin ==1,na.rm = TRUE)))\n",
    "    print(paste(\"No.of features after excluding noise:\",(nrow(Samples) - sum(Bg_bin ==1,na.rm = TRUE)))) \n",
    "\n",
    "    Blank_removal <- Blank_removal %>% filter(Bg_bin == 0) # Taking only the feature signals\n",
    "    Blank_removal <- as.matrix(Blank_removal[,-ncol(Blank_removal)]) # removing the last column Bg_bin \n",
    "}"
   ]
  },
  {
   "cell_type": "code",
   "execution_count": 43,
   "id": "80ac7878",
   "metadata": {},
   "outputs": [],
   "source": [
    "write.csv(Blank_removal,file.path(fName,'Blanks_Removed.csv'),row.names =TRUE)"
   ]
  },
  {
   "cell_type": "code",
   "execution_count": 44,
   "id": "81cbd3f6",
   "metadata": {},
   "outputs": [
    {
     "data": {
      "text/html": [
       "<table>\n",
       "<thead><tr><th></th><th scope=col>DOM_Interlab-LCMS_Lab15_A15M_Pos_MS2_rep1.mzML</th><th scope=col>DOM_Interlab-LCMS_Lab15_A15M_Pos_MS2_rep2.mzML</th><th scope=col>DOM_Interlab-LCMS_Lab15_A15M_Pos_MS2_rep3.mzML</th><th scope=col>DOM_Interlab-LCMS_Lab15_A45M_Pos_MS2_rep1.mzML</th><th scope=col>DOM_Interlab-LCMS_Lab15_A45M_Pos_MS2_rep2.mzML</th><th scope=col>DOM_Interlab-LCMS_Lab15_A45M_Pos_MS2_rep3.mzML</th><th scope=col>DOM_Interlab-LCMS_Lab15_A5M_Pos_MS2_rep1.mzML</th><th scope=col>DOM_Interlab-LCMS_Lab15_A5M_Pos_MS2_rep2.mzML</th><th scope=col>DOM_Interlab-LCMS_Lab15_A5M_Pos_MS2_rep3.mzML</th><th scope=col>DOM_Interlab-LCMS_Lab15_M_Pos_MS2_rep1.mzML</th><th scope=col>DOM_Interlab-LCMS_Lab15_M_Pos_MS2_rep2.mzML</th><th scope=col>DOM_Interlab-LCMS_Lab15_M_Pos_MS2_rep3.mzML</th></tr></thead>\n",
       "<tbody>\n",
       "\t<tr><th scope=row>3488_151.112_9.684</th><td> 92659.64 </td><td>107936.65 </td><td> 90535.35 </td><td> 84885.34 </td><td> 95607.41 </td><td> 92654.02 </td><td> 88818.610</td><td> 91449.840</td><td> 72474.910</td><td> 72892.23 </td><td> 86713.87 </td><td>123999.58 </td></tr>\n",
       "\t<tr><th scope=row>3026_153.091_8.525</th><td>226318.05 </td><td>234986.17 </td><td>238839.39 </td><td>139233.22 </td><td>145115.98 </td><td>171750.98 </td><td>194286.900</td><td>189326.750</td><td>215591.770</td><td>201655.44 </td><td>221566.31 </td><td>235400.44 </td></tr>\n",
       "\t<tr><th scope=row>685_153.139_5.391</th><td> 22815.65 </td><td> 47993.26 </td><td> 40643.11 </td><td>134512.40 </td><td>135856.67 </td><td>135126.06 </td><td>  8692.169</td><td>  8439.676</td><td>  9102.462</td><td>     0.00 </td><td>     0.00 </td><td>     0.00 </td></tr>\n",
       "\t<tr><th scope=row>3819_157.101_10.487</th><td> 79142.02 </td><td> 73783.61 </td><td> 68608.62 </td><td> 99552.16 </td><td>105480.26 </td><td>104682.83 </td><td> 61277.125</td><td> 64415.734</td><td> 58878.953</td><td> 58953.49 </td><td> 72545.66 </td><td> 59660.09 </td></tr>\n",
       "\t<tr><th scope=row>445_158.097_4.702</th><td>179699.17 </td><td>189614.48 </td><td>189814.78 </td><td>113440.05 </td><td>130959.01 </td><td>192133.47 </td><td>158486.980</td><td> 63555.760</td><td>152527.080</td><td>185849.10 </td><td>167359.47 </td><td>135441.61 </td></tr>\n",
       "\t<tr><th scope=row>3501_158.154_9.708</th><td>167225.03 </td><td>165643.97 </td><td>179723.14 </td><td> 37863.93 </td><td> 29725.38 </td><td> 36029.86 </td><td>130394.164</td><td>130174.766</td><td>139707.340</td><td>112410.28 </td><td>128730.17 </td><td>125169.77 </td></tr>\n",
       "</tbody>\n",
       "</table>\n"
      ],
      "text/latex": [
       "\\begin{tabular}{r|llllllllllll}\n",
       "  & DOM\\_Interlab-LCMS\\_Lab15\\_A15M\\_Pos\\_MS2\\_rep1.mzML & DOM\\_Interlab-LCMS\\_Lab15\\_A15M\\_Pos\\_MS2\\_rep2.mzML & DOM\\_Interlab-LCMS\\_Lab15\\_A15M\\_Pos\\_MS2\\_rep3.mzML & DOM\\_Interlab-LCMS\\_Lab15\\_A45M\\_Pos\\_MS2\\_rep1.mzML & DOM\\_Interlab-LCMS\\_Lab15\\_A45M\\_Pos\\_MS2\\_rep2.mzML & DOM\\_Interlab-LCMS\\_Lab15\\_A45M\\_Pos\\_MS2\\_rep3.mzML & DOM\\_Interlab-LCMS\\_Lab15\\_A5M\\_Pos\\_MS2\\_rep1.mzML & DOM\\_Interlab-LCMS\\_Lab15\\_A5M\\_Pos\\_MS2\\_rep2.mzML & DOM\\_Interlab-LCMS\\_Lab15\\_A5M\\_Pos\\_MS2\\_rep3.mzML & DOM\\_Interlab-LCMS\\_Lab15\\_M\\_Pos\\_MS2\\_rep1.mzML & DOM\\_Interlab-LCMS\\_Lab15\\_M\\_Pos\\_MS2\\_rep2.mzML & DOM\\_Interlab-LCMS\\_Lab15\\_M\\_Pos\\_MS2\\_rep3.mzML\\\\\n",
       "\\hline\n",
       "\t3488\\_151.112\\_9.684 &  92659.64  & 107936.65  &  90535.35  &  84885.34  &  95607.41  &  92654.02  &  88818.610 &  91449.840 &  72474.910 &  72892.23  &  86713.87  & 123999.58 \\\\\n",
       "\t3026\\_153.091\\_8.525 & 226318.05  & 234986.17  & 238839.39  & 139233.22  & 145115.98  & 171750.98  & 194286.900 & 189326.750 & 215591.770 & 201655.44  & 221566.31  & 235400.44 \\\\\n",
       "\t685\\_153.139\\_5.391 &  22815.65  &  47993.26  &  40643.11  & 134512.40  & 135856.67  & 135126.06  &   8692.169 &   8439.676 &   9102.462 &      0.00  &      0.00  &      0.00 \\\\\n",
       "\t3819\\_157.101\\_10.487 &  79142.02  &  73783.61  &  68608.62  &  99552.16  & 105480.26  & 104682.83  &  61277.125 &  64415.734 &  58878.953 &  58953.49  &  72545.66  &  59660.09 \\\\\n",
       "\t445\\_158.097\\_4.702 & 179699.17  & 189614.48  & 189814.78  & 113440.05  & 130959.01  & 192133.47  & 158486.980 &  63555.760 & 152527.080 & 185849.10  & 167359.47  & 135441.61 \\\\\n",
       "\t3501\\_158.154\\_9.708 & 167225.03  & 165643.97  & 179723.14  &  37863.93  &  29725.38  &  36029.86  & 130394.164 & 130174.766 & 139707.340 & 112410.28  & 128730.17  & 125169.77 \\\\\n",
       "\\end{tabular}\n"
      ],
      "text/markdown": [
       "\n",
       "| <!--/--> | DOM_Interlab-LCMS_Lab15_A15M_Pos_MS2_rep1.mzML | DOM_Interlab-LCMS_Lab15_A15M_Pos_MS2_rep2.mzML | DOM_Interlab-LCMS_Lab15_A15M_Pos_MS2_rep3.mzML | DOM_Interlab-LCMS_Lab15_A45M_Pos_MS2_rep1.mzML | DOM_Interlab-LCMS_Lab15_A45M_Pos_MS2_rep2.mzML | DOM_Interlab-LCMS_Lab15_A45M_Pos_MS2_rep3.mzML | DOM_Interlab-LCMS_Lab15_A5M_Pos_MS2_rep1.mzML | DOM_Interlab-LCMS_Lab15_A5M_Pos_MS2_rep2.mzML | DOM_Interlab-LCMS_Lab15_A5M_Pos_MS2_rep3.mzML | DOM_Interlab-LCMS_Lab15_M_Pos_MS2_rep1.mzML | DOM_Interlab-LCMS_Lab15_M_Pos_MS2_rep2.mzML | DOM_Interlab-LCMS_Lab15_M_Pos_MS2_rep3.mzML |\n",
       "|---|---|---|---|---|---|---|---|---|---|---|---|---|\n",
       "| 3488_151.112_9.684 |  92659.64  | 107936.65  |  90535.35  |  84885.34  |  95607.41  |  92654.02  |  88818.610 |  91449.840 |  72474.910 |  72892.23  |  86713.87  | 123999.58  |\n",
       "| 3026_153.091_8.525 | 226318.05  | 234986.17  | 238839.39  | 139233.22  | 145115.98  | 171750.98  | 194286.900 | 189326.750 | 215591.770 | 201655.44  | 221566.31  | 235400.44  |\n",
       "| 685_153.139_5.391 |  22815.65  |  47993.26  |  40643.11  | 134512.40  | 135856.67  | 135126.06  |   8692.169 |   8439.676 |   9102.462 |      0.00  |      0.00  |      0.00  |\n",
       "| 3819_157.101_10.487 |  79142.02  |  73783.61  |  68608.62  |  99552.16  | 105480.26  | 104682.83  |  61277.125 |  64415.734 |  58878.953 |  58953.49  |  72545.66  |  59660.09  |\n",
       "| 445_158.097_4.702 | 179699.17  | 189614.48  | 189814.78  | 113440.05  | 130959.01  | 192133.47  | 158486.980 |  63555.760 | 152527.080 | 185849.10  | 167359.47  | 135441.61  |\n",
       "| 3501_158.154_9.708 | 167225.03  | 165643.97  | 179723.14  |  37863.93  |  29725.38  |  36029.86  | 130394.164 | 130174.766 | 139707.340 | 112410.28  | 128730.17  | 125169.77  |\n",
       "\n"
      ],
      "text/plain": [
       "                    DOM_Interlab-LCMS_Lab15_A15M_Pos_MS2_rep1.mzML\n",
       "3488_151.112_9.684   92659.64                                     \n",
       "3026_153.091_8.525  226318.05                                     \n",
       "685_153.139_5.391    22815.65                                     \n",
       "3819_157.101_10.487  79142.02                                     \n",
       "445_158.097_4.702   179699.17                                     \n",
       "3501_158.154_9.708  167225.03                                     \n",
       "                    DOM_Interlab-LCMS_Lab15_A15M_Pos_MS2_rep2.mzML\n",
       "3488_151.112_9.684  107936.65                                     \n",
       "3026_153.091_8.525  234986.17                                     \n",
       "685_153.139_5.391    47993.26                                     \n",
       "3819_157.101_10.487  73783.61                                     \n",
       "445_158.097_4.702   189614.48                                     \n",
       "3501_158.154_9.708  165643.97                                     \n",
       "                    DOM_Interlab-LCMS_Lab15_A15M_Pos_MS2_rep3.mzML\n",
       "3488_151.112_9.684   90535.35                                     \n",
       "3026_153.091_8.525  238839.39                                     \n",
       "685_153.139_5.391    40643.11                                     \n",
       "3819_157.101_10.487  68608.62                                     \n",
       "445_158.097_4.702   189814.78                                     \n",
       "3501_158.154_9.708  179723.14                                     \n",
       "                    DOM_Interlab-LCMS_Lab15_A45M_Pos_MS2_rep1.mzML\n",
       "3488_151.112_9.684   84885.34                                     \n",
       "3026_153.091_8.525  139233.22                                     \n",
       "685_153.139_5.391   134512.40                                     \n",
       "3819_157.101_10.487  99552.16                                     \n",
       "445_158.097_4.702   113440.05                                     \n",
       "3501_158.154_9.708   37863.93                                     \n",
       "                    DOM_Interlab-LCMS_Lab15_A45M_Pos_MS2_rep2.mzML\n",
       "3488_151.112_9.684   95607.41                                     \n",
       "3026_153.091_8.525  145115.98                                     \n",
       "685_153.139_5.391   135856.67                                     \n",
       "3819_157.101_10.487 105480.26                                     \n",
       "445_158.097_4.702   130959.01                                     \n",
       "3501_158.154_9.708   29725.38                                     \n",
       "                    DOM_Interlab-LCMS_Lab15_A45M_Pos_MS2_rep3.mzML\n",
       "3488_151.112_9.684   92654.02                                     \n",
       "3026_153.091_8.525  171750.98                                     \n",
       "685_153.139_5.391   135126.06                                     \n",
       "3819_157.101_10.487 104682.83                                     \n",
       "445_158.097_4.702   192133.47                                     \n",
       "3501_158.154_9.708   36029.86                                     \n",
       "                    DOM_Interlab-LCMS_Lab15_A5M_Pos_MS2_rep1.mzML\n",
       "3488_151.112_9.684   88818.610                                   \n",
       "3026_153.091_8.525  194286.900                                   \n",
       "685_153.139_5.391     8692.169                                   \n",
       "3819_157.101_10.487  61277.125                                   \n",
       "445_158.097_4.702   158486.980                                   \n",
       "3501_158.154_9.708  130394.164                                   \n",
       "                    DOM_Interlab-LCMS_Lab15_A5M_Pos_MS2_rep2.mzML\n",
       "3488_151.112_9.684   91449.840                                   \n",
       "3026_153.091_8.525  189326.750                                   \n",
       "685_153.139_5.391     8439.676                                   \n",
       "3819_157.101_10.487  64415.734                                   \n",
       "445_158.097_4.702    63555.760                                   \n",
       "3501_158.154_9.708  130174.766                                   \n",
       "                    DOM_Interlab-LCMS_Lab15_A5M_Pos_MS2_rep3.mzML\n",
       "3488_151.112_9.684   72474.910                                   \n",
       "3026_153.091_8.525  215591.770                                   \n",
       "685_153.139_5.391     9102.462                                   \n",
       "3819_157.101_10.487  58878.953                                   \n",
       "445_158.097_4.702   152527.080                                   \n",
       "3501_158.154_9.708  139707.340                                   \n",
       "                    DOM_Interlab-LCMS_Lab15_M_Pos_MS2_rep1.mzML\n",
       "3488_151.112_9.684   72892.23                                  \n",
       "3026_153.091_8.525  201655.44                                  \n",
       "685_153.139_5.391        0.00                                  \n",
       "3819_157.101_10.487  58953.49                                  \n",
       "445_158.097_4.702   185849.10                                  \n",
       "3501_158.154_9.708  112410.28                                  \n",
       "                    DOM_Interlab-LCMS_Lab15_M_Pos_MS2_rep2.mzML\n",
       "3488_151.112_9.684   86713.87                                  \n",
       "3026_153.091_8.525  221566.31                                  \n",
       "685_153.139_5.391        0.00                                  \n",
       "3819_157.101_10.487  72545.66                                  \n",
       "445_158.097_4.702   167359.47                                  \n",
       "3501_158.154_9.708  128730.17                                  \n",
       "                    DOM_Interlab-LCMS_Lab15_M_Pos_MS2_rep3.mzML\n",
       "3488_151.112_9.684  123999.58                                  \n",
       "3026_153.091_8.525  235400.44                                  \n",
       "685_153.139_5.391        0.00                                  \n",
       "3819_157.101_10.487  59660.09                                  \n",
       "445_158.097_4.702   135441.61                                  \n",
       "3501_158.154_9.708  125169.77                                  "
      ]
     },
     "metadata": {},
     "output_type": "display_data"
    },
    {
     "data": {
      "text/html": [
       "<ol class=list-inline>\n",
       "\t<li>2395</li>\n",
       "\t<li>12</li>\n",
       "</ol>\n"
      ],
      "text/latex": [
       "\\begin{enumerate*}\n",
       "\\item 2395\n",
       "\\item 12\n",
       "\\end{enumerate*}\n"
      ],
      "text/markdown": [
       "1. 2395\n",
       "2. 12\n",
       "\n",
       "\n"
      ],
      "text/plain": [
       "[1] 2395   12"
      ]
     },
     "metadata": {},
     "output_type": "display_data"
    }
   ],
   "source": [
    "head(Blank_removal)\n",
    "dim(Blank_removal)"
   ]
  },
  {
   "cell_type": "markdown",
   "id": "b4210007",
   "metadata": {
    "toc-hr-collapsed": true
   },
   "source": [
    "# Step 2: Imputation\n",
    "\n",
    "<p style='text-align: justify;'> For several reasons, real world datasets might have some missing values in it, in the form of NA, NANs or 0s. Eventhough the gapfilling step of MZmine fills the missing values, we still end up with some missing values or 0s in our feature table. This could be problematic for statistical analysis. </p> \n",
    "<p style='text-align: justify;'> In order to have a better dataset, we cannot simply discard those rows or columns with missing values as we will lose a chunk of our valuable data. Instead we can try imputing those missing values. Imputation involves replacing the missing values in the data with a meaningful, reasonable guess. There are several methods, such as: </p> \n",
    "  \n",
    "1) Mean imputation (replacing the missing values in a column with the mean or average of the column)  \n",
    "2) Replacing it with the most frequent value  \n",
    "3) Several other machine learning imputation methods such as k-nearest neighbors algorithm(k-NN), Hidden Markov Model(HMM)\n",
    "\n",
    "Here, we use ft and see the frquency distribution of its features with the ggplot. It shows where the features are present in higher number."
   ]
  },
  {
   "cell_type": "code",
   "execution_count": 45,
   "id": "3283cf75-38ec-46fb-b321-7ba6c69c6d64",
   "metadata": {},
   "outputs": [
    {
     "name": "stdout",
     "output_type": "stream",
     "text": [
      "[1] \"The minimum value greater than 0 in gap-filled table: 1267\"\n"
     ]
    },
    {
     "data": {
      "image/png": "[encoded data removed]",
      "text/plain": [
       "plot without title"
      ]
     },
     "metadata": {},
     "output_type": "display_data"
    }
   ],
   "source": [
    "#creating bins from -1 to 10^10 using sequence function seq()\n",
    "bins <- c(-1,0,(1 * 10^(seq(0,10,1)))) \n",
    "    \n",
    "#cut function cuts the give table into its appropriate bins\n",
    "scores_gapfilled <- cut(as.matrix(Blank_removal),bins,labels = c('0','1','10','1E2','1E3','1E4','1E5','1E6','1E7','1E8','1E9','1E10')) \n",
    "    \n",
    "#transform function convert the tables into a column format: easy for visualization \n",
    "FreqTable<-transform(table(scores_gapfilled)) #contains 2 columns: \"scores_x1\", \"Freq\"\n",
    "FreqTable$Log_Freq <- log(FreqTable$Freq+1) #Log scaling the frequency values\n",
    "\n",
    "colnames(FreqTable)[1] <- 'Range_Bins'\n",
    "#FreqTable #Uncomment the line if you want to see the FreqTable used for the following ggplot.\n",
    "\n",
    "## GGPLOT2\n",
    "ggplot(FreqTable, aes(Range_Bins, Log_Freq))+ \n",
    "    geom_bar(stat=\"identity\",position = \"dodge\", width=0.3) + \n",
    "    scale_fill_brewer(palette = \"Set1\") +\n",
    "    ggtitle(label=\"Frequency plot - Gap Filled\") +\n",
    "    xlab(\"Range\") + ylab(\"(Log)Frequency\") + \n",
    "    theme(axis.text.x = element_text(angle = 90, vjust = 0.5, hjust=1)) +   # setting the angle for the x label\n",
    "    theme(axis.text.y = element_text(angle = 45, vjust = 0.5, hjust=1)) +   # setting the angle for the y label\n",
    "    theme(plot.title = element_text(hjust = 0.5))\n",
    "\n",
    "Cutoff_LOD <- round(min(Blank_removal[Blank_removal!=min(Blank_removal)]))\n",
    "print(paste0(\"The minimum value greater than 0 in gap-filled table: \",Cutoff_LOD)) "
   ]
  },
  {
   "cell_type": "markdown",
   "id": "b0d06451",
   "metadata": {},
   "source": [
    "This minimum value will be used for imputation."
   ]
  },
  {
   "cell_type": "code",
   "execution_count": 46,
   "id": "30f8f811",
   "metadata": {},
   "outputs": [
    {
     "name": "stdin",
     "output_type": "stream",
     "text": [
      "Do you want to perform Imputation? - Y/N: y\n"
     ]
    },
    {
     "data": {
      "text/html": [
       "<table>\n",
       "<thead><tr><th></th><th scope=col>DOM_Interlab-LCMS_Lab15_A15M_Pos_MS2_rep1.mzML</th><th scope=col>DOM_Interlab-LCMS_Lab15_A15M_Pos_MS2_rep2.mzML</th><th scope=col>DOM_Interlab-LCMS_Lab15_A15M_Pos_MS2_rep3.mzML</th><th scope=col>DOM_Interlab-LCMS_Lab15_A45M_Pos_MS2_rep1.mzML</th><th scope=col>DOM_Interlab-LCMS_Lab15_A45M_Pos_MS2_rep2.mzML</th><th scope=col>DOM_Interlab-LCMS_Lab15_A45M_Pos_MS2_rep3.mzML</th><th scope=col>DOM_Interlab-LCMS_Lab15_A5M_Pos_MS2_rep1.mzML</th><th scope=col>DOM_Interlab-LCMS_Lab15_A5M_Pos_MS2_rep2.mzML</th><th scope=col>DOM_Interlab-LCMS_Lab15_A5M_Pos_MS2_rep3.mzML</th><th scope=col>DOM_Interlab-LCMS_Lab15_M_Pos_MS2_rep1.mzML</th><th scope=col>DOM_Interlab-LCMS_Lab15_M_Pos_MS2_rep2.mzML</th><th scope=col>DOM_Interlab-LCMS_Lab15_M_Pos_MS2_rep3.mzML</th></tr></thead>\n",
       "<tbody>\n",
       "\t<tr><th scope=row>3488_151.112_9.684</th><td> 92659.64 </td><td>107936.65 </td><td> 90535.35 </td><td> 84885.34 </td><td> 95607.41 </td><td> 92654.02 </td><td> 88818.610</td><td> 91449.840</td><td> 72474.910</td><td> 72892.23 </td><td> 86713.87 </td><td>123999.58 </td></tr>\n",
       "\t<tr><th scope=row>3026_153.091_8.525</th><td>226318.05 </td><td>234986.17 </td><td>238839.39 </td><td>139233.22 </td><td>145115.98 </td><td>171750.98 </td><td>194286.900</td><td>189326.750</td><td>215591.770</td><td>201655.44 </td><td>221566.31 </td><td>235400.44 </td></tr>\n",
       "\t<tr><th scope=row>685_153.139_5.391</th><td> 22815.65 </td><td> 47993.26 </td><td> 40643.11 </td><td>134512.40 </td><td>135856.67 </td><td>135126.06 </td><td>  8692.169</td><td>  8439.676</td><td>  9102.462</td><td>  1267.00 </td><td>  1267.00 </td><td>  1267.00 </td></tr>\n",
       "\t<tr><th scope=row>3819_157.101_10.487</th><td> 79142.02 </td><td> 73783.61 </td><td> 68608.62 </td><td> 99552.16 </td><td>105480.26 </td><td>104682.83 </td><td> 61277.125</td><td> 64415.734</td><td> 58878.953</td><td> 58953.49 </td><td> 72545.66 </td><td> 59660.09 </td></tr>\n",
       "\t<tr><th scope=row>445_158.097_4.702</th><td>179699.17 </td><td>189614.48 </td><td>189814.78 </td><td>113440.05 </td><td>130959.01 </td><td>192133.47 </td><td>158486.980</td><td> 63555.760</td><td>152527.080</td><td>185849.10 </td><td>167359.47 </td><td>135441.61 </td></tr>\n",
       "\t<tr><th scope=row>3501_158.154_9.708</th><td>167225.03 </td><td>165643.97 </td><td>179723.14 </td><td> 37863.93 </td><td> 29725.38 </td><td> 36029.86 </td><td>130394.164</td><td>130174.766</td><td>139707.340</td><td>112410.28 </td><td>128730.17 </td><td>125169.77 </td></tr>\n",
       "</tbody>\n",
       "</table>\n"
      ],
      "text/latex": [
       "\\begin{tabular}{r|llllllllllll}\n",
       "  & DOM\\_Interlab-LCMS\\_Lab15\\_A15M\\_Pos\\_MS2\\_rep1.mzML & DOM\\_Interlab-LCMS\\_Lab15\\_A15M\\_Pos\\_MS2\\_rep2.mzML & DOM\\_Interlab-LCMS\\_Lab15\\_A15M\\_Pos\\_MS2\\_rep3.mzML & DOM\\_Interlab-LCMS\\_Lab15\\_A45M\\_Pos\\_MS2\\_rep1.mzML & DOM\\_Interlab-LCMS\\_Lab15\\_A45M\\_Pos\\_MS2\\_rep2.mzML & DOM\\_Interlab-LCMS\\_Lab15\\_A45M\\_Pos\\_MS2\\_rep3.mzML & DOM\\_Interlab-LCMS\\_Lab15\\_A5M\\_Pos\\_MS2\\_rep1.mzML & DOM\\_Interlab-LCMS\\_Lab15\\_A5M\\_Pos\\_MS2\\_rep2.mzML & DOM\\_Interlab-LCMS\\_Lab15\\_A5M\\_Pos\\_MS2\\_rep3.mzML & DOM\\_Interlab-LCMS\\_Lab15\\_M\\_Pos\\_MS2\\_rep1.mzML & DOM\\_Interlab-LCMS\\_Lab15\\_M\\_Pos\\_MS2\\_rep2.mzML & DOM\\_Interlab-LCMS\\_Lab15\\_M\\_Pos\\_MS2\\_rep3.mzML\\\\\n",
       "\\hline\n",
       "\t3488\\_151.112\\_9.684 &  92659.64  & 107936.65  &  90535.35  &  84885.34  &  95607.41  &  92654.02  &  88818.610 &  91449.840 &  72474.910 &  72892.23  &  86713.87  & 123999.58 \\\\\n",
       "\t3026\\_153.091\\_8.525 & 226318.05  & 234986.17  & 238839.39  & 139233.22  & 145115.98  & 171750.98  & 194286.900 & 189326.750 & 215591.770 & 201655.44  & 221566.31  & 235400.44 \\\\\n",
       "\t685\\_153.139\\_5.391 &  22815.65  &  47993.26  &  40643.11  & 134512.40  & 135856.67  & 135126.06  &   8692.169 &   8439.676 &   9102.462 &   1267.00  &   1267.00  &   1267.00 \\\\\n",
       "\t3819\\_157.101\\_10.487 &  79142.02  &  73783.61  &  68608.62  &  99552.16  & 105480.26  & 104682.83  &  61277.125 &  64415.734 &  58878.953 &  58953.49  &  72545.66  &  59660.09 \\\\\n",
       "\t445\\_158.097\\_4.702 & 179699.17  & 189614.48  & 189814.78  & 113440.05  & 130959.01  & 192133.47  & 158486.980 &  63555.760 & 152527.080 & 185849.10  & 167359.47  & 135441.61 \\\\\n",
       "\t3501\\_158.154\\_9.708 & 167225.03  & 165643.97  & 179723.14  &  37863.93  &  29725.38  &  36029.86  & 130394.164 & 130174.766 & 139707.340 & 112410.28  & 128730.17  & 125169.77 \\\\\n",
       "\\end{tabular}\n"
      ],
      "text/markdown": [
       "\n",
       "| <!--/--> | DOM_Interlab-LCMS_Lab15_A15M_Pos_MS2_rep1.mzML | DOM_Interlab-LCMS_Lab15_A15M_Pos_MS2_rep2.mzML | DOM_Interlab-LCMS_Lab15_A15M_Pos_MS2_rep3.mzML | DOM_Interlab-LCMS_Lab15_A45M_Pos_MS2_rep1.mzML | DOM_Interlab-LCMS_Lab15_A45M_Pos_MS2_rep2.mzML | DOM_Interlab-LCMS_Lab15_A45M_Pos_MS2_rep3.mzML | DOM_Interlab-LCMS_Lab15_A5M_Pos_MS2_rep1.mzML | DOM_Interlab-LCMS_Lab15_A5M_Pos_MS2_rep2.mzML | DOM_Interlab-LCMS_Lab15_A5M_Pos_MS2_rep3.mzML | DOM_Interlab-LCMS_Lab15_M_Pos_MS2_rep1.mzML | DOM_Interlab-LCMS_Lab15_M_Pos_MS2_rep2.mzML | DOM_Interlab-LCMS_Lab15_M_Pos_MS2_rep3.mzML |\n",
       "|---|---|---|---|---|---|---|---|---|---|---|---|---|\n",
       "| 3488_151.112_9.684 |  92659.64  | 107936.65  |  90535.35  |  84885.34  |  95607.41  |  92654.02  |  88818.610 |  91449.840 |  72474.910 |  72892.23  |  86713.87  | 123999.58  |\n",
       "| 3026_153.091_8.525 | 226318.05  | 234986.17  | 238839.39  | 139233.22  | 145115.98  | 171750.98  | 194286.900 | 189326.750 | 215591.770 | 201655.44  | 221566.31  | 235400.44  |\n",
       "| 685_153.139_5.391 |  22815.65  |  47993.26  |  40643.11  | 134512.40  | 135856.67  | 135126.06  |   8692.169 |   8439.676 |   9102.462 |   1267.00  |   1267.00  |   1267.00  |\n",
       "| 3819_157.101_10.487 |  79142.02  |  73783.61  |  68608.62  |  99552.16  | 105480.26  | 104682.83  |  61277.125 |  64415.734 |  58878.953 |  58953.49  |  72545.66  |  59660.09  |\n",
       "| 445_158.097_4.702 | 179699.17  | 189614.48  | 189814.78  | 113440.05  | 130959.01  | 192133.47  | 158486.980 |  63555.760 | 152527.080 | 185849.10  | 167359.47  | 135441.61  |\n",
       "| 3501_158.154_9.708 | 167225.03  | 165643.97  | 179723.14  |  37863.93  |  29725.38  |  36029.86  | 130394.164 | 130174.766 | 139707.340 | 112410.28  | 128730.17  | 125169.77  |\n",
       "\n"
      ],
      "text/plain": [
       "                    DOM_Interlab-LCMS_Lab15_A15M_Pos_MS2_rep1.mzML\n",
       "3488_151.112_9.684   92659.64                                     \n",
       "3026_153.091_8.525  226318.05                                     \n",
       "685_153.139_5.391    22815.65                                     \n",
       "3819_157.101_10.487  79142.02                                     \n",
       "445_158.097_4.702   179699.17                                     \n",
       "3501_158.154_9.708  167225.03                                     \n",
       "                    DOM_Interlab-LCMS_Lab15_A15M_Pos_MS2_rep2.mzML\n",
       "3488_151.112_9.684  107936.65                                     \n",
       "3026_153.091_8.525  234986.17                                     \n",
       "685_153.139_5.391    47993.26                                     \n",
       "3819_157.101_10.487  73783.61                                     \n",
       "445_158.097_4.702   189614.48                                     \n",
       "3501_158.154_9.708  165643.97                                     \n",
       "                    DOM_Interlab-LCMS_Lab15_A15M_Pos_MS2_rep3.mzML\n",
       "3488_151.112_9.684   90535.35                                     \n",
       "3026_153.091_8.525  238839.39                                     \n",
       "685_153.139_5.391    40643.11                                     \n",
       "3819_157.101_10.487  68608.62                                     \n",
       "445_158.097_4.702   189814.78                                     \n",
       "3501_158.154_9.708  179723.14                                     \n",
       "                    DOM_Interlab-LCMS_Lab15_A45M_Pos_MS2_rep1.mzML\n",
       "3488_151.112_9.684   84885.34                                     \n",
       "3026_153.091_8.525  139233.22                                     \n",
       "685_153.139_5.391   134512.40                                     \n",
       "3819_157.101_10.487  99552.16                                     \n",
       "445_158.097_4.702   113440.05                                     \n",
       "3501_158.154_9.708   37863.93                                     \n",
       "                    DOM_Interlab-LCMS_Lab15_A45M_Pos_MS2_rep2.mzML\n",
       "3488_151.112_9.684   95607.41                                     \n",
       "3026_153.091_8.525  145115.98                                     \n",
       "685_153.139_5.391   135856.67                                     \n",
       "3819_157.101_10.487 105480.26                                     \n",
       "445_158.097_4.702   130959.01                                     \n",
       "3501_158.154_9.708   29725.38                                     \n",
       "                    DOM_Interlab-LCMS_Lab15_A45M_Pos_MS2_rep3.mzML\n",
       "3488_151.112_9.684   92654.02                                     \n",
       "3026_153.091_8.525  171750.98                                     \n",
       "685_153.139_5.391   135126.06                                     \n",
       "3819_157.101_10.487 104682.83                                     \n",
       "445_158.097_4.702   192133.47                                     \n",
       "3501_158.154_9.708   36029.86                                     \n",
       "                    DOM_Interlab-LCMS_Lab15_A5M_Pos_MS2_rep1.mzML\n",
       "3488_151.112_9.684   88818.610                                   \n",
       "3026_153.091_8.525  194286.900                                   \n",
       "685_153.139_5.391     8692.169                                   \n",
       "3819_157.101_10.487  61277.125                                   \n",
       "445_158.097_4.702   158486.980                                   \n",
       "3501_158.154_9.708  130394.164                                   \n",
       "                    DOM_Interlab-LCMS_Lab15_A5M_Pos_MS2_rep2.mzML\n",
       "3488_151.112_9.684   91449.840                                   \n",
       "3026_153.091_8.525  189326.750                                   \n",
       "685_153.139_5.391     8439.676                                   \n",
       "3819_157.101_10.487  64415.734                                   \n",
       "445_158.097_4.702    63555.760                                   \n",
       "3501_158.154_9.708  130174.766                                   \n",
       "                    DOM_Interlab-LCMS_Lab15_A5M_Pos_MS2_rep3.mzML\n",
       "3488_151.112_9.684   72474.910                                   \n",
       "3026_153.091_8.525  215591.770                                   \n",
       "685_153.139_5.391     9102.462                                   \n",
       "3819_157.101_10.487  58878.953                                   \n",
       "445_158.097_4.702   152527.080                                   \n",
       "3501_158.154_9.708  139707.340                                   \n",
       "                    DOM_Interlab-LCMS_Lab15_M_Pos_MS2_rep1.mzML\n",
       "3488_151.112_9.684   72892.23                                  \n",
       "3026_153.091_8.525  201655.44                                  \n",
       "685_153.139_5.391     1267.00                                  \n",
       "3819_157.101_10.487  58953.49                                  \n",
       "445_158.097_4.702   185849.10                                  \n",
       "3501_158.154_9.708  112410.28                                  \n",
       "                    DOM_Interlab-LCMS_Lab15_M_Pos_MS2_rep2.mzML\n",
       "3488_151.112_9.684   86713.87                                  \n",
       "3026_153.091_8.525  221566.31                                  \n",
       "685_153.139_5.391     1267.00                                  \n",
       "3819_157.101_10.487  72545.66                                  \n",
       "445_158.097_4.702   167359.47                                  \n",
       "3501_158.154_9.708  128730.17                                  \n",
       "                    DOM_Interlab-LCMS_Lab15_M_Pos_MS2_rep3.mzML\n",
       "3488_151.112_9.684  123999.58                                  \n",
       "3026_153.091_8.525  235400.44                                  \n",
       "685_153.139_5.391     1267.00                                  \n",
       "3819_157.101_10.487  59660.09                                  \n",
       "445_158.097_4.702   135441.61                                  \n",
       "3501_158.154_9.708  125169.77                                  "
      ]
     },
     "metadata": {},
     "output_type": "display_data"
    }
   ],
   "source": [
    "if(casefold(readline('Do you want to perform Imputation? - Y/N:'),upper=T) == 'Y'){\n",
    "    Imputed <- Blank_removal\n",
    "    Imputed[Imputed <Cutoff_LOD] <- Cutoff_LOD\n",
    "    head(Imputed)\n",
    "}"
   ]
  },
  {
   "cell_type": "code",
   "execution_count": 47,
   "id": "a67865b8",
   "metadata": {},
   "outputs": [
    {
     "data": {
      "text/html": [
       "<ol class=list-inline>\n",
       "\t<li>2395</li>\n",
       "\t<li>12</li>\n",
       "</ol>\n"
      ],
      "text/latex": [
       "\\begin{enumerate*}\n",
       "\\item 2395\n",
       "\\item 12\n",
       "\\end{enumerate*}\n"
      ],
      "text/markdown": [
       "1. 2395\n",
       "2. 12\n",
       "\n",
       "\n"
      ],
      "text/plain": [
       "[1] 2395   12"
      ]
     },
     "metadata": {},
     "output_type": "display_data"
    }
   ],
   "source": [
    "dim(Imputed)"
   ]
  },
  {
   "cell_type": "code",
   "execution_count": 48,
   "id": "ed071fa7",
   "metadata": {},
   "outputs": [],
   "source": [
    "write.csv(Imputed,file.path(fName,paste0('Imputed_QuantTable_filled_with_',Cutoff_LOD,'_CutOff_Used_',Cutoff,'.csv')),row.names =TRUE)"
   ]
  },
  {
   "cell_type": "code",
   "execution_count": null,
   "id": "8f428856",
   "metadata": {},
   "outputs": [],
   "source": [
    "#removing all the rows with only cutoff values:\n",
    "#Imputed<-Imputed[rowMeans(Imputed)!= Cutoff_LOD,]  "
   ]
  },
  {
   "cell_type": "markdown",
   "id": "f06a2dd7",
   "metadata": {},
   "source": [
    "# Step 3:Normalization\n",
    "The following code performs sample-centric (column-wise) normalisation:"
   ]
  },
  {
   "cell_type": "code",
   "execution_count": 49,
   "id": "3a008a7a",
   "metadata": {},
   "outputs": [
    {
     "name": "stdin",
     "output_type": "stream",
     "text": [
      "Do you want to perform Normalization: Y/N: y\n"
     ]
    },
    {
     "data": {
      "text/html": [
       "<table>\n",
       "<thead><tr><th></th><th scope=col>DOM_Interlab-LCMS_Lab15_A15M_Pos_MS2_rep1.mzML</th><th scope=col>DOM_Interlab-LCMS_Lab15_A15M_Pos_MS2_rep2.mzML</th><th scope=col>DOM_Interlab-LCMS_Lab15_A15M_Pos_MS2_rep3.mzML</th><th scope=col>DOM_Interlab-LCMS_Lab15_A45M_Pos_MS2_rep1.mzML</th><th scope=col>DOM_Interlab-LCMS_Lab15_A45M_Pos_MS2_rep2.mzML</th><th scope=col>DOM_Interlab-LCMS_Lab15_A45M_Pos_MS2_rep3.mzML</th><th scope=col>DOM_Interlab-LCMS_Lab15_A5M_Pos_MS2_rep1.mzML</th><th scope=col>DOM_Interlab-LCMS_Lab15_A5M_Pos_MS2_rep2.mzML</th><th scope=col>DOM_Interlab-LCMS_Lab15_A5M_Pos_MS2_rep3.mzML</th><th scope=col>DOM_Interlab-LCMS_Lab15_M_Pos_MS2_rep1.mzML</th><th scope=col>DOM_Interlab-LCMS_Lab15_M_Pos_MS2_rep2.mzML</th><th scope=col>DOM_Interlab-LCMS_Lab15_M_Pos_MS2_rep3.mzML</th></tr></thead>\n",
       "<tbody>\n",
       "\t<tr><th scope=row>3488_151.112_9.684</th><td>1.533098e-04</td><td>1.840176e-04</td><td>1.547153e-04</td><td>1.077076e-04</td><td>1.197759e-04</td><td>1.156262e-04</td><td>2.047205e-04</td><td>2.071079e-04</td><td>1.622811e-04</td><td>1.771504e-04</td><td>2.228138e-04</td><td>3.029750e-04</td></tr>\n",
       "\t<tr><th scope=row>3026_153.091_8.525</th><td>3.744539e-04</td><td>4.006201e-04</td><td>4.081513e-04</td><td>1.766675e-04</td><td>1.817997e-04</td><td>2.143341e-04</td><td>4.478173e-04</td><td>4.287713e-04</td><td>4.827391e-04</td><td>4.900843e-04</td><td>5.693211e-04</td><td>5.751669e-04</td></tr>\n",
       "\t<tr><th scope=row>685_153.139_5.391</th><td>3.774957e-05</td><td>8.182211e-05</td><td>6.945477e-05</td><td>1.706774e-04</td><td>1.701997e-04</td><td>1.686285e-04</td><td>2.003483e-05</td><td>1.911347e-05</td><td>2.038164e-05</td><td>3.079197e-06</td><td>3.255594e-06</td><td>3.095731e-06</td></tr>\n",
       "\t<tr><th scope=row>3819_157.101_10.487</th><td>1.309442e-04</td><td>1.257912e-04</td><td>1.172449e-04</td><td>1.263178e-04</td><td>1.321445e-04</td><td>1.306374e-04</td><td>1.412394e-04</td><td>1.458833e-04</td><td>1.318379e-04</td><td>1.432750e-04</td><td>1.864082e-04</td><td>1.457708e-04</td></tr>\n",
       "\t<tr><th scope=row>445_158.097_4.702</th><td>2.973208e-04</td><td>3.232674e-04</td><td>3.243734e-04</td><td>1.439395e-04</td><td>1.640640e-04</td><td>2.397701e-04</td><td>3.653011e-04</td><td>1.439357e-04</td><td>3.415288e-04</td><td>4.516700e-04</td><td>4.300351e-04</td><td>3.309320e-04</td></tr>\n",
       "\t<tr><th scope=row>3501_158.154_9.708</th><td>2.766817e-04</td><td>2.824009e-04</td><td>3.071278e-04</td><td>4.804403e-05</td><td>3.723962e-05</td><td>4.496292e-05</td><td>3.005492e-04</td><td>2.948089e-04</td><td>3.128236e-04</td><td>2.731913e-04</td><td>3.307759e-04</td><td>3.058342e-04</td></tr>\n",
       "</tbody>\n",
       "</table>\n"
      ],
      "text/latex": [
       "\\begin{tabular}{r|llllllllllll}\n",
       "  & DOM\\_Interlab-LCMS\\_Lab15\\_A15M\\_Pos\\_MS2\\_rep1.mzML & DOM\\_Interlab-LCMS\\_Lab15\\_A15M\\_Pos\\_MS2\\_rep2.mzML & DOM\\_Interlab-LCMS\\_Lab15\\_A15M\\_Pos\\_MS2\\_rep3.mzML & DOM\\_Interlab-LCMS\\_Lab15\\_A45M\\_Pos\\_MS2\\_rep1.mzML & DOM\\_Interlab-LCMS\\_Lab15\\_A45M\\_Pos\\_MS2\\_rep2.mzML & DOM\\_Interlab-LCMS\\_Lab15\\_A45M\\_Pos\\_MS2\\_rep3.mzML & DOM\\_Interlab-LCMS\\_Lab15\\_A5M\\_Pos\\_MS2\\_rep1.mzML & DOM\\_Interlab-LCMS\\_Lab15\\_A5M\\_Pos\\_MS2\\_rep2.mzML & DOM\\_Interlab-LCMS\\_Lab15\\_A5M\\_Pos\\_MS2\\_rep3.mzML & DOM\\_Interlab-LCMS\\_Lab15\\_M\\_Pos\\_MS2\\_rep1.mzML & DOM\\_Interlab-LCMS\\_Lab15\\_M\\_Pos\\_MS2\\_rep2.mzML & DOM\\_Interlab-LCMS\\_Lab15\\_M\\_Pos\\_MS2\\_rep3.mzML\\\\\n",
       "\\hline\n",
       "\t3488\\_151.112\\_9.684 & 1.533098e-04 & 1.840176e-04 & 1.547153e-04 & 1.077076e-04 & 1.197759e-04 & 1.156262e-04 & 2.047205e-04 & 2.071079e-04 & 1.622811e-04 & 1.771504e-04 & 2.228138e-04 & 3.029750e-04\\\\\n",
       "\t3026\\_153.091\\_8.525 & 3.744539e-04 & 4.006201e-04 & 4.081513e-04 & 1.766675e-04 & 1.817997e-04 & 2.143341e-04 & 4.478173e-04 & 4.287713e-04 & 4.827391e-04 & 4.900843e-04 & 5.693211e-04 & 5.751669e-04\\\\\n",
       "\t685\\_153.139\\_5.391 & 3.774957e-05 & 8.182211e-05 & 6.945477e-05 & 1.706774e-04 & 1.701997e-04 & 1.686285e-04 & 2.003483e-05 & 1.911347e-05 & 2.038164e-05 & 3.079197e-06 & 3.255594e-06 & 3.095731e-06\\\\\n",
       "\t3819\\_157.101\\_10.487 & 1.309442e-04 & 1.257912e-04 & 1.172449e-04 & 1.263178e-04 & 1.321445e-04 & 1.306374e-04 & 1.412394e-04 & 1.458833e-04 & 1.318379e-04 & 1.432750e-04 & 1.864082e-04 & 1.457708e-04\\\\\n",
       "\t445\\_158.097\\_4.702 & 2.973208e-04 & 3.232674e-04 & 3.243734e-04 & 1.439395e-04 & 1.640640e-04 & 2.397701e-04 & 3.653011e-04 & 1.439357e-04 & 3.415288e-04 & 4.516700e-04 & 4.300351e-04 & 3.309320e-04\\\\\n",
       "\t3501\\_158.154\\_9.708 & 2.766817e-04 & 2.824009e-04 & 3.071278e-04 & 4.804403e-05 & 3.723962e-05 & 4.496292e-05 & 3.005492e-04 & 2.948089e-04 & 3.128236e-04 & 2.731913e-04 & 3.307759e-04 & 3.058342e-04\\\\\n",
       "\\end{tabular}\n"
      ],
      "text/markdown": [
       "\n",
       "| <!--/--> | DOM_Interlab-LCMS_Lab15_A15M_Pos_MS2_rep1.mzML | DOM_Interlab-LCMS_Lab15_A15M_Pos_MS2_rep2.mzML | DOM_Interlab-LCMS_Lab15_A15M_Pos_MS2_rep3.mzML | DOM_Interlab-LCMS_Lab15_A45M_Pos_MS2_rep1.mzML | DOM_Interlab-LCMS_Lab15_A45M_Pos_MS2_rep2.mzML | DOM_Interlab-LCMS_Lab15_A45M_Pos_MS2_rep3.mzML | DOM_Interlab-LCMS_Lab15_A5M_Pos_MS2_rep1.mzML | DOM_Interlab-LCMS_Lab15_A5M_Pos_MS2_rep2.mzML | DOM_Interlab-LCMS_Lab15_A5M_Pos_MS2_rep3.mzML | DOM_Interlab-LCMS_Lab15_M_Pos_MS2_rep1.mzML | DOM_Interlab-LCMS_Lab15_M_Pos_MS2_rep2.mzML | DOM_Interlab-LCMS_Lab15_M_Pos_MS2_rep3.mzML |\n",
       "|---|---|---|---|---|---|---|---|---|---|---|---|---|\n",
       "| 3488_151.112_9.684 | 1.533098e-04 | 1.840176e-04 | 1.547153e-04 | 1.077076e-04 | 1.197759e-04 | 1.156262e-04 | 2.047205e-04 | 2.071079e-04 | 1.622811e-04 | 1.771504e-04 | 2.228138e-04 | 3.029750e-04 |\n",
       "| 3026_153.091_8.525 | 3.744539e-04 | 4.006201e-04 | 4.081513e-04 | 1.766675e-04 | 1.817997e-04 | 2.143341e-04 | 4.478173e-04 | 4.287713e-04 | 4.827391e-04 | 4.900843e-04 | 5.693211e-04 | 5.751669e-04 |\n",
       "| 685_153.139_5.391 | 3.774957e-05 | 8.182211e-05 | 6.945477e-05 | 1.706774e-04 | 1.701997e-04 | 1.686285e-04 | 2.003483e-05 | 1.911347e-05 | 2.038164e-05 | 3.079197e-06 | 3.255594e-06 | 3.095731e-06 |\n",
       "| 3819_157.101_10.487 | 1.309442e-04 | 1.257912e-04 | 1.172449e-04 | 1.263178e-04 | 1.321445e-04 | 1.306374e-04 | 1.412394e-04 | 1.458833e-04 | 1.318379e-04 | 1.432750e-04 | 1.864082e-04 | 1.457708e-04 |\n",
       "| 445_158.097_4.702 | 2.973208e-04 | 3.232674e-04 | 3.243734e-04 | 1.439395e-04 | 1.640640e-04 | 2.397701e-04 | 3.653011e-04 | 1.439357e-04 | 3.415288e-04 | 4.516700e-04 | 4.300351e-04 | 3.309320e-04 |\n",
       "| 3501_158.154_9.708 | 2.766817e-04 | 2.824009e-04 | 3.071278e-04 | 4.804403e-05 | 3.723962e-05 | 4.496292e-05 | 3.005492e-04 | 2.948089e-04 | 3.128236e-04 | 2.731913e-04 | 3.307759e-04 | 3.058342e-04 |\n",
       "\n"
      ],
      "text/plain": [
       "                    DOM_Interlab-LCMS_Lab15_A15M_Pos_MS2_rep1.mzML\n",
       "3488_151.112_9.684  1.533098e-04                                  \n",
       "3026_153.091_8.525  3.744539e-04                                  \n",
       "685_153.139_5.391   3.774957e-05                                  \n",
       "3819_157.101_10.487 1.309442e-04                                  \n",
       "445_158.097_4.702   2.973208e-04                                  \n",
       "3501_158.154_9.708  2.766817e-04                                  \n",
       "                    DOM_Interlab-LCMS_Lab15_A15M_Pos_MS2_rep2.mzML\n",
       "3488_151.112_9.684  1.840176e-04                                  \n",
       "3026_153.091_8.525  4.006201e-04                                  \n",
       "685_153.139_5.391   8.182211e-05                                  \n",
       "3819_157.101_10.487 1.257912e-04                                  \n",
       "445_158.097_4.702   3.232674e-04                                  \n",
       "3501_158.154_9.708  2.824009e-04                                  \n",
       "                    DOM_Interlab-LCMS_Lab15_A15M_Pos_MS2_rep3.mzML\n",
       "3488_151.112_9.684  1.547153e-04                                  \n",
       "3026_153.091_8.525  4.081513e-04                                  \n",
       "685_153.139_5.391   6.945477e-05                                  \n",
       "3819_157.101_10.487 1.172449e-04                                  \n",
       "445_158.097_4.702   3.243734e-04                                  \n",
       "3501_158.154_9.708  3.071278e-04                                  \n",
       "                    DOM_Interlab-LCMS_Lab15_A45M_Pos_MS2_rep1.mzML\n",
       "3488_151.112_9.684  1.077076e-04                                  \n",
       "3026_153.091_8.525  1.766675e-04                                  \n",
       "685_153.139_5.391   1.706774e-04                                  \n",
       "3819_157.101_10.487 1.263178e-04                                  \n",
       "445_158.097_4.702   1.439395e-04                                  \n",
       "3501_158.154_9.708  4.804403e-05                                  \n",
       "                    DOM_Interlab-LCMS_Lab15_A45M_Pos_MS2_rep2.mzML\n",
       "3488_151.112_9.684  1.197759e-04                                  \n",
       "3026_153.091_8.525  1.817997e-04                                  \n",
       "685_153.139_5.391   1.701997e-04                                  \n",
       "3819_157.101_10.487 1.321445e-04                                  \n",
       "445_158.097_4.702   1.640640e-04                                  \n",
       "3501_158.154_9.708  3.723962e-05                                  \n",
       "                    DOM_Interlab-LCMS_Lab15_A45M_Pos_MS2_rep3.mzML\n",
       "3488_151.112_9.684  1.156262e-04                                  \n",
       "3026_153.091_8.525  2.143341e-04                                  \n",
       "685_153.139_5.391   1.686285e-04                                  \n",
       "3819_157.101_10.487 1.306374e-04                                  \n",
       "445_158.097_4.702   2.397701e-04                                  \n",
       "3501_158.154_9.708  4.496292e-05                                  \n",
       "                    DOM_Interlab-LCMS_Lab15_A5M_Pos_MS2_rep1.mzML\n",
       "3488_151.112_9.684  2.047205e-04                                 \n",
       "3026_153.091_8.525  4.478173e-04                                 \n",
       "685_153.139_5.391   2.003483e-05                                 \n",
       "3819_157.101_10.487 1.412394e-04                                 \n",
       "445_158.097_4.702   3.653011e-04                                 \n",
       "3501_158.154_9.708  3.005492e-04                                 \n",
       "                    DOM_Interlab-LCMS_Lab15_A5M_Pos_MS2_rep2.mzML\n",
       "3488_151.112_9.684  2.071079e-04                                 \n",
       "3026_153.091_8.525  4.287713e-04                                 \n",
       "685_153.139_5.391   1.911347e-05                                 \n",
       "3819_157.101_10.487 1.458833e-04                                 \n",
       "445_158.097_4.702   1.439357e-04                                 \n",
       "3501_158.154_9.708  2.948089e-04                                 \n",
       "                    DOM_Interlab-LCMS_Lab15_A5M_Pos_MS2_rep3.mzML\n",
       "3488_151.112_9.684  1.622811e-04                                 \n",
       "3026_153.091_8.525  4.827391e-04                                 \n",
       "685_153.139_5.391   2.038164e-05                                 \n",
       "3819_157.101_10.487 1.318379e-04                                 \n",
       "445_158.097_4.702   3.415288e-04                                 \n",
       "3501_158.154_9.708  3.128236e-04                                 \n",
       "                    DOM_Interlab-LCMS_Lab15_M_Pos_MS2_rep1.mzML\n",
       "3488_151.112_9.684  1.771504e-04                               \n",
       "3026_153.091_8.525  4.900843e-04                               \n",
       "685_153.139_5.391   3.079197e-06                               \n",
       "3819_157.101_10.487 1.432750e-04                               \n",
       "445_158.097_4.702   4.516700e-04                               \n",
       "3501_158.154_9.708  2.731913e-04                               \n",
       "                    DOM_Interlab-LCMS_Lab15_M_Pos_MS2_rep2.mzML\n",
       "3488_151.112_9.684  2.228138e-04                               \n",
       "3026_153.091_8.525  5.693211e-04                               \n",
       "685_153.139_5.391   3.255594e-06                               \n",
       "3819_157.101_10.487 1.864082e-04                               \n",
       "445_158.097_4.702   4.300351e-04                               \n",
       "3501_158.154_9.708  3.307759e-04                               \n",
       "                    DOM_Interlab-LCMS_Lab15_M_Pos_MS2_rep3.mzML\n",
       "3488_151.112_9.684  3.029750e-04                               \n",
       "3026_153.091_8.525  5.751669e-04                               \n",
       "685_153.139_5.391   3.095731e-06                               \n",
       "3819_157.101_10.487 1.457708e-04                               \n",
       "445_158.097_4.702   3.309320e-04                               \n",
       "3501_158.154_9.708  3.058342e-04                               "
      ]
     },
     "metadata": {},
     "output_type": "display_data"
    },
    {
     "name": "stdout",
     "output_type": "stream",
     "text": [
      "[1] \"No.of NA values in Normalized data: 0\"\n"
     ]
    }
   ],
   "source": [
    "if (casefold(readline(\"Do you want to perform Normalization: Y/N:\"),upper=T) == 'Y'){\n",
    "    #Getting column-wise sums of the input-data\n",
    "    sample_sum <- colSums(Imputed, na.rm= TRUE, dims = 1)\n",
    "    \n",
    "    #Dividing each element of a particular column with its column sum\n",
    "    Normalized_data <- c()\n",
    "    for (i in 1:ncol(Imputed)){\n",
    "        x <- Imputed[,i] / sample_sum[i]\n",
    "        Normalized_data <- cbind(Normalized_data, x)\n",
    "    }\n",
    "    colnames(Normalized_data) <- names(sample_sum)\n",
    "    \n",
    "    head(Normalized_data)\n",
    "} else return(head(Imputed))\n",
    "  \n",
    "print(paste('No.of NA values in Normalized data:',sum(is.na(Normalized_data)== TRUE)))"
   ]
  },
  {
   "cell_type": "code",
   "execution_count": 50,
   "id": "2539f80c",
   "metadata": {},
   "outputs": [
    {
     "data": {
      "text/html": [
       "<ol class=list-inline>\n",
       "\t<li>2395</li>\n",
       "\t<li>12</li>\n",
       "</ol>\n"
      ],
      "text/latex": [
       "\\begin{enumerate*}\n",
       "\\item 2395\n",
       "\\item 12\n",
       "\\end{enumerate*}\n"
      ],
      "text/markdown": [
       "1. 2395\n",
       "2. 12\n",
       "\n",
       "\n"
      ],
      "text/plain": [
       "[1] 2395   12"
      ]
     },
     "metadata": {},
     "output_type": "display_data"
    }
   ],
   "source": [
    "dim(Normalized_data)"
   ]
  },
  {
   "cell_type": "code",
   "execution_count": 51,
   "id": "58fc407e",
   "metadata": {},
   "outputs": [],
   "source": [
    "write.csv(Normalized_data, file.path(fName,'Normalised_Quant_table.csv'),row.names =TRUE)"
   ]
  },
  {
   "cell_type": "markdown",
   "id": "01ed9937-3a7f-45e0-b21f-a05ae54dee34",
   "metadata": {},
   "source": [
    "All the result files would be available in the 'Result' folder within your working directory (i.e the folder path you mentioned in the beginning of the script)."
   ]
  },
  {
   "cell_type": "markdown",
   "id": "43c0497d-af17-4c90-bb2f-54ad0aef75bd",
   "metadata": {},
   "source": [
    "## Getting output files from Google Colab:\n",
    "<a id=\"colab_output\"></a>\n",
    "For Google Collab users, we can zip the result folder which contains all the output files using the next cell and download the zip file directly from the folder \"/content/My_TestData\" into the local system."
   ]
  },
  {
   "cell_type": "code",
   "execution_count": null,
   "id": "8ef4a687-bded-4fd9-90b0-8e5838bd40af",
   "metadata": {},
   "outputs": [],
   "source": [
    "#Only for Google Colab\n",
    "utils::zip(zipfile = 'TestData_DataCleanup_Results', files = \"/content/My_TestData_DataCleanup_Results/\")"
   ]
  }
 ],
 "metadata": {
  "kernelspec": {
   "display_name": "R",
   "language": "R",
   "name": "ir"
  },
  "language_info": {
   "codemirror_mode": "r",
   "file_extension": ".r",
   "mimetype": "text/x-r-source",
   "name": "R",
   "pygments_lexer": "r",
   "version": "3.6.1"
  }
 },
 "nbformat": 4,
 "nbformat_minor": 5
}
