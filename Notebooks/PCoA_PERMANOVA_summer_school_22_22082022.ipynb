{
 "cells": [
  {
   "cell_type": "markdown",
   "metadata": {
    "id": "7YovRYBxMd9_"
   },
   "source": [
    "# Unsupervised multivariate analyses: PCoA and PERMANOVA \n",
    "Authors: M Ernst, F Russo<br>\n",
    "Last update: August 22, 2022<br>\n",
    "\n",
    "In this notebook we will perform a Principal Coordinate Analysis (PCoA), also known as metric or classical Multidimensional Scaling (metric MDS) to explore and visualize patterns in an untargeted mass spectromtery-based metabolomics dataset. We will then assess statistical significance of the patterns and dispersion of different sample types using permutational multivariate analysis of variance (PERMANOVA). <br>\n",
    "\n",
    "<b>Data</b> <br>\n",
    "\n",
    "The files used in this tutorial are part of an interlab comparison study, where different laboratories around the world analysed same environmental samples on their respective LC-MS/MS equipments. To simulate algal bloom, standardized algae extracts (A) in marine dissovled organic matter (M) at different concentrations were prepared (450 (A45M); 150 (A15M); and 50 (A5M) ppm A). Samples were then shipped to different laboratories for untargeted LC-MS/MS metabolomics analysis. In this tutorial we are working with one of the datasets, which was acquired on a UHPLC system coupled to a Thermo Scientific Q Exactive HF Orbitrap LC-MS/MS mass spectrometer. MS/MS data were acquired in data-dependent acquisition (DDA) with fragmentation of the five most abundant ions in the spectrum per precursor scan. Data files were subsequently preprocessed using [MZmine3](http://mzmine.github.io/) and the [feature-based molecular networking workflow in GNPS](https://gnps.ucsd.edu/ProteoSAFe/status.jsp?task=d207c3a831264d61810ad69ac09b14e9).\n",
    "\n",
    "<b>Questions</b><br>\n",
    "- Can we monitor algal bloom by looking at metabolomic profiles of marine dissolved organic matter?<br>\n",
    "\n",
    "Install and load libraries"
   ]
  },
  {
   "cell_type": "code",
   "execution_count": 1,
   "metadata": {
    "colab": {
     "base_uri": "https://localhost:8080/"
    },
    "id": "o86IHBvTNPwj",
    "outputId": "71824dce-3aa1-47ff-bd6e-b9b21864f51e",
    "vscode": {
     "languageId": "r"
    }
   },
   "outputs": [
    {
     "name": "stdout",
     "output_type": "stream",
     "text": [
      "\n",
      "The downloaded binary packages are in\n",
      "\t/var/folders/k7/zs6jm5h95875g74l66xfxq6m0000gn/T//RtmpsPiuNO/downloaded_packages\n",
      "\n",
      "The downloaded binary packages are in\n",
      "\t/var/folders/k7/zs6jm5h95875g74l66xfxq6m0000gn/T//RtmpsPiuNO/downloaded_packages\n"
     ]
    }
   ],
   "source": [
    "# It can take some time in Google Colab\n",
    "install.packages('vegan')\n",
    "install.packages('ggplot2')"
   ]
  },
  {
   "cell_type": "code",
   "execution_count": 2,
   "metadata": {
    "colab": {
     "base_uri": "https://localhost:8080/"
    },
    "id": "4Q3PYcXNNgxT",
    "outputId": "c679bc95-916b-486a-f721-2d874d7ab2d6",
    "vscode": {
     "languageId": "r"
    }
   },
   "outputs": [
    {
     "name": "stderr",
     "output_type": "stream",
     "text": [
      "Warning message:\n",
      "“package ‘vegan’ was built under R version 4.1.2”\n",
      "Loading required package: permute\n",
      "\n",
      "Loading required package: lattice\n",
      "\n",
      "This is vegan 2.6-2\n",
      "\n",
      "Warning message:\n",
      "“package ‘ggplot2’ was built under R version 4.1.2”\n"
     ]
    }
   ],
   "source": [
    "library(vegan)\n",
    "library(ggplot2)"
   ]
  },
  {
   "cell_type": "code",
   "execution_count": 3,
   "metadata": {
    "colab": {
     "base_uri": "https://localhost:8080/",
     "height": 35
    },
    "id": "jVzdaFMDVJas",
    "outputId": "4ea4b679-ebbd-4861-cc49-ede58e364d14",
    "vscode": {
     "languageId": "r"
    }
   },
   "outputs": [
    {
     "data": {
      "text/plain": [
       "[1] \"2022-08-24 09:45:55 CEST\""
      ]
     },
     "metadata": {},
     "output_type": "display_data"
    }
   ],
   "source": [
    "# last update\n",
    "Sys.time()"
   ]
  },
  {
   "cell_type": "markdown",
   "metadata": {
    "id": "hnaLXeKnNqxC"
   },
   "source": [
    "Specify where the data can be found by providing urls for the feature table and metadata. Here, we import the files directly from GitHub but you can import them from your local computer or from Google Drive as well of course. We import the cleaned and imputed (but not normalized) feature tables."
   ]
  },
  {
   "cell_type": "code",
   "execution_count": 4,
   "metadata": {
    "id": "9Shuucq6NsoG",
    "vscode": {
     "languageId": "r"
    }
   },
   "outputs": [],
   "source": [
    "## feature table\n",
    "ft_url <- 'https://raw.githubusercontent.com/Functional-Metabolomics-Lab/Metabolomics_SummerSchool_2022/main/data/dom/processed/Imputed_QuantTable_filled_with_1267_CutOff_Used_0.3.csv'\n",
    "## metadata\n",
    "md_url <- 'https://raw.githubusercontent.com/Functional-Metabolomics-Lab/Metabolomics_SummerSchool_2022/main/data/dom/metadata_lab15.txt'"
   ]
  },
  {
   "cell_type": "code",
   "execution_count": 5,
   "metadata": {
    "id": "LpUN0GZmOzg4",
    "vscode": {
     "languageId": "r"
    }
   },
   "outputs": [],
   "source": [
    "ft <- read.csv(ft_url, header = T, check.names = F, row.names = 1)\n",
    "md <- read.csv(md_url, header = T, check.names = F, sep = '\\t')"
   ]
  },
  {
   "cell_type": "code",
   "execution_count": 6,
   "metadata": {
    "colab": {
     "base_uri": "https://localhost:8080/",
     "height": 52
    },
    "id": "k8dRQfV2O2mH",
    "outputId": "9204cd23-1880-4e8f-82bd-e517b4a587d0",
    "vscode": {
     "languageId": "r"
    }
   },
   "outputs": [
    {
     "data": {
      "text/html": [
       "<style>\n",
       ".list-inline {list-style: none; margin:0; padding: 0}\n",
       ".list-inline>li {display: inline-block}\n",
       ".list-inline>li:not(:last-child)::after {content: \"\\00b7\"; padding: 0 .5ex}\n",
       "</style>\n",
       "<ol class=list-inline><li>2395</li><li>12</li></ol>\n"
      ],
      "text/latex": [
       "\\begin{enumerate*}\n",
       "\\item 2395\n",
       "\\item 12\n",
       "\\end{enumerate*}\n"
      ],
      "text/markdown": [
       "1. 2395\n",
       "2. 12\n",
       "\n",
       "\n"
      ],
      "text/plain": [
       "[1] 2395   12"
      ]
     },
     "metadata": {},
     "output_type": "display_data"
    },
    {
     "data": {
      "text/html": [
       "<style>\n",
       ".list-inline {list-style: none; margin:0; padding: 0}\n",
       ".list-inline>li {display: inline-block}\n",
       ".list-inline>li:not(:last-child)::after {content: \"\\00b7\"; padding: 0 .5ex}\n",
       "</style>\n",
       "<ol class=list-inline><li>13</li><li>4</li></ol>\n"
      ],
      "text/latex": [
       "\\begin{enumerate*}\n",
       "\\item 13\n",
       "\\item 4\n",
       "\\end{enumerate*}\n"
      ],
      "text/markdown": [
       "1. 13\n",
       "2. 4\n",
       "\n",
       "\n"
      ],
      "text/plain": [
       "[1] 13  4"
      ]
     },
     "metadata": {},
     "output_type": "display_data"
    }
   ],
   "source": [
    "dim(ft)\n",
    "dim(md)"
   ]
  },
  {
   "cell_type": "code",
   "execution_count": 7,
   "metadata": {
    "colab": {
     "base_uri": "https://localhost:8080/",
     "height": 198
    },
    "id": "AFtT5eBtQo3X",
    "outputId": "4143313b-41f2-48c4-c412-e0a8c3c91d8d",
    "vscode": {
     "languageId": "r"
    }
   },
   "outputs": [
    {
     "data": {
      "text/html": [
       "<table class=\"dataframe\">\n",
       "<caption>A data.frame: 2 × 12</caption>\n",
       "<thead>\n",
       "\t<tr><th></th><th scope=col>DOM_Interlab-LCMS_Lab15_A15M_Pos_MS2_rep1.mzML</th><th scope=col>DOM_Interlab-LCMS_Lab15_A15M_Pos_MS2_rep2.mzML</th><th scope=col>DOM_Interlab-LCMS_Lab15_A15M_Pos_MS2_rep3.mzML</th><th scope=col>DOM_Interlab-LCMS_Lab15_A45M_Pos_MS2_rep1.mzML</th><th scope=col>DOM_Interlab-LCMS_Lab15_A45M_Pos_MS2_rep2.mzML</th><th scope=col>DOM_Interlab-LCMS_Lab15_A45M_Pos_MS2_rep3.mzML</th><th scope=col>DOM_Interlab-LCMS_Lab15_A5M_Pos_MS2_rep1.mzML</th><th scope=col>DOM_Interlab-LCMS_Lab15_A5M_Pos_MS2_rep2.mzML</th><th scope=col>DOM_Interlab-LCMS_Lab15_A5M_Pos_MS2_rep3.mzML</th><th scope=col>DOM_Interlab-LCMS_Lab15_M_Pos_MS2_rep1.mzML</th><th scope=col>DOM_Interlab-LCMS_Lab15_M_Pos_MS2_rep2.mzML</th><th scope=col>DOM_Interlab-LCMS_Lab15_M_Pos_MS2_rep3.mzML</th></tr>\n",
       "\t<tr><th></th><th scope=col>&lt;dbl&gt;</th><th scope=col>&lt;dbl&gt;</th><th scope=col>&lt;dbl&gt;</th><th scope=col>&lt;dbl&gt;</th><th scope=col>&lt;dbl&gt;</th><th scope=col>&lt;dbl&gt;</th><th scope=col>&lt;dbl&gt;</th><th scope=col>&lt;dbl&gt;</th><th scope=col>&lt;dbl&gt;</th><th scope=col>&lt;dbl&gt;</th><th scope=col>&lt;dbl&gt;</th><th scope=col>&lt;dbl&gt;</th></tr>\n",
       "</thead>\n",
       "<tbody>\n",
       "\t<tr><th scope=row>3488_151.112_9.684</th><td> 92659.64</td><td>107936.6</td><td> 90535.35</td><td> 84885.34</td><td> 95607.41</td><td> 92654.02</td><td> 88818.61</td><td> 91449.84</td><td> 72474.91</td><td> 72892.23</td><td> 86713.87</td><td>123999.6</td></tr>\n",
       "\t<tr><th scope=row>3026_153.091_8.525</th><td>226318.05</td><td>234986.2</td><td>238839.39</td><td>139233.22</td><td>145115.98</td><td>171750.98</td><td>194286.90</td><td>189326.75</td><td>215591.77</td><td>201655.44</td><td>221566.31</td><td>235400.4</td></tr>\n",
       "</tbody>\n",
       "</table>\n"
      ],
      "text/latex": [
       "A data.frame: 2 × 12\n",
       "\\begin{tabular}{r|llllllllllll}\n",
       "  & DOM\\_Interlab-LCMS\\_Lab15\\_A15M\\_Pos\\_MS2\\_rep1.mzML & DOM\\_Interlab-LCMS\\_Lab15\\_A15M\\_Pos\\_MS2\\_rep2.mzML & DOM\\_Interlab-LCMS\\_Lab15\\_A15M\\_Pos\\_MS2\\_rep3.mzML & DOM\\_Interlab-LCMS\\_Lab15\\_A45M\\_Pos\\_MS2\\_rep1.mzML & DOM\\_Interlab-LCMS\\_Lab15\\_A45M\\_Pos\\_MS2\\_rep2.mzML & DOM\\_Interlab-LCMS\\_Lab15\\_A45M\\_Pos\\_MS2\\_rep3.mzML & DOM\\_Interlab-LCMS\\_Lab15\\_A5M\\_Pos\\_MS2\\_rep1.mzML & DOM\\_Interlab-LCMS\\_Lab15\\_A5M\\_Pos\\_MS2\\_rep2.mzML & DOM\\_Interlab-LCMS\\_Lab15\\_A5M\\_Pos\\_MS2\\_rep3.mzML & DOM\\_Interlab-LCMS\\_Lab15\\_M\\_Pos\\_MS2\\_rep1.mzML & DOM\\_Interlab-LCMS\\_Lab15\\_M\\_Pos\\_MS2\\_rep2.mzML & DOM\\_Interlab-LCMS\\_Lab15\\_M\\_Pos\\_MS2\\_rep3.mzML\\\\\n",
       "  & <dbl> & <dbl> & <dbl> & <dbl> & <dbl> & <dbl> & <dbl> & <dbl> & <dbl> & <dbl> & <dbl> & <dbl>\\\\\n",
       "\\hline\n",
       "\t3488\\_151.112\\_9.684 &  92659.64 & 107936.6 &  90535.35 &  84885.34 &  95607.41 &  92654.02 &  88818.61 &  91449.84 &  72474.91 &  72892.23 &  86713.87 & 123999.6\\\\\n",
       "\t3026\\_153.091\\_8.525 & 226318.05 & 234986.2 & 238839.39 & 139233.22 & 145115.98 & 171750.98 & 194286.90 & 189326.75 & 215591.77 & 201655.44 & 221566.31 & 235400.4\\\\\n",
       "\\end{tabular}\n"
      ],
      "text/markdown": [
       "\n",
       "A data.frame: 2 × 12\n",
       "\n",
       "| <!--/--> | DOM_Interlab-LCMS_Lab15_A15M_Pos_MS2_rep1.mzML &lt;dbl&gt; | DOM_Interlab-LCMS_Lab15_A15M_Pos_MS2_rep2.mzML &lt;dbl&gt; | DOM_Interlab-LCMS_Lab15_A15M_Pos_MS2_rep3.mzML &lt;dbl&gt; | DOM_Interlab-LCMS_Lab15_A45M_Pos_MS2_rep1.mzML &lt;dbl&gt; | DOM_Interlab-LCMS_Lab15_A45M_Pos_MS2_rep2.mzML &lt;dbl&gt; | DOM_Interlab-LCMS_Lab15_A45M_Pos_MS2_rep3.mzML &lt;dbl&gt; | DOM_Interlab-LCMS_Lab15_A5M_Pos_MS2_rep1.mzML &lt;dbl&gt; | DOM_Interlab-LCMS_Lab15_A5M_Pos_MS2_rep2.mzML &lt;dbl&gt; | DOM_Interlab-LCMS_Lab15_A5M_Pos_MS2_rep3.mzML &lt;dbl&gt; | DOM_Interlab-LCMS_Lab15_M_Pos_MS2_rep1.mzML &lt;dbl&gt; | DOM_Interlab-LCMS_Lab15_M_Pos_MS2_rep2.mzML &lt;dbl&gt; | DOM_Interlab-LCMS_Lab15_M_Pos_MS2_rep3.mzML &lt;dbl&gt; |\n",
       "|---|---|---|---|---|---|---|---|---|---|---|---|---|\n",
       "| 3488_151.112_9.684 |  92659.64 | 107936.6 |  90535.35 |  84885.34 |  95607.41 |  92654.02 |  88818.61 |  91449.84 |  72474.91 |  72892.23 |  86713.87 | 123999.6 |\n",
       "| 3026_153.091_8.525 | 226318.05 | 234986.2 | 238839.39 | 139233.22 | 145115.98 | 171750.98 | 194286.90 | 189326.75 | 215591.77 | 201655.44 | 221566.31 | 235400.4 |\n",
       "\n"
      ],
      "text/plain": [
       "                   DOM_Interlab-LCMS_Lab15_A15M_Pos_MS2_rep1.mzML\n",
       "3488_151.112_9.684  92659.64                                     \n",
       "3026_153.091_8.525 226318.05                                     \n",
       "                   DOM_Interlab-LCMS_Lab15_A15M_Pos_MS2_rep2.mzML\n",
       "3488_151.112_9.684 107936.6                                      \n",
       "3026_153.091_8.525 234986.2                                      \n",
       "                   DOM_Interlab-LCMS_Lab15_A15M_Pos_MS2_rep3.mzML\n",
       "3488_151.112_9.684  90535.35                                     \n",
       "3026_153.091_8.525 238839.39                                     \n",
       "                   DOM_Interlab-LCMS_Lab15_A45M_Pos_MS2_rep1.mzML\n",
       "3488_151.112_9.684  84885.34                                     \n",
       "3026_153.091_8.525 139233.22                                     \n",
       "                   DOM_Interlab-LCMS_Lab15_A45M_Pos_MS2_rep2.mzML\n",
       "3488_151.112_9.684  95607.41                                     \n",
       "3026_153.091_8.525 145115.98                                     \n",
       "                   DOM_Interlab-LCMS_Lab15_A45M_Pos_MS2_rep3.mzML\n",
       "3488_151.112_9.684  92654.02                                     \n",
       "3026_153.091_8.525 171750.98                                     \n",
       "                   DOM_Interlab-LCMS_Lab15_A5M_Pos_MS2_rep1.mzML\n",
       "3488_151.112_9.684  88818.61                                    \n",
       "3026_153.091_8.525 194286.90                                    \n",
       "                   DOM_Interlab-LCMS_Lab15_A5M_Pos_MS2_rep2.mzML\n",
       "3488_151.112_9.684  91449.84                                    \n",
       "3026_153.091_8.525 189326.75                                    \n",
       "                   DOM_Interlab-LCMS_Lab15_A5M_Pos_MS2_rep3.mzML\n",
       "3488_151.112_9.684  72474.91                                    \n",
       "3026_153.091_8.525 215591.77                                    \n",
       "                   DOM_Interlab-LCMS_Lab15_M_Pos_MS2_rep1.mzML\n",
       "3488_151.112_9.684  72892.23                                  \n",
       "3026_153.091_8.525 201655.44                                  \n",
       "                   DOM_Interlab-LCMS_Lab15_M_Pos_MS2_rep2.mzML\n",
       "3488_151.112_9.684  86713.87                                  \n",
       "3026_153.091_8.525 221566.31                                  \n",
       "                   DOM_Interlab-LCMS_Lab15_M_Pos_MS2_rep3.mzML\n",
       "3488_151.112_9.684 123999.6                                   \n",
       "3026_153.091_8.525 235400.4                                   "
      ]
     },
     "metadata": {},
     "output_type": "display_data"
    }
   ],
   "source": [
    "head(ft, n=2)"
   ]
  },
  {
   "cell_type": "code",
   "execution_count": 8,
   "metadata": {
    "colab": {
     "base_uri": "https://localhost:8080/",
     "height": 161
    },
    "id": "6jShpOv-Qrvn",
    "outputId": "4fe3ff53-e49b-4fc4-9509-04d511fe04ed",
    "vscode": {
     "languageId": "r"
    }
   },
   "outputs": [
    {
     "data": {
      "text/html": [
       "<table class=\"dataframe\">\n",
       "<caption>A data.frame: 2 × 4</caption>\n",
       "<thead>\n",
       "\t<tr><th></th><th scope=col>filename</th><th scope=col>ATTRIBUTE_Sample</th><th scope=col>ATTRIBUTE_Sample_Type</th><th scope=col>ATTRIBUTE_Time-Point</th></tr>\n",
       "\t<tr><th></th><th scope=col>&lt;chr&gt;</th><th scope=col>&lt;chr&gt;</th><th scope=col>&lt;chr&gt;</th><th scope=col>&lt;int&gt;</th></tr>\n",
       "</thead>\n",
       "<tbody>\n",
       "\t<tr><th scope=row>1</th><td>DOM_Interlab-LCMS_Lab15_A15M_Pos_MS2_rep1.mzML</td><td>A15M</td><td>Sample</td><td>15</td></tr>\n",
       "\t<tr><th scope=row>2</th><td>DOM_Interlab-LCMS_Lab15_A15M_Pos_MS2_rep2.mzML</td><td>A15M</td><td>Sample</td><td>15</td></tr>\n",
       "</tbody>\n",
       "</table>\n"
      ],
      "text/latex": [
       "A data.frame: 2 × 4\n",
       "\\begin{tabular}{r|llll}\n",
       "  & filename & ATTRIBUTE\\_Sample & ATTRIBUTE\\_Sample\\_Type & ATTRIBUTE\\_Time-Point\\\\\n",
       "  & <chr> & <chr> & <chr> & <int>\\\\\n",
       "\\hline\n",
       "\t1 & DOM\\_Interlab-LCMS\\_Lab15\\_A15M\\_Pos\\_MS2\\_rep1.mzML & A15M & Sample & 15\\\\\n",
       "\t2 & DOM\\_Interlab-LCMS\\_Lab15\\_A15M\\_Pos\\_MS2\\_rep2.mzML & A15M & Sample & 15\\\\\n",
       "\\end{tabular}\n"
      ],
      "text/markdown": [
       "\n",
       "A data.frame: 2 × 4\n",
       "\n",
       "| <!--/--> | filename &lt;chr&gt; | ATTRIBUTE_Sample &lt;chr&gt; | ATTRIBUTE_Sample_Type &lt;chr&gt; | ATTRIBUTE_Time-Point &lt;int&gt; |\n",
       "|---|---|---|---|---|\n",
       "| 1 | DOM_Interlab-LCMS_Lab15_A15M_Pos_MS2_rep1.mzML | A15M | Sample | 15 |\n",
       "| 2 | DOM_Interlab-LCMS_Lab15_A15M_Pos_MS2_rep2.mzML | A15M | Sample | 15 |\n",
       "\n"
      ],
      "text/plain": [
       "  filename                                       ATTRIBUTE_Sample\n",
       "1 DOM_Interlab-LCMS_Lab15_A15M_Pos_MS2_rep1.mzML A15M            \n",
       "2 DOM_Interlab-LCMS_Lab15_A15M_Pos_MS2_rep2.mzML A15M            \n",
       "  ATTRIBUTE_Sample_Type ATTRIBUTE_Time-Point\n",
       "1 Sample                15                  \n",
       "2 Sample                15                  "
      ]
     },
     "metadata": {},
     "output_type": "display_data"
    }
   ],
   "source": [
    "head(md, n=2)"
   ]
  },
  {
   "cell_type": "markdown",
   "metadata": {
    "id": "PHm6jBB_PCZT"
   },
   "source": [
    "<b>Bring featuretable and metadata in the correct format:</b><br>"
   ]
  },
  {
   "cell_type": "code",
   "execution_count": 9,
   "metadata": {
    "id": "HTGAa-vLO-IC",
    "vscode": {
     "languageId": "r"
    }
   },
   "outputs": [],
   "source": [
    "# name rows in metadata after filenames\n",
    "rownames(md) <- md$filename"
   ]
  },
  {
   "cell_type": "code",
   "execution_count": 10,
   "metadata": {
    "colab": {
     "base_uri": "https://localhost:8080/",
     "height": 71
    },
    "id": "Y5eMYkamPgOI",
    "outputId": "2e274f41-cf24-41a4-8e1e-ae89ace127ff",
    "vscode": {
     "languageId": "r"
    }
   },
   "outputs": [
    {
     "data": {
      "text/plain": [
       "\n",
       "FALSE  TRUE \n",
       "    1    12 "
      ]
     },
     "metadata": {},
     "output_type": "display_data"
    }
   ],
   "source": [
    "# how many files in the metadata are also present in the feature table\n",
    "table(rownames(md) %in% colnames(ft))"
   ]
  },
  {
   "cell_type": "code",
   "execution_count": 11,
   "metadata": {
    "colab": {
     "base_uri": "https://localhost:8080/",
     "height": 34
    },
    "id": "GaIIA_MfPsYV",
    "outputId": "a449c61b-b56b-4246-a047-3322a986552e",
    "vscode": {
     "languageId": "r"
    }
   },
   "outputs": [
    {
     "data": {
      "text/html": [
       "'DOM_Interlab-LCMS_Lab15_PPL_Pos_MS2.mzML'"
      ],
      "text/latex": [
       "'DOM\\_Interlab-LCMS\\_Lab15\\_PPL\\_Pos\\_MS2.mzML'"
      ],
      "text/markdown": [
       "'DOM_Interlab-LCMS_Lab15_PPL_Pos_MS2.mzML'"
      ],
      "text/plain": [
       "[1] \"DOM_Interlab-LCMS_Lab15_PPL_Pos_MS2.mzML\""
      ]
     },
     "metadata": {},
     "output_type": "display_data"
    }
   ],
   "source": [
    "# which file names in the metadata are not in the feature table?\n",
    "setdiff(rownames(md),colnames(ft))"
   ]
  },
  {
   "cell_type": "markdown",
   "metadata": {
    "id": "2gANHNrpYjA7"
   },
   "source": [
    "The blank sample 'DOM_Interlab-LCMS_Lab15_PPL_Pos_MS2.mzML' is not in the feature table, we thus remove it also from the metadata (it was used in the data clean up step)."
   ]
  },
  {
   "cell_type": "code",
   "execution_count": 12,
   "metadata": {
    "id": "QEop0RRMPuIm",
    "vscode": {
     "languageId": "r"
    }
   },
   "outputs": [],
   "source": [
    "md <- md[rownames(md) %in% colnames(ft),]"
   ]
  },
  {
   "cell_type": "code",
   "execution_count": 13,
   "metadata": {
    "colab": {
     "base_uri": "https://localhost:8080/",
     "height": 34
    },
    "id": "WSGyu7k8Px4M",
    "outputId": "780b0682-38f9-40be-85b5-1c9377181ff5",
    "vscode": {
     "languageId": "r"
    }
   },
   "outputs": [
    {
     "data": {
      "text/html": [
       "<style>\n",
       ".list-inline {list-style: none; margin:0; padding: 0}\n",
       ".list-inline>li {display: inline-block}\n",
       ".list-inline>li:not(:last-child)::after {content: \"\\00b7\"; padding: 0 .5ex}\n",
       "</style>\n",
       "<ol class=list-inline><li>12</li><li>4</li></ol>\n"
      ],
      "text/latex": [
       "\\begin{enumerate*}\n",
       "\\item 12\n",
       "\\item 4\n",
       "\\end{enumerate*}\n"
      ],
      "text/markdown": [
       "1. 12\n",
       "2. 4\n",
       "\n",
       "\n"
      ],
      "text/plain": [
       "[1] 12  4"
      ]
     },
     "metadata": {},
     "output_type": "display_data"
    }
   ],
   "source": [
    "dim(md)"
   ]
  },
  {
   "cell_type": "code",
   "execution_count": 14,
   "metadata": {
    "id": "3P87mgP4Qfas",
    "vscode": {
     "languageId": "r"
    }
   },
   "outputs": [],
   "source": [
    "# transpose ft\n",
    "ft <- t(ft)"
   ]
  },
  {
   "cell_type": "code",
   "execution_count": 15,
   "metadata": {
    "colab": {
     "base_uri": "https://localhost:8080/",
     "height": 34
    },
    "id": "EyuDHUSIQhdH",
    "outputId": "518c114c-173d-4c1e-be97-ee52a2e3b28e",
    "vscode": {
     "languageId": "r"
    }
   },
   "outputs": [
    {
     "data": {
      "text/html": [
       "<style>\n",
       ".list-inline {list-style: none; margin:0; padding: 0}\n",
       ".list-inline>li {display: inline-block}\n",
       ".list-inline>li:not(:last-child)::after {content: \"\\00b7\"; padding: 0 .5ex}\n",
       "</style>\n",
       "<ol class=list-inline><li>12</li><li>2395</li></ol>\n"
      ],
      "text/latex": [
       "\\begin{enumerate*}\n",
       "\\item 12\n",
       "\\item 2395\n",
       "\\end{enumerate*}\n"
      ],
      "text/markdown": [
       "1. 12\n",
       "2. 2395\n",
       "\n",
       "\n"
      ],
      "text/plain": [
       "[1]   12 2395"
      ]
     },
     "metadata": {},
     "output_type": "display_data"
    }
   ],
   "source": [
    "dim(ft)"
   ]
  },
  {
   "cell_type": "markdown",
   "metadata": {
    "id": "JxkAO5oHQAXW"
   },
   "source": [
    "<b>Principal coordinates analysis (PCoA)</b><br>\n",
    "\n",
    "Principal coordinates analysis (PCoA) is a metric multidimensional scaling (MDS) method that attempts to represent sample dissimilarities in a low-dimensional space. It converts a distance matrix consisting of pair-wise distances (dissimilarities) across samples into a 2- or 3-D graph ([Gower, 2005](https://onlinelibrary.wiley.com/doi/10.1002/0470011815.b2a13070)). Different distance metrics can be used to calculate dissimilarities among samples (e.g. Euclidean, Canberra, Minkowski). Performing a principal coordinates analysis using the Euclidean distance metric is the same as performing a principal components analysis (PCA). The selection of the most appropriate metric depends on the nature of your data and assumptions made by the metric.<br>\n",
    "\n",
    "Within the metabolomics field the Euclidean, Bray-Curtis, Jaccard or Canberra distances are most commonly used. The Jaccard distance is an unweighted metric (presence/absence) whereas Euclidean, Bray-Curtis and Canberra distances take into account relative abundances (weighted). Some metrics may be better suited for very sparse data (with many zeroes) than others. For example, the Euclidean distance metric is not recommended to be used for highly sparse data. <br>\n",
    "\n",
    "This video tutorial by StatQuest summarizes nicely the basic principles of PCoA: https://www.youtube.com/watch?v=GEn-_dAyYME<br>"
   ]
  },
  {
   "cell_type": "markdown",
   "metadata": {
    "id": "qBwlwzKxYjA9"
   },
   "source": [
    "In order to perform a PCoA as described below, it is important that the filenames in our metadata are identical as well as in the same order as the filenames in our feature table. Let's make sure this is true, using the below code (this should return TRUE)."
   ]
  },
  {
   "cell_type": "code",
   "execution_count": 16,
   "metadata": {
    "colab": {
     "base_uri": "https://localhost:8080/",
     "height": 52
    },
    "id": "5NxWM-OlP0ZS",
    "outputId": "3c35a8e6-82e4-42dc-b66a-8aadd6f0166a",
    "vscode": {
     "languageId": "r"
    }
   },
   "outputs": [
    {
     "data": {
      "text/html": [
       "TRUE"
      ],
      "text/latex": [
       "TRUE"
      ],
      "text/markdown": [
       "TRUE"
      ],
      "text/plain": [
       "[1] TRUE"
      ]
     },
     "metadata": {},
     "output_type": "display_data"
    },
    {
     "data": {
      "text/html": [
       "TRUE"
      ],
      "text/latex": [
       "TRUE"
      ],
      "text/markdown": [
       "TRUE"
      ],
      "text/plain": [
       "[1] TRUE"
      ]
     },
     "metadata": {},
     "output_type": "display_data"
    }
   ],
   "source": [
    "identical(rownames(ft),rownames(md))\n",
    "# put the rows in the feature table and metadata in the same order\n",
    "ft <- ft[match(rownames(md),rownames(ft)),]\n",
    "identical(rownames(ft),rownames(md))"
   ]
  },
  {
   "cell_type": "markdown",
   "metadata": {
    "id": "-5XUNzYnR8Mm"
   },
   "source": [
    "Now, let's scale and center the data."
   ]
  },
  {
   "cell_type": "code",
   "execution_count": 17,
   "metadata": {
    "id": "QEBGMVlKR-qk",
    "vscode": {
     "languageId": "r"
    }
   },
   "outputs": [],
   "source": [
    "fts <- scale(ft, scale = TRUE, center = TRUE)"
   ]
  },
  {
   "cell_type": "markdown",
   "metadata": {
    "id": "oidOJDyNQ6Sg"
   },
   "source": [
    "Next, we will calculate pairwise distances across all samples using the Euclidean distance metric."
   ]
  },
  {
   "cell_type": "code",
   "execution_count": 18,
   "metadata": {
    "id": "OS1M2TFlQ3F9",
    "vscode": {
     "languageId": "r"
    }
   },
   "outputs": [],
   "source": [
    "distm <- dist(fts, method = 'euclidean')"
   ]
  },
  {
   "cell_type": "markdown",
   "metadata": {
    "id": "g4vHSJaURCe8"
   },
   "source": [
    "All pairwise Euclidean distances are now stored within our distance (dissimilarity) matrix (distm). The distance matrix is then used as input for the PCoA. At first, we here color samples according to the sample types (ATTRIBUTE_Sample within our metadata)"
   ]
  },
  {
   "cell_type": "code",
   "execution_count": 19,
   "metadata": {
    "colab": {
     "base_uri": "https://localhost:8080/",
     "height": 180
    },
    "id": "gkYjHYV6S42g",
    "outputId": "45b522fd-6312-4796-82dd-8357beb6053a",
    "vscode": {
     "languageId": "r"
    }
   },
   "outputs": [
    {
     "data": {
      "text/plain": [
       "\n",
       "A15M A45M  A5M    M \n",
       "   3    3    3    3 "
      ]
     },
     "metadata": {},
     "output_type": "display_data"
    },
    {
     "data": {
      "text/plain": [
       "\n",
       "Sample \n",
       "    12 "
      ]
     },
     "metadata": {},
     "output_type": "display_data"
    },
    {
     "data": {
      "text/plain": [
       "\n",
       " 0  5 15 45 \n",
       " 3  3  3  3 "
      ]
     },
     "metadata": {},
     "output_type": "display_data"
    }
   ],
   "source": [
    "table(md$ATTRIBUTE_Sample)\n",
    "table(md$ATTRIBUTE_Sample_Type)\n",
    "table(md$'ATTRIBUTE_Time-Point')"
   ]
  },
  {
   "cell_type": "code",
   "execution_count": 20,
   "metadata": {
    "id": "MsTOm8C_RWzQ",
    "vscode": {
     "languageId": "r"
    }
   },
   "outputs": [],
   "source": [
    "PcoA <- cmdscale(distm, k = 2, eig = T, add = T)\n",
    "PcoA_points <- as.data.frame(PcoA$points)\n",
    "variance <- round(PcoA$eig*100/sum(PcoA$eig),1)\n",
    "names(PcoA_points)[1:2] <- c('PCoA1', 'PCoA2')"
   ]
  },
  {
   "cell_type": "code",
   "execution_count": 21,
   "metadata": {
    "colab": {
     "base_uri": "https://localhost:8080/",
     "height": 286
    },
    "id": "ZU4MSaGrSiUk",
    "outputId": "0e45ab80-3d68-4bc2-f82c-4099ece27074",
    "vscode": {
     "languageId": "r"
    }
   },
   "outputs": [
    {
     "data": {
      "text/html": [
       "<table class=\"dataframe\">\n",
       "<caption>A data.frame: 6 × 2</caption>\n",
       "<thead>\n",
       "\t<tr><th></th><th scope=col>PCoA1</th><th scope=col>PCoA2</th></tr>\n",
       "\t<tr><th></th><th scope=col>&lt;dbl&gt;</th><th scope=col>&lt;dbl&gt;</th></tr>\n",
       "</thead>\n",
       "<tbody>\n",
       "\t<tr><th scope=row>DOM_Interlab-LCMS_Lab15_A15M_Pos_MS2_rep1.mzML</th><td>  0.02386967</td><td>-32.03298</td></tr>\n",
       "\t<tr><th scope=row>DOM_Interlab-LCMS_Lab15_A15M_Pos_MS2_rep2.mzML</th><td> -1.55409046</td><td>-33.35346</td></tr>\n",
       "\t<tr><th scope=row>DOM_Interlab-LCMS_Lab15_A15M_Pos_MS2_rep3.mzML</th><td> -1.58329188</td><td>-31.78853</td></tr>\n",
       "\t<tr><th scope=row>DOM_Interlab-LCMS_Lab15_A45M_Pos_MS2_rep1.mzML</th><td>-56.70406721</td><td> 13.81998</td></tr>\n",
       "\t<tr><th scope=row>DOM_Interlab-LCMS_Lab15_A45M_Pos_MS2_rep2.mzML</th><td>-57.27713010</td><td> 12.92545</td></tr>\n",
       "\t<tr><th scope=row>DOM_Interlab-LCMS_Lab15_A45M_Pos_MS2_rep3.mzML</th><td>-55.14545459</td><td>  7.93891</td></tr>\n",
       "</tbody>\n",
       "</table>\n"
      ],
      "text/latex": [
       "A data.frame: 6 × 2\n",
       "\\begin{tabular}{r|ll}\n",
       "  & PCoA1 & PCoA2\\\\\n",
       "  & <dbl> & <dbl>\\\\\n",
       "\\hline\n",
       "\tDOM\\_Interlab-LCMS\\_Lab15\\_A15M\\_Pos\\_MS2\\_rep1.mzML &   0.02386967 & -32.03298\\\\\n",
       "\tDOM\\_Interlab-LCMS\\_Lab15\\_A15M\\_Pos\\_MS2\\_rep2.mzML &  -1.55409046 & -33.35346\\\\\n",
       "\tDOM\\_Interlab-LCMS\\_Lab15\\_A15M\\_Pos\\_MS2\\_rep3.mzML &  -1.58329188 & -31.78853\\\\\n",
       "\tDOM\\_Interlab-LCMS\\_Lab15\\_A45M\\_Pos\\_MS2\\_rep1.mzML & -56.70406721 &  13.81998\\\\\n",
       "\tDOM\\_Interlab-LCMS\\_Lab15\\_A45M\\_Pos\\_MS2\\_rep2.mzML & -57.27713010 &  12.92545\\\\\n",
       "\tDOM\\_Interlab-LCMS\\_Lab15\\_A45M\\_Pos\\_MS2\\_rep3.mzML & -55.14545459 &   7.93891\\\\\n",
       "\\end{tabular}\n"
      ],
      "text/markdown": [
       "\n",
       "A data.frame: 6 × 2\n",
       "\n",
       "| <!--/--> | PCoA1 &lt;dbl&gt; | PCoA2 &lt;dbl&gt; |\n",
       "|---|---|---|\n",
       "| DOM_Interlab-LCMS_Lab15_A15M_Pos_MS2_rep1.mzML |   0.02386967 | -32.03298 |\n",
       "| DOM_Interlab-LCMS_Lab15_A15M_Pos_MS2_rep2.mzML |  -1.55409046 | -33.35346 |\n",
       "| DOM_Interlab-LCMS_Lab15_A15M_Pos_MS2_rep3.mzML |  -1.58329188 | -31.78853 |\n",
       "| DOM_Interlab-LCMS_Lab15_A45M_Pos_MS2_rep1.mzML | -56.70406721 |  13.81998 |\n",
       "| DOM_Interlab-LCMS_Lab15_A45M_Pos_MS2_rep2.mzML | -57.27713010 |  12.92545 |\n",
       "| DOM_Interlab-LCMS_Lab15_A45M_Pos_MS2_rep3.mzML | -55.14545459 |   7.93891 |\n",
       "\n"
      ],
      "text/plain": [
       "                                               PCoA1        PCoA2    \n",
       "DOM_Interlab-LCMS_Lab15_A15M_Pos_MS2_rep1.mzML   0.02386967 -32.03298\n",
       "DOM_Interlab-LCMS_Lab15_A15M_Pos_MS2_rep2.mzML  -1.55409046 -33.35346\n",
       "DOM_Interlab-LCMS_Lab15_A15M_Pos_MS2_rep3.mzML  -1.58329188 -31.78853\n",
       "DOM_Interlab-LCMS_Lab15_A45M_Pos_MS2_rep1.mzML -56.70406721  13.81998\n",
       "DOM_Interlab-LCMS_Lab15_A45M_Pos_MS2_rep2.mzML -57.27713010  12.92545\n",
       "DOM_Interlab-LCMS_Lab15_A45M_Pos_MS2_rep3.mzML -55.14545459   7.93891"
      ]
     },
     "metadata": {},
     "output_type": "display_data"
    }
   ],
   "source": [
    "head(PcoA_points)"
   ]
  },
  {
   "cell_type": "code",
   "execution_count": 22,
   "metadata": {
    "colab": {
     "base_uri": "https://localhost:8080/",
     "height": 34
    },
    "id": "SoUi7x8DSXLI",
    "outputId": "6a738afe-550a-4fb8-f75c-901077d84b93",
    "vscode": {
     "languageId": "r"
    }
   },
   "outputs": [
    {
     "data": {
      "text/html": [
       "TRUE"
      ],
      "text/latex": [
       "TRUE"
      ],
      "text/markdown": [
       "TRUE"
      ],
      "text/plain": [
       "[1] TRUE"
      ]
     },
     "metadata": {},
     "output_type": "display_data"
    }
   ],
   "source": [
    "identical(rownames(PcoA_points), rownames(md))"
   ]
  },
  {
   "cell_type": "markdown",
   "metadata": {
    "id": "LG2IQks8RmPl"
   },
   "source": [
    "Using the [ggplot2](https://cran.r-project.org/web/packages/ggplot2/index.html) library, we can plot our PCoA using the Euclidean distance (=PCA)."
   ]
  },
  {
   "cell_type": "code",
   "execution_count": 23,
   "metadata": {
    "colab": {
     "base_uri": "https://localhost:8080/",
     "height": 437
    },
    "id": "Z-Mz260kRi7W",
    "outputId": "53925a05-fb84-469b-dcd0-7e0abccd8fbf",
    "vscode": {
     "languageId": "r"
    }
   },
   "outputs": [
    {
     "data": {
      "image/png": "[encoded data removed]",
      "text/plain": [
       "plot without title"
      ]
     },
     "metadata": {
      "image/png": {
       "height": 420,
       "width": 420
      }
     },
     "output_type": "display_data"
    }
   ],
   "source": [
    "ggplot(PcoA_points, aes(x = PCoA1, y = PCoA2, colour = md$ATTRIBUTE_Sample, label = row.names(PcoA))) + geom_point(size=2.5) +\n",
    "            scale_colour_manual(values = c('orange','darkgreen','red','blue','black')) +\n",
    "            xlab(paste('PCoA1',variance[1],'%', sep = ' ')) +\n",
    "            ylab(paste('PCoA2',variance[2],'%', sep = ' ')) +\n",
    "            theme(legend.title=element_blank())"
   ]
  },
  {
   "cell_type": "markdown",
   "metadata": {
    "id": "O7S1pZZMTt-I"
   },
   "source": [
    "It looks like there is a strong separation between the different dilutions of the algae extract (A45, A15, A5, and M). But is the separation significant? Let's perform a permutational multivariate analysis of variance (PERMANOVA) to find out!"
   ]
  },
  {
   "cell_type": "markdown",
   "metadata": {
    "id": "64w8VO0cT1ha"
   },
   "source": [
    "<b>Permutational multivariate analysis of variance (PERMANOVA)</b><br>\n",
    "\n",
    "Permutational multivariate analysis of variance (PERMANOVA) is a non-parametric method for multivariate analysis of variance, where P-values are obtained using permutations. The metric was originally developed within the field of ecology ([Anderson, 2008](https://onlinelibrary.wiley.com/doi/full/10.1002/9781118445112.stat07841)) but is today widely used in other fields, including the microbiome and metabolomics field. PERMANOVA is used to compare groups of samples and tests whether the centroid and/or the spread of the samples is different between the groups.<br>\n",
    "\n",
    "The adonis2() function in the [vegan package](https://cran.r-project.org/web/packages/vegan/index.html) can be used to perform a PERMANOVA. The input is any dissimilarity matrix and the test-statistic retrieved is a multivariate analogue to Fisher's F-ratio as well as an R2 value (Adonis R2)."
   ]
  },
  {
   "cell_type": "code",
   "execution_count": 24,
   "metadata": {
    "id": "UX_f6Z-KTyvd",
    "vscode": {
     "languageId": "r"
    }
   },
   "outputs": [],
   "source": [
    "adonres <- adonis2(distm ~ md[,colnames(md) == 'ATTRIBUTE_Sample'])"
   ]
  },
  {
   "cell_type": "code",
   "execution_count": 25,
   "metadata": {
    "colab": {
     "base_uri": "https://localhost:8080/",
     "height": 192
    },
    "id": "0UY3vo63T_Bf",
    "outputId": "9e3c5152-1d0c-431d-87f3-8ffa3e367ba3",
    "vscode": {
     "languageId": "r"
    }
   },
   "outputs": [
    {
     "data": {
      "text/html": [
       "<table class=\"dataframe\">\n",
       "<caption>A anova.cca: 3 × 5</caption>\n",
       "<thead>\n",
       "\t<tr><th></th><th scope=col>Df</th><th scope=col>SumOfSqs</th><th scope=col>R2</th><th scope=col>F</th><th scope=col>Pr(&gt;F)</th></tr>\n",
       "\t<tr><th></th><th scope=col>&lt;dbl&gt;</th><th scope=col>&lt;dbl&gt;</th><th scope=col>&lt;dbl&gt;</th><th scope=col>&lt;dbl&gt;</th><th scope=col>&lt;dbl&gt;</th></tr>\n",
       "</thead>\n",
       "<tbody>\n",
       "\t<tr><th scope=row>md[, colnames(md) == \"ATTRIBUTE_Sample\"]</th><td> 3</td><td>19774.797</td><td>0.7506091</td><td>8.026052</td><td>0.001</td></tr>\n",
       "\t<tr><th scope=row>Residual</th><td> 8</td><td> 6570.203</td><td>0.2493909</td><td>      NA</td><td>   NA</td></tr>\n",
       "\t<tr><th scope=row>Total</th><td>11</td><td>26345.000</td><td>1.0000000</td><td>      NA</td><td>   NA</td></tr>\n",
       "</tbody>\n",
       "</table>\n"
      ],
      "text/latex": [
       "A anova.cca: 3 × 5\n",
       "\\begin{tabular}{r|lllll}\n",
       "  & Df & SumOfSqs & R2 & F & Pr(>F)\\\\\n",
       "  & <dbl> & <dbl> & <dbl> & <dbl> & <dbl>\\\\\n",
       "\\hline\n",
       "\tmd{[}, colnames(md) == \"ATTRIBUTE\\_Sample\"{]} &  3 & 19774.797 & 0.7506091 & 8.026052 & 0.001\\\\\n",
       "\tResidual &  8 &  6570.203 & 0.2493909 &       NA &    NA\\\\\n",
       "\tTotal & 11 & 26345.000 & 1.0000000 &       NA &    NA\\\\\n",
       "\\end{tabular}\n"
      ],
      "text/markdown": [
       "\n",
       "A anova.cca: 3 × 5\n",
       "\n",
       "| <!--/--> | Df &lt;dbl&gt; | SumOfSqs &lt;dbl&gt; | R2 &lt;dbl&gt; | F &lt;dbl&gt; | Pr(&gt;F) &lt;dbl&gt; |\n",
       "|---|---|---|---|---|---|\n",
       "| md[, colnames(md) == \"ATTRIBUTE_Sample\"] |  3 | 19774.797 | 0.7506091 | 8.026052 | 0.001 |\n",
       "| Residual |  8 |  6570.203 | 0.2493909 |       NA |    NA |\n",
       "| Total | 11 | 26345.000 | 1.0000000 |       NA |    NA |\n",
       "\n"
      ],
      "text/plain": [
       "                                         Df SumOfSqs  R2        F        Pr(>F)\n",
       "md[, colnames(md) == \"ATTRIBUTE_Sample\"]  3 19774.797 0.7506091 8.026052 0.001 \n",
       "Residual                                  8  6570.203 0.2493909       NA    NA \n",
       "Total                                    11 26345.000 1.0000000       NA    NA "
      ]
     },
     "metadata": {},
     "output_type": "display_data"
    }
   ],
   "source": [
    "adonres"
   ]
  },
  {
   "cell_type": "markdown",
   "metadata": {
    "id": "rlwvv3ceUOWf"
   },
   "source": [
    "The PERMANOVA test result tells us that there is a significant difference in the metabolomic profiles of different dilutions of algae extract (PERMANOVA, P < 0.05, Adonis R2 = 0.7506) and that app. 75% of the variation in our data can be explained by algae concentration. That means that algal blooms could possibly be monitored using untargeted metabolomics."
   ]
  },
  {
   "cell_type": "markdown",
   "metadata": {
    "id": "F3mgof1HUfV9"
   },
   "source": [
    "<b>Perform PCoA and assess separation using PERMANOVA</b><br>\n",
    "\n",
    "To speed up the analysis and so we don't have to rewrite the entire code when testing different parameters, we can define a function, which will perform a principal coordinates analysis (PCoA) using a distance metric of choice, calculate a PERMANOVA and plot results in a 2-D graph:"
   ]
  },
  {
   "cell_type": "code",
   "execution_count": 26,
   "metadata": {
    "id": "lgsyQk8lT_K-",
    "vscode": {
     "languageId": "r"
    }
   },
   "outputs": [],
   "source": [
    "plotPCoA <- function(ft, md, distmetric = c(\"euclidean\", \"maximum\", \"manhattan\", \"canberra\", \"binary\", \n",
    "                                                  \"minkowski\"), collow = \"#810f7c\", colhigh =\"#f7fcb9\", \n",
    "                      catper = \"plate\", catcols = \"plate\", mdtype = 'categorical', \n",
    "                      cols = c('grey','black','orange','pink','darkgreen','darkred','brown','blue','skyblue3','green'),\n",
    "                      title = 'Principal coordinates plot'){\n",
    "    \n",
    "    catper <<- catper\n",
    "    distm <- dist(ft, method = distmetric)\n",
    "    d <- as.matrix(distm)\n",
    "\n",
    "    if (length(which(is.na(md[,colnames(md) == catper]))) !=0){\n",
    "          red <- as.dist(as.matrix(distm)[-which(is.na(md[,colnames(md) == catper])),-which(is.na(md[,colnames(md) == catper]))])\n",
    "          adonres <- adonis2(red ~ na.omit(md[,colnames(md) == catper]))\n",
    "          Rsq <- adonres$R2[1]\n",
    "          pval <- adonres$'Pr(>F)'[1]\n",
    "        } else {\n",
    "          adonres <- adonis2(distm ~ md[,colnames(md) == catper])\n",
    "          Rsq <- adonres$R2[1]\n",
    "          pval <- adonres$'Pr(>F)'[1]\n",
    "        }\n",
    "\n",
    "    PcoA <- cmdscale(distm, k =2, eig = T, add = T)\n",
    "    PcoA_points <- as.data.frame(PcoA$points)\n",
    "    variance <- round(PcoA$eig*100/sum(PcoA$eig),1)\n",
    "    names(PcoA_points)[1:2] <- c('PCoA1', 'PCoA2')\n",
    "    PcoA_points <- as.data.frame(PcoA_points)\n",
    "    PcoA_points$Group <- md[,colnames(md) == catcols][match(rownames(PcoA_points),rownames(md))]\n",
    "    names(PcoA_points)[1:2] <- c('PCoA1', 'PCoA2')\n",
    "    \n",
    "    # plot\n",
    "    cbPalette <- cols\n",
    "\n",
    "    if (mdtype == 'continuous'){\n",
    "          Tr_PcoA <- ggplot(PcoA_points, aes(x = PCoA1, y = PCoA2, colour = Group, label = row.names(PcoA))) + geom_point(size=2.5) +\n",
    "            scale_colour_gradient(low = collow, high = colhigh,space = \"Lab\", na.value = \"grey50\", guide = \"colourbar\",aesthetics = \"colour\")+\n",
    "            theme(legend.title=element_blank()) +\n",
    "            xlab(paste('PCoA1',variance[1],'%', sep = ' ')) +\n",
    "            ylab(paste('PCoA2',variance[2],'%', sep = ' ')) +\n",
    "            ggtitle(paste(title,paste0(\"(p=\",round(pval,4),\",\"),paste0(\"adonis-R2=\",round(Rsq,4),\")\"),sep=\" \"))\n",
    "\n",
    "        } else {\n",
    "\n",
    "          Tr_PcoA <- ggplot(PcoA_points, aes(x = PCoA1, y = PCoA2, colour = Group, label = row.names(PcoA))) + geom_point(size=2.5) +\n",
    "            scale_colour_manual(values = cbPalette) +\n",
    "            theme(legend.title=element_blank()) +\n",
    "            xlab(paste('PCoA1',variance[1],'%', sep = ' ')) +\n",
    "            ylab(paste('PCoA2',variance[2],'%', sep = ' ')) +\n",
    "            ggtitle(paste(title,paste0(\"(p=\",round(pval,4),\",\"),paste0(\"adonis-R2=\",round(Rsq,4),\")\"),sep=\" \"))\n",
    "        }\n",
    "    \n",
    "    print(Tr_PcoA)\n",
    "}"
   ]
  },
  {
   "cell_type": "markdown",
   "metadata": {
    "id": "wtrYBv7iUuKH"
   },
   "source": [
    "By defining different parameters within the plotPCoA function:<br>\n",
    "\n",
    "- <b>distmetric</b>: A distance metric of your choice, including \"euclidean\", \"maximum\", \"manhattan\", \"canberra\", \"binary\" or \"minkowski\".<br>\n",
    "- <b>catper</b>: How should the samples be grouped for PERMANOVA, this can be any column name of your metadata.<br>\n",
    "- <b>catcols</b>: According to what groups should the samples be colored on the PCoA, this can be any column name of your metadata.<br>\n",
    "- <b>mdtype</b>: Either 'categorical' or 'continuous', this value defines whether a continuous or categorical color scale should be used for the PCoA. <br>\n",
    "- <b>cols</b>: Colors used for plotting the groups in the PCoA. The length of this object should be equal to the number of groups plotted.<br>\n",
    "- <b>title</b>: Any title of your choice you want to give the plot.<br>\n",
    "\n",
    "we can quickly draw the same PCoA plot as above and retrieve PERMANOVA test results at the same time."
   ]
  },
  {
   "cell_type": "code",
   "execution_count": 27,
   "metadata": {
    "colab": {
     "base_uri": "https://localhost:8080/",
     "height": 437
    },
    "id": "Joe22YwYUrPj",
    "outputId": "1991deda-f4cb-4029-ff57-1ab48ff2c0a0",
    "vscode": {
     "languageId": "r"
    }
   },
   "outputs": [
    {
     "data": {
      "image/png": "[encoded data removed]",
      "text/plain": [
       "plot without title"
      ]
     },
     "metadata": {
      "image/png": {
       "height": 420,
       "width": 420
      }
     },
     "output_type": "display_data"
    }
   ],
   "source": [
    "plotPCoA(fts, md, distmetric = \"euclidean\", catper = \"ATTRIBUTE_Sample\", catcols = \"ATTRIBUTE_Sample\", mdtype = 'categorical', \n",
    "                      cols = c('orange','darkgreen','red','blue','black'),\n",
    "                      title = 'Principal coordinates plot')"
   ]
  },
  {
   "cell_type": "markdown",
   "metadata": {
    "id": "_zr6ax7yXn_O"
   },
   "source": [
    "- By changing input variables of the function we just created, we can now also quickly investigate what happens if we, for example treat algae concentration as continuous data?"
   ]
  },
  {
   "cell_type": "code",
   "execution_count": 28,
   "metadata": {
    "colab": {
     "base_uri": "https://localhost:8080/",
     "height": 437
    },
    "id": "Vcxp8GxMSRan",
    "outputId": "4b0a3957-4e86-4436-8ca0-b1588be216ac",
    "vscode": {
     "languageId": "r"
    }
   },
   "outputs": [
    {
     "data": {
      "image/png": "[encoded data removed]",
      "text/plain": [
       "plot without title"
      ]
     },
     "metadata": {
      "image/png": {
       "height": 420,
       "width": 420
      }
     },
     "output_type": "display_data"
    }
   ],
   "source": [
    "plotPCoA(fts, md, distmetric = \"euclidean\", catper = \"ATTRIBUTE_Time-Point\", catcols = \"ATTRIBUTE_Time-Point\", mdtype = 'continuous', \n",
    "                      title = 'Principal coordinates plot')"
   ]
  },
  {
   "cell_type": "markdown",
   "metadata": {
    "id": "j-y6cjGsYyiE"
   },
   "source": [
    "The PCoA plot looks the same, the only difference is that we can now visualize the pseudo temporal trend (algae concentration) using a color gradient. The PERMANOVA result slightly changes if we treat algae concentration as continuous rather than categorical variable. Metabolomic profiles of different algae dilutions are still significantly different but the variation in the data that can be explained by algae concentration is a bit lower, 55% (PERMANOVA, P < 0.05, Adonis R2 = 0.5483). "
   ]
  },
  {
   "cell_type": "markdown",
   "metadata": {
    "id": "5BsxXqiLYjBC"
   },
   "source": [
    "- We can also test a different distance metric and look at the separation of samples. During data cleanup we replaced all zero values with the minimum value found in our feature table. We might want to opt not to impute any values but instead use a distance metric that can deal better with missing values (e.g. Canberra)."
   ]
  },
  {
   "cell_type": "markdown",
   "metadata": {
    "id": "btQZjWPPYjBC"
   },
   "source": [
    "First, we replace all imputed values in the feature table with NA"
   ]
  },
  {
   "cell_type": "code",
   "execution_count": 29,
   "metadata": {
    "id": "ORby2aeQYjBC"
   },
   "outputs": [],
   "source": [
    "ft_nonimp <- ft"
   ]
  },
  {
   "cell_type": "code",
   "execution_count": 30,
   "metadata": {
    "id": "dA2K7tkyYjBC"
   },
   "outputs": [],
   "source": [
    "ft_nonimp[ft_nonimp == min(ft_nonimp)] <- NA"
   ]
  },
  {
   "cell_type": "code",
   "execution_count": 31,
   "metadata": {
    "id": "8i0zvqo9YjBC"
   },
   "outputs": [],
   "source": [
    "fts_nonimp <- scale(ft_nonimp, scale = TRUE, center = TRUE)"
   ]
  },
  {
   "cell_type": "markdown",
   "metadata": {
    "id": "hJIWW6UqYjBD"
   },
   "source": [
    "How many missing values do we have (in %)?"
   ]
  },
  {
   "cell_type": "code",
   "execution_count": 32,
   "metadata": {
    "colab": {
     "base_uri": "https://localhost:8080/",
     "height": 34
    },
    "id": "K4swpoKwYjBD",
    "outputId": "0006220a-8101-40ca-e84b-bef05fc704db"
   },
   "outputs": [
    {
     "data": {
      "text/html": [
       "7.79053583855254"
      ],
      "text/latex": [
       "7.79053583855254"
      ],
      "text/markdown": [
       "7.79053583855254"
      ],
      "text/plain": [
       "[1] 7.790536"
      ]
     },
     "metadata": {},
     "output_type": "display_data"
    }
   ],
   "source": [
    "(sum(is.na(ft_nonimp))*100)/(dim(ft)[1]*dim(ft)[2])"
   ]
  },
  {
   "cell_type": "code",
   "execution_count": 33,
   "metadata": {
    "colab": {
     "base_uri": "https://localhost:8080/",
     "height": 437
    },
    "id": "s0aDxy4NYjBD",
    "outputId": "5787e048-57b5-4b23-8164-db7cc9b4c390"
   },
   "outputs": [
    {
     "data": {
      "image/png": "[encoded data removed]",
      "text/plain": [
       "plot without title"
      ]
     },
     "metadata": {
      "image/png": {
       "height": 420,
       "width": 420
      }
     },
     "output_type": "display_data"
    }
   ],
   "source": [
    "plotPCoA(fts_nonimp, md, distmetric = \"canberra\", catper = \"ATTRIBUTE_Sample\", catcols = \"ATTRIBUTE_Sample\", mdtype = 'categorical', \n",
    "                      cols = c('orange','darkgreen','red','blue','black'),\n",
    "                      title = 'Principal coordinates plot')"
   ]
  },
  {
   "cell_type": "code",
   "execution_count": 34,
   "metadata": {
    "colab": {
     "base_uri": "https://localhost:8080/",
     "height": 437
    },
    "id": "k0ROxKZJYjBD",
    "outputId": "4d26bc8a-a14f-46c8-ccf2-68b01a3a1e94"
   },
   "outputs": [
    {
     "data": {
      "image/png": "[encoded data removed]",
      "text/plain": [
       "plot without title"
      ]
     },
     "metadata": {
      "image/png": {
       "height": 420,
       "width": 420
      }
     },
     "output_type": "display_data"
    }
   ],
   "source": [
    "plotPCoA(fts_nonimp, md, distmetric = \"canberra\", catper = \"ATTRIBUTE_Time-Point\", catcols = \"ATTRIBUTE_Time-Point\", mdtype = 'continuous', \n",
    "                      title = 'Principal coordinates plot')"
   ]
  },
  {
   "cell_type": "markdown",
   "metadata": {
    "id": "hB8RTNdfYjBD"
   },
   "source": [
    "Using the Canberra distance metric, we also see a significant difference in the metabolomic profiles of different algae dilutions (PERMANOVA, P < 0.05, Adonis R2 = 0.8054 and 0.5009 respectively) with app. 80% and 50% of the variation in our data explained by algae concentration."
   ]
  },
  {
   "cell_type": "markdown",
   "metadata": {
    "id": "XCQnc9EBYjBE"
   },
   "source": [
    "- Lastly, let's also test a binary metric, the Jaccard metric. When we apply the Jaccard metric we need to work with the non-imputed, non-scaled feature table, where all missing values need to be converted to 0s. A positive value will be interpreted as 1 (present) and missing values as 0 (absent)."
   ]
  },
  {
   "cell_type": "code",
   "execution_count": 35,
   "metadata": {
    "id": "uPYTh9kAYjBE"
   },
   "outputs": [],
   "source": [
    "ft_nonimp_0 <- ft_nonimp"
   ]
  },
  {
   "cell_type": "code",
   "execution_count": 36,
   "metadata": {
    "id": "lb4GKUcfYjBE"
   },
   "outputs": [],
   "source": [
    "ft_nonimp_0[is.na(ft_nonimp_0)] <- 0"
   ]
  },
  {
   "cell_type": "code",
   "execution_count": 37,
   "metadata": {
    "colab": {
     "base_uri": "https://localhost:8080/",
     "height": 437
    },
    "id": "3RV0OrQqYjBE",
    "outputId": "d88f31a9-db03-4dd5-d485-2b3624316413"
   },
   "outputs": [
    {
     "data": {
      "image/png": "[encoded data removed]",
      "text/plain": [
       "plot without title"
      ]
     },
     "metadata": {
      "image/png": {
       "height": 420,
       "width": 420
      }
     },
     "output_type": "display_data"
    }
   ],
   "source": [
    "plotPCoA(ft_nonimp_0, md, distmetric = \"binary\", catper = \"ATTRIBUTE_Sample\", catcols = \"ATTRIBUTE_Sample\", mdtype = 'categorical', \n",
    "                      cols = c('orange','darkgreen','red','blue','black'),\n",
    "                      title = 'Principal coordinates plot')"
   ]
  },
  {
   "cell_type": "code",
   "execution_count": 38,
   "metadata": {
    "colab": {
     "base_uri": "https://localhost:8080/",
     "height": 437
    },
    "id": "bqNbHzbIYjBE",
    "outputId": "803d79b3-379d-47ca-a579-cf2b5861b095"
   },
   "outputs": [
    {
     "data": {
      "image/png": "[encoded data removed]",
      "text/plain": [
       "plot without title"
      ]
     },
     "metadata": {
      "image/png": {
       "height": 420,
       "width": 420
      }
     },
     "output_type": "display_data"
    }
   ],
   "source": [
    "plotPCoA(ft_nonimp_0, md, distmetric = \"binary\", catper = \"ATTRIBUTE_Time-Point\", catcols = \"ATTRIBUTE_Time-Point\", mdtype = 'continuous', \n",
    "                      title = 'Principal coordinates plot')"
   ]
  },
  {
   "cell_type": "markdown",
   "metadata": {
    "id": "3JMTbOcJYjBE"
   },
   "source": [
    "Using the Jaccard distance metric, we also see a significant difference in the metabolomic profiles algae dilutions (PERMANOVA, P < 0.05, Adonis R2 = 0.9242 and 0.4648 respectively) with app. 92% and 46% of the variation in our data explained by algae concentration."
   ]
  },
  {
   "cell_type": "markdown",
   "metadata": {},
   "source": [
    "Now let's export the figure we want to use for our manuscript in .pdf "
   ]
  },
  {
   "cell_type": "code",
   "execution_count": 39,
   "metadata": {},
   "outputs": [
    {
     "data": {
      "text/html": [
       "<strong>pdf:</strong> 2"
      ],
      "text/latex": [
       "\\textbf{pdf:} 2"
      ],
      "text/markdown": [
       "**pdf:** 2"
      ],
      "text/plain": [
       "pdf \n",
       "  2 "
      ]
     },
     "metadata": {},
     "output_type": "display_data"
    }
   ],
   "source": [
    "pdf(\"PCoA_dom.pdf\")\n",
    "plotPCoA(ft_nonimp_0, md, distmetric = \"binary\", catper = \"ATTRIBUTE_Time-Point\", catcols = \"ATTRIBUTE_Time-Point\", mdtype = 'continuous', \n",
    "                      title = 'Principal coordinates plot')\n",
    "dev.off()"
   ]
  },
  {
   "cell_type": "code",
   "execution_count": 40,
   "metadata": {
    "colab": {
     "base_uri": "https://localhost:8080/",
     "height": 652
    },
    "id": "6o1OlPbUZKed",
    "outputId": "c1e0423e-c37a-4e97-b8ae-5c0a2c70711a",
    "vscode": {
     "languageId": "r"
    }
   },
   "outputs": [
    {
     "data": {
      "text/plain": [
       "R version 4.1.1 (2021-08-10)\n",
       "Platform: x86_64-apple-darwin17.0 (64-bit)\n",
       "Running under: macOS Big Sur 10.16\n",
       "\n",
       "Matrix products: default\n",
       "BLAS:   /Library/Frameworks/R.framework/Versions/4.1/Resources/lib/libRblas.0.dylib\n",
       "LAPACK: /Library/Frameworks/R.framework/Versions/4.1/Resources/lib/libRlapack.dylib\n",
       "\n",
       "locale:\n",
       "[1] en_US.UTF-8/en_US.UTF-8/en_US.UTF-8/C/en_US.UTF-8/en_US.UTF-8\n",
       "\n",
       "attached base packages:\n",
       "[1] stats     graphics  grDevices utils     datasets  methods   base     \n",
       "\n",
       "other attached packages:\n",
       "[1] ggplot2_3.3.6   vegan_2.6-2     lattice_0.20-44 permute_0.9-5  \n",
       "\n",
       "loaded via a namespace (and not attached):\n",
       " [1] pillar_1.6.2     compiler_4.1.1   base64enc_0.1-3  tools_4.1.1     \n",
       " [5] digest_0.6.27    uuid_0.1-4       jsonlite_1.7.2   evaluate_0.14   \n",
       " [9] lifecycle_1.0.0  tibble_3.1.4     nlme_3.1-152     gtable_0.3.0    \n",
       "[13] mgcv_1.8-36      pkgconfig_2.0.3  rlang_0.4.11     Matrix_1.3-4    \n",
       "[17] DBI_1.1.1        IRdisplay_1.0    IRkernel_1.2     parallel_4.1.1  \n",
       "[21] fastmap_1.1.0    withr_2.4.2      dplyr_1.0.7      repr_1.1.3      \n",
       "[25] cluster_2.1.2    generics_0.1.0   vctrs_0.3.8      tidyselect_1.1.1\n",
       "[29] grid_4.1.1       glue_1.6.2       R6_2.5.1         fansi_0.5.0     \n",
       "[33] pbdZMQ_0.3-5     farver_2.1.0     purrr_0.3.4      magrittr_2.0.1  \n",
       "[37] scales_1.1.1     ellipsis_0.3.2   htmltools_0.5.2  MASS_7.3-54     \n",
       "[41] splines_4.1.1    assertthat_0.2.1 colorspace_2.0-2 labeling_0.4.2  \n",
       "[45] utf8_1.2.2       munsell_0.5.0    crayon_1.4.1     Cairo_1.5-12.2  "
      ]
     },
     "metadata": {},
     "output_type": "display_data"
    }
   ],
   "source": [
    "sessionInfo()"
   ]
  },
  {
   "cell_type": "code",
   "execution_count": null,
   "metadata": {
    "id": "RRU8LEHZYjBF"
   },
   "outputs": [],
   "source": []
  }
 ],
 "metadata": {
  "colab": {
   "collapsed_sections": [],
   "name": "PCoA_PERMANOVA_summer_school_22_22082022.ipynb",
   "provenance": []
  },
  "kernelspec": {
   "display_name": "R",
   "language": "R",
   "name": "ir"
  },
  "language_info": {
   "codemirror_mode": "r",
   "file_extension": ".r",
   "mimetype": "text/x-r-source",
   "name": "R",
   "pygments_lexer": "r",
   "version": "4.1.1"
  }
 },
 "nbformat": 4,
 "nbformat_minor": 1
}
