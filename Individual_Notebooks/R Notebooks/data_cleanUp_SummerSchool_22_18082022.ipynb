{
 "cells": [
  {
   "cell_type": "markdown",
   "id": "55766981",
   "metadata": {},
   "source": [
    "# Data Clean up\n",
    "Updated on: 2022-08-18 16:54:01 CEST\n",
    "\n",
    "Authors: Abzer Kelminal (abzer.shah@uni-tuebingen.de) <br>\n",
    "Input file format: .csv files or .txt files <br>\n",
    "Outputs: .csv files  <br>\n",
    "Dependencies: ggplot2, dplyr, IRdisplay\n",
    "\n",
    "This Notebook is used for cleaning the feature table, an output of metabolomics experiment, containing all the features with their corresponding intensities. The data cleanup steps involved are: 1) Blank removal 2) Imputation 3) Normalisation. Each step would be discussed in detail later."
   ]
  },
  {
   "cell_type": "markdown",
   "id": "df5aebdb",
   "metadata": {},
   "source": [
    "\n",
    "    \n",
    "This Notebook can be run with both Jupyter Notebook & Google Colab. To know more about how to get the Jupyter Notebook running with R code, please have a look at this document: [GitHub Link](https://github.com/Functional-Metabolomics-Lab/Jupyter-Notebook-Installation/blob/main/Anaconda%20with%20R%20kernel%20installation.pdf)\n",
    "    \n",
    "<div class=\"alert alert-block alert-warning\">   \n",
    "<b><font size=3> SPECIAL NOTE: Please read the comments before proceeding with the code and let us know if you run into any errors and if you think it could be commented better. We would highly appreciate your suggestions and comments!!</font> </b> </div>"
   ]
  },
  {
   "cell_type": "markdown",
   "id": "f7f59af0-e3d3-41cf-a6d0-e5656c501d8a",
   "metadata": {},
   "source": [
    "# About the Test data:\n",
    "<p style='text-align: justify;'>     \n",
    "The files used in this tutorial are part of an interlab comparison study, where different laboratories around the world analysed the same environmental samples on their respective LC-MS/MS equipments. To simulate algal bloom, standardized algae extracts (A) in marine dissovled organic matter (M) at different concentrations were prepared (450 (A45M), 150 (A15M), and 50 (A5M) ppm A). Samples were then shipped to different laboratories for untargeted LC-MS/MS metabolomics analysis. In this tutorial we are working with one of the datasets, which was acquired on a UHPLC system coupled to a Thermo Scientific Q Exactive HF Orbitrap LC-MS/MS mass spectrometer. MS/MS data were acquired in data-dependent acquisition (DDA) with fragmentation of the five most abundant ions in the spectrum per precursor scan. Data files were subsequently preprocessed using MZmine3 and the feature-based molecular networking workflow in GNPS.\n",
    "</p>\n"
   ]
  },
  {
   "cell_type": "markdown",
   "id": "a4705b9a",
   "metadata": {},
   "source": [
    "# Package installation:"
   ]
  },
  {
   "cell_type": "code",
   "execution_count": 44,
   "id": "f8048c07",
   "metadata": {},
   "outputs": [
    {
     "name": "stderr",
     "output_type": "stream",
     "text": [
      "Loading required package: KODAMA\n",
      "\n",
      "Warning message in library(package, lib.loc = lib.loc, character.only = TRUE, logical.return = TRUE, :\n",
      "“there is no package called ‘KODAMA’”\n",
      "Installing package into ‘/home/tmh331/R/x86_64-pc-linux-gnu-library/4.2’\n",
      "(as ‘lib’ is unspecified)\n",
      "\n",
      "also installing the dependencies ‘minerva’, ‘Rtsne’, ‘RcppArmadillo’\n",
      "\n",
      "\n",
      "Loading required package: minerva\n",
      "\n",
      "Loading required package: Rtsne\n",
      "\n"
     ]
    }
   ],
   "source": [
    "#installing and calling the necessary packages:\n",
    "if (!require(\"ggplot2\")) install.packages(\"ggplot2\")\n",
    "if (!require(\"dplyr\")) install.packages(\"dplyr\")\n",
    "if (!require(\"IRdisplay\")) install.packages(\"IRdisplay\")\n",
    "if (!require(\"KODAMA\")) install.packages(\"KODAMA\")\n",
    "\n",
    "library(ggplot2)\n",
    "library(dplyr)\n",
    "library(IRdisplay)\n",
    "library(KODAMA)"
   ]
  },
  {
   "cell_type": "markdown",
   "id": "a7690cd9-8fe6-46a0-9730-e8c770db3f51",
   "metadata": {},
   "source": [
    "**Global settings for plot size in the output cell:** </br>\n",
    "Uncomment the line in the cell below according to the environment you use, Jupyter Notebook or Google Colab."
   ]
  },
  {
   "cell_type": "code",
   "execution_count": 21,
   "id": "2cdbe42b-a042-4416-b754-096abd19273f",
   "metadata": {},
   "outputs": [],
   "source": [
    "#options(repr.plot.width=10, repr.plot.height=8,res=600) #For google collab\n",
    "options(repr.plot.width=5, repr.plot.height=3) #For Jupyter Notebook"
   ]
  },
  {
   "cell_type": "markdown",
   "id": "e9546ef5-73f8-4623-877d-9c4daf3c18b9",
   "metadata": {},
   "source": [
    "# Input files needed for the Notebook:\n",
    "1) <b>Feature table:</b> An output of metabolomics experiment, containing all the features or peaks (LC-MS/MS peaks here) with their corresponding intensities. The feature table used in the test data is obtained by MZmine. (Filetype: .csv file) </br> \n",
    "2) <b>Metadata:</b> Created by the user about the files used obtaining the feature table (It can be a csv/txt/tsv file). The columns in a metadata should be created with the following format: filename (1st column having all the filenames in the same order as the columns in feature table), all the other columns with column name such as: ATTRIBUTE_yourDesiredAttribute. </br>\n",
    "\n",
    "Please have a look at the metadata used here for reference. Creating a metadata in the above-mentioned format is necessary for uploading the files in GNPS and to obtain a molecular network."
   ]
  },
  {
   "cell_type": "markdown",
   "id": "4557e9d6",
   "metadata": {},
   "source": [
    "# Getting the input files:"
   ]
  },
  {
   "cell_type": "markdown",
   "id": "3a31eafc",
   "metadata": {},
   "source": [
    "## 1) Reading the input data using URL (from GitHub):\n",
    "Here, we can directly pull the data files from our Functional Metabolomics Github page:"
   ]
  },
  {
   "cell_type": "code",
   "execution_count": 8,
   "id": "7988ffd6",
   "metadata": {},
   "outputs": [],
   "source": [
    "ft_url <- 'https://raw.githubusercontent.com/Functional-Metabolomics-Lab/Metabolomics_SummerSchool_2022/main/data/dom/MZmine/DOM_interlab_15_gnps_iimn_quant.csv'\n",
    "md_url <- 'https://raw.githubusercontent.com/Functional-Metabolomics-Lab/Metabolomics_SummerSchool_2022/main/data/dom/MZmine/metadata_lab15.txt'"
   ]
  },
  {
   "cell_type": "code",
   "execution_count": 9,
   "id": "3ad9e910",
   "metadata": {},
   "outputs": [],
   "source": [
    "ft <- read.csv(ft_url, header = T, check.names = F)\n",
    "md <- read.csv(md_url, header = T, check.names = F, sep = '\\t',row.names = 1)"
   ]
  },
  {
   "cell_type": "markdown",
   "id": "863a44d4",
   "metadata": {},
   "source": [
    "## 2) Setting a local working directory:"
   ]
  },
  {
   "cell_type": "markdown",
   "id": "60c7b90e-7586-4c46-b965-16fcac28b48f",
   "metadata": {},
   "source": [
    "### 2.1 For direct Jupyter Notebook Users:\n",
    "<p style='text-align: justify;'> <font color='green'> <b> Please make sure to include all the input files in one folder before running the script.</b> You can then simply copy the path of the folder containing all your input files in your local computer and paste it into the output line of the next cell. It will be set as your working directory (or working folder)  </font></p> \n",
    "For ex: D:\\User\\Project\\Test_Data <br>"
   ]
  },
  {
   "cell_type": "code",
   "execution_count": 22,
   "id": "4734f4b6",
   "metadata": {},
   "outputs": [
    {
     "name": "stdin",
     "output_type": "stream",
     "text": [
      "Enter the path of the folder with input files:  D:\\Projects\\Metabolomics_SummerSchool_2022-main\\data\\dom\\MZmine\n"
     ]
    }
   ],
   "source": [
    "# setting the current directory as the working directory\n",
    "Directory <- normalizePath(readline(\"Enter the path of the folder with input files: \"),\"/\",mustWork=FALSE)\n",
    "setwd(Directory)"
   ]
  },
  {
   "cell_type": "code",
   "execution_count": 10,
   "id": "e0436b28",
   "metadata": {},
   "outputs": [
    {
     "data": {
      "text/html": [
       "'/mnt/c/Users/tmh331/Desktop/gits/Statistical-analysis-of-non-targeted-LC-MSMS-data/Data/Lab_1_data'"
      ],
      "text/latex": [
       "'/mnt/c/Users/tmh331/Desktop/gits/Statistical-analysis-of-non-targeted-LC-MSMS-data/Data/Lab\\_1\\_data'"
      ],
      "text/markdown": [
       "'/mnt/c/Users/tmh331/Desktop/gits/Statistical-analysis-of-non-targeted-LC-MSMS-data/Data/Lab_1_data'"
      ],
      "text/plain": [
       "[1] \"/mnt/c/Users/tmh331/Desktop/gits/Statistical-analysis-of-non-targeted-LC-MSMS-data/Data/Lab_1_data\""
      ]
     },
     "metadata": {},
     "output_type": "display_data"
    }
   ],
   "source": [
    "getwd() #to get the working directory "
   ]
  },
  {
   "cell_type": "markdown",
   "id": "6d1dbf1f-428c-45db-8aac-71b1f9895701",
   "metadata": {},
   "source": [
    "### 2.2 For Google Colab Users:\n",
    "<p style='text-align: justify;'> <font color='red'>For Google Colab, it is not possible to access the files from your local computer as it is hosted on Google's cloud server. An easier workaround is to upload the necessary files into the Google colab session using the 'Files' icon on the left as shown in the image. The code in the next cell creates a new folder 'My_TestData' in the Colab space and sets the folder as working directory. Following the steps in the image, you can check in your Colab to see if the folder has been created. Once you see it, simply upload the files from your local PC to the folder 'My_TestData' and then continue running the rest of the script.</font> </p>\n",
    "\n",
    "<p style='text-align: justify;'>SPECIAL NOTE: All the files uploaded to Google Colab would generally disappear after 12 hours. Similarly, all the outputs would be saved only in the Colab, so we need to download them into our local system at the end of our session.</p> \n",
    "\n",
    "[Go to section: Getting outputs from Colab](#colab_output) "
   ]
  },
  {
   "cell_type": "code",
   "execution_count": null,
   "id": "0ca144ac-b007-41b7-8549-68d349cfa515",
   "metadata": {},
   "outputs": [],
   "source": [
    "#Only for Google Colab:\n",
    "dir.create(\"/content/My_TestData\", showWarnings = TRUE, recursive = FALSE, mode = \"0777\")\n",
    "setwd(\"/content/My_TestData\")"
   ]
  },
  {
   "cell_type": "markdown",
   "id": "abc777ff",
   "metadata": {},
   "source": [
    "![Google-Colab Files Upload](https://github.com/abzer005/Images-for-Jupyter-Notebooks/blob/main/StepsAll.png?raw=true)"
   ]
  },
  {
   "cell_type": "markdown",
   "id": "ee3b3371-1b04-4fc1-b342-eaee7b622b9e",
   "metadata": {},
   "source": [
    "## 3) Creating an automatic result directory:"
   ]
  },
  {
   "cell_type": "code",
   "execution_count": 11,
   "id": "dd010938",
   "metadata": {},
   "outputs": [
    {
     "name": "stderr",
     "output_type": "stream",
     "text": [
      "Warning message in dir.create(path = paste(files_2[[1]], \"_DataCleanup_Results\", :\n",
      "“'/mnt/c/Users/tmh331/Desktop/gits/Statistical-analysis-of-non-targeted-LC-MSMS-data/Data/Lab_1_data_DataCleanup_Results' already exists”\n"
     ]
    },
    {
     "data": {
      "text/html": [
       "<table class=\"dataframe\">\n",
       "<caption>A data.frame: 2 × 2</caption>\n",
       "<thead>\n",
       "\t<tr><th scope=col>INDEX</th><th scope=col>Filename</th></tr>\n",
       "\t<tr><th scope=col>&lt;int&gt;</th><th scope=col>&lt;chr&gt;</th></tr>\n",
       "</thead>\n",
       "<tbody>\n",
       "\t<tr><td>1</td><td>Lab1_GNPS_file_quant.csv      </td></tr>\n",
       "\t<tr><td>2</td><td>metadata_dom_interlab_lab1.txt</td></tr>\n",
       "</tbody>\n",
       "</table>\n"
      ],
      "text/latex": [
       "A data.frame: 2 × 2\n",
       "\\begin{tabular}{ll}\n",
       " INDEX & Filename\\\\\n",
       " <int> & <chr>\\\\\n",
       "\\hline\n",
       "\t 1 & Lab1\\_GNPS\\_file\\_quant.csv      \\\\\n",
       "\t 2 & metadata\\_dom\\_interlab\\_lab1.txt\\\\\n",
       "\\end{tabular}\n"
      ],
      "text/markdown": [
       "\n",
       "A data.frame: 2 × 2\n",
       "\n",
       "| INDEX &lt;int&gt; | Filename &lt;chr&gt; |\n",
       "|---|---|\n",
       "| 1 | Lab1_GNPS_file_quant.csv       |\n",
       "| 2 | metadata_dom_interlab_lab1.txt |\n",
       "\n"
      ],
      "text/plain": [
       "  INDEX Filename                      \n",
       "1 1     Lab1_GNPS_file_quant.csv      \n",
       "2 2     metadata_dom_interlab_lab1.txt"
      ]
     },
     "metadata": {},
     "output_type": "display_data"
    }
   ],
   "source": [
    "# Getting all the files in the folder\n",
    "dirs <- dir(path=paste(getwd(), sep=\"\"), full.names=TRUE, recursive=TRUE)\n",
    "folders <- unique(dirname(dirs))\n",
    "files <- list.files(folders, full.names=TRUE)\n",
    "files_1 <- basename((files))\n",
    "files_2 <- dirname((files))\n",
    "# Creating a Result folder\n",
    "dir.create(path=paste(files_2[[1]], \"_DataCleanup_Results\", sep=\"\"), showWarnings = TRUE)\n",
    "fName <-paste(files_2[[1]], \"_DataCleanup_Results\", sep=\"\")\n",
    "\n",
    "IRdisplay::display(data.frame(INDEX=c(1:length(files_1)),Filename=files_1))"
   ]
  },
  {
   "cell_type": "markdown",
   "id": "55ab1133",
   "metadata": {},
   "source": [
    "In the following line, enter the required file index numbers separated by commas. For example as: 1,2,3. The accepted file formats are csv,txt and tsv."
   ]
  },
  {
   "cell_type": "code",
   "execution_count": 12,
   "id": "45d07e82",
   "metadata": {},
   "outputs": [
    {
     "name": "stdout",
     "output_type": "stream",
     "text": [
      "Specify the file index of gapfilled feature-file, metadata separated by commas:1,2\n"
     ]
    }
   ],
   "source": [
    "input <- as.double(unlist(strsplit(readline(\"Specify the file index of gapfilled feature-file, metadata separated by commas:\"), split=\",\")))\n",
    "\n",
    "#Gets the extension of each file. Ex:csv\n",
    "pattern <- c()\n",
    "for (i in files_1){\n",
    "  sep_file <- substr(i, nchar(i)-2,nchar(i))\n",
    "  pattern <- rbind(pattern,sep_file)\n",
    "}\n",
    "#pattern\n",
    "\n",
    "ft <- read.csv(files_1[input[1]],sep = ifelse(pattern[input[1]]!=\"csv\",\"\\t\",\",\"), header=TRUE,check.names = FALSE) # By applying 'row.names = 1', the 1st column 'ID' becomes the row names\n",
    "md <-read.csv(files_1[input[2]], sep = ifelse(pattern[input[2]]!=\"csv\",\"\\t\",\",\"), header=TRUE,check.names = FALSE,row.names=1)"
   ]
  },
  {
   "cell_type": "markdown",
   "id": "4f12e24c",
   "metadata": {},
   "source": [
    "Lets check if the data has been read correclty!!"
   ]
  },
  {
   "cell_type": "code",
   "execution_count": 13,
   "id": "429ff705",
   "metadata": {},
   "outputs": [
    {
     "data": {
      "text/html": [
       "<table class=\"dataframe\">\n",
       "<caption>A data.frame: 6 × 27</caption>\n",
       "<thead>\n",
       "\t<tr><th></th><th scope=col>row ID</th><th scope=col>row m/z</th><th scope=col>row retention time</th><th scope=col>row ion mobility</th><th scope=col>row ion mobility unit</th><th scope=col>row CCS</th><th scope=col>correlation group ID</th><th scope=col>annotation network number</th><th scope=col>best ion</th><th scope=col>auto MS2 verify</th><th scope=col>⋯</th><th scope=col>DOM_Interlab-LCMS_Lab1_A45M_Pos_MS2_rep2.mzML Peak area</th><th scope=col>DOM_Interlab-LCMS_Lab1_M_Pos_MS2_rep1.mzML Peak area</th><th scope=col>DOM_Interlab-LCMS_Lab1_M_Pos_MS2_rep2.mzML Peak area</th><th scope=col>DOM_Interlab-LCMS_Lab1_A15M_Pos_MS2_rep1.mzML Peak area</th><th scope=col>DOM_Interlab-LCMS_Lab1_A15M_Pos_MS2_rep2.mzML Peak area</th><th scope=col>DOM_Interlab-LCMS_Lab1_A45M_Pos_MS2_rep3.mzML Peak area</th><th scope=col>DOM_Interlab-LCMS_Lab1_A5M_Pos_MS2_rep3.mzML Peak area</th><th scope=col>DOM_Interlab-LCMS_Lab1_M_Pos_MS2_rep3.mzML Peak area</th><th scope=col>DOM_Interlab-LCMS_Lab1_A15M_Pos_MS2_rep3.mzML Peak area</th><th scope=col></th></tr>\n",
       "\t<tr><th></th><th scope=col>&lt;int&gt;</th><th scope=col>&lt;dbl&gt;</th><th scope=col>&lt;dbl&gt;</th><th scope=col>&lt;lgl&gt;</th><th scope=col>&lt;lgl&gt;</th><th scope=col>&lt;lgl&gt;</th><th scope=col>&lt;lgl&gt;</th><th scope=col>&lt;lgl&gt;</th><th scope=col>&lt;lgl&gt;</th><th scope=col>&lt;lgl&gt;</th><th scope=col>⋯</th><th scope=col>&lt;dbl&gt;</th><th scope=col>&lt;dbl&gt;</th><th scope=col>&lt;dbl&gt;</th><th scope=col>&lt;dbl&gt;</th><th scope=col>&lt;dbl&gt;</th><th scope=col>&lt;dbl&gt;</th><th scope=col>&lt;dbl&gt;</th><th scope=col>&lt;dbl&gt;</th><th scope=col>&lt;dbl&gt;</th><th scope=col>&lt;lgl&gt;</th></tr>\n",
       "</thead>\n",
       "<tbody>\n",
       "\t<tr><th scope=row>1</th><td> 834</td><td>150.1277</td><td>1.0516550</td><td>NA</td><td>NA</td><td>NA</td><td>NA</td><td>NA</td><td>NA</td><td>NA</td><td>⋯</td><td>     0.00</td><td>     0.00</td><td>     0.00</td><td>     0.00</td><td>     0.00</td><td>     0.00</td><td>     0.00</td><td>     0.00</td><td>     0.00</td><td>NA</td></tr>\n",
       "\t<tr><th scope=row>2</th><td>1458</td><td>150.1278</td><td>3.1935270</td><td>NA</td><td>NA</td><td>NA</td><td>NA</td><td>NA</td><td>NA</td><td>NA</td><td>⋯</td><td> 73032.68</td><td> 89184.16</td><td>     0.00</td><td>175378.06</td><td> 63048.62</td><td> 86292.55</td><td> 69219.23</td><td>174635.88</td><td> 35095.74</td><td>NA</td></tr>\n",
       "\t<tr><th scope=row>3</th><td>1418</td><td>150.1278</td><td>3.1726594</td><td>NA</td><td>NA</td><td>NA</td><td>NA</td><td>NA</td><td>NA</td><td>NA</td><td>⋯</td><td>179107.34</td><td>182752.95</td><td>202764.25</td><td> 91746.70</td><td>168632.83</td><td>182786.73</td><td>170407.94</td><td>100635.78</td><td>190752.25</td><td>NA</td></tr>\n",
       "\t<tr><th scope=row>4</th><td>  30</td><td>151.0352</td><td>0.6531554</td><td>NA</td><td>NA</td><td>NA</td><td>NA</td><td>NA</td><td>NA</td><td>NA</td><td>⋯</td><td>245133.69</td><td>249818.03</td><td>227996.84</td><td>223716.30</td><td>221928.16</td><td>250871.08</td><td>245521.73</td><td>261982.14</td><td>244421.44</td><td>NA</td></tr>\n",
       "\t<tr><th scope=row>5</th><td> 991</td><td>151.0353</td><td>1.3121305</td><td>NA</td><td>NA</td><td>NA</td><td>NA</td><td>NA</td><td>NA</td><td>NA</td><td>⋯</td><td>     0.00</td><td>     0.00</td><td>     0.00</td><td>     0.00</td><td>     0.00</td><td>     0.00</td><td>     0.00</td><td>     0.00</td><td>     0.00</td><td>NA</td></tr>\n",
       "\t<tr><th scope=row>6</th><td>7137</td><td>151.0754</td><td>6.0022780</td><td>NA</td><td>NA</td><td>NA</td><td>NA</td><td>NA</td><td>NA</td><td>NA</td><td>⋯</td><td> 44900.08</td><td> 73358.59</td><td> 55780.67</td><td> 89922.16</td><td> 90066.02</td><td> 37633.26</td><td> 61488.17</td><td> 74299.41</td><td> 93198.79</td><td>NA</td></tr>\n",
       "</tbody>\n",
       "</table>\n"
      ],
      "text/latex": [
       "A data.frame: 6 × 27\n",
       "\\begin{tabular}{r|lllllllllllllllllllll}\n",
       "  & row ID & row m/z & row retention time & row ion mobility & row ion mobility unit & row CCS & correlation group ID & annotation network number & best ion & auto MS2 verify & ⋯ & DOM\\_Interlab-LCMS\\_Lab1\\_A45M\\_Pos\\_MS2\\_rep2.mzML Peak area & DOM\\_Interlab-LCMS\\_Lab1\\_M\\_Pos\\_MS2\\_rep1.mzML Peak area & DOM\\_Interlab-LCMS\\_Lab1\\_M\\_Pos\\_MS2\\_rep2.mzML Peak area & DOM\\_Interlab-LCMS\\_Lab1\\_A15M\\_Pos\\_MS2\\_rep1.mzML Peak area & DOM\\_Interlab-LCMS\\_Lab1\\_A15M\\_Pos\\_MS2\\_rep2.mzML Peak area & DOM\\_Interlab-LCMS\\_Lab1\\_A45M\\_Pos\\_MS2\\_rep3.mzML Peak area & DOM\\_Interlab-LCMS\\_Lab1\\_A5M\\_Pos\\_MS2\\_rep3.mzML Peak area & DOM\\_Interlab-LCMS\\_Lab1\\_M\\_Pos\\_MS2\\_rep3.mzML Peak area & DOM\\_Interlab-LCMS\\_Lab1\\_A15M\\_Pos\\_MS2\\_rep3.mzML Peak area & \\\\\n",
       "  & <int> & <dbl> & <dbl> & <lgl> & <lgl> & <lgl> & <lgl> & <lgl> & <lgl> & <lgl> & ⋯ & <dbl> & <dbl> & <dbl> & <dbl> & <dbl> & <dbl> & <dbl> & <dbl> & <dbl> & <lgl>\\\\\n",
       "\\hline\n",
       "\t1 &  834 & 150.1277 & 1.0516550 & NA & NA & NA & NA & NA & NA & NA & ⋯ &      0.00 &      0.00 &      0.00 &      0.00 &      0.00 &      0.00 &      0.00 &      0.00 &      0.00 & NA\\\\\n",
       "\t2 & 1458 & 150.1278 & 3.1935270 & NA & NA & NA & NA & NA & NA & NA & ⋯ &  73032.68 &  89184.16 &      0.00 & 175378.06 &  63048.62 &  86292.55 &  69219.23 & 174635.88 &  35095.74 & NA\\\\\n",
       "\t3 & 1418 & 150.1278 & 3.1726594 & NA & NA & NA & NA & NA & NA & NA & ⋯ & 179107.34 & 182752.95 & 202764.25 &  91746.70 & 168632.83 & 182786.73 & 170407.94 & 100635.78 & 190752.25 & NA\\\\\n",
       "\t4 &   30 & 151.0352 & 0.6531554 & NA & NA & NA & NA & NA & NA & NA & ⋯ & 245133.69 & 249818.03 & 227996.84 & 223716.30 & 221928.16 & 250871.08 & 245521.73 & 261982.14 & 244421.44 & NA\\\\\n",
       "\t5 &  991 & 151.0353 & 1.3121305 & NA & NA & NA & NA & NA & NA & NA & ⋯ &      0.00 &      0.00 &      0.00 &      0.00 &      0.00 &      0.00 &      0.00 &      0.00 &      0.00 & NA\\\\\n",
       "\t6 & 7137 & 151.0754 & 6.0022780 & NA & NA & NA & NA & NA & NA & NA & ⋯ &  44900.08 &  73358.59 &  55780.67 &  89922.16 &  90066.02 &  37633.26 &  61488.17 &  74299.41 &  93198.79 & NA\\\\\n",
       "\\end{tabular}\n"
      ],
      "text/markdown": [
       "\n",
       "A data.frame: 6 × 27\n",
       "\n",
       "| <!--/--> | row ID &lt;int&gt; | row m/z &lt;dbl&gt; | row retention time &lt;dbl&gt; | row ion mobility &lt;lgl&gt; | row ion mobility unit &lt;lgl&gt; | row CCS &lt;lgl&gt; | correlation group ID &lt;lgl&gt; | annotation network number &lt;lgl&gt; | best ion &lt;lgl&gt; | auto MS2 verify &lt;lgl&gt; | ⋯ ⋯ | DOM_Interlab-LCMS_Lab1_A45M_Pos_MS2_rep2.mzML Peak area &lt;dbl&gt; | DOM_Interlab-LCMS_Lab1_M_Pos_MS2_rep1.mzML Peak area &lt;dbl&gt; | DOM_Interlab-LCMS_Lab1_M_Pos_MS2_rep2.mzML Peak area &lt;dbl&gt; | DOM_Interlab-LCMS_Lab1_A15M_Pos_MS2_rep1.mzML Peak area &lt;dbl&gt; | DOM_Interlab-LCMS_Lab1_A15M_Pos_MS2_rep2.mzML Peak area &lt;dbl&gt; | DOM_Interlab-LCMS_Lab1_A45M_Pos_MS2_rep3.mzML Peak area &lt;dbl&gt; | DOM_Interlab-LCMS_Lab1_A5M_Pos_MS2_rep3.mzML Peak area &lt;dbl&gt; | DOM_Interlab-LCMS_Lab1_M_Pos_MS2_rep3.mzML Peak area &lt;dbl&gt; | DOM_Interlab-LCMS_Lab1_A15M_Pos_MS2_rep3.mzML Peak area &lt;dbl&gt; | <!----> &lt;lgl&gt; |\n",
       "|---|---|---|---|---|---|---|---|---|---|---|---|---|---|---|---|---|---|---|---|---|---|\n",
       "| 1 |  834 | 150.1277 | 1.0516550 | NA | NA | NA | NA | NA | NA | NA | ⋯ |      0.00 |      0.00 |      0.00 |      0.00 |      0.00 |      0.00 |      0.00 |      0.00 |      0.00 | NA |\n",
       "| 2 | 1458 | 150.1278 | 3.1935270 | NA | NA | NA | NA | NA | NA | NA | ⋯ |  73032.68 |  89184.16 |      0.00 | 175378.06 |  63048.62 |  86292.55 |  69219.23 | 174635.88 |  35095.74 | NA |\n",
       "| 3 | 1418 | 150.1278 | 3.1726594 | NA | NA | NA | NA | NA | NA | NA | ⋯ | 179107.34 | 182752.95 | 202764.25 |  91746.70 | 168632.83 | 182786.73 | 170407.94 | 100635.78 | 190752.25 | NA |\n",
       "| 4 |   30 | 151.0352 | 0.6531554 | NA | NA | NA | NA | NA | NA | NA | ⋯ | 245133.69 | 249818.03 | 227996.84 | 223716.30 | 221928.16 | 250871.08 | 245521.73 | 261982.14 | 244421.44 | NA |\n",
       "| 5 |  991 | 151.0353 | 1.3121305 | NA | NA | NA | NA | NA | NA | NA | ⋯ |      0.00 |      0.00 |      0.00 |      0.00 |      0.00 |      0.00 |      0.00 |      0.00 |      0.00 | NA |\n",
       "| 6 | 7137 | 151.0754 | 6.0022780 | NA | NA | NA | NA | NA | NA | NA | ⋯ |  44900.08 |  73358.59 |  55780.67 |  89922.16 |  90066.02 |  37633.26 |  61488.17 |  74299.41 |  93198.79 | NA |\n",
       "\n"
      ],
      "text/plain": [
       "  row ID row m/z  row retention time row ion mobility row ion mobility unit\n",
       "1  834   150.1277 1.0516550          NA               NA                   \n",
       "2 1458   150.1278 3.1935270          NA               NA                   \n",
       "3 1418   150.1278 3.1726594          NA               NA                   \n",
       "4   30   151.0352 0.6531554          NA               NA                   \n",
       "5  991   151.0353 1.3121305          NA               NA                   \n",
       "6 7137   151.0754 6.0022780          NA               NA                   \n",
       "  row CCS correlation group ID annotation network number best ion\n",
       "1 NA      NA                   NA                        NA      \n",
       "2 NA      NA                   NA                        NA      \n",
       "3 NA      NA                   NA                        NA      \n",
       "4 NA      NA                   NA                        NA      \n",
       "5 NA      NA                   NA                        NA      \n",
       "6 NA      NA                   NA                        NA      \n",
       "  auto MS2 verify ⋯ DOM_Interlab-LCMS_Lab1_A45M_Pos_MS2_rep2.mzML Peak area\n",
       "1 NA              ⋯      0.00                                              \n",
       "2 NA              ⋯  73032.68                                              \n",
       "3 NA              ⋯ 179107.34                                              \n",
       "4 NA              ⋯ 245133.69                                              \n",
       "5 NA              ⋯      0.00                                              \n",
       "6 NA              ⋯  44900.08                                              \n",
       "  DOM_Interlab-LCMS_Lab1_M_Pos_MS2_rep1.mzML Peak area\n",
       "1      0.00                                           \n",
       "2  89184.16                                           \n",
       "3 182752.95                                           \n",
       "4 249818.03                                           \n",
       "5      0.00                                           \n",
       "6  73358.59                                           \n",
       "  DOM_Interlab-LCMS_Lab1_M_Pos_MS2_rep2.mzML Peak area\n",
       "1      0.00                                           \n",
       "2      0.00                                           \n",
       "3 202764.25                                           \n",
       "4 227996.84                                           \n",
       "5      0.00                                           \n",
       "6  55780.67                                           \n",
       "  DOM_Interlab-LCMS_Lab1_A15M_Pos_MS2_rep1.mzML Peak area\n",
       "1      0.00                                              \n",
       "2 175378.06                                              \n",
       "3  91746.70                                              \n",
       "4 223716.30                                              \n",
       "5      0.00                                              \n",
       "6  89922.16                                              \n",
       "  DOM_Interlab-LCMS_Lab1_A15M_Pos_MS2_rep2.mzML Peak area\n",
       "1      0.00                                              \n",
       "2  63048.62                                              \n",
       "3 168632.83                                              \n",
       "4 221928.16                                              \n",
       "5      0.00                                              \n",
       "6  90066.02                                              \n",
       "  DOM_Interlab-LCMS_Lab1_A45M_Pos_MS2_rep3.mzML Peak area\n",
       "1      0.00                                              \n",
       "2  86292.55                                              \n",
       "3 182786.73                                              \n",
       "4 250871.08                                              \n",
       "5      0.00                                              \n",
       "6  37633.26                                              \n",
       "  DOM_Interlab-LCMS_Lab1_A5M_Pos_MS2_rep3.mzML Peak area\n",
       "1      0.00                                             \n",
       "2  69219.23                                             \n",
       "3 170407.94                                             \n",
       "4 245521.73                                             \n",
       "5      0.00                                             \n",
       "6  61488.17                                             \n",
       "  DOM_Interlab-LCMS_Lab1_M_Pos_MS2_rep3.mzML Peak area\n",
       "1      0.00                                           \n",
       "2 174635.88                                           \n",
       "3 100635.78                                           \n",
       "4 261982.14                                           \n",
       "5      0.00                                           \n",
       "6  74299.41                                           \n",
       "  DOM_Interlab-LCMS_Lab1_A15M_Pos_MS2_rep3.mzML Peak area   \n",
       "1      0.00                                               NA\n",
       "2  35095.74                                               NA\n",
       "3 190752.25                                               NA\n",
       "4 244421.44                                               NA\n",
       "5      0.00                                               NA\n",
       "6  93198.79                                               NA"
      ]
     },
     "metadata": {},
     "output_type": "display_data"
    },
    {
     "data": {
      "text/html": [
       "<style>\n",
       ".list-inline {list-style: none; margin:0; padding: 0}\n",
       ".list-inline>li {display: inline-block}\n",
       ".list-inline>li:not(:last-child)::after {content: \"\\00b7\"; padding: 0 .5ex}\n",
       "</style>\n",
       "<ol class=list-inline><li>3726</li><li>27</li></ol>\n"
      ],
      "text/latex": [
       "\\begin{enumerate*}\n",
       "\\item 3726\n",
       "\\item 27\n",
       "\\end{enumerate*}\n"
      ],
      "text/markdown": [
       "1. 3726\n",
       "2. 27\n",
       "\n",
       "\n"
      ],
      "text/plain": [
       "[1] 3726   27"
      ]
     },
     "metadata": {},
     "output_type": "display_data"
    }
   ],
   "source": [
    "head(ft)\n",
    "dim(ft)"
   ]
  },
  {
   "cell_type": "code",
   "execution_count": 14,
   "id": "a7bf0865",
   "metadata": {},
   "outputs": [
    {
     "data": {
      "text/html": [
       "<table class=\"dataframe\">\n",
       "<caption>A data.frame: 6 × 3</caption>\n",
       "<thead>\n",
       "\t<tr><th></th><th scope=col>ATTRIBUTE_Sample</th><th scope=col>ATTRIBUTE_Sample_Type</th><th scope=col>ATTRIBUTE_Time-Point</th></tr>\n",
       "\t<tr><th></th><th scope=col>&lt;chr&gt;</th><th scope=col>&lt;chr&gt;</th><th scope=col>&lt;int&gt;</th></tr>\n",
       "</thead>\n",
       "<tbody>\n",
       "\t<tr><th scope=row>DOM_Interlab-LCMS_Lab1_A5M_Pos_MS2_rep1.mzML</th><td>A5M </td><td>Sample</td><td> 5</td></tr>\n",
       "\t<tr><th scope=row>DOM_Interlab-LCMS_Lab1_A5M_Pos_MS2_rep2.mzML</th><td>A5M </td><td>Sample</td><td> 5</td></tr>\n",
       "\t<tr><th scope=row>DOM_Interlab-LCMS_Lab1_A5M_Pos_MS2_rep3.mzML</th><td>A5M </td><td>Sample</td><td> 5</td></tr>\n",
       "\t<tr><th scope=row>DOM_Interlab-LCMS_Lab1_A15M_Pos_MS2_rep1.mzML</th><td>A15M</td><td>Sample</td><td>15</td></tr>\n",
       "\t<tr><th scope=row>DOM_Interlab-LCMS_Lab1_A15M_Pos_MS2_rep2.mzML</th><td>A15M</td><td>Sample</td><td>15</td></tr>\n",
       "\t<tr><th scope=row>DOM_Interlab-LCMS_Lab1_A15M_Pos_MS2_rep3.mzML</th><td>A15M</td><td>Sample</td><td>15</td></tr>\n",
       "</tbody>\n",
       "</table>\n"
      ],
      "text/latex": [
       "A data.frame: 6 × 3\n",
       "\\begin{tabular}{r|lll}\n",
       "  & ATTRIBUTE\\_Sample & ATTRIBUTE\\_Sample\\_Type & ATTRIBUTE\\_Time-Point\\\\\n",
       "  & <chr> & <chr> & <int>\\\\\n",
       "\\hline\n",
       "\tDOM\\_Interlab-LCMS\\_Lab1\\_A5M\\_Pos\\_MS2\\_rep1.mzML & A5M  & Sample &  5\\\\\n",
       "\tDOM\\_Interlab-LCMS\\_Lab1\\_A5M\\_Pos\\_MS2\\_rep2.mzML & A5M  & Sample &  5\\\\\n",
       "\tDOM\\_Interlab-LCMS\\_Lab1\\_A5M\\_Pos\\_MS2\\_rep3.mzML & A5M  & Sample &  5\\\\\n",
       "\tDOM\\_Interlab-LCMS\\_Lab1\\_A15M\\_Pos\\_MS2\\_rep1.mzML & A15M & Sample & 15\\\\\n",
       "\tDOM\\_Interlab-LCMS\\_Lab1\\_A15M\\_Pos\\_MS2\\_rep2.mzML & A15M & Sample & 15\\\\\n",
       "\tDOM\\_Interlab-LCMS\\_Lab1\\_A15M\\_Pos\\_MS2\\_rep3.mzML & A15M & Sample & 15\\\\\n",
       "\\end{tabular}\n"
      ],
      "text/markdown": [
       "\n",
       "A data.frame: 6 × 3\n",
       "\n",
       "| <!--/--> | ATTRIBUTE_Sample &lt;chr&gt; | ATTRIBUTE_Sample_Type &lt;chr&gt; | ATTRIBUTE_Time-Point &lt;int&gt; |\n",
       "|---|---|---|---|\n",
       "| DOM_Interlab-LCMS_Lab1_A5M_Pos_MS2_rep1.mzML | A5M  | Sample |  5 |\n",
       "| DOM_Interlab-LCMS_Lab1_A5M_Pos_MS2_rep2.mzML | A5M  | Sample |  5 |\n",
       "| DOM_Interlab-LCMS_Lab1_A5M_Pos_MS2_rep3.mzML | A5M  | Sample |  5 |\n",
       "| DOM_Interlab-LCMS_Lab1_A15M_Pos_MS2_rep1.mzML | A15M | Sample | 15 |\n",
       "| DOM_Interlab-LCMS_Lab1_A15M_Pos_MS2_rep2.mzML | A15M | Sample | 15 |\n",
       "| DOM_Interlab-LCMS_Lab1_A15M_Pos_MS2_rep3.mzML | A15M | Sample | 15 |\n",
       "\n"
      ],
      "text/plain": [
       "                                              ATTRIBUTE_Sample\n",
       "DOM_Interlab-LCMS_Lab1_A5M_Pos_MS2_rep1.mzML  A5M             \n",
       "DOM_Interlab-LCMS_Lab1_A5M_Pos_MS2_rep2.mzML  A5M             \n",
       "DOM_Interlab-LCMS_Lab1_A5M_Pos_MS2_rep3.mzML  A5M             \n",
       "DOM_Interlab-LCMS_Lab1_A15M_Pos_MS2_rep1.mzML A15M            \n",
       "DOM_Interlab-LCMS_Lab1_A15M_Pos_MS2_rep2.mzML A15M            \n",
       "DOM_Interlab-LCMS_Lab1_A15M_Pos_MS2_rep3.mzML A15M            \n",
       "                                              ATTRIBUTE_Sample_Type\n",
       "DOM_Interlab-LCMS_Lab1_A5M_Pos_MS2_rep1.mzML  Sample               \n",
       "DOM_Interlab-LCMS_Lab1_A5M_Pos_MS2_rep2.mzML  Sample               \n",
       "DOM_Interlab-LCMS_Lab1_A5M_Pos_MS2_rep3.mzML  Sample               \n",
       "DOM_Interlab-LCMS_Lab1_A15M_Pos_MS2_rep1.mzML Sample               \n",
       "DOM_Interlab-LCMS_Lab1_A15M_Pos_MS2_rep2.mzML Sample               \n",
       "DOM_Interlab-LCMS_Lab1_A15M_Pos_MS2_rep3.mzML Sample               \n",
       "                                              ATTRIBUTE_Time-Point\n",
       "DOM_Interlab-LCMS_Lab1_A5M_Pos_MS2_rep1.mzML   5                  \n",
       "DOM_Interlab-LCMS_Lab1_A5M_Pos_MS2_rep2.mzML   5                  \n",
       "DOM_Interlab-LCMS_Lab1_A5M_Pos_MS2_rep3.mzML   5                  \n",
       "DOM_Interlab-LCMS_Lab1_A15M_Pos_MS2_rep1.mzML 15                  \n",
       "DOM_Interlab-LCMS_Lab1_A15M_Pos_MS2_rep2.mzML 15                  \n",
       "DOM_Interlab-LCMS_Lab1_A15M_Pos_MS2_rep3.mzML 15                  "
      ]
     },
     "metadata": {},
     "output_type": "display_data"
    },
    {
     "data": {
      "text/html": [
       "<style>\n",
       ".list-inline {list-style: none; margin:0; padding: 0}\n",
       ".list-inline>li {display: inline-block}\n",
       ".list-inline>li:not(:last-child)::after {content: \"\\00b7\"; padding: 0 .5ex}\n",
       "</style>\n",
       "<ol class=list-inline><li>13</li><li>3</li></ol>\n"
      ],
      "text/latex": [
       "\\begin{enumerate*}\n",
       "\\item 13\n",
       "\\item 3\n",
       "\\end{enumerate*}\n"
      ],
      "text/markdown": [
       "1. 13\n",
       "2. 3\n",
       "\n",
       "\n"
      ],
      "text/plain": [
       "[1] 13  3"
      ]
     },
     "metadata": {},
     "output_type": "display_data"
    }
   ],
   "source": [
    "head(md)\n",
    "dim(md)"
   ]
  },
  {
   "cell_type": "markdown",
   "id": "7da5af06-1073-414a-b306-c9f5f6bae852",
   "metadata": {},
   "source": [
    "## Creating Functions:\n",
    "<p style='text-align: justify;'> Before getting into the Data cleanup steps, we have created a function that can be used later for data summarization. By creating functions, we don't have to write these big codes multiple times. Instead, we just use the function name. <font color=\"red\">The following cells in this section will not produce any outputs here. </font> The outputs will be produced when we give input variables to these functions in the later sections. </p>\n",
    "\n",
    "<p style='text-align: justify;'> Using this function, we get an idea of the multiple levels in each of the metioned attributes in the metadata as well as the datatype of each attribute.  <font color =\"blue\"> This function takes metadata table as its input. </font></p>"
   ]
  },
  {
   "cell_type": "code",
   "execution_count": 15,
   "id": "0c12929c-154a-45ef-82d7-64deca1613ba",
   "metadata": {},
   "outputs": [],
   "source": [
    "#Function: InsideLevels\n",
    " InsideLevels <- function(metatable){\n",
    "    lev <- c()\n",
    "    typ<-c()\n",
    "    for(i in 1:ncol(metatable)){\n",
    "      x <- levels(droplevels(as.factor(metatable[,i])))\n",
    "      if(is.double(metatable[,i])==T){x=round(as.double(x),2)}\n",
    "      x <-toString(x)\n",
    "      lev <- rbind(lev,x)\n",
    "      \n",
    "      y <- class(metatable[,i])\n",
    "      typ <- rbind(typ,y)\n",
    "    }\n",
    "    out <- data.frame(INDEX=c(1:ncol(metatable)),ATTRIBUTES=colnames(metatable),LEVELS=lev,TYPE=typ,row.names=NULL)\n",
    "    return(out)\n",
    "  }"
   ]
  },
  {
   "cell_type": "markdown",
   "id": "0ebcf409-e945-480d-9501-a70da21454c9",
   "metadata": {},
   "source": [
    "#### Arranging metadata and feature table in the same order:"
   ]
  },
  {
   "cell_type": "markdown",
   "id": "8dc4502e-3f83-4c02-b5d1-cd661ee1fec1",
   "metadata": {},
   "source": [
    "First, let's have a look at the different conditions within each attribute of our metadata."
   ]
  },
  {
   "cell_type": "code",
   "execution_count": 16,
   "id": "535d67d6-3e74-4eec-885c-06c434381110",
   "metadata": {},
   "outputs": [
    {
     "data": {
      "text/html": [
       "<table class=\"dataframe\">\n",
       "<caption>A data.frame: 3 × 4</caption>\n",
       "<thead>\n",
       "\t<tr><th scope=col>INDEX</th><th scope=col>ATTRIBUTES</th><th scope=col>LEVELS</th><th scope=col>TYPE</th></tr>\n",
       "\t<tr><th scope=col>&lt;int&gt;</th><th scope=col>&lt;chr&gt;</th><th scope=col>&lt;chr&gt;</th><th scope=col>&lt;chr&gt;</th></tr>\n",
       "</thead>\n",
       "<tbody>\n",
       "\t<tr><td>1</td><td>ATTRIBUTE_Sample     </td><td>A15M, A45M, A5M, M, PPL</td><td>character</td></tr>\n",
       "\t<tr><td>2</td><td>ATTRIBUTE_Sample_Type</td><td>Process_Blank, Sample  </td><td>character</td></tr>\n",
       "\t<tr><td>3</td><td>ATTRIBUTE_Time-Point </td><td>0, 5, 15, 45           </td><td>integer  </td></tr>\n",
       "</tbody>\n",
       "</table>\n"
      ],
      "text/latex": [
       "A data.frame: 3 × 4\n",
       "\\begin{tabular}{llll}\n",
       " INDEX & ATTRIBUTES & LEVELS & TYPE\\\\\n",
       " <int> & <chr> & <chr> & <chr>\\\\\n",
       "\\hline\n",
       "\t 1 & ATTRIBUTE\\_Sample      & A15M, A45M, A5M, M, PPL & character\\\\\n",
       "\t 2 & ATTRIBUTE\\_Sample\\_Type & Process\\_Blank, Sample   & character\\\\\n",
       "\t 3 & ATTRIBUTE\\_Time-Point  & 0, 5, 15, 45            & integer  \\\\\n",
       "\\end{tabular}\n"
      ],
      "text/markdown": [
       "\n",
       "A data.frame: 3 × 4\n",
       "\n",
       "| INDEX &lt;int&gt; | ATTRIBUTES &lt;chr&gt; | LEVELS &lt;chr&gt; | TYPE &lt;chr&gt; |\n",
       "|---|---|---|---|\n",
       "| 1 | ATTRIBUTE_Sample      | A15M, A45M, A5M, M, PPL | character |\n",
       "| 2 | ATTRIBUTE_Sample_Type | Process_Blank, Sample   | character |\n",
       "| 3 | ATTRIBUTE_Time-Point  | 0, 5, 15, 45            | integer   |\n",
       "\n"
      ],
      "text/plain": [
       "  INDEX ATTRIBUTES            LEVELS                  TYPE     \n",
       "1 1     ATTRIBUTE_Sample      A15M, A45M, A5M, M, PPL character\n",
       "2 2     ATTRIBUTE_Sample_Type Process_Blank, Sample   character\n",
       "3 3     ATTRIBUTE_Time-Point  0, 5, 15, 45            integer  "
      ]
     },
     "metadata": {},
     "output_type": "display_data"
    }
   ],
   "source": [
    "InsideLevels(md)"
   ]
  },
  {
   "cell_type": "markdown",
   "id": "f19073e0",
   "metadata": {},
   "source": [
    "<p style='text-align: justify;'> In the next cell, we are trying to bring the feature table and metadata in the correct format such as <font color =\"green\"> the rownames of metadata and column names of feature table are the same. </font> They both are the file names and they need to be the same, as from now on, we will call the columns in our feature table based on our metadata information. Thus, using the metadata, the user can filter their data easily. You can also directly deal with your feature table without metadata by getting your hands dirty with some coding!! But having a metadata improves the user-experience greatly. </p>"
   ]
  },
  {
   "cell_type": "code",
   "execution_count": 17,
   "id": "25ffd93c",
   "metadata": {},
   "outputs": [],
   "source": [
    "new_ft <- ft\n",
    "new_md <- md\n",
    "\n",
    "#Removing Peak area extensions\n",
    "colnames(new_ft) <- gsub(' Peak area','',colnames(new_ft))\n",
    "rownames(new_md) <- gsub(' Peak area','',rownames(new_md))\n",
    "\n",
    "new_md <- new_md[,colSums(is.na(new_md))<nrow(new_md)] #Removing if any NA columns present in the md file\n",
    "rownames(new_md) <- trimws(rownames(new_md), which = c(\"both\")) #remove the (front & tail) spaces, if any present, from the rownames of md\n",
    "\n",
    "#Removing the spaces (if any) from each column of md and converting them all to UPPERCASE\n",
    "for(i in 1:ncol(new_md)){\n",
    "    if(is.factor(new_md[,i]) | is.character(new_md[,i]) == T){\n",
    "        new_md[,i] <- trimws(new_md[,i], which = c(\"both\")) #First remove spaces in the front and end of each column of md\n",
    "        new_md[,i] <- gsub(' ','_', new_md[,i]) # Replace the spaces (in the middle) to underscore\n",
    "        new_md[,i] <- factor(casefold(new_md[,i], upper=T)) #convert all to UPPERCASE\n",
    "    } else if (is.numeric(new_md[,i]) | is.integer(new_md[,i]) | is.double(new_md[,i]) == T){\n",
    "        new_md[,i] <- new_md[,i]\n",
    "    }\n",
    "}\n",
    "\n",
    "#Changing the row names of the files\n",
    "rownames(new_ft) <- paste(new_ft$'row ID',round(new_ft$'row m/z',digits = 3),round(new_ft$'row retention time',digits = 3), sep = '_')\n",
    "\n",
    "#Picking only the files with column names containing 'mzML'\n",
    "new_ft <- new_ft[,grep('mzML',colnames(new_ft))]"
   ]
  },
  {
   "cell_type": "code",
   "execution_count": 18,
   "id": "3120ede3-351f-4b92-bf9c-276465ec41af",
   "metadata": {},
   "outputs": [
    {
     "data": {
      "text/html": [
       "<table class=\"dataframe\">\n",
       "<caption>A data.frame: 3 × 4</caption>\n",
       "<thead>\n",
       "\t<tr><th scope=col>INDEX</th><th scope=col>ATTRIBUTES</th><th scope=col>LEVELS</th><th scope=col>TYPE</th></tr>\n",
       "\t<tr><th scope=col>&lt;int&gt;</th><th scope=col>&lt;chr&gt;</th><th scope=col>&lt;chr&gt;</th><th scope=col>&lt;chr&gt;</th></tr>\n",
       "</thead>\n",
       "<tbody>\n",
       "\t<tr><td>1</td><td>ATTRIBUTE_Sample     </td><td>A15M, A45M, A5M, M, PPL</td><td>factor </td></tr>\n",
       "\t<tr><td>2</td><td>ATTRIBUTE_Sample_Type</td><td>PROCESS_BLANK, SAMPLE  </td><td>factor </td></tr>\n",
       "\t<tr><td>3</td><td>ATTRIBUTE_Time-Point </td><td>0, 5, 15, 45           </td><td>integer</td></tr>\n",
       "</tbody>\n",
       "</table>\n"
      ],
      "text/latex": [
       "A data.frame: 3 × 4\n",
       "\\begin{tabular}{llll}\n",
       " INDEX & ATTRIBUTES & LEVELS & TYPE\\\\\n",
       " <int> & <chr> & <chr> & <chr>\\\\\n",
       "\\hline\n",
       "\t 1 & ATTRIBUTE\\_Sample      & A15M, A45M, A5M, M, PPL & factor \\\\\n",
       "\t 2 & ATTRIBUTE\\_Sample\\_Type & PROCESS\\_BLANK, SAMPLE   & factor \\\\\n",
       "\t 3 & ATTRIBUTE\\_Time-Point  & 0, 5, 15, 45            & integer\\\\\n",
       "\\end{tabular}\n"
      ],
      "text/markdown": [
       "\n",
       "A data.frame: 3 × 4\n",
       "\n",
       "| INDEX &lt;int&gt; | ATTRIBUTES &lt;chr&gt; | LEVELS &lt;chr&gt; | TYPE &lt;chr&gt; |\n",
       "|---|---|---|---|\n",
       "| 1 | ATTRIBUTE_Sample      | A15M, A45M, A5M, M, PPL | factor  |\n",
       "| 2 | ATTRIBUTE_Sample_Type | PROCESS_BLANK, SAMPLE   | factor  |\n",
       "| 3 | ATTRIBUTE_Time-Point  | 0, 5, 15, 45            | integer |\n",
       "\n"
      ],
      "text/plain": [
       "  INDEX ATTRIBUTES            LEVELS                  TYPE   \n",
       "1 1     ATTRIBUTE_Sample      A15M, A45M, A5M, M, PPL factor \n",
       "2 2     ATTRIBUTE_Sample_Type PROCESS_BLANK, SAMPLE   factor \n",
       "3 3     ATTRIBUTE_Time-Point  0, 5, 15, 45            integer"
      ]
     },
     "metadata": {},
     "output_type": "display_data"
    }
   ],
   "source": [
    "InsideLevels(new_md)"
   ]
  },
  {
   "cell_type": "code",
   "execution_count": 19,
   "id": "c82159eb",
   "metadata": {},
   "outputs": [
    {
     "name": "stdout",
     "output_type": "stream",
     "text": [
      "These 0 columns of feature table are not present in metadata:"
     ]
    },
    {
     "data": {
      "text/html": [],
      "text/latex": [],
      "text/markdown": [],
      "text/plain": [
       "     [,1] [,2]"
      ]
     },
     "metadata": {},
     "output_type": "display_data"
    },
    {
     "name": "stdout",
     "output_type": "stream",
     "text": [
      "These 0 rows of metadata are not present in feature table:"
     ]
    },
    {
     "data": {
      "text/html": [],
      "text/latex": [],
      "text/markdown": [],
      "text/plain": [
       "     [,1] [,2]"
      ]
     },
     "metadata": {},
     "output_type": "display_data"
    }
   ],
   "source": [
    "new_ft<- new_ft[,order(colnames(new_ft))] #ordering the ft by its column names\n",
    "new_md <-new_md[order(rownames(new_md)),] #ordering the md by its row names\n",
    "\n",
    "#lists the colnames(ft) which are not present in md\n",
    "unmatched_ft <- colnames(new_ft)[which(is.na(match(colnames(new_ft),rownames(new_md))))] \n",
    "cat(\"These\", length(unmatched_ft),\"columns of feature table are not present in metadata:\")\n",
    "if((length(unmatched_ft) %% 2) ==0)\n",
    "{matrix(data=unmatched_ft,nrow=length(unmatched_ft)/2,ncol=2)}else\n",
    "{matrix(data=unmatched_ft,nrow=(length(unmatched_ft)+1)/2,ncol=2)}\n",
    "\n",
    "flush.console()\n",
    "Sys.sleep(0.2)\n",
    "\n",
    "#lists the rownames of md which are not present in ft\n",
    "unmatched_md <- rownames(new_md)[which(is.na(match(rownames(new_md),colnames(new_ft))))] \n",
    "cat(\"These\", length(unmatched_md),\"rows of metadata are not present in feature table:\")\n",
    "if((length(unmatched_md) %% 2) ==0)\n",
    "{matrix(data=unmatched_md,nrow=length(unmatched_md)/2,ncol=2)}else\n",
    "{matrix(data=unmatched_md,nrow=(length(unmatched_md)+1)/2,ncol=2)}\n",
    "\n",
    "#Removing those unmatching columns and rows:\n",
    "if(length(unmatched_ft)!=0){new_ft <- subset(ft, select = -c(which(is.na(match(colnames(ft),rownames(md))))) )}\n",
    "if(length(unmatched_md)!=0){new_md <- md[-c(which(is.na(match(rownames(md),colnames(ft))))),]}"
   ]
  },
  {
   "cell_type": "code",
   "execution_count": 20,
   "id": "881877f6",
   "metadata": {},
   "outputs": [
    {
     "name": "stdout",
     "output_type": "stream",
     "text": [
      "The number of rows and columns in our original ft is: 3726 27 \n",
      "The number of rows and columns in our new ft is: 3726 13 \n",
      "The number of rows and columns in our new md is: 13 3"
     ]
    }
   ],
   "source": [
    "#checking the dimensions of our new ft and md:\n",
    "cat(\"The number of rows and columns in our original ft is:\",dim(ft),\"\\n\")\n",
    "cat(\"The number of rows and columns in our new ft is:\",dim(new_ft),\"\\n\")\n",
    "cat(\"The number of rows and columns in our new md is:\",dim(new_md))"
   ]
  },
  {
   "cell_type": "markdown",
   "id": "ed594448",
   "metadata": {},
   "source": [
    "Notice that the number of columns of feature table is same as the number of rows in our metadata. Now, we have both our feature table and metadata in the same order."
   ]
  },
  {
   "cell_type": "code",
   "execution_count": 21,
   "id": "01979e55",
   "metadata": {},
   "outputs": [
    {
     "name": "stdout",
     "output_type": "stream",
     "text": [
      "[1] \"The column names of ft and rownames of md are the same\"\n"
     ]
    }
   ],
   "source": [
    "#checking if they are the same\n",
    "if(identical(colnames(new_ft),rownames(new_md))==T){\n",
    "    print(\"The column names of ft and rownames of md are the same\")}else{print(\"The column names of ft and rownames of md are not the same\")}"
   ]
  },
  {
   "cell_type": "markdown",
   "id": "e927cf45",
   "metadata": {},
   "source": [
    "Lets check the files once again!!"
   ]
  },
  {
   "cell_type": "code",
   "execution_count": 22,
   "id": "499d8a48",
   "metadata": {},
   "outputs": [
    {
     "data": {
      "text/html": [
       "<table class=\"dataframe\">\n",
       "<caption>A data.frame: 6 × 13</caption>\n",
       "<thead>\n",
       "\t<tr><th></th><th scope=col>DOM_Interlab-LCMS_Lab1_A15M_Pos_MS2_rep1.mzML</th><th scope=col>DOM_Interlab-LCMS_Lab1_A15M_Pos_MS2_rep2.mzML</th><th scope=col>DOM_Interlab-LCMS_Lab1_A15M_Pos_MS2_rep3.mzML</th><th scope=col>DOM_Interlab-LCMS_Lab1_A45M_Pos_MS2_rep1.mzML</th><th scope=col>DOM_Interlab-LCMS_Lab1_A45M_Pos_MS2_rep2.mzML</th><th scope=col>DOM_Interlab-LCMS_Lab1_A45M_Pos_MS2_rep3.mzML</th><th scope=col>DOM_Interlab-LCMS_Lab1_A5M_Pos_MS2_rep1.mzML</th><th scope=col>DOM_Interlab-LCMS_Lab1_A5M_Pos_MS2_rep2.mzML</th><th scope=col>DOM_Interlab-LCMS_Lab1_A5M_Pos_MS2_rep3.mzML</th><th scope=col>DOM_Interlab-LCMS_Lab1_M_Pos_MS2_rep1.mzML</th><th scope=col>DOM_Interlab-LCMS_Lab1_M_Pos_MS2_rep2.mzML</th><th scope=col>DOM_Interlab-LCMS_Lab1_M_Pos_MS2_rep3.mzML</th><th scope=col>DOM_Interlab-LCMS_Lab1_PPL_blank_Pos_MS2.mzML</th></tr>\n",
       "\t<tr><th></th><th scope=col>&lt;dbl&gt;</th><th scope=col>&lt;dbl&gt;</th><th scope=col>&lt;dbl&gt;</th><th scope=col>&lt;dbl&gt;</th><th scope=col>&lt;dbl&gt;</th><th scope=col>&lt;dbl&gt;</th><th scope=col>&lt;dbl&gt;</th><th scope=col>&lt;dbl&gt;</th><th scope=col>&lt;dbl&gt;</th><th scope=col>&lt;dbl&gt;</th><th scope=col>&lt;dbl&gt;</th><th scope=col>&lt;dbl&gt;</th><th scope=col>&lt;dbl&gt;</th></tr>\n",
       "</thead>\n",
       "<tbody>\n",
       "\t<tr><th scope=row>834_150.128_1.052</th><td>     0.00</td><td>     0.00</td><td>     0.00</td><td>     0.00</td><td>     0.00</td><td>     0.00</td><td>     0.00</td><td>     0.00</td><td>     0.00</td><td>     0.00</td><td>     0.00</td><td>     0.00</td><td>81619.78</td></tr>\n",
       "\t<tr><th scope=row>1458_150.128_3.194</th><td>175378.06</td><td> 63048.62</td><td> 35095.74</td><td> 76711.62</td><td> 73032.68</td><td> 86292.55</td><td>160484.12</td><td> 90376.30</td><td> 69219.23</td><td> 89184.16</td><td>     0.00</td><td>174635.88</td><td>    0.00</td></tr>\n",
       "\t<tr><th scope=row>1418_150.128_3.173</th><td> 91746.70</td><td>168632.83</td><td>190752.25</td><td>155348.86</td><td>179107.34</td><td>182786.73</td><td>     0.00</td><td>180862.78</td><td>170407.94</td><td>182752.95</td><td>202764.25</td><td>100635.78</td><td>    0.00</td></tr>\n",
       "\t<tr><th scope=row>30_151.035_0.653</th><td>223716.30</td><td>221928.16</td><td>244421.44</td><td>216268.95</td><td>245133.69</td><td>250871.08</td><td>227419.23</td><td>234767.06</td><td>245521.73</td><td>249818.03</td><td>227996.84</td><td>261982.14</td><td>    0.00</td></tr>\n",
       "\t<tr><th scope=row>991_151.035_1.312</th><td>     0.00</td><td>     0.00</td><td>     0.00</td><td>     0.00</td><td>     0.00</td><td>     0.00</td><td>     0.00</td><td>     0.00</td><td>     0.00</td><td>     0.00</td><td>     0.00</td><td>     0.00</td><td>98517.07</td></tr>\n",
       "\t<tr><th scope=row>7137_151.075_6.002</th><td> 89922.16</td><td> 90066.02</td><td> 93198.79</td><td> 44915.14</td><td> 44900.08</td><td> 37633.26</td><td> 49160.88</td><td> 65025.47</td><td> 61488.17</td><td> 73358.59</td><td> 55780.67</td><td> 74299.41</td><td>    0.00</td></tr>\n",
       "</tbody>\n",
       "</table>\n"
      ],
      "text/latex": [
       "A data.frame: 6 × 13\n",
       "\\begin{tabular}{r|lllllllllllll}\n",
       "  & DOM\\_Interlab-LCMS\\_Lab1\\_A15M\\_Pos\\_MS2\\_rep1.mzML & DOM\\_Interlab-LCMS\\_Lab1\\_A15M\\_Pos\\_MS2\\_rep2.mzML & DOM\\_Interlab-LCMS\\_Lab1\\_A15M\\_Pos\\_MS2\\_rep3.mzML & DOM\\_Interlab-LCMS\\_Lab1\\_A45M\\_Pos\\_MS2\\_rep1.mzML & DOM\\_Interlab-LCMS\\_Lab1\\_A45M\\_Pos\\_MS2\\_rep2.mzML & DOM\\_Interlab-LCMS\\_Lab1\\_A45M\\_Pos\\_MS2\\_rep3.mzML & DOM\\_Interlab-LCMS\\_Lab1\\_A5M\\_Pos\\_MS2\\_rep1.mzML & DOM\\_Interlab-LCMS\\_Lab1\\_A5M\\_Pos\\_MS2\\_rep2.mzML & DOM\\_Interlab-LCMS\\_Lab1\\_A5M\\_Pos\\_MS2\\_rep3.mzML & DOM\\_Interlab-LCMS\\_Lab1\\_M\\_Pos\\_MS2\\_rep1.mzML & DOM\\_Interlab-LCMS\\_Lab1\\_M\\_Pos\\_MS2\\_rep2.mzML & DOM\\_Interlab-LCMS\\_Lab1\\_M\\_Pos\\_MS2\\_rep3.mzML & DOM\\_Interlab-LCMS\\_Lab1\\_PPL\\_blank\\_Pos\\_MS2.mzML\\\\\n",
       "  & <dbl> & <dbl> & <dbl> & <dbl> & <dbl> & <dbl> & <dbl> & <dbl> & <dbl> & <dbl> & <dbl> & <dbl> & <dbl>\\\\\n",
       "\\hline\n",
       "\t834\\_150.128\\_1.052 &      0.00 &      0.00 &      0.00 &      0.00 &      0.00 &      0.00 &      0.00 &      0.00 &      0.00 &      0.00 &      0.00 &      0.00 & 81619.78\\\\\n",
       "\t1458\\_150.128\\_3.194 & 175378.06 &  63048.62 &  35095.74 &  76711.62 &  73032.68 &  86292.55 & 160484.12 &  90376.30 &  69219.23 &  89184.16 &      0.00 & 174635.88 &     0.00\\\\\n",
       "\t1418\\_150.128\\_3.173 &  91746.70 & 168632.83 & 190752.25 & 155348.86 & 179107.34 & 182786.73 &      0.00 & 180862.78 & 170407.94 & 182752.95 & 202764.25 & 100635.78 &     0.00\\\\\n",
       "\t30\\_151.035\\_0.653 & 223716.30 & 221928.16 & 244421.44 & 216268.95 & 245133.69 & 250871.08 & 227419.23 & 234767.06 & 245521.73 & 249818.03 & 227996.84 & 261982.14 &     0.00\\\\\n",
       "\t991\\_151.035\\_1.312 &      0.00 &      0.00 &      0.00 &      0.00 &      0.00 &      0.00 &      0.00 &      0.00 &      0.00 &      0.00 &      0.00 &      0.00 & 98517.07\\\\\n",
       "\t7137\\_151.075\\_6.002 &  89922.16 &  90066.02 &  93198.79 &  44915.14 &  44900.08 &  37633.26 &  49160.88 &  65025.47 &  61488.17 &  73358.59 &  55780.67 &  74299.41 &     0.00\\\\\n",
       "\\end{tabular}\n"
      ],
      "text/markdown": [
       "\n",
       "A data.frame: 6 × 13\n",
       "\n",
       "| <!--/--> | DOM_Interlab-LCMS_Lab1_A15M_Pos_MS2_rep1.mzML &lt;dbl&gt; | DOM_Interlab-LCMS_Lab1_A15M_Pos_MS2_rep2.mzML &lt;dbl&gt; | DOM_Interlab-LCMS_Lab1_A15M_Pos_MS2_rep3.mzML &lt;dbl&gt; | DOM_Interlab-LCMS_Lab1_A45M_Pos_MS2_rep1.mzML &lt;dbl&gt; | DOM_Interlab-LCMS_Lab1_A45M_Pos_MS2_rep2.mzML &lt;dbl&gt; | DOM_Interlab-LCMS_Lab1_A45M_Pos_MS2_rep3.mzML &lt;dbl&gt; | DOM_Interlab-LCMS_Lab1_A5M_Pos_MS2_rep1.mzML &lt;dbl&gt; | DOM_Interlab-LCMS_Lab1_A5M_Pos_MS2_rep2.mzML &lt;dbl&gt; | DOM_Interlab-LCMS_Lab1_A5M_Pos_MS2_rep3.mzML &lt;dbl&gt; | DOM_Interlab-LCMS_Lab1_M_Pos_MS2_rep1.mzML &lt;dbl&gt; | DOM_Interlab-LCMS_Lab1_M_Pos_MS2_rep2.mzML &lt;dbl&gt; | DOM_Interlab-LCMS_Lab1_M_Pos_MS2_rep3.mzML &lt;dbl&gt; | DOM_Interlab-LCMS_Lab1_PPL_blank_Pos_MS2.mzML &lt;dbl&gt; |\n",
       "|---|---|---|---|---|---|---|---|---|---|---|---|---|---|\n",
       "| 834_150.128_1.052 |      0.00 |      0.00 |      0.00 |      0.00 |      0.00 |      0.00 |      0.00 |      0.00 |      0.00 |      0.00 |      0.00 |      0.00 | 81619.78 |\n",
       "| 1458_150.128_3.194 | 175378.06 |  63048.62 |  35095.74 |  76711.62 |  73032.68 |  86292.55 | 160484.12 |  90376.30 |  69219.23 |  89184.16 |      0.00 | 174635.88 |     0.00 |\n",
       "| 1418_150.128_3.173 |  91746.70 | 168632.83 | 190752.25 | 155348.86 | 179107.34 | 182786.73 |      0.00 | 180862.78 | 170407.94 | 182752.95 | 202764.25 | 100635.78 |     0.00 |\n",
       "| 30_151.035_0.653 | 223716.30 | 221928.16 | 244421.44 | 216268.95 | 245133.69 | 250871.08 | 227419.23 | 234767.06 | 245521.73 | 249818.03 | 227996.84 | 261982.14 |     0.00 |\n",
       "| 991_151.035_1.312 |      0.00 |      0.00 |      0.00 |      0.00 |      0.00 |      0.00 |      0.00 |      0.00 |      0.00 |      0.00 |      0.00 |      0.00 | 98517.07 |\n",
       "| 7137_151.075_6.002 |  89922.16 |  90066.02 |  93198.79 |  44915.14 |  44900.08 |  37633.26 |  49160.88 |  65025.47 |  61488.17 |  73358.59 |  55780.67 |  74299.41 |     0.00 |\n",
       "\n"
      ],
      "text/plain": [
       "                   DOM_Interlab-LCMS_Lab1_A15M_Pos_MS2_rep1.mzML\n",
       "834_150.128_1.052       0.00                                    \n",
       "1458_150.128_3.194 175378.06                                    \n",
       "1418_150.128_3.173  91746.70                                    \n",
       "30_151.035_0.653   223716.30                                    \n",
       "991_151.035_1.312       0.00                                    \n",
       "7137_151.075_6.002  89922.16                                    \n",
       "                   DOM_Interlab-LCMS_Lab1_A15M_Pos_MS2_rep2.mzML\n",
       "834_150.128_1.052       0.00                                    \n",
       "1458_150.128_3.194  63048.62                                    \n",
       "1418_150.128_3.173 168632.83                                    \n",
       "30_151.035_0.653   221928.16                                    \n",
       "991_151.035_1.312       0.00                                    \n",
       "7137_151.075_6.002  90066.02                                    \n",
       "                   DOM_Interlab-LCMS_Lab1_A15M_Pos_MS2_rep3.mzML\n",
       "834_150.128_1.052       0.00                                    \n",
       "1458_150.128_3.194  35095.74                                    \n",
       "1418_150.128_3.173 190752.25                                    \n",
       "30_151.035_0.653   244421.44                                    \n",
       "991_151.035_1.312       0.00                                    \n",
       "7137_151.075_6.002  93198.79                                    \n",
       "                   DOM_Interlab-LCMS_Lab1_A45M_Pos_MS2_rep1.mzML\n",
       "834_150.128_1.052       0.00                                    \n",
       "1458_150.128_3.194  76711.62                                    \n",
       "1418_150.128_3.173 155348.86                                    \n",
       "30_151.035_0.653   216268.95                                    \n",
       "991_151.035_1.312       0.00                                    \n",
       "7137_151.075_6.002  44915.14                                    \n",
       "                   DOM_Interlab-LCMS_Lab1_A45M_Pos_MS2_rep2.mzML\n",
       "834_150.128_1.052       0.00                                    \n",
       "1458_150.128_3.194  73032.68                                    \n",
       "1418_150.128_3.173 179107.34                                    \n",
       "30_151.035_0.653   245133.69                                    \n",
       "991_151.035_1.312       0.00                                    \n",
       "7137_151.075_6.002  44900.08                                    \n",
       "                   DOM_Interlab-LCMS_Lab1_A45M_Pos_MS2_rep3.mzML\n",
       "834_150.128_1.052       0.00                                    \n",
       "1458_150.128_3.194  86292.55                                    \n",
       "1418_150.128_3.173 182786.73                                    \n",
       "30_151.035_0.653   250871.08                                    \n",
       "991_151.035_1.312       0.00                                    \n",
       "7137_151.075_6.002  37633.26                                    \n",
       "                   DOM_Interlab-LCMS_Lab1_A5M_Pos_MS2_rep1.mzML\n",
       "834_150.128_1.052       0.00                                   \n",
       "1458_150.128_3.194 160484.12                                   \n",
       "1418_150.128_3.173      0.00                                   \n",
       "30_151.035_0.653   227419.23                                   \n",
       "991_151.035_1.312       0.00                                   \n",
       "7137_151.075_6.002  49160.88                                   \n",
       "                   DOM_Interlab-LCMS_Lab1_A5M_Pos_MS2_rep2.mzML\n",
       "834_150.128_1.052       0.00                                   \n",
       "1458_150.128_3.194  90376.30                                   \n",
       "1418_150.128_3.173 180862.78                                   \n",
       "30_151.035_0.653   234767.06                                   \n",
       "991_151.035_1.312       0.00                                   \n",
       "7137_151.075_6.002  65025.47                                   \n",
       "                   DOM_Interlab-LCMS_Lab1_A5M_Pos_MS2_rep3.mzML\n",
       "834_150.128_1.052       0.00                                   \n",
       "1458_150.128_3.194  69219.23                                   \n",
       "1418_150.128_3.173 170407.94                                   \n",
       "30_151.035_0.653   245521.73                                   \n",
       "991_151.035_1.312       0.00                                   \n",
       "7137_151.075_6.002  61488.17                                   \n",
       "                   DOM_Interlab-LCMS_Lab1_M_Pos_MS2_rep1.mzML\n",
       "834_150.128_1.052       0.00                                 \n",
       "1458_150.128_3.194  89184.16                                 \n",
       "1418_150.128_3.173 182752.95                                 \n",
       "30_151.035_0.653   249818.03                                 \n",
       "991_151.035_1.312       0.00                                 \n",
       "7137_151.075_6.002  73358.59                                 \n",
       "                   DOM_Interlab-LCMS_Lab1_M_Pos_MS2_rep2.mzML\n",
       "834_150.128_1.052       0.00                                 \n",
       "1458_150.128_3.194      0.00                                 \n",
       "1418_150.128_3.173 202764.25                                 \n",
       "30_151.035_0.653   227996.84                                 \n",
       "991_151.035_1.312       0.00                                 \n",
       "7137_151.075_6.002  55780.67                                 \n",
       "                   DOM_Interlab-LCMS_Lab1_M_Pos_MS2_rep3.mzML\n",
       "834_150.128_1.052       0.00                                 \n",
       "1458_150.128_3.194 174635.88                                 \n",
       "1418_150.128_3.173 100635.78                                 \n",
       "30_151.035_0.653   261982.14                                 \n",
       "991_151.035_1.312       0.00                                 \n",
       "7137_151.075_6.002  74299.41                                 \n",
       "                   DOM_Interlab-LCMS_Lab1_PPL_blank_Pos_MS2.mzML\n",
       "834_150.128_1.052  81619.78                                     \n",
       "1458_150.128_3.194     0.00                                     \n",
       "1418_150.128_3.173     0.00                                     \n",
       "30_151.035_0.653       0.00                                     \n",
       "991_151.035_1.312  98517.07                                     \n",
       "7137_151.075_6.002     0.00                                     "
      ]
     },
     "metadata": {},
     "output_type": "display_data"
    },
    {
     "data": {
      "text/html": [
       "<style>\n",
       ".list-inline {list-style: none; margin:0; padding: 0}\n",
       ".list-inline>li {display: inline-block}\n",
       ".list-inline>li:not(:last-child)::after {content: \"\\00b7\"; padding: 0 .5ex}\n",
       "</style>\n",
       "<ol class=list-inline><li>3726</li><li>13</li></ol>\n"
      ],
      "text/latex": [
       "\\begin{enumerate*}\n",
       "\\item 3726\n",
       "\\item 13\n",
       "\\end{enumerate*}\n"
      ],
      "text/markdown": [
       "1. 3726\n",
       "2. 13\n",
       "\n",
       "\n"
      ],
      "text/plain": [
       "[1] 3726   13"
      ]
     },
     "metadata": {},
     "output_type": "display_data"
    }
   ],
   "source": [
    "head(new_ft)\n",
    "dim(new_ft)"
   ]
  },
  {
   "cell_type": "code",
   "execution_count": 23,
   "id": "6027aea7",
   "metadata": {},
   "outputs": [
    {
     "data": {
      "text/html": [
       "<table class=\"dataframe\">\n",
       "<caption>A data.frame: 6 × 3</caption>\n",
       "<thead>\n",
       "\t<tr><th></th><th scope=col>ATTRIBUTE_Sample</th><th scope=col>ATTRIBUTE_Sample_Type</th><th scope=col>ATTRIBUTE_Time-Point</th></tr>\n",
       "\t<tr><th></th><th scope=col>&lt;fct&gt;</th><th scope=col>&lt;fct&gt;</th><th scope=col>&lt;int&gt;</th></tr>\n",
       "</thead>\n",
       "<tbody>\n",
       "\t<tr><th scope=row>DOM_Interlab-LCMS_Lab1_A15M_Pos_MS2_rep1.mzML</th><td>A15M</td><td>SAMPLE</td><td>15</td></tr>\n",
       "\t<tr><th scope=row>DOM_Interlab-LCMS_Lab1_A15M_Pos_MS2_rep2.mzML</th><td>A15M</td><td>SAMPLE</td><td>15</td></tr>\n",
       "\t<tr><th scope=row>DOM_Interlab-LCMS_Lab1_A15M_Pos_MS2_rep3.mzML</th><td>A15M</td><td>SAMPLE</td><td>15</td></tr>\n",
       "\t<tr><th scope=row>DOM_Interlab-LCMS_Lab1_A45M_Pos_MS2_rep1.mzML</th><td>A45M</td><td>SAMPLE</td><td>45</td></tr>\n",
       "\t<tr><th scope=row>DOM_Interlab-LCMS_Lab1_A45M_Pos_MS2_rep2.mzML</th><td>A45M</td><td>SAMPLE</td><td>45</td></tr>\n",
       "\t<tr><th scope=row>DOM_Interlab-LCMS_Lab1_A45M_Pos_MS2_rep3.mzML</th><td>A45M</td><td>SAMPLE</td><td>45</td></tr>\n",
       "</tbody>\n",
       "</table>\n"
      ],
      "text/latex": [
       "A data.frame: 6 × 3\n",
       "\\begin{tabular}{r|lll}\n",
       "  & ATTRIBUTE\\_Sample & ATTRIBUTE\\_Sample\\_Type & ATTRIBUTE\\_Time-Point\\\\\n",
       "  & <fct> & <fct> & <int>\\\\\n",
       "\\hline\n",
       "\tDOM\\_Interlab-LCMS\\_Lab1\\_A15M\\_Pos\\_MS2\\_rep1.mzML & A15M & SAMPLE & 15\\\\\n",
       "\tDOM\\_Interlab-LCMS\\_Lab1\\_A15M\\_Pos\\_MS2\\_rep2.mzML & A15M & SAMPLE & 15\\\\\n",
       "\tDOM\\_Interlab-LCMS\\_Lab1\\_A15M\\_Pos\\_MS2\\_rep3.mzML & A15M & SAMPLE & 15\\\\\n",
       "\tDOM\\_Interlab-LCMS\\_Lab1\\_A45M\\_Pos\\_MS2\\_rep1.mzML & A45M & SAMPLE & 45\\\\\n",
       "\tDOM\\_Interlab-LCMS\\_Lab1\\_A45M\\_Pos\\_MS2\\_rep2.mzML & A45M & SAMPLE & 45\\\\\n",
       "\tDOM\\_Interlab-LCMS\\_Lab1\\_A45M\\_Pos\\_MS2\\_rep3.mzML & A45M & SAMPLE & 45\\\\\n",
       "\\end{tabular}\n"
      ],
      "text/markdown": [
       "\n",
       "A data.frame: 6 × 3\n",
       "\n",
       "| <!--/--> | ATTRIBUTE_Sample &lt;fct&gt; | ATTRIBUTE_Sample_Type &lt;fct&gt; | ATTRIBUTE_Time-Point &lt;int&gt; |\n",
       "|---|---|---|---|\n",
       "| DOM_Interlab-LCMS_Lab1_A15M_Pos_MS2_rep1.mzML | A15M | SAMPLE | 15 |\n",
       "| DOM_Interlab-LCMS_Lab1_A15M_Pos_MS2_rep2.mzML | A15M | SAMPLE | 15 |\n",
       "| DOM_Interlab-LCMS_Lab1_A15M_Pos_MS2_rep3.mzML | A15M | SAMPLE | 15 |\n",
       "| DOM_Interlab-LCMS_Lab1_A45M_Pos_MS2_rep1.mzML | A45M | SAMPLE | 45 |\n",
       "| DOM_Interlab-LCMS_Lab1_A45M_Pos_MS2_rep2.mzML | A45M | SAMPLE | 45 |\n",
       "| DOM_Interlab-LCMS_Lab1_A45M_Pos_MS2_rep3.mzML | A45M | SAMPLE | 45 |\n",
       "\n"
      ],
      "text/plain": [
       "                                              ATTRIBUTE_Sample\n",
       "DOM_Interlab-LCMS_Lab1_A15M_Pos_MS2_rep1.mzML A15M            \n",
       "DOM_Interlab-LCMS_Lab1_A15M_Pos_MS2_rep2.mzML A15M            \n",
       "DOM_Interlab-LCMS_Lab1_A15M_Pos_MS2_rep3.mzML A15M            \n",
       "DOM_Interlab-LCMS_Lab1_A45M_Pos_MS2_rep1.mzML A45M            \n",
       "DOM_Interlab-LCMS_Lab1_A45M_Pos_MS2_rep2.mzML A45M            \n",
       "DOM_Interlab-LCMS_Lab1_A45M_Pos_MS2_rep3.mzML A45M            \n",
       "                                              ATTRIBUTE_Sample_Type\n",
       "DOM_Interlab-LCMS_Lab1_A15M_Pos_MS2_rep1.mzML SAMPLE               \n",
       "DOM_Interlab-LCMS_Lab1_A15M_Pos_MS2_rep2.mzML SAMPLE               \n",
       "DOM_Interlab-LCMS_Lab1_A15M_Pos_MS2_rep3.mzML SAMPLE               \n",
       "DOM_Interlab-LCMS_Lab1_A45M_Pos_MS2_rep1.mzML SAMPLE               \n",
       "DOM_Interlab-LCMS_Lab1_A45M_Pos_MS2_rep2.mzML SAMPLE               \n",
       "DOM_Interlab-LCMS_Lab1_A45M_Pos_MS2_rep3.mzML SAMPLE               \n",
       "                                              ATTRIBUTE_Time-Point\n",
       "DOM_Interlab-LCMS_Lab1_A15M_Pos_MS2_rep1.mzML 15                  \n",
       "DOM_Interlab-LCMS_Lab1_A15M_Pos_MS2_rep2.mzML 15                  \n",
       "DOM_Interlab-LCMS_Lab1_A15M_Pos_MS2_rep3.mzML 15                  \n",
       "DOM_Interlab-LCMS_Lab1_A45M_Pos_MS2_rep1.mzML 45                  \n",
       "DOM_Interlab-LCMS_Lab1_A45M_Pos_MS2_rep2.mzML 45                  \n",
       "DOM_Interlab-LCMS_Lab1_A45M_Pos_MS2_rep3.mzML 45                  "
      ]
     },
     "metadata": {},
     "output_type": "display_data"
    },
    {
     "data": {
      "text/html": [
       "<style>\n",
       ".list-inline {list-style: none; margin:0; padding: 0}\n",
       ".list-inline>li {display: inline-block}\n",
       ".list-inline>li:not(:last-child)::after {content: \"\\00b7\"; padding: 0 .5ex}\n",
       "</style>\n",
       "<ol class=list-inline><li>13</li><li>3</li></ol>\n"
      ],
      "text/latex": [
       "\\begin{enumerate*}\n",
       "\\item 13\n",
       "\\item 3\n",
       "\\end{enumerate*}\n"
      ],
      "text/markdown": [
       "1. 13\n",
       "2. 3\n",
       "\n",
       "\n"
      ],
      "text/plain": [
       "[1] 13  3"
      ]
     },
     "metadata": {},
     "output_type": "display_data"
    }
   ],
   "source": [
    "head(new_md)\n",
    "dim(new_md)"
   ]
  },
  {
   "cell_type": "markdown",
   "id": "4f45b589",
   "metadata": {},
   "source": [
    "# Splitting the data into Blanks and Samples using Metadata:\n",
    "<a id=\"data_split\"></a>\n",
    "\n",
    "For the first step: Blank removal, we need to split the data as spectra obtained from blanks and samples respectively using the metadata. More about Blank removal in the next section."
   ]
  },
  {
   "cell_type": "code",
   "execution_count": 24,
   "id": "bad9deff-ec2d-4ea6-a60d-079364afbfb9",
   "metadata": {},
   "outputs": [
    {
     "data": {
      "text/html": [
       "<table class=\"dataframe\">\n",
       "<caption>A data.frame: 3 × 4</caption>\n",
       "<thead>\n",
       "\t<tr><th scope=col>INDEX</th><th scope=col>ATTRIBUTES</th><th scope=col>LEVELS</th><th scope=col>TYPE</th></tr>\n",
       "\t<tr><th scope=col>&lt;int&gt;</th><th scope=col>&lt;chr&gt;</th><th scope=col>&lt;chr&gt;</th><th scope=col>&lt;chr&gt;</th></tr>\n",
       "</thead>\n",
       "<tbody>\n",
       "\t<tr><td>1</td><td>ATTRIBUTE_Sample     </td><td>A15M, A45M, A5M, M, PPL</td><td>factor </td></tr>\n",
       "\t<tr><td>2</td><td>ATTRIBUTE_Sample_Type</td><td>PROCESS_BLANK, SAMPLE  </td><td>factor </td></tr>\n",
       "\t<tr><td>3</td><td>ATTRIBUTE_Time-Point </td><td>0, 5, 15, 45           </td><td>integer</td></tr>\n",
       "</tbody>\n",
       "</table>\n"
      ],
      "text/latex": [
       "A data.frame: 3 × 4\n",
       "\\begin{tabular}{llll}\n",
       " INDEX & ATTRIBUTES & LEVELS & TYPE\\\\\n",
       " <int> & <chr> & <chr> & <chr>\\\\\n",
       "\\hline\n",
       "\t 1 & ATTRIBUTE\\_Sample      & A15M, A45M, A5M, M, PPL & factor \\\\\n",
       "\t 2 & ATTRIBUTE\\_Sample\\_Type & PROCESS\\_BLANK, SAMPLE   & factor \\\\\n",
       "\t 3 & ATTRIBUTE\\_Time-Point  & 0, 5, 15, 45            & integer\\\\\n",
       "\\end{tabular}\n"
      ],
      "text/markdown": [
       "\n",
       "A data.frame: 3 × 4\n",
       "\n",
       "| INDEX &lt;int&gt; | ATTRIBUTES &lt;chr&gt; | LEVELS &lt;chr&gt; | TYPE &lt;chr&gt; |\n",
       "|---|---|---|---|\n",
       "| 1 | ATTRIBUTE_Sample      | A15M, A45M, A5M, M, PPL | factor  |\n",
       "| 2 | ATTRIBUTE_Sample_Type | PROCESS_BLANK, SAMPLE   | factor  |\n",
       "| 3 | ATTRIBUTE_Time-Point  | 0, 5, 15, 45            | integer |\n",
       "\n"
      ],
      "text/plain": [
       "  INDEX ATTRIBUTES            LEVELS                  TYPE   \n",
       "1 1     ATTRIBUTE_Sample      A15M, A45M, A5M, M, PPL factor \n",
       "2 2     ATTRIBUTE_Sample_Type PROCESS_BLANK, SAMPLE   factor \n",
       "3 3     ATTRIBUTE_Time-Point  0, 5, 15, 45            integer"
      ]
     },
     "metadata": {},
     "output_type": "display_data"
    }
   ],
   "source": [
    "InsideLevels(new_md)"
   ]
  },
  {
   "cell_type": "markdown",
   "id": "f51e5128-1077-4413-9c7f-eb044d2e4993",
   "metadata": {},
   "source": [
    "In case of having several groups in our data, for ex: different species like B.sub and E.coli, we can subset the data accordingly using the next cell and then proceed with data-cleanup steps. In our case, we are not subsetting the data"
   ]
  },
  {
   "cell_type": "code",
   "execution_count": 25,
   "id": "b9f1f538-90cd-4bf0-92e2-31e6b2ca5ac4",
   "metadata": {},
   "outputs": [],
   "source": [
    "#subset_data <- new_md %>% filter(ATTRIBUTE_Sample != 'M')\n",
    "#InsideLevels(subset_data)\n",
    "#dim(subset_data)"
   ]
  },
  {
   "cell_type": "markdown",
   "id": "68fe2ef5",
   "metadata": {},
   "source": [
    "Once we subset the data according to a group, we can further proceed to split the blanks from the sample in the cell below. If no subsetting is involved, you can simply split your metadata into blank and sample."
   ]
  },
  {
   "cell_type": "code",
   "execution_count": 26,
   "id": "d65378ea-585c-42c5-9bd0-77e09ba04552",
   "metadata": {},
   "outputs": [
    {
     "data": {
      "text/html": [
       "<table class=\"dataframe\">\n",
       "<caption>A data.frame: 3 × 4</caption>\n",
       "<thead>\n",
       "\t<tr><th scope=col>INDEX</th><th scope=col>ATTRIBUTES</th><th scope=col>LEVELS</th><th scope=col>TYPE</th></tr>\n",
       "\t<tr><th scope=col>&lt;int&gt;</th><th scope=col>&lt;chr&gt;</th><th scope=col>&lt;chr&gt;</th><th scope=col>&lt;chr&gt;</th></tr>\n",
       "</thead>\n",
       "<tbody>\n",
       "\t<tr><td>1</td><td>ATTRIBUTE_Sample     </td><td>A15M, A45M, A5M, M, PPL</td><td>factor </td></tr>\n",
       "\t<tr><td>2</td><td>ATTRIBUTE_Sample_Type</td><td>PROCESS_BLANK, SAMPLE  </td><td>factor </td></tr>\n",
       "\t<tr><td>3</td><td>ATTRIBUTE_Time-Point </td><td>0, 5, 15, 45           </td><td>integer</td></tr>\n",
       "</tbody>\n",
       "</table>\n"
      ],
      "text/latex": [
       "A data.frame: 3 × 4\n",
       "\\begin{tabular}{llll}\n",
       " INDEX & ATTRIBUTES & LEVELS & TYPE\\\\\n",
       " <int> & <chr> & <chr> & <chr>\\\\\n",
       "\\hline\n",
       "\t 1 & ATTRIBUTE\\_Sample      & A15M, A45M, A5M, M, PPL & factor \\\\\n",
       "\t 2 & ATTRIBUTE\\_Sample\\_Type & PROCESS\\_BLANK, SAMPLE   & factor \\\\\n",
       "\t 3 & ATTRIBUTE\\_Time-Point  & 0, 5, 15, 45            & integer\\\\\n",
       "\\end{tabular}\n"
      ],
      "text/markdown": [
       "\n",
       "A data.frame: 3 × 4\n",
       "\n",
       "| INDEX &lt;int&gt; | ATTRIBUTES &lt;chr&gt; | LEVELS &lt;chr&gt; | TYPE &lt;chr&gt; |\n",
       "|---|---|---|---|\n",
       "| 1 | ATTRIBUTE_Sample      | A15M, A45M, A5M, M, PPL | factor  |\n",
       "| 2 | ATTRIBUTE_Sample_Type | PROCESS_BLANK, SAMPLE   | factor  |\n",
       "| 3 | ATTRIBUTE_Time-Point  | 0, 5, 15, 45            | integer |\n",
       "\n"
      ],
      "text/plain": [
       "  INDEX ATTRIBUTES            LEVELS                  TYPE   \n",
       "1 1     ATTRIBUTE_Sample      A15M, A45M, A5M, M, PPL factor \n",
       "2 2     ATTRIBUTE_Sample_Type PROCESS_BLANK, SAMPLE   factor \n",
       "3 3     ATTRIBUTE_Time-Point  0, 5, 15, 45            integer"
      ]
     },
     "metadata": {},
     "output_type": "display_data"
    },
    {
     "name": "stdout",
     "output_type": "stream",
     "text": [
      "Enter the index number of the attribute to split sample and blank:2\n"
     ]
    },
    {
     "data": {
      "text/html": [
       "<table class=\"dataframe\">\n",
       "<caption>A data.frame: 2 × 2</caption>\n",
       "<thead>\n",
       "\t<tr><th scope=col>INDEX</th><th scope=col>LEVELS</th></tr>\n",
       "\t<tr><th scope=col>&lt;int&gt;</th><th scope=col>&lt;chr&gt;</th></tr>\n",
       "</thead>\n",
       "<tbody>\n",
       "\t<tr><td>1</td><td>PROCESS_BLANK</td></tr>\n",
       "\t<tr><td>2</td><td>SAMPLE       </td></tr>\n",
       "</tbody>\n",
       "</table>\n"
      ],
      "text/latex": [
       "A data.frame: 2 × 2\n",
       "\\begin{tabular}{ll}\n",
       " INDEX & LEVELS\\\\\n",
       " <int> & <chr>\\\\\n",
       "\\hline\n",
       "\t 1 & PROCESS\\_BLANK\\\\\n",
       "\t 2 & SAMPLE       \\\\\n",
       "\\end{tabular}\n"
      ],
      "text/markdown": [
       "\n",
       "A data.frame: 2 × 2\n",
       "\n",
       "| INDEX &lt;int&gt; | LEVELS &lt;chr&gt; |\n",
       "|---|---|\n",
       "| 1 | PROCESS_BLANK |\n",
       "| 2 | SAMPLE        |\n",
       "\n"
      ],
      "text/plain": [
       "  INDEX LEVELS       \n",
       "1 1     PROCESS_BLANK\n",
       "2 2     SAMPLE       "
      ]
     },
     "metadata": {},
     "output_type": "display_data"
    },
    {
     "name": "stdout",
     "output_type": "stream",
     "text": [
      "Enter the index number of your BLANK:1\n"
     ]
    },
    {
     "data": {
      "text/html": [
       "'You chosen blank is:PROCESS_BLANK'"
      ],
      "text/latex": [
       "'You chosen blank is:PROCESS\\_BLANK'"
      ],
      "text/markdown": [
       "'You chosen blank is:PROCESS_BLANK'"
      ],
      "text/plain": [
       "[1] \"You chosen blank is:PROCESS_BLANK\""
      ]
     },
     "metadata": {},
     "output_type": "display_data"
    }
   ],
   "source": [
    "#If subset_data exists, it will take it as \"data\", else take new_md as \"data\"\n",
    "if(exists(\"subset_data\")==T){data <-subset_data}else{data <-new_md}\n",
    "InsideLevels(data)\n",
    "\n",
    "Condition <- as.double(unlist(readline(\"Enter the index number of the attribute to split sample and blank:\")))\n",
    "Levels_Cdtn <- levels(droplevels(as.factor(data[,Condition[1]])))\n",
    "IRdisplay::display(data.frame(INDEX=c(1:length(Levels_Cdtn)),LEVELS=Levels_Cdtn))\n",
    " \n",
    "#Among the shown levels of an attribute, select the ones to keep\n",
    "Blk_id <- as.double(unlist(readline(\"Enter the index number of your BLANK:\")))\n",
    "paste0('You chosen blank is:',Levels_Cdtn[Blk_id])\n",
    "  \n",
    "#Splitting the data into blanks and samples based on the metadata\n",
    "md_Blank <- data[(data[,Condition] == Levels_Cdtn[Blk_id]),]\n",
    "Blank <- new_ft[,which(colnames(new_ft)%in%rownames(md_Blank)),drop=F] \n",
    "md_Samples <- data[(data[,Condition] != Levels_Cdtn[Blk_id]),]\n",
    "Samples <- new_ft[,which(colnames(new_ft)%in%rownames(md_Samples)),drop=F] "
   ]
  },
  {
   "cell_type": "code",
   "execution_count": 27,
   "id": "aed01148",
   "metadata": {},
   "outputs": [
    {
     "data": {
      "text/html": [
       "<table class=\"dataframe\">\n",
       "<caption>A data.frame: 6 × 1</caption>\n",
       "<thead>\n",
       "\t<tr><th></th><th scope=col>DOM_Interlab-LCMS_Lab1_PPL_blank_Pos_MS2.mzML</th></tr>\n",
       "\t<tr><th></th><th scope=col>&lt;dbl&gt;</th></tr>\n",
       "</thead>\n",
       "<tbody>\n",
       "\t<tr><th scope=row>834_150.128_1.052</th><td>81619.78</td></tr>\n",
       "\t<tr><th scope=row>1458_150.128_3.194</th><td>    0.00</td></tr>\n",
       "\t<tr><th scope=row>1418_150.128_3.173</th><td>    0.00</td></tr>\n",
       "\t<tr><th scope=row>30_151.035_0.653</th><td>    0.00</td></tr>\n",
       "\t<tr><th scope=row>991_151.035_1.312</th><td>98517.07</td></tr>\n",
       "\t<tr><th scope=row>7137_151.075_6.002</th><td>    0.00</td></tr>\n",
       "</tbody>\n",
       "</table>\n"
      ],
      "text/latex": [
       "A data.frame: 6 × 1\n",
       "\\begin{tabular}{r|l}\n",
       "  & DOM\\_Interlab-LCMS\\_Lab1\\_PPL\\_blank\\_Pos\\_MS2.mzML\\\\\n",
       "  & <dbl>\\\\\n",
       "\\hline\n",
       "\t834\\_150.128\\_1.052 & 81619.78\\\\\n",
       "\t1458\\_150.128\\_3.194 &     0.00\\\\\n",
       "\t1418\\_150.128\\_3.173 &     0.00\\\\\n",
       "\t30\\_151.035\\_0.653 &     0.00\\\\\n",
       "\t991\\_151.035\\_1.312 & 98517.07\\\\\n",
       "\t7137\\_151.075\\_6.002 &     0.00\\\\\n",
       "\\end{tabular}\n"
      ],
      "text/markdown": [
       "\n",
       "A data.frame: 6 × 1\n",
       "\n",
       "| <!--/--> | DOM_Interlab-LCMS_Lab1_PPL_blank_Pos_MS2.mzML &lt;dbl&gt; |\n",
       "|---|---|\n",
       "| 834_150.128_1.052 | 81619.78 |\n",
       "| 1458_150.128_3.194 |     0.00 |\n",
       "| 1418_150.128_3.173 |     0.00 |\n",
       "| 30_151.035_0.653 |     0.00 |\n",
       "| 991_151.035_1.312 | 98517.07 |\n",
       "| 7137_151.075_6.002 |     0.00 |\n",
       "\n"
      ],
      "text/plain": [
       "                   DOM_Interlab-LCMS_Lab1_PPL_blank_Pos_MS2.mzML\n",
       "834_150.128_1.052  81619.78                                     \n",
       "1458_150.128_3.194     0.00                                     \n",
       "1418_150.128_3.173     0.00                                     \n",
       "30_151.035_0.653       0.00                                     \n",
       "991_151.035_1.312  98517.07                                     \n",
       "7137_151.075_6.002     0.00                                     "
      ]
     },
     "metadata": {},
     "output_type": "display_data"
    },
    {
     "data": {
      "text/html": [
       "<style>\n",
       ".list-inline {list-style: none; margin:0; padding: 0}\n",
       ".list-inline>li {display: inline-block}\n",
       ".list-inline>li:not(:last-child)::after {content: \"\\00b7\"; padding: 0 .5ex}\n",
       "</style>\n",
       "<ol class=list-inline><li>3726</li><li>1</li></ol>\n"
      ],
      "text/latex": [
       "\\begin{enumerate*}\n",
       "\\item 3726\n",
       "\\item 1\n",
       "\\end{enumerate*}\n"
      ],
      "text/markdown": [
       "1. 3726\n",
       "2. 1\n",
       "\n",
       "\n"
      ],
      "text/plain": [
       "[1] 3726    1"
      ]
     },
     "metadata": {},
     "output_type": "display_data"
    }
   ],
   "source": [
    "head(Blank)\n",
    "dim(Blank)"
   ]
  },
  {
   "cell_type": "code",
   "execution_count": 28,
   "id": "37531ef9",
   "metadata": {},
   "outputs": [
    {
     "data": {
      "text/html": [
       "<table class=\"dataframe\">\n",
       "<caption>A data.frame: 6 × 12</caption>\n",
       "<thead>\n",
       "\t<tr><th></th><th scope=col>DOM_Interlab-LCMS_Lab1_A15M_Pos_MS2_rep1.mzML</th><th scope=col>DOM_Interlab-LCMS_Lab1_A15M_Pos_MS2_rep2.mzML</th><th scope=col>DOM_Interlab-LCMS_Lab1_A15M_Pos_MS2_rep3.mzML</th><th scope=col>DOM_Interlab-LCMS_Lab1_A45M_Pos_MS2_rep1.mzML</th><th scope=col>DOM_Interlab-LCMS_Lab1_A45M_Pos_MS2_rep2.mzML</th><th scope=col>DOM_Interlab-LCMS_Lab1_A45M_Pos_MS2_rep3.mzML</th><th scope=col>DOM_Interlab-LCMS_Lab1_A5M_Pos_MS2_rep1.mzML</th><th scope=col>DOM_Interlab-LCMS_Lab1_A5M_Pos_MS2_rep2.mzML</th><th scope=col>DOM_Interlab-LCMS_Lab1_A5M_Pos_MS2_rep3.mzML</th><th scope=col>DOM_Interlab-LCMS_Lab1_M_Pos_MS2_rep1.mzML</th><th scope=col>DOM_Interlab-LCMS_Lab1_M_Pos_MS2_rep2.mzML</th><th scope=col>DOM_Interlab-LCMS_Lab1_M_Pos_MS2_rep3.mzML</th></tr>\n",
       "\t<tr><th></th><th scope=col>&lt;dbl&gt;</th><th scope=col>&lt;dbl&gt;</th><th scope=col>&lt;dbl&gt;</th><th scope=col>&lt;dbl&gt;</th><th scope=col>&lt;dbl&gt;</th><th scope=col>&lt;dbl&gt;</th><th scope=col>&lt;dbl&gt;</th><th scope=col>&lt;dbl&gt;</th><th scope=col>&lt;dbl&gt;</th><th scope=col>&lt;dbl&gt;</th><th scope=col>&lt;dbl&gt;</th><th scope=col>&lt;dbl&gt;</th></tr>\n",
       "</thead>\n",
       "<tbody>\n",
       "\t<tr><th scope=row>834_150.128_1.052</th><td>     0.00</td><td>     0.00</td><td>     0.00</td><td>     0.00</td><td>     0.00</td><td>     0.00</td><td>     0.00</td><td>     0.00</td><td>     0.00</td><td>     0.00</td><td>     0.00</td><td>     0.00</td></tr>\n",
       "\t<tr><th scope=row>1458_150.128_3.194</th><td>175378.06</td><td> 63048.62</td><td> 35095.74</td><td> 76711.62</td><td> 73032.68</td><td> 86292.55</td><td>160484.12</td><td> 90376.30</td><td> 69219.23</td><td> 89184.16</td><td>     0.00</td><td>174635.88</td></tr>\n",
       "\t<tr><th scope=row>1418_150.128_3.173</th><td> 91746.70</td><td>168632.83</td><td>190752.25</td><td>155348.86</td><td>179107.34</td><td>182786.73</td><td>     0.00</td><td>180862.78</td><td>170407.94</td><td>182752.95</td><td>202764.25</td><td>100635.78</td></tr>\n",
       "\t<tr><th scope=row>30_151.035_0.653</th><td>223716.30</td><td>221928.16</td><td>244421.44</td><td>216268.95</td><td>245133.69</td><td>250871.08</td><td>227419.23</td><td>234767.06</td><td>245521.73</td><td>249818.03</td><td>227996.84</td><td>261982.14</td></tr>\n",
       "\t<tr><th scope=row>991_151.035_1.312</th><td>     0.00</td><td>     0.00</td><td>     0.00</td><td>     0.00</td><td>     0.00</td><td>     0.00</td><td>     0.00</td><td>     0.00</td><td>     0.00</td><td>     0.00</td><td>     0.00</td><td>     0.00</td></tr>\n",
       "\t<tr><th scope=row>7137_151.075_6.002</th><td> 89922.16</td><td> 90066.02</td><td> 93198.79</td><td> 44915.14</td><td> 44900.08</td><td> 37633.26</td><td> 49160.88</td><td> 65025.47</td><td> 61488.17</td><td> 73358.59</td><td> 55780.67</td><td> 74299.41</td></tr>\n",
       "</tbody>\n",
       "</table>\n"
      ],
      "text/latex": [
       "A data.frame: 6 × 12\n",
       "\\begin{tabular}{r|llllllllllll}\n",
       "  & DOM\\_Interlab-LCMS\\_Lab1\\_A15M\\_Pos\\_MS2\\_rep1.mzML & DOM\\_Interlab-LCMS\\_Lab1\\_A15M\\_Pos\\_MS2\\_rep2.mzML & DOM\\_Interlab-LCMS\\_Lab1\\_A15M\\_Pos\\_MS2\\_rep3.mzML & DOM\\_Interlab-LCMS\\_Lab1\\_A45M\\_Pos\\_MS2\\_rep1.mzML & DOM\\_Interlab-LCMS\\_Lab1\\_A45M\\_Pos\\_MS2\\_rep2.mzML & DOM\\_Interlab-LCMS\\_Lab1\\_A45M\\_Pos\\_MS2\\_rep3.mzML & DOM\\_Interlab-LCMS\\_Lab1\\_A5M\\_Pos\\_MS2\\_rep1.mzML & DOM\\_Interlab-LCMS\\_Lab1\\_A5M\\_Pos\\_MS2\\_rep2.mzML & DOM\\_Interlab-LCMS\\_Lab1\\_A5M\\_Pos\\_MS2\\_rep3.mzML & DOM\\_Interlab-LCMS\\_Lab1\\_M\\_Pos\\_MS2\\_rep1.mzML & DOM\\_Interlab-LCMS\\_Lab1\\_M\\_Pos\\_MS2\\_rep2.mzML & DOM\\_Interlab-LCMS\\_Lab1\\_M\\_Pos\\_MS2\\_rep3.mzML\\\\\n",
       "  & <dbl> & <dbl> & <dbl> & <dbl> & <dbl> & <dbl> & <dbl> & <dbl> & <dbl> & <dbl> & <dbl> & <dbl>\\\\\n",
       "\\hline\n",
       "\t834\\_150.128\\_1.052 &      0.00 &      0.00 &      0.00 &      0.00 &      0.00 &      0.00 &      0.00 &      0.00 &      0.00 &      0.00 &      0.00 &      0.00\\\\\n",
       "\t1458\\_150.128\\_3.194 & 175378.06 &  63048.62 &  35095.74 &  76711.62 &  73032.68 &  86292.55 & 160484.12 &  90376.30 &  69219.23 &  89184.16 &      0.00 & 174635.88\\\\\n",
       "\t1418\\_150.128\\_3.173 &  91746.70 & 168632.83 & 190752.25 & 155348.86 & 179107.34 & 182786.73 &      0.00 & 180862.78 & 170407.94 & 182752.95 & 202764.25 & 100635.78\\\\\n",
       "\t30\\_151.035\\_0.653 & 223716.30 & 221928.16 & 244421.44 & 216268.95 & 245133.69 & 250871.08 & 227419.23 & 234767.06 & 245521.73 & 249818.03 & 227996.84 & 261982.14\\\\\n",
       "\t991\\_151.035\\_1.312 &      0.00 &      0.00 &      0.00 &      0.00 &      0.00 &      0.00 &      0.00 &      0.00 &      0.00 &      0.00 &      0.00 &      0.00\\\\\n",
       "\t7137\\_151.075\\_6.002 &  89922.16 &  90066.02 &  93198.79 &  44915.14 &  44900.08 &  37633.26 &  49160.88 &  65025.47 &  61488.17 &  73358.59 &  55780.67 &  74299.41\\\\\n",
       "\\end{tabular}\n"
      ],
      "text/markdown": [
       "\n",
       "A data.frame: 6 × 12\n",
       "\n",
       "| <!--/--> | DOM_Interlab-LCMS_Lab1_A15M_Pos_MS2_rep1.mzML &lt;dbl&gt; | DOM_Interlab-LCMS_Lab1_A15M_Pos_MS2_rep2.mzML &lt;dbl&gt; | DOM_Interlab-LCMS_Lab1_A15M_Pos_MS2_rep3.mzML &lt;dbl&gt; | DOM_Interlab-LCMS_Lab1_A45M_Pos_MS2_rep1.mzML &lt;dbl&gt; | DOM_Interlab-LCMS_Lab1_A45M_Pos_MS2_rep2.mzML &lt;dbl&gt; | DOM_Interlab-LCMS_Lab1_A45M_Pos_MS2_rep3.mzML &lt;dbl&gt; | DOM_Interlab-LCMS_Lab1_A5M_Pos_MS2_rep1.mzML &lt;dbl&gt; | DOM_Interlab-LCMS_Lab1_A5M_Pos_MS2_rep2.mzML &lt;dbl&gt; | DOM_Interlab-LCMS_Lab1_A5M_Pos_MS2_rep3.mzML &lt;dbl&gt; | DOM_Interlab-LCMS_Lab1_M_Pos_MS2_rep1.mzML &lt;dbl&gt; | DOM_Interlab-LCMS_Lab1_M_Pos_MS2_rep2.mzML &lt;dbl&gt; | DOM_Interlab-LCMS_Lab1_M_Pos_MS2_rep3.mzML &lt;dbl&gt; |\n",
       "|---|---|---|---|---|---|---|---|---|---|---|---|---|\n",
       "| 834_150.128_1.052 |      0.00 |      0.00 |      0.00 |      0.00 |      0.00 |      0.00 |      0.00 |      0.00 |      0.00 |      0.00 |      0.00 |      0.00 |\n",
       "| 1458_150.128_3.194 | 175378.06 |  63048.62 |  35095.74 |  76711.62 |  73032.68 |  86292.55 | 160484.12 |  90376.30 |  69219.23 |  89184.16 |      0.00 | 174635.88 |\n",
       "| 1418_150.128_3.173 |  91746.70 | 168632.83 | 190752.25 | 155348.86 | 179107.34 | 182786.73 |      0.00 | 180862.78 | 170407.94 | 182752.95 | 202764.25 | 100635.78 |\n",
       "| 30_151.035_0.653 | 223716.30 | 221928.16 | 244421.44 | 216268.95 | 245133.69 | 250871.08 | 227419.23 | 234767.06 | 245521.73 | 249818.03 | 227996.84 | 261982.14 |\n",
       "| 991_151.035_1.312 |      0.00 |      0.00 |      0.00 |      0.00 |      0.00 |      0.00 |      0.00 |      0.00 |      0.00 |      0.00 |      0.00 |      0.00 |\n",
       "| 7137_151.075_6.002 |  89922.16 |  90066.02 |  93198.79 |  44915.14 |  44900.08 |  37633.26 |  49160.88 |  65025.47 |  61488.17 |  73358.59 |  55780.67 |  74299.41 |\n",
       "\n"
      ],
      "text/plain": [
       "                   DOM_Interlab-LCMS_Lab1_A15M_Pos_MS2_rep1.mzML\n",
       "834_150.128_1.052       0.00                                    \n",
       "1458_150.128_3.194 175378.06                                    \n",
       "1418_150.128_3.173  91746.70                                    \n",
       "30_151.035_0.653   223716.30                                    \n",
       "991_151.035_1.312       0.00                                    \n",
       "7137_151.075_6.002  89922.16                                    \n",
       "                   DOM_Interlab-LCMS_Lab1_A15M_Pos_MS2_rep2.mzML\n",
       "834_150.128_1.052       0.00                                    \n",
       "1458_150.128_3.194  63048.62                                    \n",
       "1418_150.128_3.173 168632.83                                    \n",
       "30_151.035_0.653   221928.16                                    \n",
       "991_151.035_1.312       0.00                                    \n",
       "7137_151.075_6.002  90066.02                                    \n",
       "                   DOM_Interlab-LCMS_Lab1_A15M_Pos_MS2_rep3.mzML\n",
       "834_150.128_1.052       0.00                                    \n",
       "1458_150.128_3.194  35095.74                                    \n",
       "1418_150.128_3.173 190752.25                                    \n",
       "30_151.035_0.653   244421.44                                    \n",
       "991_151.035_1.312       0.00                                    \n",
       "7137_151.075_6.002  93198.79                                    \n",
       "                   DOM_Interlab-LCMS_Lab1_A45M_Pos_MS2_rep1.mzML\n",
       "834_150.128_1.052       0.00                                    \n",
       "1458_150.128_3.194  76711.62                                    \n",
       "1418_150.128_3.173 155348.86                                    \n",
       "30_151.035_0.653   216268.95                                    \n",
       "991_151.035_1.312       0.00                                    \n",
       "7137_151.075_6.002  44915.14                                    \n",
       "                   DOM_Interlab-LCMS_Lab1_A45M_Pos_MS2_rep2.mzML\n",
       "834_150.128_1.052       0.00                                    \n",
       "1458_150.128_3.194  73032.68                                    \n",
       "1418_150.128_3.173 179107.34                                    \n",
       "30_151.035_0.653   245133.69                                    \n",
       "991_151.035_1.312       0.00                                    \n",
       "7137_151.075_6.002  44900.08                                    \n",
       "                   DOM_Interlab-LCMS_Lab1_A45M_Pos_MS2_rep3.mzML\n",
       "834_150.128_1.052       0.00                                    \n",
       "1458_150.128_3.194  86292.55                                    \n",
       "1418_150.128_3.173 182786.73                                    \n",
       "30_151.035_0.653   250871.08                                    \n",
       "991_151.035_1.312       0.00                                    \n",
       "7137_151.075_6.002  37633.26                                    \n",
       "                   DOM_Interlab-LCMS_Lab1_A5M_Pos_MS2_rep1.mzML\n",
       "834_150.128_1.052       0.00                                   \n",
       "1458_150.128_3.194 160484.12                                   \n",
       "1418_150.128_3.173      0.00                                   \n",
       "30_151.035_0.653   227419.23                                   \n",
       "991_151.035_1.312       0.00                                   \n",
       "7137_151.075_6.002  49160.88                                   \n",
       "                   DOM_Interlab-LCMS_Lab1_A5M_Pos_MS2_rep2.mzML\n",
       "834_150.128_1.052       0.00                                   \n",
       "1458_150.128_3.194  90376.30                                   \n",
       "1418_150.128_3.173 180862.78                                   \n",
       "30_151.035_0.653   234767.06                                   \n",
       "991_151.035_1.312       0.00                                   \n",
       "7137_151.075_6.002  65025.47                                   \n",
       "                   DOM_Interlab-LCMS_Lab1_A5M_Pos_MS2_rep3.mzML\n",
       "834_150.128_1.052       0.00                                   \n",
       "1458_150.128_3.194  69219.23                                   \n",
       "1418_150.128_3.173 170407.94                                   \n",
       "30_151.035_0.653   245521.73                                   \n",
       "991_151.035_1.312       0.00                                   \n",
       "7137_151.075_6.002  61488.17                                   \n",
       "                   DOM_Interlab-LCMS_Lab1_M_Pos_MS2_rep1.mzML\n",
       "834_150.128_1.052       0.00                                 \n",
       "1458_150.128_3.194  89184.16                                 \n",
       "1418_150.128_3.173 182752.95                                 \n",
       "30_151.035_0.653   249818.03                                 \n",
       "991_151.035_1.312       0.00                                 \n",
       "7137_151.075_6.002  73358.59                                 \n",
       "                   DOM_Interlab-LCMS_Lab1_M_Pos_MS2_rep2.mzML\n",
       "834_150.128_1.052       0.00                                 \n",
       "1458_150.128_3.194      0.00                                 \n",
       "1418_150.128_3.173 202764.25                                 \n",
       "30_151.035_0.653   227996.84                                 \n",
       "991_151.035_1.312       0.00                                 \n",
       "7137_151.075_6.002  55780.67                                 \n",
       "                   DOM_Interlab-LCMS_Lab1_M_Pos_MS2_rep3.mzML\n",
       "834_150.128_1.052       0.00                                 \n",
       "1458_150.128_3.194 174635.88                                 \n",
       "1418_150.128_3.173 100635.78                                 \n",
       "30_151.035_0.653   261982.14                                 \n",
       "991_151.035_1.312       0.00                                 \n",
       "7137_151.075_6.002  74299.41                                 "
      ]
     },
     "metadata": {},
     "output_type": "display_data"
    },
    {
     "data": {
      "text/html": [
       "<style>\n",
       ".list-inline {list-style: none; margin:0; padding: 0}\n",
       ".list-inline>li {display: inline-block}\n",
       ".list-inline>li:not(:last-child)::after {content: \"\\00b7\"; padding: 0 .5ex}\n",
       "</style>\n",
       "<ol class=list-inline><li>3726</li><li>12</li></ol>\n"
      ],
      "text/latex": [
       "\\begin{enumerate*}\n",
       "\\item 3726\n",
       "\\item 12\n",
       "\\end{enumerate*}\n"
      ],
      "text/markdown": [
       "1. 3726\n",
       "2. 12\n",
       "\n",
       "\n"
      ],
      "text/plain": [
       "[1] 3726   12"
      ]
     },
     "metadata": {},
     "output_type": "display_data"
    }
   ],
   "source": [
    "head(Samples)\n",
    "dim(Samples)"
   ]
  },
  {
   "cell_type": "markdown",
   "id": "105ce796",
   "metadata": {},
   "source": [
    "**Now that we have our data ready, we can start with the cleanup steps!!**"
   ]
  },
  {
   "cell_type": "markdown",
   "id": "43099574",
   "metadata": {
    "toc-hr-collapsed": true
   },
   "source": [
    "# Step1: Blank Removal\n",
    "\n",
    "<p style='text-align: justify;'> In LC-MS/MS, we use solvents called Blanks which are usually injected time-to-time to prevent carryover of the sample. The features coming from these Blanks would also be detected by LC-MS/MS instrument. Our goal here is to remove these features from our samples. The other blanks that can be removed are: Signals coming from growth media alone in terms of microbial growth experiment, signals from the solvent used for extraction methods and so on. Therefore, it is best practice to measure mass spectra of these blanks as well in addition to your sample spectra. </p>\n",
    "\n",
    "**How do we remove these blank features?** </br> \n",
    "<p style='text-align: justify;'> Since we have the feature table split into Control blanks and Sample groups now, we can compare blanks to the sample to identify the background features coming from blanks. A common filtering method is to use a cutoff to remove features that are not present sufficient enough in our biological samples. </p>\n",
    "\n",
    "The steps followed in the next few cells are:\n",
    "1. <p style='text-align: justify;'> We find an average for all the feature intensities in your blank set and sample set. Therefore, for n no.of features in a blank or sample set, we get n no.of averaged features. </p>\n",
    "2. <p style='text-align: justify;'> Next, we get a ratio of this average_blanks vs average_sample. This ratio Blank/sample tells us how much of that particular feature of a sample gets its contribution from blanks. If it is more than 30% (or Cutoff as 0.3), we consider the feature as noise. </p>\n",
    "3. <p style='text-align: justify;'> The resultant information (if ratio > Cutoff or not) is stored in a bin such as 1 = Noise or background signal, 0 = Feature Signal</p>\n",
    "4. <p style='text-align: justify;'> We count the no.of features in the bin that satisfies the condition ratio > cutoff, and consider those features as 'noise or background features' and remove them. </p>\n",
    "\n",
    "For a dataset containing several batches or groups, the filtering steps are performed group-wise as in the previous section [Subsetting the dataset](#data_split)"
   ]
  },
  {
   "cell_type": "markdown",
   "id": "74eaf47e",
   "metadata": {},
   "source": [
    "**<font color='red'> The Cutoff used to obtain the all the files in MZmine Results folder is 0.3 </font>**"
   ]
  },
  {
   "cell_type": "code",
   "execution_count": 29,
   "id": "b25ea36a",
   "metadata": {},
   "outputs": [
    {
     "name": "stdout",
     "output_type": "stream",
     "text": [
      "Do you want to perform Blank Removal- Y/N:y\n",
      "Enter Cutoff value between 0.1 & 1:0.3\n",
      "[1] \"No of NA values in the following columns:\"\n",
      "         Avg_blank        Avg_samples Ratio_blank_Sample             Bg_bin \n",
      "                 0                  0                  0                  0 \n",
      "[1] \"No.of Background or noise features: 123\"\n",
      "[1] \"No.of features after excluding noise: 3603\"\n"
     ]
    }
   ],
   "source": [
    "if(casefold(readline('Do you want to perform Blank Removal- Y/N:'),upper=T)=='Y'){\n",
    "    \n",
    "    #When cutoff is low, more noise (or background) detected; With higher cutoff, less background detected, thus more features observed\n",
    "    Cutoff <- as.numeric(readline('Enter Cutoff value between 0.1 & 1:')) # (i.e. 10% - 100%). Ideal cutoff range: 0.1-0.3\n",
    "    \n",
    "    #Getting mean for every feature in blank and Samples\n",
    "    Avg_blank <- rowMeans(Blank, na.rm= FALSE, dims = 1) # set na.rm = FALSE to check if there are NA values. When set as TRUE, NA values are changed to 0\n",
    "    Avg_samples <- rowMeans(Samples, na.rm= FALSE, dims = 1)\n",
    "    \n",
    "    #Getting the ratio of blank vs Sample\n",
    "    Ratio_blank_Sample <- (Avg_blank+1)/(Avg_samples+1)\n",
    "    \n",
    "    # Creating a bin with 1s when the ratio>Cutoff, else put 0s\n",
    "    Bg_bin <- ifelse(Ratio_blank_Sample > Cutoff, 1, 0 )\n",
    "    Blank_removal <- cbind(Samples,Bg_bin)\n",
    "\n",
    "    # Checking if there are any NA values present. Having NA values in the 4 variables will affect the final dataset to be created\n",
    "    temp_NA_Count <-cbind(Avg_blank ,Avg_samples,Ratio_blank_Sample,Bg_bin)\n",
    "    \n",
    "    print('No of NA values in the following columns:')\n",
    "    print(colSums(is.na(temp_NA_Count)))\n",
    "\n",
    "     #Calculating the number of background features and features present\n",
    "    print(paste(\"No.of Background or noise features:\",sum(Bg_bin ==1,na.rm = TRUE)))\n",
    "    print(paste(\"No.of features after excluding noise:\",(nrow(Samples) - sum(Bg_bin ==1,na.rm = TRUE)))) \n",
    "\n",
    "    Blank_removal <- Blank_removal %>% filter(Bg_bin == 0) # Taking only the feature signals\n",
    "    Blank_removal <- as.matrix(Blank_removal[,-ncol(Blank_removal)]) # removing the last column Bg_bin \n",
    "}"
   ]
  },
  {
   "cell_type": "code",
   "execution_count": 30,
   "id": "80ac7878",
   "metadata": {},
   "outputs": [],
   "source": [
    "write.csv(Blank_removal,file.path(fName,'Blanks_Removed.csv'),row.names =TRUE)"
   ]
  },
  {
   "cell_type": "code",
   "execution_count": 31,
   "id": "81cbd3f6",
   "metadata": {},
   "outputs": [
    {
     "data": {
      "text/html": [
       "<table class=\"dataframe\">\n",
       "<caption>A matrix: 6 × 12 of type dbl</caption>\n",
       "<thead>\n",
       "\t<tr><th></th><th scope=col>DOM_Interlab-LCMS_Lab1_A15M_Pos_MS2_rep1.mzML</th><th scope=col>DOM_Interlab-LCMS_Lab1_A15M_Pos_MS2_rep2.mzML</th><th scope=col>DOM_Interlab-LCMS_Lab1_A15M_Pos_MS2_rep3.mzML</th><th scope=col>DOM_Interlab-LCMS_Lab1_A45M_Pos_MS2_rep1.mzML</th><th scope=col>DOM_Interlab-LCMS_Lab1_A45M_Pos_MS2_rep2.mzML</th><th scope=col>DOM_Interlab-LCMS_Lab1_A45M_Pos_MS2_rep3.mzML</th><th scope=col>DOM_Interlab-LCMS_Lab1_A5M_Pos_MS2_rep1.mzML</th><th scope=col>DOM_Interlab-LCMS_Lab1_A5M_Pos_MS2_rep2.mzML</th><th scope=col>DOM_Interlab-LCMS_Lab1_A5M_Pos_MS2_rep3.mzML</th><th scope=col>DOM_Interlab-LCMS_Lab1_M_Pos_MS2_rep1.mzML</th><th scope=col>DOM_Interlab-LCMS_Lab1_M_Pos_MS2_rep2.mzML</th><th scope=col>DOM_Interlab-LCMS_Lab1_M_Pos_MS2_rep3.mzML</th></tr>\n",
       "</thead>\n",
       "<tbody>\n",
       "\t<tr><th scope=row>1458_150.128_3.194</th><td>175378.06</td><td> 63048.62</td><td> 35095.74</td><td> 76711.62</td><td> 73032.68</td><td> 86292.55</td><td>160484.12</td><td> 90376.30</td><td> 69219.23</td><td> 89184.16</td><td>     0.00</td><td>174635.88</td></tr>\n",
       "\t<tr><th scope=row>1418_150.128_3.173</th><td> 91746.70</td><td>168632.83</td><td>190752.25</td><td>155348.86</td><td>179107.34</td><td>182786.73</td><td>     0.00</td><td>180862.78</td><td>170407.94</td><td>182752.95</td><td>202764.25</td><td>100635.78</td></tr>\n",
       "\t<tr><th scope=row>30_151.035_0.653</th><td>223716.30</td><td>221928.16</td><td>244421.44</td><td>216268.95</td><td>245133.69</td><td>250871.08</td><td>227419.23</td><td>234767.06</td><td>245521.73</td><td>249818.03</td><td>227996.84</td><td>261982.14</td></tr>\n",
       "\t<tr><th scope=row>7137_151.075_6.002</th><td> 89922.16</td><td> 90066.02</td><td> 93198.79</td><td> 44915.14</td><td> 44900.08</td><td> 37633.26</td><td> 49160.88</td><td> 65025.47</td><td> 61488.17</td><td> 73358.59</td><td> 55780.67</td><td> 74299.41</td></tr>\n",
       "\t<tr><th scope=row>6905_151.075_5.937</th><td>101775.16</td><td>104670.17</td><td>107405.55</td><td> 53007.94</td><td> 51043.58</td><td> 68598.52</td><td> 79641.20</td><td> 73830.05</td><td> 80961.45</td><td> 97414.86</td><td>159626.53</td><td> 95220.12</td></tr>\n",
       "\t<tr><th scope=row>5684_151.075_5.554</th><td>136473.77</td><td>121630.62</td><td>117858.12</td><td> 46253.16</td><td> 44306.28</td><td> 47347.21</td><td> 97025.55</td><td> 84017.76</td><td> 90049.81</td><td> 85658.11</td><td> 84897.24</td><td>106373.97</td></tr>\n",
       "</tbody>\n",
       "</table>\n"
      ],
      "text/latex": [
       "A matrix: 6 × 12 of type dbl\n",
       "\\begin{tabular}{r|llllllllllll}\n",
       "  & DOM\\_Interlab-LCMS\\_Lab1\\_A15M\\_Pos\\_MS2\\_rep1.mzML & DOM\\_Interlab-LCMS\\_Lab1\\_A15M\\_Pos\\_MS2\\_rep2.mzML & DOM\\_Interlab-LCMS\\_Lab1\\_A15M\\_Pos\\_MS2\\_rep3.mzML & DOM\\_Interlab-LCMS\\_Lab1\\_A45M\\_Pos\\_MS2\\_rep1.mzML & DOM\\_Interlab-LCMS\\_Lab1\\_A45M\\_Pos\\_MS2\\_rep2.mzML & DOM\\_Interlab-LCMS\\_Lab1\\_A45M\\_Pos\\_MS2\\_rep3.mzML & DOM\\_Interlab-LCMS\\_Lab1\\_A5M\\_Pos\\_MS2\\_rep1.mzML & DOM\\_Interlab-LCMS\\_Lab1\\_A5M\\_Pos\\_MS2\\_rep2.mzML & DOM\\_Interlab-LCMS\\_Lab1\\_A5M\\_Pos\\_MS2\\_rep3.mzML & DOM\\_Interlab-LCMS\\_Lab1\\_M\\_Pos\\_MS2\\_rep1.mzML & DOM\\_Interlab-LCMS\\_Lab1\\_M\\_Pos\\_MS2\\_rep2.mzML & DOM\\_Interlab-LCMS\\_Lab1\\_M\\_Pos\\_MS2\\_rep3.mzML\\\\\n",
       "\\hline\n",
       "\t1458\\_150.128\\_3.194 & 175378.06 &  63048.62 &  35095.74 &  76711.62 &  73032.68 &  86292.55 & 160484.12 &  90376.30 &  69219.23 &  89184.16 &      0.00 & 174635.88\\\\\n",
       "\t1418\\_150.128\\_3.173 &  91746.70 & 168632.83 & 190752.25 & 155348.86 & 179107.34 & 182786.73 &      0.00 & 180862.78 & 170407.94 & 182752.95 & 202764.25 & 100635.78\\\\\n",
       "\t30\\_151.035\\_0.653 & 223716.30 & 221928.16 & 244421.44 & 216268.95 & 245133.69 & 250871.08 & 227419.23 & 234767.06 & 245521.73 & 249818.03 & 227996.84 & 261982.14\\\\\n",
       "\t7137\\_151.075\\_6.002 &  89922.16 &  90066.02 &  93198.79 &  44915.14 &  44900.08 &  37633.26 &  49160.88 &  65025.47 &  61488.17 &  73358.59 &  55780.67 &  74299.41\\\\\n",
       "\t6905\\_151.075\\_5.937 & 101775.16 & 104670.17 & 107405.55 &  53007.94 &  51043.58 &  68598.52 &  79641.20 &  73830.05 &  80961.45 &  97414.86 & 159626.53 &  95220.12\\\\\n",
       "\t5684\\_151.075\\_5.554 & 136473.77 & 121630.62 & 117858.12 &  46253.16 &  44306.28 &  47347.21 &  97025.55 &  84017.76 &  90049.81 &  85658.11 &  84897.24 & 106373.97\\\\\n",
       "\\end{tabular}\n"
      ],
      "text/markdown": [
       "\n",
       "A matrix: 6 × 12 of type dbl\n",
       "\n",
       "| <!--/--> | DOM_Interlab-LCMS_Lab1_A15M_Pos_MS2_rep1.mzML | DOM_Interlab-LCMS_Lab1_A15M_Pos_MS2_rep2.mzML | DOM_Interlab-LCMS_Lab1_A15M_Pos_MS2_rep3.mzML | DOM_Interlab-LCMS_Lab1_A45M_Pos_MS2_rep1.mzML | DOM_Interlab-LCMS_Lab1_A45M_Pos_MS2_rep2.mzML | DOM_Interlab-LCMS_Lab1_A45M_Pos_MS2_rep3.mzML | DOM_Interlab-LCMS_Lab1_A5M_Pos_MS2_rep1.mzML | DOM_Interlab-LCMS_Lab1_A5M_Pos_MS2_rep2.mzML | DOM_Interlab-LCMS_Lab1_A5M_Pos_MS2_rep3.mzML | DOM_Interlab-LCMS_Lab1_M_Pos_MS2_rep1.mzML | DOM_Interlab-LCMS_Lab1_M_Pos_MS2_rep2.mzML | DOM_Interlab-LCMS_Lab1_M_Pos_MS2_rep3.mzML |\n",
       "|---|---|---|---|---|---|---|---|---|---|---|---|---|\n",
       "| 1458_150.128_3.194 | 175378.06 |  63048.62 |  35095.74 |  76711.62 |  73032.68 |  86292.55 | 160484.12 |  90376.30 |  69219.23 |  89184.16 |      0.00 | 174635.88 |\n",
       "| 1418_150.128_3.173 |  91746.70 | 168632.83 | 190752.25 | 155348.86 | 179107.34 | 182786.73 |      0.00 | 180862.78 | 170407.94 | 182752.95 | 202764.25 | 100635.78 |\n",
       "| 30_151.035_0.653 | 223716.30 | 221928.16 | 244421.44 | 216268.95 | 245133.69 | 250871.08 | 227419.23 | 234767.06 | 245521.73 | 249818.03 | 227996.84 | 261982.14 |\n",
       "| 7137_151.075_6.002 |  89922.16 |  90066.02 |  93198.79 |  44915.14 |  44900.08 |  37633.26 |  49160.88 |  65025.47 |  61488.17 |  73358.59 |  55780.67 |  74299.41 |\n",
       "| 6905_151.075_5.937 | 101775.16 | 104670.17 | 107405.55 |  53007.94 |  51043.58 |  68598.52 |  79641.20 |  73830.05 |  80961.45 |  97414.86 | 159626.53 |  95220.12 |\n",
       "| 5684_151.075_5.554 | 136473.77 | 121630.62 | 117858.12 |  46253.16 |  44306.28 |  47347.21 |  97025.55 |  84017.76 |  90049.81 |  85658.11 |  84897.24 | 106373.97 |\n",
       "\n"
      ],
      "text/plain": [
       "                   DOM_Interlab-LCMS_Lab1_A15M_Pos_MS2_rep1.mzML\n",
       "1458_150.128_3.194 175378.06                                    \n",
       "1418_150.128_3.173  91746.70                                    \n",
       "30_151.035_0.653   223716.30                                    \n",
       "7137_151.075_6.002  89922.16                                    \n",
       "6905_151.075_5.937 101775.16                                    \n",
       "5684_151.075_5.554 136473.77                                    \n",
       "                   DOM_Interlab-LCMS_Lab1_A15M_Pos_MS2_rep2.mzML\n",
       "1458_150.128_3.194  63048.62                                    \n",
       "1418_150.128_3.173 168632.83                                    \n",
       "30_151.035_0.653   221928.16                                    \n",
       "7137_151.075_6.002  90066.02                                    \n",
       "6905_151.075_5.937 104670.17                                    \n",
       "5684_151.075_5.554 121630.62                                    \n",
       "                   DOM_Interlab-LCMS_Lab1_A15M_Pos_MS2_rep3.mzML\n",
       "1458_150.128_3.194  35095.74                                    \n",
       "1418_150.128_3.173 190752.25                                    \n",
       "30_151.035_0.653   244421.44                                    \n",
       "7137_151.075_6.002  93198.79                                    \n",
       "6905_151.075_5.937 107405.55                                    \n",
       "5684_151.075_5.554 117858.12                                    \n",
       "                   DOM_Interlab-LCMS_Lab1_A45M_Pos_MS2_rep1.mzML\n",
       "1458_150.128_3.194  76711.62                                    \n",
       "1418_150.128_3.173 155348.86                                    \n",
       "30_151.035_0.653   216268.95                                    \n",
       "7137_151.075_6.002  44915.14                                    \n",
       "6905_151.075_5.937  53007.94                                    \n",
       "5684_151.075_5.554  46253.16                                    \n",
       "                   DOM_Interlab-LCMS_Lab1_A45M_Pos_MS2_rep2.mzML\n",
       "1458_150.128_3.194  73032.68                                    \n",
       "1418_150.128_3.173 179107.34                                    \n",
       "30_151.035_0.653   245133.69                                    \n",
       "7137_151.075_6.002  44900.08                                    \n",
       "6905_151.075_5.937  51043.58                                    \n",
       "5684_151.075_5.554  44306.28                                    \n",
       "                   DOM_Interlab-LCMS_Lab1_A45M_Pos_MS2_rep3.mzML\n",
       "1458_150.128_3.194  86292.55                                    \n",
       "1418_150.128_3.173 182786.73                                    \n",
       "30_151.035_0.653   250871.08                                    \n",
       "7137_151.075_6.002  37633.26                                    \n",
       "6905_151.075_5.937  68598.52                                    \n",
       "5684_151.075_5.554  47347.21                                    \n",
       "                   DOM_Interlab-LCMS_Lab1_A5M_Pos_MS2_rep1.mzML\n",
       "1458_150.128_3.194 160484.12                                   \n",
       "1418_150.128_3.173      0.00                                   \n",
       "30_151.035_0.653   227419.23                                   \n",
       "7137_151.075_6.002  49160.88                                   \n",
       "6905_151.075_5.937  79641.20                                   \n",
       "5684_151.075_5.554  97025.55                                   \n",
       "                   DOM_Interlab-LCMS_Lab1_A5M_Pos_MS2_rep2.mzML\n",
       "1458_150.128_3.194  90376.30                                   \n",
       "1418_150.128_3.173 180862.78                                   \n",
       "30_151.035_0.653   234767.06                                   \n",
       "7137_151.075_6.002  65025.47                                   \n",
       "6905_151.075_5.937  73830.05                                   \n",
       "5684_151.075_5.554  84017.76                                   \n",
       "                   DOM_Interlab-LCMS_Lab1_A5M_Pos_MS2_rep3.mzML\n",
       "1458_150.128_3.194  69219.23                                   \n",
       "1418_150.128_3.173 170407.94                                   \n",
       "30_151.035_0.653   245521.73                                   \n",
       "7137_151.075_6.002  61488.17                                   \n",
       "6905_151.075_5.937  80961.45                                   \n",
       "5684_151.075_5.554  90049.81                                   \n",
       "                   DOM_Interlab-LCMS_Lab1_M_Pos_MS2_rep1.mzML\n",
       "1458_150.128_3.194  89184.16                                 \n",
       "1418_150.128_3.173 182752.95                                 \n",
       "30_151.035_0.653   249818.03                                 \n",
       "7137_151.075_6.002  73358.59                                 \n",
       "6905_151.075_5.937  97414.86                                 \n",
       "5684_151.075_5.554  85658.11                                 \n",
       "                   DOM_Interlab-LCMS_Lab1_M_Pos_MS2_rep2.mzML\n",
       "1458_150.128_3.194      0.00                                 \n",
       "1418_150.128_3.173 202764.25                                 \n",
       "30_151.035_0.653   227996.84                                 \n",
       "7137_151.075_6.002  55780.67                                 \n",
       "6905_151.075_5.937 159626.53                                 \n",
       "5684_151.075_5.554  84897.24                                 \n",
       "                   DOM_Interlab-LCMS_Lab1_M_Pos_MS2_rep3.mzML\n",
       "1458_150.128_3.194 174635.88                                 \n",
       "1418_150.128_3.173 100635.78                                 \n",
       "30_151.035_0.653   261982.14                                 \n",
       "7137_151.075_6.002  74299.41                                 \n",
       "6905_151.075_5.937  95220.12                                 \n",
       "5684_151.075_5.554 106373.97                                 "
      ]
     },
     "metadata": {},
     "output_type": "display_data"
    },
    {
     "data": {
      "text/html": [
       "<style>\n",
       ".list-inline {list-style: none; margin:0; padding: 0}\n",
       ".list-inline>li {display: inline-block}\n",
       ".list-inline>li:not(:last-child)::after {content: \"\\00b7\"; padding: 0 .5ex}\n",
       "</style>\n",
       "<ol class=list-inline><li>3603</li><li>12</li></ol>\n"
      ],
      "text/latex": [
       "\\begin{enumerate*}\n",
       "\\item 3603\n",
       "\\item 12\n",
       "\\end{enumerate*}\n"
      ],
      "text/markdown": [
       "1. 3603\n",
       "2. 12\n",
       "\n",
       "\n"
      ],
      "text/plain": [
       "[1] 3603   12"
      ]
     },
     "metadata": {},
     "output_type": "display_data"
    }
   ],
   "source": [
    "head(Blank_removal)\n",
    "dim(Blank_removal)"
   ]
  },
  {
   "cell_type": "markdown",
   "id": "b4210007",
   "metadata": {
    "toc-hr-collapsed": true
   },
   "source": [
    "# Step 2: Imputation\n",
    "\n",
    "<p style='text-align: justify;'> For several reasons, real world datasets might have some missing values in it, in the form of NA, NANs or 0s. Eventhough the gapfilling step of MZmine fills the missing values, we still end up with some missing values or 0s in our feature table. This could be problematic for statistical analysis. </p> \n",
    "<p style='text-align: justify;'> In order to have a better dataset, we cannot simply discard those rows or columns with missing values as we will lose a chunk of our valuable data. Instead we can try imputing those missing values. Imputation involves replacing the missing values in the data with a meaningful, reasonable guess. There are several methods, such as: </p> \n",
    "  \n",
    "1) Mean imputation (replacing the missing values in a column with the mean or average of the column)  \n",
    "2) Replacing it with the most frequent value  \n",
    "3) Several other machine learning imputation methods such as k-nearest neighbors algorithm(k-NN), Hidden Markov Model(HMM)\n",
    "\n",
    "Here, we use ft and see the frquency distribution of its features with the ggplot. It shows where the features are present in higher number."
   ]
  },
  {
   "cell_type": "code",
   "execution_count": 32,
   "id": "3283cf75-38ec-46fb-b321-7ba6c69c6d64",
   "metadata": {},
   "outputs": [
    {
     "name": "stdout",
     "output_type": "stream",
     "text": [
      "[1] \"The minimum value greater than 0 in gap-filled table: 452\"\n"
     ]
    },
    {
     "data": {
      "image/png": "[encoded data removed]",
      "text/plain": [
       "plot without title"
      ]
     },
     "metadata": {
      "image/png": {
       "height": 180,
       "width": 300
      }
     },
     "output_type": "display_data"
    }
   ],
   "source": [
    "#creating bins from -1 to 10^10 using sequence function seq()\n",
    "bins <- c(-1,0,(1 * 10^(seq(0,10,1)))) \n",
    "    \n",
    "#cut function cuts the give table into its appropriate bins\n",
    "scores_gapfilled <- cut(as.matrix(Blank_removal),bins,labels = c('0','1','10','1E2','1E3','1E4','1E5','1E6','1E7','1E8','1E9','1E10')) \n",
    "    \n",
    "#transform function convert the tables into a column format: easy for visualization \n",
    "FreqTable<-transform(table(scores_gapfilled)) #contains 2 columns: \"scores_x1\", \"Freq\"\n",
    "FreqTable$Log_Freq <- log(FreqTable$Freq+1) #Log scaling the frequency values\n",
    "\n",
    "colnames(FreqTable)[1] <- 'Range_Bins'\n",
    "#FreqTable #Uncomment the line if you want to see the FreqTable used for the following ggplot.\n",
    "\n",
    "## GGPLOT2\n",
    "ggplot(FreqTable, aes(Range_Bins, Log_Freq))+ \n",
    "    geom_bar(stat=\"identity\",position = \"dodge\", width=0.3) + \n",
    "    scale_fill_brewer(palette = \"Set1\") +\n",
    "    ggtitle(label=\"Frequency plot - Gap Filled\") +\n",
    "    xlab(\"Range\") + ylab(\"(Log)Frequency\") + \n",
    "    theme(axis.text.x = element_text(angle = 90, vjust = 0.5, hjust=1)) +   # setting the angle for the x label\n",
    "    theme(axis.text.y = element_text(angle = 45, vjust = 0.5, hjust=1)) +   # setting the angle for the y label\n",
    "    theme(plot.title = element_text(hjust = 0.5))\n",
    "\n",
    "Cutoff_LOD <- round(min(Blank_removal[Blank_removal!=min(Blank_removal)]))\n",
    "print(paste0(\"The minimum value greater than 0 in gap-filled table: \",Cutoff_LOD)) "
   ]
  },
  {
   "cell_type": "markdown",
   "id": "b0d06451",
   "metadata": {},
   "source": [
    "This minimum value will be used for imputation."
   ]
  },
  {
   "cell_type": "code",
   "execution_count": 33,
   "id": "30f8f811",
   "metadata": {},
   "outputs": [
    {
     "name": "stdout",
     "output_type": "stream",
     "text": [
      "Do you want to perform Imputation? - Y/N:y\n"
     ]
    },
    {
     "data": {
      "text/html": [
       "<table class=\"dataframe\">\n",
       "<caption>A matrix: 6 × 12 of type dbl</caption>\n",
       "<thead>\n",
       "\t<tr><th></th><th scope=col>DOM_Interlab-LCMS_Lab1_A15M_Pos_MS2_rep1.mzML</th><th scope=col>DOM_Interlab-LCMS_Lab1_A15M_Pos_MS2_rep2.mzML</th><th scope=col>DOM_Interlab-LCMS_Lab1_A15M_Pos_MS2_rep3.mzML</th><th scope=col>DOM_Interlab-LCMS_Lab1_A45M_Pos_MS2_rep1.mzML</th><th scope=col>DOM_Interlab-LCMS_Lab1_A45M_Pos_MS2_rep2.mzML</th><th scope=col>DOM_Interlab-LCMS_Lab1_A45M_Pos_MS2_rep3.mzML</th><th scope=col>DOM_Interlab-LCMS_Lab1_A5M_Pos_MS2_rep1.mzML</th><th scope=col>DOM_Interlab-LCMS_Lab1_A5M_Pos_MS2_rep2.mzML</th><th scope=col>DOM_Interlab-LCMS_Lab1_A5M_Pos_MS2_rep3.mzML</th><th scope=col>DOM_Interlab-LCMS_Lab1_M_Pos_MS2_rep1.mzML</th><th scope=col>DOM_Interlab-LCMS_Lab1_M_Pos_MS2_rep2.mzML</th><th scope=col>DOM_Interlab-LCMS_Lab1_M_Pos_MS2_rep3.mzML</th></tr>\n",
       "</thead>\n",
       "<tbody>\n",
       "\t<tr><th scope=row>1458_150.128_3.194</th><td>175378.06</td><td> 63048.62</td><td> 35095.74</td><td> 76711.62</td><td> 73032.68</td><td> 86292.55</td><td>160484.12</td><td> 90376.30</td><td> 69219.23</td><td> 89184.16</td><td>   452.00</td><td>174635.88</td></tr>\n",
       "\t<tr><th scope=row>1418_150.128_3.173</th><td> 91746.70</td><td>168632.83</td><td>190752.25</td><td>155348.86</td><td>179107.34</td><td>182786.73</td><td>   452.00</td><td>180862.78</td><td>170407.94</td><td>182752.95</td><td>202764.25</td><td>100635.78</td></tr>\n",
       "\t<tr><th scope=row>30_151.035_0.653</th><td>223716.30</td><td>221928.16</td><td>244421.44</td><td>216268.95</td><td>245133.69</td><td>250871.08</td><td>227419.23</td><td>234767.06</td><td>245521.73</td><td>249818.03</td><td>227996.84</td><td>261982.14</td></tr>\n",
       "\t<tr><th scope=row>7137_151.075_6.002</th><td> 89922.16</td><td> 90066.02</td><td> 93198.79</td><td> 44915.14</td><td> 44900.08</td><td> 37633.26</td><td> 49160.88</td><td> 65025.47</td><td> 61488.17</td><td> 73358.59</td><td> 55780.67</td><td> 74299.41</td></tr>\n",
       "\t<tr><th scope=row>6905_151.075_5.937</th><td>101775.16</td><td>104670.17</td><td>107405.55</td><td> 53007.94</td><td> 51043.58</td><td> 68598.52</td><td> 79641.20</td><td> 73830.05</td><td> 80961.45</td><td> 97414.86</td><td>159626.53</td><td> 95220.12</td></tr>\n",
       "\t<tr><th scope=row>5684_151.075_5.554</th><td>136473.77</td><td>121630.62</td><td>117858.12</td><td> 46253.16</td><td> 44306.28</td><td> 47347.21</td><td> 97025.55</td><td> 84017.76</td><td> 90049.81</td><td> 85658.11</td><td> 84897.24</td><td>106373.97</td></tr>\n",
       "</tbody>\n",
       "</table>\n"
      ],
      "text/latex": [
       "A matrix: 6 × 12 of type dbl\n",
       "\\begin{tabular}{r|llllllllllll}\n",
       "  & DOM\\_Interlab-LCMS\\_Lab1\\_A15M\\_Pos\\_MS2\\_rep1.mzML & DOM\\_Interlab-LCMS\\_Lab1\\_A15M\\_Pos\\_MS2\\_rep2.mzML & DOM\\_Interlab-LCMS\\_Lab1\\_A15M\\_Pos\\_MS2\\_rep3.mzML & DOM\\_Interlab-LCMS\\_Lab1\\_A45M\\_Pos\\_MS2\\_rep1.mzML & DOM\\_Interlab-LCMS\\_Lab1\\_A45M\\_Pos\\_MS2\\_rep2.mzML & DOM\\_Interlab-LCMS\\_Lab1\\_A45M\\_Pos\\_MS2\\_rep3.mzML & DOM\\_Interlab-LCMS\\_Lab1\\_A5M\\_Pos\\_MS2\\_rep1.mzML & DOM\\_Interlab-LCMS\\_Lab1\\_A5M\\_Pos\\_MS2\\_rep2.mzML & DOM\\_Interlab-LCMS\\_Lab1\\_A5M\\_Pos\\_MS2\\_rep3.mzML & DOM\\_Interlab-LCMS\\_Lab1\\_M\\_Pos\\_MS2\\_rep1.mzML & DOM\\_Interlab-LCMS\\_Lab1\\_M\\_Pos\\_MS2\\_rep2.mzML & DOM\\_Interlab-LCMS\\_Lab1\\_M\\_Pos\\_MS2\\_rep3.mzML\\\\\n",
       "\\hline\n",
       "\t1458\\_150.128\\_3.194 & 175378.06 &  63048.62 &  35095.74 &  76711.62 &  73032.68 &  86292.55 & 160484.12 &  90376.30 &  69219.23 &  89184.16 &    452.00 & 174635.88\\\\\n",
       "\t1418\\_150.128\\_3.173 &  91746.70 & 168632.83 & 190752.25 & 155348.86 & 179107.34 & 182786.73 &    452.00 & 180862.78 & 170407.94 & 182752.95 & 202764.25 & 100635.78\\\\\n",
       "\t30\\_151.035\\_0.653 & 223716.30 & 221928.16 & 244421.44 & 216268.95 & 245133.69 & 250871.08 & 227419.23 & 234767.06 & 245521.73 & 249818.03 & 227996.84 & 261982.14\\\\\n",
       "\t7137\\_151.075\\_6.002 &  89922.16 &  90066.02 &  93198.79 &  44915.14 &  44900.08 &  37633.26 &  49160.88 &  65025.47 &  61488.17 &  73358.59 &  55780.67 &  74299.41\\\\\n",
       "\t6905\\_151.075\\_5.937 & 101775.16 & 104670.17 & 107405.55 &  53007.94 &  51043.58 &  68598.52 &  79641.20 &  73830.05 &  80961.45 &  97414.86 & 159626.53 &  95220.12\\\\\n",
       "\t5684\\_151.075\\_5.554 & 136473.77 & 121630.62 & 117858.12 &  46253.16 &  44306.28 &  47347.21 &  97025.55 &  84017.76 &  90049.81 &  85658.11 &  84897.24 & 106373.97\\\\\n",
       "\\end{tabular}\n"
      ],
      "text/markdown": [
       "\n",
       "A matrix: 6 × 12 of type dbl\n",
       "\n",
       "| <!--/--> | DOM_Interlab-LCMS_Lab1_A15M_Pos_MS2_rep1.mzML | DOM_Interlab-LCMS_Lab1_A15M_Pos_MS2_rep2.mzML | DOM_Interlab-LCMS_Lab1_A15M_Pos_MS2_rep3.mzML | DOM_Interlab-LCMS_Lab1_A45M_Pos_MS2_rep1.mzML | DOM_Interlab-LCMS_Lab1_A45M_Pos_MS2_rep2.mzML | DOM_Interlab-LCMS_Lab1_A45M_Pos_MS2_rep3.mzML | DOM_Interlab-LCMS_Lab1_A5M_Pos_MS2_rep1.mzML | DOM_Interlab-LCMS_Lab1_A5M_Pos_MS2_rep2.mzML | DOM_Interlab-LCMS_Lab1_A5M_Pos_MS2_rep3.mzML | DOM_Interlab-LCMS_Lab1_M_Pos_MS2_rep1.mzML | DOM_Interlab-LCMS_Lab1_M_Pos_MS2_rep2.mzML | DOM_Interlab-LCMS_Lab1_M_Pos_MS2_rep3.mzML |\n",
       "|---|---|---|---|---|---|---|---|---|---|---|---|---|\n",
       "| 1458_150.128_3.194 | 175378.06 |  63048.62 |  35095.74 |  76711.62 |  73032.68 |  86292.55 | 160484.12 |  90376.30 |  69219.23 |  89184.16 |    452.00 | 174635.88 |\n",
       "| 1418_150.128_3.173 |  91746.70 | 168632.83 | 190752.25 | 155348.86 | 179107.34 | 182786.73 |    452.00 | 180862.78 | 170407.94 | 182752.95 | 202764.25 | 100635.78 |\n",
       "| 30_151.035_0.653 | 223716.30 | 221928.16 | 244421.44 | 216268.95 | 245133.69 | 250871.08 | 227419.23 | 234767.06 | 245521.73 | 249818.03 | 227996.84 | 261982.14 |\n",
       "| 7137_151.075_6.002 |  89922.16 |  90066.02 |  93198.79 |  44915.14 |  44900.08 |  37633.26 |  49160.88 |  65025.47 |  61488.17 |  73358.59 |  55780.67 |  74299.41 |\n",
       "| 6905_151.075_5.937 | 101775.16 | 104670.17 | 107405.55 |  53007.94 |  51043.58 |  68598.52 |  79641.20 |  73830.05 |  80961.45 |  97414.86 | 159626.53 |  95220.12 |\n",
       "| 5684_151.075_5.554 | 136473.77 | 121630.62 | 117858.12 |  46253.16 |  44306.28 |  47347.21 |  97025.55 |  84017.76 |  90049.81 |  85658.11 |  84897.24 | 106373.97 |\n",
       "\n"
      ],
      "text/plain": [
       "                   DOM_Interlab-LCMS_Lab1_A15M_Pos_MS2_rep1.mzML\n",
       "1458_150.128_3.194 175378.06                                    \n",
       "1418_150.128_3.173  91746.70                                    \n",
       "30_151.035_0.653   223716.30                                    \n",
       "7137_151.075_6.002  89922.16                                    \n",
       "6905_151.075_5.937 101775.16                                    \n",
       "5684_151.075_5.554 136473.77                                    \n",
       "                   DOM_Interlab-LCMS_Lab1_A15M_Pos_MS2_rep2.mzML\n",
       "1458_150.128_3.194  63048.62                                    \n",
       "1418_150.128_3.173 168632.83                                    \n",
       "30_151.035_0.653   221928.16                                    \n",
       "7137_151.075_6.002  90066.02                                    \n",
       "6905_151.075_5.937 104670.17                                    \n",
       "5684_151.075_5.554 121630.62                                    \n",
       "                   DOM_Interlab-LCMS_Lab1_A15M_Pos_MS2_rep3.mzML\n",
       "1458_150.128_3.194  35095.74                                    \n",
       "1418_150.128_3.173 190752.25                                    \n",
       "30_151.035_0.653   244421.44                                    \n",
       "7137_151.075_6.002  93198.79                                    \n",
       "6905_151.075_5.937 107405.55                                    \n",
       "5684_151.075_5.554 117858.12                                    \n",
       "                   DOM_Interlab-LCMS_Lab1_A45M_Pos_MS2_rep1.mzML\n",
       "1458_150.128_3.194  76711.62                                    \n",
       "1418_150.128_3.173 155348.86                                    \n",
       "30_151.035_0.653   216268.95                                    \n",
       "7137_151.075_6.002  44915.14                                    \n",
       "6905_151.075_5.937  53007.94                                    \n",
       "5684_151.075_5.554  46253.16                                    \n",
       "                   DOM_Interlab-LCMS_Lab1_A45M_Pos_MS2_rep2.mzML\n",
       "1458_150.128_3.194  73032.68                                    \n",
       "1418_150.128_3.173 179107.34                                    \n",
       "30_151.035_0.653   245133.69                                    \n",
       "7137_151.075_6.002  44900.08                                    \n",
       "6905_151.075_5.937  51043.58                                    \n",
       "5684_151.075_5.554  44306.28                                    \n",
       "                   DOM_Interlab-LCMS_Lab1_A45M_Pos_MS2_rep3.mzML\n",
       "1458_150.128_3.194  86292.55                                    \n",
       "1418_150.128_3.173 182786.73                                    \n",
       "30_151.035_0.653   250871.08                                    \n",
       "7137_151.075_6.002  37633.26                                    \n",
       "6905_151.075_5.937  68598.52                                    \n",
       "5684_151.075_5.554  47347.21                                    \n",
       "                   DOM_Interlab-LCMS_Lab1_A5M_Pos_MS2_rep1.mzML\n",
       "1458_150.128_3.194 160484.12                                   \n",
       "1418_150.128_3.173    452.00                                   \n",
       "30_151.035_0.653   227419.23                                   \n",
       "7137_151.075_6.002  49160.88                                   \n",
       "6905_151.075_5.937  79641.20                                   \n",
       "5684_151.075_5.554  97025.55                                   \n",
       "                   DOM_Interlab-LCMS_Lab1_A5M_Pos_MS2_rep2.mzML\n",
       "1458_150.128_3.194  90376.30                                   \n",
       "1418_150.128_3.173 180862.78                                   \n",
       "30_151.035_0.653   234767.06                                   \n",
       "7137_151.075_6.002  65025.47                                   \n",
       "6905_151.075_5.937  73830.05                                   \n",
       "5684_151.075_5.554  84017.76                                   \n",
       "                   DOM_Interlab-LCMS_Lab1_A5M_Pos_MS2_rep3.mzML\n",
       "1458_150.128_3.194  69219.23                                   \n",
       "1418_150.128_3.173 170407.94                                   \n",
       "30_151.035_0.653   245521.73                                   \n",
       "7137_151.075_6.002  61488.17                                   \n",
       "6905_151.075_5.937  80961.45                                   \n",
       "5684_151.075_5.554  90049.81                                   \n",
       "                   DOM_Interlab-LCMS_Lab1_M_Pos_MS2_rep1.mzML\n",
       "1458_150.128_3.194  89184.16                                 \n",
       "1418_150.128_3.173 182752.95                                 \n",
       "30_151.035_0.653   249818.03                                 \n",
       "7137_151.075_6.002  73358.59                                 \n",
       "6905_151.075_5.937  97414.86                                 \n",
       "5684_151.075_5.554  85658.11                                 \n",
       "                   DOM_Interlab-LCMS_Lab1_M_Pos_MS2_rep2.mzML\n",
       "1458_150.128_3.194    452.00                                 \n",
       "1418_150.128_3.173 202764.25                                 \n",
       "30_151.035_0.653   227996.84                                 \n",
       "7137_151.075_6.002  55780.67                                 \n",
       "6905_151.075_5.937 159626.53                                 \n",
       "5684_151.075_5.554  84897.24                                 \n",
       "                   DOM_Interlab-LCMS_Lab1_M_Pos_MS2_rep3.mzML\n",
       "1458_150.128_3.194 174635.88                                 \n",
       "1418_150.128_3.173 100635.78                                 \n",
       "30_151.035_0.653   261982.14                                 \n",
       "7137_151.075_6.002  74299.41                                 \n",
       "6905_151.075_5.937  95220.12                                 \n",
       "5684_151.075_5.554 106373.97                                 "
      ]
     },
     "metadata": {},
     "output_type": "display_data"
    }
   ],
   "source": [
    "if(casefold(readline('Do you want to perform Imputation? - Y/N:'),upper=T) == 'Y'){\n",
    "    Imputed <- Blank_removal\n",
    "    Imputed[Imputed <Cutoff_LOD] <- Cutoff_LOD\n",
    "    head(Imputed)\n",
    "}"
   ]
  },
  {
   "cell_type": "code",
   "execution_count": 34,
   "id": "a67865b8",
   "metadata": {},
   "outputs": [
    {
     "data": {
      "text/html": [
       "<style>\n",
       ".list-inline {list-style: none; margin:0; padding: 0}\n",
       ".list-inline>li {display: inline-block}\n",
       ".list-inline>li:not(:last-child)::after {content: \"\\00b7\"; padding: 0 .5ex}\n",
       "</style>\n",
       "<ol class=list-inline><li>3603</li><li>12</li></ol>\n"
      ],
      "text/latex": [
       "\\begin{enumerate*}\n",
       "\\item 3603\n",
       "\\item 12\n",
       "\\end{enumerate*}\n"
      ],
      "text/markdown": [
       "1. 3603\n",
       "2. 12\n",
       "\n",
       "\n"
      ],
      "text/plain": [
       "[1] 3603   12"
      ]
     },
     "metadata": {},
     "output_type": "display_data"
    }
   ],
   "source": [
    "dim(Imputed)"
   ]
  },
  {
   "cell_type": "code",
   "execution_count": 35,
   "id": "ed071fa7",
   "metadata": {},
   "outputs": [],
   "source": [
    "write.csv(Imputed,file.path(fName,paste0('Imputed_QuantTable_filled_with_',Cutoff_LOD,'_CutOff_Used_',Cutoff,'.csv')),row.names =TRUE)"
   ]
  },
  {
   "cell_type": "code",
   "execution_count": 36,
   "id": "8f428856",
   "metadata": {},
   "outputs": [],
   "source": [
    "#removing all the rows with only cutoff values:\n",
    "#Imputed<-Imputed[rowMeans(Imputed)!= Cutoff_LOD,]  "
   ]
  },
  {
   "cell_type": "markdown",
   "id": "f06a2dd7",
   "metadata": {},
   "source": [
    "# Step 3:Normalization\n",
    "The following code performs sample-centric (column-wise) normalisation:"
   ]
  },
  {
   "cell_type": "code",
   "execution_count": 43,
   "id": "3a008a7a",
   "metadata": {},
   "outputs": [
    {
     "name": "stdout",
     "output_type": "stream",
     "text": [
      "Do you want to perform Normalization: Y/N:Y\n"
     ]
    },
    {
     "data": {
      "text/html": [
       "<table class=\"dataframe\">\n",
       "<caption>A matrix: 6 × 12 of type dbl</caption>\n",
       "<thead>\n",
       "\t<tr><th></th><th scope=col>DOM_Interlab-LCMS_Lab1_A15M_Pos_MS2_rep1.mzML</th><th scope=col>DOM_Interlab-LCMS_Lab1_A15M_Pos_MS2_rep2.mzML</th><th scope=col>DOM_Interlab-LCMS_Lab1_A15M_Pos_MS2_rep3.mzML</th><th scope=col>DOM_Interlab-LCMS_Lab1_A45M_Pos_MS2_rep1.mzML</th><th scope=col>DOM_Interlab-LCMS_Lab1_A45M_Pos_MS2_rep2.mzML</th><th scope=col>DOM_Interlab-LCMS_Lab1_A45M_Pos_MS2_rep3.mzML</th><th scope=col>DOM_Interlab-LCMS_Lab1_A5M_Pos_MS2_rep1.mzML</th><th scope=col>DOM_Interlab-LCMS_Lab1_A5M_Pos_MS2_rep2.mzML</th><th scope=col>DOM_Interlab-LCMS_Lab1_A5M_Pos_MS2_rep3.mzML</th><th scope=col>DOM_Interlab-LCMS_Lab1_M_Pos_MS2_rep1.mzML</th><th scope=col>DOM_Interlab-LCMS_Lab1_M_Pos_MS2_rep2.mzML</th><th scope=col>DOM_Interlab-LCMS_Lab1_M_Pos_MS2_rep3.mzML</th></tr>\n",
       "</thead>\n",
       "<tbody>\n",
       "\t<tr><th scope=row>1458_150.128_3.194</th><td>0.0002338955</td><td>8.240035e-05</td><td>4.532787e-05</td><td>1.125837e-04</td><td>1.072988e-04</td><td>1.254771e-04</td><td>2.606901e-04</td><td>0.0001442873</td><td>1.091388e-04</td><td>0.0001318381</td><td>6.560964e-07</td><td>0.0002480838</td></tr>\n",
       "\t<tr><th scope=row>1418_150.128_3.173</th><td>0.0001223593</td><td>2.203919e-04</td><td>2.463659e-04</td><td>2.279936e-04</td><td>2.631426e-04</td><td>2.657883e-04</td><td>7.342280e-07</td><td>0.0002887505</td><td>2.686842e-04</td><td>0.0002701578</td><td>2.943206e-04</td><td>0.0001429610</td></tr>\n",
       "\t<tr><th scope=row>30_151.035_0.653</th><td>0.0002983624</td><td>2.900453e-04</td><td>3.156823e-04</td><td>3.174013e-04</td><td>3.601478e-04</td><td>3.647890e-04</td><td>3.694194e-04</td><td>0.0003748096</td><td>3.871170e-04</td><td>0.0003692980</td><td>3.309467e-04</td><td>0.0003721660</td></tr>\n",
       "\t<tr><th scope=row>7137_151.075_6.002</th><td>0.0001199260</td><td>1.177103e-04</td><td>1.203708e-04</td><td>6.591851e-05</td><td>6.596672e-05</td><td>5.472213e-05</td><td>7.985685e-05</td><td>0.0001038143</td><td>9.694911e-05</td><td>0.0001084436</td><td>8.096791e-05</td><td>0.0001055481</td></tr>\n",
       "\t<tr><th scope=row>6905_151.075_5.937</th><td>0.0001357339</td><td>1.367969e-04</td><td>1.387195e-04</td><td>7.779568e-05</td><td>7.499268e-05</td><td>9.974839e-05</td><td>1.293690e-04</td><td>0.0001178709</td><td>1.276529e-04</td><td>0.0001440053</td><td>2.317044e-04</td><td>0.0001352676</td></tr>\n",
       "\t<tr><th scope=row>5684_151.075_5.554</th><td>0.0001820102</td><td>1.589631e-04</td><td>1.522195e-04</td><td>6.788221e-05</td><td>6.509431e-05</td><td>6.884709e-05</td><td>1.576081e-04</td><td>0.0001341358</td><td>1.419826e-04</td><td>0.0001266256</td><td>1.232318e-04</td><td>0.0001511125</td></tr>\n",
       "</tbody>\n",
       "</table>\n"
      ],
      "text/latex": [
       "A matrix: 6 × 12 of type dbl\n",
       "\\begin{tabular}{r|llllllllllll}\n",
       "  & DOM\\_Interlab-LCMS\\_Lab1\\_A15M\\_Pos\\_MS2\\_rep1.mzML & DOM\\_Interlab-LCMS\\_Lab1\\_A15M\\_Pos\\_MS2\\_rep2.mzML & DOM\\_Interlab-LCMS\\_Lab1\\_A15M\\_Pos\\_MS2\\_rep3.mzML & DOM\\_Interlab-LCMS\\_Lab1\\_A45M\\_Pos\\_MS2\\_rep1.mzML & DOM\\_Interlab-LCMS\\_Lab1\\_A45M\\_Pos\\_MS2\\_rep2.mzML & DOM\\_Interlab-LCMS\\_Lab1\\_A45M\\_Pos\\_MS2\\_rep3.mzML & DOM\\_Interlab-LCMS\\_Lab1\\_A5M\\_Pos\\_MS2\\_rep1.mzML & DOM\\_Interlab-LCMS\\_Lab1\\_A5M\\_Pos\\_MS2\\_rep2.mzML & DOM\\_Interlab-LCMS\\_Lab1\\_A5M\\_Pos\\_MS2\\_rep3.mzML & DOM\\_Interlab-LCMS\\_Lab1\\_M\\_Pos\\_MS2\\_rep1.mzML & DOM\\_Interlab-LCMS\\_Lab1\\_M\\_Pos\\_MS2\\_rep2.mzML & DOM\\_Interlab-LCMS\\_Lab1\\_M\\_Pos\\_MS2\\_rep3.mzML\\\\\n",
       "\\hline\n",
       "\t1458\\_150.128\\_3.194 & 0.0002338955 & 8.240035e-05 & 4.532787e-05 & 1.125837e-04 & 1.072988e-04 & 1.254771e-04 & 2.606901e-04 & 0.0001442873 & 1.091388e-04 & 0.0001318381 & 6.560964e-07 & 0.0002480838\\\\\n",
       "\t1418\\_150.128\\_3.173 & 0.0001223593 & 2.203919e-04 & 2.463659e-04 & 2.279936e-04 & 2.631426e-04 & 2.657883e-04 & 7.342280e-07 & 0.0002887505 & 2.686842e-04 & 0.0002701578 & 2.943206e-04 & 0.0001429610\\\\\n",
       "\t30\\_151.035\\_0.653 & 0.0002983624 & 2.900453e-04 & 3.156823e-04 & 3.174013e-04 & 3.601478e-04 & 3.647890e-04 & 3.694194e-04 & 0.0003748096 & 3.871170e-04 & 0.0003692980 & 3.309467e-04 & 0.0003721660\\\\\n",
       "\t7137\\_151.075\\_6.002 & 0.0001199260 & 1.177103e-04 & 1.203708e-04 & 6.591851e-05 & 6.596672e-05 & 5.472213e-05 & 7.985685e-05 & 0.0001038143 & 9.694911e-05 & 0.0001084436 & 8.096791e-05 & 0.0001055481\\\\\n",
       "\t6905\\_151.075\\_5.937 & 0.0001357339 & 1.367969e-04 & 1.387195e-04 & 7.779568e-05 & 7.499268e-05 & 9.974839e-05 & 1.293690e-04 & 0.0001178709 & 1.276529e-04 & 0.0001440053 & 2.317044e-04 & 0.0001352676\\\\\n",
       "\t5684\\_151.075\\_5.554 & 0.0001820102 & 1.589631e-04 & 1.522195e-04 & 6.788221e-05 & 6.509431e-05 & 6.884709e-05 & 1.576081e-04 & 0.0001341358 & 1.419826e-04 & 0.0001266256 & 1.232318e-04 & 0.0001511125\\\\\n",
       "\\end{tabular}\n"
      ],
      "text/markdown": [
       "\n",
       "A matrix: 6 × 12 of type dbl\n",
       "\n",
       "| <!--/--> | DOM_Interlab-LCMS_Lab1_A15M_Pos_MS2_rep1.mzML | DOM_Interlab-LCMS_Lab1_A15M_Pos_MS2_rep2.mzML | DOM_Interlab-LCMS_Lab1_A15M_Pos_MS2_rep3.mzML | DOM_Interlab-LCMS_Lab1_A45M_Pos_MS2_rep1.mzML | DOM_Interlab-LCMS_Lab1_A45M_Pos_MS2_rep2.mzML | DOM_Interlab-LCMS_Lab1_A45M_Pos_MS2_rep3.mzML | DOM_Interlab-LCMS_Lab1_A5M_Pos_MS2_rep1.mzML | DOM_Interlab-LCMS_Lab1_A5M_Pos_MS2_rep2.mzML | DOM_Interlab-LCMS_Lab1_A5M_Pos_MS2_rep3.mzML | DOM_Interlab-LCMS_Lab1_M_Pos_MS2_rep1.mzML | DOM_Interlab-LCMS_Lab1_M_Pos_MS2_rep2.mzML | DOM_Interlab-LCMS_Lab1_M_Pos_MS2_rep3.mzML |\n",
       "|---|---|---|---|---|---|---|---|---|---|---|---|---|\n",
       "| 1458_150.128_3.194 | 0.0002338955 | 8.240035e-05 | 4.532787e-05 | 1.125837e-04 | 1.072988e-04 | 1.254771e-04 | 2.606901e-04 | 0.0001442873 | 1.091388e-04 | 0.0001318381 | 6.560964e-07 | 0.0002480838 |\n",
       "| 1418_150.128_3.173 | 0.0001223593 | 2.203919e-04 | 2.463659e-04 | 2.279936e-04 | 2.631426e-04 | 2.657883e-04 | 7.342280e-07 | 0.0002887505 | 2.686842e-04 | 0.0002701578 | 2.943206e-04 | 0.0001429610 |\n",
       "| 30_151.035_0.653 | 0.0002983624 | 2.900453e-04 | 3.156823e-04 | 3.174013e-04 | 3.601478e-04 | 3.647890e-04 | 3.694194e-04 | 0.0003748096 | 3.871170e-04 | 0.0003692980 | 3.309467e-04 | 0.0003721660 |\n",
       "| 7137_151.075_6.002 | 0.0001199260 | 1.177103e-04 | 1.203708e-04 | 6.591851e-05 | 6.596672e-05 | 5.472213e-05 | 7.985685e-05 | 0.0001038143 | 9.694911e-05 | 0.0001084436 | 8.096791e-05 | 0.0001055481 |\n",
       "| 6905_151.075_5.937 | 0.0001357339 | 1.367969e-04 | 1.387195e-04 | 7.779568e-05 | 7.499268e-05 | 9.974839e-05 | 1.293690e-04 | 0.0001178709 | 1.276529e-04 | 0.0001440053 | 2.317044e-04 | 0.0001352676 |\n",
       "| 5684_151.075_5.554 | 0.0001820102 | 1.589631e-04 | 1.522195e-04 | 6.788221e-05 | 6.509431e-05 | 6.884709e-05 | 1.576081e-04 | 0.0001341358 | 1.419826e-04 | 0.0001266256 | 1.232318e-04 | 0.0001511125 |\n",
       "\n"
      ],
      "text/plain": [
       "                   DOM_Interlab-LCMS_Lab1_A15M_Pos_MS2_rep1.mzML\n",
       "1458_150.128_3.194 0.0002338955                                 \n",
       "1418_150.128_3.173 0.0001223593                                 \n",
       "30_151.035_0.653   0.0002983624                                 \n",
       "7137_151.075_6.002 0.0001199260                                 \n",
       "6905_151.075_5.937 0.0001357339                                 \n",
       "5684_151.075_5.554 0.0001820102                                 \n",
       "                   DOM_Interlab-LCMS_Lab1_A15M_Pos_MS2_rep2.mzML\n",
       "1458_150.128_3.194 8.240035e-05                                 \n",
       "1418_150.128_3.173 2.203919e-04                                 \n",
       "30_151.035_0.653   2.900453e-04                                 \n",
       "7137_151.075_6.002 1.177103e-04                                 \n",
       "6905_151.075_5.937 1.367969e-04                                 \n",
       "5684_151.075_5.554 1.589631e-04                                 \n",
       "                   DOM_Interlab-LCMS_Lab1_A15M_Pos_MS2_rep3.mzML\n",
       "1458_150.128_3.194 4.532787e-05                                 \n",
       "1418_150.128_3.173 2.463659e-04                                 \n",
       "30_151.035_0.653   3.156823e-04                                 \n",
       "7137_151.075_6.002 1.203708e-04                                 \n",
       "6905_151.075_5.937 1.387195e-04                                 \n",
       "5684_151.075_5.554 1.522195e-04                                 \n",
       "                   DOM_Interlab-LCMS_Lab1_A45M_Pos_MS2_rep1.mzML\n",
       "1458_150.128_3.194 1.125837e-04                                 \n",
       "1418_150.128_3.173 2.279936e-04                                 \n",
       "30_151.035_0.653   3.174013e-04                                 \n",
       "7137_151.075_6.002 6.591851e-05                                 \n",
       "6905_151.075_5.937 7.779568e-05                                 \n",
       "5684_151.075_5.554 6.788221e-05                                 \n",
       "                   DOM_Interlab-LCMS_Lab1_A45M_Pos_MS2_rep2.mzML\n",
       "1458_150.128_3.194 1.072988e-04                                 \n",
       "1418_150.128_3.173 2.631426e-04                                 \n",
       "30_151.035_0.653   3.601478e-04                                 \n",
       "7137_151.075_6.002 6.596672e-05                                 \n",
       "6905_151.075_5.937 7.499268e-05                                 \n",
       "5684_151.075_5.554 6.509431e-05                                 \n",
       "                   DOM_Interlab-LCMS_Lab1_A45M_Pos_MS2_rep3.mzML\n",
       "1458_150.128_3.194 1.254771e-04                                 \n",
       "1418_150.128_3.173 2.657883e-04                                 \n",
       "30_151.035_0.653   3.647890e-04                                 \n",
       "7137_151.075_6.002 5.472213e-05                                 \n",
       "6905_151.075_5.937 9.974839e-05                                 \n",
       "5684_151.075_5.554 6.884709e-05                                 \n",
       "                   DOM_Interlab-LCMS_Lab1_A5M_Pos_MS2_rep1.mzML\n",
       "1458_150.128_3.194 2.606901e-04                                \n",
       "1418_150.128_3.173 7.342280e-07                                \n",
       "30_151.035_0.653   3.694194e-04                                \n",
       "7137_151.075_6.002 7.985685e-05                                \n",
       "6905_151.075_5.937 1.293690e-04                                \n",
       "5684_151.075_5.554 1.576081e-04                                \n",
       "                   DOM_Interlab-LCMS_Lab1_A5M_Pos_MS2_rep2.mzML\n",
       "1458_150.128_3.194 0.0001442873                                \n",
       "1418_150.128_3.173 0.0002887505                                \n",
       "30_151.035_0.653   0.0003748096                                \n",
       "7137_151.075_6.002 0.0001038143                                \n",
       "6905_151.075_5.937 0.0001178709                                \n",
       "5684_151.075_5.554 0.0001341358                                \n",
       "                   DOM_Interlab-LCMS_Lab1_A5M_Pos_MS2_rep3.mzML\n",
       "1458_150.128_3.194 1.091388e-04                                \n",
       "1418_150.128_3.173 2.686842e-04                                \n",
       "30_151.035_0.653   3.871170e-04                                \n",
       "7137_151.075_6.002 9.694911e-05                                \n",
       "6905_151.075_5.937 1.276529e-04                                \n",
       "5684_151.075_5.554 1.419826e-04                                \n",
       "                   DOM_Interlab-LCMS_Lab1_M_Pos_MS2_rep1.mzML\n",
       "1458_150.128_3.194 0.0001318381                              \n",
       "1418_150.128_3.173 0.0002701578                              \n",
       "30_151.035_0.653   0.0003692980                              \n",
       "7137_151.075_6.002 0.0001084436                              \n",
       "6905_151.075_5.937 0.0001440053                              \n",
       "5684_151.075_5.554 0.0001266256                              \n",
       "                   DOM_Interlab-LCMS_Lab1_M_Pos_MS2_rep2.mzML\n",
       "1458_150.128_3.194 6.560964e-07                              \n",
       "1418_150.128_3.173 2.943206e-04                              \n",
       "30_151.035_0.653   3.309467e-04                              \n",
       "7137_151.075_6.002 8.096791e-05                              \n",
       "6905_151.075_5.937 2.317044e-04                              \n",
       "5684_151.075_5.554 1.232318e-04                              \n",
       "                   DOM_Interlab-LCMS_Lab1_M_Pos_MS2_rep3.mzML\n",
       "1458_150.128_3.194 0.0002480838                              \n",
       "1418_150.128_3.173 0.0001429610                              \n",
       "30_151.035_0.653   0.0003721660                              \n",
       "7137_151.075_6.002 0.0001055481                              \n",
       "6905_151.075_5.937 0.0001352676                              \n",
       "5684_151.075_5.554 0.0001511125                              "
      ]
     },
     "metadata": {},
     "output_type": "display_data"
    },
    {
     "name": "stdout",
     "output_type": "stream",
     "text": [
      "[1] \"No.of NA values in Normalized data: 0\"\n"
     ]
    }
   ],
   "source": [
    "if (casefold(readline(\"Do you want to perform sum Normalization: Y/N:\"),upper=T) == 'Y'){\n",
    "    #Getting column-wise sums of the input-data\n",
    "    sample_sum <- colSums(Imputed, na.rm= TRUE, dims = 1)\n",
    "    sample_sum_mat <- matrix(   rep(sample_sum, each = nrow(Imputed)),    nrow(Imputed),    ncol(Imputed)   )\n",
    "    \n",
    "    Normalized_data <- Imputed / sample_sum_mat\n",
    "    \n",
    "    colnames(Normalized_data) <- names(sample_sum)\n",
    "    \n",
    "    \n",
    "    head(Normalized_data)\n",
    "} else return(head(Imputed))\n",
    "  \n",
    "print(paste('No.of NA values in Normalized data:',sum(is.na(Normalized_data)== TRUE)))"
   ]
  },
  {
   "cell_type": "code",
   "execution_count": 53,
   "id": "c8bd2b93",
   "metadata": {},
   "outputs": [
    {
     "name": "stdout",
     "output_type": "stream",
     "text": [
      "Do you want to perform PQN Normalization: Y/N:Y\n"
     ]
    },
    {
     "data": {
      "text/html": [
       "<table class=\"dataframe\">\n",
       "<caption>A matrix: 6 × 12 of type dbl</caption>\n",
       "<thead>\n",
       "\t<tr><th></th><th scope=col>DOM_Interlab-LCMS_Lab1_A15M_Pos_MS2_rep1.mzML</th><th scope=col>DOM_Interlab-LCMS_Lab1_A15M_Pos_MS2_rep2.mzML</th><th scope=col>DOM_Interlab-LCMS_Lab1_A15M_Pos_MS2_rep3.mzML</th><th scope=col>DOM_Interlab-LCMS_Lab1_A45M_Pos_MS2_rep1.mzML</th><th scope=col>DOM_Interlab-LCMS_Lab1_A45M_Pos_MS2_rep2.mzML</th><th scope=col>DOM_Interlab-LCMS_Lab1_A45M_Pos_MS2_rep3.mzML</th><th scope=col>DOM_Interlab-LCMS_Lab1_A5M_Pos_MS2_rep1.mzML</th><th scope=col>DOM_Interlab-LCMS_Lab1_A5M_Pos_MS2_rep2.mzML</th><th scope=col>DOM_Interlab-LCMS_Lab1_A5M_Pos_MS2_rep3.mzML</th><th scope=col>DOM_Interlab-LCMS_Lab1_M_Pos_MS2_rep1.mzML</th><th scope=col>DOM_Interlab-LCMS_Lab1_M_Pos_MS2_rep2.mzML</th><th scope=col>DOM_Interlab-LCMS_Lab1_M_Pos_MS2_rep3.mzML</th></tr>\n",
       "</thead>\n",
       "<tbody>\n",
       "\t<tr><th scope=row>1458_150.128_3.194</th><td>0.0002338955</td><td>8.240035e-05</td><td>4.532787e-05</td><td>1.125837e-04</td><td>1.072988e-04</td><td>1.254771e-04</td><td>2.606901e-04</td><td>0.0001442873</td><td>1.091388e-04</td><td>0.0001318381</td><td>6.560964e-07</td><td>0.0002480838</td></tr>\n",
       "\t<tr><th scope=row>1418_150.128_3.173</th><td>0.0001223593</td><td>2.203919e-04</td><td>2.463659e-04</td><td>2.279936e-04</td><td>2.631426e-04</td><td>2.657883e-04</td><td>7.342280e-07</td><td>0.0002887505</td><td>2.686842e-04</td><td>0.0002701578</td><td>2.943206e-04</td><td>0.0001429610</td></tr>\n",
       "\t<tr><th scope=row>30_151.035_0.653</th><td>0.0002983624</td><td>2.900453e-04</td><td>3.156823e-04</td><td>3.174013e-04</td><td>3.601478e-04</td><td>3.647890e-04</td><td>3.694194e-04</td><td>0.0003748096</td><td>3.871170e-04</td><td>0.0003692980</td><td>3.309467e-04</td><td>0.0003721660</td></tr>\n",
       "\t<tr><th scope=row>7137_151.075_6.002</th><td>0.0001199260</td><td>1.177103e-04</td><td>1.203708e-04</td><td>6.591851e-05</td><td>6.596672e-05</td><td>5.472213e-05</td><td>7.985685e-05</td><td>0.0001038143</td><td>9.694911e-05</td><td>0.0001084436</td><td>8.096791e-05</td><td>0.0001055481</td></tr>\n",
       "\t<tr><th scope=row>6905_151.075_5.937</th><td>0.0001357339</td><td>1.367969e-04</td><td>1.387195e-04</td><td>7.779568e-05</td><td>7.499268e-05</td><td>9.974839e-05</td><td>1.293690e-04</td><td>0.0001178709</td><td>1.276529e-04</td><td>0.0001440053</td><td>2.317044e-04</td><td>0.0001352676</td></tr>\n",
       "\t<tr><th scope=row>5684_151.075_5.554</th><td>0.0001820102</td><td>1.589631e-04</td><td>1.522195e-04</td><td>6.788221e-05</td><td>6.509431e-05</td><td>6.884709e-05</td><td>1.576081e-04</td><td>0.0001341358</td><td>1.419826e-04</td><td>0.0001266256</td><td>1.232318e-04</td><td>0.0001511125</td></tr>\n",
       "</tbody>\n",
       "</table>\n"
      ],
      "text/latex": [
       "A matrix: 6 × 12 of type dbl\n",
       "\\begin{tabular}{r|llllllllllll}\n",
       "  & DOM\\_Interlab-LCMS\\_Lab1\\_A15M\\_Pos\\_MS2\\_rep1.mzML & DOM\\_Interlab-LCMS\\_Lab1\\_A15M\\_Pos\\_MS2\\_rep2.mzML & DOM\\_Interlab-LCMS\\_Lab1\\_A15M\\_Pos\\_MS2\\_rep3.mzML & DOM\\_Interlab-LCMS\\_Lab1\\_A45M\\_Pos\\_MS2\\_rep1.mzML & DOM\\_Interlab-LCMS\\_Lab1\\_A45M\\_Pos\\_MS2\\_rep2.mzML & DOM\\_Interlab-LCMS\\_Lab1\\_A45M\\_Pos\\_MS2\\_rep3.mzML & DOM\\_Interlab-LCMS\\_Lab1\\_A5M\\_Pos\\_MS2\\_rep1.mzML & DOM\\_Interlab-LCMS\\_Lab1\\_A5M\\_Pos\\_MS2\\_rep2.mzML & DOM\\_Interlab-LCMS\\_Lab1\\_A5M\\_Pos\\_MS2\\_rep3.mzML & DOM\\_Interlab-LCMS\\_Lab1\\_M\\_Pos\\_MS2\\_rep1.mzML & DOM\\_Interlab-LCMS\\_Lab1\\_M\\_Pos\\_MS2\\_rep2.mzML & DOM\\_Interlab-LCMS\\_Lab1\\_M\\_Pos\\_MS2\\_rep3.mzML\\\\\n",
       "\\hline\n",
       "\t1458\\_150.128\\_3.194 & 0.0002338955 & 8.240035e-05 & 4.532787e-05 & 1.125837e-04 & 1.072988e-04 & 1.254771e-04 & 2.606901e-04 & 0.0001442873 & 1.091388e-04 & 0.0001318381 & 6.560964e-07 & 0.0002480838\\\\\n",
       "\t1418\\_150.128\\_3.173 & 0.0001223593 & 2.203919e-04 & 2.463659e-04 & 2.279936e-04 & 2.631426e-04 & 2.657883e-04 & 7.342280e-07 & 0.0002887505 & 2.686842e-04 & 0.0002701578 & 2.943206e-04 & 0.0001429610\\\\\n",
       "\t30\\_151.035\\_0.653 & 0.0002983624 & 2.900453e-04 & 3.156823e-04 & 3.174013e-04 & 3.601478e-04 & 3.647890e-04 & 3.694194e-04 & 0.0003748096 & 3.871170e-04 & 0.0003692980 & 3.309467e-04 & 0.0003721660\\\\\n",
       "\t7137\\_151.075\\_6.002 & 0.0001199260 & 1.177103e-04 & 1.203708e-04 & 6.591851e-05 & 6.596672e-05 & 5.472213e-05 & 7.985685e-05 & 0.0001038143 & 9.694911e-05 & 0.0001084436 & 8.096791e-05 & 0.0001055481\\\\\n",
       "\t6905\\_151.075\\_5.937 & 0.0001357339 & 1.367969e-04 & 1.387195e-04 & 7.779568e-05 & 7.499268e-05 & 9.974839e-05 & 1.293690e-04 & 0.0001178709 & 1.276529e-04 & 0.0001440053 & 2.317044e-04 & 0.0001352676\\\\\n",
       "\t5684\\_151.075\\_5.554 & 0.0001820102 & 1.589631e-04 & 1.522195e-04 & 6.788221e-05 & 6.509431e-05 & 6.884709e-05 & 1.576081e-04 & 0.0001341358 & 1.419826e-04 & 0.0001266256 & 1.232318e-04 & 0.0001511125\\\\\n",
       "\\end{tabular}\n"
      ],
      "text/markdown": [
       "\n",
       "A matrix: 6 × 12 of type dbl\n",
       "\n",
       "| <!--/--> | DOM_Interlab-LCMS_Lab1_A15M_Pos_MS2_rep1.mzML | DOM_Interlab-LCMS_Lab1_A15M_Pos_MS2_rep2.mzML | DOM_Interlab-LCMS_Lab1_A15M_Pos_MS2_rep3.mzML | DOM_Interlab-LCMS_Lab1_A45M_Pos_MS2_rep1.mzML | DOM_Interlab-LCMS_Lab1_A45M_Pos_MS2_rep2.mzML | DOM_Interlab-LCMS_Lab1_A45M_Pos_MS2_rep3.mzML | DOM_Interlab-LCMS_Lab1_A5M_Pos_MS2_rep1.mzML | DOM_Interlab-LCMS_Lab1_A5M_Pos_MS2_rep2.mzML | DOM_Interlab-LCMS_Lab1_A5M_Pos_MS2_rep3.mzML | DOM_Interlab-LCMS_Lab1_M_Pos_MS2_rep1.mzML | DOM_Interlab-LCMS_Lab1_M_Pos_MS2_rep2.mzML | DOM_Interlab-LCMS_Lab1_M_Pos_MS2_rep3.mzML |\n",
       "|---|---|---|---|---|---|---|---|---|---|---|---|---|\n",
       "| 1458_150.128_3.194 | 0.0002338955 | 8.240035e-05 | 4.532787e-05 | 1.125837e-04 | 1.072988e-04 | 1.254771e-04 | 2.606901e-04 | 0.0001442873 | 1.091388e-04 | 0.0001318381 | 6.560964e-07 | 0.0002480838 |\n",
       "| 1418_150.128_3.173 | 0.0001223593 | 2.203919e-04 | 2.463659e-04 | 2.279936e-04 | 2.631426e-04 | 2.657883e-04 | 7.342280e-07 | 0.0002887505 | 2.686842e-04 | 0.0002701578 | 2.943206e-04 | 0.0001429610 |\n",
       "| 30_151.035_0.653 | 0.0002983624 | 2.900453e-04 | 3.156823e-04 | 3.174013e-04 | 3.601478e-04 | 3.647890e-04 | 3.694194e-04 | 0.0003748096 | 3.871170e-04 | 0.0003692980 | 3.309467e-04 | 0.0003721660 |\n",
       "| 7137_151.075_6.002 | 0.0001199260 | 1.177103e-04 | 1.203708e-04 | 6.591851e-05 | 6.596672e-05 | 5.472213e-05 | 7.985685e-05 | 0.0001038143 | 9.694911e-05 | 0.0001084436 | 8.096791e-05 | 0.0001055481 |\n",
       "| 6905_151.075_5.937 | 0.0001357339 | 1.367969e-04 | 1.387195e-04 | 7.779568e-05 | 7.499268e-05 | 9.974839e-05 | 1.293690e-04 | 0.0001178709 | 1.276529e-04 | 0.0001440053 | 2.317044e-04 | 0.0001352676 |\n",
       "| 5684_151.075_5.554 | 0.0001820102 | 1.589631e-04 | 1.522195e-04 | 6.788221e-05 | 6.509431e-05 | 6.884709e-05 | 1.576081e-04 | 0.0001341358 | 1.419826e-04 | 0.0001266256 | 1.232318e-04 | 0.0001511125 |\n",
       "\n"
      ],
      "text/plain": [
       "                   DOM_Interlab-LCMS_Lab1_A15M_Pos_MS2_rep1.mzML\n",
       "1458_150.128_3.194 0.0002338955                                 \n",
       "1418_150.128_3.173 0.0001223593                                 \n",
       "30_151.035_0.653   0.0002983624                                 \n",
       "7137_151.075_6.002 0.0001199260                                 \n",
       "6905_151.075_5.937 0.0001357339                                 \n",
       "5684_151.075_5.554 0.0001820102                                 \n",
       "                   DOM_Interlab-LCMS_Lab1_A15M_Pos_MS2_rep2.mzML\n",
       "1458_150.128_3.194 8.240035e-05                                 \n",
       "1418_150.128_3.173 2.203919e-04                                 \n",
       "30_151.035_0.653   2.900453e-04                                 \n",
       "7137_151.075_6.002 1.177103e-04                                 \n",
       "6905_151.075_5.937 1.367969e-04                                 \n",
       "5684_151.075_5.554 1.589631e-04                                 \n",
       "                   DOM_Interlab-LCMS_Lab1_A15M_Pos_MS2_rep3.mzML\n",
       "1458_150.128_3.194 4.532787e-05                                 \n",
       "1418_150.128_3.173 2.463659e-04                                 \n",
       "30_151.035_0.653   3.156823e-04                                 \n",
       "7137_151.075_6.002 1.203708e-04                                 \n",
       "6905_151.075_5.937 1.387195e-04                                 \n",
       "5684_151.075_5.554 1.522195e-04                                 \n",
       "                   DOM_Interlab-LCMS_Lab1_A45M_Pos_MS2_rep1.mzML\n",
       "1458_150.128_3.194 1.125837e-04                                 \n",
       "1418_150.128_3.173 2.279936e-04                                 \n",
       "30_151.035_0.653   3.174013e-04                                 \n",
       "7137_151.075_6.002 6.591851e-05                                 \n",
       "6905_151.075_5.937 7.779568e-05                                 \n",
       "5684_151.075_5.554 6.788221e-05                                 \n",
       "                   DOM_Interlab-LCMS_Lab1_A45M_Pos_MS2_rep2.mzML\n",
       "1458_150.128_3.194 1.072988e-04                                 \n",
       "1418_150.128_3.173 2.631426e-04                                 \n",
       "30_151.035_0.653   3.601478e-04                                 \n",
       "7137_151.075_6.002 6.596672e-05                                 \n",
       "6905_151.075_5.937 7.499268e-05                                 \n",
       "5684_151.075_5.554 6.509431e-05                                 \n",
       "                   DOM_Interlab-LCMS_Lab1_A45M_Pos_MS2_rep3.mzML\n",
       "1458_150.128_3.194 1.254771e-04                                 \n",
       "1418_150.128_3.173 2.657883e-04                                 \n",
       "30_151.035_0.653   3.647890e-04                                 \n",
       "7137_151.075_6.002 5.472213e-05                                 \n",
       "6905_151.075_5.937 9.974839e-05                                 \n",
       "5684_151.075_5.554 6.884709e-05                                 \n",
       "                   DOM_Interlab-LCMS_Lab1_A5M_Pos_MS2_rep1.mzML\n",
       "1458_150.128_3.194 2.606901e-04                                \n",
       "1418_150.128_3.173 7.342280e-07                                \n",
       "30_151.035_0.653   3.694194e-04                                \n",
       "7137_151.075_6.002 7.985685e-05                                \n",
       "6905_151.075_5.937 1.293690e-04                                \n",
       "5684_151.075_5.554 1.576081e-04                                \n",
       "                   DOM_Interlab-LCMS_Lab1_A5M_Pos_MS2_rep2.mzML\n",
       "1458_150.128_3.194 0.0001442873                                \n",
       "1418_150.128_3.173 0.0002887505                                \n",
       "30_151.035_0.653   0.0003748096                                \n",
       "7137_151.075_6.002 0.0001038143                                \n",
       "6905_151.075_5.937 0.0001178709                                \n",
       "5684_151.075_5.554 0.0001341358                                \n",
       "                   DOM_Interlab-LCMS_Lab1_A5M_Pos_MS2_rep3.mzML\n",
       "1458_150.128_3.194 1.091388e-04                                \n",
       "1418_150.128_3.173 2.686842e-04                                \n",
       "30_151.035_0.653   3.871170e-04                                \n",
       "7137_151.075_6.002 9.694911e-05                                \n",
       "6905_151.075_5.937 1.276529e-04                                \n",
       "5684_151.075_5.554 1.419826e-04                                \n",
       "                   DOM_Interlab-LCMS_Lab1_M_Pos_MS2_rep1.mzML\n",
       "1458_150.128_3.194 0.0001318381                              \n",
       "1418_150.128_3.173 0.0002701578                              \n",
       "30_151.035_0.653   0.0003692980                              \n",
       "7137_151.075_6.002 0.0001084436                              \n",
       "6905_151.075_5.937 0.0001440053                              \n",
       "5684_151.075_5.554 0.0001266256                              \n",
       "                   DOM_Interlab-LCMS_Lab1_M_Pos_MS2_rep2.mzML\n",
       "1458_150.128_3.194 6.560964e-07                              \n",
       "1418_150.128_3.173 2.943206e-04                              \n",
       "30_151.035_0.653   3.309467e-04                              \n",
       "7137_151.075_6.002 8.096791e-05                              \n",
       "6905_151.075_5.937 2.317044e-04                              \n",
       "5684_151.075_5.554 1.232318e-04                              \n",
       "                   DOM_Interlab-LCMS_Lab1_M_Pos_MS2_rep3.mzML\n",
       "1458_150.128_3.194 0.0002480838                              \n",
       "1418_150.128_3.173 0.0001429610                              \n",
       "30_151.035_0.653   0.0003721660                              \n",
       "7137_151.075_6.002 0.0001055481                              \n",
       "6905_151.075_5.937 0.0001352676                              \n",
       "5684_151.075_5.554 0.0001511125                              "
      ]
     },
     "metadata": {},
     "output_type": "display_data"
    },
    {
     "name": "stdout",
     "output_type": "stream",
     "text": [
      "[1] \"No.of NA values in PQN Normalized data: 0\"\n"
     ]
    }
   ],
   "source": [
    "if (toupper(readline(\"Do you want to perform PQN Normalization: Y/N:\")) == 'Y'){\n",
    "\n",
    "Normalized_data_pqn <- t(normalization(t(Imputed), method = \"pqn\")$newXtrain) # note that setting \"sum\" here gives the same as above\n",
    "\n",
    "head(Normalized_data_pqn)\n",
    "} else return(head(Imputed))\n",
    "  \n",
    "print(paste('No.of NA values in PQN Normalized data:',sum(is.na(Normalized_data_pqn)== TRUE)))\n",
    "\n",
    "\n",
    "\n"
   ]
  },
  {
   "cell_type": "code",
   "execution_count": 38,
   "id": "2539f80c",
   "metadata": {},
   "outputs": [
    {
     "data": {
      "text/html": [
       "<style>\n",
       ".list-inline {list-style: none; margin:0; padding: 0}\n",
       ".list-inline>li {display: inline-block}\n",
       ".list-inline>li:not(:last-child)::after {content: \"\\00b7\"; padding: 0 .5ex}\n",
       "</style>\n",
       "<ol class=list-inline><li>3603</li><li>12</li></ol>\n"
      ],
      "text/latex": [
       "\\begin{enumerate*}\n",
       "\\item 3603\n",
       "\\item 12\n",
       "\\end{enumerate*}\n"
      ],
      "text/markdown": [
       "1. 3603\n",
       "2. 12\n",
       "\n",
       "\n"
      ],
      "text/plain": [
       "[1] 3603   12"
      ]
     },
     "metadata": {},
     "output_type": "display_data"
    }
   ],
   "source": [
    "dim(Normalized_data)"
   ]
  },
  {
   "cell_type": "code",
   "execution_count": 39,
   "id": "58fc407e",
   "metadata": {},
   "outputs": [],
   "source": [
    "write.csv(Normalized_data, file.path(fName,'Normalised_Quant_table.csv'),row.names =TRUE)"
   ]
  },
  {
   "cell_type": "markdown",
   "id": "01ed9937-3a7f-45e0-b21f-a05ae54dee34",
   "metadata": {},
   "source": [
    "All the result files would be available in the 'Result' folder within your working directory (i.e the folder path you mentioned in the beginning of the script)."
   ]
  },
  {
   "cell_type": "markdown",
   "id": "43c0497d-af17-4c90-bb2f-54ad0aef75bd",
   "metadata": {},
   "source": [
    "## Getting output files from Google Colab:\n",
    "<a id=\"colab_output\"></a>\n",
    "For Google Collab users, we can zip the result folder which contains all the output files using the next cell and download the zip file directly from the folder \"/content/My_TestData\" into the local system."
   ]
  },
  {
   "cell_type": "code",
   "execution_count": 40,
   "id": "8ef4a687-bded-4fd9-90b0-8e5838bd40af",
   "metadata": {},
   "outputs": [],
   "source": [
    "#Only for Google Colab\n",
    "utils::zip(zipfile = 'TestData_DataCleanup_Results', files = \"/content/My_TestData_DataCleanup_Results/\")"
   ]
  }
 ],
 "metadata": {
  "kernelspec": {
   "display_name": "R",
   "language": "R",
   "name": "ir"
  },
  "language_info": {
   "codemirror_mode": "r",
   "file_extension": ".r",
   "mimetype": "text/x-r-source",
   "name": "R",
   "pygments_lexer": "r",
   "version": "4.2.2"
  }
 },
 "nbformat": 4,
 "nbformat_minor": 5
}
