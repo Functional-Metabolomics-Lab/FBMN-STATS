{
 "cells": [
  {
   "cell_type": "code",
   "execution_count": null,
   "id": "0012e851",
   "metadata": {},
   "outputs": [],
   "source": [
    "ft_t <- as.data.frame(t(new_ft)) # transposing the new ft so that the rownames of ft_t and rownames of new_md will be the same\n",
    "ft_t <- ft_t %>%\n",
    "        mutate_all(as.numeric) %>% #converting all values to numeric\n",
    "        mutate(filename=rownames(ft_t)) %>% #adding a column filename with the rownames of ft_t\n",
    "        select(filename, everything()) #positioning filename as 1st column"
   ]
  },
  {
   "cell_type": "code",
   "execution_count": null,
   "id": "c47aec79",
   "metadata": {},
   "outputs": [],
   "source": [
    "head(ft_t, n=3)"
   ]
  },
  {
   "cell_type": "code",
   "execution_count": null,
   "id": "ed72ae32",
   "metadata": {},
   "outputs": [],
   "source": [
    "identical(new_md$filename,ft_t$filename) #should return TRUE now"
   ]
  },
  {
   "cell_type": "code",
   "execution_count": null,
   "id": "55223df0",
   "metadata": {},
   "outputs": [],
   "source": [
    "# Step 1: Calculate the overall mean of each feature\n",
    "FeatureMean <- colMeans(ft_t) # Getting Feature-centric mean"
   ]
  },
  {
   "cell_type": "code",
   "execution_count": null,
   "id": "1df9bc1b",
   "metadata": {},
   "outputs": [],
   "source": [
    "# Step 2: Calculate the overall mean of each batch\n",
    "new_md$ATTRIBUTE_Batch <- as.factor(new_md$ATTRIBUTE_Batch) #converting to factor type"
   ]
  },
  {
   "cell_type": "code",
   "execution_count": null,
   "id": "f3cda487",
   "metadata": {},
   "outputs": [],
   "source": [
    "ft_md <- full_join(new_md,ft_t,by=c(\"filename\"))\n",
    "head(ft_md,n=3)"
   ]
  },
  {
   "cell_type": "code",
   "execution_count": null,
   "id": "4d4adf01",
   "metadata": {},
   "outputs": [],
   "source": [
    "B1_Mean <- ft_md %>% filter(`ATTRIBUTE_Batch` == 1) %>% summarize(across(-c(1:14), sum))\n",
    "B2_Mean <- ft_md %>% filter(`ATTRIBUTE_Batch` == 2) %>% summarize(across(-c(1:14), sum))\n",
    "B3_Mean <- ft_md %>% filter(`ATTRIBUTE_Batch` == 3) %>% summarize(across(-c(1:14), sum))"
   ]
  },
  {
   "cell_type": "code",
   "execution_count": null,
   "id": "8e34e6af",
   "metadata": {},
   "outputs": [],
   "source": [
    "#Step 3:\n",
    "for (i in 1:nrow(Batch_1)){\n",
    "  Batch_1[i,] <- (Batch_1[i,]/(B1_Mean+1))*(FeatureMean+1) #added 1 on numerator & denominator\n",
    "}\n",
    "\n",
    "for (i in 1:nrow(Batch_2)){\n",
    "  Batch_2[i,] <- (Batch_2[i,]/(B2_Mean+1))*(FeatureMean+1)\n",
    "}\n",
    "\n",
    "for (i in 1:nrow(Batch_3)){\n",
    "  Batch_3[i,] <- (Batch_3[i,]/(B3_Mean+1))*(FeatureMean+1)\n",
    "}"
   ]
  },
  {
   "cell_type": "code",
   "execution_count": null,
   "id": "953117e4",
   "metadata": {},
   "outputs": [],
   "source": [
    "# I need to reproduce the batch mean like this:\n",
    "Batch1_md <- new_md %>% filter(`ATTRIBUTE_Batch` == 1)\n",
    "Batch_1 <- ft_t[rownames(Batch1_md),,drop=F]\n",
    "B1_Mean <- colMeans(Batch_1)"
   ]
  },
  {
   "cell_type": "markdown",
   "id": "035adb5e",
   "metadata": {},
   "source": [
    "We have 3 batches in our data"
   ]
  },
  {
   "cell_type": "code",
   "execution_count": null,
   "id": "44e4037b",
   "metadata": {},
   "outputs": [],
   "source": [
    "Final <- as.data.frame(rbind(Batch_1,Batch_2,Batch_3))"
   ]
  },
  {
   "cell_type": "markdown",
   "id": "6ffc5e87",
   "metadata": {},
   "source": [
    "### Getting the PCoA plot after Batch correction"
   ]
  },
  {
   "cell_type": "code",
   "execution_count": null,
   "id": "4d4cf2d2",
   "metadata": {},
   "outputs": [],
   "source": [
    "Final_S <-scale(Final, scale = T, center = F) #scaling the table\n",
    "identical(rownames(Final_S),rownames(new_md))\n",
    "Final_S <- Final_S[order(rownames(Final_S)),,drop=F] #ordering by rownames\n",
    "identical(rownames(Final_S),rownames(new_md))"
   ]
  },
  {
   "cell_type": "code",
   "execution_count": null,
   "id": "a91729b8",
   "metadata": {},
   "outputs": [],
   "source": [
    "distm <- vegdist(Final_S, method = \"bray\")# compute distance\n",
    "PcoA <- cmdscale(distm, k = 2, eig = T, add = T)\n",
    "PcoA_points <- as.data.frame(PcoA$points)\n",
    "variance <- round(PcoA$eig*100/sum(PcoA$eig),1)\n",
    "names(PcoA_points)[1:2] <- c('PCoA1', 'PCoA2')\n",
    "identical(rownames(PcoA_points), rownames(new_md))"
   ]
  },
  {
   "cell_type": "code",
   "execution_count": null,
   "id": "9db0095d",
   "metadata": {},
   "outputs": [],
   "source": [
    "ggplot(PcoA_points, aes(x = PCoA1, y = PCoA2, colour = as.factor(new_md$ATTRIBUTE_Batch), label = row.names(PcoA))) +\n",
    "  geom_point(size=2, alpha=0.6) +\n",
    "  scale_colour_manual(values = c('orange','darkgreen','red','blue','black')) +\n",
    "  xlab(paste('PCoA1: ',variance[1],'%', sep = ' ')) +\n",
    "  ylab(paste('PCoA2: ',variance[2],'%', sep = ' ')) +\n",
    "  ggtitle(\"PCoA Scores plot on Batch corrected data using Bray-Curtis Dissimilarity Index\")+\n",
    "  theme(legend.title=element_blank())"
   ]
  }
 ],
 "metadata": {
  "kernelspec": {
   "display_name": "R",
   "language": "R",
   "name": "ir"
  },
  "language_info": {
   "codemirror_mode": "r",
   "file_extension": ".r",
   "mimetype": "text/x-r-source",
   "name": "R",
   "pygments_lexer": "r",
   "version": "4.2.2"
  }
 },
 "nbformat": 4,
 "nbformat_minor": 5
}
