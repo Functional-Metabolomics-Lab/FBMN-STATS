{
 "cells": [
  {
   "cell_type": "markdown",
   "id": "92d85679-0473-4a7c-9197-86c9cd1c5f87",
   "metadata": {},
   "source": [
    "# Supervised learning with XGBoost"
   ]
  },
  {
   "cell_type": "markdown",
   "id": "5032fe1e-e111-4451-ad12-30a2949f4bdf",
   "metadata": {},
   "source": [
    "**Updated on:** 2023-02-08 11:24:06 CET\n",
    "\n",
    "In this Jupyter Notebook we perform supervised learning with xgboost.\n",
    "\n",
    "**Authors**: Francesco Russo (russof85@gmail.com), Abzer Kelminal (abzer.shah@uni-tuebingen.de)<br>\n",
    "**Input file format**: .csv files or .txt files <br>\n",
    "**Outputs**: .csv files, .pdf & .svg images  <br>\n",
    "**Dependencies**: tidyverse,svglite,xgboost,caret,doParallel)\n",
    "\n",
    "The session info at the end of this notebook gives info about the versions of all the packages used here.\n",
    "\n",
    "---"
   ]
  },
  {
   "cell_type": "markdown",
   "id": "f60d3f76-9867-4031-a7bb-3a2181eb765d",
   "metadata": {},
   "source": [
    "Assuming the user for this notebook has already used the Stats Notebook (Performing basic uni- and multivariate statistical analsysis of untargeted metabolomics data) [![Open in Colab](https://colab.research.google.com/assets/colab-badge.svg)](https://colab.research.google.com/github/Functional-Metabolomics-Lab/Statistical-analysis-of-non-targeted-LC-MSMS-data/blob/main/Stats_Untargeted_Metabolomics.ipynb) , we will proceed with loading in necessary files and perform XGBoost"
   ]
  },
  {
   "cell_type": "code",
   "execution_count": 47,
   "id": "d20d6b0c-720f-4947-9f1c-6b2fe21658b3",
   "metadata": {},
   "outputs": [],
   "source": [
    "options(install.packages.compile.from.source=\"never\")"
   ]
  },
  {
   "cell_type": "code",
   "execution_count": null,
   "id": "16e5cf4e-e8f4-427d-8a82-e141b5264c96",
   "metadata": {},
   "outputs": [],
   "source": [
    "install.packages(c(\"tidyverse\",\"svglite\",\"xgboost\",\"caret\",\"doParallel\"),dependencies=T)"
   ]
  },
  {
   "cell_type": "code",
   "execution_count": 37,
   "id": "401ed6b3-dac5-47b5-85df-8e76e8315b24",
   "metadata": {},
   "outputs": [],
   "source": [
    "#calling all libraries\n",
    "lib_list <- c(\"tidyverse\",\"svglite\",\"xgboost\",\"caret\",\"doParallel\") # creating a vector of all the necessary libraries\n",
    "invisible(sapply(lib_list,  suppressPackageStartupMessages(library), character.only = TRUE)) #applying library call on each element of lib_list"
   ]
  },
  {
   "cell_type": "code",
   "execution_count": 38,
   "id": "f2cb879d-0a4a-4907-acbd-126ab73c184c",
   "metadata": {},
   "outputs": [
    {
     "data": {
      "text/plain": [
       "R version 4.1.3 (2022-03-10)\n",
       "Platform: x86_64-w64-mingw32/x64 (64-bit)\n",
       "Running under: Windows 10 x64 (build 22000)\n",
       "\n",
       "Matrix products: default\n",
       "\n",
       "locale:\n",
       "[1] LC_COLLATE=English_United Kingdom.1252 \n",
       "[2] LC_CTYPE=English_United Kingdom.1252   \n",
       "[3] LC_MONETARY=English_United Kingdom.1252\n",
       "[4] LC_NUMERIC=C                           \n",
       "[5] LC_TIME=English_United Kingdom.1252    \n",
       "\n",
       "attached base packages:\n",
       "[1] parallel  stats     graphics  grDevices utils     datasets  methods  \n",
       "[8] base     \n",
       "\n",
       "other attached packages:\n",
       " [1] doParallel_1.0.17 iterators_1.0.14  foreach_1.5.2     caret_6.0-93     \n",
       " [5] lattice_0.20-45   xgboost_1.7.1.1   svglite_2.1.1     forcats_1.0.0    \n",
       " [9] stringr_1.5.0     dplyr_1.1.0       purrr_1.0.1       readr_2.1.3      \n",
       "[13] tidyr_1.3.0       tibble_3.1.8      ggplot2_3.4.0     tidyverse_1.3.2  \n",
       "\n",
       "loaded via a namespace (and not attached):\n",
       " [1] nlme_3.1-161         fs_1.6.0             lubridate_1.9.1     \n",
       " [4] httr_1.4.4           repr_1.1.6           tools_4.1.3         \n",
       " [7] backports_1.4.1      utf8_1.2.2           R6_2.5.1            \n",
       "[10] rpart_4.1.19         DBI_1.1.3            colorspace_2.1-0    \n",
       "[13] nnet_7.3-18          withr_2.5.0          tidyselect_1.2.0    \n",
       "[16] compiler_4.1.3       cli_3.6.0            rvest_1.0.3         \n",
       "[19] xml2_1.3.3           scales_1.2.1         pbdZMQ_0.3-9        \n",
       "[22] systemfonts_1.0.4    digest_0.6.31        base64enc_0.1-3     \n",
       "[25] pkgconfig_2.0.3      htmltools_0.5.4      parallelly_1.34.0   \n",
       "[28] dbplyr_2.3.0         fastmap_1.1.0        rlang_1.0.6         \n",
       "[31] readxl_1.4.1         generics_0.1.3       jsonlite_1.8.4      \n",
       "[34] ModelMetrics_1.2.2.2 googlesheets4_1.0.1  magrittr_2.0.3      \n",
       "[37] Matrix_1.5-3         Rcpp_1.0.10          IRkernel_1.3.2      \n",
       "[40] munsell_0.5.0        fansi_1.0.4          lifecycle_1.0.3     \n",
       "[43] pROC_1.18.0          stringi_1.7.12       MASS_7.3-58.2       \n",
       "[46] plyr_1.8.8           recipes_1.0.4        grid_4.1.3          \n",
       "[49] listenv_0.9.0        crayon_1.5.2         IRdisplay_1.1       \n",
       "[52] haven_2.5.1          splines_4.1.3        hms_1.1.2           \n",
       "[55] pillar_1.8.1         uuid_1.1-0           stats4_4.1.3        \n",
       "[58] reshape2_1.4.4       future.apply_1.10.0  codetools_0.2-18    \n",
       "[61] reprex_2.0.2         glue_1.6.2           evaluate_0.20       \n",
       "[64] data.table_1.14.6    modelr_0.1.10        vctrs_0.5.2         \n",
       "[67] tzdb_0.3.0           cellranger_1.1.0     gtable_0.3.1        \n",
       "[70] future_1.30.0        assertthat_0.2.1     gower_1.0.1         \n",
       "[73] prodlim_2019.11.13   broom_1.0.3          class_7.3-21        \n",
       "[76] survival_3.5-0       googledrive_2.0.0    gargle_1.2.1        \n",
       "[79] timeDate_4022.108    hardhat_1.2.0        lava_1.7.1          \n",
       "[82] timechange_0.2.0     globals_0.16.2       ellipsis_0.3.2      \n",
       "[85] ipred_0.9-13        "
      ]
     },
     "metadata": {},
     "output_type": "display_data"
    }
   ],
   "source": [
    "sessionInfo()"
   ]
  },
  {
   "cell_type": "markdown",
   "id": "c058c909-9f6a-4c7c-b1f0-8759011747be",
   "metadata": {},
   "source": [
    "- <b>\"attached base packages\"</b> are the packages that come with R and we do not need to install them. \n",
    "- <b>\"other attached packages\"</b>  are the packages we installed and loaded by library(). We can call all the functions belonging to the attached packages by just specifying the function name.\n",
    "- <b>\"loaded via a namespace (and not attached)\"</b> are the packages that are downloaded as dependencies to the installed packages. We can call them by namespace \"::\" such as data.table::fread() which refers to fread() from data.table"
   ]
  },
  {
   "cell_type": "markdown",
   "id": "c99db22c-10f5-44ac-9116-c7c759d056b1",
   "metadata": {},
   "source": [
    "# Load in the cleaned up table and metadata:"
   ]
  },
  {
   "cell_type": "code",
   "execution_count": 15,
   "id": "c00fccc6-4552-4b58-9a3a-aa54f2c0049e",
   "metadata": {},
   "outputs": [
    {
     "name": "stdin",
     "output_type": "stream",
     "text": [
      "Enter the path of the folder with input files:  D:\\Projects\\Hitchhiker\\xgboost_tuning\n"
     ]
    }
   ],
   "source": [
    "#setting a working directory\n",
    "Directory <- normalizePath(readline(\"Enter the path of the folder with input files: \"),\"/\",mustWork=FALSE)\n",
    "setwd(Directory)"
   ]
  },
  {
   "cell_type": "code",
   "execution_count": 17,
   "id": "c39a5526-9197-4e45-90ab-fb177b959537",
   "metadata": {},
   "outputs": [
    {
     "name": "stdout",
     "output_type": "stream",
     "text": [
      "[1] \"2023-02-02_ft_md_merged_after_cleanup.csv\"      \n",
      "[2] \"2023-02-02_ft_md_merged_before_data_cleanup.csv\"\n"
     ]
    }
   ],
   "source": [
    "file_list <- print(list.files('.'))"
   ]
  },
  {
   "cell_type": "markdown",
   "id": "2d0c059c-d0a3-4791-b7c1-1aca47fbb601",
   "metadata": {},
   "source": [
    "Lets load the feature table (after datacleanup: Blank removal and Imputation, scaling) merged with metadata (metadata with Blanks). "
   ]
  },
  {
   "cell_type": "code",
   "execution_count": 18,
   "id": "b7f80f20-db95-45c4-9bc6-820812fcd756",
   "metadata": {},
   "outputs": [],
   "source": [
    "Data <- data.table::fread(file_list[1]) "
   ]
  },
  {
   "cell_type": "code",
   "execution_count": 19,
   "id": "8c049967-9bca-45e6-ba3a-9f0359507ca9",
   "metadata": {},
   "outputs": [
    {
     "data": {
      "text/html": [
       "<table class=\"dataframe\">\n",
       "<caption>A data.table: 6 × 9107</caption>\n",
       "<thead>\n",
       "\t<tr><th scope=col>V1</th><th scope=col>filename</th><th scope=col>ATTRIBUTE_Sample.Type</th><th scope=col>ATTRIBUTE_Batch</th><th scope=col>ATTRIBUTE_Month</th><th scope=col>ATTRIBUTE_Year</th><th scope=col>ATTRIBUTE_Sample_Location</th><th scope=col>ATTRIBUTE_Replicate</th><th scope=col>ATTRIBUTE_Spot</th><th scope=col>ATTRIBUTE_Latitude</th><th scope=col>...</th><th scope=col>X9833_268.175_2.821</th><th scope=col>X9860_240.144_2.824</th><th scope=col>X9876_414.139_2.761</th><th scope=col>X9884_190.05_2.832</th><th scope=col>X9897_333.144_2.881</th><th scope=col>X9909_400.16_2.813</th><th scope=col>X9918_252.123_2.833</th><th scope=col>X9957_402.139_3.01</th><th scope=col>X9972_323.123_2.716</th><th scope=col>X9995_276.159_2.805</th></tr>\n",
       "\t<tr><th scope=col>&lt;int&gt;</th><th scope=col>&lt;chr&gt;</th><th scope=col>&lt;chr&gt;</th><th scope=col>&lt;int&gt;</th><th scope=col>&lt;chr&gt;</th><th scope=col>&lt;int&gt;</th><th scope=col>&lt;int&gt;</th><th scope=col>&lt;chr&gt;</th><th scope=col>&lt;int&gt;</th><th scope=col>&lt;dbl&gt;</th><th scope=col>...</th><th scope=col>&lt;dbl&gt;</th><th scope=col>&lt;dbl&gt;</th><th scope=col>&lt;dbl&gt;</th><th scope=col>&lt;dbl&gt;</th><th scope=col>&lt;dbl&gt;</th><th scope=col>&lt;dbl&gt;</th><th scope=col>&lt;dbl&gt;</th><th scope=col>&lt;dbl&gt;</th><th scope=col>&lt;dbl&gt;</th><th scope=col>&lt;dbl&gt;</th></tr>\n",
       "</thead>\n",
       "<tbody>\n",
       "\t<tr><td>1</td><td>SD_01-2018_1_a.mzXML </td><td>Sample</td><td>2</td><td>Jan</td><td>2018</td><td> 1</td><td>a</td><td> 1</td><td>32.93365</td><td>...</td><td> 0.50953425</td><td> 0.3411530</td><td>-0.9690079</td><td>-0.2136334</td><td>-1.0317304</td><td>-0.3097998</td><td>-0.177995</td><td> 1.1679223</td><td>-0.9536029</td><td>-0.720846274</td></tr>\n",
       "\t<tr><td>2</td><td>SD_01-2018_1_b.mzXML </td><td>Sample</td><td>2</td><td>Jan</td><td>2018</td><td> 1</td><td>b</td><td> 1</td><td>32.93365</td><td>...</td><td> 0.09238905</td><td> 0.5326194</td><td> 1.0516269</td><td>-0.3038794</td><td>-0.1930184</td><td>-0.7478181</td><td> 1.252001</td><td> 0.9551530</td><td>-0.9361819</td><td>-0.008639177</td></tr>\n",
       "\t<tr><td>3</td><td>SD_01-2018_10_a.mzXML</td><td>Sample</td><td>2</td><td>Jan</td><td>2018</td><td>10</td><td>a</td><td>10</td><td>32.86261</td><td>...</td><td>-0.24639335</td><td>-0.2865859</td><td> 4.3836879</td><td>-0.6676765</td><td>-0.4632050</td><td> 4.5197644</td><td> 2.438135</td><td>-0.7384554</td><td> 1.9221174</td><td> 0.486389335</td></tr>\n",
       "\t<tr><td>4</td><td>SD_01-2018_10_b.mzXML</td><td>Sample</td><td>2</td><td>Jan</td><td>2018</td><td>10</td><td>b</td><td>10</td><td>32.86261</td><td>...</td><td>-0.25192058</td><td>-0.2285435</td><td> 0.4843269</td><td>-0.5684610</td><td> 1.5535042</td><td>-0.8303057</td><td> 1.434401</td><td> 4.0595393</td><td> 0.6681850</td><td> 0.985037345</td></tr>\n",
       "\t<tr><td>5</td><td>SD_01-2018_11_a.mzXML</td><td>Sample</td><td>2</td><td>Jan</td><td>2018</td><td>11</td><td>a</td><td>11</td><td>32.85601</td><td>...</td><td>-0.28563018</td><td>-0.2476378</td><td> 1.5809568</td><td>-0.6620708</td><td> 0.3906509</td><td>-0.6962297</td><td> 2.185162</td><td>-0.5521619</td><td> 0.4461508</td><td> 1.021271440</td></tr>\n",
       "\t<tr><td>6</td><td>SD_01-2018_11_b.mzXML</td><td>Sample</td><td>2</td><td>Jan</td><td>2018</td><td>11</td><td>b</td><td>11</td><td>32.85601</td><td>...</td><td>-0.24677023</td><td>-0.2403817</td><td> 0.3811471</td><td>-0.6653472</td><td>-1.1098859</td><td> 3.4050080</td><td> 1.824056</td><td>-0.6258216</td><td>-0.7639999</td><td>-0.815254939</td></tr>\n",
       "</tbody>\n",
       "</table>\n"
      ],
      "text/latex": [
       "A data.table: 6 × 9107\n",
       "\\begin{tabular}{lllllllllllllllllllll}\n",
       " V1 & filename & ATTRIBUTE\\_Sample.Type & ATTRIBUTE\\_Batch & ATTRIBUTE\\_Month & ATTRIBUTE\\_Year & ATTRIBUTE\\_Sample\\_Location & ATTRIBUTE\\_Replicate & ATTRIBUTE\\_Spot & ATTRIBUTE\\_Latitude & ... & X9833\\_268.175\\_2.821 & X9860\\_240.144\\_2.824 & X9876\\_414.139\\_2.761 & X9884\\_190.05\\_2.832 & X9897\\_333.144\\_2.881 & X9909\\_400.16\\_2.813 & X9918\\_252.123\\_2.833 & X9957\\_402.139\\_3.01 & X9972\\_323.123\\_2.716 & X9995\\_276.159\\_2.805\\\\\n",
       " <int> & <chr> & <chr> & <int> & <chr> & <int> & <int> & <chr> & <int> & <dbl> & ... & <dbl> & <dbl> & <dbl> & <dbl> & <dbl> & <dbl> & <dbl> & <dbl> & <dbl> & <dbl>\\\\\n",
       "\\hline\n",
       "\t 1 & SD\\_01-2018\\_1\\_a.mzXML  & Sample & 2 & Jan & 2018 &  1 & a &  1 & 32.93365 & ... &  0.50953425 &  0.3411530 & -0.9690079 & -0.2136334 & -1.0317304 & -0.3097998 & -0.177995 &  1.1679223 & -0.9536029 & -0.720846274\\\\\n",
       "\t 2 & SD\\_01-2018\\_1\\_b.mzXML  & Sample & 2 & Jan & 2018 &  1 & b &  1 & 32.93365 & ... &  0.09238905 &  0.5326194 &  1.0516269 & -0.3038794 & -0.1930184 & -0.7478181 &  1.252001 &  0.9551530 & -0.9361819 & -0.008639177\\\\\n",
       "\t 3 & SD\\_01-2018\\_10\\_a.mzXML & Sample & 2 & Jan & 2018 & 10 & a & 10 & 32.86261 & ... & -0.24639335 & -0.2865859 &  4.3836879 & -0.6676765 & -0.4632050 &  4.5197644 &  2.438135 & -0.7384554 &  1.9221174 &  0.486389335\\\\\n",
       "\t 4 & SD\\_01-2018\\_10\\_b.mzXML & Sample & 2 & Jan & 2018 & 10 & b & 10 & 32.86261 & ... & -0.25192058 & -0.2285435 &  0.4843269 & -0.5684610 &  1.5535042 & -0.8303057 &  1.434401 &  4.0595393 &  0.6681850 &  0.985037345\\\\\n",
       "\t 5 & SD\\_01-2018\\_11\\_a.mzXML & Sample & 2 & Jan & 2018 & 11 & a & 11 & 32.85601 & ... & -0.28563018 & -0.2476378 &  1.5809568 & -0.6620708 &  0.3906509 & -0.6962297 &  2.185162 & -0.5521619 &  0.4461508 &  1.021271440\\\\\n",
       "\t 6 & SD\\_01-2018\\_11\\_b.mzXML & Sample & 2 & Jan & 2018 & 11 & b & 11 & 32.85601 & ... & -0.24677023 & -0.2403817 &  0.3811471 & -0.6653472 & -1.1098859 &  3.4050080 &  1.824056 & -0.6258216 & -0.7639999 & -0.815254939\\\\\n",
       "\\end{tabular}\n"
      ],
      "text/markdown": [
       "\n",
       "A data.table: 6 × 9107\n",
       "\n",
       "| V1 &lt;int&gt; | filename &lt;chr&gt; | ATTRIBUTE_Sample.Type &lt;chr&gt; | ATTRIBUTE_Batch &lt;int&gt; | ATTRIBUTE_Month &lt;chr&gt; | ATTRIBUTE_Year &lt;int&gt; | ATTRIBUTE_Sample_Location &lt;int&gt; | ATTRIBUTE_Replicate &lt;chr&gt; | ATTRIBUTE_Spot &lt;int&gt; | ATTRIBUTE_Latitude &lt;dbl&gt; | ... ... | X9833_268.175_2.821 &lt;dbl&gt; | X9860_240.144_2.824 &lt;dbl&gt; | X9876_414.139_2.761 &lt;dbl&gt; | X9884_190.05_2.832 &lt;dbl&gt; | X9897_333.144_2.881 &lt;dbl&gt; | X9909_400.16_2.813 &lt;dbl&gt; | X9918_252.123_2.833 &lt;dbl&gt; | X9957_402.139_3.01 &lt;dbl&gt; | X9972_323.123_2.716 &lt;dbl&gt; | X9995_276.159_2.805 &lt;dbl&gt; |\n",
       "|---|---|---|---|---|---|---|---|---|---|---|---|---|---|---|---|---|---|---|---|---|\n",
       "| 1 | SD_01-2018_1_a.mzXML  | Sample | 2 | Jan | 2018 |  1 | a |  1 | 32.93365 | ... |  0.50953425 |  0.3411530 | -0.9690079 | -0.2136334 | -1.0317304 | -0.3097998 | -0.177995 |  1.1679223 | -0.9536029 | -0.720846274 |\n",
       "| 2 | SD_01-2018_1_b.mzXML  | Sample | 2 | Jan | 2018 |  1 | b |  1 | 32.93365 | ... |  0.09238905 |  0.5326194 |  1.0516269 | -0.3038794 | -0.1930184 | -0.7478181 |  1.252001 |  0.9551530 | -0.9361819 | -0.008639177 |\n",
       "| 3 | SD_01-2018_10_a.mzXML | Sample | 2 | Jan | 2018 | 10 | a | 10 | 32.86261 | ... | -0.24639335 | -0.2865859 |  4.3836879 | -0.6676765 | -0.4632050 |  4.5197644 |  2.438135 | -0.7384554 |  1.9221174 |  0.486389335 |\n",
       "| 4 | SD_01-2018_10_b.mzXML | Sample | 2 | Jan | 2018 | 10 | b | 10 | 32.86261 | ... | -0.25192058 | -0.2285435 |  0.4843269 | -0.5684610 |  1.5535042 | -0.8303057 |  1.434401 |  4.0595393 |  0.6681850 |  0.985037345 |\n",
       "| 5 | SD_01-2018_11_a.mzXML | Sample | 2 | Jan | 2018 | 11 | a | 11 | 32.85601 | ... | -0.28563018 | -0.2476378 |  1.5809568 | -0.6620708 |  0.3906509 | -0.6962297 |  2.185162 | -0.5521619 |  0.4461508 |  1.021271440 |\n",
       "| 6 | SD_01-2018_11_b.mzXML | Sample | 2 | Jan | 2018 | 11 | b | 11 | 32.85601 | ... | -0.24677023 | -0.2403817 |  0.3811471 | -0.6653472 | -1.1098859 |  3.4050080 |  1.824056 | -0.6258216 | -0.7639999 | -0.815254939 |\n",
       "\n"
      ],
      "text/plain": [
       "  V1 filename              ATTRIBUTE_Sample.Type ATTRIBUTE_Batch\n",
       "1 1  SD_01-2018_1_a.mzXML  Sample                2              \n",
       "2 2  SD_01-2018_1_b.mzXML  Sample                2              \n",
       "3 3  SD_01-2018_10_a.mzXML Sample                2              \n",
       "4 4  SD_01-2018_10_b.mzXML Sample                2              \n",
       "5 5  SD_01-2018_11_a.mzXML Sample                2              \n",
       "6 6  SD_01-2018_11_b.mzXML Sample                2              \n",
       "  ATTRIBUTE_Month ATTRIBUTE_Year ATTRIBUTE_Sample_Location ATTRIBUTE_Replicate\n",
       "1 Jan             2018            1                        a                  \n",
       "2 Jan             2018            1                        b                  \n",
       "3 Jan             2018           10                        a                  \n",
       "4 Jan             2018           10                        b                  \n",
       "5 Jan             2018           11                        a                  \n",
       "6 Jan             2018           11                        b                  \n",
       "  ATTRIBUTE_Spot ATTRIBUTE_Latitude ... X9833_268.175_2.821 X9860_240.144_2.824\n",
       "1  1             32.93365           ...  0.50953425          0.3411530         \n",
       "2  1             32.93365           ...  0.09238905          0.5326194         \n",
       "3 10             32.86261           ... -0.24639335         -0.2865859         \n",
       "4 10             32.86261           ... -0.25192058         -0.2285435         \n",
       "5 11             32.85601           ... -0.28563018         -0.2476378         \n",
       "6 11             32.85601           ... -0.24677023         -0.2403817         \n",
       "  X9876_414.139_2.761 X9884_190.05_2.832 X9897_333.144_2.881 X9909_400.16_2.813\n",
       "1 -0.9690079          -0.2136334         -1.0317304          -0.3097998        \n",
       "2  1.0516269          -0.3038794         -0.1930184          -0.7478181        \n",
       "3  4.3836879          -0.6676765         -0.4632050           4.5197644        \n",
       "4  0.4843269          -0.5684610          1.5535042          -0.8303057        \n",
       "5  1.5809568          -0.6620708          0.3906509          -0.6962297        \n",
       "6  0.3811471          -0.6653472         -1.1098859           3.4050080        \n",
       "  X9918_252.123_2.833 X9957_402.139_3.01 X9972_323.123_2.716\n",
       "1 -0.177995            1.1679223         -0.9536029         \n",
       "2  1.252001            0.9551530         -0.9361819         \n",
       "3  2.438135           -0.7384554          1.9221174         \n",
       "4  1.434401            4.0595393          0.6681850         \n",
       "5  2.185162           -0.5521619          0.4461508         \n",
       "6  1.824056           -0.6258216         -0.7639999         \n",
       "  X9995_276.159_2.805\n",
       "1 -0.720846274       \n",
       "2 -0.008639177       \n",
       "3  0.486389335       \n",
       "4  0.985037345       \n",
       "5  1.021271440       \n",
       "6 -0.815254939       "
      ]
     },
     "metadata": {},
     "output_type": "display_data"
    }
   ],
   "source": [
    "head(Data)"
   ]
  },
  {
   "cell_type": "code",
   "execution_count": 20,
   "id": "efebb471-c283-43f1-9314-fad7542af290",
   "metadata": {},
   "outputs": [],
   "source": [
    "Data <- Data[,-1] #removing the 1st column with row numbers"
   ]
  },
  {
   "cell_type": "markdown",
   "id": "37a1d413-38d1-4e6c-8ff7-4af0785f3038",
   "metadata": {},
   "source": [
    "Add a column named 'ATTRIBUTE_rainfall' as a binary class. The samples retrieved in January are encoded as 1 while all the other months are encoded as 0."
   ]
  },
  {
   "cell_type": "code",
   "execution_count": 21,
   "id": "31d0b6cc-c4fe-41ac-bc39-1adea0ed25a2",
   "metadata": {},
   "outputs": [],
   "source": [
    "Data <- Data %>% add_column(ATTRIBUTE_rainfall=ifelse(Data$ATTRIBUTE_Month==\"Jan\",1,0),\n",
    "                          .before = 10) #adding the column before 10th column. You can define any number; we define it 10 because metadata info are in the beginning columns"
   ]
  },
  {
   "cell_type": "code",
   "execution_count": 23,
   "id": "d5af2839-0635-4f17-817a-9ae2358f9b29",
   "metadata": {},
   "outputs": [
    {
     "name": "stdout",
     "output_type": "stream",
     "text": [
      " [1] \"filename\"                  \"ATTRIBUTE_Sample.Type\"    \n",
      " [3] \"ATTRIBUTE_Batch\"           \"ATTRIBUTE_Month\"          \n",
      " [5] \"ATTRIBUTE_Year\"            \"ATTRIBUTE_Sample_Location\"\n",
      " [7] \"ATTRIBUTE_Replicate\"       \"ATTRIBUTE_Spot\"           \n",
      " [9] \"ATTRIBUTE_Latitude\"        \"ATTRIBUTE_rainfall\"       \n",
      "[11] \"ATTRIBUTE_Longitude\"       \"ATTRIBUTE_Sample_Area\"    \n",
      "[13] \"ATTRIBUTE_Spot_Name\"       \"ATTRIBUTE_time_run\"       \n",
      "[15] \"ATTRIBUTE_Injection_order\" \"X10015_282.169_2.763\"     \n",
      "[17] \"X10035_325.139_2.817\"      \"X10037_216.123_2.847\"     \n",
      "[19] \"X10047_338.159_2.845\"      \"X10058_280.117_2.961\"     \n"
     ]
    }
   ],
   "source": [
    "print(colnames(Data)[1:20]) #looking at the first 20 column names to see if ATTRIBUTE_rainfall is added. By using print() we get the index number"
   ]
  },
  {
   "cell_type": "code",
   "execution_count": 24,
   "id": "fbb48cee-1306-4339-9de6-02c5ccd2e0e5",
   "metadata": {},
   "outputs": [
    {
     "data": {
      "text/plain": [
       "\n",
       "  0   1 \n",
       "120  60 "
      ]
     },
     "metadata": {},
     "output_type": "display_data"
    }
   ],
   "source": [
    "# Distribution of binary class:\n",
    "table(Data$ATTRIBUTE_rainfall) #table() tabulates the different categories in the column"
   ]
  },
  {
   "cell_type": "markdown",
   "id": "cc6f5e64-eb54-4112-942f-9b2a59fa9486",
   "metadata": {},
   "source": [
    "Thus, 120 files belong to level '0' and 60 files in level '1'."
   ]
  },
  {
   "cell_type": "code",
   "execution_count": 25,
   "id": "384f0485-248c-48fc-9073-9a6e9105f181",
   "metadata": {},
   "outputs": [
    {
     "data": {
      "text/html": [
       "<table class=\"dataframe\">\n",
       "<caption>A data.table: 3 × 15</caption>\n",
       "<thead>\n",
       "\t<tr><th scope=col>filename</th><th scope=col>ATTRIBUTE_Sample.Type</th><th scope=col>ATTRIBUTE_Batch</th><th scope=col>ATTRIBUTE_Month</th><th scope=col>ATTRIBUTE_Year</th><th scope=col>ATTRIBUTE_Sample_Location</th><th scope=col>ATTRIBUTE_Replicate</th><th scope=col>ATTRIBUTE_Spot</th><th scope=col>ATTRIBUTE_Latitude</th><th scope=col>ATTRIBUTE_rainfall</th><th scope=col>ATTRIBUTE_Longitude</th><th scope=col>ATTRIBUTE_Sample_Area</th><th scope=col>ATTRIBUTE_Spot_Name</th><th scope=col>ATTRIBUTE_time_run</th><th scope=col>ATTRIBUTE_Injection_order</th></tr>\n",
       "\t<tr><th scope=col>&lt;chr&gt;</th><th scope=col>&lt;chr&gt;</th><th scope=col>&lt;int&gt;</th><th scope=col>&lt;chr&gt;</th><th scope=col>&lt;int&gt;</th><th scope=col>&lt;int&gt;</th><th scope=col>&lt;chr&gt;</th><th scope=col>&lt;int&gt;</th><th scope=col>&lt;dbl&gt;</th><th scope=col>&lt;dbl&gt;</th><th scope=col>&lt;dbl&gt;</th><th scope=col>&lt;chr&gt;</th><th scope=col>&lt;chr&gt;</th><th scope=col>&lt;chr&gt;</th><th scope=col>&lt;int&gt;</th></tr>\n",
       "</thead>\n",
       "<tbody>\n",
       "\t<tr><td>SD_01-2018_1_a.mzXML </td><td>Sample</td><td>2</td><td>Jan</td><td>2018</td><td> 1</td><td>a</td><td> 1</td><td>32.93365</td><td>1</td><td>-117.2648</td><td>Torrey_Pines       </td><td>Lagoon_Outlet </td><td>16/01/2018 11:36</td><td>65</td></tr>\n",
       "\t<tr><td>SD_01-2018_1_b.mzXML </td><td>Sample</td><td>2</td><td>Jan</td><td>2018</td><td> 1</td><td>b</td><td> 1</td><td>32.93365</td><td>1</td><td>-117.2648</td><td>Torrey_Pines       </td><td>Lagoon_Outlet </td><td>16/01/2018 11:52</td><td>66</td></tr>\n",
       "\t<tr><td>SD_01-2018_10_a.mzXML</td><td>Sample</td><td>2</td><td>Jan</td><td>2018</td><td>10</td><td>a</td><td>10</td><td>32.86261</td><td>1</td><td>-117.2604</td><td>SIO_La_Jolla_Shores</td><td>SIO_South_Pier</td><td>16/01/2018 16:23</td><td>83</td></tr>\n",
       "</tbody>\n",
       "</table>\n"
      ],
      "text/latex": [
       "A data.table: 3 × 15\n",
       "\\begin{tabular}{lllllllllllllll}\n",
       " filename & ATTRIBUTE\\_Sample.Type & ATTRIBUTE\\_Batch & ATTRIBUTE\\_Month & ATTRIBUTE\\_Year & ATTRIBUTE\\_Sample\\_Location & ATTRIBUTE\\_Replicate & ATTRIBUTE\\_Spot & ATTRIBUTE\\_Latitude & ATTRIBUTE\\_rainfall & ATTRIBUTE\\_Longitude & ATTRIBUTE\\_Sample\\_Area & ATTRIBUTE\\_Spot\\_Name & ATTRIBUTE\\_time\\_run & ATTRIBUTE\\_Injection\\_order\\\\\n",
       " <chr> & <chr> & <int> & <chr> & <int> & <int> & <chr> & <int> & <dbl> & <dbl> & <dbl> & <chr> & <chr> & <chr> & <int>\\\\\n",
       "\\hline\n",
       "\t SD\\_01-2018\\_1\\_a.mzXML  & Sample & 2 & Jan & 2018 &  1 & a &  1 & 32.93365 & 1 & -117.2648 & Torrey\\_Pines        & Lagoon\\_Outlet  & 16/01/2018 11:36 & 65\\\\\n",
       "\t SD\\_01-2018\\_1\\_b.mzXML  & Sample & 2 & Jan & 2018 &  1 & b &  1 & 32.93365 & 1 & -117.2648 & Torrey\\_Pines        & Lagoon\\_Outlet  & 16/01/2018 11:52 & 66\\\\\n",
       "\t SD\\_01-2018\\_10\\_a.mzXML & Sample & 2 & Jan & 2018 & 10 & a & 10 & 32.86261 & 1 & -117.2604 & SIO\\_La\\_Jolla\\_Shores & SIO\\_South\\_Pier & 16/01/2018 16:23 & 83\\\\\n",
       "\\end{tabular}\n"
      ],
      "text/markdown": [
       "\n",
       "A data.table: 3 × 15\n",
       "\n",
       "| filename &lt;chr&gt; | ATTRIBUTE_Sample.Type &lt;chr&gt; | ATTRIBUTE_Batch &lt;int&gt; | ATTRIBUTE_Month &lt;chr&gt; | ATTRIBUTE_Year &lt;int&gt; | ATTRIBUTE_Sample_Location &lt;int&gt; | ATTRIBUTE_Replicate &lt;chr&gt; | ATTRIBUTE_Spot &lt;int&gt; | ATTRIBUTE_Latitude &lt;dbl&gt; | ATTRIBUTE_rainfall &lt;dbl&gt; | ATTRIBUTE_Longitude &lt;dbl&gt; | ATTRIBUTE_Sample_Area &lt;chr&gt; | ATTRIBUTE_Spot_Name &lt;chr&gt; | ATTRIBUTE_time_run &lt;chr&gt; | ATTRIBUTE_Injection_order &lt;int&gt; |\n",
       "|---|---|---|---|---|---|---|---|---|---|---|---|---|---|---|\n",
       "| SD_01-2018_1_a.mzXML  | Sample | 2 | Jan | 2018 |  1 | a |  1 | 32.93365 | 1 | -117.2648 | Torrey_Pines        | Lagoon_Outlet  | 16/01/2018 11:36 | 65 |\n",
       "| SD_01-2018_1_b.mzXML  | Sample | 2 | Jan | 2018 |  1 | b |  1 | 32.93365 | 1 | -117.2648 | Torrey_Pines        | Lagoon_Outlet  | 16/01/2018 11:52 | 66 |\n",
       "| SD_01-2018_10_a.mzXML | Sample | 2 | Jan | 2018 | 10 | a | 10 | 32.86261 | 1 | -117.2604 | SIO_La_Jolla_Shores | SIO_South_Pier | 16/01/2018 16:23 | 83 |\n",
       "\n"
      ],
      "text/plain": [
       "  filename              ATTRIBUTE_Sample.Type ATTRIBUTE_Batch ATTRIBUTE_Month\n",
       "1 SD_01-2018_1_a.mzXML  Sample                2               Jan            \n",
       "2 SD_01-2018_1_b.mzXML  Sample                2               Jan            \n",
       "3 SD_01-2018_10_a.mzXML Sample                2               Jan            \n",
       "  ATTRIBUTE_Year ATTRIBUTE_Sample_Location ATTRIBUTE_Replicate ATTRIBUTE_Spot\n",
       "1 2018            1                        a                    1            \n",
       "2 2018            1                        b                    1            \n",
       "3 2018           10                        a                   10            \n",
       "  ATTRIBUTE_Latitude ATTRIBUTE_rainfall ATTRIBUTE_Longitude\n",
       "1 32.93365           1                  -117.2648          \n",
       "2 32.93365           1                  -117.2648          \n",
       "3 32.86261           1                  -117.2604          \n",
       "  ATTRIBUTE_Sample_Area ATTRIBUTE_Spot_Name ATTRIBUTE_time_run\n",
       "1 Torrey_Pines          Lagoon_Outlet       16/01/2018 11:36  \n",
       "2 Torrey_Pines          Lagoon_Outlet       16/01/2018 11:52  \n",
       "3 SIO_La_Jolla_Shores   SIO_South_Pier      16/01/2018 16:23  \n",
       "  ATTRIBUTE_Injection_order\n",
       "1 65                       \n",
       "2 66                       \n",
       "3 83                       "
      ]
     },
     "metadata": {},
     "output_type": "display_data"
    }
   ],
   "source": [
    "# metadata\n",
    "head(Data[,1:15], n=3) #Looking at the first 15 columns of Data; n=3 shows the first 3 rows"
   ]
  },
  {
   "cell_type": "code",
   "execution_count": 26,
   "id": "cfbb8770-82e6-4cd5-b63d-6eefadbe9b9f",
   "metadata": {},
   "outputs": [
    {
     "data": {
      "text/html": [
       "<table class=\"dataframe\">\n",
       "<caption>A data.table: 3 × 9092</caption>\n",
       "<thead>\n",
       "\t<tr><th scope=col>X10015_282.169_2.763</th><th scope=col>X10035_325.139_2.817</th><th scope=col>X10037_216.123_2.847</th><th scope=col>X10047_338.159_2.845</th><th scope=col>X10058_280.117_2.961</th><th scope=col>X10059_414.175_2.851</th><th scope=col>X10072_305.157_2.851</th><th scope=col>X10074_283.175_2.851</th><th scope=col>X10078_300.201_2.851</th><th scope=col>X10082_309.144_2.886</th><th scope=col>...</th><th scope=col>X9833_268.175_2.821</th><th scope=col>X9860_240.144_2.824</th><th scope=col>X9876_414.139_2.761</th><th scope=col>X9884_190.05_2.832</th><th scope=col>X9897_333.144_2.881</th><th scope=col>X9909_400.16_2.813</th><th scope=col>X9918_252.123_2.833</th><th scope=col>X9957_402.139_3.01</th><th scope=col>X9972_323.123_2.716</th><th scope=col>X9995_276.159_2.805</th></tr>\n",
       "\t<tr><th scope=col>&lt;dbl&gt;</th><th scope=col>&lt;dbl&gt;</th><th scope=col>&lt;dbl&gt;</th><th scope=col>&lt;dbl&gt;</th><th scope=col>&lt;dbl&gt;</th><th scope=col>&lt;dbl&gt;</th><th scope=col>&lt;dbl&gt;</th><th scope=col>&lt;dbl&gt;</th><th scope=col>&lt;dbl&gt;</th><th scope=col>&lt;dbl&gt;</th><th scope=col>...</th><th scope=col>&lt;dbl&gt;</th><th scope=col>&lt;dbl&gt;</th><th scope=col>&lt;dbl&gt;</th><th scope=col>&lt;dbl&gt;</th><th scope=col>&lt;dbl&gt;</th><th scope=col>&lt;dbl&gt;</th><th scope=col>&lt;dbl&gt;</th><th scope=col>&lt;dbl&gt;</th><th scope=col>&lt;dbl&gt;</th><th scope=col>&lt;dbl&gt;</th></tr>\n",
       "</thead>\n",
       "<tbody>\n",
       "\t<tr><td>-1.1304738</td><td>-0.2996871</td><td>-0.1117275</td><td>2.2186171</td><td>-1.452146</td><td>-0.17593037</td><td>-0.3434611</td><td>-0.1778404</td><td>-0.1933466</td><td>-0.98676658</td><td>...</td><td> 0.50953425</td><td> 0.3411530</td><td>-0.9690079</td><td>-0.2136334</td><td>-1.0317304</td><td>-0.3097998</td><td>-0.177995</td><td> 1.1679223</td><td>-0.9536029</td><td>-0.720846274</td></tr>\n",
       "\t<tr><td>-1.1265155</td><td>-0.6037355</td><td> 1.9885898</td><td>0.2986375</td><td>-1.028317</td><td> 0.38485813</td><td>-0.3749450</td><td>-0.1894778</td><td>-0.1876122</td><td> 0.01064504</td><td>...</td><td> 0.09238905</td><td> 0.5326194</td><td> 1.0516269</td><td>-0.3038794</td><td>-0.1930184</td><td>-0.7478181</td><td> 1.252001</td><td> 0.9551530</td><td>-0.9361819</td><td>-0.008639177</td></tr>\n",
       "\t<tr><td>-0.6995949</td><td>-0.4612301</td><td>-0.3618842</td><td>1.2580121</td><td> 0.747262</td><td>-0.05869551</td><td>-0.4289946</td><td>-0.2615139</td><td>-0.2501572</td><td>-0.56453788</td><td>...</td><td>-0.24639335</td><td>-0.2865859</td><td> 4.3836879</td><td>-0.6676765</td><td>-0.4632050</td><td> 4.5197644</td><td> 2.438135</td><td>-0.7384554</td><td> 1.9221174</td><td> 0.486389335</td></tr>\n",
       "</tbody>\n",
       "</table>\n"
      ],
      "text/latex": [
       "A data.table: 3 × 9092\n",
       "\\begin{tabular}{lllllllllllllllllllll}\n",
       " X10015\\_282.169\\_2.763 & X10035\\_325.139\\_2.817 & X10037\\_216.123\\_2.847 & X10047\\_338.159\\_2.845 & X10058\\_280.117\\_2.961 & X10059\\_414.175\\_2.851 & X10072\\_305.157\\_2.851 & X10074\\_283.175\\_2.851 & X10078\\_300.201\\_2.851 & X10082\\_309.144\\_2.886 & ... & X9833\\_268.175\\_2.821 & X9860\\_240.144\\_2.824 & X9876\\_414.139\\_2.761 & X9884\\_190.05\\_2.832 & X9897\\_333.144\\_2.881 & X9909\\_400.16\\_2.813 & X9918\\_252.123\\_2.833 & X9957\\_402.139\\_3.01 & X9972\\_323.123\\_2.716 & X9995\\_276.159\\_2.805\\\\\n",
       " <dbl> & <dbl> & <dbl> & <dbl> & <dbl> & <dbl> & <dbl> & <dbl> & <dbl> & <dbl> & ... & <dbl> & <dbl> & <dbl> & <dbl> & <dbl> & <dbl> & <dbl> & <dbl> & <dbl> & <dbl>\\\\\n",
       "\\hline\n",
       "\t -1.1304738 & -0.2996871 & -0.1117275 & 2.2186171 & -1.452146 & -0.17593037 & -0.3434611 & -0.1778404 & -0.1933466 & -0.98676658 & ... &  0.50953425 &  0.3411530 & -0.9690079 & -0.2136334 & -1.0317304 & -0.3097998 & -0.177995 &  1.1679223 & -0.9536029 & -0.720846274\\\\\n",
       "\t -1.1265155 & -0.6037355 &  1.9885898 & 0.2986375 & -1.028317 &  0.38485813 & -0.3749450 & -0.1894778 & -0.1876122 &  0.01064504 & ... &  0.09238905 &  0.5326194 &  1.0516269 & -0.3038794 & -0.1930184 & -0.7478181 &  1.252001 &  0.9551530 & -0.9361819 & -0.008639177\\\\\n",
       "\t -0.6995949 & -0.4612301 & -0.3618842 & 1.2580121 &  0.747262 & -0.05869551 & -0.4289946 & -0.2615139 & -0.2501572 & -0.56453788 & ... & -0.24639335 & -0.2865859 &  4.3836879 & -0.6676765 & -0.4632050 &  4.5197644 &  2.438135 & -0.7384554 &  1.9221174 &  0.486389335\\\\\n",
       "\\end{tabular}\n"
      ],
      "text/markdown": [
       "\n",
       "A data.table: 3 × 9092\n",
       "\n",
       "| X10015_282.169_2.763 &lt;dbl&gt; | X10035_325.139_2.817 &lt;dbl&gt; | X10037_216.123_2.847 &lt;dbl&gt; | X10047_338.159_2.845 &lt;dbl&gt; | X10058_280.117_2.961 &lt;dbl&gt; | X10059_414.175_2.851 &lt;dbl&gt; | X10072_305.157_2.851 &lt;dbl&gt; | X10074_283.175_2.851 &lt;dbl&gt; | X10078_300.201_2.851 &lt;dbl&gt; | X10082_309.144_2.886 &lt;dbl&gt; | ... ... | X9833_268.175_2.821 &lt;dbl&gt; | X9860_240.144_2.824 &lt;dbl&gt; | X9876_414.139_2.761 &lt;dbl&gt; | X9884_190.05_2.832 &lt;dbl&gt; | X9897_333.144_2.881 &lt;dbl&gt; | X9909_400.16_2.813 &lt;dbl&gt; | X9918_252.123_2.833 &lt;dbl&gt; | X9957_402.139_3.01 &lt;dbl&gt; | X9972_323.123_2.716 &lt;dbl&gt; | X9995_276.159_2.805 &lt;dbl&gt; |\n",
       "|---|---|---|---|---|---|---|---|---|---|---|---|---|---|---|---|---|---|---|---|---|\n",
       "| -1.1304738 | -0.2996871 | -0.1117275 | 2.2186171 | -1.452146 | -0.17593037 | -0.3434611 | -0.1778404 | -0.1933466 | -0.98676658 | ... |  0.50953425 |  0.3411530 | -0.9690079 | -0.2136334 | -1.0317304 | -0.3097998 | -0.177995 |  1.1679223 | -0.9536029 | -0.720846274 |\n",
       "| -1.1265155 | -0.6037355 |  1.9885898 | 0.2986375 | -1.028317 |  0.38485813 | -0.3749450 | -0.1894778 | -0.1876122 |  0.01064504 | ... |  0.09238905 |  0.5326194 |  1.0516269 | -0.3038794 | -0.1930184 | -0.7478181 |  1.252001 |  0.9551530 | -0.9361819 | -0.008639177 |\n",
       "| -0.6995949 | -0.4612301 | -0.3618842 | 1.2580121 |  0.747262 | -0.05869551 | -0.4289946 | -0.2615139 | -0.2501572 | -0.56453788 | ... | -0.24639335 | -0.2865859 |  4.3836879 | -0.6676765 | -0.4632050 |  4.5197644 |  2.438135 | -0.7384554 |  1.9221174 |  0.486389335 |\n",
       "\n"
      ],
      "text/plain": [
       "  X10015_282.169_2.763 X10035_325.139_2.817 X10037_216.123_2.847\n",
       "1 -1.1304738           -0.2996871           -0.1117275          \n",
       "2 -1.1265155           -0.6037355            1.9885898          \n",
       "3 -0.6995949           -0.4612301           -0.3618842          \n",
       "  X10047_338.159_2.845 X10058_280.117_2.961 X10059_414.175_2.851\n",
       "1 2.2186171            -1.452146            -0.17593037         \n",
       "2 0.2986375            -1.028317             0.38485813         \n",
       "3 1.2580121             0.747262            -0.05869551         \n",
       "  X10072_305.157_2.851 X10074_283.175_2.851 X10078_300.201_2.851\n",
       "1 -0.3434611           -0.1778404           -0.1933466          \n",
       "2 -0.3749450           -0.1894778           -0.1876122          \n",
       "3 -0.4289946           -0.2615139           -0.2501572          \n",
       "  X10082_309.144_2.886 ... X9833_268.175_2.821 X9860_240.144_2.824\n",
       "1 -0.98676658          ...  0.50953425          0.3411530         \n",
       "2  0.01064504          ...  0.09238905          0.5326194         \n",
       "3 -0.56453788          ... -0.24639335         -0.2865859         \n",
       "  X9876_414.139_2.761 X9884_190.05_2.832 X9897_333.144_2.881 X9909_400.16_2.813\n",
       "1 -0.9690079          -0.2136334         -1.0317304          -0.3097998        \n",
       "2  1.0516269          -0.3038794         -0.1930184          -0.7478181        \n",
       "3  4.3836879          -0.6676765         -0.4632050           4.5197644        \n",
       "  X9918_252.123_2.833 X9957_402.139_3.01 X9972_323.123_2.716\n",
       "1 -0.177995            1.1679223         -0.9536029         \n",
       "2  1.252001            0.9551530         -0.9361819         \n",
       "3  2.438135           -0.7384554          1.9221174         \n",
       "  X9995_276.159_2.805\n",
       "1 -0.720846274       \n",
       "2 -0.008639177       \n",
       "3  0.486389335       "
      ]
     },
     "metadata": {},
     "output_type": "display_data"
    }
   ],
   "source": [
    "# metabolomics data\n",
    "head(Data[,16:ncol(Data)], n=3)"
   ]
  },
  {
   "cell_type": "markdown",
   "id": "1713f1ce-23ce-4c7f-b864-7efee8584675",
   "metadata": {
    "tags": []
   },
   "source": [
    "# Prepare input data: split train and test sets\n",
    "<a id=\"train_test\"></a>"
   ]
  },
  {
   "cell_type": "markdown",
   "id": "aa25c405-01c4-4f46-a6d1-fcf8927c4794",
   "metadata": {},
   "source": [
    "We divide the feature table (metabolomics data) into training and test sets. According to the sample size, we can split the data to obtain 80% for the train and 20% for the test sets. In our case, we have a relatively small sample size, therefore we will use 70% of the data for the train and 30% for the test set to have enough samples in each class."
   ]
  },
  {
   "cell_type": "markdown",
   "id": "6fffec6f-737e-48cf-99d3-097ad008ad9a",
   "metadata": {},
   "source": [
    "Then, we will use the eXtreme Gradient Boosting (XGBoost) algorithm to predict the rainfall variable.\n",
    "Useful info: <a href=\"https://xgboost.readthedocs.io/en/stable/R-package/xgboostPresentation.html\">R package for training an XGBoost model</a>, <a href=\"https://topepo.github.io/caret/\">R package 'Caret' for training different machine learning models</a>"
   ]
  },
  {
   "cell_type": "markdown",
   "id": "a1f4e217-b37a-4145-b5fe-1370b1684cb7",
   "metadata": {},
   "source": [
    "<b> Critical</b>: When our class of interest is binary and unbalanced, we need to be mindful of it while training our XGBoost model. In such cases, we can use the parameter <a href=\"https://xgboost.readthedocs.io/en/latest/parameter.html\">scale_pos_weight</a>, where a typical value to consider is sum(negative instances) / sum(positive instances)."
   ]
  },
  {
   "cell_type": "code",
   "execution_count": 216,
   "id": "492cc813-f781-4104-8d2d-6e009948a2cd",
   "metadata": {},
   "outputs": [],
   "source": [
    "set.seed(1234) # Set random seed to make results reproducible\n",
    "trainIndex <- caret::createDataPartition(Data$ATTRIBUTE_Sample_Area, \n",
    "                                         p = 0.7, #percentage of data to train\n",
    "                                         list = FALSE, # indicating that the results do not need to be in a list\n",
    "                                         times = 1) # the number of partitions to create\n",
    "\n",
    "ftTrain <- Data[trainIndex,] #all the rows from Data based on the trainIndex will be taken as train\n",
    "ftTest  <- Data[-trainIndex,] #the remaining rows from Data will be taken as test set"
   ]
  },
  {
   "cell_type": "code",
   "execution_count": 95,
   "id": "d3789020-1047-4f15-8d8a-f30cb0f35998",
   "metadata": {},
   "outputs": [
    {
     "data": {
      "text/html": [
       "<table class=\"dataframe\">\n",
       "<caption>A data.frame: 2 × 9107</caption>\n",
       "<thead>\n",
       "\t<tr><th></th><th scope=col>filename</th><th scope=col>ATTRIBUTE_Sample.Type</th><th scope=col>ATTRIBUTE_Batch</th><th scope=col>ATTRIBUTE_Month</th><th scope=col>ATTRIBUTE_Year</th><th scope=col>ATTRIBUTE_Sample_Location</th><th scope=col>ATTRIBUTE_Replicate</th><th scope=col>ATTRIBUTE_Spot</th><th scope=col>ATTRIBUTE_Latitude</th><th scope=col>ATTRIBUTE_rainfall</th><th scope=col>...</th><th scope=col>X9833_268.175_2.821</th><th scope=col>X9860_240.144_2.824</th><th scope=col>X9876_414.139_2.761</th><th scope=col>X9884_190.05_2.832</th><th scope=col>X9897_333.144_2.881</th><th scope=col>X9909_400.16_2.813</th><th scope=col>X9918_252.123_2.833</th><th scope=col>X9957_402.139_3.01</th><th scope=col>X9972_323.123_2.716</th><th scope=col>X9995_276.159_2.805</th></tr>\n",
       "\t<tr><th></th><th scope=col>&lt;chr&gt;</th><th scope=col>&lt;chr&gt;</th><th scope=col>&lt;int&gt;</th><th scope=col>&lt;chr&gt;</th><th scope=col>&lt;int&gt;</th><th scope=col>&lt;int&gt;</th><th scope=col>&lt;chr&gt;</th><th scope=col>&lt;int&gt;</th><th scope=col>&lt;dbl&gt;</th><th scope=col>&lt;dbl&gt;</th><th scope=col>...</th><th scope=col>&lt;dbl&gt;</th><th scope=col>&lt;dbl&gt;</th><th scope=col>&lt;dbl&gt;</th><th scope=col>&lt;dbl&gt;</th><th scope=col>&lt;dbl&gt;</th><th scope=col>&lt;dbl&gt;</th><th scope=col>&lt;dbl&gt;</th><th scope=col>&lt;dbl&gt;</th><th scope=col>&lt;dbl&gt;</th><th scope=col>&lt;dbl&gt;</th></tr>\n",
       "</thead>\n",
       "<tbody>\n",
       "\t<tr><th scope=row>SD_01-2018_1_b.mzXML</th><td>SD_01-2018_1_b.mzXML </td><td>Sample</td><td>2</td><td>Jan</td><td>2018</td><td> 1</td><td>b</td><td> 1</td><td>32.93365</td><td>1</td><td>...</td><td> 0.09238905</td><td> 0.5326194</td><td>1.051627</td><td>-0.3038794</td><td>-0.1930184</td><td>-0.7478181</td><td>1.252001</td><td> 0.9551530</td><td>-0.9361819</td><td>-0.008639177</td></tr>\n",
       "\t<tr><th scope=row>SD_01-2018_10_a.mzXML</th><td>SD_01-2018_10_a.mzXML</td><td>Sample</td><td>2</td><td>Jan</td><td>2018</td><td>10</td><td>a</td><td>10</td><td>32.86261</td><td>1</td><td>...</td><td>-0.24639335</td><td>-0.2865859</td><td>4.383688</td><td>-0.6676765</td><td>-0.4632050</td><td> 4.5197644</td><td>2.438135</td><td>-0.7384554</td><td> 1.9221174</td><td> 0.486389335</td></tr>\n",
       "</tbody>\n",
       "</table>\n"
      ],
      "text/latex": [
       "A data.frame: 2 × 9107\n",
       "\\begin{tabular}{r|lllllllllllllllllllll}\n",
       "  & filename & ATTRIBUTE\\_Sample.Type & ATTRIBUTE\\_Batch & ATTRIBUTE\\_Month & ATTRIBUTE\\_Year & ATTRIBUTE\\_Sample\\_Location & ATTRIBUTE\\_Replicate & ATTRIBUTE\\_Spot & ATTRIBUTE\\_Latitude & ATTRIBUTE\\_rainfall & ... & X9833\\_268.175\\_2.821 & X9860\\_240.144\\_2.824 & X9876\\_414.139\\_2.761 & X9884\\_190.05\\_2.832 & X9897\\_333.144\\_2.881 & X9909\\_400.16\\_2.813 & X9918\\_252.123\\_2.833 & X9957\\_402.139\\_3.01 & X9972\\_323.123\\_2.716 & X9995\\_276.159\\_2.805\\\\\n",
       "  & <chr> & <chr> & <int> & <chr> & <int> & <int> & <chr> & <int> & <dbl> & <dbl> & ... & <dbl> & <dbl> & <dbl> & <dbl> & <dbl> & <dbl> & <dbl> & <dbl> & <dbl> & <dbl>\\\\\n",
       "\\hline\n",
       "\tSD\\_01-2018\\_1\\_b.mzXML & SD\\_01-2018\\_1\\_b.mzXML  & Sample & 2 & Jan & 2018 &  1 & b &  1 & 32.93365 & 1 & ... &  0.09238905 &  0.5326194 & 1.051627 & -0.3038794 & -0.1930184 & -0.7478181 & 1.252001 &  0.9551530 & -0.9361819 & -0.008639177\\\\\n",
       "\tSD\\_01-2018\\_10\\_a.mzXML & SD\\_01-2018\\_10\\_a.mzXML & Sample & 2 & Jan & 2018 & 10 & a & 10 & 32.86261 & 1 & ... & -0.24639335 & -0.2865859 & 4.383688 & -0.6676765 & -0.4632050 &  4.5197644 & 2.438135 & -0.7384554 &  1.9221174 &  0.486389335\\\\\n",
       "\\end{tabular}\n"
      ],
      "text/markdown": [
       "\n",
       "A data.frame: 2 × 9107\n",
       "\n",
       "| <!--/--> | filename &lt;chr&gt; | ATTRIBUTE_Sample.Type &lt;chr&gt; | ATTRIBUTE_Batch &lt;int&gt; | ATTRIBUTE_Month &lt;chr&gt; | ATTRIBUTE_Year &lt;int&gt; | ATTRIBUTE_Sample_Location &lt;int&gt; | ATTRIBUTE_Replicate &lt;chr&gt; | ATTRIBUTE_Spot &lt;int&gt; | ATTRIBUTE_Latitude &lt;dbl&gt; | ATTRIBUTE_rainfall &lt;dbl&gt; | ... ... | X9833_268.175_2.821 &lt;dbl&gt; | X9860_240.144_2.824 &lt;dbl&gt; | X9876_414.139_2.761 &lt;dbl&gt; | X9884_190.05_2.832 &lt;dbl&gt; | X9897_333.144_2.881 &lt;dbl&gt; | X9909_400.16_2.813 &lt;dbl&gt; | X9918_252.123_2.833 &lt;dbl&gt; | X9957_402.139_3.01 &lt;dbl&gt; | X9972_323.123_2.716 &lt;dbl&gt; | X9995_276.159_2.805 &lt;dbl&gt; |\n",
       "|---|---|---|---|---|---|---|---|---|---|---|---|---|---|---|---|---|---|---|---|---|---|\n",
       "| SD_01-2018_1_b.mzXML | SD_01-2018_1_b.mzXML  | Sample | 2 | Jan | 2018 |  1 | b |  1 | 32.93365 | 1 | ... |  0.09238905 |  0.5326194 | 1.051627 | -0.3038794 | -0.1930184 | -0.7478181 | 1.252001 |  0.9551530 | -0.9361819 | -0.008639177 |\n",
       "| SD_01-2018_10_a.mzXML | SD_01-2018_10_a.mzXML | Sample | 2 | Jan | 2018 | 10 | a | 10 | 32.86261 | 1 | ... | -0.24639335 | -0.2865859 | 4.383688 | -0.6676765 | -0.4632050 |  4.5197644 | 2.438135 | -0.7384554 |  1.9221174 |  0.486389335 |\n",
       "\n"
      ],
      "text/plain": [
       "                      filename              ATTRIBUTE_Sample.Type\n",
       "SD_01-2018_1_b.mzXML  SD_01-2018_1_b.mzXML  Sample               \n",
       "SD_01-2018_10_a.mzXML SD_01-2018_10_a.mzXML Sample               \n",
       "                      ATTRIBUTE_Batch ATTRIBUTE_Month ATTRIBUTE_Year\n",
       "SD_01-2018_1_b.mzXML  2               Jan             2018          \n",
       "SD_01-2018_10_a.mzXML 2               Jan             2018          \n",
       "                      ATTRIBUTE_Sample_Location ATTRIBUTE_Replicate\n",
       "SD_01-2018_1_b.mzXML   1                        b                  \n",
       "SD_01-2018_10_a.mzXML 10                        a                  \n",
       "                      ATTRIBUTE_Spot ATTRIBUTE_Latitude ATTRIBUTE_rainfall ...\n",
       "SD_01-2018_1_b.mzXML   1             32.93365           1                  ...\n",
       "SD_01-2018_10_a.mzXML 10             32.86261           1                  ...\n",
       "                      X9833_268.175_2.821 X9860_240.144_2.824\n",
       "SD_01-2018_1_b.mzXML   0.09238905          0.5326194         \n",
       "SD_01-2018_10_a.mzXML -0.24639335         -0.2865859         \n",
       "                      X9876_414.139_2.761 X9884_190.05_2.832\n",
       "SD_01-2018_1_b.mzXML  1.051627            -0.3038794        \n",
       "SD_01-2018_10_a.mzXML 4.383688            -0.6676765        \n",
       "                      X9897_333.144_2.881 X9909_400.16_2.813\n",
       "SD_01-2018_1_b.mzXML  -0.1930184          -0.7478181        \n",
       "SD_01-2018_10_a.mzXML -0.4632050           4.5197644        \n",
       "                      X9918_252.123_2.833 X9957_402.139_3.01\n",
       "SD_01-2018_1_b.mzXML  1.252001             0.9551530        \n",
       "SD_01-2018_10_a.mzXML 2.438135            -0.7384554        \n",
       "                      X9972_323.123_2.716 X9995_276.159_2.805\n",
       "SD_01-2018_1_b.mzXML  -0.9361819          -0.008639177       \n",
       "SD_01-2018_10_a.mzXML  1.9221174           0.486389335       "
      ]
     },
     "metadata": {},
     "output_type": "display_data"
    },
    {
     "data": {
      "text/html": [
       "<table class=\"dataframe\">\n",
       "<caption>A data.frame: 2 × 9107</caption>\n",
       "<thead>\n",
       "\t<tr><th></th><th scope=col>filename</th><th scope=col>ATTRIBUTE_Sample.Type</th><th scope=col>ATTRIBUTE_Batch</th><th scope=col>ATTRIBUTE_Month</th><th scope=col>ATTRIBUTE_Year</th><th scope=col>ATTRIBUTE_Sample_Location</th><th scope=col>ATTRIBUTE_Replicate</th><th scope=col>ATTRIBUTE_Spot</th><th scope=col>ATTRIBUTE_Latitude</th><th scope=col>ATTRIBUTE_rainfall</th><th scope=col>...</th><th scope=col>X9833_268.175_2.821</th><th scope=col>X9860_240.144_2.824</th><th scope=col>X9876_414.139_2.761</th><th scope=col>X9884_190.05_2.832</th><th scope=col>X9897_333.144_2.881</th><th scope=col>X9909_400.16_2.813</th><th scope=col>X9918_252.123_2.833</th><th scope=col>X9957_402.139_3.01</th><th scope=col>X9972_323.123_2.716</th><th scope=col>X9995_276.159_2.805</th></tr>\n",
       "\t<tr><th></th><th scope=col>&lt;chr&gt;</th><th scope=col>&lt;chr&gt;</th><th scope=col>&lt;int&gt;</th><th scope=col>&lt;chr&gt;</th><th scope=col>&lt;int&gt;</th><th scope=col>&lt;int&gt;</th><th scope=col>&lt;chr&gt;</th><th scope=col>&lt;int&gt;</th><th scope=col>&lt;dbl&gt;</th><th scope=col>&lt;dbl&gt;</th><th scope=col>...</th><th scope=col>&lt;dbl&gt;</th><th scope=col>&lt;dbl&gt;</th><th scope=col>&lt;dbl&gt;</th><th scope=col>&lt;dbl&gt;</th><th scope=col>&lt;dbl&gt;</th><th scope=col>&lt;dbl&gt;</th><th scope=col>&lt;dbl&gt;</th><th scope=col>&lt;dbl&gt;</th><th scope=col>&lt;dbl&gt;</th><th scope=col>&lt;dbl&gt;</th></tr>\n",
       "</thead>\n",
       "<tbody>\n",
       "\t<tr><th scope=row>SD_01-2018_1_a.mzXML</th><td>SD_01-2018_1_a.mzXML </td><td>Sample</td><td>2</td><td>Jan</td><td>2018</td><td> 1</td><td>a</td><td> 1</td><td>32.93365</td><td>1</td><td>...</td><td> 0.5095343</td><td> 0.341153</td><td>-0.9690079</td><td>-0.2136334</td><td>-1.0317304</td><td>-0.3097998</td><td>-0.177995</td><td>1.167922</td><td>-0.9536029</td><td>-0.7208463</td></tr>\n",
       "\t<tr><th scope=row>SD_01-2018_12_b.mzXML</th><td>SD_01-2018_12_b.mzXML</td><td>Sample</td><td>2</td><td>Jan</td><td>2018</td><td>12</td><td>b</td><td>12</td><td>32.85161</td><td>1</td><td>...</td><td>-0.2436331</td><td>-0.242753</td><td> 1.8453228</td><td>-0.5062281</td><td>-0.5210866</td><td>-0.7371961</td><td> 1.232944</td><td>2.883112</td><td>-0.7343786</td><td>-0.4035639</td></tr>\n",
       "</tbody>\n",
       "</table>\n"
      ],
      "text/latex": [
       "A data.frame: 2 × 9107\n",
       "\\begin{tabular}{r|lllllllllllllllllllll}\n",
       "  & filename & ATTRIBUTE\\_Sample.Type & ATTRIBUTE\\_Batch & ATTRIBUTE\\_Month & ATTRIBUTE\\_Year & ATTRIBUTE\\_Sample\\_Location & ATTRIBUTE\\_Replicate & ATTRIBUTE\\_Spot & ATTRIBUTE\\_Latitude & ATTRIBUTE\\_rainfall & ... & X9833\\_268.175\\_2.821 & X9860\\_240.144\\_2.824 & X9876\\_414.139\\_2.761 & X9884\\_190.05\\_2.832 & X9897\\_333.144\\_2.881 & X9909\\_400.16\\_2.813 & X9918\\_252.123\\_2.833 & X9957\\_402.139\\_3.01 & X9972\\_323.123\\_2.716 & X9995\\_276.159\\_2.805\\\\\n",
       "  & <chr> & <chr> & <int> & <chr> & <int> & <int> & <chr> & <int> & <dbl> & <dbl> & ... & <dbl> & <dbl> & <dbl> & <dbl> & <dbl> & <dbl> & <dbl> & <dbl> & <dbl> & <dbl>\\\\\n",
       "\\hline\n",
       "\tSD\\_01-2018\\_1\\_a.mzXML & SD\\_01-2018\\_1\\_a.mzXML  & Sample & 2 & Jan & 2018 &  1 & a &  1 & 32.93365 & 1 & ... &  0.5095343 &  0.341153 & -0.9690079 & -0.2136334 & -1.0317304 & -0.3097998 & -0.177995 & 1.167922 & -0.9536029 & -0.7208463\\\\\n",
       "\tSD\\_01-2018\\_12\\_b.mzXML & SD\\_01-2018\\_12\\_b.mzXML & Sample & 2 & Jan & 2018 & 12 & b & 12 & 32.85161 & 1 & ... & -0.2436331 & -0.242753 &  1.8453228 & -0.5062281 & -0.5210866 & -0.7371961 &  1.232944 & 2.883112 & -0.7343786 & -0.4035639\\\\\n",
       "\\end{tabular}\n"
      ],
      "text/markdown": [
       "\n",
       "A data.frame: 2 × 9107\n",
       "\n",
       "| <!--/--> | filename &lt;chr&gt; | ATTRIBUTE_Sample.Type &lt;chr&gt; | ATTRIBUTE_Batch &lt;int&gt; | ATTRIBUTE_Month &lt;chr&gt; | ATTRIBUTE_Year &lt;int&gt; | ATTRIBUTE_Sample_Location &lt;int&gt; | ATTRIBUTE_Replicate &lt;chr&gt; | ATTRIBUTE_Spot &lt;int&gt; | ATTRIBUTE_Latitude &lt;dbl&gt; | ATTRIBUTE_rainfall &lt;dbl&gt; | ... ... | X9833_268.175_2.821 &lt;dbl&gt; | X9860_240.144_2.824 &lt;dbl&gt; | X9876_414.139_2.761 &lt;dbl&gt; | X9884_190.05_2.832 &lt;dbl&gt; | X9897_333.144_2.881 &lt;dbl&gt; | X9909_400.16_2.813 &lt;dbl&gt; | X9918_252.123_2.833 &lt;dbl&gt; | X9957_402.139_3.01 &lt;dbl&gt; | X9972_323.123_2.716 &lt;dbl&gt; | X9995_276.159_2.805 &lt;dbl&gt; |\n",
       "|---|---|---|---|---|---|---|---|---|---|---|---|---|---|---|---|---|---|---|---|---|---|\n",
       "| SD_01-2018_1_a.mzXML | SD_01-2018_1_a.mzXML  | Sample | 2 | Jan | 2018 |  1 | a |  1 | 32.93365 | 1 | ... |  0.5095343 |  0.341153 | -0.9690079 | -0.2136334 | -1.0317304 | -0.3097998 | -0.177995 | 1.167922 | -0.9536029 | -0.7208463 |\n",
       "| SD_01-2018_12_b.mzXML | SD_01-2018_12_b.mzXML | Sample | 2 | Jan | 2018 | 12 | b | 12 | 32.85161 | 1 | ... | -0.2436331 | -0.242753 |  1.8453228 | -0.5062281 | -0.5210866 | -0.7371961 |  1.232944 | 2.883112 | -0.7343786 | -0.4035639 |\n",
       "\n"
      ],
      "text/plain": [
       "                      filename              ATTRIBUTE_Sample.Type\n",
       "SD_01-2018_1_a.mzXML  SD_01-2018_1_a.mzXML  Sample               \n",
       "SD_01-2018_12_b.mzXML SD_01-2018_12_b.mzXML Sample               \n",
       "                      ATTRIBUTE_Batch ATTRIBUTE_Month ATTRIBUTE_Year\n",
       "SD_01-2018_1_a.mzXML  2               Jan             2018          \n",
       "SD_01-2018_12_b.mzXML 2               Jan             2018          \n",
       "                      ATTRIBUTE_Sample_Location ATTRIBUTE_Replicate\n",
       "SD_01-2018_1_a.mzXML   1                        a                  \n",
       "SD_01-2018_12_b.mzXML 12                        b                  \n",
       "                      ATTRIBUTE_Spot ATTRIBUTE_Latitude ATTRIBUTE_rainfall ...\n",
       "SD_01-2018_1_a.mzXML   1             32.93365           1                  ...\n",
       "SD_01-2018_12_b.mzXML 12             32.85161           1                  ...\n",
       "                      X9833_268.175_2.821 X9860_240.144_2.824\n",
       "SD_01-2018_1_a.mzXML   0.5095343           0.341153          \n",
       "SD_01-2018_12_b.mzXML -0.2436331          -0.242753          \n",
       "                      X9876_414.139_2.761 X9884_190.05_2.832\n",
       "SD_01-2018_1_a.mzXML  -0.9690079          -0.2136334        \n",
       "SD_01-2018_12_b.mzXML  1.8453228          -0.5062281        \n",
       "                      X9897_333.144_2.881 X9909_400.16_2.813\n",
       "SD_01-2018_1_a.mzXML  -1.0317304          -0.3097998        \n",
       "SD_01-2018_12_b.mzXML -0.5210866          -0.7371961        \n",
       "                      X9918_252.123_2.833 X9957_402.139_3.01\n",
       "SD_01-2018_1_a.mzXML  -0.177995           1.167922          \n",
       "SD_01-2018_12_b.mzXML  1.232944           2.883112          \n",
       "                      X9972_323.123_2.716 X9995_276.159_2.805\n",
       "SD_01-2018_1_a.mzXML  -0.9536029          -0.7208463         \n",
       "SD_01-2018_12_b.mzXML -0.7343786          -0.4035639         "
      ]
     },
     "metadata": {},
     "output_type": "display_data"
    }
   ],
   "source": [
    "head(ftTrain, n=2)\n",
    "head(ftTest, n=2)"
   ]
  },
  {
   "cell_type": "markdown",
   "id": "bfff0c1e-b494-4c3b-87ac-40a00e55e5c3",
   "metadata": {},
   "source": [
    "Looking at the dimension of the test and train sets:"
   ]
  },
  {
   "cell_type": "code",
   "execution_count": 96,
   "id": "9e1dda15-d8cd-455e-9eac-a336a8a170c4",
   "metadata": {},
   "outputs": [
    {
     "data": {
      "text/html": [
       "<style>\n",
       ".list-inline {list-style: none; margin:0; padding: 0}\n",
       ".list-inline>li {display: inline-block}\n",
       ".list-inline>li:not(:last-child)::after {content: \"\\00b7\"; padding: 0 .5ex}\n",
       "</style>\n",
       "<ol class=list-inline><li>130</li><li>9107</li></ol>\n"
      ],
      "text/latex": [
       "\\begin{enumerate*}\n",
       "\\item 130\n",
       "\\item 9107\n",
       "\\end{enumerate*}\n"
      ],
      "text/markdown": [
       "1. 130\n",
       "2. 9107\n",
       "\n",
       "\n"
      ],
      "text/plain": [
       "[1]  130 9107"
      ]
     },
     "metadata": {},
     "output_type": "display_data"
    },
    {
     "data": {
      "text/html": [
       "<style>\n",
       ".list-inline {list-style: none; margin:0; padding: 0}\n",
       ".list-inline>li {display: inline-block}\n",
       ".list-inline>li:not(:last-child)::after {content: \"\\00b7\"; padding: 0 .5ex}\n",
       "</style>\n",
       "<ol class=list-inline><li>50</li><li>9107</li></ol>\n"
      ],
      "text/latex": [
       "\\begin{enumerate*}\n",
       "\\item 50\n",
       "\\item 9107\n",
       "\\end{enumerate*}\n"
      ],
      "text/markdown": [
       "1. 50\n",
       "2. 9107\n",
       "\n",
       "\n"
      ],
      "text/plain": [
       "[1]   50 9107"
      ]
     },
     "metadata": {},
     "output_type": "display_data"
    }
   ],
   "source": [
    "dim(ftTrain) # 130 rows or files as train data\n",
    "dim(ftTest) # 50 rows or files as test data"
   ]
  },
  {
   "cell_type": "markdown",
   "id": "cc4b1958-0ac5-476a-9569-068c05152f7e",
   "metadata": {},
   "source": [
    "Lets have a look at the class distribution of these train and test sets to see if the data is distributed among all categories."
   ]
  },
  {
   "cell_type": "code",
   "execution_count": 97,
   "id": "bfc43fcb-dc9a-4d93-a800-39dcd824f7f3",
   "metadata": {},
   "outputs": [
    {
     "data": {
      "text/plain": [
       "\n",
       "     La_Jolla Reefs       La_Jolla_Cove         Mission_Bay       Mission_Beach \n",
       "                 26                   9                  26                  13 \n",
       "      Pacific_Beach SIO_La_Jolla_Shores        Torrey_Pines \n",
       "                  9                  13                  34 "
      ]
     },
     "metadata": {},
     "output_type": "display_data"
    }
   ],
   "source": [
    "table(ftTrain$ATTRIBUTE_Sample_Area) #class distribution for train"
   ]
  },
  {
   "cell_type": "code",
   "execution_count": 98,
   "id": "487f2c56-8948-4054-ad01-e9045be3f099",
   "metadata": {},
   "outputs": [
    {
     "data": {
      "text/plain": [
       "\n",
       "     La_Jolla Reefs       La_Jolla_Cove         Mission_Bay       Mission_Beach \n",
       "                 10                   3                  10                   5 \n",
       "      Pacific_Beach SIO_La_Jolla_Shores        Torrey_Pines \n",
       "                  3                   5                  14 "
      ]
     },
     "metadata": {},
     "output_type": "display_data"
    }
   ],
   "source": [
    "table(ftTest$ATTRIBUTE_Sample_Area) #class distribution for test"
   ]
  },
  {
   "cell_type": "code",
   "execution_count": 99,
   "id": "1fdf8a86-82c3-40af-957f-d8324af864dd",
   "metadata": {},
   "outputs": [],
   "source": [
    "# prepare input data (feature table and binary class) for XGBoost:\n",
    "train_x <- ftTrain[,16:ncol(ftTrain)] # metabolomics data\n",
    "train_y <- as.factor(ftTrain$ATTRIBUTE_Sample_Area) # variable of interest\n",
    "\n",
    "test_x <- ftTest[,16:ncol(ftTest)] # metabolomics data\n",
    "test_y <- as.factor(ftTest$ATTRIBUTE_Sample_Area) # variable of interest"
   ]
  },
  {
   "cell_type": "code",
   "execution_count": 100,
   "id": "1112665d-33db-4a24-864d-cf86571432f7",
   "metadata": {},
   "outputs": [
    {
     "data": {
      "text/html": [
       "<style>\n",
       ".list-inline {list-style: none; margin:0; padding: 0}\n",
       ".list-inline>li {display: inline-block}\n",
       ".list-inline>li:not(:last-child)::after {content: \"\\00b7\"; padding: 0 .5ex}\n",
       "</style>\n",
       "<ol class=list-inline><li>130</li><li>9092</li></ol>\n"
      ],
      "text/latex": [
       "\\begin{enumerate*}\n",
       "\\item 130\n",
       "\\item 9092\n",
       "\\end{enumerate*}\n"
      ],
      "text/markdown": [
       "1. 130\n",
       "2. 9092\n",
       "\n",
       "\n"
      ],
      "text/plain": [
       "[1]  130 9092"
      ]
     },
     "metadata": {},
     "output_type": "display_data"
    },
    {
     "data": {
      "text/plain": [
       "train_y\n",
       "     La_Jolla Reefs       La_Jolla_Cove         Mission_Bay       Mission_Beach \n",
       "                 26                   9                  26                  13 \n",
       "      Pacific_Beach SIO_La_Jolla_Shores        Torrey_Pines \n",
       "                  9                  13                  34 "
      ]
     },
     "metadata": {},
     "output_type": "display_data"
    },
    {
     "data": {
      "text/html": [
       "<style>\n",
       ".list-inline {list-style: none; margin:0; padding: 0}\n",
       ".list-inline>li {display: inline-block}\n",
       ".list-inline>li:not(:last-child)::after {content: \"\\00b7\"; padding: 0 .5ex}\n",
       "</style>\n",
       "<ol class=list-inline><li>50</li><li>9092</li></ol>\n"
      ],
      "text/latex": [
       "\\begin{enumerate*}\n",
       "\\item 50\n",
       "\\item 9092\n",
       "\\end{enumerate*}\n"
      ],
      "text/markdown": [
       "1. 50\n",
       "2. 9092\n",
       "\n",
       "\n"
      ],
      "text/plain": [
       "[1]   50 9092"
      ]
     },
     "metadata": {},
     "output_type": "display_data"
    },
    {
     "data": {
      "text/plain": [
       "test_y\n",
       "     La_Jolla Reefs       La_Jolla_Cove         Mission_Bay       Mission_Beach \n",
       "                 10                   3                  10                   5 \n",
       "      Pacific_Beach SIO_La_Jolla_Shores        Torrey_Pines \n",
       "                  3                   5                  14 "
      ]
     },
     "metadata": {},
     "output_type": "display_data"
    }
   ],
   "source": [
    "dim(train_x)\n",
    "table(train_y)\n",
    "\n",
    "dim(test_x)\n",
    "table(test_y)"
   ]
  },
  {
   "cell_type": "markdown",
   "id": "48dd704d-752d-4d7c-b6df-9c7ec5fb8d25",
   "metadata": {},
   "source": [
    "# XGBoost model with default parameters\n",
    "<a id=\"xgboost_def\"></a>\n",
    "First, we perform the analysis without tuning the [parameters](https://xgboost.readthedocs.io/en/stable/parameter.html#parameters-for-tree-booster), by using default/recommended parameters to see how our basic XGBoost model performs."
   ]
  },
  {
   "cell_type": "code",
   "execution_count": 101,
   "id": "f044b0f3-dc21-4cf9-b416-8334e8e66481",
   "metadata": {},
   "outputs": [],
   "source": [
    "# register eight cores on the same machine for parallel computing --> to increase the speed of R to perform XGBoost\n",
    "n_threads <- 8 # this parameter is used by XGBoost\n",
    "cl <- parallel::makePSOCKcluster(n_threads)\n",
    "registerDoParallel(cl)"
   ]
  },
  {
   "cell_type": "code",
   "execution_count": 102,
   "id": "0d5c6afd-cd7c-4ea5-852f-c5cd1556f0c6",
   "metadata": {},
   "outputs": [],
   "source": [
    "# All the parameters are defined with their default values:\n",
    "grid_default <- expand.grid(\n",
    "    nrounds = 500, #no.of iterations\n",
    "    max_depth = 6, #maximum depth of a decision tree\n",
    "    eta = 0.3, #learning rate\n",
    "    gamma = 0, # regularization parameter (0=no regularization): Increasing the gamma will make the algorithm mre conservative\n",
    "    subsample = 1, # sampling ratio for training. XGBoost would randomly sample all the training data before growing trees to prevent overfitting\n",
    "    colsample_bytree = 1, #subsample ratio of columns when constructing a tree\n",
    "    min_child_weight = 1 #minimum sum of hessian weights needed in a child\n",
    ")"
   ]
  },
  {
   "cell_type": "code",
   "execution_count": 120,
   "id": "e6e1c386-cbad-4a54-8517-c1609c5464b8",
   "metadata": {},
   "outputs": [
    {
     "data": {
      "text/html": [
       "<table class=\"dataframe\">\n",
       "<caption>A data.frame: 1 × 7</caption>\n",
       "<thead>\n",
       "\t<tr><th scope=col>nrounds</th><th scope=col>max_depth</th><th scope=col>eta</th><th scope=col>gamma</th><th scope=col>subsample</th><th scope=col>colsample_bytree</th><th scope=col>min_child_weight</th></tr>\n",
       "\t<tr><th scope=col>&lt;dbl&gt;</th><th scope=col>&lt;dbl&gt;</th><th scope=col>&lt;dbl&gt;</th><th scope=col>&lt;dbl&gt;</th><th scope=col>&lt;dbl&gt;</th><th scope=col>&lt;dbl&gt;</th><th scope=col>&lt;dbl&gt;</th></tr>\n",
       "</thead>\n",
       "<tbody>\n",
       "\t<tr><td>500</td><td>6</td><td>0.3</td><td>0</td><td>1</td><td>1</td><td>1</td></tr>\n",
       "</tbody>\n",
       "</table>\n"
      ],
      "text/latex": [
       "A data.frame: 1 × 7\n",
       "\\begin{tabular}{lllllll}\n",
       " nrounds & max\\_depth & eta & gamma & subsample & colsample\\_bytree & min\\_child\\_weight\\\\\n",
       " <dbl> & <dbl> & <dbl> & <dbl> & <dbl> & <dbl> & <dbl>\\\\\n",
       "\\hline\n",
       "\t 500 & 6 & 0.3 & 0 & 1 & 1 & 1\\\\\n",
       "\\end{tabular}\n"
      ],
      "text/markdown": [
       "\n",
       "A data.frame: 1 × 7\n",
       "\n",
       "| nrounds &lt;dbl&gt; | max_depth &lt;dbl&gt; | eta &lt;dbl&gt; | gamma &lt;dbl&gt; | subsample &lt;dbl&gt; | colsample_bytree &lt;dbl&gt; | min_child_weight &lt;dbl&gt; |\n",
       "|---|---|---|---|---|---|---|\n",
       "| 500 | 6 | 0.3 | 0 | 1 | 1 | 1 |\n",
       "\n"
      ],
      "text/plain": [
       "  nrounds max_depth eta gamma subsample colsample_bytree min_child_weight\n",
       "1 500     6         0.3 0     1         1                1               "
      ]
     },
     "metadata": {},
     "output_type": "display_data"
    }
   ],
   "source": [
    "grid_default"
   ]
  },
  {
   "cell_type": "code",
   "execution_count": 103,
   "id": "3c7774e6-ee20-45b8-834a-b54d6afb128c",
   "metadata": {},
   "outputs": [],
   "source": [
    "train_control <- caret::trainControl(\n",
    "    method = \"none\", #here we can specify the resampling model; \"None\" only fits one model to the entire training set\n",
    "    verboseIter = FALSE, #by FALSE, we don't print the output of training log, which keeps track of successes while training.\n",
    "    allowParallel = TRUE #if a parallel (computing) backend is available, consider it\n",
    ")"
   ]
  },
  {
   "cell_type": "code",
   "execution_count": 104,
   "id": "b4190b94-4c71-4b82-8999-62f877a7a49f",
   "metadata": {},
   "outputs": [],
   "source": [
    "set.seed(1234)\n",
    "xgb_base <- caret::train(\n",
    "    x = train_x,  # metabolomics data\n",
    "    y = train_y,  # variable of interest: ATTRIBUTE_Sample_Area in our case\n",
    "    trControl = train_control, # a list of values defining how the function should act\n",
    "    tuneGrid = grid_default, # using the default parameters for tuning\n",
    "    method = \"xgbTree\", # specify which classification or regression model to train\n",
    "    verbose = TRUE, # to see the progress of training process\n",
    "    #scale_pos_weight = scalePosWeight,\n",
    "    nthread = n_threads # for parallel computing; it indicates the number of threads\n",
    ")"
   ]
  },
  {
   "cell_type": "code",
   "execution_count": 105,
   "id": "8900fbc0-0628-49e8-bed4-60b710553ba5",
   "metadata": {},
   "outputs": [
    {
     "data": {
      "text/html": [
       "<table class=\"dataframe\">\n",
       "<caption>A matrix: 2 × 6 of type dbl</caption>\n",
       "<thead>\n",
       "\t<tr><th></th><th scope=col>used</th><th scope=col>(Mb)</th><th scope=col>gc trigger</th><th scope=col>(Mb)</th><th scope=col>max used</th><th scope=col>(Mb)</th></tr>\n",
       "</thead>\n",
       "<tbody>\n",
       "\t<tr><th scope=row>Ncells</th><td>2694722</td><td>144.0</td><td> 4253282</td><td>227.2</td><td> 4253282</td><td>227.2</td></tr>\n",
       "\t<tr><th scope=row>Vcells</th><td>8195199</td><td> 62.6</td><td>21357184</td><td>163.0</td><td>17651681</td><td>134.7</td></tr>\n",
       "</tbody>\n",
       "</table>\n"
      ],
      "text/latex": [
       "A matrix: 2 × 6 of type dbl\n",
       "\\begin{tabular}{r|llllll}\n",
       "  & used & (Mb) & gc trigger & (Mb) & max used & (Mb)\\\\\n",
       "\\hline\n",
       "\tNcells & 2694722 & 144.0 &  4253282 & 227.2 &  4253282 & 227.2\\\\\n",
       "\tVcells & 8195199 &  62.6 & 21357184 & 163.0 & 17651681 & 134.7\\\\\n",
       "\\end{tabular}\n"
      ],
      "text/markdown": [
       "\n",
       "A matrix: 2 × 6 of type dbl\n",
       "\n",
       "| <!--/--> | used | (Mb) | gc trigger | (Mb) | max used | (Mb) |\n",
       "|---|---|---|---|---|---|---|\n",
       "| Ncells | 2694722 | 144.0 |  4253282 | 227.2 |  4253282 | 227.2 |\n",
       "| Vcells | 8195199 |  62.6 | 21357184 | 163.0 | 17651681 | 134.7 |\n",
       "\n"
      ],
      "text/plain": [
       "       used    (Mb)  gc trigger (Mb)  max used (Mb) \n",
       "Ncells 2694722 144.0  4253282   227.2  4253282 227.2\n",
       "Vcells 8195199  62.6 21357184   163.0 17651681 134.7"
      ]
     },
     "metadata": {},
     "output_type": "display_data"
    }
   ],
   "source": [
    "gc() # free memory\n",
    "xgb_base"
   ]
  },
  {
   "cell_type": "markdown",
   "id": "20da5da0-5dc2-4df4-87e4-823f3bd35ba1",
   "metadata": {},
   "source": [
    "Now, we are going to use this model to predict the test set and show the performance in a 'confusion matrix'. More information about the statistics can be found at https://rdrr.io/cran/caret/man/confusionMatrix.html."
   ]
  },
  {
   "cell_type": "code",
   "execution_count": 107,
   "id": "27d6c492-102e-4b3d-8f12-e231f33c06bf",
   "metadata": {},
   "outputs": [
    {
     "data": {
      "text/plain": [
       "Confusion Matrix and Statistics\n",
       "\n",
       "                     Reference\n",
       "Prediction            La_Jolla Reefs La_Jolla_Cove Mission_Bay Mission_Beach\n",
       "  La_Jolla Reefs                   8             0           0             0\n",
       "  La_Jolla_Cove                    0             2           0             0\n",
       "  Mission_Bay                      0             0          10             1\n",
       "  Mission_Beach                    0             0           0             4\n",
       "  Pacific_Beach                    2             0           0             0\n",
       "  SIO_La_Jolla_Shores              0             1           0             0\n",
       "  Torrey_Pines                     0             0           0             0\n",
       "                     Reference\n",
       "Prediction            Pacific_Beach SIO_La_Jolla_Shores Torrey_Pines\n",
       "  La_Jolla Reefs                  1                   1            0\n",
       "  La_Jolla_Cove                   0                   0            0\n",
       "  Mission_Bay                     1                   0            0\n",
       "  Mission_Beach                   0                   0            0\n",
       "  Pacific_Beach                   1                   0            0\n",
       "  SIO_La_Jolla_Shores             0                   2            1\n",
       "  Torrey_Pines                    0                   2           13\n",
       "\n",
       "Overall Statistics\n",
       "                                          \n",
       "               Accuracy : 0.8             \n",
       "                 95% CI : (0.6628, 0.8997)\n",
       "    No Information Rate : 0.28            \n",
       "    P-Value [Acc > NIR] : 3.266e-14       \n",
       "                                          \n",
       "                  Kappa : 0.7519          \n",
       "                                          \n",
       " Mcnemar's Test P-Value : NA              \n",
       "\n",
       "Statistics by Class:\n",
       "\n",
       "                     Class: La_Jolla Reefs Class: La_Jolla_Cove\n",
       "Sensitivity                          0.800               0.6667\n",
       "Specificity                          0.950               1.0000\n",
       "Pos Pred Value                       0.800               1.0000\n",
       "Neg Pred Value                       0.950               0.9792\n",
       "Precision                            0.800               1.0000\n",
       "Recall                               0.800               0.6667\n",
       "F1                                   0.800               0.8000\n",
       "Prevalence                           0.200               0.0600\n",
       "Detection Rate                       0.160               0.0400\n",
       "Detection Prevalence                 0.200               0.0400\n",
       "Balanced Accuracy                    0.875               0.8333\n",
       "                     Class: Mission_Bay Class: Mission_Beach\n",
       "Sensitivity                      1.0000               0.8000\n",
       "Specificity                      0.9500               1.0000\n",
       "Pos Pred Value                   0.8333               1.0000\n",
       "Neg Pred Value                   1.0000               0.9783\n",
       "Precision                        0.8333               1.0000\n",
       "Recall                           1.0000               0.8000\n",
       "F1                               0.9091               0.8889\n",
       "Prevalence                       0.2000               0.1000\n",
       "Detection Rate                   0.2000               0.0800\n",
       "Detection Prevalence             0.2400               0.0800\n",
       "Balanced Accuracy                0.9750               0.9000\n",
       "                     Class: Pacific_Beach Class: SIO_La_Jolla_Shores\n",
       "Sensitivity                        0.3333                     0.4000\n",
       "Specificity                        0.9574                     0.9556\n",
       "Pos Pred Value                     0.3333                     0.5000\n",
       "Neg Pred Value                     0.9574                     0.9348\n",
       "Precision                          0.3333                     0.5000\n",
       "Recall                             0.3333                     0.4000\n",
       "F1                                 0.3333                     0.4444\n",
       "Prevalence                         0.0600                     0.1000\n",
       "Detection Rate                     0.0200                     0.0400\n",
       "Detection Prevalence               0.0600                     0.0800\n",
       "Balanced Accuracy                  0.6454                     0.6778\n",
       "                     Class: Torrey_Pines\n",
       "Sensitivity                       0.9286\n",
       "Specificity                       0.9444\n",
       "Pos Pred Value                    0.8667\n",
       "Neg Pred Value                    0.9714\n",
       "Precision                         0.8667\n",
       "Recall                            0.9286\n",
       "F1                                0.8966\n",
       "Prevalence                        0.2800\n",
       "Detection Rate                    0.2600\n",
       "Detection Prevalence              0.3000\n",
       "Balanced Accuracy                 0.9365"
      ]
     },
     "metadata": {},
     "output_type": "display_data"
    }
   ],
   "source": [
    "# predict on test data\n",
    "predicted_base <- predict(xgb_base, test_x)\n",
    "# performance\n",
    "confusionMatrix(data = predicted_base,  #the predicted results\n",
    "                reference = test_y, #predictions are compared with the test_y (metadata info)\n",
    "                positive = '1',\n",
    "                mode = 'everything')"
   ]
  },
  {
   "cell_type": "markdown",
   "id": "b38868c1-ff43-4ea3-a789-2b0b6a0d66fa",
   "metadata": {},
   "source": [
    "Let's look at the probability matrix. It shows the probability of a sample belonging to a particular sampling area"
   ]
  },
  {
   "cell_type": "code",
   "execution_count": 218,
   "id": "c8df7835-e1b6-44d0-ad25-bfc679fca987",
   "metadata": {},
   "outputs": [
    {
     "data": {
      "text/html": [
       "<table class=\"dataframe\">\n",
       "<caption>A data.frame: 6 × 7</caption>\n",
       "<thead>\n",
       "\t<tr><th></th><th scope=col>La_Jolla Reefs</th><th scope=col>La_Jolla_Cove</th><th scope=col>Mission_Bay</th><th scope=col>Mission_Beach</th><th scope=col>Pacific_Beach</th><th scope=col>SIO_La_Jolla_Shores</th><th scope=col>Torrey_Pines</th></tr>\n",
       "\t<tr><th></th><th scope=col>&lt;dbl&gt;</th><th scope=col>&lt;dbl&gt;</th><th scope=col>&lt;dbl&gt;</th><th scope=col>&lt;dbl&gt;</th><th scope=col>&lt;dbl&gt;</th><th scope=col>&lt;dbl&gt;</th><th scope=col>&lt;dbl&gt;</th></tr>\n",
       "</thead>\n",
       "<tbody>\n",
       "\t<tr><th scope=row>1</th><td>0.005248298</td><td>0.016946796</td><td>0.021387147</td><td>0.003624770</td><td>0.002733320</td><td>0.035340570</td><td>0.914719105</td></tr>\n",
       "\t<tr><th scope=row>2</th><td>0.024278818</td><td>0.349722177</td><td>0.063845120</td><td>0.086620703</td><td>0.052364636</td><td>0.402189225</td><td>0.020979339</td></tr>\n",
       "\t<tr><th scope=row>3</th><td>0.858547628</td><td>0.007774164</td><td>0.010009320</td><td>0.011996829</td><td>0.026113506</td><td>0.077554032</td><td>0.008004516</td></tr>\n",
       "\t<tr><th scope=row>4</th><td>0.169616744</td><td>0.005782446</td><td>0.020781940</td><td>0.010862703</td><td>0.781848848</td><td>0.005518070</td><td>0.005589298</td></tr>\n",
       "\t<tr><th scope=row>5</th><td>0.119383901</td><td>0.006615007</td><td>0.009400726</td><td>0.035312124</td><td>0.815334857</td><td>0.007559339</td><td>0.006394048</td></tr>\n",
       "\t<tr><th scope=row>6</th><td>0.004444454</td><td>0.020675076</td><td>0.019218670</td><td>0.007734112</td><td>0.003753883</td><td>0.019449066</td><td>0.924724698</td></tr>\n",
       "</tbody>\n",
       "</table>\n"
      ],
      "text/latex": [
       "A data.frame: 6 × 7\n",
       "\\begin{tabular}{r|lllllll}\n",
       "  & La\\_Jolla Reefs & La\\_Jolla\\_Cove & Mission\\_Bay & Mission\\_Beach & Pacific\\_Beach & SIO\\_La\\_Jolla\\_Shores & Torrey\\_Pines\\\\\n",
       "  & <dbl> & <dbl> & <dbl> & <dbl> & <dbl> & <dbl> & <dbl>\\\\\n",
       "\\hline\n",
       "\t1 & 0.005248298 & 0.016946796 & 0.021387147 & 0.003624770 & 0.002733320 & 0.035340570 & 0.914719105\\\\\n",
       "\t2 & 0.024278818 & 0.349722177 & 0.063845120 & 0.086620703 & 0.052364636 & 0.402189225 & 0.020979339\\\\\n",
       "\t3 & 0.858547628 & 0.007774164 & 0.010009320 & 0.011996829 & 0.026113506 & 0.077554032 & 0.008004516\\\\\n",
       "\t4 & 0.169616744 & 0.005782446 & 0.020781940 & 0.010862703 & 0.781848848 & 0.005518070 & 0.005589298\\\\\n",
       "\t5 & 0.119383901 & 0.006615007 & 0.009400726 & 0.035312124 & 0.815334857 & 0.007559339 & 0.006394048\\\\\n",
       "\t6 & 0.004444454 & 0.020675076 & 0.019218670 & 0.007734112 & 0.003753883 & 0.019449066 & 0.924724698\\\\\n",
       "\\end{tabular}\n"
      ],
      "text/markdown": [
       "\n",
       "A data.frame: 6 × 7\n",
       "\n",
       "| <!--/--> | La_Jolla Reefs &lt;dbl&gt; | La_Jolla_Cove &lt;dbl&gt; | Mission_Bay &lt;dbl&gt; | Mission_Beach &lt;dbl&gt; | Pacific_Beach &lt;dbl&gt; | SIO_La_Jolla_Shores &lt;dbl&gt; | Torrey_Pines &lt;dbl&gt; |\n",
       "|---|---|---|---|---|---|---|---|\n",
       "| 1 | 0.005248298 | 0.016946796 | 0.021387147 | 0.003624770 | 0.002733320 | 0.035340570 | 0.914719105 |\n",
       "| 2 | 0.024278818 | 0.349722177 | 0.063845120 | 0.086620703 | 0.052364636 | 0.402189225 | 0.020979339 |\n",
       "| 3 | 0.858547628 | 0.007774164 | 0.010009320 | 0.011996829 | 0.026113506 | 0.077554032 | 0.008004516 |\n",
       "| 4 | 0.169616744 | 0.005782446 | 0.020781940 | 0.010862703 | 0.781848848 | 0.005518070 | 0.005589298 |\n",
       "| 5 | 0.119383901 | 0.006615007 | 0.009400726 | 0.035312124 | 0.815334857 | 0.007559339 | 0.006394048 |\n",
       "| 6 | 0.004444454 | 0.020675076 | 0.019218670 | 0.007734112 | 0.003753883 | 0.019449066 | 0.924724698 |\n",
       "\n"
      ],
      "text/plain": [
       "  La_Jolla Reefs La_Jolla_Cove Mission_Bay Mission_Beach Pacific_Beach\n",
       "1 0.005248298    0.016946796   0.021387147 0.003624770   0.002733320  \n",
       "2 0.024278818    0.349722177   0.063845120 0.086620703   0.052364636  \n",
       "3 0.858547628    0.007774164   0.010009320 0.011996829   0.026113506  \n",
       "4 0.169616744    0.005782446   0.020781940 0.010862703   0.781848848  \n",
       "5 0.119383901    0.006615007   0.009400726 0.035312124   0.815334857  \n",
       "6 0.004444454    0.020675076   0.019218670 0.007734112   0.003753883  \n",
       "  SIO_La_Jolla_Shores Torrey_Pines\n",
       "1 0.035340570         0.914719105 \n",
       "2 0.402189225         0.020979339 \n",
       "3 0.077554032         0.008004516 \n",
       "4 0.005518070         0.005589298 \n",
       "5 0.007559339         0.006394048 \n",
       "6 0.019449066         0.924724698 "
      ]
     },
     "metadata": {},
     "output_type": "display_data"
    }
   ],
   "source": [
    "prediction_probs_base <- predict(xgb_base, test_x, type = \"prob\") # predict the probability matrix for each sampling area\n",
    "head(prediction_probs_base)"
   ]
  },
  {
   "cell_type": "code",
   "execution_count": 217,
   "id": "ff10c702-a5a6-4b2f-a912-4a5bbdf03670",
   "metadata": {},
   "outputs": [
    {
     "data": {
      "text/html": [
       "0.901984126984127"
      ],
      "text/latex": [
       "0.901984126984127"
      ],
      "text/markdown": [
       "0.901984126984127"
      ],
      "text/plain": [
       "Multi-class area under the curve: 0.902"
      ]
     },
     "metadata": {},
     "output_type": "display_data"
    }
   ],
   "source": [
    "#to build multiple ROC curve to compute the multi-class AUC \n",
    "ROC_base <- pROC::multiclass.roc(test_y, prediction_probs_base) \n",
    "ROC_base$auc # AUC"
   ]
  },
  {
   "cell_type": "markdown",
   "id": "2dcb24f0-551e-4a6c-868e-1bfa2fddba9c",
   "metadata": {
    "tags": []
   },
   "source": [
    "# Tuning parameters in XGBoost\n",
    "<a id=\"xgboost_tune\"></a>"
   ]
  },
  {
   "cell_type": "markdown",
   "id": "59c35a2f-d4ee-45b0-a32c-11c96100a110",
   "metadata": {},
   "source": [
    "## 1. Tuning Number of Iterations and the Learning Rate\n",
    "A high number of iterations (nrounds) makes the algorithm slower but at the same time we need a good number of iterations for testing several combinations of parameters. The number of folds in the cross-validation can also slow down the computation. Just to show how this works, here we set nrounds=500 and number of folds = 5. You can also try increasing these numbers to nrounds=1000 and number of folds = 10."
   ]
  },
  {
   "cell_type": "code",
   "execution_count": 113,
   "id": "bde7bddb-a638-40ab-80af-f699eb2deb28",
   "metadata": {},
   "outputs": [],
   "source": [
    "nrounds <- 500 #no.of iterations"
   ]
  },
  {
   "cell_type": "code",
   "execution_count": 115,
   "id": "97e92246-9e41-46d1-91d6-daec42ca96f6",
   "metadata": {},
   "outputs": [],
   "source": [
    "tune_grid <- expand.grid(\n",
    "  nrounds = seq(from = 100, to = nrounds, by = 10), #sequence of values from 100 to 500 increased by 10\n",
    "  eta = c(0.025, 0.05, 0.1, 0.3), #learning rate\n",
    "  max_depth = seq(from = 2, to = 10, by = 2), #max depth of a decision tree\n",
    "  #max_depth = 6,\n",
    "  gamma = 0, #default value\n",
    "  colsample_bytree = 1, #default value\n",
    "  min_child_weight = 1, #default value\n",
    "  subsample = 1 #default value\n",
    ")"
   ]
  },
  {
   "cell_type": "code",
   "execution_count": 119,
   "id": "dc72a591-e79c-4cd5-85c6-7debe6217b3e",
   "metadata": {},
   "outputs": [
    {
     "data": {
      "text/html": [
       "<table class=\"dataframe\">\n",
       "<caption>A data.frame: 6 × 7</caption>\n",
       "<thead>\n",
       "\t<tr><th></th><th scope=col>nrounds</th><th scope=col>eta</th><th scope=col>max_depth</th><th scope=col>gamma</th><th scope=col>colsample_bytree</th><th scope=col>min_child_weight</th><th scope=col>subsample</th></tr>\n",
       "\t<tr><th></th><th scope=col>&lt;dbl&gt;</th><th scope=col>&lt;dbl&gt;</th><th scope=col>&lt;dbl&gt;</th><th scope=col>&lt;dbl&gt;</th><th scope=col>&lt;dbl&gt;</th><th scope=col>&lt;dbl&gt;</th><th scope=col>&lt;dbl&gt;</th></tr>\n",
       "</thead>\n",
       "<tbody>\n",
       "\t<tr><th scope=row>1</th><td>100</td><td>0.025</td><td>2</td><td>0</td><td>1</td><td>1</td><td>1</td></tr>\n",
       "\t<tr><th scope=row>2</th><td>110</td><td>0.025</td><td>2</td><td>0</td><td>1</td><td>1</td><td>1</td></tr>\n",
       "\t<tr><th scope=row>3</th><td>120</td><td>0.025</td><td>2</td><td>0</td><td>1</td><td>1</td><td>1</td></tr>\n",
       "\t<tr><th scope=row>4</th><td>130</td><td>0.025</td><td>2</td><td>0</td><td>1</td><td>1</td><td>1</td></tr>\n",
       "\t<tr><th scope=row>5</th><td>140</td><td>0.025</td><td>2</td><td>0</td><td>1</td><td>1</td><td>1</td></tr>\n",
       "\t<tr><th scope=row>6</th><td>150</td><td>0.025</td><td>2</td><td>0</td><td>1</td><td>1</td><td>1</td></tr>\n",
       "</tbody>\n",
       "</table>\n"
      ],
      "text/latex": [
       "A data.frame: 6 × 7\n",
       "\\begin{tabular}{r|lllllll}\n",
       "  & nrounds & eta & max\\_depth & gamma & colsample\\_bytree & min\\_child\\_weight & subsample\\\\\n",
       "  & <dbl> & <dbl> & <dbl> & <dbl> & <dbl> & <dbl> & <dbl>\\\\\n",
       "\\hline\n",
       "\t1 & 100 & 0.025 & 2 & 0 & 1 & 1 & 1\\\\\n",
       "\t2 & 110 & 0.025 & 2 & 0 & 1 & 1 & 1\\\\\n",
       "\t3 & 120 & 0.025 & 2 & 0 & 1 & 1 & 1\\\\\n",
       "\t4 & 130 & 0.025 & 2 & 0 & 1 & 1 & 1\\\\\n",
       "\t5 & 140 & 0.025 & 2 & 0 & 1 & 1 & 1\\\\\n",
       "\t6 & 150 & 0.025 & 2 & 0 & 1 & 1 & 1\\\\\n",
       "\\end{tabular}\n"
      ],
      "text/markdown": [
       "\n",
       "A data.frame: 6 × 7\n",
       "\n",
       "| <!--/--> | nrounds &lt;dbl&gt; | eta &lt;dbl&gt; | max_depth &lt;dbl&gt; | gamma &lt;dbl&gt; | colsample_bytree &lt;dbl&gt; | min_child_weight &lt;dbl&gt; | subsample &lt;dbl&gt; |\n",
       "|---|---|---|---|---|---|---|---|\n",
       "| 1 | 100 | 0.025 | 2 | 0 | 1 | 1 | 1 |\n",
       "| 2 | 110 | 0.025 | 2 | 0 | 1 | 1 | 1 |\n",
       "| 3 | 120 | 0.025 | 2 | 0 | 1 | 1 | 1 |\n",
       "| 4 | 130 | 0.025 | 2 | 0 | 1 | 1 | 1 |\n",
       "| 5 | 140 | 0.025 | 2 | 0 | 1 | 1 | 1 |\n",
       "| 6 | 150 | 0.025 | 2 | 0 | 1 | 1 | 1 |\n",
       "\n"
      ],
      "text/plain": [
       "  nrounds eta   max_depth gamma colsample_bytree min_child_weight subsample\n",
       "1 100     0.025 2         0     1                1                1        \n",
       "2 110     0.025 2         0     1                1                1        \n",
       "3 120     0.025 2         0     1                1                1        \n",
       "4 130     0.025 2         0     1                1                1        \n",
       "5 140     0.025 2         0     1                1                1        \n",
       "6 150     0.025 2         0     1                1                1        "
      ]
     },
     "metadata": {},
     "output_type": "display_data"
    }
   ],
   "source": [
    "head(tune_grid)"
   ]
  },
  {
   "cell_type": "code",
   "execution_count": 121,
   "id": "4e7acec2-6b5a-4fcf-a70e-e226a6718ae5",
   "metadata": {},
   "outputs": [
    {
     "data": {
      "text/html": [
       "<table class=\"dataframe\">\n",
       "<caption>A data.frame: 6 × 7</caption>\n",
       "<thead>\n",
       "\t<tr><th></th><th scope=col>nrounds</th><th scope=col>eta</th><th scope=col>max_depth</th><th scope=col>gamma</th><th scope=col>colsample_bytree</th><th scope=col>min_child_weight</th><th scope=col>subsample</th></tr>\n",
       "\t<tr><th></th><th scope=col>&lt;dbl&gt;</th><th scope=col>&lt;dbl&gt;</th><th scope=col>&lt;dbl&gt;</th><th scope=col>&lt;dbl&gt;</th><th scope=col>&lt;dbl&gt;</th><th scope=col>&lt;dbl&gt;</th><th scope=col>&lt;dbl&gt;</th></tr>\n",
       "</thead>\n",
       "<tbody>\n",
       "\t<tr><th scope=row>815</th><td>450</td><td>0.3</td><td>10</td><td>0</td><td>1</td><td>1</td><td>1</td></tr>\n",
       "\t<tr><th scope=row>816</th><td>460</td><td>0.3</td><td>10</td><td>0</td><td>1</td><td>1</td><td>1</td></tr>\n",
       "\t<tr><th scope=row>817</th><td>470</td><td>0.3</td><td>10</td><td>0</td><td>1</td><td>1</td><td>1</td></tr>\n",
       "\t<tr><th scope=row>818</th><td>480</td><td>0.3</td><td>10</td><td>0</td><td>1</td><td>1</td><td>1</td></tr>\n",
       "\t<tr><th scope=row>819</th><td>490</td><td>0.3</td><td>10</td><td>0</td><td>1</td><td>1</td><td>1</td></tr>\n",
       "\t<tr><th scope=row>820</th><td>500</td><td>0.3</td><td>10</td><td>0</td><td>1</td><td>1</td><td>1</td></tr>\n",
       "</tbody>\n",
       "</table>\n"
      ],
      "text/latex": [
       "A data.frame: 6 × 7\n",
       "\\begin{tabular}{r|lllllll}\n",
       "  & nrounds & eta & max\\_depth & gamma & colsample\\_bytree & min\\_child\\_weight & subsample\\\\\n",
       "  & <dbl> & <dbl> & <dbl> & <dbl> & <dbl> & <dbl> & <dbl>\\\\\n",
       "\\hline\n",
       "\t815 & 450 & 0.3 & 10 & 0 & 1 & 1 & 1\\\\\n",
       "\t816 & 460 & 0.3 & 10 & 0 & 1 & 1 & 1\\\\\n",
       "\t817 & 470 & 0.3 & 10 & 0 & 1 & 1 & 1\\\\\n",
       "\t818 & 480 & 0.3 & 10 & 0 & 1 & 1 & 1\\\\\n",
       "\t819 & 490 & 0.3 & 10 & 0 & 1 & 1 & 1\\\\\n",
       "\t820 & 500 & 0.3 & 10 & 0 & 1 & 1 & 1\\\\\n",
       "\\end{tabular}\n"
      ],
      "text/markdown": [
       "\n",
       "A data.frame: 6 × 7\n",
       "\n",
       "| <!--/--> | nrounds &lt;dbl&gt; | eta &lt;dbl&gt; | max_depth &lt;dbl&gt; | gamma &lt;dbl&gt; | colsample_bytree &lt;dbl&gt; | min_child_weight &lt;dbl&gt; | subsample &lt;dbl&gt; |\n",
       "|---|---|---|---|---|---|---|---|\n",
       "| 815 | 450 | 0.3 | 10 | 0 | 1 | 1 | 1 |\n",
       "| 816 | 460 | 0.3 | 10 | 0 | 1 | 1 | 1 |\n",
       "| 817 | 470 | 0.3 | 10 | 0 | 1 | 1 | 1 |\n",
       "| 818 | 480 | 0.3 | 10 | 0 | 1 | 1 | 1 |\n",
       "| 819 | 490 | 0.3 | 10 | 0 | 1 | 1 | 1 |\n",
       "| 820 | 500 | 0.3 | 10 | 0 | 1 | 1 | 1 |\n",
       "\n"
      ],
      "text/plain": [
       "    nrounds eta max_depth gamma colsample_bytree min_child_weight subsample\n",
       "815 450     0.3 10        0     1                1                1        \n",
       "816 460     0.3 10        0     1                1                1        \n",
       "817 470     0.3 10        0     1                1                1        \n",
       "818 480     0.3 10        0     1                1                1        \n",
       "819 490     0.3 10        0     1                1                1        \n",
       "820 500     0.3 10        0     1                1                1        "
      ]
     },
     "metadata": {},
     "output_type": "display_data"
    }
   ],
   "source": [
    "tail(tune_grid) #last 6 values of the dataframe. As you can see, eta and max_depth range are changing as well"
   ]
  },
  {
   "cell_type": "code",
   "execution_count": 116,
   "id": "96225427-6cdd-4fe8-9587-2035425d2480",
   "metadata": {},
   "outputs": [],
   "source": [
    "tune_control <- caret::trainControl(\n",
    "  method = \"cv\", # cross-validation\n",
    "  number = 5, # number of folds\n",
    "  repeats = NA,\n",
    "  verboseIter = FALSE,\n",
    "  allowParallel = TRUE\n",
    ")"
   ]
  },
  {
   "cell_type": "markdown",
   "id": "61d2ea53-e60f-4095-98bf-407631c705b9",
   "metadata": {},
   "source": [
    "<font color=\"red\"><b>Critical:</b> It will take about 16-20 mins to run the next cell.</font>"
   ]
  },
  {
   "cell_type": "code",
   "execution_count": 123,
   "id": "b56d41a7-dbc7-471a-a9d2-743e263561b8",
   "metadata": {},
   "outputs": [],
   "source": [
    "set.seed(1234)\n",
    "xgb_tune <- caret::train(\n",
    "  x = train_x, y = train_y,\n",
    "  trControl = tune_control, #here tune_control with 5-fold cross validation is used to define the trainControl\n",
    "  tuneGrid = tune_grid, #using the tune_grid dataframe for tuning\n",
    "  method = \"xgbTree\",\n",
    "  verbose = TRUE,\n",
    "  nthread = n_threads # for parallel computing; it indicates the number of threads\n",
    ")"
   ]
  },
  {
   "cell_type": "code",
   "execution_count": 135,
   "id": "51c9f048-8cc0-4cb0-954e-5a74598d7e42",
   "metadata": {},
   "outputs": [
    {
     "data": {
      "text/html": [
       "<table class=\"dataframe\">\n",
       "<caption>A matrix: 2 × 6 of type dbl</caption>\n",
       "<thead>\n",
       "\t<tr><th></th><th scope=col>used</th><th scope=col>(Mb)</th><th scope=col>gc trigger</th><th scope=col>(Mb)</th><th scope=col>max used</th><th scope=col>(Mb)</th></tr>\n",
       "</thead>\n",
       "<tbody>\n",
       "\t<tr><th scope=row>Ncells</th><td>2743054</td><td>146.5</td><td> 4253282</td><td>227.2</td><td> 4253282</td><td>227.2</td></tr>\n",
       "\t<tr><th scope=row>Vcells</th><td>8598391</td><td> 65.7</td><td>21357184</td><td>163.0</td><td>17651681</td><td>134.7</td></tr>\n",
       "</tbody>\n",
       "</table>\n"
      ],
      "text/latex": [
       "A matrix: 2 × 6 of type dbl\n",
       "\\begin{tabular}{r|llllll}\n",
       "  & used & (Mb) & gc trigger & (Mb) & max used & (Mb)\\\\\n",
       "\\hline\n",
       "\tNcells & 2743054 & 146.5 &  4253282 & 227.2 &  4253282 & 227.2\\\\\n",
       "\tVcells & 8598391 &  65.7 & 21357184 & 163.0 & 17651681 & 134.7\\\\\n",
       "\\end{tabular}\n"
      ],
      "text/markdown": [
       "\n",
       "A matrix: 2 × 6 of type dbl\n",
       "\n",
       "| <!--/--> | used | (Mb) | gc trigger | (Mb) | max used | (Mb) |\n",
       "|---|---|---|---|---|---|---|\n",
       "| Ncells | 2743054 | 146.5 |  4253282 | 227.2 |  4253282 | 227.2 |\n",
       "| Vcells | 8598391 |  65.7 | 21357184 | 163.0 | 17651681 | 134.7 |\n",
       "\n"
      ],
      "text/plain": [
       "       used    (Mb)  gc trigger (Mb)  max used (Mb) \n",
       "Ncells 2743054 146.5  4253282   227.2  4253282 227.2\n",
       "Vcells 8598391  65.7 21357184   163.0 17651681 134.7"
      ]
     },
     "metadata": {},
     "output_type": "display_data"
    }
   ],
   "source": [
    "gc() #freeing RAM memory"
   ]
  },
  {
   "cell_type": "markdown",
   "id": "d63b9b96-34bf-4108-b05f-77d6fdee693e",
   "metadata": {},
   "source": [
    "## 2. Tuning Maximum Depth and Minimum Child Weight"
   ]
  },
  {
   "cell_type": "code",
   "execution_count": 134,
   "id": "0d401b17-be11-4143-a19f-907e0cb8168f",
   "metadata": {},
   "outputs": [
    {
     "data": {
      "text/html": [
       "<table class=\"dataframe\">\n",
       "<caption>A data.frame: 1 × 7</caption>\n",
       "<thead>\n",
       "\t<tr><th></th><th scope=col>nrounds</th><th scope=col>max_depth</th><th scope=col>eta</th><th scope=col>gamma</th><th scope=col>colsample_bytree</th><th scope=col>min_child_weight</th><th scope=col>subsample</th></tr>\n",
       "\t<tr><th></th><th scope=col>&lt;dbl&gt;</th><th scope=col>&lt;dbl&gt;</th><th scope=col>&lt;dbl&gt;</th><th scope=col>&lt;dbl&gt;</th><th scope=col>&lt;dbl&gt;</th><th scope=col>&lt;dbl&gt;</th><th scope=col>&lt;dbl&gt;</th></tr>\n",
       "</thead>\n",
       "<tbody>\n",
       "\t<tr><th scope=row>616</th><td>100</td><td>2</td><td>0.3</td><td>0</td><td>1</td><td>1</td><td>1</td></tr>\n",
       "</tbody>\n",
       "</table>\n"
      ],
      "text/latex": [
       "A data.frame: 1 × 7\n",
       "\\begin{tabular}{r|lllllll}\n",
       "  & nrounds & max\\_depth & eta & gamma & colsample\\_bytree & min\\_child\\_weight & subsample\\\\\n",
       "  & <dbl> & <dbl> & <dbl> & <dbl> & <dbl> & <dbl> & <dbl>\\\\\n",
       "\\hline\n",
       "\t616 & 100 & 2 & 0.3 & 0 & 1 & 1 & 1\\\\\n",
       "\\end{tabular}\n"
      ],
      "text/markdown": [
       "\n",
       "A data.frame: 1 × 7\n",
       "\n",
       "| <!--/--> | nrounds &lt;dbl&gt; | max_depth &lt;dbl&gt; | eta &lt;dbl&gt; | gamma &lt;dbl&gt; | colsample_bytree &lt;dbl&gt; | min_child_weight &lt;dbl&gt; | subsample &lt;dbl&gt; |\n",
       "|---|---|---|---|---|---|---|---|\n",
       "| 616 | 100 | 2 | 0.3 | 0 | 1 | 1 | 1 |\n",
       "\n"
      ],
      "text/plain": [
       "    nrounds max_depth eta gamma colsample_bytree min_child_weight subsample\n",
       "616 100     2         0.3 0     1                1                1        "
      ]
     },
     "metadata": {},
     "output_type": "display_data"
    }
   ],
   "source": [
    "xgb_tune$bestTune #getting the best tuning parameter from the previous tuned model"
   ]
  },
  {
   "cell_type": "code",
   "execution_count": 136,
   "id": "f7e954a0-7ea2-4708-af56-81752ded7631",
   "metadata": {},
   "outputs": [],
   "source": [
    "tune_grid2 <- expand.grid(\n",
    "  nrounds = seq(from = 100, to = nrounds, by = 10),\n",
    "  eta = xgb_tune$bestTune$eta, #choosing the best-tuned learning rate\n",
    "  max_depth = ifelse(xgb_tune$bestTune$max_depth == 2, #test if the best-tuned max_depth value is 2\n",
    "                     c(xgb_tune$bestTune$max_depth:10), #if yes, then consider max_depth range from 2 to 10\n",
    "                     (xgb_tune$bestTune$max_depth - 1):(xgb_tune$bestTune$max_depth + 1)), #if not, consider max_depth range from 1 value below best_tuned max_depth until 1 value above. \n",
    "  gamma = 0, #default\n",
    "  colsample_bytree = 1, #default value\n",
    "  min_child_weight = c(1, 2, 3), #range of 1 to 3\n",
    "  subsample = 1 #default value\n",
    ")"
   ]
  },
  {
   "cell_type": "markdown",
   "id": "eabafd6d-c45e-42c9-9af6-e68153331841",
   "metadata": {},
   "source": [
    "<font color=\"red\"><b>Critical:</b> It will take about 10 mins to run the next cell.</font>"
   ]
  },
  {
   "cell_type": "code",
   "execution_count": 137,
   "id": "3a9d3771-83f4-46f2-9172-46badf51614e",
   "metadata": {},
   "outputs": [],
   "source": [
    "set.seed(1234)\n",
    "xgb_tune2 <- caret::train( #training anotehr model with these tuned parameters\n",
    "  x = train_x, y = train_y,\n",
    "  trControl = tune_control,\n",
    "  tuneGrid = tune_grid2,\n",
    "  method = \"xgbTree\",\n",
    "  verbose = TRUE,\n",
    "  nthread = n_threads # for parallel computing; it indicates the number of threads\n",
    ")"
   ]
  },
  {
   "cell_type": "markdown",
   "id": "3f04daba-5cbd-493b-8b62-5e7dc3b1b766",
   "metadata": {},
   "source": [
    "## 3. Tuning Column and Row Sampling"
   ]
  },
  {
   "cell_type": "markdown",
   "id": "b3ee65ae-4a51-4e9e-b632-120d590adde7",
   "metadata": {},
   "source": [
    "Getting the best parameters from the previous tuning:"
   ]
  },
  {
   "cell_type": "code",
   "execution_count": 139,
   "id": "225fdf18-1b19-4604-89c5-78ad9e33ef4e",
   "metadata": {},
   "outputs": [
    {
     "data": {
      "text/html": [
       "<table class=\"dataframe\">\n",
       "<caption>A data.frame: 1 × 7</caption>\n",
       "<thead>\n",
       "\t<tr><th></th><th scope=col>nrounds</th><th scope=col>max_depth</th><th scope=col>eta</th><th scope=col>gamma</th><th scope=col>colsample_bytree</th><th scope=col>min_child_weight</th><th scope=col>subsample</th></tr>\n",
       "\t<tr><th></th><th scope=col>&lt;dbl&gt;</th><th scope=col>&lt;int&gt;</th><th scope=col>&lt;dbl&gt;</th><th scope=col>&lt;dbl&gt;</th><th scope=col>&lt;dbl&gt;</th><th scope=col>&lt;dbl&gt;</th><th scope=col>&lt;dbl&gt;</th></tr>\n",
       "</thead>\n",
       "<tbody>\n",
       "\t<tr><th scope=row>1</th><td>100</td><td>2</td><td>0.3</td><td>0</td><td>1</td><td>1</td><td>1</td></tr>\n",
       "</tbody>\n",
       "</table>\n"
      ],
      "text/latex": [
       "A data.frame: 1 × 7\n",
       "\\begin{tabular}{r|lllllll}\n",
       "  & nrounds & max\\_depth & eta & gamma & colsample\\_bytree & min\\_child\\_weight & subsample\\\\\n",
       "  & <dbl> & <int> & <dbl> & <dbl> & <dbl> & <dbl> & <dbl>\\\\\n",
       "\\hline\n",
       "\t1 & 100 & 2 & 0.3 & 0 & 1 & 1 & 1\\\\\n",
       "\\end{tabular}\n"
      ],
      "text/markdown": [
       "\n",
       "A data.frame: 1 × 7\n",
       "\n",
       "| <!--/--> | nrounds &lt;dbl&gt; | max_depth &lt;int&gt; | eta &lt;dbl&gt; | gamma &lt;dbl&gt; | colsample_bytree &lt;dbl&gt; | min_child_weight &lt;dbl&gt; | subsample &lt;dbl&gt; |\n",
       "|---|---|---|---|---|---|---|---|\n",
       "| 1 | 100 | 2 | 0.3 | 0 | 1 | 1 | 1 |\n",
       "\n"
      ],
      "text/plain": [
       "  nrounds max_depth eta gamma colsample_bytree min_child_weight subsample\n",
       "1 100     2         0.3 0     1                1                1        "
      ]
     },
     "metadata": {},
     "output_type": "display_data"
    }
   ],
   "source": [
    "xgb_tune2$bestTune"
   ]
  },
  {
   "cell_type": "markdown",
   "id": "9c5a47dc-1d69-4f8a-96e1-e19f54cd4736",
   "metadata": {},
   "source": [
    "- So far, in the first xgb model, we tried to tune the Tuning Number of Iterations(nrounds) and Learning Rate(eta). \n",
    "- We used the best eta from 1st model and tuned the second model(xgb_tune2) for different values of Maximum Depth and Minimum Child Weight.\n",
    "- For the next model xgb_tune3, we choose best_eta from xgb_tune and best values of <b>max_depth</b> and <b>min_child_weight</b> from xgb_tune2. Using these parameters, we are tuning <b>colsample_bytree</b> and <b>subsample.</b>\n",
    "\n",
    "<b>subsample</b> is defined as the sampling ratio for training. If it is 0.5, then XGBoost would randomly sample half of the training data before growing trees to prevent overfitting. <br>\n",
    "<b>colsample_bytree</b> is the subsample ratio of columns when constructing a decision tree."
   ]
  },
  {
   "cell_type": "code",
   "execution_count": 142,
   "id": "d67fcbad-412a-4b01-aadc-9993751af3eb",
   "metadata": {},
   "outputs": [],
   "source": [
    "tune_grid3 <- expand.grid(\n",
    "  nrounds = seq(from = 100, to = nrounds, by = 10),\n",
    "  eta = xgb_tune$bestTune$eta,\n",
    "  max_depth = xgb_tune2$bestTune$max_depth,\n",
    "  gamma = 0,\n",
    "  colsample_bytree = c(0.4, 0.6, 0.8, 1.0),\n",
    "  min_child_weight = xgb_tune2$bestTune$min_child_weight,\n",
    "  subsample = c(0.5, 0.75, 1.0)\n",
    ")"
   ]
  },
  {
   "cell_type": "markdown",
   "id": "76f14d80-8b8c-4e39-97ef-85c3845711b9",
   "metadata": {},
   "source": [
    "<font color=\"red\"><b>Critical:</b> It will take about 4-5 mins to run the next cell.</font>"
   ]
  },
  {
   "cell_type": "code",
   "execution_count": 143,
   "id": "62838918-ea16-4195-9d6e-b977947f8ee3",
   "metadata": {},
   "outputs": [],
   "source": [
    "set.seed(1234)\n",
    "xgb_tune3 <- caret::train(\n",
    "  x = train_x, y = train_y,\n",
    "  trControl = tune_control,\n",
    "  tuneGrid = tune_grid3,\n",
    "  method = \"xgbTree\",\n",
    "  verbose = TRUE,\n",
    "  nthread = n_threads # for parallel computing; it indicates the number of threads\n",
    ")"
   ]
  },
  {
   "cell_type": "code",
   "execution_count": 148,
   "id": "de49de96-d0c0-478e-995d-491169a43e7c",
   "metadata": {},
   "outputs": [
    {
     "data": {
      "text/html": [
       "<table class=\"dataframe\">\n",
       "<caption>A matrix: 2 × 6 of type dbl</caption>\n",
       "<thead>\n",
       "\t<tr><th></th><th scope=col>used</th><th scope=col>(Mb)</th><th scope=col>gc trigger</th><th scope=col>(Mb)</th><th scope=col>max used</th><th scope=col>(Mb)</th></tr>\n",
       "</thead>\n",
       "<tbody>\n",
       "\t<tr><th scope=row>Ncells</th><td>2776389</td><td>148.3</td><td> 4253282</td><td>227.2</td><td> 4253282</td><td>227.2</td></tr>\n",
       "\t<tr><th scope=row>Vcells</th><td>9180952</td><td> 70.1</td><td>21357184</td><td>163.0</td><td>17651681</td><td>134.7</td></tr>\n",
       "</tbody>\n",
       "</table>\n"
      ],
      "text/latex": [
       "A matrix: 2 × 6 of type dbl\n",
       "\\begin{tabular}{r|llllll}\n",
       "  & used & (Mb) & gc trigger & (Mb) & max used & (Mb)\\\\\n",
       "\\hline\n",
       "\tNcells & 2776389 & 148.3 &  4253282 & 227.2 &  4253282 & 227.2\\\\\n",
       "\tVcells & 9180952 &  70.1 & 21357184 & 163.0 & 17651681 & 134.7\\\\\n",
       "\\end{tabular}\n"
      ],
      "text/markdown": [
       "\n",
       "A matrix: 2 × 6 of type dbl\n",
       "\n",
       "| <!--/--> | used | (Mb) | gc trigger | (Mb) | max used | (Mb) |\n",
       "|---|---|---|---|---|---|---|\n",
       "| Ncells | 2776389 | 148.3 |  4253282 | 227.2 |  4253282 | 227.2 |\n",
       "| Vcells | 9180952 |  70.1 | 21357184 | 163.0 | 17651681 | 134.7 |\n",
       "\n"
      ],
      "text/plain": [
       "       used    (Mb)  gc trigger (Mb)  max used (Mb) \n",
       "Ncells 2776389 148.3  4253282   227.2  4253282 227.2\n",
       "Vcells 9180952  70.1 21357184   163.0 17651681 134.7"
      ]
     },
     "metadata": {},
     "output_type": "display_data"
    }
   ],
   "source": [
    "gc()"
   ]
  },
  {
   "cell_type": "markdown",
   "id": "d61c20f7-e438-4862-ae32-67fa73ef0459",
   "metadata": {},
   "source": [
    "## 4. Tuning Gamma"
   ]
  },
  {
   "cell_type": "markdown",
   "id": "99786367-41ff-4672-a9bb-96a895309bdc",
   "metadata": {},
   "source": [
    "Gamma is a regularization parameter (0=no regularization). Increasing the gamma will make the algorithm more conservative"
   ]
  },
  {
   "cell_type": "code",
   "execution_count": 145,
   "id": "b4f1e23d-dfab-4012-987a-33a62ed87707",
   "metadata": {},
   "outputs": [
    {
     "data": {
      "text/html": [
       "<table class=\"dataframe\">\n",
       "<caption>A data.frame: 1 × 7</caption>\n",
       "<thead>\n",
       "\t<tr><th></th><th scope=col>nrounds</th><th scope=col>max_depth</th><th scope=col>eta</th><th scope=col>gamma</th><th scope=col>colsample_bytree</th><th scope=col>min_child_weight</th><th scope=col>subsample</th></tr>\n",
       "\t<tr><th></th><th scope=col>&lt;dbl&gt;</th><th scope=col>&lt;int&gt;</th><th scope=col>&lt;dbl&gt;</th><th scope=col>&lt;dbl&gt;</th><th scope=col>&lt;dbl&gt;</th><th scope=col>&lt;dbl&gt;</th><th scope=col>&lt;dbl&gt;</th></tr>\n",
       "</thead>\n",
       "<tbody>\n",
       "\t<tr><th scope=row>206</th><td>100</td><td>2</td><td>0.3</td><td>0</td><td>0.6</td><td>1</td><td>1</td></tr>\n",
       "</tbody>\n",
       "</table>\n"
      ],
      "text/latex": [
       "A data.frame: 1 × 7\n",
       "\\begin{tabular}{r|lllllll}\n",
       "  & nrounds & max\\_depth & eta & gamma & colsample\\_bytree & min\\_child\\_weight & subsample\\\\\n",
       "  & <dbl> & <int> & <dbl> & <dbl> & <dbl> & <dbl> & <dbl>\\\\\n",
       "\\hline\n",
       "\t206 & 100 & 2 & 0.3 & 0 & 0.6 & 1 & 1\\\\\n",
       "\\end{tabular}\n"
      ],
      "text/markdown": [
       "\n",
       "A data.frame: 1 × 7\n",
       "\n",
       "| <!--/--> | nrounds &lt;dbl&gt; | max_depth &lt;int&gt; | eta &lt;dbl&gt; | gamma &lt;dbl&gt; | colsample_bytree &lt;dbl&gt; | min_child_weight &lt;dbl&gt; | subsample &lt;dbl&gt; |\n",
       "|---|---|---|---|---|---|---|---|\n",
       "| 206 | 100 | 2 | 0.3 | 0 | 0.6 | 1 | 1 |\n",
       "\n"
      ],
      "text/plain": [
       "    nrounds max_depth eta gamma colsample_bytree min_child_weight subsample\n",
       "206 100     2         0.3 0     0.6              1                1        "
      ]
     },
     "metadata": {},
     "output_type": "display_data"
    }
   ],
   "source": [
    "xgb_tune3$bestTune"
   ]
  },
  {
   "cell_type": "code",
   "execution_count": 146,
   "id": "bfce5286-1cfc-430d-b5e3-213ad29b52d7",
   "metadata": {},
   "outputs": [],
   "source": [
    "tune_grid4 <- expand.grid(\n",
    "  nrounds = seq(from = 100, to = nrounds, by = 10),\n",
    "  eta = xgb_tune$bestTune$eta,\n",
    "  max_depth = xgb_tune2$bestTune$max_depth,\n",
    "  gamma = c(0, 0.05, 0.1, 0.5, 0.7, 0.9, 1.0), #defining a range of gamma values\n",
    "  colsample_bytree = xgb_tune3$bestTune$colsample_bytree,\n",
    "  min_child_weight = xgb_tune2$bestTune$min_child_weight,\n",
    "  subsample = xgb_tune3$bestTune$subsample\n",
    ")"
   ]
  },
  {
   "cell_type": "markdown",
   "id": "12dafcc8-1d78-4994-9f5d-7cf9271ad314",
   "metadata": {},
   "source": [
    "<font color=\"red\"><b>Critical:</b> It will take about 5-10 mins to run the next cell.</font>"
   ]
  },
  {
   "cell_type": "code",
   "execution_count": 147,
   "id": "ef38c204-b6a6-4d6f-9e6f-095a898ddba7",
   "metadata": {},
   "outputs": [],
   "source": [
    "set.seed(1234)\n",
    "xgb_tune4 <- caret::train(\n",
    "  x = train_x, y = train_y,\n",
    "  trControl = tune_control,\n",
    "  tuneGrid = tune_grid4,\n",
    "  method = \"xgbTree\",\n",
    "  verbose = TRUE,\n",
    "  nthread = n_threads # for parallel computing; it indicates the number of threads\n",
    ")"
   ]
  },
  {
   "cell_type": "code",
   "execution_count": 149,
   "id": "3344b089-78ab-4b14-b7a4-d2174992ba54",
   "metadata": {},
   "outputs": [
    {
     "data": {
      "text/html": [
       "<table class=\"dataframe\">\n",
       "<caption>A matrix: 2 × 6 of type dbl</caption>\n",
       "<thead>\n",
       "\t<tr><th></th><th scope=col>used</th><th scope=col>(Mb)</th><th scope=col>gc trigger</th><th scope=col>(Mb)</th><th scope=col>max used</th><th scope=col>(Mb)</th></tr>\n",
       "</thead>\n",
       "<tbody>\n",
       "\t<tr><th scope=row>Ncells</th><td>2776388</td><td>148.3</td><td> 4253282</td><td>227.2</td><td> 4253282</td><td>227.2</td></tr>\n",
       "\t<tr><th scope=row>Vcells</th><td>9180658</td><td> 70.1</td><td>21357184</td><td>163.0</td><td>17651681</td><td>134.7</td></tr>\n",
       "</tbody>\n",
       "</table>\n"
      ],
      "text/latex": [
       "A matrix: 2 × 6 of type dbl\n",
       "\\begin{tabular}{r|llllll}\n",
       "  & used & (Mb) & gc trigger & (Mb) & max used & (Mb)\\\\\n",
       "\\hline\n",
       "\tNcells & 2776388 & 148.3 &  4253282 & 227.2 &  4253282 & 227.2\\\\\n",
       "\tVcells & 9180658 &  70.1 & 21357184 & 163.0 & 17651681 & 134.7\\\\\n",
       "\\end{tabular}\n"
      ],
      "text/markdown": [
       "\n",
       "A matrix: 2 × 6 of type dbl\n",
       "\n",
       "| <!--/--> | used | (Mb) | gc trigger | (Mb) | max used | (Mb) |\n",
       "|---|---|---|---|---|---|---|\n",
       "| Ncells | 2776388 | 148.3 |  4253282 | 227.2 |  4253282 | 227.2 |\n",
       "| Vcells | 9180658 |  70.1 | 21357184 | 163.0 | 17651681 | 134.7 |\n",
       "\n"
      ],
      "text/plain": [
       "       used    (Mb)  gc trigger (Mb)  max used (Mb) \n",
       "Ncells 2776388 148.3  4253282   227.2  4253282 227.2\n",
       "Vcells 9180658  70.1 21357184   163.0 17651681 134.7"
      ]
     },
     "metadata": {},
     "output_type": "display_data"
    }
   ],
   "source": [
    "gc()"
   ]
  },
  {
   "cell_type": "markdown",
   "id": "c772d572-9e72-49b7-b437-69c0fa65a778",
   "metadata": {},
   "source": [
    "## 5. Reducing the Learning Rate"
   ]
  },
  {
   "cell_type": "code",
   "execution_count": 150,
   "id": "c7c151a2-a72e-4cb5-bb0a-f0a8f85ba801",
   "metadata": {},
   "outputs": [
    {
     "data": {
      "text/html": [
       "<table class=\"dataframe\">\n",
       "<caption>A data.frame: 1 × 7</caption>\n",
       "<thead>\n",
       "\t<tr><th></th><th scope=col>nrounds</th><th scope=col>max_depth</th><th scope=col>eta</th><th scope=col>gamma</th><th scope=col>colsample_bytree</th><th scope=col>min_child_weight</th><th scope=col>subsample</th></tr>\n",
       "\t<tr><th></th><th scope=col>&lt;dbl&gt;</th><th scope=col>&lt;int&gt;</th><th scope=col>&lt;dbl&gt;</th><th scope=col>&lt;dbl&gt;</th><th scope=col>&lt;dbl&gt;</th><th scope=col>&lt;dbl&gt;</th><th scope=col>&lt;dbl&gt;</th></tr>\n",
       "</thead>\n",
       "<tbody>\n",
       "\t<tr><th scope=row>42</th><td>100</td><td>2</td><td>0.3</td><td>0.05</td><td>0.6</td><td>1</td><td>1</td></tr>\n",
       "</tbody>\n",
       "</table>\n"
      ],
      "text/latex": [
       "A data.frame: 1 × 7\n",
       "\\begin{tabular}{r|lllllll}\n",
       "  & nrounds & max\\_depth & eta & gamma & colsample\\_bytree & min\\_child\\_weight & subsample\\\\\n",
       "  & <dbl> & <int> & <dbl> & <dbl> & <dbl> & <dbl> & <dbl>\\\\\n",
       "\\hline\n",
       "\t42 & 100 & 2 & 0.3 & 0.05 & 0.6 & 1 & 1\\\\\n",
       "\\end{tabular}\n"
      ],
      "text/markdown": [
       "\n",
       "A data.frame: 1 × 7\n",
       "\n",
       "| <!--/--> | nrounds &lt;dbl&gt; | max_depth &lt;int&gt; | eta &lt;dbl&gt; | gamma &lt;dbl&gt; | colsample_bytree &lt;dbl&gt; | min_child_weight &lt;dbl&gt; | subsample &lt;dbl&gt; |\n",
       "|---|---|---|---|---|---|---|---|\n",
       "| 42 | 100 | 2 | 0.3 | 0.05 | 0.6 | 1 | 1 |\n",
       "\n"
      ],
      "text/plain": [
       "   nrounds max_depth eta gamma colsample_bytree min_child_weight subsample\n",
       "42 100     2         0.3 0.05  0.6              1                1        "
      ]
     },
     "metadata": {},
     "output_type": "display_data"
    }
   ],
   "source": [
    "xgb_tune4$bestTune"
   ]
  },
  {
   "cell_type": "markdown",
   "id": "f1d4aebb-8baa-4910-b784-c33c0419a166",
   "metadata": {},
   "source": [
    "Recap: <br>\n",
    "- xgb_tune: Tuned nrounds and eta\n",
    "- xgb_tune2: Tuned max_depth and min_child_weight\n",
    "- xgb_tune3: Tuned colsample_bytree and subsample\n",
    "- xgb_tune4: Tuned gamma"
   ]
  },
  {
   "cell_type": "code",
   "execution_count": 151,
   "id": "c568f06a-a31d-4e03-9fbf-59f74b08f59d",
   "metadata": {},
   "outputs": [],
   "source": [
    "tune_grid5 <- expand.grid(\n",
    "  nrounds = seq(from = 100, to = 1000, by = 100), #nrounds from 100 to 1000 incremented by 100\n",
    "  eta = c(0.01, 0.015, 0.025, 0.05, 0.1), #range of values for learning rate\n",
    "  max_depth = xgb_tune2$bestTune$max_depth, \n",
    "  gamma = xgb_tune4$bestTune$gamma, \n",
    "  colsample_bytree = xgb_tune3$bestTune$colsample_bytree,  \n",
    "  min_child_weight = xgb_tune2$bestTune$min_child_weight,  \n",
    "  subsample = xgb_tune3$bestTune$subsample \n",
    ")"
   ]
  },
  {
   "cell_type": "markdown",
   "id": "0f93fb64-b2f9-4b7c-a0dc-fc1af6c0bd18",
   "metadata": {},
   "source": [
    "<font color=\"red\"><b>Critical:</b> It will take about 5-10 mins to run the next cell.</font>"
   ]
  },
  {
   "cell_type": "code",
   "execution_count": 152,
   "id": "a0a730a1-39fd-47b9-a1cd-34e1b3147e07",
   "metadata": {},
   "outputs": [],
   "source": [
    "set.seed(1234)\n",
    "xgb_tune5 <- caret::train(\n",
    "    x = train_x, y = train_y,\n",
    "  trControl = tune_control,\n",
    "  tuneGrid = tune_grid5,\n",
    "  method = \"xgbTree\",\n",
    "  verbose = TRUE,\n",
    "  nthread = n_threads # for parallel computing; it indicates the number of threads\n",
    ")"
   ]
  },
  {
   "cell_type": "code",
   "execution_count": 155,
   "id": "47934c56-c5ed-40f0-b792-bb552805638e",
   "metadata": {},
   "outputs": [
    {
     "data": {
      "text/html": [
       "<table class=\"dataframe\">\n",
       "<caption>A matrix: 2 × 6 of type dbl</caption>\n",
       "<thead>\n",
       "\t<tr><th></th><th scope=col>used</th><th scope=col>(Mb)</th><th scope=col>gc trigger</th><th scope=col>(Mb)</th><th scope=col>max used</th><th scope=col>(Mb)</th></tr>\n",
       "</thead>\n",
       "<tbody>\n",
       "\t<tr><th scope=row>Ncells</th><td>2786924</td><td>148.9</td><td> 4253282</td><td>227.2</td><td> 4253282</td><td>227.2</td></tr>\n",
       "\t<tr><th scope=row>Vcells</th><td>9367658</td><td> 71.5</td><td>21357184</td><td>163.0</td><td>17651681</td><td>134.7</td></tr>\n",
       "</tbody>\n",
       "</table>\n"
      ],
      "text/latex": [
       "A matrix: 2 × 6 of type dbl\n",
       "\\begin{tabular}{r|llllll}\n",
       "  & used & (Mb) & gc trigger & (Mb) & max used & (Mb)\\\\\n",
       "\\hline\n",
       "\tNcells & 2786924 & 148.9 &  4253282 & 227.2 &  4253282 & 227.2\\\\\n",
       "\tVcells & 9367658 &  71.5 & 21357184 & 163.0 & 17651681 & 134.7\\\\\n",
       "\\end{tabular}\n"
      ],
      "text/markdown": [
       "\n",
       "A matrix: 2 × 6 of type dbl\n",
       "\n",
       "| <!--/--> | used | (Mb) | gc trigger | (Mb) | max used | (Mb) |\n",
       "|---|---|---|---|---|---|---|\n",
       "| Ncells | 2786924 | 148.9 |  4253282 | 227.2 |  4253282 | 227.2 |\n",
       "| Vcells | 9367658 |  71.5 | 21357184 | 163.0 | 17651681 | 134.7 |\n",
       "\n"
      ],
      "text/plain": [
       "       used    (Mb)  gc trigger (Mb)  max used (Mb) \n",
       "Ncells 2786924 148.9  4253282   227.2  4253282 227.2\n",
       "Vcells 9367658  71.5 21357184   163.0 17651681 134.7"
      ]
     },
     "metadata": {},
     "output_type": "display_data"
    }
   ],
   "source": [
    "gc()"
   ]
  },
  {
   "cell_type": "markdown",
   "id": "feb720a2-04df-4437-9791-23f534ce26c4",
   "metadata": {},
   "source": [
    "## 6. Fitting the final model using the best parameters from the previous step"
   ]
  },
  {
   "cell_type": "markdown",
   "id": "a28c2334-e310-42c5-b4df-69d9ba19b984",
   "metadata": {},
   "source": [
    "Since xgb_tune5 used all the best parameters from the previous 4 tuning models, we will use the best paramaters of xgb_tune5 to fit the final model."
   ]
  },
  {
   "cell_type": "code",
   "execution_count": 156,
   "id": "35cc5ae1-d11b-41c9-adb1-0206dcc5afb1",
   "metadata": {},
   "outputs": [
    {
     "data": {
      "text/html": [
       "<table class=\"dataframe\">\n",
       "<caption>A data.frame: 1 × 7</caption>\n",
       "<thead>\n",
       "\t<tr><th></th><th scope=col>nrounds</th><th scope=col>max_depth</th><th scope=col>eta</th><th scope=col>gamma</th><th scope=col>colsample_bytree</th><th scope=col>min_child_weight</th><th scope=col>subsample</th></tr>\n",
       "\t<tr><th></th><th scope=col>&lt;dbl&gt;</th><th scope=col>&lt;int&gt;</th><th scope=col>&lt;dbl&gt;</th><th scope=col>&lt;dbl&gt;</th><th scope=col>&lt;dbl&gt;</th><th scope=col>&lt;dbl&gt;</th><th scope=col>&lt;dbl&gt;</th></tr>\n",
       "</thead>\n",
       "<tbody>\n",
       "\t<tr><th scope=row>42</th><td>200</td><td>2</td><td>0.1</td><td>0.05</td><td>0.6</td><td>1</td><td>1</td></tr>\n",
       "</tbody>\n",
       "</table>\n"
      ],
      "text/latex": [
       "A data.frame: 1 × 7\n",
       "\\begin{tabular}{r|lllllll}\n",
       "  & nrounds & max\\_depth & eta & gamma & colsample\\_bytree & min\\_child\\_weight & subsample\\\\\n",
       "  & <dbl> & <int> & <dbl> & <dbl> & <dbl> & <dbl> & <dbl>\\\\\n",
       "\\hline\n",
       "\t42 & 200 & 2 & 0.1 & 0.05 & 0.6 & 1 & 1\\\\\n",
       "\\end{tabular}\n"
      ],
      "text/markdown": [
       "\n",
       "A data.frame: 1 × 7\n",
       "\n",
       "| <!--/--> | nrounds &lt;dbl&gt; | max_depth &lt;int&gt; | eta &lt;dbl&gt; | gamma &lt;dbl&gt; | colsample_bytree &lt;dbl&gt; | min_child_weight &lt;dbl&gt; | subsample &lt;dbl&gt; |\n",
       "|---|---|---|---|---|---|---|---|\n",
       "| 42 | 200 | 2 | 0.1 | 0.05 | 0.6 | 1 | 1 |\n",
       "\n"
      ],
      "text/plain": [
       "   nrounds max_depth eta gamma colsample_bytree min_child_weight subsample\n",
       "42 200     2         0.1 0.05  0.6              1                1        "
      ]
     },
     "metadata": {},
     "output_type": "display_data"
    }
   ],
   "source": [
    "xgb_tune5$bestTune"
   ]
  },
  {
   "cell_type": "code",
   "execution_count": 157,
   "id": "4f8033f5-dc32-434c-8699-de329cb2a1a8",
   "metadata": {},
   "outputs": [],
   "source": [
    "final_grid <- expand.grid(\n",
    "  nrounds = xgb_tune5$bestTune$nrounds,\n",
    "  eta = xgb_tune5$bestTune$eta,\n",
    "  max_depth = xgb_tune5$bestTune$max_depth,\n",
    "  gamma = xgb_tune5$bestTune$gamma,\n",
    "  colsample_bytree = xgb_tune5$bestTune$colsample_bytree,\n",
    "  min_child_weight = xgb_tune5$bestTune$min_child_weight,\n",
    "  subsample = xgb_tune5$bestTune$subsample\n",
    ")"
   ]
  },
  {
   "cell_type": "code",
   "execution_count": 158,
   "id": "f18c8903-6a1e-45f1-9c98-758c2b4d8b58",
   "metadata": {},
   "outputs": [],
   "source": [
    "set.seed(1234)\n",
    "xgb_model_final <- caret::train(\n",
    "  x = train_x, y = train_y,\n",
    "  trControl = train_control,\n",
    "  tuneGrid = final_grid,\n",
    "  method = \"xgbTree\",\n",
    "  verbose = TRUE,\n",
    "  nthread = n_threads # for parallel computing; it indicates the number of threads\n",
    ")"
   ]
  },
  {
   "cell_type": "code",
   "execution_count": 159,
   "id": "061d34d7-1f99-4e53-9940-17917f5540d0",
   "metadata": {},
   "outputs": [
    {
     "data": {
      "text/plain": [
       "Confusion Matrix and Statistics\n",
       "\n",
       "                     Reference\n",
       "Prediction            La_Jolla Reefs La_Jolla_Cove Mission_Bay Mission_Beach\n",
       "  La_Jolla Reefs                   8             0           0             0\n",
       "  La_Jolla_Cove                    0             3           0             0\n",
       "  Mission_Bay                      0             0           9             1\n",
       "  Mission_Beach                    0             0           1             4\n",
       "  Pacific_Beach                    2             0           0             0\n",
       "  SIO_La_Jolla_Shores              0             0           0             0\n",
       "  Torrey_Pines                     0             0           0             0\n",
       "                     Reference\n",
       "Prediction            Pacific_Beach SIO_La_Jolla_Shores Torrey_Pines\n",
       "  La_Jolla Reefs                  2                   0            0\n",
       "  La_Jolla_Cove                   0                   0            0\n",
       "  Mission_Bay                     1                   0            0\n",
       "  Mission_Beach                   0                   0            0\n",
       "  Pacific_Beach                   0                   0            0\n",
       "  SIO_La_Jolla_Shores             0                   3            0\n",
       "  Torrey_Pines                    0                   2           14\n",
       "\n",
       "Overall Statistics\n",
       "                                          \n",
       "               Accuracy : 0.82            \n",
       "                 95% CI : (0.6856, 0.9142)\n",
       "    No Information Rate : 0.28            \n",
       "    P-Value [Acc > NIR] : 3.06e-15        \n",
       "                                          \n",
       "                  Kappa : 0.7762          \n",
       "                                          \n",
       " Mcnemar's Test P-Value : NA              \n",
       "\n",
       "Statistics by Class:\n",
       "\n",
       "                     Class: La_Jolla Reefs Class: La_Jolla_Cove\n",
       "Sensitivity                          0.800                 1.00\n",
       "Specificity                          0.950                 1.00\n",
       "Pos Pred Value                       0.800                 1.00\n",
       "Neg Pred Value                       0.950                 1.00\n",
       "Prevalence                           0.200                 0.06\n",
       "Detection Rate                       0.160                 0.06\n",
       "Detection Prevalence                 0.200                 0.06\n",
       "Balanced Accuracy                    0.875                 1.00\n",
       "                     Class: Mission_Bay Class: Mission_Beach\n",
       "Sensitivity                      0.9000               0.8000\n",
       "Specificity                      0.9500               0.9778\n",
       "Pos Pred Value                   0.8182               0.8000\n",
       "Neg Pred Value                   0.9744               0.9778\n",
       "Prevalence                       0.2000               0.1000\n",
       "Detection Rate                   0.1800               0.0800\n",
       "Detection Prevalence             0.2200               0.1000\n",
       "Balanced Accuracy                0.9250               0.8889\n",
       "                     Class: Pacific_Beach Class: SIO_La_Jolla_Shores\n",
       "Sensitivity                        0.0000                     0.6000\n",
       "Specificity                        0.9574                     1.0000\n",
       "Pos Pred Value                     0.0000                     1.0000\n",
       "Neg Pred Value                     0.9375                     0.9574\n",
       "Prevalence                         0.0600                     0.1000\n",
       "Detection Rate                     0.0000                     0.0600\n",
       "Detection Prevalence               0.0400                     0.0600\n",
       "Balanced Accuracy                  0.4787                     0.8000\n",
       "                     Class: Torrey_Pines\n",
       "Sensitivity                       1.0000\n",
       "Specificity                       0.9444\n",
       "Pos Pred Value                    0.8750\n",
       "Neg Pred Value                    1.0000\n",
       "Prevalence                        0.2800\n",
       "Detection Rate                    0.2800\n",
       "Detection Prevalence              0.3200\n",
       "Balanced Accuracy                 0.9722"
      ]
     },
     "metadata": {},
     "output_type": "display_data"
    }
   ],
   "source": [
    "predicted_final <- predict(xgb_model_final, test_x) # predict on test data\n",
    "confusionMatrix(data = predicted_final, reference = test_y) #getting the confusion matrix"
   ]
  },
  {
   "cell_type": "code",
   "execution_count": 160,
   "id": "59d24573-4d13-4ddc-907f-b7a712717871",
   "metadata": {},
   "outputs": [],
   "source": [
    "prediction_probs_tuned <- predict(xgb_model_final, test_x, type = \"prob\") # get the probability matrix"
   ]
  },
  {
   "cell_type": "code",
   "execution_count": 208,
   "id": "26d98e0e-1b4f-4a17-8c00-8f61367d2758",
   "metadata": {},
   "outputs": [
    {
     "data": {
      "text/html": [
       "<table class=\"dataframe\">\n",
       "<caption>A data.frame: 3 × 7</caption>\n",
       "<thead>\n",
       "\t<tr><th></th><th scope=col>La_Jolla Reefs</th><th scope=col>La_Jolla_Cove</th><th scope=col>Mission_Bay</th><th scope=col>Mission_Beach</th><th scope=col>Pacific_Beach</th><th scope=col>SIO_La_Jolla_Shores</th><th scope=col>Torrey_Pines</th></tr>\n",
       "\t<tr><th></th><th scope=col>&lt;dbl&gt;</th><th scope=col>&lt;dbl&gt;</th><th scope=col>&lt;dbl&gt;</th><th scope=col>&lt;dbl&gt;</th><th scope=col>&lt;dbl&gt;</th><th scope=col>&lt;dbl&gt;</th><th scope=col>&lt;dbl&gt;</th></tr>\n",
       "</thead>\n",
       "<tbody>\n",
       "\t<tr><th scope=row>1</th><td>0.001268527</td><td>0.00936424</td><td>0.011528916</td><td>0.001488929</td><td>0.001018551</td><td>0.006796387</td><td>0.968534470</td></tr>\n",
       "\t<tr><th scope=row>2</th><td>0.017003052</td><td>0.55707443</td><td>0.043532647</td><td>0.025914976</td><td>0.024973545</td><td>0.319260716</td><td>0.012240668</td></tr>\n",
       "\t<tr><th scope=row>3</th><td>0.877113283</td><td>0.00560596</td><td>0.008318624</td><td>0.011489893</td><td>0.014193409</td><td>0.079620928</td><td>0.003657874</td></tr>\n",
       "</tbody>\n",
       "</table>\n"
      ],
      "text/latex": [
       "A data.frame: 3 × 7\n",
       "\\begin{tabular}{r|lllllll}\n",
       "  & La\\_Jolla Reefs & La\\_Jolla\\_Cove & Mission\\_Bay & Mission\\_Beach & Pacific\\_Beach & SIO\\_La\\_Jolla\\_Shores & Torrey\\_Pines\\\\\n",
       "  & <dbl> & <dbl> & <dbl> & <dbl> & <dbl> & <dbl> & <dbl>\\\\\n",
       "\\hline\n",
       "\t1 & 0.001268527 & 0.00936424 & 0.011528916 & 0.001488929 & 0.001018551 & 0.006796387 & 0.968534470\\\\\n",
       "\t2 & 0.017003052 & 0.55707443 & 0.043532647 & 0.025914976 & 0.024973545 & 0.319260716 & 0.012240668\\\\\n",
       "\t3 & 0.877113283 & 0.00560596 & 0.008318624 & 0.011489893 & 0.014193409 & 0.079620928 & 0.003657874\\\\\n",
       "\\end{tabular}\n"
      ],
      "text/markdown": [
       "\n",
       "A data.frame: 3 × 7\n",
       "\n",
       "| <!--/--> | La_Jolla Reefs &lt;dbl&gt; | La_Jolla_Cove &lt;dbl&gt; | Mission_Bay &lt;dbl&gt; | Mission_Beach &lt;dbl&gt; | Pacific_Beach &lt;dbl&gt; | SIO_La_Jolla_Shores &lt;dbl&gt; | Torrey_Pines &lt;dbl&gt; |\n",
       "|---|---|---|---|---|---|---|---|\n",
       "| 1 | 0.001268527 | 0.00936424 | 0.011528916 | 0.001488929 | 0.001018551 | 0.006796387 | 0.968534470 |\n",
       "| 2 | 0.017003052 | 0.55707443 | 0.043532647 | 0.025914976 | 0.024973545 | 0.319260716 | 0.012240668 |\n",
       "| 3 | 0.877113283 | 0.00560596 | 0.008318624 | 0.011489893 | 0.014193409 | 0.079620928 | 0.003657874 |\n",
       "\n"
      ],
      "text/plain": [
       "  La_Jolla Reefs La_Jolla_Cove Mission_Bay Mission_Beach Pacific_Beach\n",
       "1 0.001268527    0.00936424    0.011528916 0.001488929   0.001018551  \n",
       "2 0.017003052    0.55707443    0.043532647 0.025914976   0.024973545  \n",
       "3 0.877113283    0.00560596    0.008318624 0.011489893   0.014193409  \n",
       "  SIO_La_Jolla_Shores Torrey_Pines\n",
       "1 0.006796387         0.968534470 \n",
       "2 0.319260716         0.012240668 \n",
       "3 0.079620928         0.003657874 "
      ]
     },
     "metadata": {},
     "output_type": "display_data"
    },
    {
     "data": {
      "text/html": [
       "<style>\n",
       ".list-inline {list-style: none; margin:0; padding: 0}\n",
       ".list-inline>li {display: inline-block}\n",
       ".list-inline>li:not(:last-child)::after {content: \"\\00b7\"; padding: 0 .5ex}\n",
       "</style>\n",
       "<ol class=list-inline><li>50</li><li>7</li></ol>\n"
      ],
      "text/latex": [
       "\\begin{enumerate*}\n",
       "\\item 50\n",
       "\\item 7\n",
       "\\end{enumerate*}\n"
      ],
      "text/markdown": [
       "1. 50\n",
       "2. 7\n",
       "\n",
       "\n"
      ],
      "text/plain": [
       "[1] 50  7"
      ]
     },
     "metadata": {},
     "output_type": "display_data"
    }
   ],
   "source": [
    "head(prediction_probs_tuned,3)\n",
    "dim(prediction_probs_tuned)"
   ]
  },
  {
   "cell_type": "code",
   "execution_count": 161,
   "id": "e4acda16-2caf-4696-830e-d031ec384057",
   "metadata": {},
   "outputs": [
    {
     "data": {
      "text/html": [
       "0.956984126984127"
      ],
      "text/latex": [
       "0.956984126984127"
      ],
      "text/markdown": [
       "0.956984126984127"
      ],
      "text/plain": [
       "Multi-class area under the curve: 0.957"
      ]
     },
     "metadata": {},
     "output_type": "display_data"
    }
   ],
   "source": [
    "ROC_tuned <- pROC::multiclass.roc(test_y, prediction_probs_tuned) #ROC\n",
    "ROC_tuned$auc #AUC"
   ]
  },
  {
   "cell_type": "code",
   "execution_count": 162,
   "id": "6775fb57-ab61-4dcf-9cb0-80eb10a9e146",
   "metadata": {},
   "outputs": [
    {
     "data": {
      "text/html": [
       "<table class=\"dataframe\">\n",
       "<caption>A matrix: 2 × 6 of type dbl</caption>\n",
       "<thead>\n",
       "\t<tr><th></th><th scope=col>used</th><th scope=col>(Mb)</th><th scope=col>gc trigger</th><th scope=col>(Mb)</th><th scope=col>max used</th><th scope=col>(Mb)</th></tr>\n",
       "</thead>\n",
       "<tbody>\n",
       "\t<tr><th scope=row>Ncells</th><td>2798138</td><td>149.5</td><td> 4253282</td><td>227.2</td><td> 4253282</td><td>227.2</td></tr>\n",
       "\t<tr><th scope=row>Vcells</th><td>9545158</td><td> 72.9</td><td>21357184</td><td>163.0</td><td>17651681</td><td>134.7</td></tr>\n",
       "</tbody>\n",
       "</table>\n"
      ],
      "text/latex": [
       "A matrix: 2 × 6 of type dbl\n",
       "\\begin{tabular}{r|llllll}\n",
       "  & used & (Mb) & gc trigger & (Mb) & max used & (Mb)\\\\\n",
       "\\hline\n",
       "\tNcells & 2798138 & 149.5 &  4253282 & 227.2 &  4253282 & 227.2\\\\\n",
       "\tVcells & 9545158 &  72.9 & 21357184 & 163.0 & 17651681 & 134.7\\\\\n",
       "\\end{tabular}\n"
      ],
      "text/markdown": [
       "\n",
       "A matrix: 2 × 6 of type dbl\n",
       "\n",
       "| <!--/--> | used | (Mb) | gc trigger | (Mb) | max used | (Mb) |\n",
       "|---|---|---|---|---|---|---|\n",
       "| Ncells | 2798138 | 149.5 |  4253282 | 227.2 |  4253282 | 227.2 |\n",
       "| Vcells | 9545158 |  72.9 | 21357184 | 163.0 | 17651681 | 134.7 |\n",
       "\n"
      ],
      "text/plain": [
       "       used    (Mb)  gc trigger (Mb)  max used (Mb) \n",
       "Ncells 2798138 149.5  4253282   227.2  4253282 227.2\n",
       "Vcells 9545158  72.9 21357184   163.0 17651681 134.7"
      ]
     },
     "metadata": {},
     "output_type": "display_data"
    }
   ],
   "source": [
    "gc() # free memory"
   ]
  },
  {
   "cell_type": "code",
   "execution_count": 163,
   "id": "384ef398-cc0a-44dc-b12d-339b4a0f00c7",
   "metadata": {},
   "outputs": [],
   "source": [
    "stopCluster(cl) # stop cluster"
   ]
  },
  {
   "cell_type": "markdown",
   "id": "f88561d4-ccfd-4575-8988-4db4fc0d784c",
   "metadata": {},
   "source": [
    "From tuning parameters in 5-fold cross-validation, we obtained an improvement in performance and the final AUC is 0.96 and Accuracy is 0.84. Again, remember that our sample size is not very large and it needs to be considered in any predictive task. The code here is intended to provide you a guide for building an XGBoost model and tuning important parameters but a particular attention is needed when building these models to avoid issues such as overfitting/underfitting and reaching wrong conclusions. "
   ]
  },
  {
   "cell_type": "markdown",
   "id": "979dd6c0-b7a2-43c9-a9b3-e89d2cf87b7c",
   "metadata": {},
   "source": [
    "# Ranking features by importance\n",
    "<a id=\"xgboost_rank\"></a>\n",
    "We can also rank the feature by importance. The top features had a larger impact on determining the prediction of sampling area. Note that the R package caret estimates feature importance from the final model fitted, and not from the cross-validations. This is automatically given to the caret function varImp."
   ]
  },
  {
   "cell_type": "code",
   "execution_count": 177,
   "id": "042e2dc8-6f47-4201-b080-76ad3f5f922e",
   "metadata": {},
   "outputs": [
    {
     "data": {
      "text/plain": [
       "xgbTree variable importance\n",
       "\n",
       "  only 20 most important variables shown (out of 9092)\n",
       "\n",
       "                       Overall\n",
       "X92112_906.258_12.941  100.000\n",
       "X54129_381.808_6.99     63.228\n",
       "X91372_906.258_12.697   46.987\n",
       "X59188_312.231_7.625    32.354\n",
       "X57492_331.081_7.416    26.050\n",
       "X86594_755.487_11.127   24.848\n",
       "X91699_932.629_12.77    21.801\n",
       "X89535_1223.342_12.013  18.177\n",
       "X83607_480.549_10.728   18.158\n",
       "X33200_260.196_4.886    17.571\n",
       "X89481_856.607_11.931   16.659\n",
       "X89388_908.258_12.002   16.125\n",
       "X79387_209.153_10.22    12.613\n",
       "X282_261.108_0.615      12.366\n",
       "X46443_363.165_6.106    10.629\n",
       "X54623_486.363_7.052    10.035\n",
       "X48714_566.104_6.378     9.433\n",
       "X82651_261.242_10.62     9.121\n",
       "X78984_219.174_10.107    8.621\n",
       "X55979_529.37_7.232      8.547"
      ]
     },
     "metadata": {},
     "output_type": "display_data"
    }
   ],
   "source": [
    "varImp(xgb_model_final, scale = T)"
   ]
  },
  {
   "cell_type": "markdown",
   "id": "3ffa71f7-568a-4749-9f5f-c2d36b1316da",
   "metadata": {},
   "source": [
    "To write down the 'gain' or importance score for all features, we will use the xgb.importance function from xgboost package."
   ]
  },
  {
   "cell_type": "code",
   "execution_count": 179,
   "id": "d4c2b8cc-8105-4407-b5a2-bdeb2cf9327e",
   "metadata": {},
   "outputs": [
    {
     "data": {
      "text/html": [
       "<table class=\"dataframe\">\n",
       "<caption>A data.table: 6 × 4</caption>\n",
       "<thead>\n",
       "\t<tr><th scope=col>Feature</th><th scope=col>Gain</th><th scope=col>Cover</th><th scope=col>Frequency</th></tr>\n",
       "\t<tr><th scope=col>&lt;chr&gt;</th><th scope=col>&lt;dbl&gt;</th><th scope=col>&lt;dbl&gt;</th><th scope=col>&lt;dbl&gt;</th></tr>\n",
       "</thead>\n",
       "<tbody>\n",
       "\t<tr><td>X92112_906.258_12.941</td><td>0.11284244</td><td>0.05321790</td><td>0.026856240</td></tr>\n",
       "\t<tr><td>X54129_381.808_6.99  </td><td>0.07134831</td><td>0.03630356</td><td>0.024486572</td></tr>\n",
       "\t<tr><td>X91372_906.258_12.697</td><td>0.05302117</td><td>0.02989660</td><td>0.011848341</td></tr>\n",
       "\t<tr><td>X59188_312.231_7.625 </td><td>0.03650904</td><td>0.02709749</td><td>0.016587678</td></tr>\n",
       "\t<tr><td>X57492_331.081_7.416 </td><td>0.02939598</td><td>0.01388229</td><td>0.003949447</td></tr>\n",
       "\t<tr><td>X86594_755.487_11.127</td><td>0.02803867</td><td>0.03454048</td><td>0.024486572</td></tr>\n",
       "</tbody>\n",
       "</table>\n"
      ],
      "text/latex": [
       "A data.table: 6 × 4\n",
       "\\begin{tabular}{llll}\n",
       " Feature & Gain & Cover & Frequency\\\\\n",
       " <chr> & <dbl> & <dbl> & <dbl>\\\\\n",
       "\\hline\n",
       "\t X92112\\_906.258\\_12.941 & 0.11284244 & 0.05321790 & 0.026856240\\\\\n",
       "\t X54129\\_381.808\\_6.99   & 0.07134831 & 0.03630356 & 0.024486572\\\\\n",
       "\t X91372\\_906.258\\_12.697 & 0.05302117 & 0.02989660 & 0.011848341\\\\\n",
       "\t X59188\\_312.231\\_7.625  & 0.03650904 & 0.02709749 & 0.016587678\\\\\n",
       "\t X57492\\_331.081\\_7.416  & 0.02939598 & 0.01388229 & 0.003949447\\\\\n",
       "\t X86594\\_755.487\\_11.127 & 0.02803867 & 0.03454048 & 0.024486572\\\\\n",
       "\\end{tabular}\n"
      ],
      "text/markdown": [
       "\n",
       "A data.table: 6 × 4\n",
       "\n",
       "| Feature &lt;chr&gt; | Gain &lt;dbl&gt; | Cover &lt;dbl&gt; | Frequency &lt;dbl&gt; |\n",
       "|---|---|---|---|\n",
       "| X92112_906.258_12.941 | 0.11284244 | 0.05321790 | 0.026856240 |\n",
       "| X54129_381.808_6.99   | 0.07134831 | 0.03630356 | 0.024486572 |\n",
       "| X91372_906.258_12.697 | 0.05302117 | 0.02989660 | 0.011848341 |\n",
       "| X59188_312.231_7.625  | 0.03650904 | 0.02709749 | 0.016587678 |\n",
       "| X57492_331.081_7.416  | 0.02939598 | 0.01388229 | 0.003949447 |\n",
       "| X86594_755.487_11.127 | 0.02803867 | 0.03454048 | 0.024486572 |\n",
       "\n"
      ],
      "text/plain": [
       "  Feature               Gain       Cover      Frequency  \n",
       "1 X92112_906.258_12.941 0.11284244 0.05321790 0.026856240\n",
       "2 X54129_381.808_6.99   0.07134831 0.03630356 0.024486572\n",
       "3 X91372_906.258_12.697 0.05302117 0.02989660 0.011848341\n",
       "4 X59188_312.231_7.625  0.03650904 0.02709749 0.016587678\n",
       "5 X57492_331.081_7.416  0.02939598 0.01388229 0.003949447\n",
       "6 X86594_755.487_11.127 0.02803867 0.03454048 0.024486572"
      ]
     },
     "metadata": {},
     "output_type": "display_data"
    }
   ],
   "source": [
    "var_imp <- xgboost::xgb.importance(xgb_model_final$finalModel$feature_names,model=xgb_model_final$finalModel)\n",
    "head(var_imp)"
   ]
  },
  {
   "cell_type": "code",
   "execution_count": 180,
   "id": "23576933-ab27-4d22-8373-969ac5c88108",
   "metadata": {},
   "outputs": [],
   "source": [
    "write.csv(var_imp, \"Importance_features_xgboost.csv\")"
   ]
  },
  {
   "cell_type": "markdown",
   "id": "c1999986-f421-494d-90d9-00e89f775707",
   "metadata": {},
   "source": [
    "We can also plot the top 20 features. Change the 'top' parameter for plotting more features. The feature importance is based on the 'Gain' calculation. For more details https://xgboost.readthedocs.io/en/latest/tutorials/model.html"
   ]
  },
  {
   "cell_type": "code",
   "execution_count": 165,
   "id": "a5a8fcdb-e625-40f5-9b86-a76c3cea98ee",
   "metadata": {},
   "outputs": [
    {
     "data": {
      "image/png": "[encoded data removed]",
      "text/plain": [
       "plot without title"
      ]
     },
     "metadata": {
      "image/png": {
       "height": 420,
       "width": 420
      }
     },
     "output_type": "display_data"
    }
   ],
   "source": [
    "plot(varImp(xgb_model_final, scale = T), top = 20)"
   ]
  },
  {
   "cell_type": "code",
   "execution_count": null,
   "id": "b8c9f85e-7296-4e40-a2da-809928517ab9",
   "metadata": {},
   "outputs": [],
   "source": [
    "svglite('top20_important_features_xgboost.svg', width=10, height=15, bg='white') #to save as svg plot\n",
    "plot(varImp(xgb_model_final, scale = T), top = 20)\n",
    "dev.off()"
   ]
  }
 ],
 "metadata": {
  "kernelspec": {
   "display_name": "R",
   "language": "R",
   "name": "ir"
  },
  "language_info": {
   "codemirror_mode": "r",
   "file_extension": ".r",
   "mimetype": "text/x-r-source",
   "name": "R",
   "pygments_lexer": "r",
   "version": "4.1.3"
  }
 },
 "nbformat": 4,
 "nbformat_minor": 5
}
