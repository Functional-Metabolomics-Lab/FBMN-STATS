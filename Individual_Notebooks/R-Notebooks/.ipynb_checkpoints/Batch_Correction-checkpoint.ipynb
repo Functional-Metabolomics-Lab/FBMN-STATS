{
 "cells": [
  {
   "cell_type": "markdown",
   "id": "fa786320-bf20-4965-94ae-b7e5e4b380cf",
   "metadata": {
    "id": "fa786320-bf20-4965-94ae-b7e5e4b380cf"
   },
   "source": [
    "# Understanding and Correcting Batch Effects in Data Analysis\n",
    "\n",
    "**Updated on:** 2023-05-02 13:45:44 CEST\n",
    "\n",
    "In this Jupyter Notebook we perform batch correction of an untargeted metabolomics data set.\n",
    "    \n",
    "**Authors**: Abzer Kelminal (abzer.shah@uni-tuebingen.de), Marcelo Navarro-Diaz(marcelo.navarro-diaz@uni-tuebingen.de), Jan Stanstrup (jst@nexs.ku.dk)<br>\n",
    "**Input file format**: .csv files or .txt files <br>\n",
    "**Outputs**: .csv files, .pdf & .svg images  <br>\n",
    "**Dependencies**: pacman, tidyverse, KODAMA, devtools, bisoreg"
   ]
  },
  {
   "cell_type": "markdown",
   "id": "8a21a340-b9f7-411c-ad05-09cae1007ddb",
   "metadata": {
    "id": "8a21a340-b9f7-411c-ad05-09cae1007ddb"
   },
   "source": [
    "Assuming the user for this notebook has already used the Stats Notebook (Performing basic uni- and multivariate statistical analsysis of untargeted metabolomics data) [![Open in Colab](https://colab.research.google.com/assets/colab-badge.svg)](https://colab.research.google.com/github/Functional-Metabolomics-Lab/FBMN-STATS/blob/main/Stats_Untargeted_Metabolomics.ipynb), we will proceed with loading in necessary files and show how to perform Batch Correction.\n",
    "\n",
    "---"
   ]
  },
  {
   "cell_type": "markdown",
   "id": "a091c0c4-66e6-4318-ab64-63f8cb1c9301",
   "metadata": {
    "id": "a091c0c4-66e6-4318-ab64-63f8cb1c9301"
   },
   "source": [
    "## Introduction on Batch Effects\n",
    "\n",
    "<p style='text-align: justify;'> A 'Batch' is a group of samples processed and analyzed by the same experimental & instrumental conditions in the same short time period. In general, if we have more samples than the tray size, we might measure them as multiple batches or groups. When arranging samples in a batch for measurement, in order to ensure biological diversity within a batch, in addition to our samples of interest, it is advised to have QCs, blanks, and controls (Wehrens et al., 2016). To merge data from these different batches, we must look for batch-effects, both, between the batches and within each batch and correct these effects. <br> <b>But, prior to batch correction on a dataset, we should evaluate the severity of the batch effect and when it is small, it is best to not perform batch correction as this may result in an incorrect estimation of the biological variance in the data. Instead, we should treat the statistical results with caution (Nygaard et al., 2016). For more details, please read the manuscript </b>.</p>\n",
    "\n",
    "<p style='text-align: justify;'>Now, let's look at how one can perform inter- and intra- batch corrections. Several methods are used for this purpose. The manuscript provides a comprehensive overview of these methods. We will demonstrate one such method here in the following sections.</p>"
   ]
  },
  {
   "cell_type": "markdown",
   "id": "c191889a-156b-4ed6-9d82-6c0c13e8f607",
   "metadata": {},
   "source": [
    "## Install and load packages"
   ]
  },
  {
   "cell_type": "code",
   "execution_count": 1,
   "id": "798ba461-04b0-4cd3-8eab-3acfe41f5607",
   "metadata": {},
   "outputs": [
    {
     "name": "stderr",
     "output_type": "stream",
     "text": [
      "Loading required package: pacman\n",
      "\n"
     ]
    }
   ],
   "source": [
    "options(install.packages.compile.from.source=\"never\")\n",
    "\n",
    "if (!require(\"pacman\")) install.packages(\"pacman\") #Installing pacman if not present\n",
    "pacman::p_load(\"tidyverse\", \"KODAMA\", \"devtools\") # install and load the necessary packages"
   ]
  },
  {
   "cell_type": "code",
   "execution_count": 73,
   "id": "eb705b2a-8b44-45b3-8f2b-407c5ca5e8d1",
   "metadata": {},
   "outputs": [
    {
     "name": "stderr",
     "output_type": "stream",
     "text": [
      "Downloading GitHub repo cran/bisoreg@HEAD\n",
      "\n"
     ]
    },
    {
     "name": "stdout",
     "output_type": "stream",
     "text": [
      "\n",
      "\u001b[36m--\u001b[39m \u001b[36mR CMD build\u001b[39m \u001b[36m-----------------------------------------------------------------\u001b[39m\n",
      "* checking for file 'C:\\Users\\abzer\\AppData\\Local\\Temp\\Rtmp8uKaTz\\remotes82542d08aea\\cran-bisoreg-d612ac2/DESCRIPTION' ... OK\n",
      "* preparing 'bisoreg':\n",
      "* checking DESCRIPTION meta-information ... OK\n",
      "* cleaning src\n",
      "* checking for LF line-endings in source and make files and shell scripts\n",
      "* checking for empty or unneeded directories\n",
      "* looking to see if a 'data/datalist' file should be added\n",
      "* building 'bisoreg_1.5.tar.gz'\n",
      "\n"
     ]
    },
    {
     "name": "stderr",
     "output_type": "stream",
     "text": [
      "Warning message in i.p(...):\n",
      "\"installation of package 'C:/Users/abzer/AppData/Local/Temp/Rtmp8uKaTz/file825449dc298b/bisoreg_1.5.tar.gz' had non-zero exit status\"\n"
     ]
    }
   ],
   "source": [
    "# this 'bisoreg' package installations works well with RStudio instead of Jupyter Notebook\n",
    "devtools::install_github(\"cran/bisoreg\") "
   ]
  },
  {
   "cell_type": "markdown",
   "id": "229c25f6-9029-48ad-a9e2-daf5875984e4",
   "metadata": {
    "id": "229c25f6-9029-48ad-a9e2-daf5875984e4"
   },
   "source": [
    "## Setting a Working Directory\n",
    "To begin the batch correction process, we need to set a working directory and load the input file. In this case, we will load the feature table (ft) merged with metadata (md) table that was generated in the previous notebook (Performing basic uni- and multivariate statistical analsysis of untargeted metabolomics data)."
   ]
  },
  {
   "cell_type": "code",
   "execution_count": null,
   "id": "1f592527-4be0-43fb-ba8d-cd48fe4b35f5",
   "metadata": {
    "id": "1f592527-4be0-43fb-ba8d-cd48fe4b35f5",
    "outputId": "608b3ea6-fe97-4b78-aafb-b06f90dc17fd"
   },
   "outputs": [],
   "source": [
    "Directory <- normalizePath(readline(\"Enter the path of the folder with input files on the output box: \"),\"/\",mustWork=FALSE)\n",
    "setwd(Directory)"
   ]
  },
  {
   "cell_type": "markdown",
   "id": "cc0656e1-1170-4bc9-a08d-9ec0dae63600",
   "metadata": {},
   "source": [
    "Here, we will use the ft_md merged file from our GitHub page. It can be found in: 'Functional Metabolomics Lab' GitHub page &rarr; 'FBMN-STATS' Repository &rarr; data &rarr;  'others' folder"
   ]
  },
  {
   "cell_type": "code",
   "execution_count": 3,
   "id": "b6b81f86-31cf-4874-8c03-63f458231fd8",
   "metadata": {},
   "outputs": [],
   "source": [
    "# reading the data from GitHub  C:\\Users\\abzer\\OneDrive\\Documents\\GitHub\\FBMN-STATS\n",
    "ft_md_url <- 'https://raw.githubusercontent.com/Functional-Metabolomics-Lab/FBMN-STATS/main/data/others/2023-04-03_Ft_md_merged.csv'\n",
    "ft_merged <-  read.csv(ft_md_url, header = T, check.names = F) "
   ]
  },
  {
   "cell_type": "code",
   "execution_count": 4,
   "id": "483d8cc3-076c-4654-a649-8a385f2f2de4",
   "metadata": {},
   "outputs": [
    {
     "data": {
      "text/html": [
       "<table class=\"dataframe\">\n",
       "<caption>A data.frame: 2 × 11232</caption>\n",
       "<thead>\n",
       "\t<tr><th></th><th scope=col></th><th scope=col>filename</th><th scope=col>ATTRIBUTE_Sample.Type</th><th scope=col>ATTRIBUTE_Batch</th><th scope=col>ATTRIBUTE_Month</th><th scope=col>ATTRIBUTE_Year</th><th scope=col>ATTRIBUTE_Sample_Location</th><th scope=col>ATTRIBUTE_Replicate</th><th scope=col>ATTRIBUTE_Spot</th><th scope=col>ATTRIBUTE_Latitude</th><th scope=col>...</th><th scope=col>X92628_241.068_14.313_NA</th><th scope=col>X92636_182.985_14.571_HARMANE CollisionEnergy:102040</th><th scope=col>X92638_208.039_14.764_\"methyl 3-oxo-2-[(3,4,5-trimethoxyphenyl)methylene]benzo[b]furan-5-carboxylate CollisionEnergy:102040\"</th><th scope=col>X92639_167.013_14.697_NA</th><th scope=col>X92640_193.974_14.62_NA</th><th scope=col>X92641_194.117_14.485_NA</th><th scope=col>X92647_158.961_14.747_NA</th><th scope=col>X92648_154.99_14.807_NA</th><th scope=col>X92649_226.951_14.813_TRYPTOPHAN</th><th scope=col>X92651_172.956_14.611_\"6-methoxypurine, oxamethane CollisionEnergy:205060\"</th></tr>\n",
       "\t<tr><th></th><th scope=col>&lt;int&gt;</th><th scope=col>&lt;chr&gt;</th><th scope=col>&lt;chr&gt;</th><th scope=col>&lt;int&gt;</th><th scope=col>&lt;chr&gt;</th><th scope=col>&lt;int&gt;</th><th scope=col>&lt;int&gt;</th><th scope=col>&lt;chr&gt;</th><th scope=col>&lt;int&gt;</th><th scope=col>&lt;dbl&gt;</th><th scope=col>...</th><th scope=col>&lt;dbl&gt;</th><th scope=col>&lt;dbl&gt;</th><th scope=col>&lt;dbl&gt;</th><th scope=col>&lt;dbl&gt;</th><th scope=col>&lt;dbl&gt;</th><th scope=col>&lt;dbl&gt;</th><th scope=col>&lt;dbl&gt;</th><th scope=col>&lt;dbl&gt;</th><th scope=col>&lt;dbl&gt;</th><th scope=col>&lt;dbl&gt;</th></tr>\n",
       "</thead>\n",
       "<tbody>\n",
       "\t<tr><th scope=row>1</th><td>1</td><td>SD_01-2018_1_a.mzXML</td><td>Sample</td><td>2</td><td>Jan</td><td>2018</td><td>1</td><td>a</td><td>1</td><td>32.93365</td><td>...</td><td>36845.35</td><td>109542.0</td><td>68948.27</td><td>302706.5</td><td>42332.20</td><td>843127.0</td><td>22739.38</td><td> 7517.194</td><td>0</td><td>0</td></tr>\n",
       "\t<tr><th scope=row>2</th><td>2</td><td>SD_01-2018_1_b.mzXML</td><td>Sample</td><td>2</td><td>Jan</td><td>2018</td><td>1</td><td>b</td><td>1</td><td>32.93365</td><td>...</td><td>37898.94</td><td>114407.8</td><td>44469.50</td><td>298204.2</td><td>19698.92</td><td>824746.4</td><td> 4960.22</td><td>10084.678</td><td>0</td><td>0</td></tr>\n",
       "</tbody>\n",
       "</table>\n"
      ],
      "text/latex": [
       "A data.frame: 2 × 11232\n",
       "\\begin{tabular}{r|lllllllllllllllllllll}\n",
       "  &  & filename & ATTRIBUTE\\_Sample.Type & ATTRIBUTE\\_Batch & ATTRIBUTE\\_Month & ATTRIBUTE\\_Year & ATTRIBUTE\\_Sample\\_Location & ATTRIBUTE\\_Replicate & ATTRIBUTE\\_Spot & ATTRIBUTE\\_Latitude & ... & X92628\\_241.068\\_14.313\\_NA & X92636\\_182.985\\_14.571\\_HARMANE CollisionEnergy:102040 & X92638\\_208.039\\_14.764\\_\"methyl 3-oxo-2-{[}(3,4,5-trimethoxyphenyl)methylene{]}benzo{[}b{]}furan-5-carboxylate CollisionEnergy:102040\" & X92639\\_167.013\\_14.697\\_NA & X92640\\_193.974\\_14.62\\_NA & X92641\\_194.117\\_14.485\\_NA & X92647\\_158.961\\_14.747\\_NA & X92648\\_154.99\\_14.807\\_NA & X92649\\_226.951\\_14.813\\_TRYPTOPHAN & X92651\\_172.956\\_14.611\\_\"6-methoxypurine, oxamethane CollisionEnergy:205060\"\\\\\n",
       "  & <int> & <chr> & <chr> & <int> & <chr> & <int> & <int> & <chr> & <int> & <dbl> & ... & <dbl> & <dbl> & <dbl> & <dbl> & <dbl> & <dbl> & <dbl> & <dbl> & <dbl> & <dbl>\\\\\n",
       "\\hline\n",
       "\t1 & 1 & SD\\_01-2018\\_1\\_a.mzXML & Sample & 2 & Jan & 2018 & 1 & a & 1 & 32.93365 & ... & 36845.35 & 109542.0 & 68948.27 & 302706.5 & 42332.20 & 843127.0 & 22739.38 &  7517.194 & 0 & 0\\\\\n",
       "\t2 & 2 & SD\\_01-2018\\_1\\_b.mzXML & Sample & 2 & Jan & 2018 & 1 & b & 1 & 32.93365 & ... & 37898.94 & 114407.8 & 44469.50 & 298204.2 & 19698.92 & 824746.4 &  4960.22 & 10084.678 & 0 & 0\\\\\n",
       "\\end{tabular}\n"
      ],
      "text/markdown": [
       "\n",
       "A data.frame: 2 × 11232\n",
       "\n",
       "| <!--/--> | <!----> &lt;int&gt; | filename &lt;chr&gt; | ATTRIBUTE_Sample.Type &lt;chr&gt; | ATTRIBUTE_Batch &lt;int&gt; | ATTRIBUTE_Month &lt;chr&gt; | ATTRIBUTE_Year &lt;int&gt; | ATTRIBUTE_Sample_Location &lt;int&gt; | ATTRIBUTE_Replicate &lt;chr&gt; | ATTRIBUTE_Spot &lt;int&gt; | ATTRIBUTE_Latitude &lt;dbl&gt; | ... ... | X92628_241.068_14.313_NA &lt;dbl&gt; | X92636_182.985_14.571_HARMANE CollisionEnergy:102040 &lt;dbl&gt; | X92638_208.039_14.764_\"methyl 3-oxo-2-[(3,4,5-trimethoxyphenyl)methylene]benzo[b]furan-5-carboxylate CollisionEnergy:102040\" &lt;dbl&gt; | X92639_167.013_14.697_NA &lt;dbl&gt; | X92640_193.974_14.62_NA &lt;dbl&gt; | X92641_194.117_14.485_NA &lt;dbl&gt; | X92647_158.961_14.747_NA &lt;dbl&gt; | X92648_154.99_14.807_NA &lt;dbl&gt; | X92649_226.951_14.813_TRYPTOPHAN &lt;dbl&gt; | X92651_172.956_14.611_\"6-methoxypurine, oxamethane CollisionEnergy:205060\" &lt;dbl&gt; |\n",
       "|---|---|---|---|---|---|---|---|---|---|---|---|---|---|---|---|---|---|---|---|---|---|\n",
       "| 1 | 1 | SD_01-2018_1_a.mzXML | Sample | 2 | Jan | 2018 | 1 | a | 1 | 32.93365 | ... | 36845.35 | 109542.0 | 68948.27 | 302706.5 | 42332.20 | 843127.0 | 22739.38 |  7517.194 | 0 | 0 |\n",
       "| 2 | 2 | SD_01-2018_1_b.mzXML | Sample | 2 | Jan | 2018 | 1 | b | 1 | 32.93365 | ... | 37898.94 | 114407.8 | 44469.50 | 298204.2 | 19698.92 | 824746.4 |  4960.22 | 10084.678 | 0 | 0 |\n",
       "\n"
      ],
      "text/plain": [
       "    filename             ATTRIBUTE_Sample.Type ATTRIBUTE_Batch ATTRIBUTE_Month\n",
       "1 1 SD_01-2018_1_a.mzXML Sample                2               Jan            \n",
       "2 2 SD_01-2018_1_b.mzXML Sample                2               Jan            \n",
       "  ATTRIBUTE_Year ATTRIBUTE_Sample_Location ATTRIBUTE_Replicate ATTRIBUTE_Spot\n",
       "1 2018           1                         a                   1             \n",
       "2 2018           1                         b                   1             \n",
       "  ATTRIBUTE_Latitude ... X92628_241.068_14.313_NA\n",
       "1 32.93365           ... 36845.35                \n",
       "2 32.93365           ... 37898.94                \n",
       "  X92636_182.985_14.571_HARMANE CollisionEnergy:102040\n",
       "1 109542.0                                            \n",
       "2 114407.8                                            \n",
       "  X92638_208.039_14.764_\"methyl 3-oxo-2-[(3,4,5-trimethoxyphenyl)methylene]benzo[b]furan-5-carboxylate CollisionEnergy:102040\"\n",
       "1 68948.27                                                                                                                    \n",
       "2 44469.50                                                                                                                    \n",
       "  X92639_167.013_14.697_NA X92640_193.974_14.62_NA X92641_194.117_14.485_NA\n",
       "1 302706.5                 42332.20                843127.0                \n",
       "2 298204.2                 19698.92                824746.4                \n",
       "  X92647_158.961_14.747_NA X92648_154.99_14.807_NA\n",
       "1 22739.38                  7517.194              \n",
       "2  4960.22                 10084.678              \n",
       "  X92649_226.951_14.813_TRYPTOPHAN\n",
       "1 0                               \n",
       "2 0                               \n",
       "  X92651_172.956_14.611_\"6-methoxypurine, oxamethane CollisionEnergy:205060\"\n",
       "1 0                                                                         \n",
       "2 0                                                                         "
      ]
     },
     "metadata": {},
     "output_type": "display_data"
    },
    {
     "data": {
      "text/html": [
       "<style>\n",
       ".list-inline {list-style: none; margin:0; padding: 0}\n",
       ".list-inline>li {display: inline-block}\n",
       ".list-inline>li:not(:last-child)::after {content: \"\\00b7\"; padding: 0 .5ex}\n",
       "</style>\n",
       "<ol class=list-inline><li>186</li><li>11232</li></ol>\n"
      ],
      "text/latex": [
       "\\begin{enumerate*}\n",
       "\\item 186\n",
       "\\item 11232\n",
       "\\end{enumerate*}\n"
      ],
      "text/markdown": [
       "1. 186\n",
       "2. 11232\n",
       "\n",
       "\n"
      ],
      "text/plain": [
       "[1]   186 11232"
      ]
     },
     "metadata": {},
     "output_type": "display_data"
    }
   ],
   "source": [
    "head(ft_merged, n=2) #returns the first 2 rows of md\n",
    "dim(ft_merged) #returns the number of rows and columns"
   ]
  },
  {
   "cell_type": "markdown",
   "id": "b1adbd6e-ab0b-4e23-9db8-2ad43a85cd4a",
   "metadata": {},
   "source": [
    "---\n",
    "**<font size=3><u>CRITICAL:</u></font>**\n",
    "<p style='text-align: justify;'> Please note that the dataset we are using is not an optimal representation of batch effects, both intra- and inter-batch effects. However, we have chosen to use this dataset since we utilized it in the main Stats Notebook. Assuming that users who are using this script are already familiar with the test dataset, we believe that this dataset will make it easier to illustrate the steps involved in batch effect correction. Nevertheless, we will discuss in the upcoming sections why this dataset is not appropriate for inter-batch and intra-batch correction and what conditions must be met to have a suitable dataset for batch correction. We first look for the presence of inter-batch effect, if present, correct it, then correct for intra-batch effects. Inter-batch effects can significantly impact the data and make it challenging to identify intra-batch effects. Therefore, by removing inter-batch effects, it becomes easier to detect and correct for intra-batch effects accurately. </p>\n",
    "\n",
    "---"
   ]
  },
  {
   "cell_type": "markdown",
   "id": "2e89a97e-b5c4-4369-9cab-fab7a31e476a",
   "metadata": {
    "id": "2e89a97e-b5c4-4369-9cab-fab7a31e476a"
   },
   "source": [
    "## Inter-batch correction:\n",
    "<a name=\"inter_batch\"></a>"
   ]
  },
  {
   "cell_type": "markdown",
   "id": "24147e92-6447-4aac-939f-1e1e1140b332",
   "metadata": {
    "id": "24147e92-6447-4aac-939f-1e1e1140b332"
   },
   "source": [
    "<p style='text-align: justify;'> The test dataset utilized in the Stats Notebook was employed to evaluate the chemical effects of a significant rain event that occurred in northern San Diego, California (USA) during the Winter of 2017/2018. Although the metadata includes a column named \"ATTRIBUTE_Batch\" that suggests the presence of three batches, these three groups cannot be considered as batches due to their distinct collection conditions. This can be easily observed from the \"ATTRIBUTE_time_run\" column, which indicates that the seawater samples were collected and measured at different times during Dec 2017, Jan 2018 (after rainfall), and Oct 2018, respectively. Thus, searching for inter-batch effects is not meaningful since these are three distinct groups that were not measured at the same time. Therefore, this dataset is not suitable for inter-batch correction. We are just using the dataset to showcase how the resulting tables and figure would look like.</p>\n",
    "\n",
    "<font color=\"red\"> If the user is dealing with different batches that were processed and analyzed at the same time, they can perform inter-batch correction using the following steps:</font>\n",
    "    \n",
    "1. Calculate the <b>overall mean</b> of each feature \n",
    "2. Calculate the mean of each feature for each batch referred as &rarr; <b>Batchwise feature-mean</b>\n",
    "3. The feature intensities in each batch are then divided by the <b>batchwise feature-mean</b> and multiplied by the <b>overall mean</b>."
   ]
  },
  {
   "cell_type": "code",
   "execution_count": 5,
   "id": "c7be57f5-0443-415d-9892-04fc40f85779",
   "metadata": {
    "id": "c7be57f5-0443-415d-9892-04fc40f85779"
   },
   "outputs": [
    {
     "data": {
      "text/html": [
       "<table class=\"dataframe\">\n",
       "<caption>A data.frame: 2 × 11219</caption>\n",
       "<thead>\n",
       "\t<tr><th></th><th scope=col>filename</th><th scope=col>ATTRIBUTE_Batch</th><th scope=col>X1_391.284_0.3_NA</th><th scope=col>X2_161.096_0.235_Massbank:LU096701 4-Methylumbelliferone|7-hydroxy-4-methylchromen-2-one</th><th scope=col>X4_167.154_0.474_NA</th><th scope=col>X5_158.961_0.477_NA</th><th scope=col>X11_172.956_0.487_\"6-methoxypurine, oxamethane CollisionEnergy:102040\"</th><th scope=col>X13_159.065_0.479_NA</th><th scope=col>X15_289.168_0.501_NA</th><th scope=col>X16_291.165_0.501_NA</th><th scope=col>...</th><th scope=col>X92628_241.068_14.313_NA</th><th scope=col>X92636_182.985_14.571_HARMANE CollisionEnergy:102040</th><th scope=col>X92638_208.039_14.764_\"methyl 3-oxo-2-[(3,4,5-trimethoxyphenyl)methylene]benzo[b]furan-5-carboxylate CollisionEnergy:102040\"</th><th scope=col>X92639_167.013_14.697_NA</th><th scope=col>X92640_193.974_14.62_NA</th><th scope=col>X92641_194.117_14.485_NA</th><th scope=col>X92647_158.961_14.747_NA</th><th scope=col>X92648_154.99_14.807_NA</th><th scope=col>X92649_226.951_14.813_TRYPTOPHAN</th><th scope=col>X92651_172.956_14.611_\"6-methoxypurine, oxamethane CollisionEnergy:205060\"</th></tr>\n",
       "\t<tr><th></th><th scope=col>&lt;chr&gt;</th><th scope=col>&lt;int&gt;</th><th scope=col>&lt;dbl&gt;</th><th scope=col>&lt;dbl&gt;</th><th scope=col>&lt;dbl&gt;</th><th scope=col>&lt;dbl&gt;</th><th scope=col>&lt;dbl&gt;</th><th scope=col>&lt;dbl&gt;</th><th scope=col>&lt;dbl&gt;</th><th scope=col>&lt;dbl&gt;</th><th scope=col>...</th><th scope=col>&lt;dbl&gt;</th><th scope=col>&lt;dbl&gt;</th><th scope=col>&lt;dbl&gt;</th><th scope=col>&lt;dbl&gt;</th><th scope=col>&lt;dbl&gt;</th><th scope=col>&lt;dbl&gt;</th><th scope=col>&lt;dbl&gt;</th><th scope=col>&lt;dbl&gt;</th><th scope=col>&lt;dbl&gt;</th><th scope=col>&lt;dbl&gt;</th></tr>\n",
       "</thead>\n",
       "<tbody>\n",
       "\t<tr><th scope=row>1</th><td>SD_01-2018_1_a.mzXML</td><td>2</td><td>0</td><td>0</td><td>0</td><td>13524.69</td><td>   0.000</td><td>38530.75</td><td>0</td><td>0</td><td>...</td><td>36845.35</td><td>109542.0</td><td>68948.27</td><td>302706.5</td><td>42332.20</td><td>843127.0</td><td>22739.38</td><td> 7517.194</td><td>0</td><td>0</td></tr>\n",
       "\t<tr><th scope=row>2</th><td>SD_01-2018_1_b.mzXML</td><td>2</td><td>0</td><td>0</td><td>0</td><td>22829.42</td><td>3054.348</td><td>10587.78</td><td>0</td><td>0</td><td>...</td><td>37898.94</td><td>114407.8</td><td>44469.50</td><td>298204.2</td><td>19698.92</td><td>824746.4</td><td> 4960.22</td><td>10084.678</td><td>0</td><td>0</td></tr>\n",
       "</tbody>\n",
       "</table>\n"
      ],
      "text/latex": [
       "A data.frame: 2 × 11219\n",
       "\\begin{tabular}{r|lllllllllllllllllllll}\n",
       "  & filename & ATTRIBUTE\\_Batch & X1\\_391.284\\_0.3\\_NA & X2\\_161.096\\_0.235\\_Massbank:LU096701 4-Methylumbelliferone\\textbar{}7-hydroxy-4-methylchromen-2-one & X4\\_167.154\\_0.474\\_NA & X5\\_158.961\\_0.477\\_NA & X11\\_172.956\\_0.487\\_\"6-methoxypurine, oxamethane CollisionEnergy:102040\" & X13\\_159.065\\_0.479\\_NA & X15\\_289.168\\_0.501\\_NA & X16\\_291.165\\_0.501\\_NA & ... & X92628\\_241.068\\_14.313\\_NA & X92636\\_182.985\\_14.571\\_HARMANE CollisionEnergy:102040 & X92638\\_208.039\\_14.764\\_\"methyl 3-oxo-2-{[}(3,4,5-trimethoxyphenyl)methylene{]}benzo{[}b{]}furan-5-carboxylate CollisionEnergy:102040\" & X92639\\_167.013\\_14.697\\_NA & X92640\\_193.974\\_14.62\\_NA & X92641\\_194.117\\_14.485\\_NA & X92647\\_158.961\\_14.747\\_NA & X92648\\_154.99\\_14.807\\_NA & X92649\\_226.951\\_14.813\\_TRYPTOPHAN & X92651\\_172.956\\_14.611\\_\"6-methoxypurine, oxamethane CollisionEnergy:205060\"\\\\\n",
       "  & <chr> & <int> & <dbl> & <dbl> & <dbl> & <dbl> & <dbl> & <dbl> & <dbl> & <dbl> & ... & <dbl> & <dbl> & <dbl> & <dbl> & <dbl> & <dbl> & <dbl> & <dbl> & <dbl> & <dbl>\\\\\n",
       "\\hline\n",
       "\t1 & SD\\_01-2018\\_1\\_a.mzXML & 2 & 0 & 0 & 0 & 13524.69 &    0.000 & 38530.75 & 0 & 0 & ... & 36845.35 & 109542.0 & 68948.27 & 302706.5 & 42332.20 & 843127.0 & 22739.38 &  7517.194 & 0 & 0\\\\\n",
       "\t2 & SD\\_01-2018\\_1\\_b.mzXML & 2 & 0 & 0 & 0 & 22829.42 & 3054.348 & 10587.78 & 0 & 0 & ... & 37898.94 & 114407.8 & 44469.50 & 298204.2 & 19698.92 & 824746.4 &  4960.22 & 10084.678 & 0 & 0\\\\\n",
       "\\end{tabular}\n"
      ],
      "text/markdown": [
       "\n",
       "A data.frame: 2 × 11219\n",
       "\n",
       "| <!--/--> | filename &lt;chr&gt; | ATTRIBUTE_Batch &lt;int&gt; | X1_391.284_0.3_NA &lt;dbl&gt; | X2_161.096_0.235_Massbank:LU096701 4-Methylumbelliferone|7-hydroxy-4-methylchromen-2-one &lt;dbl&gt; | X4_167.154_0.474_NA &lt;dbl&gt; | X5_158.961_0.477_NA &lt;dbl&gt; | X11_172.956_0.487_\"6-methoxypurine, oxamethane CollisionEnergy:102040\" &lt;dbl&gt; | X13_159.065_0.479_NA &lt;dbl&gt; | X15_289.168_0.501_NA &lt;dbl&gt; | X16_291.165_0.501_NA &lt;dbl&gt; | ... ... | X92628_241.068_14.313_NA &lt;dbl&gt; | X92636_182.985_14.571_HARMANE CollisionEnergy:102040 &lt;dbl&gt; | X92638_208.039_14.764_\"methyl 3-oxo-2-[(3,4,5-trimethoxyphenyl)methylene]benzo[b]furan-5-carboxylate CollisionEnergy:102040\" &lt;dbl&gt; | X92639_167.013_14.697_NA &lt;dbl&gt; | X92640_193.974_14.62_NA &lt;dbl&gt; | X92641_194.117_14.485_NA &lt;dbl&gt; | X92647_158.961_14.747_NA &lt;dbl&gt; | X92648_154.99_14.807_NA &lt;dbl&gt; | X92649_226.951_14.813_TRYPTOPHAN &lt;dbl&gt; | X92651_172.956_14.611_\"6-methoxypurine, oxamethane CollisionEnergy:205060\" &lt;dbl&gt; |\n",
       "|---|---|---|---|---|---|---|---|---|---|---|---|---|---|---|---|---|---|---|---|---|---|\n",
       "| 1 | SD_01-2018_1_a.mzXML | 2 | 0 | 0 | 0 | 13524.69 |    0.000 | 38530.75 | 0 | 0 | ... | 36845.35 | 109542.0 | 68948.27 | 302706.5 | 42332.20 | 843127.0 | 22739.38 |  7517.194 | 0 | 0 |\n",
       "| 2 | SD_01-2018_1_b.mzXML | 2 | 0 | 0 | 0 | 22829.42 | 3054.348 | 10587.78 | 0 | 0 | ... | 37898.94 | 114407.8 | 44469.50 | 298204.2 | 19698.92 | 824746.4 |  4960.22 | 10084.678 | 0 | 0 |\n",
       "\n"
      ],
      "text/plain": [
       "  filename             ATTRIBUTE_Batch X1_391.284_0.3_NA\n",
       "1 SD_01-2018_1_a.mzXML 2               0                \n",
       "2 SD_01-2018_1_b.mzXML 2               0                \n",
       "  X2_161.096_0.235_Massbank:LU096701 4-Methylumbelliferone|7-hydroxy-4-methylchromen-2-one\n",
       "1 0                                                                                       \n",
       "2 0                                                                                       \n",
       "  X4_167.154_0.474_NA X5_158.961_0.477_NA\n",
       "1 0                   13524.69           \n",
       "2 0                   22829.42           \n",
       "  X11_172.956_0.487_\"6-methoxypurine, oxamethane CollisionEnergy:102040\"\n",
       "1    0.000                                                              \n",
       "2 3054.348                                                              \n",
       "  X13_159.065_0.479_NA X15_289.168_0.501_NA X16_291.165_0.501_NA ...\n",
       "1 38530.75             0                    0                    ...\n",
       "2 10587.78             0                    0                    ...\n",
       "  X92628_241.068_14.313_NA X92636_182.985_14.571_HARMANE CollisionEnergy:102040\n",
       "1 36845.35                 109542.0                                            \n",
       "2 37898.94                 114407.8                                            \n",
       "  X92638_208.039_14.764_\"methyl 3-oxo-2-[(3,4,5-trimethoxyphenyl)methylene]benzo[b]furan-5-carboxylate CollisionEnergy:102040\"\n",
       "1 68948.27                                                                                                                    \n",
       "2 44469.50                                                                                                                    \n",
       "  X92639_167.013_14.697_NA X92640_193.974_14.62_NA X92641_194.117_14.485_NA\n",
       "1 302706.5                 42332.20                843127.0                \n",
       "2 298204.2                 19698.92                824746.4                \n",
       "  X92647_158.961_14.747_NA X92648_154.99_14.807_NA\n",
       "1 22739.38                  7517.194              \n",
       "2  4960.22                 10084.678              \n",
       "  X92649_226.951_14.813_TRYPTOPHAN\n",
       "1 0                               \n",
       "2 0                               \n",
       "  X92651_172.956_14.611_\"6-methoxypurine, oxamethane CollisionEnergy:205060\"\n",
       "1 0                                                                         \n",
       "2 0                                                                         "
      ]
     },
     "metadata": {},
     "output_type": "display_data"
    }
   ],
   "source": [
    "# selecting only the filename & batch info column along with all feature intensity columns (feature intensity columns starts with X)\n",
    "ft_merged2 <- ft_merged %>% select(`filename`,`ATTRIBUTE_Batch`,starts_with(\"X\")) \n",
    "head(ft_merged2,n=2)"
   ]
  },
  {
   "cell_type": "markdown",
   "id": "aaa4b997-22d9-424a-89af-e6e8cf5bad92",
   "metadata": {
    "id": "aaa4b997-22d9-424a-89af-e6e8cf5bad92"
   },
   "source": [
    "Now, we can continue with the batch correction steps."
   ]
  },
  {
   "cell_type": "markdown",
   "id": "c86d9384-52c4-4b03-9f2a-c6822aacfc18",
   "metadata": {},
   "source": [
    "### Step 1: Calculate the overall mean of each feature"
   ]
  },
  {
   "cell_type": "code",
   "execution_count": 6,
   "id": "22e17008-ad1f-44ab-b5e1-4d4824295db0",
   "metadata": {
    "id": "22e17008-ad1f-44ab-b5e1-4d4824295db0"
   },
   "outputs": [
    {
     "data": {
      "text/html": [
       "<table class=\"dataframe\">\n",
       "<caption>A data.frame: 1 × 11217</caption>\n",
       "<thead>\n",
       "\t<tr><th></th><th scope=col>X1_391.284_0.3_NA</th><th scope=col>X2_161.096_0.235_Massbank:LU096701 4-Methylumbelliferone|7-hydroxy-4-methylchromen-2-one</th><th scope=col>X4_167.154_0.474_NA</th><th scope=col>X5_158.961_0.477_NA</th><th scope=col>X11_172.956_0.487_\"6-methoxypurine, oxamethane CollisionEnergy:102040\"</th><th scope=col>X13_159.065_0.479_NA</th><th scope=col>X15_289.168_0.501_NA</th><th scope=col>X16_291.165_0.501_NA</th><th scope=col>X17_453.234_0.503_NA</th><th scope=col>X19_451.237_0.503_NA</th><th scope=col>...</th><th scope=col>X92628_241.068_14.313_NA</th><th scope=col>X92636_182.985_14.571_HARMANE CollisionEnergy:102040</th><th scope=col>X92638_208.039_14.764_\"methyl 3-oxo-2-[(3,4,5-trimethoxyphenyl)methylene]benzo[b]furan-5-carboxylate CollisionEnergy:102040\"</th><th scope=col>X92639_167.013_14.697_NA</th><th scope=col>X92640_193.974_14.62_NA</th><th scope=col>X92641_194.117_14.485_NA</th><th scope=col>X92647_158.961_14.747_NA</th><th scope=col>X92648_154.99_14.807_NA</th><th scope=col>X92649_226.951_14.813_TRYPTOPHAN</th><th scope=col>X92651_172.956_14.611_\"6-methoxypurine, oxamethane CollisionEnergy:205060\"</th></tr>\n",
       "\t<tr><th></th><th scope=col>&lt;dbl&gt;</th><th scope=col>&lt;dbl&gt;</th><th scope=col>&lt;dbl&gt;</th><th scope=col>&lt;dbl&gt;</th><th scope=col>&lt;dbl&gt;</th><th scope=col>&lt;dbl&gt;</th><th scope=col>&lt;dbl&gt;</th><th scope=col>&lt;dbl&gt;</th><th scope=col>&lt;dbl&gt;</th><th scope=col>&lt;dbl&gt;</th><th scope=col>...</th><th scope=col>&lt;dbl&gt;</th><th scope=col>&lt;dbl&gt;</th><th scope=col>&lt;dbl&gt;</th><th scope=col>&lt;dbl&gt;</th><th scope=col>&lt;dbl&gt;</th><th scope=col>&lt;dbl&gt;</th><th scope=col>&lt;dbl&gt;</th><th scope=col>&lt;dbl&gt;</th><th scope=col>&lt;dbl&gt;</th><th scope=col>&lt;dbl&gt;</th></tr>\n",
       "</thead>\n",
       "<tbody>\n",
       "\t<tr><th scope=row>1</th><td>23141.29</td><td>5366.595</td><td>19005.69</td><td>22479.14</td><td>10046.89</td><td>30736.73</td><td>9325.081</td><td>8644.873</td><td>6141.15</td><td>3522.194</td><td>...</td><td>26954.54</td><td>55442.23</td><td>8115.38</td><td>235772.3</td><td>21527.98</td><td>435090.4</td><td>18865.74</td><td>8022.23</td><td>14850.91</td><td>2213.453</td></tr>\n",
       "</tbody>\n",
       "</table>\n"
      ],
      "text/latex": [
       "A data.frame: 1 × 11217\n",
       "\\begin{tabular}{r|lllllllllllllllllllll}\n",
       "  & X1\\_391.284\\_0.3\\_NA & X2\\_161.096\\_0.235\\_Massbank:LU096701 4-Methylumbelliferone\\textbar{}7-hydroxy-4-methylchromen-2-one & X4\\_167.154\\_0.474\\_NA & X5\\_158.961\\_0.477\\_NA & X11\\_172.956\\_0.487\\_\"6-methoxypurine, oxamethane CollisionEnergy:102040\" & X13\\_159.065\\_0.479\\_NA & X15\\_289.168\\_0.501\\_NA & X16\\_291.165\\_0.501\\_NA & X17\\_453.234\\_0.503\\_NA & X19\\_451.237\\_0.503\\_NA & ... & X92628\\_241.068\\_14.313\\_NA & X92636\\_182.985\\_14.571\\_HARMANE CollisionEnergy:102040 & X92638\\_208.039\\_14.764\\_\"methyl 3-oxo-2-{[}(3,4,5-trimethoxyphenyl)methylene{]}benzo{[}b{]}furan-5-carboxylate CollisionEnergy:102040\" & X92639\\_167.013\\_14.697\\_NA & X92640\\_193.974\\_14.62\\_NA & X92641\\_194.117\\_14.485\\_NA & X92647\\_158.961\\_14.747\\_NA & X92648\\_154.99\\_14.807\\_NA & X92649\\_226.951\\_14.813\\_TRYPTOPHAN & X92651\\_172.956\\_14.611\\_\"6-methoxypurine, oxamethane CollisionEnergy:205060\"\\\\\n",
       "  & <dbl> & <dbl> & <dbl> & <dbl> & <dbl> & <dbl> & <dbl> & <dbl> & <dbl> & <dbl> & ... & <dbl> & <dbl> & <dbl> & <dbl> & <dbl> & <dbl> & <dbl> & <dbl> & <dbl> & <dbl>\\\\\n",
       "\\hline\n",
       "\t1 & 23141.29 & 5366.595 & 19005.69 & 22479.14 & 10046.89 & 30736.73 & 9325.081 & 8644.873 & 6141.15 & 3522.194 & ... & 26954.54 & 55442.23 & 8115.38 & 235772.3 & 21527.98 & 435090.4 & 18865.74 & 8022.23 & 14850.91 & 2213.453\\\\\n",
       "\\end{tabular}\n"
      ],
      "text/markdown": [
       "\n",
       "A data.frame: 1 × 11217\n",
       "\n",
       "| <!--/--> | X1_391.284_0.3_NA &lt;dbl&gt; | X2_161.096_0.235_Massbank:LU096701 4-Methylumbelliferone|7-hydroxy-4-methylchromen-2-one &lt;dbl&gt; | X4_167.154_0.474_NA &lt;dbl&gt; | X5_158.961_0.477_NA &lt;dbl&gt; | X11_172.956_0.487_\"6-methoxypurine, oxamethane CollisionEnergy:102040\" &lt;dbl&gt; | X13_159.065_0.479_NA &lt;dbl&gt; | X15_289.168_0.501_NA &lt;dbl&gt; | X16_291.165_0.501_NA &lt;dbl&gt; | X17_453.234_0.503_NA &lt;dbl&gt; | X19_451.237_0.503_NA &lt;dbl&gt; | ... ... | X92628_241.068_14.313_NA &lt;dbl&gt; | X92636_182.985_14.571_HARMANE CollisionEnergy:102040 &lt;dbl&gt; | X92638_208.039_14.764_\"methyl 3-oxo-2-[(3,4,5-trimethoxyphenyl)methylene]benzo[b]furan-5-carboxylate CollisionEnergy:102040\" &lt;dbl&gt; | X92639_167.013_14.697_NA &lt;dbl&gt; | X92640_193.974_14.62_NA &lt;dbl&gt; | X92641_194.117_14.485_NA &lt;dbl&gt; | X92647_158.961_14.747_NA &lt;dbl&gt; | X92648_154.99_14.807_NA &lt;dbl&gt; | X92649_226.951_14.813_TRYPTOPHAN &lt;dbl&gt; | X92651_172.956_14.611_\"6-methoxypurine, oxamethane CollisionEnergy:205060\" &lt;dbl&gt; |\n",
       "|---|---|---|---|---|---|---|---|---|---|---|---|---|---|---|---|---|---|---|---|---|---|\n",
       "| 1 | 23141.29 | 5366.595 | 19005.69 | 22479.14 | 10046.89 | 30736.73 | 9325.081 | 8644.873 | 6141.15 | 3522.194 | ... | 26954.54 | 55442.23 | 8115.38 | 235772.3 | 21527.98 | 435090.4 | 18865.74 | 8022.23 | 14850.91 | 2213.453 |\n",
       "\n"
      ],
      "text/plain": [
       "  X1_391.284_0.3_NA\n",
       "1 23141.29         \n",
       "  X2_161.096_0.235_Massbank:LU096701 4-Methylumbelliferone|7-hydroxy-4-methylchromen-2-one\n",
       "1 5366.595                                                                                \n",
       "  X4_167.154_0.474_NA X5_158.961_0.477_NA\n",
       "1 19005.69            22479.14           \n",
       "  X11_172.956_0.487_\"6-methoxypurine, oxamethane CollisionEnergy:102040\"\n",
       "1 10046.89                                                              \n",
       "  X13_159.065_0.479_NA X15_289.168_0.501_NA X16_291.165_0.501_NA\n",
       "1 30736.73             9325.081             8644.873            \n",
       "  X17_453.234_0.503_NA X19_451.237_0.503_NA ... X92628_241.068_14.313_NA\n",
       "1 6141.15              3522.194             ... 26954.54                \n",
       "  X92636_182.985_14.571_HARMANE CollisionEnergy:102040\n",
       "1 55442.23                                            \n",
       "  X92638_208.039_14.764_\"methyl 3-oxo-2-[(3,4,5-trimethoxyphenyl)methylene]benzo[b]furan-5-carboxylate CollisionEnergy:102040\"\n",
       "1 8115.38                                                                                                                     \n",
       "  X92639_167.013_14.697_NA X92640_193.974_14.62_NA X92641_194.117_14.485_NA\n",
       "1 235772.3                 21527.98                435090.4                \n",
       "  X92647_158.961_14.747_NA X92648_154.99_14.807_NA\n",
       "1 18865.74                 8022.23                \n",
       "  X92649_226.951_14.813_TRYPTOPHAN\n",
       "1 14850.91                        \n",
       "  X92651_172.956_14.611_\"6-methoxypurine, oxamethane CollisionEnergy:205060\"\n",
       "1 2213.453                                                                  "
      ]
     },
     "metadata": {},
     "output_type": "display_data"
    }
   ],
   "source": [
    "fm <- as.data.frame(rbind(colMeans(ft_merged2[,-(1:2)]))) #getting columnwise mean for ft_merged2 except the 1st 2 columns(filename, ATTRIBUTE Batch)\n",
    "head(fm)"
   ]
  },
  {
   "cell_type": "markdown",
   "id": "c976c0c3-92e4-47b9-b108-f1f2cbe624ef",
   "metadata": {},
   "source": [
    "Here, 'fm' represents the overall mean of each feature across all batches."
   ]
  },
  {
   "cell_type": "markdown",
   "id": "670f4f21-f067-401c-99db-dc525c069168",
   "metadata": {
    "id": "670f4f21-f067-401c-99db-dc525c069168"
   },
   "source": [
    "### Step 2: Getting batchwise feature-mean"
   ]
  },
  {
   "cell_type": "code",
   "execution_count": 7,
   "id": "95c782ab-5745-41e9-9111-a5e50ecd108c",
   "metadata": {
    "id": "95c782ab-5745-41e9-9111-a5e50ecd108c"
   },
   "outputs": [
    {
     "data": {
      "text/html": [
       "<table class=\"dataframe\">\n",
       "<caption>A data.frame: 3 × 11217</caption>\n",
       "<thead>\n",
       "\t<tr><th></th><th scope=col>X1_391.284_0.3_NA</th><th scope=col>X2_161.096_0.235_Massbank:LU096701 4-Methylumbelliferone|7-hydroxy-4-methylchromen-2-one</th><th scope=col>X4_167.154_0.474_NA</th><th scope=col>X5_158.961_0.477_NA</th><th scope=col>X11_172.956_0.487_\"6-methoxypurine, oxamethane CollisionEnergy:102040\"</th><th scope=col>X13_159.065_0.479_NA</th><th scope=col>X15_289.168_0.501_NA</th><th scope=col>X16_291.165_0.501_NA</th><th scope=col>X17_453.234_0.503_NA</th><th scope=col>X19_451.237_0.503_NA</th><th scope=col>...</th><th scope=col>X92628_241.068_14.313_NA</th><th scope=col>X92636_182.985_14.571_HARMANE CollisionEnergy:102040</th><th scope=col>X92638_208.039_14.764_\"methyl 3-oxo-2-[(3,4,5-trimethoxyphenyl)methylene]benzo[b]furan-5-carboxylate CollisionEnergy:102040\"</th><th scope=col>X92639_167.013_14.697_NA</th><th scope=col>X92640_193.974_14.62_NA</th><th scope=col>X92641_194.117_14.485_NA</th><th scope=col>X92647_158.961_14.747_NA</th><th scope=col>X92648_154.99_14.807_NA</th><th scope=col>X92649_226.951_14.813_TRYPTOPHAN</th><th scope=col>X92651_172.956_14.611_\"6-methoxypurine, oxamethane CollisionEnergy:205060\"</th></tr>\n",
       "\t<tr><th></th><th scope=col>&lt;dbl&gt;</th><th scope=col>&lt;dbl&gt;</th><th scope=col>&lt;dbl&gt;</th><th scope=col>&lt;dbl&gt;</th><th scope=col>&lt;dbl&gt;</th><th scope=col>&lt;dbl&gt;</th><th scope=col>&lt;dbl&gt;</th><th scope=col>&lt;dbl&gt;</th><th scope=col>&lt;dbl&gt;</th><th scope=col>&lt;dbl&gt;</th><th scope=col>...</th><th scope=col>&lt;dbl&gt;</th><th scope=col>&lt;dbl&gt;</th><th scope=col>&lt;dbl&gt;</th><th scope=col>&lt;dbl&gt;</th><th scope=col>&lt;dbl&gt;</th><th scope=col>&lt;dbl&gt;</th><th scope=col>&lt;dbl&gt;</th><th scope=col>&lt;dbl&gt;</th><th scope=col>&lt;dbl&gt;</th><th scope=col>&lt;dbl&gt;</th></tr>\n",
       "</thead>\n",
       "<tbody>\n",
       "\t<tr><th scope=row>1</th><td>    0.00</td><td>    0.00</td><td>    0.00</td><td>21558.86</td><td>13445.7400</td><td>65554.56</td><td>24759.11</td><td>23196.157</td><td>18333.55302</td><td>10566.58</td><td>...</td><td>49745.29</td><td>33020.06</td><td>    0.00</td><td> 71523.79</td><td>    0.00</td><td>432230.203</td><td>26254.76</td><td> 1744.462</td><td>    0.00</td><td>3507.491</td></tr>\n",
       "\t<tr><th scope=row>2</th><td>    0.00</td><td>    0.00</td><td>    0.00</td><td>21484.97</td><td>15766.6563</td><td>26655.63</td><td> 3216.13</td><td> 2738.463</td><td>   89.89699</td><td>    0.00</td><td>...</td><td>31118.33</td><td>81403.85</td><td>20107.03</td><td>338921.20</td><td>31881.48</td><td>869685.279</td><td>18785.88</td><td> 5327.073</td><td>    0.00</td><td>3132.867</td></tr>\n",
       "\t<tr><th scope=row>3</th><td>69423.88</td><td>16099.78</td><td>57017.08</td><td>24393.61</td><td>  928.2734</td><td>    0.00</td><td>    0.00</td><td>    0.000</td><td>    0.00000</td><td>    0.00</td><td>...</td><td>    0.00</td><td>51902.78</td><td> 4239.11</td><td>296872.00</td><td>32702.45</td><td>  3355.725</td><td>11556.59</td><td>16995.155</td><td>44552.73</td><td>   0.000</td></tr>\n",
       "</tbody>\n",
       "</table>\n"
      ],
      "text/latex": [
       "A data.frame: 3 × 11217\n",
       "\\begin{tabular}{r|lllllllllllllllllllll}\n",
       "  & X1\\_391.284\\_0.3\\_NA & X2\\_161.096\\_0.235\\_Massbank:LU096701 4-Methylumbelliferone\\textbar{}7-hydroxy-4-methylchromen-2-one & X4\\_167.154\\_0.474\\_NA & X5\\_158.961\\_0.477\\_NA & X11\\_172.956\\_0.487\\_\"6-methoxypurine, oxamethane CollisionEnergy:102040\" & X13\\_159.065\\_0.479\\_NA & X15\\_289.168\\_0.501\\_NA & X16\\_291.165\\_0.501\\_NA & X17\\_453.234\\_0.503\\_NA & X19\\_451.237\\_0.503\\_NA & ... & X92628\\_241.068\\_14.313\\_NA & X92636\\_182.985\\_14.571\\_HARMANE CollisionEnergy:102040 & X92638\\_208.039\\_14.764\\_\"methyl 3-oxo-2-{[}(3,4,5-trimethoxyphenyl)methylene{]}benzo{[}b{]}furan-5-carboxylate CollisionEnergy:102040\" & X92639\\_167.013\\_14.697\\_NA & X92640\\_193.974\\_14.62\\_NA & X92641\\_194.117\\_14.485\\_NA & X92647\\_158.961\\_14.747\\_NA & X92648\\_154.99\\_14.807\\_NA & X92649\\_226.951\\_14.813\\_TRYPTOPHAN & X92651\\_172.956\\_14.611\\_\"6-methoxypurine, oxamethane CollisionEnergy:205060\"\\\\\n",
       "  & <dbl> & <dbl> & <dbl> & <dbl> & <dbl> & <dbl> & <dbl> & <dbl> & <dbl> & <dbl> & ... & <dbl> & <dbl> & <dbl> & <dbl> & <dbl> & <dbl> & <dbl> & <dbl> & <dbl> & <dbl>\\\\\n",
       "\\hline\n",
       "\t1 &     0.00 &     0.00 &     0.00 & 21558.86 & 13445.7400 & 65554.56 & 24759.11 & 23196.157 & 18333.55302 & 10566.58 & ... & 49745.29 & 33020.06 &     0.00 &  71523.79 &     0.00 & 432230.203 & 26254.76 &  1744.462 &     0.00 & 3507.491\\\\\n",
       "\t2 &     0.00 &     0.00 &     0.00 & 21484.97 & 15766.6563 & 26655.63 &  3216.13 &  2738.463 &    89.89699 &     0.00 & ... & 31118.33 & 81403.85 & 20107.03 & 338921.20 & 31881.48 & 869685.279 & 18785.88 &  5327.073 &     0.00 & 3132.867\\\\\n",
       "\t3 & 69423.88 & 16099.78 & 57017.08 & 24393.61 &   928.2734 &     0.00 &     0.00 &     0.000 &     0.00000 &     0.00 & ... &     0.00 & 51902.78 &  4239.11 & 296872.00 & 32702.45 &   3355.725 & 11556.59 & 16995.155 & 44552.73 &    0.000\\\\\n",
       "\\end{tabular}\n"
      ],
      "text/markdown": [
       "\n",
       "A data.frame: 3 × 11217\n",
       "\n",
       "| <!--/--> | X1_391.284_0.3_NA &lt;dbl&gt; | X2_161.096_0.235_Massbank:LU096701 4-Methylumbelliferone|7-hydroxy-4-methylchromen-2-one &lt;dbl&gt; | X4_167.154_0.474_NA &lt;dbl&gt; | X5_158.961_0.477_NA &lt;dbl&gt; | X11_172.956_0.487_\"6-methoxypurine, oxamethane CollisionEnergy:102040\" &lt;dbl&gt; | X13_159.065_0.479_NA &lt;dbl&gt; | X15_289.168_0.501_NA &lt;dbl&gt; | X16_291.165_0.501_NA &lt;dbl&gt; | X17_453.234_0.503_NA &lt;dbl&gt; | X19_451.237_0.503_NA &lt;dbl&gt; | ... ... | X92628_241.068_14.313_NA &lt;dbl&gt; | X92636_182.985_14.571_HARMANE CollisionEnergy:102040 &lt;dbl&gt; | X92638_208.039_14.764_\"methyl 3-oxo-2-[(3,4,5-trimethoxyphenyl)methylene]benzo[b]furan-5-carboxylate CollisionEnergy:102040\" &lt;dbl&gt; | X92639_167.013_14.697_NA &lt;dbl&gt; | X92640_193.974_14.62_NA &lt;dbl&gt; | X92641_194.117_14.485_NA &lt;dbl&gt; | X92647_158.961_14.747_NA &lt;dbl&gt; | X92648_154.99_14.807_NA &lt;dbl&gt; | X92649_226.951_14.813_TRYPTOPHAN &lt;dbl&gt; | X92651_172.956_14.611_\"6-methoxypurine, oxamethane CollisionEnergy:205060\" &lt;dbl&gt; |\n",
       "|---|---|---|---|---|---|---|---|---|---|---|---|---|---|---|---|---|---|---|---|---|---|\n",
       "| 1 |     0.00 |     0.00 |     0.00 | 21558.86 | 13445.7400 | 65554.56 | 24759.11 | 23196.157 | 18333.55302 | 10566.58 | ... | 49745.29 | 33020.06 |     0.00 |  71523.79 |     0.00 | 432230.203 | 26254.76 |  1744.462 |     0.00 | 3507.491 |\n",
       "| 2 |     0.00 |     0.00 |     0.00 | 21484.97 | 15766.6563 | 26655.63 |  3216.13 |  2738.463 |    89.89699 |     0.00 | ... | 31118.33 | 81403.85 | 20107.03 | 338921.20 | 31881.48 | 869685.279 | 18785.88 |  5327.073 |     0.00 | 3132.867 |\n",
       "| 3 | 69423.88 | 16099.78 | 57017.08 | 24393.61 |   928.2734 |     0.00 |     0.00 |     0.000 |     0.00000 |     0.00 | ... |     0.00 | 51902.78 |  4239.11 | 296872.00 | 32702.45 |   3355.725 | 11556.59 | 16995.155 | 44552.73 |    0.000 |\n",
       "\n"
      ],
      "text/plain": [
       "  X1_391.284_0.3_NA\n",
       "1     0.00         \n",
       "2     0.00         \n",
       "3 69423.88         \n",
       "  X2_161.096_0.235_Massbank:LU096701 4-Methylumbelliferone|7-hydroxy-4-methylchromen-2-one\n",
       "1     0.00                                                                                \n",
       "2     0.00                                                                                \n",
       "3 16099.78                                                                                \n",
       "  X4_167.154_0.474_NA X5_158.961_0.477_NA\n",
       "1     0.00            21558.86           \n",
       "2     0.00            21484.97           \n",
       "3 57017.08            24393.61           \n",
       "  X11_172.956_0.487_\"6-methoxypurine, oxamethane CollisionEnergy:102040\"\n",
       "1 13445.7400                                                            \n",
       "2 15766.6563                                                            \n",
       "3   928.2734                                                            \n",
       "  X13_159.065_0.479_NA X15_289.168_0.501_NA X16_291.165_0.501_NA\n",
       "1 65554.56             24759.11             23196.157           \n",
       "2 26655.63              3216.13              2738.463           \n",
       "3     0.00                 0.00                 0.000           \n",
       "  X17_453.234_0.503_NA X19_451.237_0.503_NA ... X92628_241.068_14.313_NA\n",
       "1 18333.55302          10566.58             ... 49745.29                \n",
       "2    89.89699              0.00             ... 31118.33                \n",
       "3     0.00000              0.00             ...     0.00                \n",
       "  X92636_182.985_14.571_HARMANE CollisionEnergy:102040\n",
       "1 33020.06                                            \n",
       "2 81403.85                                            \n",
       "3 51902.78                                            \n",
       "  X92638_208.039_14.764_\"methyl 3-oxo-2-[(3,4,5-trimethoxyphenyl)methylene]benzo[b]furan-5-carboxylate CollisionEnergy:102040\"\n",
       "1     0.00                                                                                                                    \n",
       "2 20107.03                                                                                                                    \n",
       "3  4239.11                                                                                                                    \n",
       "  X92639_167.013_14.697_NA X92640_193.974_14.62_NA X92641_194.117_14.485_NA\n",
       "1  71523.79                    0.00                432230.203              \n",
       "2 338921.20                31881.48                869685.279              \n",
       "3 296872.00                32702.45                  3355.725              \n",
       "  X92647_158.961_14.747_NA X92648_154.99_14.807_NA\n",
       "1 26254.76                  1744.462              \n",
       "2 18785.88                  5327.073              \n",
       "3 11556.59                 16995.155              \n",
       "  X92649_226.951_14.813_TRYPTOPHAN\n",
       "1     0.00                        \n",
       "2     0.00                        \n",
       "3 44552.73                        \n",
       "  X92651_172.956_14.611_\"6-methoxypurine, oxamethane CollisionEnergy:205060\"\n",
       "1 3507.491                                                                  \n",
       "2 3132.867                                                                  \n",
       "3    0.000                                                                  "
      ]
     },
     "metadata": {},
     "output_type": "display_data"
    }
   ],
   "source": [
    "bm <- ft_merged2[,-1] %>%  #excluding filename column as we are geting only batchwise mean value\n",
    "group_by(`ATTRIBUTE_Batch`) %>%  # grouping them by Batch\n",
    "summarise_all(mean) %>% # getting column-wise mean\n",
    "column_to_rownames('ATTRIBUTE_Batch') %>%\n",
    "as.data.frame() # storing it as dataframe\n",
    "\n",
    "bm"
   ]
  },
  {
   "cell_type": "markdown",
   "id": "1915a91d-e527-4efa-af3b-632aeb5a9454",
   "metadata": {},
   "source": [
    "In this context, the dataframe \"bm\" contains three rows, where each row represents the mean value of the features for each batch. For instance, the first row corresponds to the mean of each feature for Batch 1."
   ]
  },
  {
   "cell_type": "markdown",
   "id": "8bab6829-7e56-456d-8dc5-1f0f4b85a409",
   "metadata": {
    "id": "8bab6829-7e56-456d-8dc5-1f0f4b85a409"
   },
   "source": [
    "### Step 3: Correcting for inter-batch effects\n",
    "In this step, we first split the 'ft_merged2' dataframe into batchwise dataframes using 'group_split' function. It returns a list 'batch_df' where each element is a batch-specific dataframe. Then, the feature intensities in each batch within 'batch_df' are  divided by the <b>batchwise feature-mean (bm)</b> and multiplied by the <b>overall mean (fm) </b>."
   ]
  },
  {
   "cell_type": "code",
   "execution_count": 8,
   "id": "54963656-53aa-4200-9cb3-f80cd0442d2d",
   "metadata": {
    "id": "54963656-53aa-4200-9cb3-f80cd0442d2d"
   },
   "outputs": [
    {
     "data": {
      "text/html": [
       "<table class=\"dataframe\">\n",
       "<caption>A matrix: 2 × 3 of type int</caption>\n",
       "<tbody>\n",
       "\t<tr><td>   62</td><td>   62</td><td>   62</td></tr>\n",
       "\t<tr><td>11218</td><td>11218</td><td>11218</td></tr>\n",
       "</tbody>\n",
       "</table>\n"
      ],
      "text/latex": [
       "A matrix: 2 × 3 of type int\n",
       "\\begin{tabular}{lll}\n",
       "\t    62 &    62 &    62\\\\\n",
       "\t 11218 & 11218 & 11218\\\\\n",
       "\\end{tabular}\n"
      ],
      "text/markdown": [
       "\n",
       "A matrix: 2 × 3 of type int\n",
       "\n",
       "|    62 |    62 |    62 |\n",
       "| 11218 | 11218 | 11218 |\n",
       "\n"
      ],
      "text/plain": [
       "     [,1]  [,2]  [,3] \n",
       "[1,]    62    62    62\n",
       "[2,] 11218 11218 11218"
      ]
     },
     "metadata": {},
     "output_type": "display_data"
    }
   ],
   "source": [
    "batch_df <- ft_merged2 %>%\n",
    "group_split(`ATTRIBUTE_Batch`) %>% #group_split splits & stores the batchwise info as individual dataframes inside a list\n",
    "lapply(., function(x) { # lapply applies the below function to each element within the list created by the previous step \n",
    "    x <- column_to_rownames(x,'filename') # then, we make \"filename\" as the rownames of each dataframe within the list\n",
    "}) \n",
    "\n",
    "sapply(batch_df, dim) # gives the dimension of each list element columnwise."
   ]
  },
  {
   "cell_type": "markdown",
   "id": "3cc0386d-6e01-40a2-98b1-09604a619eb1",
   "metadata": {
    "id": "3cc0386d-6e01-40a2-98b1-09604a619eb1"
   },
   "source": [
    "The above output shows that there are 3 dataframes inside 'batch_df' list, each with dimension of 62 rows and 11218 columns. Lets look at the 1st dataframe inside batch_df. It contains the 'Batch 1' data."
   ]
  },
  {
   "cell_type": "code",
   "execution_count": 9,
   "id": "8e5170b2-2c51-4f9a-acd6-8ea10dfb201b",
   "metadata": {
    "id": "8e5170b2-2c51-4f9a-acd6-8ea10dfb201b"
   },
   "outputs": [
    {
     "data": {
      "text/html": [
       "<table class=\"dataframe\">\n",
       "<caption>A data.frame: 2 × 11218</caption>\n",
       "<thead>\n",
       "\t<tr><th></th><th scope=col>ATTRIBUTE_Batch</th><th scope=col>X1_391.284_0.3_NA</th><th scope=col>X2_161.096_0.235_Massbank:LU096701 4-Methylumbelliferone|7-hydroxy-4-methylchromen-2-one</th><th scope=col>X4_167.154_0.474_NA</th><th scope=col>X5_158.961_0.477_NA</th><th scope=col>X11_172.956_0.487_\"6-methoxypurine, oxamethane CollisionEnergy:102040\"</th><th scope=col>X13_159.065_0.479_NA</th><th scope=col>X15_289.168_0.501_NA</th><th scope=col>X16_291.165_0.501_NA</th><th scope=col>X17_453.234_0.503_NA</th><th scope=col>...</th><th scope=col>X92628_241.068_14.313_NA</th><th scope=col>X92636_182.985_14.571_HARMANE CollisionEnergy:102040</th><th scope=col>X92638_208.039_14.764_\"methyl 3-oxo-2-[(3,4,5-trimethoxyphenyl)methylene]benzo[b]furan-5-carboxylate CollisionEnergy:102040\"</th><th scope=col>X92639_167.013_14.697_NA</th><th scope=col>X92640_193.974_14.62_NA</th><th scope=col>X92641_194.117_14.485_NA</th><th scope=col>X92647_158.961_14.747_NA</th><th scope=col>X92648_154.99_14.807_NA</th><th scope=col>X92649_226.951_14.813_TRYPTOPHAN</th><th scope=col>X92651_172.956_14.611_\"6-methoxypurine, oxamethane CollisionEnergy:205060\"</th></tr>\n",
       "\t<tr><th></th><th scope=col>&lt;int&gt;</th><th scope=col>&lt;dbl&gt;</th><th scope=col>&lt;dbl&gt;</th><th scope=col>&lt;dbl&gt;</th><th scope=col>&lt;dbl&gt;</th><th scope=col>&lt;dbl&gt;</th><th scope=col>&lt;dbl&gt;</th><th scope=col>&lt;dbl&gt;</th><th scope=col>&lt;dbl&gt;</th><th scope=col>&lt;dbl&gt;</th><th scope=col>...</th><th scope=col>&lt;dbl&gt;</th><th scope=col>&lt;dbl&gt;</th><th scope=col>&lt;dbl&gt;</th><th scope=col>&lt;dbl&gt;</th><th scope=col>&lt;dbl&gt;</th><th scope=col>&lt;dbl&gt;</th><th scope=col>&lt;dbl&gt;</th><th scope=col>&lt;dbl&gt;</th><th scope=col>&lt;dbl&gt;</th><th scope=col>&lt;dbl&gt;</th></tr>\n",
       "</thead>\n",
       "<tbody>\n",
       "\t<tr><th scope=row>SD_12-2017_1_a.mzXML</th><td>1</td><td>0</td><td>0</td><td>0</td><td>30080.23</td><td>0</td><td>138482.31</td><td>0</td><td>0</td><td>0</td><td>...</td><td>49173.01</td><td>50489.46</td><td>0</td><td>49576.42</td><td>0</td><td>181929.5</td><td>34671.50</td><td>2758.946</td><td>0</td><td>0</td></tr>\n",
       "\t<tr><th scope=row>SD_12-2017_1_b.mzXML</th><td>1</td><td>0</td><td>0</td><td>0</td><td>23100.52</td><td>0</td><td> 12879.66</td><td>0</td><td>0</td><td>0</td><td>...</td><td>44830.44</td><td>52936.02</td><td>0</td><td>38746.79</td><td>0</td><td>184417.8</td><td>28575.28</td><td>2251.808</td><td>0</td><td>0</td></tr>\n",
       "</tbody>\n",
       "</table>\n"
      ],
      "text/latex": [
       "A data.frame: 2 × 11218\n",
       "\\begin{tabular}{r|lllllllllllllllllllll}\n",
       "  & ATTRIBUTE\\_Batch & X1\\_391.284\\_0.3\\_NA & X2\\_161.096\\_0.235\\_Massbank:LU096701 4-Methylumbelliferone\\textbar{}7-hydroxy-4-methylchromen-2-one & X4\\_167.154\\_0.474\\_NA & X5\\_158.961\\_0.477\\_NA & X11\\_172.956\\_0.487\\_\"6-methoxypurine, oxamethane CollisionEnergy:102040\" & X13\\_159.065\\_0.479\\_NA & X15\\_289.168\\_0.501\\_NA & X16\\_291.165\\_0.501\\_NA & X17\\_453.234\\_0.503\\_NA & ... & X92628\\_241.068\\_14.313\\_NA & X92636\\_182.985\\_14.571\\_HARMANE CollisionEnergy:102040 & X92638\\_208.039\\_14.764\\_\"methyl 3-oxo-2-{[}(3,4,5-trimethoxyphenyl)methylene{]}benzo{[}b{]}furan-5-carboxylate CollisionEnergy:102040\" & X92639\\_167.013\\_14.697\\_NA & X92640\\_193.974\\_14.62\\_NA & X92641\\_194.117\\_14.485\\_NA & X92647\\_158.961\\_14.747\\_NA & X92648\\_154.99\\_14.807\\_NA & X92649\\_226.951\\_14.813\\_TRYPTOPHAN & X92651\\_172.956\\_14.611\\_\"6-methoxypurine, oxamethane CollisionEnergy:205060\"\\\\\n",
       "  & <int> & <dbl> & <dbl> & <dbl> & <dbl> & <dbl> & <dbl> & <dbl> & <dbl> & <dbl> & ... & <dbl> & <dbl> & <dbl> & <dbl> & <dbl> & <dbl> & <dbl> & <dbl> & <dbl> & <dbl>\\\\\n",
       "\\hline\n",
       "\tSD\\_12-2017\\_1\\_a.mzXML & 1 & 0 & 0 & 0 & 30080.23 & 0 & 138482.31 & 0 & 0 & 0 & ... & 49173.01 & 50489.46 & 0 & 49576.42 & 0 & 181929.5 & 34671.50 & 2758.946 & 0 & 0\\\\\n",
       "\tSD\\_12-2017\\_1\\_b.mzXML & 1 & 0 & 0 & 0 & 23100.52 & 0 &  12879.66 & 0 & 0 & 0 & ... & 44830.44 & 52936.02 & 0 & 38746.79 & 0 & 184417.8 & 28575.28 & 2251.808 & 0 & 0\\\\\n",
       "\\end{tabular}\n"
      ],
      "text/markdown": [
       "\n",
       "A data.frame: 2 × 11218\n",
       "\n",
       "| <!--/--> | ATTRIBUTE_Batch &lt;int&gt; | X1_391.284_0.3_NA &lt;dbl&gt; | X2_161.096_0.235_Massbank:LU096701 4-Methylumbelliferone|7-hydroxy-4-methylchromen-2-one &lt;dbl&gt; | X4_167.154_0.474_NA &lt;dbl&gt; | X5_158.961_0.477_NA &lt;dbl&gt; | X11_172.956_0.487_\"6-methoxypurine, oxamethane CollisionEnergy:102040\" &lt;dbl&gt; | X13_159.065_0.479_NA &lt;dbl&gt; | X15_289.168_0.501_NA &lt;dbl&gt; | X16_291.165_0.501_NA &lt;dbl&gt; | X17_453.234_0.503_NA &lt;dbl&gt; | ... ... | X92628_241.068_14.313_NA &lt;dbl&gt; | X92636_182.985_14.571_HARMANE CollisionEnergy:102040 &lt;dbl&gt; | X92638_208.039_14.764_\"methyl 3-oxo-2-[(3,4,5-trimethoxyphenyl)methylene]benzo[b]furan-5-carboxylate CollisionEnergy:102040\" &lt;dbl&gt; | X92639_167.013_14.697_NA &lt;dbl&gt; | X92640_193.974_14.62_NA &lt;dbl&gt; | X92641_194.117_14.485_NA &lt;dbl&gt; | X92647_158.961_14.747_NA &lt;dbl&gt; | X92648_154.99_14.807_NA &lt;dbl&gt; | X92649_226.951_14.813_TRYPTOPHAN &lt;dbl&gt; | X92651_172.956_14.611_\"6-methoxypurine, oxamethane CollisionEnergy:205060\" &lt;dbl&gt; |\n",
       "|---|---|---|---|---|---|---|---|---|---|---|---|---|---|---|---|---|---|---|---|---|---|\n",
       "| SD_12-2017_1_a.mzXML | 1 | 0 | 0 | 0 | 30080.23 | 0 | 138482.31 | 0 | 0 | 0 | ... | 49173.01 | 50489.46 | 0 | 49576.42 | 0 | 181929.5 | 34671.50 | 2758.946 | 0 | 0 |\n",
       "| SD_12-2017_1_b.mzXML | 1 | 0 | 0 | 0 | 23100.52 | 0 |  12879.66 | 0 | 0 | 0 | ... | 44830.44 | 52936.02 | 0 | 38746.79 | 0 | 184417.8 | 28575.28 | 2251.808 | 0 | 0 |\n",
       "\n"
      ],
      "text/plain": [
       "                     ATTRIBUTE_Batch X1_391.284_0.3_NA\n",
       "SD_12-2017_1_a.mzXML 1               0                \n",
       "SD_12-2017_1_b.mzXML 1               0                \n",
       "                     X2_161.096_0.235_Massbank:LU096701 4-Methylumbelliferone|7-hydroxy-4-methylchromen-2-one\n",
       "SD_12-2017_1_a.mzXML 0                                                                                       \n",
       "SD_12-2017_1_b.mzXML 0                                                                                       \n",
       "                     X4_167.154_0.474_NA X5_158.961_0.477_NA\n",
       "SD_12-2017_1_a.mzXML 0                   30080.23           \n",
       "SD_12-2017_1_b.mzXML 0                   23100.52           \n",
       "                     X11_172.956_0.487_\"6-methoxypurine, oxamethane CollisionEnergy:102040\"\n",
       "SD_12-2017_1_a.mzXML 0                                                                     \n",
       "SD_12-2017_1_b.mzXML 0                                                                     \n",
       "                     X13_159.065_0.479_NA X15_289.168_0.501_NA\n",
       "SD_12-2017_1_a.mzXML 138482.31            0                   \n",
       "SD_12-2017_1_b.mzXML  12879.66            0                   \n",
       "                     X16_291.165_0.501_NA X17_453.234_0.503_NA ...\n",
       "SD_12-2017_1_a.mzXML 0                    0                    ...\n",
       "SD_12-2017_1_b.mzXML 0                    0                    ...\n",
       "                     X92628_241.068_14.313_NA\n",
       "SD_12-2017_1_a.mzXML 49173.01                \n",
       "SD_12-2017_1_b.mzXML 44830.44                \n",
       "                     X92636_182.985_14.571_HARMANE CollisionEnergy:102040\n",
       "SD_12-2017_1_a.mzXML 50489.46                                            \n",
       "SD_12-2017_1_b.mzXML 52936.02                                            \n",
       "                     X92638_208.039_14.764_\"methyl 3-oxo-2-[(3,4,5-trimethoxyphenyl)methylene]benzo[b]furan-5-carboxylate CollisionEnergy:102040\"\n",
       "SD_12-2017_1_a.mzXML 0                                                                                                                           \n",
       "SD_12-2017_1_b.mzXML 0                                                                                                                           \n",
       "                     X92639_167.013_14.697_NA X92640_193.974_14.62_NA\n",
       "SD_12-2017_1_a.mzXML 49576.42                 0                      \n",
       "SD_12-2017_1_b.mzXML 38746.79                 0                      \n",
       "                     X92641_194.117_14.485_NA X92647_158.961_14.747_NA\n",
       "SD_12-2017_1_a.mzXML 181929.5                 34671.50                \n",
       "SD_12-2017_1_b.mzXML 184417.8                 28575.28                \n",
       "                     X92648_154.99_14.807_NA X92649_226.951_14.813_TRYPTOPHAN\n",
       "SD_12-2017_1_a.mzXML 2758.946                0                               \n",
       "SD_12-2017_1_b.mzXML 2251.808                0                               \n",
       "                     X92651_172.956_14.611_\"6-methoxypurine, oxamethane CollisionEnergy:205060\"\n",
       "SD_12-2017_1_a.mzXML 0                                                                         \n",
       "SD_12-2017_1_b.mzXML 0                                                                         "
      ]
     },
     "metadata": {},
     "output_type": "display_data"
    }
   ],
   "source": [
    "head(batch_df[[1]],n=2) "
   ]
  },
  {
   "cell_type": "code",
   "execution_count": 10,
   "id": "ea5bad95-aac3-4e6d-b72c-00e502248e05",
   "metadata": {
    "id": "ea5bad95-aac3-4e6d-b72c-00e502248e05"
   },
   "outputs": [],
   "source": [
    "ib <- list() # creating an empty list for storing inter-batch corrected data\n",
    "\n",
    "for (i in 1:length(batch_df)){\n",
    "    ib[[i]] <- sweep((batch_df[[i]][,-1]), 2, as.numeric(bm[i,]+1), \"/\") #dividing each batch dataframe by batchwise feature-mean\n",
    "    ib[[i]] <- sweep(ib[[i]], 2, as.numeric(fm+1), \"*\") # multiplying by overall mean\n",
    "}\n",
    "\n",
    "ib <- bind_rows(ib) #binding all the list elements together"
   ]
  },
  {
   "cell_type": "code",
   "execution_count": 11,
   "id": "25709eca-49df-4344-b528-7285e1be1920",
   "metadata": {
    "id": "25709eca-49df-4344-b528-7285e1be1920"
   },
   "outputs": [
    {
     "data": {
      "text/html": [
       "<table class=\"dataframe\">\n",
       "<caption>A data.frame: 2 × 11217</caption>\n",
       "<thead>\n",
       "\t<tr><th></th><th scope=col>X1_391.284_0.3_NA</th><th scope=col>X2_161.096_0.235_Massbank:LU096701 4-Methylumbelliferone|7-hydroxy-4-methylchromen-2-one</th><th scope=col>X4_167.154_0.474_NA</th><th scope=col>X5_158.961_0.477_NA</th><th scope=col>X11_172.956_0.487_\"6-methoxypurine, oxamethane CollisionEnergy:102040\"</th><th scope=col>X13_159.065_0.479_NA</th><th scope=col>X15_289.168_0.501_NA</th><th scope=col>X16_291.165_0.501_NA</th><th scope=col>X17_453.234_0.503_NA</th><th scope=col>X19_451.237_0.503_NA</th><th scope=col>...</th><th scope=col>X92628_241.068_14.313_NA</th><th scope=col>X92636_182.985_14.571_HARMANE CollisionEnergy:102040</th><th scope=col>X92638_208.039_14.764_\"methyl 3-oxo-2-[(3,4,5-trimethoxyphenyl)methylene]benzo[b]furan-5-carboxylate CollisionEnergy:102040\"</th><th scope=col>X92639_167.013_14.697_NA</th><th scope=col>X92640_193.974_14.62_NA</th><th scope=col>X92641_194.117_14.485_NA</th><th scope=col>X92647_158.961_14.747_NA</th><th scope=col>X92648_154.99_14.807_NA</th><th scope=col>X92649_226.951_14.813_TRYPTOPHAN</th><th scope=col>X92651_172.956_14.611_\"6-methoxypurine, oxamethane CollisionEnergy:205060\"</th></tr>\n",
       "\t<tr><th></th><th scope=col>&lt;dbl&gt;</th><th scope=col>&lt;dbl&gt;</th><th scope=col>&lt;dbl&gt;</th><th scope=col>&lt;dbl&gt;</th><th scope=col>&lt;dbl&gt;</th><th scope=col>&lt;dbl&gt;</th><th scope=col>&lt;dbl&gt;</th><th scope=col>&lt;dbl&gt;</th><th scope=col>&lt;dbl&gt;</th><th scope=col>&lt;dbl&gt;</th><th scope=col>...</th><th scope=col>&lt;dbl&gt;</th><th scope=col>&lt;dbl&gt;</th><th scope=col>&lt;dbl&gt;</th><th scope=col>&lt;dbl&gt;</th><th scope=col>&lt;dbl&gt;</th><th scope=col>&lt;dbl&gt;</th><th scope=col>&lt;dbl&gt;</th><th scope=col>&lt;dbl&gt;</th><th scope=col>&lt;dbl&gt;</th><th scope=col>&lt;dbl&gt;</th></tr>\n",
       "</thead>\n",
       "<tbody>\n",
       "\t<tr><th scope=row>SD_12-2017_1_a.mzXML</th><td>0</td><td>0</td><td>0</td><td>31364.21</td><td>0</td><td>64931.67</td><td>0</td><td>0</td><td>0</td><td>0</td><td>...</td><td>26644.90</td><td>84773.14</td><td>0</td><td>163423.0</td><td>0</td><td>183133.4</td><td>24914.09</td><td>12681.83</td><td>0</td><td>0</td></tr>\n",
       "\t<tr><th scope=row>SD_12-2017_1_b.mzXML</th><td>0</td><td>0</td><td>0</td><td>24086.57</td><td>0</td><td> 6039.02</td><td>0</td><td>0</td><td>0</td><td>0</td><td>...</td><td>24291.83</td><td>88880.97</td><td>0</td><td>127724.4</td><td>0</td><td>185638.1</td><td>20533.49</td><td>10350.71</td><td>0</td><td>0</td></tr>\n",
       "</tbody>\n",
       "</table>\n"
      ],
      "text/latex": [
       "A data.frame: 2 × 11217\n",
       "\\begin{tabular}{r|lllllllllllllllllllll}\n",
       "  & X1\\_391.284\\_0.3\\_NA & X2\\_161.096\\_0.235\\_Massbank:LU096701 4-Methylumbelliferone\\textbar{}7-hydroxy-4-methylchromen-2-one & X4\\_167.154\\_0.474\\_NA & X5\\_158.961\\_0.477\\_NA & X11\\_172.956\\_0.487\\_\"6-methoxypurine, oxamethane CollisionEnergy:102040\" & X13\\_159.065\\_0.479\\_NA & X15\\_289.168\\_0.501\\_NA & X16\\_291.165\\_0.501\\_NA & X17\\_453.234\\_0.503\\_NA & X19\\_451.237\\_0.503\\_NA & ... & X92628\\_241.068\\_14.313\\_NA & X92636\\_182.985\\_14.571\\_HARMANE CollisionEnergy:102040 & X92638\\_208.039\\_14.764\\_\"methyl 3-oxo-2-{[}(3,4,5-trimethoxyphenyl)methylene{]}benzo{[}b{]}furan-5-carboxylate CollisionEnergy:102040\" & X92639\\_167.013\\_14.697\\_NA & X92640\\_193.974\\_14.62\\_NA & X92641\\_194.117\\_14.485\\_NA & X92647\\_158.961\\_14.747\\_NA & X92648\\_154.99\\_14.807\\_NA & X92649\\_226.951\\_14.813\\_TRYPTOPHAN & X92651\\_172.956\\_14.611\\_\"6-methoxypurine, oxamethane CollisionEnergy:205060\"\\\\\n",
       "  & <dbl> & <dbl> & <dbl> & <dbl> & <dbl> & <dbl> & <dbl> & <dbl> & <dbl> & <dbl> & ... & <dbl> & <dbl> & <dbl> & <dbl> & <dbl> & <dbl> & <dbl> & <dbl> & <dbl> & <dbl>\\\\\n",
       "\\hline\n",
       "\tSD\\_12-2017\\_1\\_a.mzXML & 0 & 0 & 0 & 31364.21 & 0 & 64931.67 & 0 & 0 & 0 & 0 & ... & 26644.90 & 84773.14 & 0 & 163423.0 & 0 & 183133.4 & 24914.09 & 12681.83 & 0 & 0\\\\\n",
       "\tSD\\_12-2017\\_1\\_b.mzXML & 0 & 0 & 0 & 24086.57 & 0 &  6039.02 & 0 & 0 & 0 & 0 & ... & 24291.83 & 88880.97 & 0 & 127724.4 & 0 & 185638.1 & 20533.49 & 10350.71 & 0 & 0\\\\\n",
       "\\end{tabular}\n"
      ],
      "text/markdown": [
       "\n",
       "A data.frame: 2 × 11217\n",
       "\n",
       "| <!--/--> | X1_391.284_0.3_NA &lt;dbl&gt; | X2_161.096_0.235_Massbank:LU096701 4-Methylumbelliferone|7-hydroxy-4-methylchromen-2-one &lt;dbl&gt; | X4_167.154_0.474_NA &lt;dbl&gt; | X5_158.961_0.477_NA &lt;dbl&gt; | X11_172.956_0.487_\"6-methoxypurine, oxamethane CollisionEnergy:102040\" &lt;dbl&gt; | X13_159.065_0.479_NA &lt;dbl&gt; | X15_289.168_0.501_NA &lt;dbl&gt; | X16_291.165_0.501_NA &lt;dbl&gt; | X17_453.234_0.503_NA &lt;dbl&gt; | X19_451.237_0.503_NA &lt;dbl&gt; | ... ... | X92628_241.068_14.313_NA &lt;dbl&gt; | X92636_182.985_14.571_HARMANE CollisionEnergy:102040 &lt;dbl&gt; | X92638_208.039_14.764_\"methyl 3-oxo-2-[(3,4,5-trimethoxyphenyl)methylene]benzo[b]furan-5-carboxylate CollisionEnergy:102040\" &lt;dbl&gt; | X92639_167.013_14.697_NA &lt;dbl&gt; | X92640_193.974_14.62_NA &lt;dbl&gt; | X92641_194.117_14.485_NA &lt;dbl&gt; | X92647_158.961_14.747_NA &lt;dbl&gt; | X92648_154.99_14.807_NA &lt;dbl&gt; | X92649_226.951_14.813_TRYPTOPHAN &lt;dbl&gt; | X92651_172.956_14.611_\"6-methoxypurine, oxamethane CollisionEnergy:205060\" &lt;dbl&gt; |\n",
       "|---|---|---|---|---|---|---|---|---|---|---|---|---|---|---|---|---|---|---|---|---|---|\n",
       "| SD_12-2017_1_a.mzXML | 0 | 0 | 0 | 31364.21 | 0 | 64931.67 | 0 | 0 | 0 | 0 | ... | 26644.90 | 84773.14 | 0 | 163423.0 | 0 | 183133.4 | 24914.09 | 12681.83 | 0 | 0 |\n",
       "| SD_12-2017_1_b.mzXML | 0 | 0 | 0 | 24086.57 | 0 |  6039.02 | 0 | 0 | 0 | 0 | ... | 24291.83 | 88880.97 | 0 | 127724.4 | 0 | 185638.1 | 20533.49 | 10350.71 | 0 | 0 |\n",
       "\n"
      ],
      "text/plain": [
       "                     X1_391.284_0.3_NA\n",
       "SD_12-2017_1_a.mzXML 0                \n",
       "SD_12-2017_1_b.mzXML 0                \n",
       "                     X2_161.096_0.235_Massbank:LU096701 4-Methylumbelliferone|7-hydroxy-4-methylchromen-2-one\n",
       "SD_12-2017_1_a.mzXML 0                                                                                       \n",
       "SD_12-2017_1_b.mzXML 0                                                                                       \n",
       "                     X4_167.154_0.474_NA X5_158.961_0.477_NA\n",
       "SD_12-2017_1_a.mzXML 0                   31364.21           \n",
       "SD_12-2017_1_b.mzXML 0                   24086.57           \n",
       "                     X11_172.956_0.487_\"6-methoxypurine, oxamethane CollisionEnergy:102040\"\n",
       "SD_12-2017_1_a.mzXML 0                                                                     \n",
       "SD_12-2017_1_b.mzXML 0                                                                     \n",
       "                     X13_159.065_0.479_NA X15_289.168_0.501_NA\n",
       "SD_12-2017_1_a.mzXML 64931.67             0                   \n",
       "SD_12-2017_1_b.mzXML  6039.02             0                   \n",
       "                     X16_291.165_0.501_NA X17_453.234_0.503_NA\n",
       "SD_12-2017_1_a.mzXML 0                    0                   \n",
       "SD_12-2017_1_b.mzXML 0                    0                   \n",
       "                     X19_451.237_0.503_NA ... X92628_241.068_14.313_NA\n",
       "SD_12-2017_1_a.mzXML 0                    ... 26644.90                \n",
       "SD_12-2017_1_b.mzXML 0                    ... 24291.83                \n",
       "                     X92636_182.985_14.571_HARMANE CollisionEnergy:102040\n",
       "SD_12-2017_1_a.mzXML 84773.14                                            \n",
       "SD_12-2017_1_b.mzXML 88880.97                                            \n",
       "                     X92638_208.039_14.764_\"methyl 3-oxo-2-[(3,4,5-trimethoxyphenyl)methylene]benzo[b]furan-5-carboxylate CollisionEnergy:102040\"\n",
       "SD_12-2017_1_a.mzXML 0                                                                                                                           \n",
       "SD_12-2017_1_b.mzXML 0                                                                                                                           \n",
       "                     X92639_167.013_14.697_NA X92640_193.974_14.62_NA\n",
       "SD_12-2017_1_a.mzXML 163423.0                 0                      \n",
       "SD_12-2017_1_b.mzXML 127724.4                 0                      \n",
       "                     X92641_194.117_14.485_NA X92647_158.961_14.747_NA\n",
       "SD_12-2017_1_a.mzXML 183133.4                 24914.09                \n",
       "SD_12-2017_1_b.mzXML 185638.1                 20533.49                \n",
       "                     X92648_154.99_14.807_NA X92649_226.951_14.813_TRYPTOPHAN\n",
       "SD_12-2017_1_a.mzXML 12681.83                0                               \n",
       "SD_12-2017_1_b.mzXML 10350.71                0                               \n",
       "                     X92651_172.956_14.611_\"6-methoxypurine, oxamethane CollisionEnergy:205060\"\n",
       "SD_12-2017_1_a.mzXML 0                                                                         \n",
       "SD_12-2017_1_b.mzXML 0                                                                         "
      ]
     },
     "metadata": {},
     "output_type": "display_data"
    },
    {
     "data": {
      "text/html": [
       "<style>\n",
       ".list-inline {list-style: none; margin:0; padding: 0}\n",
       ".list-inline>li {display: inline-block}\n",
       ".list-inline>li:not(:last-child)::after {content: \"\\00b7\"; padding: 0 .5ex}\n",
       "</style>\n",
       "<ol class=list-inline><li>186</li><li>11217</li></ol>\n"
      ],
      "text/latex": [
       "\\begin{enumerate*}\n",
       "\\item 186\n",
       "\\item 11217\n",
       "\\end{enumerate*}\n"
      ],
      "text/markdown": [
       "1. 186\n",
       "2. 11217\n",
       "\n",
       "\n"
      ],
      "text/plain": [
       "[1]   186 11217"
      ]
     },
     "metadata": {},
     "output_type": "display_data"
    }
   ],
   "source": [
    "head(ib,n=2)\n",
    "dim(ib)"
   ]
  },
  {
   "cell_type": "markdown",
   "id": "ee81448b-9520-4b46-8c91-73f7e0b8c65e",
   "metadata": {},
   "source": [
    "Thus, the resulting dataframe \"ib\" is expected to be corrected for inter-batch effects. After that, it becomes easier to correct for intra-batch effects. "
   ]
  },
  {
   "cell_type": "markdown",
   "id": "5c1483bd-1659-4fff-b43e-d4111628ba35",
   "metadata": {
    "id": "5c1483bd-1659-4fff-b43e-d4111628ba35"
   },
   "source": [
    "## Intra-batch correction:\n",
    "<a name=\"intra_batch\"></a>"
   ]
  },
  {
   "cell_type": "markdown",
   "id": "f67e851b-6716-422c-a553-89deabf017ce",
   "metadata": {
    "id": "f67e851b-6716-422c-a553-89deabf017ce"
   },
   "source": [
    "<p style='text-align: justify;'> <b>  To correct for intra-batch effects, it is important to have pooled QC samples or some Internal Standards</b>. Here, we show how one can visualise the intensity drift within a batch and also perform LOESS (Locally Estimated Scatterplot Smoothing) correction if each batch had a pooled QC in the beginning and end of its injection order into the instrument. </p>\n",
    "    \n",
    "<p style='text-align: justify;'> In case of not having pooled QCs, one can still look for intra-batch effect by visualizing the housekeeping features across the injection order or run time. For the test data used here, some components typically found in the DOM samples as mentioned in the study by <a href=\"https://doi.org/10.1016/j.chemosphere.2020.129450\">Petras et al</a> are: Dibutyl phthalate, pheophorbide A and tryptophan. We will look at the feature 'tryptophan' to see if there is any intensity drift observed along the run time or injection order. However, we cannot correct the effect with housekeeping features, this can only be done with QCs. In such cases, it is better to not correct the effect and treat the data cautiously during statistical analyses. However, normalizing the data, in general, accounts for batch-correction to a certain extent <a href=\"https://doi.org/10.1007/s00216-021-03294-8\">(Tokareva, A.O. et al, 2021).</a></p>"
   ]
  },
  {
   "cell_type": "markdown",
   "id": "208283e3-f415-4598-9613-8c01ef763874",
   "metadata": {
    "id": "208283e3-f415-4598-9613-8c01ef763874"
   },
   "source": [
    "### Visualizing within-batch effect using housekeeping features\n",
    "Since, we have the annotations combined with our column names. we can look for column names of ft_merged with 'tryptophan':"
   ]
  },
  {
   "cell_type": "code",
   "execution_count": 12,
   "id": "a716fb8a-bc07-4763-b348-e1ab1e3a3b93",
   "metadata": {
    "id": "a716fb8a-bc07-4763-b348-e1ab1e3a3b93"
   },
   "outputs": [
    {
     "name": "stdout",
     "output_type": "stream",
     "text": [
      "[1] \"X5234_205.097_2.301_Spectral Match to L-Tryptophan from NIST14\"                     \n",
      "[2] \"X7683_205.097_2.569_Spectral Match to L-Tryptophan from NIST14\"                     \n",
      "[3] \"X76278_622.028_9.907_Tryptophan conjugated cholic acid\"                             \n",
      "[4] \"X85367_271.205_10.926_B13A01 Faulkner library maybe Tryptophan needs ot be verified\"\n",
      "[5] \"X92649_226.951_14.813_TRYPTOPHAN\"                                                   \n"
     ]
    }
   ],
   "source": [
    "print(grep(\"tryptophan\",colnames(ft_merged),ignore.case=TRUE,value=TRUE))"
   ]
  },
  {
   "cell_type": "markdown",
   "id": "49922687-7293-4b70-a6e4-0dbdcf046534",
   "metadata": {
    "id": "49922687-7293-4b70-a6e4-0dbdcf046534"
   },
   "source": [
    "The molecular weight of tryptophan is 204.22 g/mol. Here, we see tryptophan peaks (~205 m/z) with 2 different RTs. In the column names, we have the libraryID_RT_mz_Annotation. We will choose the feature with higher retention time (row ID 7683) to plot against the injection order."
   ]
  },
  {
   "cell_type": "code",
   "execution_count": 13,
   "id": "25b36f77-9345-4af8-a901-0f3045e6de1c",
   "metadata": {
    "id": "25b36f77-9345-4af8-a901-0f3045e6de1c"
   },
   "outputs": [
    {
     "data": {
      "text/html": [
       "1089"
      ],
      "text/latex": [
       "1089"
      ],
      "text/markdown": [
       "1089"
      ],
      "text/plain": [
       "[1] 1089"
      ]
     },
     "metadata": {},
     "output_type": "display_data"
    }
   ],
   "source": [
    "colNum <- which(colnames(ft_merged) == grep('X7683',colnames(ft_merged),value = TRUE)) # gets the column number of tryptophan\n",
    "colNum"
   ]
  },
  {
   "cell_type": "code",
   "execution_count": 14,
   "id": "ff4aaeb8-ca75-41b5-bed4-aaf4785269fe",
   "metadata": {},
   "outputs": [
    {
     "name": "stderr",
     "output_type": "stream",
     "text": [
      "\u001b[1m\u001b[22m`geom_smooth()` using formula = 'y ~ x'\n"
     ]
    },
    {
     "data": {
      "image/png": "[encoded data removed]",
      "text/plain": [
       "plot without title"
      ]
     },
     "metadata": {
      "image/png": {
       "height": 420,
       "width": 420
      }
     },
     "output_type": "display_data"
    }
   ],
   "source": [
    "ggplot(ft_merged, \n",
    "       aes(x=`ATTRIBUTE_Injection_order`, \n",
    "           y=ft_merged[,colNum])) + #applies the number from the previous cell output\n",
    "geom_point(size=2.5, alpha=0.9, \n",
    "           aes(color=as.factor(`ATTRIBUTE_Batch`), \n",
    "               shape = `ATTRIBUTE_Sample.Type`)) +\n",
    "geom_smooth(method = 'lm',na.rm = T) +  # to add a trend line\n",
    "scale_y_continuous(labels = scales::scientific,\n",
    "                   limits=c(-1e5,max(ft_merged[,colNum]))) "
   ]
  },
  {
   "cell_type": "markdown",
   "id": "f2524c75-2e25-434f-8527-dc8ec8d52ce7",
   "metadata": {},
   "source": [
    "<p style='text-align: justify;'>The intensity drift observed here in the example data may not necessarily be due to batch effects. Since the samples were collected at different times under varying conditions, it is more likely to be a result of the different sample collection periods. However, if you encounter a similar intensity drift in a dataset where multiple batches of samples are collected under the same experimental conditions, you can follow these steps to perform batch correction: </p>\n",
    "\n",
    "1. Convert the data from a wide-format to a long-format.\n",
    "2. Inspect the intra-batch effects on each batch-wise data by splitting the data batch-wise.\n",
    "3. Once the batch effect is observed, we can apply LOESS correction function to perform batch correction. It is important to note that each batch-data starts and ends with a pooled-QC data."
   ]
  },
  {
   "cell_type": "markdown",
   "id": "81963911-21dc-4e05-be9c-9cd3e8e95c7e",
   "metadata": {},
   "source": [
    "### Converting the data to long-format"
   ]
  },
  {
   "cell_type": "code",
   "execution_count": 18,
   "id": "a9bf8a8b-1e35-41a1-b60f-4505974a0f33",
   "metadata": {},
   "outputs": [
    {
     "data": {
      "text/html": [
       "<table class=\"dataframe\">\n",
       "<caption>A data.frame: 3 × 11232</caption>\n",
       "<thead>\n",
       "\t<tr><th></th><th scope=col></th><th scope=col>filename</th><th scope=col>ATTRIBUTE_Sample.Type</th><th scope=col>ATTRIBUTE_Batch</th><th scope=col>ATTRIBUTE_Month</th><th scope=col>ATTRIBUTE_Year</th><th scope=col>ATTRIBUTE_Sample_Location</th><th scope=col>ATTRIBUTE_Replicate</th><th scope=col>ATTRIBUTE_Spot</th><th scope=col>ATTRIBUTE_Latitude</th><th scope=col>...</th><th scope=col>X92628_241.068_14.313_NA</th><th scope=col>X92636_182.985_14.571_HARMANE CollisionEnergy:102040</th><th scope=col>X92638_208.039_14.764_\"methyl 3-oxo-2-[(3,4,5-trimethoxyphenyl)methylene]benzo[b]furan-5-carboxylate CollisionEnergy:102040\"</th><th scope=col>X92639_167.013_14.697_NA</th><th scope=col>X92640_193.974_14.62_NA</th><th scope=col>X92641_194.117_14.485_NA</th><th scope=col>X92647_158.961_14.747_NA</th><th scope=col>X92648_154.99_14.807_NA</th><th scope=col>X92649_226.951_14.813_TRYPTOPHAN</th><th scope=col>X92651_172.956_14.611_\"6-methoxypurine, oxamethane CollisionEnergy:205060\"</th></tr>\n",
       "\t<tr><th></th><th scope=col>&lt;int&gt;</th><th scope=col>&lt;chr&gt;</th><th scope=col>&lt;chr&gt;</th><th scope=col>&lt;int&gt;</th><th scope=col>&lt;chr&gt;</th><th scope=col>&lt;int&gt;</th><th scope=col>&lt;int&gt;</th><th scope=col>&lt;chr&gt;</th><th scope=col>&lt;int&gt;</th><th scope=col>&lt;dbl&gt;</th><th scope=col>...</th><th scope=col>&lt;dbl&gt;</th><th scope=col>&lt;dbl&gt;</th><th scope=col>&lt;dbl&gt;</th><th scope=col>&lt;dbl&gt;</th><th scope=col>&lt;dbl&gt;</th><th scope=col>&lt;dbl&gt;</th><th scope=col>&lt;dbl&gt;</th><th scope=col>&lt;dbl&gt;</th><th scope=col>&lt;dbl&gt;</th><th scope=col>&lt;dbl&gt;</th></tr>\n",
       "</thead>\n",
       "<tbody>\n",
       "\t<tr><th scope=row>1</th><td>1</td><td>SD_01-2018_1_a.mzXML </td><td>Sample</td><td>2</td><td>Jan</td><td>2018</td><td> 1</td><td>a</td><td> 1</td><td>32.93365</td><td>...</td><td>36845.35</td><td>109542.04</td><td>68948.27</td><td>302706.5</td><td>42332.20</td><td>843127.0</td><td>22739.375</td><td> 7517.194</td><td>0</td><td>0</td></tr>\n",
       "\t<tr><th scope=row>2</th><td>2</td><td>SD_01-2018_1_b.mzXML </td><td>Sample</td><td>2</td><td>Jan</td><td>2018</td><td> 1</td><td>b</td><td> 1</td><td>32.93365</td><td>...</td><td>37898.94</td><td>114407.76</td><td>44469.50</td><td>298204.2</td><td>19698.92</td><td>824746.4</td><td> 4960.220</td><td>10084.678</td><td>0</td><td>0</td></tr>\n",
       "\t<tr><th scope=row>3</th><td>3</td><td>SD_01-2018_10_a.mzXML</td><td>Sample</td><td>2</td><td>Jan</td><td>2018</td><td>10</td><td>a</td><td>10</td><td>32.86261</td><td>...</td><td>32835.04</td><td> 74416.95</td><td>12208.32</td><td>334345.6</td><td>28667.01</td><td>876652.8</td><td> 5619.828</td><td> 3481.216</td><td>0</td><td>0</td></tr>\n",
       "</tbody>\n",
       "</table>\n"
      ],
      "text/latex": [
       "A data.frame: 3 × 11232\n",
       "\\begin{tabular}{r|lllllllllllllllllllll}\n",
       "  &  & filename & ATTRIBUTE\\_Sample.Type & ATTRIBUTE\\_Batch & ATTRIBUTE\\_Month & ATTRIBUTE\\_Year & ATTRIBUTE\\_Sample\\_Location & ATTRIBUTE\\_Replicate & ATTRIBUTE\\_Spot & ATTRIBUTE\\_Latitude & ... & X92628\\_241.068\\_14.313\\_NA & X92636\\_182.985\\_14.571\\_HARMANE CollisionEnergy:102040 & X92638\\_208.039\\_14.764\\_\"methyl 3-oxo-2-{[}(3,4,5-trimethoxyphenyl)methylene{]}benzo{[}b{]}furan-5-carboxylate CollisionEnergy:102040\" & X92639\\_167.013\\_14.697\\_NA & X92640\\_193.974\\_14.62\\_NA & X92641\\_194.117\\_14.485\\_NA & X92647\\_158.961\\_14.747\\_NA & X92648\\_154.99\\_14.807\\_NA & X92649\\_226.951\\_14.813\\_TRYPTOPHAN & X92651\\_172.956\\_14.611\\_\"6-methoxypurine, oxamethane CollisionEnergy:205060\"\\\\\n",
       "  & <int> & <chr> & <chr> & <int> & <chr> & <int> & <int> & <chr> & <int> & <dbl> & ... & <dbl> & <dbl> & <dbl> & <dbl> & <dbl> & <dbl> & <dbl> & <dbl> & <dbl> & <dbl>\\\\\n",
       "\\hline\n",
       "\t1 & 1 & SD\\_01-2018\\_1\\_a.mzXML  & Sample & 2 & Jan & 2018 &  1 & a &  1 & 32.93365 & ... & 36845.35 & 109542.04 & 68948.27 & 302706.5 & 42332.20 & 843127.0 & 22739.375 &  7517.194 & 0 & 0\\\\\n",
       "\t2 & 2 & SD\\_01-2018\\_1\\_b.mzXML  & Sample & 2 & Jan & 2018 &  1 & b &  1 & 32.93365 & ... & 37898.94 & 114407.76 & 44469.50 & 298204.2 & 19698.92 & 824746.4 &  4960.220 & 10084.678 & 0 & 0\\\\\n",
       "\t3 & 3 & SD\\_01-2018\\_10\\_a.mzXML & Sample & 2 & Jan & 2018 & 10 & a & 10 & 32.86261 & ... & 32835.04 &  74416.95 & 12208.32 & 334345.6 & 28667.01 & 876652.8 &  5619.828 &  3481.216 & 0 & 0\\\\\n",
       "\\end{tabular}\n"
      ],
      "text/markdown": [
       "\n",
       "A data.frame: 3 × 11232\n",
       "\n",
       "| <!--/--> | <!----> &lt;int&gt; | filename &lt;chr&gt; | ATTRIBUTE_Sample.Type &lt;chr&gt; | ATTRIBUTE_Batch &lt;int&gt; | ATTRIBUTE_Month &lt;chr&gt; | ATTRIBUTE_Year &lt;int&gt; | ATTRIBUTE_Sample_Location &lt;int&gt; | ATTRIBUTE_Replicate &lt;chr&gt; | ATTRIBUTE_Spot &lt;int&gt; | ATTRIBUTE_Latitude &lt;dbl&gt; | ... ... | X92628_241.068_14.313_NA &lt;dbl&gt; | X92636_182.985_14.571_HARMANE CollisionEnergy:102040 &lt;dbl&gt; | X92638_208.039_14.764_\"methyl 3-oxo-2-[(3,4,5-trimethoxyphenyl)methylene]benzo[b]furan-5-carboxylate CollisionEnergy:102040\" &lt;dbl&gt; | X92639_167.013_14.697_NA &lt;dbl&gt; | X92640_193.974_14.62_NA &lt;dbl&gt; | X92641_194.117_14.485_NA &lt;dbl&gt; | X92647_158.961_14.747_NA &lt;dbl&gt; | X92648_154.99_14.807_NA &lt;dbl&gt; | X92649_226.951_14.813_TRYPTOPHAN &lt;dbl&gt; | X92651_172.956_14.611_\"6-methoxypurine, oxamethane CollisionEnergy:205060\" &lt;dbl&gt; |\n",
       "|---|---|---|---|---|---|---|---|---|---|---|---|---|---|---|---|---|---|---|---|---|---|\n",
       "| 1 | 1 | SD_01-2018_1_a.mzXML  | Sample | 2 | Jan | 2018 |  1 | a |  1 | 32.93365 | ... | 36845.35 | 109542.04 | 68948.27 | 302706.5 | 42332.20 | 843127.0 | 22739.375 |  7517.194 | 0 | 0 |\n",
       "| 2 | 2 | SD_01-2018_1_b.mzXML  | Sample | 2 | Jan | 2018 |  1 | b |  1 | 32.93365 | ... | 37898.94 | 114407.76 | 44469.50 | 298204.2 | 19698.92 | 824746.4 |  4960.220 | 10084.678 | 0 | 0 |\n",
       "| 3 | 3 | SD_01-2018_10_a.mzXML | Sample | 2 | Jan | 2018 | 10 | a | 10 | 32.86261 | ... | 32835.04 |  74416.95 | 12208.32 | 334345.6 | 28667.01 | 876652.8 |  5619.828 |  3481.216 | 0 | 0 |\n",
       "\n"
      ],
      "text/plain": [
       "    filename              ATTRIBUTE_Sample.Type ATTRIBUTE_Batch ATTRIBUTE_Month\n",
       "1 1 SD_01-2018_1_a.mzXML  Sample                2               Jan            \n",
       "2 2 SD_01-2018_1_b.mzXML  Sample                2               Jan            \n",
       "3 3 SD_01-2018_10_a.mzXML Sample                2               Jan            \n",
       "  ATTRIBUTE_Year ATTRIBUTE_Sample_Location ATTRIBUTE_Replicate ATTRIBUTE_Spot\n",
       "1 2018            1                        a                    1            \n",
       "2 2018            1                        b                    1            \n",
       "3 2018           10                        a                   10            \n",
       "  ATTRIBUTE_Latitude ... X92628_241.068_14.313_NA\n",
       "1 32.93365           ... 36845.35                \n",
       "2 32.93365           ... 37898.94                \n",
       "3 32.86261           ... 32835.04                \n",
       "  X92636_182.985_14.571_HARMANE CollisionEnergy:102040\n",
       "1 109542.04                                           \n",
       "2 114407.76                                           \n",
       "3  74416.95                                           \n",
       "  X92638_208.039_14.764_\"methyl 3-oxo-2-[(3,4,5-trimethoxyphenyl)methylene]benzo[b]furan-5-carboxylate CollisionEnergy:102040\"\n",
       "1 68948.27                                                                                                                    \n",
       "2 44469.50                                                                                                                    \n",
       "3 12208.32                                                                                                                    \n",
       "  X92639_167.013_14.697_NA X92640_193.974_14.62_NA X92641_194.117_14.485_NA\n",
       "1 302706.5                 42332.20                843127.0                \n",
       "2 298204.2                 19698.92                824746.4                \n",
       "3 334345.6                 28667.01                876652.8                \n",
       "  X92647_158.961_14.747_NA X92648_154.99_14.807_NA\n",
       "1 22739.375                 7517.194              \n",
       "2  4960.220                10084.678              \n",
       "3  5619.828                 3481.216              \n",
       "  X92649_226.951_14.813_TRYPTOPHAN\n",
       "1 0                               \n",
       "2 0                               \n",
       "3 0                               \n",
       "  X92651_172.956_14.611_\"6-methoxypurine, oxamethane CollisionEnergy:205060\"\n",
       "1 0                                                                         \n",
       "2 0                                                                         \n",
       "3 0                                                                         "
      ]
     },
     "metadata": {},
     "output_type": "display_data"
    }
   ],
   "source": [
    "head(ft_merged, 3) "
   ]
  },
  {
   "cell_type": "markdown",
   "id": "7afaefbb-7d52-4d4e-a8be-cbeb06120f24",
   "metadata": {},
   "source": [
    "Since all the feature names starts with X, let's extract the features and then convert them to long-format using 'gather' function from tidyr package."
   ]
  },
  {
   "cell_type": "code",
   "execution_count": 19,
   "id": "5e360dc2-44b9-4e9c-8e1e-f9b27c2747da",
   "metadata": {},
   "outputs": [],
   "source": [
    "featureNames <- grep(\"^X\\\\d\", colnames(ft_merged), value = TRUE) # \"^X\\\\d\" pattern in the grep() function finds the strings that start (^) with the letter X, followed by a digit (\\\\d)\n",
    "Feature1 <- featureNames[1] # 1st feature name in the character vector 'featureNames'\n",
    "FeatureN <- featureNames[length(featureNames)] #last feature name in the character vector 'featureNames'"
   ]
  },
  {
   "cell_type": "code",
   "execution_count": 20,
   "id": "30d43be8-c3f7-476f-b0db-65194ceaf21a",
   "metadata": {},
   "outputs": [],
   "source": [
    "data_long <- tidyr::gather(ft_merged, \n",
    "                           Feature, \n",
    "                           Intensities, \n",
    "                           all_of(Feature1):all_of(FeatureN), \n",
    "                           factor_key=TRUE)"
   ]
  },
  {
   "cell_type": "code",
   "execution_count": 21,
   "id": "9c4db0ed-1c3b-4516-a359-b8e1cc3d5608",
   "metadata": {},
   "outputs": [
    {
     "data": {
      "text/html": [
       "<table class=\"dataframe\">\n",
       "<caption>A data.frame: 6 × 17</caption>\n",
       "<thead>\n",
       "\t<tr><th></th><th scope=col></th><th scope=col>filename</th><th scope=col>ATTRIBUTE_Sample.Type</th><th scope=col>ATTRIBUTE_Batch</th><th scope=col>ATTRIBUTE_Month</th><th scope=col>ATTRIBUTE_Year</th><th scope=col>ATTRIBUTE_Sample_Location</th><th scope=col>ATTRIBUTE_Replicate</th><th scope=col>ATTRIBUTE_Spot</th><th scope=col>ATTRIBUTE_Latitude</th><th scope=col>ATTRIBUTE_Longitude</th><th scope=col>ATTRIBUTE_Sample_Area</th><th scope=col>ATTRIBUTE_Spot_Name</th><th scope=col>ATTRIBUTE_time_run</th><th scope=col>ATTRIBUTE_Injection_order</th><th scope=col>Feature</th><th scope=col>Intensities</th></tr>\n",
       "\t<tr><th></th><th scope=col>&lt;int&gt;</th><th scope=col>&lt;chr&gt;</th><th scope=col>&lt;chr&gt;</th><th scope=col>&lt;int&gt;</th><th scope=col>&lt;chr&gt;</th><th scope=col>&lt;int&gt;</th><th scope=col>&lt;int&gt;</th><th scope=col>&lt;chr&gt;</th><th scope=col>&lt;int&gt;</th><th scope=col>&lt;dbl&gt;</th><th scope=col>&lt;dbl&gt;</th><th scope=col>&lt;chr&gt;</th><th scope=col>&lt;chr&gt;</th><th scope=col>&lt;chr&gt;</th><th scope=col>&lt;int&gt;</th><th scope=col>&lt;fct&gt;</th><th scope=col>&lt;dbl&gt;</th></tr>\n",
       "</thead>\n",
       "<tbody>\n",
       "\t<tr><th scope=row>1</th><td>1</td><td>SD_01-2018_1_a.mzXML </td><td>Sample</td><td>2</td><td>Jan</td><td>2018</td><td> 1</td><td>a</td><td> 1</td><td>32.93365</td><td>-117.2648</td><td>Torrey_Pines       </td><td>Lagoon_Outlet  </td><td>16/01/2018 11:36</td><td>65</td><td>X1_391.284_0.3_NA</td><td>0</td></tr>\n",
       "\t<tr><th scope=row>2</th><td>2</td><td>SD_01-2018_1_b.mzXML </td><td>Sample</td><td>2</td><td>Jan</td><td>2018</td><td> 1</td><td>b</td><td> 1</td><td>32.93365</td><td>-117.2648</td><td>Torrey_Pines       </td><td>Lagoon_Outlet  </td><td>16/01/2018 11:52</td><td>66</td><td>X1_391.284_0.3_NA</td><td>0</td></tr>\n",
       "\t<tr><th scope=row>3</th><td>3</td><td>SD_01-2018_10_a.mzXML</td><td>Sample</td><td>2</td><td>Jan</td><td>2018</td><td>10</td><td>a</td><td>10</td><td>32.86261</td><td>-117.2604</td><td>SIO_La_Jolla_Shores</td><td>SIO_South_Pier </td><td>16/01/2018 16:23</td><td>83</td><td>X1_391.284_0.3_NA</td><td>0</td></tr>\n",
       "\t<tr><th scope=row>4</th><td>4</td><td>SD_01-2018_10_b.mzXML</td><td>Sample</td><td>2</td><td>Jan</td><td>2018</td><td>10</td><td>b</td><td>10</td><td>32.86261</td><td>-117.2604</td><td>SIO_La_Jolla_Shores</td><td>SIO_South_Pier </td><td>16/01/2018 16:39</td><td>84</td><td>X1_391.284_0.3_NA</td><td>0</td></tr>\n",
       "\t<tr><th scope=row>5</th><td>5</td><td>SD_01-2018_11_a.mzXML</td><td>Sample</td><td>2</td><td>Jan</td><td>2018</td><td>11</td><td>a</td><td>11</td><td>32.85601</td><td>-117.2625</td><td>SIO_La_Jolla_Shores</td><td>La_Jolla_Shores</td><td>16/01/2018 16:55</td><td>85</td><td>X1_391.284_0.3_NA</td><td>0</td></tr>\n",
       "\t<tr><th scope=row>6</th><td>6</td><td>SD_01-2018_11_b.mzXML</td><td>Sample</td><td>2</td><td>Jan</td><td>2018</td><td>11</td><td>b</td><td>11</td><td>32.85601</td><td>-117.2625</td><td>SIO_La_Jolla_Shores</td><td>La_Jolla_Shores</td><td>16/01/2018 17:10</td><td>86</td><td>X1_391.284_0.3_NA</td><td>0</td></tr>\n",
       "</tbody>\n",
       "</table>\n"
      ],
      "text/latex": [
       "A data.frame: 6 × 17\n",
       "\\begin{tabular}{r|lllllllllllllllll}\n",
       "  &  & filename & ATTRIBUTE\\_Sample.Type & ATTRIBUTE\\_Batch & ATTRIBUTE\\_Month & ATTRIBUTE\\_Year & ATTRIBUTE\\_Sample\\_Location & ATTRIBUTE\\_Replicate & ATTRIBUTE\\_Spot & ATTRIBUTE\\_Latitude & ATTRIBUTE\\_Longitude & ATTRIBUTE\\_Sample\\_Area & ATTRIBUTE\\_Spot\\_Name & ATTRIBUTE\\_time\\_run & ATTRIBUTE\\_Injection\\_order & Feature & Intensities\\\\\n",
       "  & <int> & <chr> & <chr> & <int> & <chr> & <int> & <int> & <chr> & <int> & <dbl> & <dbl> & <chr> & <chr> & <chr> & <int> & <fct> & <dbl>\\\\\n",
       "\\hline\n",
       "\t1 & 1 & SD\\_01-2018\\_1\\_a.mzXML  & Sample & 2 & Jan & 2018 &  1 & a &  1 & 32.93365 & -117.2648 & Torrey\\_Pines        & Lagoon\\_Outlet   & 16/01/2018 11:36 & 65 & X1\\_391.284\\_0.3\\_NA & 0\\\\\n",
       "\t2 & 2 & SD\\_01-2018\\_1\\_b.mzXML  & Sample & 2 & Jan & 2018 &  1 & b &  1 & 32.93365 & -117.2648 & Torrey\\_Pines        & Lagoon\\_Outlet   & 16/01/2018 11:52 & 66 & X1\\_391.284\\_0.3\\_NA & 0\\\\\n",
       "\t3 & 3 & SD\\_01-2018\\_10\\_a.mzXML & Sample & 2 & Jan & 2018 & 10 & a & 10 & 32.86261 & -117.2604 & SIO\\_La\\_Jolla\\_Shores & SIO\\_South\\_Pier  & 16/01/2018 16:23 & 83 & X1\\_391.284\\_0.3\\_NA & 0\\\\\n",
       "\t4 & 4 & SD\\_01-2018\\_10\\_b.mzXML & Sample & 2 & Jan & 2018 & 10 & b & 10 & 32.86261 & -117.2604 & SIO\\_La\\_Jolla\\_Shores & SIO\\_South\\_Pier  & 16/01/2018 16:39 & 84 & X1\\_391.284\\_0.3\\_NA & 0\\\\\n",
       "\t5 & 5 & SD\\_01-2018\\_11\\_a.mzXML & Sample & 2 & Jan & 2018 & 11 & a & 11 & 32.85601 & -117.2625 & SIO\\_La\\_Jolla\\_Shores & La\\_Jolla\\_Shores & 16/01/2018 16:55 & 85 & X1\\_391.284\\_0.3\\_NA & 0\\\\\n",
       "\t6 & 6 & SD\\_01-2018\\_11\\_b.mzXML & Sample & 2 & Jan & 2018 & 11 & b & 11 & 32.85601 & -117.2625 & SIO\\_La\\_Jolla\\_Shores & La\\_Jolla\\_Shores & 16/01/2018 17:10 & 86 & X1\\_391.284\\_0.3\\_NA & 0\\\\\n",
       "\\end{tabular}\n"
      ],
      "text/markdown": [
       "\n",
       "A data.frame: 6 × 17\n",
       "\n",
       "| <!--/--> | <!----> &lt;int&gt; | filename &lt;chr&gt; | ATTRIBUTE_Sample.Type &lt;chr&gt; | ATTRIBUTE_Batch &lt;int&gt; | ATTRIBUTE_Month &lt;chr&gt; | ATTRIBUTE_Year &lt;int&gt; | ATTRIBUTE_Sample_Location &lt;int&gt; | ATTRIBUTE_Replicate &lt;chr&gt; | ATTRIBUTE_Spot &lt;int&gt; | ATTRIBUTE_Latitude &lt;dbl&gt; | ATTRIBUTE_Longitude &lt;dbl&gt; | ATTRIBUTE_Sample_Area &lt;chr&gt; | ATTRIBUTE_Spot_Name &lt;chr&gt; | ATTRIBUTE_time_run &lt;chr&gt; | ATTRIBUTE_Injection_order &lt;int&gt; | Feature &lt;fct&gt; | Intensities &lt;dbl&gt; |\n",
       "|---|---|---|---|---|---|---|---|---|---|---|---|---|---|---|---|---|---|\n",
       "| 1 | 1 | SD_01-2018_1_a.mzXML  | Sample | 2 | Jan | 2018 |  1 | a |  1 | 32.93365 | -117.2648 | Torrey_Pines        | Lagoon_Outlet   | 16/01/2018 11:36 | 65 | X1_391.284_0.3_NA | 0 |\n",
       "| 2 | 2 | SD_01-2018_1_b.mzXML  | Sample | 2 | Jan | 2018 |  1 | b |  1 | 32.93365 | -117.2648 | Torrey_Pines        | Lagoon_Outlet   | 16/01/2018 11:52 | 66 | X1_391.284_0.3_NA | 0 |\n",
       "| 3 | 3 | SD_01-2018_10_a.mzXML | Sample | 2 | Jan | 2018 | 10 | a | 10 | 32.86261 | -117.2604 | SIO_La_Jolla_Shores | SIO_South_Pier  | 16/01/2018 16:23 | 83 | X1_391.284_0.3_NA | 0 |\n",
       "| 4 | 4 | SD_01-2018_10_b.mzXML | Sample | 2 | Jan | 2018 | 10 | b | 10 | 32.86261 | -117.2604 | SIO_La_Jolla_Shores | SIO_South_Pier  | 16/01/2018 16:39 | 84 | X1_391.284_0.3_NA | 0 |\n",
       "| 5 | 5 | SD_01-2018_11_a.mzXML | Sample | 2 | Jan | 2018 | 11 | a | 11 | 32.85601 | -117.2625 | SIO_La_Jolla_Shores | La_Jolla_Shores | 16/01/2018 16:55 | 85 | X1_391.284_0.3_NA | 0 |\n",
       "| 6 | 6 | SD_01-2018_11_b.mzXML | Sample | 2 | Jan | 2018 | 11 | b | 11 | 32.85601 | -117.2625 | SIO_La_Jolla_Shores | La_Jolla_Shores | 16/01/2018 17:10 | 86 | X1_391.284_0.3_NA | 0 |\n",
       "\n"
      ],
      "text/plain": [
       "    filename              ATTRIBUTE_Sample.Type ATTRIBUTE_Batch ATTRIBUTE_Month\n",
       "1 1 SD_01-2018_1_a.mzXML  Sample                2               Jan            \n",
       "2 2 SD_01-2018_1_b.mzXML  Sample                2               Jan            \n",
       "3 3 SD_01-2018_10_a.mzXML Sample                2               Jan            \n",
       "4 4 SD_01-2018_10_b.mzXML Sample                2               Jan            \n",
       "5 5 SD_01-2018_11_a.mzXML Sample                2               Jan            \n",
       "6 6 SD_01-2018_11_b.mzXML Sample                2               Jan            \n",
       "  ATTRIBUTE_Year ATTRIBUTE_Sample_Location ATTRIBUTE_Replicate ATTRIBUTE_Spot\n",
       "1 2018            1                        a                    1            \n",
       "2 2018            1                        b                    1            \n",
       "3 2018           10                        a                   10            \n",
       "4 2018           10                        b                   10            \n",
       "5 2018           11                        a                   11            \n",
       "6 2018           11                        b                   11            \n",
       "  ATTRIBUTE_Latitude ATTRIBUTE_Longitude ATTRIBUTE_Sample_Area\n",
       "1 32.93365           -117.2648           Torrey_Pines         \n",
       "2 32.93365           -117.2648           Torrey_Pines         \n",
       "3 32.86261           -117.2604           SIO_La_Jolla_Shores  \n",
       "4 32.86261           -117.2604           SIO_La_Jolla_Shores  \n",
       "5 32.85601           -117.2625           SIO_La_Jolla_Shores  \n",
       "6 32.85601           -117.2625           SIO_La_Jolla_Shores  \n",
       "  ATTRIBUTE_Spot_Name ATTRIBUTE_time_run ATTRIBUTE_Injection_order\n",
       "1 Lagoon_Outlet       16/01/2018 11:36   65                       \n",
       "2 Lagoon_Outlet       16/01/2018 11:52   66                       \n",
       "3 SIO_South_Pier      16/01/2018 16:23   83                       \n",
       "4 SIO_South_Pier      16/01/2018 16:39   84                       \n",
       "5 La_Jolla_Shores     16/01/2018 16:55   85                       \n",
       "6 La_Jolla_Shores     16/01/2018 17:10   86                       \n",
       "  Feature           Intensities\n",
       "1 X1_391.284_0.3_NA 0          \n",
       "2 X1_391.284_0.3_NA 0          \n",
       "3 X1_391.284_0.3_NA 0          \n",
       "4 X1_391.284_0.3_NA 0          \n",
       "5 X1_391.284_0.3_NA 0          \n",
       "6 X1_391.284_0.3_NA 0          "
      ]
     },
     "metadata": {},
     "output_type": "display_data"
    },
    {
     "data": {
      "text/html": [
       "<style>\n",
       ".list-inline {list-style: none; margin:0; padding: 0}\n",
       ".list-inline>li {display: inline-block}\n",
       ".list-inline>li:not(:last-child)::after {content: \"\\00b7\"; padding: 0 .5ex}\n",
       "</style>\n",
       "<ol class=list-inline><li>2086362</li><li>17</li></ol>\n"
      ],
      "text/latex": [
       "\\begin{enumerate*}\n",
       "\\item 2086362\n",
       "\\item 17\n",
       "\\end{enumerate*}\n"
      ],
      "text/markdown": [
       "1. 2086362\n",
       "2. 17\n",
       "\n",
       "\n"
      ],
      "text/plain": [
       "[1] 2086362      17"
      ]
     },
     "metadata": {},
     "output_type": "display_data"
    }
   ],
   "source": [
    "head(data_long)\n",
    "dim(data_long)"
   ]
  },
  {
   "cell_type": "code",
   "execution_count": 22,
   "id": "6c372188-05c3-4a2c-9dc5-9feed97ed3e5",
   "metadata": {},
   "outputs": [],
   "source": [
    "data_long <- data_long[,-1] #removing the 1st column"
   ]
  },
  {
   "cell_type": "markdown",
   "id": "8bb22e4b-d185-4393-a547-49d6913f08fd",
   "metadata": {},
   "source": [
    "The within-batch (intra-batch) correction has to be performed batchwise."
   ]
  },
  {
   "cell_type": "code",
   "execution_count": 23,
   "id": "ad4b38db-9723-43a0-a058-44b66b8d3049",
   "metadata": {},
   "outputs": [
    {
     "data": {
      "text/html": [
       "<style>\n",
       ".list-inline {list-style: none; margin:0; padding: 0}\n",
       ".list-inline>li {display: inline-block}\n",
       ".list-inline>li:not(:last-child)::after {content: \"\\00b7\"; padding: 0 .5ex}\n",
       "</style>\n",
       "<ol class=list-inline><li>2</li><li>3</li><li>1</li></ol>\n"
      ],
      "text/latex": [
       "\\begin{enumerate*}\n",
       "\\item 2\n",
       "\\item 3\n",
       "\\item 1\n",
       "\\end{enumerate*}\n"
      ],
      "text/markdown": [
       "1. 2\n",
       "2. 3\n",
       "3. 1\n",
       "\n",
       "\n"
      ],
      "text/plain": [
       "[1] 2 3 1"
      ]
     },
     "metadata": {},
     "output_type": "display_data"
    }
   ],
   "source": [
    "unique(data_long$ATTRIBUTE_Batch) #gets the unique levels in 'ATTRIBUTE_Batch'"
   ]
  },
  {
   "cell_type": "markdown",
   "id": "ddaa284a-b07d-44a7-be3e-a58f75a9c0e3",
   "metadata": {},
   "source": [
    "### Splitting the long-format data batch-wise\n",
    "<a name=\"split_batch\"></a>"
   ]
  },
  {
   "cell_type": "code",
   "execution_count": 24,
   "id": "511d3be9-e52a-4e68-a2e3-8d199a1c7e9d",
   "metadata": {},
   "outputs": [],
   "source": [
    "data_long_1 <- data_long[data_long$ATTRIBUTE_Batch==1,,drop=F]\n",
    "data_long_2 <- data_long[data_long$ATTRIBUTE_Batch==2,,drop=F]\n",
    "data_long_3 <- data_long[data_long$ATTRIBUTE_Batch==3,,drop=F]"
   ]
  },
  {
   "cell_type": "markdown",
   "id": "9c755a5f-c680-4c04-9389-e1327328ab71",
   "metadata": {},
   "source": [
    "For instance, Let's have a look at only the 1st batch dataframe 'data_long_1'. "
   ]
  },
  {
   "cell_type": "code",
   "execution_count": 58,
   "id": "9d1ecfc3-77c5-40b0-a713-94519a30440e",
   "metadata": {},
   "outputs": [
    {
     "data": {
      "text/html": [
       "<table class=\"dataframe\">\n",
       "<caption>A data.frame: 6 × 16</caption>\n",
       "<thead>\n",
       "\t<tr><th></th><th scope=col>filename</th><th scope=col>ATTRIBUTE_Sample.Type</th><th scope=col>ATTRIBUTE_Batch</th><th scope=col>ATTRIBUTE_Month</th><th scope=col>ATTRIBUTE_Year</th><th scope=col>ATTRIBUTE_Sample_Location</th><th scope=col>ATTRIBUTE_Replicate</th><th scope=col>ATTRIBUTE_Spot</th><th scope=col>ATTRIBUTE_Latitude</th><th scope=col>ATTRIBUTE_Longitude</th><th scope=col>ATTRIBUTE_Sample_Area</th><th scope=col>ATTRIBUTE_Spot_Name</th><th scope=col>ATTRIBUTE_time_run</th><th scope=col>ATTRIBUTE_Injection_order</th><th scope=col>Feature</th><th scope=col>Intensities</th></tr>\n",
       "\t<tr><th></th><th scope=col>&lt;chr&gt;</th><th scope=col>&lt;chr&gt;</th><th scope=col>&lt;int&gt;</th><th scope=col>&lt;chr&gt;</th><th scope=col>&lt;int&gt;</th><th scope=col>&lt;int&gt;</th><th scope=col>&lt;chr&gt;</th><th scope=col>&lt;int&gt;</th><th scope=col>&lt;dbl&gt;</th><th scope=col>&lt;dbl&gt;</th><th scope=col>&lt;chr&gt;</th><th scope=col>&lt;chr&gt;</th><th scope=col>&lt;chr&gt;</th><th scope=col>&lt;int&gt;</th><th scope=col>&lt;fct&gt;</th><th scope=col>&lt;dbl&gt;</th></tr>\n",
       "</thead>\n",
       "<tbody>\n",
       "\t<tr><th scope=row>125</th><td>SD_12-2017_1_a.mzXML </td><td>Sample</td><td>1</td><td>Dec</td><td>2017</td><td> 1</td><td>a</td><td> 1</td><td>32.93365</td><td>-117.2648</td><td>Torrey_Pines       </td><td>Lagoon_Outlet  </td><td>11/12/2017 12:44</td><td> 3</td><td>X1_391.284_0.3_NA</td><td>0</td></tr>\n",
       "\t<tr><th scope=row>126</th><td>SD_12-2017_1_b.mzXML </td><td>Sample</td><td>1</td><td>Dec</td><td>2017</td><td> 1</td><td>b</td><td> 1</td><td>32.93365</td><td>-117.2648</td><td>Torrey_Pines       </td><td>Lagoon_Outlet  </td><td>11/12/2017 13:00</td><td> 4</td><td>X1_391.284_0.3_NA</td><td>0</td></tr>\n",
       "\t<tr><th scope=row>127</th><td>SD_12-2017_10_a.mzXML</td><td>Sample</td><td>1</td><td>Dec</td><td>2017</td><td>10</td><td>a</td><td>10</td><td>32.86261</td><td>-117.2604</td><td>SIO_La_Jolla_Shores</td><td>SIO_South_Pier </td><td>11/12/2017 17:31</td><td>21</td><td>X1_391.284_0.3_NA</td><td>0</td></tr>\n",
       "\t<tr><th scope=row>128</th><td>SD_12-2017_10_b.mzXML</td><td>Sample</td><td>1</td><td>Dec</td><td>2017</td><td>10</td><td>b</td><td>10</td><td>32.86261</td><td>-117.2604</td><td>SIO_La_Jolla_Shores</td><td>SIO_South_Pier </td><td>11/12/2017 17:46</td><td>22</td><td>X1_391.284_0.3_NA</td><td>0</td></tr>\n",
       "\t<tr><th scope=row>129</th><td>SD_12-2017_11_a.mzXML</td><td>Sample</td><td>1</td><td>Dec</td><td>2017</td><td>11</td><td>a</td><td>11</td><td>32.85601</td><td>-117.2625</td><td>SIO_La_Jolla_Shores</td><td>La_Jolla_Shores</td><td>11/12/2017 18:02</td><td>23</td><td>X1_391.284_0.3_NA</td><td>0</td></tr>\n",
       "\t<tr><th scope=row>130</th><td>SD_12-2017_11_b.mzXML</td><td>Sample</td><td>1</td><td>Dec</td><td>2017</td><td>11</td><td>b</td><td>11</td><td>32.85601</td><td>-117.2625</td><td>SIO_La_Jolla_Shores</td><td>La_Jolla_Shores</td><td>11/12/2017 18:18</td><td>24</td><td>X1_391.284_0.3_NA</td><td>0</td></tr>\n",
       "</tbody>\n",
       "</table>\n"
      ],
      "text/latex": [
       "A data.frame: 6 × 16\n",
       "\\begin{tabular}{r|llllllllllllllll}\n",
       "  & filename & ATTRIBUTE\\_Sample.Type & ATTRIBUTE\\_Batch & ATTRIBUTE\\_Month & ATTRIBUTE\\_Year & ATTRIBUTE\\_Sample\\_Location & ATTRIBUTE\\_Replicate & ATTRIBUTE\\_Spot & ATTRIBUTE\\_Latitude & ATTRIBUTE\\_Longitude & ATTRIBUTE\\_Sample\\_Area & ATTRIBUTE\\_Spot\\_Name & ATTRIBUTE\\_time\\_run & ATTRIBUTE\\_Injection\\_order & Feature & Intensities\\\\\n",
       "  & <chr> & <chr> & <int> & <chr> & <int> & <int> & <chr> & <int> & <dbl> & <dbl> & <chr> & <chr> & <chr> & <int> & <fct> & <dbl>\\\\\n",
       "\\hline\n",
       "\t125 & SD\\_12-2017\\_1\\_a.mzXML  & Sample & 1 & Dec & 2017 &  1 & a &  1 & 32.93365 & -117.2648 & Torrey\\_Pines        & Lagoon\\_Outlet   & 11/12/2017 12:44 &  3 & X1\\_391.284\\_0.3\\_NA & 0\\\\\n",
       "\t126 & SD\\_12-2017\\_1\\_b.mzXML  & Sample & 1 & Dec & 2017 &  1 & b &  1 & 32.93365 & -117.2648 & Torrey\\_Pines        & Lagoon\\_Outlet   & 11/12/2017 13:00 &  4 & X1\\_391.284\\_0.3\\_NA & 0\\\\\n",
       "\t127 & SD\\_12-2017\\_10\\_a.mzXML & Sample & 1 & Dec & 2017 & 10 & a & 10 & 32.86261 & -117.2604 & SIO\\_La\\_Jolla\\_Shores & SIO\\_South\\_Pier  & 11/12/2017 17:31 & 21 & X1\\_391.284\\_0.3\\_NA & 0\\\\\n",
       "\t128 & SD\\_12-2017\\_10\\_b.mzXML & Sample & 1 & Dec & 2017 & 10 & b & 10 & 32.86261 & -117.2604 & SIO\\_La\\_Jolla\\_Shores & SIO\\_South\\_Pier  & 11/12/2017 17:46 & 22 & X1\\_391.284\\_0.3\\_NA & 0\\\\\n",
       "\t129 & SD\\_12-2017\\_11\\_a.mzXML & Sample & 1 & Dec & 2017 & 11 & a & 11 & 32.85601 & -117.2625 & SIO\\_La\\_Jolla\\_Shores & La\\_Jolla\\_Shores & 11/12/2017 18:02 & 23 & X1\\_391.284\\_0.3\\_NA & 0\\\\\n",
       "\t130 & SD\\_12-2017\\_11\\_b.mzXML & Sample & 1 & Dec & 2017 & 11 & b & 11 & 32.85601 & -117.2625 & SIO\\_La\\_Jolla\\_Shores & La\\_Jolla\\_Shores & 11/12/2017 18:18 & 24 & X1\\_391.284\\_0.3\\_NA & 0\\\\\n",
       "\\end{tabular}\n"
      ],
      "text/markdown": [
       "\n",
       "A data.frame: 6 × 16\n",
       "\n",
       "| <!--/--> | filename &lt;chr&gt; | ATTRIBUTE_Sample.Type &lt;chr&gt; | ATTRIBUTE_Batch &lt;int&gt; | ATTRIBUTE_Month &lt;chr&gt; | ATTRIBUTE_Year &lt;int&gt; | ATTRIBUTE_Sample_Location &lt;int&gt; | ATTRIBUTE_Replicate &lt;chr&gt; | ATTRIBUTE_Spot &lt;int&gt; | ATTRIBUTE_Latitude &lt;dbl&gt; | ATTRIBUTE_Longitude &lt;dbl&gt; | ATTRIBUTE_Sample_Area &lt;chr&gt; | ATTRIBUTE_Spot_Name &lt;chr&gt; | ATTRIBUTE_time_run &lt;chr&gt; | ATTRIBUTE_Injection_order &lt;int&gt; | Feature &lt;fct&gt; | Intensities &lt;dbl&gt; |\n",
       "|---|---|---|---|---|---|---|---|---|---|---|---|---|---|---|---|---|\n",
       "| 125 | SD_12-2017_1_a.mzXML  | Sample | 1 | Dec | 2017 |  1 | a |  1 | 32.93365 | -117.2648 | Torrey_Pines        | Lagoon_Outlet   | 11/12/2017 12:44 |  3 | X1_391.284_0.3_NA | 0 |\n",
       "| 126 | SD_12-2017_1_b.mzXML  | Sample | 1 | Dec | 2017 |  1 | b |  1 | 32.93365 | -117.2648 | Torrey_Pines        | Lagoon_Outlet   | 11/12/2017 13:00 |  4 | X1_391.284_0.3_NA | 0 |\n",
       "| 127 | SD_12-2017_10_a.mzXML | Sample | 1 | Dec | 2017 | 10 | a | 10 | 32.86261 | -117.2604 | SIO_La_Jolla_Shores | SIO_South_Pier  | 11/12/2017 17:31 | 21 | X1_391.284_0.3_NA | 0 |\n",
       "| 128 | SD_12-2017_10_b.mzXML | Sample | 1 | Dec | 2017 | 10 | b | 10 | 32.86261 | -117.2604 | SIO_La_Jolla_Shores | SIO_South_Pier  | 11/12/2017 17:46 | 22 | X1_391.284_0.3_NA | 0 |\n",
       "| 129 | SD_12-2017_11_a.mzXML | Sample | 1 | Dec | 2017 | 11 | a | 11 | 32.85601 | -117.2625 | SIO_La_Jolla_Shores | La_Jolla_Shores | 11/12/2017 18:02 | 23 | X1_391.284_0.3_NA | 0 |\n",
       "| 130 | SD_12-2017_11_b.mzXML | Sample | 1 | Dec | 2017 | 11 | b | 11 | 32.85601 | -117.2625 | SIO_La_Jolla_Shores | La_Jolla_Shores | 11/12/2017 18:18 | 24 | X1_391.284_0.3_NA | 0 |\n",
       "\n"
      ],
      "text/plain": [
       "    filename              ATTRIBUTE_Sample.Type ATTRIBUTE_Batch ATTRIBUTE_Month\n",
       "125 SD_12-2017_1_a.mzXML  Sample                1               Dec            \n",
       "126 SD_12-2017_1_b.mzXML  Sample                1               Dec            \n",
       "127 SD_12-2017_10_a.mzXML Sample                1               Dec            \n",
       "128 SD_12-2017_10_b.mzXML Sample                1               Dec            \n",
       "129 SD_12-2017_11_a.mzXML Sample                1               Dec            \n",
       "130 SD_12-2017_11_b.mzXML Sample                1               Dec            \n",
       "    ATTRIBUTE_Year ATTRIBUTE_Sample_Location ATTRIBUTE_Replicate ATTRIBUTE_Spot\n",
       "125 2017            1                        a                    1            \n",
       "126 2017            1                        b                    1            \n",
       "127 2017           10                        a                   10            \n",
       "128 2017           10                        b                   10            \n",
       "129 2017           11                        a                   11            \n",
       "130 2017           11                        b                   11            \n",
       "    ATTRIBUTE_Latitude ATTRIBUTE_Longitude ATTRIBUTE_Sample_Area\n",
       "125 32.93365           -117.2648           Torrey_Pines         \n",
       "126 32.93365           -117.2648           Torrey_Pines         \n",
       "127 32.86261           -117.2604           SIO_La_Jolla_Shores  \n",
       "128 32.86261           -117.2604           SIO_La_Jolla_Shores  \n",
       "129 32.85601           -117.2625           SIO_La_Jolla_Shores  \n",
       "130 32.85601           -117.2625           SIO_La_Jolla_Shores  \n",
       "    ATTRIBUTE_Spot_Name ATTRIBUTE_time_run ATTRIBUTE_Injection_order\n",
       "125 Lagoon_Outlet       11/12/2017 12:44    3                       \n",
       "126 Lagoon_Outlet       11/12/2017 13:00    4                       \n",
       "127 SIO_South_Pier      11/12/2017 17:31   21                       \n",
       "128 SIO_South_Pier      11/12/2017 17:46   22                       \n",
       "129 La_Jolla_Shores     11/12/2017 18:02   23                       \n",
       "130 La_Jolla_Shores     11/12/2017 18:18   24                       \n",
       "    Feature           Intensities\n",
       "125 X1_391.284_0.3_NA 0          \n",
       "126 X1_391.284_0.3_NA 0          \n",
       "127 X1_391.284_0.3_NA 0          \n",
       "128 X1_391.284_0.3_NA 0          \n",
       "129 X1_391.284_0.3_NA 0          \n",
       "130 X1_391.284_0.3_NA 0          "
      ]
     },
     "metadata": {},
     "output_type": "display_data"
    },
    {
     "data": {
      "text/html": [
       "<style>\n",
       ".list-inline {list-style: none; margin:0; padding: 0}\n",
       ".list-inline>li {display: inline-block}\n",
       ".list-inline>li:not(:last-child)::after {content: \"\\00b7\"; padding: 0 .5ex}\n",
       "</style>\n",
       "<ol class=list-inline><li>695454</li><li>16</li></ol>\n"
      ],
      "text/latex": [
       "\\begin{enumerate*}\n",
       "\\item 695454\n",
       "\\item 16\n",
       "\\end{enumerate*}\n"
      ],
      "text/markdown": [
       "1. 695454\n",
       "2. 16\n",
       "\n",
       "\n"
      ],
      "text/plain": [
       "[1] 695454     16"
      ]
     },
     "metadata": {},
     "output_type": "display_data"
    }
   ],
   "source": [
    "#inspecting just the 1st batch data\n",
    "head(data_long_1)\n",
    "dim(data_long_1)"
   ]
  },
  {
   "cell_type": "markdown",
   "id": "75c96c7a-8eb8-435e-a57b-32e4e715e9d7",
   "metadata": {},
   "source": [
    "As shown in the above header of 'data_long_1' dataframe, the column 'Feature' contains the feature information as 'Unique Library ID with X prefix_m/z value_Retention time_ Annotated compund name'. In the next step, we will separate this information into separate columns"
   ]
  },
  {
   "cell_type": "code",
   "execution_count": 59,
   "id": "2ac9996a-bda0-4744-a59f-1c761c44b65b",
   "metadata": {},
   "outputs": [],
   "source": [
    "data_long_1_new <- separate(data_long_1,\n",
    "                            Feature, \n",
    "                            c('FeatureID', 'mz','RT','Compound_Name'),\n",
    "                            sep = \"_\",\n",
    "                            extra = \"merge\",\n",
    "                            remove = FALSE)"
   ]
  },
  {
   "cell_type": "code",
   "execution_count": 60,
   "id": "10920885-0200-4bed-ad31-793c53be8bae",
   "metadata": {},
   "outputs": [
    {
     "data": {
      "text/html": [
       "<table class=\"dataframe\">\n",
       "<caption>A data.frame: 3 × 20</caption>\n",
       "<thead>\n",
       "\t<tr><th></th><th scope=col>filename</th><th scope=col>ATTRIBUTE_Sample.Type</th><th scope=col>ATTRIBUTE_Batch</th><th scope=col>ATTRIBUTE_Month</th><th scope=col>ATTRIBUTE_Year</th><th scope=col>ATTRIBUTE_Sample_Location</th><th scope=col>ATTRIBUTE_Replicate</th><th scope=col>ATTRIBUTE_Spot</th><th scope=col>ATTRIBUTE_Latitude</th><th scope=col>ATTRIBUTE_Longitude</th><th scope=col>ATTRIBUTE_Sample_Area</th><th scope=col>ATTRIBUTE_Spot_Name</th><th scope=col>ATTRIBUTE_time_run</th><th scope=col>ATTRIBUTE_Injection_order</th><th scope=col>Feature</th><th scope=col>FeatureID</th><th scope=col>mz</th><th scope=col>RT</th><th scope=col>Compound_Name</th><th scope=col>Intensities</th></tr>\n",
       "\t<tr><th></th><th scope=col>&lt;chr&gt;</th><th scope=col>&lt;chr&gt;</th><th scope=col>&lt;int&gt;</th><th scope=col>&lt;chr&gt;</th><th scope=col>&lt;int&gt;</th><th scope=col>&lt;int&gt;</th><th scope=col>&lt;chr&gt;</th><th scope=col>&lt;int&gt;</th><th scope=col>&lt;dbl&gt;</th><th scope=col>&lt;dbl&gt;</th><th scope=col>&lt;chr&gt;</th><th scope=col>&lt;chr&gt;</th><th scope=col>&lt;chr&gt;</th><th scope=col>&lt;int&gt;</th><th scope=col>&lt;fct&gt;</th><th scope=col>&lt;chr&gt;</th><th scope=col>&lt;chr&gt;</th><th scope=col>&lt;chr&gt;</th><th scope=col>&lt;chr&gt;</th><th scope=col>&lt;dbl&gt;</th></tr>\n",
       "</thead>\n",
       "<tbody>\n",
       "\t<tr><th scope=row>125</th><td>SD_12-2017_1_a.mzXML </td><td>Sample</td><td>1</td><td>Dec</td><td>2017</td><td> 1</td><td>a</td><td> 1</td><td>32.93365</td><td>-117.2648</td><td>Torrey_Pines       </td><td>Lagoon_Outlet </td><td>11/12/2017 12:44</td><td> 3</td><td>X1_391.284_0.3_NA</td><td>X1</td><td>391.284</td><td>0.3</td><td>NA</td><td>0</td></tr>\n",
       "\t<tr><th scope=row>126</th><td>SD_12-2017_1_b.mzXML </td><td>Sample</td><td>1</td><td>Dec</td><td>2017</td><td> 1</td><td>b</td><td> 1</td><td>32.93365</td><td>-117.2648</td><td>Torrey_Pines       </td><td>Lagoon_Outlet </td><td>11/12/2017 13:00</td><td> 4</td><td>X1_391.284_0.3_NA</td><td>X1</td><td>391.284</td><td>0.3</td><td>NA</td><td>0</td></tr>\n",
       "\t<tr><th scope=row>127</th><td>SD_12-2017_10_a.mzXML</td><td>Sample</td><td>1</td><td>Dec</td><td>2017</td><td>10</td><td>a</td><td>10</td><td>32.86261</td><td>-117.2604</td><td>SIO_La_Jolla_Shores</td><td>SIO_South_Pier</td><td>11/12/2017 17:31</td><td>21</td><td>X1_391.284_0.3_NA</td><td>X1</td><td>391.284</td><td>0.3</td><td>NA</td><td>0</td></tr>\n",
       "</tbody>\n",
       "</table>\n"
      ],
      "text/latex": [
       "A data.frame: 3 × 20\n",
       "\\begin{tabular}{r|llllllllllllllllllll}\n",
       "  & filename & ATTRIBUTE\\_Sample.Type & ATTRIBUTE\\_Batch & ATTRIBUTE\\_Month & ATTRIBUTE\\_Year & ATTRIBUTE\\_Sample\\_Location & ATTRIBUTE\\_Replicate & ATTRIBUTE\\_Spot & ATTRIBUTE\\_Latitude & ATTRIBUTE\\_Longitude & ATTRIBUTE\\_Sample\\_Area & ATTRIBUTE\\_Spot\\_Name & ATTRIBUTE\\_time\\_run & ATTRIBUTE\\_Injection\\_order & Feature & FeatureID & mz & RT & Compound\\_Name & Intensities\\\\\n",
       "  & <chr> & <chr> & <int> & <chr> & <int> & <int> & <chr> & <int> & <dbl> & <dbl> & <chr> & <chr> & <chr> & <int> & <fct> & <chr> & <chr> & <chr> & <chr> & <dbl>\\\\\n",
       "\\hline\n",
       "\t125 & SD\\_12-2017\\_1\\_a.mzXML  & Sample & 1 & Dec & 2017 &  1 & a &  1 & 32.93365 & -117.2648 & Torrey\\_Pines        & Lagoon\\_Outlet  & 11/12/2017 12:44 &  3 & X1\\_391.284\\_0.3\\_NA & X1 & 391.284 & 0.3 & NA & 0\\\\\n",
       "\t126 & SD\\_12-2017\\_1\\_b.mzXML  & Sample & 1 & Dec & 2017 &  1 & b &  1 & 32.93365 & -117.2648 & Torrey\\_Pines        & Lagoon\\_Outlet  & 11/12/2017 13:00 &  4 & X1\\_391.284\\_0.3\\_NA & X1 & 391.284 & 0.3 & NA & 0\\\\\n",
       "\t127 & SD\\_12-2017\\_10\\_a.mzXML & Sample & 1 & Dec & 2017 & 10 & a & 10 & 32.86261 & -117.2604 & SIO\\_La\\_Jolla\\_Shores & SIO\\_South\\_Pier & 11/12/2017 17:31 & 21 & X1\\_391.284\\_0.3\\_NA & X1 & 391.284 & 0.3 & NA & 0\\\\\n",
       "\\end{tabular}\n"
      ],
      "text/markdown": [
       "\n",
       "A data.frame: 3 × 20\n",
       "\n",
       "| <!--/--> | filename &lt;chr&gt; | ATTRIBUTE_Sample.Type &lt;chr&gt; | ATTRIBUTE_Batch &lt;int&gt; | ATTRIBUTE_Month &lt;chr&gt; | ATTRIBUTE_Year &lt;int&gt; | ATTRIBUTE_Sample_Location &lt;int&gt; | ATTRIBUTE_Replicate &lt;chr&gt; | ATTRIBUTE_Spot &lt;int&gt; | ATTRIBUTE_Latitude &lt;dbl&gt; | ATTRIBUTE_Longitude &lt;dbl&gt; | ATTRIBUTE_Sample_Area &lt;chr&gt; | ATTRIBUTE_Spot_Name &lt;chr&gt; | ATTRIBUTE_time_run &lt;chr&gt; | ATTRIBUTE_Injection_order &lt;int&gt; | Feature &lt;fct&gt; | FeatureID &lt;chr&gt; | mz &lt;chr&gt; | RT &lt;chr&gt; | Compound_Name &lt;chr&gt; | Intensities &lt;dbl&gt; |\n",
       "|---|---|---|---|---|---|---|---|---|---|---|---|---|---|---|---|---|---|---|---|---|\n",
       "| 125 | SD_12-2017_1_a.mzXML  | Sample | 1 | Dec | 2017 |  1 | a |  1 | 32.93365 | -117.2648 | Torrey_Pines        | Lagoon_Outlet  | 11/12/2017 12:44 |  3 | X1_391.284_0.3_NA | X1 | 391.284 | 0.3 | NA | 0 |\n",
       "| 126 | SD_12-2017_1_b.mzXML  | Sample | 1 | Dec | 2017 |  1 | b |  1 | 32.93365 | -117.2648 | Torrey_Pines        | Lagoon_Outlet  | 11/12/2017 13:00 |  4 | X1_391.284_0.3_NA | X1 | 391.284 | 0.3 | NA | 0 |\n",
       "| 127 | SD_12-2017_10_a.mzXML | Sample | 1 | Dec | 2017 | 10 | a | 10 | 32.86261 | -117.2604 | SIO_La_Jolla_Shores | SIO_South_Pier | 11/12/2017 17:31 | 21 | X1_391.284_0.3_NA | X1 | 391.284 | 0.3 | NA | 0 |\n",
       "\n"
      ],
      "text/plain": [
       "    filename              ATTRIBUTE_Sample.Type ATTRIBUTE_Batch ATTRIBUTE_Month\n",
       "125 SD_12-2017_1_a.mzXML  Sample                1               Dec            \n",
       "126 SD_12-2017_1_b.mzXML  Sample                1               Dec            \n",
       "127 SD_12-2017_10_a.mzXML Sample                1               Dec            \n",
       "    ATTRIBUTE_Year ATTRIBUTE_Sample_Location ATTRIBUTE_Replicate ATTRIBUTE_Spot\n",
       "125 2017            1                        a                    1            \n",
       "126 2017            1                        b                    1            \n",
       "127 2017           10                        a                   10            \n",
       "    ATTRIBUTE_Latitude ATTRIBUTE_Longitude ATTRIBUTE_Sample_Area\n",
       "125 32.93365           -117.2648           Torrey_Pines         \n",
       "126 32.93365           -117.2648           Torrey_Pines         \n",
       "127 32.86261           -117.2604           SIO_La_Jolla_Shores  \n",
       "    ATTRIBUTE_Spot_Name ATTRIBUTE_time_run ATTRIBUTE_Injection_order\n",
       "125 Lagoon_Outlet       11/12/2017 12:44    3                       \n",
       "126 Lagoon_Outlet       11/12/2017 13:00    4                       \n",
       "127 SIO_South_Pier      11/12/2017 17:31   21                       \n",
       "    Feature           FeatureID mz      RT  Compound_Name Intensities\n",
       "125 X1_391.284_0.3_NA X1        391.284 0.3 NA            0          \n",
       "126 X1_391.284_0.3_NA X1        391.284 0.3 NA            0          \n",
       "127 X1_391.284_0.3_NA X1        391.284 0.3 NA            0          "
      ]
     },
     "metadata": {},
     "output_type": "display_data"
    }
   ],
   "source": [
    "head(data_long_1_new, 3)"
   ]
  },
  {
   "cell_type": "code",
   "execution_count": 61,
   "id": "0b0e492d-a3dc-4bce-8532-1bc39b947952",
   "metadata": {},
   "outputs": [],
   "source": [
    "#converting mz and RT into numeric types\n",
    "data_long_1_new$mz <- as.numeric(data_long_1_new$mz)\n",
    "data_long_1_new$RT <- as.numeric(data_long_1_new$RT)"
   ]
  },
  {
   "cell_type": "code",
   "execution_count": 62,
   "id": "05fcfc1c-36cf-4443-8be6-0d71c4372dc5",
   "metadata": {},
   "outputs": [],
   "source": [
    "data_long_1_new$FeatureID <- sub('^X', '', data_long_1_new$FeatureID) # remove the X prefix to the Feature ID\n",
    "data_long_1_new$FeatureID <- as.numeric(data_long_1_new$FeatureID)"
   ]
  },
  {
   "cell_type": "code",
   "execution_count": 63,
   "id": "d505c03d-895f-41f1-853e-d996dba82e1d",
   "metadata": {},
   "outputs": [],
   "source": [
    "data_long_1_new <- arrange(data_long_1_new, FeatureID) #arranging the rows of 'data_long_new_1' dataframe in the ascending order of 'FeatureID'"
   ]
  },
  {
   "cell_type": "code",
   "execution_count": 64,
   "id": "e7d12b3b-9b97-4712-9063-3762170a7a1a",
   "metadata": {},
   "outputs": [
    {
     "data": {
      "text/html": [
       "<table class=\"dataframe\">\n",
       "<caption>A data.frame: 3 × 20</caption>\n",
       "<thead>\n",
       "\t<tr><th></th><th scope=col>filename</th><th scope=col>ATTRIBUTE_Sample.Type</th><th scope=col>ATTRIBUTE_Batch</th><th scope=col>ATTRIBUTE_Month</th><th scope=col>ATTRIBUTE_Year</th><th scope=col>ATTRIBUTE_Sample_Location</th><th scope=col>ATTRIBUTE_Replicate</th><th scope=col>ATTRIBUTE_Spot</th><th scope=col>ATTRIBUTE_Latitude</th><th scope=col>ATTRIBUTE_Longitude</th><th scope=col>ATTRIBUTE_Sample_Area</th><th scope=col>ATTRIBUTE_Spot_Name</th><th scope=col>ATTRIBUTE_time_run</th><th scope=col>ATTRIBUTE_Injection_order</th><th scope=col>Feature</th><th scope=col>FeatureID</th><th scope=col>mz</th><th scope=col>RT</th><th scope=col>Compound_Name</th><th scope=col>Intensities</th></tr>\n",
       "\t<tr><th></th><th scope=col>&lt;chr&gt;</th><th scope=col>&lt;chr&gt;</th><th scope=col>&lt;int&gt;</th><th scope=col>&lt;chr&gt;</th><th scope=col>&lt;int&gt;</th><th scope=col>&lt;int&gt;</th><th scope=col>&lt;chr&gt;</th><th scope=col>&lt;int&gt;</th><th scope=col>&lt;dbl&gt;</th><th scope=col>&lt;dbl&gt;</th><th scope=col>&lt;chr&gt;</th><th scope=col>&lt;chr&gt;</th><th scope=col>&lt;chr&gt;</th><th scope=col>&lt;int&gt;</th><th scope=col>&lt;fct&gt;</th><th scope=col>&lt;dbl&gt;</th><th scope=col>&lt;dbl&gt;</th><th scope=col>&lt;dbl&gt;</th><th scope=col>&lt;chr&gt;</th><th scope=col>&lt;dbl&gt;</th></tr>\n",
       "</thead>\n",
       "<tbody>\n",
       "\t<tr><th scope=row>1</th><td>SD_12-2017_1_a.mzXML </td><td>Sample</td><td>1</td><td>Dec</td><td>2017</td><td> 1</td><td>a</td><td> 1</td><td>32.93365</td><td>-117.2648</td><td>Torrey_Pines       </td><td>Lagoon_Outlet </td><td>11/12/2017 12:44</td><td> 3</td><td>X1_391.284_0.3_NA</td><td>1</td><td>391.284</td><td>0.3</td><td>NA</td><td>0</td></tr>\n",
       "\t<tr><th scope=row>2</th><td>SD_12-2017_1_b.mzXML </td><td>Sample</td><td>1</td><td>Dec</td><td>2017</td><td> 1</td><td>b</td><td> 1</td><td>32.93365</td><td>-117.2648</td><td>Torrey_Pines       </td><td>Lagoon_Outlet </td><td>11/12/2017 13:00</td><td> 4</td><td>X1_391.284_0.3_NA</td><td>1</td><td>391.284</td><td>0.3</td><td>NA</td><td>0</td></tr>\n",
       "\t<tr><th scope=row>3</th><td>SD_12-2017_10_a.mzXML</td><td>Sample</td><td>1</td><td>Dec</td><td>2017</td><td>10</td><td>a</td><td>10</td><td>32.86261</td><td>-117.2604</td><td>SIO_La_Jolla_Shores</td><td>SIO_South_Pier</td><td>11/12/2017 17:31</td><td>21</td><td>X1_391.284_0.3_NA</td><td>1</td><td>391.284</td><td>0.3</td><td>NA</td><td>0</td></tr>\n",
       "</tbody>\n",
       "</table>\n"
      ],
      "text/latex": [
       "A data.frame: 3 × 20\n",
       "\\begin{tabular}{r|llllllllllllllllllll}\n",
       "  & filename & ATTRIBUTE\\_Sample.Type & ATTRIBUTE\\_Batch & ATTRIBUTE\\_Month & ATTRIBUTE\\_Year & ATTRIBUTE\\_Sample\\_Location & ATTRIBUTE\\_Replicate & ATTRIBUTE\\_Spot & ATTRIBUTE\\_Latitude & ATTRIBUTE\\_Longitude & ATTRIBUTE\\_Sample\\_Area & ATTRIBUTE\\_Spot\\_Name & ATTRIBUTE\\_time\\_run & ATTRIBUTE\\_Injection\\_order & Feature & FeatureID & mz & RT & Compound\\_Name & Intensities\\\\\n",
       "  & <chr> & <chr> & <int> & <chr> & <int> & <int> & <chr> & <int> & <dbl> & <dbl> & <chr> & <chr> & <chr> & <int> & <fct> & <dbl> & <dbl> & <dbl> & <chr> & <dbl>\\\\\n",
       "\\hline\n",
       "\t1 & SD\\_12-2017\\_1\\_a.mzXML  & Sample & 1 & Dec & 2017 &  1 & a &  1 & 32.93365 & -117.2648 & Torrey\\_Pines        & Lagoon\\_Outlet  & 11/12/2017 12:44 &  3 & X1\\_391.284\\_0.3\\_NA & 1 & 391.284 & 0.3 & NA & 0\\\\\n",
       "\t2 & SD\\_12-2017\\_1\\_b.mzXML  & Sample & 1 & Dec & 2017 &  1 & b &  1 & 32.93365 & -117.2648 & Torrey\\_Pines        & Lagoon\\_Outlet  & 11/12/2017 13:00 &  4 & X1\\_391.284\\_0.3\\_NA & 1 & 391.284 & 0.3 & NA & 0\\\\\n",
       "\t3 & SD\\_12-2017\\_10\\_a.mzXML & Sample & 1 & Dec & 2017 & 10 & a & 10 & 32.86261 & -117.2604 & SIO\\_La\\_Jolla\\_Shores & SIO\\_South\\_Pier & 11/12/2017 17:31 & 21 & X1\\_391.284\\_0.3\\_NA & 1 & 391.284 & 0.3 & NA & 0\\\\\n",
       "\\end{tabular}\n"
      ],
      "text/markdown": [
       "\n",
       "A data.frame: 3 × 20\n",
       "\n",
       "| <!--/--> | filename &lt;chr&gt; | ATTRIBUTE_Sample.Type &lt;chr&gt; | ATTRIBUTE_Batch &lt;int&gt; | ATTRIBUTE_Month &lt;chr&gt; | ATTRIBUTE_Year &lt;int&gt; | ATTRIBUTE_Sample_Location &lt;int&gt; | ATTRIBUTE_Replicate &lt;chr&gt; | ATTRIBUTE_Spot &lt;int&gt; | ATTRIBUTE_Latitude &lt;dbl&gt; | ATTRIBUTE_Longitude &lt;dbl&gt; | ATTRIBUTE_Sample_Area &lt;chr&gt; | ATTRIBUTE_Spot_Name &lt;chr&gt; | ATTRIBUTE_time_run &lt;chr&gt; | ATTRIBUTE_Injection_order &lt;int&gt; | Feature &lt;fct&gt; | FeatureID &lt;dbl&gt; | mz &lt;dbl&gt; | RT &lt;dbl&gt; | Compound_Name &lt;chr&gt; | Intensities &lt;dbl&gt; |\n",
       "|---|---|---|---|---|---|---|---|---|---|---|---|---|---|---|---|---|---|---|---|---|\n",
       "| 1 | SD_12-2017_1_a.mzXML  | Sample | 1 | Dec | 2017 |  1 | a |  1 | 32.93365 | -117.2648 | Torrey_Pines        | Lagoon_Outlet  | 11/12/2017 12:44 |  3 | X1_391.284_0.3_NA | 1 | 391.284 | 0.3 | NA | 0 |\n",
       "| 2 | SD_12-2017_1_b.mzXML  | Sample | 1 | Dec | 2017 |  1 | b |  1 | 32.93365 | -117.2648 | Torrey_Pines        | Lagoon_Outlet  | 11/12/2017 13:00 |  4 | X1_391.284_0.3_NA | 1 | 391.284 | 0.3 | NA | 0 |\n",
       "| 3 | SD_12-2017_10_a.mzXML | Sample | 1 | Dec | 2017 | 10 | a | 10 | 32.86261 | -117.2604 | SIO_La_Jolla_Shores | SIO_South_Pier | 11/12/2017 17:31 | 21 | X1_391.284_0.3_NA | 1 | 391.284 | 0.3 | NA | 0 |\n",
       "\n"
      ],
      "text/plain": [
       "  filename              ATTRIBUTE_Sample.Type ATTRIBUTE_Batch ATTRIBUTE_Month\n",
       "1 SD_12-2017_1_a.mzXML  Sample                1               Dec            \n",
       "2 SD_12-2017_1_b.mzXML  Sample                1               Dec            \n",
       "3 SD_12-2017_10_a.mzXML Sample                1               Dec            \n",
       "  ATTRIBUTE_Year ATTRIBUTE_Sample_Location ATTRIBUTE_Replicate ATTRIBUTE_Spot\n",
       "1 2017            1                        a                    1            \n",
       "2 2017            1                        b                    1            \n",
       "3 2017           10                        a                   10            \n",
       "  ATTRIBUTE_Latitude ATTRIBUTE_Longitude ATTRIBUTE_Sample_Area\n",
       "1 32.93365           -117.2648           Torrey_Pines         \n",
       "2 32.93365           -117.2648           Torrey_Pines         \n",
       "3 32.86261           -117.2604           SIO_La_Jolla_Shores  \n",
       "  ATTRIBUTE_Spot_Name ATTRIBUTE_time_run ATTRIBUTE_Injection_order\n",
       "1 Lagoon_Outlet       11/12/2017 12:44    3                       \n",
       "2 Lagoon_Outlet       11/12/2017 13:00    4                       \n",
       "3 SIO_South_Pier      11/12/2017 17:31   21                       \n",
       "  Feature           FeatureID mz      RT  Compound_Name Intensities\n",
       "1 X1_391.284_0.3_NA 1         391.284 0.3 NA            0          \n",
       "2 X1_391.284_0.3_NA 1         391.284 0.3 NA            0          \n",
       "3 X1_391.284_0.3_NA 1         391.284 0.3 NA            0          "
      ]
     },
     "metadata": {},
     "output_type": "display_data"
    }
   ],
   "source": [
    "head(data_long_1_new, 3)"
   ]
  },
  {
   "cell_type": "markdown",
   "id": "9b1554ed-71ae-49fe-9c7a-1deeb8f98d4e",
   "metadata": {},
   "source": [
    "To prepare the data for LOESS correction, we need to add certain columns to the table. These columns will provide us with the necessary information to perform batch correction. We can start by adding columns to obtain the median, minimum, and maximum m/z and retention time (RT) values for each feature across all samples and within each sample. Specifically, we can add the following columns:\n",
    "\n",
    "- f_mzmed: median m/z value for each feature across all samples\n",
    "- f_mzmin: minimum m/z value for each feature across all samples\n",
    "- f_mzmax: maximum m/z value for each feature across all samples\n",
    "- mz: median m/z value for each feature within each sample\n",
    "- mzmin: minimum m/z value for each feature within each sample\n",
    "- mzmax: maximum m/z value for each feature within each sample\n",
    "- f_rtmed: median RT value for each feature across all samples\n",
    "- f_rtmin: minimum RT value for each feature across all samples\n",
    "- f_rtmax: maximum RT value for each feature across all samples\n",
    "- rt: median RT value for each feature within each sample\n",
    "- rtmin: minimum RT value for each feature within each sample\n",
    "- rtmax: maximum RT value for each feature within each sample\n",
    "\n",
    "These columns will make the table compatible with the LOESS correction function, and will allow us to correct for any batch effects that may be present in the data."
   ]
  },
  {
   "cell_type": "code",
   "execution_count": 65,
   "id": "5ff554b0-e68e-475d-bca3-4d20c32961ae",
   "metadata": {},
   "outputs": [],
   "source": [
    "# picking only the 2nd column from the aggregate table as the first column is FeatureID, hence we exclude that\n",
    "data_long_1_new$f_mzmed <- aggregate(mz ~ FeatureID, data = data_long_1_new, median)[,2] \n",
    "data_long_1_new$f_mzmin <- aggregate(mz ~ FeatureID, data = data_long_1_new, min)[,2] \n",
    "data_long_1_new$f_mzmax <- aggregate(mz ~ FeatureID, data = data_long_1_new, max)[,2]\n",
    "\n",
    "data_long_1_new$f_RTmed <- aggregate(RT ~ FeatureID, data = data_long_1_new, median)[,2] \n",
    "data_long_1_new$f_RTmin <- aggregate(RT ~ FeatureID, data = data_long_1_new, min)[,2]\n",
    "data_long_1_new$f_RTmax <- aggregate(RT ~ FeatureID, data = data_long_1_new, max)[,2] "
   ]
  },
  {
   "cell_type": "markdown",
   "id": "cce14a8a-519b-448c-a757-154f49f41172",
   "metadata": {},
   "source": [
    "**NOTE**: If the feature table is generated by MZmine3, the above step to get the median, minimum or maximum mz and RT values respectively are the same for the data because with the feature table generated by MZmine3, we get 1 RT value and 1 mz value for each feature ID. Each feature ID in unique. Hence the above step will not genarate any new information."
   ]
  },
  {
   "cell_type": "markdown",
   "id": "d23f3f29-7fdd-4629-b530-7a0002591cad",
   "metadata": {},
   "source": [
    "Let's have a look at tryptophan to see if there is a drift within th batch 1 data. As a first step, we extract the feature that belongs to the monoisotopic ion of tryptophan. <br>\n",
    "Monoisotopic mass of Tryptophan:   204.08987 Da  \n",
    "Monoisotopic mass of Hydrogen ion: 1.0073 Da"
   ]
  },
  {
   "cell_type": "code",
   "execution_count": 66,
   "id": "120c73d6-a947-47ab-afb0-c5219020b06f",
   "metadata": {},
   "outputs": [],
   "source": [
    "trp <- data_long_1_new %>% filter(abs(mz-(204.08987+1.0073))<0.01)"
   ]
  },
  {
   "cell_type": "code",
   "execution_count": 67,
   "id": "eaac9c3d-b1b4-4dbf-9416-f691fcf4d4f9",
   "metadata": {},
   "outputs": [
    {
     "data": {
      "text/html": [
       "<table class=\"dataframe\">\n",
       "<caption>A data.frame: 2 × 26</caption>\n",
       "<thead>\n",
       "\t<tr><th></th><th scope=col>filename</th><th scope=col>ATTRIBUTE_Sample.Type</th><th scope=col>ATTRIBUTE_Batch</th><th scope=col>ATTRIBUTE_Month</th><th scope=col>ATTRIBUTE_Year</th><th scope=col>ATTRIBUTE_Sample_Location</th><th scope=col>ATTRIBUTE_Replicate</th><th scope=col>ATTRIBUTE_Spot</th><th scope=col>ATTRIBUTE_Latitude</th><th scope=col>ATTRIBUTE_Longitude</th><th scope=col>...</th><th scope=col>mz</th><th scope=col>RT</th><th scope=col>Compound_Name</th><th scope=col>Intensities</th><th scope=col>f_mzmed</th><th scope=col>f_mzmin</th><th scope=col>f_mzmax</th><th scope=col>f_RTmed</th><th scope=col>f_RTmin</th><th scope=col>f_RTmax</th></tr>\n",
       "\t<tr><th></th><th scope=col>&lt;chr&gt;</th><th scope=col>&lt;chr&gt;</th><th scope=col>&lt;int&gt;</th><th scope=col>&lt;chr&gt;</th><th scope=col>&lt;int&gt;</th><th scope=col>&lt;int&gt;</th><th scope=col>&lt;chr&gt;</th><th scope=col>&lt;int&gt;</th><th scope=col>&lt;dbl&gt;</th><th scope=col>&lt;dbl&gt;</th><th scope=col>...</th><th scope=col>&lt;dbl&gt;</th><th scope=col>&lt;dbl&gt;</th><th scope=col>&lt;chr&gt;</th><th scope=col>&lt;dbl&gt;</th><th scope=col>&lt;dbl&gt;</th><th scope=col>&lt;dbl&gt;</th><th scope=col>&lt;dbl&gt;</th><th scope=col>&lt;dbl&gt;</th><th scope=col>&lt;dbl&gt;</th><th scope=col>&lt;dbl&gt;</th></tr>\n",
       "</thead>\n",
       "<tbody>\n",
       "\t<tr><th scope=row>1</th><td>SD_12-2017_1_a.mzXML</td><td>Sample</td><td>1</td><td>Dec</td><td>2017</td><td>1</td><td>a</td><td>1</td><td>32.93365</td><td>-117.2648</td><td>...</td><td>205.097</td><td>2.301</td><td>Spectral Match to L-Tryptophan from NIST14</td><td>663998.1</td><td>477.358</td><td>477.358</td><td>477.358</td><td>10.152</td><td>10.152</td><td>10.152</td></tr>\n",
       "\t<tr><th scope=row>2</th><td>SD_12-2017_1_b.mzXML</td><td>Sample</td><td>1</td><td>Dec</td><td>2017</td><td>1</td><td>b</td><td>1</td><td>32.93365</td><td>-117.2648</td><td>...</td><td>205.097</td><td>2.301</td><td>Spectral Match to L-Tryptophan from NIST14</td><td>163630.7</td><td>688.520</td><td>688.520</td><td>688.520</td><td>10.227</td><td>10.227</td><td>10.227</td></tr>\n",
       "</tbody>\n",
       "</table>\n"
      ],
      "text/latex": [
       "A data.frame: 2 × 26\n",
       "\\begin{tabular}{r|lllllllllllllllllllll}\n",
       "  & filename & ATTRIBUTE\\_Sample.Type & ATTRIBUTE\\_Batch & ATTRIBUTE\\_Month & ATTRIBUTE\\_Year & ATTRIBUTE\\_Sample\\_Location & ATTRIBUTE\\_Replicate & ATTRIBUTE\\_Spot & ATTRIBUTE\\_Latitude & ATTRIBUTE\\_Longitude & ... & mz & RT & Compound\\_Name & Intensities & f\\_mzmed & f\\_mzmin & f\\_mzmax & f\\_RTmed & f\\_RTmin & f\\_RTmax\\\\\n",
       "  & <chr> & <chr> & <int> & <chr> & <int> & <int> & <chr> & <int> & <dbl> & <dbl> & ... & <dbl> & <dbl> & <chr> & <dbl> & <dbl> & <dbl> & <dbl> & <dbl> & <dbl> & <dbl>\\\\\n",
       "\\hline\n",
       "\t1 & SD\\_12-2017\\_1\\_a.mzXML & Sample & 1 & Dec & 2017 & 1 & a & 1 & 32.93365 & -117.2648 & ... & 205.097 & 2.301 & Spectral Match to L-Tryptophan from NIST14 & 663998.1 & 477.358 & 477.358 & 477.358 & 10.152 & 10.152 & 10.152\\\\\n",
       "\t2 & SD\\_12-2017\\_1\\_b.mzXML & Sample & 1 & Dec & 2017 & 1 & b & 1 & 32.93365 & -117.2648 & ... & 205.097 & 2.301 & Spectral Match to L-Tryptophan from NIST14 & 163630.7 & 688.520 & 688.520 & 688.520 & 10.227 & 10.227 & 10.227\\\\\n",
       "\\end{tabular}\n"
      ],
      "text/markdown": [
       "\n",
       "A data.frame: 2 × 26\n",
       "\n",
       "| <!--/--> | filename &lt;chr&gt; | ATTRIBUTE_Sample.Type &lt;chr&gt; | ATTRIBUTE_Batch &lt;int&gt; | ATTRIBUTE_Month &lt;chr&gt; | ATTRIBUTE_Year &lt;int&gt; | ATTRIBUTE_Sample_Location &lt;int&gt; | ATTRIBUTE_Replicate &lt;chr&gt; | ATTRIBUTE_Spot &lt;int&gt; | ATTRIBUTE_Latitude &lt;dbl&gt; | ATTRIBUTE_Longitude &lt;dbl&gt; | ... ... | mz &lt;dbl&gt; | RT &lt;dbl&gt; | Compound_Name &lt;chr&gt; | Intensities &lt;dbl&gt; | f_mzmed &lt;dbl&gt; | f_mzmin &lt;dbl&gt; | f_mzmax &lt;dbl&gt; | f_RTmed &lt;dbl&gt; | f_RTmin &lt;dbl&gt; | f_RTmax &lt;dbl&gt; |\n",
       "|---|---|---|---|---|---|---|---|---|---|---|---|---|---|---|---|---|---|---|---|---|---|\n",
       "| 1 | SD_12-2017_1_a.mzXML | Sample | 1 | Dec | 2017 | 1 | a | 1 | 32.93365 | -117.2648 | ... | 205.097 | 2.301 | Spectral Match to L-Tryptophan from NIST14 | 663998.1 | 477.358 | 477.358 | 477.358 | 10.152 | 10.152 | 10.152 |\n",
       "| 2 | SD_12-2017_1_b.mzXML | Sample | 1 | Dec | 2017 | 1 | b | 1 | 32.93365 | -117.2648 | ... | 205.097 | 2.301 | Spectral Match to L-Tryptophan from NIST14 | 163630.7 | 688.520 | 688.520 | 688.520 | 10.227 | 10.227 | 10.227 |\n",
       "\n"
      ],
      "text/plain": [
       "  filename             ATTRIBUTE_Sample.Type ATTRIBUTE_Batch ATTRIBUTE_Month\n",
       "1 SD_12-2017_1_a.mzXML Sample                1               Dec            \n",
       "2 SD_12-2017_1_b.mzXML Sample                1               Dec            \n",
       "  ATTRIBUTE_Year ATTRIBUTE_Sample_Location ATTRIBUTE_Replicate ATTRIBUTE_Spot\n",
       "1 2017           1                         a                   1             \n",
       "2 2017           1                         b                   1             \n",
       "  ATTRIBUTE_Latitude ATTRIBUTE_Longitude ... mz      RT   \n",
       "1 32.93365           -117.2648           ... 205.097 2.301\n",
       "2 32.93365           -117.2648           ... 205.097 2.301\n",
       "  Compound_Name                              Intensities f_mzmed f_mzmin\n",
       "1 Spectral Match to L-Tryptophan from NIST14 663998.1    477.358 477.358\n",
       "2 Spectral Match to L-Tryptophan from NIST14 163630.7    688.520 688.520\n",
       "  f_mzmax f_RTmed f_RTmin f_RTmax\n",
       "1 477.358 10.152  10.152  10.152 \n",
       "2 688.520 10.227  10.227  10.227 "
      ]
     },
     "metadata": {},
     "output_type": "display_data"
    },
    {
     "data": {
      "text/html": [
       "<style>\n",
       ".list-inline {list-style: none; margin:0; padding: 0}\n",
       ".list-inline>li {display: inline-block}\n",
       ".list-inline>li:not(:last-child)::after {content: \"\\00b7\"; padding: 0 .5ex}\n",
       "</style>\n",
       "<ol class=list-inline><li>186</li><li>26</li></ol>\n"
      ],
      "text/latex": [
       "\\begin{enumerate*}\n",
       "\\item 186\n",
       "\\item 26\n",
       "\\end{enumerate*}\n"
      ],
      "text/markdown": [
       "1. 186\n",
       "2. 26\n",
       "\n",
       "\n"
      ],
      "text/plain": [
       "[1] 186  26"
      ]
     },
     "metadata": {},
     "output_type": "display_data"
    }
   ],
   "source": [
    "head(trp,2)\n",
    "dim(trp)"
   ]
  },
  {
   "cell_type": "code",
   "execution_count": 68,
   "id": "26afc1a9-cb7e-4824-bfa6-edc47cf8aefc",
   "metadata": {},
   "outputs": [
    {
     "data": {
      "text/html": [
       "<style>\n",
       ".list-inline {list-style: none; margin:0; padding: 0}\n",
       ".list-inline>li {display: inline-block}\n",
       ".list-inline>li:not(:last-child)::after {content: \"\\00b7\"; padding: 0 .5ex}\n",
       "</style>\n",
       "<ol class=list-inline><li>5234</li><li>7683</li><li>12548</li></ol>\n"
      ],
      "text/latex": [
       "\\begin{enumerate*}\n",
       "\\item 5234\n",
       "\\item 7683\n",
       "\\item 12548\n",
       "\\end{enumerate*}\n"
      ],
      "text/markdown": [
       "1. 5234\n",
       "2. 7683\n",
       "3. 12548\n",
       "\n",
       "\n"
      ],
      "text/plain": [
       "[1]  5234  7683 12548"
      ]
     },
     "metadata": {},
     "output_type": "display_data"
    },
    {
     "data": {
      "text/html": [
       "<style>\n",
       ".list-inline {list-style: none; margin:0; padding: 0}\n",
       ".list-inline>li {display: inline-block}\n",
       ".list-inline>li:not(:last-child)::after {content: \"\\00b7\"; padding: 0 .5ex}\n",
       "</style>\n",
       "<ol class=list-inline><li>'Spectral Match to L-Tryptophan from NIST14'</li><li>'NA'</li></ol>\n"
      ],
      "text/latex": [
       "\\begin{enumerate*}\n",
       "\\item 'Spectral Match to L-Tryptophan from NIST14'\n",
       "\\item 'NA'\n",
       "\\end{enumerate*}\n"
      ],
      "text/markdown": [
       "1. 'Spectral Match to L-Tryptophan from NIST14'\n",
       "2. 'NA'\n",
       "\n",
       "\n"
      ],
      "text/plain": [
       "[1] \"Spectral Match to L-Tryptophan from NIST14\"\n",
       "[2] \"NA\"                                        "
      ]
     },
     "metadata": {},
     "output_type": "display_data"
    }
   ],
   "source": [
    "unique(trp$FeatureID)\n",
    "unique(trp$Compound_Name)"
   ]
  },
  {
   "cell_type": "markdown",
   "id": "3a055e24-9160-4cc8-867a-026a0b3493bb",
   "metadata": {},
   "source": [
    "Then, we look at the observed intensity of tryptophan ('Intensities') during the analytical run. Hence, we order the intensity by the injection order ('ATTRIBUTE_Injection_Order')."
   ]
  },
  {
   "cell_type": "code",
   "execution_count": 55,
   "id": "be51c0aa-e99a-4f12-a53e-10854af33fce",
   "metadata": {},
   "outputs": [
    {
     "data": {
      "image/png": "[encoded data removed]",
      "text/plain": [
       "plot without title"
      ]
     },
     "metadata": {
      "image/png": {
       "height": 420,
       "width": 420
      }
     },
     "output_type": "display_data"
    }
   ],
   "source": [
    "trp %>% \n",
    "  ggplot(aes(ATTRIBUTE_Injection_order, Intensities, color=ATTRIBUTE_Sample.Type, group=ATTRIBUTE_Sample.Type)) +\n",
    "  geom_point() +\n",
    "  geom_line() +\n",
    "  theme_classic()"
   ]
  },
  {
   "cell_type": "markdown",
   "id": "e6e535b1",
   "metadata": {},
   "source": [
    "### LOESS correction"
   ]
  },
  {
   "cell_type": "markdown",
   "id": "e017f291",
   "metadata": {},
   "source": [
    "We need a helper function to run the loess correction. The inputs for the function are: the intensity values, a logical vector saying if it is a QC sample or not and the injection order of the samples."
   ]
  },
  {
   "cell_type": "markdown",
   "id": "c9bce619-7dfd-464b-ad1c-eb07d68f9a7b",
   "metadata": {},
   "source": [
    "<p style='text-align: justify;'> The function <code>drift_correct_with_LOESS_on_QCs_vec</code> performs LOESS (Locally Estimated Scatterplot Smoothing) correction on the input data for the features that are Quality Control (QC) samples. LOESS is a non-parametric regression method that estimates a smooth curve through scatter plot data by locally fitting a polynomial to the data. The function first extracts the training data by selecting only the QC samples from the input data and their corresponding running order. It then cross-validates the LOESS model for each feature and predicts the observations for the feature using the optimal model. The function then corrects the observations that have a non-missing prediction by subtracting the predicted technical signal from the observations for the feature. Finally, the function computes the coefficient of determination (R<sup>2</sup>) for all observations.</p>\n",
    "\n",
    "<p style='text-align: justify;'> The <code>purrr::possibly</code> function is used to handle errors that may occur in the `drift_correct_with_LOESS_on_QCs_vec` function, by returning a value instead of an error message. The returned value is a list that contains the corrected, predicted, and original values of the input data, and the coefficient of determination for all observations. </p>"
   ]
  },
  {
   "cell_type": "code",
   "execution_count": 69,
   "id": "11b803f5",
   "metadata": {},
   "outputs": [],
   "source": [
    "drift_correct_with_LOESS_on_QCs_vec <- function(data.input, is.QC, running.order, loess.span.vals = NULL, loess.cv.folds = NULL){\n",
    "        require( package=\"bisoreg\" ) # Required for \"loess.wrapper\".\n",
    "        require( package=\"caret\" ) # Required for \"R2\".\n",
    "        \n",
    "        # extract training data\n",
    "        data.training <- data.input[is.QC]\n",
    "        running.order.training <- running.order[is.QC]\n",
    "        \n",
    "        # Use default parameters if none supplied\n",
    "        if(is.null( loess.span.vals )) loess.span.vals <- seq(0.25, 1, by = 0.05)\n",
    "        if(is.null( loess.cv.folds ))  loess.cv.folds  <- 5\n",
    "        \n",
    "        \n",
    "        # Cross-validate the LOESS model for the feature\n",
    "        model <- bisoreg::loess.wrapper( x=running.order.training, y=data.training, span.vals=loess.span.vals, folds=loess.cv.folds ) \n",
    "        #print(model)\n",
    "        \n",
    "        # Predict all observations for the feature using the optimal model.\n",
    "        predictions <- predict( object=model, newdata=running.order )\n",
    "        \n",
    "        # Correct the observations that have a non-missing prediction.\n",
    "        # (Extrapolations are not possible.)\n",
    "        not.na <- !is.na( predictions )\n",
    "        \n",
    "        # make the output list\n",
    "        output <- list()\n",
    "        output$x.corrected <- output$x.predicted <- output$x.original <- data.input\n",
    "        \n",
    "        # Denoise the signal by subtracting the predicted technical signal from the observations for the feature\n",
    "        output$x.corrected[ not.na ] <- data.input[ not.na ] - predictions[ not.na ] + mean( data.input, na.rm=TRUE )\n",
    "        \n",
    "        # Store the predictions.\n",
    "        output$x.predicted <- predictions\n",
    "        \n",
    "        # Compute the coefficient of determination for all observations.\n",
    "        output$R.sq <- rep( x=NA, times=length( output$x.corrected ) )\n",
    "        output$R.sq <- caret::R2( pred=predictions[ not.na ], obs=data.input[ not.na ] )\n",
    "        \n",
    "        return(output)\n",
    "}\n",
    "\n",
    "\n",
    "#The 'possibly' function from 'purrr' package help our function to return a value instead of error when a fit cannot be made. \n",
    "drift_correct_with_LOESS_on_QCs_vec_p <- purrr::possibly(drift_correct_with_LOESS_on_QCs_vec, list(x.corrected=NA))"
   ]
  },
  {
   "cell_type": "markdown",
   "id": "65b12f5f",
   "metadata": {},
   "source": [
    "Now lets create a new column with the drift corrected data on 'data_long_1_new'. In case, we had pooled QC samples in the data, then we would have 'Pooled_Samples' category in the 'ATTRIBUTE_Sample.Type' column."
   ]
  },
  {
   "cell_type": "code",
   "execution_count": null,
   "id": "7f451d05-22b8-4a05-8b87-ffe7efb329d9",
   "metadata": {},
   "outputs": [],
   "source": [
    "data_long_1_new <- data_long_1_new %>% \n",
    "  mutate(is_QC = (ATTRIBUTE_Sample.Type==\"Pooled_Samples\")) %>%\n",
    "  group_nest(f_mzmed, f_mzmin, f_mzmax, f_rtmed, f_rtmin, f_rtmax, FeatureID) %>% \n",
    "  mutate(data = map(data, \n",
    "                    ~ suppressMessages(mutate(..1, \n",
    "                                              into_driftcor = drift_correct_with_LOESS_on_QCs_vec_p(Intensities, \n",
    "                                                                                                    is_QC, \n",
    "                                                                                                    ATTRIBTE_Injection_Order)$x.corrected)))) %>% \n",
    "  unnest(cols = c(data))"
   ]
  },
  {
   "cell_type": "code",
   "execution_count": null,
   "id": "9b17d78d-0a34-4907-91f3-3e77b4b56c05",
   "metadata": {},
   "outputs": [],
   "source": [
    "head(data_long_1_new)"
   ]
  },
  {
   "cell_type": "markdown",
   "id": "9c068a5f-f247-4ed3-877f-29ab63e11fa6",
   "metadata": {},
   "source": [
    "Here's what each line is doing:\n",
    "\n",
    "1. Add a new column 'is_QC' which is TRUE if the value in the 'ATTRIBUTE_Sample.Type' column is 'Pooled_Samples', and FALSE otherwise.\n",
    "\n",
    "2. Group the data by 'f_mzmed', 'f_mzmin', 'f_mzmax', 'f_rtmed', 'f_rtmin', 'f_rtmax', and 'FeatureID', and create nested data frames for each group.\n",
    "\n",
    "3. For each nested data frame, apply the 'drift_correct_with_LOESS_on_QCs_vec_p' function to correct for drift. This function takes the 'Intensities' column as input, along with the 'is_QC' and 'ATTRIBTE_Injection_Order' columns, and returns the corrected values in a column called 'x.corrected'. The 'drift_correct_with_LOESS_on_QCs_vec_p' function is wrapped in 'suppressMessages' to prevent any warning messages from being displayed.\n",
    "\n",
    "4. Unnest the nested data frames to create a single table, with the new 'x.corrected' column containing the drift-corrected intensities. The 'into' parameter is used to specify that the new column should be named 'into_driftcor'.\n",
    "\n",
    "Overall, this code is performing a complex data processing pipeline that involves grouping, nested data frames, and applying a function to correct for drift in the mass spectrometry data. The resulting data frame contains the original data along with the corrected intensities in a new column."
   ]
  },
  {
   "cell_type": "code",
   "execution_count": null,
   "id": "651edf50-8ab3-47cf-b251-09e41abe358c",
   "metadata": {},
   "outputs": [],
   "source": [
    "#Visualising the drift-corrected intensities:\n",
    "trp %>% \n",
    "  ggplot(aes(ATTRIBUTE_Injection_order, into_driftcor, color=ATTRIBUTE_Sample.Type, group=ATTRIBUTE_Sample.Type)) +\n",
    "  geom_point() +\n",
    "  geom_line() +\n",
    "  theme_classic()"
   ]
  },
  {
   "cell_type": "markdown",
   "id": "3dd5f936-a41a-47f0-a95b-e12bf27f21fb",
   "metadata": {},
   "source": [
    "Repeat the process for the other batches similar to Batch 1 data following the [above steps](#split_batch). Then simply combine the batch_corrected data from all the batches such as:"
   ]
  },
  {
   "cell_type": "code",
   "execution_count": null,
   "id": "93781770-4264-4ed5-912b-eedc3ae5e25a",
   "metadata": {},
   "outputs": [],
   "source": [
    "#combining all the batch corrected data\n",
    "batch_corrected <- rbind(data_long_1_new, data_long_2_new, data_long_3_new)\n",
    "\n",
    "#removing unwanted columns\n",
    "batch_corrected <- batch_corrected %>%\n",
    "  select(-FeatureID, -mz, -RT, -Compound_Name, -Intensities, -f_mzmed, -f_mzmin, -f_mzmax, -f_RTmed, -f_RTmin, -f_RTmax)\n",
    "\n",
    "#converting to wide format data again. Here, we are taking the drift corrected intensties\n",
    "data_wide <- tidyr::spread(data_long, Feature, into_driftcor)\n",
    "\n",
    "head(data_wide)\n",
    "dim(data_wide)"
   ]
  },
  {
   "cell_type": "code",
   "execution_count": null,
   "id": "e23bd5f2-abdf-45a3-af9e-e6c83befd796",
   "metadata": {},
   "outputs": [],
   "source": [
    "#write.csv(data_wide, \"Batch-corrected-dataframe.csv\")"
   ]
  },
  {
   "cell_type": "markdown",
   "id": "a953919d-40e0-48cd-9eca-b615997b0d46",
   "metadata": {},
   "source": [
    "This batch-corrected data can be taken again to the main Stats Notebook to continue with the downstream analysis."
   ]
  }
 ],
 "metadata": {
  "colab": {
   "provenance": []
  },
  "kernelspec": {
   "display_name": "R",
   "language": "R",
   "name": "ir"
  },
  "language_info": {
   "codemirror_mode": "r",
   "file_extension": ".r",
   "mimetype": "text/x-r-source",
   "name": "R",
   "pygments_lexer": "r",
   "version": "4.1.3"
  }
 },
 "nbformat": 4,
 "nbformat_minor": 5
}
