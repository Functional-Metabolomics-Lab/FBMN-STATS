{
 "cells": [
  {
   "cell_type": "markdown",
   "id": "55766981",
   "metadata": {
    "id": "55766981"
   },
   "source": [
    "**Updated on:** 2022-10-23 23:10:05 CEST\n",
    "\n",
    "This Notebook is used for cleaning the feature table, an output of metabolomics experiment, then performing some preliminary univariate and multivariate statistics analyses.\n",
    "\n",
    "**Authors**: Abzer Kelminal (abzer.shah@uni-tuebingen.de), Francesco Russo (frru@ssi.dk), Filip Ottosson (faot@ssi.dk), Madaleine Ernst (maet@ssi.dk), Axel Walter (axel.walter@uni-tuebingen.de), Carolina Gonzalez, Judith Boldt <br>\n",
    "**Input file format**: .csv files or .txt files <br>\n",
    "**Outputs**: .csv files, .pdf & .svg images  <br>\n",
    "**Dependencies**: pandas numpy plotly pingouin kaleido scikit-learn\n",
    "\n",
    "---\n",
    "This Notebook can be run with both Jupyter Notebook & Google Colab. To know more about how to get the Jupyter Notebook running with R code, please have a look at this document: [GitHub Link](https://github.com/Functional-Metabolomics-Lab/Jupyter-Notebook-Installation/blob/main/Anaconda%20with%20R%20kernel%20installation.pdf)\n",
    "\n",
    "---\n",
    "**Before starting to run this notebook with your own data, remember to save a copy of this notebook in your own Google Drive! Do so by clicking on File --> Save a copy in Drive. You can give whatever meaningful name to your notebook.** This file should be located in a new folder of your Google Drive named 'Colab Notebooks'. You can also download this notebook: File --> Download --> Download .ipynb.<br>\n",
    "\n",
    "---\n",
    "<b><font size=3> SPECIAL NOTE: Please read the comments before proceeding with the code and let us know if you run into any errors and if you think it could be commented better. We would highly appreciate your suggestions and comments!!</font> </b>\n",
    "\n",
    "---"
   ]
  },
  {
   "cell_type": "markdown",
   "id": "8zlElKRwhzja",
   "metadata": {
    "id": "8zlElKRwhzja"
   },
   "source": [
    "# **About the Data**\n",
    "\n",
    "The files used in this tutorial are part of an interlab comparison study, where different laboratories around the world analysed the same environmental samples on their respective LC-MS/MS equipments. To simulate algal bloom, standardized algae extracts (A) in marine dissovled organic matter (M) at different concentrations were prepared (450 (A45M); 150 (A15M); and 50 (A5M) ppm A). Samples were then shipped to different laboratories for untargeted LC-MS/MS metabolomics analysis. The data used particularly for this notebook is from Lab 1 (Dorrestein Lab, University of California at San Diego, USA; Data submitted by Allegra Aron allegra.aron@gmail.com ) <br><br>\n",
    "(*To be edited*) In this tutorial, we are working with one of the datasets, which was acquired on a UHPLC system coupled to a Thermo Scientific Q Exactive HF Orbitrap LC-MS/MS mass spectrometer. MS/MS data were acquired in data-dependent acquisition (DDA) with fragmentation of the five most abundant ions in the spectrum per precursor scan. Data files were subsequently preprocessed using [MZmine3](http://mzmine.github.io/) and the [feature-based molecular networking workflow in GNPS](https://gnps.ucsd.edu/ProteoSAFe/status.jsp?task=d207c3a831264d61810ad69ac09b14e9)."
   ]
  },
  {
   "cell_type": "markdown",
   "id": "YhJRIil_cVcQ",
   "metadata": {
    "id": "YhJRIil_cVcQ"
   },
   "source": [
    "# **About the different sections in the Notebook:**\n",
    "### **1. Data-cleaning**\n",
    "\n",
    "It involves cleaning the feature table, which contains all the features (metabolites, in our case) with their corresponding intensities. The data cleanup steps involved are: 1) Blank removal 2) Imputation 3) Normalisation. Each step would be discussed in detail later. Once the data is cleaned, we can then use it for further statistical analyses.\n",
    "\n",
    "### **2. Univariate statistical analysis**\n",
    "\n",
    "Here, we will use univariate statistical methods, such as ANOVA, to investigate whether there are differences in the levels of individual features between different time points in the dataset.\n",
    "\n",
    "### **3. Unsupervised multivariate analyses:**\n",
    "#### **i. PCoA and PERMANOVA**\n",
    "Here, we will perform a Principal Coordinate Analysis (PCoA), also known as metric or classical Multidimensional Scaling (metric MDS) to explore and visualize patterns in an untargeted mass spectromtery-based metabolomics dataset. We will then assess statistical significance of the patterns and dispersion of different sample types using permutational multivariate analysis of variance (PERMANOVA).\n",
    "\n",
    "#### **ii. Cluster Analyses and Heatmaps**\n",
    "We will also perform different cluster analyses to explore patterns in the data. This will help us to discover subgroups of samples or features that share a certain level of similarity. Clustering is an example of unsupervised learning where no labels are given to the learning algorithm which will try to find patterns/structures in the input data on its own. The goal of clustering is to find these hidden patterns.<br>\n",
    "\n",
    "Some types of cluster analyses (e.g. hierarchical clustering) are often associated with heatmaps. Heatmaps are a visual representation of the data where columns are usually samples and rows are features (in our case, different metabolic features). The color scale of heatmaps indicates higher or lower intensity (for instance, blue is lower and red is higher intensity).<br>\n",
    "\n",
    "There are a lot of good videos and resources out there explaining very well the principle behind clustering. Some good ones are the following:<br>\n",
    "- Hierarchical clustering and heatmaps: https://www.youtube.com/watch?v=7xHsRkOdVwo<br>\n",
    "- K-means clustering: https://www.youtube.com/watch?v=4b5d3muPQmA"
   ]
  },
  {
   "cell_type": "markdown",
   "id": "J4MfRygybbT_",
   "metadata": {
    "id": "J4MfRygybbT_"
   },
   "source": [
    "# **Questions to be asked in the Statistical analysis sections**: </br>\n",
    "**Univariate Statistical analysis:**\n",
    "*   Are metabolite levels dependent on the dilution?\n",
    "*   How does the affected metabolite change throughout the dilution series?\n",
    "*   How large are the differences? \n",
    "---\n",
    "**Unsupervised multivariate analyses: PCoA & PERMANOVA**\n",
    "*   Can we monitor algal bloom by looking at metabolomic profiles of marine dissolved organic matter?\n",
    "---\n",
    "**Cluster analysis and Heatmaps**\n",
    "- Can we monitor algal bloom by looking at metabolomic profiles of marine dissolved organic matter?\n",
    "- Are we able to group/cluster together samples derived from different concentrations of algae extracts using metabolic profiles? <br>\n",
    "- Which samples are the most similar? <br>\n",
    "- Are there any patterns defining the groups/clusters? That is, which features cluster together? "
   ]
  },
  {
   "cell_type": "markdown",
   "id": "a4705b9a",
   "metadata": {
    "id": "a4705b9a"
   },
   "source": [
    "# **Package installation:**\n",
    "Since we are running the notebook via Colab environment which runs completely in cloud, we need to install the packages every time we run the notebook.This might take some time to install all these packages. In case you are running the notebook directly via Jupyter Notebook IDE, you need to install the packages only once."
   ]
  },
  {
   "cell_type": "code",
   "execution_count": null,
   "id": "NQnoUTaU1s9_",
   "metadata": {
    "colab": {
     "base_uri": "https://localhost:8080/"
    },
    "id": "NQnoUTaU1s9_",
    "outputId": "4bff9ded-7c3f-4d28-a81d-049d19216ba8"
   },
   "outputs": [],
   "source": [
    "# Install libraries that are not preinstalled\n",
    "!pip install pandas numpy plotly scikit-learn scikit-bio pingouin kaleido ipyfilechooser nbformat"
   ]
  },
  {
   "cell_type": "code",
   "execution_count": 158,
   "id": "Z4eG3cNzmX-x",
   "metadata": {
    "id": "Z4eG3cNzmX-x"
   },
   "outputs": [],
   "source": [
    "# importing necessary modules\n",
    "import pandas as pd\n",
    "import numpy as np\n",
    "import os\n",
    "import itertools\n",
    "import plotly.express as px\n",
    "import plotly.graph_objects as go\n",
    "import plotly.figure_factory as ff\n",
    "from scipy.cluster.hierarchy import dendrogram, linkage\n",
    "from sklearn.preprocessing import StandardScaler\n",
    "from scipy.spatial import distance\n",
    "from sklearn.decomposition import PCA\n",
    "import pingouin as pg\n",
    "import skbio # Don't import on Windows!!\n",
    "from ipyfilechooser import FileChooser\n",
    "from ipywidgets import interact\n",
    "import warnings"
   ]
  },
  {
   "cell_type": "code",
   "execution_count": null,
   "id": "5d9d79f3-5b59-4d57-8a82-c59b92c69193",
   "metadata": {},
   "outputs": [],
   "source": [
    "# Disable warnings for cleaner output, comment out for debugging\n",
    "warnings.filterwarnings('ignore')"
   ]
  },
  {
   "cell_type": "markdown",
   "id": "863a44d4",
   "metadata": {
    "id": "863a44d4"
   },
   "source": [
    "# **Setting a local working directory:**\n",
    "### For Google Colab Users:\n",
    "<p style='text-align: justify;'> <font color='red'>For Google Colab, it is not possible to access the files from your local computer as it is hosted on Google's cloud server. An easier workaround is to upload the necessary files into the Google colab session using the 'Files' icon on the left as shown in the image. The code in the next cell creates a new folder 'My_TestData' in the Colab space and sets the folder as working directory. Following the steps in the image, you can check in your Colab to see if the folder has been created. Once you see it, simply upload the files from your local PC to the folder 'My_TestData' and then continue running the rest of the script.</font> </p>\n",
    "\n",
    "<p style='text-align: justify;'><b>SPECIAL NOTE: All the files uploaded to Google Colab would generally disappear after 12 hours. Similarly, all the outputs would be saved only in the Colab, so we need to download them into our local system at the end of our session.</b></p> \n",
    "\n",
    "[Go to section: Getting outputs from Colab](#colab_output) "
   ]
  },
  {
   "cell_type": "markdown",
   "id": "RtmlfVBTVeT-",
   "metadata": {
    "id": "RtmlfVBTVeT-"
   },
   "source": [
    "**Importing files into Google Colab environment:**\n",
    "![Google-Colab Files Upload](https://github.com/abzer005/Images-for-Jupyter-Notebooks/blob/main/StepsAll.png?raw=true)"
   ]
  },
  {
   "cell_type": "code",
   "execution_count": null,
   "id": "-AHDHHY6TEbI",
   "metadata": {
    "id": "-AHDHHY6TEbI"
   },
   "outputs": [],
   "source": [
    "# Get folder with data files\n",
    "result_dir = input(\"Enter path to folder for your results (or leave empty to stay in this folder):\\n\")\n",
    "if not result_dir:\n",
    "    result_dir = \".\"\n",
    "if not os.path.exists(result_dir):\n",
    "    os.mkdir(result_dir)\n",
    "print(f\"Results folder is: {os.path.abspath(result_dir)}\")"
   ]
  },
  {
   "cell_type": "markdown",
   "id": "6zqeJcBh-dOD",
   "metadata": {
    "id": "6zqeJcBh-dOD"
   },
   "source": [
    "**For users running the script directly in Jupyter Notebook instead through Google Colab**, please make sure to include all the input files in one folder before running the script. Then for setting the working directory, use the below code on a new cell. When you run the cell, it will display an output box where you can enter the path of the folder containing all your input files in your local computer and it will set as your working directory<br> For ex: D:\\User\\Project\\Test_Data\n",
    "\n",
    "```\n",
    "directory = input(\"Enter the path of the folder with input files:\\n\")\n",
    "os.chdir(directory)\n",
    "```\n",
    "\n"
   ]
  },
  {
   "cell_type": "markdown",
   "id": "e9546ef5-73f8-4623-877d-9c4daf3c18b9",
   "metadata": {
    "id": "e9546ef5-73f8-4623-877d-9c4daf3c18b9"
   },
   "source": [
    "# **Input files needed for the Notebook:**\n",
    "1) <b>Feature table:</b> An output of metabolomics experiment, containing all the features or peaks (LC-MS/MS peaks here) with their corresponding intensities. The feature table used in the test data is obtained by MZmine3. (Filetype: .csv file) </br> \n",
    "2) <b>Metadata:</b> Created by the user about the files used obtaining the feature table (It can be a csv/txt/tsv file). The columns in a metadata should be created with the following format: filename (1st column having all the filenames in the same order as the columns in feature table), all the other columns with column name such as: ATTRIBUTE_yourDesiredAttribute. </br>\n",
    "\n",
    "Please have a look at the metadata used here for reference. Creating a metadata in the above-mentioned format is necessary for uploading the files in GNPS and to obtain a molecular network."
   ]
  },
  {
   "attachments": {},
   "cell_type": "markdown",
   "id": "3a31eafc",
   "metadata": {
    "id": "3a31eafc"
   },
   "source": [
    "## Reading the input data using URL:\n",
    "Here, we can directly pull **example data** files from our Functional Metabolomics GitHub page."
   ]
  },
  {
   "cell_type": "code",
   "execution_count": null,
   "id": "7988ffd6",
   "metadata": {
    "id": "7988ffd6"
   },
   "outputs": [],
   "source": [
    "#Reading the input data using URL \n",
    "ft_url = 'https://raw.githubusercontent.com/Functional-Metabolomics-Lab/Statistical-analysis-of-non-targeted-LC-MSMS-data/main/data/SD_BeachSurvey_GapFilled_quant.csv'\n",
    "md_url = 'https://raw.githubusercontent.com/Functional-Metabolomics-Lab/Statistical-analysis-of-non-targeted-LC-MSMS-data/main/data/20221125_Metadata_SD_Beaches_with_injection_order.txt'\n",
    "\n",
    "ft = pd.read_csv(ft_url)\n",
    "md = pd.read_csv(md_url, sep = \"\\t\").set_index(\"filename\")"
   ]
  },
  {
   "attachments": {},
   "cell_type": "markdown",
   "id": "d7200917",
   "metadata": {},
   "source": [
    "Specify your own feauture quantification and meta data table. If not, the example data will be used."
   ]
  },
  {
   "cell_type": "code",
   "execution_count": null,
   "id": "2bf68eee",
   "metadata": {},
   "outputs": [],
   "source": [
    "# feature quantification table file location\n",
    "ft_file = \"\"\n",
    "# meta data table file location\n",
    "md_file = \"\"\n",
    "\n",
    "\n",
    "# define separators for different input file formats\n",
    "separators = {\"csv\": \",\", \"tsv\": \"\\t\", \"txt\": \"\\t\"}\n",
    "\n",
    "# read feature table\n",
    "if ft_file:\n",
    "    ft = pd.read_csv(ft_file, sep = separators[file.split(\".\")[-1]])\n",
    "else:\n",
    "    print(\"Please select a feature file and rerun this cell.\")\n",
    "# read metadata table\n",
    "if md_file:\n",
    "    md = pd.read_csv(md_file, sep = separators[file.split(\".\")[-1]]).set_index(\"filename\")\n",
    "else:\n",
    "    print(\"Please select a metavalue file and rerun this cell.\")"
   ]
  },
  {
   "cell_type": "markdown",
   "id": "4f12e24c",
   "metadata": {
    "id": "4f12e24c"
   },
   "source": [
    "Let's check if the data has been read correclty!!"
   ]
  },
  {
   "cell_type": "code",
   "execution_count": null,
   "id": "6gemopL1lV45",
   "metadata": {
    "colab": {
     "base_uri": "https://localhost:8080/",
     "height": 352
    },
    "id": "6gemopL1lV45",
    "outputId": "899d5afa-0c4c-4fd4-d59b-3e99c46ef0ef"
   },
   "outputs": [],
   "source": [
    "print('Dimension: ',ft.shape) #gets the dimension (number of rows and columns) of ft\n",
    "ft.head() # gets the first 5 rows of ft"
   ]
  },
  {
   "cell_type": "code",
   "execution_count": null,
   "id": "8pl29xJVlncw",
   "metadata": {
    "colab": {
     "base_uri": "https://localhost:8080/",
     "height": 423
    },
    "id": "8pl29xJVlncw",
    "outputId": "a3a7bc4b-78cd-4623-a638-e6748c5694f3"
   },
   "outputs": [],
   "source": [
    "print('Dimension: ',md.shape)\n",
    "md.head()"
   ]
  },
  {
   "cell_type": "markdown",
   "id": "7da5af06-1073-414a-b306-c9f5f6bae852",
   "metadata": {
    "id": "7da5af06-1073-414a-b306-c9f5f6bae852"
   },
   "source": [
    "## **Creating Functions:**\n",
    "<p style='text-align: justify;'> Before getting into the Data cleanup steps, we have created a function that can be used later for data summarization. By creating functions, we don't have to write these big codes multiple times. Instead, we just use the function name. <font color=\"red\">The following cell in this section will not produce any outputs here. </font> The outputs will be produced when we give input variables to the function in the later sections. </p>\n",
    "\n",
    "<p style='text-align: justify;'> Using this function InsideLevels, we get an idea of the multiple levels in each of the metioned attributes in the metadata as well as the datatype of each attribute.  <font color =\"blue\"> This function takes metadata table as its input. </font></p>"
   ]
  },
  {
   "cell_type": "code",
   "execution_count": null,
   "id": "Rd1O2VJ1nM1i",
   "metadata": {
    "id": "Rd1O2VJ1nM1i"
   },
   "outputs": [],
   "source": [
    "def inside_levels(df):\n",
    "    # get all the columns (equals all attributes) -> will be number of rows\n",
    "    levels = []\n",
    "    types = []\n",
    "    count = []\n",
    "    for col in df.columns:\n",
    "        types.append(type(df[col][0]))\n",
    "        levels.append(sorted(set(df[col].dropna())))\n",
    "        tmp = df[col].value_counts()\n",
    "        count.append([tmp[levels[-1][i]] for i in range(len(levels[-1]))])\n",
    "    return pd.DataFrame({\"ATTRIBUTES\": df.columns, \"LEVELS\": levels, \"COUNT\":count, \"TYPES\": types}, index=range(1, len(levels)+1))"
   ]
  },
  {
   "cell_type": "markdown",
   "id": "8dc4502e-3f83-4c02-b5d1-cd661ee1fec1",
   "metadata": {
    "id": "8dc4502e-3f83-4c02-b5d1-cd661ee1fec1"
   },
   "source": [
    "First, let's have a look at the different conditions within each attribute of our metadata."
   ]
  },
  {
   "cell_type": "code",
   "execution_count": null,
   "id": "535d67d6-3e74-4eec-885c-06c434381110",
   "metadata": {
    "colab": {
     "base_uri": "https://localhost:8080/",
     "height": 222
    },
    "id": "535d67d6-3e74-4eec-885c-06c434381110",
    "outputId": "5469c319-262e-4dae-be2d-44410514fc0b"
   },
   "outputs": [],
   "source": [
    "inside_levels(md)"
   ]
  },
  {
   "cell_type": "markdown",
   "id": "3rHvKfUD9kAw",
   "metadata": {
    "id": "3rHvKfUD9kAw"
   },
   "source": [
    "The above table is a summary of our metadata tabel. For example, the 1st row says that there are 5 different types of sample under 'ATTRIBUTE_Sample' category namely A15M,A45M,A5M,M,PPL and the count of each of these types is 3,3,3,1."
   ]
  },
  {
   "cell_type": "markdown",
   "id": "0ebcf409-e945-480d-9501-a70da21454c9",
   "metadata": {
    "id": "0ebcf409-e945-480d-9501-a70da21454c9"
   },
   "source": [
    "# **Arranging metadata and feature table in the same order:**"
   ]
  },
  {
   "cell_type": "markdown",
   "id": "f19073e0",
   "metadata": {
    "id": "f19073e0"
   },
   "source": [
    "<p style='text-align: justify;'> In the next cell, we are trying to bring the feature table and metadata in the correct format such as <font color =\"green\"> the rownames of metadata and column names of feature table are the same. </font> They both are the file names and they need to be the same, as from now on, we will call the columns in our feature table based on our metadata information. Thus, using the metadata, the user can filter their data easily. You can also directly deal with your feature table without metadata by getting your hands dirty with some coding!! But having a metadata improves the user-experience greatly. </p>"
   ]
  },
  {
   "cell_type": "code",
   "execution_count": null,
   "id": "abo1TVWP0iIy",
   "metadata": {
    "colab": {
     "base_uri": "https://localhost:8080/",
     "height": 406
    },
    "id": "abo1TVWP0iIy",
    "outputId": "c671ed34-c077-45b9-8e6d-785569e3179d"
   },
   "outputs": [],
   "source": [
    "# structure of the original metadata file\n",
    "md.head()"
   ]
  },
  {
   "cell_type": "code",
   "execution_count": null,
   "id": "VZk46QZLx65B",
   "metadata": {
    "colab": {
     "base_uri": "https://localhost:8080/",
     "height": 392
    },
    "id": "VZk46QZLx65B",
    "outputId": "957d2bbe-7aa5-4b53-d364-60c6a95a9d96"
   },
   "outputs": [],
   "source": [
    "new_md = md.copy() #storing the files under different names to preserve the original files\n",
    "# remove the (front & tail) spaces, if any present, from the rownames of md\n",
    "new_md.index = [name.strip() for name in md.index]\n",
    "# for each col in new_md\n",
    "# 1) removing the spaces (if any)\n",
    "# 2) replace the spaces (in the middle) to underscore\n",
    "# 3) converting them all to UPPERCASE\n",
    "for col in new_md.columns:\n",
    "    if new_md[col].dtype == str:\n",
    "        new_md[col] = [item.strip().replace(\" \", \"_\").upper() for item in new_md[col]]\n",
    "print('Dimension: ',new_md.shape)\n",
    "new_md.head()"
   ]
  },
  {
   "cell_type": "code",
   "execution_count": null,
   "id": "p6TtSaQC0r5Y",
   "metadata": {
    "colab": {
     "base_uri": "https://localhost:8080/",
     "height": 334
    },
    "id": "p6TtSaQC0r5Y",
    "outputId": "02b6e4ae-7cb1-4da3-ee0b-1911b3976bf3"
   },
   "outputs": [],
   "source": [
    "# structure of the original feature file\n",
    "ft.head()"
   ]
  },
  {
   "cell_type": "code",
   "execution_count": null,
   "id": "QTb9SmFCyUee",
   "metadata": {
    "colab": {
     "base_uri": "https://localhost:8080/",
     "height": 305
    },
    "id": "QTb9SmFCyUee",
    "outputId": "6bb3c4fe-f8a3-4848-d3ab-4fca4ae0f8d7"
   },
   "outputs": [],
   "source": [
    "new_ft = ft.copy() #storing the files under different names to preserve the original files\n",
    "# changing the index in feature table to contain m/z and RT information\n",
    "new_ft.index = [f\"{id}_{round(mz, 3)}_{round(rt, 3)}\" for id, mz, rt in zip(ft[\"row ID\"], ft[\"row m/z\"], ft[\"row retention time\"])]\n",
    "# drop all columns that are not mzML or mzXML file names\n",
    "new_ft.drop(columns=[col for col in new_ft.columns if \".mz\" not in col], inplace=True)\n",
    "# remove \" Peak area\" from column names\n",
    "new_ft.rename(columns={col: col.replace(\" Peak area\", \"\").strip() for col in new_ft.columns}, inplace=True)\n",
    "print('Dimension: ',new_ft.shape)\n",
    "new_ft.head()"
   ]
  },
  {
   "cell_type": "markdown",
   "id": "i2pC4HQk2JOg",
   "metadata": {
    "id": "i2pC4HQk2JOg"
   },
   "source": [
    "Checking the tables:"
   ]
  },
  {
   "cell_type": "code",
   "execution_count": null,
   "id": "yU8dVGu-J5i8",
   "metadata": {
    "colab": {
     "base_uri": "https://localhost:8080/"
    },
    "id": "yU8dVGu-J5i8",
    "outputId": "03da5ed7-bff9-41e4-cc13-074e1d4855b1"
   },
   "outputs": [],
   "source": [
    "# check if new_ft column names and md row names are the same\n",
    "if sorted(new_ft.columns) == sorted(new_md.index):\n",
    "    print(f\"All {len(new_ft.columns)} files are present in both new_md & new_ft.\")\n",
    "else:\n",
    "    print(\"Not all files are present in both new_md & new_ft.\\n\")\n",
    "    # print the md rows / ft column which are not in ft columns / md rows and remove them\n",
    "    ft_cols_not_in_md = [col for col in new_ft.columns if col not in new_md.index]\n",
    "    print(f\"These {len(ft_cols_not_in_md)} columns of feature table are not present in metadata table and will be removed:\\n{', '.join(ft_cols_not_in_md)}\\n\")\n",
    "    new_ft.drop(columns=ft_cols_not_in_md, inplace=True)\n",
    "    md_rows_not_in_ft = [row for row in new_md.index if row not in new_ft.columns]\n",
    "    print(f\"These {len(md_rows_not_in_ft)} rows of metadata table are not present in feature table and will be removed:\\n{', '.join(md_rows_not_in_ft)}\\n\")\n",
    "    new_md.drop(md_rows_not_in_ft, inplace=True)"
   ]
  },
  {
   "cell_type": "code",
   "execution_count": null,
   "id": "e8phJpNw5QtS",
   "metadata": {
    "id": "e8phJpNw5QtS"
   },
   "outputs": [],
   "source": [
    "new_ft = new_ft.reindex(sorted(new_ft.columns), axis=1) #ordering the ft by its column names\n",
    "new_md.sort_index(inplace=True) #ordering the md by its row names"
   ]
  },
  {
   "cell_type": "code",
   "execution_count": null,
   "id": "881877f6",
   "metadata": {
    "colab": {
     "base_uri": "https://localhost:8080/"
    },
    "id": "881877f6",
    "outputId": "28661b4d-f71f-4e9b-b370-148cd713b074"
   },
   "outputs": [],
   "source": [
    "# checking the dimensions of our new ft and md\n",
    "print(f\"The number of rows and columns in our original ft is: {ft.shape}\")\n",
    "print(f\"The number of rows and columns in our new ft is: {new_ft.shape}\")\n",
    "print(f\"The number of rows and columns in our original md is: {md.shape}\")\n",
    "print(f\"The number of rows and columns in our new md is: {new_md.shape}\\n\")"
   ]
  },
  {
   "cell_type": "markdown",
   "id": "ed594448",
   "metadata": {
    "id": "ed594448"
   },
   "source": [
    "Notice that the number of columns of feature table is same as the number of rows in our metadata. Now, we have both our feature table and metadata in the same order."
   ]
  },
  {
   "cell_type": "code",
   "execution_count": null,
   "id": "01979e55",
   "metadata": {
    "colab": {
     "base_uri": "https://localhost:8080/"
    },
    "id": "01979e55",
    "outputId": "14117312-6f02-4aee-c128-ee697f9bdca3"
   },
   "outputs": [],
   "source": [
    "#checking if they the files are in the same order\n",
    "list(new_ft.columns) == list(new_md.index)"
   ]
  },
  {
   "cell_type": "markdown",
   "id": "e927cf45",
   "metadata": {
    "id": "e927cf45"
   },
   "source": [
    "Lets check the files once again!!"
   ]
  },
  {
   "cell_type": "code",
   "execution_count": null,
   "id": "499d8a48",
   "metadata": {
    "colab": {
     "base_uri": "https://localhost:8080/",
     "height": 305
    },
    "id": "499d8a48",
    "outputId": "0c8a65b4-f889-464d-944d-78c349352cc3"
   },
   "outputs": [],
   "source": [
    "print('Dimension: ',new_ft.shape)\n",
    "new_ft.head()"
   ]
  },
  {
   "cell_type": "code",
   "execution_count": null,
   "id": "6027aea7",
   "metadata": {
    "colab": {
     "base_uri": "https://localhost:8080/",
     "height": 392
    },
    "id": "6027aea7",
    "outputId": "0db79084-a58a-46a8-efe0-5e85d459ca67"
   },
   "outputs": [],
   "source": [
    "print('Dimension: ',new_md.shape)\n",
    "new_md.head()"
   ]
  },
  {
   "cell_type": "markdown",
   "id": "4f45b589",
   "metadata": {
    "id": "4f45b589"
   },
   "source": [
    "# Splitting the data into Blanks and Samples using Metadata:\n",
    "<a id=\"data_split\"></a>\n",
    "\n",
    "For the first step: Blank removal, we need to split the data as spectra obtained from blanks and samples respectively using the metadata. More about Blank removal in the next section."
   ]
  },
  {
   "cell_type": "code",
   "execution_count": null,
   "id": "gY83qEwDat9i",
   "metadata": {
    "colab": {
     "base_uri": "https://localhost:8080/",
     "height": 222
    },
    "id": "gY83qEwDat9i",
    "outputId": "3b0c5eba-ac0b-4643-ab0e-c1e55899d3bc"
   },
   "outputs": [],
   "source": [
    "inside_levels(new_md)"
   ]
  },
  {
   "cell_type": "markdown",
   "id": "f51e5128-1077-4413-9c7f-eb044d2e4993",
   "metadata": {
    "id": "f51e5128-1077-4413-9c7f-eb044d2e4993"
   },
   "source": [
    "In case we want to remove certain files of a particular condition, for ex: ATTRIBUTE_sample = \"M\", we can subset them out of our dataframe using the next cell. "
   ]
  },
  {
   "cell_type": "code",
   "execution_count": null,
   "id": "DZq0h99Na59R",
   "metadata": {
    "id": "DZq0h99Na59R"
   },
   "outputs": [],
   "source": [
    "# subset_data = new_md[new_md['ATTRIBUTE_Sample']!='M']\n",
    "# print('Dimension: ',subset_data.shape)\n",
    "# inside_levels(subset_data)"
   ]
  },
  {
   "cell_type": "markdown",
   "id": "68fe2ef5",
   "metadata": {
    "id": "68fe2ef5"
   },
   "source": [
    "Once we subset the data, we can further proceed to split the blanks from the sample in the cell below. If no subsetting is involved, you can simply split your metadata into blank and sample."
   ]
  },
  {
   "cell_type": "code",
   "execution_count": null,
   "id": "maMkno4qbEET",
   "metadata": {
    "colab": {
     "base_uri": "https://localhost:8080/",
     "height": 387
    },
    "id": "maMkno4qbEET",
    "outputId": "329a36f2-d04e-4739-aeca-98e97465ea65"
   },
   "outputs": [],
   "source": [
    "#If subset_data exists, it will take it as \"data\", else take new_md as \"data\"\n",
    "if 'subset_data' in locals():\n",
    "    data = subset_data\n",
    "else:\n",
    "    data = new_md\n",
    "display(inside_levels(data))\n",
    "\n",
    "condition = int(input(\"Enter the index number of the attribute to split sample and blank: \"))\n",
    "df = pd.DataFrame({\"LEVELS\": inside_levels(data).iloc[condition-1][\"LEVELS\"]})\n",
    "df.index = [*range(1, len(df)+1)]\n",
    "display(df)\n",
    "\n",
    "#Among the shown levels of an attribute, select the ones to keep\n",
    "blank_id = int(input(\"Enter the index number of your BLANK: \"))\n",
    "print('Your chosen blank is: ', df['LEVELS'][blank_id])\n",
    "\n",
    "#Splitting the data into blanks and samples based on the metadata\n",
    "md_blank = data[data[inside_levels(data)['ATTRIBUTES'][condition]] == df['LEVELS'][blank_id]]\n",
    "blank = new_ft[list(md_blank.index)]\n",
    "md_samples = data[data[inside_levels(data)['ATTRIBUTES'][condition]] != df['LEVELS'][blank_id]]\n",
    "samples = new_ft[list(md_samples.index)]"
   ]
  },
  {
   "cell_type": "code",
   "execution_count": null,
   "id": "Zi5coduWb7w3",
   "metadata": {
    "colab": {
     "base_uri": "https://localhost:8080/",
     "height": 223
    },
    "id": "Zi5coduWb7w3",
    "outputId": "5f4fb012-238d-4059-cdb1-9318d37ea028"
   },
   "outputs": [],
   "source": [
    "# Display the chosen blank\n",
    "print('Dimension: ',blank.shape)\n",
    "blank.head()"
   ]
  },
  {
   "cell_type": "code",
   "execution_count": null,
   "id": "FOxnCjr2LSJl",
   "metadata": {
    "colab": {
     "base_uri": "https://localhost:8080/",
     "height": 305
    },
    "id": "FOxnCjr2LSJl",
    "outputId": "b22b12d5-7249-487f-8fab-ff7465b1a3b3"
   },
   "outputs": [],
   "source": [
    "# Display the chosen samples\n",
    "print('Dimension: ',samples.shape)\n",
    "samples.head()"
   ]
  },
  {
   "cell_type": "markdown",
   "id": "105ce796",
   "metadata": {
    "id": "105ce796"
   },
   "source": [
    "**Now that we have our data ready, we can start with the cleanup steps!!**"
   ]
  },
  {
   "cell_type": "markdown",
   "id": "43099574",
   "metadata": {
    "id": "43099574",
    "toc-hr-collapsed": true
   },
   "source": [
    "# Step1: Blank Removal\n",
    "\n",
    "<p style='text-align: justify;'> In LC-MS/MS, we use solvents called Blanks which are usually injected time-to-time to prevent carryover of the sample. The features coming from these Blanks would also be detected by LC-MS/MS instrument. Our goal here is to remove these features from our samples. The other blanks that can be removed are: Signals coming from growth media alone in terms of microbial growth experiment, signals from the solvent used for extraction methods and so on. Therefore, it is best practice to measure mass spectra of these blanks as well in addition to your sample spectra. </p>\n",
    "\n",
    "**How do we remove these blank features?** </br> \n",
    "<p style='text-align: justify;'> Since we have the feature table split into Control blanks and Sample groups now, we can compare blanks to the sample to identify the background features coming from blanks. A common filtering method is to use a cutoff to remove features that are not present sufficient enough in our biological samples. </p>\n",
    "\n",
    "The steps followed in the next few cells are:\n",
    "1. <p style='text-align: justify;'> We find an average for all the feature intensities in your blank set and sample set. Therefore, for n no.of features in a blank or sample set, we get n no.of averaged features. </p>\n",
    "2. <p style='text-align: justify;'> Next, we get a ratio of this average_blanks vs average_sample. This ratio Blank/sample tells us how much of that particular feature of a sample gets its contribution from blanks. If it is more than 30% (or Cutoff as 0.3), we consider the feature as noise. </p>\n",
    "3. <p style='text-align: justify;'> The resultant information (if ratio > Cutoff or not) is stored in a bin such as 1 = Noise or background signal, 0 = Feature Signal</p>\n",
    "4. <p style='text-align: justify;'> We count the no.of features in the bin that satisfies the condition ratio > cutoff, and consider those features as 'noise or background features' and remove them. </p>"
   ]
  },
  {
   "cell_type": "markdown",
   "id": "74eaf47e",
   "metadata": {
    "id": "74eaf47e"
   },
   "source": [
    "**<font color='red'> The Cutoff used to obtain the all the files in MZmine Results folder is 0.3 </font>**"
   ]
  },
  {
   "cell_type": "code",
   "execution_count": null,
   "id": "uPMPshn5dXn3",
   "metadata": {
    "colab": {
     "base_uri": "https://localhost:8080/",
     "height": 262
    },
    "id": "uPMPshn5dXn3",
    "outputId": "96309317-f4ce-40eb-e3f6-0d1005a3fcc1"
   },
   "outputs": [],
   "source": [
    "blank_removal = samples.copy()\n",
    "if (input(\"Do you want to perform Blank Removal- Y/N: \").upper()==\"Y\"):\n",
    "    \n",
    "    # When cutoff is low, more noise (or background) detected; With higher cutoff, less background detected, thus more features observed\n",
    "    cutoff = float(input(\"Enter Cutoff value between 0.1 & 1 (Ideal cutoff range: 0.1-0.3): \")) # (i.e. 10% - 100%). Ideal cutoff range: 0.1-0.3\n",
    "    \n",
    "    # Getting mean for every feature in blank and Samples\n",
    "    avg_blank = blank.mean(axis=1, skipna=False) # set skipna = False do not exclude NA/null values when computing the result.\n",
    "    avg_samples = samples.mean(axis=1, skipna=False)\n",
    "\n",
    "    # Getting the ratio of blank vs samples\n",
    "    ratio_blank_samples = (avg_blank+1)/(avg_samples+1)\n",
    "\n",
    "    # Create an array with boolean values: True (is a real feature, ratio<cutoff) / False (is a blank, background, noise feature, ratio>cutoff)\n",
    "    is_real_feature = (ratio_blank_samples<cutoff)\n",
    "\n",
    "    # Checking if there are any NA values present. Having NA values in the 4 variables will affect the final dataset to be created\n",
    "    temp_NA_Count = pd.concat([avg_blank, avg_samples, ratio_blank_samples, is_real_feature], \n",
    "                            keys=['avg_blank', 'avg_samples', 'ratio_blank_samples', 'bg_bin'], axis = 1)\n",
    "    \n",
    "    print('No. of NA values in the following columns: ')\n",
    "    display(pd.DataFrame(temp_NA_Count.isna().sum(), columns=['NA']))\n",
    "\n",
    "    # Calculating the number of background features and features present (sum(bg_bin) equals number of features to be removed)\n",
    "    print(f\"No. of Background or noise features: {len(samples)-sum(is_real_feature)}\")\n",
    "    print(f\"No. of features after excluding noise: {sum(is_real_feature)}\")\n",
    "\n",
    "    blank_removal = samples[is_real_feature.values]\n",
    "    # save to file\n",
    "    blank_removal.to_csv(os.path.join(result_dir, \"Blanks_Removed.csv\"))"
   ]
  },
  {
   "cell_type": "code",
   "execution_count": null,
   "id": "81cbd3f6",
   "metadata": {
    "colab": {
     "base_uri": "https://localhost:8080/",
     "height": 305
    },
    "id": "81cbd3f6",
    "outputId": "993f7bfa-d414-45e0-d905-0f60a4726e00"
   },
   "outputs": [],
   "source": [
    "print('Dimension: ',blank_removal.shape)\n",
    "display(blank_removal.head())"
   ]
  },
  {
   "cell_type": "markdown",
   "id": "b4210007",
   "metadata": {
    "id": "b4210007",
    "toc-hr-collapsed": true
   },
   "source": [
    "# Step 2: Imputation\n",
    "\n",
    "<p style='text-align: justify;'> For several reasons, real world datasets might have some missing values in it, in the form of NA, NANs or 0s. Eventhough the gapfilling step of MZmine fills the missing values, we still end up with some missing values or 0s in our feature table. This could be problematic for statistical analysis. </p> \n",
    "<p style='text-align: justify;'> In order to have a better dataset, we cannot simply discard those rows or columns with missing values as we will lose a chunk of our valuable data. Instead we can try imputing those missing values. Imputation involves replacing the missing values in the data with a meaningful, reasonable guess. There are several methods, such as: </p> \n",
    "  \n",
    "1) Mean imputation (replacing the missing values in a column with the mean or average of the column)  \n",
    "2) Replacing it with the most frequent value  \n",
    "3) Several other machine learning imputation methods such as k-nearest neighbors algorithm(k-NN), Hidden Markov Model(HMM)\n",
    "\n",
    "Here, we use ft and see the frquency distribution of its features with a plot. It shows where the features are present in higher number."
   ]
  },
  {
   "cell_type": "code",
   "execution_count": null,
   "id": "JwFJ1lrlf_1S",
   "metadata": {
    "colab": {
     "base_uri": "https://localhost:8080/",
     "height": 434
    },
    "id": "JwFJ1lrlf_1S",
    "outputId": "1597f89b-f70b-40dd-dd5f-89ae2aefa1cc"
   },
   "outputs": [],
   "source": [
    "bins, bins_label, a = [-1, 0, 1, 10], ['-1','0', \"1\", \"10\"], 2\n",
    "\n",
    "while a<=10:\n",
    "    bins_label.append(np.format_float_scientific(10**a))\n",
    "    bins.append(10**a)\n",
    "    a+=1\n",
    "\n",
    "freq_table = pd.DataFrame(bins_label)\n",
    "frequency = pd.DataFrame(np.array(np.unique(np.digitize(blank_removal.to_numpy(), bins, right=True), return_counts=True)).T).set_index(0)\n",
    "freq_table = pd.concat([freq_table,frequency], axis=1).fillna(0).drop(0)\n",
    "freq_table.columns = ['intensity', 'Frequency']\n",
    "freq_table['Log(Frequency)'] = np.log(freq_table['Frequency']+1)\n",
    "\n",
    "# get the lowest intensity (that is not zero) as a cutoff LOD value\n",
    "cutoff_LOD = round(blank_removal.replace(0, np.nan).min(numeric_only=True).min())\n",
    "\n",
    "fig = px.bar(freq_table, x=\"intensity\", y=\"Log(Frequency)\", template=\"plotly_white\",  width=600, height=400)\n",
    "\n",
    "fig.update_traces(marker_color=\"#696880\")\n",
    "fig.update_layout(font={\"color\":\"grey\", \"size\":12, \"family\":\"Sans\"},\n",
    "                  title={\"text\":\"FEATURE INTENSITY - FREQUENCY PLOT\", 'x':0.5, \"font_color\":\"#3E3D53\"})\n",
    "fig.write_image(os.path.join(result_dir, \"frequency_plot.svg\"))\n",
    "fig.show()"
   ]
  },
  {
   "cell_type": "markdown",
   "id": "aE9z6OQZhLbn",
   "metadata": {
    "id": "aE9z6OQZhLbn"
   },
   "source": [
    "A random number between this minimum value and zero will be used for imputation."
   ]
  },
  {
   "cell_type": "code",
   "execution_count": null,
   "id": "0rBzEjIUhu-R",
   "metadata": {
    "colab": {
     "base_uri": "https://localhost:8080/",
     "height": 322
    },
    "id": "0rBzEjIUhu-R",
    "outputId": "97fa5bbc-8608-4537-a285-6f6dfe0a8f36"
   },
   "outputs": [],
   "source": [
    "imputed = blank_removal.copy()\n",
    "if(input(\"Do you want to perform Imputation? - Y/N: \").upper()==\"Y\"):\n",
    "    #imputed.replace(0, np.random.randint(0, cutoff_LOD), inplace=True)\n",
    "    imputed = imputed.apply(lambda x: [np.random.randint(0, cutoff_LOD) if v == 0 else v for v in x])\n",
    "    print('Dimension: ',imputed.shape)\n",
    "    display(imputed)\n",
    "    # save to file\n",
    "    imputed.to_csv(os.path.join(result_dir, f\"Imputed_QuantTable.csv\"))"
   ]
  },
  {
   "cell_type": "markdown",
   "id": "tnSOkAjHArKs",
   "metadata": {
    "id": "tnSOkAjHArKs"
   },
   "source": [
    "Too many missing values is problematic for statistical analyses. Here we calculate the proportion of missing values (coded as the value of the cutoff_LOD) and display the proportions in a histogram"
   ]
  },
  {
   "attachments": {},
   "cell_type": "markdown",
   "id": "ce521719",
   "metadata": {},
   "source": [
    "TODO move plot up before imputation"
   ]
  },
  {
   "cell_type": "code",
   "execution_count": null,
   "id": "06048f4f-1a77-4c34-ae24-830267817986",
   "metadata": {},
   "outputs": [],
   "source": [
    "# check the number of missing values per feature in a histogram\n",
    "n_zeros = imputed.T.apply(lambda x: sum(x<=cutoff_LOD))\n",
    "\n",
    "fig = px.histogram(n_zeros, template=\"plotly_white\",  \n",
    "                   width=600, height=400)\n",
    "\n",
    "fig.update_traces(marker_color=\"#696880\")\n",
    "fig.update_layout(font={\"color\":\"grey\", \"size\":12, \"family\":\"Sans\"},\n",
    "                  title={\"text\":\"MISSING VALUES PER FEATURE\", 'x':0.5, \"font_color\":\"#3E3D53\"},\n",
    "                  xaxis_title=\"number of missing values\", yaxis_title=\"count\", showlegend=False)\n",
    "fig.write_image(os.path.join(result_dir, \"number_of_missing_values_per_feature.svg\"))\n",
    "fig.show()"
   ]
  },
  {
   "cell_type": "markdown",
   "id": "f06a2dd7",
   "metadata": {
    "id": "f06a2dd7"
   },
   "source": [
    "# Step 3 Normalization\n",
    "The following code performs sample-centric (column-wise) normalisation:"
   ]
  },
  {
   "cell_type": "code",
   "execution_count": null,
   "id": "OJ0p875Aj_F9",
   "metadata": {
    "colab": {
     "base_uri": "https://localhost:8080/",
     "height": 322
    },
    "id": "OJ0p875Aj_F9",
    "outputId": "61f12e83-9c4c-41e0-9f23-70d0ec0ed2ec"
   },
   "outputs": [],
   "source": [
    "normalized = imputed.copy()\n",
    "if(input(\"Do you want to perform Normalization? - Y/N: \").upper()==\"Y\"):\n",
    "    # Dividing each element of a particular column with its column sum\n",
    "    normalized = normalized.apply(lambda x: x/np.sum(x), axis=0)\n",
    "    \n",
    "    # save to file\n",
    "    normalized.to_csv(os.path.join(result_dir, \"Normalised_Quant_table.csv\"))\n",
    "    \n",
    "    print('Dimension: ', normalized.shape)\n",
    "    display(normalized.head())"
   ]
  },
  {
   "cell_type": "markdown",
   "id": "w7rYinojzPVx",
   "metadata": {
    "id": "w7rYinojzPVx"
   },
   "source": [
    "# Step 4: Transposing"
   ]
  },
  {
   "cell_type": "code",
   "execution_count": null,
   "id": "bwSzUDgomTnm",
   "metadata": {
    "colab": {
     "base_uri": "https://localhost:8080/",
     "height": 306
    },
    "id": "bwSzUDgomTnm",
    "outputId": "be6c23da-a59c-4cfb-cba2-5f62d792c5ae"
   },
   "outputs": [],
   "source": [
    "# transposing the imputed table before scaling\n",
    "transposed = imputed.T\n",
    "print(f'Imputed feature table rows/columns: {transposed.shape}')\n",
    "display(transposed.head(3))\n",
    "# put the rows in the feature table and metadata in the same order\n",
    "transposed.sort_index(inplace=True)\n",
    "md_samples.sort_index(inplace=True)\n",
    "try:\n",
    "    print(md_samples.index == transposed.index) # should be all True\n",
    "except:\n",
    "    print(\"WARNING: Sample names in feature and metadata table are NOT the same!\")\n",
    "transposed.to_csv(os.path.join(result_dir, \"Imputed_QuantTable_transposed.csv\"))"
   ]
  },
  {
   "cell_type": "markdown",
   "id": "51c183c7-cdfb-4d60-a02e-7bd880987104",
   "metadata": {},
   "source": [
    "# Step 5: Scaling\n",
    "For statistics normalization should happen across the complete dataframe via scaling and centering. "
   ]
  },
  {
   "cell_type": "code",
   "execution_count": null,
   "id": "L3U41ypivQ4Z",
   "metadata": {
    "colab": {
     "base_uri": "https://localhost:8080/",
     "height": 404
    },
    "id": "L3U41ypivQ4Z",
    "outputId": "589177a2-2ae1-42e7-8bca-0e9ec51d1703"
   },
   "outputs": [],
   "source": [
    "print(f\"Proportion of the dataset that consists of missing values (coded as {cutoff_LOD}): {((transposed<=cutoff_LOD).to_numpy()).mean()}\")\n",
    "print(f\"\\nMetabolites with measurements in at least 50 % of the samples: {(((n_zeros/transposed.shape[0])<=0.5).to_numpy()).mean()}\")\n",
    "\n",
    "# Deselect metabolites with more than 50 % missing values. This helps to get rid of features that are present in too few samples to conduct proper statistical tests\n",
    "data_filtered = transposed[transposed.columns[(n_zeros/transposed.shape[0])<0.5]]\n",
    "\n",
    "# scale filtered data\n",
    "scaled = pd.DataFrame(StandardScaler().fit_transform(data_filtered), index=data_filtered.index, columns=data_filtered.columns)\n",
    "scaled.to_csv(os.path.join(result_dir, \"Imputed_Scaled_QuantTable.csv\"))\n",
    "\n",
    "# Merge feature table and metadata to one dataframe:\n",
    "# \"how=inner\" performs an inner join (only the filenames that appear in md_samples and data are kept)\n",
    "data = pd.merge(md_samples, scaled, left_index=True, right_index=True, how=\"inner\")\n",
    "display(data.head())"
   ]
  },
  {
   "cell_type": "markdown",
   "id": "DRHowqAkApBe",
   "metadata": {
    "id": "DRHowqAkApBe"
   },
   "source": [
    "# Univariate:"
   ]
  },
  {
   "cell_type": "markdown",
   "id": "LKPTigNdTGyN",
   "metadata": {
    "id": "LKPTigNdTGyN"
   },
   "source": [
    "**Run ANOVA** <br>\n",
    "\n",
    "We now use the function anova from the pingouin library to run the ANOVA. Since one ANOVA is being run for each metabolite feature, we run the analyses in a loop and save the output for each feature in a list called anova_out.<br>\n",
    "\n",
    "The vector a indicates which columns in the dataset are features (i.e. from column 5 to the last column of the data frame). <br>\n",
    "\n",
    "We can run a for loop to pass each feature column into the first argument of the aov function, while the second argument, time point, is constant."
   ]
  },
  {
   "cell_type": "code",
   "execution_count": null,
   "id": "MDCZdylZywGX",
   "metadata": {
    "id": "MDCZdylZywGX"
   },
   "outputs": [],
   "source": [
    "# select an attribute to perform ANOVA\n",
    "anova_attribute = 'ATTRIBUTE_Sample_Area'\n",
    "\n",
    "def gen_anova_data(df, columns, groups_col):\n",
    "    for col in columns:\n",
    "        result = pg.anova(data=df, dv=col, between=groups_col, detailed=True).set_index('Source')\n",
    "        p = result.loc[groups_col, 'p-unc']\n",
    "        f = result.loc[groups_col, 'F']\n",
    "        yield col, p, f\n",
    "\n",
    "dtypes = [('metabolite', 'U100'), ('p', 'f'), ('F', 'f')]\n",
    "anova = pd.DataFrame(np.fromiter(gen_anova_data(data, scaled.columns, anova_attribute), dtype=dtypes))\n",
    "anova"
   ]
  },
  {
   "cell_type": "markdown",
   "id": "OKKiBVxxTndL",
   "metadata": {
    "id": "OKKiBVxxTndL"
   },
   "source": [
    "The following is of interest:\n",
    "*   Feature ID (column 'metabolite')\n",
    "*   p-value for ANOVA\n",
    "*   p-value after taking multiple tests into consideration\n",
    "*   F-value"
   ]
  },
  {
   "cell_type": "code",
   "execution_count": null,
   "id": "xRLmgVnq5MOI",
   "metadata": {
    "colab": {
     "base_uri": "https://localhost:8080/",
     "height": 720
    },
    "id": "xRLmgVnq5MOI",
    "outputId": "d52e23fa-b234-4a40-d6ee-7ee5a936871e"
   },
   "outputs": [],
   "source": [
    "# add Bonferroni corrected p-values for multiple testing correction\n",
    "if 'p_bonferroni' not in anova.columns:\n",
    "    anova.insert(2, 'p_bonferroni', pg.multicomp(anova['p'], method='bonf')[1])\n",
    "# add significance\n",
    "if 'significant' not in anova.columns:\n",
    "    anova.insert(3, 'significant', anova['p_bonferroni'] < 0.05)\n",
    "# sort by p-value\n",
    "anova.sort_values('p', inplace=True)\n",
    "# save ANOVA table\n",
    "anova.to_csv(os.path.join(result_dir, 'ANOVA_results.csv'))"
   ]
  },
  {
   "cell_type": "markdown",
   "id": "P9OMCkdmVrNY",
   "metadata": {
    "id": "P9OMCkdmVrNY"
   },
   "source": [
    "**Plot ANOVA results**\n",
    "\n",
    "We will use plotly to visualize results from the ANOVA, with log(F-values) on the x-axis and -log(p) on the y-axis. Features are colored after statistical significance after multiple test correction. Since there are large differences in the F- and p-values, it is easier to plot their log.\n",
    "\n",
    "We can also display the names of some of the top features in the plot. This easily gets very cluttered if we decide to display too many names, so starting at the top 5 could be a good idea."
   ]
  },
  {
   "cell_type": "code",
   "execution_count": null,
   "id": "OwSyax7p-IPk",
   "metadata": {
    "colab": {
     "base_uri": "https://localhost:8080/",
     "height": 617
    },
    "id": "OwSyax7p-IPk",
    "outputId": "e8833fb5-4b71-4b87-a6e0-d58e7158837a"
   },
   "outputs": [],
   "source": [
    "# first plot insignificant features\n",
    "fig = px.scatter(x=anova[anova['significant'] == False]['F'].apply(np.log),\n",
    "                y=anova[anova['significant'] == False]['p'].apply(lambda x: -np.log(x)),\n",
    "                template='plotly_white', width=600, height=600)\n",
    "fig.update_traces(marker_color=\"#696880\")\n",
    "\n",
    "# plot significant features\n",
    "fig.add_scatter(x=anova[anova['significant']]['F'].apply(np.log),\n",
    "                y=anova[anova['significant']]['p'].apply(lambda x: -np.log(x)),\n",
    "                mode='markers+text',\n",
    "                text=anova['metabolite'].iloc[:4],\n",
    "                textposition='top left', textfont=dict(color='#ef553b', size=7), name='significant')\n",
    "\n",
    "fig.update_layout(font={\"color\":\"grey\", \"size\":12, \"family\":\"Sans\"},\n",
    "                  title={\"text\":\"ANOVA - FEATURE SIGNIFICANCE\", 'x':0.5, \"font_color\":\"#3E3D53\"},\n",
    "                  xaxis_title=\"log(F)\", yaxis_title=\"-log(p)\", showlegend=False)\n",
    "\n",
    "# save fig as pdf\n",
    "fig.write_image(os.path.join(result_dir, \"plot_ANOVA.pdf\"), scale=3)\n",
    "\n",
    "fig.show()"
   ]
  },
  {
   "cell_type": "code",
   "execution_count": null,
   "id": "pc0VaEmlK90g",
   "metadata": {
    "id": "pc0VaEmlK90g"
   },
   "outputs": [],
   "source": [
    "# boxplots with top 4 metabolites from ANOVA\n",
    "for metabolite in anova.sort_values('p_bonferroni').iloc[:4, 0]:\n",
    "    fig = px.box(data, x=anova_attribute, y=metabolite, color=anova_attribute)\n",
    "    fig.update_layout(showlegend=False, title=metabolite, xaxis_title=\"\", yaxis_title=\"intensity\", template=\"plotly_white\", width=500)\n",
    "    display(fig)"
   ]
  },
  {
   "attachments": {},
   "cell_type": "markdown",
   "id": "y6E_i2aqeevQ",
   "metadata": {
    "id": "y6E_i2aqeevQ"
   },
   "source": [
    "**Tukey's post hoc test:**\n"
   ]
  },
  {
   "cell_type": "code",
   "execution_count": 188,
   "id": "qdFyHQTwS1I1",
   "metadata": {
    "colab": {
     "base_uri": "https://localhost:8080/",
     "height": 255
    },
    "id": "qdFyHQTwS1I1",
    "outputId": "4c9bc838-cc0c-443b-9b50-d00d376e628a"
   },
   "outputs": [
    {
     "data": {
      "text/html": [
       "<div>\n",
       "<style scoped>\n",
       "    .dataframe tbody tr th:only-of-type {\n",
       "        vertical-align: middle;\n",
       "    }\n",
       "\n",
       "    .dataframe tbody tr th {\n",
       "        vertical-align: top;\n",
       "    }\n",
       "\n",
       "    .dataframe thead th {\n",
       "        text-align: right;\n",
       "    }\n",
       "</style>\n",
       "<table border=\"1\" class=\"dataframe\">\n",
       "  <thead>\n",
       "    <tr style=\"text-align: right;\">\n",
       "      <th></th>\n",
       "      <th>contrast</th>\n",
       "      <th>stats_metabolite</th>\n",
       "      <th>stats_ID</th>\n",
       "      <th>stats_diff</th>\n",
       "      <th>stats_p</th>\n",
       "      <th>stats_p_bonferroni</th>\n",
       "      <th>stats_significant</th>\n",
       "    </tr>\n",
       "  </thead>\n",
       "  <tbody>\n",
       "    <tr>\n",
       "      <th>13399</th>\n",
       "      <td>Pacific_Beach-Torrey_Pines</td>\n",
       "      <td>90743_908.258_12.555</td>\n",
       "      <td>90743</td>\n",
       "      <td>0.544306</td>\n",
       "      <td>2.708944e-14</td>\n",
       "      <td>4.300720e-10</td>\n",
       "      <td>True</td>\n",
       "    </tr>\n",
       "    <tr>\n",
       "      <th>14</th>\n",
       "      <td>Torrey_Pines-Mission_Bay</td>\n",
       "      <td>59188_312.231_7.625</td>\n",
       "      <td>59188</td>\n",
       "      <td>1.874371</td>\n",
       "      <td>1.669775e-13</td>\n",
       "      <td>2.650935e-09</td>\n",
       "      <td>True</td>\n",
       "    </tr>\n",
       "    <tr>\n",
       "      <th>8926</th>\n",
       "      <td>Pacific_Beach-Torrey_Pines</td>\n",
       "      <td>10485_193.119_2.895</td>\n",
       "      <td>10485</td>\n",
       "      <td>1.332307</td>\n",
       "      <td>1.521672e-12</td>\n",
       "      <td>2.415806e-08</td>\n",
       "      <td>True</td>\n",
       "    </tr>\n",
       "    <tr>\n",
       "      <th>644</th>\n",
       "      <td>Torrey_Pines-Mission_Bay</td>\n",
       "      <td>52248_276.144_6.766</td>\n",
       "      <td>52248</td>\n",
       "      <td>1.395321</td>\n",
       "      <td>1.581402e-12</td>\n",
       "      <td>2.510633e-08</td>\n",
       "      <td>True</td>\n",
       "    </tr>\n",
       "    <tr>\n",
       "      <th>308</th>\n",
       "      <td>Torrey_Pines-Mission_Bay</td>\n",
       "      <td>38623_287.232_5.423</td>\n",
       "      <td>38623</td>\n",
       "      <td>1.605767</td>\n",
       "      <td>2.461920e-12</td>\n",
       "      <td>3.908544e-08</td>\n",
       "      <td>True</td>\n",
       "    </tr>\n",
       "    <tr>\n",
       "      <th>...</th>\n",
       "      <td>...</td>\n",
       "      <td>...</td>\n",
       "      <td>...</td>\n",
       "      <td>...</td>\n",
       "      <td>...</td>\n",
       "      <td>...</td>\n",
       "      <td>...</td>\n",
       "    </tr>\n",
       "    <tr>\n",
       "      <th>4374</th>\n",
       "      <td>La_Jolla Reefs-Torrey_Pines</td>\n",
       "      <td>64670_379.211_8.367</td>\n",
       "      <td>64670</td>\n",
       "      <td>-0.000104</td>\n",
       "      <td>9.991485e-01</td>\n",
       "      <td>1.000000e+00</td>\n",
       "      <td>False</td>\n",
       "    </tr>\n",
       "    <tr>\n",
       "      <th>8121</th>\n",
       "      <td>SIO_La_Jolla_Shores-La_Jolla_Cove</td>\n",
       "      <td>59140_366.227_7.612</td>\n",
       "      <td>59140</td>\n",
       "      <td>0.000097</td>\n",
       "      <td>9.993836e-01</td>\n",
       "      <td>1.000000e+00</td>\n",
       "      <td>False</td>\n",
       "    </tr>\n",
       "    <tr>\n",
       "      <th>4160</th>\n",
       "      <td>Pacific_Beach-SIO_La_Jolla_Shores</td>\n",
       "      <td>76841_317.211_10.162</td>\n",
       "      <td>76841</td>\n",
       "      <td>0.000116</td>\n",
       "      <td>9.994929e-01</td>\n",
       "      <td>1.000000e+00</td>\n",
       "      <td>False</td>\n",
       "    </tr>\n",
       "    <tr>\n",
       "      <th>9300</th>\n",
       "      <td>La_Jolla_Cove-Mission_Beach</td>\n",
       "      <td>16914_229.143_3.526</td>\n",
       "      <td>16914</td>\n",
       "      <td>-0.000017</td>\n",
       "      <td>9.997290e-01</td>\n",
       "      <td>1.000000e+00</td>\n",
       "      <td>False</td>\n",
       "    </tr>\n",
       "    <tr>\n",
       "      <th>4439</th>\n",
       "      <td>La_Jolla Reefs-La_Jolla_Cove</td>\n",
       "      <td>79344_716.516_10.232</td>\n",
       "      <td>79344</td>\n",
       "      <td>0.000011</td>\n",
       "      <td>9.998688e-01</td>\n",
       "      <td>1.000000e+00</td>\n",
       "      <td>False</td>\n",
       "    </tr>\n",
       "  </tbody>\n",
       "</table>\n",
       "<p>15876 rows × 7 columns</p>\n",
       "</div>"
      ],
      "text/plain": [
       "                                contrast      stats_metabolite  stats_ID  \\\n",
       "13399         Pacific_Beach-Torrey_Pines  90743_908.258_12.555     90743   \n",
       "14              Torrey_Pines-Mission_Bay   59188_312.231_7.625     59188   \n",
       "8926          Pacific_Beach-Torrey_Pines   10485_193.119_2.895     10485   \n",
       "644             Torrey_Pines-Mission_Bay   52248_276.144_6.766     52248   \n",
       "308             Torrey_Pines-Mission_Bay   38623_287.232_5.423     38623   \n",
       "...                                  ...                   ...       ...   \n",
       "4374         La_Jolla Reefs-Torrey_Pines   64670_379.211_8.367     64670   \n",
       "8121   SIO_La_Jolla_Shores-La_Jolla_Cove   59140_366.227_7.612     59140   \n",
       "4160   Pacific_Beach-SIO_La_Jolla_Shores  76841_317.211_10.162     76841   \n",
       "9300         La_Jolla_Cove-Mission_Beach   16914_229.143_3.526     16914   \n",
       "4439        La_Jolla Reefs-La_Jolla_Cove  79344_716.516_10.232     79344   \n",
       "\n",
       "       stats_diff       stats_p  stats_p_bonferroni  stats_significant  \n",
       "13399    0.544306  2.708944e-14        4.300720e-10               True  \n",
       "14       1.874371  1.669775e-13        2.650935e-09               True  \n",
       "8926     1.332307  1.521672e-12        2.415806e-08               True  \n",
       "644      1.395321  1.581402e-12        2.510633e-08               True  \n",
       "308      1.605767  2.461920e-12        3.908544e-08               True  \n",
       "...           ...           ...                 ...                ...  \n",
       "4374    -0.000104  9.991485e-01        1.000000e+00              False  \n",
       "8121     0.000097  9.993836e-01        1.000000e+00              False  \n",
       "4160     0.000116  9.994929e-01        1.000000e+00              False  \n",
       "9300    -0.000017  9.997290e-01        1.000000e+00              False  \n",
       "4439     0.000011  9.998688e-01        1.000000e+00              False  \n",
       "\n",
       "[15876 rows x 7 columns]"
      ]
     },
     "metadata": {},
     "output_type": "display_data"
    }
   ],
   "source": [
    "# all possible pairs of attributes from anova_attribute\n",
    "contrasts = list(itertools.combinations(set(data[anova_attribute]), 2))\n",
    "\n",
    "def gen_pairwise_tukey(df, contrasts, metabolites):\n",
    "    \"\"\" Yield results for pairwise Tukey test for all metabolites between start and end time points.\"\"\"\n",
    "    for metabolite in metabolites:\n",
    "        for contrast in contrasts:\n",
    "            df_for_tukey = df.iloc[np.where(data[anova_attribute].isin([contrast[0], contrast[-1]]))][[metabolite, 'ATTRIBUTE_Sample_Area']]\n",
    "            tukey = pg.pairwise_tukey(df_for_tukey, dv=metabolite, between=anova_attribute)\n",
    "            yield f'{contrast[0]}-{contrast[1]}', metabolite, int(metabolite.split('_')[0]), tukey['diff'], tukey['p-tukey']\n",
    "\n",
    "dtypes = [('contrast', 'U100'), ('stats_metabolite', 'U100'), ('stats_ID', 'i'), ('stats_diff', 'f'), ('stats_p', 'f')]\n",
    "tukey = pd.DataFrame(np.fromiter(gen_pairwise_tukey(data, contrasts, anova[anova['significant']]['metabolite']), dtype=dtypes))\n",
    "# add Bonferroni corrected p-values\n",
    "tukey.insert(5, 'stats_p_bonferroni', pg.multicomp(tukey['stats_p'], method='bonf')[1])\n",
    "# add significance\n",
    "tukey.insert(6, 'stats_significant', tukey['stats_p_bonferroni'] < 0.05)\n",
    "# sort by p-value\n",
    "tukey.sort_values('stats_p', inplace=True)\n",
    "\n",
    "# write output to csv file\n",
    "tukey.to_csv(os.path.join(result_dir, 'TukeyHSD_output.csv'))\n",
    "\n",
    "display(tukey)"
   ]
  },
  {
   "cell_type": "markdown",
   "id": "7MAZmD0Ve2LJ",
   "metadata": {
    "id": "7MAZmD0Ve2LJ"
   },
   "source": [
    "Create a volcano plot that displays -log(p) on the y-axis and group-difference on the x-axis. Again, display names of top findings in the plot"
   ]
  },
  {
   "cell_type": "code",
   "execution_count": 200,
   "id": "i6uWEoGWS_bH",
   "metadata": {
    "colab": {
     "base_uri": "https://localhost:8080/",
     "height": 497
    },
    "id": "i6uWEoGWS_bH",
    "outputId": "d0a1228f-66e8-4b0f-e758-0196ed39f77d"
   },
   "outputs": [
    {
     "data": {
      "application/vnd.plotly.v1+json": {
       "config": {
        "plotlyServerURL": "https://plot.ly"
       },
       "data": [
        {
         "hovertemplate": "<extra></extra>",
         "legendgroup": "",
         "marker": {
          "color": "#636efa",
          "symbol": "circle"
         },
         "mode": "markers",
         "name": "",
         "orientation": "v",
         "showlegend": false,
         "type": "scatter",
         "xaxis": "x",
         "yaxis": "y"
        },
        {
         "marker": {
          "color": "#696880"
         },
         "mode": "markers",
         "name": "insignificant",
         "type": "scatter",
         "x": [
          -1.2106257677078247,
          -0.5965814590454102,
          -0.3420427739620209,
          0.23867915570735931,
          0.13622574508190155,
          -0.8098944425582886,
          -0.2125430703163147,
          0.8292549252510071,
          0.5010071396827698,
          -0.662260890007019,
          -0.921846330165863,
          -0.32837778329849243,
          -0.6394580602645874,
          -0.6066017150878906,
          -0.02389667183160782,
          -0.7890167236328125,
          -0.053038451820611954,
          -0.2301044762134552,
          -0.3231775760650635,
          0.6021981239318848,
          -0.6284800171852112,
          -0.6286337971687317,
          -0.23410344123840332,
          -0.23513948917388916,
          -0.13624610006809235,
          -0.4765699803829193,
          -0.06852716952562332,
          0.14053508639335632,
          -0.6395235657691956,
          0.02595994807779789,
          -0.2650567889213562,
          0.13866375386714935,
          -0.1319131702184677,
          -0.5983896255493164,
          0.21991418302059174,
          0.06405621767044067,
          -0.2538767457008362,
          -0.27128496766090393,
          0.05421444773674011,
          -0.13616064190864563,
          -0.2950231432914734,
          -0.20285382866859436,
          -0.20534874498844147,
          0.1960553377866745,
          -0.3702927827835083,
          0.04965871199965477,
          -0.5639347434043884,
          -0.3917545974254608,
          -0.30344143509864807,
          0.03642752021551132,
          0.11129842698574066,
          -0.12322428077459335,
          0.033234745264053345,
          0.18155932426452637,
          -0.1201273649930954,
          -0.45101994276046753,
          0.06669923663139343,
          0.01155315525829792,
          -1.116040587425232,
          0.12134659290313721,
          0.030074328184127808,
          -0.21101929247379303,
          -0.11025513708591461,
          0.26638439297676086,
          0.19369855523109436,
          0.044557780027389526,
          0.16180892288684845,
          0.06950070708990097,
          -0.29283425211906433,
          0.049424637109041214,
          0.056332580745220184,
          -0.13400019705295563,
          0.3059365451335907,
          0.04109087958931923,
          -0.1036444827914238,
          -0.061354175209999084,
          -0.08142150938510895,
          0.14913323521614075,
          -0.12695784866809845,
          0.22006884217262268,
          -0.04075389727950096,
          0.02336696721613407,
          0.13478900492191315,
          -0.9344011545181274,
          -0.0642477422952652,
          0.11282888799905777,
          -0.05376717448234558,
          -0.34475386142730713,
          0.0713961124420166,
          -0.050938885658979416,
          0.031835466623306274,
          0.1118515282869339,
          -0.27140095829963684,
          0.25190168619155884,
          -0.18483169376850128,
          0.010843263007700443,
          0.06773509830236435,
          0.1575373262166977,
          -0.974047839641571,
          0.030733246356248856,
          0.07134635746479034,
          0.040649645030498505,
          0.17146386206150055,
          0.04123898223042488,
          0.03509984165430069,
          0.05865013599395752,
          0.07065268605947495,
          0.10926208645105362,
          0.09295947104692459,
          0.02753307670354843,
          0.10003658384084702,
          0.1831037849187851,
          0.22737956047058105,
          0.0424349419772625,
          -0.044426143169403076,
          -0.15946058928966522,
          0.08669576048851013,
          -0.08159472793340683,
          0.017697764560580254,
          0.050295859575271606,
          -0.05128181725740433,
          -0.07577074319124222,
          0.03602396696805954,
          -0.3654296100139618,
          0.13090316951274872,
          0.0611855611205101,
          0.0428842231631279,
          -0.28214728832244873,
          0.03872378543019295,
          0.5654379725456238,
          0.698183536529541,
          0.053195562213659286,
          0.03552059829235077,
          0.031770024448633194,
          -0.03591533377766609,
          -0.06282553821802139,
          0.008298574946820736,
          0.04654798284173012,
          0.0586964450776577,
          -0.1906583458185196,
          -0.11216569691896439,
          0.28889554738998413,
          0.045681823045015335,
          0.06523165851831436,
          -0.14545302093029022,
          0.059778399765491486,
          0.2328096181154251,
          -0.07744712382555008,
          0.12097612768411636,
          0.04474271833896637,
          -0.09939171373844147,
          0.094423308968544,
          0.01864735409617424,
          0.16503368318080902,
          0.12341658771038055,
          0.11003632843494415,
          -0.7823795080184937,
          -0.02742668241262436,
          0.17553772032260895,
          0.0719916969537735,
          0.42839857935905457,
          -0.10618060827255249,
          0.020920027047395706,
          0.14121843874454498,
          -0.08282635360956192,
          -0.08723023533821106,
          0.06127708777785301,
          -0.19277945160865784,
          0.024649810045957565,
          -0.1348733752965927,
          0.11348412930965424,
          0.07152851670980453,
          0.0684533566236496,
          0.0143979387357831,
          0.7205145955085754,
          0.06446053087711334,
          0.29346373677253723,
          0.08818154782056808,
          0.09268634021282196,
          0.37878096103668213,
          0.03893925994634628,
          0.08528637886047363,
          -0.0685470700263977,
          0.13620297610759735,
          0.02420475147664547,
          0.06964155286550522,
          0.03512633591890335,
          0.026362311094999313,
          -0.12714040279388428,
          -0.16873426735401154,
          0.015721816569566727,
          0.036295291036367416,
          0.6559198498725891,
          0.06376282125711441,
          0.24575337767601013,
          0.15437959134578705,
          0.7841309905052185,
          0.16784003376960754,
          0.20775383710861206,
          0.015581261366605759,
          0.23000839352607727,
          0.26295849680900574,
          -0.564474880695343,
          0.15556307137012482,
          -0.19915874302387238,
          -0.19407518208026886,
          0.393981009721756,
          -0.053267303854227066,
          0.048909496515989304,
          -0.056296397000551224,
          0.3089281916618347,
          -0.07236649841070175,
          0.12487492710351944,
          -0.061197731643915176,
          -0.03182535618543625,
          -0.03889528661966324,
          -0.39463260769844055,
          0.21859678626060486,
          0.05554460361599922,
          0.07258617877960205,
          0.019665546715259552,
          0.12604178488254547,
          0.046656250953674316,
          0.02723175287246704,
          0.07246600091457367,
          -0.19396919012069702,
          -0.05909579247236252,
          0.07798407971858978,
          -0.04034869372844696,
          0.05815177410840988,
          0.01514735072851181,
          0.07835354655981064,
          -0.1251462996006012,
          -0.04942282661795616,
          0.17267757654190063,
          -0.03628525882959366,
          0.17658500373363495,
          0.043888021260499954,
          0.05656835809350014,
          0.1085311770439148,
          0.1390768140554428,
          0.12622472643852234,
          0.055162589997053146,
          0.12399034947156906,
          0.1347181648015976,
          0.12253124266862869,
          0.11824729293584824,
          0.035284560173749924,
          0.07043851912021637,
          -0.3929983675479889,
          0.04861781373620033,
          0.17521986365318298,
          0.0794268548488617,
          0.03567827492952347,
          -0.02426227368414402,
          0.14276570081710815,
          0.014322695322334766,
          0.45564740896224976,
          0.034553494304418564,
          0.16423369944095612,
          0.016840392723679543,
          0.27327606081962585,
          0.03142691031098366,
          0.041896045207977295,
          -0.05183498188853264,
          0.2224731743335724,
          0.019502578303217888,
          -0.04065461456775665,
          0.01688576117157936,
          0.4039511978626251,
          -0.05604240670800209,
          0.1928049772977829,
          0.1227770671248436,
          0.22652915120124817,
          0.0845131129026413,
          -0.16920094192028046,
          -0.10077495127916336,
          0.032519228756427765,
          -0.052689649164676666,
          0.29888808727264404,
          0.035680532455444336,
          -0.18983396887779236,
          0.15603062510490417,
          -0.22939281165599823,
          -0.028400178998708725,
          0.07772552222013474,
          -0.07967930287122726,
          0.344341516494751,
          0.03005039691925049,
          0.14860133826732635,
          0.12484689056873322,
          -0.09100449830293655,
          0.013006159104406834,
          0.3177374005317688,
          0.09106756001710892,
          0.021512169390916824,
          0.02783912420272827,
          0.10686472803354263,
          -0.09416374564170837,
          -0.15362487733364105,
          -0.1905716359615326,
          -0.30933454632759094,
          -0.05936914309859276,
          0.0356045737862587,
          -0.029230967164039612,
          0.35663071274757385,
          0.19547320902347565,
          0.045944035053253174,
          -0.16637344658374786,
          -0.11133495718240738,
          0.02495713345706463,
          -0.014055808074772358,
          0.07488727569580078,
          0.10903424024581909,
          0.0900898352265358,
          -0.043260589241981506,
          0.03636852279305458,
          0.11435162276029587,
          0.2135290503501892,
          -0.047724995762109756,
          -0.4136558473110199,
          0.1582406461238861,
          0.15209268033504486,
          0.03013124316930771,
          0.053420811891555786,
          0.05457485094666481,
          0.1061728447675705,
          -0.1835489571094513,
          0.01234116218984127,
          0.11684571951627731,
          0.24911777675151825,
          0.04311688616871834,
          0.033928245306015015,
          -0.021972350776195526,
          0.5172646045684814,
          0.11093994975090027,
          0.2008262276649475,
          -0.012862613424658775,
          -0.10468035191297531,
          0.06820527464151382,
          -0.06385558843612671,
          -0.13287484645843506,
          0.14734849333763123,
          0.10674265772104263,
          -0.01747502014040947,
          -0.19474352896213531,
          0.04346854239702225,
          0.06434709578752518,
          -0.022947974503040314,
          -0.028236977756023407,
          -0.025861777365207672,
          0.20041358470916748,
          0.026963522657752037,
          0.01069499272853136,
          0.028663644567131996,
          -0.10104549676179886,
          0.14233192801475525,
          0.018947072327136993,
          0.15951374173164368,
          0.06845403462648392,
          0.09980959445238113,
          0.030480002984404564,
          0.022816048935055733,
          -0.0928434431552887,
          -0.01607278548181057,
          -0.20502151548862457,
          -0.04256385937333107,
          0.09789454936981201,
          0.20059213042259216,
          0.3375798463821411,
          0.041188109666109085,
          0.028037777170538902,
          0.024531975388526917,
          -0.020502176135778427,
          0.1199340969324112,
          0.11165978759527206,
          0.11632145941257477,
          -0.022874385118484497,
          0.026791108772158623,
          -0.049542445689439774,
          0.12570823729038239,
          -0.15452159941196442,
          0.1224888414144516,
          0.05059652030467987,
          -0.13884298503398895,
          0.2461720108985901,
          -0.23602363467216492,
          0.06144539639353752,
          0.05547007918357849,
          -0.1000138595700264,
          -0.015070519410073757,
          0.025669220834970474,
          -0.03528560698032379,
          -0.49661797285079956,
          -0.15150073170661926,
          -0.12942294776439667,
          0.04810161143541336,
          0.3001731336116791,
          -0.025248873978853226,
          -0.01773042418062687,
          0.0791485533118248,
          -0.26849836111068726,
          -0.24546894431114197,
          0.030248362571001053,
          -0.134433776140213,
          -0.11955715715885162,
          -0.049146074801683426,
          0.015510555356740952,
          -0.03520158305764198,
          0.09047159552574158,
          0.344942182302475,
          0.017074717208743095,
          0.15568478405475616,
          0.062412574887275696,
          -0.25836417078971863,
          0.04960615932941437,
          -0.01733633503317833,
          0.19174562394618988,
          0.1497567594051361,
          0.022207986563444138,
          -0.02314601093530655,
          0.23538681864738464,
          0.055379897356033325,
          -0.025235971435904503,
          0.06603623181581497,
          0.20873986184597015,
          -0.046659648418426514,
          0.022272903472185135,
          0.0676388218998909,
          -0.16822358965873718,
          -0.027845343574881554,
          -0.0400497205555439,
          0.08584373444318771,
          0.03456295654177666,
          0.02725147269666195,
          0.1465994268655777,
          0.012742020189762115,
          -0.016614802181720734,
          0.0108038280159235,
          -0.08530964702367783,
          -0.10782664269208908,
          -0.30727332830429077,
          -0.12890897691249847,
          -0.08064647018909454,
          0.023718008771538734,
          0.10743861645460129,
          0.1338386982679367,
          -0.040479209274053574,
          0.04451702535152435,
          0.06200970336794853,
          0.06385068595409393,
          0.02785297855734825,
          0.07219423353672028,
          -0.009085970930755138,
          -0.010284005664288998,
          0.14059112966060638,
          0.020361853763461113,
          0.01831737346947193,
          -0.02706903964281082,
          0.32890385389328003,
          0.1721372753381729,
          0.04868767037987709,
          0.059909626841545105,
          0.2389046847820282,
          0.059318024665117264,
          -0.015456875786185265,
          0.050763264298439026,
          0.02055453136563301,
          0.025859197601675987,
          0.04145204648375511,
          0.031452883034944534,
          -0.07227771729230881,
          0.01279209554195404,
          0.0732465609908104,
          0.018079521134495735,
          0.007187306880950928,
          0.037573687732219696,
          0.1995433270931244,
          0.12228846549987793,
          0.018055224791169167,
          0.02247900515794754,
          0.055980388075113297,
          -0.06261192262172699,
          0.01521647535264492,
          -0.010530468076467514,
          -0.038605254143476486,
          0.317229300737381,
          -0.027566799893975258,
          0.0371609665453434,
          -0.023400796577334404,
          0.010247360914945602,
          0.007593091577291489,
          0.01694590039551258,
          0.06326671689748764,
          0.026415953412652016,
          0.04141904041171074,
          -0.05452006682753563,
          -0.1170881912112236,
          -0.1364760547876358,
          0.11896563321352005,
          0.009022107347846031,
          -0.17259147763252258,
          0.008390629664063454,
          -0.059511758387088776,
          0.012548945844173431,
          0.1435501128435135,
          0.024272659793496132,
          0.017197174951434135,
          0.011831054463982582,
          -0.16620387136936188,
          0.029446255415678024,
          0.03449687361717224,
          0.08807091414928436,
          0.07247433811426163,
          0.013651379384100437,
          -0.016207871958613396,
          0.03619340807199478,
          0.03115798905491829,
          -0.02853606641292572,
          -0.14524191617965698,
          0.031207561492919922,
          -0.23524518311023712,
          -0.06174292787909508,
          0.07223573327064514,
          -0.031572844833135605,
          0.04901059716939926,
          0.1369047462940216,
          0.11594313383102417,
          0.05328275263309479,
          -0.026428764685988426,
          0.0063977669924497604,
          -0.09134959429502487,
          0.057289447635412216,
          -0.18040364980697632,
          -0.035984065383672714,
          0.09447886794805527,
          0.011646182276308537,
          0.07096972316503525,
          -0.1300017237663269,
          0.043039217591285706,
          -0.06967158615589142,
          -0.045106224715709686,
          0.040923748165369034,
          -0.05566814914345741,
          0.057093847543001175,
          -0.02748035453259945,
          -0.1405765265226364,
          -0.20023712515830994,
          0.03089069575071335,
          0.05306562781333923,
          -0.06671234220266342,
          0.017103860154747963,
          0.02800711989402771,
          -0.029327869415283203,
          -0.022745197638869286,
          0.014418810606002808,
          0.03942273557186127,
          0.05782031640410423,
          0.044980283826589584,
          -0.039888810366392136,
          0.006928365211933851,
          0.03372272849082947,
          0.017527610063552856,
          0.030500059947371483,
          -0.027641097083687782,
          0.07330002635717392,
          0.020268602296710014,
          0.014170503243803978,
          0.006795169785618782,
          -0.08143042773008347,
          -0.06762365996837616,
          0.05676941201090813,
          0.06387221068143845,
          0.09008165448904037,
          0.010748484171926975,
          0.21611548960208893,
          0.03263070806860924,
          0.07539498060941696,
          0.002440529176965356,
          0.07514825463294983,
          -0.10170631110668182,
          -0.022054238244891167,
          0.10759749263525009,
          -0.005960232578217983,
          0.021733462810516357,
          -0.008924189954996109,
          -0.024089839309453964,
          0.012344946153461933,
          -0.08677246421575546,
          0.011592091992497444,
          -0.028171401470899582,
          0.00943770818412304,
          -0.12064187973737717,
          0.030211078003048897,
          -0.018454035744071007,
          -0.01999741978943348,
          -0.008223178796470165,
          -0.06580217182636261,
          -0.1082226037979126,
          -0.006319612264633179,
          0.010144292376935482,
          0.03082837350666523,
          -0.07039253413677216,
          -0.177812397480011,
          -0.009080811403691769,
          -0.03527059033513069,
          -0.05968514084815979,
          0.05483509600162506,
          0.08114230632781982,
          0.11942196637392044,
          0.028677944093942642,
          0.04446011409163475,
          -0.060582321137189865,
          0.049580834805965424,
          0.023305153474211693,
          0.009805087000131607,
          0.04135638847947121,
          0.018753210082650185,
          0.09026921540498734,
          -0.08147154003381729,
          0.01869521476328373,
          -0.03533954545855522,
          -0.05543142557144165,
          0.038575537502765656,
          0.04832515865564346,
          0.07416971772909164,
          0.03240380808711052,
          -0.07689822465181351,
          -0.106455497443676,
          -0.00453377328813076,
          0.013025461696088314,
          0.009092165157198906,
          0.045223645865917206,
          -0.036878082901239395,
          -0.12328824400901794,
          -0.03334936499595642,
          0.0986359640955925,
          0.030952366068959236,
          -0.04972990229725838,
          -0.008615800179541111,
          -0.02780299074947834,
          -0.002955182222649455,
          0.048378027975559235,
          -0.029297128319740295,
          0.0485568605363369,
          -0.015703991055488586,
          -0.009325866587460041,
          -0.005073435138911009,
          0.03479858115315437,
          -0.02048473432660103,
          -0.0036617147270590067,
          -0.0033426701556891203,
          -0.021599730476737022,
          0.00484738452360034,
          0.010618360713124275,
          -0.013178087770938873,
          0.06349385529756546,
          0.11626825481653214,
          -0.004295687656849623,
          -0.00388162094168365,
          0.03736645728349686,
          0.006138152442872524,
          0.053503140807151794,
          -0.09368506073951721,
          0.040689993649721146,
          0.06133671849966049,
          -0.000805004732683301,
          0.01221796777099371,
          0.01085696741938591,
          -0.06220453977584839,
          0.02604893036186695,
          0.012963597662746906,
          -0.029025278985500336,
          -0.0026626992039382458,
          0.008627433329820633,
          -0.002326847519725561,
          0.004118015989661217,
          -0.02543083392083645,
          0.0050339000299572945,
          -0.03317471966147423,
          0.00271554640494287,
          0.027647487819194794,
          0.01379469595849514,
          0.005409435834735632,
          -0.02329794317483902,
          -0.00847682449966669,
          0.023422610014677048,
          -0.0099303824827075,
          0.015753844752907753,
          0.0025318891275674105,
          -0.003793631214648485,
          0.02311119996011257,
          -0.009720823727548122,
          0.010142202489078045,
          0.01676468551158905,
          0.004582215566188097,
          -0.005808032583445311,
          -0.004037936683744192,
          -0.008296454325318336,
          0.03977930173277855,
          0.010217844508588314,
          0.019624458625912666,
          0.002320182742550969,
          0.012323271483182907,
          0.004107395652681589,
          0.06911395490169525,
          0.011232487857341766,
          0.0025249316822737455,
          -0.003589180763810873,
          -0.01282979641109705,
          -0.00605170289054513,
          0.01065809652209282,
          0.01001803670078516,
          -0.03654104098677635,
          0.004281468689441681,
          -0.015078987926244736,
          -0.0053059677593410015,
          0.000805086805485189,
          -0.020042240619659424,
          -0.0028665976133197546,
          0.008182728663086891,
          0.004182052332907915,
          0.00393539248034358,
          -0.0056921313516795635,
          -0.02054150588810444,
          -0.01186053454875946,
          0.0038758597802370787,
          -0.018585313111543655,
          -0.013579913415014744,
          0.001445848261937499,
          0.0033651189878582954,
          -0.0031233609188348055,
          -0.016447078436613083,
          -0.0024604543577879667,
          0.002697884803637862,
          0.013800906017422676,
          0.010615152306854725,
          0.0019365613115951419,
          -0.007574896793812513,
          0.004927399102598429,
          -0.000671419664286077,
          -0.001097184605896473,
          0.0009006448090076447,
          0.003590645967051387,
          -0.0024058702401816845,
          0.0010216349037364125,
          0.0016165151027962565,
          -0.0004623600107152015,
          -0.001739407074637711,
          0.0002337308687856421,
          0.0006114202551543713,
          -0.0031243006233125925,
          -0.0006135968142189085,
          -0.00013234435755293816,
          0.00012960970343556255
         ],
         "y": [
          9.271882656289998,
          8.406777099041337,
          6.602995672138282,
          6.572459481346981,
          6.40244747579566,
          5.977575152210667,
          5.418929286429001,
          5.261908088867289,
          5.106036327613485,
          4.893268917125329,
          4.69062084046797,
          4.620318426708475,
          4.503738239513929,
          4.4643407061739895,
          4.400569115557597,
          4.398365051101785,
          4.380647276962733,
          4.34908693855088,
          4.2934033119111,
          4.285623989339873,
          4.255034459594374,
          4.168012189696665,
          4.1506687039895525,
          4.0195578740510784,
          3.9388762173910843,
          3.908019566520703,
          3.871166828228347,
          3.8604216434629897,
          3.8304231724833513,
          3.778537340856226,
          3.75291861303036,
          3.7303270963376303,
          3.724929570739496,
          3.660761386187278,
          3.573404614444368,
          3.5657378004321463,
          3.558919482088026,
          3.532637621601965,
          3.525770143555507,
          3.5192007985754548,
          3.473866755816623,
          3.407765116315033,
          3.381758200998114,
          3.3004751132415917,
          3.2664516617334303,
          3.2537824861843356,
          3.2521126619719523,
          3.2475209543228596,
          3.2442995498019616,
          3.2159796273576258,
          3.2055557718938124,
          3.1337999929242,
          3.1046649699965134,
          3.094818225299671,
          3.0918650302060025,
          3.0814375961069866,
          3.078447356748203,
          3.045587554890935,
          3.0403718104163326,
          3.0343712953801836,
          3.025888327997948,
          3.0055160098916036,
          2.998912449483283,
          2.9917706703508786,
          2.9830887227535645,
          2.965783728844278,
          2.9343209415455718,
          2.8915732298447736,
          2.876553966315273,
          2.864948733319003,
          2.855726093398499,
          2.823263022645368,
          2.812766347364359,
          2.810559682601894,
          2.8076224656217525,
          2.80494832784698,
          2.7781070981495093,
          2.759380094979949,
          2.7538738470028843,
          2.732877459404908,
          2.7223294352685232,
          2.7172596577304233,
          2.689574383494961,
          2.6846434488579938,
          2.6823312160628916,
          2.6734087899641343,
          2.668283252559861,
          2.657759335117166,
          2.649368761272681,
          2.6473764662645443,
          2.646153450953491,
          2.626367695805169,
          2.6155052347645644,
          2.536591259343478,
          2.535817368096001,
          2.506022861426147,
          2.4981662914292073,
          2.494875308939376,
          2.4859091956548487,
          2.484286238721351,
          2.4805685400199784,
          2.4744568953692476,
          2.4668163935108476,
          2.4602647983829553,
          2.4345622852636266,
          2.4281340915099365,
          2.422758796381784,
          2.422537765098993,
          2.3863636031456914,
          2.361223662935624,
          2.356025922455334,
          2.3553685277769523,
          2.3514691984959923,
          2.342487742896107,
          2.323032357051897,
          2.3200199684393294,
          2.3149308889256597,
          2.2893205123718046,
          2.270683405450727,
          2.2621191684815067,
          2.255450216255434,
          2.2421253161496897,
          2.234004870117743,
          2.224053876652022,
          2.2056264485986237,
          2.1777077320327214,
          2.1484022229192457,
          2.1460548022041745,
          2.1290862262691252,
          2.1202406482784277,
          2.1154957057289026,
          2.1057357284307137,
          2.1030099469434425,
          2.1016485270756764,
          2.0958595719238198,
          2.094153867220426,
          2.085109225512257,
          2.0819339138402886,
          2.080171428439078,
          2.077311277324232,
          2.068598021725529,
          2.058387784788303,
          2.0427348684191657,
          2.042131528179817,
          2.041997514750139,
          2.030835476305145,
          2.0291141240720805,
          2.0256522672580153,
          2.022960624999636,
          2.017692553098259,
          2.015614677497152,
          2.013286456661149,
          2.0065746183020012,
          2.006454262207405,
          2.000642464707455,
          1.99896082663649,
          1.9987611026420675,
          1.9950599093636825,
          1.9861549591001886,
          1.9775780344279539,
          1.9740243316910533,
          1.9638768800527,
          1.9616109294032305,
          1.9591351970551196,
          1.9522724437140337,
          1.9415841164001018,
          1.9316302317634144,
          1.9311773716873286,
          1.9307717708553578,
          1.930436069737139,
          1.9264704349697523,
          1.9215549498567799,
          1.907250630084685,
          1.8983744159810216,
          1.898231195529692,
          1.893154869024174,
          1.8921887133241835,
          1.8832455122812175,
          1.876819528741681,
          1.857569760484,
          1.853074907154725,
          1.8477132522451,
          1.843692475832896,
          1.8309637840859185,
          1.8301338018471067,
          1.830057622993242,
          1.8231905829032373,
          1.82087417631403,
          1.8185915007328866,
          1.8120828333567107,
          1.8049643897453997,
          1.8046197336170886,
          1.7950635619868438,
          1.7860203661172198,
          1.7850193725925172,
          1.7816481102130441,
          1.7643120295835257,
          1.7623186379023605,
          1.758822281895444,
          1.7584560651045065,
          1.7544693238576332,
          1.7526899076831053,
          1.7520970708824248,
          1.7428643382734301,
          1.7414427356935982,
          1.74019941705328,
          1.7399494615837867,
          1.7395329796381405,
          1.7323940973423497,
          1.719956875690204,
          1.716449391774735,
          1.7143869526215039,
          1.7134520645693774,
          1.7014821123894088,
          1.6933362534954828,
          1.6791755295747206,
          1.6738291017436535,
          1.6717906977873187,
          1.669362489024529,
          1.6687688879411793,
          1.6663397944938598,
          1.6654183280176227,
          1.664462048923921,
          1.6622112150770145,
          1.6570947407044982,
          1.6497076988600081,
          1.6384162132596816,
          1.6291140741217596,
          1.6265637330128633,
          1.6213224012717715,
          1.6205172641173768,
          1.6161588771879247,
          1.6152457688018618,
          1.6073208968476083,
          1.6071922083199461,
          1.604019046723997,
          1.6005515538661927,
          1.5988288668725383,
          1.5804107733160486,
          1.5743009015681306,
          1.5720548611106773,
          1.5619394797189659,
          1.5608602500469315,
          1.5598043747124992,
          1.5593177068572426,
          1.5588367295905996,
          1.5583767268420161,
          1.557706575158763,
          1.539732790668073,
          1.539359911440389,
          1.5384953972612239,
          1.5355676750535208,
          1.5353555982803806,
          1.5352033320645042,
          1.5349225893234721,
          1.5317841123894156,
          1.5276821132383285,
          1.5241193398739836,
          1.5235161218311548,
          1.5190814155505004,
          1.5126779582394485,
          1.5076222361494733,
          1.5030415204675065,
          1.5005524141599689,
          1.4958770578005467,
          1.4889915426044864,
          1.4852996950235482,
          1.4837081494723656,
          1.4833879634490412,
          1.4795509582964272,
          1.475419904833971,
          1.4744366548150891,
          1.4723293489907237,
          1.4661451105918675,
          1.4657806106368072,
          1.4612116057151838,
          1.4437180928966478,
          1.439097432125282,
          1.41375249797939,
          1.4086306761168488,
          1.408502687264625,
          1.407364672816007,
          1.4002674330733664,
          1.3947268576454315,
          1.392773828492788,
          1.3903202841786868,
          1.3861023333929285,
          1.3841764682245177,
          1.3822451628204984,
          1.3783782125409876,
          1.3653328218007263,
          1.3647844274451195,
          1.364692143766426,
          1.363424950757773,
          1.360773348766413,
          1.3605952216902257,
          1.3528760337451016,
          1.3476093529191129,
          1.3470043393365796,
          1.341450010588041,
          1.3333052096070814,
          1.3301992764759276,
          1.3284670162082872,
          1.3284103121390463,
          1.3191560862693912,
          1.312585027641723,
          1.3090321014041448,
          1.3074507739219392,
          1.301479829834083,
          1.2995171584598217,
          1.2926506845174153,
          1.2845219419344043,
          1.2811960449029136,
          1.277100873430945,
          1.2664900964795869,
          1.2630467885481582,
          1.251809272254668,
          1.2485812048176066,
          1.2423001489769543,
          1.2310267012277585,
          1.229386122870918,
          1.2284929781627008,
          1.2284153024045887,
          1.2244147706011943,
          1.2197040255785723,
          1.216536243358653,
          1.2113797796979593,
          1.2097917768234427,
          1.2071970049247465,
          1.200320709834031,
          1.1951357026891698,
          1.1949505033091026,
          1.1882536484721498,
          1.1879427191272622,
          1.1870455749627917,
          1.1808880798898196,
          1.1795379147216782,
          1.1770459007885894,
          1.172369906496442,
          1.1715784615264577,
          1.1566992689716853,
          1.1556253338398323,
          1.1412744283314527,
          1.1410611586062966,
          1.1321119268441522,
          1.127406074871304,
          1.1273477366833395,
          1.1268783945494283,
          1.1264740832819946,
          1.1252725052648342,
          1.123288809623979,
          1.1227453448929332,
          1.1209183114903356,
          1.12078575592582,
          1.1194482939012276,
          1.118149541828725,
          1.1144082396585213,
          1.1105532058772996,
          1.1097468027981385,
          1.1074549655911465,
          1.1063043014028318,
          1.102764881886822,
          1.097688932505597,
          1.095190524882343,
          1.0776895357988558,
          1.0763127066085207,
          1.075801166123649,
          1.067873228854781,
          1.0607474477116505,
          1.05962432664231,
          1.0539217110297303,
          1.0535627639538148,
          1.0462500364650247,
          1.0442423937656515,
          1.0361302609172238,
          1.023838854152102,
          1.0172197503060545,
          1.0168703582570198,
          1.0124736063420063,
          1.0064956774917386,
          1.004950809559258,
          0.9950021908024739,
          0.9925940494469673,
          0.9821748386923544,
          0.9779329304457625,
          0.9773142339410943,
          0.9763440238711609,
          0.9743757855119674,
          0.9713770593427298,
          0.9660102251467707,
          0.9632440564469846,
          0.9623839019033361,
          0.9584415109162893,
          0.9557250014688978,
          0.948578201324642,
          0.9431992983178359,
          0.9421521199293096,
          0.942061827390214,
          0.940355677336565,
          0.9370776702616735,
          0.9341531504129746,
          0.9306614187839894,
          0.9221916677854232,
          0.9117698808469965,
          0.9085337569221829,
          0.9053563411556633,
          0.8984265674792001,
          0.8976047996959163,
          0.8955670130555733,
          0.8879819475475285,
          0.8849593219263777,
          0.8846781127713723,
          0.8833719425300619,
          0.8794421656757123,
          0.873532294264384,
          0.8734549135307916,
          0.8693482749266018,
          0.8610581943762979,
          0.8585681263702067,
          0.8564293126266038,
          0.8541845670889966,
          0.8468262108020682,
          0.8463899475489861,
          0.8426854287629815,
          0.8405047181465233,
          0.8377301047934971,
          0.8338398175089085,
          0.8311161784181306,
          0.8241324415239051,
          0.8206213685526842,
          0.818304641220627,
          0.8181320619109719,
          0.8179630913827577,
          0.8159435993942329,
          0.8155924800655429,
          0.8117322425774753,
          0.8041268470354799,
          0.7986289924032361,
          0.7922576150919571,
          0.787162078721814,
          0.7846477236167331,
          0.7843135584809959,
          0.7830440049803957,
          0.7822392321506662,
          0.7814933131921007,
          0.7798125420150812,
          0.7769155636727498,
          0.7710129596711639,
          0.7667564229030681,
          0.7567686240711103,
          0.7562710051192143,
          0.753921901861579,
          0.7533950565150357,
          0.7492510922717309,
          0.7421323126460533,
          0.741266219028656,
          0.739030622562482,
          0.734905739235096,
          0.7307857319137961,
          0.729332477635003,
          0.7196837197166407,
          0.7138130672630009,
          0.7107006092356088,
          0.7070267510211822,
          0.7020122576662255,
          0.6899076757739886,
          0.6898562264201331,
          0.6850683066146249,
          0.6835928067942675,
          0.6737129030029282,
          0.6732183583254774,
          0.6713908649478301,
          0.6697142343742785,
          0.662422570932923,
          0.6607660907014732,
          0.6604523374420073,
          0.6602330340219272,
          0.6585882349165159,
          0.6535794818613934,
          0.651715096913359,
          0.6465640726896126,
          0.6453103957130598,
          0.6446827265008142,
          0.6405016681067078,
          0.6403789667011025,
          0.6387937975561522,
          0.6385396856350223,
          0.6381781023431825,
          0.6304436915307259,
          0.63033117406311,
          0.6302926635296348,
          0.6272293389127801,
          0.6194989765889767,
          0.6159172526653518,
          0.6079056299837866,
          0.6063234168539101,
          0.6054138347717762,
          0.5993427501313103,
          0.5978711168687962,
          0.5968572337333533,
          0.5950050039738914,
          0.594382739728755,
          0.5907122473350409,
          0.5905327821344001,
          0.5893691919007907,
          0.5881633775997738,
          0.5870563575104801,
          0.5811013455431476,
          0.5767421996979485,
          0.5754635439000105,
          0.5738366781097749,
          0.56682495047824,
          0.5647052448731601,
          0.5639513076535986,
          0.5616325914208967,
          0.5594967347445962,
          0.5558570839684799,
          0.5530715285467034,
          0.5486350290404546,
          0.5415681175602968,
          0.539662250728708,
          0.5378791124066068,
          0.5378567603599316,
          0.5363251517463532,
          0.5354770354944284,
          0.5350835770389466,
          0.5345851810942708,
          0.5341896327723373,
          0.5336294810551905,
          0.5329327284244676,
          0.5264179939844732,
          0.5229438189574942,
          0.5227174009635757,
          0.522533046912406,
          0.5192029413976968,
          0.5188259470616682,
          0.5162887416166733,
          0.5148196100039147,
          0.5106037800190656,
          0.5101100876439231,
          0.5016053617663152,
          0.4973063637828411,
          0.4930373811942343,
          0.4905899039674696,
          0.48567051244341874,
          0.48355838774179344,
          0.4826009539504561,
          0.4783656920734389,
          0.47821048857287496,
          0.4754516205852665,
          0.47237460184367364,
          0.47141148015448187,
          0.46967018493602164,
          0.4695834332691913,
          0.4680740155552499,
          0.46794609699655776,
          0.4670546431596287,
          0.4594479079297603,
          0.45706178596034625,
          0.4552243335346996,
          0.45273286250540207,
          0.4517469804558477,
          0.4493593366258069,
          0.44794504206598673,
          0.446878876142969,
          0.4453267407750335,
          0.44360432687682644,
          0.44263704957909794,
          0.44183814320255327,
          0.4383727613544467,
          0.43423533778793966,
          0.42709783931838147,
          0.42640281489787835,
          0.42474073498739257,
          0.42315393939934365,
          0.422588973235432,
          0.4218684450666811,
          0.41914812426987286,
          0.4185484569775346,
          0.4071859434795974,
          0.4059671350139175,
          0.40352325745267653,
          0.4027712124968422,
          0.4017134556632863,
          0.3974818734984976,
          0.397296515929915,
          0.39421336094041987,
          0.3889659861051267,
          0.3858573438741732,
          0.3845189781239756,
          0.37697037952971885,
          0.3730066093234696,
          0.3714431533580811,
          0.3690321947238673,
          0.3678031897981083,
          0.36296134107566896,
          0.3564531711339804,
          0.35049901997861366,
          0.3504650012122679,
          0.3462056488118114,
          0.3375718910646104,
          0.3355062855127772,
          0.3342813067434007,
          0.33267502182941383,
          0.32891273368209906,
          0.327859925086366,
          0.3236225029288875,
          0.31860385668468033,
          0.31731974031127447,
          0.3165174724459755,
          0.31589420349555897,
          0.31585169601873264,
          0.3148994301199079,
          0.31302369812443226,
          0.30807713556412614,
          0.30616945635626075,
          0.30401156251009576,
          0.3016531900721582,
          0.30158235311249765,
          0.2920711216587638,
          0.2920354416661483,
          0.28991855359854135,
          0.2880124957133098,
          0.2815281512951588,
          0.2801396065172781,
          0.27646256475149505,
          0.27526429336394426,
          0.27217679041361126,
          0.27017676262128043,
          0.26302518839600736,
          0.2600060298243019,
          0.25851317679396557,
          0.2544781330966821,
          0.253296764649583,
          0.25242454211707294,
          0.251504789574083,
          0.24785223866141734,
          0.24712805817096045,
          0.24476236511953472,
          0.24233602515030536,
          0.23577949827275027,
          0.2345149474774236,
          0.23219405806393217,
          0.23197582510129633,
          0.22864008134648242,
          0.22659829643118587,
          0.2245439590799511,
          0.22232505266687402,
          0.21876600648591257,
          0.21655187595768297,
          0.2138193041302378,
          0.21011648155571422,
          0.20867977762273293,
          0.20794025760899712,
          0.20719519792262875,
          0.20688521947347302,
          0.20530624677685164,
          0.2042128215048107,
          0.19454510409812287,
          0.19415259995213613,
          0.19224446964798422,
          0.186372040580192,
          0.1860589723786,
          0.1797322053793932,
          0.1797076645112131,
          0.1796865484322741,
          0.17956606690405452,
          0.17930168615344125,
          0.1744128828650481,
          0.17431056070541348,
          0.17324184207309223,
          0.17007693053819636,
          0.165661000349442,
          0.1655691355796643,
          0.16553945366776998,
          0.16425764209791974,
          0.16369927889164723,
          0.1634803305664731,
          0.16096975017455498,
          0.1605526204083563,
          0.16042343577247067,
          0.16028978992690476,
          0.15973538542223786,
          0.1562263987608764,
          0.15481289803253914,
          0.14955243814706604,
          0.14948287473772354,
          0.1456353612127351,
          0.14483752453725116,
          0.14267218556288863,
          0.13872008053089396,
          0.1384082987082745,
          0.137566070203695,
          0.13707197009481586,
          0.13391204923689906,
          0.13372977655912666,
          0.13181278241261032,
          0.12921655124651776,
          0.12861755312988768,
          0.1271084950252067,
          0.12366872001835896,
          0.11746409736493121,
          0.11735611167564483,
          0.11729847045749298,
          0.11716255757610024,
          0.11551042873737448,
          0.11395113240497955,
          0.11240740266489112,
          0.11168541531961068,
          0.10982195313102085,
          0.10631619621221794,
          0.09791871332026707,
          0.09747292296086418,
          0.09614054894619521,
          0.09568735163077685,
          0.0946661146929527,
          0.09408470253285547,
          0.09226385354028387,
          0.08755086866385692,
          0.08715623760543449,
          0.0849905253404802,
          0.08465852820011936,
          0.0832585666071899,
          0.08038518506235018,
          0.06847418591207653,
          0.06450062919597464,
          0.06398846594339218,
          0.06333335825422826,
          0.05974503559269933,
          0.053585880615104824,
          0.052848062972196415,
          0.05148230289168247,
          0.050883938194835776,
          0.04970475659992543,
          0.048894683395757456,
          0.046501175067995594,
          0.045757956992043214,
          0.03989007317208667,
          0.03887862193865664,
          0.035785154165069125,
          0.032846826356281604,
          0.029496995327091907,
          0.026905321243355033,
          0.025260442451613532,
          0.02115864356466522,
          0.020500025420509202,
          0.01985339266858173,
          0.01974797133058518,
          0.016007426633348084,
          0.015312002376865017,
          0.012728109781232327,
          0.007835728316157652,
          0.006563339852939934,
          0.005293047672653607,
          0.003433033988798953
         ]
        },
        {
         "marker": {
          "color": "#ef553b"
         },
         "mode": "markers+text",
         "name": "significant",
         "text": [
          "59188_312.231_7.625",
          "57080_314.247_7.36",
          "21870_246.18_3.969",
          "80910_243.174_10.41"
         ],
         "textfont": {
          "color": "#ef553b",
          "size": 8
         },
         "textposition": "top left",
         "type": "scatter",
         "x": [
          -1.2097499370574951
         ],
         "y": [
          14.265090675116364
         ]
        }
       ],
       "layout": {
        "font": {
         "color": "grey",
         "family": "Sans",
         "size": 12
        },
        "height": 600,
        "legend": {
         "tracegroupgap": 0
        },
        "margin": {
         "t": 60
        },
        "template": {
         "data": {
          "bar": [
           {
            "error_x": {
             "color": "#2a3f5f"
            },
            "error_y": {
             "color": "#2a3f5f"
            },
            "marker": {
             "line": {
              "color": "white",
              "width": 0.5
             },
             "pattern": {
              "fillmode": "overlay",
              "size": 10,
              "solidity": 0.2
             }
            },
            "type": "bar"
           }
          ],
          "barpolar": [
           {
            "marker": {
             "line": {
              "color": "white",
              "width": 0.5
             },
             "pattern": {
              "fillmode": "overlay",
              "size": 10,
              "solidity": 0.2
             }
            },
            "type": "barpolar"
           }
          ],
          "carpet": [
           {
            "aaxis": {
             "endlinecolor": "#2a3f5f",
             "gridcolor": "#C8D4E3",
             "linecolor": "#C8D4E3",
             "minorgridcolor": "#C8D4E3",
             "startlinecolor": "#2a3f5f"
            },
            "baxis": {
             "endlinecolor": "#2a3f5f",
             "gridcolor": "#C8D4E3",
             "linecolor": "#C8D4E3",
             "minorgridcolor": "#C8D4E3",
             "startlinecolor": "#2a3f5f"
            },
            "type": "carpet"
           }
          ],
          "choropleth": [
           {
            "colorbar": {
             "outlinewidth": 0,
             "ticks": ""
            },
            "type": "choropleth"
           }
          ],
          "contour": [
           {
            "colorbar": {
             "outlinewidth": 0,
             "ticks": ""
            },
            "colorscale": [
             [
              0,
              "#0d0887"
             ],
             [
              0.1111111111111111,
              "#46039f"
             ],
             [
              0.2222222222222222,
              "#7201a8"
             ],
             [
              0.3333333333333333,
              "#9c179e"
             ],
             [
              0.4444444444444444,
              "#bd3786"
             ],
             [
              0.5555555555555556,
              "#d8576b"
             ],
             [
              0.6666666666666666,
              "#ed7953"
             ],
             [
              0.7777777777777778,
              "#fb9f3a"
             ],
             [
              0.8888888888888888,
              "#fdca26"
             ],
             [
              1,
              "#f0f921"
             ]
            ],
            "type": "contour"
           }
          ],
          "contourcarpet": [
           {
            "colorbar": {
             "outlinewidth": 0,
             "ticks": ""
            },
            "type": "contourcarpet"
           }
          ],
          "heatmap": [
           {
            "colorbar": {
             "outlinewidth": 0,
             "ticks": ""
            },
            "colorscale": [
             [
              0,
              "#0d0887"
             ],
             [
              0.1111111111111111,
              "#46039f"
             ],
             [
              0.2222222222222222,
              "#7201a8"
             ],
             [
              0.3333333333333333,
              "#9c179e"
             ],
             [
              0.4444444444444444,
              "#bd3786"
             ],
             [
              0.5555555555555556,
              "#d8576b"
             ],
             [
              0.6666666666666666,
              "#ed7953"
             ],
             [
              0.7777777777777778,
              "#fb9f3a"
             ],
             [
              0.8888888888888888,
              "#fdca26"
             ],
             [
              1,
              "#f0f921"
             ]
            ],
            "type": "heatmap"
           }
          ],
          "heatmapgl": [
           {
            "colorbar": {
             "outlinewidth": 0,
             "ticks": ""
            },
            "colorscale": [
             [
              0,
              "#0d0887"
             ],
             [
              0.1111111111111111,
              "#46039f"
             ],
             [
              0.2222222222222222,
              "#7201a8"
             ],
             [
              0.3333333333333333,
              "#9c179e"
             ],
             [
              0.4444444444444444,
              "#bd3786"
             ],
             [
              0.5555555555555556,
              "#d8576b"
             ],
             [
              0.6666666666666666,
              "#ed7953"
             ],
             [
              0.7777777777777778,
              "#fb9f3a"
             ],
             [
              0.8888888888888888,
              "#fdca26"
             ],
             [
              1,
              "#f0f921"
             ]
            ],
            "type": "heatmapgl"
           }
          ],
          "histogram": [
           {
            "marker": {
             "pattern": {
              "fillmode": "overlay",
              "size": 10,
              "solidity": 0.2
             }
            },
            "type": "histogram"
           }
          ],
          "histogram2d": [
           {
            "colorbar": {
             "outlinewidth": 0,
             "ticks": ""
            },
            "colorscale": [
             [
              0,
              "#0d0887"
             ],
             [
              0.1111111111111111,
              "#46039f"
             ],
             [
              0.2222222222222222,
              "#7201a8"
             ],
             [
              0.3333333333333333,
              "#9c179e"
             ],
             [
              0.4444444444444444,
              "#bd3786"
             ],
             [
              0.5555555555555556,
              "#d8576b"
             ],
             [
              0.6666666666666666,
              "#ed7953"
             ],
             [
              0.7777777777777778,
              "#fb9f3a"
             ],
             [
              0.8888888888888888,
              "#fdca26"
             ],
             [
              1,
              "#f0f921"
             ]
            ],
            "type": "histogram2d"
           }
          ],
          "histogram2dcontour": [
           {
            "colorbar": {
             "outlinewidth": 0,
             "ticks": ""
            },
            "colorscale": [
             [
              0,
              "#0d0887"
             ],
             [
              0.1111111111111111,
              "#46039f"
             ],
             [
              0.2222222222222222,
              "#7201a8"
             ],
             [
              0.3333333333333333,
              "#9c179e"
             ],
             [
              0.4444444444444444,
              "#bd3786"
             ],
             [
              0.5555555555555556,
              "#d8576b"
             ],
             [
              0.6666666666666666,
              "#ed7953"
             ],
             [
              0.7777777777777778,
              "#fb9f3a"
             ],
             [
              0.8888888888888888,
              "#fdca26"
             ],
             [
              1,
              "#f0f921"
             ]
            ],
            "type": "histogram2dcontour"
           }
          ],
          "mesh3d": [
           {
            "colorbar": {
             "outlinewidth": 0,
             "ticks": ""
            },
            "type": "mesh3d"
           }
          ],
          "parcoords": [
           {
            "line": {
             "colorbar": {
              "outlinewidth": 0,
              "ticks": ""
             }
            },
            "type": "parcoords"
           }
          ],
          "pie": [
           {
            "automargin": true,
            "type": "pie"
           }
          ],
          "scatter": [
           {
            "fillpattern": {
             "fillmode": "overlay",
             "size": 10,
             "solidity": 0.2
            },
            "type": "scatter"
           }
          ],
          "scatter3d": [
           {
            "line": {
             "colorbar": {
              "outlinewidth": 0,
              "ticks": ""
             }
            },
            "marker": {
             "colorbar": {
              "outlinewidth": 0,
              "ticks": ""
             }
            },
            "type": "scatter3d"
           }
          ],
          "scattercarpet": [
           {
            "marker": {
             "colorbar": {
              "outlinewidth": 0,
              "ticks": ""
             }
            },
            "type": "scattercarpet"
           }
          ],
          "scattergeo": [
           {
            "marker": {
             "colorbar": {
              "outlinewidth": 0,
              "ticks": ""
             }
            },
            "type": "scattergeo"
           }
          ],
          "scattergl": [
           {
            "marker": {
             "colorbar": {
              "outlinewidth": 0,
              "ticks": ""
             }
            },
            "type": "scattergl"
           }
          ],
          "scattermapbox": [
           {
            "marker": {
             "colorbar": {
              "outlinewidth": 0,
              "ticks": ""
             }
            },
            "type": "scattermapbox"
           }
          ],
          "scatterpolar": [
           {
            "marker": {
             "colorbar": {
              "outlinewidth": 0,
              "ticks": ""
             }
            },
            "type": "scatterpolar"
           }
          ],
          "scatterpolargl": [
           {
            "marker": {
             "colorbar": {
              "outlinewidth": 0,
              "ticks": ""
             }
            },
            "type": "scatterpolargl"
           }
          ],
          "scatterternary": [
           {
            "marker": {
             "colorbar": {
              "outlinewidth": 0,
              "ticks": ""
             }
            },
            "type": "scatterternary"
           }
          ],
          "surface": [
           {
            "colorbar": {
             "outlinewidth": 0,
             "ticks": ""
            },
            "colorscale": [
             [
              0,
              "#0d0887"
             ],
             [
              0.1111111111111111,
              "#46039f"
             ],
             [
              0.2222222222222222,
              "#7201a8"
             ],
             [
              0.3333333333333333,
              "#9c179e"
             ],
             [
              0.4444444444444444,
              "#bd3786"
             ],
             [
              0.5555555555555556,
              "#d8576b"
             ],
             [
              0.6666666666666666,
              "#ed7953"
             ],
             [
              0.7777777777777778,
              "#fb9f3a"
             ],
             [
              0.8888888888888888,
              "#fdca26"
             ],
             [
              1,
              "#f0f921"
             ]
            ],
            "type": "surface"
           }
          ],
          "table": [
           {
            "cells": {
             "fill": {
              "color": "#EBF0F8"
             },
             "line": {
              "color": "white"
             }
            },
            "header": {
             "fill": {
              "color": "#C8D4E3"
             },
             "line": {
              "color": "white"
             }
            },
            "type": "table"
           }
          ]
         },
         "layout": {
          "annotationdefaults": {
           "arrowcolor": "#2a3f5f",
           "arrowhead": 0,
           "arrowwidth": 1
          },
          "autotypenumbers": "strict",
          "coloraxis": {
           "colorbar": {
            "outlinewidth": 0,
            "ticks": ""
           }
          },
          "colorscale": {
           "diverging": [
            [
             0,
             "#8e0152"
            ],
            [
             0.1,
             "#c51b7d"
            ],
            [
             0.2,
             "#de77ae"
            ],
            [
             0.3,
             "#f1b6da"
            ],
            [
             0.4,
             "#fde0ef"
            ],
            [
             0.5,
             "#f7f7f7"
            ],
            [
             0.6,
             "#e6f5d0"
            ],
            [
             0.7,
             "#b8e186"
            ],
            [
             0.8,
             "#7fbc41"
            ],
            [
             0.9,
             "#4d9221"
            ],
            [
             1,
             "#276419"
            ]
           ],
           "sequential": [
            [
             0,
             "#0d0887"
            ],
            [
             0.1111111111111111,
             "#46039f"
            ],
            [
             0.2222222222222222,
             "#7201a8"
            ],
            [
             0.3333333333333333,
             "#9c179e"
            ],
            [
             0.4444444444444444,
             "#bd3786"
            ],
            [
             0.5555555555555556,
             "#d8576b"
            ],
            [
             0.6666666666666666,
             "#ed7953"
            ],
            [
             0.7777777777777778,
             "#fb9f3a"
            ],
            [
             0.8888888888888888,
             "#fdca26"
            ],
            [
             1,
             "#f0f921"
            ]
           ],
           "sequentialminus": [
            [
             0,
             "#0d0887"
            ],
            [
             0.1111111111111111,
             "#46039f"
            ],
            [
             0.2222222222222222,
             "#7201a8"
            ],
            [
             0.3333333333333333,
             "#9c179e"
            ],
            [
             0.4444444444444444,
             "#bd3786"
            ],
            [
             0.5555555555555556,
             "#d8576b"
            ],
            [
             0.6666666666666666,
             "#ed7953"
            ],
            [
             0.7777777777777778,
             "#fb9f3a"
            ],
            [
             0.8888888888888888,
             "#fdca26"
            ],
            [
             1,
             "#f0f921"
            ]
           ]
          },
          "colorway": [
           "#636efa",
           "#EF553B",
           "#00cc96",
           "#ab63fa",
           "#FFA15A",
           "#19d3f3",
           "#FF6692",
           "#B6E880",
           "#FF97FF",
           "#FECB52"
          ],
          "font": {
           "color": "#2a3f5f"
          },
          "geo": {
           "bgcolor": "white",
           "lakecolor": "white",
           "landcolor": "white",
           "showlakes": true,
           "showland": true,
           "subunitcolor": "#C8D4E3"
          },
          "hoverlabel": {
           "align": "left"
          },
          "hovermode": "closest",
          "mapbox": {
           "style": "light"
          },
          "paper_bgcolor": "white",
          "plot_bgcolor": "white",
          "polar": {
           "angularaxis": {
            "gridcolor": "#EBF0F8",
            "linecolor": "#EBF0F8",
            "ticks": ""
           },
           "bgcolor": "white",
           "radialaxis": {
            "gridcolor": "#EBF0F8",
            "linecolor": "#EBF0F8",
            "ticks": ""
           }
          },
          "scene": {
           "xaxis": {
            "backgroundcolor": "white",
            "gridcolor": "#DFE8F3",
            "gridwidth": 2,
            "linecolor": "#EBF0F8",
            "showbackground": true,
            "ticks": "",
            "zerolinecolor": "#EBF0F8"
           },
           "yaxis": {
            "backgroundcolor": "white",
            "gridcolor": "#DFE8F3",
            "gridwidth": 2,
            "linecolor": "#EBF0F8",
            "showbackground": true,
            "ticks": "",
            "zerolinecolor": "#EBF0F8"
           },
           "zaxis": {
            "backgroundcolor": "white",
            "gridcolor": "#DFE8F3",
            "gridwidth": 2,
            "linecolor": "#EBF0F8",
            "showbackground": true,
            "ticks": "",
            "zerolinecolor": "#EBF0F8"
           }
          },
          "shapedefaults": {
           "line": {
            "color": "#2a3f5f"
           }
          },
          "ternary": {
           "aaxis": {
            "gridcolor": "#DFE8F3",
            "linecolor": "#A2B1C6",
            "ticks": ""
           },
           "baxis": {
            "gridcolor": "#DFE8F3",
            "linecolor": "#A2B1C6",
            "ticks": ""
           },
           "bgcolor": "white",
           "caxis": {
            "gridcolor": "#DFE8F3",
            "linecolor": "#A2B1C6",
            "ticks": ""
           }
          },
          "title": {
           "x": 0.05
          },
          "xaxis": {
           "automargin": true,
           "gridcolor": "#EBF0F8",
           "linecolor": "#EBF0F8",
           "ticks": "",
           "title": {
            "standoff": 15
           },
           "zerolinecolor": "#EBF0F8",
           "zerolinewidth": 2
          },
          "yaxis": {
           "automargin": true,
           "gridcolor": "#EBF0F8",
           "linecolor": "#EBF0F8",
           "ticks": "",
           "title": {
            "standoff": 15
           },
           "zerolinecolor": "#EBF0F8",
           "zerolinewidth": 2
          }
         }
        },
        "title": {
         "font": {
          "color": "#3E3D53"
         },
         "text": "TUKEY - Pacific_Beach-La_Jolla Reefs",
         "x": 0.5
        },
        "width": 600,
        "xaxis": {
         "anchor": "y",
         "domain": [
          0,
          1
         ],
         "title": {
          "text": "stats_diff"
         }
        },
        "yaxis": {
         "anchor": "x",
         "domain": [
          0,
          1
         ],
         "title": {
          "text": "-log(p)"
         }
        }
       }
      }
     },
     "metadata": {},
     "output_type": "display_data"
    },
    {
     "data": {
      "application/vnd.jupyter.widget-view+json": {
       "model_id": "bd17734e256f4a63bf958265de96846a",
       "version_major": 2,
       "version_minor": 0
      },
      "text/plain": [
       "interactive(children=(Dropdown(description='contrast', options=('Pacific_Beach-La_Jolla Reefs', 'Pacific_Beach…"
      ]
     },
     "metadata": {},
     "output_type": "display_data"
    },
    {
     "data": {
      "application/vnd.plotly.v1+json": {
       "config": {
        "plotlyServerURL": "https://plot.ly"
       },
       "data": [
        {
         "hovertemplate": "<extra></extra>",
         "legendgroup": "",
         "marker": {
          "color": "#636efa",
          "symbol": "circle"
         },
         "mode": "markers",
         "name": "",
         "orientation": "v",
         "showlegend": false,
         "type": "scatter",
         "xaxis": "x",
         "yaxis": "y"
        },
        {
         "marker": {
          "color": "#696880"
         },
         "mode": "markers",
         "name": "insignificant",
         "type": "scatter",
         "x": [
          2.7242398262023926,
          0.7159165740013123,
          2.647374153137207,
          2.6567282676696777,
          0.839358389377594,
          1.012799620628357,
          1.3707581758499146,
          1.6571015119552612,
          2.476632833480835,
          2.406343460083008,
          1.029680848121643,
          2.3764989376068115,
          0.5398587584495544,
          2.422638416290283,
          0.8866623640060425,
          0.1303442418575287,
          0.12936630845069885,
          1.0397605895996094,
          1.113692283630371,
          -0.9720866680145264,
          0.7715041041374207,
          2.3374552726745605,
          -0.47420185804367065,
          1.6270657777786255,
          1.0455267429351807,
          -1.4376890659332275,
          0.7570608258247375,
          1.4740029573440552,
          0.41509518027305603,
          0.8386776447296143,
          0.5477091073989868,
          2.2052834033966064,
          0.25587132573127747,
          1.5228196382522583,
          -0.5824518799781799,
          0.1640360802412033,
          0.2603813707828522,
          0.661591112613678,
          0.11493374407291412,
          0.48568496108055115,
          0.6750237941741943,
          0.2677355706691742,
          -0.2149144858121872,
          -0.38878488540649414,
          0.46517807245254517,
          0.3870646059513092,
          0.21754534542560577,
          0.166454017162323,
          0.26864832639694214,
          1.949153184890747,
          1.6334699392318726,
          1.2046213150024414,
          0.17587994039058685,
          0.2975568175315857,
          1.4402720928192139,
          -0.4211626946926117,
          0.8144073486328125,
          0.7426717281341553,
          -0.8666635155677795,
          -0.3555595576763153,
          -0.1047610267996788,
          -0.2786150276660919,
          1.7235530614852905,
          0.3111037611961365,
          0.12250732630491257,
          -0.6161314845085144,
          -1.2781751155853271,
          -0.5157995223999023,
          0.13607558608055115,
          0.09556818753480911,
          1.860422968864441,
          0.16506585478782654,
          0.6022338271141052,
          0.19164368510246277,
          -0.5221688151359558,
          0.17319737374782562,
          0.28096359968185425,
          -1.5558220148086548,
          0.3904143273830414,
          0.10802625864744186,
          0.31896641850471497,
          -0.5072232484817505,
          0.09317409992218018,
          -0.40339767932891846,
          -0.41171103715896606,
          -0.09950574487447739,
          -1.540428876876831,
          0.47211208939552307,
          -0.22011986374855042,
          0.3443661332130432,
          0.8782005310058594,
          -0.15732061862945557,
          0.13754980266094208,
          0.241898313164711,
          -0.1247953474521637,
          -0.3072635531425476,
          -0.5508208274841309,
          0.35727617144584656,
          0.5072822570800781,
          0.3741019070148468,
          -0.2732711732387543,
          0.608256995677948,
          0.3011173903942108,
          -0.4057338237762451,
          0.6907516121864319,
          0.7851362228393555,
          0.10027740895748138,
          0.3683433532714844,
          0.11434239894151688,
          0.14815838634967804,
          -0.44698986411094666,
          -0.4211747944355011,
          0.25902554392814636,
          0.07480199635028839,
          0.10253125429153442,
          0.9921501278877258,
          0.2843821942806244,
          -0.41611677408218384,
          0.5804736018180847,
          0.09458106011152267,
          0.37660351395606995,
          -0.11229321360588074,
          -0.20993562042713165,
          0.10572445392608643,
          0.27298107743263245,
          -0.565290093421936,
          -0.1530502885580063,
          -0.22196653485298157,
          0.5622491240501404,
          -0.3484957218170166,
          -0.6077054142951965,
          -0.09635531902313232,
          0.8512172698974609,
          0.10003714263439178,
          -0.3575022220611572,
          0.10231044888496399,
          0.3151249885559082,
          -0.14570145308971405,
          -1.459613561630249,
          -0.4399455487728119,
          0.27968883514404297,
          0.37317222356796265,
          0.047860682010650635,
          0.20574478805065155,
          -0.2715998888015747,
          0.06368950754404068,
          -0.4061122536659241,
          0.3591957986354828,
          -0.5955548882484436,
          -0.10787370055913925,
          0.2457566261291504,
          0.2903103828430176,
          0.11726081371307373,
          -0.3005909025669098,
          -0.4145408570766449,
          0.04402132332324982,
          0.41937199234962463,
          0.3783339560031891,
          -0.3515585958957672,
          -0.052165281027555466,
          0.30027586221694946,
          0.060425013303756714,
          0.0954744815826416,
          0.059290241450071335,
          0.059620145708322525,
          -0.6385371088981628,
          -0.24423636496067047,
          -0.6172323822975159,
          -0.33136048913002014,
          -0.21899989247322083,
          -0.03509054332971573,
          -0.3511214852333069,
          0.1387881338596344,
          -0.030953960493206978,
          0.2427518218755722,
          -0.03175252303481102,
          0.1093134805560112,
          0.0580819807946682,
          -0.23824378848075867,
          -0.3102942705154419,
          -0.13835188746452332,
          0.18925856053829193,
          0.14039967954158783,
          -0.27678048610687256,
          0.4325786232948303,
          -0.14845222234725952,
          0.347979873418808,
          -0.4122987389564514,
          -0.37666597962379456,
          -0.1920604556798935,
          0.2742047905921936,
          0.09890424460172653,
          -0.26601406931877136,
          0.10294752568006516,
          0.02860770747065544,
          -0.3626517057418823,
          -0.10578478127717972,
          -0.08822021633386612,
          0.10285402834415436,
          -0.17995861172676086,
          0.011555886827409267,
          0.1575651466846466,
          0.17815662920475006,
          0.15502309799194336,
          0.05134814232587814,
          -0.13378745317459106,
          0.03862031176686287,
          -0.34067001938819885,
          0.39072442054748535,
          -0.10569709539413452,
          0.36546263098716736,
          -0.3026929199695587,
          -0.3949775695800781,
          0.2738304138183594,
          0.08054935187101364,
          -0.1710323542356491,
          0.05752793699502945,
          -0.0963623970746994,
          -0.06136437878012657,
          -0.12729357182979584,
          0.2696741819381714,
          0.14841784536838531,
          -0.2659720480442047,
          0.07995261251926422,
          -0.17583662271499634,
          -0.1771940439939499,
          0.01785055361688137,
          -0.10682666301727295,
          -0.3624424338340759,
          -0.07261492311954498,
          -0.14665083587169647,
          -0.20290915668010712,
          -0.13465294241905212,
          -0.19697214663028717,
          -0.1793687641620636,
          -0.05387356877326965,
          -0.034196637570858,
          0.14530456066131592,
          -0.36292731761932373,
          -0.12168934941291809,
          0.04071422666311264,
          -0.1529432237148285,
          -0.06604323536157608,
          0.08344072848558426,
          0.09735265374183655,
          -0.11047562956809998,
          -0.23653419315814972,
          -0.08203879743814468,
          -0.046060819178819656,
          0.11517978459596634,
          0.06126449257135391,
          -0.050056952983140945,
          -0.05155724287033081,
          -0.17505183815956116,
          0.23235055804252625,
          0.05396723002195358,
          0.04373382404446602,
          0.0405518114566803,
          -0.19444724917411804,
          0.03406325355172157,
          -0.182400643825531,
          0.23659448325634003,
          -0.10951711982488632,
          -0.05833891034126282,
          0.06810158491134644,
          0.0585751011967659,
          -0.12943537533283234,
          -0.14377082884311676,
          -0.15705256164073944,
          -0.043080151081085205,
          0.15507633984088898,
          0.03656071051955223,
          -0.1796763390302658,
          -0.09731636196374893,
          -0.10002117604017258,
          -0.06960953772068024,
          0.043753404170274734,
          -0.06400271505117416,
          -0.26076728105545044,
          0.057966165244579315,
          -0.053078338503837585,
          -0.19337588548660278,
          -0.08530758321285248,
          -0.08733229339122772,
          -0.11203304678201675,
          0.19234606623649597,
          0.2500840723514557,
          0.03173469752073288,
          -0.14730028808116913,
          0.04387791082262993,
          -0.16719786822795868,
          -0.1645924150943756,
          -0.06357494741678238,
          -0.03328557685017586,
          0.1054377555847168,
          -0.05740250274538994,
          -0.09486765414476395,
          -0.11024204641580582,
          -0.08625808358192444,
          -0.2717236578464508,
          0.09686652570962906,
          0.1183205097913742,
          0.05911119282245636,
          0.09707865118980408,
          -0.09901527315378189,
          0.05120097100734711,
          0.024759095162153244,
          0.02005748264491558,
          0.04242214560508728,
          -0.17659659683704376,
          -0.18485412001609802,
          -0.20821641385555267,
          -0.23807336390018463,
          -0.06428585201501846,
          -0.23259685933589935,
          0.02795563079416752,
          -0.05036933347582817,
          -0.07194071263074875,
          0.15291830897331238,
          -0.10801912844181061,
          0.16622668504714966,
          -0.18196547031402588,
          0.2129516750574112,
          0.024690261110663414,
          0.21868516504764557,
          0.03460056334733963,
          -0.2536889910697937,
          -0.16438288986682892,
          -0.029271813109517097,
          -0.09621027112007141,
          -0.14158205687999725,
          0.05179329589009285,
          -0.057794611901044846,
          -0.08145586401224136,
          0.03516478091478348,
          -0.0753943994641304,
          0.17784340679645538,
          -0.08716293424367905,
          -0.01081426627933979,
          0.0602014996111393,
          0.11713217198848724,
          -0.07445672154426575,
          0.11866278946399689,
          -0.030575226992368698,
          0.06842285394668579,
          0.025001993402838707,
          -0.35268548130989075,
          0.01860908418893814,
          -0.07263094186782837,
          -0.24584564566612244,
          -0.10646168142557144,
          0.06561168283224106,
          -0.03848332166671753,
          0.10280857235193253,
          0.1262456625699997,
          0.0947650745511055,
          0.09053914994001389,
          0.1561560332775116,
          -0.08932778239250183,
          -0.055903106927871704,
          -0.12073737382888794,
          0.11204565316438675,
          -0.04601437225937843,
          -0.040978796780109406,
          0.14628027379512787,
          -0.17202256619930267,
          0.16764186322689056,
          0.13572359085083008,
          0.09965220093727112,
          0.12601962685585022,
          -0.03869204595685005,
          0.00871786568313837,
          0.22578704357147217,
          -0.0312834195792675,
          0.07691915333271027,
          -0.1307610422372818,
          -0.12970973551273346,
          -0.07306386530399323,
          -0.07160263508558273,
          -0.11730184406042099,
          0.03638680279254913,
          -0.14629098773002625,
          -0.028966624289751053,
          -0.028040176257491112,
          0.10832370072603226,
          -0.06061943620443344,
          -0.13479246199131012,
          0.07924354821443558,
          -0.07687771320343018,
          -0.07529939711093903,
          0.023658890277147293,
          0.01943688839673996,
          -0.09650285542011261,
          0.1522744745016098,
          -0.023384669795632362,
          -0.029277987778186798,
          -0.13267704844474792,
          -0.059225231409072876,
          -0.06504722684621811,
          -0.03911679610610008,
          -0.018557220697402954,
          -0.13881605863571167,
          -0.010125990025699139,
          0.031448666006326675,
          -0.0517326220870018,
          0.15845471620559692,
          0.07212240248918533,
          0.16800902783870697,
          -0.25452807545661926,
          0.07798463851213455,
          -0.039511293172836304,
          0.03802128881216049,
          -0.015415593050420284,
          -0.09514667093753815,
          -0.012100006453692913,
          -0.0471220389008522,
          -0.09411885589361191,
          -0.03018190711736679,
          0.0720265656709671,
          -0.04183376953005791,
          0.0354590080678463,
          -0.047422125935554504,
          -0.029932405799627304,
          -0.031480804085731506,
          -0.07060132175683975,
          0.10469841957092285,
          -0.023441605269908905,
          -0.14324872195720673,
          0.15970255434513092,
          -0.033382341265678406,
          -0.03775801137089729,
          0.04735157638788223,
          0.06322920322418213,
          0.020265525206923485,
          0.11385435611009598,
          -0.0791591927409172,
          0.020710429176688194,
          -0.03349946439266205,
          0.08160042017698288,
          -0.10258428007364273,
          -0.20526443421840668,
          -0.035457223653793335,
          0.04149356111884117,
          -0.034841395914554596,
          0.15774303674697876,
          -0.05172591656446457,
          0.028400391340255737,
          -0.21577225625514984,
          0.04916072636842728,
          0.008091510273516178,
          0.16843366622924805,
          -0.06430891156196594,
          -0.07330702245235443,
          0.07821454852819443,
          -0.021445728838443756,
          0.018815111368894577,
          -0.05283388867974281,
          -0.059243343770504,
          -0.08173437416553497,
          -0.39019113779067993,
          -0.21762558817863464,
          0.05497034639120102,
          -0.05210017412900925,
          0.04133148491382599,
          -0.04916194826364517,
          -0.10266489535570145,
          -0.0476665124297142,
          0.06123402714729309,
          0.03486642614006996,
          0.056665170937776566,
          -0.016294177621603012,
          -0.0504111610352993,
          -0.027344034984707832,
          -0.039750728756189346,
          -0.07970356941223145,
          0.2400258183479309,
          -0.04039711132645607,
          -0.047491900622844696,
          -0.008596611209213734,
          0.042385999113321304,
          -0.035688530653715134,
          0.011248869821429253,
          0.038813281804323196,
          0.05315396189689636,
          0.11035178601741791,
          0.02576526626944542,
          0.05314940959215164,
          -0.02475995384156704,
          -0.06712628901004791,
          -0.04317358136177063,
          -0.04977019876241684,
          -0.055485352873802185,
          -0.009509692899882793,
          0.010838409885764122,
          0.09944328665733337,
          0.013341357000172138,
          -0.041120123118162155,
          0.014867249876260757,
          -0.07128497213125229,
          0.02471677027642727,
          -0.06002107262611389,
          -0.0701056644320488,
          -0.22678442299365997,
          -0.019768284633755684,
          0.00539218308404088,
          0.04109978675842285,
          -0.046499740332365036,
          -0.009944789111614227,
          -0.04172636941075325,
          -0.016012562438845634,
          -0.1344957798719406,
          0.09096068888902664,
          0.0604509599506855,
          0.0383286289870739,
          -0.047594279050827026,
          -0.03459220007061958,
          0.029487095773220062,
          -0.06919737905263901,
          0.02589123137295246,
          -0.05967222526669502,
          0.08136466145515442,
          -0.08020120114088058,
          0.020496031269431114,
          -0.04368286952376366,
          0.022134732455015182,
          0.06109976768493652,
          -0.08096054941415787,
          -0.051314521580934525,
          0.1148592084646225,
          0.018918780609965324,
          0.009967830032110214,
          -0.015357223339378834,
          -0.09063813090324402,
          -0.058391448110342026,
          0.023213177919387817,
          -0.009635694324970245,
          -0.043354377150535583,
          -0.01748407632112503,
          -0.015474317595362663,
          -0.07575973868370056,
          -0.05232841894030571,
          0.020439913496375084,
          -0.08680002391338348,
          -0.046207234263420105,
          -0.03778057172894478,
          -0.044648636132478714,
          0.04842599108815193,
          0.025273270905017853,
          -0.08603695034980774,
          -0.01572248712182045,
          -0.04389257729053497,
          -0.03989752009510994,
          -0.08616454154253006,
          0.01542859710752964,
          0.05959445238113403,
          0.025906357914209366,
          0.06964487582445145,
          -0.019180208444595337,
          -0.02267412468791008,
          0.05549948289990425,
          -0.01931261643767357,
          -0.012503855861723423,
          0.08214494585990906,
          -0.03808116912841797,
          0.041481442749500275,
          -0.037839893251657486,
          0.014374101534485817,
          -0.010886995121836662,
          -0.03638167306780815,
          -0.020701460540294647,
          0.021568186581134796,
          -0.024488814175128937,
          0.15272799134254456,
          -0.04707738012075424,
          -0.011493244208395481,
          -0.06293287873268127,
          -0.030712202191352844,
          0.012383873574435711,
          -0.02251894772052765,
          0.03192055597901344,
          0.014161830767989159,
          0.020018907263875008,
          0.01781219057738781,
          -0.0562824122607708,
          -0.03566369414329529,
          -0.022344810888171196,
          0.010065089911222458,
          0.02753431163728237,
          -0.0775083675980568,
          0.010330799035727978,
          0.00582467345520854,
          -0.03421025350689888,
          -0.013747082091867924,
          0.05563671514391899,
          -0.030804837122559547,
          0.0761958509683609,
          0.03766676038503647,
          0.006634012795984745,
          0.010040946304798126,
          0.06505470722913742,
          0.034847360104322433,
          -0.07987824827432632,
          0.011150208301842213,
          -0.024239493533968925,
          0.08312514424324036,
          0.044954776763916016,
          0.026077279821038246,
          0.021635182201862335,
          -0.006296029780060053,
          0.023027602583169937,
          -0.07877329736948013,
          0.016678135842084885,
          0.009581085294485092,
          -0.009019064716994762,
          0.05694083124399185,
          -0.031792737543582916,
          -0.04366839677095413,
          -0.04349880293011665,
          0.008389134891331196,
          -0.029421791434288025,
          -0.044230978935956955,
          0.08107913285493851,
          0.01268021296709776,
          -0.0826343521475792,
          -0.010286672972142696,
          -0.00992132630199194,
          -0.017595387995243073,
          0.056928399950265884,
          0.03739031404256821,
          0.035007111728191376,
          0.07662437111139297,
          -0.008534487336874008,
          0.011906139552593231,
          0.007834263145923615,
          0.029707489535212517,
          0.02310679666697979,
          0.006960585247725248,
          -0.027947286143898964,
          0.0637078657746315,
          -0.03222833573818207,
          0.024650540202856064,
          -0.04584726691246033,
          -0.017234480008482933,
          0.02641933597624302,
          -0.02171420305967331,
          0.004969732370227575,
          0.06003906577825546,
          -0.0337362140417099,
          0.027762005105614662,
          -0.006634952500462532,
          -0.005300664808601141,
          0.013083072379231453,
          -0.004380758386105299,
          -0.043226927518844604,
          0.02453569322824478,
          0.04188615083694458,
          0.028999369591474533,
          0.017362132668495178,
          0.02172841504216194,
          -0.020941220223903656,
          -0.04573844000697136,
          0.005510546267032623,
          -0.02747768722474575,
          -0.014398750849068165,
          0.051411718130111694,
          0.01621650904417038,
          0.005111947190016508,
          0.010800005868077278,
          -0.011070112697780132,
          -0.01770855486392975,
          0.004008250776678324,
          0.01593129150569439,
          -0.022908834740519524,
          0.013562003150582314,
          0.021463889628648758,
          -0.022847075015306473,
          0.01977560855448246,
          -0.07129457592964172,
          -0.016531692817807198,
          -0.023309078067541122,
          -0.00893260445445776,
          -0.01720849983394146,
          -0.009283299557864666,
          -0.004991104826331139,
          -0.03546485677361488,
          -0.017215248197317123,
          -0.035926178097724915,
          0.01830236054956913,
          -0.057898689061403275,
          0.015293844044208527,
          -0.011141691356897354,
          0.005581764969974756,
          0.0036911005154252052,
          -0.015071982517838478,
          0.009806006215512753,
          0.021967245265841484,
          0.014991337433457375,
          0.0829891711473465,
          0.02127791754901409,
          -0.014304595068097115,
          0.003939205780625343,
          0.0031108290422707796,
          -0.0032583894208073616,
          0.011435781605541706,
          -0.0033403043635189533,
          0.013888233341276646,
          0.004488365259021521,
          -0.002023824490606785,
          0.005398287903517485,
          0.009175061248242855,
          -0.011701337061822414,
          -0.0037797552067786455,
          -0.004047400318086147,
          0.0029108484741300344,
          -0.00866076909005642,
          -0.01034065056592226,
          -0.012705963104963303,
          -0.0034947465173900127,
          0.0048062182031571865,
          0.002117566065862775,
          0.004310985561460257,
          -0.0013119664508849382,
          -0.008227815851569176,
          -0.002139831194654107,
          0.01923844777047634,
          -0.001001522527076304,
          -0.010230107232928276,
          0.016619950532913208,
          -0.0027557602152228355,
          0.004623711574822664,
          0.0015678026247769594,
          -0.012171010486781597,
          0.0015625610249117017,
          -0.030704189091920853,
          0.004030467011034489,
          0.0011135217500850558,
          -0.00927246455103159,
          -0.0012785387225449085,
          0.006828785873949528,
          -0.0069351801648736,
          -0.004439868964254856,
          -0.0015191372949630022,
          -0.0027178721502423286,
          -0.003989948891103268,
          -0.00013747389311902225,
          -0.0004946395638398826,
          -0.0035172950010746717,
          -0.0013034590519964695,
          0.004126378800719976,
          0.0019184524426236749,
          0.0012150454567745328,
          0.001372982980683446,
          0.002455318346619606,
          0.0007805850473232567,
          0.0003155552549287677,
          0.00009715276974020526
         ],
         "y": [
          7.730528770361677,
          7.723540484401172,
          7.6061760536860765,
          7.42316403861995,
          6.51676968295936,
          6.490406825903444,
          6.37963459194526,
          6.366071172607075,
          6.155670757913975,
          6.0841211539203615,
          6.053889695729597,
          6.00080968375948,
          5.913515300568822,
          5.8985352098757575,
          5.879483064570726,
          5.867448822024023,
          5.855041251892078,
          5.839613545865475,
          5.832282630927791,
          5.763433368520259,
          5.758718802495459,
          5.614893172788127,
          5.567021640529559,
          5.441460816381802,
          5.408419543499588,
          5.387730005439805,
          5.3824999076799145,
          5.377474924841521,
          5.284132174126881,
          5.250700394554247,
          5.233271792240495,
          5.225953094725539,
          5.219580430926977,
          5.135104403975921,
          5.125665525770196,
          5.063257765662994,
          4.999783570192201,
          4.989161915126578,
          4.7510810282644655,
          4.711536975717989,
          4.662067217661278,
          4.434576899154434,
          4.4281857341073625,
          4.3986068961695,
          4.347866524159587,
          4.306962434436657,
          4.226241203885954,
          4.223634423670771,
          4.2025618178765685,
          4.16520718325067,
          4.165185349755305,
          4.158573902263979,
          4.143334882054691,
          4.081139059913843,
          4.075000525125719,
          3.969922161175159,
          3.962831671513526,
          3.9595177793174585,
          3.943745547259406,
          3.9212834456563446,
          3.897552292065671,
          3.874343741232805,
          3.8720218056030467,
          3.8657864283696624,
          3.8651367815722466,
          3.8543783075884637,
          3.8396384621851882,
          3.784047256008689,
          3.7789478311549867,
          3.7703139831975383,
          3.72133946184303,
          3.704909154303333,
          3.6806667300221685,
          3.608608500455925,
          3.5769069976411734,
          3.574852356909576,
          3.5638211401875273,
          3.519600846365149,
          3.5153349250525903,
          3.514265369375856,
          3.4976324623279678,
          3.482928711270237,
          3.467288974723197,
          3.441789900417216,
          3.4161682741160764,
          3.4006878396338527,
          3.3879872470762313,
          3.3810021972241615,
          3.291549565663543,
          3.283671831481312,
          3.270733299875245,
          3.2687243907622388,
          3.2518493716705414,
          3.21704319457018,
          3.202127171104137,
          3.1631017829070562,
          3.141664194433706,
          3.130899209040513,
          3.0374731983582506,
          3.0317066198741442,
          3.016037039570759,
          2.987031730429491,
          2.9800021650868818,
          2.976541310909298,
          2.964575765767604,
          2.9337569834005404,
          2.927847897687908,
          2.9261837233043386,
          2.9083166576226795,
          2.9070604710190096,
          2.8607520424309367,
          2.851545660351751,
          2.85152250453591,
          2.8499813655206614,
          2.8436952310193013,
          2.8117697919375417,
          2.805784668267598,
          2.790977122375181,
          2.780303049330959,
          2.7727466274101564,
          2.7672820401870553,
          2.751709135292326,
          2.732841485668023,
          2.7282346123939996,
          2.678260094778971,
          2.6621262235846515,
          2.5890032136121057,
          2.585708636902306,
          2.5663166239178126,
          2.5602425801901973,
          2.531906172010783,
          2.5195841829192096,
          2.5059359333457474,
          2.4929145936923653,
          2.472724502264962,
          2.468949233222002,
          2.4623590445579118,
          2.457435202199972,
          2.4415889356510445,
          2.4271081925606186,
          2.399332150703488,
          2.3955703044957986,
          2.3813096103810536,
          2.3770370797941567,
          2.362548037225669,
          2.3404930295286115,
          2.339121171999612,
          2.3263857753740385,
          2.3259381450268384,
          2.3031526008074414,
          2.2390174336155693,
          2.237493006334084,
          2.2324185301704182,
          2.184979324016557,
          2.165374158158863,
          2.1590205334088046,
          2.15644161031474,
          2.1500136243154055,
          2.135357157841185,
          2.0811667356938766,
          2.074857856026007,
          2.074837090020266,
          2.0693231610947684,
          2.0623282613074143,
          2.0420378202428124,
          1.977245084473779,
          1.9690523777226456,
          1.9542950250537834,
          1.943325770688032,
          1.9409343850169711,
          1.9397354944745446,
          1.9368194776698167,
          1.8960473390106047,
          1.886987600644443,
          1.8786068168516068,
          1.8770808361544944,
          1.8533391153211118,
          1.843538985914434,
          1.8365730811964607,
          1.8215465389046575,
          1.8104055592744202,
          1.8080015880679234,
          1.7844730961612005,
          1.7796642366971742,
          1.7664008381107759,
          1.762193027204817,
          1.7553544014911122,
          1.7509036103062297,
          1.7265797462592491,
          1.7180007199258924,
          1.707785384470282,
          1.6958526948809507,
          1.6903530202163286,
          1.6880187961534523,
          1.6874084623004306,
          1.677162245148446,
          1.6550363995147706,
          1.629951565917517,
          1.620206250672408,
          1.6157914793023482,
          1.6060734425929721,
          1.6035157906063573,
          1.6024051971842128,
          1.5953070792171107,
          1.590235767143062,
          1.5885489858459412,
          1.5497893616210803,
          1.5449319871865583,
          1.534364865152663,
          1.5269863805865507,
          1.5213218249115597,
          1.5198680569070715,
          1.5193512771146542,
          1.5155845066120635,
          1.5135263184172416,
          1.508978173856422,
          1.4972671011598981,
          1.4911271440735119,
          1.488726514133178,
          1.486959165282915,
          1.4804224155365886,
          1.4606869538582024,
          1.4590984929884376,
          1.454248220729571,
          1.453972724620351,
          1.447481127028268,
          1.4257315293156112,
          1.4210615289100097,
          1.4193340599487956,
          1.4154063988090502,
          1.4049898837302284,
          1.39764256239774,
          1.3937431706495098,
          1.392876180261748,
          1.391844622678574,
          1.3880202716249452,
          1.3770009687994411,
          1.3586135643370334,
          1.3442018879887356,
          1.3099054277016484,
          1.3034124545335446,
          1.2948159422223309,
          1.2806702250272852,
          1.2754247232110572,
          1.273176545217696,
          1.2702164645716199,
          1.261618033108733,
          1.2535341624622092,
          1.2528273882901195,
          1.2494317656960645,
          1.2451857633511334,
          1.2356598541108235,
          1.2355782361558123,
          1.2256921201541773,
          1.2242443439964286,
          1.2175823957393757,
          1.207226704608128,
          1.1988118261649754,
          1.1912728271436233,
          1.189299686721261,
          1.1890804280359524,
          1.1827804841483183,
          1.1746809554141677,
          1.1653126450104865,
          1.1628454899044327,
          1.1617024649375847,
          1.1551384655754873,
          1.1498126166796643,
          1.1482238067852417,
          1.1453928360809753,
          1.1430086759932314,
          1.1311515262205574,
          1.1235396615894118,
          1.1194418123752425,
          1.113473123399015,
          1.1091442340221518,
          1.1071505833091841,
          1.102265027528891,
          1.0827074924549016,
          1.076321187868063,
          1.0759386409541951,
          1.0699880075977632,
          1.0667339400296578,
          1.060074318393174,
          1.059798640015111,
          1.0567700685239678,
          1.0519160295025134,
          1.034682874049281,
          1.0319015034323002,
          1.0318113466464105,
          1.0256941900148766,
          1.0232940849882892,
          1.0202418892848473,
          1.018975066476627,
          1.0150363231025472,
          1.0101923065338152,
          1.0099896886876454,
          1.0073085443742669,
          1.0044260765072885,
          0.9972543926617129,
          0.9957238859900865,
          0.9901119573952857,
          0.9874850327260722,
          0.9866237651909823,
          0.9842931891156059,
          0.9834756215073464,
          0.981948141342728,
          0.9802519698731218,
          0.9768583388166282,
          0.9756387845036538,
          0.9744551451045761,
          0.9659525951866925,
          0.9525941529988387,
          0.9511445644254607,
          0.950130731316488,
          0.9462311153781519,
          0.9456193667230656,
          0.9444708646335248,
          0.9343013695946741,
          0.9323488993291887,
          0.9235832727447568,
          0.9212397725060698,
          0.9162226209859372,
          0.9101485845318961,
          0.9086577453895659,
          0.907322037677008,
          0.9047811653002565,
          0.8974490523327406,
          0.8942340891428919,
          0.8851452016267843,
          0.8812240743026044,
          0.8784813741611573,
          0.8777716016791587,
          0.8748712720196299,
          0.8729510858212142,
          0.870397461050158,
          0.8693941284738633,
          0.8654845894035837,
          0.8570910868310396,
          0.8491596049694055,
          0.8483477411563605,
          0.846848591972304,
          0.8462030755235457,
          0.8440205109576631,
          0.8433464093315348,
          0.8429458636034075,
          0.8401775966994075,
          0.8361401135213332,
          0.8356569346072434,
          0.827990394833452,
          0.8277150047605671,
          0.8242959338619419,
          0.8238232653793918,
          0.8202323927421967,
          0.8200914889640166,
          0.8188325607815433,
          0.8155761096335203,
          0.8125477483629503,
          0.8045044769728251,
          0.8043359280877201,
          0.800760598838917,
          0.7997681615877922,
          0.794979069070478,
          0.7924446780992989,
          0.791094818297491,
          0.7890716019829749,
          0.7818589732319132,
          0.7780635371187844,
          0.7744176280456317,
          0.7735807475613464,
          0.7730125205412093,
          0.7729468003697993,
          0.7708306357610879,
          0.7683444934413022,
          0.7640828312963586,
          0.7632278279238432,
          0.7613255627944133,
          0.7552994062690989,
          0.7521183551451847,
          0.7514732857446753,
          0.7507960505109987,
          0.7488780027556402,
          0.7459847494147386,
          0.7450677878201937,
          0.7438273750561232,
          0.7430646925078116,
          0.7265070398711011,
          0.7202212661863331,
          0.7185916396227257,
          0.7137491167527639,
          0.706666123864418,
          0.7034512500519529,
          0.6950187285203685,
          0.6945701805547696,
          0.6891020190058582,
          0.6861551423569432,
          0.6843302254855809,
          0.6834872526508565,
          0.6754511839284228,
          0.6733869973464571,
          0.6702034370407779,
          0.6656970443423037,
          0.6647642924795125,
          0.6566388665494425,
          0.6555589398739807,
          0.654963818895642,
          0.6524681711150845,
          0.647622705669818,
          0.6472922108082713,
          0.6461888850771872,
          0.6453267601434706,
          0.6438865796142266,
          0.6434264136309557,
          0.6416839916048974,
          0.640187763462842,
          0.6393336186332598,
          0.6358796233262932,
          0.6335456451791494,
          0.6324534477930324,
          0.6300742786444932,
          0.6293722106815486,
          0.627321975074611,
          0.6257635935417967,
          0.6252385090474494,
          0.6249324762227065,
          0.622574000826345,
          0.6218408777805312,
          0.6183169162731864,
          0.6166270504877804,
          0.6156062263726274,
          0.6142853050811788,
          0.6139516577593817,
          0.6133513949777645,
          0.6117018684809581,
          0.6104103440705831,
          0.6050992896561695,
          0.6021093418577997,
          0.6007506850091314,
          0.5997560297322373,
          0.5993564256833958,
          0.5969019485720558,
          0.5952658002860475,
          0.5946641150955555,
          0.5945150464985561,
          0.593594985896649,
          0.5922170190819521,
          0.5898910379966299,
          0.5855202532208629,
          0.58234359146441,
          0.5820066707796914,
          0.581133211526123,
          0.5809712277703949,
          0.5715440378893405,
          0.570687786864643,
          0.5678001987193,
          0.5572591766675392,
          0.5567386869376975,
          0.5551206889723765,
          0.5522898592213783,
          0.5522371553060088,
          0.550881373015753,
          0.5479542421829977,
          0.5438055041245297,
          0.5426202430659863,
          0.5422348306394214,
          0.5407056164822052,
          0.5407049000032244,
          0.5383776214074734,
          0.5361522308609974,
          0.5339676694329978,
          0.5328667155157717,
          0.5325393558835201,
          0.5310786119064909,
          0.5304021723603951,
          0.5289843003174615,
          0.5237822732229649,
          0.5234384571520179,
          0.5229357748112194,
          0.5213284455759237,
          0.5206389041237567,
          0.517728024916454,
          0.5111116278786855,
          0.5096699220015449,
          0.5095436148576266,
          0.5084420556916309,
          0.5034837785613345,
          0.5020137300130307,
          0.500955643988901,
          0.4987741165719843,
          0.49826199739667726,
          0.49806051865582834,
          0.49367054771855595,
          0.492450161865679,
          0.4921210444984322,
          0.49165831806847277,
          0.48403082364008276,
          0.4828940097000827,
          0.4768743696744905,
          0.4744647447451814,
          0.47284819012704177,
          0.4719193921337585,
          0.47187085375522697,
          0.4716827420243295,
          0.4705099677405867,
          0.4705011895317649,
          0.4679099325140157,
          0.4658957337616827,
          0.4608422887809896,
          0.4520337538006668,
          0.450886685716992,
          0.45023271679836097,
          0.4487102864948591,
          0.44799896328616423,
          0.4424404406692604,
          0.43970649277041046,
          0.43934914644830403,
          0.4390389886389311,
          0.43848900490273723,
          0.43325988578691826,
          0.43175782623563047,
          0.4316093228293704,
          0.4298844267919971,
          0.42860690977479016,
          0.4256269858611294,
          0.4252543894173905,
          0.4246639009682041,
          0.42352648219020955,
          0.4230464711718667,
          0.422527492152487,
          0.4218878947815343,
          0.4212010219745433,
          0.4159011929165493,
          0.4151984661298937,
          0.41197268217726196,
          0.4085568967244626,
          0.4083660677594544,
          0.40468039310352016,
          0.401988637460727,
          0.4010821332917967,
          0.3978473680170881,
          0.3966819777206874,
          0.39556185186888115,
          0.3927883779152571,
          0.39108530458072904,
          0.38691969110160124,
          0.38528028472818,
          0.3809630973521801,
          0.3752938375739811,
          0.375154266994001,
          0.37499182061536757,
          0.3748619171946492,
          0.37326699026190524,
          0.3662716552814818,
          0.3649807808358292,
          0.36447459446285935,
          0.3617572289661824,
          0.3587826721699421,
          0.3585639121493232,
          0.3578499476667835,
          0.35549514464107906,
          0.3510329784996429,
          0.35063214433595946,
          0.3503078698401755,
          0.34929679520657597,
          0.3486428812328245,
          0.3476672415821557,
          0.3455073549956569,
          0.34540176891958363,
          0.34366112224540885,
          0.3411136643328736,
          0.3372898219584825,
          0.33577459308724716,
          0.3326225680241838,
          0.33158594391427115,
          0.32944697007456314,
          0.3286771440351122,
          0.3264582878003704,
          0.32532355330929236,
          0.3250275105277935,
          0.3224648127046064,
          0.3192052778523757,
          0.31852344863138937,
          0.31452473686041504,
          0.3121743719082563,
          0.312082182268238,
          0.31175046760819614,
          0.3107163774081407,
          0.3100378716329001,
          0.3030031131700974,
          0.3019267532626083,
          0.29741953327208787,
          0.2935925766118124,
          0.29338130700418985,
          0.29216507708029826,
          0.29189840082309354,
          0.2886556914319895,
          0.2875933052074239,
          0.285325778327122,
          0.283646409186221,
          0.28271727071723435,
          0.2799124703181025,
          0.2779355685514669,
          0.2772012334032927,
          0.26977684631573057,
          0.26913007315502746,
          0.26711946235739437,
          0.26626575338386593,
          0.26602502559298236,
          0.2657062962775097,
          0.26245707916702177,
          0.2623707554343734,
          0.26115209260727995,
          0.2591115643927846,
          0.25828534316431967,
          0.2560302612136305,
          0.25429287578104426,
          0.25008893314994324,
          0.24250981285994122,
          0.2422783051451735,
          0.24148666220492304,
          0.24143582048996792,
          0.24015637126111744,
          0.23948007441611363,
          0.23879310947639448,
          0.23805224034396918,
          0.23729310320192323,
          0.23621133488613405,
          0.23615223123488122,
          0.2349230182700268,
          0.23184842553116333,
          0.22992519957815657,
          0.2284888364580597,
          0.22193280525689263,
          0.22029127892866943,
          0.22006582327608537,
          0.21772290712982525,
          0.21035978646128087,
          0.20935892333278533,
          0.20864004957553048,
          0.20422444584347096,
          0.20096192642371383,
          0.19879867743222562,
          0.19770122766615536,
          0.1950587339121106,
          0.19240535850617102,
          0.19233542249470306,
          0.19213965657146376,
          0.19189113962807844,
          0.19134333495886263,
          0.18990810714562617,
          0.18881734215256016,
          0.18664397245093964,
          0.1859781362835022,
          0.1834964343526023,
          0.17719847461053265,
          0.17376769045349663,
          0.17319272407602496,
          0.1729277553149576,
          0.17227544763395594,
          0.17001941893252925,
          0.16695398096350642,
          0.1667354456541658,
          0.1666979128124848,
          0.16634300487237805,
          0.16560852525909509,
          0.16498135862981897,
          0.16470759319686726,
          0.16338178787522895,
          0.16330325546142607,
          0.1606943508122393,
          0.15802493700178666,
          0.15565467183570844,
          0.15462322780906837,
          0.15383737735991057,
          0.15380338413985156,
          0.1528187775435271,
          0.15262115320134237,
          0.14883571708672583,
          0.14732997984767418,
          0.1469525359874488,
          0.1461744128094935,
          0.1427102710822082,
          0.13373808883299626,
          0.13313249573223973,
          0.13239661933007418,
          0.12930669646482773,
          0.12358056537522819,
          0.12117331415626245,
          0.11813633753682423,
          0.1156421694380114,
          0.11360924796119502,
          0.11193484171352229,
          0.11053400816582502,
          0.10801673838898351,
          0.10447514295814013,
          0.10013431202325124,
          0.09993510418993021,
          0.0966013701448,
          0.09629614506322118,
          0.09530129875169,
          0.09214084289578632,
          0.08943986395581222,
          0.08331803612742637,
          0.08269164596380812,
          0.08029676003697694,
          0.07801488421667582,
          0.07733300991273423,
          0.07616083524415906,
          0.0757721514925936,
          0.07514809125454645,
          0.0736488283733398,
          0.07344379354877824,
          0.07026536288701345,
          0.06812944106579483,
          0.06699260007725925,
          0.06460871403072216,
          0.0638033178329529,
          0.06287034747668671,
          0.06224077337525736,
          0.06056287331092575,
          0.06020115715918604,
          0.059412711154827255,
          0.05874441111503435,
          0.058105362776702814,
          0.05626216538847176,
          0.053903441119134185,
          0.051874903662136714,
          0.05030717958160042,
          0.04942572478651554,
          0.04910989584971461,
          0.048448005624598035,
          0.046947671051625194,
          0.04506567019849537,
          0.0442567904023638,
          0.04344296174783315,
          0.041887334200321966,
          0.03654862907951126,
          0.03619846076489199,
          0.031391964702495785,
          0.02681868441133855,
          0.026323988033540493,
          0.02100481357036806,
          0.019448061599099044,
          0.019018230330721128,
          0.01887414392333566,
          0.017496773702915906,
          0.015116527883091913,
          0.014669258976187812,
          0.014248368863595106,
          0.013649329333703688,
          0.01321690938159261,
          0.011462749153590768,
          0.011031092688285069,
          0.004107974046259462,
          0.0012129746218055464,
          0.0006165616667086186
         ]
        },
        {
         "marker": {
          "color": "#ef553b"
         },
         "mode": "markers+text",
         "name": "significant",
         "text": [
          "59188_312.231_7.625",
          "57080_314.247_7.36",
          "21870_246.18_3.969",
          "80910_243.174_10.41"
         ],
         "textfont": {
          "color": "#ef553b",
          "size": 8
         },
         "textposition": "top left",
         "type": "scatter",
         "x": [],
         "y": []
        }
       ],
       "layout": {
        "font": {
         "color": "grey",
         "family": "Sans",
         "size": 12
        },
        "height": 600,
        "legend": {
         "tracegroupgap": 0
        },
        "margin": {
         "t": 60
        },
        "template": {
         "data": {
          "bar": [
           {
            "error_x": {
             "color": "#2a3f5f"
            },
            "error_y": {
             "color": "#2a3f5f"
            },
            "marker": {
             "line": {
              "color": "white",
              "width": 0.5
             },
             "pattern": {
              "fillmode": "overlay",
              "size": 10,
              "solidity": 0.2
             }
            },
            "type": "bar"
           }
          ],
          "barpolar": [
           {
            "marker": {
             "line": {
              "color": "white",
              "width": 0.5
             },
             "pattern": {
              "fillmode": "overlay",
              "size": 10,
              "solidity": 0.2
             }
            },
            "type": "barpolar"
           }
          ],
          "carpet": [
           {
            "aaxis": {
             "endlinecolor": "#2a3f5f",
             "gridcolor": "#C8D4E3",
             "linecolor": "#C8D4E3",
             "minorgridcolor": "#C8D4E3",
             "startlinecolor": "#2a3f5f"
            },
            "baxis": {
             "endlinecolor": "#2a3f5f",
             "gridcolor": "#C8D4E3",
             "linecolor": "#C8D4E3",
             "minorgridcolor": "#C8D4E3",
             "startlinecolor": "#2a3f5f"
            },
            "type": "carpet"
           }
          ],
          "choropleth": [
           {
            "colorbar": {
             "outlinewidth": 0,
             "ticks": ""
            },
            "type": "choropleth"
           }
          ],
          "contour": [
           {
            "colorbar": {
             "outlinewidth": 0,
             "ticks": ""
            },
            "colorscale": [
             [
              0,
              "#0d0887"
             ],
             [
              0.1111111111111111,
              "#46039f"
             ],
             [
              0.2222222222222222,
              "#7201a8"
             ],
             [
              0.3333333333333333,
              "#9c179e"
             ],
             [
              0.4444444444444444,
              "#bd3786"
             ],
             [
              0.5555555555555556,
              "#d8576b"
             ],
             [
              0.6666666666666666,
              "#ed7953"
             ],
             [
              0.7777777777777778,
              "#fb9f3a"
             ],
             [
              0.8888888888888888,
              "#fdca26"
             ],
             [
              1,
              "#f0f921"
             ]
            ],
            "type": "contour"
           }
          ],
          "contourcarpet": [
           {
            "colorbar": {
             "outlinewidth": 0,
             "ticks": ""
            },
            "type": "contourcarpet"
           }
          ],
          "heatmap": [
           {
            "colorbar": {
             "outlinewidth": 0,
             "ticks": ""
            },
            "colorscale": [
             [
              0,
              "#0d0887"
             ],
             [
              0.1111111111111111,
              "#46039f"
             ],
             [
              0.2222222222222222,
              "#7201a8"
             ],
             [
              0.3333333333333333,
              "#9c179e"
             ],
             [
              0.4444444444444444,
              "#bd3786"
             ],
             [
              0.5555555555555556,
              "#d8576b"
             ],
             [
              0.6666666666666666,
              "#ed7953"
             ],
             [
              0.7777777777777778,
              "#fb9f3a"
             ],
             [
              0.8888888888888888,
              "#fdca26"
             ],
             [
              1,
              "#f0f921"
             ]
            ],
            "type": "heatmap"
           }
          ],
          "heatmapgl": [
           {
            "colorbar": {
             "outlinewidth": 0,
             "ticks": ""
            },
            "colorscale": [
             [
              0,
              "#0d0887"
             ],
             [
              0.1111111111111111,
              "#46039f"
             ],
             [
              0.2222222222222222,
              "#7201a8"
             ],
             [
              0.3333333333333333,
              "#9c179e"
             ],
             [
              0.4444444444444444,
              "#bd3786"
             ],
             [
              0.5555555555555556,
              "#d8576b"
             ],
             [
              0.6666666666666666,
              "#ed7953"
             ],
             [
              0.7777777777777778,
              "#fb9f3a"
             ],
             [
              0.8888888888888888,
              "#fdca26"
             ],
             [
              1,
              "#f0f921"
             ]
            ],
            "type": "heatmapgl"
           }
          ],
          "histogram": [
           {
            "marker": {
             "pattern": {
              "fillmode": "overlay",
              "size": 10,
              "solidity": 0.2
             }
            },
            "type": "histogram"
           }
          ],
          "histogram2d": [
           {
            "colorbar": {
             "outlinewidth": 0,
             "ticks": ""
            },
            "colorscale": [
             [
              0,
              "#0d0887"
             ],
             [
              0.1111111111111111,
              "#46039f"
             ],
             [
              0.2222222222222222,
              "#7201a8"
             ],
             [
              0.3333333333333333,
              "#9c179e"
             ],
             [
              0.4444444444444444,
              "#bd3786"
             ],
             [
              0.5555555555555556,
              "#d8576b"
             ],
             [
              0.6666666666666666,
              "#ed7953"
             ],
             [
              0.7777777777777778,
              "#fb9f3a"
             ],
             [
              0.8888888888888888,
              "#fdca26"
             ],
             [
              1,
              "#f0f921"
             ]
            ],
            "type": "histogram2d"
           }
          ],
          "histogram2dcontour": [
           {
            "colorbar": {
             "outlinewidth": 0,
             "ticks": ""
            },
            "colorscale": [
             [
              0,
              "#0d0887"
             ],
             [
              0.1111111111111111,
              "#46039f"
             ],
             [
              0.2222222222222222,
              "#7201a8"
             ],
             [
              0.3333333333333333,
              "#9c179e"
             ],
             [
              0.4444444444444444,
              "#bd3786"
             ],
             [
              0.5555555555555556,
              "#d8576b"
             ],
             [
              0.6666666666666666,
              "#ed7953"
             ],
             [
              0.7777777777777778,
              "#fb9f3a"
             ],
             [
              0.8888888888888888,
              "#fdca26"
             ],
             [
              1,
              "#f0f921"
             ]
            ],
            "type": "histogram2dcontour"
           }
          ],
          "mesh3d": [
           {
            "colorbar": {
             "outlinewidth": 0,
             "ticks": ""
            },
            "type": "mesh3d"
           }
          ],
          "parcoords": [
           {
            "line": {
             "colorbar": {
              "outlinewidth": 0,
              "ticks": ""
             }
            },
            "type": "parcoords"
           }
          ],
          "pie": [
           {
            "automargin": true,
            "type": "pie"
           }
          ],
          "scatter": [
           {
            "fillpattern": {
             "fillmode": "overlay",
             "size": 10,
             "solidity": 0.2
            },
            "type": "scatter"
           }
          ],
          "scatter3d": [
           {
            "line": {
             "colorbar": {
              "outlinewidth": 0,
              "ticks": ""
             }
            },
            "marker": {
             "colorbar": {
              "outlinewidth": 0,
              "ticks": ""
             }
            },
            "type": "scatter3d"
           }
          ],
          "scattercarpet": [
           {
            "marker": {
             "colorbar": {
              "outlinewidth": 0,
              "ticks": ""
             }
            },
            "type": "scattercarpet"
           }
          ],
          "scattergeo": [
           {
            "marker": {
             "colorbar": {
              "outlinewidth": 0,
              "ticks": ""
             }
            },
            "type": "scattergeo"
           }
          ],
          "scattergl": [
           {
            "marker": {
             "colorbar": {
              "outlinewidth": 0,
              "ticks": ""
             }
            },
            "type": "scattergl"
           }
          ],
          "scattermapbox": [
           {
            "marker": {
             "colorbar": {
              "outlinewidth": 0,
              "ticks": ""
             }
            },
            "type": "scattermapbox"
           }
          ],
          "scatterpolar": [
           {
            "marker": {
             "colorbar": {
              "outlinewidth": 0,
              "ticks": ""
             }
            },
            "type": "scatterpolar"
           }
          ],
          "scatterpolargl": [
           {
            "marker": {
             "colorbar": {
              "outlinewidth": 0,
              "ticks": ""
             }
            },
            "type": "scatterpolargl"
           }
          ],
          "scatterternary": [
           {
            "marker": {
             "colorbar": {
              "outlinewidth": 0,
              "ticks": ""
             }
            },
            "type": "scatterternary"
           }
          ],
          "surface": [
           {
            "colorbar": {
             "outlinewidth": 0,
             "ticks": ""
            },
            "colorscale": [
             [
              0,
              "#0d0887"
             ],
             [
              0.1111111111111111,
              "#46039f"
             ],
             [
              0.2222222222222222,
              "#7201a8"
             ],
             [
              0.3333333333333333,
              "#9c179e"
             ],
             [
              0.4444444444444444,
              "#bd3786"
             ],
             [
              0.5555555555555556,
              "#d8576b"
             ],
             [
              0.6666666666666666,
              "#ed7953"
             ],
             [
              0.7777777777777778,
              "#fb9f3a"
             ],
             [
              0.8888888888888888,
              "#fdca26"
             ],
             [
              1,
              "#f0f921"
             ]
            ],
            "type": "surface"
           }
          ],
          "table": [
           {
            "cells": {
             "fill": {
              "color": "#EBF0F8"
             },
             "line": {
              "color": "white"
             }
            },
            "header": {
             "fill": {
              "color": "#C8D4E3"
             },
             "line": {
              "color": "white"
             }
            },
            "type": "table"
           }
          ]
         },
         "layout": {
          "annotationdefaults": {
           "arrowcolor": "#2a3f5f",
           "arrowhead": 0,
           "arrowwidth": 1
          },
          "autotypenumbers": "strict",
          "coloraxis": {
           "colorbar": {
            "outlinewidth": 0,
            "ticks": ""
           }
          },
          "colorscale": {
           "diverging": [
            [
             0,
             "#8e0152"
            ],
            [
             0.1,
             "#c51b7d"
            ],
            [
             0.2,
             "#de77ae"
            ],
            [
             0.3,
             "#f1b6da"
            ],
            [
             0.4,
             "#fde0ef"
            ],
            [
             0.5,
             "#f7f7f7"
            ],
            [
             0.6,
             "#e6f5d0"
            ],
            [
             0.7,
             "#b8e186"
            ],
            [
             0.8,
             "#7fbc41"
            ],
            [
             0.9,
             "#4d9221"
            ],
            [
             1,
             "#276419"
            ]
           ],
           "sequential": [
            [
             0,
             "#0d0887"
            ],
            [
             0.1111111111111111,
             "#46039f"
            ],
            [
             0.2222222222222222,
             "#7201a8"
            ],
            [
             0.3333333333333333,
             "#9c179e"
            ],
            [
             0.4444444444444444,
             "#bd3786"
            ],
            [
             0.5555555555555556,
             "#d8576b"
            ],
            [
             0.6666666666666666,
             "#ed7953"
            ],
            [
             0.7777777777777778,
             "#fb9f3a"
            ],
            [
             0.8888888888888888,
             "#fdca26"
            ],
            [
             1,
             "#f0f921"
            ]
           ],
           "sequentialminus": [
            [
             0,
             "#0d0887"
            ],
            [
             0.1111111111111111,
             "#46039f"
            ],
            [
             0.2222222222222222,
             "#7201a8"
            ],
            [
             0.3333333333333333,
             "#9c179e"
            ],
            [
             0.4444444444444444,
             "#bd3786"
            ],
            [
             0.5555555555555556,
             "#d8576b"
            ],
            [
             0.6666666666666666,
             "#ed7953"
            ],
            [
             0.7777777777777778,
             "#fb9f3a"
            ],
            [
             0.8888888888888888,
             "#fdca26"
            ],
            [
             1,
             "#f0f921"
            ]
           ]
          },
          "colorway": [
           "#636efa",
           "#EF553B",
           "#00cc96",
           "#ab63fa",
           "#FFA15A",
           "#19d3f3",
           "#FF6692",
           "#B6E880",
           "#FF97FF",
           "#FECB52"
          ],
          "font": {
           "color": "#2a3f5f"
          },
          "geo": {
           "bgcolor": "white",
           "lakecolor": "white",
           "landcolor": "white",
           "showlakes": true,
           "showland": true,
           "subunitcolor": "#C8D4E3"
          },
          "hoverlabel": {
           "align": "left"
          },
          "hovermode": "closest",
          "mapbox": {
           "style": "light"
          },
          "paper_bgcolor": "white",
          "plot_bgcolor": "white",
          "polar": {
           "angularaxis": {
            "gridcolor": "#EBF0F8",
            "linecolor": "#EBF0F8",
            "ticks": ""
           },
           "bgcolor": "white",
           "radialaxis": {
            "gridcolor": "#EBF0F8",
            "linecolor": "#EBF0F8",
            "ticks": ""
           }
          },
          "scene": {
           "xaxis": {
            "backgroundcolor": "white",
            "gridcolor": "#DFE8F3",
            "gridwidth": 2,
            "linecolor": "#EBF0F8",
            "showbackground": true,
            "ticks": "",
            "zerolinecolor": "#EBF0F8"
           },
           "yaxis": {
            "backgroundcolor": "white",
            "gridcolor": "#DFE8F3",
            "gridwidth": 2,
            "linecolor": "#EBF0F8",
            "showbackground": true,
            "ticks": "",
            "zerolinecolor": "#EBF0F8"
           },
           "zaxis": {
            "backgroundcolor": "white",
            "gridcolor": "#DFE8F3",
            "gridwidth": 2,
            "linecolor": "#EBF0F8",
            "showbackground": true,
            "ticks": "",
            "zerolinecolor": "#EBF0F8"
           }
          },
          "shapedefaults": {
           "line": {
            "color": "#2a3f5f"
           }
          },
          "ternary": {
           "aaxis": {
            "gridcolor": "#DFE8F3",
            "linecolor": "#A2B1C6",
            "ticks": ""
           },
           "baxis": {
            "gridcolor": "#DFE8F3",
            "linecolor": "#A2B1C6",
            "ticks": ""
           },
           "bgcolor": "white",
           "caxis": {
            "gridcolor": "#DFE8F3",
            "linecolor": "#A2B1C6",
            "ticks": ""
           }
          },
          "title": {
           "x": 0.05
          },
          "xaxis": {
           "automargin": true,
           "gridcolor": "#EBF0F8",
           "linecolor": "#EBF0F8",
           "ticks": "",
           "title": {
            "standoff": 15
           },
           "zerolinecolor": "#EBF0F8",
           "zerolinewidth": 2
          },
          "yaxis": {
           "automargin": true,
           "gridcolor": "#EBF0F8",
           "linecolor": "#EBF0F8",
           "ticks": "",
           "title": {
            "standoff": 15
           },
           "zerolinecolor": "#EBF0F8",
           "zerolinewidth": 2
          }
         }
        },
        "title": {
         "font": {
          "color": "#3E3D53"
         },
         "text": "TUKEY - SIO_La_Jolla_Shores-La_Jolla_Cove",
         "x": 0.5
        },
        "width": 600,
        "xaxis": {
         "anchor": "y",
         "domain": [
          0,
          1
         ],
         "title": {
          "text": "stats_diff"
         }
        },
        "yaxis": {
         "anchor": "x",
         "domain": [
          0,
          1
         ],
         "title": {
          "text": "-log(p)"
         }
        }
       }
      }
     },
     "metadata": {},
     "output_type": "display_data"
    }
   ],
   "source": [
    "@interact(contrast=['-'.join([x,y]) for x,y in contrasts])\n",
    "def plot_tukey(contrast):\n",
    "    df = tukey[tukey[\"contrast\"] == contrast]\n",
    "\n",
    "    # create figure\n",
    "    fig = px.scatter(template='plotly_white', width=600, height=600)\n",
    "\n",
    "    # plot insignificant values\n",
    "    fig.add_trace(go.Scatter(x=df[df['stats_significant'] == False]['stats_diff'],\n",
    "                            y=df[df['stats_significant'] == False]['stats_p'].apply(lambda x: -np.log(x)),\n",
    "                            mode='markers', marker_color='#696880', name='insignificant'))\n",
    "\n",
    "    # plot significant values\n",
    "    fig.add_trace(go.Scatter(x=df[df['stats_significant']]['stats_diff'],\n",
    "                            y=df[df['stats_significant']]['stats_p'].apply(lambda x: -np.log(x)),\n",
    "                            mode='markers+text', text=anova['metabolite'].iloc[:4], textposition='top left', \n",
    "                            textfont=dict(color='#ef553b', size=8), marker_color='#ef553b', name='significant'))\n",
    "\n",
    "    fig.update_layout(font={\"color\":\"grey\", \"size\":12, \"family\":\"Sans\"},\n",
    "                    title={\"text\":f\"TUKEY - {contrast}\", 'x':0.5, \"font_color\":\"#3E3D53\"},\n",
    "                    xaxis_title=\"stats_diff\", yaxis_title=\"-log(p)\")\n",
    "\n",
    "    # save image as pdf\n",
    "    fig.write_image(os.path.join(result_dir, \"TukeyHSD.pdf\"), scale=3)\n",
    "\n",
    "    display(fig)"
   ]
  },
  {
   "cell_type": "markdown",
   "id": "NghlJ7Tif7ml",
   "metadata": {
    "id": "NghlJ7Tif7ml"
   },
   "source": [
    "As a sanity check we can check a few of the top metabolites by plotting them in a boxplot. Just change the input argument for y to match a name in the result list above."
   ]
  },
  {
   "cell_type": "code",
   "execution_count": null,
   "id": "PtUUyGejf5Te",
   "metadata": {
    "colab": {
     "base_uri": "https://localhost:8080/",
     "height": 716
    },
    "id": "PtUUyGejf5Te",
    "outputId": "eb2d2896-c69e-4759-ac76-b6d82e7f3744"
   },
   "outputs": [],
   "source": [
    "# def metabolite_boxplot(metabolite):\n",
    "#     p_value = anova.set_index('metabolite')._get_value(metabolite, \"p\")\n",
    "#     df = data[['ATTRIBUTE_Sample_Area', metabolite]]\n",
    "#     title = str(metabolite)+\"<br>p-value:\"+str(p_value)\n",
    "#     fig = px.box(df, x='ATTRIBUTE_Sample_Area', y=metabolite, template='plotly_white',\n",
    "#                  width=800, height=600, points='all', color='ATTRIBUTE_Sample_Area')\n",
    "\n",
    "#     fig.update_layout(font={\"color\":\"grey\", \"size\":12, \"family\":\"Sans\"},\n",
    "#                       title={\"text\":title, 'x':0.5, \"font_color\":\"#3E3D53\"},\n",
    "#                       xaxis_title=\"time point\", yaxis_title=\"intensity scales and centered\")\n",
    "#     fig.show()\n",
    "#     return None\n",
    "\n",
    "# # Add dropdown to create boxplot of metabolite selected (just for significant=True)\n",
    "# interact(metabolite_boxplot, metabolite=sorted(list(anova[\"metabolite\"][anova[\"significant\"]==True])))"
   ]
  },
  {
   "cell_type": "markdown",
   "id": "DlmsH5pz7Ez0",
   "metadata": {
    "id": "DlmsH5pz7Ez0"
   },
   "source": [
    "# PCoA PermANOVA:"
   ]
  },
  {
   "cell_type": "markdown",
   "id": "fDIj3G4ugpxA",
   "metadata": {
    "id": "fDIj3G4ugpxA"
   },
   "source": [
    "Principal coordinates analysis (PCoA)\n",
    "\n",
    "Principal coordinates analysis (PCoA) is a metric multidimensional scaling (MDS) method that attempts to represent sample dissimilarities in a low-dimensional space. It converts a distance matrix consisting of pair-wise distances (dissimilarities) across samples into a 2- or 3-D graph (Gower, 2005). Different distance metrics can be used to calculate dissimilarities among samples (e.g. Euclidean, Canberra, Minkowski). Performing a principal coordinates analysis using the Euclidean distance metric is the same as performing a principal components analysis (PCA). The selection of the most appropriate metric depends on the nature of your data and assumptions made by the metric.\n",
    "\n",
    "Within the metabolomics field the Euclidean, Bray-Curtis, Jaccard or Canberra distances are most commonly used. The Jaccard distance is an unweighted metric (presence/absence) whereas Euclidean, Bray-Curtis and Canberra distances take into account relative abundances (weighted). Some metrics may be better suited for very sparse data (with many zeroes) than others. For example, the Euclidean distance metric is not recommended to be used for highly sparse data.\n",
    "\n",
    "This video tutorial by StatQuest summarizes nicely the basic principles of PCoA: https://www.youtube.com/watch?v=GEn-_dAyYME"
   ]
  },
  {
   "cell_type": "code",
   "execution_count": null,
   "id": "8131844f-a392-4b91-9994-a0a87d0113de",
   "metadata": {},
   "outputs": [],
   "source": [
    "#calculating Principal components\n",
    "n = 10\n",
    "pca = PCA(n_components=n)\n",
    "pca_df = pd.DataFrame(data = pca.fit_transform(scaled), columns = [f'PC{x}' for x in range(1, n+1)])\n",
    "pca_df.index = md_samples.index\n",
    "pca_df"
   ]
  },
  {
   "cell_type": "code",
   "execution_count": null,
   "id": "3e5a7d07",
   "metadata": {},
   "outputs": [],
   "source": [
    "# To get a scree plot showing the variance of each PC in percentage:\n",
    "percent_variance = np.round(pca.explained_variance_ratio_* 100, decimals =2)\n",
    "\n",
    "fig_bar = px.bar(x=pca_df.columns, y=percent_variance, template=\"plotly_white\",  width=500, height=400)\n",
    "fig_bar.update_traces(marker_color=\"#696880\", width=0.5)\n",
    "fig_bar.update_layout(font={\"color\":\"grey\", \"size\":12, \"family\":\"Sans\"},\n",
    "                    title={\"text\":\"PCA - VARIANCE\", 'x':0.5, \"font_color\":\"#3E3D53\"},\n",
    "                    xaxis_title=\"principal component\", yaxis_title=\"variance (%)\")\n",
    "fig_bar.show()"
   ]
  },
  {
   "attachments": {},
   "cell_type": "markdown",
   "id": "6f558f90",
   "metadata": {},
   "source": [
    "TODO make the attibute colors work"
   ]
  },
  {
   "cell_type": "code",
   "execution_count": null,
   "id": "f7c798bf-4c4f-409d-8d4d-d963713fd12f",
   "metadata": {},
   "outputs": [],
   "source": [
    "\n",
    "def pca_scatter_plot(attribute):\n",
    "    title = f'PRINCIPLE COMPONENT ANALYSIS'\n",
    "\n",
    "    df = pd.merge(pca_df[['PC1', 'PC2']], md_samples[attribute].apply(str), left_index=True, right_index=True)\n",
    "\n",
    "    fig = px.scatter(df, x='PC1', y='PC2', template='plotly_white', width=600, height=400, color=attribute)\n",
    "\n",
    "    fig.update_layout(font={\"color\":\"grey\", \"size\":12, \"family\":\"Sans\"},\n",
    "                      title={\"text\":title, 'x':0.2, \"font_color\":\"#3E3D53\"},\n",
    "                      xaxis_title=f'PC1 {round(pca.explained_variance_ratio_[0]*100, 1)}%',\n",
    "                      yaxis_title=f'PC2 {round(pca.explained_variance_ratio_[1]*100, 1)}%')\n",
    "    display(fig)\n",
    "\n",
    "interact(pca_scatter_plot, attribute=sorted(md_samples.columns))"
   ]
  },
  {
   "attachments": {},
   "cell_type": "markdown",
   "id": "f762eb82",
   "metadata": {},
   "source": [
    "TODO fix the interact thing"
   ]
  },
  {
   "cell_type": "code",
   "execution_count": null,
   "id": "edd99f21-5ff9-4766-ae37-982d0ef956b2",
   "metadata": {},
   "outputs": [],
   "source": [
    "def pcoa(attribute, distance_matrix):\n",
    "    # Create the distance matrix from the original data\n",
    "    distance_matrix = skbio.stats.distance.DistanceMatrix(distance.squareform(distance.pdist(scaled.values, distance_matrix)))\n",
    "    # perform PERMANOVA test\n",
    "    permanova = skbio.stats.distance.permanova(distance_matrix, md_samples[attribute])\n",
    "    permanova['R2'] = 1 - 1 / (1 + permanova['test statistic'] * permanova['number of groups'] / (permanova['sample size'] - permanova['number of groups'] - 1))\n",
    "    display(permanova)\n",
    "    # perfom PCoA\n",
    "    pcoa = skbio.stats.ordination.pcoa(distance_matrix)\n",
    "    df = pcoa.samples[['PC1', 'PC2']]\n",
    "    df = df.set_index(md_samples.index)\n",
    "    df = pd.merge(df[['PC1', 'PC2']], md_samples[attribute].apply(str), left_index=True, right_index=True)\n",
    "    \n",
    "    title = f'PRINCIPLE COORDINATE ANALYSIS'\n",
    "    fig = px.scatter(df, x='PC1', y='PC2', template='plotly_white', width=600, height=400, color=attribute)\n",
    "\n",
    "    fig.update_layout(font={\"color\":\"grey\", \"size\":12, \"family\":\"Sans\"},\n",
    "                      title={\"text\":title, 'x':0.18, \"font_color\":\"#3E3D53\"},\n",
    "                      xaxis_title=f'PC1 {round(pcoa.proportion_explained[0]*100, 1)}%',\n",
    "                      yaxis_title=f'PC2 {round(pcoa.proportion_explained[1]*100, 1)}%')\n",
    "    fig.show()\n",
    "    \n",
    "    # To get a scree plot showing the variance of each PC in percentage:\n",
    "    percent_variance = np.round(pcoa.proportion_explained* 100, decimals =2)\n",
    "\n",
    "    fig = px.bar(x=[f'PC{x}' for x in range(1, len(pcoa.proportion_explained)+1)], y=percent_variance, template=\"plotly_white\",  width=500, height=400)\n",
    "    fig.update_traces(marker_color=\"#696880\", width=0.5)\n",
    "    fig.update_layout(font={\"color\":\"grey\", \"size\":12, \"family\":\"Sans\"},\n",
    "                      title={\"text\":\"PCoA - VARIANCE\", 'x':0.5, \"font_color\":\"#3E3D53\"},\n",
    "                      xaxis_title=\"principal component\", yaxis_title=\"variance (%)\")#\n",
    "    fig.show()\n",
    "\n",
    "matrices = ['canberra', 'chebyshev', 'correlation', 'cosine', 'euclidean', 'hamming', 'jaccard', 'matching', 'minkowski', 'seuclidean']\n",
    "interact(pcoa, attribute=sorted(md_samples.columns), distance_matrix=matrices)"
   ]
  },
  {
   "cell_type": "markdown",
   "id": "6b774363-4d57-408b-bf42-25281f2f6017",
   "metadata": {},
   "source": [
    "# Hierarchial Clustering Algorithm:\n",
    "\n",
    "We are now ready to perform a cluter analysis. The concept behind hierarchical clustering is to repeatedly combine the two nearest clusters into a larger cluster.\n",
    "\n",
    "The first step consists of calculating the distance between every pair of observation points and stores it in a matrix;\n",
    "1. It puts every point in its own cluster;\n",
    "2. It merges the closest pairs of points according to their distances;\n",
    "3. It recomputes the distance between the new cluster and the old ones and stores them in a new distance matrix;\n",
    "4. It repeats steps 2 and 3 until all the clusters are merged into one single cluster. <br>"
   ]
  },
  {
   "cell_type": "code",
   "execution_count": null,
   "id": "520d6812-7030-4c4e-b787-8b6a5c86c223",
   "metadata": {},
   "outputs": [],
   "source": [
    "fig = ff.create_dendrogram(scaled, labels=list(scaled.index))\n",
    "fig.update_layout(width=700, height=500, template='plotly_white')\n",
    "\n",
    "# save image as pdf\n",
    "fig.write_image(os.path.join(result_dir, \"Cluster_Dendrogram.pdf\"), scale=3)\n",
    "fig.show()"
   ]
  },
  {
   "cell_type": "code",
   "execution_count": null,
   "id": "7fad3f85-5112-486b-800a-f5618991d704",
   "metadata": {},
   "outputs": [],
   "source": [
    "# SORT DATA TO CREATE HEATMAP\n",
    "\n",
    "# Compute linkage matrix from distances for hierarchical clustering\n",
    "linkage_data_ft = linkage(scaled, method='complete', metric='euclidean')\n",
    "linkage_data_samples = linkage(scaled.T, method='complete', metric='euclidean')\n",
    "\n",
    "# Create a dictionary of data structures computed to render the dendrogram. \n",
    "# We will use dict['leaves']\n",
    "cluster_samples = dendrogram(linkage_data_ft, no_plot=True)\n",
    "cluster_ft = dendrogram(linkage_data_samples, no_plot=True)\n",
    "\n",
    "# Create dataframe with sorted samples\n",
    "ord_samp = scaled.copy()\n",
    "ord_samp.reset_index(inplace=True)\n",
    "ord_samp = ord_samp.reindex(cluster_samples['leaves'])\n",
    "ord_samp.rename(columns={'index': 'Filename'}, inplace=True)\n",
    "ord_samp.set_index('Filename', inplace=True)\n",
    "\n",
    "# Create dataframe with sorted features\n",
    "ord_ft = ord_samp.T.reset_index()\n",
    "ord_ft = ord_ft.reindex(cluster_ft['leaves'])\n",
    "ord_ft.rename(columns={'index': 'Feature'}, inplace=True)\n",
    "ord_ft.set_index('Feature', inplace=True)"
   ]
  },
  {
   "cell_type": "code",
   "execution_count": null,
   "id": "8a4f60dc-7522-4f57-9bb0-b6f8a196cca2",
   "metadata": {},
   "outputs": [],
   "source": [
    "#Heatmap\n",
    "fig = px.imshow(ord_ft,y=list(ord_ft.index), x=list(ord_ft.columns), text_auto=True, aspect=\"auto\",\n",
    "               color_continuous_scale='PuOr_r', range_color=[-3,3])\n",
    "\n",
    "fig.update_layout(\n",
    "    autosize=False,\n",
    "    width=700,\n",
    "    height=800)\n",
    "\n",
    "fig.update_yaxes(visible=False)\n",
    "fig.update_xaxes(tickangle = 35)\n",
    "\n",
    "# save image as pdf\n",
    "fig.write_image(os.path.join(result_dir, \"Heatmap.pdf\"), scale=3)\n",
    "\n",
    "fig.show()"
   ]
  }
 ],
 "metadata": {
  "colab": {
   "collapsed_sections": [],
   "provenance": []
  },
  "kernelspec": {
   "display_name": "statistics",
   "language": "python",
   "name": "python3"
  },
  "language_info": {
   "codemirror_mode": {
    "name": "ipython",
    "version": 3
   },
   "file_extension": ".py",
   "mimetype": "text/x-python",
   "name": "python",
   "nbconvert_exporter": "python",
   "pygments_lexer": "ipython3",
   "version": "3.11.0"
  },
  "vscode": {
   "interpreter": {
    "hash": "572e6a6a0d902086d9fab211e1f6ea25118f94d6a17d1c4885801f9b3fb3838f"
   }
  }
 },
 "nbformat": 4,
 "nbformat_minor": 5
}
