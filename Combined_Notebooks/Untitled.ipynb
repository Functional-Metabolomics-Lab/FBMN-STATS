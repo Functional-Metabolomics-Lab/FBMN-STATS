{
 "cells": [
  {
   "cell_type": "code",
   "execution_count": null,
   "id": "51158e28-58f0-40a6-ba6f-ffb394cdede8",
   "metadata": {},
   "outputs": [],
   "source": [
    "# Step 17: Divide Data into Blanks and Samples\n",
    "\n",
    "\n",
    "# Step 18: Isolate Sample Files\n",
    "\n",
    "\n",
    "\n",
    "\n",
    "\n",
    "# Step 21: Review the blank removed table\n",
    "print(blk_rem.head(2))\n",
    "print(blk_rem.shape)\n"
   ]
  }
 ],
 "metadata": {
  "kernelspec": {
   "display_name": "R",
   "language": "R",
   "name": "ir"
  },
  "language_info": {
   "codemirror_mode": "r",
   "file_extension": ".r",
   "mimetype": "text/x-r-source",
   "name": "R",
   "pygments_lexer": "r",
   "version": "4.1.3"
  }
 },
 "nbformat": 4,
 "nbformat_minor": 5
}
